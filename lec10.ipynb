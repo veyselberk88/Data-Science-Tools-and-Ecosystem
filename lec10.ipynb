{
  "cells": [
    {
      "cell_type": "markdown",
      "metadata": {
        "id": "view-in-github",
        "colab_type": "text"
      },
      "source": [
        "<a href=\"https://colab.research.google.com/github/veyselberk88/Data-Science-Tools-and-Ecosystem/blob/main/lec10.ipynb\" target=\"_parent\"><img src=\"https://colab.research.google.com/assets/colab-badge.svg\" alt=\"Open In Colab\"/></a>"
      ]
    },
    {
      "cell_type": "markdown",
      "id": "3d0c717b-71b8-4198-855b-c0a631a03269",
      "metadata": {
        "id": "3d0c717b-71b8-4198-855b-c0a631a03269"
      },
      "source": [
        "<img src=\"./ccsf.png\" alt=\"CCSF Logo\" width=200px style=\"margin:0px -5px\">"
      ]
    },
    {
      "cell_type": "markdown",
      "id": "a04ba554-943e-4017-897c-32a8fa5e7cfb",
      "metadata": {
        "id": "a04ba554-943e-4017-897c-32a8fa5e7cfb"
      },
      "source": [
        "# Lecture 10: Histograms"
      ]
    },
    {
      "cell_type": "markdown",
      "id": "36a9a690-7645-4f30-b8e5-88ef82f82d1c",
      "metadata": {
        "id": "36a9a690-7645-4f30-b8e5-88ef82f82d1c"
      },
      "source": [
        "Associated Textbook Sections: [7.2](https://ccsf-math-108.github.io/textbook/chapters/07/2/Visualizing_Numerical_Distributions.html)"
      ]
    },
    {
      "cell_type": "markdown",
      "id": "0adf8e42-c927-4297-95b2-6b19588ebbb2",
      "metadata": {
        "id": "0adf8e42-c927-4297-95b2-6b19588ebbb2"
      },
      "source": [
        "---"
      ]
    },
    {
      "cell_type": "markdown",
      "id": "e33f3011-04d2-4a92-a945-59487ff0880f",
      "metadata": {
        "id": "e33f3011-04d2-4a92-a945-59487ff0880f"
      },
      "source": [
        "## Overview"
      ]
    },
    {
      "cell_type": "markdown",
      "id": "8aff8c28-f286-41d4-84ad-0c8def51cf24",
      "metadata": {
        "id": "8aff8c28-f286-41d4-84ad-0c8def51cf24"
      },
      "source": [
        "* [Distributions](#Distributions)\n",
        "* [Distributions of Categorical Variables](#Distributions-of-Categorical-Variables)\n",
        "* [Distributions of Numerical Variables](#Distributions-of-Numerical-Variables)\n",
        "* [Area Principle](#Area-Principle)\n",
        "* [Creating Histograms](#Creating-Histograms)\n",
        "* [Density and Area](#Density-and-Area)"
      ]
    },
    {
      "cell_type": "markdown",
      "id": "effdec55-1aaa-4805-b41d-6446498bbed6",
      "metadata": {
        "id": "effdec55-1aaa-4805-b41d-6446498bbed6"
      },
      "source": [
        "---"
      ]
    },
    {
      "cell_type": "markdown",
      "id": "34ca0177-513a-45a3-96b3-4102691792a4",
      "metadata": {
        "id": "34ca0177-513a-45a3-96b3-4102691792a4"
      },
      "source": [
        "## Set Up the Notebook"
      ]
    },
    {
      "cell_type": "code",
      "execution_count": null,
      "id": "38892a3f-9f11-43b1-af62-c7a81aa0d00e",
      "metadata": {
        "id": "38892a3f-9f11-43b1-af62-c7a81aa0d00e"
      },
      "outputs": [],
      "source": [
        "from datascience import *\n",
        "import numpy as np\n",
        "%matplotlib inline\n",
        "import matplotlib.pyplot as plt\n",
        "plt.style.use('fivethirtyeight')"
      ]
    },
    {
      "cell_type": "markdown",
      "id": "68d8c85c-676c-4dfb-bfd0-ecd555953f96",
      "metadata": {
        "id": "68d8c85c-676c-4dfb-bfd0-ecd555953f96"
      },
      "source": [
        "---"
      ]
    },
    {
      "cell_type": "markdown",
      "id": "368ae57e-e7d6-4f7b-ae18-d78f107a9e49",
      "metadata": {
        "id": "368ae57e-e7d6-4f7b-ae18-d78f107a9e49"
      },
      "source": [
        "## Distributions"
      ]
    },
    {
      "cell_type": "markdown",
      "id": "47d2e01c-25a4-4636-aec7-83bc29636879",
      "metadata": {
        "id": "47d2e01c-25a4-4636-aec7-83bc29636879"
      },
      "source": [
        "---"
      ]
    },
    {
      "cell_type": "markdown",
      "id": "aab379d9-8706-4b9d-a255-3561d755dea0",
      "metadata": {
        "id": "aab379d9-8706-4b9d-a255-3561d755dea0"
      },
      "source": [
        "### Terminology"
      ]
    },
    {
      "cell_type": "markdown",
      "id": "85563aa4-28aa-4c99-afd5-16428970f859",
      "metadata": {
        "id": "85563aa4-28aa-4c99-afd5-16428970f859"
      },
      "source": [
        "* Individuals: those whose features are recorded\n",
        "* Variable: a feature, an attribute\n",
        "* A variable has different values\n",
        "* Values can be numerical or categorical, and of many subtypes within these\n",
        "* Each individual has exactly one value of the variable\n",
        "* Distribution: For each different value of the variable, the frequency of individuals that have that value"
      ]
    },
    {
      "cell_type": "markdown",
      "id": "4afdc280-0acd-4d97-85cd-f7b0bb22f38e",
      "metadata": {
        "id": "4afdc280-0acd-4d97-85cd-f7b0bb22f38e"
      },
      "source": [
        "---"
      ]
    },
    {
      "cell_type": "markdown",
      "id": "18f9408b-3692-4d3d-a906-27e31307ec25",
      "metadata": {
        "id": "18f9408b-3692-4d3d-a906-27e31307ec25"
      },
      "source": [
        "## Distributions of Categorical Variables"
      ]
    },
    {
      "cell_type": "markdown",
      "id": "853fdf93-90e3-4955-bbf7-b49a78080c8f",
      "metadata": {
        "id": "853fdf93-90e3-4955-bbf7-b49a78080c8f"
      },
      "source": [
        "---"
      ]
    },
    {
      "cell_type": "markdown",
      "id": "e0234238-2ae6-4995-aea3-caf81defba10",
      "metadata": {
        "id": "e0234238-2ae6-4995-aea3-caf81defba10"
      },
      "source": [
        "### Demo: Categorical Distribution"
      ]
    },
    {
      "cell_type": "markdown",
      "id": "946fbe6a-5a3a-49bf-bf50-77610fce2902",
      "metadata": {
        "id": "946fbe6a-5a3a-49bf-bf50-77610fce2902"
      },
      "source": [
        "Load the `top_grosing_movies_2023.csv` data set introduced in the previous lecture."
      ]
    },
    {
      "cell_type": "code",
      "execution_count": null,
      "id": "137520cd-673c-4055-96ef-ba0af9d39ec4",
      "metadata": {
        "id": "137520cd-673c-4055-96ef-ba0af9d39ec4",
        "outputId": "695f8ee5-7ab7-4b26-94e1-90cfe1d81e11"
      },
      "outputs": [
        {
          "data": {
            "text/html": [
              "<table border=\"1\" class=\"dataframe\">\n",
              "    <thead>\n",
              "        <tr>\n",
              "            <th>Created</th> <th>Modified</th> <th>Title</th> <th>URL</th> <th>Title Type</th> <th>IMDb Rating</th> <th>Runtime (mins)</th> <th>Year</th> <th>Genres</th> <th>Num Votes</th> <th>Release Date</th> <th>Directors</th> <th>Gross</th> <th>Gross (Adjusted)</th>\n",
              "        </tr>\n",
              "    </thead>\n",
              "    <tbody>\n",
              "        <tr>\n",
              "            <td>2023-01-06</td> <td>2023-01-06</td> <td>Gone with the Wind</td> <td>https://www.imdb.com/title/tt0031381/</td> <td>movie     </td> <td>8.2        </td> <td>238           </td> <td>1939</td> <td>Drama, Romance, War                </td> <td>318271   </td> <td>1939-12-15  </td> <td>Sam Wood, George Cukor, Victor Fleming                      </td> <td>402382193 </td> <td>7.84414e+09     </td>\n",
              "        </tr>\n",
              "        <tr>\n",
              "            <td>2023-01-06</td> <td>2023-01-06</td> <td>Bambi             </td> <td>https://www.imdb.com/title/tt0034492/</td> <td>movie     </td> <td>7.3        </td> <td>69            </td> <td>1942</td> <td>Animation, Adventure, Drama, Family</td> <td>145676   </td> <td>1942-08-09  </td> <td>Samuel Armstrong, Paul Satterfield, Graham Heid, James A ...</td> <td>267447150 </td> <td>4.44602e+09     </td>\n",
              "        </tr>\n",
              "        <tr>\n",
              "            <td>2023-01-06</td> <td>2023-01-06</td> <td>Titanic           </td> <td>https://www.imdb.com/title/tt0120338/</td> <td>movie     </td> <td>7.9        </td> <td>194           </td> <td>1997</td> <td>Drama, Romance                     </td> <td>1187108  </td> <td>1997-11-01  </td> <td>James Cameron                                               </td> <td>2201647264</td> <td>3.71701e+09     </td>\n",
              "        </tr>\n",
              "    </tbody>\n",
              "</table>\n",
              "<p>... (997 rows omitted)</p>"
            ],
            "text/plain": [
              "<IPython.core.display.HTML object>"
            ]
          },
          "metadata": {},
          "output_type": "display_data"
        }
      ],
      "source": [
        "top_movies = Table.read_table('top_grossing_movies.csv')\n",
        "top_movies.show(3)"
      ]
    },
    {
      "cell_type": "markdown",
      "id": "a0188981-1e53-4b72-b794-1948ac3833f3",
      "metadata": {
        "id": "a0188981-1e53-4b72-b794-1948ac3833f3"
      },
      "source": [
        "---"
      ]
    },
    {
      "cell_type": "markdown",
      "id": "4b045e46-5a50-4b50-846c-dd1b85830c62",
      "metadata": {
        "id": "4b045e46-5a50-4b50-846c-dd1b85830c62"
      },
      "source": [
        "The following code:\n",
        "* Creates a column called `'Decade'` showing the decade that the move was originally released in.\n",
        "* Reduces the table to just the columns `'Title'`, `'Year'`, `'Decade'`, `'Gross'`, and `'Gross (Adjusted)'`.\n",
        "* Relabels `'Year'` as `'Release Year'`.\n",
        "\n",
        "_This code uses NumPy's `astype` array method. This function converts all the data in an array to a specific data type. You will not be responsible for using this function in this course._"
      ]
    },
    {
      "cell_type": "code",
      "execution_count": null,
      "id": "212d49e5-1975-4566-a28f-eb0628d62a36",
      "metadata": {
        "id": "212d49e5-1975-4566-a28f-eb0628d62a36",
        "outputId": "425dc603-675a-49d0-9903-490e4e5f8675"
      },
      "outputs": [
        {
          "data": {
            "text/html": [
              "<table border=\"1\" class=\"dataframe\">\n",
              "    <thead>\n",
              "        <tr>\n",
              "            <th>Title</th> <th>Release Year</th> <th>Decade</th> <th>Gross</th> <th>Gross (Adjusted)</th>\n",
              "        </tr>\n",
              "    </thead>\n",
              "    <tbody>\n",
              "        <tr>\n",
              "            <td>Gone with the Wind                        </td> <td>1939        </td> <td>1930  </td> <td>402382193 </td> <td>7.84414e+09     </td>\n",
              "        </tr>\n",
              "        <tr>\n",
              "            <td>Bambi                                     </td> <td>1942        </td> <td>1940  </td> <td>267447150 </td> <td>4.44602e+09     </td>\n",
              "        </tr>\n",
              "        <tr>\n",
              "            <td>Titanic                                   </td> <td>1997        </td> <td>1990  </td> <td>2201647264</td> <td>3.71701e+09     </td>\n",
              "        </tr>\n",
              "        <tr>\n",
              "            <td>Avatar                                    </td> <td>2009        </td> <td>2000  </td> <td>2922917914</td> <td>3.69178e+09     </td>\n",
              "        </tr>\n",
              "        <tr>\n",
              "            <td>Snow White and the Seven Dwarfs           </td> <td>1937        </td> <td>1930  </td> <td>184925486 </td> <td>3.47981e+09     </td>\n",
              "        </tr>\n",
              "        <tr>\n",
              "            <td>Star Wars                                 </td> <td>1977        </td> <td>1970  </td> <td>775398007 </td> <td>3.46716e+09     </td>\n",
              "        </tr>\n",
              "        <tr>\n",
              "            <td>Avengers: Endgame                         </td> <td>2019        </td> <td>2010  </td> <td>2797501328</td> <td>2.96506e+09     </td>\n",
              "        </tr>\n",
              "        <tr>\n",
              "            <td>The Exorcist                              </td> <td>1973        </td> <td>1970  </td> <td>441306145 </td> <td>2.69326e+09     </td>\n",
              "        </tr>\n",
              "        <tr>\n",
              "            <td>Jaws                                      </td> <td>1975        </td> <td>1970  </td> <td>476512065 </td> <td>2.40001e+09     </td>\n",
              "        </tr>\n",
              "        <tr>\n",
              "            <td>Star Wars: Episode VII - The Force Awakens</td> <td>2015        </td> <td>2010  </td> <td>2069521700</td> <td>2.36598e+09     </td>\n",
              "        </tr>\n",
              "    </tbody>\n",
              "</table>\n",
              "<p>... (990 rows omitted)</p>"
            ],
            "text/plain": [
              "Title                                      | Release Year | Decade | Gross      | Gross (Adjusted)\n",
              "Gone with the Wind                         | 1939         | 1930   | 402382193  | 7.84414e+09\n",
              "Bambi                                      | 1942         | 1940   | 267447150  | 4.44602e+09\n",
              "Titanic                                    | 1997         | 1990   | 2201647264 | 3.71701e+09\n",
              "Avatar                                     | 2009         | 2000   | 2922917914 | 3.69178e+09\n",
              "Snow White and the Seven Dwarfs            | 1937         | 1930   | 184925486  | 3.47981e+09\n",
              "Star Wars                                  | 1977         | 1970   | 775398007  | 3.46716e+09\n",
              "Avengers: Endgame                          | 2019         | 2010   | 2797501328 | 2.96506e+09\n",
              "The Exorcist                               | 1973         | 1970   | 441306145  | 2.69326e+09\n",
              "Jaws                                       | 1975         | 1970   | 476512065  | 2.40001e+09\n",
              "Star Wars: Episode VII - The Force Awakens | 2015         | 2010   | 2069521700 | 2.36598e+09\n",
              "... (990 rows omitted)"
            ]
          },
          "execution_count": 3,
          "metadata": {},
          "output_type": "execute_result"
        }
      ],
      "source": [
        "decades = (np.floor(top_movies.column('Year') / 10) * 10).astype(int)\n",
        "top_movies = top_movies.with_column('Decade', decades)\n",
        "top_movies = top_movies.select('Title', 'Year', 'Decade', 'Gross', 'Gross (Adjusted)')\n",
        "top_movies = top_movies.relabeled('Year', 'Release Year')\n",
        "top_movies"
      ]
    },
    {
      "cell_type": "markdown",
      "id": "ec8789e3-ff6d-47e6-b30f-d29a5c428696",
      "metadata": {
        "id": "ec8789e3-ff6d-47e6-b30f-d29a5c428696"
      },
      "source": [
        "---"
      ]
    },
    {
      "cell_type": "markdown",
      "id": "5bfbfc6f-256b-40f6-a1ea-ec15d0de59de",
      "metadata": {
        "deletable": false,
        "editable": false,
        "id": "5bfbfc6f-256b-40f6-a1ea-ec15d0de59de"
      },
      "source": [
        "The decade values can be thought of as a categorical attribute for the movie. Use the `group` table method to show the distribution of decades. We will cover `group` more in detail in a future lecture."
      ]
    },
    {
      "cell_type": "code",
      "execution_count": null,
      "id": "e1ccd946-1c86-4597-93a3-7a52a5854837",
      "metadata": {
        "tags": [],
        "id": "e1ccd946-1c86-4597-93a3-7a52a5854837",
        "outputId": "f98d5848-6162-4a25-bb08-5dc6b36ea06e"
      },
      "outputs": [
        {
          "data": {
            "text/html": [
              "<table border=\"1\" class=\"dataframe\">\n",
              "    <thead>\n",
              "        <tr>\n",
              "            <th>Decade</th> <th>count</th>\n",
              "        </tr>\n",
              "    </thead>\n",
              "    <tbody>\n",
              "        <tr>\n",
              "            <td>1930  </td> <td>2    </td>\n",
              "        </tr>\n",
              "        <tr>\n",
              "            <td>1940  </td> <td>1    </td>\n",
              "        </tr>\n",
              "        <tr>\n",
              "            <td>1960  </td> <td>2    </td>\n",
              "        </tr>\n",
              "        <tr>\n",
              "            <td>1970  </td> <td>10   </td>\n",
              "        </tr>\n",
              "        <tr>\n",
              "            <td>1980  </td> <td>31   </td>\n",
              "        </tr>\n",
              "        <tr>\n",
              "            <td>1990  </td> <td>151  </td>\n",
              "        </tr>\n",
              "        <tr>\n",
              "            <td>2000  </td> <td>286  </td>\n",
              "        </tr>\n",
              "        <tr>\n",
              "            <td>2010  </td> <td>457  </td>\n",
              "        </tr>\n",
              "        <tr>\n",
              "            <td>2020  </td> <td>60   </td>\n",
              "        </tr>\n",
              "    </tbody>\n",
              "</table>"
            ],
            "text/plain": [
              "Decade | count\n",
              "1930   | 2\n",
              "1940   | 1\n",
              "1960   | 2\n",
              "1970   | 10\n",
              "1980   | 31\n",
              "1990   | 151\n",
              "2000   | 286\n",
              "2010   | 457\n",
              "2020   | 60"
            ]
          },
          "execution_count": 4,
          "metadata": {},
          "output_type": "execute_result"
        }
      ],
      "source": [
        "decade_distribution = top_movies.group('Decade')\n",
        "decade_distribution"
      ]
    },
    {
      "cell_type": "code",
      "execution_count": null,
      "id": "d48e3c5e-ed4a-48ef-881e-d545bccfc042",
      "metadata": {
        "tags": [],
        "id": "d48e3c5e-ed4a-48ef-881e-d545bccfc042",
        "outputId": "66e36057-170d-4949-8176-03dab2676a81"
      },
      "outputs": [
        {
          "data": {
            "text/plain": [
              "1000"
            ]
          },
          "execution_count": 5,
          "metadata": {},
          "output_type": "execute_result"
        }
      ],
      "source": [
        "sum(decade_distribution.column('count'))"
      ]
    },
    {
      "cell_type": "markdown",
      "id": "fab7ffdd-9a4a-4d2b-8277-49e423c2bd79",
      "metadata": {
        "id": "fab7ffdd-9a4a-4d2b-8277-49e423c2bd79"
      },
      "source": [
        "---"
      ]
    },
    {
      "cell_type": "markdown",
      "id": "e9595d16-c9a6-4246-ac0c-806da6e38d77",
      "metadata": {
        "deletable": false,
        "editable": false,
        "id": "e9595d16-c9a6-4246-ac0c-806da6e38d77"
      },
      "source": [
        "Visualize the distribution of decades."
      ]
    },
    {
      "cell_type": "code",
      "execution_count": null,
      "id": "d9dbc85e-74d3-4412-8ec3-dd0de2018a1f",
      "metadata": {
        "tags": [],
        "id": "d9dbc85e-74d3-4412-8ec3-dd0de2018a1f",
        "outputId": "768a9049-3a18-4dff-9e84-a4a710b09b9d"
      },
      "outputs": [
        {
          "data": {
            "image/png": "[encoded data removed]",
            "text/plain": [
              "<Figure size 600x450 with 1 Axes>"
            ]
          },
          "metadata": {},
          "output_type": "display_data"
        }
      ],
      "source": [
        "decade_distribution.sort('count', descending=True).barh('Decade')"
      ]
    },
    {
      "cell_type": "markdown",
      "id": "343c303a-7347-4ff1-9b3e-ff6eae6d1ed2",
      "metadata": {
        "id": "343c303a-7347-4ff1-9b3e-ff6eae6d1ed2"
      },
      "source": [
        "---"
      ]
    },
    {
      "cell_type": "markdown",
      "id": "3a86515c-44a6-4ffc-b54a-98a646d3e559",
      "metadata": {
        "id": "3a86515c-44a6-4ffc-b54a-98a646d3e559"
      },
      "source": [
        "## Distributions of Numerical Variables"
      ]
    },
    {
      "cell_type": "markdown",
      "id": "10a17742-8e8e-4d4c-979a-d4348c0dd678",
      "metadata": {
        "id": "10a17742-8e8e-4d4c-979a-d4348c0dd678"
      },
      "source": [
        "---"
      ]
    },
    {
      "cell_type": "markdown",
      "id": "153c1093-4c47-49a4-8bb4-4565a9de3c86",
      "metadata": {
        "id": "153c1093-4c47-49a4-8bb4-4565a9de3c86"
      },
      "source": [
        "### Binning Numerical Values"
      ]
    },
    {
      "cell_type": "markdown",
      "id": "9e486a6a-5dd6-4de6-b2d5-5d6de8135729",
      "metadata": {
        "id": "9e486a6a-5dd6-4de6-b2d5-5d6de8135729"
      },
      "source": [
        "Binning is counting the number of numerical values that lie within ranges, called bins.\n",
        "* Bins are defined by their lower bounds (inclusive)\n",
        "* The upper bound is the lower bound of the next bin"
      ]
    },
    {
      "cell_type": "markdown",
      "id": "fd956ada-f931-482c-a686-e0466a095d2a",
      "metadata": {
        "id": "fd956ada-f931-482c-a686-e0466a095d2a"
      },
      "source": [
        "For example, the values 188, 170, 189, 163, 183, 171, 185, 168, 173, ... could be binned as follows:\n",
        "\n",
        "<img src=\"./binning_example.png\" alt=\"A binning of the example data\" width = 80%>"
      ]
    },
    {
      "cell_type": "markdown",
      "id": "09b0045b-77e8-4b3d-9bcf-ab83ef2ab69b",
      "metadata": {
        "id": "09b0045b-77e8-4b3d-9bcf-ab83ef2ab69b"
      },
      "source": [
        "---"
      ]
    },
    {
      "cell_type": "markdown",
      "id": "4b52b593-c977-4fd7-bff8-9562e90481ac",
      "metadata": {
        "id": "4b52b593-c977-4fd7-bff8-9562e90481ac"
      },
      "source": [
        "### Demo: Binning"
      ]
    },
    {
      "cell_type": "code",
      "execution_count": null,
      "id": "1a02cdf3-f58b-4574-a5b7-c2ef16f9477c",
      "metadata": {
        "id": "1a02cdf3-f58b-4574-a5b7-c2ef16f9477c",
        "outputId": "826ea00f-5d0a-4580-c1c1-7810f48db0ec"
      },
      "outputs": [
        {
          "data": {
            "text/html": [
              "<table border=\"1\" class=\"dataframe\">\n",
              "    <thead>\n",
              "        <tr>\n",
              "            <th>Title</th> <th>Release Year</th> <th>Decade</th> <th>Gross</th> <th>Gross (Adjusted)</th>\n",
              "        </tr>\n",
              "    </thead>\n",
              "    <tbody>\n",
              "        <tr>\n",
              "            <td>Gone with the Wind                        </td> <td>1939        </td> <td>1930  </td> <td>402382193 </td> <td>7.84414e+09     </td>\n",
              "        </tr>\n",
              "        <tr>\n",
              "            <td>Bambi                                     </td> <td>1942        </td> <td>1940  </td> <td>267447150 </td> <td>4.44602e+09     </td>\n",
              "        </tr>\n",
              "        <tr>\n",
              "            <td>Titanic                                   </td> <td>1997        </td> <td>1990  </td> <td>2201647264</td> <td>3.71701e+09     </td>\n",
              "        </tr>\n",
              "        <tr>\n",
              "            <td>Avatar                                    </td> <td>2009        </td> <td>2000  </td> <td>2922917914</td> <td>3.69178e+09     </td>\n",
              "        </tr>\n",
              "        <tr>\n",
              "            <td>Snow White and the Seven Dwarfs           </td> <td>1937        </td> <td>1930  </td> <td>184925486 </td> <td>3.47981e+09     </td>\n",
              "        </tr>\n",
              "        <tr>\n",
              "            <td>Star Wars                                 </td> <td>1977        </td> <td>1970  </td> <td>775398007 </td> <td>3.46716e+09     </td>\n",
              "        </tr>\n",
              "        <tr>\n",
              "            <td>Avengers: Endgame                         </td> <td>2019        </td> <td>2010  </td> <td>2797501328</td> <td>2.96506e+09     </td>\n",
              "        </tr>\n",
              "        <tr>\n",
              "            <td>The Exorcist                              </td> <td>1973        </td> <td>1970  </td> <td>441306145 </td> <td>2.69326e+09     </td>\n",
              "        </tr>\n",
              "        <tr>\n",
              "            <td>Jaws                                      </td> <td>1975        </td> <td>1970  </td> <td>476512065 </td> <td>2.40001e+09     </td>\n",
              "        </tr>\n",
              "        <tr>\n",
              "            <td>Star Wars: Episode VII - The Force Awakens</td> <td>2015        </td> <td>2010  </td> <td>2069521700</td> <td>2.36598e+09     </td>\n",
              "        </tr>\n",
              "    </tbody>\n",
              "</table>\n",
              "<p>... (990 rows omitted)</p>"
            ],
            "text/plain": [
              "Title                                      | Release Year | Decade | Gross      | Gross (Adjusted)\n",
              "Gone with the Wind                         | 1939         | 1930   | 402382193  | 7.84414e+09\n",
              "Bambi                                      | 1942         | 1940   | 267447150  | 4.44602e+09\n",
              "Titanic                                    | 1997         | 1990   | 2201647264 | 3.71701e+09\n",
              "Avatar                                     | 2009         | 2000   | 2922917914 | 3.69178e+09\n",
              "Snow White and the Seven Dwarfs            | 1937         | 1930   | 184925486  | 3.47981e+09\n",
              "Star Wars                                  | 1977         | 1970   | 775398007  | 3.46716e+09\n",
              "Avengers: Endgame                          | 2019         | 2010   | 2797501328 | 2.96506e+09\n",
              "The Exorcist                               | 1973         | 1970   | 441306145  | 2.69326e+09\n",
              "Jaws                                       | 1975         | 1970   | 476512065  | 2.40001e+09\n",
              "Star Wars: Episode VII - The Force Awakens | 2015         | 2010   | 2069521700 | 2.36598e+09\n",
              "... (990 rows omitted)"
            ]
          },
          "execution_count": 7,
          "metadata": {},
          "output_type": "execute_result"
        }
      ],
      "source": [
        "top_movies"
      ]
    },
    {
      "cell_type": "code",
      "execution_count": null,
      "id": "c470f73e-ec94-471c-8f0e-1b716847bcd1",
      "metadata": {
        "id": "c470f73e-ec94-471c-8f0e-1b716847bcd1",
        "outputId": "b5e37116-37fb-4088-e444-5ed385a263eb"
      },
      "outputs": [
        {
          "data": {
            "text/plain": [
              "(1937, 2022)"
            ]
          },
          "execution_count": 8,
          "metadata": {},
          "output_type": "execute_result"
        }
      ],
      "source": [
        "min_year = min(top_movies.column('Release Year'))\n",
        "max_year = max(top_movies.column('Release Year'))\n",
        "(min_year, max_year)"
      ]
    },
    {
      "cell_type": "markdown",
      "id": "6f8939bc-1d4b-449a-9368-ed59df1b2a9f",
      "metadata": {
        "id": "6f8939bc-1d4b-449a-9368-ed59df1b2a9f"
      },
      "source": [
        "---"
      ]
    },
    {
      "cell_type": "markdown",
      "id": "351d90ae-85eb-4a1b-80d0-8566f041b745",
      "metadata": {
        "id": "351d90ae-85eb-4a1b-80d0-8566f041b745"
      },
      "source": [
        "Bin the release year data based on bins with unequal widths. We are using the `bin` table method to do this, but you will **not** typically work with the `bin` table method in our assignments/exams."
      ]
    },
    {
      "cell_type": "code",
      "execution_count": null,
      "id": "ac8b54e8-9e32-4d2b-b67e-0077c02d36fc",
      "metadata": {
        "id": "ac8b54e8-9e32-4d2b-b67e-0077c02d36fc"
      },
      "outputs": [],
      "source": [
        "unequally_spaced_bins = make_array(1937, 2000, 2010, 2020, 2022)"
      ]
    },
    {
      "cell_type": "code",
      "execution_count": null,
      "id": "9948ca17-94dc-47c7-a548-308679105979",
      "metadata": {
        "scrolled": true,
        "id": "9948ca17-94dc-47c7-a548-308679105979",
        "outputId": "8ec108f8-1b81-4330-f9a5-ccf0a4807014"
      },
      "outputs": [
        {
          "data": {
            "text/html": [
              "<table border=\"1\" class=\"dataframe\">\n",
              "    <thead>\n",
              "        <tr>\n",
              "            <th>bin</th> <th>Release Year count</th>\n",
              "        </tr>\n",
              "    </thead>\n",
              "    <tbody>\n",
              "        <tr>\n",
              "            <td>1937</td> <td>197               </td>\n",
              "        </tr>\n",
              "        <tr>\n",
              "            <td>2000</td> <td>286               </td>\n",
              "        </tr>\n",
              "        <tr>\n",
              "            <td>2010</td> <td>457               </td>\n",
              "        </tr>\n",
              "        <tr>\n",
              "            <td>2020</td> <td>60                </td>\n",
              "        </tr>\n",
              "        <tr>\n",
              "            <td>2022</td> <td>0                 </td>\n",
              "        </tr>\n",
              "    </tbody>\n",
              "</table>"
            ],
            "text/plain": [
              "bin  | Release Year count\n",
              "1937 | 197\n",
              "2000 | 286\n",
              "2010 | 457\n",
              "2020 | 60\n",
              "2022 | 0"
            ]
          },
          "execution_count": 10,
          "metadata": {},
          "output_type": "execute_result"
        }
      ],
      "source": [
        "top_movies.bin('Release Year', bins=unequally_spaced_bins)"
      ]
    },
    {
      "cell_type": "markdown",
      "id": "4a814002-b07e-4e6d-b7ec-96ccf10fa06b",
      "metadata": {
        "id": "4a814002-b07e-4e6d-b7ec-96ccf10fa06b"
      },
      "source": [
        "The bin values represent the left-endpoint of the bin, except the last row bin value represents the right endpoint of the preceding bin."
      ]
    },
    {
      "cell_type": "markdown",
      "id": "cf5ab682-0a4a-4a5e-835e-22f730be727d",
      "metadata": {
        "id": "cf5ab682-0a4a-4a5e-835e-22f730be727d"
      },
      "source": [
        "---"
      ]
    },
    {
      "cell_type": "markdown",
      "id": "e5882800-4d41-413c-8bad-178b02b5444e",
      "metadata": {
        "id": "e5882800-4d41-413c-8bad-178b02b5444e"
      },
      "source": [
        "Bin the release year data based on bins with equal width."
      ]
    },
    {
      "cell_type": "code",
      "execution_count": null,
      "id": "2be0c4cc-08cd-48e9-8ce7-b81a5b03a2f8",
      "metadata": {
        "id": "2be0c4cc-08cd-48e9-8ce7-b81a5b03a2f8",
        "outputId": "f328cf47-9eeb-4509-f535-d53e7b65b16e"
      },
      "outputs": [
        {
          "data": {
            "text/html": [
              "<table border=\"1\" class=\"dataframe\">\n",
              "    <thead>\n",
              "        <tr>\n",
              "            <th>bin</th> <th>Release Year count</th>\n",
              "        </tr>\n",
              "    </thead>\n",
              "    <tbody>\n",
              "        <tr>\n",
              "            <td>1930</td> <td>2                 </td>\n",
              "        </tr>\n",
              "        <tr>\n",
              "            <td>1940</td> <td>1                 </td>\n",
              "        </tr>\n",
              "        <tr>\n",
              "            <td>1950</td> <td>0                 </td>\n",
              "        </tr>\n",
              "        <tr>\n",
              "            <td>1960</td> <td>2                 </td>\n",
              "        </tr>\n",
              "        <tr>\n",
              "            <td>1970</td> <td>10                </td>\n",
              "        </tr>\n",
              "        <tr>\n",
              "            <td>1980</td> <td>31                </td>\n",
              "        </tr>\n",
              "        <tr>\n",
              "            <td>1990</td> <td>151               </td>\n",
              "        </tr>\n",
              "        <tr>\n",
              "            <td>2000</td> <td>286               </td>\n",
              "        </tr>\n",
              "        <tr>\n",
              "            <td>2010</td> <td>457               </td>\n",
              "        </tr>\n",
              "        <tr>\n",
              "            <td>2020</td> <td>60                </td>\n",
              "        </tr>\n",
              "        <tr>\n",
              "            <td>2030</td> <td>0                 </td>\n",
              "        </tr>\n",
              "    </tbody>\n",
              "</table>"
            ],
            "text/plain": [
              "<IPython.core.display.HTML object>"
            ]
          },
          "metadata": {},
          "output_type": "display_data"
        }
      ],
      "source": [
        "binned_by_decade = top_movies.bin('Release Year', bins=np.arange(1930, 2031, 10))\n",
        "binned_by_decade.show()"
      ]
    },
    {
      "cell_type": "markdown",
      "id": "7e122ff9-f265-4b98-93db-96b42b38fb2c",
      "metadata": {
        "id": "7e122ff9-f265-4b98-93db-96b42b38fb2c"
      },
      "source": [
        "---"
      ]
    },
    {
      "cell_type": "markdown",
      "id": "18209714-6fb5-421c-b6b6-e3aacf1328a8",
      "metadata": {
        "id": "18209714-6fb5-421c-b6b6-e3aacf1328a8"
      },
      "source": [
        "## Area Principle"
      ]
    },
    {
      "cell_type": "markdown",
      "id": "c8a7dfbc-e054-45e2-9654-4f58d0e080e1",
      "metadata": {
        "id": "c8a7dfbc-e054-45e2-9654-4f58d0e080e1"
      },
      "source": [
        "---"
      ]
    },
    {
      "cell_type": "markdown",
      "id": "68c558b6-6ab4-4d22-b7cd-fe97eeef31fa",
      "metadata": {
        "id": "68c558b6-6ab4-4d22-b7cd-fe97eeef31fa"
      },
      "source": [
        "### Area Principle"
      ]
    },
    {
      "cell_type": "markdown",
      "id": "340c4c3b-88dd-43c8-83b4-1880839fcb6c",
      "metadata": {
        "id": "340c4c3b-88dd-43c8-83b4-1880839fcb6c"
      },
      "source": [
        "Areas should be proportional to the values they represent."
      ]
    },
    {
      "cell_type": "markdown",
      "id": "94242cc4-8268-4d8b-bc7a-59eba0e318c1",
      "metadata": {
        "id": "94242cc4-8268-4d8b-bc7a-59eba0e318c1"
      },
      "source": [
        "* For example, if you represent 20% with ■, then 40% should be represented with twice that area ■■.\n",
        "* The following visualization from [Gizmodo in 2012](https://gizmodo.com/holy-f-ck-the-new-ipad-has-a-gigantic-70-percent-large-5893738) accompanied the statement that the new iPad battery was \"A gigantic 70-percent larger!\" Does the visualization satisfy the area principle?\n",
        "\n",
        "<img src=\"./ipad_battery_comparison.jpeg\" alt=\"A comparison of iPad batteries that violates the Area Principle\" width = 50%>"
      ]
    },
    {
      "cell_type": "markdown",
      "id": "eb67736e-1f44-40dc-bef3-94006a031d72",
      "metadata": {
        "id": "eb67736e-1f44-40dc-bef3-94006a031d72"
      },
      "source": [
        "---"
      ]
    },
    {
      "cell_type": "markdown",
      "id": "ec774898-f85d-417a-998c-808754539d7c",
      "metadata": {
        "id": "ec774898-f85d-417a-998c-808754539d7c"
      },
      "source": [
        "## Creating Histograms"
      ]
    },
    {
      "cell_type": "markdown",
      "id": "d9470f0f-45b5-4af6-8abc-d2fcf9e09b3e",
      "metadata": {
        "id": "d9470f0f-45b5-4af6-8abc-d2fcf9e09b3e"
      },
      "source": [
        "---"
      ]
    },
    {
      "cell_type": "markdown",
      "id": "dbd3860f-ce8a-45e2-af44-576bc93315f1",
      "metadata": {
        "id": "dbd3860f-ce8a-45e2-af44-576bc93315f1"
      },
      "source": [
        "### Histograms"
      ]
    },
    {
      "cell_type": "markdown",
      "id": "b91daadc-4729-4687-8d66-9911b118ee68",
      "metadata": {
        "id": "b91daadc-4729-4687-8d66-9911b118ee68"
      },
      "source": [
        "* Chart that displays the distribution of a numerical variable\n",
        "* Uses bins; there is one bar corresponding to each bin\n",
        "* Uses the area principle: The area of each bar is the percent of individuals in the corresponding bin\n"
      ]
    },
    {
      "cell_type": "markdown",
      "id": "ac9c10b1-f06e-441b-8d07-35a5a7b9aaa4",
      "metadata": {
        "id": "ac9c10b1-f06e-441b-8d07-35a5a7b9aaa4"
      },
      "source": [
        "---"
      ]
    },
    {
      "cell_type": "markdown",
      "id": "962c60a7-f5b2-456e-a066-701c94333697",
      "metadata": {
        "id": "962c60a7-f5b2-456e-a066-701c94333697"
      },
      "source": [
        "### Demo: Histograms"
      ]
    },
    {
      "cell_type": "markdown",
      "id": "f246ca0b-ed06-4c72-902d-2d91ecd5647d",
      "metadata": {
        "deletable": false,
        "editable": false,
        "id": "f246ca0b-ed06-4c72-902d-2d91ecd5647d"
      },
      "source": [
        "Create a histogram of the release years using the default bins."
      ]
    },
    {
      "cell_type": "code",
      "execution_count": null,
      "id": "fdf6d662-3690-4f7f-a67a-0ad2e1a86997",
      "metadata": {
        "tags": [],
        "id": "fdf6d662-3690-4f7f-a67a-0ad2e1a86997",
        "outputId": "2cb289dd-73d1-45a9-8f41-9e7eb40d8265"
      },
      "outputs": [
        {
          "data": {
            "image/png": "[encoded data removed]",
            "text/plain": [
              "<Figure size 600x400 with 1 Axes>"
            ]
          },
          "metadata": {},
          "output_type": "display_data"
        }
      ],
      "source": [
        "top_movies.hist('Release Year', unit='Year')\n",
        "\n",
        "# Formatting that you are not responsible for\n",
        "plt.title('Distribution of Top Movie Release Years')\n",
        "plt.show()"
      ]
    },
    {
      "cell_type": "markdown",
      "id": "fe576cb2-a097-43bd-b67e-98ea90e7af8d",
      "metadata": {
        "id": "fe576cb2-a097-43bd-b67e-98ea90e7af8d"
      },
      "source": [
        "---"
      ]
    },
    {
      "cell_type": "markdown",
      "id": "702b2665-d37f-4265-865f-8c5a67810b9e",
      "metadata": {
        "deletable": false,
        "editable": false,
        "id": "702b2665-d37f-4265-865f-8c5a67810b9e"
      },
      "source": [
        "Now, use the unequally spaced bins."
      ]
    },
    {
      "cell_type": "code",
      "execution_count": null,
      "id": "22a4ca23-ca48-4309-8d9b-eaab16495742",
      "metadata": {
        "tags": [],
        "id": "22a4ca23-ca48-4309-8d9b-eaab16495742",
        "outputId": "d39d4c40-2082-42e7-9b0d-80ffe4b1a7f0"
      },
      "outputs": [
        {
          "data": {
            "image/png": "[encoded data removed]",
            "text/plain": [
              "<Figure size 600x400 with 1 Axes>"
            ]
          },
          "metadata": {},
          "output_type": "display_data"
        }
      ],
      "source": [
        "top_movies.hist('Release Year', bins=unequally_spaced_bins, unit='Year')\n",
        "\n",
        "# Formatting you are not responsible for\n",
        "plt.title('Distribution of Top Movie Release Years')\n",
        "plt.show()"
      ]
    },
    {
      "cell_type": "markdown",
      "id": "2708f0d5-4b51-411d-a506-d61c82b2d2d3",
      "metadata": {
        "id": "2708f0d5-4b51-411d-a506-d61c82b2d2d3"
      },
      "source": [
        "---"
      ]
    },
    {
      "cell_type": "markdown",
      "id": "2aea918b-e327-46cb-923c-c3e2f3059f2f",
      "metadata": {
        "deletable": false,
        "editable": false,
        "id": "2aea918b-e327-46cb-923c-c3e2f3059f2f"
      },
      "source": [
        "Try using bins based on decades instead."
      ]
    },
    {
      "cell_type": "code",
      "execution_count": null,
      "id": "e793353c-bccb-485b-ae52-50e5ca4deac8",
      "metadata": {
        "tags": [],
        "id": "e793353c-bccb-485b-ae52-50e5ca4deac8",
        "outputId": "7273859e-5126-4fed-e540-77bad9f07a5d"
      },
      "outputs": [
        {
          "data": {
            "image/png": "[encoded data removed]",
            "text/plain": [
              "<Figure size 600x400 with 1 Axes>"
            ]
          },
          "metadata": {},
          "output_type": "display_data"
        }
      ],
      "source": [
        "top_movies.hist('Release Year', bins=np.arange(1930, 2031, 10), unit='Year')\n",
        "\n",
        "# Formatting you are not responsible for\n",
        "plt.title('Distribution of Top Movie Release Years')\n",
        "plt.show()"
      ]
    },
    {
      "cell_type": "markdown",
      "id": "4890e4a5-691f-40c3-95bb-2636dcbdd566",
      "metadata": {
        "id": "4890e4a5-691f-40c3-95bb-2636dcbdd566"
      },
      "source": [
        "---"
      ]
    },
    {
      "cell_type": "markdown",
      "id": "be62d515-5c62-4573-8560-ee7f160aff60",
      "metadata": {
        "id": "be62d515-5c62-4573-8560-ee7f160aff60"
      },
      "source": [
        "## Density and Area"
      ]
    },
    {
      "cell_type": "markdown",
      "id": "d81d3e1f-d2e2-40f0-9d2b-78ac0af117e8",
      "metadata": {
        "id": "d81d3e1f-d2e2-40f0-9d2b-78ac0af117e8"
      },
      "source": [
        "---"
      ]
    },
    {
      "cell_type": "markdown",
      "id": "66cd0756-4acb-4a01-985f-d5ad8d59c3b6",
      "metadata": {
        "id": "66cd0756-4acb-4a01-985f-d5ad8d59c3b6"
      },
      "source": [
        "### Histogram Axes"
      ]
    },
    {
      "cell_type": "markdown",
      "id": "9e10be39-fb10-4526-aa8f-1be710848e91",
      "metadata": {
        "id": "9e10be39-fb10-4526-aa8f-1be710848e91"
      },
      "source": [
        "* By default, `hist` uses a scale (`normed=True`) that ensures the area of the chart sums to 100%\n",
        "* The area of each bar is a percentage of the whole\n",
        "* The horizontal axis is a number line (e.g., years), and the bins sizes don't have to be equal to each other\n",
        "* The vertical axis is a rate (e.g., percent per year)"
      ]
    },
    {
      "cell_type": "markdown",
      "id": "3196f3f2-154f-4a82-bd48-5ee8009d5b9c",
      "metadata": {
        "id": "3196f3f2-154f-4a82-bd48-5ee8009d5b9c"
      },
      "source": [
        "---"
      ]
    },
    {
      "cell_type": "markdown",
      "id": "8587a680-9a06-49f5-9949-82913193eada",
      "metadata": {
        "id": "8587a680-9a06-49f5-9949-82913193eada"
      },
      "source": [
        "### Demo: Density and Area"
      ]
    },
    {
      "cell_type": "markdown",
      "id": "8364c380-3ba1-4f48-aa04-78535d823676",
      "metadata": {
        "deletable": false,
        "editable": false,
        "id": "8364c380-3ba1-4f48-aa04-78535d823676"
      },
      "source": [
        "Add a new column to `binned_by_decade` containing the percentage of movies in each bin (decade) relative to the total number of movies in the data set."
      ]
    },
    {
      "cell_type": "code",
      "execution_count": null,
      "id": "948df4d6-7898-48ae-96ee-e4b745a9d5a0",
      "metadata": {
        "tags": [],
        "id": "948df4d6-7898-48ae-96ee-e4b745a9d5a0",
        "outputId": "0e67e076-3ee7-4ac6-b1cf-115ea1fbb38c"
      },
      "outputs": [
        {
          "data": {
            "text/html": [
              "<table border=\"1\" class=\"dataframe\">\n",
              "    <thead>\n",
              "        <tr>\n",
              "            <th>bin</th> <th>Release Year count</th> <th>Percent</th>\n",
              "        </tr>\n",
              "    </thead>\n",
              "    <tbody>\n",
              "        <tr>\n",
              "            <td>1930</td> <td>2                 </td> <td>0.2    </td>\n",
              "        </tr>\n",
              "        <tr>\n",
              "            <td>1940</td> <td>1                 </td> <td>0.1    </td>\n",
              "        </tr>\n",
              "        <tr>\n",
              "            <td>1950</td> <td>0                 </td> <td>0      </td>\n",
              "        </tr>\n",
              "        <tr>\n",
              "            <td>1960</td> <td>2                 </td> <td>0.2    </td>\n",
              "        </tr>\n",
              "        <tr>\n",
              "            <td>1970</td> <td>10                </td> <td>1      </td>\n",
              "        </tr>\n",
              "        <tr>\n",
              "            <td>1980</td> <td>31                </td> <td>3.1    </td>\n",
              "        </tr>\n",
              "        <tr>\n",
              "            <td>1990</td> <td>151               </td> <td>15.1   </td>\n",
              "        </tr>\n",
              "        <tr>\n",
              "            <td>2000</td> <td>286               </td> <td>28.6   </td>\n",
              "        </tr>\n",
              "        <tr>\n",
              "            <td>2010</td> <td>457               </td> <td>45.7   </td>\n",
              "        </tr>\n",
              "        <tr>\n",
              "            <td>2020</td> <td>60                </td> <td>6      </td>\n",
              "        </tr>\n",
              "    </tbody>\n",
              "</table>\n",
              "<p>... (1 rows omitted)</p>"
            ],
            "text/plain": [
              "bin  | Release Year count | Percent\n",
              "1930 | 2                  | 0.2\n",
              "1940 | 1                  | 0.1\n",
              "1950 | 0                  | 0\n",
              "1960 | 2                  | 0.2\n",
              "1970 | 10                 | 1\n",
              "1980 | 31                 | 3.1\n",
              "1990 | 151                | 15.1\n",
              "2000 | 286                | 28.6\n",
              "2010 | 457                | 45.7\n",
              "2020 | 60                 | 6\n",
              "... (1 rows omitted)"
            ]
          },
          "execution_count": 15,
          "metadata": {},
          "output_type": "execute_result"
        }
      ],
      "source": [
        "percents = binned_by_decade.column('Release Year count') / 1000 * 100\n",
        "binned_by_decade = binned_by_decade.with_column('Percent', percents)\n",
        "binned_by_decade"
      ]
    },
    {
      "cell_type": "code",
      "execution_count": null,
      "id": "2b94dc79-1d35-4c27-a1f9-dfd5ef4dc46e",
      "metadata": {
        "id": "2b94dc79-1d35-4c27-a1f9-dfd5ef4dc46e",
        "outputId": "042c0cd9-84ba-4f40-e90c-abad4ec0cc73"
      },
      "outputs": [
        {
          "data": {
            "text/plain": [
              "15.1"
            ]
          },
          "execution_count": 16,
          "metadata": {},
          "output_type": "execute_result"
        }
      ],
      "source": [
        "binned_by_decade.where('bin', 1990).column('Percent').item(0)"
      ]
    },
    {
      "cell_type": "markdown",
      "id": "22d76450-67da-45a7-bd19-8eb6256e76c9",
      "metadata": {
        "id": "22d76450-67da-45a7-bd19-8eb6256e76c9"
      },
      "source": [
        "---"
      ]
    },
    {
      "cell_type": "markdown",
      "id": "cc7c3333-1d52-462e-a5d6-0cc81ff733b4",
      "metadata": {
        "deletable": false,
        "editable": false,
        "id": "cc7c3333-1d52-462e-a5d6-0cc81ff733b4"
      },
      "source": [
        "What is the height of the [1990, 2000) bin?"
      ]
    },
    {
      "cell_type": "code",
      "execution_count": null,
      "id": "f9678f25-deaa-4764-8ad7-55ad9bc33111",
      "metadata": {
        "tags": [],
        "id": "f9678f25-deaa-4764-8ad7-55ad9bc33111",
        "outputId": "e1ee7f04-a266-4de9-e096-caaa47ed2010"
      },
      "outputs": [
        {
          "data": {
            "text/plain": [
              "1.51"
            ]
          },
          "execution_count": 17,
          "metadata": {},
          "output_type": "execute_result"
        }
      ],
      "source": [
        "percent = binned_by_decade.where('bin', 1990).column('Percent').item(0)\n",
        "width = 2000 - 1990\n",
        "height = percent / width\n",
        "height"
      ]
    },
    {
      "cell_type": "markdown",
      "id": "32ba2665-feb7-4c04-bfeb-9c1acc7b2434",
      "metadata": {
        "id": "32ba2665-feb7-4c04-bfeb-9c1acc7b2434"
      },
      "source": [
        "---"
      ]
    },
    {
      "cell_type": "markdown",
      "id": "0f80efc1-1fa5-409b-afe0-5c58012f03ab",
      "metadata": {
        "id": "0f80efc1-1fa5-409b-afe0-5c58012f03ab"
      },
      "source": [
        "Use array arithmetic to calculate the rest of the heights."
      ]
    },
    {
      "cell_type": "code",
      "execution_count": null,
      "id": "6d05ac28-2187-4151-acc9-8faf97fef633",
      "metadata": {
        "id": "6d05ac28-2187-4151-acc9-8faf97fef633",
        "outputId": "b10f215f-5ec3-490c-a3f0-df8b03196d56"
      },
      "outputs": [
        {
          "data": {
            "text/html": [
              "<table border=\"1\" class=\"dataframe\">\n",
              "    <thead>\n",
              "        <tr>\n",
              "            <th>bin</th> <th>Release Year count</th> <th>Percent</th> <th>Width</th> <th>Height</th>\n",
              "        </tr>\n",
              "    </thead>\n",
              "    <tbody>\n",
              "        <tr>\n",
              "            <td>1930</td> <td>2                 </td> <td>0.2    </td> <td>10   </td> <td>0.02  </td>\n",
              "        </tr>\n",
              "        <tr>\n",
              "            <td>1940</td> <td>1                 </td> <td>0.1    </td> <td>10   </td> <td>0.01  </td>\n",
              "        </tr>\n",
              "        <tr>\n",
              "            <td>1950</td> <td>0                 </td> <td>0      </td> <td>10   </td> <td>0     </td>\n",
              "        </tr>\n",
              "        <tr>\n",
              "            <td>1960</td> <td>2                 </td> <td>0.2    </td> <td>10   </td> <td>0.02  </td>\n",
              "        </tr>\n",
              "        <tr>\n",
              "            <td>1970</td> <td>10                </td> <td>1      </td> <td>10   </td> <td>0.1   </td>\n",
              "        </tr>\n",
              "        <tr>\n",
              "            <td>1980</td> <td>31                </td> <td>3.1    </td> <td>10   </td> <td>0.31  </td>\n",
              "        </tr>\n",
              "        <tr>\n",
              "            <td>1990</td> <td>151               </td> <td>15.1   </td> <td>10   </td> <td>1.51  </td>\n",
              "        </tr>\n",
              "        <tr>\n",
              "            <td>2000</td> <td>286               </td> <td>28.6   </td> <td>10   </td> <td>2.86  </td>\n",
              "        </tr>\n",
              "        <tr>\n",
              "            <td>2010</td> <td>457               </td> <td>45.7   </td> <td>10   </td> <td>4.57  </td>\n",
              "        </tr>\n",
              "        <tr>\n",
              "            <td>2020</td> <td>60                </td> <td>6      </td> <td>10   </td> <td>0.6   </td>\n",
              "        </tr>\n",
              "    </tbody>\n",
              "</table>"
            ],
            "text/plain": [
              "bin  | Release Year count | Percent | Width | Height\n",
              "1930 | 2                  | 0.2     | 10    | 0.02\n",
              "1940 | 1                  | 0.1     | 10    | 0.01\n",
              "1950 | 0                  | 0       | 10    | 0\n",
              "1960 | 2                  | 0.2     | 10    | 0.02\n",
              "1970 | 10                 | 1       | 10    | 0.1\n",
              "1980 | 31                 | 3.1     | 10    | 0.31\n",
              "1990 | 151                | 15.1    | 10    | 1.51\n",
              "2000 | 286                | 28.6    | 10    | 2.86\n",
              "2010 | 457                | 45.7    | 10    | 4.57\n",
              "2020 | 60                 | 6       | 10    | 0.6"
            ]
          },
          "execution_count": 18,
          "metadata": {},
          "output_type": "execute_result"
        }
      ],
      "source": [
        "bin_lefts = binned_by_decade.take(np.arange(binned_by_decade.num_rows - 1))\n",
        "bin_widths = np.diff(binned_by_decade.column('bin'))\n",
        "bin_lefts = bin_lefts.with_column('Width', bin_widths)\n",
        "bin_heights = bin_lefts.column('Percent') / bin_widths\n",
        "bin_lefts = bin_lefts.with_column('Height', bin_heights)\n",
        "bin_lefts"
      ]
    },
    {
      "cell_type": "markdown",
      "id": "884e0e01-60e6-4a49-a8a1-3da60f25b23e",
      "metadata": {
        "id": "884e0e01-60e6-4a49-a8a1-3da60f25b23e"
      },
      "source": [
        "---"
      ]
    },
    {
      "cell_type": "markdown",
      "id": "711b442c-d4c3-4fc6-a232-6ccc2506a12a",
      "metadata": {
        "id": "711b442c-d4c3-4fc6-a232-6ccc2506a12a"
      },
      "source": [
        "### Height Measures Density"
      ]
    },
    {
      "cell_type": "markdown",
      "id": "28ef2588-ff90-4282-a410-25f152509d7e",
      "metadata": {
        "id": "28ef2588-ff90-4282-a410-25f152509d7e"
      },
      "source": [
        "* The height measures the percent of data in the bin relative to the amount of space in the bin.\n",
        "* The general formula for height is: $$\\text{height } = \\frac{\\text{percent in bin}}{\\text{width of bin}}$$\n",
        "* Height measures crowdedness, or density.\n",
        "* Units: percent per unit on the horizontal axis\n",
        "\n"
      ]
    },
    {
      "cell_type": "markdown",
      "id": "f6031a63-3b8c-4d01-8d5f-95d2706f9765",
      "metadata": {
        "id": "f6031a63-3b8c-4d01-8d5f-95d2706f9765"
      },
      "source": [
        "---"
      ]
    },
    {
      "cell_type": "markdown",
      "id": "d5c67463-93d6-4402-b759-2b39572037dc",
      "metadata": {
        "id": "d5c67463-93d6-4402-b759-2b39572037dc"
      },
      "source": [
        "### How to Calculate Height"
      ]
    },
    {
      "cell_type": "markdown",
      "id": "911d1035-ca90-4e0c-bbd6-12d08e3bbca9",
      "metadata": {
        "id": "911d1035-ca90-4e0c-bbd6-12d08e3bbca9"
      },
      "source": [
        "The $[1990, 2000)$ bin contains $151$ out of $1,000$ movies\n",
        "* $151$ out of $1000$ is $15.1\\%$\n",
        "* The bin is $2000 - 1990 = 10$ years wide\n",
        "* The height of the bar is calculated to be: $$\\frac{15.1 \\text{ percent}}{10 \\text{ years}} = 1.51 \\text{ percent per year}$$\n"
      ]
    },
    {
      "cell_type": "markdown",
      "id": "ee64b267-c7da-44a0-afde-f331c8af343d",
      "metadata": {
        "id": "ee64b267-c7da-44a0-afde-f331c8af343d"
      },
      "source": [
        "---"
      ]
    },
    {
      "cell_type": "markdown",
      "id": "669d447f-7489-416f-9218-5d5c9d917f90",
      "metadata": {
        "id": "669d447f-7489-416f-9218-5d5c9d917f90"
      },
      "source": [
        "### Area Measures Percent"
      ]
    },
    {
      "cell_type": "markdown",
      "id": "6563a22c-da40-4c66-96f7-b1599517ee4d",
      "metadata": {
        "id": "6563a22c-da40-4c66-96f7-b1599517ee4d"
      },
      "source": [
        "* The area of a bar is the percent in the bin.\n",
        "* The area of a bar can be calculated by the formula: $\\text{area of a bar } = \\text{ height of the bar} \\times \\text{ width of bin}$.\n"
      ]
    },
    {
      "cell_type": "markdown",
      "id": "b7670394-d2b3-4190-baf0-8e20b207674b",
      "metadata": {
        "id": "b7670394-d2b3-4190-baf0-8e20b207674b"
      },
      "source": [
        "---"
      ]
    },
    {
      "cell_type": "markdown",
      "id": "62209a31-e999-4a52-9635-7f33632efeb5",
      "metadata": {
        "id": "62209a31-e999-4a52-9635-7f33632efeb5"
      },
      "source": [
        "### How to Calculate Area"
      ]
    },
    {
      "cell_type": "markdown",
      "id": "e83f38da-8170-4a87-a2c4-41927fc385d5",
      "metadata": {
        "id": "e83f38da-8170-4a87-a2c4-41927fc385d5"
      },
      "source": [
        "A bin that is $10$ years wide and has a density of $1.51$ percent per year contains $10 * 1.51 = 15.1$ percent of the data."
      ]
    },
    {
      "cell_type": "markdown",
      "id": "cb20b501-e0e4-436e-b058-d5d569808d5d",
      "metadata": {
        "id": "cb20b501-e0e4-436e-b058-d5d569808d5d"
      },
      "source": [
        "---"
      ]
    },
    {
      "cell_type": "markdown",
      "id": "b39dccba-2b67-4c73-8929-dd6d1eb3d78a",
      "metadata": {
        "id": "b39dccba-2b67-4c73-8929-dd6d1eb3d78a"
      },
      "source": [
        "### Area or Height"
      ]
    },
    {
      "cell_type": "markdown",
      "id": "818f572f-ee51-4ea9-aef3-078eb7c38802",
      "metadata": {
        "id": "818f572f-ee51-4ea9-aef3-078eb7c38802"
      },
      "source": [
        "In general:\n",
        "* Use area when addressing a question like \"How many individuals in the bin?\"\n",
        "* Use height when addressing a question like \"How crowded is the bin?\""
      ]
    },
    {
      "cell_type": "markdown",
      "id": "10d07939-e243-4316-afaa-daaf1a5d5c8a",
      "metadata": {
        "id": "10d07939-e243-4316-afaa-daaf1a5d5c8a"
      },
      "source": [
        "---"
      ]
    },
    {
      "cell_type": "markdown",
      "id": "03edb219-b023-45e1-adc9-072c9db85aa6",
      "metadata": {
        "id": "03edb219-b023-45e1-adc9-072c9db85aa6"
      },
      "source": [
        "### Bar Chart or Histogram?"
      ]
    },
    {
      "cell_type": "markdown",
      "id": "8f32b82b-2898-40bc-8d9a-bd63e0bc1004",
      "metadata": {
        "id": "8f32b82b-2898-40bc-8d9a-bd63e0bc1004"
      },
      "source": [
        "* Use a bar chart to visualize when the:\n",
        "    * Distribution of categorical variable\n",
        "    * Bars have arbitrary (but equal) widths and spacings\n",
        "    * Height (or length) and area of bars proportional to the percent of individuals\n",
        "* Use a histogram to visualize when the:\n",
        "    * Distribution of numerical variable\n",
        "    * Horizontal axis is numerical: to scale, no gaps, bins can be unequal\n",
        "    * Area of bars proportional to the percent of individuals; height measures density"
      ]
    },
    {
      "cell_type": "markdown",
      "id": "2a67c68b-7677-4d5c-aec7-661fd71e8f60",
      "metadata": {
        "id": "2a67c68b-7677-4d5c-aec7-661fd71e8f60"
      },
      "source": [
        "---"
      ]
    },
    {
      "cell_type": "markdown",
      "id": "1a2643ca-6ac8-4d1e-af19-1a9af11b6c82",
      "metadata": {
        "editable": true,
        "tags": [],
        "id": "1a2643ca-6ac8-4d1e-af19-1a9af11b6c82"
      },
      "source": [
        "## Attribution"
      ]
    },
    {
      "cell_type": "markdown",
      "id": "14302bf7-0344-43ad-a975-0dc28dad4c3d",
      "metadata": {
        "id": "14302bf7-0344-43ad-a975-0dc28dad4c3d"
      },
      "source": [
        "This content is licensed under the <a href=\"https://creativecommons.org/licenses/by-nc-sa/4.0/\">Creative Commons Attribution-NonCommercial-ShareAlike 4.0 International License (CC BY-NC-SA 4.0)</a> and derived from the <a href=\"https://www.data8.org/\">Data 8: The Foundations of Data Science</a> offered by the University of California, Berkeley.\n",
        "\n",
        "<img src=\"./by-nc-sa.png\" width=100px>"
      ]
    }
  ],
  "metadata": {
    "kernelspec": {
      "display_name": "Python 3 (ipykernel)",
      "language": "python",
      "name": "python3"
    },
    "language_info": {
      "codemirror_mode": {
        "name": "ipython",
        "version": 3
      },
      "file_extension": ".py",
      "mimetype": "text/x-python",
      "name": "python",
      "nbconvert_exporter": "python",
      "pygments_lexer": "ipython3",
      "version": "3.11.9"
    },
    "otter": {
      "OK_FORMAT": true,
      "tests": {}
    },
    "colab": {
      "provenance": [],
      "include_colab_link": true
    }
  },
  "nbformat": 4,
  "nbformat_minor": 5
}