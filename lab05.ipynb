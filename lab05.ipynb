{
  "cells": [
    {
      "cell_type": "markdown",
      "metadata": {
        "id": "view-in-github",
        "colab_type": "text"
      },
      "source": [
        "<a href=\"https://colab.research.google.com/github/veyselberk88/Data-Science-Tools-and-Ecosystem/blob/main/lab05.ipynb\" target=\"_parent\"><img src=\"https://colab.research.google.com/assets/colab-badge.svg\" alt=\"Open In Colab\"/></a>"
      ]
    },
    {
      "cell_type": "code",
      "execution_count": null,
      "metadata": {
        "deletable": false,
        "editable": false,
        "id": "xn6Wgx9mOg7v"
      },
      "outputs": [],
      "source": [
        "# Initialize Otter\n",
        "import otter\n",
        "grader = otter.Notebook(\"lab05.ipynb\")"
      ]
    },
    {
      "cell_type": "markdown",
      "metadata": {
        "id": "CzGyRxk8Og7y"
      },
      "source": [
        "<img src=\"./ccsf.png\" alt=\"CCSF Logo\" width=200px style=\"margin:0px -5px\">"
      ]
    },
    {
      "cell_type": "markdown",
      "metadata": {
        "id": "evrQFm8TOg70"
      },
      "source": [
        "# Lab 05: Data Manipulation"
      ]
    },
    {
      "cell_type": "markdown",
      "metadata": {
        "id": "vFmhfl5ZOg70"
      },
      "source": [
        "## References"
      ]
    },
    {
      "cell_type": "markdown",
      "metadata": {
        "id": "rUI1SnRbOg71"
      },
      "source": [
        "* [Sections 8.2 - 8.5 of the Textbook](https://ccsf-math-108.github.io/textbook/chapters/08/2/Classifying_by_One_Variable.html)\n",
        "* [datascience Documentation](https://datascience.readthedocs.io/)"
      ]
    },
    {
      "cell_type": "markdown",
      "metadata": {
        "id": "IbCuFma9Og71"
      },
      "source": [
        "---"
      ]
    },
    {
      "cell_type": "markdown",
      "metadata": {
        "id": "1r3Y-_ZnOg71"
      },
      "source": [
        "## Lab Assignment Reminders"
      ]
    },
    {
      "cell_type": "markdown",
      "metadata": {
        "id": "LWq7Pg4oOg71"
      },
      "source": [
        "- 🚨 Make sure to run the code cell at the top of this notebook that starts with `# Initialize Otter` to load the auto-grader.\n",
        "- Your tasks are categorized as auto-graded (📍) and manually graded (📍🔎):\n",
        "    - **For all auto-graded tasks:**\n",
        "        - Replace the `...` in the provided code cell with your own code.\n",
        "        - Run the `grader.check` code cell to execute tests on your code.\n",
        "        - There are no hidden auto-grader tests in the lab assignments. This means if you pass the tests, you can assume you've completed the task successfully.\n",
        "    - **For all manually graded tasks:**\n",
        "        - You may need to provide your own response to the provided prompt. Replace the template text \"_Type your answer here, replacing this text._\" with your own words.\n",
        "        - You might need to produce a graphic or another output using code. Replace the `...` in the code cell to generate the image, table, etc.\n",
        "        - In either case, check your response with a classmate, a tutor, or the instructor before moving on.\n",
        "- Throughout this assignment and all future ones, please **do not re-assign variables** throughout the notebook! _For example, if you use `max_temperature` in your answer to one question, do not reassign it later on. Otherwise, you may fail tests that you thought you were passing previously!_\n",
        "- You may [submit](#Submit-Your-Assignment-to-Canvas) this assignment as many times as you want before the deadline. Your instructor will score the last version you submit once the deadline has passed.\n",
        "- **Collaborating on labs is encouraged!** You should rarely remain stuck for more than a few minutes on questions in labs, so ask an instructor or classmate for help. (Explaining things is beneficial, too -- the best way to solidify your knowledge of a subject is to explain it.) However, please don't just share answers."
      ]
    },
    {
      "cell_type": "markdown",
      "metadata": {
        "id": "rRvf5MrJOg72"
      },
      "source": [
        "---"
      ]
    },
    {
      "cell_type": "markdown",
      "metadata": {
        "id": "vOjiAevEOg73"
      },
      "source": [
        "## Configure the Notebook"
      ]
    },
    {
      "cell_type": "markdown",
      "metadata": {
        "id": "Lie6AVSvOg73"
      },
      "source": [
        "Run the following cell to configure this Notebook."
      ]
    },
    {
      "cell_type": "code",
      "execution_count": null,
      "metadata": {
        "id": "eRL7PUaaOg74"
      },
      "outputs": [],
      "source": [
        "from datascience import *\n",
        "import numpy as np\n",
        "%matplotlib inline\n",
        "import matplotlib.pyplot as plt\n",
        "plt.style.use('fivethirtyeight')\n",
        "\n",
        "# Interactive Widgets\n",
        "from ipywidgets import interact, interactive, fixed, interact_manual\n",
        "import ipywidgets as widgets"
      ]
    },
    {
      "cell_type": "markdown",
      "metadata": {
        "id": "HpupGaC4Og74"
      },
      "source": [
        "---"
      ]
    },
    {
      "cell_type": "markdown",
      "metadata": {
        "id": "ar_zQQwKOg74"
      },
      "source": [
        "## Joining Tables"
      ]
    },
    {
      "cell_type": "markdown",
      "metadata": {
        "id": "G1G8YwJXOg75"
      },
      "source": [
        "There are a  variety of reasons why data might be stored across multiple tables, and it might be necessary to combine data from 2 or more sources into one table. Think of joining tables like mixing ingredients to create a delicious recipe! When we use methods like `join` in the `datascience` Python library, we're basically combining different sets of data based on something they have in common, just like adding various ingredients to make a yummy dish. This helps us get a bigger picture of the data and discover exciting insights by bringing together information from different sources, making data analysis a bit like cooking up a data stew!"
      ]
    },
    {
      "cell_type": "markdown",
      "metadata": {
        "id": "KhyO3mbqOg75"
      },
      "source": [
        "For example, you might have customer data in two different tables:\n",
        "\n",
        "* A table called `customers` containing contact information.\n",
        "* A table called `purchase_history` containing information on the customer's latest purchases.\n",
        "\n",
        "Run the following code cell to create examples of such tables."
      ]
    },
    {
      "cell_type": "code",
      "execution_count": null,
      "metadata": {
        "id": "7Yu67Sb8Og76",
        "outputId": "ff3f3665-6f8b-4d18-9cc7-87365c38a627"
      },
      "outputs": [
        {
          "data": {
            "text/html": [
              "<table border=\"1\" class=\"dataframe\">\n",
              "    <thead>\n",
              "        <tr>\n",
              "            <th>Name</th> <th>Email</th> <th>Customer ID</th>\n",
              "        </tr>\n",
              "    </thead>\n",
              "    <tbody>\n",
              "        <tr>\n",
              "            <td>Alice Johnson</td> <td>alice@example.com   </td> <td>1          </td>\n",
              "        </tr>\n",
              "        <tr>\n",
              "            <td>Mohammed Khan</td> <td>mohammed@example.com</td> <td>2          </td>\n",
              "        </tr>\n",
              "        <tr>\n",
              "            <td>Maria García </td> <td>maria@example.com   </td> <td>3          </td>\n",
              "        </tr>\n",
              "        <tr>\n",
              "            <td>Ling Chen    </td> <td>ling@example.com    </td> <td>4          </td>\n",
              "        </tr>\n",
              "    </tbody>\n",
              "</table>"
            ],
            "text/plain": [
              "Name          | Email                | Customer ID\n",
              "Alice Johnson | alice@example.com    | 1\n",
              "Mohammed Khan | mohammed@example.com | 2\n",
              "Maria García  | maria@example.com    | 3\n",
              "Ling Chen     | ling@example.com     | 4"
            ]
          },
          "metadata": {},
          "output_type": "display_data"
        },
        {
          "data": {
            "text/html": [
              "<table border=\"1\" class=\"dataframe\">\n",
              "    <thead>\n",
              "        <tr>\n",
              "            <th>Customer Number</th> <th>Product</th> <th>Ad</th> <th>Amount ($)</th>\n",
              "        </tr>\n",
              "    </thead>\n",
              "    <tbody>\n",
              "        <tr>\n",
              "            <td>1              </td> <td>Widget     </td> <td>Yes </td> <td>10        </td>\n",
              "        </tr>\n",
              "        <tr>\n",
              "            <td>3              </td> <td>Gadget     </td> <td>No  </td> <td>15        </td>\n",
              "        </tr>\n",
              "        <tr>\n",
              "            <td>4              </td> <td>Doodad     </td> <td>No  </td> <td>8         </td>\n",
              "        </tr>\n",
              "        <tr>\n",
              "            <td>5              </td> <td>Thingamajig</td> <td>Yes </td> <td>12        </td>\n",
              "        </tr>\n",
              "        <tr>\n",
              "            <td>1              </td> <td>Gadget     </td> <td>Yes </td> <td>15        </td>\n",
              "        </tr>\n",
              "        <tr>\n",
              "            <td>4              </td> <td>Widget     </td> <td>Yes </td> <td>10        </td>\n",
              "        </tr>\n",
              "        <tr>\n",
              "            <td>4              </td> <td>Doodad     </td> <td>Yes </td> <td>8         </td>\n",
              "        </tr>\n",
              "    </tbody>\n",
              "</table>"
            ],
            "text/plain": [
              "Customer Number | Product     | Ad   | Amount ($)\n",
              "1               | Widget      | Yes  | 10\n",
              "3               | Gadget      | No   | 15\n",
              "4               | Doodad      | No   | 8\n",
              "5               | Thingamajig | Yes  | 12\n",
              "1               | Gadget      | Yes  | 15\n",
              "4               | Widget      | Yes  | 10\n",
              "4               | Doodad      | Yes  | 8"
            ]
          },
          "metadata": {},
          "output_type": "display_data"
        }
      ],
      "source": [
        "customers = Table().with_columns(\n",
        "    'Name', ['Alice Johnson', 'Mohammed Khan', 'Maria García', 'Ling Chen'],\n",
        "    'Email', ['alice@example.com', 'mohammed@example.com', 'maria@example.com', 'ling@example.com'],\n",
        "    'Customer ID', [1, 2, 3, 4]\n",
        ")\n",
        "\n",
        "purchase_history = Table().with_columns(\n",
        "    'Customer Number', [1, 3, 4, 5, 1, 4, 4],\n",
        "    'Product', ['Widget', 'Gadget', 'Doodad', 'Thingamajig', 'Gadget', 'Widget', 'Doodad'],\n",
        "    'Ad', ['Yes', 'No', 'No', 'Yes', 'Yes', 'Yes', 'Yes'],\n",
        "    'Amount ($)', [10, 15, 8, 12, 15, 10, 8]\n",
        ")\n",
        "\n",
        "display(customers)\n",
        "display(purchase_history)"
      ]
    },
    {
      "cell_type": "markdown",
      "metadata": {
        "id": "FI49Xr41Og78"
      },
      "source": [
        "You might want to put all this information in one table to more easily analyze the data or follow up with a customer about one of their purchases. The key to joining data is that there must be a clearly defined relation between the two tables. In this case, the link between the tables is the customer identification number. Customer 1, Alice Johnson (alice@example.com) has purchased a Widget for 10 dollars and a Gadget for 15 dollars. Both purchases were made through an advertisement link."
      ]
    },
    {
      "cell_type": "markdown",
      "metadata": {
        "id": "5IbmDfcaOg78"
      },
      "source": [
        "To use the join method from the `datascience` library, you'll typically have two tables, let's call them `tbl1` and `tbl2`, and you want to combine them based on a common key. Let's say that the key values are located in `'Column 1'` for `tbl1` and `'Column 2'` for `tbl2`.\n",
        "\n",
        "You could use `tbl1.join('Column 1', tbl2, 'Column 2')` to join these tables together, aligning rows with matching key values in `'Column 1'` and `'Column 2'` into a single table where the focus is placed on the column of `tbl1`.\n",
        "If you used `tbl2.join('Column 2', tb1, 'Column 1')`, you would also create a joined table, but the output would likely be different as the table would be created from the perspective of the column in `tbl2`."
      ]
    },
    {
      "cell_type": "markdown",
      "metadata": {
        "id": "wWS2CxiYOg78"
      },
      "source": [
        "---"
      ]
    },
    {
      "cell_type": "markdown",
      "metadata": {
        "tags": [],
        "id": "eol5jlYDOg78"
      },
      "source": [
        "### Task 01 📍"
      ]
    },
    {
      "cell_type": "markdown",
      "metadata": {
        "deletable": false,
        "editable": false,
        "id": "cj0tL61eOg79"
      },
      "source": [
        "Complete the following code to join the data in the `purchase_history` table with the data in the `customers` table. The resulting table should have 6 rows and the 6 columns `'Customer ID', 'Name', 'Email', 'Product', 'Ad', 'Amount ($)'`."
      ]
    },
    {
      "cell_type": "code",
      "execution_count": null,
      "metadata": {
        "tags": [],
        "id": "Um8XIuoPOg79",
        "outputId": "638cb646-86f8-4693-b971-b112b0e37464"
      },
      "outputs": [
        {
          "data": {
            "text/html": [
              "<table border=\"1\" class=\"dataframe\">\n",
              "    <thead>\n",
              "        <tr>\n",
              "            <th>Customer ID</th> <th>Name</th> <th>Email</th> <th>Product</th> <th>Ad</th> <th>Amount ($)</th>\n",
              "        </tr>\n",
              "    </thead>\n",
              "    <tbody>\n",
              "        <tr>\n",
              "            <td>1          </td> <td>Alice Johnson</td> <td>alice@example.com</td> <td>Widget </td> <td>Yes </td> <td>10        </td>\n",
              "        </tr>\n",
              "        <tr>\n",
              "            <td>1          </td> <td>Alice Johnson</td> <td>alice@example.com</td> <td>Gadget </td> <td>Yes </td> <td>15        </td>\n",
              "        </tr>\n",
              "        <tr>\n",
              "            <td>3          </td> <td>Maria García </td> <td>maria@example.com</td> <td>Gadget </td> <td>No  </td> <td>15        </td>\n",
              "        </tr>\n",
              "        <tr>\n",
              "            <td>4          </td> <td>Ling Chen    </td> <td>ling@example.com </td> <td>Doodad </td> <td>No  </td> <td>8         </td>\n",
              "        </tr>\n",
              "        <tr>\n",
              "            <td>4          </td> <td>Ling Chen    </td> <td>ling@example.com </td> <td>Widget </td> <td>Yes </td> <td>10        </td>\n",
              "        </tr>\n",
              "        <tr>\n",
              "            <td>4          </td> <td>Ling Chen    </td> <td>ling@example.com </td> <td>Doodad </td> <td>Yes </td> <td>8         </td>\n",
              "        </tr>\n",
              "    </tbody>\n",
              "</table>"
            ],
            "text/plain": [
              "Customer ID | Name          | Email             | Product | Ad   | Amount ($)\n",
              "1           | Alice Johnson | alice@example.com | Widget  | Yes  | 10\n",
              "1           | Alice Johnson | alice@example.com | Gadget  | Yes  | 15\n",
              "3           | Maria García  | maria@example.com | Gadget  | No   | 15\n",
              "4           | Ling Chen     | ling@example.com  | Doodad  | No   | 8\n",
              "4           | Ling Chen     | ling@example.com  | Widget  | Yes  | 10\n",
              "4           | Ling Chen     | ling@example.com  | Doodad  | Yes  | 8"
            ]
          },
          "execution_count": 5,
          "metadata": {},
          "output_type": "execute_result"
        }
      ],
      "source": [
        "customer_data = customers.join('Customer ID',purchase_history,'Customer Number')\n",
        "customer_data"
      ]
    },
    {
      "cell_type": "code",
      "execution_count": null,
      "metadata": {
        "deletable": false,
        "editable": false,
        "id": "7Oi5ujViOg79",
        "outputId": "933c74e1-4376-477d-a8c9-5c1a32a6fe0b"
      },
      "outputs": [
        {
          "data": {
            "text/html": [
              "<p><strong><pre style='display: inline;'>task_01</pre></strong> passed! ✨</p><p><strong><pre style='display: inline;'>task_01 - 1</pre> message:</strong> ✅ customer_data is a Table.</p><p><strong><pre style='display: inline;'>task_01 - 2</pre> message:</strong> ✅ customer_data has the correct labels.</p><p><strong><pre style='display: inline;'>task_01 - 3</pre> message:</strong> ✅ customer_data seems correct!</p>"
            ],
            "text/plain": [
              "task_01 results: All test cases passed!\n",
              "task_01 - 1 message: ✅ customer_data is a Table.\n",
              "task_01 - 2 message: ✅ customer_data has the correct labels.\n",
              "task_01 - 3 message: ✅ customer_data seems correct!"
            ]
          },
          "execution_count": 6,
          "metadata": {},
          "output_type": "execute_result"
        }
      ],
      "source": [
        "grader.check(\"task_01\")"
      ]
    },
    {
      "cell_type": "markdown",
      "metadata": {
        "id": "J9Ot4oewOg7-"
      },
      "source": [
        "---"
      ]
    },
    {
      "cell_type": "markdown",
      "metadata": {
        "id": "-JO3UyBCOg7-"
      },
      "source": [
        "There are a few things to notice about how this `join` method worked.\n",
        "* Since you started with `customers`, it kept all the column labels of the `customers` table.\n",
        "* The `'Customer ID'` column was brought to the front of the table.\n",
        "* The columns in `purchase_history` that were not used to join the data (`'Product'`, `'Ad'`, and `'Amount ($)'`) were added to the end of the table.\n",
        "* The label `'Customer Number'` doesn't appear in the resulting table.\n",
        "* There is no customer contact data for customer number 5 so that information is missing from the joined table.\n",
        "* Customer with ID 2 does not have any purchase history so that information is missing from the joined table."
      ]
    },
    {
      "cell_type": "markdown",
      "metadata": {
        "id": "f-LnJZC6Og7-"
      },
      "source": [
        "---"
      ]
    },
    {
      "cell_type": "markdown",
      "metadata": {
        "id": "a0pmjAb4Og7-"
      },
      "source": [
        "## Aggregation"
      ]
    },
    {
      "cell_type": "markdown",
      "metadata": {
        "id": "dpl3OVpUOg7-"
      },
      "source": [
        "Aggregation refers to the process of summarizing and condensing large datasets into more manageable and meaningful insights. You've seen this in action through using functions like `np.average` and `np.sum`. In the context of the `datascience` library, more advanced aggregation can be achieved using table methods like `group` and `pivot`.\n",
        "\n",
        "* The `group` method allows you to group data by specific criteria, such as categories or attributes, and then apply aggregation functions (e.g., `sum`, `mean`, etc.) to calculate summary statistics within each group.\n",
        "* Pivot tables with the `pivot` method, on the other hand, enable you to restructure data to create a compact summary table, making it easier to analyze relationships between variables.\n",
        "\n",
        "These methods are essential for extracting valuable information and patterns from complex datasets."
      ]
    },
    {
      "cell_type": "markdown",
      "metadata": {
        "id": "wKjz3gQkOg7_"
      },
      "source": [
        "---"
      ]
    },
    {
      "cell_type": "markdown",
      "metadata": {
        "id": "yPYBg1BsOg7_"
      },
      "source": [
        "### Group"
      ]
    },
    {
      "cell_type": "markdown",
      "metadata": {
        "id": "O2PV_l7XOg7_"
      },
      "source": [
        "The `group` table method has the general format `tbl.group(column_or_label, collect)`. You've worked with the group method without providing a function name for `collect`. The `collect` argument gives you a place to specify a function that you want to apply to all the values associated with the grouped labels.  \n",
        "\n",
        "By default, the `group` method counts up the number of rows in the table associated with the grouped values for the specified column. If you wanted to do something else besides counting the number of rows, then you'd provide a function name for `collect`. For example, `tbl.group('Column Label', np.min)` would apply the minimum function to all the grouped data based on the category values in the column `'Column Label'`.\n",
        "\n",
        "Run the following code to see how this works when we apply `np.min` to the grouped data from the previous task based on `'Name'` values."
      ]
    },
    {
      "cell_type": "code",
      "execution_count": null,
      "metadata": {
        "id": "TaRRk4-ROg8A",
        "outputId": "7dda81ed-691e-4ab5-f58f-c890f341e28d"
      },
      "outputs": [
        {
          "data": {
            "text/html": [
              "<table border=\"1\" class=\"dataframe\">\n",
              "    <thead>\n",
              "        <tr>\n",
              "            <th>Name</th> <th>Customer ID min</th> <th>Email min</th> <th>Product min</th> <th>Ad min</th> <th>Amount ($) min</th>\n",
              "        </tr>\n",
              "    </thead>\n",
              "    <tbody>\n",
              "        <tr>\n",
              "            <td>Alice Johnson</td> <td>1              </td> <td>         </td> <td>           </td> <td>      </td> <td>10            </td>\n",
              "        </tr>\n",
              "        <tr>\n",
              "            <td>Ling Chen    </td> <td>4              </td> <td>         </td> <td>           </td> <td>      </td> <td>8             </td>\n",
              "        </tr>\n",
              "        <tr>\n",
              "            <td>Maria García </td> <td>3              </td> <td>         </td> <td>           </td> <td>      </td> <td>15            </td>\n",
              "        </tr>\n",
              "    </tbody>\n",
              "</table>"
            ],
            "text/plain": [
              "Name          | Customer ID min | Email min | Product min | Ad min | Amount ($) min\n",
              "Alice Johnson | 1               |           |             |        | 10\n",
              "Ling Chen     | 4               |           |             |        | 8\n",
              "Maria García  | 3               |           |             |        | 15"
            ]
          },
          "execution_count": 7,
          "metadata": {},
          "output_type": "execute_result"
        }
      ],
      "source": [
        "customer_data.group('Name', np.min)"
      ]
    },
    {
      "cell_type": "markdown",
      "metadata": {
        "id": "4atCgJy7Og8A"
      },
      "source": [
        "It is important to know a few things about how using `group` with a collect function works.\n",
        "* The `np.min` function attempted to apply to every column of the table other than `'Name'`. In this case, if the column contains numerical values, it will return the minimum of the grouped values for each row. If the column doesn't contain numerical values, then it will return an empty value (The empty string `''` for example).\n",
        "* The columns of the resulting table will be `'Name'` and a column for each of the other columns in `customer_data` with the function name `min` added to the end of the label.\n",
        "\n",
        "You can reduce the number of columns using `select` or `drop` before you use the group method to get a more presentable table."
      ]
    },
    {
      "cell_type": "markdown",
      "metadata": {
        "id": "xRc02CWfOg8B"
      },
      "source": [
        "---"
      ]
    },
    {
      "cell_type": "markdown",
      "metadata": {
        "tags": [],
        "id": "92c7ScEhOg8B"
      },
      "source": [
        "### Task 02 📍"
      ]
    },
    {
      "cell_type": "markdown",
      "metadata": {
        "deletable": false,
        "editable": false,
        "id": "tjJj2NRjOg8B"
      },
      "source": [
        "Using the `customer_data` table, create a table called `customer_averages` that shows the name and average purchase amount for each customer in the `customer_data` table. Your resulting table should have 3 rows and 2 columns. The column labels should be `'Name'` and `'Amount ($) average'`."
      ]
    },
    {
      "cell_type": "code",
      "execution_count": null,
      "metadata": {
        "tags": [],
        "id": "XeINbebNOg8B",
        "outputId": "435b5814-6721-46f1-96b5-66f96fff9239"
      },
      "outputs": [
        {
          "data": {
            "text/html": [
              "<table border=\"1\" class=\"dataframe\">\n",
              "    <thead>\n",
              "        <tr>\n",
              "            <th>Name</th> <th>Amount ($) average</th>\n",
              "        </tr>\n",
              "    </thead>\n",
              "    <tbody>\n",
              "        <tr>\n",
              "            <td>Alice Johnson</td> <td>12.5              </td>\n",
              "        </tr>\n",
              "        <tr>\n",
              "            <td>Ling Chen    </td> <td>8.66667           </td>\n",
              "        </tr>\n",
              "        <tr>\n",
              "            <td>Maria García </td> <td>15                </td>\n",
              "        </tr>\n",
              "    </tbody>\n",
              "</table>"
            ],
            "text/plain": [
              "Name          | Amount ($) average\n",
              "Alice Johnson | 12.5\n",
              "Ling Chen     | 8.66667\n",
              "Maria García  | 15"
            ]
          },
          "execution_count": 8,
          "metadata": {},
          "output_type": "execute_result"
        }
      ],
      "source": [
        "customer_averages = customer_data.group('Name',np.average)\n",
        "customer_averages =customer_averages.select('Name', 'Amount ($) average')\n",
        "\n",
        "customer_averages"
      ]
    },
    {
      "cell_type": "code",
      "execution_count": null,
      "metadata": {
        "deletable": false,
        "editable": false,
        "id": "fV5sFAp2Og8C",
        "outputId": "11fced67-38a8-4ef1-e64e-52619f40ba8f"
      },
      "outputs": [
        {
          "data": {
            "text/html": [
              "<p><strong><pre style='display: inline;'>task_02</pre></strong> passed! ✨</p><p><strong><pre style='display: inline;'>task_02 - 1</pre> message:</strong> ✅ customer_averages is a Table</p><p><strong><pre style='display: inline;'>task_02 - 2</pre> message:</strong> ✅ customer_averages has the correct number of rows.</p><p><strong><pre style='display: inline;'>task_02 - 3</pre> message:</strong> ✅ customer_averages has the correct number of columns</p><p><strong><pre style='display: inline;'>task_02 - 4</pre> message:</strong> ✅ customer_averages seems correct.</p>"
            ],
            "text/plain": [
              "task_02 results: All test cases passed!\n",
              "task_02 - 1 message: ✅ customer_averages is a Table\n",
              "task_02 - 2 message: ✅ customer_averages has the correct number of rows.\n",
              "task_02 - 3 message: ✅ customer_averages has the correct number of columns\n",
              "task_02 - 4 message: ✅ customer_averages seems correct."
            ]
          },
          "execution_count": 9,
          "metadata": {},
          "output_type": "execute_result"
        }
      ],
      "source": [
        "grader.check(\"task_02\")"
      ]
    },
    {
      "cell_type": "markdown",
      "metadata": {
        "id": "IjL0an0rOg8O"
      },
      "source": [
        "---"
      ]
    },
    {
      "cell_type": "markdown",
      "metadata": {
        "id": "ICsIS6Z-Og8O"
      },
      "source": [
        "Now that you have the purchase amount averages by customer, you might want to take this a step further by doing the same and considering whether or not the purchases were made using advertisements.\n",
        "\n",
        "You can group by more than one column using the `group` method by providing a list of column labels or indexes for the first argument of `group`. The format is `tbl.group(['Label 1', 'Label 2'], collect)`. This creates a table with a row for each unique grouping of values from both columns and calculates the averages for the grouped data (if `average` were in the collect argument)."
      ]
    },
    {
      "cell_type": "markdown",
      "metadata": {
        "id": "7XkyduLQOg8O"
      },
      "source": [
        "---"
      ]
    },
    {
      "cell_type": "markdown",
      "metadata": {
        "tags": [],
        "id": "K2nBkEBEOg8O"
      },
      "source": [
        "### Task 03 📍"
      ]
    },
    {
      "cell_type": "markdown",
      "metadata": {
        "deletable": false,
        "editable": false,
        "id": "UdNxyrFwOg8P"
      },
      "source": [
        "Using the `customer_data` table, create a 4-row and 3-column table called `customer_ad_averages` that contains a row for each combination of customer name and ad (Yes/No) pairing along with the average purchase amount. The labels should be `'Name', 'Ad', and 'Amount ($) average'`.\n",
        "\n",
        "**Tip**: Don't forget that you will probably want to reduce the `customer_data` table to the relevant columns first."
      ]
    },
    {
      "cell_type": "code",
      "execution_count": null,
      "metadata": {
        "tags": [],
        "id": "qd5pALQ4Og8P",
        "outputId": "a4f2e563-a854-4a71-92e5-afaf72764129"
      },
      "outputs": [
        {
          "data": {
            "text/html": [
              "<table border=\"1\" class=\"dataframe\">\n",
              "    <thead>\n",
              "        <tr>\n",
              "            <th>Name</th> <th>Ad</th> <th>Amount ($) average</th>\n",
              "        </tr>\n",
              "    </thead>\n",
              "    <tbody>\n",
              "        <tr>\n",
              "            <td>Alice Johnson</td> <td>Yes </td> <td>12.5              </td>\n",
              "        </tr>\n",
              "        <tr>\n",
              "            <td>Ling Chen    </td> <td>No  </td> <td>8                 </td>\n",
              "        </tr>\n",
              "        <tr>\n",
              "            <td>Ling Chen    </td> <td>Yes </td> <td>9                 </td>\n",
              "        </tr>\n",
              "        <tr>\n",
              "            <td>Maria García </td> <td>No  </td> <td>15                </td>\n",
              "        </tr>\n",
              "    </tbody>\n",
              "</table>"
            ],
            "text/plain": [
              "Name          | Ad   | Amount ($) average\n",
              "Alice Johnson | Yes  | 12.5\n",
              "Ling Chen     | No   | 8\n",
              "Ling Chen     | Yes  | 9\n",
              "Maria García  | No   | 15"
            ]
          },
          "execution_count": 10,
          "metadata": {},
          "output_type": "execute_result"
        }
      ],
      "source": [
        "customer_ad_averages = customer_data.group(['Name', 'Ad'],np.average)\n",
        "customer_ad_averages =customer_ad_averages.select('Name', 'Ad', 'Amount ($) average')\n",
        "customer_ad_averages"
      ]
    },
    {
      "cell_type": "code",
      "execution_count": null,
      "metadata": {
        "deletable": false,
        "editable": false,
        "id": "6ECWxNKbOg8P",
        "outputId": "d6721697-fa1f-42ac-83a7-404788f68435"
      },
      "outputs": [
        {
          "data": {
            "text/html": [
              "<p><strong><pre style='display: inline;'>task_03</pre></strong> passed! ✨</p><p><strong><pre style='display: inline;'>task_03 - 1</pre> message:</strong> ✅ customer_ad_averages is a Table.</p><p><strong><pre style='display: inline;'>task_03 - 2</pre> message:</strong> ✅ customer_ad_averages has the correct number of rows.</p><p><strong><pre style='display: inline;'>task_03 - 3</pre> message:</strong> ✅ customer_ad_averages has the correct column labels.</p><p><strong><pre style='display: inline;'>task_03 - 4</pre> message:</strong> ✅ customer_ad_averages seems correct.</p>"
            ],
            "text/plain": [
              "task_03 results: All test cases passed!\n",
              "task_03 - 1 message: ✅ customer_ad_averages is a Table.\n",
              "task_03 - 2 message: ✅ customer_ad_averages has the correct number of rows.\n",
              "task_03 - 3 message: ✅ customer_ad_averages has the correct column labels.\n",
              "task_03 - 4 message: ✅ customer_ad_averages seems correct."
            ]
          },
          "execution_count": 11,
          "metadata": {},
          "output_type": "execute_result"
        }
      ],
      "source": [
        "grader.check(\"task_03\")"
      ]
    },
    {
      "cell_type": "markdown",
      "metadata": {
        "id": "MObeCnLeOg8Q"
      },
      "source": [
        "You should see that customer Ling Chen spends about 1 dollar more on average for purchases made through advertisements compared to purchases not made through advertisements. This is a small example of the more detailed analysis you can provide when aggregating your data across multiple categories."
      ]
    },
    {
      "cell_type": "markdown",
      "metadata": {
        "id": "RChulkbJOg8Q"
      },
      "source": [
        "---"
      ]
    },
    {
      "cell_type": "markdown",
      "metadata": {
        "id": "N1y0puoEOg8Q"
      },
      "source": [
        "### Pivot"
      ]
    },
    {
      "cell_type": "markdown",
      "metadata": {
        "id": "SyfmtGYVOg8R"
      },
      "source": [
        "A pivot table provides the same information you get from grouping by two columns, but the format is slightly different.\n",
        "\n",
        "Here are a few examples where using pivot over group can be advantageous:\n",
        "\n",
        "* Pivot tables are excellent for creating summary tables. If your goal is to create a structured summary table with row and column headers that represent specific categories, pivot is often more straightforward to use.\n",
        "* If your primary goal is to visualize data, pivot tables can be more useful. The resulting grid structure from a pivot table can be directly used in data visualization tools or libraries for creating bar charts or other visual representations of your data.\n",
        "* Pivot tables in the `datascience` library handle missing values differently compared with `group`. When using `pivot`, a placeholder of some kind is provided for missing combinations of values. On the other hand, `group` will leave out any missing combinations of values from the table.\n",
        "\n",
        "The first two arguments of `pivot` are important.\n",
        "* The first argument specifies the column where the pivot table column values will come from.\n",
        "* The second argument will specify the column where the pivot table row values in the first column come from.\n",
        "\n",
        "By default, the values inside the table come from the counts of how often the pair of column and row values occur in the data set."
      ]
    },
    {
      "cell_type": "markdown",
      "metadata": {
        "id": "SoEK0ljgOg8R"
      },
      "source": [
        "For example, run the following cell  to see the pivot table showing the number of purchases made by each customer through an advertisement or not. Notice that the `'Ad'` values appear as column labels."
      ]
    },
    {
      "cell_type": "code",
      "execution_count": null,
      "metadata": {
        "id": "WerG76cIOg8R",
        "outputId": "093e908a-f58b-41db-ef59-29f15e123fc4"
      },
      "outputs": [
        {
          "data": {
            "text/html": [
              "<table border=\"1\" class=\"dataframe\">\n",
              "    <thead>\n",
              "        <tr>\n",
              "            <th>Name</th> <th>No</th> <th>Yes</th>\n",
              "        </tr>\n",
              "    </thead>\n",
              "    <tbody>\n",
              "        <tr>\n",
              "            <td>Alice Johnson</td> <td>0   </td> <td>2   </td>\n",
              "        </tr>\n",
              "        <tr>\n",
              "            <td>Ling Chen    </td> <td>1   </td> <td>2   </td>\n",
              "        </tr>\n",
              "        <tr>\n",
              "            <td>Maria García </td> <td>1   </td> <td>0   </td>\n",
              "        </tr>\n",
              "    </tbody>\n",
              "</table>"
            ],
            "text/plain": [
              "Name          | No   | Yes\n",
              "Alice Johnson | 0    | 2\n",
              "Ling Chen     | 1    | 2\n",
              "Maria García  | 1    | 0"
            ]
          },
          "execution_count": 12,
          "metadata": {},
          "output_type": "execute_result"
        }
      ],
      "source": [
        "customer_data.pivot('Ad', 'Name')"
      ]
    },
    {
      "cell_type": "markdown",
      "metadata": {
        "id": "oiFmfkraOg8S"
      },
      "source": [
        "You can go further by specifying a third and fourth argument: `values` and `collect`. `values` identifies the column in the table to which the `collect` function will be applied in order to create the values inside the pivot table."
      ]
    },
    {
      "cell_type": "markdown",
      "metadata": {
        "id": "GadfDib9Og8S"
      },
      "source": [
        "---"
      ]
    },
    {
      "cell_type": "markdown",
      "metadata": {
        "tags": [],
        "id": "M3IV3A3HOg8T"
      },
      "source": [
        "### Task 04 📍"
      ]
    },
    {
      "cell_type": "markdown",
      "metadata": {
        "deletable": false,
        "editable": false,
        "id": "pOQOIdxUOg8U"
      },
      "source": [
        "Using the `customer_data` table, create a pivot table `ad_name_pivot` that has a row for each customer name, a column for the `'Yes'` and `'No'` `'Ad'` values, and the average purchase amount for each pairing of customers and purchases made through advertisements or not. You won't need to reduce the `customer_data` table like you needed to do in previous tasks. This is another benefit of the `pivot` method!\n",
        "\n",
        "**Hint**: Use `'Amount ($)'` for the values and `'np.average'` for the collect function."
      ]
    },
    {
      "cell_type": "code",
      "execution_count": null,
      "metadata": {
        "tags": [],
        "id": "VNbF8OtjOg8V",
        "outputId": "5db7c7f2-69d7-4da3-d301-7a423d132416"
      },
      "outputs": [
        {
          "data": {
            "text/html": [
              "<table border=\"1\" class=\"dataframe\">\n",
              "    <thead>\n",
              "        <tr>\n",
              "            <th>Name</th> <th>No</th> <th>Yes</th>\n",
              "        </tr>\n",
              "    </thead>\n",
              "    <tbody>\n",
              "        <tr>\n",
              "            <td>Alice Johnson</td> <td>0   </td> <td>12.5</td>\n",
              "        </tr>\n",
              "        <tr>\n",
              "            <td>Ling Chen    </td> <td>8   </td> <td>9   </td>\n",
              "        </tr>\n",
              "        <tr>\n",
              "            <td>Maria García </td> <td>15  </td> <td>0   </td>\n",
              "        </tr>\n",
              "    </tbody>\n",
              "</table>"
            ],
            "text/plain": [
              "Name          | No   | Yes\n",
              "Alice Johnson | 0    | 12.5\n",
              "Ling Chen     | 8    | 9\n",
              "Maria García  | 15   | 0"
            ]
          },
          "execution_count": 13,
          "metadata": {},
          "output_type": "execute_result"
        }
      ],
      "source": [
        "ad_name_pivot =customer_data.pivot('Ad', 'Name',values='Amount ($)',collect=np.average)\n",
        "ad_name_pivot"
      ]
    },
    {
      "cell_type": "code",
      "execution_count": null,
      "metadata": {
        "deletable": false,
        "editable": false,
        "id": "2OKz3UzCOg8V",
        "outputId": "1dc4b5f2-0da5-4f8d-c0a0-fe7578c015a0"
      },
      "outputs": [
        {
          "data": {
            "text/html": [
              "<p><strong><pre style='display: inline;'>task_04</pre></strong> passed! 🚀</p><p><strong><pre style='display: inline;'>task_04 - 1</pre> message:</strong> ✅ ad_name_pivot is a Table.</p><p><strong><pre style='display: inline;'>task_04 - 2</pre> message:</strong> ✅ ad_name_pivot has the right column labels</p><p><strong><pre style='display: inline;'>task_04 - 3</pre> message:</strong> ✅ ad_name_pivot has the correct values in the first column to represent the customer names.</p><p><strong><pre style='display: inline;'>task_04 - 4</pre> message:</strong> ✅ ad_name_pivot seems correct.</p>"
            ],
            "text/plain": [
              "task_04 results: All test cases passed!\n",
              "task_04 - 1 message: ✅ ad_name_pivot is a Table.\n",
              "task_04 - 2 message: ✅ ad_name_pivot has the right column labels\n",
              "task_04 - 3 message: ✅ ad_name_pivot has the correct values in the first column to represent the customer names.\n",
              "task_04 - 4 message: ✅ ad_name_pivot seems correct."
            ]
          },
          "execution_count": 14,
          "metadata": {},
          "output_type": "execute_result"
        }
      ],
      "source": [
        "grader.check(\"task_04\")"
      ]
    },
    {
      "cell_type": "markdown",
      "metadata": {
        "id": "_DD_emd7Og8W"
      },
      "source": [
        "As you can see there are a lot of ways to organize and summarize data in a table. You'll gain a lot of experience with using the tools in this lab throughout the semester."
      ]
    },
    {
      "cell_type": "markdown",
      "metadata": {
        "id": "NFonExJOOg8W"
      },
      "source": [
        "---"
      ]
    },
    {
      "cell_type": "markdown",
      "metadata": {
        "id": "L7w33fz_Og8W"
      },
      "source": [
        "## Nachos and Conditionals"
      ]
    },
    {
      "cell_type": "markdown",
      "metadata": {
        "id": "Hzz3QG22Og8X"
      },
      "source": [
        "In Python, the boolean data type contains only two unique values:  `True` and `False`. Expressions containing comparison operators such as `<` (less than), `>` (greater than), and `==` (equal to) evaluate to Boolean values. A list of common comparison operators can be found below!\n",
        "\n",
        "| Comparison            | Operator | True example | False example |\n",
        "|-----------------------|----------|--------------|---------------|\n",
        "| Less than             | <        | 2 < 3        | 2 < 2         |\n",
        "| Great than            | >        | 3 > 2        | 3 > 3         |\n",
        "| Less than or equal    | <=       | 2 <= 2       | 3 <= 2        |\n",
        "| Greater than or equal | >=       | 3 >= 3       | 2 >= 3        |\n",
        "| Equal                 | ==       | 3 == 3       | 3 == 2        |\n",
        "| Not equal             | !=       | 3 != 2       | 2 != 2        |"
      ]
    },
    {
      "cell_type": "markdown",
      "metadata": {
        "id": "ApVnMGGGOg8X"
      },
      "source": [
        "Run the cell below to see an example of a comparison operator in action."
      ]
    },
    {
      "cell_type": "code",
      "execution_count": null,
      "metadata": {
        "id": "xG8Un4gFOg8X",
        "outputId": "4ee879d1-9723-4562-e7c5-440421cd5eb1"
      },
      "outputs": [
        {
          "data": {
            "text/plain": [
              "True"
            ]
          },
          "execution_count": 15,
          "metadata": {},
          "output_type": "execute_result"
        }
      ],
      "source": [
        "3 > 1 + 1"
      ]
    },
    {
      "cell_type": "markdown",
      "metadata": {
        "id": "C3-waDRvOg8X"
      },
      "source": [
        "We can even assign the result of a comparison operation to a variable."
      ]
    },
    {
      "cell_type": "code",
      "execution_count": null,
      "metadata": {
        "id": "_MK-DgaDOg8X",
        "outputId": "ebc0699c-83cf-462d-ff22-1891517c6fd9"
      },
      "outputs": [
        {
          "data": {
            "text/plain": [
              "True"
            ]
          },
          "execution_count": 16,
          "metadata": {},
          "output_type": "execute_result"
        }
      ],
      "source": [
        "result = 10 / 2 == 5\n",
        "result"
      ]
    },
    {
      "cell_type": "markdown",
      "metadata": {
        "id": "QxYUxJ0dOg8Y"
      },
      "source": [
        "Arrays are compatible with comparison operators. The output is an array of boolean values."
      ]
    },
    {
      "cell_type": "code",
      "execution_count": null,
      "metadata": {
        "id": "brZcwx40Og8Y",
        "outputId": "14f681d6-e6e1-4a5d-f6b1-a661ba094fd9"
      },
      "outputs": [
        {
          "data": {
            "text/plain": [
              "array([False,  True,  True,  True, False, False], dtype=bool)"
            ]
          },
          "execution_count": 17,
          "metadata": {},
          "output_type": "execute_result"
        }
      ],
      "source": [
        "make_array(1, 5, 7, 8, 3, -1) > 3"
      ]
    },
    {
      "cell_type": "markdown",
      "metadata": {
        "id": "8Zy0KopFOg8Y"
      },
      "source": [
        "One day, when you come home after a long week, you see a hot bowl of nachos waiting on the dining table! Let's say that whenever you take a nacho from the bowl, it will either have only **cheese**, only **salsa**, **both** cheese and salsa, or **neither** cheese nor salsa (a sad tortilla chip indeed).\n",
        "\n",
        "Let's try and simulate taking nachos from the bowl at random using the function, `np.random.choice(...)`."
      ]
    },
    {
      "cell_type": "markdown",
      "metadata": {
        "id": "FxG1VytBOg8Y"
      },
      "source": [
        "---"
      ]
    },
    {
      "cell_type": "markdown",
      "metadata": {
        "id": "x_EgEzXIOg8Z"
      },
      "source": [
        "### `np.random.choice`"
      ]
    },
    {
      "cell_type": "markdown",
      "metadata": {
        "id": "5avC11qFOg8Z"
      },
      "source": [
        "`np.random.choice` picks one item at random from the given array. It is equally likely to pick any of the items. Run the cell below several times, and observe how the results change."
      ]
    },
    {
      "cell_type": "code",
      "execution_count": null,
      "metadata": {
        "id": "y5YLYyDpOg8Z",
        "outputId": "f211721d-8c22-4407-cc0c-ce4bfe901eda"
      },
      "outputs": [
        {
          "data": {
            "text/plain": [
              "'neither'"
            ]
          },
          "execution_count": 18,
          "metadata": {},
          "output_type": "execute_result"
        }
      ],
      "source": [
        "nachos = make_array('cheese', 'salsa', 'both', 'neither')\n",
        "np.random.choice(nachos)"
      ]
    },
    {
      "cell_type": "markdown",
      "metadata": {
        "id": "LpFAAgzAOg8Z"
      },
      "source": [
        "To repeat this process multiple times, pass in an int `n` as the second argument to return `n` different random choices. By default, `np.random.choice` samples **with replacement** and returns an *array* of items.\n",
        "\n",
        "Run the next cell to see an example of sampling with replacement 10 times from the `nachos` array."
      ]
    },
    {
      "cell_type": "code",
      "execution_count": null,
      "metadata": {
        "id": "ALCXCv54Og8a",
        "outputId": "a57227c6-fc9b-4d57-a91a-5663d5dad6b9"
      },
      "outputs": [
        {
          "data": {
            "text/plain": [
              "array(['cheese', 'salsa', 'salsa', 'neither', 'cheese', 'salsa', 'cheese',\n",
              "       'cheese', 'neither', 'both'],\n",
              "      dtype='<U7')"
            ]
          },
          "execution_count": 19,
          "metadata": {},
          "output_type": "execute_result"
        }
      ],
      "source": [
        "np.random.choice(nachos, 10)"
      ]
    },
    {
      "cell_type": "markdown",
      "metadata": {
        "id": "Na1AbdLvOg8a"
      },
      "source": [
        "To count the number of times a certain type of nacho is randomly chosen, we can use `np.count_nonzero`"
      ]
    },
    {
      "cell_type": "markdown",
      "metadata": {
        "id": "SPDL2q5AOg8a"
      },
      "source": [
        "---"
      ]
    },
    {
      "cell_type": "markdown",
      "metadata": {
        "id": "yW_hY5CROg8a"
      },
      "source": [
        "### `np.count_nonzero`"
      ]
    },
    {
      "cell_type": "markdown",
      "metadata": {
        "id": "OGoYXAn6Og8b"
      },
      "source": [
        "`np.count_nonzero` counts the number of non-zero values that appear in an array. When an array of boolean values are passed through the function, it will count the number of `True` values (remember that in Python, `True` is coded as 1 and `False` is coded as 0.)\n",
        "\n",
        "Run the next cell to see an example that uses `np.count_nonzero`."
      ]
    },
    {
      "cell_type": "code",
      "execution_count": null,
      "metadata": {
        "id": "IN2heMyjOg8b",
        "outputId": "b1e3eb84-aa11-4796-d66b-c5fe185baac4"
      },
      "outputs": [
        {
          "data": {
            "text/plain": [
              "3"
            ]
          },
          "execution_count": 20,
          "metadata": {},
          "output_type": "execute_result"
        }
      ],
      "source": [
        "np.count_nonzero(make_array(True, False, False, True, True))"
      ]
    },
    {
      "cell_type": "markdown",
      "metadata": {
        "id": "STtvD6Y3Og8b"
      },
      "source": [
        "---"
      ]
    },
    {
      "cell_type": "markdown",
      "metadata": {
        "id": "Jha5LZcVOg8b"
      },
      "source": [
        "### Task 05 📍"
      ]
    },
    {
      "cell_type": "markdown",
      "metadata": {
        "deletable": false,
        "editable": false,
        "id": "LVaDZhLCOg8c"
      },
      "source": [
        "Assume we took ten nachos at random and stored the results in an array called `ten_nachos` as done below. Find the number of nachos with only cheese using code (do not hardcode the answer).  \n",
        "\n",
        "*Hint:* Our solution involves a comparison operator (e.g. `==`, `<`, ...) and the `np.count_nonzero` method.\n"
      ]
    },
    {
      "cell_type": "code",
      "execution_count": null,
      "metadata": {
        "tags": [],
        "id": "C7RPQ_gmOg8f",
        "outputId": "ba913077-27ff-4dc0-b396-01dfc9c6fae7"
      },
      "outputs": [
        {
          "data": {
            "text/plain": [
              "3"
            ]
          },
          "execution_count": 21,
          "metadata": {},
          "output_type": "execute_result"
        }
      ],
      "source": [
        "ten_nachos = make_array('neither', 'cheese', 'both', 'both', 'cheese', 'salsa', 'both', 'neither', 'cheese', 'both')\n",
        "number_cheese = np.count_nonzero(ten_nachos=='cheese')\n",
        "number_cheese"
      ]
    },
    {
      "cell_type": "code",
      "execution_count": null,
      "metadata": {
        "deletable": false,
        "editable": false,
        "id": "uN5iuP3kOg8g",
        "outputId": "afe7e5b0-9325-439e-8455-4f0023081abf"
      },
      "outputs": [
        {
          "data": {
            "text/html": [
              "<p><strong><pre style='display: inline;'>task_05</pre></strong> passed! 🙌</p><p><strong><pre style='display: inline;'>task_05 - 1</pre> message:</strong> ✅ There are 3 nachos with only cheese.</p>"
            ],
            "text/plain": [
              "task_05 results: All test cases passed!\n",
              "task_05 - 1 message: ✅ There are 3 nachos with only cheese."
            ]
          },
          "execution_count": 22,
          "metadata": {},
          "output_type": "execute_result"
        }
      ],
      "source": [
        "grader.check(\"task_05\")"
      ]
    },
    {
      "cell_type": "markdown",
      "metadata": {
        "id": "MTPxDPJPOg8g"
      },
      "source": [
        "---"
      ]
    },
    {
      "cell_type": "markdown",
      "metadata": {
        "id": "i-yN1bVNOg8i"
      },
      "source": [
        "### Conditional Statements"
      ]
    },
    {
      "cell_type": "markdown",
      "metadata": {
        "id": "tGMc59nOOg8i"
      },
      "source": [
        "A conditional statement is a multi-line statement that allows Python to choose among different alternatives based on the truth value of an expression.\n",
        "\n",
        "Here is a basic example.\n",
        "\n",
        "```\n",
        "def sign(x):\n",
        "    if x > 0:\n",
        "        return 'Positive'\n",
        "    else:\n",
        "        return 'Negative'\n",
        "```\n",
        "\n",
        "If the input `x` is greater than `0`, we return the string `'Positive'`. Otherwise, we return `'Negative'`.\n",
        "\n",
        "If we want to test multiple conditions at once, we use the following general format.\n",
        "\n",
        "```\n",
        "if <if expression>:\n",
        "    <if body>\n",
        "elif <elif expression 0>:\n",
        "    <elif body 0>\n",
        "elif <elif expression 1>:\n",
        "    <elif body 1>\n",
        "...\n",
        "else:\n",
        "    <else body>\n",
        "```\n",
        "\n",
        "Only the body for the first conditional expression that is true will be evaluated. Each `if` and `elif` expression is evaluated and considered in order, starting at the top. As soon as a true value is found, the corresponding body is executed, and the rest of the conditional statement is skipped. If none of the `if` or `elif` expressions are true, then the `else body` is executed.\n",
        "\n",
        "For more examples and explanation, refer to the [section on conditional statements in the course textbook](https://ccsf-math-108.github.io/textbook/chapters/09/1/Conditional_Statements.html)."
      ]
    },
    {
      "cell_type": "markdown",
      "metadata": {
        "id": "tVzNOQC6Og8i"
      },
      "source": [
        "---"
      ]
    },
    {
      "cell_type": "markdown",
      "metadata": {
        "id": "u0I93HWwOg8j"
      },
      "source": [
        "### Task 06 📍"
      ]
    },
    {
      "cell_type": "markdown",
      "metadata": {
        "deletable": false,
        "editable": false,
        "id": "Rw2PnQMKOg8j"
      },
      "source": [
        "Complete the following conditional statement so that the string `'More please'` is assigned to the variable `say_please` if the number of nachos with cheese in `ten_nachos` is less than `5`.\n",
        "\n",
        "*Hint*: You should be using `number_cheese` from a previous task.\n"
      ]
    },
    {
      "cell_type": "code",
      "execution_count": null,
      "metadata": {
        "for_assignment_type": "student",
        "tags": [],
        "id": "u53BjZ3kOg8j",
        "outputId": "20ed1509-6669-45da-bdda-81ec8deb3787"
      },
      "outputs": [
        {
          "data": {
            "text/plain": [
              "'More please'"
            ]
          },
          "execution_count": 23,
          "metadata": {},
          "output_type": "execute_result"
        }
      ],
      "source": [
        "say_please = None\n",
        "\n",
        "if number_cheese<5:\n",
        "    say_please = 'More please'\n",
        "\n",
        "say_please"
      ]
    },
    {
      "cell_type": "code",
      "execution_count": null,
      "metadata": {
        "deletable": false,
        "editable": false,
        "id": "-EPfta3jOg8k",
        "outputId": "d2ce5b3c-b001-4082-b058-5eea934c4263"
      },
      "outputs": [
        {
          "data": {
            "text/html": [
              "<p><strong><pre style='display: inline;'>task_06</pre></strong> passed! 🚀</p><p><strong><pre style='display: inline;'>task_06 - 1</pre> message:</strong> ✅ say_please is assigned to 'More please'.</p>"
            ],
            "text/plain": [
              "task_06 results: All test cases passed!\n",
              "task_06 - 1 message: ✅ say_please is assigned to 'More please'."
            ]
          },
          "execution_count": 24,
          "metadata": {},
          "output_type": "execute_result"
        }
      ],
      "source": [
        "grader.check(\"task_06\")"
      ]
    },
    {
      "cell_type": "markdown",
      "metadata": {
        "id": "rBg0Ef-rOg8k"
      },
      "source": [
        "---"
      ]
    },
    {
      "cell_type": "markdown",
      "metadata": {
        "id": "kTEnVoClOg8k"
      },
      "source": [
        "### Task 07 📍"
      ]
    },
    {
      "cell_type": "markdown",
      "metadata": {
        "deletable": false,
        "editable": false,
        "id": "J5Ca0HKVOg8k"
      },
      "source": [
        "Write a function called `nacho_reaction` that returns a reaction (as a string) based on the type of nacho passed in as an argument. Use the table below to match the nacho type to the appropriate reaction.\n",
        "\n",
        "<img src=\"./nacho_reactions.png\">\n",
        "\n",
        "*Hint:* If you're failing the test, double check the spelling of your reactions.\n"
      ]
    },
    {
      "cell_type": "code",
      "execution_count": null,
      "metadata": {
        "for_assignment_type": "student",
        "tags": [],
        "id": "dKewEVLWOg8l",
        "outputId": "0072f94c-13e2-49a4-b047-3d6f0ed767b7"
      },
      "outputs": [
        {
          "data": {
            "text/plain": [
              "'Spicy!'"
            ]
          },
          "execution_count": 25,
          "metadata": {},
          "output_type": "execute_result"
        }
      ],
      "source": [
        "def nacho_reaction(nacho):\n",
        "    if nacho == \"cheese\":\n",
        "        return \"Cheesy!\"\n",
        "    elif nacho==\"salsa\":\n",
        "        return \"Spicy!\"\n",
        "    elif nacho==\"both\":\n",
        "        return \"Wow!\"\n",
        "    else:\n",
        "        return \"Meh.\"\n",
        "\n",
        "\n",
        "spicy_nacho = nacho_reaction('salsa')\n",
        "spicy_nacho"
      ]
    },
    {
      "cell_type": "code",
      "execution_count": null,
      "metadata": {
        "deletable": false,
        "editable": false,
        "id": "o0goXXB5Og8l",
        "outputId": "2a77b98d-eaa4-4a60-b725-78b6a5e47fb2"
      },
      "outputs": [
        {
          "data": {
            "text/html": [
              "<p><strong><pre style='display: inline;'>task_07</pre></strong> passed! 🌟</p><p><strong><pre style='display: inline;'>task_07 - 1</pre> message:</strong> ✅ nacho_reaction('salsa') should display 'Spicy!'.</p><p><strong><pre style='display: inline;'>task_07 - 2</pre> message:</strong> ✅ nacho_reaction('cheese') should display 'Cheesy!'.</p><p><strong><pre style='display: inline;'>task_07 - 3</pre> message:</strong> ✅ nacho_reaction('both') should display 'Wow!'.</p><p><strong><pre style='display: inline;'>task_07 - 4</pre> message:</strong> ✅ nacho_reaction('neither') should display 'Meh.'.</p>"
            ],
            "text/plain": [
              "task_07 results: All test cases passed!\n",
              "task_07 - 1 message: ✅ nacho_reaction('salsa') should display 'Spicy!'.\n",
              "task_07 - 2 message: ✅ nacho_reaction('cheese') should display 'Cheesy!'.\n",
              "task_07 - 3 message: ✅ nacho_reaction('both') should display 'Wow!'.\n",
              "task_07 - 4 message: ✅ nacho_reaction('neither') should display 'Meh.'."
            ]
          },
          "execution_count": 26,
          "metadata": {},
          "output_type": "execute_result"
        }
      ],
      "source": [
        "grader.check(\"task_07\")"
      ]
    },
    {
      "cell_type": "markdown",
      "metadata": {
        "id": "tDnvNUXWOg8m"
      },
      "source": [
        "---"
      ]
    },
    {
      "cell_type": "markdown",
      "metadata": {
        "id": "ENHGbhVTOg8m"
      },
      "source": [
        "### Task 08 📍"
      ]
    },
    {
      "cell_type": "markdown",
      "metadata": {
        "deletable": false,
        "editable": false,
        "id": "F6BR-TNjOg8n"
      },
      "source": [
        "Create a table `ten_nachos_reactions` that consists of the nachos in `ten_nachos` as well as the reactions for each of those nachos. The columns should be called `Nachos` and `Reactions`.\n",
        "\n",
        "*Hint:* Use the `apply` method.\n"
      ]
    },
    {
      "cell_type": "code",
      "execution_count": null,
      "metadata": {
        "for_assignment_type": "student",
        "tags": [],
        "id": "q8mmTr4UOg8n",
        "outputId": "49350af5-211c-444b-d75b-1cbf8e164b11"
      },
      "outputs": [
        {
          "data": {
            "text/html": [
              "<table border=\"1\" class=\"dataframe\">\n",
              "    <thead>\n",
              "        <tr>\n",
              "            <th>Nachos</th> <th>Reactions</th>\n",
              "        </tr>\n",
              "    </thead>\n",
              "    <tbody>\n",
              "        <tr>\n",
              "            <td>neither</td> <td>Meh.     </td>\n",
              "        </tr>\n",
              "        <tr>\n",
              "            <td>cheese </td> <td>Cheesy!  </td>\n",
              "        </tr>\n",
              "        <tr>\n",
              "            <td>both   </td> <td>Wow!     </td>\n",
              "        </tr>\n",
              "        <tr>\n",
              "            <td>both   </td> <td>Wow!     </td>\n",
              "        </tr>\n",
              "        <tr>\n",
              "            <td>cheese </td> <td>Cheesy!  </td>\n",
              "        </tr>\n",
              "        <tr>\n",
              "            <td>salsa  </td> <td>Spicy!   </td>\n",
              "        </tr>\n",
              "        <tr>\n",
              "            <td>both   </td> <td>Wow!     </td>\n",
              "        </tr>\n",
              "        <tr>\n",
              "            <td>neither</td> <td>Meh.     </td>\n",
              "        </tr>\n",
              "        <tr>\n",
              "            <td>cheese </td> <td>Cheesy!  </td>\n",
              "        </tr>\n",
              "        <tr>\n",
              "            <td>both   </td> <td>Wow!     </td>\n",
              "        </tr>\n",
              "    </tbody>\n",
              "</table>"
            ],
            "text/plain": [
              "Nachos  | Reactions\n",
              "neither | Meh.\n",
              "cheese  | Cheesy!\n",
              "both    | Wow!\n",
              "both    | Wow!\n",
              "cheese  | Cheesy!\n",
              "salsa   | Spicy!\n",
              "both    | Wow!\n",
              "neither | Meh.\n",
              "cheese  | Cheesy!\n",
              "both    | Wow!"
            ]
          },
          "execution_count": 27,
          "metadata": {},
          "output_type": "execute_result"
        }
      ],
      "source": [
        "ten_nachos_tbl = Table().with_column('Nachos', ten_nachos)\n",
        "reactions=ten_nachos_tbl.apply(nacho_reaction,'Nachos')\n",
        "ten_nachos_reactions=ten_nachos_tbl.with_column('Reactions', reactions)\n",
        "ten_nachos_reactions"
      ]
    },
    {
      "cell_type": "code",
      "execution_count": null,
      "metadata": {
        "deletable": false,
        "editable": false,
        "id": "Pk4ECZcgOg8n",
        "outputId": "4770c9cc-1401-4efe-9f78-f28cc0409c6c"
      },
      "outputs": [
        {
          "data": {
            "text/html": [
              "<p><strong><pre style='display: inline;'>task_08</pre></strong> passed! 🙌</p><p><strong><pre style='display: inline;'>task_08 - 1</pre> message:</strong> ✅ The reaction values in the table seem correct.</p>"
            ],
            "text/plain": [
              "task_08 results: All test cases passed!\n",
              "task_08 - 1 message: ✅ The reaction values in the table seem correct."
            ]
          },
          "execution_count": 28,
          "metadata": {},
          "output_type": "execute_result"
        }
      ],
      "source": [
        "grader.check(\"task_08\")"
      ]
    },
    {
      "cell_type": "markdown",
      "metadata": {
        "id": "BU6-aN7LOg8o"
      },
      "source": [
        "---"
      ]
    },
    {
      "cell_type": "markdown",
      "metadata": {
        "id": "FXwE5OrxOg8o"
      },
      "source": [
        "### Task 09 📍"
      ]
    },
    {
      "cell_type": "markdown",
      "metadata": {
        "deletable": false,
        "editable": false,
        "id": "5f82WH9bOg8o"
      },
      "source": [
        "Using code, find the number of 'Wow!' reactions for the nachos in `ten_nachos_reactions`.\n"
      ]
    },
    {
      "cell_type": "code",
      "execution_count": null,
      "metadata": {
        "tags": [],
        "id": "o92SfWD4Og8o",
        "outputId": "1f5f10f3-10f6-42ae-e254-522388390966"
      },
      "outputs": [
        {
          "data": {
            "text/plain": [
              "4"
            ]
          },
          "execution_count": 30,
          "metadata": {},
          "output_type": "execute_result"
        }
      ],
      "source": [
        "number_wow_reactions=ten_nachos_reactions.where('Reactions', are.containing('Wow!')).num_rows\n",
        "\n",
        "\n",
        "number_wow_reactions"
      ]
    },
    {
      "cell_type": "code",
      "execution_count": null,
      "metadata": {
        "deletable": false,
        "editable": false,
        "id": "nbgANqEFOg8o",
        "outputId": "c50f370d-3a3b-49fa-cbf8-18e7550eafd0"
      },
      "outputs": [
        {
          "data": {
            "text/html": [
              "<p><strong><pre style='display: inline;'>task_09</pre></strong> passed! 🌟</p><p><strong><pre style='display: inline;'>task_09 - 1</pre> message:</strong> ✅ number_wow_reactions is between 2 and 6, non-inclusive.</p><p><strong><pre style='display: inline;'>task_09 - 2</pre> message:</strong> ✅ You have the correct value for number_wow_reactions.</p>"
            ],
            "text/plain": [
              "task_09 results: All test cases passed!\n",
              "task_09 - 1 message: ✅ number_wow_reactions is between 2 and 6, non-inclusive.\n",
              "task_09 - 2 message: ✅ You have the correct value for number_wow_reactions."
            ]
          },
          "execution_count": 31,
          "metadata": {},
          "output_type": "execute_result"
        }
      ],
      "source": [
        "grader.check(\"task_09\")"
      ]
    },
    {
      "cell_type": "markdown",
      "metadata": {
        "id": "qxVjvGRiOg8p"
      },
      "source": [
        "---"
      ]
    },
    {
      "cell_type": "markdown",
      "metadata": {
        "id": "13J8CXP7Og8p"
      },
      "source": [
        "## Simulations and For Loops"
      ]
    },
    {
      "cell_type": "markdown",
      "metadata": {
        "id": "2uXeTuDOOg8p"
      },
      "source": [
        "Using a `for` statement, we can perform a task multiple times. This is known as iteration."
      ]
    },
    {
      "cell_type": "markdown",
      "metadata": {
        "id": "3fa-BJ2TOg8p"
      },
      "source": [
        "One use of iteration is to loop through a set of values. For instance, we can print out all of the colors of the rainbow."
      ]
    },
    {
      "cell_type": "code",
      "execution_count": null,
      "metadata": {
        "id": "pf7mpwk8Og8q",
        "outputId": "43c31639-bf2c-48c9-94fb-413910cb648b"
      },
      "outputs": [
        {
          "name": "stdout",
          "output_type": "stream",
          "text": [
            "red\n",
            "orange\n",
            "yellow\n",
            "green\n",
            "blue\n",
            "indigo\n",
            "violet\n"
          ]
        }
      ],
      "source": [
        "rainbow = make_array(\"red\", \"orange\", \"yellow\", \"green\", \"blue\", \"indigo\", \"violet\")\n",
        "\n",
        "for color in rainbow:\n",
        "    print(color)"
      ]
    },
    {
      "cell_type": "markdown",
      "metadata": {
        "id": "uI-skmwVOg8q"
      },
      "source": [
        "We can see that the indented part of the `for` loop, known as the body, is executed once for each item in `rainbow`. The name `color` is assigned to the next value in `rainbow` at the start of each iteration. Note that the name `color` is arbitrary; we could easily have named it something else. The important thing is we stay consistent throughout the `for` loop."
      ]
    },
    {
      "cell_type": "code",
      "execution_count": null,
      "metadata": {
        "id": "Et8cCDanOg8q",
        "outputId": "909ceca9-4c01-4155-ca47-d18ccb6c27de"
      },
      "outputs": [
        {
          "name": "stdout",
          "output_type": "stream",
          "text": [
            "red\n",
            "orange\n",
            "yellow\n",
            "green\n",
            "blue\n",
            "indigo\n",
            "violet\n"
          ]
        }
      ],
      "source": [
        "for another_name in rainbow:\n",
        "    print(another_name)"
      ]
    },
    {
      "cell_type": "markdown",
      "metadata": {
        "id": "kJKW3e7xOg8r"
      },
      "source": [
        "In general, however, we would like the variable name to be somewhat informative."
      ]
    },
    {
      "cell_type": "markdown",
      "metadata": {
        "id": "Lf1CerSUOg8r"
      },
      "source": [
        "---"
      ]
    },
    {
      "cell_type": "markdown",
      "metadata": {
        "id": "JEvIB6MqOg8r"
      },
      "source": [
        "### Task 10 📍"
      ]
    },
    {
      "cell_type": "markdown",
      "metadata": {
        "deletable": false,
        "editable": false,
        "id": "ThIMMwdNOg8r"
      },
      "source": [
        "In the following cell, we've loaded the text of _Pride and Prejudice_ by Jane Austen, split it into individual words, and stored these words in an array `p_and_p_words`. Using a `for` loop, assign `longer_than_five` to the number of words in the novel that are more than 5 characters long.\n",
        "\n",
        "*Hint*: You can find the number of letters in a word with the `len` function.\n",
        "\n",
        "*Note*: You should expect \"words\" like `\"About` to be included in this collection of words that are more than 5 characters long because the quotation mark is not removed with the `split` function.\n"
      ]
    },
    {
      "cell_type": "code",
      "execution_count": null,
      "metadata": {
        "for_assignment_type": "student",
        "tags": [],
        "id": "hx8lfH-EOg8s",
        "outputId": "5f90c74d-afbd-4a52-8a9f-25570e68a0ae"
      },
      "outputs": [
        {
          "data": {
            "text/plain": [
              "35453"
            ]
          },
          "execution_count": 55,
          "metadata": {},
          "output_type": "execute_result"
        }
      ],
      "source": [
        "austen_string = open('Austen_PrideAndPrejudice.txt', encoding='utf-8').read()\n",
        "p_and_p_words = np.array(austen_string.split())\n",
        "\n",
        "longer_than_five = 0\n",
        "\n",
        "# use for loop\n",
        "for word in p_and_p_words:\n",
        "    if len(word) > 5:\n",
        "        # Use np.append to add the word to the array\n",
        "        longer_than_five = longer_than_five+1\n",
        "\n",
        "longer_than_five\n",
        "\n"
      ]
    },
    {
      "cell_type": "code",
      "execution_count": null,
      "metadata": {
        "deletable": false,
        "editable": false,
        "id": "awikhtTeOg8s",
        "outputId": "9b1e9bae-a09f-4245-c046-0cc6e6c6e0f6"
      },
      "outputs": [
        {
          "data": {
            "text/html": [
              "<p><strong><pre style='display: inline;'>task_10</pre></strong> passed! 🙌</p><p><strong><pre style='display: inline;'>task_10 - 1</pre> message:</strong> ✅ The value assigned to longer_than_five is correct.</p>"
            ],
            "text/plain": [
              "task_10 results: All test cases passed!\n",
              "task_10 - 1 message: ✅ The value assigned to longer_than_five is correct."
            ]
          },
          "execution_count": 56,
          "metadata": {},
          "output_type": "execute_result"
        }
      ],
      "source": [
        "grader.check(\"task_10\")"
      ]
    },
    {
      "cell_type": "markdown",
      "metadata": {
        "id": "bGs8dV6JOg8s"
      },
      "source": [
        "---"
      ]
    },
    {
      "cell_type": "markdown",
      "metadata": {
        "id": "pL0N_NoBOg8t"
      },
      "source": [
        "### Task 11 📍"
      ]
    },
    {
      "cell_type": "markdown",
      "metadata": {
        "deletable": false,
        "editable": false,
        "id": "32-gYnksOg8t"
      },
      "source": [
        "Using a simulation with 10,000 trials, assign num_different to the number of times, in 10,000 trials, that two words picked uniformly at random (with replacement) from Pride and Prejudice have different lengths.\n",
        "\n",
        "*Hint 1*: What function did we use in section 1 to sample at random with replacement from an array?\n",
        "\n",
        "*Hint 2*: Remember that `!=` checks for non-equality between two items.\n"
      ]
    },
    {
      "cell_type": "code",
      "execution_count": null,
      "metadata": {
        "id": "7FJEZVlrOg8t",
        "outputId": "cdbeb511-9c31-4605-c404-0dac89a6eb45"
      },
      "outputs": [
        {
          "name": "stdout",
          "output_type": "stream",
          "text": [
            "8583\n"
          ]
        }
      ],
      "source": [
        "num_different = 0\n",
        "\n",
        "# Run the simulation for 10,000 trials\n",
        "num_trials = 10000\n",
        "for _ in range(num_trials):\n",
        "    # Sample two words randomly (with replacement)\n",
        "    word1, word2 = np.random.choice(p_and_p_words, size=2, replace=True)\n",
        "\n",
        "    # Check if the lengths are different\n",
        "    if len(word1) != len(word2):\n",
        "        num_different += 1\n",
        "\n",
        "\n",
        "print(num_different)"
      ]
    },
    {
      "cell_type": "code",
      "execution_count": null,
      "metadata": {
        "deletable": false,
        "editable": false,
        "id": "lR6ubLVoOg8v",
        "outputId": "1ab7d6f3-1ff3-492d-a7e3-6e7a05bc9968"
      },
      "outputs": [
        {
          "data": {
            "text/html": [
              "<p><strong><pre style='display: inline;'>task_11</pre></strong> passed! 🍀</p><p><strong><pre style='display: inline;'>task_11 - 1</pre> message:</strong> ✅ num_different represents a value betwen 8100 and 9100.</p>"
            ],
            "text/plain": [
              "task_11 results: All test cases passed!\n",
              "task_11 - 1 message: ✅ num_different represents a value betwen 8100 and 9100."
            ]
          },
          "execution_count": 65,
          "metadata": {},
          "output_type": "execute_result"
        }
      ],
      "source": [
        "grader.check(\"task_11\")"
      ]
    },
    {
      "cell_type": "markdown",
      "metadata": {
        "id": "GRygnzw5Og8w"
      },
      "source": [
        "---"
      ]
    },
    {
      "cell_type": "markdown",
      "metadata": {
        "id": "JuEMgFxrOg8w"
      },
      "source": [
        "## Submit Your Assignment to Canvas"
      ]
    },
    {
      "cell_type": "markdown",
      "metadata": {
        "jp-MarkdownHeadingCollapsed": true,
        "id": "BUMW1yd9Og8w"
      },
      "source": [
        "Follow these steps to submit your lab assignment:\n",
        "\n",
        "1. **Check the Assignment Completion Requirements:** This assignment is scored as Complete or Incomplete. Make sure to check with your instructor about their requirements for a Complete score.\n",
        "2. **Run the Auto-Grader:** Ensure you have executed the code cell containing the command `grader.check_all()` to run all tests for auto-graded tasks marked with 📍. This command will execute all auto-grader tests sequentially.\n",
        "3. **Complete Manually Graded Tasks:** Verify that you have responded to all the manually graded tasks marked with 📍🔎.\n",
        "4. **Save Your Work:** In the notebook's Toolbar, go to `File -> Save Notebook` to save your work and create a checkpoint.\n",
        "5. **Download the Notebook:** In the notebook's Toolbar, go to `File -> Download HTML` to download the HTML version (`.html`) of this notebook.\n",
        "6. **Upload to Canvas:** On the Canvas Assignment page, click \"Start Assignment\" or \"New Attempt\" to upload the downloaded `.html` file."
      ]
    },
    {
      "cell_type": "markdown",
      "metadata": {
        "id": "Fq6rIUKbOg8x"
      },
      "source": [
        "---"
      ]
    },
    {
      "cell_type": "markdown",
      "metadata": {
        "editable": true,
        "tags": [],
        "id": "ANcaOfU-Og8x"
      },
      "source": [
        "## Attribution"
      ]
    },
    {
      "cell_type": "markdown",
      "metadata": {
        "id": "GBkm4zX0Og8y"
      },
      "source": [
        "This content is licensed under the <a href=\"https://creativecommons.org/licenses/by-nc-sa/4.0/\">Creative Commons Attribution-NonCommercial-ShareAlike 4.0 International License (CC BY-NC-SA 4.0)</a> and derived from the <a href=\"https://www.data8.org/\">Data 8: The Foundations of Data Science</a> offered by the University of California, Berkeley.\n",
        "\n",
        "<img src=\"./by-nc-sa.png\" width=100px>"
      ]
    },
    {
      "cell_type": "markdown",
      "metadata": {
        "deletable": false,
        "editable": false,
        "id": "XMJY3NoVOg8y"
      },
      "source": [
        "---\n",
        "\n",
        "To double-check your work, the cell below will rerun all of the autograder tests."
      ]
    },
    {
      "cell_type": "code",
      "execution_count": null,
      "metadata": {
        "deletable": false,
        "editable": false,
        "id": "lgZkt0c_Og8y",
        "outputId": "42062d78-4552-45c3-9b34-61d8568febb6"
      },
      "outputs": [
        {
          "data": {
            "text/plain": [
              "task_01 results: All test cases passed!\n",
              "task_01 - 1 message: ✅ customer_data is a Table.\n",
              "task_01 - 2 message: ✅ customer_data has the correct labels.\n",
              "task_01 - 3 message: ✅ customer_data seems correct!\n",
              "\n",
              "task_02 results: All test cases passed!\n",
              "task_02 - 1 message: ✅ customer_averages is a Table\n",
              "task_02 - 2 message: ✅ customer_averages has the correct number of rows.\n",
              "task_02 - 3 message: ✅ customer_averages has the correct number of columns\n",
              "task_02 - 4 message: ✅ customer_averages seems correct.\n",
              "\n",
              "task_03 results: All test cases passed!\n",
              "task_03 - 1 message: ✅ customer_ad_averages is a Table.\n",
              "task_03 - 2 message: ✅ customer_ad_averages has the correct number of rows.\n",
              "task_03 - 3 message: ✅ customer_ad_averages has the correct column labels.\n",
              "task_03 - 4 message: ✅ customer_ad_averages seems correct.\n",
              "\n",
              "task_04 results: All test cases passed!\n",
              "task_04 - 1 message: ✅ ad_name_pivot is a Table.\n",
              "task_04 - 2 message: ✅ ad_name_pivot has the right column labels\n",
              "task_04 - 3 message: ✅ ad_name_pivot has the correct values in the first column to represent the customer names.\n",
              "task_04 - 4 message: ✅ ad_name_pivot seems correct.\n",
              "\n",
              "task_05 results: All test cases passed!\n",
              "task_05 - 1 message: ✅ There are 3 nachos with only cheese.\n",
              "\n",
              "task_06 results: All test cases passed!\n",
              "task_06 - 1 message: ✅ say_please is assigned to 'More please'.\n",
              "\n",
              "task_07 results: All test cases passed!\n",
              "task_07 - 1 message: ✅ nacho_reaction('salsa') should display 'Spicy!'.\n",
              "task_07 - 2 message: ✅ nacho_reaction('cheese') should display 'Cheesy!'.\n",
              "task_07 - 3 message: ✅ nacho_reaction('both') should display 'Wow!'.\n",
              "task_07 - 4 message: ✅ nacho_reaction('neither') should display 'Meh.'.\n",
              "\n",
              "task_08 results: All test cases passed!\n",
              "task_08 - 1 message: ✅ The reaction values in the table seem correct.\n",
              "\n",
              "task_09 results: All test cases passed!\n",
              "task_09 - 1 message: ✅ number_wow_reactions is between 2 and 6, non-inclusive.\n",
              "task_09 - 2 message: ✅ You have the correct value for number_wow_reactions.\n",
              "\n",
              "task_10 results: All test cases passed!\n",
              "task_10 - 1 message: ✅ The value assigned to longer_than_five is correct.\n",
              "\n",
              "task_11 results: All test cases passed!\n",
              "task_11 - 1 message: ✅ num_different represents a value betwen 8100 and 9100."
            ]
          },
          "execution_count": 66,
          "metadata": {},
          "output_type": "execute_result"
        }
      ],
      "source": [
        "grader.check_all()"
      ]
    }
  ],
  "metadata": {
    "hide_input": false,
    "kernelspec": {
      "display_name": "Python 3 (ipykernel)",
      "language": "python",
      "name": "python3"
    },
    "language_info": {
      "codemirror_mode": {
        "name": "ipython",
        "version": 3
      },
      "file_extension": ".py",
      "mimetype": "text/x-python",
      "name": "python",
      "nbconvert_exporter": "python",
      "pygments_lexer": "ipython3",
      "version": "3.11.9"
    },
    "otter": {
      "OK_FORMAT": true,
      "assignment_name": "lab05_sp25",
      "tests": {
        "task_01": {
          "name": "task_01",
          "points": null,
          "suites": [
            {
              "cases": [
                {
                  "code": ">>> isinstance(customer_data, Table)\nTrue",
                  "failure_message": "❌ customer_data should be a Table. Are you using the join method?",
                  "hidden": false,
                  "locked": false,
                  "points": 1,
                  "success_message": "✅ customer_data is a Table."
                },
                {
                  "code": ">>> customer_data.labels == ('Customer ID', 'Name', 'Email', 'Product', 'Ad', 'Amount ($)')\nTrue",
                  "failure_message": "❌ customer_data doesn't have the correct labels. Make sure you start your join statement with customers.join because purchase_history.join would produce a different collection of labels.",
                  "hidden": false,
                  "locked": false,
                  "points": 1,
                  "success_message": "✅ customer_data has the correct labels."
                },
                {
                  "code": ">>> customer_data\nCustomer ID | Name          | Email             | Product | Ad   | Amount ($)\n1           | Alice Johnson | alice@example.com | Widget  | Yes  | 10\n1           | Alice Johnson | alice@example.com | Gadget  | Yes  | 15\n3           | Maria García  | maria@example.com | Gadget  | No   | 15\n4           | Ling Chen     | ling@example.com  | Doodad  | No   | 8\n4           | Ling Chen     | ling@example.com  | Widget  | Yes  | 10\n4           | Ling Chen     | ling@example.com  | Doodad  | Yes  | 8",
                  "failure_message": "❌ customer_data doesn't look correct. Check with someone before moving on.",
                  "hidden": false,
                  "locked": false,
                  "points": 1,
                  "success_message": "✅ customer_data seems correct!"
                }
              ],
              "scored": true,
              "setup": "",
              "teardown": "",
              "type": "doctest"
            }
          ]
        },
        "task_02": {
          "name": "task_02",
          "points": null,
          "suites": [
            {
              "cases": [
                {
                  "code": ">>> isinstance(customer_averages, Table)\nTrue",
                  "failure_message": "❌ customer_averages should be a Table. Make sure to use the group method.",
                  "hidden": false,
                  "locked": false,
                  "points": 1,
                  "success_message": "✅ customer_averages is a Table"
                },
                {
                  "code": ">>> customer_averages.num_rows == 3\nTrue",
                  "failure_message": "❌ customer_averages does not have the correct number of rows. Double check that you are using the customer_data table.",
                  "hidden": false,
                  "locked": false,
                  "points": 1,
                  "success_message": "✅ customer_averages has the correct number of rows."
                },
                {
                  "code": ">>> customer_averages.num_columns == 2\nTrue",
                  "failure_message": "❌ customer_averages doesn't have the correct number of columns. Try using select or drop first before grouping the data.",
                  "hidden": false,
                  "locked": false,
                  "points": 1,
                  "success_message": "✅ customer_averages has the correct number of columns"
                },
                {
                  "code": ">>> customer_averages\nName          | Amount ($) average\nAlice Johnson | 12.5\nLing Chen     | 8.66667\nMaria García  | 15",
                  "failure_message": "❌ customer_averages doesn't seem correct. Check with someone before moving on.",
                  "hidden": false,
                  "locked": false,
                  "points": 1,
                  "success_message": "✅ customer_averages seems correct."
                }
              ],
              "scored": true,
              "setup": "",
              "teardown": "",
              "type": "doctest"
            }
          ]
        },
        "task_03": {
          "name": "task_03",
          "points": null,
          "suites": [
            {
              "cases": [
                {
                  "code": ">>> isinstance(customer_ad_averages, Table)\nTrue",
                  "failure_message": "❌ customer_ad_averages should be a Table. Are you using the group method with customer_data?",
                  "hidden": false,
                  "locked": false,
                  "points": 1,
                  "success_message": "✅ customer_ad_averages is a Table."
                },
                {
                  "code": ">>> customer_ad_averages.num_rows == 4\nTrue",
                  "failure_message": "❌ customer_ad_averages should have 4 rows. Make sure you are working from the customer_data table.",
                  "hidden": false,
                  "locked": false,
                  "points": 1,
                  "success_message": "✅ customer_ad_averages has the correct number of rows."
                },
                {
                  "code": ">>> customer_ad_averages.labels == ('Name', 'Ad', 'Amount ($) average')\nTrue",
                  "failure_message": "❌ customer_ad_averages doesn't have the correct column labels. Try using select or drop with customer_data before grouping.?",
                  "hidden": false,
                  "locked": false,
                  "points": 1,
                  "success_message": "✅ customer_ad_averages has the correct column labels."
                },
                {
                  "code": ">>> customer_ad_averages\nName          | Ad   | Amount ($) average\nAlice Johnson | Yes  | 12.5\nLing Chen     | No   | 8\nLing Chen     | Yes  | 9\nMaria García  | No   | 15",
                  "failure_message": "❌ customer_ad_averages doesn't seem correct. Check with someone before moving on.",
                  "hidden": false,
                  "locked": false,
                  "points": 1,
                  "success_message": "✅ customer_ad_averages seems correct."
                }
              ],
              "scored": true,
              "setup": "",
              "teardown": "",
              "type": "doctest"
            }
          ]
        },
        "task_04": {
          "name": "task_04",
          "points": null,
          "suites": [
            {
              "cases": [
                {
                  "code": ">>> isinstance(ad_name_pivot, Table)\nTrue",
                  "failure_message": "❌ ad_name_pivot should be a Table. Are you using the pivot method?",
                  "hidden": false,
                  "locked": false,
                  "points": 1,
                  "success_message": "✅ ad_name_pivot is a Table."
                },
                {
                  "code": ">>> ad_name_pivot.labels == ('Name', 'No', 'Yes')\nTrue",
                  "failure_message": "❌ ad_name_pivot doesn't have the correct column labels. The first argument of pivot should be 'Ad'.",
                  "hidden": false,
                  "locked": false,
                  "points": 1,
                  "success_message": "✅ ad_name_pivot has the right column labels"
                },
                {
                  "code": ">>> tuple(ad_name_pivot.column(0)) == ('Alice Johnson', 'Ling Chen', 'Maria García')\nTrue",
                  "failure_message": "❌ ad_name_pivot doesn't have the correct values in the first column. The second argument of pivot should be 'Name'.",
                  "hidden": false,
                  "locked": false,
                  "points": 1,
                  "success_message": "✅ ad_name_pivot has the correct values in the first column to represent the customer names."
                },
                {
                  "code": ">>> ad_name_pivot\nName          | No   | Yes\nAlice Johnson | 0    | 12.5\nLing Chen     | 8    | 9\nMaria García  | 15   | 0",
                  "failure_message": "❌ ad_name_pivot doesn't seem correct. Check with someone before moving on.",
                  "hidden": false,
                  "locked": false,
                  "points": 1,
                  "success_message": "✅ ad_name_pivot seems correct."
                }
              ],
              "scored": true,
              "setup": "",
              "teardown": "",
              "type": "doctest"
            }
          ]
        },
        "task_05": {
          "name": "task_05",
          "points": null,
          "suites": [
            {
              "cases": [
                {
                  "code": ">>> number_cheese == 3\nTrue",
                  "failure_message": "❌ There are 3 nachos with only cheese. Try using np.count_nonzero.",
                  "hidden": false,
                  "locked": false,
                  "points": 1,
                  "success_message": "✅ There are 3 nachos with only cheese."
                }
              ],
              "scored": true,
              "setup": "",
              "teardown": "",
              "type": "doctest"
            }
          ]
        },
        "task_06": {
          "name": "task_06",
          "points": null,
          "suites": [
            {
              "cases": [
                {
                  "code": ">>> say_please == 'More please'\nTrue",
                  "failure_message": "❌ Since number_cheese < 5, say_please should be assigned to 'More please'. Check if number_cheese < 5.",
                  "hidden": false,
                  "locked": false,
                  "points": 1,
                  "success_message": "✅ say_please is assigned to 'More please'."
                }
              ],
              "scored": true,
              "setup": "",
              "teardown": "",
              "type": "doctest"
            }
          ]
        },
        "task_07": {
          "name": "task_07",
          "points": null,
          "suites": [
            {
              "cases": [
                {
                  "code": ">>> nacho_reaction('salsa') == 'Spicy!'\nTrue",
                  "failure_message": "❌ nacho_reaction('salsa') should display 'Spicy!' You might need to check your spelling/punctuation.",
                  "hidden": false,
                  "locked": false,
                  "points": 1,
                  "success_message": "✅ nacho_reaction('salsa') should display 'Spicy!'."
                },
                {
                  "code": ">>> nacho_reaction('cheese') == 'Cheesy!'\nTrue",
                  "failure_message": "❌ nacho_reaction('cheese') should display 'Cheesy!' You might need to check your spelling/punctuation.",
                  "hidden": false,
                  "locked": false,
                  "points": 1,
                  "success_message": "✅ nacho_reaction('cheese') should display 'Cheesy!'."
                },
                {
                  "code": ">>> nacho_reaction('both') == 'Wow!'\nTrue",
                  "failure_message": "❌ nacho_reaction('both') should display 'Wow!' You might need to check your spelling/punctuation.",
                  "hidden": false,
                  "locked": false,
                  "points": 1,
                  "success_message": "✅ nacho_reaction('both') should display 'Wow!'."
                },
                {
                  "code": ">>> nacho_reaction('neither') == 'Meh.'\nTrue",
                  "failure_message": "❌ nacho_reaction('neither') should display 'Meh.' You might need to check your spelling/punctuation.",
                  "hidden": false,
                  "locked": false,
                  "points": 1,
                  "success_message": "✅ nacho_reaction('neither') should display 'Meh.'."
                }
              ],
              "scored": true,
              "setup": "",
              "teardown": "",
              "type": "doctest"
            }
          ]
        },
        "task_08": {
          "name": "task_08",
          "points": null,
          "suites": [
            {
              "cases": [
                {
                  "code": ">>> np.count_nonzero(ten_nachos_reactions.column('Reactions') == make_array('Meh.', 'Cheesy!', 'Wow!', 'Wow!', 'Cheesy!', 'Spicy!', 'Wow!', 'Meh.', 'Cheesy!', 'Wow!')) == 10\nTrue",
                  "failure_message": "❌ It seems like one or more of the reaction results could be incorrect. To get the values for the table, trying using the apply method with the function you just made.",
                  "hidden": false,
                  "locked": false,
                  "points": 1,
                  "success_message": "✅ The reaction values in the table seem correct."
                }
              ],
              "scored": true,
              "setup": "",
              "teardown": "",
              "type": "doctest"
            }
          ]
        },
        "task_09": {
          "name": "task_09",
          "points": null,
          "suites": [
            {
              "cases": [
                {
                  "code": ">>> 2 < number_wow_reactions < 6\nTrue",
                  "failure_message": "❌ number_wow_reactions should be between 2 and 6, non-inclusive. Try using np.count_nonzero.",
                  "hidden": false,
                  "locked": false,
                  "points": 1,
                  "success_message": "✅ number_wow_reactions is between 2 and 6, non-inclusive."
                },
                {
                  "code": ">>> number_wow_reactions == 4\nTrue",
                  "failure_message": "❌ You have the incorrect value for number_wow_reactions.",
                  "hidden": false,
                  "locked": false,
                  "points": 1,
                  "success_message": "✅ You have the correct value for number_wow_reactions."
                }
              ],
              "scored": true,
              "setup": "",
              "teardown": "",
              "type": "doctest"
            }
          ]
        },
        "task_10": {
          "name": "task_10",
          "points": null,
          "suites": [
            {
              "cases": [
                {
                  "code": ">>> longer_than_five == 35453\nTrue",
                  "failure_message": "❌ The value assigned to longer_than_five is not correct. Make sure to initilalize longer_than_five to 0 and check if the length of the word is great than 5 as you loop through each word in p_and_p_words.",
                  "hidden": false,
                  "locked": false,
                  "points": 1,
                  "success_message": "✅ The value assigned to longer_than_five is correct."
                }
              ],
              "scored": true,
              "setup": "",
              "teardown": "",
              "type": "doctest"
            }
          ]
        },
        "task_11": {
          "name": "task_11",
          "points": null,
          "suites": [
            {
              "cases": [
                {
                  "code": ">>> 8100 <= num_different <= 9100\nTrue",
                  "failure_message": "❌ num_different should be between 8100 and 9100. Try initializing num_different to 0, iterating through the number of trials, randomly choosing 2 words from p_and_p_words, checking the length of the 2 words, and updating num_different depending on the results of that check.",
                  "hidden": false,
                  "locked": false,
                  "points": 1,
                  "success_message": "✅ num_different represents a value betwen 8100 and 9100."
                }
              ],
              "scored": true,
              "setup": "",
              "teardown": "",
              "type": "doctest"
            }
          ]
        }
      }
    },
    "toc-autonumbering": false,
    "toc-showmarkdowntxt": false,
    "colab": {
      "provenance": [],
      "include_colab_link": true
    }
  },
  "nbformat": 4,
  "nbformat_minor": 0
}