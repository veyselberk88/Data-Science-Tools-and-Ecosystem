{
  "cells": [
    {
      "cell_type": "markdown",
      "metadata": {
        "id": "view-in-github",
        "colab_type": "text"
      },
      "source": [
        "<a href=\"https://colab.research.google.com/github/veyselberk88/Data-Science-Tools-and-Ecosystem/blob/main/lec19.ipynb\" target=\"_parent\"><img src=\"https://colab.research.google.com/assets/colab-badge.svg\" alt=\"Open In Colab\"/></a>"
      ]
    },
    {
      "cell_type": "markdown",
      "id": "4dc65a18-590a-4d20-a9c6-f8b4c5c9205b",
      "metadata": {
        "id": "4dc65a18-590a-4d20-a9c6-f8b4c5c9205b"
      },
      "source": [
        "<img src=\"./ccsf.png\" alt=\"CCSF Logo\" width=200px style=\"margin:0px -5px\">"
      ]
    },
    {
      "cell_type": "markdown",
      "id": "cccc589a-8102-4d59-94cd-066c92a542dc",
      "metadata": {
        "id": "cccc589a-8102-4d59-94cd-066c92a542dc"
      },
      "source": [
        "# Lecture 19: Comparing Distributions"
      ]
    },
    {
      "cell_type": "markdown",
      "id": "8e71f42b-1ee3-4861-9868-db7cebeeea75",
      "metadata": {
        "id": "8e71f42b-1ee3-4861-9868-db7cebeeea75"
      },
      "source": [
        "Associated Textbook Sections: [11.1, 11.2](https://ccsf-math-108.github.io/textbook/chapters/11/2/Multiple_Categories.html)"
      ]
    },
    {
      "cell_type": "markdown",
      "id": "c164695e-9ee2-4da2-a593-a4c250e2cf22",
      "metadata": {
        "id": "c164695e-9ee2-4da2-a593-a4c250e2cf22"
      },
      "source": [
        "---"
      ]
    },
    {
      "cell_type": "markdown",
      "id": "3fd1a2c1-3978-45a4-83a9-bb98407ac7ad",
      "metadata": {
        "id": "3fd1a2c1-3978-45a4-83a9-bb98407ac7ad"
      },
      "source": [
        "## Outline"
      ]
    },
    {
      "cell_type": "markdown",
      "id": "030f231d-4713-4418-b747-b5f2a66dafb9",
      "metadata": {
        "id": "030f231d-4713-4418-b747-b5f2a66dafb9"
      },
      "source": [
        "* [Comparing Distributions](#Comparing-Distributions)\n",
        "* [A New Statistic](#A-New-Statistic)\n",
        "* [Testing Hypotheses](#Testing-Hypotheses)"
      ]
    },
    {
      "cell_type": "markdown",
      "id": "17980a38-bfa4-46e8-92fc-749ab6bb6d9e",
      "metadata": {
        "id": "17980a38-bfa4-46e8-92fc-749ab6bb6d9e"
      },
      "source": [
        "---"
      ]
    },
    {
      "cell_type": "markdown",
      "id": "1e710a28-a3c0-4c27-84a4-62a559add16b",
      "metadata": {
        "id": "1e710a28-a3c0-4c27-84a4-62a559add16b"
      },
      "source": [
        "## Set Up the Notebook"
      ]
    },
    {
      "cell_type": "code",
      "execution_count": null,
      "id": "f4de8cbd-d9fd-4087-ba56-ce0ebd7ab5c3",
      "metadata": {
        "id": "f4de8cbd-d9fd-4087-ba56-ce0ebd7ab5c3"
      },
      "outputs": [],
      "source": [
        "from datascience import *\n",
        "import numpy as np\n",
        "%matplotlib inline\n",
        "import matplotlib.pyplot as plt\n",
        "plt.style.use('fivethirtyeight')"
      ]
    },
    {
      "cell_type": "markdown",
      "id": "f39cdc0a-0e3d-41ef-ba15-d31a8ba31d6e",
      "metadata": {
        "id": "f39cdc0a-0e3d-41ef-ba15-d31a8ba31d6e"
      },
      "source": [
        "---"
      ]
    },
    {
      "cell_type": "markdown",
      "id": "538fe619-6341-411e-8dfa-fda087721bb9",
      "metadata": {
        "id": "538fe619-6341-411e-8dfa-fda087721bb9"
      },
      "source": [
        "## Comparing Distributions"
      ]
    },
    {
      "cell_type": "markdown",
      "id": "a080f590-ac9d-4d4b-95a7-730c56be1456",
      "metadata": {
        "id": "a080f590-ac9d-4d4b-95a7-730c56be1456"
      },
      "source": [
        "---"
      ]
    },
    {
      "cell_type": "markdown",
      "id": "9ce01712-8951-42b3-8d3f-cb502bae305a",
      "metadata": {
        "id": "9ce01712-8951-42b3-8d3f-cb502bae305a"
      },
      "source": [
        "### Jury Selection in Alameda County"
      ]
    },
    {
      "cell_type": "markdown",
      "id": "9e2c8bbc-ba60-476c-bafb-05267728bdfc",
      "metadata": {
        "id": "9e2c8bbc-ba60-476c-bafb-05267728bdfc"
      },
      "source": [
        "<img src=\"./ACLU_report.png\" alt=\"ACLU Report\" width=40%>"
      ]
    },
    {
      "cell_type": "markdown",
      "id": "a5f03e7c-d00e-4064-bc18-c8a6a63edd73",
      "metadata": {
        "id": "a5f03e7c-d00e-4064-bc18-c8a6a63edd73"
      },
      "source": [
        "Report Source: [ACLU of Northern California - RACIAL AND ETHNIC DISPARITIES IN ALAMEDA COUNTY JURY POOLS (2010)](https://www.aclunc.org/sites/default/files/racial_and_ethnic_disparities_in_alameda_county_jury_pools.pdf)"
      ]
    },
    {
      "cell_type": "markdown",
      "id": "1e382a89-c75d-4af9-8281-71615f47f965",
      "metadata": {
        "id": "1e382a89-c75d-4af9-8281-71615f47f965"
      },
      "source": [
        "---"
      ]
    },
    {
      "cell_type": "markdown",
      "id": "1664089a-f6b5-44de-874c-1dd003eea648",
      "metadata": {
        "id": "1664089a-f6b5-44de-874c-1dd003eea648"
      },
      "source": [
        "### Jury Panels"
      ]
    },
    {
      "cell_type": "markdown",
      "id": "2b88a280-238f-45dc-b337-f6eb5829ed14",
      "metadata": {
        "id": "2b88a280-238f-45dc-b337-f6eb5829ed14"
      },
      "source": [
        "<img src=\"./jury_selection_process.png\" alt=\"jury selection process\" width = 80%>\n",
        "\n",
        "Section 197 of California's Code of Civil Procedure says,\n",
        "> \"All persons selected for jury service shall be selected at random, from a source or sources inclusive of a representative cross section of the population of the area served by the court.\""
      ]
    },
    {
      "cell_type": "markdown",
      "id": "597ec8d2-ba84-43fa-8d3c-381f4e81e7c4",
      "metadata": {
        "id": "597ec8d2-ba84-43fa-8d3c-381f4e81e7c4"
      },
      "source": [
        "---"
      ]
    },
    {
      "cell_type": "markdown",
      "id": "05f2260c-7262-44e0-b963-9b642a960d4e",
      "metadata": {
        "id": "05f2260c-7262-44e0-b963-9b642a960d4e"
      },
      "source": [
        "### Demo: Alameda County Jury Panels"
      ]
    },
    {
      "cell_type": "markdown",
      "id": "f972e7c7-58d9-42fb-b060-b7dc32c2b699",
      "metadata": {
        "deletable": false,
        "editable": false,
        "id": "f972e7c7-58d9-42fb-b060-b7dc32c2b699"
      },
      "source": [
        "* Visualize the the eligible and panel distributions of ethnicities based on the Totals in the report.\n",
        "* Under the model, define an array that represents the distribution of people from which the jurors are randomly sampled\n",
        "* Simulate a random draw of 1423 jurors from this distribution\n",
        "* The actual observed distribution (Panels) looks quite different from the simulation -- try simulating this several times to confirm!\n",
        "* Visualize the results of the last simulation."
      ]
    },
    {
      "cell_type": "code",
      "execution_count": null,
      "id": "ecd9ad15-17c7-43ab-a8b5-54a9471c2d8a",
      "metadata": {
        "tags": [],
        "id": "ecd9ad15-17c7-43ab-a8b5-54a9471c2d8a",
        "outputId": "ebd266d3-692b-47cf-f7f3-69e5bbd61829"
      },
      "outputs": [
        {
          "data": {
            "text/html": [
              "<table border=\"1\" class=\"dataframe\">\n",
              "    <thead>\n",
              "        <tr>\n",
              "            <th>Ethnicity</th> <th>Eligible</th> <th>Panels</th>\n",
              "        </tr>\n",
              "    </thead>\n",
              "    <tbody>\n",
              "        <tr>\n",
              "            <td>Asian/PI </td> <td>0.15    </td> <td>0.26  </td>\n",
              "        </tr>\n",
              "        <tr>\n",
              "            <td>Black/AA </td> <td>0.18    </td> <td>0.08  </td>\n",
              "        </tr>\n",
              "        <tr>\n",
              "            <td>Hispanic </td> <td>0.12    </td> <td>0.08  </td>\n",
              "        </tr>\n",
              "        <tr>\n",
              "            <td>Caucasian</td> <td>0.54    </td> <td>0.54  </td>\n",
              "        </tr>\n",
              "        <tr>\n",
              "            <td>Other    </td> <td>0.01    </td> <td>0.04  </td>\n",
              "        </tr>\n",
              "    </tbody>\n",
              "</table>"
            ],
            "text/plain": [
              "Ethnicity | Eligible | Panels\n",
              "Asian/PI  | 0.15     | 0.26\n",
              "Black/AA  | 0.18     | 0.08\n",
              "Hispanic  | 0.12     | 0.08\n",
              "Caucasian | 0.54     | 0.54\n",
              "Other     | 0.01     | 0.04"
            ]
          },
          "execution_count": 10,
          "metadata": {},
          "output_type": "execute_result"
        }
      ],
      "source": [
        "jury = Table().with_columns(\n",
        "    'Ethnicity', make_array('Asian/PI ', 'Black/AA', 'Hispanic ', 'Caucasian', 'Other'),\n",
        "    'Eligible', make_array(0.15, 0.18, 0.12, 0.54, 0.01),\n",
        "    'Panels', make_array(0.26, 0.08, 0.08, 0.54, 0.04)\n",
        ")\n",
        "\n",
        "jury"
      ]
    },
    {
      "cell_type": "code",
      "execution_count": null,
      "id": "bc4b34fe-cf06-41d3-ad6b-344cff8b8391",
      "metadata": {
        "tags": [],
        "id": "bc4b34fe-cf06-41d3-ad6b-344cff8b8391",
        "outputId": "067cc803-90a5-475f-d101-1639611c321b"
      },
      "outputs": [
        {
          "data": {
            "image/png": "[encoded data removed]",
            "text/plain": [
              "<Figure size 600x400 with 1 Axes>"
            ]
          },
          "metadata": {},
          "output_type": "display_data"
        }
      ],
      "source": [
        "jury.barh('Ethnicity')"
      ]
    },
    {
      "cell_type": "code",
      "execution_count": null,
      "id": "e7d71ac8-142d-4391-98c9-964b6935336e",
      "metadata": {
        "tags": [],
        "id": "e7d71ac8-142d-4391-98c9-964b6935336e"
      },
      "outputs": [],
      "source": [
        "model = make_array(0.15,0.18,0.12,0.54,0.01)"
      ]
    },
    {
      "cell_type": "code",
      "execution_count": null,
      "id": "13b6b2a2-9c21-4c90-8caa-18447b209d8b",
      "metadata": {
        "scrolled": true,
        "tags": [],
        "id": "13b6b2a2-9c21-4c90-8caa-18447b209d8b",
        "outputId": "d0278fec-2d91-40e9-f0c0-5d58b6972546"
      },
      "outputs": [
        {
          "data": {
            "text/plain": [
              "array([ 0.14476458,  0.17006325,  0.10962755,  0.56570625,  0.00983837])"
            ]
          },
          "execution_count": 13,
          "metadata": {},
          "output_type": "execute_result"
        }
      ],
      "source": [
        "simulated = sample_proportions(1423, model)\n",
        "simulated"
      ]
    },
    {
      "cell_type": "code",
      "execution_count": null,
      "id": "1c486503-ee30-4b34-803f-12058da27e2f",
      "metadata": {
        "tags": [],
        "id": "1c486503-ee30-4b34-803f-12058da27e2f",
        "outputId": "786ce7b3-0f3c-4fe8-a431-c8117c8ba8aa"
      },
      "outputs": [
        {
          "data": {
            "text/html": [
              "<table border=\"1\" class=\"dataframe\">\n",
              "    <thead>\n",
              "        <tr>\n",
              "            <th>Ethnicity</th> <th>Eligible</th> <th>Panels</th> <th>Simulated</th>\n",
              "        </tr>\n",
              "    </thead>\n",
              "    <tbody>\n",
              "        <tr>\n",
              "            <td>Asian/PI </td> <td>0.15    </td> <td>0.26  </td> <td>0.144765  </td>\n",
              "        </tr>\n",
              "        <tr>\n",
              "            <td>Black/AA </td> <td>0.18    </td> <td>0.08  </td> <td>0.170063  </td>\n",
              "        </tr>\n",
              "        <tr>\n",
              "            <td>Hispanic </td> <td>0.12    </td> <td>0.08  </td> <td>0.109628  </td>\n",
              "        </tr>\n",
              "        <tr>\n",
              "            <td>Caucasian</td> <td>0.54    </td> <td>0.54  </td> <td>0.565706  </td>\n",
              "        </tr>\n",
              "        <tr>\n",
              "            <td>Other    </td> <td>0.01    </td> <td>0.04  </td> <td>0.00983837</td>\n",
              "        </tr>\n",
              "    </tbody>\n",
              "</table>"
            ],
            "text/plain": [
              "Ethnicity | Eligible | Panels | Simulated\n",
              "Asian/PI  | 0.15     | 0.26   | 0.144765\n",
              "Black/AA  | 0.18     | 0.08   | 0.170063\n",
              "Hispanic  | 0.12     | 0.08   | 0.109628\n",
              "Caucasian | 0.54     | 0.54   | 0.565706\n",
              "Other     | 0.01     | 0.04   | 0.00983837"
            ]
          },
          "execution_count": 14,
          "metadata": {},
          "output_type": "execute_result"
        }
      ],
      "source": [
        "jury_with_simulated = jury.with_column('Simulated', simulated)\n",
        "jury_with_simulated"
      ]
    },
    {
      "cell_type": "code",
      "execution_count": null,
      "id": "e5ec2889-fb21-4f71-8018-d8a3c859ee2a",
      "metadata": {
        "tags": [],
        "id": "e5ec2889-fb21-4f71-8018-d8a3c859ee2a",
        "outputId": "f56c4030-f6b4-4aec-f5a4-4c40f0b72a7e"
      },
      "outputs": [
        {
          "data": {
            "image/png": "[encoded data removed]",
            "text/plain": [
              "<Figure size 600x400 with 1 Axes>"
            ]
          },
          "metadata": {},
          "output_type": "display_data"
        }
      ],
      "source": [
        "jury_with_simulated.barh('Ethnicity')"
      ]
    },
    {
      "cell_type": "markdown",
      "id": "b054c0ff-394a-491d-99c1-c9e306f91f5c",
      "metadata": {
        "id": "b054c0ff-394a-491d-99c1-c9e306f91f5c"
      },
      "source": [
        "---"
      ]
    },
    {
      "cell_type": "markdown",
      "id": "ae06c26b-c745-494a-8d5f-624c05057bc7",
      "metadata": {
        "id": "ae06c26b-c745-494a-8d5f-624c05057bc7"
      },
      "source": [
        "## A New Statistic"
      ]
    },
    {
      "cell_type": "markdown",
      "id": "47a7e490-c0be-425b-8557-0a0b922c8278",
      "metadata": {
        "id": "47a7e490-c0be-425b-8557-0a0b922c8278"
      },
      "source": [
        "---"
      ]
    },
    {
      "cell_type": "markdown",
      "id": "d886e95d-4fef-4150-8993-8bf07168ca1d",
      "metadata": {
        "id": "d886e95d-4fef-4150-8993-8bf07168ca1d"
      },
      "source": [
        "### Distance Between Distributions"
      ]
    },
    {
      "cell_type": "markdown",
      "id": "dc72b734-117b-440d-9a9d-06c4f9ae0c35",
      "metadata": {
        "id": "dc72b734-117b-440d-9a9d-06c4f9ae0c35"
      },
      "source": [
        "* People on the panels are of multiple ethnicities\n",
        "* Distribution of ethnicities is categorical\n",
        "* To see whether the distribution of ethnicities of the panels is close to that of the eligible jurors, we have to measure the distance between two categorical distributions\n"
      ]
    },
    {
      "cell_type": "markdown",
      "id": "5555d36c-5c85-4cc8-810f-184c43215772",
      "metadata": {
        "id": "5555d36c-5c85-4cc8-810f-184c43215772"
      },
      "source": [
        "---"
      ]
    },
    {
      "cell_type": "markdown",
      "id": "77c5a6f3-09b3-486e-9044-3fb958317a56",
      "metadata": {
        "id": "77c5a6f3-09b3-486e-9044-3fb958317a56"
      },
      "source": [
        "### Demo: Distance Between Distributions"
      ]
    },
    {
      "cell_type": "markdown",
      "id": "e7fbea43-7610-4d04-9571-351ead42158b",
      "metadata": {
        "id": "e7fbea43-7610-4d04-9571-351ead42158b"
      },
      "source": [
        "In the last lecture, the difference between observed black/purple and their expected values (26%/75%) was our statistic. In this case, we need to understand how each of the 5 categories differ from their expected values according to the model."
      ]
    },
    {
      "cell_type": "markdown",
      "id": "60bd3368-aa29-456a-b04e-8995d3a5105c",
      "metadata": {
        "deletable": false,
        "editable": false,
        "id": "60bd3368-aa29-456a-b04e-8995d3a5105c"
      },
      "source": [
        "Add a column to the `jury` table with the difference between the eligible and actual percentages for each ethnicity category."
      ]
    },
    {
      "cell_type": "code",
      "execution_count": null,
      "id": "7f5215ff-2e33-46a1-8c98-ff30cc2f7bf4",
      "metadata": {
        "tags": [],
        "id": "7f5215ff-2e33-46a1-8c98-ff30cc2f7bf4",
        "outputId": "3d9458cd-999c-4b41-ae54-7a3705ce1fb0"
      },
      "outputs": [
        {
          "data": {
            "text/html": [
              "<table border=\"1\" class=\"dataframe\">\n",
              "    <thead>\n",
              "        <tr>\n",
              "            <th>Ethnicity</th> <th>Eligible</th> <th>Panels</th> <th>Difference</th>\n",
              "        </tr>\n",
              "    </thead>\n",
              "    <tbody>\n",
              "        <tr>\n",
              "            <td>Asian/PI </td> <td>0.15    </td> <td>0.26  </td> <td>0.11      </td>\n",
              "        </tr>\n",
              "        <tr>\n",
              "            <td>Black/AA </td> <td>0.18    </td> <td>0.08  </td> <td>-0.1      </td>\n",
              "        </tr>\n",
              "        <tr>\n",
              "            <td>Hispanic </td> <td>0.12    </td> <td>0.08  </td> <td>-0.04     </td>\n",
              "        </tr>\n",
              "        <tr>\n",
              "            <td>Caucasian</td> <td>0.54    </td> <td>0.54  </td> <td>0         </td>\n",
              "        </tr>\n",
              "        <tr>\n",
              "            <td>Other    </td> <td>0.01    </td> <td>0.04  </td> <td>0.03      </td>\n",
              "        </tr>\n",
              "    </tbody>\n",
              "</table>"
            ],
            "text/plain": [
              "Ethnicity | Eligible | Panels | Difference\n",
              "Asian/PI  | 0.15     | 0.26   | 0.11\n",
              "Black/AA  | 0.18     | 0.08   | -0.1\n",
              "Hispanic  | 0.12     | 0.08   | -0.04\n",
              "Caucasian | 0.54     | 0.54   | 0\n",
              "Other     | 0.01     | 0.04   | 0.03"
            ]
          },
          "execution_count": 16,
          "metadata": {},
          "output_type": "execute_result"
        }
      ],
      "source": [
        "diffs = jury.column('Panels') - jury.column('Eligible')\n",
        "jury_with_difference = jury.with_column('Difference', diffs)\n",
        "jury_with_difference"
      ]
    },
    {
      "cell_type": "markdown",
      "id": "1e423f23-f83e-4292-8f94-f9688e45a2fe",
      "metadata": {
        "id": "1e423f23-f83e-4292-8f94-f9688e45a2fe"
      },
      "source": [
        "---"
      ]
    },
    {
      "cell_type": "markdown",
      "id": "84db7f48-0bf3-4e31-a78d-92a382291686",
      "metadata": {
        "id": "84db7f48-0bf3-4e31-a78d-92a382291686"
      },
      "source": [
        "### Total Variation Distance"
      ]
    },
    {
      "cell_type": "markdown",
      "id": "ce34dfe2-34ac-4d4b-9b10-e597de9f2749",
      "metadata": {
        "id": "ce34dfe2-34ac-4d4b-9b10-e597de9f2749"
      },
      "source": [
        "Total Variation Distance (TVD) Recipe:\n",
        "* For each category, compute the difference in proportions between two distributions\n",
        "* Take the absolute value of each difference\n",
        "* Sum, and then divide the sum by 2\n"
      ]
    },
    {
      "cell_type": "markdown",
      "id": "d137e215-749d-4264-a319-1c334deaf924",
      "metadata": {
        "id": "d137e215-749d-4264-a319-1c334deaf924"
      },
      "source": [
        "---"
      ]
    },
    {
      "cell_type": "markdown",
      "id": "815bc3b6-ad18-431f-b262-e2698da03a54",
      "metadata": {
        "id": "815bc3b6-ad18-431f-b262-e2698da03a54"
      },
      "source": [
        "### Demo: Total Variation Distance"
      ]
    },
    {
      "cell_type": "markdown",
      "id": "3e3fb101-8ee1-4fea-9751-062976ff433e",
      "metadata": {
        "deletable": false,
        "editable": false,
        "id": "3e3fb101-8ee1-4fea-9751-062976ff433e"
      },
      "source": [
        "* Define a function that calculates the TVD for two provided distribution arrays.\n",
        "* Calculate the TVD of our observed data (Panels) from their expected values assuming the model is true (Eligible)\n",
        "* Calculate the TVD of a model simulation from its expected values\n",
        "* Replicate creating sample juries and calculate the TVD in relation to the model 10000 times.\n",
        "* Visualize how the observed statistic fits in the distribution formed from those simulated TVD values."
      ]
    },
    {
      "cell_type": "code",
      "execution_count": null,
      "id": "bb96bf60-46dd-452a-a95b-8254801f48f8",
      "metadata": {
        "tags": [],
        "id": "bb96bf60-46dd-452a-a95b-8254801f48f8"
      },
      "outputs": [],
      "source": [
        "def tvd(dist1, dist2):\n",
        "    return sum(abs(dist1-dist2))/2"
      ]
    },
    {
      "cell_type": "code",
      "execution_count": null,
      "id": "37a79c25-53e8-4bc2-9505-f39a2c21d99e",
      "metadata": {
        "tags": [],
        "id": "37a79c25-53e8-4bc2-9505-f39a2c21d99e",
        "outputId": "b3666256-1444-41a9-f5af-eb1c4e92937f"
      },
      "outputs": [
        {
          "data": {
            "text/plain": [
              "1.0"
            ]
          },
          "execution_count": 18,
          "metadata": {},
          "output_type": "execute_result"
        }
      ],
      "source": [
        "dist1 = make_array(1, 2, 3)\n",
        "dist2 = make_array(0, 2, 4)\n",
        "tvd(dist1, dist2)"
      ]
    },
    {
      "cell_type": "code",
      "execution_count": null,
      "id": "71f58622-2b84-47df-a39e-cfe05a3b9d7d",
      "metadata": {
        "tags": [],
        "id": "71f58622-2b84-47df-a39e-cfe05a3b9d7d",
        "outputId": "3dae4a12-6467-4453-9d11-4cf311651d24"
      },
      "outputs": [
        {
          "data": {
            "text/plain": [
              "0.14000000000000001"
            ]
          },
          "execution_count": 19,
          "metadata": {},
          "output_type": "execute_result"
        }
      ],
      "source": [
        "observed_proportions = jury.column('Panels')\n",
        "obsvd_tvd = tvd(observed_proportions, model)\n",
        "obsvd_tvd"
      ]
    },
    {
      "cell_type": "code",
      "execution_count": null,
      "id": "679c1eb6-12be-4d0c-90f7-76b3cf0f9e8b",
      "metadata": {
        "tags": [],
        "id": "679c1eb6-12be-4d0c-90f7-76b3cf0f9e8b",
        "outputId": "cd048b7f-adfb-4821-94c2-9f6227292b6e"
      },
      "outputs": [
        {
          "data": {
            "text/plain": [
              "0.017259311314125128"
            ]
          },
          "execution_count": 20,
          "metadata": {},
          "output_type": "execute_result"
        }
      ],
      "source": [
        "simulated_proportions = sample_proportions(1423, model)\n",
        "tvd(simulated_proportions, model)"
      ]
    },
    {
      "cell_type": "code",
      "execution_count": null,
      "id": "94d41736-2265-4052-a015-da48723cecb7",
      "metadata": {
        "tags": [],
        "id": "94d41736-2265-4052-a015-da48723cecb7"
      },
      "outputs": [],
      "source": [
        "def simulated_tvd():\n",
        "    simulated_proportions = sample_proportions(1423, model)\n",
        "    return tvd(simulated_proportions, model)\n",
        "\n",
        "tvds = make_array()\n",
        "num_simulations = 10_000\n",
        "\n",
        "for _ in np.arange(num_simulations):\n",
        "    new_tvd = simulated_tvd()\n",
        "    tvds = np.append(tvds, new_tvd)"
      ]
    },
    {
      "cell_type": "code",
      "execution_count": null,
      "id": "e5565847-44a7-4b0e-ac54-12eb935d65f3",
      "metadata": {
        "tags": [],
        "id": "e5565847-44a7-4b0e-ac54-12eb935d65f3",
        "outputId": "5531630f-34c1-4c7d-b381-81703becfd9e"
      },
      "outputs": [
        {
          "name": "stdout",
          "output_type": "stream",
          "text": [
            "Observed TVD: 0.14\n"
          ]
        },
        {
          "data": {
            "image/png": "[encoded data removed]",
            "text/plain": [
              "<Figure size 600x400 with 1 Axes>"
            ]
          },
          "metadata": {},
          "output_type": "display_data"
        }
      ],
      "source": [
        "title = 'Simulated TVDs (if model is true)'\n",
        "bins = np.arange(0, .05, .005)\n",
        "\n",
        "Table().with_column(title, tvds).hist(bins = bins)\n",
        "plt.scatter(0.14, 0, color='red', s=60, zorder=3)\n",
        "print('Observed TVD: ' + str(obsvd_tvd))"
      ]
    },
    {
      "cell_type": "markdown",
      "id": "9dd04010-f247-4591-b12a-d4cb8e771b29",
      "metadata": {
        "id": "9dd04010-f247-4591-b12a-d4cb8e771b29"
      },
      "source": [
        "---"
      ]
    },
    {
      "cell_type": "markdown",
      "id": "c6b6f952-9fcf-41b8-be9a-52092b68b7a0",
      "metadata": {
        "id": "c6b6f952-9fcf-41b8-be9a-52092b68b7a0"
      },
      "source": [
        "### Summary of the Method"
      ]
    },
    {
      "cell_type": "markdown",
      "id": "2d687790-0502-43cc-8e6c-3af7cc218bfc",
      "metadata": {
        "id": "2d687790-0502-43cc-8e6c-3af7cc218bfc"
      },
      "source": [
        "To assess whether a sample was drawn randomly from a known categorical distribution:\n",
        "* Use TVD as the statistic because it measures the distance between categorical distributions\n",
        "* Sample at random from the population and compute the TVD from the random sample; repeat numerous times\n",
        "* Compare:\n",
        "    * Empirical distribution of simulated TVDs\n",
        "    * Actual TVD from the sample in the study\n"
      ]
    },
    {
      "cell_type": "markdown",
      "id": "b5d6f7f6-3282-4365-9f1e-269be67a0d9c",
      "metadata": {
        "id": "b5d6f7f6-3282-4365-9f1e-269be67a0d9c"
      },
      "source": [
        "---"
      ]
    },
    {
      "cell_type": "markdown",
      "id": "8d555c7c-cb27-4217-9134-a4ef18fb4d51",
      "metadata": {
        "id": "8d555c7c-cb27-4217-9134-a4ef18fb4d51"
      },
      "source": [
        "## Testing Hypotheses"
      ]
    },
    {
      "cell_type": "markdown",
      "id": "26419f5f-922b-4d94-a2fd-ffc5cb65e7f2",
      "metadata": {
        "id": "26419f5f-922b-4d94-a2fd-ffc5cb65e7f2"
      },
      "source": [
        "---"
      ]
    },
    {
      "cell_type": "markdown",
      "id": "215c0aa9-e2c3-44bb-b1e4-0dbf8a27f802",
      "metadata": {
        "id": "215c0aa9-e2c3-44bb-b1e4-0dbf8a27f802"
      },
      "source": [
        "### Testing Hypotheses"
      ]
    },
    {
      "cell_type": "markdown",
      "id": "9f6825fe-bf9d-411f-aa00-7555966ed31a",
      "metadata": {
        "id": "9f6825fe-bf9d-411f-aa00-7555966ed31a"
      },
      "source": [
        "* A test chooses between two views of how data were generated\n",
        "* The views are called hypotheses\n",
        "* The test picks the hypothesis that is better supported by the observed data\n"
      ]
    },
    {
      "cell_type": "markdown",
      "id": "a4c6cf42-dee7-462e-b68e-2d9c987a787c",
      "metadata": {
        "id": "a4c6cf42-dee7-462e-b68e-2d9c987a787c"
      },
      "source": [
        "---"
      ]
    },
    {
      "cell_type": "markdown",
      "id": "d211f7f3-16fb-4a56-9f53-39d4bc2c74d9",
      "metadata": {
        "id": "d211f7f3-16fb-4a56-9f53-39d4bc2c74d9"
      },
      "source": [
        "### Null and Alternative"
      ]
    },
    {
      "cell_type": "markdown",
      "id": "6a3da318-8049-4c52-ac61-91a0222eaff9",
      "metadata": {
        "id": "6a3da318-8049-4c52-ac61-91a0222eaff9"
      },
      "source": [
        "The method only works if we can simulate data under one of the hypotheses.\n",
        "* Null hypothesis:\n",
        "    * A well defined chance model about how the data were generated\n",
        "    * We can simulate data under the assumptions of this model – “under the null hypothesis”\n",
        "* Alternative hypothesis: A different view about the origin of the data\n"
      ]
    },
    {
      "cell_type": "markdown",
      "id": "af5ad8a9-b8a0-400b-a9e5-57e1afa406d7",
      "metadata": {
        "id": "af5ad8a9-b8a0-400b-a9e5-57e1afa406d7"
      },
      "source": [
        "---"
      ]
    },
    {
      "cell_type": "markdown",
      "id": "07e0fc86-6308-4023-a05b-ad93d3eb561a",
      "metadata": {
        "id": "07e0fc86-6308-4023-a05b-ad93d3eb561a"
      },
      "source": [
        "### Test Statistic"
      ]
    },
    {
      "cell_type": "markdown",
      "id": "1289fc55-ad0c-4a86-8766-c93fa4e26eb2",
      "metadata": {
        "id": "1289fc55-ad0c-4a86-8766-c93fa4e26eb2"
      },
      "source": [
        "* The statistic that we choose to simulate, to decide between the two hypotheses\n",
        "* Questions before choosing the statistic:\n",
        "    * What values of the statistic will make us lean towards the null hypothesis?\n",
        "    * What values will make us lean towards the alternative? Preferably, the answer should be just \"high\". Try to avoid \"both high and low\".\n"
      ]
    },
    {
      "cell_type": "markdown",
      "id": "36faa08b-9549-4b1c-9d14-844b05cd8f62",
      "metadata": {
        "id": "36faa08b-9549-4b1c-9d14-844b05cd8f62"
      },
      "source": [
        "---"
      ]
    },
    {
      "cell_type": "markdown",
      "id": "09b5be28-31fa-41b4-8746-85fdd0f16481",
      "metadata": {
        "id": "09b5be28-31fa-41b4-8746-85fdd0f16481"
      },
      "source": [
        "### Prediction Under the Null Hypothesis"
      ]
    },
    {
      "cell_type": "markdown",
      "id": "79a4548e-8d73-4b7d-b25d-5f781a988a1b",
      "metadata": {
        "id": "79a4548e-8d73-4b7d-b25d-5f781a988a1b"
      },
      "source": [
        "* Simulate the test statistic under the null hypothesis; draw the histogram of the simulated values\n",
        "* This displays the **empirical distribution of the statistic under the null hypothesis**\n",
        "* It is a prediction about the statistic, made by the null hypothesis\n",
        "    * It shows all the likely values of the statistic\n",
        "    * Also how likely they are (**if the null hypothesis is true**)\n",
        "* The probabilities are approximate, because we can't generate all the possible random samples\n"
      ]
    },
    {
      "cell_type": "markdown",
      "id": "814adbd5-f90a-427f-be02-c968bc1197a1",
      "metadata": {
        "id": "814adbd5-f90a-427f-be02-c968bc1197a1"
      },
      "source": [
        "---"
      ]
    },
    {
      "cell_type": "markdown",
      "id": "1772e743-6bd9-460a-a38c-b6dad3c64de2",
      "metadata": {
        "id": "1772e743-6bd9-460a-a38c-b6dad3c64de2"
      },
      "source": [
        "### Conclusion of the Test"
      ]
    },
    {
      "cell_type": "markdown",
      "id": "1295ac69-b265-4535-b877-91edb433fd77",
      "metadata": {
        "id": "1295ac69-b265-4535-b877-91edb433fd77"
      },
      "source": [
        "* Resolve choice between null and alternative hypotheses\n",
        "    * Compare the **observed test statistic** and its empirical distribution under the null hypothesis\n",
        "    * If the observed value is **not consistent** with the distribution, then the test favors the alternative (\"data is more consistent with the alternative\")\n",
        "* Whether a value is consistent with a distribution:\n",
        "    * A visualization may be sufficient\n",
        "    * If not, there are conventions about \"consistency\""
      ]
    },
    {
      "cell_type": "markdown",
      "id": "e0afc901-7ac0-43c5-bcd4-6b817562aac5",
      "metadata": {
        "id": "e0afc901-7ac0-43c5-bcd4-6b817562aac5"
      },
      "source": [
        "---"
      ]
    },
    {
      "cell_type": "markdown",
      "id": "4251815f-f0b1-4ee4-88e8-2ed191fd48ac",
      "metadata": {
        "editable": true,
        "tags": [],
        "id": "4251815f-f0b1-4ee4-88e8-2ed191fd48ac"
      },
      "source": [
        "## Attribution"
      ]
    },
    {
      "cell_type": "markdown",
      "id": "c5223272-aa94-4b79-8bda-127ac4211f87",
      "metadata": {
        "id": "c5223272-aa94-4b79-8bda-127ac4211f87"
      },
      "source": [
        "This content is licensed under the <a href=\"https://creativecommons.org/licenses/by-nc-sa/4.0/\">Creative Commons Attribution-NonCommercial-ShareAlike 4.0 International License (CC BY-NC-SA 4.0)</a> and derived from the <a href=\"https://www.data8.org/\">Data 8: The Foundations of Data Science</a> offered by the University of California, Berkeley.\n",
        "\n",
        "<img src=\"./by-nc-sa.png\" width=100px>"
      ]
    }
  ],
  "metadata": {
    "kernelspec": {
      "display_name": "Python 3 (ipykernel)",
      "language": "python",
      "name": "python3"
    },
    "language_info": {
      "codemirror_mode": {
        "name": "ipython",
        "version": 3
      },
      "file_extension": ".py",
      "mimetype": "text/x-python",
      "name": "python",
      "nbconvert_exporter": "python",
      "pygments_lexer": "ipython3",
      "version": "3.11.9"
    },
    "otter": {
      "OK_FORMAT": true,
      "tests": {}
    },
    "colab": {
      "provenance": [],
      "include_colab_link": true
    }
  },
  "nbformat": 4,
  "nbformat_minor": 5
}