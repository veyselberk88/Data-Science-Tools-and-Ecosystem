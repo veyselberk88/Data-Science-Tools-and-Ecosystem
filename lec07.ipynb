{
  "cells": [
    {
      "cell_type": "markdown",
      "metadata": {
        "id": "view-in-github",
        "colab_type": "text"
      },
      "source": [
        "<a href=\"https://colab.research.google.com/github/veyselberk88/Data-Science-Tools-and-Ecosystem/blob/main/lec07.ipynb\" target=\"_parent\"><img src=\"https://colab.research.google.com/assets/colab-badge.svg\" alt=\"Open In Colab\"/></a>"
      ]
    },
    {
      "cell_type": "markdown",
      "id": "489966a8-8a99-40a9-8500-f94afca4a7dd",
      "metadata": {
        "id": "489966a8-8a99-40a9-8500-f94afca4a7dd"
      },
      "source": [
        "<img src=\"./ccsf.png\" alt=\"CCSF Logo\" width=200px style=\"margin:0px -5px\">"
      ]
    },
    {
      "cell_type": "markdown",
      "id": "3fb190b4-d1c1-424a-a06e-e9e22e14fc14",
      "metadata": {
        "id": "3fb190b4-d1c1-424a-a06e-e9e22e14fc14"
      },
      "source": [
        "# Lecture 07: Building Tables"
      ]
    },
    {
      "cell_type": "markdown",
      "id": "aa88a61c-44e5-460c-adff-1502b2d79cbc",
      "metadata": {
        "id": "aa88a61c-44e5-460c-adff-1502b2d79cbc"
      },
      "source": [
        "Associated Textbook Sections: [6.0, 6.1, 6.2](https://ccsf-math-108.github.io/textbook/chapters/06/Tables.html)"
      ]
    },
    {
      "cell_type": "markdown",
      "id": "4c58e7f6-ea37-4c02-bb8d-f7a003f30d72",
      "metadata": {
        "id": "4c58e7f6-ea37-4c02-bb8d-f7a003f30d72"
      },
      "source": [
        "---"
      ]
    },
    {
      "cell_type": "markdown",
      "id": "62596437-d186-4e3c-995b-5294e0dd1675",
      "metadata": {
        "id": "62596437-d186-4e3c-995b-5294e0dd1675"
      },
      "source": [
        "## Overview"
      ]
    },
    {
      "cell_type": "markdown",
      "id": "4456268a-f6cc-44af-bd82-8ed6b0ed7034",
      "metadata": {
        "id": "4456268a-f6cc-44af-bd82-8ed6b0ed7034"
      },
      "source": [
        "* [Creating Tables](#Creating-Tables)\n",
        "* [Columns and Rows of Tables](#Columns-and-Rows-of-Tables)\n",
        "* [Attribute Types](#Attribute-Types)\n",
        "* [Exploring the Tallest_Buildings](#Exploring-the-Tallest-Buildings)\n",
        "* [Exploring Movies](#Exploring-Movies)"
      ]
    },
    {
      "cell_type": "markdown",
      "id": "586b3afd-dc75-4925-a665-0cf0d845d5bc",
      "metadata": {
        "id": "586b3afd-dc75-4925-a665-0cf0d845d5bc"
      },
      "source": [
        "---"
      ]
    },
    {
      "cell_type": "markdown",
      "id": "e359cf1a-3aa1-4023-8346-130a16c02bc0",
      "metadata": {
        "id": "e359cf1a-3aa1-4023-8346-130a16c02bc0"
      },
      "source": [
        "## Set Up the Notebook"
      ]
    },
    {
      "cell_type": "code",
      "execution_count": null,
      "id": "e7f66358-aa6b-467e-8b93-c612ae9c694f",
      "metadata": {
        "tags": [],
        "id": "e7f66358-aa6b-467e-8b93-c612ae9c694f"
      },
      "outputs": [],
      "source": [
        "from datascience import *\n",
        "import numpy as np"
      ]
    },
    {
      "cell_type": "markdown",
      "id": "e3c6644a-0ab1-456f-8bb5-1b3d24c3b39b",
      "metadata": {
        "id": "e3c6644a-0ab1-456f-8bb5-1b3d24c3b39b"
      },
      "source": [
        "---"
      ]
    },
    {
      "cell_type": "markdown",
      "id": "e889809e-e129-4820-a35c-7314ed60c843",
      "metadata": {
        "id": "e889809e-e129-4820-a35c-7314ed60c843"
      },
      "source": [
        "## Creating Tables"
      ]
    },
    {
      "cell_type": "markdown",
      "id": "91688f26-57e6-4857-a0fe-b120a2dee582",
      "metadata": {
        "id": "91688f26-57e6-4857-a0fe-b120a2dee582"
      },
      "source": [
        "Here are *some* of the ways that you will create a table in this class:\n",
        "* `Table.read_table(filename)` - a table from a CSV file\n",
        "* `Table()` - an empty table\n",
        "* `select`, `drop`, `where`, `sort`, etc. - a table from existing tables\n",
        "* `with_column` and `with_columns` - a table from an existing table with additional columns\n",
        "* `with_row` and `with_rows` - a table from an existing table with additional rows\n",
        "* `take` and `exclude` - a table formed from a subset of rows from an existing table"
      ]
    },
    {
      "cell_type": "markdown",
      "id": "dd496696-3abb-43e9-961b-c9c3d3347442",
      "metadata": {
        "id": "dd496696-3abb-43e9-961b-c9c3d3347442"
      },
      "source": [
        "---"
      ]
    },
    {
      "cell_type": "markdown",
      "id": "24d7cc8f-1456-4f62-8a2c-ab837342e879",
      "metadata": {
        "id": "24d7cc8f-1456-4f62-8a2c-ab837342e879"
      },
      "source": [
        "### Demo: Using `read_table`"
      ]
    },
    {
      "cell_type": "markdown",
      "id": "98d71456-e7ee-4d2d-9dda-bfdbe78b51e3",
      "metadata": {
        "deletable": false,
        "editable": false,
        "id": "98d71456-e7ee-4d2d-9dda-bfdbe78b51e3"
      },
      "source": [
        "As of February 2024, the tallest buildings in the United States (according to Wikipedia) **should** be stored in the file `tallest_buildings.csv`. This file is located in your the same folder as this Jupyter Notebook."
      ]
    },
    {
      "cell_type": "code",
      "execution_count": null,
      "id": "9f6f698e-5009-4522-a5eb-134396fd9379",
      "metadata": {
        "tags": [],
        "id": "9f6f698e-5009-4522-a5eb-134396fd9379",
        "outputId": "08c82a82-b878-400c-c493-04fecf687862"
      },
      "outputs": [
        {
          "data": {
            "text/html": [
              "<table border=\"1\" class=\"dataframe\">\n",
              "    <thead>\n",
              "        <tr>\n",
              "            <th>Name</th> <th>Floors</th> <th>Year</th> <th>Height (ft)</th> <th>City</th>\n",
              "        </tr>\n",
              "    </thead>\n",
              "    <tbody>\n",
              "        <tr>\n",
              "            <td>One World Trade Center             </td> <td>104   </td> <td>2014</td> <td>1776       </td> <td>New York City</td>\n",
              "        </tr>\n",
              "        <tr>\n",
              "            <td>Central Park Tower                 </td> <td>98    </td> <td>2020</td> <td>1550       </td> <td>New York City</td>\n",
              "        </tr>\n",
              "        <tr>\n",
              "            <td>Willis Tower                       </td> <td>108   </td> <td>1974</td> <td>1450       </td> <td>Chicago      </td>\n",
              "        </tr>\n",
              "        <tr>\n",
              "            <td>111 West 57th Street               </td> <td>84    </td> <td>2021</td> <td>1428       </td> <td>New York City</td>\n",
              "        </tr>\n",
              "        <tr>\n",
              "            <td>One Vanderbilt                     </td> <td>93    </td> <td>2020</td> <td>1401       </td> <td>New York City</td>\n",
              "        </tr>\n",
              "        <tr>\n",
              "            <td>432 Park Avenue                    </td> <td>85    </td> <td>2015</td> <td>1396       </td> <td>New York City</td>\n",
              "        </tr>\n",
              "        <tr>\n",
              "            <td>Trump International Hotel and Tower</td> <td>98    </td> <td>2009</td> <td>1388       </td> <td>Chicago      </td>\n",
              "        </tr>\n",
              "        <tr>\n",
              "            <td>30 Hudson Yards                    </td> <td>103   </td> <td>2019</td> <td>1270       </td> <td>New York City</td>\n",
              "        </tr>\n",
              "        <tr>\n",
              "            <td>Empire State Building              </td> <td>102   </td> <td>1931</td> <td>1250       </td> <td>New York City</td>\n",
              "        </tr>\n",
              "        <tr>\n",
              "            <td>Bank of America Tower              </td> <td>55    </td> <td>2009</td> <td>1200       </td> <td>New York City</td>\n",
              "        </tr>\n",
              "    </tbody>\n",
              "</table>\n",
              "<p>... (77 rows omitted)</p>"
            ],
            "text/plain": [
              "Name                                | Floors | Year | Height (ft) | City\n",
              "One World Trade Center              | 104    | 2014 | 1776        | New York City\n",
              "Central Park Tower                  | 98     | 2020 | 1550        | New York City\n",
              "Willis Tower                        | 108    | 1974 | 1450        | Chicago\n",
              "111 West 57th Street                | 84     | 2021 | 1428        | New York City\n",
              "One Vanderbilt                      | 93     | 2020 | 1401        | New York City\n",
              "432 Park Avenue                     | 85     | 2015 | 1396        | New York City\n",
              "Trump International Hotel and Tower | 98     | 2009 | 1388        | Chicago\n",
              "30 Hudson Yards                     | 103    | 2019 | 1270        | New York City\n",
              "Empire State Building               | 102    | 1931 | 1250        | New York City\n",
              "Bank of America Tower               | 55     | 2009 | 1200        | New York City\n",
              "... (77 rows omitted)"
            ]
          },
          "execution_count": 31,
          "metadata": {},
          "output_type": "execute_result"
        }
      ],
      "source": [
        "tallest_buildings = Table.read_table('tallest_buildings.csv')\n",
        "tallest_buildings"
      ]
    },
    {
      "cell_type": "markdown",
      "id": "f05845c2-70b0-42a6-9087-9146bf8c282c",
      "metadata": {
        "id": "f05845c2-70b0-42a6-9087-9146bf8c282c"
      },
      "source": [
        "---"
      ]
    },
    {
      "cell_type": "markdown",
      "id": "35d6d5a9-d4e5-4a58-b0b6-9d653c7c99c4",
      "metadata": {
        "id": "35d6d5a9-d4e5-4a58-b0b6-9d653c7c99c4"
      },
      "source": [
        "### Demo: Tables from Tables"
      ]
    },
    {
      "cell_type": "markdown",
      "id": "484da530-7d7b-47dd-8647-02f8aaa69f51",
      "metadata": {
        "deletable": false,
        "editable": false,
        "id": "484da530-7d7b-47dd-8647-02f8aaa69f51"
      },
      "source": [
        "Most (not all) of the table methods create a new table and do not modify the original table."
      ]
    },
    {
      "cell_type": "code",
      "execution_count": null,
      "id": "18693a2d-1c94-44f5-b14a-ac4965712aef",
      "metadata": {
        "tags": [],
        "id": "18693a2d-1c94-44f5-b14a-ac4965712aef",
        "outputId": "42827823-7138-4c6c-b934-498dd3dec88b"
      },
      "outputs": [
        {
          "data": {
            "text/html": [
              "<table border=\"1\" class=\"dataframe\">\n",
              "    <thead>\n",
              "        <tr>\n",
              "            <th>Name</th> <th>Height (ft)</th>\n",
              "        </tr>\n",
              "    </thead>\n",
              "    <tbody>\n",
              "        <tr>\n",
              "            <td>One World Trade Center             </td> <td>1776       </td>\n",
              "        </tr>\n",
              "        <tr>\n",
              "            <td>Central Park Tower                 </td> <td>1550       </td>\n",
              "        </tr>\n",
              "        <tr>\n",
              "            <td>Willis Tower                       </td> <td>1450       </td>\n",
              "        </tr>\n",
              "        <tr>\n",
              "            <td>111 West 57th Street               </td> <td>1428       </td>\n",
              "        </tr>\n",
              "        <tr>\n",
              "            <td>One Vanderbilt                     </td> <td>1401       </td>\n",
              "        </tr>\n",
              "        <tr>\n",
              "            <td>432 Park Avenue                    </td> <td>1396       </td>\n",
              "        </tr>\n",
              "        <tr>\n",
              "            <td>Trump International Hotel and Tower</td> <td>1388       </td>\n",
              "        </tr>\n",
              "        <tr>\n",
              "            <td>30 Hudson Yards                    </td> <td>1270       </td>\n",
              "        </tr>\n",
              "        <tr>\n",
              "            <td>Empire State Building              </td> <td>1250       </td>\n",
              "        </tr>\n",
              "        <tr>\n",
              "            <td>Bank of America Tower              </td> <td>1200       </td>\n",
              "        </tr>\n",
              "    </tbody>\n",
              "</table>\n",
              "<p>... (77 rows omitted)</p>"
            ],
            "text/plain": [
              "Name                                | Height (ft)\n",
              "One World Trade Center              | 1776\n",
              "Central Park Tower                  | 1550\n",
              "Willis Tower                        | 1450\n",
              "111 West 57th Street                | 1428\n",
              "One Vanderbilt                      | 1401\n",
              "432 Park Avenue                     | 1396\n",
              "Trump International Hotel and Tower | 1388\n",
              "30 Hudson Yards                     | 1270\n",
              "Empire State Building               | 1250\n",
              "Bank of America Tower               | 1200\n",
              "... (77 rows omitted)"
            ]
          },
          "execution_count": 32,
          "metadata": {},
          "output_type": "execute_result"
        }
      ],
      "source": [
        "tallest_buildings.select('Name', 'Height (ft)')"
      ]
    },
    {
      "cell_type": "code",
      "execution_count": null,
      "id": "9b2baa01-3c6d-4ea5-b834-adaaa5c048aa",
      "metadata": {
        "tags": [],
        "id": "9b2baa01-3c6d-4ea5-b834-adaaa5c048aa",
        "outputId": "88891a8e-55a8-4ea7-a8b0-a22f70fba242"
      },
      "outputs": [
        {
          "data": {
            "text/html": [
              "<table border=\"1\" class=\"dataframe\">\n",
              "    <thead>\n",
              "        <tr>\n",
              "            <th>Name</th> <th>Floors</th> <th>Year</th> <th>Height (ft)</th> <th>City</th>\n",
              "        </tr>\n",
              "    </thead>\n",
              "    <tbody>\n",
              "        <tr>\n",
              "            <td>One World Trade Center             </td> <td>104   </td> <td>2014</td> <td>1776       </td> <td>New York City</td>\n",
              "        </tr>\n",
              "        <tr>\n",
              "            <td>Central Park Tower                 </td> <td>98    </td> <td>2020</td> <td>1550       </td> <td>New York City</td>\n",
              "        </tr>\n",
              "        <tr>\n",
              "            <td>Willis Tower                       </td> <td>108   </td> <td>1974</td> <td>1450       </td> <td>Chicago      </td>\n",
              "        </tr>\n",
              "        <tr>\n",
              "            <td>111 West 57th Street               </td> <td>84    </td> <td>2021</td> <td>1428       </td> <td>New York City</td>\n",
              "        </tr>\n",
              "        <tr>\n",
              "            <td>One Vanderbilt                     </td> <td>93    </td> <td>2020</td> <td>1401       </td> <td>New York City</td>\n",
              "        </tr>\n",
              "        <tr>\n",
              "            <td>432 Park Avenue                    </td> <td>85    </td> <td>2015</td> <td>1396       </td> <td>New York City</td>\n",
              "        </tr>\n",
              "        <tr>\n",
              "            <td>Trump International Hotel and Tower</td> <td>98    </td> <td>2009</td> <td>1388       </td> <td>Chicago      </td>\n",
              "        </tr>\n",
              "        <tr>\n",
              "            <td>30 Hudson Yards                    </td> <td>103   </td> <td>2019</td> <td>1270       </td> <td>New York City</td>\n",
              "        </tr>\n",
              "        <tr>\n",
              "            <td>Empire State Building              </td> <td>102   </td> <td>1931</td> <td>1250       </td> <td>New York City</td>\n",
              "        </tr>\n",
              "        <tr>\n",
              "            <td>Bank of America Tower              </td> <td>55    </td> <td>2009</td> <td>1200       </td> <td>New York City</td>\n",
              "        </tr>\n",
              "    </tbody>\n",
              "</table>\n",
              "<p>... (77 rows omitted)</p>"
            ],
            "text/plain": [
              "Name                                | Floors | Year | Height (ft) | City\n",
              "One World Trade Center              | 104    | 2014 | 1776        | New York City\n",
              "Central Park Tower                  | 98     | 2020 | 1550        | New York City\n",
              "Willis Tower                        | 108    | 1974 | 1450        | Chicago\n",
              "111 West 57th Street                | 84     | 2021 | 1428        | New York City\n",
              "One Vanderbilt                      | 93     | 2020 | 1401        | New York City\n",
              "432 Park Avenue                     | 85     | 2015 | 1396        | New York City\n",
              "Trump International Hotel and Tower | 98     | 2009 | 1388        | Chicago\n",
              "30 Hudson Yards                     | 103    | 2019 | 1270        | New York City\n",
              "Empire State Building               | 102    | 1931 | 1250        | New York City\n",
              "Bank of America Tower               | 55     | 2009 | 1200        | New York City\n",
              "... (77 rows omitted)"
            ]
          },
          "execution_count": 33,
          "metadata": {},
          "output_type": "execute_result"
        }
      ],
      "source": [
        "tallest_buildings"
      ]
    },
    {
      "cell_type": "code",
      "execution_count": null,
      "id": "6369f77e-02ac-46df-9b8c-082bda57c66e",
      "metadata": {
        "tags": [],
        "id": "6369f77e-02ac-46df-9b8c-082bda57c66e",
        "outputId": "d9149777-3f0c-46d4-fb63-68aa576bedef"
      },
      "outputs": [
        {
          "data": {
            "text/html": [
              "<table border=\"1\" class=\"dataframe\">\n",
              "    <thead>\n",
              "        <tr>\n",
              "            <th>Name</th> <th>Height (ft)</th>\n",
              "        </tr>\n",
              "    </thead>\n",
              "    <tbody>\n",
              "        <tr>\n",
              "            <td>One World Trade Center             </td> <td>1776       </td>\n",
              "        </tr>\n",
              "        <tr>\n",
              "            <td>Central Park Tower                 </td> <td>1550       </td>\n",
              "        </tr>\n",
              "        <tr>\n",
              "            <td>Willis Tower                       </td> <td>1450       </td>\n",
              "        </tr>\n",
              "        <tr>\n",
              "            <td>111 West 57th Street               </td> <td>1428       </td>\n",
              "        </tr>\n",
              "        <tr>\n",
              "            <td>One Vanderbilt                     </td> <td>1401       </td>\n",
              "        </tr>\n",
              "        <tr>\n",
              "            <td>432 Park Avenue                    </td> <td>1396       </td>\n",
              "        </tr>\n",
              "        <tr>\n",
              "            <td>Trump International Hotel and Tower</td> <td>1388       </td>\n",
              "        </tr>\n",
              "        <tr>\n",
              "            <td>30 Hudson Yards                    </td> <td>1270       </td>\n",
              "        </tr>\n",
              "        <tr>\n",
              "            <td>Empire State Building              </td> <td>1250       </td>\n",
              "        </tr>\n",
              "        <tr>\n",
              "            <td>Bank of America Tower              </td> <td>1200       </td>\n",
              "        </tr>\n",
              "    </tbody>\n",
              "</table>\n",
              "<p>... (77 rows omitted)</p>"
            ],
            "text/plain": [
              "Name                                | Height (ft)\n",
              "One World Trade Center              | 1776\n",
              "Central Park Tower                  | 1550\n",
              "Willis Tower                        | 1450\n",
              "111 West 57th Street                | 1428\n",
              "One Vanderbilt                      | 1401\n",
              "432 Park Avenue                     | 1396\n",
              "Trump International Hotel and Tower | 1388\n",
              "30 Hudson Yards                     | 1270\n",
              "Empire State Building               | 1250\n",
              "Bank of America Tower               | 1200\n",
              "... (77 rows omitted)"
            ]
          },
          "execution_count": 34,
          "metadata": {},
          "output_type": "execute_result"
        }
      ],
      "source": [
        "name_height = tallest_buildings.select('Name', 'Height (ft)')\n",
        "name_height"
      ]
    },
    {
      "cell_type": "code",
      "execution_count": null,
      "id": "9933d33d-bda9-412e-b540-e3fbae45b9c3",
      "metadata": {
        "scrolled": true,
        "tags": [],
        "id": "9933d33d-bda9-412e-b540-e3fbae45b9c3",
        "outputId": "8aeda2db-12ec-4f19-da23-ef133c8f3e11"
      },
      "outputs": [
        {
          "data": {
            "text/html": [
              "<table border=\"1\" class=\"dataframe\">\n",
              "    <thead>\n",
              "        <tr>\n",
              "            <th>Name</th> <th>Floors</th> <th>Year</th> <th>Height (ft)</th> <th>City</th>\n",
              "        </tr>\n",
              "    </thead>\n",
              "    <tbody>\n",
              "        <tr>\n",
              "            <td>One World Trade Center</td> <td>104   </td> <td>2014</td> <td>1776       </td> <td>New York City</td>\n",
              "        </tr>\n",
              "        <tr>\n",
              "            <td>Central Park Tower    </td> <td>98    </td> <td>2020</td> <td>1550       </td> <td>New York City</td>\n",
              "        </tr>\n",
              "    </tbody>\n",
              "</table>"
            ],
            "text/plain": [
              "Name                   | Floors | Year | Height (ft) | City\n",
              "One World Trade Center | 104    | 2014 | 1776        | New York City\n",
              "Central Park Tower     | 98     | 2020 | 1550        | New York City"
            ]
          },
          "execution_count": 35,
          "metadata": {},
          "output_type": "execute_result"
        }
      ],
      "source": [
        "buildings_above_1500 = tallest_buildings.where('Height (ft)', are.above_or_equal_to(1500))\n",
        "buildings_above_1500"
      ]
    },
    {
      "cell_type": "markdown",
      "id": "d2337aad-2030-4ee1-a20b-f37abe37f6f4",
      "metadata": {
        "id": "d2337aad-2030-4ee1-a20b-f37abe37f6f4"
      },
      "source": [
        "---"
      ]
    },
    {
      "cell_type": "markdown",
      "id": "45ed7b6f-c19d-40da-b432-08daf05e110b",
      "metadata": {
        "id": "45ed7b6f-c19d-40da-b432-08daf05e110b"
      },
      "source": [
        "## Columns and Rows of Tables"
      ]
    },
    {
      "cell_type": "markdown",
      "id": "4b232269-58b5-4b45-ba49-b8b1695a6431",
      "metadata": {
        "id": "4b232269-58b5-4b45-ba49-b8b1695a6431"
      },
      "source": [
        "* Columns:\n",
        "    * Labeled NumPy arrays\n",
        "    * Column labels are strings\n",
        "    * All column values have the same data type\n",
        "    * `t.select(column_labels_or_indexes)` - creates a table with the specified columns of table `t`.\n",
        "    * `t.column(column_label_or_index)` - creates an array with the specified column information\n",
        "* Rows:\n",
        "    * `Row` data type (... kind of like a `list` where the items have labels)\n",
        "    * `t.take(row_indexes)` - creates a table with the specified rows\n",
        "    * `t.row(row_indexes)` - creates a row object with the specified rows"
      ]
    },
    {
      "cell_type": "markdown",
      "id": "3eb087a4-d69e-4fd0-967b-b3d8f86e283e",
      "metadata": {
        "id": "3eb087a4-d69e-4fd0-967b-b3d8f86e283e"
      },
      "source": [
        "---"
      ]
    },
    {
      "cell_type": "markdown",
      "id": "bac6e6b9-c232-47bc-b6fb-5c2bae9a20cb",
      "metadata": {
        "id": "bac6e6b9-c232-47bc-b6fb-5c2bae9a20cb"
      },
      "source": [
        "### Demo: Rows and Columns"
      ]
    },
    {
      "cell_type": "markdown",
      "id": "d74b39da-3f91-4130-ba7f-f57907af5f86",
      "metadata": {
        "deletable": false,
        "editable": false,
        "id": "d74b39da-3f91-4130-ba7f-f57907af5f86"
      },
      "source": [
        "Compare the `row` and `take` table methods."
      ]
    },
    {
      "cell_type": "code",
      "execution_count": null,
      "id": "c1335dab-74e5-4904-9fcb-aed7a317916f",
      "metadata": {
        "tags": [],
        "id": "c1335dab-74e5-4904-9fcb-aed7a317916f",
        "outputId": "c15e28f5-61f5-40d4-e3b0-aeafae02de03"
      },
      "outputs": [
        {
          "data": {
            "text/html": [
              "<table border=\"1\" class=\"dataframe\">\n",
              "    <thead>\n",
              "        <tr>\n",
              "            <th>Name</th> <th>Floors</th> <th>Year</th> <th>Height (ft)</th> <th>City</th>\n",
              "        </tr>\n",
              "    </thead>\n",
              "    <tbody>\n",
              "        <tr>\n",
              "            <td>One World Trade Center</td> <td>104   </td> <td>2014</td> <td>1776       </td> <td>New York City</td>\n",
              "        </tr>\n",
              "    </tbody>\n",
              "</table>"
            ],
            "text/plain": [
              "Name                   | Floors | Year | Height (ft) | City\n",
              "One World Trade Center | 104    | 2014 | 1776        | New York City"
            ]
          },
          "execution_count": 36,
          "metadata": {},
          "output_type": "execute_result"
        }
      ],
      "source": [
        "a=tallest_buildings.take(0)\n",
        "a"
      ]
    },
    {
      "cell_type": "code",
      "execution_count": null,
      "id": "daaad808-5ea0-4e49-abeb-c3bbe3dd13b3",
      "metadata": {
        "tags": [],
        "id": "daaad808-5ea0-4e49-abeb-c3bbe3dd13b3",
        "outputId": "17c9d690-4ec4-4a3e-b0a9-fe7995ef6979"
      },
      "outputs": [
        {
          "data": {
            "text/plain": [
              "Row(Name='One World Trade Center', Floors=104, Year=2014, Height (ft)=1776, City='New York City')"
            ]
          },
          "execution_count": 37,
          "metadata": {},
          "output_type": "execute_result"
        }
      ],
      "source": [
        "b=tallest_buildings.row(0)\n",
        "b"
      ]
    },
    {
      "cell_type": "code",
      "execution_count": null,
      "id": "0977845c-850f-4209-be43-8493d3779e9f",
      "metadata": {
        "tags": [],
        "id": "0977845c-850f-4209-be43-8493d3779e9f",
        "outputId": "bc593033-6efc-43d2-bb19-146207b49199"
      },
      "outputs": [
        {
          "data": {
            "text/plain": [
              "(datascience.tables.Table, datascience.tables.Row)"
            ]
          },
          "execution_count": 38,
          "metadata": {},
          "output_type": "execute_result"
        }
      ],
      "source": [
        "type(a) , type(b)"
      ]
    },
    {
      "cell_type": "code",
      "execution_count": null,
      "id": "3e7798e8-524a-4763-9464-e6eba676e441",
      "metadata": {
        "tags": [],
        "id": "3e7798e8-524a-4763-9464-e6eba676e441",
        "outputId": "2bb32d12-10a4-4d62-bd60-baa4443b7ae3"
      },
      "outputs": [
        {
          "data": {
            "text/plain": [
              "'One World Trade Center'"
            ]
          },
          "execution_count": 39,
          "metadata": {},
          "output_type": "execute_result"
        }
      ],
      "source": [
        "tallest_buildings.row(0).item(0)"
      ]
    },
    {
      "cell_type": "code",
      "execution_count": null,
      "id": "b473c054-bceb-4d03-8a2f-2634cb90147b",
      "metadata": {
        "id": "b473c054-bceb-4d03-8a2f-2634cb90147b",
        "outputId": "cbb2a2ea-676b-47d1-8dad-8fc478c0f2e2"
      },
      "outputs": [
        {
          "data": {
            "text/plain": [
              "('One World Trade Center', 1776)"
            ]
          },
          "execution_count": 40,
          "metadata": {},
          "output_type": "execute_result"
        }
      ],
      "source": [
        "tallest_buildings.row(0).item(0), tallest_buildings.row(0).item(3)"
      ]
    },
    {
      "cell_type": "markdown",
      "id": "65e78f45-0fde-481b-a078-4417121fa207",
      "metadata": {
        "id": "65e78f45-0fde-481b-a078-4417121fa207"
      },
      "source": [
        "---"
      ]
    },
    {
      "cell_type": "markdown",
      "id": "ec33c991-37b8-4c98-9052-72e18816cb69",
      "metadata": {
        "deletable": false,
        "editable": false,
        "id": "ec33c991-37b8-4c98-9052-72e18816cb69"
      },
      "source": [
        "Demonstrate how to use an array to use `take` with more than 1 row."
      ]
    },
    {
      "cell_type": "code",
      "execution_count": null,
      "id": "86701208-6727-49ba-8fc7-1508440bf500",
      "metadata": {
        "scrolled": true,
        "tags": [],
        "id": "86701208-6727-49ba-8fc7-1508440bf500",
        "outputId": "e6656044-d6fc-46b8-cbe2-a5b2948a8e67"
      },
      "outputs": [
        {
          "data": {
            "text/html": [
              "<table border=\"1\" class=\"dataframe\">\n",
              "    <thead>\n",
              "        <tr>\n",
              "            <th>Name</th> <th>Floors</th> <th>Year</th> <th>Height (ft)</th> <th>City</th>\n",
              "        </tr>\n",
              "    </thead>\n",
              "    <tbody>\n",
              "        <tr>\n",
              "            <td>One World Trade Center</td> <td>104   </td> <td>2014</td> <td>1776       </td> <td>New York City</td>\n",
              "        </tr>\n",
              "        <tr>\n",
              "            <td>Central Park Tower    </td> <td>98    </td> <td>2020</td> <td>1550       </td> <td>New York City</td>\n",
              "        </tr>\n",
              "        <tr>\n",
              "            <td>Willis Tower          </td> <td>108   </td> <td>1974</td> <td>1450       </td> <td>Chicago      </td>\n",
              "        </tr>\n",
              "        <tr>\n",
              "            <td>111 West 57th Street  </td> <td>84    </td> <td>2021</td> <td>1428       </td> <td>New York City</td>\n",
              "        </tr>\n",
              "        <tr>\n",
              "            <td>One Vanderbilt        </td> <td>93    </td> <td>2020</td> <td>1401       </td> <td>New York City</td>\n",
              "        </tr>\n",
              "    </tbody>\n",
              "</table>"
            ],
            "text/plain": [
              "Name                   | Floors | Year | Height (ft) | City\n",
              "One World Trade Center | 104    | 2014 | 1776        | New York City\n",
              "Central Park Tower     | 98     | 2020 | 1550        | New York City\n",
              "Willis Tower           | 108    | 1974 | 1450        | Chicago\n",
              "111 West 57th Street   | 84     | 2021 | 1428        | New York City\n",
              "One Vanderbilt         | 93     | 2020 | 1401        | New York City"
            ]
          },
          "execution_count": 41,
          "metadata": {},
          "output_type": "execute_result"
        }
      ],
      "source": [
        "tallest_buildings.take(np.arange(5))"
      ]
    },
    {
      "cell_type": "code",
      "execution_count": null,
      "id": "d1e43a6b-8307-4abb-a8df-c26f6d28e321",
      "metadata": {
        "id": "d1e43a6b-8307-4abb-a8df-c26f6d28e321",
        "outputId": "d16b65d1-2339-4b8e-cd53-e770578339fa"
      },
      "outputs": [
        {
          "data": {
            "text/html": [
              "<table border=\"1\" class=\"dataframe\">\n",
              "    <thead>\n",
              "        <tr>\n",
              "            <th>Name</th> <th>Floors</th> <th>Year</th> <th>Height (ft)</th> <th>City</th>\n",
              "        </tr>\n",
              "    </thead>\n",
              "    <tbody>\n",
              "        <tr>\n",
              "            <td>One World Trade Center</td> <td>104   </td> <td>2014</td> <td>1776       </td> <td>New York City</td>\n",
              "        </tr>\n",
              "        <tr>\n",
              "            <td>Central Park Tower    </td> <td>98    </td> <td>2020</td> <td>1550       </td> <td>New York City</td>\n",
              "        </tr>\n",
              "        <tr>\n",
              "            <td>Willis Tower          </td> <td>108   </td> <td>1974</td> <td>1450       </td> <td>Chicago      </td>\n",
              "        </tr>\n",
              "        <tr>\n",
              "            <td>111 West 57th Street  </td> <td>84    </td> <td>2021</td> <td>1428       </td> <td>New York City</td>\n",
              "        </tr>\n",
              "        <tr>\n",
              "            <td>One Vanderbilt        </td> <td>93    </td> <td>2020</td> <td>1401       </td> <td>New York City</td>\n",
              "        </tr>\n",
              "    </tbody>\n",
              "</table>"
            ],
            "text/plain": [
              "Name                   | Floors | Year | Height (ft) | City\n",
              "One World Trade Center | 104    | 2014 | 1776        | New York City\n",
              "Central Park Tower     | 98     | 2020 | 1550        | New York City\n",
              "Willis Tower           | 108    | 1974 | 1450        | Chicago\n",
              "111 West 57th Street   | 84     | 2021 | 1428        | New York City\n",
              "One Vanderbilt         | 93     | 2020 | 1401        | New York City"
            ]
          },
          "execution_count": 42,
          "metadata": {},
          "output_type": "execute_result"
        }
      ],
      "source": [
        "tallest_buildings.take([0,1,2,3,4]) #prints same value as above example"
      ]
    },
    {
      "cell_type": "markdown",
      "id": "f3fd7125-a488-4c18-abf2-f198ea43e156",
      "metadata": {
        "id": "f3fd7125-a488-4c18-abf2-f198ea43e156"
      },
      "source": [
        "---"
      ]
    },
    {
      "cell_type": "markdown",
      "id": "aba366d6-9a25-4677-9875-9563cafbd1c9",
      "metadata": {
        "deletable": false,
        "editable": false,
        "id": "aba366d6-9a25-4677-9875-9563cafbd1c9"
      },
      "source": [
        "Compare the `select` and `column` table methods."
      ]
    },
    {
      "cell_type": "code",
      "execution_count": null,
      "id": "a0dcb944-a1d2-4808-a65f-3185729fa521",
      "metadata": {
        "tags": [],
        "id": "a0dcb944-a1d2-4808-a65f-3185729fa521",
        "outputId": "41082847-8203-45b4-9329-71486989185c"
      },
      "outputs": [
        {
          "data": {
            "text/html": [
              "<table border=\"1\" class=\"dataframe\">\n",
              "    <thead>\n",
              "        <tr>\n",
              "            <th>Name</th>\n",
              "        </tr>\n",
              "    </thead>\n",
              "    <tbody>\n",
              "        <tr>\n",
              "            <td>One World Trade Center             </td>\n",
              "        </tr>\n",
              "        <tr>\n",
              "            <td>Central Park Tower                 </td>\n",
              "        </tr>\n",
              "        <tr>\n",
              "            <td>Willis Tower                       </td>\n",
              "        </tr>\n",
              "        <tr>\n",
              "            <td>111 West 57th Street               </td>\n",
              "        </tr>\n",
              "        <tr>\n",
              "            <td>One Vanderbilt                     </td>\n",
              "        </tr>\n",
              "        <tr>\n",
              "            <td>432 Park Avenue                    </td>\n",
              "        </tr>\n",
              "        <tr>\n",
              "            <td>Trump International Hotel and Tower</td>\n",
              "        </tr>\n",
              "        <tr>\n",
              "            <td>30 Hudson Yards                    </td>\n",
              "        </tr>\n",
              "        <tr>\n",
              "            <td>Empire State Building              </td>\n",
              "        </tr>\n",
              "        <tr>\n",
              "            <td>Bank of America Tower              </td>\n",
              "        </tr>\n",
              "    </tbody>\n",
              "</table>\n",
              "<p>... (77 rows omitted)</p>"
            ],
            "text/plain": [
              "Name\n",
              "One World Trade Center\n",
              "Central Park Tower\n",
              "Willis Tower\n",
              "111 West 57th Street\n",
              "One Vanderbilt\n",
              "432 Park Avenue\n",
              "Trump International Hotel and Tower\n",
              "30 Hudson Yards\n",
              "Empire State Building\n",
              "Bank of America Tower\n",
              "... (77 rows omitted)"
            ]
          },
          "execution_count": 43,
          "metadata": {},
          "output_type": "execute_result"
        }
      ],
      "source": [
        "tallest_buildings.select('Name')"
      ]
    },
    {
      "cell_type": "code",
      "execution_count": null,
      "id": "26490243-ac30-459f-894b-9e733c9c6e31",
      "metadata": {
        "scrolled": true,
        "tags": [],
        "id": "26490243-ac30-459f-894b-9e733c9c6e31",
        "outputId": "a7471eb4-7835-4b11-c8db-2e1b8a288865"
      },
      "outputs": [
        {
          "data": {
            "text/plain": [
              "array(['One World Trade Center', 'Central Park Tower', 'Willis Tower',\n",
              "       '111 West 57th Street', 'One Vanderbilt', '432 Park Avenue',\n",
              "       'Trump International Hotel and Tower', '30 Hudson Yards',\n",
              "       'Empire State Building', 'Bank of America Tower',\n",
              "       'St. Regis Chicago', 'Aon Center', '875 North Michigan Avenue',\n",
              "       'Comcast Technology Center', 'Wilshire Grand Center',\n",
              "       '3 World Trade Center', 'The Brooklyn Tower*', '53W53',\n",
              "       'Chrysler Building', 'The New York Times Building', 'The Spiral',\n",
              "       'Bank of America Plaza', 'U.S. Bank Tower', 'Franklin Center',\n",
              "       'One57', 'JPMorgan Chase Tower', '35 Hudson Yards',\n",
              "       'Two Prudential Plaza', '1 Manhattan West', 'Wells Fargo Plaza',\n",
              "       '50 Hudson Yards', '4 World Trade Center', 'One Chicago East Tower',\n",
              "       'Comcast Center', '311 South Wacker Drive',\n",
              "       '220 Central Park South', '70 Pine Street', 'Key Tower',\n",
              "       'One Liberty Place', '2 Manhattan West',\n",
              "       'Four Seasons Hotel New York Downtown', 'Columbia Center',\n",
              "       '40 Wall Street', 'Bank of America Plaza', '601 Lexington Avenue',\n",
              "       '15 Hudson Yards', '125 Greenwich Street*', 'Williams Tower',\n",
              "       '99 Hudson Street*', '425 Park Avenue*', 'NEMA Chicago',\n",
              "       'Renaissance Tower', '10 Hudson Yards', 'Sixth X Guadalupe',\n",
              "       'Truist Plaza', 'Bank of America Corporate Center',\n",
              "       '8 Spruce Street', '900 North Michigan', 'Panorama Tower',\n",
              "       'Trump World Tower', 'Water Tower Place', 'Aqua', 'Aon Center',\n",
              "       'Transamerica Pyramid', '30 Rockefeller Plaza', 'Chase Tower',\n",
              "       'Two Liberty Place', 'One Manhattan Square*',\n",
              "       'Rainier Square Tower', 'Sutton 58', 'Park Tower',\n",
              "       'Devon Energy Center', 'One Bennett Park', 'U.S. Steel Tower',\n",
              "       'Salesforce Tower Chicago', '56 Leonard Street',\n",
              "       'One Atlantic Center', 'The Legacy at Millennium Park',\n",
              "       '110 North Wacker', 'Aston Martin Residences', 'CitySpire Center',\n",
              "       '28 Liberty Street', '4 Times Square', 'MetLife Building',\n",
              "       '731 Lexington Avenue', '1000M', '181 Fremont'],\n",
              "      dtype='<U36')"
            ]
          },
          "execution_count": 44,
          "metadata": {},
          "output_type": "execute_result"
        }
      ],
      "source": [
        "tallest_buildings.column('Name')"
      ]
    },
    {
      "cell_type": "markdown",
      "id": "e44a4c1e-ec02-43b2-9624-5e1047b799a7",
      "metadata": {
        "id": "e44a4c1e-ec02-43b2-9624-5e1047b799a7"
      },
      "source": [
        "---"
      ]
    },
    {
      "cell_type": "markdown",
      "id": "e7f5b71b-06f1-4883-9193-f7d9e7b31d68",
      "metadata": {
        "id": "e7f5b71b-06f1-4883-9193-f7d9e7b31d68"
      },
      "source": [
        "### Demo: Creating a Table from Scratch"
      ]
    },
    {
      "cell_type": "markdown",
      "id": "21bac27b-7e98-4174-99e6-14d4c2b7938a",
      "metadata": {
        "deletable": false,
        "editable": false,
        "id": "21bac27b-7e98-4174-99e6-14d4c2b7938a"
      },
      "source": [
        "Create a table containing information on the major east-west streets north of the Ocean campus and how far they are from campus.\n",
        "\n",
        "[Google Maps near CCSF - Ocean Campus](https://goo.gl/maps/QVR57VvqKWqLeSA9A)"
      ]
    },
    {
      "cell_type": "code",
      "execution_count": null,
      "id": "983a7a6e-9168-4740-8e17-6559761f79e2",
      "metadata": {
        "deletable": false,
        "editable": false,
        "id": "983a7a6e-9168-4740-8e17-6559761f79e2",
        "outputId": "3c971610-c98f-480c-9893-e6a1323c1119"
      },
      "outputs": [
        {
          "data": {
            "text/html": [
              "\n",
              "        <iframe\n",
              "            width=\"600\"\n",
              "            height=\"450\"\n",
              "            src=\"https://www.google.com/maps/embed?pb=!1m10!1m8!1m3!1d6311.109857156177!2d-122.4451173!3d37.7301236!3m2!1i1024!2i768!4f13.1!5e0!3m2!1sen!2sus!4v1675197446609!5m2!1sen!2sus\"\n",
              "            frameborder=\"0\"\n",
              "            allowfullscreen\n",
              "            \n",
              "        ></iframe>\n",
              "        "
            ],
            "text/plain": [
              "<IPython.lib.display.IFrame at 0x7b352f288dd0>"
            ]
          },
          "execution_count": 45,
          "metadata": {},
          "output_type": "execute_result"
        }
      ],
      "source": [
        "from IPython.display import IFrame\n",
        "IFrame('https://www.google.com/maps/embed?pb=!1m10!1m8!1m3!1d6311.10985715617\\\n",
        "7!2d-122.4451173!3d37.7301236!3m2!1i1024!2i768!4f13.1!5e0!3m2!1sen!2sus!4v1675\\\n",
        "197446609!5m2!1sen!2sus', 600, 450)"
      ]
    },
    {
      "cell_type": "code",
      "execution_count": null,
      "id": "33dcfd62-c6ef-4933-ae13-8b3695479c4d",
      "metadata": {
        "tags": [],
        "id": "33dcfd62-c6ef-4933-ae13-8b3695479c4d",
        "outputId": "fcff198e-22fb-49a3-8c8d-a3ecdc20f1c0"
      },
      "outputs": [
        {
          "data": {
            "text/plain": [
              "array(['Judson', 'Staples', 'Flood', 'Hearst'],\n",
              "      dtype='<U7')"
            ]
          },
          "execution_count": 46,
          "metadata": {},
          "output_type": "execute_result"
        }
      ],
      "source": [
        "streets = make_array('Judson', 'Staples', 'Flood', 'Hearst')\n",
        "streets"
      ]
    },
    {
      "cell_type": "code",
      "execution_count": null,
      "id": "a95b9620-31d3-4189-99d5-e1c83b5d28fe",
      "metadata": {
        "tags": [],
        "id": "a95b9620-31d3-4189-99d5-e1c83b5d28fe",
        "outputId": "9b007df4-9163-4aa5-d8f6-09a3829083af"
      },
      "outputs": [
        {
          "data": {
            "text/html": [
              "<table border=\"1\" class=\"dataframe\">\n",
              "    <thead>\n",
              "        <tr>\n",
              "            \n",
              "        </tr>\n",
              "    </thead>\n",
              "    <tbody>\n",
              "    </tbody>\n",
              "</table>"
            ],
            "text/plain": []
          },
          "execution_count": 47,
          "metadata": {},
          "output_type": "execute_result"
        }
      ],
      "source": [
        "Table()"
      ]
    },
    {
      "cell_type": "code",
      "execution_count": null,
      "id": "c4ee7900-5310-4be1-9304-4a6282b097fa",
      "metadata": {
        "tags": [],
        "id": "c4ee7900-5310-4be1-9304-4a6282b097fa",
        "outputId": "2d2d7a9c-e932-4cec-8b89-75e95f7f5311"
      },
      "outputs": [
        {
          "data": {
            "text/html": [
              "<table border=\"1\" class=\"dataframe\">\n",
              "    <thead>\n",
              "        <tr>\n",
              "            \n",
              "        </tr>\n",
              "    </thead>\n",
              "    <tbody>\n",
              "    </tbody>\n",
              "</table>"
            ],
            "text/plain": []
          },
          "execution_count": 48,
          "metadata": {},
          "output_type": "execute_result"
        }
      ],
      "source": [
        "northside = Table()\n",
        "northside"
      ]
    },
    {
      "cell_type": "code",
      "execution_count": null,
      "id": "88c7eb29-de75-4d84-9a3a-425a71af1d85",
      "metadata": {
        "tags": [],
        "id": "88c7eb29-de75-4d84-9a3a-425a71af1d85",
        "outputId": "ee79d21d-1451-49e3-d1f8-31803702ac57"
      },
      "outputs": [
        {
          "data": {
            "text/plain": [
              "datascience.tables.Table"
            ]
          },
          "execution_count": 49,
          "metadata": {},
          "output_type": "execute_result"
        }
      ],
      "source": [
        "type(northside)"
      ]
    },
    {
      "cell_type": "code",
      "execution_count": null,
      "id": "4a1aa786-a57c-46c3-9ed4-7f2dbdbc7c49",
      "metadata": {
        "tags": [],
        "id": "4a1aa786-a57c-46c3-9ed4-7f2dbdbc7c49",
        "outputId": "d1c2a3a8-5fc3-4c2c-8bd5-43ecc3b695f2"
      },
      "outputs": [
        {
          "data": {
            "text/html": [
              "<table border=\"1\" class=\"dataframe\">\n",
              "    <thead>\n",
              "        <tr>\n",
              "            <th>Streets</th>\n",
              "        </tr>\n",
              "    </thead>\n",
              "    <tbody>\n",
              "        <tr>\n",
              "            <td>Judson </td>\n",
              "        </tr>\n",
              "        <tr>\n",
              "            <td>Staples</td>\n",
              "        </tr>\n",
              "        <tr>\n",
              "            <td>Flood  </td>\n",
              "        </tr>\n",
              "        <tr>\n",
              "            <td>Hearst </td>\n",
              "        </tr>\n",
              "    </tbody>\n",
              "</table>"
            ],
            "text/plain": [
              "Streets\n",
              "Judson\n",
              "Staples\n",
              "Flood\n",
              "Hearst"
            ]
          },
          "execution_count": 50,
          "metadata": {},
          "output_type": "execute_result"
        }
      ],
      "source": [
        "northside = Table().with_column('Streets',streets)\n",
        "northside"
      ]
    },
    {
      "cell_type": "code",
      "execution_count": null,
      "id": "02a15533-4d98-4b04-89b2-417dec68b9b0",
      "metadata": {
        "tags": [],
        "id": "02a15533-4d98-4b04-89b2-417dec68b9b0",
        "outputId": "faa26847-daad-49de-b9cd-ba712bc9d81a"
      },
      "outputs": [
        {
          "data": {
            "text/html": [
              "<table border=\"1\" class=\"dataframe\">\n",
              "    <thead>\n",
              "        <tr>\n",
              "            <th>Streets</th> <th>Blocks from campus</th>\n",
              "        </tr>\n",
              "    </thead>\n",
              "    <tbody>\n",
              "        <tr>\n",
              "            <td>Judson </td> <td>0                 </td>\n",
              "        </tr>\n",
              "        <tr>\n",
              "            <td>Staples</td> <td>1                 </td>\n",
              "        </tr>\n",
              "        <tr>\n",
              "            <td>Flood  </td> <td>2                 </td>\n",
              "        </tr>\n",
              "        <tr>\n",
              "            <td>Hearst </td> <td>3                 </td>\n",
              "        </tr>\n",
              "    </tbody>\n",
              "</table>"
            ],
            "text/plain": [
              "Streets | Blocks from campus\n",
              "Judson  | 0\n",
              "Staples | 1\n",
              "Flood   | 2\n",
              "Hearst  | 3"
            ]
          },
          "execution_count": 51,
          "metadata": {},
          "output_type": "execute_result"
        }
      ],
      "source": [
        "northside.with_column('Blocks from campus', np.arange(4))"
      ]
    },
    {
      "cell_type": "code",
      "execution_count": null,
      "id": "9ff78cf6-1baf-4a55-ac21-241424ff7dd7",
      "metadata": {
        "tags": [],
        "id": "9ff78cf6-1baf-4a55-ac21-241424ff7dd7",
        "outputId": "49bb0a99-2fcf-4600-d435-4df68b752237"
      },
      "outputs": [
        {
          "data": {
            "text/html": [
              "<table border=\"1\" class=\"dataframe\">\n",
              "    <thead>\n",
              "        <tr>\n",
              "            <th>Streets</th>\n",
              "        </tr>\n",
              "    </thead>\n",
              "    <tbody>\n",
              "        <tr>\n",
              "            <td>Judson </td>\n",
              "        </tr>\n",
              "        <tr>\n",
              "            <td>Staples</td>\n",
              "        </tr>\n",
              "        <tr>\n",
              "            <td>Flood  </td>\n",
              "        </tr>\n",
              "        <tr>\n",
              "            <td>Hearst </td>\n",
              "        </tr>\n",
              "    </tbody>\n",
              "</table>"
            ],
            "text/plain": [
              "Streets\n",
              "Judson\n",
              "Staples\n",
              "Flood\n",
              "Hearst"
            ]
          },
          "execution_count": 52,
          "metadata": {},
          "output_type": "execute_result"
        }
      ],
      "source": [
        "northside"
      ]
    },
    {
      "cell_type": "code",
      "execution_count": null,
      "id": "f4c658e8-da8f-4929-a502-e5890207be83",
      "metadata": {
        "tags": [],
        "id": "f4c658e8-da8f-4929-a502-e5890207be83",
        "outputId": "ba39f641-ea35-4cea-ce4a-e26723f1d617"
      },
      "outputs": [
        {
          "data": {
            "text/html": [
              "<table border=\"1\" class=\"dataframe\">\n",
              "    <thead>\n",
              "        <tr>\n",
              "            <th>Streets</th> <th>Blocks from campus</th>\n",
              "        </tr>\n",
              "    </thead>\n",
              "    <tbody>\n",
              "        <tr>\n",
              "            <td>Judson </td> <td>0                 </td>\n",
              "        </tr>\n",
              "        <tr>\n",
              "            <td>Staples</td> <td>1                 </td>\n",
              "        </tr>\n",
              "        <tr>\n",
              "            <td>Flood  </td> <td>2                 </td>\n",
              "        </tr>\n",
              "        <tr>\n",
              "            <td>Hearst </td> <td>3                 </td>\n",
              "        </tr>\n",
              "    </tbody>\n",
              "</table>"
            ],
            "text/plain": [
              "Streets | Blocks from campus\n",
              "Judson  | 0\n",
              "Staples | 1\n",
              "Flood   | 2\n",
              "Hearst  | 3"
            ]
          },
          "execution_count": 53,
          "metadata": {},
          "output_type": "execute_result"
        }
      ],
      "source": [
        "northside = northside.with_column('Blocks from campus', np.arange(4))\n",
        "northside"
      ]
    },
    {
      "cell_type": "markdown",
      "id": "2f97c29a-42a0-4169-ad74-aa9fe69d4efb",
      "metadata": {
        "id": "2f97c29a-42a0-4169-ad74-aa9fe69d4efb"
      },
      "source": [
        "---"
      ]
    },
    {
      "cell_type": "markdown",
      "id": "f79acef8-7ae3-4e77-bfc4-5549fb1294f5",
      "metadata": {
        "deletable": false,
        "editable": false,
        "id": "f79acef8-7ae3-4e77-bfc4-5549fb1294f5"
      },
      "source": [
        "Update `northside` to include Monterey by adding it using `with_row`."
      ]
    },
    {
      "cell_type": "code",
      "execution_count": null,
      "id": "e51c4465-9a8a-454c-9281-6c053019d2c2",
      "metadata": {
        "tags": [],
        "id": "e51c4465-9a8a-454c-9281-6c053019d2c2",
        "outputId": "06777d67-c087-4df2-e3f1-a62cd393c322"
      },
      "outputs": [
        {
          "data": {
            "text/plain": [
              "['Monterey', 4]"
            ]
          },
          "execution_count": 54,
          "metadata": {},
          "output_type": "execute_result"
        }
      ],
      "source": [
        "monterey_data = ['Monterey',4]\n",
        "monterey_data"
      ]
    },
    {
      "cell_type": "code",
      "execution_count": null,
      "id": "74e12faf-9543-41a8-af3c-96a7c3a90a50",
      "metadata": {
        "scrolled": true,
        "tags": [],
        "id": "74e12faf-9543-41a8-af3c-96a7c3a90a50",
        "outputId": "0ad0c9a5-1c33-4f29-e127-3478e2032d32"
      },
      "outputs": [
        {
          "data": {
            "text/html": [
              "<table border=\"1\" class=\"dataframe\">\n",
              "    <thead>\n",
              "        <tr>\n",
              "            <th>Streets</th> <th>Blocks from campus</th>\n",
              "        </tr>\n",
              "    </thead>\n",
              "    <tbody>\n",
              "        <tr>\n",
              "            <td>Judson  </td> <td>0                 </td>\n",
              "        </tr>\n",
              "        <tr>\n",
              "            <td>Staples </td> <td>1                 </td>\n",
              "        </tr>\n",
              "        <tr>\n",
              "            <td>Flood   </td> <td>2                 </td>\n",
              "        </tr>\n",
              "        <tr>\n",
              "            <td>Hearst  </td> <td>3                 </td>\n",
              "        </tr>\n",
              "        <tr>\n",
              "            <td>Monterey</td> <td>4                 </td>\n",
              "        </tr>\n",
              "    </tbody>\n",
              "</table>"
            ],
            "text/plain": [
              "Streets  | Blocks from campus\n",
              "Judson   | 0\n",
              "Staples  | 1\n",
              "Flood    | 2\n",
              "Hearst   | 3\n",
              "Monterey | 4"
            ]
          },
          "execution_count": 55,
          "metadata": {},
          "output_type": "execute_result"
        }
      ],
      "source": [
        "northside = northside.with_row(monterey_data)\n",
        "northside"
      ]
    },
    {
      "cell_type": "markdown",
      "id": "616bb779-a513-4d28-9c49-454a4e637fc6",
      "metadata": {
        "id": "616bb779-a513-4d28-9c49-454a4e637fc6"
      },
      "source": [
        "---"
      ]
    },
    {
      "cell_type": "markdown",
      "id": "97056ce1-c77c-4d33-8ce8-0303e5651044",
      "metadata": {
        "deletable": false,
        "editable": false,
        "id": "97056ce1-c77c-4d33-8ce8-0303e5651044"
      },
      "source": [
        "Add multiple columns to a table using .with_columns"
      ]
    },
    {
      "cell_type": "code",
      "execution_count": null,
      "id": "83f1a830-2a5c-49ef-80c0-27ff3a3423d2",
      "metadata": {
        "scrolled": true,
        "tags": [],
        "id": "83f1a830-2a5c-49ef-80c0-27ff3a3423d2",
        "outputId": "543b3d6f-39fe-469a-8fbd-6a0e7b442b16"
      },
      "outputs": [
        {
          "data": {
            "text/html": [
              "<table border=\"1\" class=\"dataframe\">\n",
              "    <thead>\n",
              "        <tr>\n",
              "            <th>Streets</th> <th>Blocks from campus</th>\n",
              "        </tr>\n",
              "    </thead>\n",
              "    <tbody>\n",
              "        <tr>\n",
              "            <td>Judson  </td> <td>0                 </td>\n",
              "        </tr>\n",
              "        <tr>\n",
              "            <td>Staples </td> <td>1                 </td>\n",
              "        </tr>\n",
              "        <tr>\n",
              "            <td>Flood   </td> <td>2                 </td>\n",
              "        </tr>\n",
              "        <tr>\n",
              "            <td>Hearst  </td> <td>3                 </td>\n",
              "        </tr>\n",
              "        <tr>\n",
              "            <td>Monterey</td> <td>4                 </td>\n",
              "        </tr>\n",
              "    </tbody>\n",
              "</table>"
            ],
            "text/plain": [
              "Streets  | Blocks from campus\n",
              "Judson   | 0\n",
              "Staples  | 1\n",
              "Flood    | 2\n",
              "Hearst   | 3\n",
              "Monterey | 4"
            ]
          },
          "execution_count": 56,
          "metadata": {},
          "output_type": "execute_result"
        }
      ],
      "source": [
        "streets = make_array('Judson', 'Staples', 'Flood', 'Hearst', 'Monterey')\n",
        "blocks = np.arange(5)\n",
        "northside_again =Table().with_columns(\n",
        "    'Streets', streets,\n",
        "    'Blocks from campus', blocks\n",
        ")\n",
        "northside_again"
      ]
    },
    {
      "cell_type": "markdown",
      "id": "0ef2d8ce-7166-4954-91a5-40b7fb0db2b3",
      "metadata": {
        "id": "0ef2d8ce-7166-4954-91a5-40b7fb0db2b3"
      },
      "source": [
        "---"
      ]
    },
    {
      "cell_type": "markdown",
      "id": "5c63ed3d-02a0-4333-ae0b-d8d4d5117ff4",
      "metadata": {
        "id": "5c63ed3d-02a0-4333-ae0b-d8d4d5117ff4"
      },
      "source": [
        "## Attribute Types\n"
      ]
    },
    {
      "cell_type": "markdown",
      "id": "0d4d51f7-22f9-4030-b6af-5832f4441618",
      "metadata": {
        "id": "0d4d51f7-22f9-4030-b6af-5832f4441618"
      },
      "source": [
        "---"
      ]
    },
    {
      "cell_type": "markdown",
      "id": "5ec46d9d-625a-43e3-b22b-3269be53e877",
      "metadata": {
        "id": "5ec46d9d-625a-43e3-b22b-3269be53e877"
      },
      "source": [
        "### Types of Attributes"
      ]
    },
    {
      "cell_type": "markdown",
      "id": "834ce008-4288-43db-817e-a69aa9d2572c",
      "metadata": {
        "id": "834ce008-4288-43db-817e-a69aa9d2572c"
      },
      "source": [
        "All values in a column of a table should be both the same type and be comparable to each other in some way\n",
        "* **Numerical** --- Each value is from a numerical scale\n",
        "    * Numerical measurements are ordered\n",
        "    * Differences are meaningful\n",
        "* **Categorical** --- Each value is from a fixed inventory\n",
        "    * May or may not have an ordering\n",
        "    * Categories are the same or different\n"
      ]
    },
    {
      "cell_type": "markdown",
      "id": "537ec828-8a5e-41ad-8284-b0980dfa33ff",
      "metadata": {
        "id": "537ec828-8a5e-41ad-8284-b0980dfa33ff"
      },
      "source": [
        "---"
      ]
    },
    {
      "cell_type": "markdown",
      "id": "d0728103-831e-4d37-9cfa-c2e14489bd4c",
      "metadata": {
        "id": "d0728103-831e-4d37-9cfa-c2e14489bd4c"
      },
      "source": [
        "### “Numerical” Attributes"
      ]
    },
    {
      "cell_type": "markdown",
      "id": "eac7ab20-6bd9-456e-a940-0a947532a328",
      "metadata": {
        "id": "eac7ab20-6bd9-456e-a940-0a947532a328"
      },
      "source": [
        "Sometimes numbers represent categorical data:\n",
        "* 94112 and 94110 are San Francisco ZIP codes\n",
        "* Subtracting 94112 and 94110 doesn't yield a meaningful value\n",
        "* ZIP codes are categorical, even though numbers were used for the categories"
      ]
    },
    {
      "cell_type": "markdown",
      "id": "db6e8dc4-63b2-4c7e-8fcb-4ef4e846b202",
      "metadata": {
        "id": "db6e8dc4-63b2-4c7e-8fcb-4ef4e846b202"
      },
      "source": [
        "---"
      ]
    },
    {
      "cell_type": "markdown",
      "id": "22db6753-c20d-4685-84b5-da2e4131ad4e",
      "metadata": {
        "id": "22db6753-c20d-4685-84b5-da2e4131ad4e"
      },
      "source": [
        "## Exploring the Tallest Buildings"
      ]
    },
    {
      "cell_type": "markdown",
      "id": "20e099f9-2d65-4c9b-b3c7-36ee6f530c10",
      "metadata": {
        "id": "20e099f9-2d65-4c9b-b3c7-36ee6f530c10"
      },
      "source": [
        "---"
      ]
    },
    {
      "cell_type": "markdown",
      "id": "364d17e4-2994-4e1d-8b74-e09011553c9d",
      "metadata": {
        "id": "364d17e4-2994-4e1d-8b74-e09011553c9d"
      },
      "source": [
        "### Tallest Buildings Attributes"
      ]
    },
    {
      "cell_type": "code",
      "execution_count": null,
      "id": "461e946f-bf40-4fdc-a629-992e6ace73f7",
      "metadata": {
        "id": "461e946f-bf40-4fdc-a629-992e6ace73f7",
        "outputId": "29aa8c1f-0152-4c51-bfaf-e78c946a62bd"
      },
      "outputs": [
        {
          "data": {
            "text/html": [
              "<table border=\"1\" class=\"dataframe\">\n",
              "    <thead>\n",
              "        <tr>\n",
              "            <th>Name</th> <th>Floors</th> <th>Year</th> <th>Height (ft)</th> <th>City</th>\n",
              "        </tr>\n",
              "    </thead>\n",
              "    <tbody>\n",
              "        <tr>\n",
              "            <td>One World Trade Center             </td> <td>104   </td> <td>2014</td> <td>1776       </td> <td>New York City</td>\n",
              "        </tr>\n",
              "        <tr>\n",
              "            <td>Central Park Tower                 </td> <td>98    </td> <td>2020</td> <td>1550       </td> <td>New York City</td>\n",
              "        </tr>\n",
              "        <tr>\n",
              "            <td>Willis Tower                       </td> <td>108   </td> <td>1974</td> <td>1450       </td> <td>Chicago      </td>\n",
              "        </tr>\n",
              "        <tr>\n",
              "            <td>111 West 57th Street               </td> <td>84    </td> <td>2021</td> <td>1428       </td> <td>New York City</td>\n",
              "        </tr>\n",
              "        <tr>\n",
              "            <td>One Vanderbilt                     </td> <td>93    </td> <td>2020</td> <td>1401       </td> <td>New York City</td>\n",
              "        </tr>\n",
              "        <tr>\n",
              "            <td>432 Park Avenue                    </td> <td>85    </td> <td>2015</td> <td>1396       </td> <td>New York City</td>\n",
              "        </tr>\n",
              "        <tr>\n",
              "            <td>Trump International Hotel and Tower</td> <td>98    </td> <td>2009</td> <td>1388       </td> <td>Chicago      </td>\n",
              "        </tr>\n",
              "        <tr>\n",
              "            <td>30 Hudson Yards                    </td> <td>103   </td> <td>2019</td> <td>1270       </td> <td>New York City</td>\n",
              "        </tr>\n",
              "        <tr>\n",
              "            <td>Empire State Building              </td> <td>102   </td> <td>1931</td> <td>1250       </td> <td>New York City</td>\n",
              "        </tr>\n",
              "        <tr>\n",
              "            <td>Bank of America Tower              </td> <td>55    </td> <td>2009</td> <td>1200       </td> <td>New York City</td>\n",
              "        </tr>\n",
              "    </tbody>\n",
              "</table>\n",
              "<p>... (77 rows omitted)</p>"
            ],
            "text/plain": [
              "Name                                | Floors | Year | Height (ft) | City\n",
              "One World Trade Center              | 104    | 2014 | 1776        | New York City\n",
              "Central Park Tower                  | 98     | 2020 | 1550        | New York City\n",
              "Willis Tower                        | 108    | 1974 | 1450        | Chicago\n",
              "111 West 57th Street                | 84     | 2021 | 1428        | New York City\n",
              "One Vanderbilt                      | 93     | 2020 | 1401        | New York City\n",
              "432 Park Avenue                     | 85     | 2015 | 1396        | New York City\n",
              "Trump International Hotel and Tower | 98     | 2009 | 1388        | Chicago\n",
              "30 Hudson Yards                     | 103    | 2019 | 1270        | New York City\n",
              "Empire State Building               | 102    | 1931 | 1250        | New York City\n",
              "Bank of America Tower               | 55     | 2009 | 1200        | New York City\n",
              "... (77 rows omitted)"
            ]
          },
          "execution_count": 57,
          "metadata": {},
          "output_type": "execute_result"
        }
      ],
      "source": [
        "tallest_buildings"
      ]
    },
    {
      "cell_type": "markdown",
      "id": "90a10a08-2974-40b9-9026-2c2a5a701956",
      "metadata": {
        "id": "90a10a08-2974-40b9-9026-2c2a5a701956"
      },
      "source": [
        "* `'Name'` and `'City'` are categorical attributes\n",
        "* The other attributes are numerical"
      ]
    },
    {
      "cell_type": "markdown",
      "id": "06da9039-49c5-4a1d-9a29-e0ede4bdf681",
      "metadata": {
        "id": "06da9039-49c5-4a1d-9a29-e0ede4bdf681"
      },
      "source": [
        "---"
      ]
    },
    {
      "cell_type": "markdown",
      "id": "90b244a1-58a1-41c0-b958-3376c05fc4a5",
      "metadata": {
        "id": "90b244a1-58a1-41c0-b958-3376c05fc4a5"
      },
      "source": [
        "### Summarizing Height"
      ]
    },
    {
      "cell_type": "markdown",
      "id": "ce82fb7f-08b6-4238-b29b-ba8c700f4bde",
      "metadata": {
        "id": "ce82fb7f-08b6-4238-b29b-ba8c700f4bde"
      },
      "source": [
        "Remember that `select` and `column` produce different data types."
      ]
    },
    {
      "cell_type": "code",
      "execution_count": null,
      "id": "4a38189e-13ab-40c8-b8e3-8782c0f4d96d",
      "metadata": {
        "tags": [],
        "id": "4a38189e-13ab-40c8-b8e3-8782c0f4d96d",
        "outputId": "e05e7b57-9bd0-4c7b-809d-ba1df14f8dce"
      },
      "outputs": [
        {
          "data": {
            "text/html": [
              "<table border=\"1\" class=\"dataframe\">\n",
              "    <thead>\n",
              "        <tr>\n",
              "            <th>Height (ft)</th>\n",
              "        </tr>\n",
              "    </thead>\n",
              "    <tbody>\n",
              "        <tr>\n",
              "            <td>1776       </td>\n",
              "        </tr>\n",
              "        <tr>\n",
              "            <td>1550       </td>\n",
              "        </tr>\n",
              "        <tr>\n",
              "            <td>1450       </td>\n",
              "        </tr>\n",
              "        <tr>\n",
              "            <td>1428       </td>\n",
              "        </tr>\n",
              "        <tr>\n",
              "            <td>1401       </td>\n",
              "        </tr>\n",
              "        <tr>\n",
              "            <td>1396       </td>\n",
              "        </tr>\n",
              "        <tr>\n",
              "            <td>1388       </td>\n",
              "        </tr>\n",
              "        <tr>\n",
              "            <td>1270       </td>\n",
              "        </tr>\n",
              "        <tr>\n",
              "            <td>1250       </td>\n",
              "        </tr>\n",
              "        <tr>\n",
              "            <td>1200       </td>\n",
              "        </tr>\n",
              "    </tbody>\n",
              "</table>\n",
              "<p>... (77 rows omitted)</p>"
            ],
            "text/plain": [
              "Height (ft)\n",
              "1776\n",
              "1550\n",
              "1450\n",
              "1428\n",
              "1401\n",
              "1396\n",
              "1388\n",
              "1270\n",
              "1250\n",
              "1200\n",
              "... (77 rows omitted)"
            ]
          },
          "execution_count": 58,
          "metadata": {},
          "output_type": "execute_result"
        }
      ],
      "source": [
        "tallest_buildings.select('Height (ft)')"
      ]
    },
    {
      "cell_type": "code",
      "execution_count": null,
      "id": "174cf07c-f38c-425d-971d-ebe08560aeb2",
      "metadata": {
        "tags": [],
        "id": "174cf07c-f38c-425d-971d-ebe08560aeb2",
        "outputId": "05afb034-4d58-4505-a53a-1987643bc426"
      },
      "outputs": [
        {
          "data": {
            "text/plain": [
              "array([1776, 1550, 1450, 1428, 1401, 1396, 1388, 1270, 1250, 1200, 1198,\n",
              "       1136, 1128, 1121, 1100, 1079, 1066, 1050, 1046, 1046, 1043, 1023,\n",
              "       1018, 1007, 1004, 1002, 1000,  994,  994,  991,  981,  978,  974,\n",
              "        971,  961,  952,  952,  948,  945,  935,  935,  932,  928,  922,\n",
              "        915,  912,  912,  901,  900,  897,  896,  886,  878,  875,  871,\n",
              "        871,  870,  869,  868,  861,  859,  859,  858,  853,  850,  850,\n",
              "        848,  847,  847,  847,  844,  844,  844,  841,  835,  821,  820,\n",
              "        818,  817,  817,  814,  813,  809,  808,  806,  805,  802])"
            ]
          },
          "execution_count": 59,
          "metadata": {},
          "output_type": "execute_result"
        }
      ],
      "source": [
        "tallest_buildings.column('Height (ft)')"
      ]
    },
    {
      "cell_type": "markdown",
      "id": "a0ff2695-46d2-4d6a-92b6-4520a8133b8e",
      "metadata": {
        "id": "a0ff2695-46d2-4d6a-92b6-4520a8133b8e"
      },
      "source": [
        "---"
      ]
    },
    {
      "cell_type": "markdown",
      "id": "000e4852-53a9-409a-bbd6-af4db1673839",
      "metadata": {
        "id": "000e4852-53a9-409a-bbd6-af4db1673839"
      },
      "source": [
        "### Average"
      ]
    },
    {
      "cell_type": "markdown",
      "id": "7a86858a-6a1d-414b-be63-4c8ce8a16e92",
      "metadata": {
        "tags": [],
        "id": "7a86858a-6a1d-414b-be63-4c8ce8a16e92"
      },
      "source": [
        "* The average is one way to summarize numerical data like the heights of buildings.\n",
        "* Use `np.average` to calculate the average of an array of values.\n",
        "* Another name that we will use for average is `mean`.\n",
        "* `np.mean` calculates the mean of an array of values.\n",
        "* For our class, we will use average and mean interchangeably.\n",
        "* The `np.average` function also calculates weighted averages."
      ]
    },
    {
      "cell_type": "markdown",
      "id": "5f369aaa-86b2-4c0e-a37f-88a5271a7649",
      "metadata": {
        "id": "5f369aaa-86b2-4c0e-a37f-88a5271a7649"
      },
      "source": [
        "---"
      ]
    },
    {
      "cell_type": "markdown",
      "id": "ae310092-911e-4764-a80e-782a18dbe155",
      "metadata": {
        "id": "ae310092-911e-4764-a80e-782a18dbe155"
      },
      "source": [
        "#### Demo: Average"
      ]
    },
    {
      "cell_type": "markdown",
      "id": "25cf2cc3-2610-4c67-be5a-e890ac43672d",
      "metadata": {
        "deletable": false,
        "editable": false,
        "id": "25cf2cc3-2610-4c67-be5a-e890ac43672d"
      },
      "source": [
        "Calculate the average height of the buildings in the data set."
      ]
    },
    {
      "cell_type": "code",
      "execution_count": null,
      "id": "1b5483ff-0a71-41f4-86b0-1e874f6f8883",
      "metadata": {
        "tags": [],
        "id": "1b5483ff-0a71-41f4-86b0-1e874f6f8883",
        "outputId": "7ceff654-2c16-4af2-f1b5-2bbd59a46c2e"
      },
      "outputs": [
        {
          "data": {
            "text/plain": [
              "array([1776, 1550, 1450, 1428, 1401, 1396, 1388, 1270, 1250, 1200, 1198,\n",
              "       1136, 1128, 1121, 1100, 1079, 1066, 1050, 1046, 1046, 1043, 1023,\n",
              "       1018, 1007, 1004, 1002, 1000,  994,  994,  991,  981,  978,  974,\n",
              "        971,  961,  952,  952,  948,  945,  935,  935,  932,  928,  922,\n",
              "        915,  912,  912,  901,  900,  897,  896,  886,  878,  875,  871,\n",
              "        871,  870,  869,  868,  861,  859,  859,  858,  853,  850,  850,\n",
              "        848,  847,  847,  847,  844,  844,  844,  841,  835,  821,  820,\n",
              "        818,  817,  817,  814,  813,  809,  808,  806,  805,  802])"
            ]
          },
          "execution_count": 60,
          "metadata": {},
          "output_type": "execute_result"
        }
      ],
      "source": [
        "heights = tallest_buildings.column('Height (ft)')\n",
        "heights"
      ]
    },
    {
      "cell_type": "code",
      "execution_count": null,
      "id": "66e772af-3c97-4f6c-89c9-3b66ab6dd92d",
      "metadata": {
        "tags": [],
        "id": "66e772af-3c97-4f6c-89c9-3b66ab6dd92d",
        "outputId": "d2f09eb8-d8c8-4608-fbaa-35b6eb593008"
      },
      "outputs": [
        {
          "data": {
            "text/plain": [
              "978.47126436781605"
            ]
          },
          "execution_count": 61,
          "metadata": {},
          "output_type": "execute_result"
        }
      ],
      "source": [
        "average_height = np.average(heights)\n",
        "average_height"
      ]
    },
    {
      "cell_type": "markdown",
      "id": "1d37e45a-d401-4f98-9203-69aa24ad30a6",
      "metadata": {
        "id": "1d37e45a-d401-4f98-9203-69aa24ad30a6"
      },
      "source": [
        "---"
      ]
    },
    {
      "cell_type": "markdown",
      "id": "b06bb570-f9eb-4a8d-b622-9efcf6346a5b",
      "metadata": {
        "id": "b06bb570-f9eb-4a8d-b622-9efcf6346a5b"
      },
      "source": [
        "### Median"
      ]
    },
    {
      "cell_type": "markdown",
      "id": "95c4f5ef-dce3-4ddd-8906-3dd570ea01ae",
      "metadata": {
        "id": "95c4f5ef-dce3-4ddd-8906-3dd570ea01ae"
      },
      "source": [
        "* The median can also be used to summarize numerical data like the heights of buildings\n",
        "* The median is:\n",
        "    * The middle value of an odd number of sorted data points\n",
        "    * The average of the two middle values of an even number of sorted data points\n",
        "* Use `np.median` to calculate the median of an array of numerical values."
      ]
    },
    {
      "cell_type": "markdown",
      "id": "c486c54f-761e-4a5b-a0aa-329b359314fd",
      "metadata": {
        "id": "c486c54f-761e-4a5b-a0aa-329b359314fd"
      },
      "source": [
        "---"
      ]
    },
    {
      "cell_type": "markdown",
      "id": "ee8940ea-7510-46de-802c-0bd989c93557",
      "metadata": {
        "id": "ee8940ea-7510-46de-802c-0bd989c93557"
      },
      "source": [
        "#### Demo: Median"
      ]
    },
    {
      "cell_type": "markdown",
      "id": "f2cf0672-fdfa-48a6-9ae3-3e012bd6573a",
      "metadata": {
        "deletable": false,
        "editable": false,
        "id": "f2cf0672-fdfa-48a6-9ae3-3e012bd6573a"
      },
      "source": [
        "Calculate the median height of the buildings in the table."
      ]
    },
    {
      "cell_type": "code",
      "execution_count": null,
      "id": "fcfc420f-6432-4676-94d7-621ede20c165",
      "metadata": {
        "tags": [],
        "id": "fcfc420f-6432-4676-94d7-621ede20c165",
        "outputId": "2508fca6-03d2-4e6a-ba5f-d388b9928e24"
      },
      "outputs": [
        {
          "data": {
            "text/plain": [
              "922.0"
            ]
          },
          "execution_count": 62,
          "metadata": {},
          "output_type": "execute_result"
        }
      ],
      "source": [
        "median_height = np.median(heights)\n",
        "median_height"
      ]
    },
    {
      "cell_type": "markdown",
      "id": "9722ce02-e429-48b6-904b-001c56874c62",
      "metadata": {
        "id": "9722ce02-e429-48b6-904b-001c56874c62"
      },
      "source": [
        "---"
      ]
    },
    {
      "cell_type": "markdown",
      "id": "3f98e35a-4208-4139-9d03-e50a566e7da9",
      "metadata": {
        "id": "3f98e35a-4208-4139-9d03-e50a566e7da9"
      },
      "source": [
        "### The Salesforce Tower"
      ]
    },
    {
      "cell_type": "markdown",
      "id": "bb88d2d8-fc31-4619-b2f4-e36ee83dd953",
      "metadata": {
        "deletable": false,
        "editable": false,
        "id": "bb88d2d8-fc31-4619-b2f4-e36ee83dd953"
      },
      "source": [
        "The Salesforce Tower in San Francisco is one of the tallest buildings in the country. See if it is in the `tallest_buildings` table."
      ]
    },
    {
      "cell_type": "code",
      "execution_count": null,
      "id": "f6b4c863-e044-461a-ad0d-d65af6f432b0",
      "metadata": {
        "tags": [],
        "id": "f6b4c863-e044-461a-ad0d-d65af6f432b0",
        "outputId": "9616aa4b-3626-4c65-f74c-4e3e7f2ee5e2"
      },
      "outputs": [
        {
          "data": {
            "text/html": [
              "<table border=\"1\" class=\"dataframe\">\n",
              "    <thead>\n",
              "        <tr>\n",
              "            <th>Name</th> <th>Floors</th> <th>Year</th> <th>Height (ft)</th> <th>City</th>\n",
              "        </tr>\n",
              "    </thead>\n",
              "    <tbody>\n",
              "        <tr>\n",
              "            <td>Transamerica Pyramid</td> <td>48    </td> <td>1972</td> <td>853        </td> <td>San Francisco</td>\n",
              "        </tr>\n",
              "        <tr>\n",
              "            <td>181 Fremont         </td> <td>66    </td> <td>2018</td> <td>802        </td> <td>San Francisco</td>\n",
              "        </tr>\n",
              "    </tbody>\n",
              "</table>"
            ],
            "text/plain": [
              "Name                 | Floors | Year | Height (ft) | City\n",
              "Transamerica Pyramid | 48     | 1972 | 853         | San Francisco\n",
              "181 Fremont          | 66     | 2018 | 802         | San Francisco"
            ]
          },
          "execution_count": 63,
          "metadata": {},
          "output_type": "execute_result"
        }
      ],
      "source": [
        "tallest_buildings.where('City','San Francisco')"
      ]
    },
    {
      "cell_type": "markdown",
      "id": "cff00fd7-e37c-4733-9c21-26e9dbcbca4f",
      "metadata": {
        "id": "cff00fd7-e37c-4733-9c21-26e9dbcbca4f"
      },
      "source": [
        "---"
      ]
    },
    {
      "cell_type": "markdown",
      "id": "ff345761-a1d7-4e73-9d36-a8e79baacf42",
      "metadata": {
        "deletable": false,
        "editable": false,
        "id": "ff345761-a1d7-4e73-9d36-a8e79baacf42"
      },
      "source": [
        "There must have been a mistake on creating the `tallest_buildings.csv` data file, because the Salesforce Tower is on [Wikipedia's page](https://en.wikipedia.org/wiki/List_of_tallest_buildings_in_the_United_States), but not in the table. Create a new table that includes all the information in `tallest_buildings` and the Salesforce Tower information."
      ]
    },
    {
      "cell_type": "code",
      "execution_count": null,
      "id": "885c1b96-2fc1-4a5c-a177-50a6fe60c33c",
      "metadata": {
        "tags": [],
        "id": "885c1b96-2fc1-4a5c-a177-50a6fe60c33c",
        "outputId": "389d8f62-8f3a-44f4-f0b6-7a132d1b39af"
      },
      "outputs": [
        {
          "data": {
            "text/html": [
              "<table border=\"1\" class=\"dataframe\">\n",
              "    <thead>\n",
              "        <tr>\n",
              "            <th>Name</th> <th>Floors</th> <th>Year</th> <th>Height (ft)</th> <th>City</th>\n",
              "        </tr>\n",
              "    </thead>\n",
              "    <tbody>\n",
              "        <tr>\n",
              "            <td>Transamerica Pyramid</td> <td>48    </td> <td>1972</td> <td>853        </td> <td>San Francisco</td>\n",
              "        </tr>\n",
              "        <tr>\n",
              "            <td>181 Fremont         </td> <td>66    </td> <td>2018</td> <td>802        </td> <td>San Francisco</td>\n",
              "        </tr>\n",
              "        <tr>\n",
              "            <td>Salesforce Tower    </td> <td>61    </td> <td>2018</td> <td>1070       </td> <td>San Francisco</td>\n",
              "        </tr>\n",
              "    </tbody>\n",
              "</table>"
            ],
            "text/plain": [
              "Name                 | Floors | Year | Height (ft) | City\n",
              "Transamerica Pyramid | 48     | 1972 | 853         | San Francisco\n",
              "181 Fremont          | 66     | 2018 | 802         | San Francisco\n",
              "Salesforce Tower     | 61     | 2018 | 1070        | San Francisco"
            ]
          },
          "execution_count": 64,
          "metadata": {},
          "output_type": "execute_result"
        }
      ],
      "source": [
        "tallest_buildings_with_SFT = tallest_buildings.with_row(\n",
        "    ['Salesforce Tower', 61, 2018, 1070, 'San Francisco']\n",
        ")\n",
        "tallest_buildings_with_SFT.where('City', 'San Francisco')"
      ]
    },
    {
      "cell_type": "markdown",
      "id": "ef643f17-16f0-46f1-ae03-f90ebd16bb97",
      "metadata": {
        "id": "ef643f17-16f0-46f1-ae03-f90ebd16bb97"
      },
      "source": [
        "---"
      ]
    },
    {
      "cell_type": "markdown",
      "id": "75ff5890-f491-48db-87d6-add2f8d14ebe",
      "metadata": {
        "id": "75ff5890-f491-48db-87d6-add2f8d14ebe"
      },
      "source": [
        "## Exploring Movies"
      ]
    },
    {
      "cell_type": "markdown",
      "id": "6c751ebc-5ec4-4b81-a04a-0444334dd2d3",
      "metadata": {
        "id": "6c751ebc-5ec4-4b81-a04a-0444334dd2d3"
      },
      "source": [
        "---"
      ]
    },
    {
      "cell_type": "markdown",
      "id": "62040c7f-53e9-4b02-82c8-995ed2e0ed92",
      "metadata": {
        "id": "62040c7f-53e9-4b02-82c8-995ed2e0ed92"
      },
      "source": [
        "### Loading the Data"
      ]
    },
    {
      "cell_type": "markdown",
      "id": "752303c9-2892-444b-8398-9d39c6385eea",
      "metadata": {
        "id": "752303c9-2892-444b-8398-9d39c6385eea"
      },
      "source": [
        "Explore the `top_movies.csv` data set that we generated from [www.the-numbers.com/market](https://www.the-numbers.com/market/). Try to implement several of the methods and attributes seen so far."
      ]
    },
    {
      "cell_type": "code",
      "execution_count": null,
      "id": "24737efb-ffae-4a87-a72c-cc81e655e891",
      "metadata": {
        "tags": [],
        "id": "24737efb-ffae-4a87-a72c-cc81e655e891",
        "outputId": "d565667a-3af4-4830-fade-acdc972e7664"
      },
      "outputs": [
        {
          "data": {
            "text/html": [
              "<table border=\"1\" class=\"dataframe\">\n",
              "    <thead>\n",
              "        <tr>\n",
              "            <th>Year</th> <th>Movie</th> <th>Categorization</th> <th>Creative Type</th> <th>Production Method</th> <th>Genre</th> <th>MPAA Rating</th> <th>Distributor</th> <th>Total for Year ($)</th> <th>Total in 2022 dollars</th> <th>Tickets Sold</th>\n",
              "        </tr>\n",
              "    </thead>\n",
              "    <tbody>\n",
              "        <tr>\n",
              "            <td>1995</td> <td>Batman Forever                       </td> <td>Super Hero        </td> <td>Live Action          </td> <td>Based on Comic/Graphic Novel     </td> <td>Action   </td> <td>PG-13      </td> <td>Warner Bros.      </td> <td>184031112         </td> <td>445482201            </td> <td>42306002    </td>\n",
              "        </tr>\n",
              "        <tr>\n",
              "            <td>1996</td> <td>Independence Day                     </td> <td>Science Fiction   </td> <td>Live Action          </td> <td>Original Screenplay              </td> <td>Adventure</td> <td>PG-13      </td> <td>20th Century Fox  </td> <td>306169255         </td> <td>729403223            </td> <td>69269062    </td>\n",
              "        </tr>\n",
              "        <tr>\n",
              "            <td>1997</td> <td>Men in Black                         </td> <td>Science Fiction   </td> <td>Live Action          </td> <td>Based on Comic/Graphic Novel     </td> <td>Action   </td> <td>PG-13      </td> <td>Sony Pictures     </td> <td>250650052         </td> <td>575020703            </td> <td>54607854    </td>\n",
              "        </tr>\n",
              "        <tr>\n",
              "            <td>1998</td> <td>Titanic                              </td> <td>Historical Fiction</td> <td>Live Action          </td> <td>Original Screenplay              </td> <td>Drama    </td> <td>PG-13      </td> <td>Paramount Pictures</td> <td>488192879         </td> <td>1096091898           </td> <td>104092298   </td>\n",
              "        </tr>\n",
              "        <tr>\n",
              "            <td>1999</td> <td>Star Wars Ep. I: The Phantom Menace  </td> <td>Science Fiction   </td> <td>Animation/Live Action</td> <td>Original Screenplay              </td> <td>Adventure</td> <td>PG         </td> <td>20th Century Fox  </td> <td>430443350         </td> <td>892237879            </td> <td>84732942    </td>\n",
              "        </tr>\n",
              "        <tr>\n",
              "            <td>2000</td> <td>How the Grinch Stole Christmas       </td> <td>Kids Fiction      </td> <td>Live Action          </td> <td>Based on Fiction Book/Short Story</td> <td>Adventure</td> <td>PG         </td> <td>Universal         </td> <td>254257385         </td> <td>496721750            </td> <td>47172056    </td>\n",
              "        </tr>\n",
              "        <tr>\n",
              "            <td>2001</td> <td>Harry Potter and the Sorcerer’s Stone</td> <td>Fantasy           </td> <td>Animation/Live Action</td> <td>Based on Fiction Book/Short Story</td> <td>Adventure</td> <td>PG         </td> <td>Warner Bros.      </td> <td>300404434         </td> <td>558879624            </td> <td>53074988    </td>\n",
              "        </tr>\n",
              "        <tr>\n",
              "            <td>2002</td> <td>Spider-Man                           </td> <td>Super Hero        </td> <td>Live Action          </td> <td>Based on Comic/Graphic Novel     </td> <td>Adventure</td> <td>PG-13      </td> <td>Sony Pictures     </td> <td>403706375         </td> <td>731674375            </td> <td>69484746    </td>\n",
              "        </tr>\n",
              "        <tr>\n",
              "            <td>2003</td> <td>Finding Nemo                         </td> <td>Kids Fiction      </td> <td>Digital Animation    </td> <td>Original Screenplay              </td> <td>Adventure</td> <td>G          </td> <td>Walt Disney       </td> <td>339714367         </td> <td>593232548            </td> <td>56337374    </td>\n",
              "        </tr>\n",
              "        <tr>\n",
              "            <td>2004</td> <td>Shrek 2                              </td> <td>Kids Fiction      </td> <td>Digital Animation    </td> <td>Based on Fiction Book/Short Story</td> <td>Adventure</td> <td>PG         </td> <td>Dreamworks SKG    </td> <td>441226247         </td> <td>748166240            </td> <td>71050925    </td>\n",
              "        </tr>\n",
              "    </tbody>\n",
              "</table>\n",
              "<p>... (20 rows omitted)</p>"
            ],
            "text/plain": [
              "Year | Movie                                 | Categorization     | Creative Type         | Production Method                 | Genre     | MPAA Rating | Distributor        | Total for Year ($) | Total in 2022 dollars | Tickets Sold\n",
              "1995 | Batman Forever                        | Super Hero         | Live Action           | Based on Comic/Graphic Novel      | Action    | PG-13       | Warner Bros.       | 184031112          | 445482201             | 42306002\n",
              "1996 | Independence Day                      | Science Fiction    | Live Action           | Original Screenplay               | Adventure | PG-13       | 20th Century Fox   | 306169255          | 729403223             | 69269062\n",
              "1997 | Men in Black                          | Science Fiction    | Live Action           | Based on Comic/Graphic Novel      | Action    | PG-13       | Sony Pictures      | 250650052          | 575020703             | 54607854\n",
              "1998 | Titanic                               | Historical Fiction | Live Action           | Original Screenplay               | Drama     | PG-13       | Paramount Pictures | 488192879          | 1096091898            | 104092298\n",
              "1999 | Star Wars Ep. I: The Phantom Menace   | Science Fiction    | Animation/Live Action | Original Screenplay               | Adventure | PG          | 20th Century Fox   | 430443350          | 892237879             | 84732942\n",
              "2000 | How the Grinch Stole Christmas        | Kids Fiction       | Live Action           | Based on Fiction Book/Short Story | Adventure | PG          | Universal          | 254257385          | 496721750             | 47172056\n",
              "2001 | Harry Potter and the Sorcerer’s Stone | Fantasy            | Animation/Live Action | Based on Fiction Book/Short Story | Adventure | PG          | Warner Bros.       | 300404434          | 558879624             | 53074988\n",
              "2002 | Spider-Man                            | Super Hero         | Live Action           | Based on Comic/Graphic Novel      | Adventure | PG-13       | Sony Pictures      | 403706375          | 731674375             | 69484746\n",
              "2003 | Finding Nemo                          | Kids Fiction       | Digital Animation     | Original Screenplay               | Adventure | G           | Walt Disney        | 339714367          | 593232548             | 56337374\n",
              "2004 | Shrek 2                               | Kids Fiction       | Digital Animation     | Based on Fiction Book/Short Story | Adventure | PG          | Dreamworks SKG     | 441226247          | 748166240             | 71050925\n",
              "... (20 rows omitted)"
            ]
          },
          "execution_count": 65,
          "metadata": {},
          "output_type": "execute_result"
        }
      ],
      "source": [
        "movies = Table.read_table('top_movies.csv')\n",
        "movies"
      ]
    },
    {
      "cell_type": "markdown",
      "id": "f10ebb08-6937-4589-971d-2931f93159f2",
      "metadata": {
        "id": "f10ebb08-6937-4589-971d-2931f93159f2"
      },
      "source": [
        "---"
      ]
    },
    {
      "cell_type": "markdown",
      "id": "7819ecf1-2f37-4cca-aece-c04882579dcb",
      "metadata": {
        "id": "7819ecf1-2f37-4cca-aece-c04882579dcb"
      },
      "source": [
        "### Data Attributes"
      ]
    },
    {
      "cell_type": "markdown",
      "id": "c7ab25ab-3e24-4e62-9d04-b076187712db",
      "metadata": {
        "id": "c7ab25ab-3e24-4e62-9d04-b076187712db"
      },
      "source": [
        "* `'Year'`, `'Total for Year ($)'`, `'Total in 2022 dollars'`, and `'Tickets Sold'` are numerical attributes\n",
        "* The other attributes are categorical"
      ]
    },
    {
      "cell_type": "markdown",
      "id": "20a14563-9d37-412e-b53f-6598d50d337e",
      "metadata": {
        "id": "20a14563-9d37-412e-b53f-6598d50d337e"
      },
      "source": [
        "---"
      ]
    },
    {
      "cell_type": "markdown",
      "id": "fff2fa66-d30e-4845-8882-2fb06e4b2238",
      "metadata": {
        "id": "fff2fa66-d30e-4845-8882-2fb06e4b2238"
      },
      "source": [
        "### Demo: Explore Movies"
      ]
    },
    {
      "cell_type": "markdown",
      "id": "1d6d8535-28dc-4f8b-bba0-b70cc67240ca",
      "metadata": {
        "deletable": false,
        "editable": false,
        "id": "1d6d8535-28dc-4f8b-bba0-b70cc67240ca"
      },
      "source": [
        "Calculate the average ticket price and add that information to the table."
      ]
    },
    {
      "cell_type": "code",
      "execution_count": null,
      "id": "90084a28-88d2-48a1-8b3d-4dad3a40d9b7",
      "metadata": {
        "tags": [],
        "id": "90084a28-88d2-48a1-8b3d-4dad3a40d9b7",
        "outputId": "5c719571-acbc-40e1-c435-8dd1641ce547"
      },
      "outputs": [
        {
          "data": {
            "text/plain": [
              "array([  4.35000008,   4.42000001,   4.59000004,   4.69000001,\n",
              "         5.08000005,   5.39000007,   5.66000004,   5.81000001,\n",
              "         6.03000003,   6.21000004,   6.41000011,   6.55000002,\n",
              "         6.88000003,   7.17999995,   7.5       ,   7.89000002,\n",
              "         7.93      ,   7.96000002,   8.13000008,   8.17000009,\n",
              "         8.43000003,   8.65      ,   8.97000009,   9.11000005,\n",
              "         9.15999998,   9.41000011,  10.40000006,  10.53000008,\n",
              "        10.53000005,  10.53000107])"
            ]
          },
          "execution_count": 55,
          "metadata": {},
          "output_type": "execute_result"
        }
      ],
      "source": [
        "total_gross =movies.column('Total for Year ($)')\n",
        "number_of_tickets_sold = movies.column('Tickets Sold')\n",
        "ave_ticket_price = total_gross / number_of_tickets_sold\n",
        "ave_ticket_price"
      ]
    },
    {
      "cell_type": "code",
      "execution_count": null,
      "id": "54fc1309-574e-4113-8eb6-6bcec07da3ce",
      "metadata": {
        "id": "54fc1309-574e-4113-8eb6-6bcec07da3ce",
        "outputId": "c6ca7a3c-f114-4633-825b-8094e3996418"
      },
      "outputs": [
        {
          "data": {
            "text/plain": [
              "array([184031112, 306169255, 250650052, 488192879, 430443350])"
            ]
          },
          "execution_count": 56,
          "metadata": {},
          "output_type": "execute_result"
        }
      ],
      "source": [
        "total_gross[:5]"
      ]
    },
    {
      "cell_type": "code",
      "execution_count": null,
      "id": "03a2bc19-09e5-4186-bfa8-fafabf639865",
      "metadata": {
        "tags": [],
        "id": "03a2bc19-09e5-4186-bfa8-fafabf639865",
        "outputId": "2366fb54-ff41-4c68-e9df-467bd82ac05b"
      },
      "outputs": [
        {
          "data": {
            "text/html": [
              "<table border=\"1\" class=\"dataframe\">\n",
              "    <thead>\n",
              "        <tr>\n",
              "            <th>Year</th> <th>Movie</th> <th>Categorization</th> <th>Creative Type</th> <th>Production Method</th> <th>Genre</th> <th>MPAA Rating</th> <th>Distributor</th> <th>Total for Year ($)</th> <th>Total in 2022 dollars</th> <th>Tickets Sold</th> <th>Average Ticket Price</th>\n",
              "        </tr>\n",
              "    </thead>\n",
              "    <tbody>\n",
              "        <tr>\n",
              "            <td>1995</td> <td>Batman Forever                       </td> <td>Super Hero        </td> <td>Live Action          </td> <td>Based on Comic/Graphic Novel     </td> <td>Action   </td> <td>PG-13      </td> <td>Warner Bros.      </td> <td>184031112         </td> <td>445482201            </td> <td>42306002    </td> <td>4.35                </td>\n",
              "        </tr>\n",
              "        <tr>\n",
              "            <td>1996</td> <td>Independence Day                     </td> <td>Science Fiction   </td> <td>Live Action          </td> <td>Original Screenplay              </td> <td>Adventure</td> <td>PG-13      </td> <td>20th Century Fox  </td> <td>306169255         </td> <td>729403223            </td> <td>69269062    </td> <td>4.42                </td>\n",
              "        </tr>\n",
              "        <tr>\n",
              "            <td>1997</td> <td>Men in Black                         </td> <td>Science Fiction   </td> <td>Live Action          </td> <td>Based on Comic/Graphic Novel     </td> <td>Action   </td> <td>PG-13      </td> <td>Sony Pictures     </td> <td>250650052         </td> <td>575020703            </td> <td>54607854    </td> <td>4.59                </td>\n",
              "        </tr>\n",
              "        <tr>\n",
              "            <td>1998</td> <td>Titanic                              </td> <td>Historical Fiction</td> <td>Live Action          </td> <td>Original Screenplay              </td> <td>Drama    </td> <td>PG-13      </td> <td>Paramount Pictures</td> <td>488192879         </td> <td>1096091898           </td> <td>104092298   </td> <td>4.69                </td>\n",
              "        </tr>\n",
              "        <tr>\n",
              "            <td>1999</td> <td>Star Wars Ep. I: The Phantom Menace  </td> <td>Science Fiction   </td> <td>Animation/Live Action</td> <td>Original Screenplay              </td> <td>Adventure</td> <td>PG         </td> <td>20th Century Fox  </td> <td>430443350         </td> <td>892237879            </td> <td>84732942    </td> <td>5.08                </td>\n",
              "        </tr>\n",
              "        <tr>\n",
              "            <td>2000</td> <td>How the Grinch Stole Christmas       </td> <td>Kids Fiction      </td> <td>Live Action          </td> <td>Based on Fiction Book/Short Story</td> <td>Adventure</td> <td>PG         </td> <td>Universal         </td> <td>254257385         </td> <td>496721750            </td> <td>47172056    </td> <td>5.39                </td>\n",
              "        </tr>\n",
              "        <tr>\n",
              "            <td>2001</td> <td>Harry Potter and the Sorcerer’s Stone</td> <td>Fantasy           </td> <td>Animation/Live Action</td> <td>Based on Fiction Book/Short Story</td> <td>Adventure</td> <td>PG         </td> <td>Warner Bros.      </td> <td>300404434         </td> <td>558879624            </td> <td>53074988    </td> <td>5.66                </td>\n",
              "        </tr>\n",
              "        <tr>\n",
              "            <td>2002</td> <td>Spider-Man                           </td> <td>Super Hero        </td> <td>Live Action          </td> <td>Based on Comic/Graphic Novel     </td> <td>Adventure</td> <td>PG-13      </td> <td>Sony Pictures     </td> <td>403706375         </td> <td>731674375            </td> <td>69484746    </td> <td>5.81                </td>\n",
              "        </tr>\n",
              "        <tr>\n",
              "            <td>2003</td> <td>Finding Nemo                         </td> <td>Kids Fiction      </td> <td>Digital Animation    </td> <td>Original Screenplay              </td> <td>Adventure</td> <td>G          </td> <td>Walt Disney       </td> <td>339714367         </td> <td>593232548            </td> <td>56337374    </td> <td>6.03                </td>\n",
              "        </tr>\n",
              "        <tr>\n",
              "            <td>2004</td> <td>Shrek 2                              </td> <td>Kids Fiction      </td> <td>Digital Animation    </td> <td>Based on Fiction Book/Short Story</td> <td>Adventure</td> <td>PG         </td> <td>Dreamworks SKG    </td> <td>441226247         </td> <td>748166240            </td> <td>71050925    </td> <td>6.21                </td>\n",
              "        </tr>\n",
              "    </tbody>\n",
              "</table>\n",
              "<p>... (20 rows omitted)</p>"
            ],
            "text/plain": [
              "Year | Movie                                 | Categorization     | Creative Type         | Production Method                 | Genre     | MPAA Rating | Distributor        | Total for Year ($) | Total in 2022 dollars | Tickets Sold | Average Ticket Price\n",
              "1995 | Batman Forever                        | Super Hero         | Live Action           | Based on Comic/Graphic Novel      | Action    | PG-13       | Warner Bros.       | 184031112          | 445482201             | 42306002     | 4.35\n",
              "1996 | Independence Day                      | Science Fiction    | Live Action           | Original Screenplay               | Adventure | PG-13       | 20th Century Fox   | 306169255          | 729403223             | 69269062     | 4.42\n",
              "1997 | Men in Black                          | Science Fiction    | Live Action           | Based on Comic/Graphic Novel      | Action    | PG-13       | Sony Pictures      | 250650052          | 575020703             | 54607854     | 4.59\n",
              "1998 | Titanic                               | Historical Fiction | Live Action           | Original Screenplay               | Drama     | PG-13       | Paramount Pictures | 488192879          | 1096091898            | 104092298    | 4.69\n",
              "1999 | Star Wars Ep. I: The Phantom Menace   | Science Fiction    | Animation/Live Action | Original Screenplay               | Adventure | PG          | 20th Century Fox   | 430443350          | 892237879             | 84732942     | 5.08\n",
              "2000 | How the Grinch Stole Christmas        | Kids Fiction       | Live Action           | Based on Fiction Book/Short Story | Adventure | PG          | Universal          | 254257385          | 496721750             | 47172056     | 5.39\n",
              "2001 | Harry Potter and the Sorcerer’s Stone | Fantasy            | Animation/Live Action | Based on Fiction Book/Short Story | Adventure | PG          | Warner Bros.       | 300404434          | 558879624             | 53074988     | 5.66\n",
              "2002 | Spider-Man                            | Super Hero         | Live Action           | Based on Comic/Graphic Novel      | Adventure | PG-13       | Sony Pictures      | 403706375          | 731674375             | 69484746     | 5.81\n",
              "2003 | Finding Nemo                          | Kids Fiction       | Digital Animation     | Original Screenplay               | Adventure | G           | Walt Disney        | 339714367          | 593232548             | 56337374     | 6.03\n",
              "2004 | Shrek 2                               | Kids Fiction       | Digital Animation     | Based on Fiction Book/Short Story | Adventure | PG          | Dreamworks SKG     | 441226247          | 748166240             | 71050925     | 6.21\n",
              "... (20 rows omitted)"
            ]
          },
          "execution_count": 57,
          "metadata": {},
          "output_type": "execute_result"
        }
      ],
      "source": [
        "movies = movies.with_column('Average Ticket Price',ave_ticket_price)\n",
        "movies"
      ]
    },
    {
      "cell_type": "markdown",
      "id": "7ff96af3-bf81-4bdb-a06f-7d9ce36d6952",
      "metadata": {
        "id": "7ff96af3-bf81-4bdb-a06f-7d9ce36d6952"
      },
      "source": [
        "---"
      ]
    },
    {
      "cell_type": "markdown",
      "id": "af724297-3669-49c0-b3e3-db1e796275ff",
      "metadata": {
        "deletable": false,
        "editable": false,
        "id": "af724297-3669-49c0-b3e3-db1e796275ff"
      },
      "source": [
        "Practice filtering the data using the `where` and `take` table methods."
      ]
    },
    {
      "cell_type": "code",
      "execution_count": null,
      "id": "ee3fd831-998b-4e21-8441-62c10990f1e2",
      "metadata": {
        "tags": [],
        "id": "ee3fd831-998b-4e21-8441-62c10990f1e2",
        "outputId": "79f50625-969e-4249-eebf-5bc126c4b78a"
      },
      "outputs": [
        {
          "data": {
            "text/html": [
              "<table border=\"1\" class=\"dataframe\">\n",
              "    <thead>\n",
              "        <tr>\n",
              "            <th>Year</th> <th>Movie</th> <th>Categorization</th> <th>Creative Type</th> <th>Production Method</th> <th>Genre</th> <th>MPAA Rating</th> <th>Distributor</th> <th>Total for Year ($)</th> <th>Total in 2022 dollars</th> <th>Tickets Sold</th> <th>Average Ticket Price</th>\n",
              "        </tr>\n",
              "    </thead>\n",
              "    <tbody>\n",
              "        <tr>\n",
              "            <td>2000</td> <td>How the Grinch Stole Christmas       </td> <td>Kids Fiction  </td> <td>Live Action          </td> <td>Based on Fiction Book/Short Story</td> <td>Adventure</td> <td>PG         </td> <td>Universal     </td> <td>254257385         </td> <td>496721750            </td> <td>47172056    </td> <td>5.39                </td>\n",
              "        </tr>\n",
              "        <tr>\n",
              "            <td>2001</td> <td>Harry Potter and the Sorcerer’s Stone</td> <td>Fantasy       </td> <td>Animation/Live Action</td> <td>Based on Fiction Book/Short Story</td> <td>Adventure</td> <td>PG         </td> <td>Warner Bros.  </td> <td>300404434         </td> <td>558879624            </td> <td>53074988    </td> <td>5.66                </td>\n",
              "        </tr>\n",
              "        <tr>\n",
              "            <td>2002</td> <td>Spider-Man                           </td> <td>Super Hero    </td> <td>Live Action          </td> <td>Based on Comic/Graphic Novel     </td> <td>Adventure</td> <td>PG-13      </td> <td>Sony Pictures </td> <td>403706375         </td> <td>731674375            </td> <td>69484746    </td> <td>5.81                </td>\n",
              "        </tr>\n",
              "        <tr>\n",
              "            <td>2003</td> <td>Finding Nemo                         </td> <td>Kids Fiction  </td> <td>Digital Animation    </td> <td>Original Screenplay              </td> <td>Adventure</td> <td>G          </td> <td>Walt Disney   </td> <td>339714367         </td> <td>593232548            </td> <td>56337374    </td> <td>6.03                </td>\n",
              "        </tr>\n",
              "        <tr>\n",
              "            <td>2004</td> <td>Shrek 2                              </td> <td>Kids Fiction  </td> <td>Digital Animation    </td> <td>Based on Fiction Book/Short Story</td> <td>Adventure</td> <td>PG         </td> <td>Dreamworks SKG</td> <td>441226247         </td> <td>748166240            </td> <td>71050925    </td> <td>6.21                </td>\n",
              "        </tr>\n",
              "    </tbody>\n",
              "</table>"
            ],
            "text/plain": [
              "Year | Movie                                 | Categorization | Creative Type         | Production Method                 | Genre     | MPAA Rating | Distributor    | Total for Year ($) | Total in 2022 dollars | Tickets Sold | Average Ticket Price\n",
              "2000 | How the Grinch Stole Christmas        | Kids Fiction   | Live Action           | Based on Fiction Book/Short Story | Adventure | PG          | Universal      | 254257385          | 496721750             | 47172056     | 5.39\n",
              "2001 | Harry Potter and the Sorcerer’s Stone | Fantasy        | Animation/Live Action | Based on Fiction Book/Short Story | Adventure | PG          | Warner Bros.   | 300404434          | 558879624             | 53074988     | 5.66\n",
              "2002 | Spider-Man                            | Super Hero     | Live Action           | Based on Comic/Graphic Novel      | Adventure | PG-13       | Sony Pictures  | 403706375          | 731674375             | 69484746     | 5.81\n",
              "2003 | Finding Nemo                          | Kids Fiction   | Digital Animation     | Original Screenplay               | Adventure | G           | Walt Disney    | 339714367          | 593232548             | 56337374     | 6.03\n",
              "2004 | Shrek 2                               | Kids Fiction   | Digital Animation     | Based on Fiction Book/Short Story | Adventure | PG          | Dreamworks SKG | 441226247          | 748166240             | 71050925     | 6.21"
            ]
          },
          "execution_count": 59,
          "metadata": {},
          "output_type": "execute_result"
        }
      ],
      "source": [
        "movies.where('Year', are.between(2000,2005))"
      ]
    },
    {
      "cell_type": "code",
      "execution_count": null,
      "id": "ba0514cc-4b53-405f-8aff-cd1061676159",
      "metadata": {
        "tags": [],
        "id": "ba0514cc-4b53-405f-8aff-cd1061676159",
        "outputId": "ef6fe14d-06ef-4462-e47d-83347e5f6b8c"
      },
      "outputs": [
        {
          "data": {
            "text/html": [
              "<table border=\"1\" class=\"dataframe\">\n",
              "    <thead>\n",
              "        <tr>\n",
              "            <th>Year</th> <th>Movie</th> <th>Categorization</th> <th>Creative Type</th> <th>Production Method</th> <th>Genre</th> <th>MPAA Rating</th> <th>Distributor</th> <th>Total for Year ($)</th> <th>Total in 2022 dollars</th> <th>Tickets Sold</th> <th>Average Ticket Price</th>\n",
              "        </tr>\n",
              "    </thead>\n",
              "    <tbody>\n",
              "        <tr>\n",
              "            <td>2007</td> <td>Spider-Man 3</td> <td>Super Hero    </td> <td>Live Action  </td> <td>Based on Comic/Graphic Novel</td> <td>Adventure</td> <td>PG-13      </td> <td>Sony Pictures</td> <td>336530303         </td> <td>515067453            </td> <td>48914288    </td> <td>6.88                </td>\n",
              "        </tr>\n",
              "    </tbody>\n",
              "</table>"
            ],
            "text/plain": [
              "Year | Movie        | Categorization | Creative Type | Production Method            | Genre     | MPAA Rating | Distributor   | Total for Year ($) | Total in 2022 dollars | Tickets Sold | Average Ticket Price\n",
              "2007 | Spider-Man 3 | Super Hero     | Live Action   | Based on Comic/Graphic Novel | Adventure | PG-13       | Sony Pictures | 336530303          | 515067453             | 48914288     | 6.88"
            ]
          },
          "execution_count": 60,
          "metadata": {},
          "output_type": "execute_result"
        }
      ],
      "source": [
        "movies.where('Year', are.equal_to(2007))"
      ]
    },
    {
      "cell_type": "code",
      "execution_count": null,
      "id": "7574046b-fe85-4472-8a8c-53a38f00b6b9",
      "metadata": {
        "tags": [],
        "id": "7574046b-fe85-4472-8a8c-53a38f00b6b9",
        "outputId": "9101e0b7-57ef-4d41-c8ae-3f7f2f474607"
      },
      "outputs": [
        {
          "data": {
            "text/html": [
              "<table border=\"1\" class=\"dataframe\">\n",
              "    <thead>\n",
              "        <tr>\n",
              "            <th>Year</th> <th>Movie</th> <th>Categorization</th> <th>Creative Type</th> <th>Production Method</th> <th>Genre</th> <th>MPAA Rating</th> <th>Distributor</th> <th>Total for Year ($)</th> <th>Total in 2022 dollars</th> <th>Tickets Sold</th> <th>Average Ticket Price</th>\n",
              "        </tr>\n",
              "    </thead>\n",
              "    <tbody>\n",
              "        <tr>\n",
              "            <td>2001</td> <td>Harry Potter and the Sorcerer’s Stone        </td> <td>Fantasy       </td> <td>Animation/Live Action</td> <td>Based on Fiction Book/Short Story</td> <td>Adventure</td> <td>PG         </td> <td>Warner Bros.</td> <td>300404434         </td> <td>558879624            </td> <td>53074988    </td> <td>5.66                </td>\n",
              "        </tr>\n",
              "        <tr>\n",
              "            <td>2011</td> <td>Harry Potter and the Deathly Hallows: Part II</td> <td>Fantasy       </td> <td>Animation/Live Action</td> <td>Based on Fiction Book/Short Story</td> <td>Adventure</td> <td>PG-13      </td> <td>Warner Bros.</td> <td>381011219         </td> <td>505932930            </td> <td>48046812    </td> <td>7.93                </td>\n",
              "        </tr>\n",
              "    </tbody>\n",
              "</table>"
            ],
            "text/plain": [
              "Year | Movie                                         | Categorization | Creative Type         | Production Method                 | Genre     | MPAA Rating | Distributor  | Total for Year ($) | Total in 2022 dollars | Tickets Sold | Average Ticket Price\n",
              "2001 | Harry Potter and the Sorcerer’s Stone         | Fantasy        | Animation/Live Action | Based on Fiction Book/Short Story | Adventure | PG          | Warner Bros. | 300404434          | 558879624             | 53074988     | 5.66\n",
              "2011 | Harry Potter and the Deathly Hallows: Part II | Fantasy        | Animation/Live Action | Based on Fiction Book/Short Story | Adventure | PG-13       | Warner Bros. | 381011219          | 505932930             | 48046812     | 7.93"
            ]
          },
          "execution_count": 62,
          "metadata": {},
          "output_type": "execute_result"
        }
      ],
      "source": [
        "movies.where('Movie', are.containing('Harry'))"
      ]
    },
    {
      "cell_type": "code",
      "execution_count": null,
      "id": "c6762d3f-fac5-4433-8dc7-47c123b9150b",
      "metadata": {
        "tags": [],
        "id": "c6762d3f-fac5-4433-8dc7-47c123b9150b",
        "outputId": "a8ace30a-81f8-449b-e801-d7c3ebe21431"
      },
      "outputs": [
        {
          "data": {
            "text/html": [
              "<table border=\"1\" class=\"dataframe\">\n",
              "    <thead>\n",
              "        <tr>\n",
              "            <th>Year</th> <th>Movie</th> <th>Categorization</th> <th>Creative Type</th> <th>Production Method</th> <th>Genre</th> <th>MPAA Rating</th> <th>Distributor</th> <th>Total for Year ($)</th> <th>Total in 2022 dollars</th> <th>Tickets Sold</th> <th>Average Ticket Price</th>\n",
              "        </tr>\n",
              "    </thead>\n",
              "    <tbody>\n",
              "        <tr>\n",
              "            <td>2000</td> <td>How the Grinch Stole Christmas               </td> <td>Kids Fiction      </td> <td>Live Action          </td> <td>Based on Fiction Book/Short Story</td> <td>Adventure</td> <td>PG         </td> <td>Universal         </td> <td>254257385         </td> <td>496721750            </td> <td>47172056    </td> <td>5.39                </td>\n",
              "        </tr>\n",
              "        <tr>\n",
              "            <td>2001</td> <td>Harry Potter and the Sorcerer’s Stone        </td> <td>Fantasy           </td> <td>Animation/Live Action</td> <td>Based on Fiction Book/Short Story</td> <td>Adventure</td> <td>PG         </td> <td>Warner Bros.      </td> <td>300404434         </td> <td>558879624            </td> <td>53074988    </td> <td>5.66                </td>\n",
              "        </tr>\n",
              "        <tr>\n",
              "            <td>2005</td> <td>Star Wars Ep. III: Revenge of the Sith       </td> <td>Science Fiction   </td> <td>Animation/Live Action</td> <td>Original Screenplay              </td> <td>Adventure</td> <td>PG-13      </td> <td>20th Century Fox  </td> <td>380270577         </td> <td>624687848            </td> <td>59324582    </td> <td>6.41                </td>\n",
              "        </tr>\n",
              "        <tr>\n",
              "            <td>2006</td> <td>Pirates of the Caribbean: Dead Man’s Chest   </td> <td>Historical Fiction</td> <td>Live Action          </td> <td>Based on Theme Park Ride         </td> <td>Adventure</td> <td>PG-13      </td> <td>Walt Disney       </td> <td>423315812         </td> <td>680536715            </td> <td>64628368    </td> <td>6.55                </td>\n",
              "        </tr>\n",
              "        <tr>\n",
              "            <td>2009</td> <td>Transformers: Revenge of the Fallen          </td> <td>Science Fiction   </td> <td>Animation/Live Action</td> <td>Based on TV                      </td> <td>Action   </td> <td>PG-13      </td> <td>Paramount Pictures</td> <td>402111870         </td> <td>564565065            </td> <td>53614916    </td> <td>7.5                 </td>\n",
              "        </tr>\n",
              "        <tr>\n",
              "            <td>2011</td> <td>Harry Potter and the Deathly Hallows: Part II</td> <td>Fantasy           </td> <td>Animation/Live Action</td> <td>Based on Fiction Book/Short Story</td> <td>Adventure</td> <td>PG-13      </td> <td>Warner Bros.      </td> <td>381011219         </td> <td>505932930            </td> <td>48046812    </td> <td>7.93                </td>\n",
              "        </tr>\n",
              "        <tr>\n",
              "            <td>2014</td> <td>Guardians of the Galaxy                      </td> <td>Super Hero        </td> <td>Animation/Live Action</td> <td>Based on Comic/Graphic Novel     </td> <td>Action   </td> <td>PG-13      </td> <td>Walt Disney       </td> <td>333055258         </td> <td>429262158            </td> <td>40765637    </td> <td>8.17                </td>\n",
              "        </tr>\n",
              "        <tr>\n",
              "            <td>2018</td> <td>Black Panther                                </td> <td>Super Hero        </td> <td>Live Action          </td> <td>Based on Comic/Graphic Novel     </td> <td>Action   </td> <td>PG-13      </td> <td>Walt Disney       </td> <td>700059566         </td> <td>809179714            </td> <td>76845177    </td> <td>9.11                </td>\n",
              "        </tr>\n",
              "    </tbody>\n",
              "</table>"
            ],
            "text/plain": [
              "Year | Movie                                         | Categorization     | Creative Type         | Production Method                 | Genre     | MPAA Rating | Distributor        | Total for Year ($) | Total in 2022 dollars | Tickets Sold | Average Ticket Price\n",
              "2000 | How the Grinch Stole Christmas                | Kids Fiction       | Live Action           | Based on Fiction Book/Short Story | Adventure | PG          | Universal          | 254257385          | 496721750             | 47172056     | 5.39\n",
              "2001 | Harry Potter and the Sorcerer’s Stone         | Fantasy            | Animation/Live Action | Based on Fiction Book/Short Story | Adventure | PG          | Warner Bros.       | 300404434          | 558879624             | 53074988     | 5.66\n",
              "2005 | Star Wars Ep. III: Revenge of the Sith        | Science Fiction    | Animation/Live Action | Original Screenplay               | Adventure | PG-13       | 20th Century Fox   | 380270577          | 624687848             | 59324582     | 6.41\n",
              "2006 | Pirates of the Caribbean: Dead Man’s Chest    | Historical Fiction | Live Action           | Based on Theme Park Ride          | Adventure | PG-13       | Walt Disney        | 423315812          | 680536715             | 64628368     | 6.55\n",
              "2009 | Transformers: Revenge of the Fallen           | Science Fiction    | Animation/Live Action | Based on TV                       | Action    | PG-13       | Paramount Pictures | 402111870          | 564565065             | 53614916     | 7.5\n",
              "2011 | Harry Potter and the Deathly Hallows: Part II | Fantasy            | Animation/Live Action | Based on Fiction Book/Short Story | Adventure | PG-13       | Warner Bros.       | 381011219          | 505932930             | 48046812     | 7.93\n",
              "2014 | Guardians of the Galaxy                       | Super Hero         | Animation/Live Action | Based on Comic/Graphic Novel      | Action    | PG-13       | Walt Disney        | 333055258          | 429262158             | 40765637     | 8.17\n",
              "2018 | Black Panther                                 | Super Hero         | Live Action           | Based on Comic/Graphic Novel      | Action    | PG-13       | Walt Disney        | 700059566          | 809179714             | 76845177     | 9.11"
            ]
          },
          "execution_count": 63,
          "metadata": {},
          "output_type": "execute_result"
        }
      ],
      "source": [
        "movies.where('Movie', are.containing('the'))\n"
      ]
    },
    {
      "cell_type": "code",
      "execution_count": null,
      "id": "18ece372-766d-4a7d-a028-b223d088a06b",
      "metadata": {
        "id": "18ece372-766d-4a7d-a028-b223d088a06b",
        "outputId": "6257f134-36b8-4b01-aa39-6eda78f46262"
      },
      "outputs": [
        {
          "data": {
            "text/html": [
              "<table border=\"1\" class=\"dataframe\">\n",
              "    <thead>\n",
              "        <tr>\n",
              "            <th>Year</th> <th>Movie</th> <th>Categorization</th> <th>Creative Type</th> <th>Production Method</th> <th>Genre</th> <th>MPAA Rating</th> <th>Distributor</th> <th>Total for Year ($)</th> <th>Total in 2022 dollars</th> <th>Tickets Sold</th> <th>Average Ticket Price</th>\n",
              "        </tr>\n",
              "    </thead>\n",
              "    <tbody>\n",
              "        <tr>\n",
              "            <td>1999</td> <td>Star Wars Ep. I: The Phantom Menace </td> <td>Science Fiction</td> <td>Animation/Live Action</td> <td>Original Screenplay         </td> <td>Adventure</td> <td>PG         </td> <td>20th Century Fox</td> <td>430443350         </td> <td>892237879            </td> <td>84732942    </td> <td>5.08                </td>\n",
              "        </tr>\n",
              "        <tr>\n",
              "            <td>2008</td> <td>The Dark Knight                     </td> <td>Super Hero     </td> <td>Live Action          </td> <td>Based on Comic/Graphic Novel</td> <td>Action   </td> <td>PG-13      </td> <td>Warner Bros.    </td> <td>531001578         </td> <td>778753016            </td> <td>73955652    </td> <td>7.18                </td>\n",
              "        </tr>\n",
              "        <tr>\n",
              "            <td>2012</td> <td>The Avengers                        </td> <td>Super Hero     </td> <td>Animation/Live Action</td> <td>Based on Comic/Graphic Novel</td> <td>Action   </td> <td>PG-13      </td> <td>Walt Disney     </td> <td>623357910         </td> <td>824617936            </td> <td>78311295    </td> <td>7.96                </td>\n",
              "        </tr>\n",
              "        <tr>\n",
              "            <td>2015</td> <td>Star Wars Ep. VII: The Force Awakens</td> <td>Science Fiction</td> <td>Animation/Live Action</td> <td>Original Screenplay         </td> <td>Adventure</td> <td>PG-13      </td> <td>Walt Disney     </td> <td>742208942         </td> <td>927100845            </td> <td>88043765    </td> <td>8.43                </td>\n",
              "        </tr>\n",
              "        <tr>\n",
              "            <td>2017</td> <td>Star Wars Ep. VIII: The Last Jedi   </td> <td>Science Fiction</td> <td>Animation/Live Action</td> <td>Original Screenplay         </td> <td>Adventure</td> <td>PG-13      </td> <td>Walt Disney     </td> <td>517218368         </td> <td>607169382            </td> <td>57660910    </td> <td>8.97                </td>\n",
              "        </tr>\n",
              "    </tbody>\n",
              "</table>"
            ],
            "text/plain": [
              "Year | Movie                                | Categorization  | Creative Type         | Production Method            | Genre     | MPAA Rating | Distributor      | Total for Year ($) | Total in 2022 dollars | Tickets Sold | Average Ticket Price\n",
              "1999 | Star Wars Ep. I: The Phantom Menace  | Science Fiction | Animation/Live Action | Original Screenplay          | Adventure | PG          | 20th Century Fox | 430443350          | 892237879             | 84732942     | 5.08\n",
              "2008 | The Dark Knight                      | Super Hero      | Live Action           | Based on Comic/Graphic Novel | Action    | PG-13       | Warner Bros.     | 531001578          | 778753016             | 73955652     | 7.18\n",
              "2012 | The Avengers                         | Super Hero      | Animation/Live Action | Based on Comic/Graphic Novel | Action    | PG-13       | Walt Disney      | 623357910          | 824617936             | 78311295     | 7.96\n",
              "2015 | Star Wars Ep. VII: The Force Awakens | Science Fiction | Animation/Live Action | Original Screenplay          | Adventure | PG-13       | Walt Disney      | 742208942          | 927100845             | 88043765     | 8.43\n",
              "2017 | Star Wars Ep. VIII: The Last Jedi    | Science Fiction | Animation/Live Action | Original Screenplay          | Adventure | PG-13       | Walt Disney      | 517218368          | 607169382             | 57660910     | 8.97"
            ]
          },
          "execution_count": 64,
          "metadata": {},
          "output_type": "execute_result"
        }
      ],
      "source": [
        "movies.where('Movie', are.containing('The'))"
      ]
    },
    {
      "cell_type": "code",
      "execution_count": null,
      "id": "a6b5a89c-ced8-497c-a006-b0371b65f4bb",
      "metadata": {
        "tags": [],
        "id": "a6b5a89c-ced8-497c-a006-b0371b65f4bb",
        "outputId": "1d8cde5a-b225-489a-fecf-69b1dc74029f"
      },
      "outputs": [
        {
          "data": {
            "text/html": [
              "<table border=\"1\" class=\"dataframe\">\n",
              "    <thead>\n",
              "        <tr>\n",
              "            <th>Year</th> <th>Movie</th> <th>Categorization</th> <th>Creative Type</th> <th>Production Method</th> <th>Genre</th> <th>MPAA Rating</th> <th>Distributor</th> <th>Total for Year ($)</th> <th>Total in 2022 dollars</th> <th>Tickets Sold</th>\n",
              "        </tr>\n",
              "    </thead>\n",
              "    <tbody>\n",
              "        <tr>\n",
              "            <td>1998</td> <td>Titanic                             </td> <td>Historical Fiction</td> <td>Live Action          </td> <td>Original Screenplay         </td> <td>Drama    </td> <td>PG-13      </td> <td>Paramount Pictures</td> <td>488192879         </td> <td>1096091898           </td> <td>104092298   </td>\n",
              "        </tr>\n",
              "        <tr>\n",
              "            <td>2019</td> <td>Avengers: Endgame                   </td> <td>Super Hero        </td> <td>Animation/Live Action</td> <td>Based on Comic/Graphic Novel</td> <td>Action   </td> <td>PG-13      </td> <td>Walt Disney       </td> <td>858373000         </td> <td>986754117            </td> <td>93708843    </td>\n",
              "        </tr>\n",
              "        <tr>\n",
              "            <td>2015</td> <td>Star Wars Ep. VII: The Force Awakens</td> <td>Science Fiction   </td> <td>Animation/Live Action</td> <td>Original Screenplay         </td> <td>Adventure</td> <td>PG-13      </td> <td>Walt Disney       </td> <td>742208942         </td> <td>927100845            </td> <td>88043765    </td>\n",
              "        </tr>\n",
              "        <tr>\n",
              "            <td>1999</td> <td>Star Wars Ep. I: The Phantom Menace </td> <td>Science Fiction   </td> <td>Animation/Live Action</td> <td>Original Screenplay         </td> <td>Adventure</td> <td>PG         </td> <td>20th Century Fox  </td> <td>430443350         </td> <td>892237879            </td> <td>84732942    </td>\n",
              "        </tr>\n",
              "        <tr>\n",
              "            <td>2012</td> <td>The Avengers                        </td> <td>Super Hero        </td> <td>Animation/Live Action</td> <td>Based on Comic/Graphic Novel</td> <td>Action   </td> <td>PG-13      </td> <td>Walt Disney       </td> <td>623357910         </td> <td>824617936            </td> <td>78311295    </td>\n",
              "        </tr>\n",
              "    </tbody>\n",
              "</table>"
            ],
            "text/plain": [
              "Year | Movie                                | Categorization     | Creative Type         | Production Method            | Genre     | MPAA Rating | Distributor        | Total for Year ($) | Total in 2022 dollars | Tickets Sold\n",
              "1998 | Titanic                              | Historical Fiction | Live Action           | Original Screenplay          | Drama     | PG-13       | Paramount Pictures | 488192879          | 1096091898            | 104092298\n",
              "2019 | Avengers: Endgame                    | Super Hero         | Animation/Live Action | Based on Comic/Graphic Novel | Action    | PG-13       | Walt Disney        | 858373000          | 986754117             | 93708843\n",
              "2015 | Star Wars Ep. VII: The Force Awakens | Science Fiction    | Animation/Live Action | Original Screenplay          | Adventure | PG-13       | Walt Disney        | 742208942          | 927100845             | 88043765\n",
              "1999 | Star Wars Ep. I: The Phantom Menace  | Science Fiction    | Animation/Live Action | Original Screenplay          | Adventure | PG          | 20th Century Fox   | 430443350          | 892237879             | 84732942\n",
              "2012 | The Avengers                         | Super Hero         | Animation/Live Action | Based on Comic/Graphic Novel | Action    | PG-13       | Walt Disney        | 623357910          | 824617936             | 78311295"
            ]
          },
          "execution_count": 66,
          "metadata": {},
          "output_type": "execute_result"
        }
      ],
      "source": [
        "sorted_movies = movies.sort('Total in 2022 dollars',True)# True -> descending=True\n",
        "top_5_movies = sorted_movies.take(np.arange(5))\n",
        "top_5_movies"
      ]
    },
    {
      "cell_type": "markdown",
      "id": "ec8ba787-4bb0-442b-8fed-5457c899ba7e",
      "metadata": {
        "id": "ec8ba787-4bb0-442b-8fed-5457c899ba7e"
      },
      "source": [
        "---"
      ]
    },
    {
      "cell_type": "code",
      "execution_count": null,
      "id": "23bb4ad4-bb8f-4dca-b6e4-ccd37c35f037",
      "metadata": {
        "id": "23bb4ad4-bb8f-4dca-b6e4-ccd37c35f037",
        "outputId": "5c626df4-455c-4fda-fecb-c6c9d6a01112"
      },
      "outputs": [
        {
          "data": {
            "text/html": [
              "<table border=\"1\" class=\"dataframe\">\n",
              "    <thead>\n",
              "        <tr>\n",
              "            <th>Year</th> <th>Movie</th> <th>Categorization</th> <th>Creative Type</th> <th>Production Method</th> <th>Genre</th> <th>MPAA Rating</th> <th>Distributor</th> <th>Total for Year ($)</th> <th>Total in 2022 dollars</th> <th>Tickets Sold</th> <th>Average Ticket Price</th>\n",
              "        </tr>\n",
              "    </thead>\n",
              "    <tbody>\n",
              "        <tr>\n",
              "            <td>2024</td> <td>Wonka                  </td> <td>Kids Fiction        </td> <td>Live Action          </td> <td>Based on Fiction Book/Short Story</td> <td>Musical</td> <td>PG         </td> <td>Warner Bros.      </td> <td>68138426          </td> <td>68138426             </td> <td>6470885     </td> <td>10.53               </td>\n",
              "        </tr>\n",
              "        <tr>\n",
              "            <td>2022</td> <td>Top Gun: Maverick      </td> <td>Contemporary Fiction</td> <td>Live Action          </td> <td>Original Screenplay              </td> <td>Action </td> <td>PG-13      </td> <td>Paramount Pictures</td> <td>718732821         </td> <td>718732816            </td> <td>68255728    </td> <td>10.53               </td>\n",
              "        </tr>\n",
              "        <tr>\n",
              "            <td>2023</td> <td>Barbie                 </td> <td>Contemporary Fiction</td> <td>Live Action          </td> <td>Based on Toy                     </td> <td>Comedy </td> <td>PG-13      </td> <td>Warner Bros.      </td> <td>636225983         </td> <td>636225980            </td> <td>60420321    </td> <td>10.53               </td>\n",
              "        </tr>\n",
              "        <tr>\n",
              "            <td>2021</td> <td>Spider-Man: No Way Home</td> <td>Super Hero          </td> <td>Animation/Live Action</td> <td>Based on Comic/Graphic Novel     </td> <td>Action </td> <td>PG-13      </td> <td>Sony Pictures     </td> <td>572984769         </td> <td>580147075            </td> <td>55094689    </td> <td>10.4                </td>\n",
              "        </tr>\n",
              "        <tr>\n",
              "            <td>2020</td> <td>Bad Boys For Life      </td> <td>Contemporary Fiction</td> <td>Live Action          </td> <td>Original Screenplay              </td> <td>Action </td> <td>R          </td> <td>Sony Pictures     </td> <td>204417855         </td> <td>228748139            </td> <td>21723470    </td> <td>9.41                </td>\n",
              "        </tr>\n",
              "    </tbody>\n",
              "</table>\n",
              "<p>... (25 rows omitted)</p>"
            ],
            "text/plain": [
              "<IPython.core.display.HTML object>"
            ]
          },
          "metadata": {},
          "output_type": "display_data"
        }
      ],
      "source": [
        "movies.sort('Average Ticket Price', descending=True).show(5)"
      ]
    },
    {
      "cell_type": "markdown",
      "id": "ae8c3939-3e8c-4e3e-8fa9-f8f90f03dffb",
      "metadata": {
        "editable": true,
        "tags": [],
        "id": "ae8c3939-3e8c-4e3e-8fa9-f8f90f03dffb"
      },
      "source": [
        "## Attribution"
      ]
    },
    {
      "cell_type": "markdown",
      "id": "d3a463fb-dc67-433d-a21d-466bfec1a2b8",
      "metadata": {
        "id": "d3a463fb-dc67-433d-a21d-466bfec1a2b8"
      },
      "source": [
        "This content is licensed under the <a href=\"https://creativecommons.org/licenses/by-nc-sa/4.0/\">Creative Commons Attribution-NonCommercial-ShareAlike 4.0 International License (CC BY-NC-SA 4.0)</a> and derived from the <a href=\"https://www.data8.org/\">Data 8: The Foundations of Data Science</a> offered by the University of California, Berkeley.\n",
        "\n",
        "<img src=\"./by-nc-sa.png\" width=100px>"
      ]
    }
  ],
  "metadata": {
    "kernelspec": {
      "display_name": "Python 3 (ipykernel)",
      "language": "python",
      "name": "python3"
    },
    "language_info": {
      "codemirror_mode": {
        "name": "ipython",
        "version": 3
      },
      "file_extension": ".py",
      "mimetype": "text/x-python",
      "name": "python",
      "nbconvert_exporter": "python",
      "pygments_lexer": "ipython3",
      "version": "3.11.9"
    },
    "otter": {
      "OK_FORMAT": true,
      "tests": {}
    },
    "colab": {
      "provenance": [],
      "include_colab_link": true
    }
  },
  "nbformat": 4,
  "nbformat_minor": 5
}