{
  "cells": [
    {
      "cell_type": "markdown",
      "metadata": {
        "id": "view-in-github",
        "colab_type": "text"
      },
      "source": [
        "<a href=\"https://colab.research.google.com/github/veyselberk88/Data-Science-Tools-and-Ecosystem/blob/main/lec30.ipynb\" target=\"_parent\"><img src=\"https://colab.research.google.com/assets/colab-badge.svg\" alt=\"Open In Colab\"/></a>"
      ]
    },
    {
      "cell_type": "markdown",
      "id": "e0fbeb97-30d6-42b7-b027-4f5d028c3210",
      "metadata": {
        "id": "e0fbeb97-30d6-42b7-b027-4f5d028c3210"
      },
      "source": [
        "<img src=\"./ccsf.png\" alt=\"CCSF Logo\" width=200px style=\"margin:0px -5px\">"
      ]
    },
    {
      "cell_type": "markdown",
      "id": "81dce242-9642-4006-a2fe-de9292c16e1c",
      "metadata": {
        "id": "81dce242-9642-4006-a2fe-de9292c16e1c"
      },
      "source": [
        "# Lecture 30: Sample Size"
      ]
    },
    {
      "cell_type": "markdown",
      "id": "2ace5fed-23c5-4eaa-9474-9c6afe84686f",
      "metadata": {
        "id": "2ace5fed-23c5-4eaa-9474-9c6afe84686f"
      },
      "source": [
        "Associated Textbook Sections: [14.6](https://ccsf-math-108.github.io/textbook/chapters/14/6/Choosing_a_Sample_Size.html)"
      ]
    },
    {
      "cell_type": "markdown",
      "id": "e0cbd810-1b8c-4bd5-a2ed-177024653370",
      "metadata": {
        "id": "e0cbd810-1b8c-4bd5-a2ed-177024653370"
      },
      "source": [
        "---"
      ]
    },
    {
      "cell_type": "markdown",
      "id": "2ee0ad0c-fcf1-44bb-b365-43fb651efb05",
      "metadata": {
        "id": "2ee0ad0c-fcf1-44bb-b365-43fb651efb05"
      },
      "source": [
        "## Outline"
      ]
    },
    {
      "cell_type": "markdown",
      "id": "32a6b827-3bca-4dbf-9a25-a428a154d675",
      "metadata": {
        "id": "32a6b827-3bca-4dbf-9a25-a428a154d675"
      },
      "source": [
        "* [Confidence Intervals](#Confidence-Intervals)\n",
        "* [Sample Proportions](#Sample-Proportions)"
      ]
    },
    {
      "cell_type": "markdown",
      "id": "4bbb09c0-6ef0-4dda-84b2-e490cd2c7a73",
      "metadata": {
        "id": "4bbb09c0-6ef0-4dda-84b2-e490cd2c7a73"
      },
      "source": [
        "---"
      ]
    },
    {
      "cell_type": "markdown",
      "id": "87d89032-99d0-4fb4-af0f-0a807872cdd4",
      "metadata": {
        "id": "87d89032-99d0-4fb4-af0f-0a807872cdd4"
      },
      "source": [
        "## Set Up the Notebook"
      ]
    },
    {
      "cell_type": "code",
      "execution_count": null,
      "id": "c3cd9d5b-9aed-4dbf-8030-ba2d7f80caf1",
      "metadata": {
        "id": "c3cd9d5b-9aed-4dbf-8030-ba2d7f80caf1"
      },
      "outputs": [],
      "source": [
        "from datascience import *\n",
        "import numpy as np\n",
        "%matplotlib inline\n",
        "import matplotlib.pyplot as plt\n",
        "plt.style.use('fivethirtyeight')"
      ]
    },
    {
      "cell_type": "markdown",
      "id": "76e8efde-7601-4aa7-a6f4-cd2411e73c6c",
      "metadata": {
        "id": "76e8efde-7601-4aa7-a6f4-cd2411e73c6c"
      },
      "source": [
        "---"
      ]
    },
    {
      "cell_type": "markdown",
      "id": "cace4c63-661b-447e-bace-1f42b859036f",
      "metadata": {
        "id": "cace4c63-661b-447e-bace-1f42b859036f"
      },
      "source": [
        "## Confidence Intervals"
      ]
    },
    {
      "cell_type": "markdown",
      "id": "ff3336d9-2b77-4b50-a1f1-5af1491d0852",
      "metadata": {
        "id": "ff3336d9-2b77-4b50-a1f1-5af1491d0852"
      },
      "source": [
        "---"
      ]
    },
    {
      "cell_type": "markdown",
      "id": "11645980-a0f6-419e-81b1-23828a33c119",
      "metadata": {
        "id": "11645980-a0f6-419e-81b1-23828a33c119"
      },
      "source": [
        "### Graph of the Distribution"
      ]
    },
    {
      "cell_type": "markdown",
      "id": "d15ef218-a7df-4131-9bb4-dee39161e0d9",
      "metadata": {
        "id": "d15ef218-a7df-4131-9bb4-dee39161e0d9"
      },
      "source": [
        "<img src=\"./approx_dist_sample_ave.png\" width=50%>"
      ]
    },
    {
      "cell_type": "markdown",
      "id": "09da1a0a-2a5a-448a-9e6a-c74f18e5f132",
      "metadata": {
        "id": "09da1a0a-2a5a-448a-9e6a-c74f18e5f132"
      },
      "source": [
        "---"
      ]
    },
    {
      "cell_type": "markdown",
      "id": "05b0c095-1fe4-4463-940e-15007f39dde7",
      "metadata": {
        "id": "05b0c095-1fe4-4463-940e-15007f39dde7"
      },
      "source": [
        "### The Key to 95% Confidence"
      ]
    },
    {
      "cell_type": "markdown",
      "id": "ce898302-3651-4fb6-9f5e-9cd3b5893bce",
      "metadata": {
        "id": "ce898302-3651-4fb6-9f5e-9cd3b5893bce"
      },
      "source": [
        "<img src=\"./95_confidence.png\" width=80%>\n",
        "\n",
        "* For about 95% of all samples, the sample average and population average are within 2 SDs of each other.\n",
        "* SD = SD of sample average = $(\\text{population SD}) / \\sqrt{\\text{sample size}}$\n"
      ]
    },
    {
      "cell_type": "markdown",
      "id": "1c9bc48a-70c7-403e-9418-40e6f2d744fe",
      "metadata": {
        "id": "1c9bc48a-70c7-403e-9418-40e6f2d744fe"
      },
      "source": [
        "---"
      ]
    },
    {
      "cell_type": "markdown",
      "id": "864e9bb1-cebe-4f3e-af01-758f7d176739",
      "metadata": {
        "id": "864e9bb1-cebe-4f3e-af01-758f7d176739"
      },
      "source": [
        "### Constructing the Interval"
      ]
    },
    {
      "cell_type": "markdown",
      "id": "77ee8158-2f61-4836-9a54-267219b4b457",
      "metadata": {
        "id": "77ee8158-2f61-4836-9a54-267219b4b457"
      },
      "source": [
        "For about 95% of all samples,\n",
        "\n",
        "* If you stand at the population average and look two SDs on both sides, you will find the sample average.\n",
        "* Distance is symmetric.\n",
        "* So if you stand at the sample average and look two SDs on both sides, you will capture the population average.\n"
      ]
    },
    {
      "cell_type": "markdown",
      "id": "60d0654b-703c-4c47-88ea-9ec1531df81b",
      "metadata": {
        "id": "60d0654b-703c-4c47-88ea-9ec1531df81b"
      },
      "source": [
        "---"
      ]
    },
    {
      "cell_type": "markdown",
      "id": "ad823f8d-d745-43fa-8906-30e7835fc4db",
      "metadata": {
        "id": "ad823f8d-d745-43fa-8906-30e7835fc4db"
      },
      "source": [
        "### The Interval"
      ]
    },
    {
      "cell_type": "markdown",
      "id": "a4a8f68b-5def-4803-9212-a625081b57cc",
      "metadata": {
        "id": "a4a8f68b-5def-4803-9212-a625081b57cc"
      },
      "source": [
        "<img src=\"./the_interval_mean.png\" width=80%>"
      ]
    },
    {
      "cell_type": "markdown",
      "id": "a409da7d-a450-49d4-b5e9-7638faa35aa0",
      "metadata": {
        "id": "a409da7d-a450-49d4-b5e9-7638faa35aa0"
      },
      "source": [
        "---"
      ]
    },
    {
      "cell_type": "markdown",
      "id": "6ad4da3a-a60e-4e8d-9c8a-ad4c1fa00d85",
      "metadata": {
        "id": "6ad4da3a-a60e-4e8d-9c8a-ad4c1fa00d85"
      },
      "source": [
        "### Width of the Interval"
      ]
    },
    {
      "cell_type": "markdown",
      "id": "cf8edfd4-23d6-4bef-af12-eb3231c32263",
      "metadata": {
        "id": "cf8edfd4-23d6-4bef-af12-eb3231c32263"
      },
      "source": [
        "Total width of a 95% confidence interval for the population average\n",
        "\n",
        "* $=  4 * \\text{SD of the sample average}$\n",
        "* $=  4 * (\\text{population SD}) / \\sqrt{\\text{sample size}}$\n",
        "* The $\\text{population SD}$ is unknown in practice...\n"
      ]
    },
    {
      "cell_type": "markdown",
      "id": "710fc37c-78db-49ae-a3e8-0b75f7e3c8c0",
      "metadata": {
        "id": "710fc37c-78db-49ae-a3e8-0b75f7e3c8c0"
      },
      "source": [
        "---"
      ]
    },
    {
      "cell_type": "markdown",
      "id": "d6ccf8a5-db3b-4184-9514-0ff1bb6fcbf0",
      "metadata": {
        "id": "d6ccf8a5-db3b-4184-9514-0ff1bb6fcbf0"
      },
      "source": [
        "## Sample Proportions"
      ]
    },
    {
      "cell_type": "markdown",
      "id": "35b86d59-95e4-4d7b-8328-1ef278bbc78b",
      "metadata": {
        "id": "35b86d59-95e4-4d7b-8328-1ef278bbc78b"
      },
      "source": [
        "---"
      ]
    },
    {
      "cell_type": "markdown",
      "id": "90ec71c2-8014-4993-8462-324f0cddd604",
      "metadata": {
        "id": "90ec71c2-8014-4993-8462-324f0cddd604"
      },
      "source": [
        "### Proportions are Averages"
      ]
    },
    {
      "cell_type": "markdown",
      "id": "51590d76-f0f6-4093-a983-ff84852093de",
      "metadata": {
        "id": "51590d76-f0f6-4093-a983-ff84852093de"
      },
      "source": [
        "* Data: 1 1 1 1 0 0 0 0 0 0 (10 entries)\n",
        "    * Sum  =  4  (number of 1's)\n",
        "    * Average  =  4/10  =  0.4 (proportion of 1's)\n",
        "* If the population consists of 1's and 0's (yes/no answers to a question), then:\n",
        "    * the population average is the proportion of 1's in the population\n",
        "    * the sample average is the proportion of 1's in the sample\n"
      ]
    },
    {
      "cell_type": "code",
      "execution_count": null,
      "id": "a333df48-febc-45f6-bd6a-eb4acec696ff",
      "metadata": {
        "id": "a333df48-febc-45f6-bd6a-eb4acec696ff",
        "outputId": "cf89b5b8-ece5-4bf7-c218-fd348f8b7620"
      },
      "outputs": [
        {
          "data": {
            "text/plain": [
              "array([ 1.,  1.,  1.,  1.,  0.,  0.,  0.,  0.,  0.,  0.])"
            ]
          },
          "execution_count": 2,
          "metadata": {},
          "output_type": "execute_result"
        }
      ],
      "source": [
        "number_of_ones = 4\n",
        "zero_one_population = np.append(np.ones(number_of_ones),\n",
        "                                np.zeros(10 - number_of_ones))\n",
        "zero_one_population"
      ]
    },
    {
      "cell_type": "code",
      "execution_count": null,
      "id": "cb0d3ff6-7edb-4957-8639-aa31aad38f25",
      "metadata": {
        "id": "cb0d3ff6-7edb-4957-8639-aa31aad38f25",
        "outputId": "6279c4bb-ef2d-4f7f-e720-0c9de1b18054"
      },
      "outputs": [
        {
          "data": {
            "text/plain": [
              "0.40000000000000002"
            ]
          },
          "execution_count": 3,
          "metadata": {},
          "output_type": "execute_result"
        }
      ],
      "source": [
        "np.mean(zero_one_population)"
      ]
    },
    {
      "cell_type": "markdown",
      "id": "17cdacce-cbd8-480d-aea2-a769de9a4d3f",
      "metadata": {
        "id": "17cdacce-cbd8-480d-aea2-a769de9a4d3f"
      },
      "source": [
        "---"
      ]
    },
    {
      "cell_type": "markdown",
      "id": "f22f0cab-04f2-4867-8128-5b217ae2a71d",
      "metadata": {
        "id": "f22f0cab-04f2-4867-8128-5b217ae2a71d"
      },
      "source": [
        "### Confidence Interval"
      ]
    },
    {
      "cell_type": "markdown",
      "id": "7ae9dac5-d185-4948-889d-ce38f11b6187",
      "metadata": {
        "id": "7ae9dac5-d185-4948-889d-ce38f11b6187"
      },
      "source": [
        "<img src=\"./the_interval_prop.png\" width=80%>"
      ]
    },
    {
      "cell_type": "markdown",
      "id": "b1ff0779-8efa-45ae-a84d-f4b8a621e385",
      "metadata": {
        "id": "b1ff0779-8efa-45ae-a84d-f4b8a621e385"
      },
      "source": [
        "---"
      ]
    },
    {
      "cell_type": "markdown",
      "id": "5cbb04b8-25a1-44c1-9fcf-7389aa92a854",
      "metadata": {
        "id": "5cbb04b8-25a1-44c1-9fcf-7389aa92a854"
      },
      "source": [
        "### Controlling the Width"
      ]
    },
    {
      "cell_type": "markdown",
      "id": "4deb9e9c-b6dd-43a1-aa26-b0c6a3fd4d9c",
      "metadata": {
        "id": "4deb9e9c-b6dd-43a1-aa26-b0c6a3fd4d9c"
      },
      "source": [
        "* Total width of an approximate 95% confidence interval for a population proportion is equal to\n",
        "\n",
        "$$\\text{width of 95\\% confidence interval} = 4 * \\left(\\frac{\\text{SD of 0/1 population}}{\\sqrt{\\text{sample size}}}\\right)$$\n",
        "\n",
        "* The narrower the interval, the more precise your estimate.\n",
        "* Suppose you want the total width of the interval to be no more than 1%. How should you choose the sample size?\n"
      ]
    },
    {
      "cell_type": "markdown",
      "id": "71b409e8-e73f-4fc7-9cff-e84f387770ab",
      "metadata": {
        "id": "71b409e8-e73f-4fc7-9cff-e84f387770ab"
      },
      "source": [
        "---"
      ]
    },
    {
      "cell_type": "markdown",
      "id": "94a6c7bb-e12f-4f86-bd48-69ab5e7b3ba7",
      "metadata": {
        "id": "94a6c7bb-e12f-4f86-bd48-69ab5e7b3ba7"
      },
      "source": [
        "### The Sample Size for a Given Width"
      ]
    },
    {
      "cell_type": "markdown",
      "id": "549dc0f8-05a2-475d-ac58-070e299c2c5c",
      "metadata": {
        "id": "549dc0f8-05a2-475d-ac58-070e299c2c5c"
      },
      "source": [
        "* From Formula: $0.01  =  4 * \\left(\\frac{\\text{SD of 0/1 population}}{\\sqrt{\\text{sample size}}}\\right)$\n",
        "    * Left side: 1%, the max total width that you'll accept\n",
        "    * Right side: formula for the total width\n",
        "* Re-arrange: $\\sqrt{\\text{sample size}} =  4 * \\left(\\frac{\\text{SD of 0/1 population}}{0.01}\\right)$\n",
        "* Result: $\\text{sample size} = \\left(4 * \\left(\\frac{\\text{SD of 0/1 population}}{0.01}\\right)\\right)^2$"
      ]
    },
    {
      "cell_type": "markdown",
      "id": "0baad6e5-5fc6-4cc9-946e-604951617c61",
      "metadata": {
        "id": "0baad6e5-5fc6-4cc9-946e-604951617c61"
      },
      "source": [
        "---"
      ]
    },
    {
      "cell_type": "markdown",
      "id": "6351160a-233c-4f09-bf40-25f8326f61cf",
      "metadata": {
        "id": "6351160a-233c-4f09-bf40-25f8326f61cf"
      },
      "source": [
        "### Demo: SD of 0/1 Population"
      ]
    },
    {
      "cell_type": "markdown",
      "id": "86d4496c-0890-4416-b569-a973fdc8c47e",
      "metadata": {
        "deletable": false,
        "editable": false,
        "id": "86d4496c-0890-4416-b569-a973fdc8c47e"
      },
      "source": [
        "* Calculate the SD of the 0/1 population\n",
        "* Make a graph with proportion of ones on the x axis and SD on the y axis."
      ]
    },
    {
      "cell_type": "code",
      "execution_count": null,
      "id": "0dad98a0-636a-499a-acc9-e4085e713ba4",
      "metadata": {
        "tags": [],
        "id": "0dad98a0-636a-499a-acc9-e4085e713ba4",
        "outputId": "7eca5f8a-b408-4786-93c1-ebc663681193"
      },
      "outputs": [
        {
          "data": {
            "text/plain": [
              "array([ 1.,  1.,  1.,  1.,  0.,  0.,  0.,  0.,  0.,  0.])"
            ]
          },
          "execution_count": 4,
          "metadata": {},
          "output_type": "execute_result"
        }
      ],
      "source": [
        "zero_one_population"
      ]
    },
    {
      "cell_type": "code",
      "execution_count": null,
      "id": "1cf8e6d8-4d25-4478-9698-0db887693f1e",
      "metadata": {
        "tags": [],
        "id": "1cf8e6d8-4d25-4478-9698-0db887693f1e",
        "outputId": "b58cee0d-98da-4d5f-9951-c5403a7c0660"
      },
      "outputs": [
        {
          "data": {
            "text/plain": [
              "0.48989794855663565"
            ]
          },
          "execution_count": 5,
          "metadata": {},
          "output_type": "execute_result"
        }
      ],
      "source": [
        "np.std(zero_one_population)"
      ]
    },
    {
      "cell_type": "code",
      "execution_count": null,
      "id": "cc336b14-aeb8-404d-8c5a-69b7f7c092bb",
      "metadata": {
        "tags": [],
        "id": "cc336b14-aeb8-404d-8c5a-69b7f7c092bb"
      },
      "outputs": [],
      "source": [
        "def sd_of_zero_one_population(number_of_ones):\n",
        "    \"\"\"\n",
        "    SD of a population with num_ones ones\n",
        "    and (10 - num_ones) zeros\n",
        "    \"\"\"\n",
        "    zero_one_population = np.append(np.ones(number_of_ones),\n",
        "                                    np.zeros(10 - number_of_ones))\n",
        "    return np.std(zero_one_population)"
      ]
    },
    {
      "cell_type": "code",
      "execution_count": null,
      "id": "407f1c39-4d08-432a-91d3-3a4f3127f358",
      "metadata": {
        "tags": [],
        "id": "407f1c39-4d08-432a-91d3-3a4f3127f358"
      },
      "outputs": [],
      "source": [
        "possible_oness = np.arange(11)\n",
        "zero_one_pop = Table().with_columns(\n",
        "    'Number of ones', possible_oness,\n",
        "    'Proportion of ones', possible_oness / 10\n",
        ")"
      ]
    },
    {
      "cell_type": "code",
      "execution_count": null,
      "id": "d3599533-ebd1-4896-8464-96e05f5fb874",
      "metadata": {
        "tags": [],
        "id": "d3599533-ebd1-4896-8464-96e05f5fb874"
      },
      "outputs": [],
      "source": [
        "sds = zero_one_pop.apply(sd_of_zero_one_population, 'Number of ones')\n",
        "zero_one_pop = zero_one_pop.with_column('SD', sds)"
      ]
    },
    {
      "cell_type": "code",
      "execution_count": null,
      "id": "6b88bdce-529f-49a6-ac9a-46b6c59ca276",
      "metadata": {
        "tags": [],
        "id": "6b88bdce-529f-49a6-ac9a-46b6c59ca276",
        "outputId": "f3adf0da-00b5-4f45-9e70-fb98734b15ee"
      },
      "outputs": [
        {
          "data": {
            "image/png": "[encoded data removed]",
            "text/plain": [
              "<Figure size 500x500 with 1 Axes>"
            ]
          },
          "metadata": {},
          "output_type": "display_data"
        }
      ],
      "source": [
        "zero_one_pop.scatter('Proportion of ones', 'SD')"
      ]
    },
    {
      "cell_type": "markdown",
      "id": "9433d70d-7827-4220-8ea0-e0c9ec7129b9",
      "metadata": {
        "id": "9433d70d-7827-4220-8ea0-e0c9ec7129b9"
      },
      "source": [
        "---"
      ]
    },
    {
      "cell_type": "markdown",
      "id": "e6f0269e-786d-44c7-a92a-a81c0b64bb5b",
      "metadata": {
        "id": "e6f0269e-786d-44c7-a92a-a81c0b64bb5b"
      },
      "source": [
        "### \"Worst Case\" Population SD"
      ]
    },
    {
      "cell_type": "markdown",
      "id": "507aac36-ecf8-44eb-9086-5ff22d1a8c3f",
      "metadata": {
        "id": "507aac36-ecf8-44eb-9086-5ff22d1a8c3f"
      },
      "source": [
        "* $\\sqrt{\\text{sample size}} =  4 * \\left(\\frac{\\text{SD of 0/1 population})}{0.01}\\right)$\n",
        "* SD of 0/1 population **is at** most 0.5\n",
        "* $\\text{sample size} \\geq  \\left(4 * \\left(\\frac{0.5}{0.01}\\right)\\right)^ 2   =   40000$\n",
        "* The sample size should be 40,000 or more\n"
      ]
    },
    {
      "cell_type": "markdown",
      "id": "cb41c2cd-7f47-4c62-970c-cd5438988d08",
      "metadata": {
        "id": "cb41c2cd-7f47-4c62-970c-cd5438988d08"
      },
      "source": [
        "---"
      ]
    },
    {
      "cell_type": "markdown",
      "id": "eca2bb85-d777-4ee1-9f10-c6d547478777",
      "metadata": {
        "id": "eca2bb85-d777-4ee1-9f10-c6d547478777"
      },
      "source": [
        "### Demo: CI Width"
      ]
    },
    {
      "cell_type": "markdown",
      "id": "d13670d9-ffe1-46a1-9c3b-1df139e29539",
      "metadata": {
        "deletable": false,
        "editable": false,
        "id": "d13670d9-ffe1-46a1-9c3b-1df139e29539"
      },
      "source": [
        "<img src=\"./poll_scientific_american.png\" alt=\"Scientific American article with the headline reading: How can a poll of only 1,004 Americans represent 260 million people with only a 3 percent margin of error?\" width=40%>\n",
        "\n",
        "* A researcher is estimating a population proportion based on a random sample of size 1,004.\n",
        "* With chance at least 95%, the estimate will be correct to within 3%.\n",
        "* A 3% margin of error translates to an interval width of 6%."
      ]
    },
    {
      "cell_type": "code",
      "execution_count": null,
      "id": "521e990b-46ec-4785-86e8-8713c8c16a6a",
      "metadata": {
        "tags": [],
        "id": "521e990b-46ec-4785-86e8-8713c8c16a6a",
        "outputId": "a1be5c69-cfe1-44ce-8bf3-220d1f99aff9"
      },
      "outputs": [
        {
          "data": {
            "text/plain": [
              "0.063119440309780311"
            ]
          },
          "execution_count": 10,
          "metadata": {},
          "output_type": "execute_result"
        }
      ],
      "source": [
        "CI_width = 4 * 0.5 / np.sqrt(1004)\n",
        "CI_width"
      ]
    },
    {
      "cell_type": "markdown",
      "id": "409585d4-7400-4754-8188-516a58e091d2",
      "metadata": {
        "id": "409585d4-7400-4754-8188-516a58e091d2"
      },
      "source": [
        "---"
      ]
    },
    {
      "cell_type": "markdown",
      "id": "b364b440-c6cb-4a57-81a3-0e6e3ba04a15",
      "metadata": {
        "tags": [],
        "id": "b364b440-c6cb-4a57-81a3-0e6e3ba04a15"
      },
      "source": [
        "### Demo: Margin of Error"
      ]
    },
    {
      "cell_type": "markdown",
      "id": "8a8cb8dd-22f2-476f-bec1-1c6e829ca972",
      "metadata": {
        "deletable": false,
        "editable": false,
        "id": "8a8cb8dd-22f2-476f-bec1-1c6e829ca972"
      },
      "source": [
        "* A researcher is estimating a population proportion based on a random sample of size 10,000.\n",
        "* With a confidence level of 95%, the estimate will be correct to within how many percentage points?"
      ]
    },
    {
      "cell_type": "code",
      "execution_count": null,
      "id": "1bfb85cd-239e-4fd7-8b1f-085cdb7b2593",
      "metadata": {
        "tags": [],
        "id": "1bfb85cd-239e-4fd7-8b1f-085cdb7b2593",
        "outputId": "dd6c4ba7-43fa-48d2-c736-6891f2e566ec"
      },
      "outputs": [
        {
          "data": {
            "text/plain": [
              "1.0"
            ]
          },
          "execution_count": 11,
          "metadata": {},
          "output_type": "execute_result"
        }
      ],
      "source": [
        "width = 4 * 0.5 / np.sqrt(10000)\n",
        "margin_of_error = width / 2\n",
        "margin_of_error_percent = margin_of_error * 100\n",
        "margin_of_error_percent"
      ]
    },
    {
      "cell_type": "markdown",
      "id": "963f5674-f505-4aa8-8011-3761913e4899",
      "metadata": {
        "id": "963f5674-f505-4aa8-8011-3761913e4899"
      },
      "source": [
        "---"
      ]
    },
    {
      "cell_type": "markdown",
      "id": "b6fc879d-ffe9-4d44-99df-d8f4a2c113c8",
      "metadata": {
        "id": "b6fc879d-ffe9-4d44-99df-d8f4a2c113c8"
      },
      "source": [
        "### Demo: Sample Size"
      ]
    },
    {
      "cell_type": "markdown",
      "id": "34c56bbb-6e4a-4395-939a-85046fb91cfd",
      "metadata": {
        "deletable": false,
        "editable": false,
        "id": "34c56bbb-6e4a-4395-939a-85046fb91cfd"
      },
      "source": [
        "* I am going to use a 68% confidence interval to estimate a population proportion.\n",
        "* I want the total width of my interval to be no more than 2.5\\%.\n",
        "* How large must my random sample be?\n",
        "* $2 \\cdot \\left(\\frac{0.5}{\\sqrt{\\text{sample\\_size}}}\\right) = 0.025$\n",
        "* In other words: $\\text{sample\\_size} = \\left(2 * \\left(\\frac{0.5}{0.025}\\right)\\right)^2$\n"
      ]
    },
    {
      "cell_type": "code",
      "execution_count": null,
      "id": "102cf1d0-1c8b-45f7-a24c-c5650b1fe558",
      "metadata": {
        "tags": [],
        "id": "102cf1d0-1c8b-45f7-a24c-c5650b1fe558",
        "outputId": "1f30f95d-3692-4bf7-d392-c0f13e9f3318"
      },
      "outputs": [
        {
          "data": {
            "text/plain": [
              "1600.0"
            ]
          },
          "execution_count": 12,
          "metadata": {},
          "output_type": "execute_result"
        }
      ],
      "source": [
        "sample_size = (2 * 0.5 / 0.025) ** 2\n",
        "sample_size"
      ]
    },
    {
      "cell_type": "markdown",
      "id": "48e148e5-af65-419a-b252-b37ab0e0216f",
      "metadata": {
        "id": "48e148e5-af65-419a-b252-b37ab0e0216f"
      },
      "source": [
        "---"
      ]
    },
    {
      "cell_type": "markdown",
      "id": "47d5b73b-10de-4dc8-a617-713c4988c991",
      "metadata": {
        "editable": true,
        "tags": [],
        "id": "47d5b73b-10de-4dc8-a617-713c4988c991"
      },
      "source": [
        "## Attribution"
      ]
    },
    {
      "cell_type": "markdown",
      "id": "518f55fb-cce6-43ad-877a-80719cd51bbc",
      "metadata": {
        "id": "518f55fb-cce6-43ad-877a-80719cd51bbc"
      },
      "source": [
        "This content is licensed under the <a href=\"https://creativecommons.org/licenses/by-nc-sa/4.0/\">Creative Commons Attribution-NonCommercial-ShareAlike 4.0 International License (CC BY-NC-SA 4.0)</a> and derived from the <a href=\"https://www.data8.org/\">Data 8: The Foundations of Data Science</a> offered by the University of California, Berkeley.\n",
        "\n",
        "<img src=\"./by-nc-sa.png\" width=100px>"
      ]
    }
  ],
  "metadata": {
    "kernelspec": {
      "display_name": "Python 3 (ipykernel)",
      "language": "python",
      "name": "python3"
    },
    "language_info": {
      "codemirror_mode": {
        "name": "ipython",
        "version": 3
      },
      "file_extension": ".py",
      "mimetype": "text/x-python",
      "name": "python",
      "nbconvert_exporter": "python",
      "pygments_lexer": "ipython3",
      "version": "3.11.9"
    },
    "otter": {
      "OK_FORMAT": true,
      "tests": {}
    },
    "colab": {
      "provenance": [],
      "include_colab_link": true
    }
  },
  "nbformat": 4,
  "nbformat_minor": 5
}