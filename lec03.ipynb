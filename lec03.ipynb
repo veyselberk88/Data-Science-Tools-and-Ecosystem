{
  "cells": [
    {
      "cell_type": "markdown",
      "metadata": {
        "id": "view-in-github",
        "colab_type": "text"
      },
      "source": [
        "<a href=\"https://colab.research.google.com/github/veyselberk88/Data-Science-Tools-and-Ecosystem/blob/main/lec03.ipynb\" target=\"_parent\"><img src=\"https://colab.research.google.com/assets/colab-badge.svg\" alt=\"Open In Colab\"/></a>"
      ]
    },
    {
      "cell_type": "markdown",
      "id": "20f42f18-d18b-4dfe-8fe8-028df7fa84c2",
      "metadata": {
        "id": "20f42f18-d18b-4dfe-8fe8-028df7fa84c2"
      },
      "source": [
        "<img src=\"./ccsf.png\" alt=\"CCSF Logo\" width=200px style=\"margin:0px -5px\">"
      ]
    },
    {
      "cell_type": "markdown",
      "id": "de956178-2e76-4bc9-91a7-3e1a71790397",
      "metadata": {
        "editable": true,
        "tags": [],
        "id": "de956178-2e76-4bc9-91a7-3e1a71790397"
      },
      "source": [
        "# Lecture 03: Expressions"
      ]
    },
    {
      "cell_type": "markdown",
      "id": "e26ca419-9cef-4bfd-b62f-9d84be1ee189",
      "metadata": {
        "editable": true,
        "tags": [],
        "id": "e26ca419-9cef-4bfd-b62f-9d84be1ee189"
      },
      "source": [
        "Associated Textbook Sections: [3.0, 3.1, 3.2, 3.3](https://ccsf-math-108.github.io/textbook/chapters/03/programming-in-python.html)."
      ]
    },
    {
      "cell_type": "markdown",
      "id": "2ea8e5c4-2411-45ff-8029-2bf285f2a2bc",
      "metadata": {
        "editable": true,
        "tags": [],
        "id": "2ea8e5c4-2411-45ff-8029-2bf285f2a2bc"
      },
      "source": [
        "---"
      ]
    },
    {
      "cell_type": "markdown",
      "id": "02b75548-071f-4d16-9cb2-3186a3405735",
      "metadata": {
        "editable": true,
        "tags": [],
        "id": "02b75548-071f-4d16-9cb2-3186a3405735"
      },
      "source": [
        "## Overview\n",
        "\n",
        "* [Python](#Python)\n",
        "* [Jupyter Notebooks](#Jupyter-Notebooks)\n",
        "* [Expressions](#Expressions)\n",
        "* [Names](#Names)\n",
        "* [Function Calls](#Function-Calls)\n",
        "* [Errors and Exceptions](#Errors-and-Exceptions)"
      ]
    },
    {
      "cell_type": "markdown",
      "id": "8adc83d0-79e8-4e14-bf48-c6bcb18e23b1",
      "metadata": {
        "editable": true,
        "tags": [],
        "id": "8adc83d0-79e8-4e14-bf48-c6bcb18e23b1"
      },
      "source": [
        "---"
      ]
    },
    {
      "cell_type": "markdown",
      "id": "a61e44e7-1384-4fcb-95b9-5b8b304a8c60",
      "metadata": {
        "editable": true,
        "tags": [],
        "id": "a61e44e7-1384-4fcb-95b9-5b8b304a8c60"
      },
      "source": [
        "## Python"
      ]
    },
    {
      "cell_type": "markdown",
      "id": "8fb03e06-a615-4eb0-92a8-1da255a31be0",
      "metadata": {
        "editable": true,
        "tags": [],
        "id": "8fb03e06-a615-4eb0-92a8-1da255a31be0"
      },
      "source": [
        "---"
      ]
    },
    {
      "cell_type": "markdown",
      "id": "948f5d88-4c5c-436c-b472-cb08dfb54344",
      "metadata": {
        "editable": true,
        "tags": [],
        "id": "948f5d88-4c5c-436c-b472-cb08dfb54344"
      },
      "source": [
        "### Python 3.11"
      ]
    },
    {
      "cell_type": "markdown",
      "id": "11a2949b-ec58-4b53-a839-ef6d085ff20f",
      "metadata": {
        "editable": true,
        "tags": [],
        "id": "11a2949b-ec58-4b53-a839-ef6d085ff20f"
      },
      "source": [
        "* Python is popular both for data science & general software development\n",
        "* Mastering the language fundamentals is critical\n",
        "* Learn through practice, not by reading or listening\n",
        "* Follow along with the lecture notebook posted on the Canvas Lecture pages.\n",
        "    * The lecture templates notebooks show the code partially completed, and I'll complete those during the lecture.\n",
        "    * You can follow along with your own copy of the notebook to help the lectures feel more interactive and to get more practice with the language."
      ]
    },
    {
      "cell_type": "markdown",
      "id": "18c04752-3fb8-4b34-9bb9-ac3c5ee3a0ff",
      "metadata": {
        "editable": true,
        "tags": [],
        "id": "18c04752-3fb8-4b34-9bb9-ac3c5ee3a0ff"
      },
      "source": [
        "---"
      ]
    },
    {
      "cell_type": "markdown",
      "id": "d13f8b95-e8f3-4d00-84f9-0ddaf2a43439",
      "metadata": {
        "editable": true,
        "tags": [],
        "id": "d13f8b95-e8f3-4d00-84f9-0ddaf2a43439"
      },
      "source": [
        "#### Check Version"
      ]
    },
    {
      "cell_type": "markdown",
      "id": "c9907c3b-95cd-47be-8b48-cd3aa79d62b4",
      "metadata": {
        "editable": true,
        "tags": [],
        "id": "c9907c3b-95cd-47be-8b48-cd3aa79d62b4"
      },
      "source": [
        "See the version of Python installed on this system."
      ]
    },
    {
      "cell_type": "code",
      "execution_count": null,
      "id": "d6033b3e-9739-442f-bf15-2b9c7f0c87ac",
      "metadata": {
        "editable": true,
        "tags": [],
        "id": "d6033b3e-9739-442f-bf15-2b9c7f0c87ac",
        "outputId": "724d6c2c-5d0e-4370-9b79-4a9d68113e9f"
      },
      "outputs": [
        {
          "name": "stdout",
          "output_type": "stream",
          "text": [
            "Python 3.11.9\n"
          ]
        }
      ],
      "source": [
        "!python --version"
      ]
    },
    {
      "cell_type": "markdown",
      "id": "06d6cf9a-055d-4ad3-9134-d3ffa50a7739",
      "metadata": {
        "editable": true,
        "tags": [],
        "id": "06d6cf9a-055d-4ad3-9134-d3ffa50a7739"
      },
      "source": [
        "---"
      ]
    },
    {
      "cell_type": "markdown",
      "id": "3fff7754-34d5-4c53-8063-85b74e35d375",
      "metadata": {
        "editable": true,
        "tags": [],
        "id": "3fff7754-34d5-4c53-8063-85b74e35d375"
      },
      "source": [
        "## Jupyter Notebooks"
      ]
    },
    {
      "cell_type": "markdown",
      "id": "448bd969-b680-43e2-a161-88d65d9b9395",
      "metadata": {
        "editable": true,
        "tags": [],
        "id": "448bd969-b680-43e2-a161-88d65d9b9395"
      },
      "source": [
        "---"
      ]
    },
    {
      "cell_type": "markdown",
      "id": "3d723fa0-54b4-4753-8539-f9ebea838a92",
      "metadata": {
        "editable": true,
        "tags": [],
        "id": "3d723fa0-54b4-4753-8539-f9ebea838a92"
      },
      "source": [
        "### What are Notebooks?"
      ]
    },
    {
      "cell_type": "markdown",
      "id": "03cf0929-1dc1-427c-9680-0fbd721db6f0",
      "metadata": {
        "editable": true,
        "tags": [],
        "id": "03cf0929-1dc1-427c-9680-0fbd721db6f0"
      },
      "source": [
        "* [Jupyter Notebooks](https://jupyter-notebook.readthedocs.io/) are web applications\n",
        "* Some things you can do with notebooks:\n",
        "    * develop and run computer-interpreted code\n",
        "    * engage with and produce human-focused documentation\n",
        "    * support reproducible science\n",
        "    * and more!\n",
        "* In this class:\n",
        "    * Open notebooks from links provided in Canvas (default)\n",
        "    * The links are important because they update the notebooks if we make changes"
      ]
    },
    {
      "cell_type": "markdown",
      "id": "4fb36e1a-f582-4d48-8c9f-2cc99fa73a9b",
      "metadata": {
        "id": "4fb36e1a-f582-4d48-8c9f-2cc99fa73a9b"
      },
      "source": [
        "---"
      ]
    },
    {
      "cell_type": "markdown",
      "id": "96178451-39f8-45b8-a2f3-8e7bca6438be",
      "metadata": {
        "editable": true,
        "tags": [],
        "id": "96178451-39f8-45b8-a2f3-8e7bca6438be"
      },
      "source": [
        "### Jupyter Notebook Interface (Version 7)"
      ]
    },
    {
      "cell_type": "markdown",
      "id": "c8d29ee5-e184-47bf-a56f-64c8d1aeb75b",
      "metadata": {
        "editable": true,
        "tags": [],
        "id": "c8d29ee5-e184-47bf-a56f-64c8d1aeb75b"
      },
      "source": [
        "<a href=\"https://jupyter-notebook.readthedocs.io/en/stable/notebook.html#notebook-user-interface\" title=\"Jupyter Notebook documentation\"><img src=\"./notebook_interface.png\" alt=\"A screenshot of the Notebook interface\" width = 70%></a>"
      ]
    },
    {
      "cell_type": "markdown",
      "id": "23bf1f8d-edef-4848-a3c7-fdc5d90a654c",
      "metadata": {
        "editable": true,
        "tags": [],
        "id": "23bf1f8d-edef-4848-a3c7-fdc5d90a654c"
      },
      "source": [
        "* Notebook Name:\n",
        "    * The name displayed at the top of the page, next to the Jupyter logo, reflects the name of the .ipynb file.\n",
        "    * Clicking on the notebook name brings up a dialog that allows you to rename it.\n",
        "* Menu Bar: The menu bar presents different options that may be used to manipulate the way the notebook functions.\n",
        "* Toolbar: The toolbar gives a quick way of performing the most-used operations within the notebook, by clicking on an icon."
      ]
    },
    {
      "cell_type": "markdown",
      "id": "a35fbb77-2fbf-4b02-b7ba-bfc52ddac879",
      "metadata": {
        "id": "a35fbb77-2fbf-4b02-b7ba-bfc52ddac879"
      },
      "source": [
        "---"
      ]
    },
    {
      "cell_type": "markdown",
      "id": "8a78d02e-86b5-408b-a415-050804573f8c",
      "metadata": {
        "editable": true,
        "tags": [],
        "id": "8a78d02e-86b5-408b-a415-050804573f8c"
      },
      "source": [
        "### Notebook Cells"
      ]
    },
    {
      "cell_type": "markdown",
      "id": "24cc69b9-ff39-4a66-a311-ee98f1850f1f",
      "metadata": {
        "editable": true,
        "tags": [],
        "id": "24cc69b9-ff39-4a66-a311-ee98f1850f1f"
      },
      "source": [
        "You'll learn a lot about notebooks throughout the semester, but the main building block of a notebook is called a cell."
      ]
    },
    {
      "cell_type": "markdown",
      "id": "36f369b4-119b-4e79-95ed-faac85e929ce",
      "metadata": {
        "editable": true,
        "tags": [],
        "id": "36f369b4-119b-4e79-95ed-faac85e929ce"
      },
      "source": [
        "There are two basic types of cells:\n",
        "* Code cells\n",
        "* Markdown (text) cells"
      ]
    },
    {
      "cell_type": "markdown",
      "id": "37685aae-4387-4c65-834e-fd274e252516",
      "metadata": {
        "id": "37685aae-4387-4c65-834e-fd274e252516"
      },
      "source": [
        "---"
      ]
    },
    {
      "cell_type": "markdown",
      "id": "ed717ec4-0752-4473-b686-d1831371ea2e",
      "metadata": {
        "editable": true,
        "tags": [],
        "id": "ed717ec4-0752-4473-b686-d1831371ea2e"
      },
      "source": [
        "#### A Code Cell"
      ]
    },
    {
      "cell_type": "markdown",
      "id": "8d082759-a694-4e25-84a8-1772929eec9c",
      "metadata": {
        "editable": true,
        "tags": [],
        "id": "8d082759-a694-4e25-84a8-1772929eec9c"
      },
      "source": [
        "* Code cells interpret computer code.\n",
        "* Our notebooks support the Python programming langauge."
      ]
    },
    {
      "cell_type": "code",
      "execution_count": null,
      "id": "287b9df1-5234-45f9-9719-e1505b4da6c4",
      "metadata": {
        "editable": true,
        "tags": [],
        "id": "287b9df1-5234-45f9-9719-e1505b4da6c4",
        "outputId": "f7b0d2c5-a93f-4906-a8fa-1720e7fbb690"
      },
      "outputs": [
        {
          "name": "stdout",
          "output_type": "stream",
          "text": [
            "Hello, MATH 108!\n"
          ]
        }
      ],
      "source": [
        "# This is a code cell that prints out the text Hello, MATH 108!\n",
        "\n",
        "print('Hello, MATH 108!')"
      ]
    },
    {
      "cell_type": "markdown",
      "id": "407c6e2a-5fde-425e-9863-2cdb4cebc347",
      "metadata": {
        "id": "407c6e2a-5fde-425e-9863-2cdb4cebc347"
      },
      "source": [
        "---"
      ]
    },
    {
      "cell_type": "markdown",
      "id": "b2572058-1606-4de1-b3ac-e2213ae36f24",
      "metadata": {
        "editable": true,
        "tags": [],
        "id": "b2572058-1606-4de1-b3ac-e2213ae36f24"
      },
      "source": [
        "#### A Markdown Cell"
      ]
    },
    {
      "cell_type": "markdown",
      "id": "27ba782b-d182-47d6-a5bc-4ffa74e221b3",
      "metadata": {
        "editable": true,
        "tags": [],
        "id": "27ba782b-d182-47d6-a5bc-4ffa74e221b3"
      },
      "source": [
        "* All the formatted text is contained in a Markdown cell.\n",
        "* You can double-click these cells to edit them.\n",
        "* Markdown is a markup language that allows you to type as if you were using a basic text editor, but you have a few formatting features such as:\n",
        "    * **bold**,\n",
        "    * *italic*,\n",
        "    * etc.\n",
        "* There is a straightforward [Markdown guide](https://www.markdownguide.org/basic-syntax/) that shows you how to do all the basic formatting."
      ]
    },
    {
      "cell_type": "markdown",
      "id": "a39d7a02-7d21-4c75-a14e-77429a5a74dd",
      "metadata": {
        "id": "a39d7a02-7d21-4c75-a14e-77429a5a74dd"
      },
      "source": [
        "---"
      ]
    },
    {
      "cell_type": "markdown",
      "id": "59250ef5-1f7b-440d-a52b-f9dbc2e08e24",
      "metadata": {
        "editable": true,
        "tags": [],
        "id": "59250ef5-1f7b-440d-a52b-f9dbc2e08e24"
      },
      "source": [
        "### Kernel"
      ]
    },
    {
      "cell_type": "markdown",
      "id": "6153ff15-6c38-4875-a665-69bdffd31d18",
      "metadata": {
        "editable": true,
        "tags": [],
        "id": "6153ff15-6c38-4875-a665-69bdffd31d18"
      },
      "source": [
        "* Computational process that runs the code in the notebook\n",
        "* The kernel status appears in the upper right of the notebook:\n",
        "    * Open circle: kernel is ready to run a cell\n",
        "    * Closed circle: kernel is not ready to run a cell\n",
        "    * Circle with a lightning bolt along with the phrase 'No Kernel': kernel has shut down for some reason\n",
        "* A number appears to the left of a code cell showing the order in which the code cells have been run\n",
        "* If your kernel has shut down:\n",
        "    * The \"memory\" of the notebook has been lost\n",
        "    * You will need to re-run the cells\n",
        "        * Select `Kernel` -> `Restart` in the Menu Bar\n",
        "        * Re-run all the cells you want to run\n",
        "    "
      ]
    },
    {
      "cell_type": "markdown",
      "id": "ac4d80d1-76f3-41ea-a97f-7fe7fe7c0ad1",
      "metadata": {
        "editable": true,
        "tags": [],
        "id": "ac4d80d1-76f3-41ea-a97f-7fe7fe7c0ad1"
      },
      "source": [
        "---"
      ]
    },
    {
      "cell_type": "markdown",
      "id": "0fa3e4b4-1c77-4408-9310-9487c7a21af5",
      "metadata": {
        "editable": true,
        "tags": [],
        "id": "0fa3e4b4-1c77-4408-9310-9487c7a21af5"
      },
      "source": [
        "## Expressions"
      ]
    },
    {
      "cell_type": "markdown",
      "id": "8fc80d3a-321d-429d-a9cd-81df689a2e2d",
      "metadata": {
        "editable": true,
        "tags": [],
        "id": "8fc80d3a-321d-429d-a9cd-81df689a2e2d"
      },
      "source": [
        "---"
      ]
    },
    {
      "cell_type": "markdown",
      "id": "aec7d10d-8c70-4544-8fb1-033221cafcba",
      "metadata": {
        "editable": true,
        "tags": [],
        "id": "aec7d10d-8c70-4544-8fb1-033221cafcba"
      },
      "source": [
        "### What are Expressions?"
      ]
    },
    {
      "cell_type": "markdown",
      "id": "3692c6f3-7bf7-4ab2-bbe7-1dea44fb25ed",
      "metadata": {
        "editable": true,
        "tags": [],
        "id": "3692c6f3-7bf7-4ab2-bbe7-1dea44fb25ed"
      },
      "source": [
        "Expressions are combinations of symbols that are interpreted to produce some value."
      ]
    },
    {
      "cell_type": "markdown",
      "id": "f3c80b74-f3e4-40cf-ad41-75153ecfc376",
      "metadata": {
        "id": "f3c80b74-f3e4-40cf-ad41-75153ecfc376"
      },
      "source": [
        "---"
      ]
    },
    {
      "cell_type": "markdown",
      "id": "08979194-52e2-4543-a498-a7b7dfdd80f9",
      "metadata": {
        "editable": true,
        "tags": [],
        "id": "08979194-52e2-4543-a498-a7b7dfdd80f9"
      },
      "source": [
        "### Demo: Expressions"
      ]
    },
    {
      "cell_type": "markdown",
      "id": "a8bc527e-d8ff-41ea-9366-c66deee8d313",
      "metadata": {
        "deletable": false,
        "editable": false,
        "tags": [],
        "id": "a8bc527e-d8ff-41ea-9366-c66deee8d313"
      },
      "source": [
        "Try making a few expressions."
      ]
    },
    {
      "cell_type": "code",
      "execution_count": null,
      "id": "5d3d00c8-3f15-426e-a3c7-774b7dc695f2",
      "metadata": {
        "editable": true,
        "tags": [],
        "id": "5d3d00c8-3f15-426e-a3c7-774b7dc695f2",
        "outputId": "535c6bbc-cb89-47db-a1d4-27dbc6709921"
      },
      "outputs": [
        {
          "data": {
            "text/plain": [
              "'Hello'"
            ]
          },
          "execution_count": 3,
          "metadata": {},
          "output_type": "execute_result"
        }
      ],
      "source": [
        "\"Hello\""
      ]
    },
    {
      "cell_type": "code",
      "execution_count": null,
      "id": "d22e7afb-1f6a-40c8-a475-3f5e94629440",
      "metadata": {
        "id": "d22e7afb-1f6a-40c8-a475-3f5e94629440",
        "outputId": "711a6151-19b8-46eb-c036-47c593c5570c"
      },
      "outputs": [
        {
          "data": {
            "text/plain": [
              "'yes it does'"
            ]
          },
          "execution_count": 4,
          "metadata": {},
          "output_type": "execute_result"
        }
      ],
      "source": [
        "\"yes it does\" #string"
      ]
    },
    {
      "cell_type": "code",
      "execution_count": null,
      "id": "8c6e081a-67eb-4b55-a2b3-80c488aa4fe0",
      "metadata": {
        "editable": true,
        "tags": [],
        "id": "8c6e081a-67eb-4b55-a2b3-80c488aa4fe0"
      },
      "outputs": [],
      "source": [
        "x=2 #assingment"
      ]
    },
    {
      "cell_type": "code",
      "execution_count": null,
      "id": "2ddd5da9-d9b6-486c-9e3a-91bc6825ebb6",
      "metadata": {
        "editable": true,
        "tags": [],
        "id": "2ddd5da9-d9b6-486c-9e3a-91bc6825ebb6",
        "outputId": "f2616874-1592-4294-9db1-5f3b9bf59fba"
      },
      "outputs": [
        {
          "data": {
            "text/plain": [
              "[3, 5, 7]"
            ]
          },
          "execution_count": 6,
          "metadata": {},
          "output_type": "execute_result"
        }
      ],
      "source": [
        "[3,5,7] #a list"
      ]
    },
    {
      "cell_type": "code",
      "execution_count": null,
      "id": "3a90a0de-61dc-46a9-8f24-ead2f1e978a1",
      "metadata": {
        "editable": true,
        "tags": [],
        "id": "3a90a0de-61dc-46a9-8f24-ead2f1e978a1",
        "outputId": "89d9be2b-25b4-4df3-e7f9-b7ea312abe7f"
      },
      "outputs": [
        {
          "data": {
            "text/plain": [
              "34"
            ]
          },
          "execution_count": 7,
          "metadata": {},
          "output_type": "execute_result"
        }
      ],
      "source": [
        "abs(3-37) #function"
      ]
    },
    {
      "cell_type": "code",
      "execution_count": null,
      "id": "b00d349d-0c62-4e07-88d7-50fbe01a4108",
      "metadata": {
        "editable": true,
        "tags": [],
        "id": "b00d349d-0c62-4e07-88d7-50fbe01a4108"
      },
      "outputs": [],
      "source": [
        "import math # importing"
      ]
    },
    {
      "cell_type": "markdown",
      "id": "103b610b-7da1-4a32-a85d-9b5d6c891a1a",
      "metadata": {
        "id": "103b610b-7da1-4a32-a85d-9b5d6c891a1a"
      },
      "source": [
        "---"
      ]
    },
    {
      "cell_type": "markdown",
      "id": "ad6f34a4-ecd6-4dd5-97ca-8e44ab7f5fe9",
      "metadata": {
        "editable": true,
        "tags": [],
        "id": "ad6f34a4-ecd6-4dd5-97ca-8e44ab7f5fe9"
      },
      "source": [
        "### Demo: Arithmetic in Python"
      ]
    },
    {
      "cell_type": "markdown",
      "id": "03a14d01-e877-4811-b258-1381ea28f49d",
      "metadata": {
        "deletable": false,
        "editable": false,
        "tags": [],
        "id": "03a14d01-e877-4811-b258-1381ea28f49d"
      },
      "source": [
        "Try performing some basic arithmetic with Python"
      ]
    },
    {
      "cell_type": "code",
      "execution_count": null,
      "id": "a29c51c9-14c9-4ecb-81a4-31e1f27976ac",
      "metadata": {
        "editable": true,
        "tags": [],
        "id": "a29c51c9-14c9-4ecb-81a4-31e1f27976ac",
        "outputId": "73bb979b-c573-45ae-dde7-90db01bae670"
      },
      "outputs": [
        {
          "data": {
            "text/plain": [
              "88"
            ]
          },
          "execution_count": 9,
          "metadata": {},
          "output_type": "execute_result"
        }
      ],
      "source": [
        "# Addition\n",
        "33+55"
      ]
    },
    {
      "cell_type": "code",
      "execution_count": null,
      "id": "9357e862-0658-47f1-8145-981dec316c06",
      "metadata": {
        "editable": true,
        "tags": [],
        "id": "9357e862-0658-47f1-8145-981dec316c06",
        "outputId": "fe074069-1244-42c0-80e4-5229bcbf2619"
      },
      "outputs": [
        {
          "data": {
            "text/plain": [
              "207025"
            ]
          },
          "execution_count": 10,
          "metadata": {},
          "output_type": "execute_result"
        }
      ],
      "source": [
        "# Multiplication\n",
        "455*455"
      ]
    },
    {
      "cell_type": "code",
      "execution_count": null,
      "id": "3fdeed55-ff77-4fe2-bd48-13c2678b68d7",
      "metadata": {
        "editable": true,
        "tags": [],
        "id": "3fdeed55-ff77-4fe2-bd48-13c2678b68d7",
        "outputId": "df41c65a-5d3e-43ed-c317-be86dd5e2c1d"
      },
      "outputs": [
        {
          "data": {
            "text/plain": [
              "8.216216216216216"
            ]
          },
          "execution_count": 11,
          "metadata": {},
          "output_type": "execute_result"
        }
      ],
      "source": [
        "# Division\n",
        "3648/444"
      ]
    },
    {
      "cell_type": "code",
      "execution_count": null,
      "id": "23dbc5b4-c5ae-4174-b6e0-6bba5b0a7974",
      "metadata": {
        "editable": true,
        "tags": [],
        "id": "23dbc5b4-c5ae-4174-b6e0-6bba5b0a7974",
        "outputId": "2b8ff3a7-d9f2-417b-baf9-7adca485b72e"
      },
      "outputs": [
        {
          "data": {
            "text/plain": [
              "3597600662921626628600135655553196556866168975830078125000000000000000000000000000000000"
            ]
          },
          "execution_count": 13,
          "metadata": {},
          "output_type": "execute_result"
        }
      ],
      "source": [
        "# Exponentiation\n",
        "450**33"
      ]
    },
    {
      "cell_type": "code",
      "execution_count": null,
      "id": "aa3cdf65-849a-41fc-97b5-df6a95013021",
      "metadata": {
        "editable": true,
        "tags": [],
        "id": "aa3cdf65-849a-41fc-97b5-df6a95013021",
        "outputId": "dc3baf77-a002-4a43-f533-97da3e724b5c"
      },
      "outputs": [
        {
          "data": {
            "text/plain": [
              "3"
            ]
          },
          "execution_count": 14,
          "metadata": {},
          "output_type": "execute_result"
        }
      ],
      "source": [
        "# Modulo\n",
        "45%7"
      ]
    },
    {
      "cell_type": "markdown",
      "id": "57e2df26-5f40-427d-8f9d-43c2f5b2ad16",
      "metadata": {
        "id": "57e2df26-5f40-427d-8f9d-43c2f5b2ad16"
      },
      "source": [
        "---"
      ]
    },
    {
      "cell_type": "markdown",
      "id": "acc07b33-5adc-44a1-bf01-2b5eba5b0b59",
      "metadata": {
        "editable": true,
        "tags": [],
        "id": "acc07b33-5adc-44a1-bf01-2b5eba5b0b59"
      },
      "source": [
        "### Order of Operation"
      ]
    },
    {
      "cell_type": "markdown",
      "id": "9c515582-acc0-4f41-8261-54a7673b7c2d",
      "metadata": {
        "editable": true,
        "tags": [],
        "id": "9c515582-acc0-4f41-8261-54a7673b7c2d"
      },
      "source": [
        "* Python follows an order of operations when you combine operations in one expression\n",
        "* The order for arithmetic is similar to the order from Math class\n",
        "* Use parentheses to influence the order"
      ]
    },
    {
      "cell_type": "markdown",
      "id": "2228c7da-aace-4255-b07c-b261d1d74d96",
      "metadata": {
        "editable": true,
        "tags": [],
        "id": "2228c7da-aace-4255-b07c-b261d1d74d96"
      },
      "source": [
        "---"
      ]
    },
    {
      "cell_type": "markdown",
      "id": "2f185497-93d7-42a6-8e85-a7612a6ea250",
      "metadata": {
        "editable": true,
        "tags": [],
        "id": "2f185497-93d7-42a6-8e85-a7612a6ea250"
      },
      "source": [
        "### Demo: Order of Operation"
      ]
    },
    {
      "cell_type": "markdown",
      "id": "7a634437-3427-4e71-bbe9-019c20fc0f8e",
      "metadata": {
        "deletable": false,
        "editable": false,
        "tags": [],
        "id": "7a634437-3427-4e71-bbe9-019c20fc0f8e"
      },
      "source": [
        "Use parentheses to influence the value for the following expression."
      ]
    },
    {
      "cell_type": "code",
      "execution_count": null,
      "id": "8b6c0aa0-bd9e-488f-9d06-f12737a37efa",
      "metadata": {
        "editable": true,
        "tags": [],
        "id": "8b6c0aa0-bd9e-488f-9d06-f12737a37efa",
        "outputId": "d54466a4-fa55-4aa7-ec4c-c69815a4be6a"
      },
      "outputs": [
        {
          "data": {
            "text/plain": [
              "29"
            ]
          },
          "execution_count": 15,
          "metadata": {},
          "output_type": "execute_result"
        }
      ],
      "source": [
        "# The original expression evaluates to 29\n",
        "2 + 3 * 9"
      ]
    },
    {
      "cell_type": "code",
      "execution_count": null,
      "id": "d57b0e83-15f1-459f-a953-471edb28ce26",
      "metadata": {
        "editable": true,
        "tags": [],
        "id": "d57b0e83-15f1-459f-a953-471edb28ce26",
        "outputId": "f8f1e3b6-6535-49c9-86cd-de8b93bbee5e"
      },
      "outputs": [
        {
          "data": {
            "text/plain": [
              "45"
            ]
          },
          "execution_count": 17,
          "metadata": {},
          "output_type": "execute_result"
        }
      ],
      "source": [
        "# Use parentheses to make the expression evaluate to 454\n",
        "(2+3)*9"
      ]
    },
    {
      "cell_type": "markdown",
      "id": "e65ff5cf-ad03-492b-8293-1eb2f53b0659",
      "metadata": {
        "editable": true,
        "tags": [],
        "id": "e65ff5cf-ad03-492b-8293-1eb2f53b0659"
      },
      "source": [
        "---"
      ]
    },
    {
      "cell_type": "markdown",
      "id": "1a92ab94-6945-40f7-a42e-d787839790f5",
      "metadata": {
        "editable": true,
        "tags": [],
        "id": "1a92ab94-6945-40f7-a42e-d787839790f5"
      },
      "source": [
        "## Names"
      ]
    },
    {
      "cell_type": "markdown",
      "id": "bc10adfd-01d7-4872-a58e-12a88e9929ec",
      "metadata": {
        "id": "bc10adfd-01d7-4872-a58e-12a88e9929ec"
      },
      "source": [
        "---"
      ]
    },
    {
      "cell_type": "markdown",
      "id": "ea74aad5-f6fe-4033-ab2a-a261c49a3c6e",
      "metadata": {
        "editable": true,
        "tags": [],
        "id": "ea74aad5-f6fe-4033-ab2a-a261c49a3c6e"
      },
      "source": [
        "### Assignment Statements"
      ]
    },
    {
      "cell_type": "markdown",
      "id": "efc1c05c-5ecf-454a-9d0e-9ecba5673144",
      "metadata": {
        "editable": true,
        "tags": [],
        "id": "efc1c05c-5ecf-454a-9d0e-9ecba5673144"
      },
      "source": [
        "<img src=\"./assignment_statements.png\" width = 50%>\n",
        "\n",
        "* Statements perform an action\n",
        "* An assignment statement changes the meaning of the name to the left of the = symbol\n",
        "* The name is bound to a value (not an equation)"
      ]
    },
    {
      "cell_type": "markdown",
      "id": "fa0e10ee-4463-4d97-aaad-5b471e2dcaed",
      "metadata": {
        "id": "fa0e10ee-4463-4d97-aaad-5b471e2dcaed"
      },
      "source": [
        "---"
      ]
    },
    {
      "cell_type": "markdown",
      "id": "3fda5a4a-f929-4665-956e-9d8630d8b0d9",
      "metadata": {
        "editable": true,
        "tags": [],
        "id": "3fda5a4a-f929-4665-956e-9d8630d8b0d9"
      },
      "source": [
        "### Demo: Names"
      ]
    },
    {
      "cell_type": "markdown",
      "id": "faf2c05d-9f1e-4f18-af3f-277101322d29",
      "metadata": {
        "deletable": false,
        "editable": false,
        "tags": [],
        "id": "faf2c05d-9f1e-4f18-af3f-277101322d29"
      },
      "source": [
        "* Define a few names\n",
        "* Apply them to create arithmetic operations\n",
        "* Differentiate between names and strings."
      ]
    },
    {
      "cell_type": "code",
      "execution_count": null,
      "id": "358007cd-4513-4d3a-b137-1716577e3f50",
      "metadata": {
        "editable": true,
        "tags": [],
        "id": "358007cd-4513-4d3a-b137-1716577e3f50"
      },
      "outputs": [],
      "source": [
        "a = 4"
      ]
    },
    {
      "cell_type": "code",
      "execution_count": null,
      "id": "c97c577c-b2f2-42ea-bd5f-997fe3ee6cc3",
      "metadata": {
        "editable": true,
        "tags": [],
        "id": "c97c577c-b2f2-42ea-bd5f-997fe3ee6cc3",
        "outputId": "7a6cfe87-0c8f-4749-ccdb-ef401523633c"
      },
      "outputs": [
        {
          "data": {
            "text/plain": [
              "4"
            ]
          },
          "execution_count": 19,
          "metadata": {},
          "output_type": "execute_result"
        }
      ],
      "source": [
        "a"
      ]
    },
    {
      "cell_type": "code",
      "execution_count": null,
      "id": "760e995f-5663-47ea-aa95-d490b1d47def",
      "metadata": {
        "editable": true,
        "tags": [],
        "id": "760e995f-5663-47ea-aa95-d490b1d47def",
        "outputId": "0cd8a792-6c13-412a-ab68-da5a2669e12d"
      },
      "outputs": [
        {
          "data": {
            "text/plain": [
              "12"
            ]
          },
          "execution_count": 20,
          "metadata": {},
          "output_type": "execute_result"
        }
      ],
      "source": [
        "a*3"
      ]
    },
    {
      "cell_type": "code",
      "execution_count": null,
      "id": "8141ca2a-47e2-45a2-809d-89282f804086",
      "metadata": {
        "editable": true,
        "tags": [],
        "id": "8141ca2a-47e2-45a2-809d-89282f804086",
        "outputId": "f4060860-eac5-482e-d24e-d9ed8e638edc"
      },
      "outputs": [
        {
          "data": {
            "text/plain": [
              "9"
            ]
          },
          "execution_count": 21,
          "metadata": {},
          "output_type": "execute_result"
        }
      ],
      "source": [
        "b = 9\n",
        "b"
      ]
    },
    {
      "cell_type": "code",
      "execution_count": null,
      "id": "f3aa29da-c342-461e-8efc-371dba6c6deb",
      "metadata": {
        "editable": true,
        "tags": [],
        "id": "f3aa29da-c342-461e-8efc-371dba6c6deb",
        "outputId": "3d740fed-5623-4ee7-ca27-824036d35635"
      },
      "outputs": [
        {
          "data": {
            "text/plain": [
              "13"
            ]
          },
          "execution_count": 22,
          "metadata": {},
          "output_type": "execute_result"
        }
      ],
      "source": [
        "total = a+b\n",
        "total"
      ]
    },
    {
      "cell_type": "code",
      "execution_count": null,
      "id": "333ca061-7ff0-4adf-a648-a63a83e63cdb",
      "metadata": {
        "editable": true,
        "tags": [],
        "id": "333ca061-7ff0-4adf-a648-a63a83e63cdb"
      },
      "outputs": [],
      "source": [
        "a = 10"
      ]
    },
    {
      "cell_type": "code",
      "execution_count": null,
      "id": "3e0baf51-304b-4d01-9192-d09dec6230b0",
      "metadata": {
        "editable": true,
        "tags": [],
        "id": "3e0baf51-304b-4d01-9192-d09dec6230b0",
        "outputId": "fb838901-c99a-4caa-e87d-2ed82d207c96"
      },
      "outputs": [
        {
          "data": {
            "text/plain": [
              "13"
            ]
          },
          "execution_count": 24,
          "metadata": {},
          "output_type": "execute_result"
        }
      ],
      "source": [
        "total"
      ]
    },
    {
      "cell_type": "code",
      "execution_count": null,
      "id": "4a05fb98-d042-4724-b97f-0ae5fa9db0ae",
      "metadata": {
        "editable": true,
        "tags": [],
        "id": "4a05fb98-d042-4724-b97f-0ae5fa9db0ae",
        "outputId": "a377ca57-3e62-4173-bbc8-d14b323f1689"
      },
      "outputs": [
        {
          "data": {
            "text/plain": [
              "19"
            ]
          },
          "execution_count": 25,
          "metadata": {},
          "output_type": "execute_result"
        }
      ],
      "source": [
        "total = a+b\n",
        "total"
      ]
    },
    {
      "cell_type": "code",
      "execution_count": null,
      "id": "4b116d76-8337-4613-82ad-d463825d8dc8",
      "metadata": {
        "editable": true,
        "tags": [],
        "id": "4b116d76-8337-4613-82ad-d463825d8dc8",
        "outputId": "bfae3a17-e353-48b5-9189-dd0c3b2113c4"
      },
      "outputs": [
        {
          "data": {
            "text/plain": [
              "'total'"
            ]
          },
          "execution_count": 26,
          "metadata": {},
          "output_type": "execute_result"
        }
      ],
      "source": [
        "\"total\""
      ]
    },
    {
      "cell_type": "markdown",
      "id": "25b323d0-aedf-4a5d-9c17-e191102ffb99",
      "metadata": {
        "editable": true,
        "tags": [],
        "id": "25b323d0-aedf-4a5d-9c17-e191102ffb99"
      },
      "source": [
        "---"
      ]
    },
    {
      "cell_type": "markdown",
      "id": "d0d4cb38-65c7-4362-a197-4ae560c0bf33",
      "metadata": {
        "editable": true,
        "tags": [],
        "id": "d0d4cb38-65c7-4362-a197-4ae560c0bf33"
      },
      "source": [
        "### Demo: Why Names?"
      ]
    },
    {
      "cell_type": "markdown",
      "id": "ed99b517-ff56-44ad-800c-cdec0442be17",
      "metadata": {
        "deletable": false,
        "editable": false,
        "tags": [],
        "id": "ed99b517-ff56-44ad-800c-cdec0442be17"
      },
      "source": [
        "* See how helpful choices of names can help you and others navigate your code.\n",
        "* Notice that you can get the same numbers from arithmetic, but it can be hard to tell what the code refers to."
      ]
    },
    {
      "cell_type": "code",
      "execution_count": null,
      "id": "18695e50-29d0-48cd-b4fd-8938b349c8a2",
      "metadata": {
        "editable": true,
        "tags": [],
        "id": "18695e50-29d0-48cd-b4fd-8938b349c8a2"
      },
      "outputs": [],
      "source": [
        "hours_per_week = 40\n",
        "weeks_per_year = 52"
      ]
    },
    {
      "cell_type": "code",
      "execution_count": null,
      "id": "7a787502-b2da-41e6-8036-73d6f5d917e6",
      "metadata": {
        "editable": true,
        "tags": [],
        "id": "7a787502-b2da-41e6-8036-73d6f5d917e6",
        "outputId": "95057cab-8fb2-4b68-c2a5-e8a73e970a24"
      },
      "outputs": [
        {
          "data": {
            "text/plain": [
              "2080"
            ]
          },
          "execution_count": 29,
          "metadata": {},
          "output_type": "execute_result"
        }
      ],
      "source": [
        "hours_per_year = hours_per_week* weeks_per_year\n",
        "\n",
        "hours_per_year"
      ]
    },
    {
      "cell_type": "code",
      "execution_count": null,
      "id": "78afe225-3814-4ec2-853b-6964e3561661",
      "metadata": {
        "editable": true,
        "tags": [],
        "id": "78afe225-3814-4ec2-853b-6964e3561661"
      },
      "outputs": [],
      "source": [
        "# Minimum wage for businesses w/26 or more employees as of 2024\n",
        "ca_hourly_minimum_wage = 16.00"
      ]
    },
    {
      "cell_type": "code",
      "execution_count": null,
      "id": "0fe2da3a-f6a3-4be4-b4e1-b4c1d0845894",
      "metadata": {
        "editable": true,
        "tags": [],
        "id": "0fe2da3a-f6a3-4be4-b4e1-b4c1d0845894",
        "outputId": "05ebc6c6-4341-481f-c57c-95dfd28db93d"
      },
      "outputs": [
        {
          "data": {
            "text/plain": [
              "640.0"
            ]
          },
          "execution_count": 31,
          "metadata": {},
          "output_type": "execute_result"
        }
      ],
      "source": [
        "weekly_wages = ca_hourly_minimum_wage*hours_per_week\n",
        "weekly_wages"
      ]
    },
    {
      "cell_type": "code",
      "execution_count": null,
      "id": "2b0a5730-2fa7-4b1c-9be0-8d15e290a6fc",
      "metadata": {
        "editable": true,
        "tags": [],
        "id": "2b0a5730-2fa7-4b1c-9be0-8d15e290a6fc",
        "outputId": "1c2d5033-df5d-414c-e1a7-73bf45a32d20"
      },
      "outputs": [
        {
          "data": {
            "text/plain": [
              "33280.0"
            ]
          },
          "execution_count": 32,
          "metadata": {},
          "output_type": "execute_result"
        }
      ],
      "source": [
        "yearly_wages = weekly_wages*weeks_per_year\n",
        "\n",
        "yearly_wages"
      ]
    },
    {
      "cell_type": "code",
      "execution_count": null,
      "id": "065924d8-3d37-4af5-bfe3-216a0e1c9bbf",
      "metadata": {
        "editable": true,
        "tags": [],
        "id": "065924d8-3d37-4af5-bfe3-216a0e1c9bbf",
        "outputId": "dba168d2-17e0-4245-974d-b11b0f44353a"
      },
      "outputs": [
        {
          "data": {
            "text/plain": [
              "640.0"
            ]
          },
          "execution_count": 33,
          "metadata": {},
          "output_type": "execute_result"
        }
      ],
      "source": [
        "40 * 16.00"
      ]
    },
    {
      "cell_type": "code",
      "execution_count": null,
      "id": "7146d927-0c06-44b1-a0fb-07d7d2bd6b81",
      "metadata": {
        "editable": true,
        "tags": [],
        "id": "7146d927-0c06-44b1-a0fb-07d7d2bd6b81",
        "outputId": "b334b339-2d66-434d-81d9-5e0d5d3a7f73"
      },
      "outputs": [
        {
          "data": {
            "text/plain": [
              "33280.0"
            ]
          },
          "execution_count": 34,
          "metadata": {},
          "output_type": "execute_result"
        }
      ],
      "source": [
        "40 * 52 * 16.00"
      ]
    },
    {
      "cell_type": "markdown",
      "id": "ecf42f3b-7f8c-4542-b054-8d9aa677ecab",
      "metadata": {
        "editable": true,
        "tags": [],
        "id": "ecf42f3b-7f8c-4542-b054-8d9aa677ecab"
      },
      "source": [
        "---"
      ]
    },
    {
      "cell_type": "markdown",
      "id": "c2c14745-4c52-4ab0-b289-360906f65cd6",
      "metadata": {
        "editable": true,
        "tags": [],
        "id": "c2c14745-4c52-4ab0-b289-360906f65cd6"
      },
      "source": [
        "## Function Calls"
      ]
    },
    {
      "cell_type": "markdown",
      "id": "ed36bc3e-e94b-4fbc-bd70-72c24d56975f",
      "metadata": {
        "id": "ed36bc3e-e94b-4fbc-bd70-72c24d56975f"
      },
      "source": [
        "---"
      ]
    },
    {
      "cell_type": "markdown",
      "id": "a1dbe8b4-7779-4eac-96ea-aaac1f70e15e",
      "metadata": {
        "editable": true,
        "tags": [],
        "id": "a1dbe8b4-7779-4eac-96ea-aaac1f70e15e"
      },
      "source": [
        "### Anatomy of a Call Expression"
      ]
    },
    {
      "cell_type": "markdown",
      "id": "ab5c011f-a703-4d51-8c01-e6501154d507",
      "metadata": {
        "editable": true,
        "tags": [],
        "id": "ab5c011f-a703-4d51-8c01-e6501154d507"
      },
      "source": [
        "<img src=\"./anatomy_of_a_call_expression.png\" width = 40%>"
      ]
    },
    {
      "cell_type": "markdown",
      "id": "b74f8771-72f8-4bd5-849f-5befecd1b943",
      "metadata": {
        "id": "b74f8771-72f8-4bd5-849f-5befecd1b943"
      },
      "source": [
        "Read: \"Call `f` on 27.\""
      ]
    },
    {
      "cell_type": "markdown",
      "id": "16ca349d-96b4-41ee-b594-04a9fe0d1862",
      "metadata": {
        "editable": true,
        "tags": [],
        "id": "16ca349d-96b4-41ee-b594-04a9fe0d1862"
      },
      "source": [
        "---"
      ]
    },
    {
      "cell_type": "markdown",
      "id": "e4dc675b-26ac-4ee2-9c45-c86243d0f40e",
      "metadata": {
        "editable": true,
        "tags": [],
        "id": "e4dc675b-26ac-4ee2-9c45-c86243d0f40e"
      },
      "source": [
        "### Anatomy of a Call Expression - Multiple Arguments"
      ]
    },
    {
      "cell_type": "markdown",
      "id": "3b0cdcc5-ce33-4568-bb9c-6b1187053893",
      "metadata": {
        "editable": true,
        "tags": [],
        "id": "3b0cdcc5-ce33-4568-bb9c-6b1187053893"
      },
      "source": [
        "<img src=\"./anatomy_of_a_call_expression_multiple_arguments.png\" width = 50%>"
      ]
    },
    {
      "cell_type": "markdown",
      "id": "a408b162-2452-4198-a9d8-9051186a6569",
      "metadata": {
        "editable": true,
        "tags": [],
        "id": "a408b162-2452-4198-a9d8-9051186a6569"
      },
      "source": [
        "---"
      ]
    },
    {
      "cell_type": "markdown",
      "id": "8d7e1caa-4b13-438e-8c3b-4d1ac76dcf18",
      "metadata": {
        "editable": true,
        "tags": [],
        "id": "8d7e1caa-4b13-438e-8c3b-4d1ac76dcf18"
      },
      "source": [
        "### Demo: Functions and Call Expressions"
      ]
    },
    {
      "cell_type": "markdown",
      "id": "e976ad65-06c4-45b7-8a6b-2773e4af33c0",
      "metadata": {
        "deletable": false,
        "editable": false,
        "tags": [],
        "id": "e976ad65-06c4-45b7-8a6b-2773e4af33c0"
      },
      "source": [
        "* Perform function calls with the built-in absolute value function.\n",
        "* Try using built-in functions that accept more than 1 argument."
      ]
    },
    {
      "cell_type": "code",
      "execution_count": null,
      "id": "8d3e2b52-50d4-44c1-a5ac-aefa8228ffc6",
      "metadata": {
        "editable": true,
        "tags": [],
        "id": "8d3e2b52-50d4-44c1-a5ac-aefa8228ffc6",
        "outputId": "4f7c288a-43ab-4fa8-f93a-458a14f8a40b"
      },
      "outputs": [
        {
          "data": {
            "text/plain": [
              "5.3"
            ]
          },
          "execution_count": 35,
          "metadata": {},
          "output_type": "execute_result"
        }
      ],
      "source": [
        "abs(-5.3)"
      ]
    },
    {
      "cell_type": "code",
      "execution_count": null,
      "id": "46d70ab5-78d5-462a-8a6c-a7947708bbc7",
      "metadata": {
        "editable": true,
        "tags": [],
        "id": "46d70ab5-78d5-462a-8a6c-a7947708bbc7",
        "outputId": "45b1b336-0bab-4fd1-82a3-34ed19d27885"
      },
      "outputs": [
        {
          "data": {
            "text/plain": [
              "6"
            ]
          },
          "execution_count": 36,
          "metadata": {},
          "output_type": "execute_result"
        }
      ],
      "source": [
        "abs(-8+14)"
      ]
    },
    {
      "cell_type": "code",
      "execution_count": null,
      "id": "2e8f1c45-9c19-482d-b136-19c9c29efba4",
      "metadata": {
        "editable": true,
        "tags": [],
        "id": "2e8f1c45-9c19-482d-b136-19c9c29efba4",
        "outputId": "6340da0e-120e-40d0-ef61-075a4e587d23"
      },
      "outputs": [
        {
          "data": {
            "text/plain": [
              "5"
            ]
          },
          "execution_count": 37,
          "metadata": {},
          "output_type": "execute_result"
        }
      ],
      "source": [
        "day_temp = 52\n",
        "night_temp = 47\n",
        "abs_diff_in_temps = abs(day_temp - night_temp)\n",
        "abs_diff_in_temps"
      ]
    },
    {
      "cell_type": "code",
      "execution_count": null,
      "id": "17533226-ba90-4e24-ae3f-a76e7372444c",
      "metadata": {
        "editable": true,
        "tags": [],
        "id": "17533226-ba90-4e24-ae3f-a76e7372444c",
        "outputId": "1011db7a-f8e9-40c6-8173-1ec457d96255"
      },
      "outputs": [
        {
          "data": {
            "text/plain": [
              "-8"
            ]
          },
          "execution_count": 40,
          "metadata": {},
          "output_type": "execute_result"
        }
      ],
      "source": [
        "min(25.33,-8,79)"
      ]
    },
    {
      "cell_type": "code",
      "execution_count": null,
      "id": "80555fbd-3511-49c9-ae39-d7f81265e4a9",
      "metadata": {
        "editable": true,
        "tags": [],
        "id": "80555fbd-3511-49c9-ae39-d7f81265e4a9",
        "outputId": "97f23477-37d0-4566-f496-dd025508fa2c"
      },
      "outputs": [
        {
          "data": {
            "text/plain": [
              "123.5"
            ]
          },
          "execution_count": 41,
          "metadata": {},
          "output_type": "execute_result"
        }
      ],
      "source": [
        "round(123.456,1)"
      ]
    },
    {
      "cell_type": "markdown",
      "id": "1d419243-1b93-4651-b024-d6eda4812aae",
      "metadata": {
        "editable": true,
        "tags": [],
        "id": "1d419243-1b93-4651-b024-d6eda4812aae"
      },
      "source": [
        "---"
      ]
    },
    {
      "cell_type": "markdown",
      "id": "ab7c9d57-c66f-4d4b-b739-68cb546b97c9",
      "metadata": {
        "editable": true,
        "tags": [],
        "id": "ab7c9d57-c66f-4d4b-b739-68cb546b97c9"
      },
      "source": [
        "### Function Documentation"
      ]
    },
    {
      "cell_type": "markdown",
      "id": "a015b9fb-d0d4-4c70-a4f6-813ff0a2231b",
      "metadata": {
        "editable": true,
        "tags": [],
        "id": "a015b9fb-d0d4-4c70-a4f6-813ff0a2231b"
      },
      "source": [
        "* Use the `help` function to see information about a function\n",
        "* Put the `?` in front of a function's name to pull up more detailed documentation in Jupyter."
      ]
    },
    {
      "cell_type": "code",
      "execution_count": null,
      "id": "81c22d60-cd67-4c6f-8972-ca4920c5eafd",
      "metadata": {
        "editable": true,
        "tags": [],
        "id": "81c22d60-cd67-4c6f-8972-ca4920c5eafd",
        "outputId": "e2023b36-c5b6-40ab-bee2-384ecd0b07d3"
      },
      "outputs": [
        {
          "data": {
            "text/plain": [
              "\u001b[0;31mSignature:\u001b[0m \u001b[0mround\u001b[0m\u001b[0;34m(\u001b[0m\u001b[0mnumber\u001b[0m\u001b[0;34m,\u001b[0m \u001b[0mndigits\u001b[0m\u001b[0;34m=\u001b[0m\u001b[0;32mNone\u001b[0m\u001b[0;34m)\u001b[0m\u001b[0;34m\u001b[0m\u001b[0;34m\u001b[0m\u001b[0m\n",
              "\u001b[0;31mDocstring:\u001b[0m\n",
              "Round a number to a given precision in decimal digits.\n",
              "\n",
              "The return value is an integer if ndigits is omitted or None.  Otherwise\n",
              "the return value has the same type as the number.  ndigits may be negative.\n",
              "\u001b[0;31mType:\u001b[0m      builtin_function_or_method"
            ]
          },
          "metadata": {},
          "output_type": "display_data"
        }
      ],
      "source": [
        "?round"
      ]
    },
    {
      "cell_type": "markdown",
      "id": "ba6f2f2a-462c-4989-a20e-f51fbdc00897",
      "metadata": {
        "editable": true,
        "tags": [],
        "id": "ba6f2f2a-462c-4989-a20e-f51fbdc00897"
      },
      "source": [
        "---"
      ]
    },
    {
      "cell_type": "markdown",
      "id": "ba7e5595-27f2-4ad0-ba8c-7ad56e2aeb28",
      "metadata": {
        "editable": true,
        "tags": [],
        "id": "ba7e5595-27f2-4ad0-ba8c-7ad56e2aeb28"
      },
      "source": [
        "### Demo: Function Documentation"
      ]
    },
    {
      "cell_type": "markdown",
      "id": "8ec62046-408c-4c9b-a792-dab5ad1ea201",
      "metadata": {
        "deletable": false,
        "editable": false,
        "tags": [],
        "id": "8ec62046-408c-4c9b-a792-dab5ad1ea201"
      },
      "source": [
        "* Explore the documentation for the `round` function.\n",
        "* Notice that you can explicitly specify argument values, but Python can also know what to do based on the position of the values."
      ]
    },
    {
      "cell_type": "code",
      "execution_count": null,
      "id": "a6553370-0f73-4399-854c-cd6f970fc879",
      "metadata": {
        "editable": true,
        "tags": [],
        "id": "a6553370-0f73-4399-854c-cd6f970fc879",
        "outputId": "cbfe2eb2-8190-4947-8dc9-02e96b97162b"
      },
      "outputs": [
        {
          "data": {
            "text/plain": [
              "4685.478"
            ]
          },
          "execution_count": 43,
          "metadata": {},
          "output_type": "execute_result"
        }
      ],
      "source": [
        "round(4685.4783993,3)"
      ]
    },
    {
      "cell_type": "code",
      "execution_count": null,
      "id": "d18fef4b-8026-4cf1-b5de-18ff34e63913",
      "metadata": {
        "editable": true,
        "tags": [],
        "id": "d18fef4b-8026-4cf1-b5de-18ff34e63913"
      },
      "outputs": [],
      "source": [
        "..."
      ]
    },
    {
      "cell_type": "markdown",
      "id": "39c2fd25-8070-4a58-985b-a1e615d2f6fa",
      "metadata": {
        "editable": true,
        "tags": [],
        "id": "39c2fd25-8070-4a58-985b-a1e615d2f6fa"
      },
      "source": [
        "---"
      ]
    },
    {
      "cell_type": "markdown",
      "id": "b70ca5b4-c03b-48ae-ab2d-94f7c8abf5fb",
      "metadata": {
        "editable": true,
        "tags": [],
        "id": "b70ca5b4-c03b-48ae-ab2d-94f7c8abf5fb"
      },
      "source": [
        "## Errors and Exceptions"
      ]
    },
    {
      "cell_type": "markdown",
      "id": "96e46f36-9b66-46b2-908d-51ce6b165973",
      "metadata": {
        "editable": true,
        "tags": [],
        "id": "96e46f36-9b66-46b2-908d-51ce6b165973"
      },
      "source": [
        "---"
      ]
    },
    {
      "cell_type": "markdown",
      "id": "524015df-dd31-4e6d-a0a1-83e4748bd7c2",
      "metadata": {
        "editable": true,
        "tags": [],
        "id": "524015df-dd31-4e6d-a0a1-83e4748bd7c2"
      },
      "source": [
        "### Embracing Errors"
      ]
    },
    {
      "cell_type": "markdown",
      "id": "c8885cd2-6667-4296-979d-b8c09a8297b6",
      "metadata": {
        "editable": true,
        "tags": [],
        "id": "c8885cd2-6667-4296-979d-b8c09a8297b6"
      },
      "source": [
        "* Errors happen and that is okay!\n",
        "* Python provides error messages to help correct errors\n",
        "* The size of the printout of the error does not correlate to the size of the error\n",
        "* Try your best to learn the details of these messages to help you debug your errors\n",
        "* [Python's documentation](https://docs.python.org/3/library/exceptions.html#bltin-exceptions) contains a discription for all the built-in errors messages."
      ]
    },
    {
      "cell_type": "markdown",
      "id": "1c40a362-0ef3-4d3c-b747-8bb3d313d2d2",
      "metadata": {
        "id": "1c40a362-0ef3-4d3c-b747-8bb3d313d2d2"
      },
      "source": [
        "---"
      ]
    },
    {
      "cell_type": "markdown",
      "id": "f6be9cc7-6636-4329-92d9-f6246aa4c458",
      "metadata": {
        "editable": true,
        "tags": [],
        "id": "f6be9cc7-6636-4329-92d9-f6246aa4c458"
      },
      "source": [
        "### Syntax Error"
      ]
    },
    {
      "cell_type": "markdown",
      "id": "9c15b263-1477-43f8-be25-b93323e92d99",
      "metadata": {
        "editable": true,
        "tags": [],
        "id": "9c15b263-1477-43f8-be25-b93323e92d99"
      },
      "source": [
        "* Syntax errors are very common\n",
        "* The indicate that something is wrong with the format of the code\n",
        "* The ^ symbol used to *try* and point out where the error might be"
      ]
    },
    {
      "cell_type": "code",
      "execution_count": null,
      "id": "1ed9ce2c-bd58-41b6-b8be-a7b9565f0c7b",
      "metadata": {
        "editable": true,
        "tags": [],
        "id": "1ed9ce2c-bd58-41b6-b8be-a7b9565f0c7b",
        "outputId": "4ad76b08-fa0f-4612-cac4-1d247e94a2f9"
      },
      "outputs": [
        {
          "ename": "SyntaxError",
          "evalue": "incomplete input (2960955290.py, line 2)",
          "output_type": "error",
          "traceback": [
            "\u001b[0;36m  Cell \u001b[0;32mIn[47], line 2\u001b[0;36m\u001b[0m\n\u001b[0;31m    display([1, 2, 3]\u001b[0m\n\u001b[0m                     ^\u001b[0m\n\u001b[0;31mSyntaxError\u001b[0m\u001b[0;31m:\u001b[0m incomplete input\n"
          ]
        }
      ],
      "source": [
        "# A SyntaxError\n",
        "display([1, 2, 3]"
      ]
    },
    {
      "cell_type": "markdown",
      "id": "43bf2f90-75d2-43dc-a271-1d07b2ee00e3",
      "metadata": {
        "id": "43bf2f90-75d2-43dc-a271-1d07b2ee00e3"
      },
      "source": [
        "---"
      ]
    },
    {
      "cell_type": "markdown",
      "id": "56738195-a1c3-4064-bd97-5dbc042ed4f2",
      "metadata": {
        "editable": true,
        "tags": [],
        "id": "56738195-a1c3-4064-bd97-5dbc042ed4f2"
      },
      "source": [
        "### Name Error"
      ]
    },
    {
      "cell_type": "markdown",
      "id": "618fae09-40ef-493d-ba24-030c62d00329",
      "metadata": {
        "editable": true,
        "tags": [],
        "id": "618fae09-40ef-493d-ba24-030c62d00329"
      },
      "source": [
        "* This is another common error for this course\n",
        "* Name errors indicate the name used has not been defined\n",
        "* If the kernel shuts down and cells need to be re-run this error could show up"
      ]
    },
    {
      "cell_type": "code",
      "execution_count": null,
      "id": "b62ed763-9ffc-4e35-b9f8-ef6701c8e344",
      "metadata": {
        "editable": true,
        "scrolled": true,
        "tags": [],
        "id": "b62ed763-9ffc-4e35-b9f8-ef6701c8e344",
        "outputId": "c383b886-3121-4822-9c75-e16acb034f36"
      },
      "outputs": [
        {
          "ename": "NameError",
          "evalue": "name 'a_name' is not defined",
          "output_type": "error",
          "traceback": [
            "\u001b[0;31m---------------------------------------------------------------------------\u001b[0m",
            "\u001b[0;31mNameError\u001b[0m                                 Traceback (most recent call last)",
            "Cell \u001b[0;32mIn[46], line 2\u001b[0m\n\u001b[1;32m      1\u001b[0m \u001b[38;5;66;03m# A NameError\u001b[39;00m\n\u001b[0;32m----> 2\u001b[0m \u001b[38;5;28mprint\u001b[39m(\u001b[43ma_name\u001b[49m)\n",
            "\u001b[0;31mNameError\u001b[0m: name 'a_name' is not defined"
          ]
        }
      ],
      "source": [
        "# A NameError\n",
        "print(a_name)"
      ]
    },
    {
      "cell_type": "markdown",
      "id": "da808bc8-b4d3-4197-bf19-971b380278bb",
      "metadata": {
        "editable": true,
        "tags": [],
        "id": "da808bc8-b4d3-4197-bf19-971b380278bb"
      },
      "source": [
        "---"
      ]
    },
    {
      "cell_type": "markdown",
      "id": "4010dfcb-df56-4758-bf9f-93098c5a5fbe",
      "metadata": {
        "editable": true,
        "tags": [],
        "id": "4010dfcb-df56-4758-bf9f-93098c5a5fbe"
      },
      "source": [
        "## Attribution"
      ]
    },
    {
      "cell_type": "markdown",
      "id": "6e28afcd-4ca1-4dd4-9a43-0f10e31b2003",
      "metadata": {
        "id": "6e28afcd-4ca1-4dd4-9a43-0f10e31b2003"
      },
      "source": [
        "This content is licensed under the <a href=\"https://creativecommons.org/licenses/by-nc-sa/4.0/\">Creative Commons Attribution-NonCommercial-ShareAlike 4.0 International License (CC BY-NC-SA 4.0)</a> and derived from the <a href=\"https://www.data8.org/\">Data 8: The Foundations of Data Science</a> offered by the University of California, Berkeley.\n",
        "\n",
        "<img src=\"./by-nc-sa.png\" width=100px>"
      ]
    }
  ],
  "metadata": {
    "kernelspec": {
      "display_name": "Python 3 (ipykernel)",
      "language": "python",
      "name": "python3"
    },
    "language_info": {
      "codemirror_mode": {
        "name": "ipython",
        "version": 3
      },
      "file_extension": ".py",
      "mimetype": "text/x-python",
      "name": "python",
      "nbconvert_exporter": "python",
      "pygments_lexer": "ipython3",
      "version": "3.11.9"
    },
    "otter": {
      "OK_FORMAT": true,
      "tests": {}
    },
    "toc": {
      "base_numbering": 1
    },
    "colab": {
      "provenance": [],
      "include_colab_link": true
    }
  },
  "nbformat": 4,
  "nbformat_minor": 5
}