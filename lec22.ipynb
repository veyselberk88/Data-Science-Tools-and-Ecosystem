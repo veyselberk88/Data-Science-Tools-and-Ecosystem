{
  "cells": [
    {
      "cell_type": "markdown",
      "metadata": {
        "id": "view-in-github",
        "colab_type": "text"
      },
      "source": [
        "<a href=\"https://colab.research.google.com/github/veyselberk88/Data-Science-Tools-and-Ecosystem/blob/main/lec22.ipynb\" target=\"_parent\"><img src=\"https://colab.research.google.com/assets/colab-badge.svg\" alt=\"Open In Colab\"/></a>"
      ]
    },
    {
      "cell_type": "markdown",
      "id": "5de286d2-643a-4089-bbe6-d2e4fecf4809",
      "metadata": {
        "id": "5de286d2-643a-4089-bbe6-d2e4fecf4809"
      },
      "source": [
        "<img src=\"./ccsf.png\" alt=\"CCSF Logo\" width=200px style=\"margin:0px -5px\">"
      ]
    },
    {
      "cell_type": "markdown",
      "id": "41d54908-3356-43bc-9be0-f17b5c503d5e",
      "metadata": {
        "id": "41d54908-3356-43bc-9be0-f17b5c503d5e"
      },
      "source": [
        "# Lecture 22: Causality"
      ]
    },
    {
      "cell_type": "markdown",
      "id": "28fe885e-74cf-4824-b05f-a565cbbee4d4",
      "metadata": {
        "id": "28fe885e-74cf-4824-b05f-a565cbbee4d4"
      },
      "source": [
        "Associated Textbook Sections: [12.2](https://ccsf-math-108.github.io/textbook/chapters/12/2/Causality.html)"
      ]
    },
    {
      "cell_type": "markdown",
      "id": "99628499-c12e-489f-98c0-6afe755a8986",
      "metadata": {
        "id": "99628499-c12e-489f-98c0-6afe755a8986"
      },
      "source": [
        "---"
      ]
    },
    {
      "cell_type": "markdown",
      "id": "ce5642b7-2f83-453c-b8b0-0ec96dd0fd9b",
      "metadata": {
        "id": "ce5642b7-2f83-453c-b8b0-0ec96dd0fd9b"
      },
      "source": [
        "## Outline"
      ]
    },
    {
      "cell_type": "markdown",
      "id": "ec00bcd6-a690-4afc-a7e0-df32e07fa097",
      "metadata": {
        "id": "ec00bcd6-a690-4afc-a7e0-df32e07fa097"
      },
      "source": [
        "* [Causality](#Causality)\n",
        "* [An Error Probability](#An-Error-Probability)"
      ]
    },
    {
      "cell_type": "markdown",
      "id": "47ca1d09-c6c3-44c5-a909-5a36525f9ee2",
      "metadata": {
        "id": "47ca1d09-c6c3-44c5-a909-5a36525f9ee2"
      },
      "source": [
        "---"
      ]
    },
    {
      "cell_type": "markdown",
      "id": "cbef6791-743c-4af2-bd27-3f05e0872b3d",
      "metadata": {
        "id": "cbef6791-743c-4af2-bd27-3f05e0872b3d"
      },
      "source": [
        "## Set Up the Notebook"
      ]
    },
    {
      "cell_type": "code",
      "execution_count": null,
      "id": "b1adc5ac-9188-4ab4-97d4-911c8db69a86",
      "metadata": {
        "id": "b1adc5ac-9188-4ab4-97d4-911c8db69a86"
      },
      "outputs": [],
      "source": [
        "from datascience import *\n",
        "import numpy as np\n",
        "%matplotlib inline\n",
        "import matplotlib.pyplot as plt\n",
        "plt.style.use('fivethirtyeight')"
      ]
    },
    {
      "cell_type": "markdown",
      "id": "c2db4cfd-7f78-4253-a81b-d2baf0dcf3d9",
      "metadata": {
        "id": "c2db4cfd-7f78-4253-a81b-d2baf0dcf3d9"
      },
      "source": [
        "---"
      ]
    },
    {
      "cell_type": "markdown",
      "id": "727279e3-4bbf-4d2d-b20f-1472bf800ce8",
      "metadata": {
        "id": "727279e3-4bbf-4d2d-b20f-1472bf800ce8"
      },
      "source": [
        "## Causality"
      ]
    },
    {
      "cell_type": "markdown",
      "id": "e94ea3fc-c9f0-454a-805e-9cc48e4c856e",
      "metadata": {
        "id": "e94ea3fc-c9f0-454a-805e-9cc48e4c856e"
      },
      "source": [
        "---"
      ]
    },
    {
      "cell_type": "markdown",
      "id": "37f95916-64cd-45b3-9939-7bb4ab181181",
      "metadata": {
        "id": "37f95916-64cd-45b3-9939-7bb4ab181181"
      },
      "source": [
        "### Randomized Controlled Experiment"
      ]
    },
    {
      "cell_type": "markdown",
      "id": "d67dc302-6677-428f-ba23-ec1e8d0a85c6",
      "metadata": {
        "id": "d67dc302-6677-428f-ba23-ec1e8d0a85c6"
      },
      "source": [
        "* Sample A: control group\n",
        "* Sample B: treatment group\n",
        "* If the treatment and control groups are selected at random, then you can make causal conclusions.\n",
        "* Any difference in outcomes between the two groups could be due to chance or the treatment.\n"
      ]
    },
    {
      "cell_type": "markdown",
      "id": "8b8532bd-45bc-4e2d-9086-f6b7e2677cde",
      "metadata": {
        "id": "8b8532bd-45bc-4e2d-9086-f6b7e2677cde"
      },
      "source": [
        "---"
      ]
    },
    {
      "cell_type": "markdown",
      "id": "3f6da0ea-9103-459e-8007-37827246327e",
      "metadata": {
        "id": "3f6da0ea-9103-459e-8007-37827246327e"
      },
      "source": [
        "### Demo: Randomized Control Experiment"
      ]
    },
    {
      "cell_type": "markdown",
      "id": "4436fb17-9d47-4c94-b06c-d7049c9b5822",
      "metadata": {
        "deletable": false,
        "editable": false,
        "id": "4436fb17-9d47-4c94-b06c-d7049c9b5822"
      },
      "source": [
        "* Load the data in `bta.csv` that is associated with [an experiment to assess whether or not Botox can be used to reduce pain](https://journals.lww.com/clinicalpain/Abstract/2006/01000/The_Effect_of_Small_Doses_of_Botulinum_Toxin_A_on.11.aspx) (Neck-Shoulder Myofascial Pain Syndrome). The control group received a saline solution, while the treatment group received botulinum toxin type A. A 1 result means that there was a reduction in pain, and a 0 result means that there wasn't a reduction in pain.\n",
        "* Compare the results for the two groups."
      ]
    },
    {
      "cell_type": "code",
      "execution_count": null,
      "id": "45f87c09-d11e-4864-b547-8fd1ca3a6605",
      "metadata": {
        "tags": [],
        "id": "45f87c09-d11e-4864-b547-8fd1ca3a6605",
        "outputId": "a45cca53-0f33-494e-d0af-42c2ddb8d2da"
      },
      "outputs": [
        {
          "data": {
            "text/html": [
              "<table border=\"1\" class=\"dataframe\">\n",
              "    <thead>\n",
              "        <tr>\n",
              "            <th>Group</th> <th>Result</th>\n",
              "        </tr>\n",
              "    </thead>\n",
              "    <tbody>\n",
              "        <tr>\n",
              "            <td>Control</td> <td>1     </td>\n",
              "        </tr>\n",
              "        <tr>\n",
              "            <td>Control</td> <td>1     </td>\n",
              "        </tr>\n",
              "        <tr>\n",
              "            <td>Control</td> <td>0     </td>\n",
              "        </tr>\n",
              "        <tr>\n",
              "            <td>Control</td> <td>0     </td>\n",
              "        </tr>\n",
              "        <tr>\n",
              "            <td>Control</td> <td>0     </td>\n",
              "        </tr>\n",
              "        <tr>\n",
              "            <td>Control</td> <td>0     </td>\n",
              "        </tr>\n",
              "        <tr>\n",
              "            <td>Control</td> <td>0     </td>\n",
              "        </tr>\n",
              "        <tr>\n",
              "            <td>Control</td> <td>0     </td>\n",
              "        </tr>\n",
              "        <tr>\n",
              "            <td>Control</td> <td>0     </td>\n",
              "        </tr>\n",
              "        <tr>\n",
              "            <td>Control</td> <td>0     </td>\n",
              "        </tr>\n",
              "    </tbody>\n",
              "</table>\n",
              "<p>... (21 rows omitted)</p>"
            ],
            "text/plain": [
              "Group   | Result\n",
              "Control | 1\n",
              "Control | 1\n",
              "Control | 0\n",
              "Control | 0\n",
              "Control | 0\n",
              "Control | 0\n",
              "Control | 0\n",
              "Control | 0\n",
              "Control | 0\n",
              "Control | 0\n",
              "... (21 rows omitted)"
            ]
          },
          "execution_count": 2,
          "metadata": {},
          "output_type": "execute_result"
        }
      ],
      "source": [
        "botox = Table.read_table('bta.csv')\n",
        "botox"
      ]
    },
    {
      "cell_type": "code",
      "execution_count": null,
      "id": "2525ecc5-90ae-4188-8cf9-0c121c4e1961",
      "metadata": {
        "tags": [],
        "id": "2525ecc5-90ae-4188-8cf9-0c121c4e1961",
        "outputId": "77c1f0e3-8d07-4655-83cf-65c6d6b2a974"
      },
      "outputs": [
        {
          "data": {
            "text/html": [
              "<table border=\"1\" class=\"dataframe\">\n",
              "    <thead>\n",
              "        <tr>\n",
              "            <th>Group</th> <th>0.0</th> <th>1.0</th>\n",
              "        </tr>\n",
              "    </thead>\n",
              "    <tbody>\n",
              "        <tr>\n",
              "            <td>Control  </td> <td>14  </td> <td>2   </td>\n",
              "        </tr>\n",
              "        <tr>\n",
              "            <td>Treatment</td> <td>6   </td> <td>9   </td>\n",
              "        </tr>\n",
              "    </tbody>\n",
              "</table>"
            ],
            "text/plain": [
              "Group     | 0.0  | 1.0\n",
              "Control   | 14   | 2\n",
              "Treatment | 6    | 9"
            ]
          },
          "execution_count": 3,
          "metadata": {},
          "output_type": "execute_result"
        }
      ],
      "source": [
        "botox.pivot('Result','Group')"
      ]
    },
    {
      "cell_type": "code",
      "execution_count": null,
      "id": "68a71045-617e-4ab7-86e9-3fb9da96df4e",
      "metadata": {
        "tags": [],
        "id": "68a71045-617e-4ab7-86e9-3fb9da96df4e",
        "outputId": "936b2697-39d3-4ff1-a3fa-9cd7b763f734"
      },
      "outputs": [
        {
          "data": {
            "text/html": [
              "<table border=\"1\" class=\"dataframe\">\n",
              "    <thead>\n",
              "        <tr>\n",
              "            <th>Group</th> <th>Result average</th>\n",
              "        </tr>\n",
              "    </thead>\n",
              "    <tbody>\n",
              "        <tr>\n",
              "            <td>Control  </td> <td>0.125         </td>\n",
              "        </tr>\n",
              "        <tr>\n",
              "            <td>Treatment</td> <td>0.6           </td>\n",
              "        </tr>\n",
              "    </tbody>\n",
              "</table>"
            ],
            "text/plain": [
              "Group     | Result average\n",
              "Control   | 0.125\n",
              "Treatment | 0.6"
            ]
          },
          "execution_count": 4,
          "metadata": {},
          "output_type": "execute_result"
        }
      ],
      "source": [
        "botox.group('Group',np.average)"
      ]
    },
    {
      "cell_type": "markdown",
      "id": "c2ed12b3-6f67-454b-8421-3978a012f487",
      "metadata": {
        "id": "c2ed12b3-6f67-454b-8421-3978a012f487"
      },
      "source": [
        "0.125 is 2/16 and 0.6 is 9/15 .VB"
      ]
    },
    {
      "cell_type": "markdown",
      "id": "03af1c45-c6fa-427f-a6d2-e6b4d3fc1b62",
      "metadata": {
        "id": "03af1c45-c6fa-427f-a6d2-e6b4d3fc1b62"
      },
      "source": [
        "---"
      ]
    },
    {
      "cell_type": "markdown",
      "id": "1d557cfd-179c-432f-9ef2-b640c980c457",
      "metadata": {
        "id": "1d557cfd-179c-432f-9ef2-b640c980c457"
      },
      "source": [
        "### Before the Randomization"
      ]
    },
    {
      "cell_type": "markdown",
      "id": "1756ef54-2b81-4512-a74a-51ed6f95740f",
      "metadata": {
        "id": "1756ef54-2b81-4512-a74a-51ed6f95740f"
      },
      "source": [
        "* Population: All people who have neck pain\n",
        "* Sample: 31 people from the population\n",
        "    * 15 were **randomly** assigned to the treatment\n",
        "    * 16 were **randomly** assigned to the control\n",
        "\n",
        "```mermaid\n",
        "graph LR\n",
        "    A[\"Sample of Size 31\"] -->|\"Random Assigment\"| B[\"16 Tickets - Control\"]\n",
        "    B --> D{\"Hypothesis Test\"}\n",
        "    C[\"15 tickets - Treatment\"] --> D\n",
        "    A -->|\"Random Assigment\"| C\n",
        "```\n",
        "\n",
        "_It was as if there were 15 tickets that said 'Treatment' and 16 that said 'Control' put into a hat and all subjects drew their group out of a hat._"
      ]
    },
    {
      "cell_type": "markdown",
      "id": "4efaba48-408d-4037-93c8-b23228ceeb6c",
      "metadata": {
        "id": "4efaba48-408d-4037-93c8-b23228ceeb6c"
      },
      "source": [
        "---"
      ]
    },
    {
      "cell_type": "markdown",
      "id": "f84ed0f7-99c5-43e0-be72-891f67c5a1a4",
      "metadata": {
        "id": "f84ed0f7-99c5-43e0-be72-891f67c5a1a4"
      },
      "source": [
        "### The Hypotheses"
      ]
    },
    {
      "cell_type": "markdown",
      "id": "83b008ab-9857-49c3-bb1f-c537893bd7c0",
      "metadata": {
        "id": "83b008ab-9857-49c3-bb1f-c537893bd7c0"
      },
      "source": [
        "* Null: There is no difference between the treatment and the control in how they reduce neck pain.\n",
        "* Alternative: The treatment (botox) has a positive effect on reducing neck pain."
      ]
    },
    {
      "cell_type": "markdown",
      "id": "9bd216ac-2e34-4aa6-9f21-9d35473325fe",
      "metadata": {
        "id": "9bd216ac-2e34-4aa6-9f21-9d35473325fe"
      },
      "source": [
        "---"
      ]
    },
    {
      "cell_type": "markdown",
      "id": "159419e5-27d7-408c-8310-181b4a1dd640",
      "metadata": {
        "id": "159419e5-27d7-408c-8310-181b4a1dd640"
      },
      "source": [
        "### Demo: Testing the Hypothesis"
      ]
    },
    {
      "cell_type": "markdown",
      "id": "31291e0c-5c01-4c17-9c52-45ea2d2a6100",
      "metadata": {
        "deletable": false,
        "editable": false,
        "id": "31291e0c-5c01-4c17-9c52-45ea2d2a6100"
      },
      "source": [
        "* Compute the observed difference in results for the treatment and control groups using the `difference_of_means` function.\n",
        "* Use `one_simulated_difference` to determine the chance of observing the above sample data if it were true that Botox had no impact on pain reduction."
      ]
    },
    {
      "cell_type": "code",
      "execution_count": null,
      "id": "9aff30ff-a324-4933-8e91-58a08ad24bba",
      "metadata": {
        "tags": [],
        "id": "9aff30ff-a324-4933-8e91-58a08ad24bba"
      },
      "outputs": [],
      "source": [
        "def difference_of_means(table, numeric_label, group_label):\n",
        "    '''\n",
        "    Takes: name of table, column label of numerical variable,\n",
        "    column label of group-label variable\n",
        "\n",
        "    Returns: Difference of means of the two groups\n",
        "    '''\n",
        "\n",
        "    #table with the two relevant columns\n",
        "    reduced = table.select(numeric_label, group_label)\n",
        "\n",
        "    # table containing group means\n",
        "    means_table = reduced.group(group_label, np.average)\n",
        "\n",
        "    # array of group means\n",
        "    means = means_table.column(1)\n",
        "\n",
        "    return means.item(1) - means.item(0)"
      ]
    },
    {
      "cell_type": "code",
      "execution_count": null,
      "id": "07e956f7-2e1b-49e3-bb61-b4936136245d",
      "metadata": {
        "tags": [],
        "id": "07e956f7-2e1b-49e3-bb61-b4936136245d",
        "outputId": "48a96ac0-7f93-4115-d057-d5270ba889d8"
      },
      "outputs": [
        {
          "data": {
            "text/plain": [
              "0.475"
            ]
          },
          "execution_count": 6,
          "metadata": {},
          "output_type": "execute_result"
        }
      ],
      "source": [
        "observed_diff = difference_of_means(botox, \"Result\", \"Group\")\n",
        "observed_diff"
      ]
    },
    {
      "cell_type": "code",
      "execution_count": null,
      "id": "f0ce4361-a1b0-4d47-a794-30a77a95176f",
      "metadata": {
        "tags": [],
        "id": "f0ce4361-a1b0-4d47-a794-30a77a95176f"
      },
      "outputs": [],
      "source": [
        "def one_simulated_difference(table, numeric_label, group_label):\n",
        "    '''\n",
        "    Takes: name of table, column label of numerical variable,\n",
        "    column label of group-label variable\n",
        "\n",
        "    Returns: Difference of means of the two groups after shuffling labels\n",
        "    '''\n",
        "\n",
        "    # array of shuffled labels\n",
        "    shuffled_labels = table.sample(\n",
        "        with_replacement = False).column(group_label)\n",
        "\n",
        "    # table of numerical variable and shuffled labels\n",
        "    shuffled_table = table.select(numeric_label).with_column(\n",
        "        'Shuffled Label', shuffled_labels)\n",
        "\n",
        "    return difference_of_means(\n",
        "        shuffled_table, numeric_label, 'Shuffled Label')"
      ]
    },
    {
      "cell_type": "code",
      "execution_count": null,
      "id": "5df51891-2c3b-426a-8ed9-7bedc126854c",
      "metadata": {
        "tags": [],
        "id": "5df51891-2c3b-426a-8ed9-7bedc126854c",
        "outputId": "940ccd20-c171-4a4a-cd84-97f57d66c2ad"
      },
      "outputs": [
        {
          "data": {
            "text/plain": [
              "0.3458333333333333"
            ]
          },
          "execution_count": 8,
          "metadata": {},
          "output_type": "execute_result"
        }
      ],
      "source": [
        "one_simulated_difference(botox, 'Result', 'Group')"
      ]
    },
    {
      "cell_type": "code",
      "execution_count": null,
      "id": "05d1e89e-54ba-4c30-98d2-65c59fdbe903",
      "metadata": {
        "tags": [],
        "id": "05d1e89e-54ba-4c30-98d2-65c59fdbe903"
      },
      "outputs": [],
      "source": [
        "simulated_diffs = make_array()\n",
        "reps = 10_000\n",
        "\n",
        "for i in np.arange(reps):\n",
        "    sim_diff = one_simulated_difference(botox, 'Result', 'Group')\n",
        "    simulated_diffs = np.append(simulated_diffs, sim_diff)"
      ]
    },
    {
      "cell_type": "code",
      "execution_count": null,
      "id": "a888a2dc-1a9a-49af-ae5c-96a89da2ebaa",
      "metadata": {
        "tags": [],
        "id": "a888a2dc-1a9a-49af-ae5c-96a89da2ebaa",
        "outputId": "1fe9ce17-16ee-46ab-91ae-1a06ee86f5b5"
      },
      "outputs": [
        {
          "data": {
            "image/png": "[encoded data removed]",
            "text/plain": [
              "<Figure size 600x400 with 1 Axes>"
            ]
          },
          "metadata": {},
          "output_type": "display_data"
        }
      ],
      "source": [
        "col_name = 'Distances between groups'\n",
        "Table().with_column(col_name, simulated_diffs).hist(col_name)\n",
        "plt.scatter(observed_diff, 0, color=\"red\", s=60, zorder=3);"
      ]
    },
    {
      "cell_type": "code",
      "execution_count": null,
      "id": "1ce577aa-359b-4004-acfb-a08266107f08",
      "metadata": {
        "tags": [],
        "id": "1ce577aa-359b-4004-acfb-a08266107f08",
        "outputId": "85f9db51-9567-4dc6-ba03-0cfb7b9b2bae"
      },
      "outputs": [
        {
          "data": {
            "text/plain": [
              "0.0089999999999999993"
            ]
          },
          "execution_count": 11,
          "metadata": {},
          "output_type": "execute_result"
        }
      ],
      "source": [
        "p_value = sum(simulated_diffs >= observed_diff) / len(simulated_diffs)\n",
        "np.round(p_value, 3)"
      ]
    },
    {
      "cell_type": "markdown",
      "id": "c9e72ea0-b2e3-4f08-9899-b2a4d76a2912",
      "metadata": {
        "id": "c9e72ea0-b2e3-4f08-9899-b2a4d76a2912"
      },
      "source": [
        "if you want to see if the which group is different etc don't use absolute value , we use abs only when we don't care about which one is different.VB"
      ]
    },
    {
      "cell_type": "markdown",
      "id": "33b9b5c7-8260-4ac9-9e15-accbf4e1abba",
      "metadata": {
        "id": "33b9b5c7-8260-4ac9-9e15-accbf4e1abba"
      },
      "source": [
        "---"
      ]
    },
    {
      "cell_type": "markdown",
      "id": "4984a06f-6e4c-4bee-b50b-fffd305969aa",
      "metadata": {
        "id": "4984a06f-6e4c-4bee-b50b-fffd305969aa"
      },
      "source": [
        "### Random Assignment & Shuffling"
      ]
    },
    {
      "cell_type": "markdown",
      "id": "c0ebc8c5-dab1-4fd8-b115-310ebbc48038",
      "metadata": {
        "id": "c0ebc8c5-dab1-4fd8-b115-310ebbc48038"
      },
      "source": [
        "<img src=\"./random_assignment_and_shuffling.png\" width=80%>"
      ]
    },
    {
      "cell_type": "markdown",
      "id": "c9ece099-533b-4a14-b568-c994ba77c25b",
      "metadata": {
        "id": "c9ece099-533b-4a14-b568-c994ba77c25b"
      },
      "source": [
        "---"
      ]
    },
    {
      "cell_type": "markdown",
      "id": "c5a2949a-1c63-4049-a97d-3b64886e3d6a",
      "metadata": {
        "id": "c5a2949a-1c63-4049-a97d-3b64886e3d6a"
      },
      "source": [
        "## An Error Probability"
      ]
    },
    {
      "cell_type": "markdown",
      "id": "301222a4-8cef-47c2-8776-e701f523dd6d",
      "metadata": {
        "id": "301222a4-8cef-47c2-8776-e701f523dd6d"
      },
      "source": [
        "---"
      ]
    },
    {
      "cell_type": "markdown",
      "id": "2b04737c-1ede-4a96-98aa-5309cc07d6bc",
      "metadata": {
        "id": "2b04737c-1ede-4a96-98aa-5309cc07d6bc"
      },
      "source": [
        "### Can the Conclusion be Wrong?"
      ]
    },
    {
      "cell_type": "markdown",
      "id": "7eced2b8-57e4-42ff-9e29-6c53f9a1dafa",
      "metadata": {
        "id": "7eced2b8-57e4-42ff-9e29-6c53f9a1dafa"
      },
      "source": [
        "| | Null is True | Alternative is True |\n",
        "| --- | ----------- | ---|\n",
        "| (Type I Error) Test favors the Null | ✅ | ❌ |\n",
        "| (Type II Error) Test favors the Alternative | ❌ | ✅ |"
      ]
    },
    {
      "cell_type": "markdown",
      "id": "26989ccf-4405-4149-821b-a75ce93469d0",
      "metadata": {
        "id": "26989ccf-4405-4149-821b-a75ce93469d0"
      },
      "source": [
        "* Type I Error - False Positive\n",
        "* Type II Error - False Negative"
      ]
    },
    {
      "cell_type": "markdown",
      "id": "f2669caf-8e78-4cd5-9e84-3a3a14af866d",
      "metadata": {
        "id": "f2669caf-8e78-4cd5-9e84-3a3a14af866d"
      },
      "source": [
        "---"
      ]
    },
    {
      "cell_type": "markdown",
      "id": "90043342-663c-4c0b-85ae-905de33da66a",
      "metadata": {
        "id": "90043342-663c-4c0b-85ae-905de33da66a"
      },
      "source": [
        "### An Error Probability"
      ]
    },
    {
      "cell_type": "markdown",
      "id": "ed3a896f-1baa-47d2-9079-a59b015369fe",
      "metadata": {
        "id": "ed3a896f-1baa-47d2-9079-a59b015369fe"
      },
      "source": [
        "* The cutoff for the P-value is the Type I error probability.\n",
        "* If your cutoff is 5% and the null hypothesis happens to be true, then there is about a 5% chance that your test will reject the null hypothesis. (Type I Error: 5%)\n",
        "* The chance of making a Type II error is the complement value to the statistical power of the test. You are not expected to know about the power of a test or what the chance of making a Type II error is in this class."
      ]
    },
    {
      "cell_type": "markdown",
      "id": "c594ac17-3672-4219-ae16-cd03bc248aed",
      "metadata": {
        "id": "c594ac17-3672-4219-ae16-cd03bc248aed"
      },
      "source": [
        "---"
      ]
    },
    {
      "cell_type": "markdown",
      "id": "6065f143-1bb2-4985-b48d-5d8b30d28c3b",
      "metadata": {
        "id": "6065f143-1bb2-4985-b48d-5d8b30d28c3b"
      },
      "source": [
        "### P-value cutoff vs P-value"
      ]
    },
    {
      "cell_type": "markdown",
      "id": "923916df-9062-45a1-86ef-12cf466d6da8",
      "metadata": {
        "id": "923916df-9062-45a1-86ef-12cf466d6da8"
      },
      "source": [
        "* P-value cutoff\n",
        "    * Does not depend on observed data or simulation\n",
        "    * Decide on it before seeing the results\n",
        "    * Conventional values at 5% and 1%\n",
        "    * Probability of hypothesis testing making an error\n",
        "* P-value\n",
        "    * Depends on the observed data and simulation\n",
        "    * Probability under the null hypothesis that the test statistic is the observed value or further towards the alternative\n"
      ]
    },
    {
      "cell_type": "markdown",
      "id": "960ed476-328b-42e5-8149-b41d0c6495ac",
      "metadata": {
        "id": "960ed476-328b-42e5-8149-b41d0c6495ac"
      },
      "source": [
        "---"
      ]
    },
    {
      "cell_type": "markdown",
      "id": "fc64dccf-16da-4422-bc1e-410d6aef150f",
      "metadata": {
        "editable": true,
        "tags": [],
        "id": "fc64dccf-16da-4422-bc1e-410d6aef150f"
      },
      "source": [
        "## Attribution"
      ]
    },
    {
      "cell_type": "markdown",
      "id": "25d9dcab-0608-441a-938c-b5c693bf9ee4",
      "metadata": {
        "id": "25d9dcab-0608-441a-938c-b5c693bf9ee4"
      },
      "source": [
        "This content is licensed under the <a href=\"https://creativecommons.org/licenses/by-nc-sa/4.0/\">Creative Commons Attribution-NonCommercial-ShareAlike 4.0 International License (CC BY-NC-SA 4.0)</a> and derived from the <a href=\"https://www.data8.org/\">Data 8: The Foundations of Data Science</a> offered by the University of California, Berkeley.\n",
        "\n",
        "<img src=\"./by-nc-sa.png\" width=100px>"
      ]
    }
  ],
  "metadata": {
    "kernelspec": {
      "display_name": "Python 3 (ipykernel)",
      "language": "python",
      "name": "python3"
    },
    "language_info": {
      "codemirror_mode": {
        "name": "ipython",
        "version": 3
      },
      "file_extension": ".py",
      "mimetype": "text/x-python",
      "name": "python",
      "nbconvert_exporter": "python",
      "pygments_lexer": "ipython3",
      "version": "3.11.9"
    },
    "otter": {
      "OK_FORMAT": true,
      "tests": {}
    },
    "colab": {
      "provenance": [],
      "include_colab_link": true
    }
  },
  "nbformat": 4,
  "nbformat_minor": 5
}