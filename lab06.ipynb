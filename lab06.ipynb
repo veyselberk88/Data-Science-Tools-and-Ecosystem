{
  "cells": [
    {
      "cell_type": "markdown",
      "metadata": {
        "id": "view-in-github",
        "colab_type": "text"
      },
      "source": [
        "<a href=\"https://colab.research.google.com/github/veyselberk88/Data-Science-Tools-and-Ecosystem/blob/main/lab06.ipynb\" target=\"_parent\"><img src=\"https://colab.research.google.com/assets/colab-badge.svg\" alt=\"Open In Colab\"/></a>"
      ]
    },
    {
      "cell_type": "code",
      "execution_count": null,
      "metadata": {
        "deletable": false,
        "editable": false,
        "id": "scGLFgazOSJh"
      },
      "outputs": [],
      "source": [
        "# Initialize Otter\n",
        "import otter\n",
        "grader = otter.Notebook(\"lab06.ipynb\")"
      ]
    },
    {
      "cell_type": "markdown",
      "metadata": {
        "id": "nNZiNhy5OSJk"
      },
      "source": [
        "<img src=\"./ccsf.png\" alt=\"CCSF Logo\" width=200px style=\"margin:0px -5px\">"
      ]
    },
    {
      "cell_type": "markdown",
      "metadata": {
        "id": "gqg_0mQ_OSJl"
      },
      "source": [
        "# Lab 06: Simulation and Chance"
      ]
    },
    {
      "cell_type": "markdown",
      "metadata": {
        "id": "9WtHgxe1OSJm"
      },
      "source": [
        "## References"
      ]
    },
    {
      "cell_type": "markdown",
      "metadata": {
        "id": "NrRsABZEOSJm"
      },
      "source": [
        "* [Sections 9.3 - 9.4 of the Textbook](https://ccsf-math-108.github.io/textbook/chapters/09/4/Monty_Hall_Problem.html)\n",
        "* [Sections 10.0 - 10.4 of the Textbook](https://ccsf-math-108.github.io/textbook/chapters/10/Sampling_and_Empirical_Distributions.html)\n",
        "* [datascience Documentation](https://datascience.readthedocs.io/)"
      ]
    },
    {
      "cell_type": "markdown",
      "metadata": {
        "id": "1pW-9fSyOSJn"
      },
      "source": [
        "---"
      ]
    },
    {
      "cell_type": "markdown",
      "metadata": {
        "id": "jleCamF8OSJo"
      },
      "source": [
        "## Lab Assignment Reminders"
      ]
    },
    {
      "cell_type": "markdown",
      "metadata": {
        "id": "8YUrJ3kiOSJo"
      },
      "source": [
        "- 🚨 Make sure to run the code cell at the top of this notebook that starts with `# Initialize Otter` to load the auto-grader.\n",
        "- Your tasks are categorized as auto-graded (📍) and manually graded (📍🔎):\n",
        "    - **For all auto-graded tasks:**\n",
        "        - Replace the `...` in the provided code cell with your own code.\n",
        "        - Run the `grader.check` code cell to execute tests on your code.\n",
        "        - There are no hidden auto-grader tests in the lab assignments. This means if you pass the tests, you can assume you've completed the task successfully.\n",
        "    - **For all manually graded tasks:**\n",
        "        - You may need to provide your own response to the provided prompt. Replace the template text \"_Type your answer here, replacing this text._\" with your own words.\n",
        "        - You might need to produce a graphic or another output using code. Replace the `...` in the code cell to generate the image, table, etc.\n",
        "        - In either case, check your response with a classmate, a tutor, or the instructor before moving on.\n",
        "- Throughout this assignment and all future ones, please **do not re-assign variables** throughout the notebook! _For example, if you use `max_temperature` in your answer to one question, do not reassign it later on. Otherwise, you may fail tests that you thought you were passing previously!_\n",
        "- You may [submit](#Submit-Your-Assignment-to-Canvas) this assignment as many times as you want before the deadline. Your instructor will score the last version you submit once the deadline has passed.\n",
        "- **Collaborating on labs is encouraged!** You should rarely remain stuck for more than a few minutes on questions in labs, so ask an instructor or classmate for help. (Explaining things is beneficial, too -- the best way to solidify your knowledge of a subject is to explain it.) However, please don't just share answers."
      ]
    },
    {
      "cell_type": "markdown",
      "metadata": {
        "id": "03ASzaPrOSJr"
      },
      "source": [
        "---"
      ]
    },
    {
      "cell_type": "markdown",
      "metadata": {
        "id": "Y62i2RjoOSJr"
      },
      "source": [
        "## Configure the Notebook"
      ]
    },
    {
      "cell_type": "markdown",
      "metadata": {
        "id": "VdGEn1UtOSJs"
      },
      "source": [
        "Run the following cell to configure this Notebook."
      ]
    },
    {
      "cell_type": "code",
      "execution_count": null,
      "metadata": {
        "id": "mwBQmKdrOSJs"
      },
      "outputs": [],
      "source": [
        "from datascience import *\n",
        "import numpy as np\n",
        "%matplotlib inline\n",
        "import matplotlib.pyplot as plt\n",
        "plt.style.use('fivethirtyeight')"
      ]
    },
    {
      "cell_type": "markdown",
      "metadata": {
        "id": "Bos8XJHQOSJt"
      },
      "source": [
        "---"
      ]
    },
    {
      "cell_type": "markdown",
      "metadata": {
        "id": "3OwwKhZZOSJt"
      },
      "source": [
        "## Probability"
      ]
    },
    {
      "cell_type": "markdown",
      "metadata": {
        "id": "n61Rhvo5OSJt"
      },
      "source": [
        "### Electric Board"
      ]
    },
    {
      "cell_type": "markdown",
      "metadata": {
        "id": "vqabUtS7OSJt"
      },
      "source": [
        "An electronic board with lights contains 10 equal-sized zones labeled with values from 1 to 10.\n",
        "\n",
        "<img src=\"./number_grid.png\" alt=\"a 2x5 grid of numbers 1 - 10\" width=40%></img>\n",
        "\n",
        "The board illuminates a sequence of numbers at random. First, a number is lit up with a pink color, then a number is lit up with an orange color where the second number is different from the first. For example, the following image shows 6 lit up with a pink color followed by 5 lit up with an orange color.\n",
        "\n",
        "<img src=\"./number_grid_color.png\" alt=\"a 2x5 grid of numbers 1 - 10 where 6 is pink and 5 is orange\" width=40%></img>\n",
        "\n",
        "After the sequence of two numbers is shown, the board resets.\n",
        "\n",
        "<img src=\"./number_grid.png\" alt=\"a 2x5 grid of numbers 1 - 10\" width=40%></img>\n",
        "\n",
        "Use this situation to practice with the basic ideas of probability that you've learned so far."
      ]
    },
    {
      "cell_type": "markdown",
      "metadata": {
        "id": "Ek-2vmZkOSJt"
      },
      "source": [
        "---"
      ]
    },
    {
      "cell_type": "markdown",
      "metadata": {
        "id": "dARuRj5POSJu"
      },
      "source": [
        "### A Definition of Probability"
      ]
    },
    {
      "cell_type": "markdown",
      "metadata": {
        "id": "VLOC62y7OSJu"
      },
      "source": [
        "Given an experiment where all possible outcomes are equally likely, the probability of an event occurring is calculated by dividing the number of ways that event can occur by the total number of possible outcomes."
      ]
    },
    {
      "cell_type": "markdown",
      "metadata": {
        "id": "rGG7Qt9yOSJu"
      },
      "source": [
        "---"
      ]
    },
    {
      "cell_type": "markdown",
      "metadata": {
        "tags": [],
        "id": "Y44KuJdSOSJu"
      },
      "source": [
        "### Task 01 📍"
      ]
    },
    {
      "cell_type": "markdown",
      "metadata": {
        "deletable": false,
        "editable": false,
        "id": "LB16aHX9OSJu"
      },
      "source": [
        "A sequence of two numbers is illuminated on the board as described above. What is the probability that the first number in the sequence is 6?\n",
        "\n",
        "Assign `chance_6` to a value or expression that represents this probability value. The value should be a number between `0` and `1`, inclusive."
      ]
    },
    {
      "cell_type": "code",
      "execution_count": null,
      "metadata": {
        "tags": [],
        "id": "65vhLK0wOSJv",
        "outputId": "a8f31464-5574-46ff-b57f-e8753cfaacfb"
      },
      "outputs": [
        {
          "data": {
            "text/plain": [
              "0.1"
            ]
          },
          "execution_count": 3,
          "metadata": {},
          "output_type": "execute_result"
        }
      ],
      "source": [
        "chance_6 = 0.1\n",
        "\n",
        "chance_6"
      ]
    },
    {
      "cell_type": "code",
      "execution_count": null,
      "metadata": {
        "deletable": false,
        "editable": false,
        "id": "ISdFaZRLOSJw",
        "outputId": "c0117e23-76ef-4c86-e649-19f7d198aba9"
      },
      "outputs": [
        {
          "data": {
            "text/html": [
              "<p><strong><pre style='display: inline;'>task_01</pre></strong> passed! 💯</p><p><strong><pre style='display: inline;'>task_01 - 1</pre> message:</strong> ✅ chance_6 is a number between 0 and 1, inclusive.</p><p><strong><pre style='display: inline;'>task_01 - 2</pre> message:</strong> ✅ Your value for chance_6 is correct!</p>"
            ],
            "text/plain": [
              "task_01 results: All test cases passed!\n",
              "task_01 - 1 message: ✅ chance_6 is a number between 0 and 1, inclusive.\n",
              "task_01 - 2 message: ✅ Your value for chance_6 is correct!"
            ]
          },
          "execution_count": 4,
          "metadata": {},
          "output_type": "execute_result"
        }
      ],
      "source": [
        "grader.check(\"task_01\")"
      ]
    },
    {
      "cell_type": "markdown",
      "metadata": {
        "id": "pH4OVTddOSJx"
      },
      "source": [
        "---"
      ]
    },
    {
      "cell_type": "markdown",
      "metadata": {
        "id": "F72nK_lPOSJx"
      },
      "source": [
        "### The Multiplication Rule"
      ]
    },
    {
      "cell_type": "markdown",
      "metadata": {
        "id": "TMKdBtw7OSJx"
      },
      "source": [
        "To calculate the probability of one event happening and then another event happening, multiply the probability of the first event by the probability of the second event given that the first event happened. This is generally referred to as the multiplication rule."
      ]
    },
    {
      "cell_type": "markdown",
      "metadata": {
        "id": "BW_wp3oUOSJx"
      },
      "source": [
        "---"
      ]
    },
    {
      "cell_type": "markdown",
      "metadata": {
        "tags": [],
        "id": "6Fvzw03gOSJx"
      },
      "source": [
        "### Task 02 📍"
      ]
    },
    {
      "cell_type": "markdown",
      "metadata": {
        "deletable": false,
        "editable": false,
        "id": "Qofscsk_OSJy"
      },
      "source": [
        "Consider the sequence of two numbers illuminated on this board as described above (first the 6, and then the 5). What is the probability that this sequence (6, 5) occurs?\n",
        "\n",
        "Assign `chance_65` to a value or expression that represents this probability value. The value should be a number between `0` and `1`, inclusive."
      ]
    },
    {
      "cell_type": "code",
      "execution_count": null,
      "metadata": {
        "tags": [],
        "id": "jqppShHLOSJy",
        "outputId": "a2a4f2ea-038b-4362-a800-dabf01aa5c54"
      },
      "outputs": [
        {
          "data": {
            "text/plain": [
              "0.011111111111111112"
            ]
          },
          "execution_count": 7,
          "metadata": {},
          "output_type": "execute_result"
        }
      ],
      "source": [
        "chance_65 = (1/10)*(1/9)\n",
        "chance_65"
      ]
    },
    {
      "cell_type": "code",
      "execution_count": null,
      "metadata": {
        "deletable": false,
        "editable": false,
        "id": "rma7jxyHOSJz",
        "outputId": "31f2e5ce-c93c-4c9b-8b46-57c2388926ca"
      },
      "outputs": [
        {
          "data": {
            "text/html": [
              "<p><strong><pre style='display: inline;'>task_02</pre></strong> passed! 🎉</p><p><strong><pre style='display: inline;'>task_02 - 1</pre> message:</strong> ✅ chance_65 is a number between 0 and 1, inclusive.</p><p><strong><pre style='display: inline;'>task_02 - 2</pre> message:</strong> ✅ Your value for chance_65 is correct!</p>"
            ],
            "text/plain": [
              "task_02 results: All test cases passed!\n",
              "task_02 - 1 message: ✅ chance_65 is a number between 0 and 1, inclusive.\n",
              "task_02 - 2 message: ✅ Your value for chance_65 is correct!"
            ]
          },
          "execution_count": 8,
          "metadata": {},
          "output_type": "execute_result"
        }
      ],
      "source": [
        "grader.check(\"task_02\")"
      ]
    },
    {
      "cell_type": "markdown",
      "metadata": {
        "id": "4DZ9BbeTOSJz"
      },
      "source": [
        "---"
      ]
    },
    {
      "cell_type": "markdown",
      "metadata": {
        "tags": [],
        "id": "ksSQphzaOSJz"
      },
      "source": [
        "### Task 03 📍"
      ]
    },
    {
      "cell_type": "markdown",
      "metadata": {
        "deletable": false,
        "editable": false,
        "id": "wRxs8cUcOSJz"
      },
      "source": [
        "Suppose another sequence of two numbers is illuminated on this board. What is the probability that the sequence is (6, 6)?\n",
        "\n",
        "Assign `chance_66` to a value or expression that represents this probability value. The value should be a number between `0` and `1`, inclusive."
      ]
    },
    {
      "cell_type": "code",
      "execution_count": null,
      "metadata": {
        "tags": [],
        "id": "hpg2CGbCOSJ0",
        "outputId": "031c1df5-bb1c-480b-c484-665d4c15a2a4"
      },
      "outputs": [
        {
          "data": {
            "text/plain": [
              "0"
            ]
          },
          "execution_count": 9,
          "metadata": {},
          "output_type": "execute_result"
        }
      ],
      "source": [
        "chance_66 = 0\n",
        "chance_66"
      ]
    },
    {
      "cell_type": "code",
      "execution_count": null,
      "metadata": {
        "deletable": false,
        "editable": false,
        "id": "S_h-xQ-VOSJ0",
        "outputId": "624f9b62-ed20-407a-ecc7-7ebd00613940"
      },
      "outputs": [
        {
          "data": {
            "text/html": [
              "<p><strong><pre style='display: inline;'>task_03</pre></strong> passed! 🚀</p><p><strong><pre style='display: inline;'>task_03 - 1</pre> message:</strong> ✅ chance_66 is a number between 0 and 1, inclusive.</p><p><strong><pre style='display: inline;'>task_03 - 2</pre> message:</strong> \"✅ Your value for chance_66 is correct!\"\n",
              "</p>"
            ],
            "text/plain": [
              "task_03 results: All test cases passed!\n",
              "task_03 - 1 message: ✅ chance_66 is a number between 0 and 1, inclusive.\n",
              "task_03 - 2 message: \"✅ Your value for chance_66 is correct!\""
            ]
          },
          "execution_count": 10,
          "metadata": {},
          "output_type": "execute_result"
        }
      ],
      "source": [
        "grader.check(\"task_03\")"
      ]
    },
    {
      "cell_type": "markdown",
      "metadata": {
        "id": "mQ-84UfBOSJ0"
      },
      "source": [
        "---"
      ]
    },
    {
      "cell_type": "markdown",
      "metadata": {
        "tags": [],
        "id": "taGU_tu5OSJ0"
      },
      "source": [
        "### Task 04 📍"
      ]
    },
    {
      "cell_type": "markdown",
      "metadata": {
        "deletable": false,
        "editable": false,
        "id": "Z8gywwZ1OSJ1"
      },
      "source": [
        "If all possible sequences are equally likely, what is the chance that any sequence of two numbers (where the two numbers are different) is illuminated on the board?\n",
        "\n",
        "Assign `chance_of_any_sequence` to a value or expression that represents this probability value. The value should be a number between `0` and `1`, inclusive."
      ]
    },
    {
      "cell_type": "code",
      "execution_count": null,
      "metadata": {
        "tags": [],
        "id": "wf7AT9PyOSJ1",
        "outputId": "f97a7295-dc4b-4ab8-8c5e-d980d3994dee"
      },
      "outputs": [
        {
          "data": {
            "text/plain": [
              "0.011111111111111112"
            ]
          },
          "execution_count": 11,
          "metadata": {},
          "output_type": "execute_result"
        }
      ],
      "source": [
        "chance_of_any_sequence = (1/10)*(1/9)\n",
        "chance_of_any_sequence"
      ]
    },
    {
      "cell_type": "code",
      "execution_count": null,
      "metadata": {
        "deletable": false,
        "editable": false,
        "id": "5g-BYeuCOSJ2",
        "outputId": "b263f29f-fa51-410c-9c7d-546d992893af"
      },
      "outputs": [
        {
          "data": {
            "text/html": [
              "<p><strong><pre style='display: inline;'>task_04</pre></strong> passed! 🌈</p><p><strong><pre style='display: inline;'>task_04 - 1</pre> message:</strong> ✅ chance_of_any_sequence is a number between 0 and 1, inclusive.</p><p><strong><pre style='display: inline;'>task_04 - 2</pre> message:</strong> \"✅ Your value for chance_of_any_sequence is correct!\"\n",
              "</p>"
            ],
            "text/plain": [
              "task_04 results: All test cases passed!\n",
              "task_04 - 1 message: ✅ chance_of_any_sequence is a number between 0 and 1, inclusive.\n",
              "task_04 - 2 message: \"✅ Your value for chance_of_any_sequence is correct!\""
            ]
          },
          "execution_count": 12,
          "metadata": {},
          "output_type": "execute_result"
        }
      ],
      "source": [
        "grader.check(\"task_04\")"
      ]
    },
    {
      "cell_type": "markdown",
      "metadata": {
        "id": "76IPOmoEOSJ2"
      },
      "source": [
        "---"
      ]
    },
    {
      "cell_type": "markdown",
      "metadata": {
        "id": "GJwyZ8OjOSJ2"
      },
      "source": [
        "### The Addition Rule for Disjoint Events"
      ]
    },
    {
      "cell_type": "markdown",
      "metadata": {
        "id": "mHZzzkwYOSJ3"
      },
      "source": [
        "To calculate the probability of one event or another event happening, where the two events are disjoint (or mutually exclusive of one another), we calculate the probability of each event happening and then add the values. This is called the addition rule for disjoint events."
      ]
    },
    {
      "cell_type": "markdown",
      "metadata": {
        "id": "bWY9YwIcOSJ3"
      },
      "source": [
        "---"
      ]
    },
    {
      "cell_type": "markdown",
      "metadata": {
        "tags": [],
        "id": "Rf8HUwWEOSJ3"
      },
      "source": [
        "### Task 05 📍"
      ]
    },
    {
      "cell_type": "markdown",
      "metadata": {
        "deletable": false,
        "editable": false,
        "id": "TOjxM50xOSJ3"
      },
      "source": [
        "Suppose another sequence of two numbers is illuminated on this board. What is the probability that the sequence is either (6, 5) or (5, 6)?\n",
        "\n",
        "Assign `chance_65_56` to a value or expression that represents this probability value. The value should be a number between `0` and `1`, inclusive."
      ]
    },
    {
      "cell_type": "code",
      "execution_count": null,
      "metadata": {
        "tags": [],
        "id": "OH32k4oMOSJ4",
        "outputId": "bf528cb9-e555-45fc-9636-3be795a5757f"
      },
      "outputs": [
        {
          "data": {
            "text/plain": [
              "0.022222222222222223"
            ]
          },
          "execution_count": 13,
          "metadata": {},
          "output_type": "execute_result"
        }
      ],
      "source": [
        "chance_65_56 = ((1/10)*(1/9))+((1/10)*(1/9))\n",
        "chance_65_56"
      ]
    },
    {
      "cell_type": "code",
      "execution_count": null,
      "metadata": {
        "deletable": false,
        "editable": false,
        "id": "tb-chHsFOSJ4",
        "outputId": "e3480a21-f837-4204-cd5a-1f8ba83ebbb3"
      },
      "outputs": [
        {
          "data": {
            "text/html": [
              "<p><strong><pre style='display: inline;'>task_05</pre></strong> passed! ✨</p><p><strong><pre style='display: inline;'>task_05 - 1</pre> message:</strong> ✅ chance_65_56 is a number between 0 and 1, inclusive.</p><p><strong><pre style='display: inline;'>task_05 - 2</pre> message:</strong> ✅ Your value for chance_65_56 is correct!</p>"
            ],
            "text/plain": [
              "task_05 results: All test cases passed!\n",
              "task_05 - 1 message: ✅ chance_65_56 is a number between 0 and 1, inclusive.\n",
              "task_05 - 2 message: ✅ Your value for chance_65_56 is correct!"
            ]
          },
          "execution_count": 14,
          "metadata": {},
          "output_type": "execute_result"
        }
      ],
      "source": [
        "grader.check(\"task_05\")"
      ]
    },
    {
      "cell_type": "markdown",
      "metadata": {
        "id": "2C58tnVlOSJ5"
      },
      "source": [
        "---"
      ]
    },
    {
      "cell_type": "markdown",
      "metadata": {
        "id": "ydM1xUwDOSJ5"
      },
      "source": [
        "### The Complement Rule"
      ]
    },
    {
      "cell_type": "markdown",
      "metadata": {
        "id": "os6jgK8oOSJ5"
      },
      "source": [
        "One way to determine the probability of an event not occurring is to subtract the probability that it will occur from 1. This is generally referred to as the complement rule."
      ]
    },
    {
      "cell_type": "markdown",
      "metadata": {
        "id": "Vwcj0stNOSJ6"
      },
      "source": [
        "---"
      ]
    },
    {
      "cell_type": "markdown",
      "metadata": {
        "tags": [],
        "id": "0dkJvF1tOSJ6"
      },
      "source": [
        "### Task 06 📍"
      ]
    },
    {
      "cell_type": "markdown",
      "metadata": {
        "deletable": false,
        "editable": false,
        "id": "YeRhL4EoOSJ6"
      },
      "source": [
        "Twenty sequences of two numbers are illuminated on the board. What is the probability that at least one of the sequences is (5, 6)?\n",
        "\n",
        "Assign `chance_at_least_one_56` to a value or expression that represents this probability value. The value should be a number between `0` and `1`, inclusive."
      ]
    },
    {
      "cell_type": "code",
      "execution_count": null,
      "metadata": {
        "tags": [],
        "id": "fHrLybo2OSJ6",
        "outputId": "ed447bfa-3422-41ab-fb01-4cc01e10b6a6"
      },
      "outputs": [
        {
          "data": {
            "text/plain": [
              "0.2002579269307576"
            ]
          },
          "execution_count": 24,
          "metadata": {},
          "output_type": "execute_result"
        }
      ],
      "source": [
        "chance_not_56 =1- ((1/10)*(1/9))\n",
        "chance_at_least_one_56=1-(chance_not_56**20)\n",
        "\n",
        "chance_at_least_one_56"
      ]
    },
    {
      "cell_type": "code",
      "execution_count": null,
      "metadata": {
        "deletable": false,
        "editable": false,
        "id": "dsGvodRAOSJ7",
        "outputId": "fabd1043-cb46-4c41-e7d7-0014f6402904"
      },
      "outputs": [
        {
          "data": {
            "text/html": [
              "<p><strong><pre style='display: inline;'>task_06</pre></strong> passed! 💯</p><p><strong><pre style='display: inline;'>task_06 - 1</pre> message:</strong> ✅ chance_at_least_one_56 is a number between 0 and 1, inclusive.</p><p><strong><pre style='display: inline;'>task_06 - 2</pre> message:</strong> ✅ Your value for chance_at_least_one_56 is correct!</p>"
            ],
            "text/plain": [
              "task_06 results: All test cases passed!\n",
              "task_06 - 1 message: ✅ chance_at_least_one_56 is a number between 0 and 1, inclusive.\n",
              "task_06 - 2 message: ✅ Your value for chance_at_least_one_56 is correct!"
            ]
          },
          "execution_count": 25,
          "metadata": {},
          "output_type": "execute_result"
        }
      ],
      "source": [
        "grader.check(\"task_06\")"
      ]
    },
    {
      "cell_type": "markdown",
      "metadata": {
        "id": "kLFol4WQOSJ7"
      },
      "source": [
        "---"
      ]
    },
    {
      "cell_type": "markdown",
      "metadata": {
        "id": "qoiUdMJZOSJ7"
      },
      "source": [
        "## Distributions"
      ]
    },
    {
      "cell_type": "markdown",
      "metadata": {
        "id": "OpPXHkm4OSJ7"
      },
      "source": [
        "You recently learned about probability and empirical distributions. As a reminder:\n",
        "\n",
        "* **Probability distributions** describe the theoretical likelihood of different outcomes in a random process. They are based on mathematical models and assumptions.\n",
        "* **Empirical distributions** are derived from actual observed data. Instead of being based on theoretical probabilities, they reflect the frequencies of observed occurrences in a repeated experiment."
      ]
    },
    {
      "cell_type": "markdown",
      "metadata": {
        "id": "tWGbwmW3OSJ8"
      },
      "source": [
        "---"
      ]
    },
    {
      "cell_type": "markdown",
      "metadata": {
        "id": "OX6rP8DHOSJ8"
      },
      "source": [
        "## Sampling Basketball Data"
      ]
    },
    {
      "cell_type": "markdown",
      "metadata": {
        "id": "Vzbz36hTOSJ8"
      },
      "source": [
        "We will now move on to the topic of sampling which we discussed in more depth in this week's lectures. We'll guide you through this code, but if you wish to read more about different kinds of samples before attempting these tasks, you can check out [section 10 of the textbook](https://ccsf-math-108.github.io/textbook/chapters/10/Sampling_and_Empirical_Distributions.html).\n",
        "\n",
        "We will be sampling from a data set from **a few years ago** that contains information about NBA players, including their ages and salaries. Run the cell below to load the data.\n",
        "\n",
        "Run the cell below to load player and salary data that we will use for our sampling."
      ]
    },
    {
      "cell_type": "code",
      "execution_count": null,
      "metadata": {
        "id": "O_kd2rtPOSJ8",
        "outputId": "4f2bb6a2-8f1d-4581-9baa-8042fd115063"
      },
      "outputs": [
        {
          "data": {
            "text/html": [
              "<table border=\"1\" class=\"dataframe\">\n",
              "    <thead>\n",
              "        <tr>\n",
              "            <th>Name</th> <th>Age</th> <th>Team</th> <th>Games</th> <th>Rebounds</th> <th>Assists</th> <th>Steals</th> <th>Blocks</th> <th>Turnovers</th> <th>Points</th>\n",
              "        </tr>\n",
              "    </thead>\n",
              "    <tbody>\n",
              "        <tr>\n",
              "            <td>James Harden </td> <td>25  </td> <td>HOU </td> <td>81   </td> <td>459     </td> <td>565    </td> <td>154   </td> <td>60    </td> <td>321      </td> <td>2217  </td>\n",
              "        </tr>\n",
              "        <tr>\n",
              "            <td>Chris Paul   </td> <td>29  </td> <td>LAC </td> <td>82   </td> <td>376     </td> <td>838    </td> <td>156   </td> <td>15    </td> <td>190      </td> <td>1564  </td>\n",
              "        </tr>\n",
              "        <tr>\n",
              "            <td>Stephen Curry</td> <td>26  </td> <td>GSW </td> <td>80   </td> <td>341     </td> <td>619    </td> <td>163   </td> <td>16    </td> <td>249      </td> <td>1900  </td>\n",
              "        </tr>\n",
              "    </tbody>\n",
              "</table>\n",
              "<p>... (489 rows omitted)</p>"
            ],
            "text/plain": [
              "<IPython.core.display.HTML object>"
            ]
          },
          "metadata": {},
          "output_type": "display_data"
        },
        {
          "data": {
            "text/html": [
              "<table border=\"1\" class=\"dataframe\">\n",
              "    <thead>\n",
              "        <tr>\n",
              "            <th>PlayerName</th> <th>Salary</th>\n",
              "        </tr>\n",
              "    </thead>\n",
              "    <tbody>\n",
              "        <tr>\n",
              "            <td>Kobe Bryant      </td> <td>23500000</td>\n",
              "        </tr>\n",
              "        <tr>\n",
              "            <td>Amar'e Stoudemire</td> <td>23410988</td>\n",
              "        </tr>\n",
              "        <tr>\n",
              "            <td>Joe Johnson      </td> <td>23180790</td>\n",
              "        </tr>\n",
              "    </tbody>\n",
              "</table>\n",
              "<p>... (489 rows omitted)</p>"
            ],
            "text/plain": [
              "<IPython.core.display.HTML object>"
            ]
          },
          "metadata": {},
          "output_type": "display_data"
        },
        {
          "data": {
            "text/html": [
              "<table border=\"1\" class=\"dataframe\">\n",
              "    <thead>\n",
              "        <tr>\n",
              "            <th>PlayerName</th> <th>Salary</th> <th>Age</th> <th>Team</th> <th>Games</th> <th>Rebounds</th> <th>Assists</th> <th>Steals</th> <th>Blocks</th> <th>Turnovers</th> <th>Points</th>\n",
              "        </tr>\n",
              "    </thead>\n",
              "    <tbody>\n",
              "        <tr>\n",
              "            <td>A.J. Price  </td> <td>62552  </td> <td>28  </td> <td>TOT </td> <td>26   </td> <td>32      </td> <td>46     </td> <td>7     </td> <td>0     </td> <td>14       </td> <td>133   </td>\n",
              "        </tr>\n",
              "        <tr>\n",
              "            <td>Aaron Brooks</td> <td>1145685</td> <td>30  </td> <td>CHI </td> <td>82   </td> <td>166     </td> <td>261    </td> <td>54    </td> <td>15    </td> <td>157      </td> <td>954   </td>\n",
              "        </tr>\n",
              "        <tr>\n",
              "            <td>Aaron Gordon</td> <td>3992040</td> <td>19  </td> <td>ORL </td> <td>47   </td> <td>169     </td> <td>33     </td> <td>21    </td> <td>22    </td> <td>38       </td> <td>243   </td>\n",
              "        </tr>\n",
              "    </tbody>\n",
              "</table>\n",
              "<p>... (489 rows omitted)</p>"
            ],
            "text/plain": [
              "<IPython.core.display.HTML object>"
            ]
          },
          "metadata": {},
          "output_type": "display_data"
        }
      ],
      "source": [
        "player_data = Table().read_table(\"player_data.csv\")\n",
        "salary_data = Table().read_table(\"salary_data.csv\")\n",
        "full_data = salary_data.join(\"PlayerName\", player_data, \"Name\")\n",
        "\n",
        "# The show method immediately displays the contents of a table.\n",
        "# This way, we can display the top of two tables using a single cell.\n",
        "player_data.show(3)\n",
        "salary_data.show(3)\n",
        "full_data.show(3)"
      ]
    },
    {
      "cell_type": "markdown",
      "metadata": {
        "id": "grQdCfJ2OSJ9"
      },
      "source": [
        "Rather than getting data on every player (as in the tables loaded above), imagine that we had gotten data on only a smaller subset of the players. For 492 players, it's not so unreasonable to expect to see all the data, but usually we aren't so lucky.\n",
        "\n",
        "If we want to make estimates about a certain numerical property of the population (known as a statistic, e.g. the mean or median), we may have to come up with these estimates based only on a smaller sample. Whether these estimates are useful or not often depends on how the sample was gathered. We have prepared some example sample datasets to see how they compare to the full NBA dataset. Later we'll ask you to create your own samples to see how they behave."
      ]
    },
    {
      "cell_type": "markdown",
      "metadata": {
        "id": "9srJ1KbFOSJ9"
      },
      "source": [
        "To save typing and increase the clarity of your code, we will package the analysis code into a few functions. This will be useful in the rest of the lab as we will repeatedly need to create histograms and collect summary statistics from that data."
      ]
    },
    {
      "cell_type": "markdown",
      "metadata": {
        "id": "RmHlWrClOSJ9"
      },
      "source": [
        "We've defined the `histograms` function below, which takes a table with columns `Age` and `Salary` and draws a histogram for each one. It uses bin widths of 1 year for `Age` and $1,000,000 for `Salary`."
      ]
    },
    {
      "cell_type": "code",
      "execution_count": null,
      "metadata": {
        "tags": [],
        "id": "rc2mv_2sOSJ9",
        "outputId": "5c2f2065-1b15-4c27-c368-3eaa38d6915a"
      },
      "outputs": [
        {
          "name": "stdout",
          "output_type": "stream",
          "text": [
            "Two histograms should be displayed below\n"
          ]
        },
        {
          "data": {
            "image/png": "[encoded data removed]",
            "text/plain": [
              "<Figure size 600x400 with 1 Axes>"
            ]
          },
          "metadata": {},
          "output_type": "display_data"
        },
        {
          "data": {
            "image/png": "[encoded data removed]",
            "text/plain": [
              "<Figure size 600x400 with 1 Axes>"
            ]
          },
          "metadata": {},
          "output_type": "display_data"
        }
      ],
      "source": [
        "def histograms(t):\n",
        "    ages = t.column('Age')\n",
        "    salaries = t.column('Salary')/1000000\n",
        "    t1 = t.drop('Salary').with_column('Salary', salaries)\n",
        "    age_bins = np.arange(min(ages), max(ages) + 2, 1)\n",
        "    salary_bins = np.arange(min(salaries), max(salaries) + 1, 1)\n",
        "    t1.hist('Age', bins=age_bins, unit='year')\n",
        "    plt.title('Age distribution')\n",
        "    t1.hist('Salary', bins=salary_bins, unit='million dollars')\n",
        "    plt.title('Salary distribution')\n",
        "\n",
        "histograms(full_data)\n",
        "print('Two histograms should be displayed below')"
      ]
    },
    {
      "cell_type": "markdown",
      "metadata": {
        "id": "M3e4r7MKOSJ-"
      },
      "source": [
        "### Task 07 📍"
      ]
    },
    {
      "cell_type": "markdown",
      "metadata": {
        "deletable": false,
        "editable": false,
        "id": "0tGiPWRxOSJ-"
      },
      "source": [
        "Create a function called `compute_statistics` that takes a table containing ages and salaries and:\n",
        "- Draws a histogram of ages\n",
        "- Draws a histogram of salaries\n",
        "- Returns a two-element array containing the average age and average salary (in that order)\n",
        "\n",
        "You can call the `histograms` function to draw the histograms!\n",
        "\n",
        "*Note:* More charts will be displayed when running the test cell. Please feel free to ignore the charts.\n"
      ]
    },
    {
      "cell_type": "code",
      "execution_count": null,
      "metadata": {
        "tags": [],
        "id": "ADaBrHL-OSJ-",
        "outputId": "fe24e028-3b70-4423-b2dc-426a9a3fdc34"
      },
      "outputs": [
        {
          "data": {
            "text/plain": [
              "array([  2.65365854e+01,   4.26977577e+06])"
            ]
          },
          "execution_count": 28,
          "metadata": {},
          "output_type": "execute_result"
        },
        {
          "data": {
            "image/png": "[encoded data removed]",
            "text/plain": [
              "<Figure size 600x400 with 1 Axes>"
            ]
          },
          "metadata": {},
          "output_type": "display_data"
        },
        {
          "data": {
            "image/png": "[encoded data removed]",
            "text/plain": [
              "<Figure size 600x400 with 1 Axes>"
            ]
          },
          "metadata": {},
          "output_type": "display_data"
        }
      ],
      "source": [
        "def compute_statistics(age_and_salary_data):\n",
        "    histograms(age_and_salary_data)\n",
        "    age = np.average(age_and_salary_data.column('Age'))\n",
        "    salary = np.average(age_and_salary_data.column('Salary'))\n",
        "    return make_array(age,salary)\n",
        "\n",
        "\n",
        "full_stats = compute_statistics(full_data)\n",
        "full_stats"
      ]
    },
    {
      "cell_type": "code",
      "execution_count": null,
      "metadata": {
        "deletable": false,
        "editable": false,
        "id": "pXuYK4aZOSJ-",
        "outputId": "42bde5b6-0849-481d-bd69-bafc6b55734a"
      },
      "outputs": [
        {
          "data": {
            "text/html": [
              "<p><strong><pre style='display: inline;'>task_07</pre></strong> passed! ✨</p><p><strong><pre style='display: inline;'>task_07 - 1</pre> message:</strong> ✅ The age value we checked is correct.</p><p><strong><pre style='display: inline;'>task_07 - 2</pre> message:</strong> ✅ The salary value we checked is correct.</p>"
            ],
            "text/plain": [
              "task_07 results: All test cases passed!\n",
              "task_07 - 1 message: ✅ The age value we checked is correct.\n",
              "task_07 - 2 message: ✅ The salary value we checked is correct."
            ]
          },
          "execution_count": 29,
          "metadata": {},
          "output_type": "execute_result"
        }
      ],
      "source": [
        "grader.check(\"task_07\")"
      ]
    },
    {
      "cell_type": "markdown",
      "metadata": {
        "id": "2Q9NTNETOSJ_"
      },
      "source": [
        "### Simple random sampling"
      ]
    },
    {
      "cell_type": "markdown",
      "metadata": {
        "id": "y0LhqMXWOSJ_"
      },
      "source": [
        "One way to create a sample from a population is to sample uniformly at random from the population. In this demonstration, we are thinking of the population as the 492 players in the original data set. In a **simple random sample (SRS) without replacement**, we ensure that each player is selected at most once. Imagine writing down each player's name on a card, putting the cards in an box, and shuffling the box.  Then, pull out cards one by one and set them aside, stopping when the specified sample size is reached.\n",
        "\n"
      ]
    },
    {
      "cell_type": "markdown",
      "metadata": {
        "id": "yH0iga2SOSJ_"
      },
      "source": [
        "### Producing simple random samples"
      ]
    },
    {
      "cell_type": "markdown",
      "metadata": {
        "id": "QfRm2zmxOSJ_"
      },
      "source": [
        "Sometimes, it’s useful to take random samples even when we have the data for the whole population. It helps us understand sampling accuracy."
      ]
    },
    {
      "cell_type": "markdown",
      "metadata": {
        "id": "oQkOSH9dOSKA"
      },
      "source": [
        "### `sample`"
      ]
    },
    {
      "cell_type": "markdown",
      "metadata": {
        "id": "JTmSaKBiOSKA"
      },
      "source": [
        "The table method `sample` produces a random sample from the table. By default, it draws at random **with replacement** from the rows of a table. It takes in the sample size as its argument and returns a **table** with only the rows that were selected.\n",
        "\n",
        "Run the cell below to see an example call to `sample()` with a sample size of 5, with replacement. Because this is done with replacement, it is possible to see a player more than once in the resulting table."
      ]
    },
    {
      "cell_type": "code",
      "execution_count": null,
      "metadata": {
        "id": "IajKaSd_OSKA",
        "outputId": "e32bff45-7547-456c-fc78-3a07fe9b5d4f"
      },
      "outputs": [
        {
          "data": {
            "text/html": [
              "<table border=\"1\" class=\"dataframe\">\n",
              "    <thead>\n",
              "        <tr>\n",
              "            <th>PlayerName</th> <th>Salary</th>\n",
              "        </tr>\n",
              "    </thead>\n",
              "    <tbody>\n",
              "        <tr>\n",
              "            <td>Jusuf Nurkic  </td> <td>1762680</td>\n",
              "        </tr>\n",
              "        <tr>\n",
              "            <td>Isaiah Thomas </td> <td>7238606</td>\n",
              "        </tr>\n",
              "        <tr>\n",
              "            <td>Reggie Jackson</td> <td>2204370</td>\n",
              "        </tr>\n",
              "        <tr>\n",
              "            <td>Ekpe Udoh     </td> <td>981084 </td>\n",
              "        </tr>\n",
              "        <tr>\n",
              "            <td>Kent Bazemore </td> <td>2000000</td>\n",
              "        </tr>\n",
              "    </tbody>\n",
              "</table>"
            ],
            "text/plain": [
              "PlayerName     | Salary\n",
              "Jusuf Nurkic   | 1762680\n",
              "Isaiah Thomas  | 7238606\n",
              "Reggie Jackson | 2204370\n",
              "Ekpe Udoh      | 981084\n",
              "Kent Bazemore  | 2000000"
            ]
          },
          "execution_count": 30,
          "metadata": {},
          "output_type": "execute_result"
        }
      ],
      "source": [
        "# Just run this cell\n",
        "\n",
        "salary_data.sample(5)"
      ]
    },
    {
      "cell_type": "markdown",
      "metadata": {
        "id": "zG6IbdDAOSKA"
      },
      "source": [
        "The optional argument `with_replacement=False` can be passed through `sample()` to specify that the sample should be drawn without replacement.\n",
        "\n",
        "Run the cell below to see an example call to `sample()` with a sample size of 5, without replacement. In this case, it is not possible to see a player more than once in the resulting table as it is done without replacement."
      ]
    },
    {
      "cell_type": "code",
      "execution_count": null,
      "metadata": {
        "id": "jYyfRAlgOSKB",
        "outputId": "be3bf139-c305-473e-d386-a4b4c053042e"
      },
      "outputs": [
        {
          "data": {
            "text/html": [
              "<table border=\"1\" class=\"dataframe\">\n",
              "    <thead>\n",
              "        <tr>\n",
              "            <th>PlayerName</th> <th>Salary</th>\n",
              "        </tr>\n",
              "    </thead>\n",
              "    <tbody>\n",
              "        <tr>\n",
              "            <td>Ronnie Price    </td> <td>1316809</td>\n",
              "        </tr>\n",
              "        <tr>\n",
              "            <td>Nick Johnson    </td> <td>507336 </td>\n",
              "        </tr>\n",
              "        <tr>\n",
              "            <td>Manu Ginobili   </td> <td>7000000</td>\n",
              "        </tr>\n",
              "        <tr>\n",
              "            <td>Gerald Henderson</td> <td>6000000</td>\n",
              "        </tr>\n",
              "        <tr>\n",
              "            <td>Sim Bhullar     </td> <td>29843  </td>\n",
              "        </tr>\n",
              "    </tbody>\n",
              "</table>"
            ],
            "text/plain": [
              "PlayerName       | Salary\n",
              "Ronnie Price     | 1316809\n",
              "Nick Johnson     | 507336\n",
              "Manu Ginobili    | 7000000\n",
              "Gerald Henderson | 6000000\n",
              "Sim Bhullar      | 29843"
            ]
          },
          "execution_count": 31,
          "metadata": {},
          "output_type": "execute_result"
        }
      ],
      "source": [
        "# Just run this cell\n",
        "\n",
        "salary_data.sample(5, with_replacement=False)"
      ]
    },
    {
      "cell_type": "markdown",
      "metadata": {
        "id": "cmnCqvsCOSKB"
      },
      "source": [
        "### Task 08 📍🔎"
      ]
    },
    {
      "cell_type": "markdown",
      "metadata": {
        "deletable": false,
        "editable": false,
        "id": "QsEsptdfOSKB"
      },
      "source": [
        "<!-- BEGIN QUESTION -->\n",
        "\n",
        "Produce a simple random sample of size 44 from `full_data`. Run your analysis (compute_statistics) on it again. Run the cell several times to see how the histograms and statistics change across different samples. Then answer the questions below:\n",
        "\n",
        "- How much does the average age change across samples?\n",
        "- What about the average salary?\n",
        "\n",
        "**Note:** Since this task does not have an auto-grader, make sure to check your results with a classmate, a tutor, or the instructor before moving on."
      ]
    },
    {
      "cell_type": "markdown",
      "metadata": {
        "id": "ctynv7YBOSKC"
      },
      "source": [
        "Average age changes in every sample\n",
        "Average salary is more or less the same"
      ]
    },
    {
      "cell_type": "code",
      "execution_count": null,
      "metadata": {
        "tags": [],
        "id": "rCdhJ09vOSKC",
        "outputId": "443b6b9a-0aa7-4201-e766-45c33026bbd9"
      },
      "outputs": [
        {
          "data": {
            "text/plain": [
              "array([  2.69545455e+01,   3.78077141e+06])"
            ]
          },
          "execution_count": 44,
          "metadata": {},
          "output_type": "execute_result"
        },
        {
          "data": {
            "image/png": "[encoded data removed]",
            "text/plain": [
              "<Figure size 600x400 with 1 Axes>"
            ]
          },
          "metadata": {},
          "output_type": "display_data"
        },
        {
          "data": {
            "image/png": "[encoded data removed]",
            "text/plain": [
              "<Figure size 600x400 with 1 Axes>"
            ]
          },
          "metadata": {},
          "output_type": "display_data"
        }
      ],
      "source": [
        "my_small_srswor_data = full_data.sample(44, with_replacement=False)\n",
        "my_small_stats = compute_statistics(my_small_srswor_data)\n",
        "my_small_stats"
      ]
    },
    {
      "cell_type": "markdown",
      "metadata": {
        "deletable": false,
        "editable": false,
        "id": "2sDTTtFNOSKC"
      },
      "source": [
        "<!-- END QUESTION -->\n",
        "\n",
        "### Task 09 📍🔎"
      ]
    },
    {
      "cell_type": "markdown",
      "metadata": {
        "deletable": false,
        "editable": false,
        "id": "WT-15gT6OSKC"
      },
      "source": [
        "<!-- BEGIN QUESTION -->\n",
        "\n",
        "As in the previous question, analyze several simple random samples of size 100 from full_data. Then, answer the following questions:\n",
        "- Do the histogram shapes seem to change more or less across samples of 100 than across samples of size 44?  \n",
        "- Are the sample averages and histograms closer to their true values/shape for age or for salary?  What did you expect to see?\n",
        "\n",
        "**Note:** Since this task does not have an auto-grader, make sure to check your results with a classmate, a tutor, or the instructor before moving on."
      ]
    },
    {
      "cell_type": "markdown",
      "metadata": {
        "id": "dTMvL0NLOSKC"
      },
      "source": [
        "Yes, histogram shape changes a little and looks like  more bell shape  \n",
        "The sample averages and histograms closer to their true values/shape."
      ]
    },
    {
      "cell_type": "code",
      "execution_count": null,
      "metadata": {
        "tags": [],
        "id": "1JL1ocXxOSKD",
        "outputId": "bf41061e-70b1-46c0-c995-37d656a7ebd3"
      },
      "outputs": [
        {
          "data": {
            "text/plain": [
              "array([  2.58500000e+01,   4.38695525e+06])"
            ]
          },
          "execution_count": 58,
          "metadata": {},
          "output_type": "execute_result"
        },
        {
          "data": {
            "image/png": "[encoded data removed]",
            "text/plain": [
              "<Figure size 600x400 with 1 Axes>"
            ]
          },
          "metadata": {},
          "output_type": "display_data"
        },
        {
          "data": {
            "image/png": "[encoded data removed]",
            "text/plain": [
              "<Figure size 600x400 with 1 Axes>"
            ]
          },
          "metadata": {},
          "output_type": "display_data"
        }
      ],
      "source": [
        "my_large_srswor_data =  full_data.sample(100,with_replacement=False)\n",
        "my_large_stats = compute_statistics(my_large_srswor_data)\n",
        "my_large_stats"
      ]
    },
    {
      "cell_type": "markdown",
      "metadata": {
        "deletable": false,
        "editable": false,
        "id": "VWbnTPsiOSKD"
      },
      "source": [
        "<!-- END QUESTION -->\n",
        "\n",
        "## Sampling from a Distribution"
      ]
    },
    {
      "cell_type": "markdown",
      "metadata": {
        "id": "cx_tVqCwOSKD"
      },
      "source": [
        "Suppose that you are studying a categorical variable from some population and you have a summary of the proportion of values. For example, some sandwich shop has a record from last year that 70% of their customers purchased chips with their sandwich and 30% did not. In this hypothetical situation, the variable `bought_chips` has two values `True` and `False`.\n",
        "\n",
        "You could try to gather the original data or create a table that shows `True` on 70% of the rows and `False` on 30%. Instead, the `datascience` library has a function called `sample_proportions` that is helpful for generating random samples from a population like this. The basic format of the command is:\n",
        "\n",
        "``` python\n",
        "sample_proportions(sample_size, probabilities)\n",
        "```\n",
        "where `sample_size` is the size of the sample and `probabilities` is an array of probabilities that reflect the chance of randomly selecting one of the variable's values.\n",
        "\n",
        "If you wanted to simulate randomly sampling 3 customers from the sandwich shop customer population, you could define `sample_size = 3` and set up an array `population_arr = make_array(0.70, 0.30)` where the first value represents the chance of someone from the population purchasing chips with their sandwich. From that point running `sample_proportions(sample_size, population_arr)` would create an array of 2 values. The first value in the array would be the proportion `True` values (to represent the proportion of the 3 random customers that purchased chips) and the second value would be the proportion of `False` values (reflecting the customers that didn't purchase chips).\n",
        "\n",
        "Run the following command to see how this works. You will get a variety of results, but you should see arrays with `1`, `0`, `0.66666667`, and `0.33333333` values."
      ]
    },
    {
      "cell_type": "code",
      "execution_count": null,
      "metadata": {
        "id": "4LUDkUueOSKD",
        "outputId": "17b72143-a1fa-410d-b18e-14c7451b62d1"
      },
      "outputs": [
        {
          "data": {
            "text/plain": [
              "array([ 0.66666667,  0.33333333])"
            ]
          },
          "execution_count": 59,
          "metadata": {},
          "output_type": "execute_result"
        }
      ],
      "source": [
        "sample_size = 3\n",
        "population_arr = make_array(0.70, 0.30)\n",
        "sample_proportions(sample_size, population_arr)"
      ]
    },
    {
      "cell_type": "markdown",
      "metadata": {
        "tags": [],
        "id": "C5O8ZYCCOSKE"
      },
      "source": [
        "### Task 10 📍"
      ]
    },
    {
      "cell_type": "markdown",
      "metadata": {
        "deletable": false,
        "editable": false,
        "id": "6iu0kFBEOSKE"
      },
      "source": [
        "Suppose that a typical lunch rush for the sandwich shop consists of 30 sandwich purchases. Use the `sample_proportions` function to simulate randomly selecting 30 customers from a population where it is assumed that 70% purchase chips with their sandwich and 30% do not. Run this simulation 10,000 times and create an array called `chips` that contains the proportion of the randomly sampled 30 customers that bought chips. Finally, make a histogram of the proportions.\n",
        "\n",
        "Your histogram should look **similar** to the following one where the histogram is approximately centered on the population value of 70% (0.7).\n",
        "\n",
        "<img src=\"proportion_bought_chips.png\" alt=\"histogram of 10,000 random sample\" width = 40%>"
      ]
    },
    {
      "cell_type": "code",
      "execution_count": null,
      "metadata": {
        "tags": [],
        "id": "3fPcrRiEOSKE",
        "outputId": "7953d4f7-931e-4096-af51-cabe8dd8f120"
      },
      "outputs": [
        {
          "data": {
            "image/png": "[encoded data removed]",
            "text/plain": [
              "<Figure size 600x400 with 1 Axes>"
            ]
          },
          "metadata": {},
          "output_type": "display_data"
        }
      ],
      "source": [
        "sample_size = 30\n",
        "population_arr = make_array(0.70, 0.30)\n",
        "\n",
        "chips = make_array()\n",
        "\n",
        "for i in np.arange(10000):\n",
        "    random_sample = sample_proportions(sample_size, population_arr)\n",
        "    prop_bought_chips = random_sample.item(0)\n",
        "    chips = np.append(chips, prop_bought_chips)\n",
        "\n",
        "Table().with_column('bought_chips',  chips).hist('bought_chips')\n",
        "plt.title('Proportion Bought Chips (Sample Size=30)')\n",
        "plt.show()"
      ]
    },
    {
      "cell_type": "code",
      "execution_count": null,
      "metadata": {
        "deletable": false,
        "editable": false,
        "id": "59ELT1ztOSKE",
        "outputId": "5a7a9dfd-0eb9-4b7d-853b-2dbdaaf2fe8f"
      },
      "outputs": [
        {
          "data": {
            "text/html": [
              "<p><strong><pre style='display: inline;'>task_10</pre></strong> passed! 🙌</p><p><strong><pre style='display: inline;'>task_10 - 1</pre> message:</strong> ✅ sample_size is 30.</p><p><strong><pre style='display: inline;'>task_10 - 2</pre> message:</strong> ✅ population_arr seems correct.</p><p><strong><pre style='display: inline;'>task_10 - 3</pre> message:</strong> ✅ random_sample is an array with 2 elements.</p><p><strong><pre style='display: inline;'>task_10 - 4</pre> message:</strong> ✅ chips is an array with 10,000 elements.</p><p><strong><pre style='display: inline;'>task_10 - 5</pre> message:</strong> ✅ It seems that the average proportion that bought chips was approximately 70%.</p>"
            ],
            "text/plain": [
              "task_10 results: All test cases passed!\n",
              "task_10 - 1 message: ✅ sample_size is 30.\n",
              "task_10 - 2 message: ✅ population_arr seems correct.\n",
              "task_10 - 3 message: ✅ random_sample is an array with 2 elements.\n",
              "task_10 - 4 message: ✅ chips is an array with 10,000 elements.\n",
              "task_10 - 5 message: ✅ It seems that the average proportion that bought chips was approximately 70%."
            ]
          },
          "execution_count": 62,
          "metadata": {},
          "output_type": "execute_result"
        }
      ],
      "source": [
        "grader.check(\"task_10\")"
      ]
    },
    {
      "cell_type": "markdown",
      "metadata": {
        "id": "UAhdEmqwOSKF"
      },
      "source": [
        "---"
      ]
    },
    {
      "cell_type": "markdown",
      "metadata": {
        "id": "BPytqrSAOSKF"
      },
      "source": [
        "## Submit Your Assignment to Canvas"
      ]
    },
    {
      "cell_type": "markdown",
      "metadata": {
        "jp-MarkdownHeadingCollapsed": true,
        "id": "V4NiOPjSOSKF"
      },
      "source": [
        "Follow these steps to submit your lab assignment:\n",
        "\n",
        "1. **Check the Assignment Completion Requirements:** This assignment is scored as Complete or Incomplete. Make sure to check with your instructor about their requirements for a Complete score.\n",
        "2. **Run the Auto-Grader:** Ensure you have executed the code cell containing the command `grader.check_all()` to run all tests for auto-graded tasks marked with 📍. This command will execute all auto-grader tests sequentially.\n",
        "3. **Complete Manually Graded Tasks:** Verify that you have responded to all the manually graded tasks marked with 📍🔎.\n",
        "4. **Save Your Work:** In the notebook's Toolbar, go to `File -> Save Notebook` to save your work and create a checkpoint.\n",
        "5. **Download the Notebook:** In the notebook's Toolbar, go to `File -> Download HTML` to download the HTML version (`.html`) of this notebook.\n",
        "6. **Upload to Canvas:** On the Canvas Assignment page, click \"Start Assignment\" or \"New Attempt\" to upload the downloaded `.html` file."
      ]
    },
    {
      "cell_type": "markdown",
      "metadata": {
        "id": "_hHMrVNaOSKF"
      },
      "source": [
        "---"
      ]
    },
    {
      "cell_type": "markdown",
      "metadata": {
        "editable": true,
        "tags": [],
        "id": "WXw9lcseOSKG"
      },
      "source": [
        "## Attribution"
      ]
    },
    {
      "cell_type": "markdown",
      "metadata": {
        "id": "zMkmgKKlOSKG"
      },
      "source": [
        "This content is licensed under the <a href=\"https://creativecommons.org/licenses/by-nc-sa/4.0/\">Creative Commons Attribution-NonCommercial-ShareAlike 4.0 International License (CC BY-NC-SA 4.0)</a> and derived from the <a href=\"https://www.data8.org/\">Data 8: The Foundations of Data Science</a> offered by the University of California, Berkeley.\n",
        "\n",
        "<img src=\"./by-nc-sa.png\" width=100px>"
      ]
    },
    {
      "cell_type": "markdown",
      "metadata": {
        "deletable": false,
        "editable": false,
        "id": "I_o6gU-4OSKG"
      },
      "source": [
        "---\n",
        "\n",
        "To double-check your work, the cell below will rerun all of the autograder tests."
      ]
    },
    {
      "cell_type": "code",
      "execution_count": null,
      "metadata": {
        "deletable": false,
        "editable": false,
        "id": "W634dAPBOSKG",
        "outputId": "d17afe76-6530-429a-8ec4-e16fe80457e8"
      },
      "outputs": [
        {
          "data": {
            "text/plain": [
              "task_01 results: All test cases passed!\n",
              "task_01 - 1 message: ✅ chance_6 is a number between 0 and 1, inclusive.\n",
              "task_01 - 2 message: ✅ Your value for chance_6 is correct!\n",
              "\n",
              "task_02 results: All test cases passed!\n",
              "task_02 - 1 message: ✅ chance_65 is a number between 0 and 1, inclusive.\n",
              "task_02 - 2 message: ✅ Your value for chance_65 is correct!\n",
              "\n",
              "task_03 results: All test cases passed!\n",
              "task_03 - 1 message: ✅ chance_66 is a number between 0 and 1, inclusive.\n",
              "task_03 - 2 message: \"✅ Your value for chance_66 is correct!\"\n",
              "\n",
              "\n",
              "task_04 results: All test cases passed!\n",
              "task_04 - 1 message: ✅ chance_of_any_sequence is a number between 0 and 1, inclusive.\n",
              "task_04 - 2 message: \"✅ Your value for chance_of_any_sequence is correct!\"\n",
              "\n",
              "\n",
              "task_05 results: All test cases passed!\n",
              "task_05 - 1 message: ✅ chance_65_56 is a number between 0 and 1, inclusive.\n",
              "task_05 - 2 message: ✅ Your value for chance_65_56 is correct!\n",
              "\n",
              "task_06 results: All test cases passed!\n",
              "task_06 - 1 message: ✅ chance_at_least_one_56 is a number between 0 and 1, inclusive.\n",
              "task_06 - 2 message: ✅ Your value for chance_at_least_one_56 is correct!\n",
              "\n",
              "task_07 results: All test cases passed!\n",
              "task_07 - 1 message: ✅ The age value we checked is correct.\n",
              "task_07 - 2 message: ✅ The salary value we checked is correct.\n",
              "\n",
              "task_10 results: All test cases passed!\n",
              "task_10 - 1 message: ✅ sample_size is 30.\n",
              "task_10 - 2 message: ✅ population_arr seems correct.\n",
              "task_10 - 3 message: ✅ random_sample is an array with 2 elements.\n",
              "task_10 - 4 message: ✅ chips is an array with 10,000 elements.\n",
              "task_10 - 5 message: ✅ It seems that the average proportion that bought chips was approximately 70%."
            ]
          },
          "execution_count": 63,
          "metadata": {},
          "output_type": "execute_result"
        }
      ],
      "source": [
        "grader.check_all()"
      ]
    },
    {
      "cell_type": "code",
      "execution_count": null,
      "metadata": {
        "id": "T5brGqvpOSKH"
      },
      "outputs": [],
      "source": []
    }
  ],
  "metadata": {
    "hide_input": false,
    "kernelspec": {
      "display_name": "Python 3 (ipykernel)",
      "language": "python",
      "name": "python3"
    },
    "language_info": {
      "codemirror_mode": {
        "name": "ipython",
        "version": 3
      },
      "file_extension": ".py",
      "mimetype": "text/x-python",
      "name": "python",
      "nbconvert_exporter": "python",
      "pygments_lexer": "ipython3",
      "version": "3.11.9"
    },
    "otter": {
      "OK_FORMAT": true,
      "assignment_name": "lab06_sp25",
      "tests": {
        "task_01": {
          "name": "task_01",
          "points": null,
          "suites": [
            {
              "cases": [
                {
                  "code": ">>> 0 <= chance_6 <= 1\nTrue",
                  "failure_message": "❌ chance_6 should be a number between 0 and 1, inclusive.",
                  "hidden": false,
                  "locked": false,
                  "points": 1,
                  "success_message": "✅ chance_6 is a number between 0 and 1, inclusive."
                },
                {
                  "code": ">>> import hashlib\n>>> \n>>> def get_hash(num):\n...     \"\"\"Helper function for assessing correctness.\"\"\"\n...     return hashlib.md5(str(num).encode()).hexdigest()\n>>> get_hash(round(chance_6, 4))\n'cb5ae17636e975f9bf71ddf5bc542075'",
                  "failure_message": "❌ Your value for chance_6 is not correct! How many squares are there? How many squares are a 6?",
                  "hidden": false,
                  "locked": false,
                  "points": 1,
                  "success_message": "✅ Your value for chance_6 is correct!"
                }
              ],
              "scored": true,
              "setup": "",
              "teardown": "",
              "type": "doctest"
            }
          ]
        },
        "task_02": {
          "name": "task_02",
          "points": null,
          "suites": [
            {
              "cases": [
                {
                  "code": ">>> 0 <= chance_65 <= 1\nTrue",
                  "failure_message": "❌ chance_65 should be a number between 0 and 1, inclusive.",
                  "hidden": false,
                  "locked": false,
                  "points": 1,
                  "success_message": "✅ chance_65 is a number between 0 and 1, inclusive."
                },
                {
                  "code": ">>> import hashlib\n>>> \n>>> def get_hash(num):\n...     \"\"\"Helper function for assessing correctness.\"\"\"\n...     return hashlib.md5(str(num).encode()).hexdigest()\n>>> get_hash(round(chance_65, 4))\n'2e55d74f5c78981f6b877b198bdc61ba'",
                  "failure_message": "❌ Your value for chance_65 is not correct! What is the chance the first number is 6 AND the chance the second number is 5? Remember that the second number cannot be the same as the first.",
                  "hidden": false,
                  "locked": false,
                  "points": 1,
                  "success_message": "✅ Your value for chance_65 is correct!"
                }
              ],
              "scored": true,
              "setup": "",
              "teardown": "",
              "type": "doctest"
            }
          ]
        },
        "task_03": {
          "name": "task_03",
          "points": null,
          "suites": [
            {
              "cases": [
                {
                  "code": ">>> 0 <= chance_66 <= 1\nTrue",
                  "failure_message": "❌ chance_66 should be a number between 0 and 1, inclusive.",
                  "hidden": false,
                  "locked": false,
                  "points": 1,
                  "success_message": "✅ chance_66 is a number between 0 and 1, inclusive."
                },
                {
                  "code": ">>> import hashlib\n>>> \n>>> def get_hash(num):\n...     \"\"\"Helper function for assessing correctness.\"\"\"\n...     return hashlib.md5(str(num).encode()).hexdigest()\n>>> get_hash(float(round(chance_66, 4)))\n'30565a8911a6bb487e3745c0ea3c8224'",
                  "failure_message": "\"❌ Your value for chance_66 is not correct! Remember that the second number cannot be the same as the first.\"",
                  "hidden": false,
                  "locked": false,
                  "points": 1,
                  "success_message": "\"✅ Your value for chance_66 is correct!\"\n"
                }
              ],
              "scored": true,
              "setup": "",
              "teardown": "",
              "type": "doctest"
            }
          ]
        },
        "task_04": {
          "name": "task_04",
          "points": null,
          "suites": [
            {
              "cases": [
                {
                  "code": ">>> 0 <= chance_of_any_sequence <= 1\nTrue",
                  "failure_message": "❌ chance_of_any_sequence should be a number between 0 and 1, inclusive.",
                  "hidden": false,
                  "locked": false,
                  "points": 1,
                  "success_message": "✅ chance_of_any_sequence is a number between 0 and 1, inclusive."
                },
                {
                  "code": ">>> import hashlib\n>>> \n>>> def get_hash(num):\n...     \"\"\"Helper function for assessing correctness.\"\"\"\n...     return hashlib.md5(str(num).encode()).hexdigest()\n>>> get_hash(round(chance_of_any_sequence, 4))\n'2e55d74f5c78981f6b877b198bdc61ba'",
                  "failure_message": "\"❌ Your value for chance_of_any_sequence is not correct! Remember that the second number cannot be the same as the first, so the probabilities change for the second number in the sequence.\"",
                  "hidden": false,
                  "locked": false,
                  "points": 1,
                  "success_message": "\"✅ Your value for chance_of_any_sequence is correct!\"\n"
                }
              ],
              "scored": true,
              "setup": "",
              "teardown": "",
              "type": "doctest"
            }
          ]
        },
        "task_05": {
          "name": "task_05",
          "points": null,
          "suites": [
            {
              "cases": [
                {
                  "code": ">>> 0 <= chance_65_56 <= 1\nTrue",
                  "failure_message": "❌ chance_65_56 should be a number between 0 and 1, inclusive.",
                  "hidden": false,
                  "locked": false,
                  "points": 1,
                  "success_message": "✅ chance_65_56 is a number between 0 and 1, inclusive."
                },
                {
                  "code": ">>> import hashlib\n>>> \n>>> def get_hash(num):\n...     \"\"\"Helper function for assessing correctness.\"\"\"\n...     return hashlib.md5(str(num).encode()).hexdigest()\n>>> get_hash(round(chance_65_56, 4))\n'a3a4f732d111b1d6e677b91943de2625'",
                  "failure_message": "❌ Your value for chance_65_56 is not correct! This is like the previous task, but there is another possible option for a sequence.",
                  "hidden": false,
                  "locked": false,
                  "points": 1,
                  "success_message": "✅ Your value for chance_65_56 is correct!"
                }
              ],
              "scored": true,
              "setup": "",
              "teardown": "",
              "type": "doctest"
            }
          ]
        },
        "task_06": {
          "name": "task_06",
          "points": null,
          "suites": [
            {
              "cases": [
                {
                  "code": ">>> 0 <= chance_at_least_one_56 <= 1\nTrue",
                  "failure_message": "❌ chance_at_least_one_56 should be a number between 0 and 1, inclusive.",
                  "hidden": false,
                  "locked": false,
                  "points": 1,
                  "success_message": "✅ chance_at_least_one_56 is a number between 0 and 1, inclusive."
                },
                {
                  "code": ">>> import hashlib\n>>> \n>>> def get_hash(num):\n...     \"\"\"Helper function for assessing correctness.\"\"\"\n...     return hashlib.md5(str(num).encode()).hexdigest()\n>>> get_hash(round(chance_at_least_one_56, 4))\n'59990f2f6d79a1d4bf0fd216a24a87db'",
                  "failure_message": "❌ Your value for chance_at_least_one_56 is not correct! Consider the complementary event. First, try to determine the chance that (5, 6) will not be seen in one sequence.",
                  "hidden": false,
                  "locked": false,
                  "points": 1,
                  "success_message": "✅ Your value for chance_at_least_one_56 is correct!"
                }
              ],
              "scored": true,
              "setup": "",
              "teardown": "",
              "type": "doctest"
            }
          ]
        },
        "task_07": {
          "name": "task_07",
          "points": null,
          "suites": [
            {
              "cases": [
                {
                  "code": ">>> stats = compute_statistics(full_data)\n>>> plt.close()\n>>> plt.close()\n>>> round(float(stats[0]), 2) == 26.54\nTrue",
                  "failure_message": "❌ The age value we checked is not correct. Make sure you are using np.mean with the Age column data.",
                  "hidden": false,
                  "locked": false,
                  "points": 1,
                  "success_message": "✅ The age value we checked is correct."
                },
                {
                  "code": ">>> stats = compute_statistics(full_data)\n>>> plt.close()\n>>> plt.close()\n>>> round(float(stats[1]), 2) == 4269775.77\nTrue",
                  "failure_message": "❌ The age value we checked is not correct. Make sure you are using np.mean with the Salary column data.",
                  "hidden": false,
                  "locked": false,
                  "points": 1,
                  "success_message": "✅ The salary value we checked is correct."
                }
              ],
              "scored": true,
              "setup": "",
              "teardown": "",
              "type": "doctest"
            }
          ]
        },
        "task_10": {
          "name": "task_10",
          "points": null,
          "suites": [
            {
              "cases": [
                {
                  "code": ">>> sample_size == 30\nTrue",
                  "failure_message": "❌ sample_size should be 30 for this task.",
                  "hidden": false,
                  "locked": false,
                  "points": 1,
                  "success_message": "✅ sample_size is 30."
                },
                {
                  "code": ">>> np.all(population_arr == make_array(0.7, 0.3))\nTrue",
                  "failure_message": "❌ population_arr doesn't seem correct. Use the same array defined above.",
                  "hidden": false,
                  "locked": false,
                  "points": 1,
                  "success_message": "✅ population_arr seems correct."
                },
                {
                  "code": ">>> isinstance(random_sample, np.ndarray) and len(random_sample) == 2\nTrue",
                  "failure_message": "❌ random_sample should be an array with 2 elements. Are you using sample_proportions with the given sample size and population array?",
                  "hidden": false,
                  "locked": false,
                  "points": 1,
                  "success_message": "✅ random_sample is an array with 2 elements."
                },
                {
                  "code": ">>> isinstance(chips, np.ndarray) and len(chips) == 10000\nTrue",
                  "failure_message": "❌ chips should be an array with 10,000 elements. Try using a for loop with an array that contains 10,000 elements like np.arange(10_000).",
                  "hidden": false,
                  "locked": false,
                  "points": 1,
                  "success_message": "✅ chips is an array with 10,000 elements."
                },
                {
                  "code": ">>> 0.69 <= np.average(chips) <= 0.71\nTrue",
                  "failure_message": "❌ Although the random samples vary when it comes to the proportion that bought chips, the average proportion that bought chips should be approximately 70%. Check with someone if you are not passing this check.",
                  "hidden": false,
                  "locked": false,
                  "points": 1,
                  "success_message": "✅ It seems that the average proportion that bought chips was approximately 70%."
                }
              ],
              "scored": true,
              "setup": "",
              "teardown": "",
              "type": "doctest"
            }
          ]
        }
      }
    },
    "toc-autonumbering": false,
    "toc-showmarkdowntxt": false,
    "colab": {
      "provenance": [],
      "include_colab_link": true
    }
  },
  "nbformat": 4,
  "nbformat_minor": 0
}