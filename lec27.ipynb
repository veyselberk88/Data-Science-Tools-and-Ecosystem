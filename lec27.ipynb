{
  "cells": [
    {
      "cell_type": "markdown",
      "metadata": {
        "id": "view-in-github",
        "colab_type": "text"
      },
      "source": [
        "<a href=\"https://colab.research.google.com/github/veyselberk88/Data-Science-Tools-and-Ecosystem/blob/main/lec27.ipynb\" target=\"_parent\"><img src=\"https://colab.research.google.com/assets/colab-badge.svg\" alt=\"Open In Colab\"/></a>"
      ]
    },
    {
      "cell_type": "markdown",
      "id": "8aa20a2a-584e-498e-8296-d85e62f4195f",
      "metadata": {
        "id": "8aa20a2a-584e-498e-8296-d85e62f4195f"
      },
      "source": [
        "<img src=\"./ccsf.png\" alt=\"CCSF Logo\" width=200px style=\"margin:0px -5px\">"
      ]
    },
    {
      "cell_type": "markdown",
      "id": "602bde14-0633-4c23-8629-a87831d7d807",
      "metadata": {
        "id": "602bde14-0633-4c23-8629-a87831d7d807"
      },
      "source": [
        "# Lecture 27: Center and Spread"
      ]
    },
    {
      "cell_type": "markdown",
      "id": "8e884230-8d2d-4819-aff0-1619c88a2ac9",
      "metadata": {
        "id": "8e884230-8d2d-4819-aff0-1619c88a2ac9"
      },
      "source": [
        "Associated Textbook Sections: [14.0 - 14.2](https://ccsf-math-108.github.io/textbook/chapters/14/Why_the_Mean_Matters.html)"
      ]
    },
    {
      "cell_type": "markdown",
      "id": "04615d6d-0a0f-499e-adb2-81dbde7f05a1",
      "metadata": {
        "id": "04615d6d-0a0f-499e-adb2-81dbde7f05a1"
      },
      "source": [
        "---"
      ]
    },
    {
      "cell_type": "markdown",
      "id": "5a322ab6-280f-410f-b276-8dd1b087588b",
      "metadata": {
        "id": "5a322ab6-280f-410f-b276-8dd1b087588b"
      },
      "source": [
        "## Outline"
      ]
    },
    {
      "cell_type": "markdown",
      "id": "a2e987d5-762c-4908-ab42-5731a9c0041f",
      "metadata": {
        "id": "a2e987d5-762c-4908-ab42-5731a9c0041f"
      },
      "source": [
        "* [Center and Spread](#Center-and-Spread)\n",
        "* [Average](#Average)\n",
        "* [Standard Deviation](#Standard-Deviation)\n",
        "* [Chebyshev's Inequality](#Chebyshev's-Inequality)\n",
        "* [Standard Units](#Standard-Units)"
      ]
    },
    {
      "cell_type": "markdown",
      "id": "6bcc30a9-b078-4d76-9902-f3aadc47e262",
      "metadata": {
        "id": "6bcc30a9-b078-4d76-9902-f3aadc47e262"
      },
      "source": [
        "---"
      ]
    },
    {
      "cell_type": "markdown",
      "id": "4754d718-b934-4329-9d4a-4894681eabd5",
      "metadata": {
        "id": "4754d718-b934-4329-9d4a-4894681eabd5"
      },
      "source": [
        "## Set Up the Notebook"
      ]
    },
    {
      "cell_type": "code",
      "execution_count": null,
      "id": "d1ecfa43-e7c2-4022-9758-c41b783ccc62",
      "metadata": {
        "id": "d1ecfa43-e7c2-4022-9758-c41b783ccc62"
      },
      "outputs": [],
      "source": [
        "from datascience import *\n",
        "import numpy as np\n",
        "%matplotlib inline\n",
        "import matplotlib.pyplot as plt\n",
        "plt.style.use('fivethirtyeight')"
      ]
    },
    {
      "cell_type": "markdown",
      "id": "32740cce-034c-4417-b55c-50e0168cb5cf",
      "metadata": {
        "id": "32740cce-034c-4417-b55c-50e0168cb5cf"
      },
      "source": [
        "---"
      ]
    },
    {
      "cell_type": "markdown",
      "id": "2b62c189-10a4-4395-b148-6f6cce1b5169",
      "metadata": {
        "id": "2b62c189-10a4-4395-b148-6f6cce1b5169"
      },
      "source": [
        "## Center and Spread"
      ]
    },
    {
      "cell_type": "markdown",
      "id": "a770a6c0-7b87-4f2e-bf94-d5b8791dc7f5",
      "metadata": {
        "id": "a770a6c0-7b87-4f2e-bf94-d5b8791dc7f5"
      },
      "source": [
        "---"
      ]
    },
    {
      "cell_type": "markdown",
      "id": "bda5027c-55f4-4204-846a-9728de88f217",
      "metadata": {
        "id": "bda5027c-55f4-4204-846a-9728de88f217"
      },
      "source": [
        "### Topic Motivation"
      ]
    },
    {
      "cell_type": "markdown",
      "id": "440fb2be-d15b-4b80-a0da-a15c8e92b594",
      "metadata": {
        "id": "440fb2be-d15b-4b80-a0da-a15c8e92b594"
      },
      "source": [
        "* How can we quantify natural concepts like \"center\" and \"variability\"?\n",
        "* Why do many of the empirical distributions that we generate come out bell shaped?\n",
        "* How is sample size related to the accuracy of an estimate?"
      ]
    },
    {
      "cell_type": "markdown",
      "id": "17f286c7-7a2c-4510-8629-01782a7c3c43",
      "metadata": {
        "id": "17f286c7-7a2c-4510-8629-01782a7c3c43"
      },
      "source": [
        "---"
      ]
    },
    {
      "cell_type": "markdown",
      "id": "15d49eb8-4cc3-4a5c-8723-c27256a3d16b",
      "metadata": {
        "id": "15d49eb8-4cc3-4a5c-8723-c27256a3d16b"
      },
      "source": [
        "## Average"
      ]
    },
    {
      "cell_type": "markdown",
      "id": "1239f785-c9b4-4d06-ae8b-dd5925d0a6ad",
      "metadata": {
        "id": "1239f785-c9b4-4d06-ae8b-dd5925d0a6ad"
      },
      "source": [
        "---"
      ]
    },
    {
      "cell_type": "markdown",
      "id": "5638b7bb-20d5-48ed-a969-1da30da56777",
      "metadata": {
        "id": "5638b7bb-20d5-48ed-a969-1da30da56777"
      },
      "source": [
        "### The Average (or Mean)"
      ]
    },
    {
      "cell_type": "markdown",
      "id": "2bb677b0-68c3-4afb-b053-7ca2119c59b4",
      "metadata": {
        "id": "2bb677b0-68c3-4afb-b053-7ca2119c59b4"
      },
      "source": [
        "* Example\n",
        "    * Data: 2, 3, 3, 9    \n",
        "    * The average of 4.25 is calculated as $\\frac{2+3+3+9}{4}$\n",
        "* Need not be a value in the collection\n",
        "* Need not be an integer even if the data are integers\n",
        "* Somewhere between min and max, but not necessarily halfway in between\n",
        "* Same units as the data\n",
        "* Smoothing operator: collect all the contributions in one big pot, then split evenly"
      ]
    },
    {
      "cell_type": "markdown",
      "id": "734bdfa8-e7d2-4798-9017-12f36e47e600",
      "metadata": {
        "id": "734bdfa8-e7d2-4798-9017-12f36e47e600"
      },
      "source": [
        "---"
      ]
    },
    {
      "cell_type": "markdown",
      "id": "d27cbafd-06cd-424b-b975-3b4958f5ec24",
      "metadata": {
        "id": "d27cbafd-06cd-424b-b975-3b4958f5ec24"
      },
      "source": [
        "### Demo: Average (Mean)"
      ]
    },
    {
      "cell_type": "markdown",
      "id": "ea498671-6e9f-4c23-a83c-1016e78a4f9c",
      "metadata": {
        "deletable": false,
        "editable": false,
        "id": "ea498671-6e9f-4c23-a83c-1016e78a4f9c"
      },
      "source": [
        "Explore various ways to calculate and interpret the average."
      ]
    },
    {
      "cell_type": "code",
      "execution_count": null,
      "id": "872bfebe-f617-4b5e-ae0d-470047a0211c",
      "metadata": {
        "tags": [],
        "id": "872bfebe-f617-4b5e-ae0d-470047a0211c"
      },
      "outputs": [],
      "source": [
        "values = make_array(2, 3, 3, 9)"
      ]
    },
    {
      "cell_type": "code",
      "execution_count": null,
      "id": "fd879e8e-4cc2-4a9c-a089-a322595dcabb",
      "metadata": {
        "tags": [],
        "id": "fd879e8e-4cc2-4a9c-a089-a322595dcabb",
        "outputId": "910070f2-7d74-4057-c714-295e66402233"
      },
      "outputs": [
        {
          "data": {
            "text/plain": [
              "4.25"
            ]
          },
          "execution_count": 26,
          "metadata": {},
          "output_type": "execute_result"
        }
      ],
      "source": [
        "np.average(values)"
      ]
    },
    {
      "cell_type": "code",
      "execution_count": null,
      "id": "b907bc5c-d5e4-43d5-bd47-4d7c10d74ef4",
      "metadata": {
        "tags": [],
        "id": "b907bc5c-d5e4-43d5-bd47-4d7c10d74ef4",
        "outputId": "2a3d3777-04d9-4413-c348-ec691d67222e"
      },
      "outputs": [
        {
          "data": {
            "text/plain": [
              "4.25"
            ]
          },
          "execution_count": 27,
          "metadata": {},
          "output_type": "execute_result"
        }
      ],
      "source": [
        "np.mean(values)"
      ]
    },
    {
      "cell_type": "code",
      "execution_count": null,
      "id": "a4904941-561a-4d45-963d-d8f45c66222f",
      "metadata": {
        "tags": [],
        "id": "a4904941-561a-4d45-963d-d8f45c66222f",
        "outputId": "f4bd3318-e72a-4a08-a4e2-fd4fd1159541"
      },
      "outputs": [
        {
          "data": {
            "text/plain": [
              "4.25"
            ]
          },
          "execution_count": 28,
          "metadata": {},
          "output_type": "execute_result"
        }
      ],
      "source": [
        "sum(values) / len(values)"
      ]
    },
    {
      "cell_type": "code",
      "execution_count": null,
      "id": "99c41f07-0cb6-4fb7-b19d-2d1dd90457e0",
      "metadata": {
        "tags": [],
        "id": "99c41f07-0cb6-4fb7-b19d-2d1dd90457e0",
        "outputId": "ee29ea3e-1568-4963-8cc5-2c7f546d833e"
      },
      "outputs": [
        {
          "data": {
            "text/plain": [
              "4.25"
            ]
          },
          "execution_count": 29,
          "metadata": {},
          "output_type": "execute_result"
        }
      ],
      "source": [
        "(2 + 3 + 3 + 9) / 4"
      ]
    },
    {
      "cell_type": "code",
      "execution_count": null,
      "id": "dcd5b61e-9f77-490c-b035-bc31d5002169",
      "metadata": {
        "tags": [],
        "id": "dcd5b61e-9f77-490c-b035-bc31d5002169",
        "outputId": "1385e9bb-04c8-4775-dbbd-bb83473085e0"
      },
      "outputs": [
        {
          "data": {
            "text/plain": [
              "4.25"
            ]
          },
          "execution_count": 30,
          "metadata": {},
          "output_type": "execute_result"
        }
      ],
      "source": [
        "2*(1/4) + 3*(2/4) + 9*(1/4)"
      ]
    },
    {
      "cell_type": "markdown",
      "id": "86a4c59b-be0e-4419-a804-5b38894a6a2b",
      "metadata": {
        "id": "86a4c59b-be0e-4419-a804-5b38894a6a2b"
      },
      "source": [
        "---"
      ]
    },
    {
      "cell_type": "markdown",
      "id": "ef6c7c97-2ee0-4c18-8aee-6d4be114a706",
      "metadata": {
        "deletable": false,
        "editable": false,
        "id": "ef6c7c97-2ee0-4c18-8aee-6d4be114a706"
      },
      "source": [
        "Notice how the average reflects a physical balancing point for the data visualized through a histogram."
      ]
    },
    {
      "cell_type": "code",
      "execution_count": null,
      "id": "0b338735-2547-4ddc-8133-1b946d3e2b68",
      "metadata": {
        "tags": [],
        "id": "0b338735-2547-4ddc-8133-1b946d3e2b68",
        "outputId": "25accd99-7cad-4d23-fc62-9e7b84914264"
      },
      "outputs": [
        {
          "data": {
            "text/html": [
              "<table border=\"1\" class=\"dataframe\">\n",
              "    <thead>\n",
              "        <tr>\n",
              "            <th>value</th>\n",
              "        </tr>\n",
              "    </thead>\n",
              "    <tbody>\n",
              "        <tr>\n",
              "            <td>2    </td>\n",
              "        </tr>\n",
              "        <tr>\n",
              "            <td>3    </td>\n",
              "        </tr>\n",
              "        <tr>\n",
              "            <td>3    </td>\n",
              "        </tr>\n",
              "        <tr>\n",
              "            <td>9    </td>\n",
              "        </tr>\n",
              "    </tbody>\n",
              "</table>"
            ],
            "text/plain": [
              "value\n",
              "2\n",
              "3\n",
              "3\n",
              "9"
            ]
          },
          "execution_count": 31,
          "metadata": {},
          "output_type": "execute_result"
        }
      ],
      "source": [
        "values_table = Table().with_columns('value', values)\n",
        "values_table"
      ]
    },
    {
      "cell_type": "code",
      "execution_count": null,
      "id": "a9f9e092-40fb-428a-943e-c435b10db1aa",
      "metadata": {
        "tags": [],
        "id": "a9f9e092-40fb-428a-943e-c435b10db1aa",
        "outputId": "4fb4ef1b-3795-43ba-a1d5-6807d29ed768"
      },
      "outputs": [
        {
          "data": {
            "image/png": "[encoded data removed]",
            "text/plain": [
              "<Figure size 600x400 with 1 Axes>"
            ]
          },
          "metadata": {},
          "output_type": "display_data"
        }
      ],
      "source": [
        "bins_for_display = np.arange(0.5, 10.6, 1)\n",
        "values_table.hist(0, bins = bins_for_display)"
      ]
    },
    {
      "cell_type": "code",
      "execution_count": null,
      "id": "6c6bac0d-9f91-4c09-9074-c1aa5be7e596",
      "metadata": {
        "tags": [],
        "id": "6c6bac0d-9f91-4c09-9074-c1aa5be7e596",
        "outputId": "fc10e2a9-dc16-4013-a2bc-d60eb9961066"
      },
      "outputs": [
        {
          "data": {
            "text/plain": [
              "4.25"
            ]
          },
          "execution_count": 33,
          "metadata": {},
          "output_type": "execute_result"
        }
      ],
      "source": [
        "np.average(values)"
      ]
    },
    {
      "cell_type": "code",
      "execution_count": null,
      "id": "5bdcf8bf-2c7c-4131-82fb-a41f9403947d",
      "metadata": {
        "tags": [],
        "id": "5bdcf8bf-2c7c-4131-82fb-a41f9403947d"
      },
      "outputs": [],
      "source": [
        "new_vals = make_array(2, 2, 2, 2, 2, 2, 2, 2, 2, 2,\n",
        "                      3, 3, 3, 3, 3, 3, 3, 3, 3, 3, 3, 3, 3, 3, 3, 3, 3, 3, 3, 3,\n",
        "                      9, 9, 9, 9, 9, 9, 9, 9, 9, 9)"
      ]
    },
    {
      "cell_type": "code",
      "execution_count": null,
      "id": "48514b37-d2b2-4935-997f-481b8cca6295",
      "metadata": {
        "tags": [],
        "id": "48514b37-d2b2-4935-997f-481b8cca6295",
        "outputId": "bdcbacd2-9fa4-4ce1-cd0e-626c9cb49be7"
      },
      "outputs": [
        {
          "data": {
            "image/png": "[encoded data removed]",
            "text/plain": [
              "<Figure size 600x400 with 1 Axes>"
            ]
          },
          "metadata": {},
          "output_type": "display_data"
        }
      ],
      "source": [
        "Table().with_column('value', new_vals).hist(bins = bins_for_display)"
      ]
    },
    {
      "cell_type": "code",
      "execution_count": null,
      "id": "36082135-926c-4699-99a9-c2a60210fa7c",
      "metadata": {
        "tags": [],
        "id": "36082135-926c-4699-99a9-c2a60210fa7c",
        "outputId": "54910b3a-bb4c-4a38-bcc1-2e47e67134bf"
      },
      "outputs": [
        {
          "data": {
            "text/plain": [
              "4.25"
            ]
          },
          "execution_count": 36,
          "metadata": {},
          "output_type": "execute_result"
        }
      ],
      "source": [
        "np.average(new_vals)"
      ]
    },
    {
      "cell_type": "markdown",
      "id": "78c0f1d5-666f-4066-bd1f-871e1bd6c830",
      "metadata": {
        "id": "78c0f1d5-666f-4066-bd1f-871e1bd6c830"
      },
      "source": [
        "---"
      ]
    },
    {
      "cell_type": "markdown",
      "id": "27e9e8e4-6832-4fe2-b89c-690914855f23",
      "metadata": {
        "id": "27e9e8e4-6832-4fe2-b89c-690914855f23"
      },
      "source": [
        "### Reflection"
      ]
    },
    {
      "cell_type": "markdown",
      "id": "55d052bb-5205-40f6-8303-888db50ee227",
      "metadata": {
        "id": "55d052bb-5205-40f6-8303-888db50ee227"
      },
      "source": [
        "<img src=\"./histograms.png\" width = 80%>\n",
        "\n",
        "* Are the medians of these two distributions the same or different?\n",
        "* Are the means the same or different?\n",
        "* If you say \"different,\" then say which one is bigger."
      ]
    },
    {
      "cell_type": "markdown",
      "id": "ea2df40f-da5b-4f1e-b98f-c47049707ff8",
      "metadata": {
        "id": "ea2df40f-da5b-4f1e-b98f-c47049707ff8"
      },
      "source": [
        "---"
      ]
    },
    {
      "cell_type": "markdown",
      "id": "dede06eb-de49-4288-83ae-b01072a0ece5",
      "metadata": {
        "id": "dede06eb-de49-4288-83ae-b01072a0ece5"
      },
      "source": [
        "### Comparing Mean and Median"
      ]
    },
    {
      "cell_type": "markdown",
      "id": "c7dd1b2c-88db-49f5-9fef-fbd5b98f0f42",
      "metadata": {
        "id": "c7dd1b2c-88db-49f5-9fef-fbd5b98f0f42"
      },
      "source": [
        "* Mean: Balance point of the histogram\n",
        "* Median: Half-way point of data; half the area of histogram is on either side of median\n",
        "* If the distribution is symmetric about a value, then that value is both the average and the median.\n",
        "* If the histogram is skewed, then the mean is pulled away from the median in the direction of the tail."
      ]
    },
    {
      "cell_type": "markdown",
      "id": "03d0c4f4-f4e1-4e9d-9fd2-86ba9caf4b70",
      "metadata": {
        "id": "03d0c4f4-f4e1-4e9d-9fd2-86ba9caf4b70"
      },
      "source": [
        "---"
      ]
    },
    {
      "cell_type": "markdown",
      "id": "aa9ecf0c-ad6b-42e6-a7be-78d9c696a193",
      "metadata": {
        "id": "aa9ecf0c-ad6b-42e6-a7be-78d9c696a193"
      },
      "source": [
        "### Reflection"
      ]
    },
    {
      "cell_type": "markdown",
      "id": "06dee758-ba44-4607-a14e-8a00db4cc684",
      "metadata": {
        "id": "06dee758-ba44-4607-a14e-8a00db4cc684"
      },
      "source": [
        "<img src=\"./nba.png\" width = 50%>\n",
        "\n",
        "Is the mean or median larger for the distribution of NBA player heights?"
      ]
    },
    {
      "cell_type": "markdown",
      "id": "b0dc9018-c503-4658-a7f5-79ec18e0b758",
      "metadata": {
        "id": "b0dc9018-c503-4658-a7f5-79ec18e0b758"
      },
      "source": [
        "---"
      ]
    },
    {
      "cell_type": "markdown",
      "id": "2db8ef7b-cf8d-434e-a7fa-2207c0db8e93",
      "metadata": {
        "id": "2db8ef7b-cf8d-434e-a7fa-2207c0db8e93"
      },
      "source": [
        "## Standard Deviation"
      ]
    },
    {
      "cell_type": "markdown",
      "id": "152140ac-a28b-46dd-9ac1-3d7f5c1b7e59",
      "metadata": {
        "id": "152140ac-a28b-46dd-9ac1-3d7f5c1b7e59"
      },
      "source": [
        "---"
      ]
    },
    {
      "cell_type": "markdown",
      "id": "284a0271-f58e-48dd-9ce7-935e84fb5d32",
      "metadata": {
        "id": "284a0271-f58e-48dd-9ce7-935e84fb5d32"
      },
      "source": [
        "### Defining Variability"
      ]
    },
    {
      "cell_type": "markdown",
      "id": "5a1d0e40-e6a7-4627-a6af-a99905ab148a",
      "metadata": {
        "id": "5a1d0e40-e6a7-4627-a6af-a99905ab148a"
      },
      "source": [
        "* Plan A: “biggest value - smallest value”\n",
        "    * Doesn’t tell us much about the shape of the distribution\n",
        "* Plan B:\n",
        "    * Measure variability around the mean\n",
        "    * Need to figure out a way to quantify this\n"
      ]
    },
    {
      "cell_type": "markdown",
      "id": "b40e99da-142b-4269-ba44-9eb555574bc0",
      "metadata": {
        "id": "b40e99da-142b-4269-ba44-9eb555574bc0"
      },
      "source": [
        "---"
      ]
    },
    {
      "cell_type": "markdown",
      "id": "341e57a2-0fd0-485b-abd6-4e62f899a856",
      "metadata": {
        "id": "341e57a2-0fd0-485b-abd6-4e62f899a856"
      },
      "source": [
        "### Demo: Standard Deviation"
      ]
    },
    {
      "cell_type": "markdown",
      "id": "34508d5c-f986-4b1e-8f1b-9ba95f5ac57e",
      "metadata": {
        "deletable": false,
        "editable": false,
        "id": "34508d5c-f986-4b1e-8f1b-9ba95f5ac57e"
      },
      "source": [
        "Develop the standard deviation formula."
      ]
    },
    {
      "cell_type": "code",
      "execution_count": null,
      "id": "85d0ecb7-f85a-4aa0-8be8-86ffe714fb50",
      "metadata": {
        "tags": [],
        "id": "85d0ecb7-f85a-4aa0-8be8-86ffe714fb50"
      },
      "outputs": [],
      "source": [
        "values = make_array(2, 3, 3, 9)"
      ]
    },
    {
      "cell_type": "code",
      "execution_count": null,
      "id": "d4050050-eee9-430c-b15b-cfb30112b408",
      "metadata": {
        "tags": [],
        "id": "d4050050-eee9-430c-b15b-cfb30112b408",
        "outputId": "990e502a-da99-482a-860b-f8651392817a"
      },
      "outputs": [
        {
          "data": {
            "text/html": [
              "<table border=\"1\" class=\"dataframe\">\n",
              "    <thead>\n",
              "        <tr>\n",
              "            <th>Value</th>\n",
              "        </tr>\n",
              "    </thead>\n",
              "    <tbody>\n",
              "        <tr>\n",
              "            <td>2    </td>\n",
              "        </tr>\n",
              "        <tr>\n",
              "            <td>3    </td>\n",
              "        </tr>\n",
              "        <tr>\n",
              "            <td>3    </td>\n",
              "        </tr>\n",
              "        <tr>\n",
              "            <td>9    </td>\n",
              "        </tr>\n",
              "    </tbody>\n",
              "</table>"
            ],
            "text/plain": [
              "Value\n",
              "2\n",
              "3\n",
              "3\n",
              "9"
            ]
          },
          "execution_count": 38,
          "metadata": {},
          "output_type": "execute_result"
        }
      ],
      "source": [
        "sd_table = Table().with_columns('Value', values)\n",
        "sd_table"
      ]
    },
    {
      "cell_type": "code",
      "execution_count": null,
      "id": "a3b0f7b7-72a6-48ce-8bf2-2cefa5ab0a3a",
      "metadata": {
        "tags": [],
        "id": "a3b0f7b7-72a6-48ce-8bf2-2cefa5ab0a3a",
        "outputId": "4a78476b-1b31-47e9-eff0-138fd166b6e6"
      },
      "outputs": [
        {
          "data": {
            "text/plain": [
              "4.25"
            ]
          },
          "execution_count": 39,
          "metadata": {},
          "output_type": "execute_result"
        }
      ],
      "source": [
        "average_value = np.average(values)\n",
        "average_value"
      ]
    },
    {
      "cell_type": "code",
      "execution_count": null,
      "id": "f18fbbb4-eaea-4daa-b29d-52e58c3c5e2d",
      "metadata": {
        "tags": [],
        "id": "f18fbbb4-eaea-4daa-b29d-52e58c3c5e2d",
        "outputId": "2dd40dad-d76f-4ce2-d848-556c1f85e2b6"
      },
      "outputs": [
        {
          "data": {
            "text/html": [
              "<table border=\"1\" class=\"dataframe\">\n",
              "    <thead>\n",
              "        <tr>\n",
              "            <th>Value</th> <th>Deviation</th>\n",
              "        </tr>\n",
              "    </thead>\n",
              "    <tbody>\n",
              "        <tr>\n",
              "            <td>2    </td> <td>-2.25    </td>\n",
              "        </tr>\n",
              "        <tr>\n",
              "            <td>3    </td> <td>-1.25    </td>\n",
              "        </tr>\n",
              "        <tr>\n",
              "            <td>3    </td> <td>-1.25    </td>\n",
              "        </tr>\n",
              "        <tr>\n",
              "            <td>9    </td> <td>4.75     </td>\n",
              "        </tr>\n",
              "    </tbody>\n",
              "</table>"
            ],
            "text/plain": [
              "Value | Deviation\n",
              "2     | -2.25\n",
              "3     | -1.25\n",
              "3     | -1.25\n",
              "9     | 4.75"
            ]
          },
          "execution_count": 40,
          "metadata": {},
          "output_type": "execute_result"
        }
      ],
      "source": [
        "deviations = values - average_value\n",
        "sd_table = sd_table.with_column('Deviation', deviations)\n",
        "sd_table"
      ]
    },
    {
      "cell_type": "code",
      "execution_count": null,
      "id": "f285d053-220b-4421-80a4-c20eea239990",
      "metadata": {
        "tags": [],
        "id": "f285d053-220b-4421-80a4-c20eea239990",
        "outputId": "9fff177d-903c-4c0d-d93b-84e958353370"
      },
      "outputs": [
        {
          "data": {
            "text/plain": [
              "0.0"
            ]
          },
          "execution_count": 41,
          "metadata": {},
          "output_type": "execute_result"
        }
      ],
      "source": [
        "sum(deviations)"
      ]
    },
    {
      "cell_type": "code",
      "execution_count": null,
      "id": "3ed368e5-b713-4938-b15c-b2dbf63819e8",
      "metadata": {
        "tags": [],
        "id": "3ed368e5-b713-4938-b15c-b2dbf63819e8",
        "outputId": "4b76e03a-1456-466a-e152-8693fe82bf83"
      },
      "outputs": [
        {
          "data": {
            "text/html": [
              "<table border=\"1\" class=\"dataframe\">\n",
              "    <thead>\n",
              "        <tr>\n",
              "            <th>Value</th> <th>Deviation</th> <th>Squared Deviation</th>\n",
              "        </tr>\n",
              "    </thead>\n",
              "    <tbody>\n",
              "        <tr>\n",
              "            <td>2    </td> <td>-2.25    </td> <td>5.0625           </td>\n",
              "        </tr>\n",
              "        <tr>\n",
              "            <td>3    </td> <td>-1.25    </td> <td>1.5625           </td>\n",
              "        </tr>\n",
              "        <tr>\n",
              "            <td>3    </td> <td>-1.25    </td> <td>1.5625           </td>\n",
              "        </tr>\n",
              "        <tr>\n",
              "            <td>9    </td> <td>4.75     </td> <td>22.5625          </td>\n",
              "        </tr>\n",
              "    </tbody>\n",
              "</table>"
            ],
            "text/plain": [
              "Value | Deviation | Squared Deviation\n",
              "2     | -2.25     | 5.0625\n",
              "3     | -1.25     | 1.5625\n",
              "3     | -1.25     | 1.5625\n",
              "9     | 4.75      | 22.5625"
            ]
          },
          "execution_count": 42,
          "metadata": {},
          "output_type": "execute_result"
        }
      ],
      "source": [
        "sd_table = sd_table.with_columns('Squared Deviation', deviations ** 2)\n",
        "sd_table"
      ]
    },
    {
      "cell_type": "code",
      "execution_count": null,
      "id": "fbaf3104-ce83-4c25-9dbe-0f64cfa738d7",
      "metadata": {
        "tags": [],
        "id": "fbaf3104-ce83-4c25-9dbe-0f64cfa738d7",
        "outputId": "be60ff5e-7b41-46ea-cb3f-6987e83a98bf"
      },
      "outputs": [
        {
          "data": {
            "text/plain": [
              "7.6875"
            ]
          },
          "execution_count": 43,
          "metadata": {},
          "output_type": "execute_result"
        }
      ],
      "source": [
        "variance = np.mean(sd_table.column('Squared Deviation'))\n",
        "variance"
      ]
    },
    {
      "cell_type": "code",
      "execution_count": null,
      "id": "e94dcd69-d580-497a-ae58-d50821c54453",
      "metadata": {
        "tags": [],
        "id": "e94dcd69-d580-497a-ae58-d50821c54453",
        "outputId": "56ac6104-2198-4c51-d8b9-1e8963e52ab9"
      },
      "outputs": [
        {
          "data": {
            "text/plain": [
              "2.7726341266023544"
            ]
          },
          "execution_count": 44,
          "metadata": {},
          "output_type": "execute_result"
        }
      ],
      "source": [
        "sd = variance ** 0.5\n",
        "sd"
      ]
    },
    {
      "cell_type": "code",
      "execution_count": null,
      "id": "0fe7cf17-1090-45fb-897d-477a3d94810e",
      "metadata": {
        "tags": [],
        "id": "0fe7cf17-1090-45fb-897d-477a3d94810e",
        "outputId": "83009f77-1445-4ff1-d9f9-4959b922a7b8"
      },
      "outputs": [
        {
          "data": {
            "text/plain": [
              "2.7726341266023544"
            ]
          },
          "execution_count": 45,
          "metadata": {},
          "output_type": "execute_result"
        }
      ],
      "source": [
        "np.std(values)"
      ]
    },
    {
      "cell_type": "markdown",
      "id": "27f2b093-8832-4cbd-bde2-4dcd798693b9",
      "metadata": {
        "id": "27f2b093-8832-4cbd-bde2-4dcd798693b9"
      },
      "source": [
        "---"
      ]
    },
    {
      "cell_type": "markdown",
      "id": "e5b0fdf1-f79d-4d54-972c-fda9f52f5167",
      "metadata": {
        "id": "e5b0fdf1-f79d-4d54-972c-fda9f52f5167"
      },
      "source": [
        "### How Far from the Average?"
      ]
    },
    {
      "cell_type": "markdown",
      "id": "6ff28d24-3506-4e74-bc45-665566ea2643",
      "metadata": {
        "id": "6ff28d24-3506-4e74-bc45-665566ea2643"
      },
      "source": [
        "* Standard deviation (SD) measures roughly how far the data are from their average\n",
        "* SD = root mean square of deviations from average\n",
        "* SD has the same units as the data"
      ]
    },
    {
      "cell_type": "markdown",
      "id": "5afd7e6a-38e2-47c2-b737-406eb1c92516",
      "metadata": {
        "id": "5afd7e6a-38e2-47c2-b737-406eb1c92516"
      },
      "source": [
        "---"
      ]
    },
    {
      "cell_type": "markdown",
      "id": "41956202-5033-4717-835c-7be19c563d6e",
      "metadata": {
        "id": "41956202-5033-4717-835c-7be19c563d6e"
      },
      "source": [
        "### Why Use the SD?"
      ]
    },
    {
      "cell_type": "markdown",
      "id": "ff4f47c4-fbbc-44f5-bbb1-b10325d26b20",
      "metadata": {
        "id": "ff4f47c4-fbbc-44f5-bbb1-b10325d26b20"
      },
      "source": [
        "There are two main reasons for us.\n",
        "\n",
        "1. No matter what the shape of the distribution, the bulk of the data are in the range \"average ± a few SDs\" (Chebyshev's Inequality)\n",
        "2. ... coming up in a future lecture."
      ]
    },
    {
      "cell_type": "markdown",
      "id": "a8d6979a-714b-4eee-94ab-05b123eef082",
      "metadata": {
        "id": "a8d6979a-714b-4eee-94ab-05b123eef082"
      },
      "source": [
        "---"
      ]
    },
    {
      "cell_type": "markdown",
      "id": "31c6edcb-a5f9-45d8-82bf-333076156814",
      "metadata": {
        "id": "31c6edcb-a5f9-45d8-82bf-333076156814"
      },
      "source": [
        "## Chebyshev's Inequality"
      ]
    },
    {
      "cell_type": "markdown",
      "id": "4f87230d-8bdb-4a8a-9844-da13292ec847",
      "metadata": {
        "id": "4f87230d-8bdb-4a8a-9844-da13292ec847"
      },
      "source": [
        "---"
      ]
    },
    {
      "cell_type": "markdown",
      "id": "fcd30697-c98f-4b54-b915-0e85257a0fda",
      "metadata": {
        "id": "fcd30697-c98f-4b54-b915-0e85257a0fda"
      },
      "source": [
        "### How Big are Most of the Values?"
      ]
    },
    {
      "cell_type": "markdown",
      "id": "98ccea8e-96f9-432c-ab3f-24f22da62621",
      "metadata": {
        "id": "98ccea8e-96f9-432c-ab3f-24f22da62621"
      },
      "source": [
        "* No matter what the shape of the distribution, the bulk of the data are in the range \"average ± a few SDs\"\n",
        "* Chebyshev’s Inequality\n",
        "    * No matter what the shape of the distribution, the proportion of values in the range \"average ± $z$ SDs\" is at least $1 - 1/z^2$\n",
        "\n"
      ]
    },
    {
      "cell_type": "markdown",
      "id": "dc0213bd-cd05-4cbf-b267-30ed77bfe86f",
      "metadata": {
        "id": "dc0213bd-cd05-4cbf-b267-30ed77bfe86f"
      },
      "source": [
        "---"
      ]
    },
    {
      "cell_type": "markdown",
      "id": "15be9808-6049-427f-aebe-2f2b015d6700",
      "metadata": {
        "id": "15be9808-6049-427f-aebe-2f2b015d6700"
      },
      "source": [
        "### Chebyshev's Bounds\n"
      ]
    },
    {
      "cell_type": "markdown",
      "id": "fc4fcb02-3e36-4d29-8164-be3f956d7bd4",
      "metadata": {
        "id": "fc4fcb02-3e36-4d29-8164-be3f956d7bd4"
      },
      "source": [
        "No matter what the distribution looks like, the proportion of data values follows:\n",
        "\n",
        "<img src=\"./cheby_bounds.png\" width=50%>"
      ]
    },
    {
      "cell_type": "markdown",
      "id": "f3ade7e9-fce0-40ce-b65d-8569f3bce1aa",
      "metadata": {
        "id": "f3ade7e9-fce0-40ce-b65d-8569f3bce1aa"
      },
      "source": [
        "---"
      ]
    },
    {
      "cell_type": "markdown",
      "id": "4ee6429a-6e4d-471f-bb08-4a662f51155a",
      "metadata": {
        "id": "4ee6429a-6e4d-471f-bb08-4a662f51155a"
      },
      "source": [
        "### Demo: Chebyshev's Bound"
      ]
    },
    {
      "cell_type": "markdown",
      "id": "30121ce6-3670-4f89-a404-f1fb8ec44cb3",
      "metadata": {
        "deletable": false,
        "editable": false,
        "id": "30121ce6-3670-4f89-a404-f1fb8ec44cb3"
      },
      "source": [
        "Demonstrate Chebyshev's bounds through a data set."
      ]
    },
    {
      "cell_type": "code",
      "execution_count": null,
      "id": "c59b362d-c01d-4e84-b0ff-3a76b6cf79bb",
      "metadata": {
        "tags": [],
        "id": "c59b362d-c01d-4e84-b0ff-3a76b6cf79bb",
        "outputId": "d14dd2a2-93ec-46b8-e757-d209cb4679c5"
      },
      "outputs": [
        {
          "data": {
            "text/html": [
              "<table border=\"1\" class=\"dataframe\">\n",
              "    <thead>\n",
              "        <tr>\n",
              "            <th>Birth Weight</th> <th>Gestational Days</th> <th>Maternal Age</th> <th>Maternal Height</th> <th>Maternal Pregnancy Weight</th> <th>Maternal Smoker</th>\n",
              "        </tr>\n",
              "    </thead>\n",
              "    <tbody>\n",
              "        <tr>\n",
              "            <td>120         </td> <td>284             </td> <td>27          </td> <td>62             </td> <td>100                      </td> <td>False          </td>\n",
              "        </tr>\n",
              "        <tr>\n",
              "            <td>113         </td> <td>282             </td> <td>33          </td> <td>64             </td> <td>135                      </td> <td>False          </td>\n",
              "        </tr>\n",
              "        <tr>\n",
              "            <td>128         </td> <td>279             </td> <td>28          </td> <td>64             </td> <td>115                      </td> <td>True           </td>\n",
              "        </tr>\n",
              "    </tbody>\n",
              "</table>\n",
              "<p>... (1171 rows omitted)</p>"
            ],
            "text/plain": [
              "<IPython.core.display.HTML object>"
            ]
          },
          "metadata": {},
          "output_type": "display_data"
        }
      ],
      "source": [
        "births = Table.read_table('baby.csv')\n",
        "births.show(3)"
      ]
    },
    {
      "cell_type": "code",
      "execution_count": null,
      "id": "b14787b1-8040-4bb0-90c9-c7f325c3560b",
      "metadata": {
        "tags": [],
        "id": "b14787b1-8040-4bb0-90c9-c7f325c3560b",
        "outputId": "490a1896-7b1c-4a05-e0b5-090a2f89cae4"
      },
      "outputs": [
        {
          "data": {
            "text/plain": [
              "('Birth Weight',\n",
              " 'Gestational Days',\n",
              " 'Maternal Age',\n",
              " 'Maternal Height',\n",
              " 'Maternal Pregnancy Weight')"
            ]
          },
          "execution_count": 47,
          "metadata": {},
          "output_type": "execute_result"
        }
      ],
      "source": [
        "# [:-1] excludes the last column label\n",
        "numerical_labels = births.labels[:-1]\n",
        "numerical_labels"
      ]
    },
    {
      "cell_type": "code",
      "execution_count": null,
      "id": "ac94d52e-3228-45b0-8901-e09e1ead457b",
      "metadata": {
        "tags": [],
        "id": "ac94d52e-3228-45b0-8901-e09e1ead457b",
        "outputId": "07ed7e7d-93aa-463a-e2fb-e4b3841eaa5b"
      },
      "outputs": [
        {
          "data": {
            "image/png": "[encoded data removed]",
            "text/plain": [
              "<Figure size 600x400 with 1 Axes>"
            ]
          },
          "metadata": {},
          "output_type": "display_data"
        },
        {
          "data": {
            "image/png": "[encoded data removed]",
            "text/plain": [
              "<Figure size 600x400 with 1 Axes>"
            ]
          },
          "metadata": {},
          "output_type": "display_data"
        },
        {
          "data": {
            "image/png": "[encoded data removed]",
            "text/plain": [
              "<Figure size 600x400 with 1 Axes>"
            ]
          },
          "metadata": {},
          "output_type": "display_data"
        },
        {
          "data": {
            "image/png": "[encoded data removed]",
            "text/plain": [
              "<Figure size 600x400 with 1 Axes>"
            ]
          },
          "metadata": {},
          "output_type": "display_data"
        },
        {
          "data": {
            "image/png": "[encoded data removed]",
            "text/plain": [
              "<Figure size 600x400 with 1 Axes>"
            ]
          },
          "metadata": {},
          "output_type": "display_data"
        }
      ],
      "source": [
        "for column_label in numerical_labels:\n",
        "    births.hist(column_label)"
      ]
    },
    {
      "cell_type": "code",
      "execution_count": null,
      "id": "399fd042-939b-4499-b7f6-65f972baf82f",
      "metadata": {
        "tags": [],
        "id": "399fd042-939b-4499-b7f6-65f972baf82f",
        "outputId": "77ae26e0-3d0a-460d-98d0-b6d604271514"
      },
      "outputs": [
        {
          "name": "stdout",
          "output_type": "stream",
          "text": [
            "The mean maternal pregnancy weight is 128.48 kgs and the standard deviation for those weights is 20.73 kgs.\n"
          ]
        }
      ],
      "source": [
        "# Maternal Pregnancy Weight\n",
        "mpw = births.column('Maternal Pregnancy Weight')\n",
        "mean = np.mean(mpw)\n",
        "sd = np.std(mpw)\n",
        "print(f'The mean maternal pregnancy weight is {mean:.2f} kgs and the standard deviation for those weights is {sd:.2f} kgs.')"
      ]
    },
    {
      "cell_type": "code",
      "execution_count": null,
      "id": "5f553197-720b-4dc1-be4a-f44479330471",
      "metadata": {
        "tags": [],
        "id": "5f553197-720b-4dc1-be4a-f44479330471"
      },
      "outputs": [],
      "source": [
        "within_3_SDs = births.where('Maternal Pregnancy Weight', are.between(mean - 3*sd, mean + 3*sd))"
      ]
    },
    {
      "cell_type": "code",
      "execution_count": null,
      "id": "a2678566-41d1-44b7-a5c5-8b06402d81a2",
      "metadata": {
        "tags": [],
        "id": "a2678566-41d1-44b7-a5c5-8b06402d81a2",
        "outputId": "3afcfccc-cb54-487a-bade-45a90437681a"
      },
      "outputs": [
        {
          "data": {
            "text/plain": [
              "0.9863713798977853"
            ]
          },
          "execution_count": 51,
          "metadata": {},
          "output_type": "execute_result"
        }
      ],
      "source": [
        "# Proportion within 3 SDs of the mean\n",
        "actual_prop_3SD = within_3_SDs.num_rows / births.num_rows\n",
        "actual_prop_3SD"
      ]
    },
    {
      "cell_type": "code",
      "execution_count": null,
      "id": "8faf0c92-6e4b-4a5e-83bc-2c5c46a5fb4f",
      "metadata": {
        "tags": [],
        "id": "8faf0c92-6e4b-4a5e-83bc-2c5c46a5fb4f",
        "outputId": "f88250e6-75da-41cc-f353-706b05c3c360"
      },
      "outputs": [
        {
          "data": {
            "text/plain": [
              "0.8888888888888888"
            ]
          },
          "execution_count": 52,
          "metadata": {},
          "output_type": "execute_result"
        }
      ],
      "source": [
        "# Chebyshev's bound: The proportion we calculated above should be at least\n",
        "chebyshev_prop_3SD = 1 - 1/(3**2)\n",
        "chebyshev_prop_3SD"
      ]
    },
    {
      "cell_type": "code",
      "execution_count": null,
      "id": "00a76d29-737e-4bf3-a3f4-471f5a2152b7",
      "metadata": {
        "tags": [],
        "id": "00a76d29-737e-4bf3-a3f4-471f5a2152b7",
        "outputId": "1c4b534b-ee30-4206-9774-f4f11c3b6edf"
      },
      "outputs": [
        {
          "data": {
            "text/plain": [
              "True"
            ]
          },
          "execution_count": 53,
          "metadata": {},
          "output_type": "execute_result"
        }
      ],
      "source": [
        "# Interpreting \"at least ...\"\n",
        "actual_prop_3SD >= chebyshev_prop_3SD"
      ]
    },
    {
      "cell_type": "code",
      "execution_count": null,
      "id": "ea61bd26-5bf3-4541-98ae-dd5fc2e2b828",
      "metadata": {
        "tags": [],
        "id": "ea61bd26-5bf3-4541-98ae-dd5fc2e2b828",
        "outputId": "4725f075-7a2a-469c-fc2c-e83f86b05b6f"
      },
      "outputs": [
        {
          "name": "stdout",
          "output_type": "stream",
          "text": [
            "\n",
            "Birth Weight\n",
            "Average plus or minus 2 SDs: 94.89 % of the data\n",
            "Average plus or minus 3 SDs: 99.57 % of the data\n",
            "Average plus or minus 4 SDs: 100.0 % of the data\n",
            "Average plus or minus 5 SDs: 100.0 % of the data\n",
            "\n",
            "Gestational Days\n",
            "Average plus or minus 2 SDs: 93.78 % of the data\n",
            "Average plus or minus 3 SDs: 98.64 % of the data\n",
            "Average plus or minus 4 SDs: 99.57 % of the data\n",
            "Average plus or minus 5 SDs: 99.83 % of the data\n",
            "\n",
            "Maternal Age\n",
            "Average plus or minus 2 SDs: 94.89 % of the data\n",
            "Average plus or minus 3 SDs: 99.91 % of the data\n",
            "Average plus or minus 4 SDs: 100.0 % of the data\n",
            "Average plus or minus 5 SDs: 100.0 % of the data\n",
            "\n",
            "Maternal Height\n",
            "Average plus or minus 2 SDs: 97.19 % of the data\n",
            "Average plus or minus 3 SDs: 99.66 % of the data\n",
            "Average plus or minus 4 SDs: 99.91 % of the data\n",
            "Average plus or minus 5 SDs: 100.0 % of the data\n",
            "\n",
            "Maternal Pregnancy Weight\n",
            "Average plus or minus 2 SDs: 95.06 % of the data\n",
            "Average plus or minus 3 SDs: 98.64 % of the data\n",
            "Average plus or minus 4 SDs: 99.49 % of the data\n",
            "Average plus or minus 5 SDs: 99.91 % of the data\n"
          ]
        }
      ],
      "source": [
        "for feature in numerical_labels:\n",
        "    values = births.column(feature)\n",
        "    mean = np.mean(values)\n",
        "    sd = np.std(values)\n",
        "    print()\n",
        "    print(feature)\n",
        "    for z in make_array(2, 3, 4, 5):\n",
        "        chosen = births.where(feature, are.between(mean - z*sd, mean + z*sd))\n",
        "        proportion = chosen.num_rows / births.num_rows\n",
        "        percent = round(proportion * 100, 2)\n",
        "        print('Average plus or minus', z, 'SDs:', percent, '% of the data')"
      ]
    },
    {
      "cell_type": "markdown",
      "id": "a16d4e14-9754-4364-849c-2c8c5520d4dc",
      "metadata": {
        "id": "a16d4e14-9754-4364-849c-2c8c5520d4dc"
      },
      "source": [
        "---"
      ]
    },
    {
      "cell_type": "markdown",
      "id": "674f6947-018e-4639-bd13-e9c8fea47ccd",
      "metadata": {
        "id": "674f6947-018e-4639-bd13-e9c8fea47ccd"
      },
      "source": [
        "## Standard Units"
      ]
    },
    {
      "cell_type": "markdown",
      "id": "52c4cfaf-2e98-4379-9164-f9f852a05645",
      "metadata": {
        "id": "52c4cfaf-2e98-4379-9164-f9f852a05645"
      },
      "source": [
        "---"
      ]
    },
    {
      "cell_type": "markdown",
      "id": "9b151f44-f25a-461c-aea8-6529c8ff03e2",
      "metadata": {
        "id": "9b151f44-f25a-461c-aea8-6529c8ff03e2"
      },
      "source": [
        "### Standard Units"
      ]
    },
    {
      "cell_type": "markdown",
      "id": "9a62a733-c469-4a75-8db7-079cee7c98be",
      "metadata": {
        "id": "9a62a733-c469-4a75-8db7-079cee7c98be"
      },
      "source": [
        "* How many SDs above average?\n",
        "* `z = (value - average)/SD`\n",
        "    * Negative z: value below average\n",
        "    * Positive z: value above average\n",
        "    * z = 0: value equal to average\n",
        "* When values are in standard units: average = 0, SD = 1\n",
        "* Gives us a way to compare/understand data no matter what the original units\n"
      ]
    },
    {
      "cell_type": "markdown",
      "id": "f4447efa-d59f-4037-aa02-dd0b80ce1f6b",
      "metadata": {
        "id": "f4447efa-d59f-4037-aa02-dd0b80ce1f6b"
      },
      "source": [
        "---"
      ]
    },
    {
      "cell_type": "markdown",
      "id": "b106c7da-58dd-4df6-96f4-b22a48c8993a",
      "metadata": {
        "id": "b106c7da-58dd-4df6-96f4-b22a48c8993a"
      },
      "source": [
        "### Demo: Standard Units"
      ]
    },
    {
      "cell_type": "markdown",
      "id": "c9790df0-7ad7-4760-8c4c-5a2f7f0b8249",
      "metadata": {
        "deletable": false,
        "editable": false,
        "id": "c9790df0-7ad7-4760-8c4c-5a2f7f0b8249"
      },
      "source": [
        "Create a function to convert a measurement to standard units and apply it to the previous data set."
      ]
    },
    {
      "cell_type": "code",
      "execution_count": null,
      "id": "df02e9d6-9932-44e6-b758-01e3b48850f8",
      "metadata": {
        "tags": [],
        "id": "df02e9d6-9932-44e6-b758-01e3b48850f8"
      },
      "outputs": [],
      "source": [
        "def standard_units(x):\n",
        "    \"\"\"Convert array x to standard units.\"\"\"\n",
        "    return (x - np.mean(x)) / np.std(x)"
      ]
    },
    {
      "cell_type": "code",
      "execution_count": null,
      "id": "ac76d4bd-3e46-488b-b9d3-d493adfac872",
      "metadata": {
        "tags": [],
        "id": "ac76d4bd-3e46-488b-b9d3-d493adfac872"
      },
      "outputs": [],
      "source": [
        "ages = births.column('Maternal Age')"
      ]
    },
    {
      "cell_type": "code",
      "execution_count": null,
      "id": "5abbdd93-dd9b-496b-aa38-135aea065d4f",
      "metadata": {
        "tags": [],
        "id": "5abbdd93-dd9b-496b-aa38-135aea065d4f",
        "outputId": "4ec6f899-c494-4c21-ee1f-ed4ec62f6719"
      },
      "outputs": [
        {
          "data": {
            "text/plain": [
              "(27.228279386712096, 5.8153604041908968)"
            ]
          },
          "execution_count": 57,
          "metadata": {},
          "output_type": "execute_result"
        }
      ],
      "source": [
        "np.mean(ages), np.std(ages)"
      ]
    },
    {
      "cell_type": "code",
      "execution_count": null,
      "id": "a59d2f15-6f34-4a7e-8a14-3f5916966d06",
      "metadata": {
        "tags": [],
        "id": "a59d2f15-6f34-4a7e-8a14-3f5916966d06"
      },
      "outputs": [],
      "source": [
        "ages_standard_units = standard_units(ages)"
      ]
    },
    {
      "cell_type": "code",
      "execution_count": null,
      "id": "b0a623ec-7e03-4ef5-a750-4235b629d2b8",
      "metadata": {
        "tags": [],
        "id": "b0a623ec-7e03-4ef5-a750-4235b629d2b8",
        "outputId": "3b0eb970-8267-4815-d35a-88c4daa983d6"
      },
      "outputs": [
        {
          "data": {
            "text/plain": [
              "(-7.868020072300939e-17, 1.0)"
            ]
          },
          "execution_count": 59,
          "metadata": {},
          "output_type": "execute_result"
        }
      ],
      "source": [
        "np.mean(ages_standard_units), np.std(ages_standard_units)"
      ]
    },
    {
      "cell_type": "code",
      "execution_count": null,
      "id": "aeb9117e-ba75-4f83-bf89-f403748925b5",
      "metadata": {
        "tags": [],
        "id": "aeb9117e-ba75-4f83-bf89-f403748925b5",
        "outputId": "545b950d-84d5-452b-f294-2ce2e512f66a"
      },
      "outputs": [
        {
          "data": {
            "text/html": [
              "<table border=\"1\" class=\"dataframe\">\n",
              "    <thead>\n",
              "        <tr>\n",
              "            <th>Age in Years</th> <th>Age in Standard Units</th>\n",
              "        </tr>\n",
              "    </thead>\n",
              "    <tbody>\n",
              "        <tr>\n",
              "            <td>27          </td> <td>-0.0392546           </td>\n",
              "        </tr>\n",
              "        <tr>\n",
              "            <td>33          </td> <td>0.992496             </td>\n",
              "        </tr>\n",
              "        <tr>\n",
              "            <td>28          </td> <td>0.132704             </td>\n",
              "        </tr>\n",
              "        <tr>\n",
              "            <td>23          </td> <td>-0.727088            </td>\n",
              "        </tr>\n",
              "        <tr>\n",
              "            <td>25          </td> <td>-0.383171            </td>\n",
              "        </tr>\n",
              "        <tr>\n",
              "            <td>33          </td> <td>0.992496             </td>\n",
              "        </tr>\n",
              "        <tr>\n",
              "            <td>23          </td> <td>-0.727088            </td>\n",
              "        </tr>\n",
              "        <tr>\n",
              "            <td>25          </td> <td>-0.383171            </td>\n",
              "        </tr>\n",
              "        <tr>\n",
              "            <td>30          </td> <td>0.476621             </td>\n",
              "        </tr>\n",
              "        <tr>\n",
              "            <td>27          </td> <td>-0.0392546           </td>\n",
              "        </tr>\n",
              "    </tbody>\n",
              "</table>\n",
              "<p>... (1164 rows omitted)</p>"
            ],
            "text/plain": [
              "Age in Years | Age in Standard Units\n",
              "27           | -0.0392546\n",
              "33           | 0.992496\n",
              "28           | 0.132704\n",
              "23           | -0.727088\n",
              "25           | -0.383171\n",
              "33           | 0.992496\n",
              "23           | -0.727088\n",
              "25           | -0.383171\n",
              "30           | 0.476621\n",
              "27           | -0.0392546\n",
              "... (1164 rows omitted)"
            ]
          },
          "execution_count": 60,
          "metadata": {},
          "output_type": "execute_result"
        }
      ],
      "source": [
        "both = Table().with_columns(\n",
        "    'Age in Years', ages,\n",
        "    'Age in Standard Units', ages_standard_units\n",
        ")\n",
        "both"
      ]
    },
    {
      "cell_type": "code",
      "execution_count": null,
      "id": "6e5e7431-9ca9-4e56-8eaa-179c07726fe6",
      "metadata": {
        "tags": [],
        "id": "6e5e7431-9ca9-4e56-8eaa-179c07726fe6",
        "outputId": "13505899-4b3b-4fe2-820c-495f017a1302"
      },
      "outputs": [
        {
          "data": {
            "image/png": "[encoded data removed]",
            "text/plain": [
              "<Figure size 600x400 with 1 Axes>"
            ]
          },
          "metadata": {},
          "output_type": "display_data"
        }
      ],
      "source": [
        "both.hist('Age in Years', bins = np.arange(15, 46, 2))\n",
        "plt.show()"
      ]
    },
    {
      "cell_type": "code",
      "execution_count": null,
      "id": "f75943a8-2538-4bbe-9d60-1df7bed6df7d",
      "metadata": {
        "tags": [],
        "id": "f75943a8-2538-4bbe-9d60-1df7bed6df7d",
        "outputId": "46932fcf-895e-4511-c05d-ece3a92201d9"
      },
      "outputs": [
        {
          "data": {
            "image/png": "[encoded data removed]",
            "text/plain": [
              "<Figure size 600x400 with 1 Axes>"
            ]
          },
          "metadata": {},
          "output_type": "display_data"
        }
      ],
      "source": [
        "both.hist('Age in Standard Units', bins = np.arange(-2.2, 3.4, 0.35))\n",
        "plt.xlim(-2, 3.1)\n",
        "plt.show()"
      ]
    },
    {
      "cell_type": "markdown",
      "id": "7698f50b-ac09-4347-bee2-e953315913de",
      "metadata": {
        "id": "7698f50b-ac09-4347-bee2-e953315913de"
      },
      "source": [
        "---"
      ]
    },
    {
      "cell_type": "markdown",
      "id": "03fd70cd-0cd7-475f-a710-703c3925e271",
      "metadata": {
        "id": "03fd70cd-0cd7-475f-a710-703c3925e271"
      },
      "source": [
        "### The SD and the Histogram"
      ]
    },
    {
      "cell_type": "markdown",
      "id": "973a66a6-6bae-49e4-ad3c-c1957d88131a",
      "metadata": {
        "id": "973a66a6-6bae-49e4-ad3c-c1957d88131a"
      },
      "source": [
        "* Usually, it's not easy to estimate the SD by looking at a histogram.\n",
        "* But if the histogram has a bell shape, then you can.\n"
      ]
    },
    {
      "cell_type": "markdown",
      "id": "d5227558-056b-42f4-8953-2bb2d64d0792",
      "metadata": {
        "id": "d5227558-056b-42f4-8953-2bb2d64d0792"
      },
      "source": [
        "---"
      ]
    },
    {
      "cell_type": "markdown",
      "id": "a2a23b5d-f574-47d6-a8ae-f27583b0e687",
      "metadata": {
        "id": "a2a23b5d-f574-47d6-a8ae-f27583b0e687"
      },
      "source": [
        "### The SD and Bell-Shaped Curves"
      ]
    },
    {
      "cell_type": "markdown",
      "id": "89759350-809b-4a24-b35a-d6bc58527293",
      "metadata": {
        "id": "89759350-809b-4a24-b35a-d6bc58527293"
      },
      "source": [
        "If a histogram is bell-shaped, then\n",
        "* the average is at the center\n",
        "* the SD is the distance between the average and the points of inflection on either side\n"
      ]
    },
    {
      "cell_type": "markdown",
      "id": "b00b98be-5dc6-4b7d-ab90-86360661e1cc",
      "metadata": {
        "id": "b00b98be-5dc6-4b7d-ab90-86360661e1cc"
      },
      "source": [
        "---"
      ]
    },
    {
      "cell_type": "markdown",
      "id": "48b4c6c4-a672-489d-a237-b7477400972b",
      "metadata": {
        "id": "48b4c6c4-a672-489d-a237-b7477400972b"
      },
      "source": [
        "### Demo: The SD and Bell Shaped Curves"
      ]
    },
    {
      "cell_type": "markdown",
      "id": "85df8d74-be6d-46ff-88f6-fb86d2468eba",
      "metadata": {
        "deletable": false,
        "editable": false,
        "id": "85df8d74-be6d-46ff-88f6-fb86d2468eba"
      },
      "source": [
        "Notice the way the distribution changes around $\\pm 1$ of the mean."
      ]
    },
    {
      "cell_type": "code",
      "execution_count": null,
      "id": "dcd6f480-220d-4f9d-8d55-13cf31bcef9b",
      "metadata": {
        "tags": [],
        "id": "dcd6f480-220d-4f9d-8d55-13cf31bcef9b",
        "outputId": "2984b9de-6171-4010-87ba-8ee7a6d9a0fc"
      },
      "outputs": [
        {
          "data": {
            "image/png": "[encoded data removed]",
            "text/plain": [
              "<Figure size 600x400 with 1 Axes>"
            ]
          },
          "metadata": {},
          "output_type": "display_data"
        }
      ],
      "source": [
        "births.hist('Maternal Height', bins = np.arange(56.5, 72.6, 1))"
      ]
    },
    {
      "cell_type": "code",
      "execution_count": null,
      "id": "b9a10935-fb50-4657-9ae0-7572d58b1e7e",
      "metadata": {
        "tags": [],
        "id": "b9a10935-fb50-4657-9ae0-7572d58b1e7e",
        "outputId": "28319d88-4f1c-4575-bbd5-d53cd9456c43"
      },
      "outputs": [
        {
          "data": {
            "text/plain": [
              "(64.049403747870528, 2.5250254409674375)"
            ]
          },
          "execution_count": 64,
          "metadata": {},
          "output_type": "execute_result"
        }
      ],
      "source": [
        "heights = births.column('Maternal Height')\n",
        "np.mean(heights), np.std(heights)"
      ]
    },
    {
      "cell_type": "code",
      "execution_count": null,
      "id": "9d914fe4-2711-4fc3-b4e6-c0688b609bef",
      "metadata": {
        "tags": [],
        "id": "9d914fe4-2711-4fc3-b4e6-c0688b609bef",
        "outputId": "cf0fc245-1e9b-4823-f79f-9a4d094d3436"
      },
      "outputs": [
        {
          "data": {
            "text/plain": [
              "(66.574429188837968, 61.524378306903088)"
            ]
          },
          "execution_count": 65,
          "metadata": {},
          "output_type": "execute_result"
        }
      ],
      "source": [
        "one_SD_above_mean = np.mean(heights) + np.std(heights)\n",
        "one_SD_below_mean = np.mean(heights) - np.std(heights)\n",
        "one_SD_above_mean, one_SD_below_mean"
      ]
    },
    {
      "cell_type": "markdown",
      "id": "afaad9ad-2c4d-4609-9b60-35ab639d6987",
      "metadata": {
        "id": "afaad9ad-2c4d-4609-9b60-35ab639d6987"
      },
      "source": [
        "---"
      ]
    },
    {
      "cell_type": "markdown",
      "id": "3e920c25-1a84-4862-8224-be79af287d4b",
      "metadata": {
        "id": "3e920c25-1a84-4862-8224-be79af287d4b"
      },
      "source": [
        "### Point of Inflection"
      ]
    },
    {
      "cell_type": "markdown",
      "id": "66ca4c3c-ec8b-49e0-b513-a1e6de882940",
      "metadata": {
        "id": "66ca4c3c-ec8b-49e0-b513-a1e6de882940"
      },
      "source": [
        "<img src=\"./inflection_points.png\" width =50%>"
      ]
    },
    {
      "cell_type": "markdown",
      "id": "4f734c96-c16b-4927-a10f-b642770e2bfd",
      "metadata": {
        "id": "4f734c96-c16b-4927-a10f-b642770e2bfd"
      },
      "source": [
        "The curvature of shape of the histogram changes at one standard deviation below the mean and one standard deviation above the mean."
      ]
    },
    {
      "cell_type": "markdown",
      "id": "bdb677ff-2d6e-4e5d-8b2c-d2eb8fde287d",
      "metadata": {
        "id": "bdb677ff-2d6e-4e5d-8b2c-d2eb8fde287d"
      },
      "source": [
        "---"
      ]
    },
    {
      "cell_type": "markdown",
      "id": "211e4930-adf5-409c-8673-abf2d2aa126b",
      "metadata": {
        "editable": true,
        "tags": [],
        "id": "211e4930-adf5-409c-8673-abf2d2aa126b"
      },
      "source": [
        "## Attribution"
      ]
    },
    {
      "cell_type": "markdown",
      "id": "eaa9e94f-6bae-4498-a4ca-24e5303e2e07",
      "metadata": {
        "id": "eaa9e94f-6bae-4498-a4ca-24e5303e2e07"
      },
      "source": [
        "This content is licensed under the <a href=\"https://creativecommons.org/licenses/by-nc-sa/4.0/\">Creative Commons Attribution-NonCommercial-ShareAlike 4.0 International License (CC BY-NC-SA 4.0)</a> and derived from the <a href=\"https://www.data8.org/\">Data 8: The Foundations of Data Science</a> offered by the University of California, Berkeley.\n",
        "\n",
        "<img src=\"./by-nc-sa.png\" width=100px>"
      ]
    }
  ],
  "metadata": {
    "kernelspec": {
      "display_name": "Python 3 (ipykernel)",
      "language": "python",
      "name": "python3"
    },
    "language_info": {
      "codemirror_mode": {
        "name": "ipython",
        "version": 3
      },
      "file_extension": ".py",
      "mimetype": "text/x-python",
      "name": "python",
      "nbconvert_exporter": "python",
      "pygments_lexer": "ipython3",
      "version": "3.11.9"
    },
    "otter": {
      "OK_FORMAT": true,
      "tests": {}
    },
    "colab": {
      "provenance": [],
      "include_colab_link": true
    }
  },
  "nbformat": 4,
  "nbformat_minor": 5
}