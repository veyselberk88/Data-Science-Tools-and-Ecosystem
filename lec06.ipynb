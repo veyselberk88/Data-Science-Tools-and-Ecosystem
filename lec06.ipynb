{
  "cells": [
    {
      "cell_type": "markdown",
      "metadata": {
        "id": "view-in-github",
        "colab_type": "text"
      },
      "source": [
        "<a href=\"https://colab.research.google.com/github/veyselberk88/Data-Science-Tools-and-Ecosystem/blob/main/lec06.ipynb\" target=\"_parent\"><img src=\"https://colab.research.google.com/assets/colab-badge.svg\" alt=\"Open In Colab\"/></a>"
      ]
    },
    {
      "cell_type": "markdown",
      "id": "58b301df-c92a-41f6-a2d4-3066afdd5a52",
      "metadata": {
        "id": "58b301df-c92a-41f6-a2d4-3066afdd5a52"
      },
      "source": [
        "<img src=\"./ccsf.png\" alt=\"CCSF Logo\" width=200px style=\"margin:0px -5px\">"
      ]
    },
    {
      "cell_type": "markdown",
      "id": "c845d566-6408-409a-b07c-e10d9038094b",
      "metadata": {
        "id": "c845d566-6408-409a-b07c-e10d9038094b"
      },
      "source": [
        "# Lecture 06: Tables"
      ]
    },
    {
      "cell_type": "markdown",
      "id": "bde5a919-2140-47af-8da6-69d450e5fa9f",
      "metadata": {
        "id": "bde5a919-2140-47af-8da6-69d450e5fa9f"
      },
      "source": [
        "Associated Textbook Sections: [3.4](https://ccsf-math-108.github.io/textbook/chapters/03/4/Introduction_to_Tables.html)"
      ]
    },
    {
      "cell_type": "markdown",
      "id": "ef227789-95d3-4f0d-8982-4c3c643d8549",
      "metadata": {
        "editable": true,
        "tags": [],
        "id": "ef227789-95d3-4f0d-8982-4c3c643d8549"
      },
      "source": [
        "---"
      ]
    },
    {
      "cell_type": "markdown",
      "id": "46582649-1f7f-47ae-8e06-a934db27be93",
      "metadata": {
        "id": "46582649-1f7f-47ae-8e06-a934db27be93"
      },
      "source": [
        "## Overview"
      ]
    },
    {
      "cell_type": "markdown",
      "id": "3cb85204-e762-482c-a16e-80dbf5fd52ee",
      "metadata": {
        "id": "3cb85204-e762-482c-a16e-80dbf5fd52ee"
      },
      "source": [
        "* [Tables](#Tables)\n",
        "* [Attributes and Properties](#Attributes-and-Properties)\n",
        "* [Some Table Methods](#Some-Table-Methods)"
      ]
    },
    {
      "cell_type": "markdown",
      "id": "e559619e-d05f-450d-8cde-2d5775e2ac1c",
      "metadata": {
        "editable": true,
        "tags": [],
        "id": "e559619e-d05f-450d-8cde-2d5775e2ac1c"
      },
      "source": [
        "---"
      ]
    },
    {
      "cell_type": "markdown",
      "id": "c30412b8-cc65-466a-88fa-e2fdcdc8cd4b",
      "metadata": {
        "id": "c30412b8-cc65-466a-88fa-e2fdcdc8cd4b"
      },
      "source": [
        "## Set Up the Notebook"
      ]
    },
    {
      "cell_type": "code",
      "execution_count": null,
      "id": "38cb2d4c-0357-4091-9f2b-798acd86deb3",
      "metadata": {
        "tags": [],
        "id": "38cb2d4c-0357-4091-9f2b-798acd86deb3"
      },
      "outputs": [],
      "source": [
        "from datascience import *\n",
        "import numpy as np"
      ]
    },
    {
      "cell_type": "markdown",
      "id": "05b0c396-fe27-446a-9e3d-dc5c9de68384",
      "metadata": {
        "editable": true,
        "tags": [],
        "id": "05b0c396-fe27-446a-9e3d-dc5c9de68384"
      },
      "source": [
        "---"
      ]
    },
    {
      "cell_type": "markdown",
      "id": "5008dba8-404e-424d-bf74-853938c78f50",
      "metadata": {
        "id": "5008dba8-404e-424d-bf74-853938c78f50"
      },
      "source": [
        "## Tables"
      ]
    },
    {
      "cell_type": "markdown",
      "id": "a52bd079-190c-4403-87bc-ce47601f4e4a",
      "metadata": {
        "editable": true,
        "tags": [],
        "id": "a52bd079-190c-4403-87bc-ce47601f4e4a"
      },
      "source": [
        "---"
      ]
    },
    {
      "cell_type": "markdown",
      "id": "33cd9c24-e448-4ba8-9ca5-6d1aff9a564c",
      "metadata": {
        "id": "33cd9c24-e448-4ba8-9ca5-6d1aff9a564c"
      },
      "source": [
        "### Early Beginnings"
      ]
    },
    {
      "cell_type": "markdown",
      "id": "494acc1a-1281-4eab-86a9-d6ca32aeeb24",
      "metadata": {
        "id": "494acc1a-1281-4eab-86a9-d6ca32aeeb24"
      },
      "source": [
        "<a href=\"https://academic.oup.com/book/4975/chapter-abstract/147431903\" title=\"Tables and tabular formatting in Sumer, Babylonia, and Assyria, 2500 bce–50 ce\"><img src=\"./Shuruppag_data_table.jpeg\" alt=\"The world’s oldest datable mathematical table, from Shuruppag, c. 2600 BCE.  The first two columns contain identical lengths in descending order from 600 to 60 rods (c. 3600–360 m) and the final column contains the square area of their product\" width=40%></a>\n",
        "\n",
        "Ancient Mesopotamia (modern-day Iraq):\n",
        "* Sumer, Babylonia, and Assyria had clay tablets from around 2600-1600 BCE that provide examples of some of the earliest recorded numerical tables\n",
        "* The tablets demonstrate their proficiency in recording mathematical and astronomical data\n",
        "\n",
        "The image above shows the world's oldest dateable mathematical table (on record), from the Sumerian city of Shuruppag, c. 2600 BCE.  The first two columns contain identical lengths in descending order from 600 to 60 rods (c. 3600-360 m) and the final column contains the square area of their product"
      ]
    },
    {
      "cell_type": "markdown",
      "id": "7ddcad51-d71c-4302-b345-b24f13109636",
      "metadata": {
        "editable": true,
        "tags": [],
        "id": "7ddcad51-d71c-4302-b345-b24f13109636"
      },
      "source": [
        "---"
      ]
    },
    {
      "cell_type": "markdown",
      "id": "7baaab06-605c-4982-9111-35ab60ba7081",
      "metadata": {
        "id": "7baaab06-605c-4982-9111-35ab60ba7081"
      },
      "source": [
        "### Table Structure"
      ]
    },
    {
      "cell_type": "markdown",
      "id": "9dcc93ef-92fa-49e1-a428-3966d4db450f",
      "metadata": {
        "id": "9dcc93ef-92fa-49e1-a428-3966d4db450f"
      },
      "source": [
        "* The `datascience` library contains a data type called a `Table`.\n",
        "* A `Table` is a sequence of labeled columns\n",
        "* Each row represents one individual\n",
        "* Data within a column represents one attribute of the individuals\n",
        "\n",
        "<img src=\"./table_structure.png\" alt=\"A table with the columns and rows indicated.\" width=50%>"
      ]
    },
    {
      "cell_type": "markdown",
      "id": "886125b2-6770-4997-869d-5a8495d4d61c",
      "metadata": {
        "editable": true,
        "tags": [],
        "id": "886125b2-6770-4997-869d-5a8495d4d61c"
      },
      "source": [
        "---"
      ]
    },
    {
      "cell_type": "markdown",
      "id": "c5cc5b05-7f05-4d64-a4cc-136743619df3",
      "metadata": {
        "id": "c5cc5b05-7f05-4d64-a4cc-136743619df3"
      },
      "source": [
        "### Loading Data"
      ]
    },
    {
      "cell_type": "markdown",
      "id": "c879b95e-e78d-4613-a502-6f6f688e093c",
      "metadata": {
        "id": "c879b95e-e78d-4613-a502-6f6f688e093c"
      },
      "source": [
        "* Data analysis usually includes connecting to various data sources\n",
        "* We focus on loading data from CSV files\n",
        "    * Comma Separated Values\n",
        "    * `.csv` extension\n",
        "* The `Table.read_table` function will load the contents of a CSV into the notebook as a `Table`."
      ]
    },
    {
      "cell_type": "markdown",
      "id": "15012496-e191-4c83-8646-58eabf272757",
      "metadata": {
        "editable": true,
        "tags": [],
        "id": "15012496-e191-4c83-8646-58eabf272757"
      },
      "source": [
        "---"
      ]
    },
    {
      "cell_type": "markdown",
      "id": "2f9ac517-69d4-4601-ba6f-49b4910a2be2",
      "metadata": {
        "editable": true,
        "tags": [],
        "id": "2f9ac517-69d4-4601-ba6f-49b4910a2be2"
      },
      "source": [
        "### Demo: Loading Data"
      ]
    },
    {
      "cell_type": "markdown",
      "id": "83a6e900-4b14-4d45-91ad-103afc7564ed",
      "metadata": {
        "deletable": false,
        "editable": false,
        "tags": [],
        "id": "83a6e900-4b14-4d45-91ad-103afc7564ed"
      },
      "source": [
        "<a href=\"https://upload.wikimedia.org/wikipedia/commons/b/bb/US_States_by_Total_Area.svg\" title=\"US States by Total Area\"><img src=\"US_States_by_Total_Area.svg\" alt=\"US states by area\" width=40%></a>\n",
        "\n",
        "Import data in `states_area.csv` that contains land and water area data sourced form [Wikipedia](https://en.wikipedia.org/wiki/List_of_U.S._states_and_territories_by_area)."
      ]
    },
    {
      "cell_type": "code",
      "execution_count": null,
      "id": "cc03cf85-1e1b-4f9c-89df-c9bf4512dcf4",
      "metadata": {
        "tags": [],
        "id": "cc03cf85-1e1b-4f9c-89df-c9bf4512dcf4",
        "outputId": "46d8c734-28fd-45b9-fb27-e654521aac81"
      },
      "outputs": [
        {
          "data": {
            "text/html": [
              "<table border=\"1\" class=\"dataframe\">\n",
              "    <thead>\n",
              "        <tr>\n",
              "            <th>State</th> <th>Total Area (sq mi)</th> <th>Land Area (sq mi)</th> <th>Water Area (sq mi)</th>\n",
              "        </tr>\n",
              "    </thead>\n",
              "    <tbody>\n",
              "        <tr>\n",
              "            <td>Alaska    </td> <td>665384            </td> <td>570641           </td> <td>94743.1           </td>\n",
              "        </tr>\n",
              "        <tr>\n",
              "            <td>Texas     </td> <td>268596            </td> <td>261232           </td> <td>7364.75           </td>\n",
              "        </tr>\n",
              "        <tr>\n",
              "            <td>California</td> <td>163695            </td> <td>155779           </td> <td>7915.52           </td>\n",
              "        </tr>\n",
              "        <tr>\n",
              "            <td>Montana   </td> <td>147040            </td> <td>145546           </td> <td>1493.91           </td>\n",
              "        </tr>\n",
              "        <tr>\n",
              "            <td>New Mexico</td> <td>121590            </td> <td>121298           </td> <td>292.15            </td>\n",
              "        </tr>\n",
              "        <tr>\n",
              "            <td>Arizona   </td> <td>113990            </td> <td>113594           </td> <td>396.22            </td>\n",
              "        </tr>\n",
              "        <tr>\n",
              "            <td>Nevada    </td> <td>110572            </td> <td>109781           </td> <td>790.65            </td>\n",
              "        </tr>\n",
              "        <tr>\n",
              "            <td>Colorado  </td> <td>104094            </td> <td>103642           </td> <td>451.78            </td>\n",
              "        </tr>\n",
              "        <tr>\n",
              "            <td>Oregon    </td> <td>98378.5           </td> <td>95988            </td> <td>2390.53           </td>\n",
              "        </tr>\n",
              "        <tr>\n",
              "            <td>Wyoming   </td> <td>97813             </td> <td>97093.1          </td> <td>719.87            </td>\n",
              "        </tr>\n",
              "    </tbody>\n",
              "</table>\n",
              "<p>... (40 rows omitted)</p>"
            ],
            "text/plain": [
              "State      | Total Area (sq mi) | Land Area (sq mi) | Water Area (sq mi)\n",
              "Alaska     | 665384             | 570641            | 94743.1\n",
              "Texas      | 268596             | 261232            | 7364.75\n",
              "California | 163695             | 155779            | 7915.52\n",
              "Montana    | 147040             | 145546            | 1493.91\n",
              "New Mexico | 121590             | 121298            | 292.15\n",
              "Arizona    | 113990             | 113594            | 396.22\n",
              "Nevada     | 110572             | 109781            | 790.65\n",
              "Colorado   | 104094             | 103642            | 451.78\n",
              "Oregon     | 98378.5            | 95988             | 2390.53\n",
              "Wyoming    | 97813              | 97093.1           | 719.87\n",
              "... (40 rows omitted)"
            ]
          },
          "execution_count": 2,
          "metadata": {},
          "output_type": "execute_result"
        }
      ],
      "source": [
        "states = Table.read_table('states_area.csv')\n",
        "states"
      ]
    },
    {
      "cell_type": "code",
      "execution_count": null,
      "id": "1376367a-7dc8-4f85-b8c9-5a3dd7f47526",
      "metadata": {
        "tags": [],
        "id": "1376367a-7dc8-4f85-b8c9-5a3dd7f47526",
        "outputId": "88943eac-38c3-4b5f-f04b-bf55200f2674"
      },
      "outputs": [
        {
          "data": {
            "text/plain": [
              "datascience.tables.Table"
            ]
          },
          "execution_count": 3,
          "metadata": {},
          "output_type": "execute_result"
        }
      ],
      "source": [
        "type(states)"
      ]
    },
    {
      "cell_type": "markdown",
      "id": "4d8910ec-5e81-4746-963d-b5614c94e868",
      "metadata": {
        "editable": true,
        "tags": [],
        "id": "4d8910ec-5e81-4746-963d-b5614c94e868"
      },
      "source": [
        "---"
      ]
    },
    {
      "cell_type": "markdown",
      "id": "1f003460-047f-4fe0-a81c-6b4c1af1e86b",
      "metadata": {
        "id": "1f003460-047f-4fe0-a81c-6b4c1af1e86b"
      },
      "source": [
        "## Attributes and Properties"
      ]
    },
    {
      "cell_type": "markdown",
      "id": "4f974eea-97b5-4cdc-8b63-b075222bd927",
      "metadata": {
        "id": "4f974eea-97b5-4cdc-8b63-b075222bd927"
      },
      "source": [
        "A `Table` has information that we can access by command. For example:\n",
        "* `t.labels` - the labels of a table called `t`\n",
        "* `t.num_columns` - the number of columns in `t`\n",
        "* `t.num_rows` - the number of rows in `t`\n",
        "* `t.rows` - a collection of all the rows in `t`"
      ]
    },
    {
      "cell_type": "markdown",
      "id": "a2e62c70-9dd4-411e-8469-3f95d822ce8c",
      "metadata": {
        "editable": true,
        "tags": [],
        "id": "a2e62c70-9dd4-411e-8469-3f95d822ce8c"
      },
      "source": [
        "---"
      ]
    },
    {
      "cell_type": "markdown",
      "id": "df916125-86fe-430c-bc16-825503c6ebce",
      "metadata": {
        "id": "df916125-86fe-430c-bc16-825503c6ebce"
      },
      "source": [
        "### Demo: Attributes and Properties"
      ]
    },
    {
      "cell_type": "markdown",
      "id": "1133d97c-9f63-4271-b553-ff46cb09603a",
      "metadata": {
        "deletable": false,
        "editable": false,
        "id": "1133d97c-9f63-4271-b553-ff46cb09603a"
      },
      "source": [
        "There are various attributes of a table that you can access as well using the dot notation such as `labels`, `num_columns`, and `num_rows`."
      ]
    },
    {
      "cell_type": "code",
      "execution_count": null,
      "id": "99f2d660-1896-4178-9348-85521f8a006e",
      "metadata": {
        "tags": [],
        "id": "99f2d660-1896-4178-9348-85521f8a006e",
        "outputId": "59b46d98-1296-4f8b-9d5e-217ffc0fbc90"
      },
      "outputs": [
        {
          "data": {
            "text/plain": [
              "('State', 'Total Area (sq mi)', 'Land Area (sq mi)', 'Water Area (sq mi)')"
            ]
          },
          "execution_count": 4,
          "metadata": {},
          "output_type": "execute_result"
        }
      ],
      "source": [
        "states.labels"
      ]
    },
    {
      "cell_type": "code",
      "execution_count": null,
      "id": "aabee19c-db88-4cb5-85af-ff9d7b013124",
      "metadata": {
        "tags": [],
        "id": "aabee19c-db88-4cb5-85af-ff9d7b013124",
        "outputId": "26c71efe-8cd6-429d-a733-54962371f65c"
      },
      "outputs": [
        {
          "data": {
            "text/plain": [
              "4"
            ]
          },
          "execution_count": 6,
          "metadata": {},
          "output_type": "execute_result"
        }
      ],
      "source": [
        "states.num_columns"
      ]
    },
    {
      "cell_type": "code",
      "execution_count": null,
      "id": "8c69865a-356e-424c-8ea0-835ca455bdef",
      "metadata": {
        "tags": [],
        "id": "8c69865a-356e-424c-8ea0-835ca455bdef",
        "outputId": "de7b793a-29a7-4290-ad91-03b3c3bf34f5"
      },
      "outputs": [
        {
          "data": {
            "text/plain": [
              "50"
            ]
          },
          "execution_count": 7,
          "metadata": {},
          "output_type": "execute_result"
        }
      ],
      "source": [
        "states.num_rows"
      ]
    },
    {
      "cell_type": "code",
      "execution_count": null,
      "id": "0b5e646c-8b76-49bb-8de2-be9dc53cbf3b",
      "metadata": {
        "scrolled": true,
        "tags": [],
        "id": "0b5e646c-8b76-49bb-8de2-be9dc53cbf3b",
        "outputId": "4874d69e-4b65-491d-b3f1-806f2037c8c1"
      },
      "outputs": [
        {
          "data": {
            "text/plain": [
              "Rows(State      | Total Area (sq mi) | Land Area (sq mi) | Water Area (sq mi)\n",
              "Alaska     | 665384             | 570641            | 94743.1\n",
              "Texas      | 268596             | 261232            | 7364.75\n",
              "California | 163695             | 155779            | 7915.52\n",
              "Montana    | 147040             | 145546            | 1493.91\n",
              "New Mexico | 121590             | 121298            | 292.15\n",
              "Arizona    | 113990             | 113594            | 396.22\n",
              "Nevada     | 110572             | 109781            | 790.65\n",
              "Colorado   | 104094             | 103642            | 451.78\n",
              "Oregon     | 98378.5            | 95988             | 2390.53\n",
              "Wyoming    | 97813              | 97093.1           | 719.87\n",
              "... (40 rows omitted))"
            ]
          },
          "execution_count": 8,
          "metadata": {},
          "output_type": "execute_result"
        }
      ],
      "source": [
        "states.rows"
      ]
    },
    {
      "cell_type": "markdown",
      "id": "616244a5-aea3-4047-a028-f83036e3b7e2",
      "metadata": {
        "editable": true,
        "tags": [],
        "id": "616244a5-aea3-4047-a028-f83036e3b7e2"
      },
      "source": [
        "---"
      ]
    },
    {
      "cell_type": "code",
      "execution_count": null,
      "id": "4a8b382f-93ab-4b4d-8f9a-e86f475e9dcb",
      "metadata": {
        "id": "4a8b382f-93ab-4b4d-8f9a-e86f475e9dcb",
        "outputId": "e2708fd9-4b56-4ba8-b935-0937967eef5c"
      },
      "outputs": [
        {
          "data": {
            "text/plain": [
              "Row(State='Nebraska', Total Area (sq mi)=77347.809999999998, Land Area (sq mi)=76824.169999999998, Water Area (sq mi)=523.63999999999999)"
            ]
          },
          "execution_count": 9,
          "metadata": {},
          "output_type": "execute_result"
        }
      ],
      "source": [
        "states.rows[15] #example to print the 15th row of the table"
      ]
    },
    {
      "cell_type": "markdown",
      "id": "bc153ace-efd0-4b74-8741-f933b22edc98",
      "metadata": {
        "id": "bc153ace-efd0-4b74-8741-f933b22edc98"
      },
      "source": [
        "## Some Table Methods"
      ]
    },
    {
      "cell_type": "markdown",
      "id": "75b2e025-e696-4956-861b-b624537c68a0",
      "metadata": {
        "id": "75b2e025-e696-4956-861b-b624537c68a0"
      },
      "source": [
        "There is a collection of methods (functions) associated with every `Table` created. For example:\n",
        "* `t.show(n)` - displays the first `n` rows of a table called `t`\n",
        "* `t.select(label)` - constructs a new table with just the specified columns\n",
        "* `t.drop(label)` - constructs a new table in which the specified columns are omitted\n",
        "* `t.sort(label)` - constructs a new table with rows sorted by the specified column\n",
        "* `t.where(label, condition)` - constructs a new table with just the rows that match the condition\n",
        "    * Initially, the `condition` will be made up using Predicates such as `are.above`, `are.equal_to`, etc.\n",
        "* More can be found in the [`datascience` documentation](https://datascience.readthedocs.io/en/master/tables.html)"
      ]
    },
    {
      "cell_type": "markdown",
      "id": "c1f356a3-c308-4294-ae0d-18ad562e665f",
      "metadata": {
        "editable": true,
        "tags": [],
        "id": "c1f356a3-c308-4294-ae0d-18ad562e665f"
      },
      "source": [
        "---"
      ]
    },
    {
      "cell_type": "markdown",
      "id": "94885e70-33cf-4f5c-8aa1-507efd38ba46",
      "metadata": {
        "id": "94885e70-33cf-4f5c-8aa1-507efd38ba46"
      },
      "source": [
        "### Demo: `show`"
      ]
    },
    {
      "cell_type": "markdown",
      "id": "cb0b68e9-64ac-4860-b1f6-651ccc184a8c",
      "metadata": {
        "deletable": false,
        "editable": false,
        "id": "cb0b68e9-64ac-4860-b1f6-651ccc184a8c"
      },
      "source": [
        "Explore the `show` table method."
      ]
    },
    {
      "cell_type": "code",
      "execution_count": null,
      "id": "c5adcee2-b1b9-4678-a6b0-5ba907778b33",
      "metadata": {
        "tags": [],
        "id": "c5adcee2-b1b9-4678-a6b0-5ba907778b33",
        "outputId": "196a4285-2220-4b5d-c822-430379bd29ef"
      },
      "outputs": [
        {
          "data": {
            "text/html": [
              "<table border=\"1\" class=\"dataframe\">\n",
              "    <thead>\n",
              "        <tr>\n",
              "            <th>State</th> <th>Total Area (sq mi)</th> <th>Land Area (sq mi)</th> <th>Water Area (sq mi)</th>\n",
              "        </tr>\n",
              "    </thead>\n",
              "    <tbody>\n",
              "        <tr>\n",
              "            <td>Alaska    </td> <td>665384            </td> <td>570641           </td> <td>94743.1           </td>\n",
              "        </tr>\n",
              "        <tr>\n",
              "            <td>Texas     </td> <td>268596            </td> <td>261232           </td> <td>7364.75           </td>\n",
              "        </tr>\n",
              "        <tr>\n",
              "            <td>California</td> <td>163695            </td> <td>155779           </td> <td>7915.52           </td>\n",
              "        </tr>\n",
              "        <tr>\n",
              "            <td>Montana   </td> <td>147040            </td> <td>145546           </td> <td>1493.91           </td>\n",
              "        </tr>\n",
              "        <tr>\n",
              "            <td>New Mexico</td> <td>121590            </td> <td>121298           </td> <td>292.15            </td>\n",
              "        </tr>\n",
              "    </tbody>\n",
              "</table>\n",
              "<p>... (45 rows omitted)</p>"
            ],
            "text/plain": [
              "<IPython.core.display.HTML object>"
            ]
          },
          "metadata": {},
          "output_type": "display_data"
        }
      ],
      "source": [
        "states.show(5)"
      ]
    },
    {
      "cell_type": "code",
      "execution_count": null,
      "id": "8c51c16f-528d-47f5-8761-a0cc40ae4181",
      "metadata": {
        "tags": [],
        "id": "8c51c16f-528d-47f5-8761-a0cc40ae4181",
        "outputId": "3260c2ff-7bac-4cb2-9f4b-1c8839c070dc"
      },
      "outputs": [
        {
          "data": {
            "text/html": [
              "<table border=\"1\" class=\"dataframe\">\n",
              "    <thead>\n",
              "        <tr>\n",
              "            <th>State</th> <th>Total Area (sq mi)</th> <th>Land Area (sq mi)</th> <th>Water Area (sq mi)</th>\n",
              "        </tr>\n",
              "    </thead>\n",
              "    <tbody>\n",
              "        <tr>\n",
              "            <td>Alaska    </td> <td>665384            </td> <td>570641           </td> <td>94743.1           </td>\n",
              "        </tr>\n",
              "        <tr>\n",
              "            <td>Texas     </td> <td>268596            </td> <td>261232           </td> <td>7364.75           </td>\n",
              "        </tr>\n",
              "        <tr>\n",
              "            <td>California</td> <td>163695            </td> <td>155779           </td> <td>7915.52           </td>\n",
              "        </tr>\n",
              "    </tbody>\n",
              "</table>\n",
              "<p>... (47 rows omitted)</p>"
            ],
            "text/plain": [
              "<IPython.core.display.HTML object>"
            ]
          },
          "metadata": {},
          "output_type": "display_data"
        }
      ],
      "source": [
        "states.show(3)"
      ]
    },
    {
      "cell_type": "code",
      "execution_count": null,
      "id": "f994243e-7a86-472b-8d7b-71b6dd4bee83",
      "metadata": {
        "tags": [],
        "id": "f994243e-7a86-472b-8d7b-71b6dd4bee83"
      },
      "outputs": [],
      "source": [
        "# show(3) does not produce a Table\n",
        "states_show_3 = ...\n",
        "type(states_show_3)"
      ]
    },
    {
      "cell_type": "markdown",
      "id": "b3a5d1a8-f934-4277-b8d0-210b112e6770",
      "metadata": {
        "editable": true,
        "tags": [],
        "id": "b3a5d1a8-f934-4277-b8d0-210b112e6770"
      },
      "source": [
        "---"
      ]
    },
    {
      "cell_type": "markdown",
      "id": "10aea105-505d-4f7f-beba-abb952d2535a",
      "metadata": {
        "id": "10aea105-505d-4f7f-beba-abb952d2535a"
      },
      "source": [
        "### Demo: `select`"
      ]
    },
    {
      "cell_type": "markdown",
      "id": "eb3aaf9c-b411-4e24-8c21-326739967487",
      "metadata": {
        "deletable": false,
        "editable": false,
        "id": "eb3aaf9c-b411-4e24-8c21-326739967487"
      },
      "source": [
        "Use the `select` table method to select columns by column labels and column indexes."
      ]
    },
    {
      "cell_type": "code",
      "execution_count": null,
      "id": "919a799e-54fe-4b46-80b8-6643855a9e62",
      "metadata": {
        "tags": [],
        "id": "919a799e-54fe-4b46-80b8-6643855a9e62",
        "outputId": "ea6a3d0c-3ef2-499d-b4a3-b4d9b5f9b73c"
      },
      "outputs": [
        {
          "data": {
            "text/html": [
              "<table border=\"1\" class=\"dataframe\">\n",
              "    <thead>\n",
              "        <tr>\n",
              "            <th>State</th>\n",
              "        </tr>\n",
              "    </thead>\n",
              "    <tbody>\n",
              "        <tr>\n",
              "            <td>Alaska    </td>\n",
              "        </tr>\n",
              "        <tr>\n",
              "            <td>Texas     </td>\n",
              "        </tr>\n",
              "        <tr>\n",
              "            <td>California</td>\n",
              "        </tr>\n",
              "        <tr>\n",
              "            <td>Montana   </td>\n",
              "        </tr>\n",
              "        <tr>\n",
              "            <td>New Mexico</td>\n",
              "        </tr>\n",
              "        <tr>\n",
              "            <td>Arizona   </td>\n",
              "        </tr>\n",
              "        <tr>\n",
              "            <td>Nevada    </td>\n",
              "        </tr>\n",
              "        <tr>\n",
              "            <td>Colorado  </td>\n",
              "        </tr>\n",
              "        <tr>\n",
              "            <td>Oregon    </td>\n",
              "        </tr>\n",
              "        <tr>\n",
              "            <td>Wyoming   </td>\n",
              "        </tr>\n",
              "    </tbody>\n",
              "</table>\n",
              "<p>... (40 rows omitted)</p>"
            ],
            "text/plain": [
              "State\n",
              "Alaska\n",
              "Texas\n",
              "California\n",
              "Montana\n",
              "New Mexico\n",
              "Arizona\n",
              "Nevada\n",
              "Colorado\n",
              "Oregon\n",
              "Wyoming\n",
              "... (40 rows omitted)"
            ]
          },
          "execution_count": 17,
          "metadata": {},
          "output_type": "execute_result"
        }
      ],
      "source": [
        "y=states.select('State')\n",
        "y"
      ]
    },
    {
      "cell_type": "code",
      "execution_count": null,
      "id": "09490f27-ac9f-4d39-a221-6c61262b7ab3",
      "metadata": {
        "tags": [],
        "id": "09490f27-ac9f-4d39-a221-6c61262b7ab3",
        "outputId": "57f27e58-cb3d-42bf-8b8a-a9fe4695e74e"
      },
      "outputs": [
        {
          "data": {
            "text/html": [
              "<table border=\"1\" class=\"dataframe\">\n",
              "    <thead>\n",
              "        <tr>\n",
              "            <th>State</th> <th>Total Area (sq mi)</th>\n",
              "        </tr>\n",
              "    </thead>\n",
              "    <tbody>\n",
              "        <tr>\n",
              "            <td>Alaska    </td> <td>665384            </td>\n",
              "        </tr>\n",
              "        <tr>\n",
              "            <td>Texas     </td> <td>268596            </td>\n",
              "        </tr>\n",
              "        <tr>\n",
              "            <td>California</td> <td>163695            </td>\n",
              "        </tr>\n",
              "        <tr>\n",
              "            <td>Montana   </td> <td>147040            </td>\n",
              "        </tr>\n",
              "        <tr>\n",
              "            <td>New Mexico</td> <td>121590            </td>\n",
              "        </tr>\n",
              "        <tr>\n",
              "            <td>Arizona   </td> <td>113990            </td>\n",
              "        </tr>\n",
              "        <tr>\n",
              "            <td>Nevada    </td> <td>110572            </td>\n",
              "        </tr>\n",
              "        <tr>\n",
              "            <td>Colorado  </td> <td>104094            </td>\n",
              "        </tr>\n",
              "        <tr>\n",
              "            <td>Oregon    </td> <td>98378.5           </td>\n",
              "        </tr>\n",
              "        <tr>\n",
              "            <td>Wyoming   </td> <td>97813             </td>\n",
              "        </tr>\n",
              "    </tbody>\n",
              "</table>\n",
              "<p>... (40 rows omitted)</p>"
            ],
            "text/plain": [
              "State      | Total Area (sq mi)\n",
              "Alaska     | 665384\n",
              "Texas      | 268596\n",
              "California | 163695\n",
              "Montana    | 147040\n",
              "New Mexico | 121590\n",
              "Arizona    | 113990\n",
              "Nevada     | 110572\n",
              "Colorado   | 104094\n",
              "Oregon     | 98378.5\n",
              "Wyoming    | 97813\n",
              "... (40 rows omitted)"
            ]
          },
          "execution_count": 19,
          "metadata": {},
          "output_type": "execute_result"
        }
      ],
      "source": [
        "states.select(0, 1)"
      ]
    },
    {
      "cell_type": "code",
      "execution_count": null,
      "id": "9aeb7084-a20f-4cdc-9fbc-c6ad16bcac05",
      "metadata": {
        "tags": [],
        "id": "9aeb7084-a20f-4cdc-9fbc-c6ad16bcac05"
      },
      "outputs": [],
      "source": [
        "# A NameError where the column name was used incorrectly.\n",
        "# states.select(State, 'Total Area (sq mi)')"
      ]
    },
    {
      "cell_type": "code",
      "execution_count": null,
      "id": "ac7b83bc-6de6-4751-8eb7-f27c19b027c4",
      "metadata": {
        "tags": [],
        "id": "ac7b83bc-6de6-4751-8eb7-f27c19b027c4"
      },
      "outputs": [],
      "source": [
        "# A ValueError where the column name was used incorrectly.\n",
        "# states.select('State', 'Total Area')"
      ]
    },
    {
      "cell_type": "markdown",
      "id": "db6e0dd8-29a7-456d-925e-ff014fa05c1a",
      "metadata": {
        "editable": true,
        "tags": [],
        "id": "db6e0dd8-29a7-456d-925e-ff014fa05c1a"
      },
      "source": [
        "---"
      ]
    },
    {
      "cell_type": "markdown",
      "id": "9838543c-99e8-4df8-813d-70b5c22f57a5",
      "metadata": {
        "id": "9838543c-99e8-4df8-813d-70b5c22f57a5"
      },
      "source": [
        "### Demo: `drop`"
      ]
    },
    {
      "cell_type": "markdown",
      "id": "20c227fa-d560-4aa2-83c5-2a7b3389e3c4",
      "metadata": {
        "deletable": false,
        "editable": false,
        "id": "20c227fa-d560-4aa2-83c5-2a7b3389e3c4"
      },
      "source": [
        "Use the `drop` table method to drop columns by name and by index."
      ]
    },
    {
      "cell_type": "code",
      "execution_count": null,
      "id": "362c3b74-67a5-489a-82ca-f8f0573a3d9f",
      "metadata": {
        "tags": [],
        "id": "362c3b74-67a5-489a-82ca-f8f0573a3d9f",
        "outputId": "671323e5-5aa0-402d-9123-9cd5020d9db5"
      },
      "outputs": [
        {
          "data": {
            "text/html": [
              "<table border=\"1\" class=\"dataframe\">\n",
              "    <thead>\n",
              "        <tr>\n",
              "            <th>State</th> <th>Total Area (sq mi)</th> <th>Land Area (sq mi)</th> <th>Water Area (sq mi)</th>\n",
              "        </tr>\n",
              "    </thead>\n",
              "    <tbody>\n",
              "        <tr>\n",
              "            <td>Alaska    </td> <td>665384            </td> <td>570641           </td> <td>94743.1           </td>\n",
              "        </tr>\n",
              "        <tr>\n",
              "            <td>Texas     </td> <td>268596            </td> <td>261232           </td> <td>7364.75           </td>\n",
              "        </tr>\n",
              "        <tr>\n",
              "            <td>California</td> <td>163695            </td> <td>155779           </td> <td>7915.52           </td>\n",
              "        </tr>\n",
              "        <tr>\n",
              "            <td>Montana   </td> <td>147040            </td> <td>145546           </td> <td>1493.91           </td>\n",
              "        </tr>\n",
              "        <tr>\n",
              "            <td>New Mexico</td> <td>121590            </td> <td>121298           </td> <td>292.15            </td>\n",
              "        </tr>\n",
              "        <tr>\n",
              "            <td>Arizona   </td> <td>113990            </td> <td>113594           </td> <td>396.22            </td>\n",
              "        </tr>\n",
              "        <tr>\n",
              "            <td>Nevada    </td> <td>110572            </td> <td>109781           </td> <td>790.65            </td>\n",
              "        </tr>\n",
              "        <tr>\n",
              "            <td>Colorado  </td> <td>104094            </td> <td>103642           </td> <td>451.78            </td>\n",
              "        </tr>\n",
              "        <tr>\n",
              "            <td>Oregon    </td> <td>98378.5           </td> <td>95988            </td> <td>2390.53           </td>\n",
              "        </tr>\n",
              "        <tr>\n",
              "            <td>Wyoming   </td> <td>97813             </td> <td>97093.1          </td> <td>719.87            </td>\n",
              "        </tr>\n",
              "    </tbody>\n",
              "</table>\n",
              "<p>... (40 rows omitted)</p>"
            ],
            "text/plain": [
              "State      | Total Area (sq mi) | Land Area (sq mi) | Water Area (sq mi)\n",
              "Alaska     | 665384             | 570641            | 94743.1\n",
              "Texas      | 268596             | 261232            | 7364.75\n",
              "California | 163695             | 155779            | 7915.52\n",
              "Montana    | 147040             | 145546            | 1493.91\n",
              "New Mexico | 121590             | 121298            | 292.15\n",
              "Arizona    | 113990             | 113594            | 396.22\n",
              "Nevada     | 110572             | 109781            | 790.65\n",
              "Colorado   | 104094             | 103642            | 451.78\n",
              "Oregon     | 98378.5            | 95988             | 2390.53\n",
              "Wyoming    | 97813              | 97093.1           | 719.87\n",
              "... (40 rows omitted)"
            ]
          },
          "execution_count": 20,
          "metadata": {},
          "output_type": "execute_result"
        }
      ],
      "source": [
        "states"
      ]
    },
    {
      "cell_type": "code",
      "execution_count": null,
      "id": "fed4cf12-9c00-491a-8464-34cf38318819",
      "metadata": {
        "tags": [],
        "id": "fed4cf12-9c00-491a-8464-34cf38318819",
        "outputId": "ee9e66e0-3fb9-497a-f8c7-376f8fe746b0"
      },
      "outputs": [
        {
          "data": {
            "text/html": [
              "<table border=\"1\" class=\"dataframe\">\n",
              "    <thead>\n",
              "        <tr>\n",
              "            <th>State</th> <th>Total Area (sq mi)</th> <th>Water Area (sq mi)</th>\n",
              "        </tr>\n",
              "    </thead>\n",
              "    <tbody>\n",
              "        <tr>\n",
              "            <td>Alaska    </td> <td>665384            </td> <td>94743.1           </td>\n",
              "        </tr>\n",
              "        <tr>\n",
              "            <td>Texas     </td> <td>268596            </td> <td>7364.75           </td>\n",
              "        </tr>\n",
              "        <tr>\n",
              "            <td>California</td> <td>163695            </td> <td>7915.52           </td>\n",
              "        </tr>\n",
              "        <tr>\n",
              "            <td>Montana   </td> <td>147040            </td> <td>1493.91           </td>\n",
              "        </tr>\n",
              "        <tr>\n",
              "            <td>New Mexico</td> <td>121590            </td> <td>292.15            </td>\n",
              "        </tr>\n",
              "        <tr>\n",
              "            <td>Arizona   </td> <td>113990            </td> <td>396.22            </td>\n",
              "        </tr>\n",
              "        <tr>\n",
              "            <td>Nevada    </td> <td>110572            </td> <td>790.65            </td>\n",
              "        </tr>\n",
              "        <tr>\n",
              "            <td>Colorado  </td> <td>104094            </td> <td>451.78            </td>\n",
              "        </tr>\n",
              "        <tr>\n",
              "            <td>Oregon    </td> <td>98378.5           </td> <td>2390.53           </td>\n",
              "        </tr>\n",
              "        <tr>\n",
              "            <td>Wyoming   </td> <td>97813             </td> <td>719.87            </td>\n",
              "        </tr>\n",
              "    </tbody>\n",
              "</table>\n",
              "<p>... (40 rows omitted)</p>"
            ],
            "text/plain": [
              "State      | Total Area (sq mi) | Water Area (sq mi)\n",
              "Alaska     | 665384             | 94743.1\n",
              "Texas      | 268596             | 7364.75\n",
              "California | 163695             | 7915.52\n",
              "Montana    | 147040             | 1493.91\n",
              "New Mexico | 121590             | 292.15\n",
              "Arizona    | 113990             | 396.22\n",
              "Nevada     | 110572             | 790.65\n",
              "Colorado   | 104094             | 451.78\n",
              "Oregon     | 98378.5            | 2390.53\n",
              "Wyoming    | 97813              | 719.87\n",
              "... (40 rows omitted)"
            ]
          },
          "execution_count": 21,
          "metadata": {},
          "output_type": "execute_result"
        }
      ],
      "source": [
        "states.drop('Land Area (sq mi)')"
      ]
    },
    {
      "cell_type": "markdown",
      "id": "dc814a69-d56e-4ce1-bbcf-0023517a3bd5",
      "metadata": {
        "editable": true,
        "tags": [],
        "id": "dc814a69-d56e-4ce1-bbcf-0023517a3bd5"
      },
      "source": [
        "---"
      ]
    },
    {
      "cell_type": "markdown",
      "id": "b5d2d04d-e105-40cd-85f4-d3ae54af0aad",
      "metadata": {
        "id": "b5d2d04d-e105-40cd-85f4-d3ae54af0aad"
      },
      "source": [
        "### Demo: `sort`"
      ]
    },
    {
      "cell_type": "markdown",
      "id": "f60d0ea2-17f1-4709-89f9-df55f07a1ddd",
      "metadata": {
        "deletable": false,
        "editable": false,
        "id": "f60d0ea2-17f1-4709-89f9-df55f07a1ddd"
      },
      "source": [
        "Use the `sort` table method to sort the data in the table by a certain column."
      ]
    },
    {
      "cell_type": "code",
      "execution_count": null,
      "id": "1872cee2-6f42-428c-a832-9542679d052a",
      "metadata": {
        "tags": [],
        "id": "1872cee2-6f42-428c-a832-9542679d052a",
        "outputId": "cadde7e1-b435-4105-b32b-2ad1036fd9a5"
      },
      "outputs": [
        {
          "data": {
            "text/html": [
              "<table border=\"1\" class=\"dataframe\">\n",
              "    <thead>\n",
              "        <tr>\n",
              "            <th>State</th> <th>Total Area (sq mi)</th> <th>Land Area (sq mi)</th> <th>Water Area (sq mi)</th>\n",
              "        </tr>\n",
              "    </thead>\n",
              "    <tbody>\n",
              "        <tr>\n",
              "            <td>Rhode Island </td> <td>1544.89           </td> <td>1033.81          </td> <td>511.07            </td>\n",
              "        </tr>\n",
              "        <tr>\n",
              "            <td>Delaware     </td> <td>2488.72           </td> <td>1948.54          </td> <td>540.18            </td>\n",
              "        </tr>\n",
              "        <tr>\n",
              "            <td>Connecticut  </td> <td>5543.41           </td> <td>4842.36          </td> <td>701.06            </td>\n",
              "        </tr>\n",
              "        <tr>\n",
              "            <td>New Jersey   </td> <td>8722.58           </td> <td>7354.22          </td> <td>1368.36           </td>\n",
              "        </tr>\n",
              "        <tr>\n",
              "            <td>New Hampshire</td> <td>9349.16           </td> <td>8952.65          </td> <td>396.51            </td>\n",
              "        </tr>\n",
              "        <tr>\n",
              "            <td>Vermont      </td> <td>9616.36           </td> <td>9216.66          </td> <td>399.71            </td>\n",
              "        </tr>\n",
              "        <tr>\n",
              "            <td>Massachusetts</td> <td>10554.4           </td> <td>7800.06          </td> <td>2754.33           </td>\n",
              "        </tr>\n",
              "        <tr>\n",
              "            <td>Hawaii       </td> <td>10931.7           </td> <td>6422.63          </td> <td>4509.09           </td>\n",
              "        </tr>\n",
              "        <tr>\n",
              "            <td>Maryland     </td> <td>12405.9           </td> <td>9707.24          </td> <td>2698.69           </td>\n",
              "        </tr>\n",
              "        <tr>\n",
              "            <td>West Virginia</td> <td>24230             </td> <td>24038.2          </td> <td>191.83            </td>\n",
              "        </tr>\n",
              "    </tbody>\n",
              "</table>\n",
              "<p>... (40 rows omitted)</p>"
            ],
            "text/plain": [
              "State         | Total Area (sq mi) | Land Area (sq mi) | Water Area (sq mi)\n",
              "Rhode Island  | 1544.89            | 1033.81           | 511.07\n",
              "Delaware      | 2488.72            | 1948.54           | 540.18\n",
              "Connecticut   | 5543.41            | 4842.36           | 701.06\n",
              "New Jersey    | 8722.58            | 7354.22           | 1368.36\n",
              "New Hampshire | 9349.16            | 8952.65           | 396.51\n",
              "Vermont       | 9616.36            | 9216.66           | 399.71\n",
              "Massachusetts | 10554.4            | 7800.06           | 2754.33\n",
              "Hawaii        | 10931.7            | 6422.63           | 4509.09\n",
              "Maryland      | 12405.9            | 9707.24           | 2698.69\n",
              "West Virginia | 24230              | 24038.2           | 191.83\n",
              "... (40 rows omitted)"
            ]
          },
          "execution_count": 22,
          "metadata": {},
          "output_type": "execute_result"
        }
      ],
      "source": [
        "states.sort('Total Area (sq mi)')"
      ]
    },
    {
      "cell_type": "code",
      "execution_count": null,
      "id": "5c80b636-04b3-4f6d-9a2f-18b3f720b52e",
      "metadata": {
        "tags": [],
        "id": "5c80b636-04b3-4f6d-9a2f-18b3f720b52e",
        "outputId": "60ffe01f-3464-446a-d9e9-74e6ebfc1ec4"
      },
      "outputs": [
        {
          "data": {
            "text/html": [
              "<table border=\"1\" class=\"dataframe\">\n",
              "    <thead>\n",
              "        <tr>\n",
              "            <th>State</th> <th>Total Area (sq mi)</th> <th>Land Area (sq mi)</th> <th>Water Area (sq mi)</th>\n",
              "        </tr>\n",
              "    </thead>\n",
              "    <tbody>\n",
              "        <tr>\n",
              "            <td>Rhode Island</td> <td>1544.89           </td> <td>1033.81          </td> <td>511.07            </td>\n",
              "        </tr>\n",
              "        <tr>\n",
              "            <td>Delaware    </td> <td>2488.72           </td> <td>1948.54          </td> <td>540.18            </td>\n",
              "        </tr>\n",
              "        <tr>\n",
              "            <td>Connecticut </td> <td>5543.41           </td> <td>4842.36          </td> <td>701.06            </td>\n",
              "        </tr>\n",
              "    </tbody>\n",
              "</table>\n",
              "<p>... (47 rows omitted)</p>"
            ],
            "text/plain": [
              "<IPython.core.display.HTML object>"
            ]
          },
          "metadata": {},
          "output_type": "display_data"
        }
      ],
      "source": [
        "states.sort('Total Area (sq mi)').show(3)"
      ]
    },
    {
      "cell_type": "code",
      "execution_count": null,
      "id": "f8fadcd4-b4cc-440e-9e55-ccc50c5602e6",
      "metadata": {
        "tags": [],
        "id": "f8fadcd4-b4cc-440e-9e55-ccc50c5602e6",
        "outputId": "3b40f52e-4ea1-4b1c-96fa-fc7aec9c559f"
      },
      "outputs": [
        {
          "data": {
            "text/html": [
              "<table border=\"1\" class=\"dataframe\">\n",
              "    <thead>\n",
              "        <tr>\n",
              "            <th>State</th> <th>Total Area (sq mi)</th> <th>Land Area (sq mi)</th> <th>Water Area (sq mi)</th>\n",
              "        </tr>\n",
              "    </thead>\n",
              "    <tbody>\n",
              "        <tr>\n",
              "            <td>Alaska    </td> <td>665384            </td> <td>570641           </td> <td>94743.1           </td>\n",
              "        </tr>\n",
              "        <tr>\n",
              "            <td>Texas     </td> <td>268596            </td> <td>261232           </td> <td>7364.75           </td>\n",
              "        </tr>\n",
              "        <tr>\n",
              "            <td>California</td> <td>163695            </td> <td>155779           </td> <td>7915.52           </td>\n",
              "        </tr>\n",
              "        <tr>\n",
              "            <td>Montana   </td> <td>147040            </td> <td>145546           </td> <td>1493.91           </td>\n",
              "        </tr>\n",
              "        <tr>\n",
              "            <td>New Mexico</td> <td>121590            </td> <td>121298           </td> <td>292.15            </td>\n",
              "        </tr>\n",
              "    </tbody>\n",
              "</table>\n",
              "<p>... (45 rows omitted)</p>"
            ],
            "text/plain": [
              "<IPython.core.display.HTML object>"
            ]
          },
          "metadata": {},
          "output_type": "display_data"
        }
      ],
      "source": [
        "states.sort('Total Area (sq mi)', descending=True ).show(5)"
      ]
    },
    {
      "cell_type": "code",
      "execution_count": null,
      "id": "d8ce29a4-0fe7-46e8-a36b-5c295194037b",
      "metadata": {
        "tags": [],
        "id": "d8ce29a4-0fe7-46e8-a36b-5c295194037b",
        "outputId": "8581924c-9e01-4710-b500-5f991fc44f4b"
      },
      "outputs": [
        {
          "data": {
            "text/html": [
              "<table border=\"1\" class=\"dataframe\">\n",
              "    <thead>\n",
              "        <tr>\n",
              "            <th>State</th> <th>Total Area (sq mi)</th> <th>Land Area (sq mi)</th> <th>Water Area (sq mi)</th>\n",
              "        </tr>\n",
              "    </thead>\n",
              "    <tbody>\n",
              "        <tr>\n",
              "            <td>Rhode Island</td> <td>1544.89           </td> <td>1033.81          </td> <td>511.07            </td>\n",
              "        </tr>\n",
              "        <tr>\n",
              "            <td>Delaware    </td> <td>2488.72           </td> <td>1948.54          </td> <td>540.18            </td>\n",
              "        </tr>\n",
              "        <tr>\n",
              "            <td>Connecticut </td> <td>5543.41           </td> <td>4842.36          </td> <td>701.06            </td>\n",
              "        </tr>\n",
              "    </tbody>\n",
              "</table>\n",
              "<p>... (47 rows omitted)</p>"
            ],
            "text/plain": [
              "<IPython.core.display.HTML object>"
            ]
          },
          "metadata": {},
          "output_type": "display_data"
        }
      ],
      "source": [
        "states.sort('Total Area (sq mi)', descending=False ).show(3)"
      ]
    },
    {
      "cell_type": "code",
      "execution_count": null,
      "id": "9189fb52-7333-4bf3-a4d7-e86f5402c101",
      "metadata": {
        "id": "9189fb52-7333-4bf3-a4d7-e86f5402c101"
      },
      "outputs": [],
      "source": [
        "#help(states.sort)"
      ]
    },
    {
      "cell_type": "markdown",
      "id": "4ecd61f2-1135-4924-a928-e399a11e3160",
      "metadata": {
        "editable": true,
        "tags": [],
        "id": "4ecd61f2-1135-4924-a928-e399a11e3160"
      },
      "source": [
        "---"
      ]
    },
    {
      "cell_type": "markdown",
      "id": "58fd774c-d7c5-4060-b019-5c44292b5876",
      "metadata": {
        "id": "58fd774c-d7c5-4060-b019-5c44292b5876"
      },
      "source": [
        "### Demo: `where`"
      ]
    },
    {
      "cell_type": "markdown",
      "id": "b04c61e7-8ab3-4ca8-a3f6-b0445a4387d9",
      "metadata": {
        "deletable": false,
        "editable": false,
        "id": "b04c61e7-8ab3-4ca8-a3f6-b0445a4387d9"
      },
      "source": [
        "Use the `where` table method to filter the data in the table."
      ]
    },
    {
      "cell_type": "code",
      "execution_count": null,
      "id": "218d5a29-ba33-471a-aae3-27651a8e2b0a",
      "metadata": {
        "tags": [],
        "id": "218d5a29-ba33-471a-aae3-27651a8e2b0a",
        "outputId": "9db250b0-9cb2-4739-910e-47a0c69fecba"
      },
      "outputs": [
        {
          "data": {
            "text/html": [
              "<table border=\"1\" class=\"dataframe\">\n",
              "    <thead>\n",
              "        <tr>\n",
              "            <th>State</th> <th>Total Area (sq mi)</th> <th>Land Area (sq mi)</th> <th>Water Area (sq mi)</th>\n",
              "        </tr>\n",
              "    </thead>\n",
              "    <tbody>\n",
              "        <tr>\n",
              "            <td>Alaska    </td> <td>665384            </td> <td>570641           </td> <td>94743.1           </td>\n",
              "        </tr>\n",
              "        <tr>\n",
              "            <td>Texas     </td> <td>268596            </td> <td>261232           </td> <td>7364.75           </td>\n",
              "        </tr>\n",
              "        <tr>\n",
              "            <td>California</td> <td>163695            </td> <td>155779           </td> <td>7915.52           </td>\n",
              "        </tr>\n",
              "        <tr>\n",
              "            <td>Montana   </td> <td>147040            </td> <td>145546           </td> <td>1493.91           </td>\n",
              "        </tr>\n",
              "        <tr>\n",
              "            <td>New Mexico</td> <td>121590            </td> <td>121298           </td> <td>292.15            </td>\n",
              "        </tr>\n",
              "        <tr>\n",
              "            <td>Arizona   </td> <td>113990            </td> <td>113594           </td> <td>396.22            </td>\n",
              "        </tr>\n",
              "        <tr>\n",
              "            <td>Nevada    </td> <td>110572            </td> <td>109781           </td> <td>790.65            </td>\n",
              "        </tr>\n",
              "        <tr>\n",
              "            <td>Colorado  </td> <td>104094            </td> <td>103642           </td> <td>451.78            </td>\n",
              "        </tr>\n",
              "        <tr>\n",
              "            <td>Oregon    </td> <td>98378.5           </td> <td>95988            </td> <td>2390.53           </td>\n",
              "        </tr>\n",
              "        <tr>\n",
              "            <td>Wyoming   </td> <td>97813             </td> <td>97093.1          </td> <td>719.87            </td>\n",
              "        </tr>\n",
              "    </tbody>\n",
              "</table>\n",
              "<p>... (40 rows omitted)</p>"
            ],
            "text/plain": [
              "State      | Total Area (sq mi) | Land Area (sq mi) | Water Area (sq mi)\n",
              "Alaska     | 665384             | 570641            | 94743.1\n",
              "Texas      | 268596             | 261232            | 7364.75\n",
              "California | 163695             | 155779            | 7915.52\n",
              "Montana    | 147040             | 145546            | 1493.91\n",
              "New Mexico | 121590             | 121298            | 292.15\n",
              "Arizona    | 113990             | 113594            | 396.22\n",
              "Nevada     | 110572             | 109781            | 790.65\n",
              "Colorado   | 104094             | 103642            | 451.78\n",
              "Oregon     | 98378.5            | 95988             | 2390.53\n",
              "Wyoming    | 97813              | 97093.1           | 719.87\n",
              "... (40 rows omitted)"
            ]
          },
          "execution_count": 30,
          "metadata": {},
          "output_type": "execute_result"
        }
      ],
      "source": [
        "# Nothing Filtered\n",
        "states"
      ]
    },
    {
      "cell_type": "code",
      "execution_count": null,
      "id": "7eb71396-6af7-4a60-87cd-8cc6782d7569",
      "metadata": {
        "tags": [],
        "id": "7eb71396-6af7-4a60-87cd-8cc6782d7569",
        "outputId": "dd4d8692-3f21-4518-c45d-da9332f5bcf1"
      },
      "outputs": [
        {
          "data": {
            "text/html": [
              "<table border=\"1\" class=\"dataframe\">\n",
              "    <thead>\n",
              "        <tr>\n",
              "            <th>State</th> <th>Total Area (sq mi)</th> <th>Land Area (sq mi)</th> <th>Water Area (sq mi)</th>\n",
              "        </tr>\n",
              "    </thead>\n",
              "    <tbody>\n",
              "        <tr>\n",
              "            <td>California</td> <td>163695            </td> <td>155779           </td> <td>7915.52           </td>\n",
              "        </tr>\n",
              "    </tbody>\n",
              "</table>"
            ],
            "text/plain": [
              "State      | Total Area (sq mi) | Land Area (sq mi) | Water Area (sq mi)\n",
              "California | 163695             | 155779            | 7915.52"
            ]
          },
          "execution_count": 29,
          "metadata": {},
          "output_type": "execute_result"
        }
      ],
      "source": [
        "states.where('State', are.equal_to('California'))"
      ]
    },
    {
      "cell_type": "code",
      "execution_count": null,
      "id": "9b7ae27a-31fb-4a5c-9b87-db43b708b539",
      "metadata": {
        "tags": [],
        "id": "9b7ae27a-31fb-4a5c-9b87-db43b708b539",
        "outputId": "3a0dd902-0ee8-4463-9320-06b102682638"
      },
      "outputs": [
        {
          "data": {
            "text/html": [
              "<table border=\"1\" class=\"dataframe\">\n",
              "    <thead>\n",
              "        <tr>\n",
              "            <th>State</th> <th>Total Area (sq mi)</th> <th>Land Area (sq mi)</th> <th>Water Area (sq mi)</th>\n",
              "        </tr>\n",
              "    </thead>\n",
              "    <tbody>\n",
              "        <tr>\n",
              "            <td>Alaska    </td> <td>665384            </td> <td>570641           </td> <td>94743.1           </td>\n",
              "        </tr>\n",
              "        <tr>\n",
              "            <td>Texas     </td> <td>268596            </td> <td>261232           </td> <td>7364.75           </td>\n",
              "        </tr>\n",
              "        <tr>\n",
              "            <td>California</td> <td>163695            </td> <td>155779           </td> <td>7915.52           </td>\n",
              "        </tr>\n",
              "        <tr>\n",
              "            <td>Montana   </td> <td>147040            </td> <td>145546           </td> <td>1493.91           </td>\n",
              "        </tr>\n",
              "        <tr>\n",
              "            <td>New Mexico</td> <td>121590            </td> <td>121298           </td> <td>292.15            </td>\n",
              "        </tr>\n",
              "        <tr>\n",
              "            <td>Arizona   </td> <td>113990            </td> <td>113594           </td> <td>396.22            </td>\n",
              "        </tr>\n",
              "        <tr>\n",
              "            <td>Nevada    </td> <td>110572            </td> <td>109781           </td> <td>790.65            </td>\n",
              "        </tr>\n",
              "        <tr>\n",
              "            <td>Colorado  </td> <td>104094            </td> <td>103642           </td> <td>451.78            </td>\n",
              "        </tr>\n",
              "    </tbody>\n",
              "</table>"
            ],
            "text/plain": [
              "State      | Total Area (sq mi) | Land Area (sq mi) | Water Area (sq mi)\n",
              "Alaska     | 665384             | 570641            | 94743.1\n",
              "Texas      | 268596             | 261232            | 7364.75\n",
              "California | 163695             | 155779            | 7915.52\n",
              "Montana    | 147040             | 145546            | 1493.91\n",
              "New Mexico | 121590             | 121298            | 292.15\n",
              "Arizona    | 113990             | 113594            | 396.22\n",
              "Nevada     | 110572             | 109781            | 790.65\n",
              "Colorado   | 104094             | 103642            | 451.78"
            ]
          },
          "execution_count": 31,
          "metadata": {},
          "output_type": "execute_result"
        }
      ],
      "source": [
        "states.where('Land Area (sq mi)', are.above(100_000))"
      ]
    },
    {
      "cell_type": "code",
      "execution_count": null,
      "id": "4c1cbb01-6e1a-473d-9646-a5d213609dfd",
      "metadata": {
        "tags": [],
        "id": "4c1cbb01-6e1a-473d-9646-a5d213609dfd",
        "outputId": "62c4c4ae-430d-41f5-c8ee-d10d0b62635a"
      },
      "outputs": [
        {
          "data": {
            "text/html": [
              "<table border=\"1\" class=\"dataframe\">\n",
              "    <thead>\n",
              "        <tr>\n",
              "            <th>State</th> <th>Total Area (sq mi)</th> <th>Land Area (sq mi)</th> <th>Water Area (sq mi)</th>\n",
              "        </tr>\n",
              "    </thead>\n",
              "    <tbody>\n",
              "        <tr>\n",
              "            <td>New Mexico   </td> <td>121590            </td> <td>121298           </td> <td>292.15            </td>\n",
              "        </tr>\n",
              "        <tr>\n",
              "            <td>New York     </td> <td>54555             </td> <td>47126.4          </td> <td>7428.58           </td>\n",
              "        </tr>\n",
              "        <tr>\n",
              "            <td>New Hampshire</td> <td>9349.16           </td> <td>8952.65          </td> <td>396.51            </td>\n",
              "        </tr>\n",
              "        <tr>\n",
              "            <td>New Jersey   </td> <td>8722.58           </td> <td>7354.22          </td> <td>1368.36           </td>\n",
              "        </tr>\n",
              "    </tbody>\n",
              "</table>"
            ],
            "text/plain": [
              "State         | Total Area (sq mi) | Land Area (sq mi) | Water Area (sq mi)\n",
              "New Mexico    | 121590             | 121298            | 292.15\n",
              "New York      | 54555              | 47126.4           | 7428.58\n",
              "New Hampshire | 9349.16            | 8952.65           | 396.51\n",
              "New Jersey    | 8722.58            | 7354.22           | 1368.36"
            ]
          },
          "execution_count": 32,
          "metadata": {},
          "output_type": "execute_result"
        }
      ],
      "source": [
        "states.where('State', are.containing('New'))"
      ]
    },
    {
      "cell_type": "markdown",
      "id": "c2f6ea5f-8aeb-421e-bcf3-e64b8febf9f0",
      "metadata": {
        "id": "c2f6ea5f-8aeb-421e-bcf3-e64b8febf9f0"
      },
      "source": [
        "---"
      ]
    },
    {
      "cell_type": "markdown",
      "id": "58f84fcb-16d8-4741-a1dd-f57938e3420b",
      "metadata": {
        "editable": true,
        "tags": [],
        "id": "58f84fcb-16d8-4741-a1dd-f57938e3420b"
      },
      "source": [
        "## Attribution"
      ]
    },
    {
      "cell_type": "markdown",
      "id": "1a965f51-6566-4b7a-98ce-e0adcaaa53aa",
      "metadata": {
        "id": "1a965f51-6566-4b7a-98ce-e0adcaaa53aa"
      },
      "source": [
        "This content is licensed under the <a href=\"https://creativecommons.org/licenses/by-nc-sa/4.0/\">Creative Commons Attribution-NonCommercial-ShareAlike 4.0 International License (CC BY-NC-SA 4.0)</a> and derived from the <a href=\"https://www.data8.org/\">Data 8: The Foundations of Data Science</a> offered by the University of California, Berkeley.\n",
        "\n",
        "<img src=\"./by-nc-sa.png\" width=100px>"
      ]
    }
  ],
  "metadata": {
    "kernelspec": {
      "display_name": "Python 3 (ipykernel)",
      "language": "python",
      "name": "python3"
    },
    "language_info": {
      "codemirror_mode": {
        "name": "ipython",
        "version": 3
      },
      "file_extension": ".py",
      "mimetype": "text/x-python",
      "name": "python",
      "nbconvert_exporter": "python",
      "pygments_lexer": "ipython3",
      "version": "3.11.9"
    },
    "otter": {
      "OK_FORMAT": true,
      "tests": {}
    },
    "colab": {
      "provenance": [],
      "include_colab_link": true
    }
  },
  "nbformat": 4,
  "nbformat_minor": 5
}