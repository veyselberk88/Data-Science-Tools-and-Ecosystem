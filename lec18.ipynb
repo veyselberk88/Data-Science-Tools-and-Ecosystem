{
  "cells": [
    {
      "cell_type": "markdown",
      "metadata": {
        "id": "view-in-github",
        "colab_type": "text"
      },
      "source": [
        "<a href=\"https://colab.research.google.com/github/veyselberk88/Data-Science-Tools-and-Ecosystem/blob/main/lec18.ipynb\" target=\"_parent\"><img src=\"https://colab.research.google.com/assets/colab-badge.svg\" alt=\"Open In Colab\"/></a>"
      ]
    },
    {
      "cell_type": "markdown",
      "id": "fb56b224-c083-49b2-9e82-0a725b113ff6",
      "metadata": {
        "id": "fb56b224-c083-49b2-9e82-0a725b113ff6"
      },
      "source": [
        "<img src=\"./ccsf.png\" alt=\"CCSF Logo\" width=200px style=\"margin:0px -5px\">"
      ]
    },
    {
      "cell_type": "markdown",
      "id": "ce0c1e27-97aa-488b-8296-4ef4546b52a6",
      "metadata": {
        "id": "ce0c1e27-97aa-488b-8296-4ef4546b52a6"
      },
      "source": [
        "# Lecture 18: Models"
      ]
    },
    {
      "cell_type": "markdown",
      "id": "ef0c831e-9059-499e-a9d4-fc9b9b2ac2b2",
      "metadata": {
        "id": "ef0c831e-9059-499e-a9d4-fc9b9b2ac2b2"
      },
      "source": [
        "Associated Textbook Sections: [10.4, 11.0, 11.1](ccsf-math-108.github.io/textbook/chapters/10/4/Random_Sampling_in_Python.html)"
      ]
    },
    {
      "cell_type": "markdown",
      "id": "dd9ba2ae-e6b1-47c9-9b54-5ae6782e362d",
      "metadata": {
        "id": "dd9ba2ae-e6b1-47c9-9b54-5ae6782e362d"
      },
      "source": [
        "---"
      ]
    },
    {
      "cell_type": "markdown",
      "id": "209c3081-9f4c-461c-b4c6-6f69c648e484",
      "metadata": {
        "id": "209c3081-9f4c-461c-b4c6-6f69c648e484"
      },
      "source": [
        "## Outline"
      ]
    },
    {
      "cell_type": "markdown",
      "id": "52b48b9b-b761-43cf-8bfa-d65a791044ca",
      "metadata": {
        "id": "52b48b9b-b761-43cf-8bfa-d65a791044ca"
      },
      "source": [
        "* [Assessing Models](#Assessing-Models)\n",
        "* [Jury-Selection](#Jury-Selection)\n",
        "* [A Genetic Model](#A-Genetic-Model)\n",
        "* [Two Viewpoints](#Two-Viewpoints)"
      ]
    },
    {
      "cell_type": "markdown",
      "id": "a62a2f61-0e9d-4cc2-b641-dc73749e07d0",
      "metadata": {
        "id": "a62a2f61-0e9d-4cc2-b641-dc73749e07d0"
      },
      "source": [
        "---"
      ]
    },
    {
      "cell_type": "markdown",
      "id": "ee473e33-5c98-4283-b002-211d4138eb47",
      "metadata": {
        "id": "ee473e33-5c98-4283-b002-211d4138eb47"
      },
      "source": [
        "## Set Up the Notebook"
      ]
    },
    {
      "cell_type": "code",
      "execution_count": null,
      "id": "765e7556-f484-4737-a8b5-85a1719088d0",
      "metadata": {
        "id": "765e7556-f484-4737-a8b5-85a1719088d0"
      },
      "outputs": [],
      "source": [
        "from datascience import *\n",
        "import numpy as np\n",
        "%matplotlib inline\n",
        "import matplotlib.pyplot as plt\n",
        "plt.style.use('fivethirtyeight')"
      ]
    },
    {
      "cell_type": "markdown",
      "id": "d31410b6-d63c-414e-9cbd-eee301875762",
      "metadata": {
        "id": "d31410b6-d63c-414e-9cbd-eee301875762"
      },
      "source": [
        "---"
      ]
    },
    {
      "cell_type": "markdown",
      "id": "210e78df-b428-41a9-be01-8cd640b6324a",
      "metadata": {
        "id": "210e78df-b428-41a9-be01-8cd640b6324a"
      },
      "source": [
        "## Assessing Models"
      ]
    },
    {
      "cell_type": "markdown",
      "id": "b2422bff-c10a-420e-8a33-76d8db3e7ee6",
      "metadata": {
        "id": "b2422bff-c10a-420e-8a33-76d8db3e7ee6"
      },
      "source": [
        "---"
      ]
    },
    {
      "cell_type": "markdown",
      "id": "d279fa0b-1a2f-49f0-b68b-6d8c69fae62c",
      "metadata": {
        "id": "d279fa0b-1a2f-49f0-b68b-6d8c69fae62c"
      },
      "source": [
        "### Models"
      ]
    },
    {
      "cell_type": "markdown",
      "id": "92c72b7b-f49a-40e6-9728-7b1d0e9f9326",
      "metadata": {
        "id": "92c72b7b-f49a-40e6-9728-7b1d0e9f9326"
      },
      "source": [
        "* A model is a set of assumptions about the data\n",
        "* In data science, many models involve assumptions about processes that involve randomness (\"Chance models\")\n",
        "* Key question: Does the model fit the data?"
      ]
    },
    {
      "cell_type": "markdown",
      "id": "f80c747f-a7ae-4cf2-9414-669639cd5bae",
      "metadata": {
        "id": "f80c747f-a7ae-4cf2-9414-669639cd5bae"
      },
      "source": [
        "---"
      ]
    },
    {
      "cell_type": "markdown",
      "id": "c08c0718-23cd-48e6-8930-a65ab7408d33",
      "metadata": {
        "id": "c08c0718-23cd-48e6-8930-a65ab7408d33"
      },
      "source": [
        "### Approach to Assessment"
      ]
    },
    {
      "cell_type": "markdown",
      "id": "81c140eb-d59e-460a-ba0e-ca8475870c50",
      "metadata": {
        "id": "81c140eb-d59e-460a-ba0e-ca8475870c50"
      },
      "source": [
        "* If we can simulate data according to the assumptions of the model, we can learn what the model predicts.\n",
        "* We can then compare the predictions to the data that were observed.\n",
        "* If the data and the model's predictions are not consistent, that is evidence against the model."
      ]
    },
    {
      "cell_type": "markdown",
      "id": "7fce85b1-29cd-4e02-b227-aef9cd5aac38",
      "metadata": {
        "id": "7fce85b1-29cd-4e02-b227-aef9cd5aac38"
      },
      "source": [
        "---"
      ]
    },
    {
      "cell_type": "markdown",
      "id": "fe9c13be-6ba3-4a28-a848-2e32430bb3d5",
      "metadata": {
        "id": "fe9c13be-6ba3-4a28-a848-2e32430bb3d5"
      },
      "source": [
        "## Jury Selection"
      ]
    },
    {
      "cell_type": "markdown",
      "id": "3e626d61-db11-40c7-a9ea-0f19af0c52aa",
      "metadata": {
        "id": "3e626d61-db11-40c7-a9ea-0f19af0c52aa"
      },
      "source": [
        "---"
      ]
    },
    {
      "cell_type": "markdown",
      "id": "fc2780af-49fb-4af8-b82c-01a1083e60de",
      "metadata": {
        "id": "fc2780af-49fb-4af8-b82c-01a1083e60de"
      },
      "source": [
        "### Swain vs. Alabama, 1965"
      ]
    },
    {
      "cell_type": "markdown",
      "id": "6cb58fc3-b424-4e4a-97d2-1d50a074f218",
      "metadata": {
        "id": "6cb58fc3-b424-4e4a-97d2-1d50a074f218"
      },
      "source": [
        "* Talladega County, Alabama\n",
        "* Robert Swain, Black man convicted of crime\n",
        "* Appeal: one factor was all-White jury\n",
        "* Only men 21 years or older were allowed to serve\n",
        "* 26% of this population were Black\n",
        "* Swain's jury panel consisted of 100 men\n",
        "* 8 men on the panel were Black"
      ]
    },
    {
      "cell_type": "markdown",
      "id": "09985f6e-90fa-40aa-b997-9fb63763519c",
      "metadata": {
        "id": "09985f6e-90fa-40aa-b997-9fb63763519c"
      },
      "source": [
        "---"
      ]
    },
    {
      "cell_type": "markdown",
      "id": "3a32704f-929f-4e02-82c4-087eac8a1146",
      "metadata": {
        "id": "3a32704f-929f-4e02-82c4-087eac8a1146"
      },
      "source": [
        "### Supreme Court Ruling (In English ... of the time)"
      ]
    },
    {
      "cell_type": "markdown",
      "id": "641d0796-20cb-4b49-ba9e-129e6745aaa6",
      "metadata": {
        "id": "641d0796-20cb-4b49-ba9e-129e6745aaa6"
      },
      "source": [
        "* About disparities between the percentages in the eligible population and the jury panel, the Supreme Court wrote:\n",
        "> \"... the overall percentage disparity has been small and reflects no studied attempt to include or exclude a specified number of Negroes\"\n",
        "* The Supreme Court denied Robert Swain’s appeal\n"
      ]
    },
    {
      "cell_type": "markdown",
      "id": "93412958-b979-4e88-9ffd-5da1996777b3",
      "metadata": {
        "id": "93412958-b979-4e88-9ffd-5da1996777b3"
      },
      "source": [
        "---"
      ]
    },
    {
      "cell_type": "markdown",
      "id": "6c55efd6-a621-4e54-97bc-e4ab006ea288",
      "metadata": {
        "id": "6c55efd6-a621-4e54-97bc-e4ab006ea288"
      },
      "source": [
        "### Supreme Court Ruling (in Data)"
      ]
    },
    {
      "cell_type": "markdown",
      "id": "7de1f10b-7423-4336-a465-c1d93ba6045c",
      "metadata": {
        "id": "7de1f10b-7423-4336-a465-c1d93ba6045c"
      },
      "source": [
        "* Paraphrase: 8/100 is less than 26%, but not different enough to show Black men were systematically excluded\n",
        "* Question: is 8/100 a realistic outcome if the jury panel selection process were truly unbiased?"
      ]
    },
    {
      "cell_type": "markdown",
      "id": "5b66dbd9-c327-482a-b76f-be9563fc62c3",
      "metadata": {
        "id": "5b66dbd9-c327-482a-b76f-be9563fc62c3"
      },
      "source": [
        "---"
      ]
    },
    {
      "cell_type": "markdown",
      "id": "e76a5498-586f-4540-bfc3-ed21a9b4bd13",
      "metadata": {
        "id": "e76a5498-586f-4540-bfc3-ed21a9b4bd13"
      },
      "source": [
        "### Sampling from a Distribution"
      ]
    },
    {
      "cell_type": "markdown",
      "id": "eb7ad6b5-8cad-4b12-9c7c-d7cd1d4f2f29",
      "metadata": {
        "id": "eb7ad6b5-8cad-4b12-9c7c-d7cd1d4f2f29"
      },
      "source": [
        "* Sample at random from a categorical distribution using `sample_proportions(sample_size, pop_distribution)`\n",
        "* Samples at random from the population returns an array containing the distribution of the categories in the sample\n"
      ]
    },
    {
      "cell_type": "markdown",
      "id": "d173590b-88cd-4058-946f-cced18b3bf1f",
      "metadata": {
        "id": "d173590b-88cd-4058-946f-cced18b3bf1f"
      },
      "source": [
        "---"
      ]
    },
    {
      "cell_type": "markdown",
      "id": "c7ccf993-21fb-4c95-9d52-bca80ad1fd56",
      "metadata": {
        "id": "c7ccf993-21fb-4c95-9d52-bca80ad1fd56"
      },
      "source": [
        "### Demo: Swain vs. Alabama"
      ]
    },
    {
      "cell_type": "markdown",
      "id": "0201f05f-9605-4e32-bf55-efdf36c5b40a",
      "metadata": {
        "deletable": false,
        "editable": false,
        "id": "0201f05f-9605-4e32-bf55-efdf36c5b40a"
      },
      "source": [
        "* Create a 2-valued array that reflects the proportion of the population that is Black and not Black.\n",
        "* Use `sample_proportions` to create the proportions of a sample of size 100 from the population defined by the above array values.\n",
        "* Define a function to return the proportion of Black individuals in a random sample of size 100 from the given population.\n",
        "* Visualize the distribution by calling that function 10,000 times."
      ]
    },
    {
      "cell_type": "code",
      "execution_count": null,
      "id": "47b2457d-5140-4282-b216-8dfed75f8733",
      "metadata": {
        "tags": [],
        "id": "47b2457d-5140-4282-b216-8dfed75f8733",
        "outputId": "da8ee7fd-2f20-4130-80cf-e051b3d6e78f"
      },
      "outputs": [
        {
          "data": {
            "text/plain": [
              "array([ 0.26,  0.74])"
            ]
          },
          "execution_count": 15,
          "metadata": {},
          "output_type": "execute_result"
        }
      ],
      "source": [
        "population_proportions = make_array(0.26,0.74)\n",
        "population_proportions"
      ]
    },
    {
      "cell_type": "code",
      "execution_count": null,
      "id": "3af94c8a-c66e-48a7-87ae-a6f1cb250501",
      "metadata": {
        "id": "3af94c8a-c66e-48a7-87ae-a6f1cb250501",
        "outputId": "2e46a8a0-e161-4def-ed67-339d301214cc"
      },
      "outputs": [
        {
          "name": "stdout",
          "output_type": "stream",
          "text": [
            "Help on function sample_proportions in module datascience.util:\n",
            "\n",
            "sample_proportions(sample_size, probabilities)\n",
            "    Return the proportion of random draws for each outcome in a distribution.\n",
            "    \n",
            "    This function is similar to np.random.multinomial, but returns proportions\n",
            "    instead of counts.\n",
            "    \n",
            "    Args:\n",
            "        ``sample_size``: The size of the sample to draw from the distribution.\n",
            "    \n",
            "        ``probabilities``: An array of probabilities that forms a distribution.\n",
            "    \n",
            "    Returns:\n",
            "        An array with the same length as ``probability`` that sums to 1.\n",
            "\n"
          ]
        }
      ],
      "source": [
        "help(sample_proportions)"
      ]
    },
    {
      "cell_type": "code",
      "execution_count": null,
      "id": "b24129c3-c6e4-4485-8cfd-4f07e85eeb12",
      "metadata": {
        "tags": [],
        "id": "b24129c3-c6e4-4485-8cfd-4f07e85eeb12",
        "outputId": "e7656b4a-bb9a-433b-c525-b087f290dc1f"
      },
      "outputs": [
        {
          "data": {
            "text/plain": [
              "array([ 0.18,  0.82])"
            ]
          },
          "execution_count": 17,
          "metadata": {},
          "output_type": "execute_result"
        }
      ],
      "source": [
        "sample_proportions(100, population_proportions)"
      ]
    },
    {
      "cell_type": "code",
      "execution_count": null,
      "id": "be64680c-a242-4901-b286-71e73344b385",
      "metadata": {
        "tags": [],
        "id": "be64680c-a242-4901-b286-71e73344b385"
      },
      "outputs": [],
      "source": [
        "def panel_proportion():\n",
        "    return sample_proportions(100, population_proportions).item(0)"
      ]
    },
    {
      "cell_type": "code",
      "execution_count": null,
      "id": "458a7450-2d74-46a2-b64e-ee7c404ccd13",
      "metadata": {
        "id": "458a7450-2d74-46a2-b64e-ee7c404ccd13",
        "outputId": "c0488f0b-34a0-4699-8dfe-e6bec884a70f"
      },
      "outputs": [
        {
          "data": {
            "text/plain": [
              "0.3"
            ]
          },
          "execution_count": 19,
          "metadata": {},
          "output_type": "execute_result"
        }
      ],
      "source": [
        "panel_proportion()"
      ]
    },
    {
      "cell_type": "code",
      "execution_count": null,
      "id": "f0e45115-172e-413a-a3c1-796a3d37e195",
      "metadata": {
        "tags": [],
        "id": "f0e45115-172e-413a-a3c1-796a3d37e195"
      },
      "outputs": [],
      "source": [
        "panels = make_array()\n",
        "\n",
        "for _ in np.arange(10_000):\n",
        "    new_panel = panel_proportion() * 100\n",
        "    panels = np.append(panels, new_panel)"
      ]
    },
    {
      "cell_type": "code",
      "execution_count": null,
      "id": "06beea30-571a-41b0-bbed-838ecc8a6fc0",
      "metadata": {
        "tags": [],
        "id": "06beea30-571a-41b0-bbed-838ecc8a6fc0",
        "outputId": "7d8eecf0-cd27-4556-9be9-44dcd4f46f77"
      },
      "outputs": [
        {
          "data": {
            "image/png": "[encoded data removed]",
            "text/plain": [
              "<Figure size 600x400 with 1 Axes>"
            ]
          },
          "metadata": {},
          "output_type": "display_data"
        }
      ],
      "source": [
        "(Table().with_column('Number of Black Men on Panel of 100', panels)\n",
        "        .hist(bins=np.arange(5.5,40.)))"
      ]
    },
    {
      "cell_type": "markdown",
      "id": "ae0059ac-c8c0-479a-9a6f-b7108de1291e",
      "metadata": {
        "id": "ae0059ac-c8c0-479a-9a6f-b7108de1291e"
      },
      "source": [
        "---"
      ]
    },
    {
      "cell_type": "markdown",
      "id": "fbd63d50-6bc4-4ce9-b1a0-211f893899fa",
      "metadata": {
        "id": "fbd63d50-6bc4-4ce9-b1a0-211f893899fa"
      },
      "source": [
        "## A Genetic Model"
      ]
    },
    {
      "cell_type": "markdown",
      "id": "e40cc4d9-22b7-4fbd-9d84-560ac6ec18ad",
      "metadata": {
        "id": "e40cc4d9-22b7-4fbd-9d84-560ac6ec18ad"
      },
      "source": [
        "---"
      ]
    },
    {
      "cell_type": "markdown",
      "id": "d6bf52be-137b-40d6-8362-d85f97c89c3a",
      "metadata": {
        "id": "d6bf52be-137b-40d6-8362-d85f97c89c3a"
      },
      "source": [
        "### Gregor Mendel, 1822-1884"
      ]
    },
    {
      "cell_type": "markdown",
      "id": "bda350c7-9302-4b50-9a98-db25130d78e7",
      "metadata": {
        "id": "bda350c7-9302-4b50-9a98-db25130d78e7"
      },
      "source": [
        "<a href=\"https://en.wikipedia.org/wiki/Gregor_Mendel\" title=\"Wikipedia - Gregor Mendel\"><img src=\"./Gregor_Mendel.jpeg\" alt=\"Gregor Mendel\"\n",
        "width = 30%></a>"
      ]
    },
    {
      "cell_type": "markdown",
      "id": "c8967ecf-bc08-474b-acc7-fc9bb2ed4ab8",
      "metadata": {
        "id": "c8967ecf-bc08-474b-acc7-fc9bb2ed4ab8"
      },
      "source": [
        "---"
      ]
    },
    {
      "cell_type": "markdown",
      "id": "9986f591-5831-4879-8703-f6e0968266ce",
      "metadata": {
        "id": "9986f591-5831-4879-8703-f6e0968266ce"
      },
      "source": [
        "### A Model"
      ]
    },
    {
      "cell_type": "markdown",
      "id": "a4c1a53f-c749-4434-87e6-ad3855ce100f",
      "metadata": {
        "id": "a4c1a53f-c749-4434-87e6-ad3855ce100f"
      },
      "source": [
        "* Pea plants of a particular kind\n",
        "* Each one has either purple flowers or white flowers\n",
        "* Mendel’s model: Each plant is purple-flowering with chance 75%, regardless of the colors of the other plants\n",
        "* Question: Is the model good, or not?\n"
      ]
    },
    {
      "cell_type": "markdown",
      "id": "6baafbc0-6104-462c-8bb4-2785d99dc032",
      "metadata": {
        "id": "6baafbc0-6104-462c-8bb4-2785d99dc032"
      },
      "source": [
        "---"
      ]
    },
    {
      "cell_type": "markdown",
      "id": "ce7e0b83-374e-4fcf-9e6e-6ba536098c5b",
      "metadata": {
        "id": "ce7e0b83-374e-4fcf-9e6e-6ba536098c5b"
      },
      "source": [
        "### Choosing a Statistic"
      ]
    },
    {
      "cell_type": "markdown",
      "id": "c3c832d6-8867-434f-98c5-7df6b6ebec6a",
      "metadata": {
        "id": "c3c832d6-8867-434f-98c5-7df6b6ebec6a"
      },
      "source": [
        "* Take a sample, see what percent are purple-flowering\n",
        "* If that percent is much larger or much smaller than 75, that is evidence against the model\n",
        "* Distance from 75 is the key\n",
        "* Statistic: `abs(sample_percent_of_purple_flowering_plants - 75)`\n",
        "* If the statistic is large, that is evidence against the model\n"
      ]
    },
    {
      "cell_type": "markdown",
      "id": "3fb059ad-883a-42fc-831d-7f103bf4707f",
      "metadata": {
        "id": "3fb059ad-883a-42fc-831d-7f103bf4707f"
      },
      "source": [
        "---"
      ]
    },
    {
      "cell_type": "markdown",
      "id": "14a1196a-0c60-43b4-9ba9-469f29ef5860",
      "metadata": {
        "id": "14a1196a-0c60-43b4-9ba9-469f29ef5860"
      },
      "source": [
        "### Demo: Mendel and Pea Flowers"
      ]
    },
    {
      "cell_type": "markdown",
      "id": "b07a2dc2-6aa8-4bc8-8eb8-dd07f007bbf1",
      "metadata": {
        "deletable": false,
        "editable": false,
        "id": "b07a2dc2-6aa8-4bc8-8eb8-dd07f007bbf1"
      },
      "source": [
        "Mendel had 929 plants, of which 709 had purple flowers:\n",
        "\n",
        "* Define the observed proportion of purple flowers in Mendel's data and the predicted population proportions for purple and non-purple flowers.\n",
        "* Simulate sampling 929 plants from a population with the proportions predicted by Mendel.\n",
        "* Simulate randomly selecting samples of 929 plants based on Mendel's model.\n",
        "* Repeat this process 10000 times and visualize the distribution of the sample proportions.\n",
        "* Visualize the distribution of the test statistics created from the simulations and identify where the observed statistic fits in the distribution."
      ]
    },
    {
      "cell_type": "code",
      "execution_count": null,
      "id": "151afd36-564f-4bc7-8632-46b15662a45f",
      "metadata": {
        "scrolled": true,
        "tags": [],
        "id": "151afd36-564f-4bc7-8632-46b15662a45f",
        "outputId": "3045e437-7bd5-409c-a610-957722ee9dce"
      },
      "outputs": [
        {
          "data": {
            "text/plain": [
              "0.7631862217438106"
            ]
          },
          "execution_count": 22,
          "metadata": {},
          "output_type": "execute_result"
        }
      ],
      "source": [
        "observed_purples = 709/929\n",
        "observed_purples"
      ]
    },
    {
      "cell_type": "code",
      "execution_count": null,
      "id": "ee781974-9a18-41d6-b6c5-7c6055043f2c",
      "metadata": {
        "scrolled": true,
        "tags": [],
        "id": "ee781974-9a18-41d6-b6c5-7c6055043f2c",
        "outputId": "18fd0df7-cfb8-4c3d-e310-48cb8c5f11a6"
      },
      "outputs": [
        {
          "data": {
            "text/plain": [
              "array([ 0.75,  0.25])"
            ]
          },
          "execution_count": 23,
          "metadata": {},
          "output_type": "execute_result"
        }
      ],
      "source": [
        "predicted_proportions = make_array(0.75,0.25)\n",
        "predicted_proportions"
      ]
    },
    {
      "cell_type": "code",
      "execution_count": null,
      "id": "60d46af4-1e52-4990-979b-d28ee44bc783",
      "metadata": {
        "scrolled": true,
        "tags": [],
        "id": "60d46af4-1e52-4990-979b-d28ee44bc783",
        "outputId": "33df11cb-f741-47dc-aaf1-682a4ae27bbd"
      },
      "outputs": [
        {
          "data": {
            "text/plain": [
              "array([ 0.76426265,  0.23573735])"
            ]
          },
          "execution_count": 24,
          "metadata": {},
          "output_type": "execute_result"
        }
      ],
      "source": [
        "sample_proportions(929,predicted_proportions)"
      ]
    },
    {
      "cell_type": "code",
      "execution_count": null,
      "id": "2eb54a52-1163-4f5a-ab1f-506ac7330e5c",
      "metadata": {
        "tags": [],
        "id": "2eb54a52-1163-4f5a-ab1f-506ac7330e5c"
      },
      "outputs": [],
      "source": [
        "def purple_flowers():\n",
        "    return sample_proportions(929, predicted_proportions).item(0) * 100"
      ]
    },
    {
      "cell_type": "code",
      "execution_count": null,
      "id": "3b2ff47f-43cf-47ff-af81-b3b3eeb158b0",
      "metadata": {
        "tags": [],
        "id": "3b2ff47f-43cf-47ff-af81-b3b3eeb158b0",
        "outputId": "485652f6-b09d-4acc-f976-81795279d5e0"
      },
      "outputs": [
        {
          "data": {
            "text/plain": [
              "76.64155005382132"
            ]
          },
          "execution_count": 26,
          "metadata": {},
          "output_type": "execute_result"
        }
      ],
      "source": [
        "purple_flowers()"
      ]
    },
    {
      "cell_type": "code",
      "execution_count": null,
      "id": "e2d04fc6-27a5-4098-be84-5bf55fecdb1e",
      "metadata": {
        "tags": [],
        "id": "e2d04fc6-27a5-4098-be84-5bf55fecdb1e"
      },
      "outputs": [],
      "source": [
        "purples = make_array()\n",
        "\n",
        "for _ in np.arange(10_000):\n",
        "    new_purple = purple_flowers()\n",
        "    purples = np.append(purples, new_purple)"
      ]
    },
    {
      "cell_type": "code",
      "execution_count": null,
      "id": "e4b23656-47d2-4f31-900e-38df773cef5f",
      "metadata": {
        "tags": [],
        "id": "e4b23656-47d2-4f31-900e-38df773cef5f",
        "outputId": "448e2b59-0013-4fcc-9bb8-21ef323f7364"
      },
      "outputs": [
        {
          "data": {
            "image/png": "[encoded data removed]",
            "text/plain": [
              "<Figure size 600x400 with 1 Axes>"
            ]
          },
          "metadata": {},
          "output_type": "display_data"
        }
      ],
      "source": [
        "(Table().with_column('Percent of purple flowers in sample of 929', purples)\n",
        "        .hist())"
      ]
    },
    {
      "cell_type": "code",
      "execution_count": null,
      "id": "f2806626-4376-45a9-ac35-97d5899baefb",
      "metadata": {
        "tags": [],
        "id": "f2806626-4376-45a9-ac35-97d5899baefb",
        "outputId": "265067d9-18b8-44fc-8169-5759b01f0307"
      },
      "outputs": [
        {
          "data": {
            "text/html": [
              "<table border=\"1\" class=\"dataframe\">\n",
              "    <thead>\n",
              "        <tr>\n",
              "            <th>Discrepancy in sample of 929 if the model is true</th>\n",
              "        </tr>\n",
              "    </thead>\n",
              "    <tbody>\n",
              "        <tr>\n",
              "            <td>0.565124                                         </td>\n",
              "        </tr>\n",
              "        <tr>\n",
              "            <td>0.134553                                         </td>\n",
              "        </tr>\n",
              "        <tr>\n",
              "            <td>1.15716                                          </td>\n",
              "        </tr>\n",
              "        <tr>\n",
              "            <td>2.12594                                          </td>\n",
              "        </tr>\n",
              "        <tr>\n",
              "            <td>0.83423                                          </td>\n",
              "        </tr>\n",
              "        <tr>\n",
              "            <td>0.457481                                         </td>\n",
              "        </tr>\n",
              "        <tr>\n",
              "            <td>2.07212                                          </td>\n",
              "        </tr>\n",
              "        <tr>\n",
              "            <td>1.58773                                          </td>\n",
              "        </tr>\n",
              "        <tr>\n",
              "            <td>0.941873                                         </td>\n",
              "        </tr>\n",
              "        <tr>\n",
              "            <td>0.242196                                         </td>\n",
              "        </tr>\n",
              "    </tbody>\n",
              "</table>\n",
              "<p>... (9990 rows omitted)</p>"
            ],
            "text/plain": [
              "Discrepancy in sample of 929 if the model is true\n",
              "0.565124\n",
              "0.134553\n",
              "1.15716\n",
              "2.12594\n",
              "0.83423\n",
              "0.457481\n",
              "2.07212\n",
              "1.58773\n",
              "0.941873\n",
              "0.242196\n",
              "... (9990 rows omitted)"
            ]
          },
          "execution_count": 29,
          "metadata": {},
          "output_type": "execute_result"
        }
      ],
      "source": [
        "test_statistics = Table().with_column('Discrepancy in sample of 929 if the model is true', abs(purples- 75))\n",
        "test_statistics"
      ]
    },
    {
      "cell_type": "code",
      "execution_count": null,
      "id": "ab7c7f27-c805-47a0-83cd-931c0fa8c0b5",
      "metadata": {
        "tags": [],
        "id": "ab7c7f27-c805-47a0-83cd-931c0fa8c0b5",
        "outputId": "540c875b-eac9-4212-dcb1-cd72c58acb69"
      },
      "outputs": [
        {
          "data": {
            "image/png": "[encoded data removed]",
            "text/plain": [
              "<Figure size 600x400 with 1 Axes>"
            ]
          },
          "metadata": {},
          "output_type": "display_data"
        }
      ],
      "source": [
        "test_statistics.hist()"
      ]
    },
    {
      "cell_type": "code",
      "execution_count": null,
      "id": "09576d56-5959-4c33-accc-8d8433b26f9d",
      "metadata": {
        "id": "09576d56-5959-4c33-accc-8d8433b26f9d",
        "outputId": "02475745-a36c-4659-e6d4-14b595647d01"
      },
      "outputs": [
        {
          "data": {
            "text/html": [
              "<table border=\"1\" class=\"dataframe\">\n",
              "    <thead>\n",
              "        <tr>\n",
              "            <th>Discrepancy in sample of 929 if the model is true</th>\n",
              "        </tr>\n",
              "    </thead>\n",
              "    <tbody>\n",
              "        <tr>\n",
              "            <td>0.565124                                         </td>\n",
              "        </tr>\n",
              "        <tr>\n",
              "            <td>0.134553                                         </td>\n",
              "        </tr>\n",
              "        <tr>\n",
              "            <td>-1.15716                                         </td>\n",
              "        </tr>\n",
              "        <tr>\n",
              "            <td>-2.12594                                         </td>\n",
              "        </tr>\n",
              "        <tr>\n",
              "            <td>-0.83423                                         </td>\n",
              "        </tr>\n",
              "        <tr>\n",
              "            <td>0.457481                                         </td>\n",
              "        </tr>\n",
              "        <tr>\n",
              "            <td>2.07212                                          </td>\n",
              "        </tr>\n",
              "        <tr>\n",
              "            <td>-1.58773                                         </td>\n",
              "        </tr>\n",
              "        <tr>\n",
              "            <td>-0.941873                                        </td>\n",
              "        </tr>\n",
              "        <tr>\n",
              "            <td>0.242196                                         </td>\n",
              "        </tr>\n",
              "    </tbody>\n",
              "</table>\n",
              "<p>... (9990 rows omitted)</p>"
            ],
            "text/plain": [
              "Discrepancy in sample of 929 if the model is true\n",
              "0.565124\n",
              "0.134553\n",
              "-1.15716\n",
              "-2.12594\n",
              "-0.83423\n",
              "0.457481\n",
              "2.07212\n",
              "-1.58773\n",
              "-0.941873\n",
              "0.242196\n",
              "... (9990 rows omitted)"
            ]
          },
          "execution_count": 31,
          "metadata": {},
          "output_type": "execute_result"
        }
      ],
      "source": [
        "test_statistics1 = Table().with_column('Discrepancy in sample of 929 if the model is true', purples- 75)\n",
        "test_statistics1"
      ]
    },
    {
      "cell_type": "code",
      "execution_count": null,
      "id": "5400cb5b-20a7-4756-a83a-b80ad913435f",
      "metadata": {
        "id": "5400cb5b-20a7-4756-a83a-b80ad913435f",
        "outputId": "66a8a72c-d675-4b2b-ff70-8b957cae10f7"
      },
      "outputs": [
        {
          "data": {
            "image/png": "[encoded data removed]",
            "text/plain": [
              "<Figure size 600x400 with 1 Axes>"
            ]
          },
          "metadata": {},
          "output_type": "display_data"
        }
      ],
      "source": [
        "test_statistics1.hist()"
      ]
    },
    {
      "cell_type": "code",
      "execution_count": null,
      "id": "11433550-5a1d-48f9-b67d-4fa8f0be1ba6",
      "metadata": {
        "tags": [],
        "id": "11433550-5a1d-48f9-b67d-4fa8f0be1ba6",
        "outputId": "16a7db0d-a78a-4ee3-81ab-9ede3f6116c0"
      },
      "outputs": [
        {
          "data": {
            "text/plain": [
              "1.318622174381062"
            ]
          },
          "execution_count": 33,
          "metadata": {},
          "output_type": "execute_result"
        }
      ],
      "source": [
        "observed_statistic = abs(observed_purples * 100 - 75)\n",
        "observed_statistic"
      ]
    },
    {
      "cell_type": "code",
      "execution_count": null,
      "id": "b27e3c82-4e9c-4b7c-8af1-bbf1990c0ebc",
      "metadata": {
        "tags": [],
        "id": "b27e3c82-4e9c-4b7c-8af1-bbf1990c0ebc",
        "outputId": "8c1afb7d-a0b1-41ef-830f-b3c937c5c32f"
      },
      "outputs": [
        {
          "data": {
            "image/png": "[encoded data removed]",
            "text/plain": [
              "<Figure size 600x400 with 1 Axes>"
            ]
          },
          "metadata": {},
          "output_type": "display_data"
        }
      ],
      "source": [
        "test_statistics.hist()\n",
        "plt.scatter(observed_statistic, 0, color='red', s=60, zorder=3)\n",
        "plt.show()"
      ]
    },
    {
      "cell_type": "markdown",
      "id": "b4b3c076-4520-473e-ae6f-941ae747175f",
      "metadata": {
        "id": "b4b3c076-4520-473e-ae6f-941ae747175f"
      },
      "source": [
        "---"
      ]
    },
    {
      "cell_type": "markdown",
      "id": "c83d3bab-77c2-4f4b-ae77-e46c2ada62a4",
      "metadata": {
        "id": "c83d3bab-77c2-4f4b-ae77-e46c2ada62a4"
      },
      "source": [
        "## Two Viewpoints"
      ]
    },
    {
      "cell_type": "markdown",
      "id": "15c9b645-ef84-4971-9fb6-1f75254f598e",
      "metadata": {
        "id": "15c9b645-ef84-4971-9fb6-1f75254f598e"
      },
      "source": [
        "---"
      ]
    },
    {
      "cell_type": "markdown",
      "id": "c58fa027-470b-44b7-8b8e-7ded848db02f",
      "metadata": {
        "id": "c58fa027-470b-44b7-8b8e-7ded848db02f"
      },
      "source": [
        "### Model and Alternative"
      ]
    },
    {
      "cell_type": "markdown",
      "id": "3a3eaad0-2d80-469b-8e62-058e1ec73884",
      "metadata": {
        "id": "3a3eaad0-2d80-469b-8e62-058e1ec73884"
      },
      "source": [
        "* Jury selection:\n",
        "    * Model: The people on the jury panels were selected at random from the eligible population\n",
        "    * Alternative viewpoint: No, they weren't\n",
        "* Genetics:\n",
        "    * Model: Each plant has a 75% chance of having purple flowers\n",
        "    * Alternative viewpoint: No, it doesn't"
      ]
    },
    {
      "cell_type": "markdown",
      "id": "4f1a562c-a118-4022-8732-2e25ce38c6ac",
      "metadata": {
        "id": "4f1a562c-a118-4022-8732-2e25ce38c6ac"
      },
      "source": [
        "---"
      ]
    },
    {
      "cell_type": "markdown",
      "id": "f1db8897-b2b6-49b7-a048-fe34ac5ae9ff",
      "metadata": {
        "id": "f1db8897-b2b6-49b7-a048-fe34ac5ae9ff"
      },
      "source": [
        "### Steps in Assessing a Model"
      ]
    },
    {
      "cell_type": "markdown",
      "id": "c1176cd2-ba18-48d5-94c1-8db8fff189d0",
      "metadata": {
        "id": "c1176cd2-ba18-48d5-94c1-8db8fff189d0"
      },
      "source": [
        "* Choose a statistic to measure discrepancy between model and data\n",
        "* Simulate the statistic under the model’s assumptions\n",
        "* Compare the data to the model’s predictions:\n",
        "    * Draw a histogram of simulated values of the statistic\n",
        "    * Compute the observed statistic from the real sample\n",
        "    * If the observed statistic is far from the histogram, that is evidence against the model\n"
      ]
    },
    {
      "cell_type": "markdown",
      "id": "e102f391-31d2-4c0f-9a1a-e617d87ae325",
      "metadata": {
        "id": "e102f391-31d2-4c0f-9a1a-e617d87ae325"
      },
      "source": [
        "---"
      ]
    },
    {
      "cell_type": "markdown",
      "id": "4a9cdae5-955b-4272-a27f-765e76daa6b0",
      "metadata": {
        "editable": true,
        "tags": [],
        "id": "4a9cdae5-955b-4272-a27f-765e76daa6b0"
      },
      "source": [
        "## Attribution"
      ]
    },
    {
      "cell_type": "markdown",
      "id": "74c856c0-d3ed-4ec2-adca-b0d6aa122afe",
      "metadata": {
        "id": "74c856c0-d3ed-4ec2-adca-b0d6aa122afe"
      },
      "source": [
        "This content is licensed under the <a href=\"https://creativecommons.org/licenses/by-nc-sa/4.0/\">Creative Commons Attribution-NonCommercial-ShareAlike 4.0 International License (CC BY-NC-SA 4.0)</a> and derived from the <a href=\"https://www.data8.org/\">Data 8: The Foundations of Data Science</a> offered by the University of California, Berkeley.\n",
        "\n",
        "<img src=\"./by-nc-sa.png\" width=100px>"
      ]
    }
  ],
  "metadata": {
    "kernelspec": {
      "display_name": "Python 3 (ipykernel)",
      "language": "python",
      "name": "python3"
    },
    "language_info": {
      "codemirror_mode": {
        "name": "ipython",
        "version": 3
      },
      "file_extension": ".py",
      "mimetype": "text/x-python",
      "name": "python",
      "nbconvert_exporter": "python",
      "pygments_lexer": "ipython3",
      "version": "3.11.9"
    },
    "otter": {
      "OK_FORMAT": true,
      "tests": {}
    },
    "colab": {
      "provenance": [],
      "include_colab_link": true
    }
  },
  "nbformat": 4,
  "nbformat_minor": 5
}