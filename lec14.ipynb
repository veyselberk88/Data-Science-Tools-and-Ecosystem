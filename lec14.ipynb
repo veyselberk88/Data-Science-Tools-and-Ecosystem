{
  "cells": [
    {
      "cell_type": "markdown",
      "metadata": {
        "id": "view-in-github",
        "colab_type": "text"
      },
      "source": [
        "<a href=\"https://colab.research.google.com/github/veyselberk88/Data-Science-Tools-and-Ecosystem/blob/main/lec14.ipynb\" target=\"_parent\"><img src=\"https://colab.research.google.com/assets/colab-badge.svg\" alt=\"Open In Colab\"/></a>"
      ]
    },
    {
      "cell_type": "markdown",
      "id": "bfc74c3c-acb5-4fbd-85b1-ab47ac636e41",
      "metadata": {
        "id": "bfc74c3c-acb5-4fbd-85b1-ab47ac636e41"
      },
      "source": [
        "<img src=\"./ccsf.png\" alt=\"CCSF Logo\" width=200px style=\"margin:0px -5px\">"
      ]
    },
    {
      "cell_type": "markdown",
      "id": "e9bc0929-9845-4e95-8ddb-e32b342d3b53",
      "metadata": {
        "id": "e9bc0929-9845-4e95-8ddb-e32b342d3b53"
      },
      "source": [
        "# Lecture 14: Conditionals and Iteration"
      ]
    },
    {
      "cell_type": "markdown",
      "id": "ac8b0242-ec59-40a9-b010-717ff9e8a560",
      "metadata": {
        "id": "ac8b0242-ec59-40a9-b010-717ff9e8a560"
      },
      "source": [
        "Associated Textbook Sections: [9.0, 9.1, 9.2, 9.3](https://ccsf-math-108.github.io/textbook/chapters/09/Randomness.html)"
      ]
    },
    {
      "cell_type": "markdown",
      "id": "4fc9ed03-0d57-4f62-9a59-184c6c0e04b4",
      "metadata": {
        "id": "4fc9ed03-0d57-4f62-9a59-184c6c0e04b4"
      },
      "source": [
        "---"
      ]
    },
    {
      "cell_type": "markdown",
      "id": "37fac6d7-c2ed-480c-8786-4700b22cfedb",
      "metadata": {
        "id": "37fac6d7-c2ed-480c-8786-4700b22cfedb"
      },
      "source": [
        "## Overview"
      ]
    },
    {
      "cell_type": "markdown",
      "id": "4566071e-f3fa-4906-ae20-cc8172f0becf",
      "metadata": {
        "id": "4566071e-f3fa-4906-ae20-cc8172f0becf"
      },
      "source": [
        "* [Comparison and Booleans](#Comparison-and-Booleans)\n",
        "* [Applying a Function to a Row](#Applying-a-Function-to-a-Row)\n",
        "* [Control Statements](#Control-Statements)\n",
        "* [Random Selection](#Random-Selection)\n",
        "* [Appending Arrays](#Appending-Arrays)\n",
        "* [Iteration](#Iteration)\n",
        "* [Optional: `bool` and `where`](#Optional:-bool-and-where)"
      ]
    },
    {
      "cell_type": "markdown",
      "id": "ad954893-5472-4930-9503-c1ceddf5f821",
      "metadata": {
        "id": "ad954893-5472-4930-9503-c1ceddf5f821"
      },
      "source": [
        "---"
      ]
    },
    {
      "cell_type": "markdown",
      "id": "d6bf40a4-26c4-42db-a39e-b98dd85f3f68",
      "metadata": {
        "id": "d6bf40a4-26c4-42db-a39e-b98dd85f3f68"
      },
      "source": [
        "## Set Up the Notebook"
      ]
    },
    {
      "cell_type": "code",
      "execution_count": null,
      "id": "2b507e41-ba3a-4445-957c-4773db2a1ae4",
      "metadata": {
        "id": "2b507e41-ba3a-4445-957c-4773db2a1ae4"
      },
      "outputs": [],
      "source": [
        "from datascience import *\n",
        "import numpy as np\n",
        "%matplotlib inline\n",
        "import matplotlib.pyplot as plt\n",
        "plt.style.use('fivethirtyeight')"
      ]
    },
    {
      "cell_type": "markdown",
      "id": "8502aab3-e2c6-4d69-b430-501721f3add4",
      "metadata": {
        "id": "8502aab3-e2c6-4d69-b430-501721f3add4"
      },
      "source": [
        "---"
      ]
    },
    {
      "cell_type": "markdown",
      "id": "8b59b55e-19e8-435f-b752-c0e2a0e2e890",
      "metadata": {
        "id": "8b59b55e-19e8-435f-b752-c0e2a0e2e890"
      },
      "source": [
        "## Comparison and Booleans"
      ]
    },
    {
      "cell_type": "markdown",
      "id": "f06201bb-6c43-4dde-8fc2-9f2ca62072b7",
      "metadata": {
        "id": "f06201bb-6c43-4dde-8fc2-9f2ca62072b7"
      },
      "source": [
        "---"
      ]
    },
    {
      "cell_type": "markdown",
      "id": "80ed633a-c89d-4f30-813c-58ccf9571238",
      "metadata": {
        "id": "80ed633a-c89d-4f30-813c-58ccf9571238"
      },
      "source": [
        "### Comparison Operators"
      ]
    },
    {
      "cell_type": "markdown",
      "id": "40c19fb1-c7d1-4a7c-9abf-6984502854d7",
      "metadata": {
        "id": "40c19fb1-c7d1-4a7c-9abf-6984502854d7"
      },
      "source": [
        "* Assignments Statements:\n",
        "    * `x = 6`\n",
        "    * `height = x * 12`\n",
        "* Comparison Expressions:\n",
        "    * `x > 1`\n",
        "    * `x < y`\n",
        "    * `y >= 3`\n",
        "    * `x == y`\n",
        "    * `x != y`\n",
        "    * `2 < x < 5`\n",
        "* The result of a comparison expression is a `bool` value (`True` or `False`)"
      ]
    },
    {
      "cell_type": "markdown",
      "id": "35ef4d17-c84a-48b4-9ade-12d6a167e12b",
      "metadata": {
        "id": "35ef4d17-c84a-48b4-9ade-12d6a167e12b"
      },
      "source": [
        "---"
      ]
    },
    {
      "cell_type": "markdown",
      "id": "2601c737-8624-4d02-b77c-c77e6c52eab0",
      "metadata": {
        "id": "2601c737-8624-4d02-b77c-c77e6c52eab0"
      },
      "source": [
        "### Aggregating Comparisons"
      ]
    },
    {
      "cell_type": "markdown",
      "id": "0d525a93-31c5-403c-aa73-9c9c8414a19d",
      "metadata": {
        "id": "0d525a93-31c5-403c-aa73-9c9c8414a19d"
      },
      "source": [
        "* Summing an array or list of `bool` values will count the `True` values only.\n",
        "* The following produce an output of `2`:\n",
        "    * `1 + 0 + 1`\n",
        "    * `True + False + True`\n",
        "    * `sum([1, 0, 1])`\n",
        "    * `sum([True, False, True])`"
      ]
    },
    {
      "cell_type": "markdown",
      "id": "7f9b7d20-9147-4d28-b8ab-5f99dc906a58",
      "metadata": {
        "id": "7f9b7d20-9147-4d28-b8ab-5f99dc906a58"
      },
      "source": [
        "---"
      ]
    },
    {
      "cell_type": "markdown",
      "id": "0ee87cc7-0a6e-4d5e-9543-e0d3e802b74b",
      "metadata": {
        "id": "0ee87cc7-0a6e-4d5e-9543-e0d3e802b74b"
      },
      "source": [
        "### Demo: Comparison"
      ]
    },
    {
      "cell_type": "markdown",
      "id": "c6bcac17-68cd-4b22-8990-84bedd1b861f",
      "metadata": {
        "deletable": false,
        "editable": false,
        "id": "c6bcac17-68cd-4b22-8990-84bedd1b861f"
      },
      "source": [
        "Demonstrate using the comparison operators."
      ]
    },
    {
      "cell_type": "code",
      "execution_count": null,
      "id": "98a9fba8-07b0-4e82-885c-f31150cf13ea",
      "metadata": {
        "tags": [],
        "id": "98a9fba8-07b0-4e82-885c-f31150cf13ea",
        "outputId": "1d37dd39-eac5-4c77-cd11-a8bb02dd04df"
      },
      "outputs": [
        {
          "data": {
            "text/plain": [
              "True"
            ]
          },
          "execution_count": 249,
          "metadata": {},
          "output_type": "execute_result"
        }
      ],
      "source": [
        "bool(True+False+True)"
      ]
    },
    {
      "cell_type": "code",
      "execution_count": null,
      "id": "a0b1f9f6-f8ad-45c9-9245-7d6d7095dae5",
      "metadata": {
        "tags": [],
        "id": "a0b1f9f6-f8ad-45c9-9245-7d6d7095dae5",
        "outputId": "d21a356b-c2c1-4818-d47d-1e63c8795e8d"
      },
      "outputs": [
        {
          "data": {
            "text/plain": [
              "True"
            ]
          },
          "execution_count": 250,
          "metadata": {},
          "output_type": "execute_result"
        }
      ],
      "source": [
        "3>1\n"
      ]
    },
    {
      "cell_type": "code",
      "execution_count": null,
      "id": "4d37cd66-838f-4936-b2ad-d9d327675774",
      "metadata": {
        "tags": [],
        "id": "4d37cd66-838f-4936-b2ad-d9d327675774",
        "outputId": "f550ad3b-dda8-4578-e41a-3ceb30f4f157"
      },
      "outputs": [
        {
          "data": {
            "text/plain": [
              "bool"
            ]
          },
          "execution_count": 251,
          "metadata": {},
          "output_type": "execute_result"
        }
      ],
      "source": [
        "type(3>1)"
      ]
    },
    {
      "cell_type": "code",
      "execution_count": null,
      "id": "af0cde99-c8e4-4dc9-a276-9b793b3cb12a",
      "metadata": {
        "tags": [],
        "id": "af0cde99-c8e4-4dc9-a276-9b793b3cb12a"
      },
      "outputs": [],
      "source": [
        "# Creates a NameError\n",
        "..."
      ]
    },
    {
      "cell_type": "code",
      "execution_count": null,
      "id": "a4b5a795-9100-43f8-8ae3-8d7047f2c739",
      "metadata": {
        "tags": [],
        "id": "a4b5a795-9100-43f8-8ae3-8d7047f2c739"
      },
      "outputs": [],
      "source": [
        "# Creates a SyntaxError\n",
        "..."
      ]
    },
    {
      "cell_type": "code",
      "execution_count": null,
      "id": "dcb03b5d-2e80-43a8-9735-10132246cc58",
      "metadata": {
        "tags": [],
        "id": "dcb03b5d-2e80-43a8-9735-10132246cc58",
        "outputId": "97eaca02-d9f7-47f5-bd6e-d75e67e76ac3"
      },
      "outputs": [
        {
          "data": {
            "text/plain": [
              "True"
            ]
          },
          "execution_count": 254,
          "metadata": {},
          "output_type": "execute_result"
        }
      ],
      "source": [
        "3 == 3.0"
      ]
    },
    {
      "cell_type": "code",
      "execution_count": null,
      "id": "277afc59-c1bc-45fb-9ed9-584bd4f247ca",
      "metadata": {
        "tags": [],
        "id": "277afc59-c1bc-45fb-9ed9-584bd4f247ca",
        "outputId": "9d0a1022-d55d-4b50-b531-4238bd21db3d"
      },
      "outputs": [
        {
          "data": {
            "text/plain": [
              "True"
            ]
          },
          "execution_count": 255,
          "metadata": {},
          "output_type": "execute_result"
        }
      ],
      "source": [
        "10!=2\n"
      ]
    },
    {
      "cell_type": "code",
      "execution_count": null,
      "id": "b2c56610-0c03-478b-be12-d8df045ebfc5",
      "metadata": {
        "tags": [],
        "id": "b2c56610-0c03-478b-be12-d8df045ebfc5"
      },
      "outputs": [],
      "source": [
        "x = 14\n",
        "y = 3"
      ]
    },
    {
      "cell_type": "code",
      "execution_count": null,
      "id": "6e8f4416-6aa7-471a-9e6f-521df2622d9f",
      "metadata": {
        "tags": [],
        "id": "6e8f4416-6aa7-471a-9e6f-521df2622d9f",
        "outputId": "ba81d9da-7cf8-43e2-e7e6-eb4c9cb056ff"
      },
      "outputs": [
        {
          "data": {
            "text/plain": [
              "True"
            ]
          },
          "execution_count": 257,
          "metadata": {},
          "output_type": "execute_result"
        }
      ],
      "source": [
        "12<x"
      ]
    },
    {
      "cell_type": "code",
      "execution_count": null,
      "id": "a1a49fda-66cb-4d7e-9f70-e61364088f39",
      "metadata": {
        "tags": [],
        "id": "a1a49fda-66cb-4d7e-9f70-e61364088f39",
        "outputId": "f3cb4738-3f6e-487b-b5e6-cb75c126c71a"
      },
      "outputs": [
        {
          "data": {
            "text/plain": [
              "True"
            ]
          },
          "execution_count": 258,
          "metadata": {},
          "output_type": "execute_result"
        }
      ],
      "source": [
        "12<x<15"
      ]
    },
    {
      "cell_type": "code",
      "execution_count": null,
      "id": "178c7278-31d5-41fc-a3fb-b12d160fb884",
      "metadata": {
        "tags": [],
        "id": "178c7278-31d5-41fc-a3fb-b12d160fb884",
        "outputId": "a707cf62-9fa9-47a6-9832-9394c306bf12"
      },
      "outputs": [
        {
          "data": {
            "text/plain": [
              "False"
            ]
          },
          "execution_count": 259,
          "metadata": {},
          "output_type": "execute_result"
        }
      ],
      "source": [
        "12<x<13"
      ]
    },
    {
      "cell_type": "code",
      "execution_count": null,
      "id": "d9f8d17a-2aa2-4313-ade0-fd6e65e74224",
      "metadata": {
        "tags": [],
        "id": "d9f8d17a-2aa2-4313-ade0-fd6e65e74224",
        "outputId": "3ec8fc52-6081-4ee9-96ab-50c72f9d2253"
      },
      "outputs": [
        {
          "data": {
            "text/plain": [
              "True"
            ]
          },
          "execution_count": 260,
          "metadata": {},
          "output_type": "execute_result"
        }
      ],
      "source": [
        "10<x-y<14"
      ]
    },
    {
      "cell_type": "code",
      "execution_count": null,
      "id": "4b3098d8-dc08-49ba-87e3-396f835c6e77",
      "metadata": {
        "tags": [],
        "id": "4b3098d8-dc08-49ba-87e3-396f835c6e77",
        "outputId": "e0db3395-7d57-4a54-8bad-b12986725042"
      },
      "outputs": [
        {
          "data": {
            "text/plain": [
              "True"
            ]
          },
          "execution_count": 261,
          "metadata": {},
          "output_type": "execute_result"
        }
      ],
      "source": [
        "x>10 and y<3.14"
      ]
    },
    {
      "cell_type": "code",
      "execution_count": null,
      "id": "2653f5d4-6094-4896-a0b1-132ce0ff388d",
      "metadata": {
        "tags": [],
        "id": "2653f5d4-6094-4896-a0b1-132ce0ff388d",
        "outputId": "9f2547dc-4bfa-4d6b-8b97-68f93d631ddf"
      },
      "outputs": [
        {
          "data": {
            "text/plain": [
              "True"
            ]
          },
          "execution_count": 262,
          "metadata": {},
          "output_type": "execute_result"
        }
      ],
      "source": [
        "x>10 or y<2"
      ]
    },
    {
      "cell_type": "markdown",
      "id": "bef381ae-8711-44dc-83a2-ca1be31f0c6e",
      "metadata": {
        "id": "bef381ae-8711-44dc-83a2-ca1be31f0c6e"
      },
      "source": [
        "---"
      ]
    },
    {
      "cell_type": "markdown",
      "id": "f023a69e-fd00-4ea6-8c60-0fac8b330f98",
      "metadata": {
        "id": "f023a69e-fd00-4ea6-8c60-0fac8b330f98"
      },
      "source": [
        "### Demo: Comparisons with Arrays"
      ]
    },
    {
      "cell_type": "markdown",
      "id": "b1643927-5b0d-4350-816d-a25ca4cfb9d6",
      "metadata": {
        "deletable": false,
        "editable": false,
        "id": "b1643927-5b0d-4350-816d-a25ca4cfb9d6"
      },
      "source": [
        "Demonstrate how comparisons work with arrays."
      ]
    },
    {
      "cell_type": "code",
      "execution_count": null,
      "id": "cee5ec9a-d10d-4d5e-aeb7-86a3cad94c17",
      "metadata": {
        "tags": [],
        "id": "cee5ec9a-d10d-4d5e-aeb7-86a3cad94c17",
        "outputId": "3eb6bbbb-0c12-429b-87b2-b1c19ead3ffa"
      },
      "outputs": [
        {
          "data": {
            "text/plain": [
              "array(['cat', 'cat', 'dog', 'cat', 'dog', 'rabbit'],\n",
              "      dtype='<U6')"
            ]
          },
          "execution_count": 263,
          "metadata": {},
          "output_type": "execute_result"
        }
      ],
      "source": [
        "pets = make_array('cat', 'cat', 'dog', 'cat', 'dog', 'rabbit')\n",
        "pets"
      ]
    },
    {
      "cell_type": "code",
      "execution_count": null,
      "id": "dc93ccf1-a056-45bf-addc-bb591af6f1ed",
      "metadata": {
        "tags": [],
        "id": "dc93ccf1-a056-45bf-addc-bb591af6f1ed",
        "outputId": "4c24c8c6-68df-4fd6-92fc-dc875dd994f7"
      },
      "outputs": [
        {
          "data": {
            "text/plain": [
              "array([ True,  True, False,  True, False, False], dtype=bool)"
            ]
          },
          "execution_count": 264,
          "metadata": {},
          "output_type": "execute_result"
        }
      ],
      "source": [
        "pets =='cat'"
      ]
    },
    {
      "cell_type": "code",
      "execution_count": null,
      "id": "dca92559-53cd-4cde-9486-75f810988f73",
      "metadata": {
        "tags": [],
        "id": "dca92559-53cd-4cde-9486-75f810988f73",
        "outputId": "094deb09-1d9a-49f7-c9c2-b073a2364bc4"
      },
      "outputs": [
        {
          "data": {
            "text/plain": [
              "3"
            ]
          },
          "execution_count": 265,
          "metadata": {},
          "output_type": "execute_result"
        }
      ],
      "source": [
        "sum(pets=='cat')"
      ]
    },
    {
      "cell_type": "code",
      "execution_count": null,
      "id": "2f07e757-a1bb-44a3-8c5a-6fef1b9d7d61",
      "metadata": {
        "tags": [],
        "id": "2f07e757-a1bb-44a3-8c5a-6fef1b9d7d61",
        "outputId": "eba707c4-6532-41e5-8c97-1a77010eeb4f"
      },
      "outputs": [
        {
          "data": {
            "text/plain": [
              "array([20, 21, 22, 23, 24, 25, 26, 27, 28, 29, 30])"
            ]
          },
          "execution_count": 266,
          "metadata": {},
          "output_type": "execute_result"
        }
      ],
      "source": [
        "x=np.arange(20,31)\n",
        "x"
      ]
    },
    {
      "cell_type": "code",
      "execution_count": null,
      "id": "30fcb272-43f6-439a-ac05-ad56c391866d",
      "metadata": {
        "tags": [],
        "id": "30fcb272-43f6-439a-ac05-ad56c391866d",
        "outputId": "f881cebe-f430-47a2-b974-3c8455481dbb"
      },
      "outputs": [
        {
          "data": {
            "text/plain": [
              "Ellipsis"
            ]
          },
          "execution_count": 267,
          "metadata": {},
          "output_type": "execute_result"
        }
      ],
      "source": [
        "..."
      ]
    },
    {
      "cell_type": "code",
      "execution_count": null,
      "id": "ad99b79e-63f4-4dcf-b8ff-b93773c4ed41",
      "metadata": {
        "tags": [],
        "id": "ad99b79e-63f4-4dcf-b8ff-b93773c4ed41",
        "outputId": "ca931b69-984e-4de7-fc64-1d61b0dc8435"
      },
      "outputs": [
        {
          "data": {
            "text/plain": [
              "Ellipsis"
            ]
          },
          "execution_count": 268,
          "metadata": {},
          "output_type": "execute_result"
        }
      ],
      "source": [
        "..."
      ]
    },
    {
      "cell_type": "code",
      "execution_count": null,
      "id": "6a166e9e-de2f-44eb-a4dc-ff2188ea6e8c",
      "metadata": {
        "tags": [],
        "id": "6a166e9e-de2f-44eb-a4dc-ff2188ea6e8c"
      },
      "outputs": [],
      "source": [
        "x = ..."
      ]
    },
    {
      "cell_type": "code",
      "execution_count": null,
      "id": "1848c5fa-41d1-4e08-bed2-e8b025ed8f9e",
      "metadata": {
        "tags": [],
        "id": "1848c5fa-41d1-4e08-bed2-e8b025ed8f9e",
        "outputId": "537ec60e-ac10-4b44-8d51-61278fb56712"
      },
      "outputs": [
        {
          "data": {
            "text/plain": [
              "Ellipsis"
            ]
          },
          "execution_count": 270,
          "metadata": {},
          "output_type": "execute_result"
        }
      ],
      "source": [
        "..."
      ]
    },
    {
      "cell_type": "markdown",
      "id": "4881c716-1408-4325-9cf3-8aae3acd7808",
      "metadata": {
        "id": "4881c716-1408-4325-9cf3-8aae3acd7808"
      },
      "source": [
        "---"
      ]
    },
    {
      "cell_type": "markdown",
      "id": "fe7cfc4f-079b-4425-9d2a-51ed7f1dad40",
      "metadata": {
        "id": "fe7cfc4f-079b-4425-9d2a-51ed7f1dad40"
      },
      "source": [
        "## Applying a Function to a Row"
      ]
    },
    {
      "cell_type": "markdown",
      "id": "e11fe01f-d2eb-4975-9759-3a74118a69a9",
      "metadata": {
        "id": "e11fe01f-d2eb-4975-9759-3a74118a69a9"
      },
      "source": [
        "---"
      ]
    },
    {
      "cell_type": "markdown",
      "id": "b66c32df-0741-4153-bca1-6643f69d9b28",
      "metadata": {
        "id": "b66c32df-0741-4153-bca1-6643f69d9b28"
      },
      "source": [
        "### Rows"
      ]
    },
    {
      "cell_type": "markdown",
      "id": "b24043e8-fb2c-4c92-bab7-1624062fd682",
      "metadata": {
        "id": "b24043e8-fb2c-4c92-bab7-1624062fd682"
      },
      "source": [
        "A row of a table has items and can be aggregated\n",
        "* `r = t.row(0) # r is the row at index 0`\n",
        "* `r.item(1)    # item can take an index or label`\n",
        "* `sum(r)       # Also: np.average, min, max, etc.`\n"
      ]
    },
    {
      "cell_type": "markdown",
      "id": "a032511a-2b19-4f43-a840-54b1fbc4894b",
      "metadata": {
        "id": "a032511a-2b19-4f43-a840-54b1fbc4894b"
      },
      "source": [
        "---"
      ]
    },
    {
      "cell_type": "markdown",
      "id": "5f291a99-89d5-4947-94e4-f60ded72cada",
      "metadata": {
        "id": "5f291a99-89d5-4947-94e4-f60ded72cada"
      },
      "source": [
        "### Apply with One Argument"
      ]
    },
    {
      "cell_type": "markdown",
      "id": "3924e0fb-f681-4561-a5f0-711a918ad5bd",
      "metadata": {
        "id": "3924e0fb-f681-4561-a5f0-711a918ad5bd"
      },
      "source": [
        "* `t.apply(f)` for a table `t` and function `f` creates an array of the results of applying `f` to each row of `t`.\n",
        "* E.g., `t.apply(sum)` would return the sum of each row as an array.\n"
      ]
    },
    {
      "cell_type": "markdown",
      "id": "22996254-44cc-4c55-82f4-88af6cd80db6",
      "metadata": {
        "id": "22996254-44cc-4c55-82f4-88af6cd80db6"
      },
      "source": [
        "---"
      ]
    },
    {
      "cell_type": "markdown",
      "id": "fbf48166-f5fc-4062-9539-2f14e739d145",
      "metadata": {
        "id": "fbf48166-f5fc-4062-9539-2f14e739d145"
      },
      "source": [
        "### Demo: Apply with One Argument"
      ]
    },
    {
      "cell_type": "markdown",
      "id": "cf2b393f-8a57-4a31-b008-03453baea366",
      "metadata": {
        "deletable": false,
        "editable": false,
        "id": "cf2b393f-8a57-4a31-b008-03453baea366"
      },
      "source": [
        "Try applying the `np.sum` function to the rows of the following table."
      ]
    },
    {
      "cell_type": "code",
      "execution_count": null,
      "id": "508887d7-9add-415e-ade5-8f52839c96bc",
      "metadata": {
        "tags": [],
        "id": "508887d7-9add-415e-ade5-8f52839c96bc",
        "outputId": "02f8515b-8bf9-4ff7-9e5d-139084423529"
      },
      "outputs": [
        {
          "data": {
            "text/html": [
              "<table border=\"1\" class=\"dataframe\">\n",
              "    <thead>\n",
              "        <tr>\n",
              "            <th>Var 1</th> <th>Var 2</th> <th>Var 3</th>\n",
              "        </tr>\n",
              "    </thead>\n",
              "    <tbody>\n",
              "        <tr>\n",
              "            <td>2    </td> <td>A    </td> <td>80   </td>\n",
              "        </tr>\n",
              "        <tr>\n",
              "            <td>5    </td> <td>B    </td> <td>20   </td>\n",
              "        </tr>\n",
              "        <tr>\n",
              "            <td>8    </td> <td>B    </td> <td>10   </td>\n",
              "        </tr>\n",
              "        <tr>\n",
              "            <td>2    </td> <td>A    </td> <td>14   </td>\n",
              "        </tr>\n",
              "        <tr>\n",
              "            <td>3    </td> <td>A    </td> <td>18   </td>\n",
              "        </tr>\n",
              "        <tr>\n",
              "            <td>10   </td> <td>B    </td> <td>102  </td>\n",
              "        </tr>\n",
              "    </tbody>\n",
              "</table>"
            ],
            "text/plain": [
              "Var 1 | Var 2 | Var 3\n",
              "2     | A     | 80\n",
              "5     | B     | 20\n",
              "8     | B     | 10\n",
              "2     | A     | 14\n",
              "3     | A     | 18\n",
              "10    | B     | 102"
            ]
          },
          "execution_count": 271,
          "metadata": {},
          "output_type": "execute_result"
        }
      ],
      "source": [
        "tbl = Table().with_columns(\n",
        "    'Var 1', [2, 5, 8, 2, 3, 10],\n",
        "    'Var 2', ['A', 'B', 'B', 'A', 'A', 'B'],\n",
        "    'Var 3', [80, 20, 10, 14, 18, 102])\n",
        "tbl"
      ]
    },
    {
      "cell_type": "code",
      "execution_count": null,
      "id": "c3192f95-2bb2-4816-90f4-ee3a9b0b0613",
      "metadata": {
        "tags": [],
        "id": "c3192f95-2bb2-4816-90f4-ee3a9b0b0613"
      },
      "outputs": [],
      "source": [
        "# Including the non-numeric column would create a UFuncTypeError with the sum function\n",
        "..."
      ]
    },
    {
      "cell_type": "code",
      "execution_count": null,
      "id": "994ae586-ae5a-4fc3-9754-c03b754d2292",
      "metadata": {
        "tags": [],
        "id": "994ae586-ae5a-4fc3-9754-c03b754d2292",
        "outputId": "6acc581b-7053-455d-e281-5c0b64b74d1c"
      },
      "outputs": [
        {
          "data": {
            "text/plain": [
              "array([ 82,  25,  18,  16,  21, 112])"
            ]
          },
          "execution_count": 273,
          "metadata": {},
          "output_type": "execute_result"
        }
      ],
      "source": [
        "tbl_numeric = tbl.select('Var 1','Var 3')\n",
        "sums = tbl_numeric.apply(np.sum)\n",
        "sums"
      ]
    },
    {
      "cell_type": "markdown",
      "id": "51995411-6292-4c31-9947-d2d06f82b76b",
      "metadata": {
        "id": "51995411-6292-4c31-9947-d2d06f82b76b"
      },
      "source": [
        "---"
      ]
    },
    {
      "cell_type": "markdown",
      "id": "9b859407-6c7e-44b7-acfb-0da7d75b729d",
      "metadata": {
        "id": "9b859407-6c7e-44b7-acfb-0da7d75b729d"
      },
      "source": [
        "## Control Statements"
      ]
    },
    {
      "cell_type": "code",
      "execution_count": null,
      "id": "0d8af609-b0d6-4dbc-bded-935a51ebec67",
      "metadata": {
        "id": "0d8af609-b0d6-4dbc-bded-935a51ebec67",
        "outputId": "b9755514-0e90-47d4-8508-f8566d645f6c"
      },
      "outputs": [
        {
          "data": {
            "text/plain": [
              "array([0, 1, 2, 3, 4, 5, 6, 7, 8, 9])"
            ]
          },
          "execution_count": 274,
          "metadata": {},
          "output_type": "execute_result"
        }
      ],
      "source": [
        "np.arange(10)"
      ]
    },
    {
      "cell_type": "code",
      "execution_count": null,
      "id": "80a460dd-ae1c-45b5-863f-0266036b865c",
      "metadata": {
        "id": "80a460dd-ae1c-45b5-863f-0266036b865c",
        "outputId": "205c2036-15a0-47e1-dfb5-db7c63d9e9e9"
      },
      "outputs": [
        {
          "name": "stdout",
          "output_type": "stream",
          "text": [
            "0\n",
            "1\n",
            "2\n",
            "3\n",
            "4\n",
            "5\n",
            "6\n",
            "7\n",
            "8\n",
            "9\n"
          ]
        }
      ],
      "source": [
        "for x in np.arange(10): print(x)"
      ]
    },
    {
      "cell_type": "code",
      "execution_count": null,
      "id": "2f1dc159-0a8f-4d1d-ab80-b667f43a3e89",
      "metadata": {
        "id": "2f1dc159-0a8f-4d1d-ab80-b667f43a3e89",
        "outputId": "a96509f6-8c79-4dab-bca8-4ac97022d925"
      },
      "outputs": [
        {
          "name": "stdout",
          "output_type": "stream",
          "text": [
            "0 : data science\n",
            "x * 2 =  0\n",
            "1 : data science\n",
            "x * 2 =  2\n",
            "2 : data science\n",
            "x * 2 =  4\n",
            "3 : data science\n",
            "x * 2 =  6\n",
            "special message at 3\n",
            "4 : data science\n",
            "x * 2 =  8\n",
            "5 : data science\n",
            "x * 2 =  10\n",
            "6 : data science\n",
            "x * 2 =  12\n",
            "7 : data science\n",
            "x * 2 =  14\n",
            "8 : data science\n",
            "x * 2 =  16\n",
            "9 : data science\n",
            "x * 2 =  18\n"
          ]
        }
      ],
      "source": [
        "for x in np.arange(10):\n",
        "    print(x, \": data science\")\n",
        "    print (\"x * 2 = \", x * 2)\n",
        "    if x == 3:\n",
        "        print (\"special message at 3\")\n",
        ""
      ]
    },
    {
      "cell_type": "markdown",
      "id": "f696f7b2-579e-4d84-b82a-be0ac9306fd0",
      "metadata": {
        "id": "f696f7b2-579e-4d84-b82a-be0ac9306fd0"
      },
      "source": [
        "---"
      ]
    },
    {
      "cell_type": "markdown",
      "id": "c6fd1f69-e988-4a61-84f4-4ea7dc2b0be7",
      "metadata": {
        "id": "c6fd1f69-e988-4a61-84f4-4ea7dc2b0be7"
      },
      "source": [
        "### Control Statements"
      ]
    },
    {
      "cell_type": "markdown",
      "id": "f7b07d27-a154-44f1-a0e3-cb658c0590ae",
      "metadata": {
        "id": "f7b07d27-a154-44f1-a0e3-cb658c0590ae"
      },
      "source": [
        "These statements control the sequence of computations that are performed in a program\n",
        "\n",
        "* The keywords `if` and `for` begin control statements\n",
        "* The purpose of `if` is to choose different code segments based on their arguments."
      ]
    },
    {
      "cell_type": "markdown",
      "id": "16ace9fd-1f88-464b-953c-41122c4a13e6",
      "metadata": {
        "id": "16ace9fd-1f88-464b-953c-41122c4a13e6"
      },
      "source": [
        "---"
      ]
    },
    {
      "cell_type": "markdown",
      "id": "4b3b137c-1d7e-459e-afb6-f59966da7497",
      "metadata": {
        "id": "4b3b137c-1d7e-459e-afb6-f59966da7497"
      },
      "source": [
        "### Demo: Simulation"
      ]
    },
    {
      "cell_type": "markdown",
      "id": "f792974e-943a-44f2-a91a-22892f16ebe4",
      "metadata": {
        "id": "f792974e-943a-44f2-a91a-22892f16ebe4"
      },
      "source": [
        "Consider the following game where each of 2 players rolls a die.\n",
        "\n",
        "* The player with the smaller value pays the other player one dollar.\n",
        "* If there is a tie, then no one pays anything."
      ]
    },
    {
      "cell_type": "markdown",
      "id": "c7dd58b0-ea02-4b1f-88ce-c47be54707c9",
      "metadata": {
        "deletable": false,
        "editable": false,
        "id": "c7dd58b0-ea02-4b1f-88ce-c47be54707c9"
      },
      "source": [
        "Find a way to simulate one round of the game where each player rolls a die. It might help to think from the perspective of one of the players."
      ]
    },
    {
      "cell_type": "code",
      "execution_count": null,
      "id": "b8147b78-a0ab-43e9-a0d0-b65fdb09eca5",
      "metadata": {
        "tags": [],
        "id": "b8147b78-a0ab-43e9-a0d0-b65fdb09eca5"
      },
      "outputs": [],
      "source": [
        "# Work in progress\n",
        "...\n"
      ]
    },
    {
      "cell_type": "code",
      "execution_count": null,
      "id": "81bbfdd7-59ce-4ebb-8458-96454093f7d7",
      "metadata": {
        "tags": [],
        "id": "81bbfdd7-59ce-4ebb-8458-96454093f7d7"
      },
      "outputs": [],
      "source": [
        "def game(p1,p2):\n",
        "    if p1>p2:\n",
        "        return 1"
      ]
    },
    {
      "cell_type": "code",
      "execution_count": null,
      "id": "0a5abdff-66db-4717-b876-1d6c3b476761",
      "metadata": {
        "tags": [],
        "id": "0a5abdff-66db-4717-b876-1d6c3b476761",
        "outputId": "1311efc6-1cc9-4e67-e67c-7babbac921fa"
      },
      "outputs": [
        {
          "data": {
            "text/plain": [
              "1"
            ]
          },
          "execution_count": 279,
          "metadata": {},
          "output_type": "execute_result"
        }
      ],
      "source": [
        "game(4,3)"
      ]
    },
    {
      "cell_type": "code",
      "execution_count": null,
      "id": "161e5486-2236-469d-b378-5d2f2db2053d",
      "metadata": {
        "tags": [],
        "id": "161e5486-2236-469d-b378-5d2f2db2053d"
      },
      "outputs": [],
      "source": [
        "game(2,6)"
      ]
    },
    {
      "cell_type": "code",
      "execution_count": null,
      "id": "7815be9a-af6a-4d08-b83a-56176cbd7187",
      "metadata": {
        "tags": [],
        "id": "7815be9a-af6a-4d08-b83a-56176cbd7187"
      },
      "outputs": [],
      "source": [
        "def game(p1,p2):\n",
        "    #return 1 signifies that player 1 wins and -1 for player 2\n",
        "    if p1>p2:\n",
        "        return 1\n",
        "    if p2>p1:\n",
        "        return -1"
      ]
    },
    {
      "cell_type": "code",
      "execution_count": null,
      "id": "aa6d48d2-c1ee-49a4-ae68-0944194c7b9d",
      "metadata": {
        "tags": [],
        "id": "aa6d48d2-c1ee-49a4-ae68-0944194c7b9d",
        "outputId": "ebbcbeee-db36-4603-999f-fd428a4f6261"
      },
      "outputs": [
        {
          "data": {
            "text/plain": [
              "-1"
            ]
          },
          "execution_count": 282,
          "metadata": {},
          "output_type": "execute_result"
        }
      ],
      "source": [
        "game(2,6)"
      ]
    },
    {
      "cell_type": "code",
      "execution_count": null,
      "id": "f4f2fec4-1fc5-45ec-9b02-1291239381f0",
      "metadata": {
        "tags": [],
        "id": "f4f2fec4-1fc5-45ec-9b02-1291239381f0"
      },
      "outputs": [],
      "source": [
        "def game(p1,p2):\n",
        "    #return 1 signifies that player 1 wins and -1 for player 2\n",
        "    if p1>p2:\n",
        "        return 1\n",
        "    if p2>p1:\n",
        "        return -1\n",
        "    if p2==p1:\n",
        "        return 0"
      ]
    },
    {
      "cell_type": "code",
      "execution_count": null,
      "id": "96ae6bbe-b370-4eec-b4f0-276237c1d8ca",
      "metadata": {
        "id": "96ae6bbe-b370-4eec-b4f0-276237c1d8ca",
        "outputId": "a5e9a060-4624-4b65-8d76-f7550fea83d9"
      },
      "outputs": [
        {
          "data": {
            "text/plain": [
              "0"
            ]
          },
          "execution_count": 284,
          "metadata": {},
          "output_type": "execute_result"
        }
      ],
      "source": [
        "game(2,2)"
      ]
    },
    {
      "cell_type": "code",
      "execution_count": null,
      "id": "407d7d54-5264-4891-a11e-001c0061ffb8",
      "metadata": {
        "id": "407d7d54-5264-4891-a11e-001c0061ffb8"
      },
      "outputs": [],
      "source": [
        "def game(p1,p2):\n",
        "    #return 1 signifies that player 1 wins and -1 for player 2\n",
        "    if p1>p2:\n",
        "        return 1\n",
        "    elif p2>p1:\n",
        "        return -1\n",
        "    elif p2==p1:\n",
        "        return 0\n",
        "    else:\n",
        "        return np.inf"
      ]
    },
    {
      "cell_type": "code",
      "execution_count": null,
      "id": "4f145f9e-12b1-430f-a6f9-6f0944a591a1",
      "metadata": {
        "id": "4f145f9e-12b1-430f-a6f9-6f0944a591a1",
        "outputId": "c44faca4-7e55-4182-977c-41a90f680571"
      },
      "outputs": [
        {
          "data": {
            "text/plain": [
              "1"
            ]
          },
          "execution_count": 286,
          "metadata": {},
          "output_type": "execute_result"
        }
      ],
      "source": [
        "game(9,3)"
      ]
    },
    {
      "cell_type": "code",
      "execution_count": null,
      "id": "1ea34c26-ae6c-4543-92c2-41311f3f3d4d",
      "metadata": {
        "id": "1ea34c26-ae6c-4543-92c2-41311f3f3d4d",
        "outputId": "ad86090d-a105-44b1-f941-856933592bc9"
      },
      "outputs": [
        {
          "data": {
            "text/plain": [
              "0"
            ]
          },
          "execution_count": 287,
          "metadata": {},
          "output_type": "execute_result"
        }
      ],
      "source": [
        "game(3,3)"
      ]
    },
    {
      "cell_type": "code",
      "execution_count": null,
      "id": "d4d7c693-fe14-4061-bb68-e26ae468b258",
      "metadata": {
        "id": "d4d7c693-fe14-4061-bb68-e26ae468b258",
        "outputId": "83fc81dd-9dc9-4e20-c738-8f53743b973b"
      },
      "outputs": [
        {
          "data": {
            "text/plain": [
              "True"
            ]
          },
          "execution_count": 288,
          "metadata": {},
          "output_type": "execute_result"
        }
      ],
      "source": [
        "1<2 or 2<2"
      ]
    },
    {
      "cell_type": "markdown",
      "id": "52b84fdf-b65b-4579-9bd7-4ff7b7c0a1f1",
      "metadata": {
        "id": "52b84fdf-b65b-4579-9bd7-4ff7b7c0a1f1"
      },
      "source": [
        "---"
      ]
    },
    {
      "cell_type": "markdown",
      "id": "fecf5e7c-9948-41a5-afe5-96c38864cb4a",
      "metadata": {
        "id": "fecf5e7c-9948-41a5-afe5-96c38864cb4a"
      },
      "source": [
        "## Random Selection"
      ]
    },
    {
      "cell_type": "markdown",
      "id": "f2b2cb7a-6649-427a-b5d3-621e426de052",
      "metadata": {
        "id": "f2b2cb7a-6649-427a-b5d3-621e426de052"
      },
      "source": [
        "---"
      ]
    },
    {
      "cell_type": "markdown",
      "id": "721e5254-e273-42d7-960e-ab2f03436e03",
      "metadata": {
        "id": "721e5254-e273-42d7-960e-ab2f03436e03"
      },
      "source": [
        "### Random Selection"
      ]
    },
    {
      "cell_type": "markdown",
      "id": "17eaa59a-7fa7-44dc-a26a-4b88a5be086c",
      "metadata": {
        "id": "17eaa59a-7fa7-44dc-a26a-4b88a5be086c"
      },
      "source": [
        "The command\n",
        "\n",
        "`np.random.choice(some_array, sample_size)`\n",
        "\n",
        "creates an array by selecting a number (`sample_size`) of values uniformly at random with replacement from an array (`some_array`)."
      ]
    },
    {
      "cell_type": "markdown",
      "id": "ce9c8911-8a33-4b55-8ab8-57a6123b615d",
      "metadata": {
        "id": "ce9c8911-8a33-4b55-8ab8-57a6123b615d"
      },
      "source": [
        "---"
      ]
    },
    {
      "cell_type": "markdown",
      "id": "2222cc57-7aaf-480e-b90a-5c6a1cc21b57",
      "metadata": {
        "id": "2222cc57-7aaf-480e-b90a-5c6a1cc21b57"
      },
      "source": [
        "### Demo: Random Selection"
      ]
    },
    {
      "cell_type": "markdown",
      "id": "12ad9194-55e3-483b-a9d6-532656822553",
      "metadata": {
        "deletable": false,
        "editable": false,
        "id": "12ad9194-55e3-483b-a9d6-532656822553"
      },
      "source": [
        "Demonstrate how to use `np.random.choice`."
      ]
    },
    {
      "cell_type": "code",
      "execution_count": null,
      "id": "0a5f9fe9-fc14-4e6d-a207-18af8b6114cd",
      "metadata": {
        "tags": [],
        "id": "0a5f9fe9-fc14-4e6d-a207-18af8b6114cd",
        "outputId": "d1d4ec3d-34dc-41af-c389-a508e67038ef"
      },
      "outputs": [
        {
          "data": {
            "text/plain": [
              "array(['wake up', 'sleep in'],\n",
              "      dtype='<U8')"
            ]
          },
          "execution_count": 289,
          "metadata": {},
          "output_type": "execute_result"
        }
      ],
      "source": [
        "mornings = make_array('wake up', 'sleep in')\n",
        "mornings"
      ]
    },
    {
      "cell_type": "code",
      "execution_count": null,
      "id": "26d929c1-bbc7-4998-849e-b94e3544d522",
      "metadata": {
        "id": "26d929c1-bbc7-4998-849e-b94e3544d522",
        "outputId": "83582d66-d833-4113-c388-52e6d3d6f5da"
      },
      "outputs": [
        {
          "data": {
            "text/plain": [
              "'sleep in'"
            ]
          },
          "execution_count": 290,
          "metadata": {},
          "output_type": "execute_result"
        }
      ],
      "source": [
        "np.random.choice(mornings)"
      ]
    },
    {
      "cell_type": "code",
      "execution_count": null,
      "id": "d4bf8478-134f-4031-b170-666a17713510",
      "metadata": {
        "tags": [],
        "id": "d4bf8478-134f-4031-b170-666a17713510",
        "outputId": "c447aa89-32da-4208-d783-647c55b243ed"
      },
      "outputs": [
        {
          "data": {
            "text/plain": [
              "array(['sleep in', 'sleep in', 'sleep in', 'wake up', 'wake up', 'wake up',\n",
              "       'wake up', 'wake up', 'wake up', 'wake up'],\n",
              "      dtype='<U8')"
            ]
          },
          "execution_count": 291,
          "metadata": {},
          "output_type": "execute_result"
        }
      ],
      "source": [
        "np.random.choice(mornings,10)"
      ]
    },
    {
      "cell_type": "code",
      "execution_count": null,
      "id": "6665bf26-c2bc-474e-9b0a-b8a0f7bbff8f",
      "metadata": {
        "tags": [],
        "id": "6665bf26-c2bc-474e-9b0a-b8a0f7bbff8f",
        "outputId": "20bfa518-f844-42b7-a43e-89d57e4e6528"
      },
      "outputs": [
        {
          "data": {
            "text/plain": [
              "Ellipsis"
            ]
          },
          "execution_count": 292,
          "metadata": {},
          "output_type": "execute_result"
        }
      ],
      "source": [
        "..."
      ]
    },
    {
      "cell_type": "code",
      "execution_count": null,
      "id": "b339e243-a9de-446e-b922-d58ed6e9910c",
      "metadata": {
        "tags": [],
        "id": "b339e243-a9de-446e-b922-d58ed6e9910c",
        "outputId": "5cf4e783-282c-4907-88cc-ceceddac2180"
      },
      "outputs": [
        {
          "data": {
            "text/plain": [
              "Ellipsis"
            ]
          },
          "execution_count": 293,
          "metadata": {},
          "output_type": "execute_result"
        }
      ],
      "source": [
        "..."
      ]
    },
    {
      "cell_type": "code",
      "execution_count": null,
      "id": "831a3799-e88f-445a-bd63-1dfff6107217",
      "metadata": {
        "tags": [],
        "id": "831a3799-e88f-445a-bd63-1dfff6107217",
        "outputId": "ff487bdc-f4af-487c-e84e-c7b8f39a3ff6"
      },
      "outputs": [
        {
          "data": {
            "text/plain": [
              "Ellipsis"
            ]
          },
          "execution_count": 294,
          "metadata": {},
          "output_type": "execute_result"
        }
      ],
      "source": [
        "..."
      ]
    },
    {
      "cell_type": "code",
      "execution_count": null,
      "id": "c266739c-2f0b-46ea-bbca-66dd716e717c",
      "metadata": {
        "tags": [],
        "id": "c266739c-2f0b-46ea-bbca-66dd716e717c",
        "outputId": "f900dc70-80c6-42e9-a8a3-4fdad72ed9d2"
      },
      "outputs": [
        {
          "data": {
            "text/plain": [
              "Ellipsis"
            ]
          },
          "execution_count": 295,
          "metadata": {},
          "output_type": "execute_result"
        }
      ],
      "source": [
        "..."
      ]
    },
    {
      "cell_type": "code",
      "execution_count": null,
      "id": "4d8c5c06-b599-4d2a-b4c8-773fc1bf2626",
      "metadata": {
        "tags": [],
        "id": "4d8c5c06-b599-4d2a-b4c8-773fc1bf2626",
        "outputId": "51d78e36-24c4-4980-93e3-d6cce8461e5d"
      },
      "outputs": [
        {
          "data": {
            "text/plain": [
              "Ellipsis"
            ]
          },
          "execution_count": 296,
          "metadata": {},
          "output_type": "execute_result"
        }
      ],
      "source": [
        "..."
      ]
    },
    {
      "cell_type": "code",
      "execution_count": null,
      "id": "89c0bb41-e6aa-4bf1-b29a-08dcfa5688de",
      "metadata": {
        "tags": [],
        "id": "89c0bb41-e6aa-4bf1-b29a-08dcfa5688de",
        "outputId": "86b1bdb9-ba5d-492c-8af6-951e5f3f4d2c"
      },
      "outputs": [
        {
          "data": {
            "text/plain": [
              "Ellipsis"
            ]
          },
          "execution_count": 297,
          "metadata": {},
          "output_type": "execute_result"
        }
      ],
      "source": [
        "morning_week = ...\n",
        "morning_week"
      ]
    },
    {
      "cell_type": "code",
      "execution_count": null,
      "id": "d41783ff-e655-4620-b303-60bb4368a54b",
      "metadata": {
        "tags": [],
        "id": "d41783ff-e655-4620-b303-60bb4368a54b",
        "outputId": "48d1110c-05dc-47c4-9729-cb0a8434c8d4"
      },
      "outputs": [
        {
          "data": {
            "text/plain": [
              "Ellipsis"
            ]
          },
          "execution_count": 298,
          "metadata": {},
          "output_type": "execute_result"
        }
      ],
      "source": [
        "..."
      ]
    },
    {
      "cell_type": "code",
      "execution_count": null,
      "id": "0bcc2e19-9fe0-4122-8c7b-a240a3b2f232",
      "metadata": {
        "tags": [],
        "id": "0bcc2e19-9fe0-4122-8c7b-a240a3b2f232",
        "outputId": "b01d2169-d397-4f5c-ad26-3e21e6e1d338"
      },
      "outputs": [
        {
          "data": {
            "text/plain": [
              "Ellipsis"
            ]
          },
          "execution_count": 299,
          "metadata": {},
          "output_type": "execute_result"
        }
      ],
      "source": [
        "..."
      ]
    },
    {
      "cell_type": "markdown",
      "id": "4f1742be-97f7-456b-898d-2717755717f4",
      "metadata": {
        "id": "4f1742be-97f7-456b-898d-2717755717f4"
      },
      "source": [
        "---"
      ]
    },
    {
      "cell_type": "markdown",
      "id": "73388efb-edc1-4b08-a5b3-ffcafe87b403",
      "metadata": {
        "deletable": false,
        "editable": false,
        "id": "73388efb-edc1-4b08-a5b3-ffcafe87b403"
      },
      "source": [
        "Create a function that simulates one round of the game described earlier by randomly generating the rolls."
      ]
    },
    {
      "cell_type": "code",
      "execution_count": null,
      "id": "6746f4a5-4994-49d0-bb0f-0e5f8e64f451",
      "metadata": {
        "tags": [],
        "id": "6746f4a5-4994-49d0-bb0f-0e5f8e64f451"
      },
      "outputs": [],
      "source": [
        "die_faces = ..."
      ]
    },
    {
      "cell_type": "code",
      "execution_count": null,
      "id": "4978f0c4-4bd6-4b03-8dca-6e22d4c66c42",
      "metadata": {
        "tags": [],
        "id": "4978f0c4-4bd6-4b03-8dca-6e22d4c66c42",
        "outputId": "b151e4a3-636a-443f-b0f0-00b531d59cd8"
      },
      "outputs": [
        {
          "data": {
            "text/plain": [
              "Ellipsis"
            ]
          },
          "execution_count": 301,
          "metadata": {},
          "output_type": "execute_result"
        }
      ],
      "source": [
        "..."
      ]
    },
    {
      "cell_type": "code",
      "execution_count": null,
      "id": "2b26dbbe-332d-4719-be6a-f0c60db15d47",
      "metadata": {
        "tags": [],
        "id": "2b26dbbe-332d-4719-be6a-f0c60db15d47",
        "outputId": "08dd2091-b971-4cab-dd5c-0f09465da41b"
      },
      "outputs": [
        {
          "data": {
            "text/plain": [
              "Ellipsis"
            ]
          },
          "execution_count": 302,
          "metadata": {},
          "output_type": "execute_result"
        }
      ],
      "source": [
        "..."
      ]
    },
    {
      "cell_type": "code",
      "execution_count": null,
      "id": "928b160f-84c7-4e6b-8b66-ab3131948907",
      "metadata": {
        "tags": [],
        "id": "928b160f-84c7-4e6b-8b66-ab3131948907",
        "outputId": "6b667d81-3c0a-4cca-f75a-fcad1a71f553"
      },
      "outputs": [
        {
          "data": {
            "text/plain": [
              "Ellipsis"
            ]
          },
          "execution_count": 303,
          "metadata": {},
          "output_type": "execute_result"
        }
      ],
      "source": [
        "..."
      ]
    },
    {
      "cell_type": "markdown",
      "id": "046bbad5-e33b-4410-835c-d4b449efdc78",
      "metadata": {
        "id": "046bbad5-e33b-4410-835c-d4b449efdc78"
      },
      "source": [
        "---"
      ]
    },
    {
      "cell_type": "markdown",
      "id": "225c6441-dd1e-497b-9af8-e7d05c1a5b08",
      "metadata": {
        "id": "225c6441-dd1e-497b-9af8-e7d05c1a5b08"
      },
      "source": [
        "## Appending Arrays"
      ]
    },
    {
      "cell_type": "markdown",
      "id": "40f09d37-eaf5-4996-bfb9-0833f754c7bd",
      "metadata": {
        "id": "40f09d37-eaf5-4996-bfb9-0833f754c7bd"
      },
      "source": [
        "---"
      ]
    },
    {
      "cell_type": "markdown",
      "id": "e97e5479-b552-48e7-8fbc-c965462fb31a",
      "metadata": {
        "id": "e97e5479-b552-48e7-8fbc-c965462fb31a"
      },
      "source": [
        "### A Longer Array"
      ]
    },
    {
      "cell_type": "markdown",
      "id": "a6fc0620-9197-4540-b553-b1d23402b2da",
      "metadata": {
        "id": "a6fc0620-9197-4540-b553-b1d23402b2da"
      },
      "source": [
        "* `np.append(array_1, value)`\n",
        "    * new array with value appended to `array_1`\n",
        "    * `value` has to be of the same type as elements of `array_1`\n",
        "* `np.append(array_1, array_2)`\n",
        "    * new array with `array_2` appended to `array_1`\n",
        "    * `array_2` elements must have the same type as `array_1` elements"
      ]
    },
    {
      "cell_type": "markdown",
      "id": "edd75d24-3efa-4f0e-b9e4-3c40ebab21ed",
      "metadata": {
        "id": "edd75d24-3efa-4f0e-b9e4-3c40ebab21ed"
      },
      "source": [
        "---"
      ]
    },
    {
      "cell_type": "markdown",
      "id": "0892e7b7-bd37-476c-882b-614f87609d95",
      "metadata": {
        "id": "0892e7b7-bd37-476c-882b-614f87609d95"
      },
      "source": [
        "### Demo: Appending Arrays"
      ]
    },
    {
      "cell_type": "markdown",
      "id": "738e83ec-1352-4831-8f48-6d22f97c3086",
      "metadata": {
        "deletable": false,
        "editable": false,
        "id": "738e83ec-1352-4831-8f48-6d22f97c3086"
      },
      "source": [
        "Demonstrate how to append values to an array."
      ]
    },
    {
      "cell_type": "code",
      "execution_count": null,
      "id": "22e6d2d9-d818-4a94-ac54-64437d5a1073",
      "metadata": {
        "tags": [],
        "id": "22e6d2d9-d818-4a94-ac54-64437d5a1073"
      },
      "outputs": [],
      "source": [
        "first = np.arange(4)\n",
        "second = np.arange(10,17)"
      ]
    },
    {
      "cell_type": "code",
      "execution_count": null,
      "id": "bbc232ce-db62-44ee-866d-c3c4277383c6",
      "metadata": {
        "tags": [],
        "id": "bbc232ce-db62-44ee-866d-c3c4277383c6",
        "outputId": "42bddfd8-f020-4225-f383-cbe45b70229f"
      },
      "outputs": [
        {
          "data": {
            "text/plain": [
              "array([0, 1, 2, 3, 6])"
            ]
          },
          "execution_count": 305,
          "metadata": {},
          "output_type": "execute_result"
        }
      ],
      "source": [
        "np.append(first,6)"
      ]
    },
    {
      "cell_type": "code",
      "execution_count": null,
      "id": "ecdd671e-69d3-4cf3-9d06-f51b7ead9b7b",
      "metadata": {
        "tags": [],
        "id": "ecdd671e-69d3-4cf3-9d06-f51b7ead9b7b",
        "outputId": "d30149f9-62d9-406e-be13-2e0d20733b45"
      },
      "outputs": [
        {
          "data": {
            "text/plain": [
              "array([ 0,  1,  2,  3, 10, 11, 12, 13, 14, 15, 16])"
            ]
          },
          "execution_count": 306,
          "metadata": {},
          "output_type": "execute_result"
        }
      ],
      "source": [
        "np.append(first,second)"
      ]
    },
    {
      "cell_type": "code",
      "execution_count": null,
      "id": "3ec56616-6dc2-47f2-afb1-632de62ac3b0",
      "metadata": {
        "tags": [],
        "id": "3ec56616-6dc2-47f2-afb1-632de62ac3b0",
        "outputId": "0ef38721-0cf8-4ef6-c416-5e928e15282a"
      },
      "outputs": [
        {
          "data": {
            "text/plain": [
              "Ellipsis"
            ]
          },
          "execution_count": 307,
          "metadata": {},
          "output_type": "execute_result"
        }
      ],
      "source": [
        "..."
      ]
    },
    {
      "cell_type": "code",
      "execution_count": null,
      "id": "ce129480-5a97-43b8-8c36-7761b413d02a",
      "metadata": {
        "tags": [],
        "id": "ce129480-5a97-43b8-8c36-7761b413d02a",
        "outputId": "ba2e9acb-8848-4dc5-a15a-d307198297ca"
      },
      "outputs": [
        {
          "data": {
            "text/plain": [
              "array([0, 1, 2, 3])"
            ]
          },
          "execution_count": 308,
          "metadata": {},
          "output_type": "execute_result"
        }
      ],
      "source": [
        "first"
      ]
    },
    {
      "cell_type": "code",
      "execution_count": null,
      "id": "492e9dac-71c2-4048-a118-65e5020bc373",
      "metadata": {
        "tags": [],
        "id": "492e9dac-71c2-4048-a118-65e5020bc373",
        "outputId": "fcdc7af3-81b4-4d76-9c97-7d096b725998"
      },
      "outputs": [
        {
          "data": {
            "text/plain": [
              "array([10, 11, 12, 13, 14, 15, 16])"
            ]
          },
          "execution_count": 309,
          "metadata": {},
          "output_type": "execute_result"
        }
      ],
      "source": [
        "second"
      ]
    },
    {
      "cell_type": "markdown",
      "id": "5eb0a961-f037-4e19-9af8-682413052f1e",
      "metadata": {
        "id": "5eb0a961-f037-4e19-9af8-682413052f1e"
      },
      "source": [
        "---"
      ]
    },
    {
      "cell_type": "markdown",
      "id": "fd10032c-de06-454f-af08-f9b8430be3e6",
      "metadata": {
        "id": "fd10032c-de06-454f-af08-f9b8430be3e6"
      },
      "source": [
        "### Demo: Repeated Betting"
      ]
    },
    {
      "cell_type": "markdown",
      "id": "46ca1dd8-605b-4dda-ab8d-1c7a467c4252",
      "metadata": {
        "deletable": false,
        "editable": false,
        "id": "46ca1dd8-605b-4dda-ab8d-1c7a467c4252"
      },
      "source": [
        "Store the results of the simulated game in an array for each player. First, create an empty array."
      ]
    },
    {
      "cell_type": "code",
      "execution_count": null,
      "id": "164ad028-6940-431c-936e-af65cb73d68e",
      "metadata": {
        "tags": [],
        "id": "164ad028-6940-431c-936e-af65cb73d68e",
        "outputId": "ead9b6a5-733c-43c3-8776-034c5a37ceb4"
      },
      "outputs": [
        {
          "data": {
            "text/plain": [
              "Ellipsis"
            ]
          },
          "execution_count": 310,
          "metadata": {},
          "output_type": "execute_result"
        }
      ],
      "source": [
        "player1_results = ...\n",
        "player1_results"
      ]
    },
    {
      "cell_type": "code",
      "execution_count": null,
      "id": "408b36e1-529a-459b-8aa4-2ffd680eed56",
      "metadata": {
        "tags": [],
        "id": "408b36e1-529a-459b-8aa4-2ffd680eed56",
        "outputId": "bef1ed26-691a-4786-e88e-8a345e97bc50"
      },
      "outputs": [
        {
          "data": {
            "text/plain": [
              "Ellipsis"
            ]
          },
          "execution_count": 311,
          "metadata": {},
          "output_type": "execute_result"
        }
      ],
      "source": [
        "player1_results = ...\n",
        "player1_results"
      ]
    },
    {
      "cell_type": "markdown",
      "id": "5cd2e4fb-f15d-410f-a321-fa1bea3c2ce2",
      "metadata": {
        "id": "5cd2e4fb-f15d-410f-a321-fa1bea3c2ce2"
      },
      "source": [
        "---"
      ]
    },
    {
      "cell_type": "markdown",
      "id": "9a2e9279-2f1e-43bb-8ab4-21cbce7ad691",
      "metadata": {
        "id": "9a2e9279-2f1e-43bb-8ab4-21cbce7ad691"
      },
      "source": [
        "## Iteration"
      ]
    },
    {
      "cell_type": "markdown",
      "id": "fe9581ff-f5d9-48d5-9def-974e490bc275",
      "metadata": {
        "id": "fe9581ff-f5d9-48d5-9def-974e490bc275"
      },
      "source": [
        "---"
      ]
    },
    {
      "cell_type": "markdown",
      "id": "9f74a9f5-0f34-4817-bd7c-548a87837484",
      "metadata": {
        "id": "9f74a9f5-0f34-4817-bd7c-548a87837484"
      },
      "source": [
        "### `for` Statements"
      ]
    },
    {
      "cell_type": "markdown",
      "id": "4c4277e2-c279-41ac-9b9d-37a53e6cb2f6",
      "metadata": {
        "id": "4c4277e2-c279-41ac-9b9d-37a53e6cb2f6"
      },
      "source": [
        "* `for` is a keyword that begins a control statement\n",
        "* The purpose of `for` is to perform a computation for every element in a list or array"
      ]
    },
    {
      "cell_type": "markdown",
      "id": "702c60f5-eba9-4669-92c9-27b643ae7a49",
      "metadata": {
        "id": "702c60f5-eba9-4669-92c9-27b643ae7a49"
      },
      "source": [
        "---"
      ]
    },
    {
      "cell_type": "markdown",
      "id": "8b66bc1b-7086-4978-acf2-61ffc721766e",
      "metadata": {
        "id": "8b66bc1b-7086-4978-acf2-61ffc721766e"
      },
      "source": [
        "### Anatomy of a for loop"
      ]
    },
    {
      "cell_type": "markdown",
      "id": "ef730ec8-024b-445a-84be-16fb42b44288",
      "metadata": {
        "id": "ef730ec8-024b-445a-84be-16fb42b44288"
      },
      "source": [
        "<img src=\"./for_loop_anatomy.png\" alt=\"A description of the parts of an example for loop statement\" width=50%></img>"
      ]
    },
    {
      "cell_type": "markdown",
      "id": "b71bb0c9-1246-4071-b487-46f39ff16b88",
      "metadata": {
        "id": "b71bb0c9-1246-4071-b487-46f39ff16b88"
      },
      "source": [
        "---"
      ]
    },
    {
      "cell_type": "markdown",
      "id": "e00b0db1-0ca1-49e9-bd66-b4904d5651a0",
      "metadata": {
        "id": "e00b0db1-0ca1-49e9-bd66-b4904d5651a0"
      },
      "source": [
        "### Demo: `for` Statements"
      ]
    },
    {
      "cell_type": "markdown",
      "id": "851d7f13-8b80-4a02-9d3c-814301e5b9e3",
      "metadata": {
        "deletable": false,
        "editable": false,
        "id": "851d7f13-8b80-4a02-9d3c-814301e5b9e3"
      },
      "source": [
        "Demonstrate how `for` statements work."
      ]
    },
    {
      "cell_type": "code",
      "execution_count": null,
      "id": "e24e914c-6765-4525-aaed-36a92229aef6",
      "metadata": {
        "tags": [],
        "id": "e24e914c-6765-4525-aaed-36a92229aef6",
        "outputId": "4da168eb-bd59-4d63-9812-b8c7bac6a6cc"
      },
      "outputs": [
        {
          "name": "stdout",
          "output_type": "stream",
          "text": [
            "I love my  cat\n",
            "I love my  dog\n",
            "I love my  horse\n"
          ]
        }
      ],
      "source": [
        "for pet in make_array('cat','dog','horse'):\n",
        "    print ('I love my ',pet)"
      ]
    },
    {
      "cell_type": "code",
      "execution_count": null,
      "id": "53bf2fda-f2d5-409c-aec4-c228a7226c37",
      "metadata": {
        "tags": [],
        "id": "53bf2fda-f2d5-409c-aec4-c228a7226c37",
        "outputId": "270f2d8b-1429-422c-cfac-093e857496db"
      },
      "outputs": [
        {
          "name": "stdout",
          "output_type": "stream",
          "text": [
            "I love my cat\n",
            "I love my dog\n",
            "I love my rabbit\n"
          ]
        }
      ],
      "source": [
        "pet = make_array('cat', 'dog', 'rabbit').item(0)\n",
        "print('I love my ' + pet)\n",
        "\n",
        "pet = make_array('cat', 'dog', 'rabbit').item(1)\n",
        "print('I love my ' + pet)\n",
        "\n",
        "pet = make_array('cat', 'dog', 'rabbit').item(2)\n",
        "print('I love my ' + pet)"
      ]
    },
    {
      "cell_type": "markdown",
      "id": "c0f2ec7a-60a9-4f11-81ee-c9c0c5cacbc8",
      "metadata": {
        "id": "c0f2ec7a-60a9-4f11-81ee-c9c0c5cacbc8"
      },
      "source": [
        "---"
      ]
    },
    {
      "cell_type": "markdown",
      "id": "014ce79d-1a76-4078-a38e-5a7f765b370e",
      "metadata": {
        "deletable": false,
        "editable": false,
        "id": "014ce79d-1a76-4078-a38e-5a7f765b370e"
      },
      "source": [
        "Simulate and the store results of 10,000 iterations of the game described earlier."
      ]
    },
    {
      "cell_type": "code",
      "execution_count": null,
      "id": "7322aafe-2633-4707-b77d-06169b4e139e",
      "metadata": {
        "id": "7322aafe-2633-4707-b77d-06169b4e139e"
      },
      "outputs": [],
      "source": [
        "def simulate_one_round():\n",
        "    die_faces = np.arange(1, 7)\n",
        "    player1 = np.random.choice(die_faces)\n",
        "    player2 = np.random.choice(die_faces)\n",
        "    return game(player1, player2)"
      ]
    },
    {
      "cell_type": "code",
      "execution_count": null,
      "id": "58a6cb1a-7ab0-4303-b122-8647347f7b59",
      "metadata": {
        "tags": [],
        "id": "58a6cb1a-7ab0-4303-b122-8647347f7b59",
        "outputId": "d66ffffe-589b-4d55-e76a-d5ed3af7e556"
      },
      "outputs": [
        {
          "data": {
            "text/plain": [
              "array([ 0., -1.,  0., -1.,  1.])"
            ]
          },
          "execution_count": 315,
          "metadata": {},
          "output_type": "execute_result"
        }
      ],
      "source": [
        "player1_game_outcomes = make_array()\n",
        "\n",
        "for i in np.arange(5):\n",
        "    player1_game_outcomes = np.append(player1_game_outcomes, simulate_one_round())\n",
        "\n",
        "player1_game_outcomes"
      ]
    },
    {
      "cell_type": "code",
      "execution_count": null,
      "id": "5ddb81d9-d811-4f55-91e3-b96e2179d49e",
      "metadata": {
        "id": "5ddb81d9-d811-4f55-91e3-b96e2179d49e",
        "outputId": "673a5104-24da-41af-9f0f-a53d7fbe61eb"
      },
      "outputs": [
        {
          "data": {
            "text/plain": [
              "array([ 1.,  1., -1., ..., -1.,  0.,  1.])"
            ]
          },
          "execution_count": 316,
          "metadata": {},
          "output_type": "execute_result"
        }
      ],
      "source": [
        "player1_game_outcomes = make_array()\n",
        "repetitions = 10000\n",
        "\n",
        "for i in np.arange(repetitions):\n",
        "    player1_game_outcomes = np.append(player1_game_outcomes, simulate_one_round())\n",
        "\n",
        "player1_game_outcomes"
      ]
    },
    {
      "cell_type": "code",
      "execution_count": null,
      "id": "3859acb2-1d73-4b92-8965-52db189ff66b",
      "metadata": {
        "tags": [],
        "id": "3859acb2-1d73-4b92-8965-52db189ff66b",
        "outputId": "9ac4e20b-9db6-4b11-f53a-853544d485ce"
      },
      "outputs": [
        {
          "data": {
            "text/plain": [
              "10000"
            ]
          },
          "execution_count": 317,
          "metadata": {},
          "output_type": "execute_result"
        }
      ],
      "source": [
        "len(player1_game_outcomes)"
      ]
    },
    {
      "cell_type": "code",
      "execution_count": null,
      "id": "6cf7d2fb-be27-4e58-a114-35131b9f14e1",
      "metadata": {
        "tags": [],
        "id": "6cf7d2fb-be27-4e58-a114-35131b9f14e1",
        "outputId": "ab0b0bf3-b36f-4fea-a45a-df6e79583a62"
      },
      "outputs": [
        {
          "data": {
            "text/plain": [
              "Ellipsis"
            ]
          },
          "execution_count": 318,
          "metadata": {},
          "output_type": "execute_result"
        }
      ],
      "source": [
        "..."
      ]
    },
    {
      "cell_type": "markdown",
      "id": "82216fd4-fa62-44ba-8246-0f1eac5cc71d",
      "metadata": {
        "id": "82216fd4-fa62-44ba-8246-0f1eac5cc71d"
      },
      "source": [
        "---"
      ]
    },
    {
      "cell_type": "markdown",
      "id": "3c539ad6-59f9-421f-bf22-5e28fcbbd89b",
      "metadata": {
        "deletable": false,
        "editable": false,
        "id": "3c539ad6-59f9-421f-bf22-5e28fcbbd89b"
      },
      "source": [
        "Create a table with the results of the game and visualize the results for Player 1."
      ]
    },
    {
      "cell_type": "code",
      "execution_count": null,
      "id": "d2506bc0-6456-44e7-af13-71f095bb524c",
      "metadata": {
        "tags": [],
        "id": "d2506bc0-6456-44e7-af13-71f095bb524c",
        "outputId": "a076232d-8b6c-4c41-e7bd-8e36ce140a01"
      },
      "outputs": [
        {
          "data": {
            "text/html": [
              "<table border=\"1\" class=\"dataframe\">\n",
              "    <thead>\n",
              "        <tr>\n",
              "            <th>Player 1 Outcome</th> <th>Player 2 Outcome</th>\n",
              "        </tr>\n",
              "    </thead>\n",
              "    <tbody>\n",
              "        <tr>\n",
              "            <td>1               </td> <td>-1              </td>\n",
              "        </tr>\n",
              "        <tr>\n",
              "            <td>1               </td> <td>-1              </td>\n",
              "        </tr>\n",
              "        <tr>\n",
              "            <td>-1              </td> <td>1               </td>\n",
              "        </tr>\n",
              "        <tr>\n",
              "            <td>0               </td> <td>-0              </td>\n",
              "        </tr>\n",
              "        <tr>\n",
              "            <td>-1              </td> <td>1               </td>\n",
              "        </tr>\n",
              "        <tr>\n",
              "            <td>1               </td> <td>-1              </td>\n",
              "        </tr>\n",
              "        <tr>\n",
              "            <td>1               </td> <td>-1              </td>\n",
              "        </tr>\n",
              "        <tr>\n",
              "            <td>-1              </td> <td>1               </td>\n",
              "        </tr>\n",
              "        <tr>\n",
              "            <td>-1              </td> <td>1               </td>\n",
              "        </tr>\n",
              "        <tr>\n",
              "            <td>0               </td> <td>-0              </td>\n",
              "        </tr>\n",
              "    </tbody>\n",
              "</table>\n",
              "<p>... (9990 rows omitted)</p>"
            ],
            "text/plain": [
              "Player 1 Outcome | Player 2 Outcome\n",
              "1                | -1\n",
              "1                | -1\n",
              "-1               | 1\n",
              "0                | -0\n",
              "-1               | 1\n",
              "1                | -1\n",
              "1                | -1\n",
              "-1               | 1\n",
              "-1               | 1\n",
              "0                | -0\n",
              "... (9990 rows omitted)"
            ]
          },
          "execution_count": 319,
          "metadata": {},
          "output_type": "execute_result"
        }
      ],
      "source": [
        "results = Table().with_columns(\n",
        "    'Player 1 Outcome', player1_game_outcomes,\n",
        "    'Player 2 Outcome', -1 * player1_game_outcomes # This yields -0 for ties, but -0, +0, and 0 are all the same\n",
        ")\n",
        "results"
      ]
    },
    {
      "cell_type": "code",
      "execution_count": null,
      "id": "f6ac3876-d5b4-4b4e-a156-3eeac74e3fab",
      "metadata": {
        "tags": [],
        "id": "f6ac3876-d5b4-4b4e-a156-3eeac74e3fab",
        "outputId": "6b08f3d3-48ab-4807-a39f-000d5e7b297c"
      },
      "outputs": [
        {
          "data": {
            "image/png": "[encoded data removed]",
            "text/plain": [
              "<Figure size 600x400 with 1 Axes>"
            ]
          },
          "metadata": {},
          "output_type": "display_data"
        }
      ],
      "source": [
        "results.group('Player 1 Outcome').barh('Player 1 Outcome')"
      ]
    },
    {
      "cell_type": "markdown",
      "id": "288db24e-50f6-482e-a8ec-df948f277fdb",
      "metadata": {
        "id": "288db24e-50f6-482e-a8ec-df948f277fdb"
      },
      "source": [
        "---"
      ]
    },
    {
      "cell_type": "markdown",
      "id": "7405cd4b-fc36-4e85-b36c-7c538c1fd6e2",
      "metadata": {
        "id": "7405cd4b-fc36-4e85-b36c-7c538c1fd6e2"
      },
      "source": [
        "### Demo: Simulating Heads in 100 Coin Tosses"
      ]
    },
    {
      "cell_type": "markdown",
      "id": "dc976773-6c82-4366-a142-799586c0b7f2",
      "metadata": {
        "deletable": false,
        "editable": false,
        "id": "dc976773-6c82-4366-a142-799586c0b7f2"
      },
      "source": [
        "Create a fair coin and develop the components to simulate flipping the coin 100 times. Make sure to keep track of the results where the simulation is repeated 10,000 times."
      ]
    },
    {
      "cell_type": "code",
      "execution_count": null,
      "id": "4fb16764-72d1-48a5-ba41-83968213d2cd",
      "metadata": {
        "tags": [],
        "id": "4fb16764-72d1-48a5-ba41-83968213d2cd"
      },
      "outputs": [],
      "source": [
        "coin = make_array('heads','tails')"
      ]
    },
    {
      "cell_type": "code",
      "execution_count": null,
      "id": "9b796261-a6cf-4e7b-ab07-35c278e4befd",
      "metadata": {
        "tags": [],
        "id": "9b796261-a6cf-4e7b-ab07-35c278e4befd",
        "outputId": "6119c249-75fc-448c-c833-a873abba38c8"
      },
      "outputs": [
        {
          "data": {
            "text/plain": [
              "45"
            ]
          },
          "execution_count": 322,
          "metadata": {},
          "output_type": "execute_result"
        }
      ],
      "source": [
        "sum(np.random.choice(coin,100) =='heads')"
      ]
    },
    {
      "cell_type": "code",
      "execution_count": null,
      "id": "a2aeb5a8-f916-4e7b-b399-b316a594ff1f",
      "metadata": {
        "tags": [],
        "id": "a2aeb5a8-f916-4e7b-b399-b316a594ff1f"
      },
      "outputs": [],
      "source": [
        "# Simulate one outcome\n",
        "def num_heads():\n",
        "    return sum(np.random.choice(coin, 100) == 'heads')"
      ]
    },
    {
      "cell_type": "code",
      "execution_count": null,
      "id": "8482b364-84a0-4076-b511-7d19221b704c",
      "metadata": {
        "tags": [],
        "id": "8482b364-84a0-4076-b511-7d19221b704c"
      },
      "outputs": [],
      "source": [
        "# Decide how many times you want to repeat the experiment\n",
        "repetitions = 10000"
      ]
    },
    {
      "cell_type": "code",
      "execution_count": null,
      "id": "f40b02bb-2d05-4ab8-af86-bcbaa448ff68",
      "metadata": {
        "tags": [],
        "id": "f40b02bb-2d05-4ab8-af86-bcbaa448ff68"
      },
      "outputs": [],
      "source": [
        "# Simulate that many outcomes\n",
        "outcomes = make_array()\n",
        "\n",
        "for i in np.arange(repetitions):\n",
        "    outcomes = np.append(outcomes, num_heads())\n",
        ""
      ]
    },
    {
      "cell_type": "code",
      "execution_count": null,
      "id": "9d554b53-fac5-4f67-a66b-b17ec90ebd45",
      "metadata": {
        "tags": [],
        "id": "9d554b53-fac5-4f67-a66b-b17ec90ebd45",
        "outputId": "49df6061-3297-47e1-fde5-2b5e903ef695"
      },
      "outputs": [
        {
          "data": {
            "image/png": "[encoded data removed]",
            "text/plain": [
              "<Figure size 600x400 with 1 Axes>"
            ]
          },
          "metadata": {},
          "output_type": "display_data"
        }
      ],
      "source": [
        "heads = Table().with_column('Heads', outcomes)\n",
        "heads.hist(bins = np.arange(29.5, 70.6))"
      ]
    },
    {
      "cell_type": "code",
      "execution_count": null,
      "id": "230220a8-58d8-45b2-9809-2f8c3878e249",
      "metadata": {
        "id": "230220a8-58d8-45b2-9809-2f8c3878e249",
        "outputId": "f1af2297-b82f-4ad0-c314-f128942afb3e"
      },
      "outputs": [
        {
          "data": {
            "image/png": "[encoded data removed]",
            "text/plain": [
              "<Figure size 600x400 with 1 Axes>"
            ]
          },
          "metadata": {},
          "output_type": "display_data"
        }
      ],
      "source": [
        "heads.hist(bins=np.arange(40, 61))"
      ]
    },
    {
      "cell_type": "markdown",
      "id": "720057e8-70bd-40b8-90c5-b46ee25e8c92",
      "metadata": {
        "id": "720057e8-70bd-40b8-90c5-b46ee25e8c92"
      },
      "source": [
        "---"
      ]
    },
    {
      "cell_type": "markdown",
      "id": "44746eb9-0db6-4d6e-b761-040cf0fd2f5c",
      "metadata": {
        "id": "44746eb9-0db6-4d6e-b761-040cf0fd2f5c"
      },
      "source": [
        "## Optional: `bool` and `where`"
      ]
    },
    {
      "cell_type": "markdown",
      "id": "4e665ab6-800b-461c-b074-0aeb01a187c1",
      "metadata": {
        "id": "4e665ab6-800b-461c-b074-0aeb01a187c1"
      },
      "source": [
        "---"
      ]
    },
    {
      "cell_type": "markdown",
      "id": "611c7fcf-d248-4b38-9245-b67fe58bf159",
      "metadata": {
        "id": "611c7fcf-d248-4b38-9245-b67fe58bf159"
      },
      "source": [
        "### A Closer Look at `where`"
      ]
    },
    {
      "cell_type": "markdown",
      "id": "8c324e2f-70fe-47bd-8c7d-842cacb37a47",
      "metadata": {
        "id": "8c324e2f-70fe-47bd-8c7d-842cacb37a47"
      },
      "source": [
        "The command\n",
        "\n",
        "`t.where(array_of_bool_values)`\n",
        "\n",
        "returns a table with only the rows of `t` for which the corresponding `bool` is `True`."
      ]
    },
    {
      "cell_type": "markdown",
      "id": "40537fc8-9d48-4243-ba96-9de75d2bf4dc",
      "metadata": {
        "id": "40537fc8-9d48-4243-ba96-9de75d2bf4dc"
      },
      "source": [
        "---"
      ]
    },
    {
      "cell_type": "markdown",
      "id": "8e05d5fe-6227-4231-bd40-63f759852a09",
      "metadata": {
        "id": "8e05d5fe-6227-4231-bd40-63f759852a09"
      },
      "source": [
        "### Demo: Advanced `where`"
      ]
    },
    {
      "cell_type": "markdown",
      "id": "4d22c298-a28e-4aca-958b-9af4a2d9d145",
      "metadata": {
        "deletable": false,
        "editable": false,
        "id": "4d22c298-a28e-4aca-958b-9af4a2d9d145"
      },
      "source": [
        "Demonstrate how to use conditionals with the `where` method."
      ]
    },
    {
      "cell_type": "code",
      "execution_count": null,
      "id": "9b979671-a53f-44da-a785-15b2bca3326e",
      "metadata": {
        "tags": [],
        "id": "9b979671-a53f-44da-a785-15b2bca3326e",
        "outputId": "d3cb5687-0bb8-445b-8915-4865e52d2ad8"
      },
      "outputs": [
        {
          "data": {
            "text/html": [
              "<table border=\"1\" class=\"dataframe\">\n",
              "    <thead>\n",
              "        <tr>\n",
              "            <th>Age</th>\n",
              "        </tr>\n",
              "    </thead>\n",
              "    <tbody>\n",
              "        <tr>\n",
              "            <td>16  </td>\n",
              "        </tr>\n",
              "        <tr>\n",
              "            <td>22  </td>\n",
              "        </tr>\n",
              "        <tr>\n",
              "            <td>18  </td>\n",
              "        </tr>\n",
              "        <tr>\n",
              "            <td>15  </td>\n",
              "        </tr>\n",
              "        <tr>\n",
              "            <td>19  </td>\n",
              "        </tr>\n",
              "        <tr>\n",
              "            <td>15  </td>\n",
              "        </tr>\n",
              "        <tr>\n",
              "            <td>16  </td>\n",
              "        </tr>\n",
              "        <tr>\n",
              "            <td>21  </td>\n",
              "        </tr>\n",
              "    </tbody>\n",
              "</table>"
            ],
            "text/plain": [
              "Age\n",
              "16\n",
              "22\n",
              "18\n",
              "15\n",
              "19\n",
              "15\n",
              "16\n",
              "21"
            ]
          },
          "execution_count": 66,
          "metadata": {},
          "output_type": "execute_result"
        }
      ],
      "source": [
        "ages = make_array(16, 22, 18, 15, 19, 15, 16, 21)\n",
        "age = Table().with_column('Age', ages)\n",
        "age"
      ]
    },
    {
      "cell_type": "code",
      "execution_count": null,
      "id": "1fca9304-6494-426d-ae5c-7714232b586f",
      "metadata": {
        "tags": [],
        "id": "1fca9304-6494-426d-ae5c-7714232b586f"
      },
      "outputs": [],
      "source": [
        "..."
      ]
    },
    {
      "cell_type": "code",
      "execution_count": null,
      "id": "0973bb88-7939-425e-a3f3-95cf451a7341",
      "metadata": {
        "tags": [],
        "id": "0973bb88-7939-425e-a3f3-95cf451a7341",
        "outputId": "73563ccf-b3bd-40fa-dc07-085f045244b2"
      },
      "outputs": [
        {
          "data": {
            "text/plain": [
              "array([False,  True,  True, False,  True, False, False,  True], dtype=bool)"
            ]
          },
          "execution_count": 69,
          "metadata": {},
          "output_type": "execute_result"
        }
      ],
      "source": [
        "voter = ages>=18\n",
        "voter"
      ]
    },
    {
      "cell_type": "code",
      "execution_count": null,
      "id": "0839b090-5e97-41ff-ad15-ef4e19c77c8e",
      "metadata": {
        "tags": [],
        "id": "0839b090-5e97-41ff-ad15-ef4e19c77c8e",
        "outputId": "49d8ab52-f5e0-4360-b8b3-b1874a665ea8"
      },
      "outputs": [
        {
          "data": {
            "text/html": [
              "<table border=\"1\" class=\"dataframe\">\n",
              "    <thead>\n",
              "        <tr>\n",
              "            <th>Age</th>\n",
              "        </tr>\n",
              "    </thead>\n",
              "    <tbody>\n",
              "        <tr>\n",
              "            <td>22  </td>\n",
              "        </tr>\n",
              "        <tr>\n",
              "            <td>18  </td>\n",
              "        </tr>\n",
              "        <tr>\n",
              "            <td>19  </td>\n",
              "        </tr>\n",
              "        <tr>\n",
              "            <td>21  </td>\n",
              "        </tr>\n",
              "    </tbody>\n",
              "</table>"
            ],
            "text/plain": [
              "Age\n",
              "22\n",
              "18\n",
              "19\n",
              "21"
            ]
          },
          "execution_count": 70,
          "metadata": {},
          "output_type": "execute_result"
        }
      ],
      "source": [
        "age.where(voter)"
      ]
    },
    {
      "cell_type": "code",
      "execution_count": null,
      "id": "ba5e3970-6e8c-4275-98d1-768096198cec",
      "metadata": {
        "tags": [],
        "id": "ba5e3970-6e8c-4275-98d1-768096198cec"
      },
      "outputs": [],
      "source": [
        "def my_voter_function(x):\n",
        "    return x >= 18"
      ]
    },
    {
      "cell_type": "code",
      "execution_count": null,
      "id": "2d3d1ce6-9177-4209-b491-a7742007ca74",
      "metadata": {
        "tags": [],
        "id": "2d3d1ce6-9177-4209-b491-a7742007ca74",
        "outputId": "3e42a44b-9960-419b-ea1e-de5d6a4931eb"
      },
      "outputs": [
        {
          "data": {
            "text/html": [
              "<table border=\"1\" class=\"dataframe\">\n",
              "    <thead>\n",
              "        <tr>\n",
              "            <th>Age</th>\n",
              "        </tr>\n",
              "    </thead>\n",
              "    <tbody>\n",
              "        <tr>\n",
              "            <td>22  </td>\n",
              "        </tr>\n",
              "        <tr>\n",
              "            <td>18  </td>\n",
              "        </tr>\n",
              "        <tr>\n",
              "            <td>19  </td>\n",
              "        </tr>\n",
              "        <tr>\n",
              "            <td>21  </td>\n",
              "        </tr>\n",
              "    </tbody>\n",
              "</table>"
            ],
            "text/plain": [
              "Age\n",
              "22\n",
              "18\n",
              "19\n",
              "21"
            ]
          },
          "execution_count": 72,
          "metadata": {},
          "output_type": "execute_result"
        }
      ],
      "source": [
        "age.where('Age',my_voter_function)"
      ]
    },
    {
      "cell_type": "markdown",
      "id": "49bd3caf-87d4-48c8-96b5-cf7d50397f1a",
      "metadata": {
        "id": "49bd3caf-87d4-48c8-96b5-cf7d50397f1a"
      },
      "source": [
        "---"
      ]
    },
    {
      "cell_type": "markdown",
      "id": "c7587307-2d69-4385-9c48-b0498ad8696e",
      "metadata": {
        "editable": true,
        "tags": [],
        "id": "c7587307-2d69-4385-9c48-b0498ad8696e"
      },
      "source": [
        "## Attribution"
      ]
    },
    {
      "cell_type": "markdown",
      "id": "0f973ce6-40af-4d94-ad1e-db916f1f7d73",
      "metadata": {
        "id": "0f973ce6-40af-4d94-ad1e-db916f1f7d73"
      },
      "source": [
        "This content is licensed under the <a href=\"https://creativecommons.org/licenses/by-nc-sa/4.0/\">Creative Commons Attribution-NonCommercial-ShareAlike 4.0 International License (CC BY-NC-SA 4.0)</a> and derived from the <a href=\"https://www.data8.org/\">Data 8: The Foundations of Data Science</a> offered by the University of California, Berkeley.\n",
        "\n",
        "<img src=\"./by-nc-sa.png\" width=100px>"
      ]
    }
  ],
  "metadata": {
    "kernelspec": {
      "display_name": "Python 3 (ipykernel)",
      "language": "python",
      "name": "python3"
    },
    "language_info": {
      "codemirror_mode": {
        "name": "ipython",
        "version": 3
      },
      "file_extension": ".py",
      "mimetype": "text/x-python",
      "name": "python",
      "nbconvert_exporter": "python",
      "pygments_lexer": "ipython3",
      "version": "3.11.9"
    },
    "otter": {
      "OK_FORMAT": true,
      "tests": {}
    },
    "colab": {
      "provenance": [],
      "include_colab_link": true
    }
  },
  "nbformat": 4,
  "nbformat_minor": 5
}