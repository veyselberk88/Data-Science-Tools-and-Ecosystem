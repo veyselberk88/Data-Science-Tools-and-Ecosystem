{
  "cells": [
    {
      "cell_type": "markdown",
      "metadata": {
        "id": "view-in-github",
        "colab_type": "text"
      },
      "source": [
        "<a href=\"https://colab.research.google.com/github/veyselberk88/Data-Science-Tools-and-Ecosystem/blob/main/lec23.ipynb\" target=\"_parent\"><img src=\"https://colab.research.google.com/assets/colab-badge.svg\" alt=\"Open In Colab\"/></a>"
      ]
    },
    {
      "cell_type": "markdown",
      "id": "f6b9ee83-c6da-4b5c-ab08-d62da121293d",
      "metadata": {
        "id": "f6b9ee83-c6da-4b5c-ab08-d62da121293d"
      },
      "source": [
        "<img src=\"./ccsf.png\" alt=\"CCSF Logo\" width=200px style=\"margin:0px -5px\">"
      ]
    },
    {
      "cell_type": "markdown",
      "id": "27f2a987-322c-4114-887b-eb3f4d37d6bf",
      "metadata": {
        "id": "27f2a987-322c-4114-887b-eb3f4d37d6bf"
      },
      "source": [
        "# Lecture 23: Hypothesis Testing Examples"
      ]
    },
    {
      "cell_type": "markdown",
      "id": "d08bf161-5535-404d-97ac-d7ae5a673257",
      "metadata": {
        "id": "d08bf161-5535-404d-97ac-d7ae5a673257"
      },
      "source": [
        "Associated Textbook Sections: [12.3](https://ccsf-math-108.github.io/textbook/chapters/12/3/Deflategate.html)"
      ]
    },
    {
      "cell_type": "markdown",
      "id": "1d093a20-528b-4b64-b6f2-dd9ef180d9af",
      "metadata": {
        "id": "1d093a20-528b-4b64-b6f2-dd9ef180d9af"
      },
      "source": [
        "---"
      ]
    },
    {
      "cell_type": "markdown",
      "id": "52b3cea8-2a99-4062-a7cb-9d564bc5e971",
      "metadata": {
        "id": "52b3cea8-2a99-4062-a7cb-9d564bc5e971"
      },
      "source": [
        "## Outline"
      ]
    },
    {
      "cell_type": "markdown",
      "id": "4ad13d31-79c8-4931-b822-986c87bf003c",
      "metadata": {
        "id": "4ad13d31-79c8-4931-b822-986c87bf003c"
      },
      "source": [
        "* [Benford's Law](#Benford's-Law)\n",
        "* [Therapy Recovery Time](#Therapy-Recovery-Time)"
      ]
    },
    {
      "cell_type": "markdown",
      "id": "5b6181ed-f88f-4893-8d7a-7c8bfb45e03b",
      "metadata": {
        "id": "5b6181ed-f88f-4893-8d7a-7c8bfb45e03b"
      },
      "source": [
        "---"
      ]
    },
    {
      "cell_type": "markdown",
      "id": "fca1350e-2331-4fa6-af86-2465960c95c9",
      "metadata": {
        "id": "fca1350e-2331-4fa6-af86-2465960c95c9"
      },
      "source": [
        "## Set Up the Notebook"
      ]
    },
    {
      "cell_type": "code",
      "execution_count": null,
      "id": "3c0b49c4-c6ef-4861-a51e-5d803290a946",
      "metadata": {
        "id": "3c0b49c4-c6ef-4861-a51e-5d803290a946"
      },
      "outputs": [],
      "source": [
        "from datascience import *\n",
        "import numpy as np\n",
        "%matplotlib inline\n",
        "import matplotlib.pyplot as plt\n",
        "plt.style.use('fivethirtyeight')"
      ]
    },
    {
      "cell_type": "markdown",
      "id": "25c1f6b8-40d6-42b5-aad6-64d79cbbb155",
      "metadata": {
        "id": "25c1f6b8-40d6-42b5-aad6-64d79cbbb155"
      },
      "source": [
        "---"
      ]
    },
    {
      "cell_type": "markdown",
      "id": "885c2586-52d7-4412-901e-d2893d62114b",
      "metadata": {
        "id": "885c2586-52d7-4412-901e-d2893d62114b"
      },
      "source": [
        "## Benford's Law"
      ]
    },
    {
      "cell_type": "markdown",
      "id": "d572cd42-b5fa-4ab6-8ab6-ef2bc4077418",
      "metadata": {
        "id": "d572cd42-b5fa-4ab6-8ab6-ef2bc4077418"
      },
      "source": [
        "> [Benford's law](https://en.wikipedia.org/wiki/Benford%27s_law), also known as the Newcomb-Benford law, the law of anomalous numbers, or the first-digit law, is an observation that in many real-life sets of numerical data, the leading digit is likely to be small. Benford's law tends to apply most accurately to data that span several orders of magnitude. As a rule of thumb, the more orders of magnitude that the data evenly covers, the more accurately Benford's law applies."
      ]
    },
    {
      "cell_type": "markdown",
      "id": "cd1aeab1-56ea-410c-a6b6-d0ded40671b8",
      "metadata": {
        "id": "cd1aeab1-56ea-410c-a6b6-d0ded40671b8"
      },
      "source": [
        "---"
      ]
    },
    {
      "cell_type": "markdown",
      "id": "8c9a9e21-7140-44e0-94dc-de693168d3a5",
      "metadata": {
        "id": "8c9a9e21-7140-44e0-94dc-de693168d3a5"
      },
      "source": [
        "Observe the distribution of the first digits of numbers according to Benford's model."
      ]
    },
    {
      "cell_type": "code",
      "execution_count": null,
      "id": "ae3e3fcb-96ef-4fe5-ba5b-a6af30116254",
      "metadata": {
        "id": "ae3e3fcb-96ef-4fe5-ba5b-a6af30116254",
        "outputId": "ad7ceaf1-497f-44d6-c19c-c9ef5c00b727"
      },
      "outputs": [
        {
          "data": {
            "text/html": [
              "<table border=\"1\" class=\"dataframe\">\n",
              "    <thead>\n",
              "        <tr>\n",
              "            <th>First digit</th> <th>Benford model prob</th>\n",
              "        </tr>\n",
              "    </thead>\n",
              "    <tbody>\n",
              "        <tr>\n",
              "            <td>1          </td> <td>0.30103           </td>\n",
              "        </tr>\n",
              "        <tr>\n",
              "            <td>2          </td> <td>0.176091          </td>\n",
              "        </tr>\n",
              "        <tr>\n",
              "            <td>3          </td> <td>0.124939          </td>\n",
              "        </tr>\n",
              "        <tr>\n",
              "            <td>4          </td> <td>0.09691           </td>\n",
              "        </tr>\n",
              "        <tr>\n",
              "            <td>5          </td> <td>0.0791812         </td>\n",
              "        </tr>\n",
              "        <tr>\n",
              "            <td>6          </td> <td>0.0669468         </td>\n",
              "        </tr>\n",
              "        <tr>\n",
              "            <td>7          </td> <td>0.0579919         </td>\n",
              "        </tr>\n",
              "        <tr>\n",
              "            <td>8          </td> <td>0.0511525         </td>\n",
              "        </tr>\n",
              "        <tr>\n",
              "            <td>9          </td> <td>0.0457575         </td>\n",
              "        </tr>\n",
              "    </tbody>\n",
              "</table>"
            ],
            "text/plain": [
              "First digit | Benford model prob\n",
              "1           | 0.30103\n",
              "2           | 0.176091\n",
              "3           | 0.124939\n",
              "4           | 0.09691\n",
              "5           | 0.0791812\n",
              "6           | 0.0669468\n",
              "7           | 0.0579919\n",
              "8           | 0.0511525\n",
              "9           | 0.0457575"
            ]
          },
          "execution_count": 2,
          "metadata": {},
          "output_type": "execute_result"
        }
      ],
      "source": [
        "digits = np.arange(1, 10)\n",
        "benford_model = np.log10(1 + 1/digits)\n",
        "benford = Table().with_columns(\n",
        "    'First digit', digits,\n",
        "    'Benford model prob', benford_model)\n",
        "benford"
      ]
    },
    {
      "cell_type": "code",
      "execution_count": null,
      "id": "b3884695-1544-4a41-aab2-b8079b6ba1bd",
      "metadata": {
        "tags": [],
        "id": "b3884695-1544-4a41-aab2-b8079b6ba1bd",
        "outputId": "5aaba76c-4bcf-4693-f73c-1b1ef841f0bc"
      },
      "outputs": [
        {
          "data": {
            "image/png": "[encoded data removed]",
            "text/plain": [
              "<Figure size 600x450 with 1 Axes>"
            ]
          },
          "metadata": {},
          "output_type": "display_data"
        }
      ],
      "source": [
        "benford.barh('First digit')"
      ]
    },
    {
      "cell_type": "markdown",
      "id": "47dfd693-5be9-406b-954d-79ff2b31e711",
      "metadata": {
        "id": "47dfd693-5be9-406b-954d-79ff2b31e711"
      },
      "source": [
        "---"
      ]
    },
    {
      "cell_type": "markdown",
      "id": "fa735ef2-3044-45a0-83d9-c0f81b68047d",
      "metadata": {
        "id": "fa735ef2-3044-45a0-83d9-c0f81b68047d"
      },
      "source": [
        "### Get First Digit"
      ]
    },
    {
      "cell_type": "markdown",
      "id": "47fedc69-ec87-470b-ba14-958237854048",
      "metadata": {
        "id": "47fedc69-ec87-470b-ba14-958237854048"
      },
      "source": [
        "Use bracket notation to get get the first character of a string.\n",
        "\n",
        "_The use of bracket notation here is just for an example. Bracket notation is a common way in Python to obtain information within a collection. This is similar to how we use `.item(0)` with arrays._"
      ]
    },
    {
      "cell_type": "code",
      "execution_count": null,
      "id": "e656ffa2-107e-4794-aa5d-bc1b1d6b669b",
      "metadata": {
        "id": "e656ffa2-107e-4794-aa5d-bc1b1d6b669b",
        "outputId": "d7061f05-f52a-4960-d979-1bba9bc1e864"
      },
      "outputs": [
        {
          "data": {
            "text/plain": [
              "'d'"
            ]
          },
          "execution_count": 4,
          "metadata": {},
          "output_type": "execute_result"
        }
      ],
      "source": [
        "a_string = 'data science'\n",
        "a_string[0]"
      ]
    },
    {
      "cell_type": "markdown",
      "id": "ee5db3c4-476d-4052-8254-e143e882d781",
      "metadata": {
        "id": "ee5db3c4-476d-4052-8254-e143e882d781"
      },
      "source": [
        "Try the same thing with an integer."
      ]
    },
    {
      "cell_type": "code",
      "execution_count": null,
      "id": "145636dd-ebfc-4282-aadd-914850c56896",
      "metadata": {
        "id": "145636dd-ebfc-4282-aadd-914850c56896"
      },
      "outputs": [],
      "source": [
        "# Uncomment this to see a TypeError\n",
        "an_integer = 1234\n",
        "#an_integer[0]"
      ]
    },
    {
      "cell_type": "markdown",
      "id": "1db53c57-ebb3-4ff6-9e4f-e3c932ca5058",
      "metadata": {
        "id": "1db53c57-ebb3-4ff6-9e4f-e3c932ca5058"
      },
      "source": [
        "Explore the `first_digit` function."
      ]
    },
    {
      "cell_type": "code",
      "execution_count": null,
      "id": "798b40db-a12c-495f-8ac3-e02e0424e593",
      "metadata": {
        "id": "798b40db-a12c-495f-8ac3-e02e0424e593"
      },
      "outputs": [],
      "source": [
        "def first_digit(num):\n",
        "    \"\"\"Returns the first digit of the interger num.\"\"\"\n",
        "    return int(str(num)[0])"
      ]
    },
    {
      "cell_type": "code",
      "execution_count": null,
      "id": "9b16917c-ad46-494a-9152-0d26fe12b81f",
      "metadata": {
        "id": "9b16917c-ad46-494a-9152-0d26fe12b81f",
        "outputId": "feef808d-497e-41bf-c77d-3782389ed3c5"
      },
      "outputs": [
        {
          "data": {
            "text/plain": [
              "3"
            ]
          },
          "execution_count": 7,
          "metadata": {},
          "output_type": "execute_result"
        }
      ],
      "source": [
        "first_digit(32)"
      ]
    },
    {
      "cell_type": "markdown",
      "id": "6e7a8458-d88c-4596-a756-8fab09b95e76",
      "metadata": {
        "id": "6e7a8458-d88c-4596-a756-8fab09b95e76"
      },
      "source": [
        "---"
      ]
    },
    {
      "cell_type": "markdown",
      "id": "2b154960-8662-48ea-bd71-bf5dede9f290",
      "metadata": {
        "id": "2b154960-8662-48ea-bd71-bf5dede9f290"
      },
      "source": [
        "### County Data"
      ]
    },
    {
      "cell_type": "markdown",
      "id": "c6487621-14b7-449f-a00f-a98adb49dc7d",
      "metadata": {
        "id": "c6487621-14b7-449f-a00f-a98adb49dc7d"
      },
      "source": [
        "Load the `counties.csv` data. This data contains county population sizes from the 2010 Census."
      ]
    },
    {
      "cell_type": "code",
      "execution_count": null,
      "id": "544ee9c3-67cb-4f58-82bb-606082c16d5e",
      "metadata": {
        "id": "544ee9c3-67cb-4f58-82bb-606082c16d5e",
        "outputId": "4556f7ff-b1c9-430d-bb28-903e5a37183a"
      },
      "outputs": [
        {
          "data": {
            "text/html": [
              "<table border=\"1\" class=\"dataframe\">\n",
              "    <thead>\n",
              "        <tr>\n",
              "            <th>State</th> <th>County</th> <th>Population</th>\n",
              "        </tr>\n",
              "    </thead>\n",
              "    <tbody>\n",
              "        <tr>\n",
              "            <td>Alabama</td> <td>Autauga County </td> <td>54684     </td>\n",
              "        </tr>\n",
              "        <tr>\n",
              "            <td>Alabama</td> <td>Baldwin County </td> <td>183216    </td>\n",
              "        </tr>\n",
              "        <tr>\n",
              "            <td>Alabama</td> <td>Barbour County </td> <td>27336     </td>\n",
              "        </tr>\n",
              "        <tr>\n",
              "            <td>Alabama</td> <td>Bibb County    </td> <td>22879     </td>\n",
              "        </tr>\n",
              "        <tr>\n",
              "            <td>Alabama</td> <td>Blount County  </td> <td>57344     </td>\n",
              "        </tr>\n",
              "        <tr>\n",
              "            <td>Alabama</td> <td>Bullock County </td> <td>10886     </td>\n",
              "        </tr>\n",
              "        <tr>\n",
              "            <td>Alabama</td> <td>Butler County  </td> <td>20945     </td>\n",
              "        </tr>\n",
              "        <tr>\n",
              "            <td>Alabama</td> <td>Calhoun County </td> <td>118443    </td>\n",
              "        </tr>\n",
              "        <tr>\n",
              "            <td>Alabama</td> <td>Chambers County</td> <td>34111     </td>\n",
              "        </tr>\n",
              "        <tr>\n",
              "            <td>Alabama</td> <td>Cherokee County</td> <td>25968     </td>\n",
              "        </tr>\n",
              "    </tbody>\n",
              "</table>\n",
              "<p>... (3132 rows omitted)</p>"
            ],
            "text/plain": [
              "State   | County          | Population\n",
              "Alabama | Autauga County  | 54684\n",
              "Alabama | Baldwin County  | 183216\n",
              "Alabama | Barbour County  | 27336\n",
              "Alabama | Bibb County     | 22879\n",
              "Alabama | Blount County   | 57344\n",
              "Alabama | Bullock County  | 10886\n",
              "Alabama | Butler County   | 20945\n",
              "Alabama | Calhoun County  | 118443\n",
              "Alabama | Chambers County | 34111\n",
              "Alabama | Cherokee County | 25968\n",
              "... (3132 rows omitted)"
            ]
          },
          "execution_count": 8,
          "metadata": {},
          "output_type": "execute_result"
        }
      ],
      "source": [
        "counties = Table.read_table('counties.csv')\n",
        "counties = counties.where('SUMLEV', 50).select(5,6,9)\\\n",
        "                                       .relabeled(0,'State')\\\n",
        "                                       .relabeled(1,'County')\\\n",
        "                                       .relabeled(2,'Population')\n",
        "\n",
        "counties"
      ]
    },
    {
      "cell_type": "code",
      "execution_count": null,
      "id": "9b760b2a-e6d4-4910-bfb2-31789917b2e1",
      "metadata": {
        "id": "9b760b2a-e6d4-4910-bfb2-31789917b2e1",
        "outputId": "403d1ac8-1e1b-4cbf-e616-57c2aa1181a1"
      },
      "outputs": [
        {
          "data": {
            "text/html": [
              "<table border=\"1\" class=\"dataframe\">\n",
              "    <thead>\n",
              "        <tr>\n",
              "            <th>State</th> <th>County</th> <th>Population</th>\n",
              "        </tr>\n",
              "    </thead>\n",
              "    <tbody>\n",
              "        <tr>\n",
              "            <td>California</td> <td>San Francisco County</td> <td>805825    </td>\n",
              "        </tr>\n",
              "    </tbody>\n",
              "</table>"
            ],
            "text/plain": [
              "State      | County               | Population\n",
              "California | San Francisco County | 805825"
            ]
          },
          "execution_count": 9,
          "metadata": {},
          "output_type": "execute_result"
        }
      ],
      "source": [
        "counties.where('County', 'San Francisco County')"
      ]
    },
    {
      "cell_type": "markdown",
      "id": "700cdd3d-955b-48e7-94a4-5fd06854f3ca",
      "metadata": {
        "id": "700cdd3d-955b-48e7-94a4-5fd06854f3ca"
      },
      "source": [
        "---"
      ]
    },
    {
      "cell_type": "markdown",
      "id": "073260fd-de25-430f-a167-cc09ae4c65b0",
      "metadata": {
        "id": "073260fd-de25-430f-a167-cc09ae4c65b0"
      },
      "source": [
        "### Demo: Benford's Law"
      ]
    },
    {
      "cell_type": "markdown",
      "id": "3675e5bb-7f21-4e79-b56f-5556f0d5357d",
      "metadata": {
        "deletable": false,
        "editable": false,
        "id": "3675e5bb-7f21-4e79-b56f-5556f0d5357d"
      },
      "source": [
        "* Apply `first_digit` to add a column to the `counties` table that shows the first digit of the population sizes.\n",
        "* Visually compare the distribution of first digits from the `counties` data and Benford's proportions."
      ]
    },
    {
      "cell_type": "code",
      "execution_count": null,
      "id": "1fb60de6-7815-4f42-925d-f18e863f8112",
      "metadata": {
        "tags": [],
        "id": "1fb60de6-7815-4f42-925d-f18e863f8112",
        "outputId": "48d6e950-c1de-4657-984e-031cac62d3a9"
      },
      "outputs": [
        {
          "data": {
            "text/html": [
              "<table border=\"1\" class=\"dataframe\">\n",
              "    <thead>\n",
              "        <tr>\n",
              "            <th>State</th> <th>County</th> <th>Population</th> <th>First digit</th>\n",
              "        </tr>\n",
              "    </thead>\n",
              "    <tbody>\n",
              "        <tr>\n",
              "            <td>Alabama</td> <td>Autauga County</td> <td>54684     </td> <td>5          </td>\n",
              "        </tr>\n",
              "        <tr>\n",
              "            <td>Alabama</td> <td>Baldwin County</td> <td>183216    </td> <td>1          </td>\n",
              "        </tr>\n",
              "        <tr>\n",
              "            <td>Alabama</td> <td>Barbour County</td> <td>27336     </td> <td>2          </td>\n",
              "        </tr>\n",
              "    </tbody>\n",
              "</table>\n",
              "<p>... (3139 rows omitted)</p>"
            ],
            "text/plain": [
              "<IPython.core.display.HTML object>"
            ]
          },
          "metadata": {},
          "output_type": "display_data"
        }
      ],
      "source": [
        "first_digits = counties.apply(first_digit, 'Population')\n",
        "counties = counties.with_column('First digit', first_digits)\n",
        "counties.show(3)"
      ]
    },
    {
      "cell_type": "code",
      "execution_count": null,
      "id": "55068323-30a3-4358-9f0d-18596b3ccfb7",
      "metadata": {
        "tags": [],
        "id": "55068323-30a3-4358-9f0d-18596b3ccfb7",
        "outputId": "b1dacedb-c244-472f-86e7-e7953adc7060"
      },
      "outputs": [
        {
          "data": {
            "image/png": "[encoded data removed]",
            "text/plain": [
              "<Figure size 600x450 with 1 Axes>"
            ]
          },
          "metadata": {},
          "output_type": "display_data"
        }
      ],
      "source": [
        "num_counties = counties.num_rows\n",
        "by_digit = counties.group('First digit')\n",
        "proportions = by_digit.column('count') / num_counties\n",
        "by_digit = by_digit.with_columns(\n",
        "    'Proportion', proportions,\n",
        "    'Benford proportion', benford_model\n",
        ")\n",
        "by_digit.drop('count').barh('First digit')"
      ]
    },
    {
      "cell_type": "markdown",
      "id": "1a23825b-3cf8-4a0b-92a8-c49662c3cbba",
      "metadata": {
        "id": "1a23825b-3cf8-4a0b-92a8-c49662c3cbba"
      },
      "source": [
        "---"
      ]
    },
    {
      "cell_type": "markdown",
      "id": "74b5eea7-d49d-4cb7-830b-b2ceb92bb3e1",
      "metadata": {
        "deletable": false,
        "editable": false,
        "id": "74b5eea7-d49d-4cb7-830b-b2ceb92bb3e1"
      },
      "source": [
        "<!-- BEGIN QUESTION -->\n",
        "\n",
        "Define hypotheses and a test statistic based on the above scenario that would allow you to test whether or not the distribution of proportions in `counties` is consistent with Benford's model. Based on your test statistic, which values (bigger or smaller) of the test statistic favor the alternative?"
      ]
    },
    {
      "cell_type": "markdown",
      "id": "0dcfb8f1",
      "metadata": {
        "id": "0dcfb8f1"
      },
      "source": [
        "_Type your answer here, replacing this text._"
      ]
    },
    {
      "cell_type": "markdown",
      "id": "e2b836d5-7d00-488f-8782-32c6bf65de1d",
      "metadata": {
        "deletable": false,
        "editable": false,
        "id": "e2b836d5-7d00-488f-8782-32c6bf65de1d"
      },
      "source": [
        "<!-- END QUESTION -->\n",
        "\n",
        "---"
      ]
    },
    {
      "cell_type": "markdown",
      "id": "867638c2-b752-42e9-b8ca-6ec22e0b81ed",
      "metadata": {
        "deletable": false,
        "editable": false,
        "id": "867638c2-b752-42e9-b8ca-6ec22e0b81ed"
      },
      "source": [
        "Calculate the observed TVD and create a distribution of simulated TVDs under the null hypothesis."
      ]
    },
    {
      "cell_type": "markdown",
      "id": "29338e9b-b8bb-4ab5-bdfd-142c6fb9dbf8",
      "metadata": {
        "id": "29338e9b-b8bb-4ab5-bdfd-142c6fb9dbf8"
      },
      "source": [
        "VB\n",
        "step 1-test statistic\n",
        "step 2-compute on our observed data/population\n",
        "step 3-simulate the test statistic 10.000 times\n",
        "step 4-plot this on graph to see difference"
      ]
    },
    {
      "cell_type": "code",
      "execution_count": null,
      "id": "a3d0b30c-1e5e-4444-93f1-5c8480d5b7e8",
      "metadata": {
        "tags": [],
        "id": "a3d0b30c-1e5e-4444-93f1-5c8480d5b7e8"
      },
      "outputs": [],
      "source": [
        "def tvd(arr1, arr2):\n",
        "    return np.sum(np.abs(arr1 - arr2)) / 2"
      ]
    },
    {
      "cell_type": "code",
      "execution_count": null,
      "id": "f989b1be-d039-4c41-ba32-9e70bc69eb23",
      "metadata": {
        "tags": [],
        "id": "f989b1be-d039-4c41-ba32-9e70bc69eb23",
        "outputId": "c50bff6c-20bd-4bee-e966-2d4c8aee414f"
      },
      "outputs": [
        {
          "data": {
            "text/plain": [
              "0.019227569718005835"
            ]
          },
          "execution_count": 13,
          "metadata": {},
          "output_type": "execute_result"
        }
      ],
      "source": [
        "observed_tvd = tvd(proportions, benford_model)\n",
        "observed_tvd"
      ]
    },
    {
      "cell_type": "code",
      "execution_count": null,
      "id": "8439804a-b737-463a-995f-8bb3dbad9abf",
      "metadata": {
        "tags": [],
        "id": "8439804a-b737-463a-995f-8bb3dbad9abf",
        "outputId": "fb4af0d6-278a-473b-8982-163d627179fb"
      },
      "outputs": [
        {
          "data": {
            "text/plain": [
              "array([ 0.29439847,  0.18650541,  0.1257161 ,  0.09197963,  0.07638447,\n",
              "        0.0709739 ,  0.05506047,  0.04742202,  0.05155952])"
            ]
          },
          "execution_count": 14,
          "metadata": {},
          "output_type": "execute_result"
        }
      ],
      "source": [
        "sample_proportions(num_counties, benford_model)"
      ]
    },
    {
      "cell_type": "code",
      "execution_count": null,
      "id": "b1d1d9eb-c5ce-4d6f-b0c0-890364b961a1",
      "metadata": {
        "tags": [],
        "id": "b1d1d9eb-c5ce-4d6f-b0c0-890364b961a1",
        "outputId": "0b0efe52-53ba-4845-99b5-3e315dab6a90"
      },
      "outputs": [
        {
          "data": {
            "text/plain": [
              "0.024151819755194336"
            ]
          },
          "execution_count": 15,
          "metadata": {},
          "output_type": "execute_result"
        }
      ],
      "source": [
        "simulated_frequencies = sample_proportions(num_counties, benford_model)\n",
        "tvd(simulated_frequencies, benford_model)"
      ]
    },
    {
      "cell_type": "code",
      "execution_count": null,
      "id": "c813cd88-50ad-4569-84a5-568299166783",
      "metadata": {
        "tags": [],
        "id": "c813cd88-50ad-4569-84a5-568299166783"
      },
      "outputs": [],
      "source": [
        "def simulate_county_first_digits():\n",
        "    simulated_frequencies = sample_proportions(num_counties, benford_model)\n",
        "    return tvd(simulated_frequencies, benford_model)"
      ]
    },
    {
      "cell_type": "code",
      "execution_count": null,
      "id": "bcbe0edd-e327-4983-a936-0495ffbfb8f1",
      "metadata": {
        "tags": [],
        "id": "bcbe0edd-e327-4983-a936-0495ffbfb8f1"
      },
      "outputs": [],
      "source": [
        "simulated_tvds = make_array()\n",
        "reps = 10_000\n",
        "\n",
        "for __ in np.arange(reps):\n",
        "    simulated_tvds = np.append(simulated_tvds, simulate_county_first_digits())"
      ]
    },
    {
      "cell_type": "code",
      "execution_count": null,
      "id": "59c46ffa-c74a-4574-b78e-51607ca9070b",
      "metadata": {
        "tags": [],
        "id": "59c46ffa-c74a-4574-b78e-51607ca9070b",
        "outputId": "8baa178a-e660-4b1e-e991-acb1486269d7"
      },
      "outputs": [
        {
          "data": {
            "image/png": "[encoded data removed]",
            "text/plain": [
              "<Figure size 600x400 with 1 Axes>"
            ]
          },
          "metadata": {},
          "output_type": "display_data"
        }
      ],
      "source": [
        "Table().with_column('Simulated TVD', simulated_tvds).hist(0)\n",
        "plt.plot([observed_tvd, observed_tvd], [0, 100], 'y--')\n",
        "plt.show()"
      ]
    },
    {
      "cell_type": "code",
      "execution_count": null,
      "id": "74997ce2-b3a1-454a-b53e-cd5024285e2c",
      "metadata": {
        "tags": [],
        "id": "74997ce2-b3a1-454a-b53e-cd5024285e2c",
        "outputId": "620461f4-9b28-4858-be63-263ef6ece563"
      },
      "outputs": [
        {
          "data": {
            "text/plain": [
              "0.4326"
            ]
          },
          "execution_count": 19,
          "metadata": {},
          "output_type": "execute_result"
        }
      ],
      "source": [
        "benfords_p_value = np.count_nonzero(simulated_tvds >= observed_tvd) / reps\n",
        "benfords_p_value"
      ]
    },
    {
      "cell_type": "code",
      "execution_count": null,
      "id": "9e95a433-20fb-4317-87bf-d65da14ff130",
      "metadata": {
        "id": "9e95a433-20fb-4317-87bf-d65da14ff130"
      },
      "outputs": [],
      "source": [
        "simulated_tvds = make_array()\n",
        "reps = 100000\n",
        "\n",
        "for __ in np.arange(reps):\n",
        "    simulated_tvds = np.append(simulated_tvds, simulate_county_first_digits())"
      ]
    },
    {
      "cell_type": "code",
      "execution_count": null,
      "id": "1658192a-0c10-4935-8455-2f4059266f6e",
      "metadata": {
        "id": "1658192a-0c10-4935-8455-2f4059266f6e",
        "outputId": "5a7e42a9-eee0-4f02-b587-e8ceabf29542"
      },
      "outputs": [
        {
          "data": {
            "image/png": "[encoded data removed]",
            "text/plain": [
              "<Figure size 600x400 with 1 Axes>"
            ]
          },
          "metadata": {},
          "output_type": "display_data"
        }
      ],
      "source": [
        "Table().with_column('Simulated TVD', simulated_tvds).hist(0)\n",
        "plt.plot([observed_tvd, observed_tvd], [0, 100], 'y--')\n",
        "plt.show()"
      ]
    },
    {
      "cell_type": "markdown",
      "id": "744a6a38-db20-44ca-ab1f-8074352a77b0",
      "metadata": {
        "id": "744a6a38-db20-44ca-ab1f-8074352a77b0"
      },
      "source": [
        "---"
      ]
    },
    {
      "cell_type": "markdown",
      "id": "2ae952e9-b9ac-48f9-8559-8c903efdf3de",
      "metadata": {
        "deletable": false,
        "editable": false,
        "id": "2ae952e9-b9ac-48f9-8559-8c903efdf3de"
      },
      "source": [
        "<!-- BEGIN QUESTION -->\n",
        "\n",
        "Are the data consistent with the null hypothesis?"
      ]
    },
    {
      "cell_type": "markdown",
      "id": "47a27e24",
      "metadata": {
        "id": "47a27e24"
      },
      "source": [
        "_Type your answer here, replacing this text._"
      ]
    },
    {
      "cell_type": "markdown",
      "id": "854f7698-319a-40ca-94d9-52f3e602042f",
      "metadata": {
        "deletable": false,
        "editable": false,
        "id": "854f7698-319a-40ca-94d9-52f3e602042f"
      },
      "source": [
        "<!-- END QUESTION -->\n",
        "\n",
        "---"
      ]
    },
    {
      "cell_type": "markdown",
      "id": "22d8b86c-3eb3-4d06-bb53-03743833db3e",
      "metadata": {
        "id": "22d8b86c-3eb3-4d06-bb53-03743833db3e"
      },
      "source": [
        "## Therapy Recovery Time"
      ]
    },
    {
      "cell_type": "markdown",
      "id": "2fb342a2-4057-4fee-881c-6f508ab90c0c",
      "metadata": {
        "id": "2fb342a2-4057-4fee-881c-6f508ab90c0c"
      },
      "source": [
        "* Two groups of patients are being treated with different therapies.\n",
        "* The patients were randomly assigned to the two therapies.\n",
        "* One group receives Therapy A, and the other group receives Therapy B.\n",
        "* Both therapies are effective at treating the patient's symptoms.\n",
        "* The goal of this research is to determine which therapy is more effective in reducing recovery time."
      ]
    },
    {
      "cell_type": "markdown",
      "id": "90c2ae85-9ec5-4477-971b-5f1858c9c1f2",
      "metadata": {
        "id": "90c2ae85-9ec5-4477-971b-5f1858c9c1f2"
      },
      "source": [
        "---"
      ]
    },
    {
      "cell_type": "markdown",
      "id": "40c599a1-6338-4549-bf0b-835f0f989e97",
      "metadata": {
        "id": "40c599a1-6338-4549-bf0b-835f0f989e97"
      },
      "source": [
        "### The Data"
      ]
    },
    {
      "cell_type": "markdown",
      "id": "7f548839-2bdf-448a-bff5-5fe092e60c03",
      "metadata": {
        "id": "7f548839-2bdf-448a-bff5-5fe092e60c03"
      },
      "source": [
        "The following table `recovery` contains the therapy type and recovery time (in hours) for 200 patients."
      ]
    },
    {
      "cell_type": "code",
      "execution_count": null,
      "id": "637d6074-a2e8-41c4-8e8e-e0b6062366fe",
      "metadata": {
        "id": "637d6074-a2e8-41c4-8e8e-e0b6062366fe"
      },
      "outputs": [],
      "source": [
        "recovery = Table.read_table('recovery.csv')\n",
        "recovery"
      ]
    },
    {
      "cell_type": "markdown",
      "id": "f388e66f-f6be-416f-9ca5-79ad47cac7f3",
      "metadata": {
        "id": "f388e66f-f6be-416f-9ca5-79ad47cac7f3"
      },
      "source": [
        "---"
      ]
    },
    {
      "cell_type": "markdown",
      "id": "cbb527b9-4318-426a-a125-fb53b9f818b1",
      "metadata": {
        "id": "cbb527b9-4318-426a-a125-fb53b9f818b1"
      },
      "source": [
        "### Demo: Comparing Mean Recovery Times"
      ]
    },
    {
      "cell_type": "markdown",
      "id": "534a9f01-ab1c-40f3-87ec-fcbadbd2d956",
      "metadata": {
        "deletable": false,
        "editable": false,
        "id": "534a9f01-ab1c-40f3-87ec-fcbadbd2d956"
      },
      "source": [
        "For the observed data, what are the two mean recovery times?"
      ]
    },
    {
      "cell_type": "code",
      "execution_count": null,
      "id": "4cc0a9f9-7951-4e87-9f40-88ef60fd2240",
      "metadata": {
        "editable": true,
        "tags": [],
        "id": "4cc0a9f9-7951-4e87-9f40-88ef60fd2240"
      },
      "outputs": [],
      "source": [
        "therapy_A_mean_recovery_time = ...\n",
        "therapy_B_mean_recovery_time = ...\n",
        "\n",
        "print(f'The mean recovery times are:\\n  \\\n",
        "Therapy A: {therapy_A_mean_recovery_time:.2f} hours\\n  \\\n",
        "Therapy B: {therapy_B_mean_recovery_time:.2f} hours')"
      ]
    },
    {
      "cell_type": "markdown",
      "id": "ccb7eca0-15e2-4bb0-b1e3-85e4903ad45e",
      "metadata": {
        "id": "ccb7eca0-15e2-4bb0-b1e3-85e4903ad45e"
      },
      "source": [
        "---"
      ]
    },
    {
      "cell_type": "markdown",
      "id": "22352f2f-e5ce-48e4-b8b9-8df91d718a1e",
      "metadata": {
        "tags": [],
        "id": "22352f2f-e5ce-48e4-b8b9-8df91d718a1e"
      },
      "source": [
        "### Demo: Testing Therapy Recovery Time"
      ]
    },
    {
      "cell_type": "markdown",
      "id": "03acea87-26c0-4119-a23c-19acda04085b",
      "metadata": {
        "deletable": false,
        "editable": false,
        "id": "03acea87-26c0-4119-a23c-19acda04085b"
      },
      "source": [
        "<!-- BEGIN QUESTION -->\n",
        "\n",
        "Create two hypotheses to use to test which therapy is more effective in reducing the recovery time."
      ]
    },
    {
      "cell_type": "markdown",
      "id": "9ae5fab0",
      "metadata": {
        "id": "9ae5fab0"
      },
      "source": [
        "_Type your answer here, replacing this text._"
      ]
    },
    {
      "cell_type": "markdown",
      "id": "23853c6e-092d-454e-8792-45b1c8d878bb",
      "metadata": {
        "deletable": false,
        "editable": false,
        "id": "23853c6e-092d-454e-8792-45b1c8d878bb"
      },
      "source": [
        "<!-- END QUESTION -->\n",
        "\n",
        "---"
      ]
    },
    {
      "cell_type": "markdown",
      "id": "b62ffea0-1ed2-46d8-94b1-b83391d3775a",
      "metadata": {
        "deletable": false,
        "editable": false,
        "id": "b62ffea0-1ed2-46d8-94b1-b83391d3775a"
      },
      "source": [
        "Create a test statistic (function) to perform a hypothesis test, and use that function with `recovery` to calculate the observed test statistic."
      ]
    },
    {
      "cell_type": "code",
      "execution_count": null,
      "id": "028a5d99-77ae-4cb1-b60c-b3099e7e4afc",
      "metadata": {
        "editable": true,
        "tags": [],
        "id": "028a5d99-77ae-4cb1-b60c-b3099e7e4afc"
      },
      "outputs": [],
      "source": [
        "# Define the function\n",
        "def test_stat(tbl):\n",
        "    by_label = ...\n",
        "    therapy_A_mean_recovery_time = ...\n",
        "    therapy_B_mean_recovery_time = ...\n",
        "    ...\n",
        "\n",
        "# Apply the function to calculate the observed test statistic\n",
        "observed_test_stat = ...\n",
        "observed_test_stat"
      ]
    },
    {
      "cell_type": "markdown",
      "id": "43951176-4969-4a14-b397-8f43723b9416",
      "metadata": {
        "id": "43951176-4969-4a14-b397-8f43723b9416"
      },
      "source": [
        "---"
      ]
    },
    {
      "cell_type": "markdown",
      "id": "c15f9cbb-328f-491c-9ae5-9d4ae3883541",
      "metadata": {
        "deletable": false,
        "editable": false,
        "id": "c15f9cbb-328f-491c-9ae5-9d4ae3883541"
      },
      "source": [
        "Simulate generating 1,000 data sets similar to `recovery` under the null hypothesis, calculate the test statistic for each simulation, and store the values in the array `simulated_test_stats`."
      ]
    },
    {
      "cell_type": "code",
      "execution_count": null,
      "id": "8ea12c87-1223-4eed-b8df-a4f4f4a7e907",
      "metadata": {
        "editable": true,
        "tags": [],
        "id": "8ea12c87-1223-4eed-b8df-a4f4f4a7e907"
      },
      "outputs": [],
      "source": [
        "simulated_test_stats = ...\n",
        "...\n",
        "    shuffled_labels = ...\n",
        "    shuffled_tbl = ...\n",
        "    simulated_test_stats = ..."
      ]
    },
    {
      "cell_type": "markdown",
      "id": "7e350101-f064-4a39-a643-17b0564349fa",
      "metadata": {
        "id": "7e350101-f064-4a39-a643-17b0564349fa"
      },
      "source": [
        "---"
      ]
    },
    {
      "cell_type": "markdown",
      "id": "2aefadf4-f399-44ff-8658-99857ebfec4a",
      "metadata": {
        "deletable": false,
        "editable": false,
        "id": "2aefadf4-f399-44ff-8658-99857ebfec4a"
      },
      "source": [
        "Visualize the distribution of simulated test statistics with the observed test statistic and calculate the p-value."
      ]
    },
    {
      "cell_type": "code",
      "execution_count": null,
      "id": "2a8de9e4-4320-4138-b83e-f8b8515c3e49",
      "metadata": {
        "editable": true,
        "tags": [],
        "id": "2a8de9e4-4320-4138-b83e-f8b8515c3e49"
      },
      "outputs": [],
      "source": [
        "# Histogram\n",
        "Table().with_column('Simulated Test Statistics', simulated_test_stats).hist(unit='Hour')\n",
        "plt.plot([observed_test_stat, observed_test_stat], [0, 1], 'y--')\n",
        "plt.show()\n",
        "\n",
        "# p-value\n",
        "p_value = ...\n",
        "print(f'The p-value is {p_value}')"
      ]
    },
    {
      "cell_type": "markdown",
      "id": "26178fa1-2803-48d2-9c43-15112aff0828",
      "metadata": {
        "id": "26178fa1-2803-48d2-9c43-15112aff0828"
      },
      "source": [
        "---"
      ]
    },
    {
      "cell_type": "markdown",
      "id": "e99d8034-c6cb-481e-a770-83fb254307ca",
      "metadata": {
        "deletable": false,
        "editable": false,
        "id": "e99d8034-c6cb-481e-a770-83fb254307ca"
      },
      "source": [
        "<!-- BEGIN QUESTION -->\n",
        "\n",
        "What can you conclude from the results of this study?"
      ]
    },
    {
      "cell_type": "markdown",
      "id": "520212bd",
      "metadata": {
        "id": "520212bd"
      },
      "source": [
        "_Type your answer here, replacing this text._"
      ]
    },
    {
      "cell_type": "markdown",
      "id": "1045530d-4523-4d2c-88c9-740997a78bdd",
      "metadata": {
        "deletable": false,
        "editable": false,
        "id": "1045530d-4523-4d2c-88c9-740997a78bdd"
      },
      "source": [
        "<!-- END QUESTION -->\n",
        "\n",
        "---"
      ]
    },
    {
      "cell_type": "markdown",
      "id": "aefd40c7-384e-47ad-821f-10c5fcca1add",
      "metadata": {
        "id": "aefd40c7-384e-47ad-821f-10c5fcca1add"
      },
      "source": [
        "## Hypothesis Test Concerns"
      ]
    },
    {
      "cell_type": "markdown",
      "id": "afe6bfba-3f05-44c9-a5c4-89cc2b53bf0b",
      "metadata": {
        "id": "afe6bfba-3f05-44c9-a5c4-89cc2b53bf0b"
      },
      "source": [
        "The outcome of a hypothesis test can be affected by:\n",
        "* The hypotheses you investigate:\n",
        "    * How do you define your null distribution?\n",
        "* The test statistic you choose:\n",
        "    * How do you measure a difference between samples?\n",
        "* The empirical distribution of the statistic under the null:\n",
        "    * How many times do you simulate under the null distribution?\n",
        "* The data you collected:\n",
        "    * Did you happen to collect a sample that is similar to the population?\n",
        "* The truth:\n",
        "    * If the alternative hypothesis is true, how extreme is the difference?"
      ]
    },
    {
      "cell_type": "markdown",
      "id": "9540d2ba-b4c2-4975-bf5d-cd93770169d9",
      "metadata": {
        "id": "9540d2ba-b4c2-4975-bf5d-cd93770169d9"
      },
      "source": [
        "---"
      ]
    },
    {
      "cell_type": "markdown",
      "id": "39027cf7-19ef-49c6-8189-1ef34184eeee",
      "metadata": {
        "id": "39027cf7-19ef-49c6-8189-1ef34184eeee"
      },
      "source": [
        "## Hypothesis Test Effects"
      ]
    },
    {
      "cell_type": "markdown",
      "id": "2ac9577d-0e1b-43d3-ad2f-f6c34cffb707",
      "metadata": {
        "id": "2ac9577d-0e1b-43d3-ad2f-f6c34cffb707"
      },
      "source": [
        "* Number of simulations:\n",
        "    * large as possible: empirical distribution → true distribution\n",
        "    * No new data needs to be collected (yay!)\n",
        "* Number of observations:\n",
        "    * A larger sample will lead you to reject the null more reliably if the alternative is in fact true.\n",
        "* Difference from the null:\n",
        "    * If truth is similar to the null hypothesis, then even a large sample may not provide enough evidence to reject the null.\n"
      ]
    },
    {
      "cell_type": "markdown",
      "id": "b5cd2696-d51a-4b83-96b7-588e292ce797",
      "metadata": {
        "id": "b5cd2696-d51a-4b83-96b7-588e292ce797"
      },
      "source": [
        "---"
      ]
    },
    {
      "cell_type": "markdown",
      "id": "2e5ac252-bebc-4605-87bd-d8ea6a9f594a",
      "metadata": {
        "editable": true,
        "tags": [],
        "id": "2e5ac252-bebc-4605-87bd-d8ea6a9f594a"
      },
      "source": [
        "## Attribution"
      ]
    },
    {
      "cell_type": "markdown",
      "id": "3d27fa19-35a7-4ce5-b375-b9b0d140cd29",
      "metadata": {
        "id": "3d27fa19-35a7-4ce5-b375-b9b0d140cd29"
      },
      "source": [
        "This content is licensed under the <a href=\"https://creativecommons.org/licenses/by-nc-sa/4.0/\">Creative Commons Attribution-NonCommercial-ShareAlike 4.0 International License (CC BY-NC-SA 4.0)</a> and derived from the <a href=\"https://www.data8.org/\">Data 8: The Foundations of Data Science</a> offered by the University of California, Berkeley.\n",
        "\n",
        "<img src=\"./by-nc-sa.png\" width=100px>"
      ]
    }
  ],
  "metadata": {
    "kernelspec": {
      "display_name": "Python 3 (ipykernel)",
      "language": "python",
      "name": "python3"
    },
    "language_info": {
      "codemirror_mode": {
        "name": "ipython",
        "version": 3
      },
      "file_extension": ".py",
      "mimetype": "text/x-python",
      "name": "python",
      "nbconvert_exporter": "python",
      "pygments_lexer": "ipython3",
      "version": "3.11.9"
    },
    "otter": {
      "OK_FORMAT": true,
      "tests": {}
    },
    "colab": {
      "provenance": [],
      "include_colab_link": true
    }
  },
  "nbformat": 4,
  "nbformat_minor": 5
}