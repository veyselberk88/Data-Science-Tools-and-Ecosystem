{
  "cells": [
    {
      "cell_type": "markdown",
      "metadata": {
        "id": "view-in-github",
        "colab_type": "text"
      },
      "source": [
        "<a href=\"https://colab.research.google.com/github/veyselberk88/Data-Science-Tools-and-Ecosystem/blob/main/lab12.ipynb\" target=\"_parent\"><img src=\"https://colab.research.google.com/assets/colab-badge.svg\" alt=\"Open In Colab\"/></a>"
      ]
    },
    {
      "cell_type": "code",
      "execution_count": null,
      "id": "c2db2f90",
      "metadata": {
        "deletable": false,
        "editable": false,
        "id": "c2db2f90"
      },
      "outputs": [],
      "source": [
        "# Initialize Otter\n",
        "import otter\n",
        "grader = otter.Notebook(\"lab12.ipynb\")"
      ]
    },
    {
      "cell_type": "markdown",
      "id": "61d889be-3e6f-40d7-846f-4129a5402cfe",
      "metadata": {
        "id": "61d889be-3e6f-40d7-846f-4129a5402cfe"
      },
      "source": [
        "<img src=\"./ccsf.png\" alt=\"CCSF Logo\" width=200px style=\"margin:0px -5px\">"
      ]
    },
    {
      "cell_type": "markdown",
      "id": "87eb6b5e-e422-4f17-9e2b-fab4015bfb3e",
      "metadata": {
        "id": "87eb6b5e-e422-4f17-9e2b-fab4015bfb3e"
      },
      "source": [
        "# Lab 12: Residuals"
      ]
    },
    {
      "cell_type": "markdown",
      "id": "ec555451-3f29-4c5b-8b30-ec27fc678da1",
      "metadata": {
        "id": "ec555451-3f29-4c5b-8b30-ec27fc678da1"
      },
      "source": [
        "## References"
      ]
    },
    {
      "cell_type": "markdown",
      "id": "ef034bcf-89b5-4fe6-8057-2fccb1ad484e",
      "metadata": {
        "id": "ef034bcf-89b5-4fe6-8057-2fccb1ad484e"
      },
      "source": [
        "* [Sections 15.0 - 15.6 of the Textbook](https://ccsf-math-108.github.io/textbook/chapters/15/Prediction.html)\n",
        "* [Sections 16.0 - 16.3 of the Textbook](https://ccsf-math-108.github.io/textbook/chapters/16/Inference_for_Regression.html)\n",
        "* [datascience Documentation](https://datascience.readthedocs.io/)\n",
        "* [Code Reference](https://ccsf-math-108.github.io/materials-sp25/resources/code-reference.html)"
      ]
    },
    {
      "cell_type": "markdown",
      "id": "2fdf9252-6b67-4f16-b53f-fb481ff6eba8",
      "metadata": {
        "id": "2fdf9252-6b67-4f16-b53f-fb481ff6eba8"
      },
      "source": [
        "---"
      ]
    },
    {
      "cell_type": "markdown",
      "id": "7c835815-2423-43fe-9f50-924c7aef3956",
      "metadata": {
        "id": "7c835815-2423-43fe-9f50-924c7aef3956"
      },
      "source": [
        "## Lab Assignment Reminders"
      ]
    },
    {
      "cell_type": "markdown",
      "id": "1f1c0a3b-1177-4d98-bbe8-bb3c2954cfbd",
      "metadata": {
        "id": "1f1c0a3b-1177-4d98-bbe8-bb3c2954cfbd"
      },
      "source": [
        "- 🚨 Make sure to run the code cell at the top of this notebook that starts with `# Initialize Otter` to load the auto-grader.\n",
        "- Your tasks are categorized as auto-graded (📍) and manually graded (📍🔎):\n",
        "    - **For all auto-graded tasks:**\n",
        "        - Replace the `...` in the provided code cell with your own code.\n",
        "        - Run the `grader.check` code cell to execute tests on your code.\n",
        "        - There are no hidden auto-grader tests in the lab assignments. This means if you pass the tests, you can assume you've completed the task successfully.\n",
        "    - **For all manually graded tasks:**\n",
        "        - You may need to provide your own response to the provided prompt. Replace the template text \"_Type your answer here, replacing this text._\" with your own words.\n",
        "        - You might need to produce a graphic or another output using code. Replace the `...` in the code cell to generate the image, table, etc.\n",
        "        - In either case, check your response with a classmate, a tutor, or the instructor before moving on.\n",
        "- Throughout this assignment and all future ones, please **do not re-assign variables** throughout the notebook! _For example, if you use `max_temperature` in your answer to one question, do not reassign it later on. Otherwise, you may fail tests that you thought you were passing previously!_\n",
        "- You may [submit](#Submit-Your-Assignment-to-Canvas) this assignment as many times as you want before the deadline. Your instructor will score the last version you submit once the deadline has passed.\n",
        "- **Collaborating on labs is encouraged!** You should rarely remain stuck for more than a few minutes on questions in labs, so ask an instructor or classmate for help. (Explaining things is beneficial, too -- the best way to solidify your knowledge of a subject is to explain it.) However, please don't just share answers."
      ]
    },
    {
      "cell_type": "markdown",
      "id": "289834bf-7f33-416a-87fa-40f6ec43bb27",
      "metadata": {
        "id": "289834bf-7f33-416a-87fa-40f6ec43bb27"
      },
      "source": [
        "---"
      ]
    },
    {
      "cell_type": "markdown",
      "id": "2cfabf29-da92-401f-8c3f-0a7b20f10518",
      "metadata": {
        "id": "2cfabf29-da92-401f-8c3f-0a7b20f10518"
      },
      "source": [
        "## Configure the Notebook"
      ]
    },
    {
      "cell_type": "markdown",
      "id": "a2d74e06-177f-40a8-8c5b-7f16c1510424",
      "metadata": {
        "id": "a2d74e06-177f-40a8-8c5b-7f16c1510424"
      },
      "source": [
        "Run the following cell to configure this Notebook."
      ]
    },
    {
      "cell_type": "code",
      "execution_count": null,
      "id": "7fb6ad0f-fda5-4fab-af1e-cbf211cd8d3a",
      "metadata": {
        "id": "7fb6ad0f-fda5-4fab-af1e-cbf211cd8d3a"
      },
      "outputs": [],
      "source": [
        "from datascience import *\n",
        "import numpy as np\n",
        "%matplotlib inline\n",
        "import matplotlib.pyplot as plt\n",
        "plt.style.use('fivethirtyeight')"
      ]
    },
    {
      "cell_type": "markdown",
      "id": "08c33753-d096-462d-8a28-bdb17e12d0b3",
      "metadata": {
        "id": "08c33753-d096-462d-8a28-bdb17e12d0b3"
      },
      "source": [
        "---"
      ]
    },
    {
      "cell_type": "markdown",
      "id": "d59d63de-30e6-4b74-8007-6a549fc0eaca",
      "metadata": {
        "id": "d59d63de-30e6-4b74-8007-6a549fc0eaca"
      },
      "source": [
        "## ✈️ San Francisco International Airport Utility Usage"
      ]
    },
    {
      "cell_type": "markdown",
      "id": "7d91f176-012f-4143-91ec-22b9ef90d90a",
      "metadata": {
        "id": "7d91f176-012f-4143-91ec-22b9ef90d90a"
      },
      "source": [
        "<img src=\"sfo.webp\" width=80% alt=\"The SFO Internation temrinal\">"
      ]
    },
    {
      "cell_type": "markdown",
      "id": "08bac88c-ab91-4fca-8b03-e041e8df7637",
      "metadata": {
        "id": "08bac88c-ab91-4fca-8b03-e041e8df7637"
      },
      "source": [
        "The San Francisco International Airport (SFO) utilizes a lot of utilities. The data in `sfo_usage.csv` includes the total monthly utility consumption for the electricity (`'electricity'`), natural gas (`'gas'`), and water (`'water'`) utilities. This data was sourced from the [SFO Airport Monthly Utility Consumption for Natural Gas, Water, and Electricity page](https://data.sfgov.org/Energy-and-Environment/SFO-Airport-Monthly-Utility-Consumption-for-Natura/gcjv-3mzf/about_data) on data.sfgov.org. The units for each utility are:\n",
        "\n",
        "* Electricity: kWh\n",
        "* Natural Gas: therms\n",
        "* Water: million gallons\n",
        "\n",
        "The `'passengers'` column contains the total number of passengers in SFO for the given month.\n",
        "\n",
        "**Run the following cell to load the data in the table `sfo`.**"
      ]
    },
    {
      "cell_type": "code",
      "execution_count": null,
      "id": "7bacd78e-874b-4d61-98c8-55f8b0927f54",
      "metadata": {
        "id": "7bacd78e-874b-4d61-98c8-55f8b0927f54",
        "outputId": "cdbfbf6b-a152-4f9d-f22b-a441e4f1f494"
      },
      "outputs": [
        {
          "data": {
            "text/html": [
              "<table border=\"1\" class=\"dataframe\">\n",
              "    <thead>\n",
              "        <tr>\n",
              "            <th>date</th> <th>month</th> <th>month_number</th> <th>year</th> <th>electricity</th> <th>gas</th> <th>water</th> <th>passengers</th>\n",
              "        </tr>\n",
              "    </thead>\n",
              "    <tbody>\n",
              "        <tr>\n",
              "            <td>2013-01-01</td> <td>Jan  </td> <td>1           </td> <td>2013</td> <td>2.69065e+07</td> <td>412598</td> <td>31.0368</td> <td>3.20936e+06</td>\n",
              "        </tr>\n",
              "        <tr>\n",
              "            <td>2013-02-01</td> <td>Feb  </td> <td>2           </td> <td>2013</td> <td>2.44482e+07</td> <td>368066</td> <td>28.8347</td> <td>2.96895e+06</td>\n",
              "        </tr>\n",
              "        <tr>\n",
              "            <td>2013-03-01</td> <td>Mar  </td> <td>3           </td> <td>2013</td> <td>2.76641e+07</td> <td>363378</td> <td>28.8376</td> <td>3.59997e+06</td>\n",
              "        </tr>\n",
              "    </tbody>\n",
              "</table>\n",
              "<p>... (77 rows omitted)</p>"
            ],
            "text/plain": [
              "<IPython.core.display.HTML object>"
            ]
          },
          "metadata": {},
          "output_type": "display_data"
        }
      ],
      "source": [
        "sfo = Table.read_table('sfo.csv')\n",
        "sfo.show(3)"
      ]
    },
    {
      "cell_type": "markdown",
      "id": "15114fcb-7549-4040-bffb-9ff8d469d81d",
      "metadata": {
        "id": "15114fcb-7549-4040-bffb-9ff8d469d81d"
      },
      "source": [
        "In this lab, you'll create models to predict the usage of electricity from the usage of water and evaluate the model by analyzing the residuals."
      ]
    },
    {
      "cell_type": "markdown",
      "id": "41f4872e-e4fa-4de7-9070-362146c54c12",
      "metadata": {
        "id": "41f4872e-e4fa-4de7-9070-362146c54c12"
      },
      "source": [
        "---"
      ]
    },
    {
      "cell_type": "markdown",
      "id": "68d2cc18-6b20-4fc4-945f-3f7b8aff11aa",
      "metadata": {
        "tags": [],
        "id": "68d2cc18-6b20-4fc4-945f-3f7b8aff11aa"
      },
      "source": [
        "### Task 01 📍🔎"
      ]
    },
    {
      "cell_type": "markdown",
      "id": "dd2268b5-ae23-4ed8-973a-d1a1734c546a",
      "metadata": {
        "deletable": false,
        "editable": false,
        "id": "dd2268b5-ae23-4ed8-973a-d1a1734c546a"
      },
      "source": [
        "<!-- BEGIN QUESTION -->\n",
        "\n",
        "To start, create a scatter plot showing the relationship between electricity and water usage with the least squares regression line overlaid on the scatter plot.\n",
        "\n",
        "**Note:** Use the `fit_line=True` parameter for the `scatter` method.\n",
        "\n",
        "_Check your graph with a classmate, a tutor, or the instructor since there are no auto-grader tests for this task._"
      ]
    },
    {
      "cell_type": "code",
      "execution_count": null,
      "id": "a9327a81-8135-4593-b797-71b8c2799f7d",
      "metadata": {
        "tags": [],
        "id": "a9327a81-8135-4593-b797-71b8c2799f7d",
        "outputId": "d14dd47f-31c7-4c7e-c9ec-063602518204"
      },
      "outputs": [
        {
          "data": {
            "image/png": "[encoded data removed]",
            "text/plain": [
              "<Figure size 500x500 with 1 Axes>"
            ]
          },
          "metadata": {},
          "output_type": "display_data"
        }
      ],
      "source": [
        "sfo.scatter('water','electricity',fit_line=True)\n",
        "plt.title('Electricty vs. Water')\n",
        "plt.show()"
      ]
    },
    {
      "cell_type": "markdown",
      "id": "80d69196-f9e4-40f9-819b-7af269f67b8f",
      "metadata": {
        "deletable": false,
        "editable": false,
        "id": "80d69196-f9e4-40f9-819b-7af269f67b8f"
      },
      "source": [
        "<!-- END QUESTION -->\n",
        "\n",
        "---"
      ]
    },
    {
      "cell_type": "markdown",
      "id": "0cfe44b1-c9c7-4cb9-b739-bb9b2da8176d",
      "metadata": {
        "tags": [],
        "id": "0cfe44b1-c9c7-4cb9-b739-bb9b2da8176d"
      },
      "source": [
        "### Task 02 📍"
      ]
    },
    {
      "cell_type": "markdown",
      "id": "ec6a5949-e2d4-4528-be65-8f7fc764e368",
      "metadata": {
        "deletable": false,
        "editable": false,
        "id": "ec6a5949-e2d4-4528-be65-8f7fc764e368"
      },
      "source": [
        "Assign an array of integers to `electricity_water` where the integers correspond to the following statements that best describe the relationship between the gas and water usage based on the scatter plot.\n",
        "\n",
        "1. There is a positive association between the variables.\n",
        "2. There is a negative association between the variables.\n",
        "3. There is neither a positive association nor a negative association between the variables.\n",
        "4. The association between the variables is approximately linear.\n",
        "5. The association between the variables is nonlinear."
      ]
    },
    {
      "cell_type": "code",
      "execution_count": null,
      "id": "ace9544e-6338-4133-a6e3-725bf917238b",
      "metadata": {
        "tags": [],
        "id": "ace9544e-6338-4133-a6e3-725bf917238b"
      },
      "outputs": [],
      "source": [
        "electricity_water = make_array(1,5)"
      ]
    },
    {
      "cell_type": "code",
      "execution_count": null,
      "id": "7b266818",
      "metadata": {
        "deletable": false,
        "editable": false,
        "id": "7b266818",
        "outputId": "b83c9316-4125-42a6-bf03-381854187375"
      },
      "outputs": [
        {
          "data": {
            "text/html": [
              "<p><strong><pre style='display: inline;'>task_02</pre></strong> passed! ✨</p><p><strong><pre style='display: inline;'>task_02 - 1</pre> message:</strong> ✅ gas_water represents an array of integers.</p><p><strong><pre style='display: inline;'>task_02 - 2</pre> message:</strong> ✅ Great work. That is how we interpreted this graph as well.</p>"
            ],
            "text/plain": [
              "task_02 results: All test cases passed!\n",
              "task_02 - 1 message: ✅ gas_water represents an array of integers.\n",
              "task_02 - 2 message: ✅ Great work. That is how we interpreted this graph as well."
            ]
          },
          "execution_count": 16,
          "metadata": {},
          "output_type": "execute_result"
        }
      ],
      "source": [
        "grader.check(\"task_02\")"
      ]
    },
    {
      "cell_type": "markdown",
      "id": "6144143e-3891-4538-ab1a-e1dae3352f5e",
      "metadata": {
        "id": "6144143e-3891-4538-ab1a-e1dae3352f5e"
      },
      "source": [
        "---"
      ]
    },
    {
      "cell_type": "markdown",
      "id": "4b846bc1-e447-4b30-a8f0-374d289473e0",
      "metadata": {
        "id": "4b846bc1-e447-4b30-a8f0-374d289473e0"
      },
      "source": [
        "## Fitting Models"
      ]
    },
    {
      "cell_type": "markdown",
      "id": "4fa4f5fd-302b-4af8-b023-11601407636f",
      "metadata": {
        "id": "4fa4f5fd-302b-4af8-b023-11601407636f"
      },
      "source": [
        "There is some kind of relationship between the water and electricity usage at SFO. Now, you will fit the best linear model and the best quadratic model to the data. This part of the lab is a continuation of what you were learning last week."
      ]
    },
    {
      "cell_type": "markdown",
      "id": "5879c03a-2d51-499f-b597-a2ae20605f9c",
      "metadata": {
        "id": "5879c03a-2d51-499f-b597-a2ae20605f9c"
      },
      "source": [
        "---"
      ]
    },
    {
      "cell_type": "markdown",
      "id": "26f37735-a502-4874-8f99-ba9e418abb7f",
      "metadata": {
        "tags": [],
        "id": "26f37735-a502-4874-8f99-ba9e418abb7f"
      },
      "source": [
        "### Task 03 📍"
      ]
    },
    {
      "cell_type": "markdown",
      "id": "4a626f25-c440-4642-b31f-a219d31ae720",
      "metadata": {
        "deletable": false,
        "editable": false,
        "id": "4a626f25-c440-4642-b31f-a219d31ae720"
      },
      "source": [
        "A linear model has the form of `linear_predicted_electricity = slope * actual_water + intercept`.\n",
        "\n",
        "Create the function `linear_model_rmse` that returns the [RMSE](https://inferentialthinking.com/chapters/15/3/Method_of_Least_Squares.html#root-mean-squared-error) for a linear model fit to the electricity and water data in the `sfo` table.\n",
        "\n",
        "The code provided below the function definition will minimize the RMSE and return the approximate slope and the approximate intercept for the least square regression line.\n",
        "\n",
        "**Note:** Remember that we are defining error to be the actual $y$ value minus the predicted $y$ value."
      ]
    },
    {
      "cell_type": "code",
      "execution_count": null,
      "id": "e23bf6a5-1ad5-442b-af53-923dad01610d",
      "metadata": {
        "tags": [],
        "id": "e23bf6a5-1ad5-442b-af53-923dad01610d",
        "outputId": "aeee7151-3fb4-4f71-b36b-76f02b52dbf9"
      },
      "outputs": [
        {
          "name": "stdout",
          "output_type": "stream",
          "text": [
            "The approximate slope and intercept of the least squares linear regression line fit to this data are 113753.566 kWh/million gallons and 23136076.141 kWh.\n"
          ]
        }
      ],
      "source": [
        "def linear_model_rmse(slope, intercept):\n",
        "    actual_electricity = sfo.column('electricity')\n",
        "    actual_water = sfo.column('water')\n",
        "    linear_predicted_electricity = slope * actual_water + intercept\n",
        "    error = actual_electricity - linear_predicted_electricity\n",
        "    return np.sqrt(np.mean(error**2))\n",
        "\n",
        "# The following code uses the minimize function to determine the optimal\n",
        "# slope and intercept for the linear model based on your RMSE function.\n",
        "slope, intercept = minimize(linear_model_rmse)\n",
        "print(f'The approximate slope and intercept of the least squares linear \\\n",
        "regression line fit to this data are {slope:.3f} kWh/million gallons and {intercept:.3f} kWh.')"
      ]
    },
    {
      "cell_type": "code",
      "execution_count": null,
      "id": "02c57e1e",
      "metadata": {
        "deletable": false,
        "editable": false,
        "id": "02c57e1e",
        "outputId": "d22c69b4-4da0-4a72-a822-b2d4a7cd7a20"
      },
      "outputs": [
        {
          "data": {
            "text/html": [
              "<p><strong><pre style='display: inline;'>task_03</pre></strong> passed! 🙌</p><p><strong><pre style='display: inline;'>task_03 - 1</pre> message:</strong> ✅ Your function seems to be working correctly</p>"
            ],
            "text/plain": [
              "task_03 results: All test cases passed!\n",
              "task_03 - 1 message: ✅ Your function seems to be working correctly"
            ]
          },
          "execution_count": 19,
          "metadata": {},
          "output_type": "execute_result"
        }
      ],
      "source": [
        "grader.check(\"task_03\")"
      ]
    },
    {
      "cell_type": "markdown",
      "id": "ddbfe4b8-57c8-4551-9875-ff3cd3941dd2",
      "metadata": {
        "id": "ddbfe4b8-57c8-4551-9875-ff3cd3941dd2"
      },
      "source": [
        "---"
      ]
    },
    {
      "cell_type": "markdown",
      "id": "fd6130d4-cab3-4863-9f81-803977705a35",
      "metadata": {
        "tags": [],
        "id": "fd6130d4-cab3-4863-9f81-803977705a35"
      },
      "source": [
        "### Task 04 📍"
      ]
    },
    {
      "cell_type": "markdown",
      "id": "c7b65fcd-2838-443e-a396-b77ca3668ee4",
      "metadata": {
        "deletable": false,
        "editable": false,
        "id": "c7b65fcd-2838-443e-a396-b77ca3668ee4"
      },
      "source": [
        "Using the `slope` and `intercept` values calculated in the previous task, create a function called `linear_predict_electricity`. The function should return the predicted electricity usage for the provided water usage."
      ]
    },
    {
      "cell_type": "code",
      "execution_count": null,
      "id": "846a4206-c560-4ee8-a9f2-303b95e0567a",
      "metadata": {
        "tags": [],
        "id": "846a4206-c560-4ee8-a9f2-303b95e0567a",
        "outputId": "337a1c2e-504b-4a5c-c13e-b4a04b30ce78"
      },
      "outputs": [
        {
          "data": {
            "text/html": [
              "<table border=\"1\" class=\"dataframe\">\n",
              "    <thead>\n",
              "        <tr>\n",
              "            <th>date</th> <th>month</th> <th>month_number</th> <th>year</th> <th>electricity</th> <th>gas</th> <th>water</th> <th>passengers</th> <th>linear_electricity</th>\n",
              "        </tr>\n",
              "    </thead>\n",
              "    <tbody>\n",
              "        <tr>\n",
              "            <td>2013-01-01</td> <td>Jan  </td> <td>1           </td> <td>2013</td> <td>2.69065e+07</td> <td>412598</td> <td>31.0368</td> <td>3.20936e+06</td> <td>2.66666e+07       </td>\n",
              "        </tr>\n",
              "        <tr>\n",
              "            <td>2013-02-01</td> <td>Feb  </td> <td>2           </td> <td>2013</td> <td>2.44482e+07</td> <td>368066</td> <td>28.8347</td> <td>2.96895e+06</td> <td>2.64161e+07       </td>\n",
              "        </tr>\n",
              "        <tr>\n",
              "            <td>2013-03-01</td> <td>Mar  </td> <td>3           </td> <td>2013</td> <td>2.76641e+07</td> <td>363378</td> <td>28.8376</td> <td>3.59997e+06</td> <td>2.64165e+07       </td>\n",
              "        </tr>\n",
              "    </tbody>\n",
              "</table>\n",
              "<p>... (77 rows omitted)</p>"
            ],
            "text/plain": [
              "<IPython.core.display.HTML object>"
            ]
          },
          "metadata": {},
          "output_type": "display_data"
        }
      ],
      "source": [
        "def linear_predict_electricity(water_usage):\n",
        "    return slope * water_usage + intercept\n",
        "\n",
        "# Apply the function to the data and the predicted values to the table\n",
        "sfo = sfo.with_column('linear_electricity',\n",
        "                      sfo.apply(linear_predict_electricity, 'water'))\n",
        "sfo.show(3)"
      ]
    },
    {
      "cell_type": "code",
      "execution_count": null,
      "id": "fa374c6b",
      "metadata": {
        "deletable": false,
        "editable": false,
        "id": "fa374c6b",
        "outputId": "b9b993b0-ba47-41bf-8698-914204c8f906"
      },
      "outputs": [
        {
          "data": {
            "text/html": [
              "<p><strong><pre style='display: inline;'>task_04</pre></strong> passed! 🚀</p><p><strong><pre style='display: inline;'>task_04 - 1</pre> message:</strong> ✅ linear_predict_electricity seems to be working correctly.</p>"
            ],
            "text/plain": [
              "task_04 results: All test cases passed!\n",
              "task_04 - 1 message: ✅ linear_predict_electricity seems to be working correctly."
            ]
          },
          "execution_count": 21,
          "metadata": {},
          "output_type": "execute_result"
        }
      ],
      "source": [
        "grader.check(\"task_04\")"
      ]
    },
    {
      "cell_type": "markdown",
      "id": "50df2f38-782c-495d-990e-5397bcf488cf",
      "metadata": {
        "id": "50df2f38-782c-495d-990e-5397bcf488cf"
      },
      "source": [
        "---"
      ]
    },
    {
      "cell_type": "markdown",
      "id": "cbda4839-7aa1-457d-812f-464b74ba111d",
      "metadata": {
        "tags": [],
        "id": "cbda4839-7aa1-457d-812f-464b74ba111d"
      },
      "source": [
        "### Task 05 📍"
      ]
    },
    {
      "cell_type": "markdown",
      "id": "04356441-98d8-499c-98fd-532569541eda",
      "metadata": {
        "deletable": false,
        "editable": false,
        "id": "04356441-98d8-499c-98fd-532569541eda"
      },
      "source": [
        "Next, fit the best quadratic model to the data. (As a reminder, \"best\" for us in this context means the quadratic model that has the lowest RMSE.) A quadratic model has the form `quadratic_predicted_electricity = a * actual_water ** 2 + b * actual_water + c`.\n",
        "\n",
        "For this task, we've provided you with the template that mirrors the steps for the linear model. You just need to fill in the details."
      ]
    },
    {
      "cell_type": "code",
      "execution_count": null,
      "id": "21246225-e11c-4a65-ba86-8302db558da8",
      "metadata": {
        "tags": [],
        "id": "21246225-e11c-4a65-ba86-8302db558da8",
        "outputId": "b972b434-9682-4ec1-ceea-f520c8043a14"
      },
      "outputs": [
        {
          "data": {
            "text/html": [
              "<table border=\"1\" class=\"dataframe\">\n",
              "    <thead>\n",
              "        <tr>\n",
              "            <th>date</th> <th>month</th> <th>month_number</th> <th>year</th> <th>electricity</th> <th>gas</th> <th>water</th> <th>passengers</th> <th>linear_electricity</th> <th>quadratic_electricity</th>\n",
              "        </tr>\n",
              "    </thead>\n",
              "    <tbody>\n",
              "        <tr>\n",
              "            <td>2013-01-01</td> <td>Jan  </td> <td>1           </td> <td>2013</td> <td>2.69065e+07</td> <td>412598</td> <td>31.0368</td> <td>3.20936e+06</td> <td>2.66666e+07       </td> <td>2.67264e+07          </td>\n",
              "        </tr>\n",
              "        <tr>\n",
              "            <td>2013-02-01</td> <td>Feb  </td> <td>2           </td> <td>2013</td> <td>2.44482e+07</td> <td>368066</td> <td>28.8347</td> <td>2.96895e+06</td> <td>2.64161e+07       </td> <td>2.63785e+07          </td>\n",
              "        </tr>\n",
              "        <tr>\n",
              "            <td>2013-03-01</td> <td>Mar  </td> <td>3           </td> <td>2013</td> <td>2.76641e+07</td> <td>363378</td> <td>28.8376</td> <td>3.59997e+06</td> <td>2.64165e+07       </td> <td>2.6379e+07           </td>\n",
              "        </tr>\n",
              "        <tr>\n",
              "            <td>2013-04-01</td> <td>Apr  </td> <td>4           </td> <td>2013</td> <td>2.70255e+07</td> <td>313840</td> <td>32.3031</td> <td>3.60954e+06</td> <td>2.68107e+07       </td> <td>2.69012e+07          </td>\n",
              "        </tr>\n",
              "        <tr>\n",
              "            <td>2013-05-01</td> <td>May  </td> <td>5           </td> <td>2013</td> <td>2.81716e+07</td> <td>308500</td> <td>32.1146</td> <td>3.9349e+06 </td> <td>2.67892e+07       </td> <td>2.68763e+07          </td>\n",
              "        </tr>\n",
              "        <tr>\n",
              "            <td>2013-06-01</td> <td>Jun  </td> <td>6           </td> <td>2013</td> <td>2.76321e+07</td> <td>268765</td> <td>34.5307</td> <td>4.15515e+06</td> <td>2.70641e+07       </td> <td>2.71638e+07          </td>\n",
              "        </tr>\n",
              "        <tr>\n",
              "            <td>2013-07-01</td> <td>Jul  </td> <td>7           </td> <td>2013</td> <td>2.87237e+07</td> <td>279592</td> <td>31.7107</td> <td>4.18112e+06</td> <td>2.67433e+07       </td> <td>2.68217e+07          </td>\n",
              "        </tr>\n",
              "        <tr>\n",
              "            <td>2013-08-01</td> <td>Aug  </td> <td>8           </td> <td>2013</td> <td>2.91834e+07</td> <td>269948</td> <td>37.4292</td> <td>4.3511e+06 </td> <td>2.73938e+07       </td> <td>2.74199e+07          </td>\n",
              "        </tr>\n",
              "        <tr>\n",
              "            <td>2013-09-01</td> <td>Sep  </td> <td>9           </td> <td>2013</td> <td>2.81579e+07</td> <td>242525</td> <td>37.8765</td> <td>3.78548e+06</td> <td>2.74447e+07       </td> <td>2.74508e+07          </td>\n",
              "        </tr>\n",
              "        <tr>\n",
              "            <td>2013-10-01</td> <td>Oct  </td> <td>10          </td> <td>2013</td> <td>2.83721e+07</td> <td>309631</td> <td>32.2261</td> <td>3.92644e+06</td> <td>2.68019e+07       </td> <td>2.68911e+07          </td>\n",
              "        </tr>\n",
              "    </tbody>\n",
              "</table>\n",
              "<p>... (70 rows omitted)</p>"
            ],
            "text/plain": [
              "date       | month | month_number | year | electricity | gas    | water   | passengers  | linear_electricity | quadratic_electricity\n",
              "2013-01-01 | Jan   | 1            | 2013 | 2.69065e+07 | 412598 | 31.0368 | 3.20936e+06 | 2.66666e+07        | 2.67264e+07\n",
              "2013-02-01 | Feb   | 2            | 2013 | 2.44482e+07 | 368066 | 28.8347 | 2.96895e+06 | 2.64161e+07        | 2.63785e+07\n",
              "2013-03-01 | Mar   | 3            | 2013 | 2.76641e+07 | 363378 | 28.8376 | 3.59997e+06 | 2.64165e+07        | 2.6379e+07\n",
              "2013-04-01 | Apr   | 4            | 2013 | 2.70255e+07 | 313840 | 32.3031 | 3.60954e+06 | 2.68107e+07        | 2.69012e+07\n",
              "2013-05-01 | May   | 5            | 2013 | 2.81716e+07 | 308500 | 32.1146 | 3.9349e+06  | 2.67892e+07        | 2.68763e+07\n",
              "2013-06-01 | Jun   | 6            | 2013 | 2.76321e+07 | 268765 | 34.5307 | 4.15515e+06 | 2.70641e+07        | 2.71638e+07\n",
              "2013-07-01 | Jul   | 7            | 2013 | 2.87237e+07 | 279592 | 31.7107 | 4.18112e+06 | 2.67433e+07        | 2.68217e+07\n",
              "2013-08-01 | Aug   | 8            | 2013 | 2.91834e+07 | 269948 | 37.4292 | 4.3511e+06  | 2.73938e+07        | 2.74199e+07\n",
              "2013-09-01 | Sep   | 9            | 2013 | 2.81579e+07 | 242525 | 37.8765 | 3.78548e+06 | 2.74447e+07        | 2.74508e+07\n",
              "2013-10-01 | Oct   | 10           | 2013 | 2.83721e+07 | 309631 | 32.2261 | 3.92644e+06 | 2.68019e+07        | 2.68911e+07\n",
              "... (70 rows omitted)"
            ]
          },
          "execution_count": 22,
          "metadata": {},
          "output_type": "execute_result"
        }
      ],
      "source": [
        "# Function to compute the RMSE for the quadratic model\n",
        "def quadratic_model_rmse(a, b, c):\n",
        "    actual_electricity = sfo.column('electricity')\n",
        "    actual_water = sfo.column('water')\n",
        "\n",
        "    # Quadratic model prediction: a * water^2 + b * water + c\n",
        "    quadratic_predicted_electricity = a * actual_water ** 2 + b * actual_water + c\n",
        "\n",
        "    # Compute the error (actual - predicted) and return the RMSE\n",
        "    error = actual_electricity - quadratic_predicted_electricity\n",
        "    return np.sqrt(np.mean(error ** 2))\n",
        "\n",
        "# Minimize RMSE to get the best values of a, b, and c\n",
        "a, b, c = minimize(quadratic_model_rmse)\n",
        "\n",
        "# Function to predict electricity based on water usage for the quadratic model\n",
        "def quadratic_predict_electricity(water_usage):\n",
        "    return a * water_usage ** 2 + b * water_usage + c\n",
        "\n",
        "# Apply the quadratic prediction function to the data and create a new column in the table\n",
        "sfo = sfo.with_column('quadratic_electricity',\n",
        "                      sfo.apply(quadratic_predict_electricity, 'water'))\n",
        "\n",
        "sfo\n"
      ]
    },
    {
      "cell_type": "code",
      "execution_count": null,
      "id": "9cac3208",
      "metadata": {
        "deletable": false,
        "editable": false,
        "id": "9cac3208",
        "outputId": "f80a22fb-2b5b-42cf-b5c2-766ce1d781b8"
      },
      "outputs": [
        {
          "data": {
            "text/html": [
              "<p><strong><pre style='display: inline;'>task_05</pre></strong> passed! 🍀</p><p><strong><pre style='display: inline;'>task_05 - 1</pre> message:</strong> ✅ Great work adding the 'quadratic_electricity' column to sfo.</p><p><strong><pre style='display: inline;'>task_05 - 2</pre> message:</strong> ✅ Your quadratic electricity predictions seem to be correct.</p>"
            ],
            "text/plain": [
              "task_05 results: All test cases passed!\n",
              "task_05 - 1 message: ✅ Great work adding the 'quadratic_electricity' column to sfo.\n",
              "task_05 - 2 message: ✅ Your quadratic electricity predictions seem to be correct."
            ]
          },
          "execution_count": 23,
          "metadata": {},
          "output_type": "execute_result"
        }
      ],
      "source": [
        "grader.check(\"task_05\")"
      ]
    },
    {
      "cell_type": "markdown",
      "id": "b0a2ffca-ba7d-4b8d-96ff-26bba2d73de2",
      "metadata": {
        "id": "b0a2ffca-ba7d-4b8d-96ff-26bba2d73de2"
      },
      "source": [
        "---"
      ]
    },
    {
      "cell_type": "markdown",
      "id": "2865cd38-c8ae-4d77-9435-3d904b166738",
      "metadata": {
        "tags": [],
        "id": "2865cd38-c8ae-4d77-9435-3d904b166738"
      },
      "source": [
        "### Task 06 📍🔎"
      ]
    },
    {
      "cell_type": "markdown",
      "id": "65b13186-6ae9-4778-8689-c59792af1867",
      "metadata": {
        "deletable": false,
        "editable": false,
        "id": "65b13186-6ae9-4778-8689-c59792af1867"
      },
      "source": [
        "<!-- BEGIN QUESTION -->\n",
        "\n",
        "Run the following code cell to see the predicted electricity values overlaid with the actual data."
      ]
    },
    {
      "cell_type": "code",
      "execution_count": null,
      "id": "a05cc9c2-1a7f-4f3b-8a72-19e742a56cb9",
      "metadata": {
        "deletable": false,
        "editable": false,
        "id": "a05cc9c2-1a7f-4f3b-8a72-19e742a56cb9",
        "outputId": "8eef1267-5a18-45f6-f1ff-ca6e8e142e06"
      },
      "outputs": [
        {
          "data": {
            "image/png": "[encoded data removed]",
            "text/plain": [
              "<Figure size 500x500 with 1 Axes>"
            ]
          },
          "metadata": {},
          "output_type": "display_data"
        }
      ],
      "source": [
        "sfo.select('electricity', 'water', 'linear_electricity', 'quadratic_electricity').scatter('water')"
      ]
    },
    {
      "cell_type": "markdown",
      "id": "9dff61a3-aaba-4ed8-98b1-9603f8f05e99",
      "metadata": {
        "deletable": false,
        "editable": false,
        "id": "9dff61a3-aaba-4ed8-98b1-9603f8f05e99"
      },
      "source": [
        "Based on this graphic, do you think the linear or quadratic model fits the general trend of the data?\n",
        "\n",
        "_Check your response with a classmate, a tutor, or the instructor before moving on since there is no auto-grader for this task._"
      ]
    },
    {
      "cell_type": "markdown",
      "id": "b7b53df6",
      "metadata": {
        "id": "b7b53df6"
      },
      "source": [
        "The quadratic model fits the data better because it captures the curve in the relationship between electricity and water usage, unlike the linear model."
      ]
    },
    {
      "cell_type": "markdown",
      "id": "73494c3b-4de8-4018-8852-f17166178f7e",
      "metadata": {
        "deletable": false,
        "editable": false,
        "id": "73494c3b-4de8-4018-8852-f17166178f7e"
      },
      "source": [
        "<!-- END QUESTION -->\n",
        "\n",
        "---"
      ]
    },
    {
      "cell_type": "markdown",
      "id": "612939c6-77b0-4140-a936-6b60064edd00",
      "metadata": {
        "id": "612939c6-77b0-4140-a936-6b60064edd00"
      },
      "source": [
        "## Model Evaluation"
      ]
    },
    {
      "cell_type": "markdown",
      "id": "a8a340a1-d4ac-4273-8279-1c9bf03257fd",
      "metadata": {
        "id": "a8a340a1-d4ac-4273-8279-1c9bf03257fd"
      },
      "source": [
        "Great work so far! Now we want you to use the tools you've learned in [Chapter 14](https://inferentialthinking.com/chapters/15/Prediction.html) to be able to decide between the two models."
      ]
    },
    {
      "cell_type": "markdown",
      "id": "a6296d95-187a-467d-b3cb-f583dd4efff2",
      "metadata": {
        "id": "a6296d95-187a-467d-b3cb-f583dd4efff2"
      },
      "source": [
        "---"
      ]
    },
    {
      "cell_type": "markdown",
      "id": "82955607-522e-498a-bb0c-2670cc457d41",
      "metadata": {
        "id": "82955607-522e-498a-bb0c-2670cc457d41"
      },
      "source": [
        "### Residuals"
      ]
    },
    {
      "cell_type": "markdown",
      "id": "967472ed-c781-4bcb-b96e-628e104509fd",
      "metadata": {
        "id": "967472ed-c781-4bcb-b96e-628e104509fd"
      },
      "source": [
        "We define the residual to be the actual value minus the predicted value. (Yes, this is the same as the term error used above.) Analyzing residuals can be useful to help you decide between two (or more) models for prediction."
      ]
    },
    {
      "cell_type": "markdown",
      "id": "b39b58aa-7181-49de-8599-19fbc82d3e76",
      "metadata": {
        "id": "b39b58aa-7181-49de-8599-19fbc82d3e76"
      },
      "source": [
        "---"
      ]
    },
    {
      "cell_type": "markdown",
      "id": "f00867a4-79a2-4ba1-a30c-048c385d1685",
      "metadata": {
        "tags": [],
        "id": "f00867a4-79a2-4ba1-a30c-048c385d1685"
      },
      "source": [
        "#### Task 07 📍"
      ]
    },
    {
      "cell_type": "markdown",
      "id": "f5e43629-f26f-4502-a94d-1cf850e8dbfb",
      "metadata": {
        "deletable": false,
        "editable": false,
        "id": "f5e43629-f26f-4502-a94d-1cf850e8dbfb"
      },
      "source": [
        "Calculate the residuals associated with the linear and quadratic predictions. We created the function below called `residual` that returns the residual associated with the provided actual and predicted values.\n",
        "\n",
        "We provided code to add those residuals to the table `sfo`."
      ]
    },
    {
      "cell_type": "code",
      "execution_count": null,
      "id": "bfe8c8f6-f86c-4f9f-989e-78a152a14021",
      "metadata": {
        "deletable": false,
        "editable": false,
        "id": "bfe8c8f6-f86c-4f9f-989e-78a152a14021"
      },
      "outputs": [],
      "source": [
        "def residual(actual, predicted):\n",
        "    return actual - predicted"
      ]
    },
    {
      "cell_type": "code",
      "execution_count": null,
      "id": "84a8e9d3-2e1b-4de1-aeec-c15cd6a42aa4",
      "metadata": {
        "tags": [],
        "id": "84a8e9d3-2e1b-4de1-aeec-c15cd6a42aa4",
        "outputId": "7082e3b0-f6c4-420a-8ddd-4a22eebba185"
      },
      "outputs": [
        {
          "data": {
            "text/html": [
              "<table border=\"1\" class=\"dataframe\">\n",
              "    <thead>\n",
              "        <tr>\n",
              "            <th>date</th> <th>month</th> <th>month_number</th> <th>year</th> <th>electricity</th> <th>gas</th> <th>water</th> <th>passengers</th> <th>linear_electricity</th> <th>quadratic_electricity</th> <th>linear_residual</th> <th>quadratic_residual</th>\n",
              "        </tr>\n",
              "    </thead>\n",
              "    <tbody>\n",
              "        <tr>\n",
              "            <td>2013-01-01</td> <td>Jan  </td> <td>1           </td> <td>2013</td> <td>2.69065e+07</td> <td>412598</td> <td>31.0368</td> <td>3.20936e+06</td> <td>2.66666e+07       </td> <td>2.67264e+07          </td> <td>239890         </td> <td>180101            </td>\n",
              "        </tr>\n",
              "        <tr>\n",
              "            <td>2013-02-01</td> <td>Feb  </td> <td>2           </td> <td>2013</td> <td>2.44482e+07</td> <td>368066</td> <td>28.8347</td> <td>2.96895e+06</td> <td>2.64161e+07       </td> <td>2.63785e+07          </td> <td>-1.96794e+06   </td> <td>-1.93033e+06      </td>\n",
              "        </tr>\n",
              "        <tr>\n",
              "            <td>2013-03-01</td> <td>Mar  </td> <td>3           </td> <td>2013</td> <td>2.76641e+07</td> <td>363378</td> <td>28.8376</td> <td>3.59997e+06</td> <td>2.64165e+07       </td> <td>2.6379e+07           </td> <td>1.24761e+06    </td> <td>1.28505e+06       </td>\n",
              "        </tr>\n",
              "        <tr>\n",
              "            <td>2013-04-01</td> <td>Apr  </td> <td>4           </td> <td>2013</td> <td>2.70255e+07</td> <td>313840</td> <td>32.3031</td> <td>3.60954e+06</td> <td>2.68107e+07       </td> <td>2.69012e+07          </td> <td>214872         </td> <td>124365            </td>\n",
              "        </tr>\n",
              "        <tr>\n",
              "            <td>2013-05-01</td> <td>May  </td> <td>5           </td> <td>2013</td> <td>2.81716e+07</td> <td>308500</td> <td>32.1146</td> <td>3.9349e+06 </td> <td>2.67892e+07       </td> <td>2.68763e+07          </td> <td>1.38239e+06    </td> <td>1.29529e+06       </td>\n",
              "        </tr>\n",
              "        <tr>\n",
              "            <td>2013-06-01</td> <td>Jun  </td> <td>6           </td> <td>2013</td> <td>2.76321e+07</td> <td>268765</td> <td>34.5307</td> <td>4.15515e+06</td> <td>2.70641e+07       </td> <td>2.71638e+07          </td> <td>568019         </td> <td>468300            </td>\n",
              "        </tr>\n",
              "        <tr>\n",
              "            <td>2013-07-01</td> <td>Jul  </td> <td>7           </td> <td>2013</td> <td>2.87237e+07</td> <td>279592</td> <td>31.7107</td> <td>4.18112e+06</td> <td>2.67433e+07       </td> <td>2.68217e+07          </td> <td>1.98041e+06    </td> <td>1.90197e+06       </td>\n",
              "        </tr>\n",
              "        <tr>\n",
              "            <td>2013-08-01</td> <td>Aug  </td> <td>8           </td> <td>2013</td> <td>2.91834e+07</td> <td>269948</td> <td>37.4292</td> <td>4.3511e+06 </td> <td>2.73938e+07       </td> <td>2.74199e+07          </td> <td>1.78959e+06    </td> <td>1.76345e+06       </td>\n",
              "        </tr>\n",
              "        <tr>\n",
              "            <td>2013-09-01</td> <td>Sep  </td> <td>9           </td> <td>2013</td> <td>2.81579e+07</td> <td>242525</td> <td>37.8765</td> <td>3.78548e+06</td> <td>2.74447e+07       </td> <td>2.74508e+07          </td> <td>713285         </td> <td>707115            </td>\n",
              "        </tr>\n",
              "        <tr>\n",
              "            <td>2013-10-01</td> <td>Oct  </td> <td>10          </td> <td>2013</td> <td>2.83721e+07</td> <td>309631</td> <td>32.2261</td> <td>3.92644e+06</td> <td>2.68019e+07       </td> <td>2.68911e+07          </td> <td>1.57017e+06    </td> <td>1.481e+06         </td>\n",
              "        </tr>\n",
              "    </tbody>\n",
              "</table>\n",
              "<p>... (70 rows omitted)</p>"
            ],
            "text/plain": [
              "date       | month | month_number | year | electricity | gas    | water   | passengers  | linear_electricity | quadratic_electricity | linear_residual | quadratic_residual\n",
              "2013-01-01 | Jan   | 1            | 2013 | 2.69065e+07 | 412598 | 31.0368 | 3.20936e+06 | 2.66666e+07        | 2.67264e+07           | 239890          | 180101\n",
              "2013-02-01 | Feb   | 2            | 2013 | 2.44482e+07 | 368066 | 28.8347 | 2.96895e+06 | 2.64161e+07        | 2.63785e+07           | -1.96794e+06    | -1.93033e+06\n",
              "2013-03-01 | Mar   | 3            | 2013 | 2.76641e+07 | 363378 | 28.8376 | 3.59997e+06 | 2.64165e+07        | 2.6379e+07            | 1.24761e+06     | 1.28505e+06\n",
              "2013-04-01 | Apr   | 4            | 2013 | 2.70255e+07 | 313840 | 32.3031 | 3.60954e+06 | 2.68107e+07        | 2.69012e+07           | 214872          | 124365\n",
              "2013-05-01 | May   | 5            | 2013 | 2.81716e+07 | 308500 | 32.1146 | 3.9349e+06  | 2.67892e+07        | 2.68763e+07           | 1.38239e+06     | 1.29529e+06\n",
              "2013-06-01 | Jun   | 6            | 2013 | 2.76321e+07 | 268765 | 34.5307 | 4.15515e+06 | 2.70641e+07        | 2.71638e+07           | 568019          | 468300\n",
              "2013-07-01 | Jul   | 7            | 2013 | 2.87237e+07 | 279592 | 31.7107 | 4.18112e+06 | 2.67433e+07        | 2.68217e+07           | 1.98041e+06     | 1.90197e+06\n",
              "2013-08-01 | Aug   | 8            | 2013 | 2.91834e+07 | 269948 | 37.4292 | 4.3511e+06  | 2.73938e+07        | 2.74199e+07           | 1.78959e+06     | 1.76345e+06\n",
              "2013-09-01 | Sep   | 9            | 2013 | 2.81579e+07 | 242525 | 37.8765 | 3.78548e+06 | 2.74447e+07        | 2.74508e+07           | 713285          | 707115\n",
              "2013-10-01 | Oct   | 10           | 2013 | 2.83721e+07 | 309631 | 32.2261 | 3.92644e+06 | 2.68019e+07        | 2.68911e+07           | 1.57017e+06     | 1.481e+06\n",
              "... (70 rows omitted)"
            ]
          },
          "execution_count": 26,
          "metadata": {},
          "output_type": "execute_result"
        }
      ],
      "source": [
        "linear_residuals = residual(sfo.column('electricity'), sfo.column('linear_electricity'))\n",
        "quadratic_residuals = residual(sfo.column('electricity'), sfo.column('quadratic_electricity'))\n",
        "\n",
        "sfo = sfo.with_columns(\n",
        "    'linear_residual', linear_residuals,\n",
        "    'quadratic_residual', quadratic_residuals)\n",
        "sfo"
      ]
    },
    {
      "cell_type": "code",
      "execution_count": null,
      "id": "30a15b4c",
      "metadata": {
        "deletable": false,
        "editable": false,
        "id": "30a15b4c",
        "outputId": "a8d8fc16-e726-456f-89a8-08a14cfb154b"
      },
      "outputs": [
        {
          "data": {
            "text/html": [
              "<p><strong><pre style='display: inline;'>task_07</pre></strong> passed! 🙌</p><p><strong><pre style='display: inline;'>task_07 - 1</pre> message:</strong> ✅ Your residuals from the linear model seem correct.</p><p><strong><pre style='display: inline;'>task_07 - 2</pre> message:</strong> ✅ Your residuals from the quadratic model seem correct.</p>"
            ],
            "text/plain": [
              "task_07 results: All test cases passed!\n",
              "task_07 - 1 message: ✅ Your residuals from the linear model seem correct.\n",
              "task_07 - 2 message: ✅ Your residuals from the quadratic model seem correct."
            ]
          },
          "execution_count": 27,
          "metadata": {},
          "output_type": "execute_result"
        }
      ],
      "source": [
        "grader.check(\"task_07\")"
      ]
    },
    {
      "cell_type": "markdown",
      "id": "698d7c2a-a201-4701-8eb7-20ccf4060557",
      "metadata": {
        "id": "698d7c2a-a201-4701-8eb7-20ccf4060557"
      },
      "source": [
        "---"
      ]
    },
    {
      "cell_type": "markdown",
      "id": "2f24e95c-acfc-4568-a2fa-42586f2c2a8d",
      "metadata": {
        "tags": [],
        "id": "2f24e95c-acfc-4568-a2fa-42586f2c2a8d"
      },
      "source": [
        "#### Task 08 📍🔎"
      ]
    },
    {
      "cell_type": "markdown",
      "id": "27f6adad-f876-4c4a-8974-3887f7aafff0",
      "metadata": {
        "deletable": false,
        "editable": false,
        "id": "27f6adad-f876-4c4a-8974-3887f7aafff0"
      },
      "source": [
        "<!-- BEGIN QUESTION -->\n",
        "\n",
        "Residual plots can be used to do a visual diagnostic of a model. In short, a residual plot is a scatter plot with the predictor variable (water usage) on the horizontal axis and the associated residuals on the vertical axis.\n",
        "\n",
        "According to [Section 15.5](https://inferentialthinking.com/chapters/15/5/Visual_Diagnostics.html):\n",
        "\n",
        "> The residual plot of a good regression shows no pattern. The residuals look about the same, above and below the horizontal line at 0, across the range of the predictor variable.\n",
        "\n",
        "1. Create two residual plots, one for the linear model and one for the quadratic model.\n",
        "2. Based on a visual inspection of the two plots and the content of Section 15.5, which model would you choose?"
      ]
    },
    {
      "cell_type": "markdown",
      "id": "9a2649af",
      "metadata": {
        "id": "9a2649af"
      },
      "source": [
        " The quadratic model would be the better fit for this data, as it captures the relationship more accurately."
      ]
    },
    {
      "cell_type": "code",
      "execution_count": null,
      "id": "4a8c2efb-e6ed-49b8-9571-68885e95a380",
      "metadata": {
        "tags": [],
        "id": "4a8c2efb-e6ed-49b8-9571-68885e95a380",
        "outputId": "a125bb61-56fa-4928-d975-4f0f5278445f"
      },
      "outputs": [
        {
          "data": {
            "image/png": "[encoded data removed]",
            "text/plain": [
              "<Figure size 500x500 with 1 Axes>"
            ]
          },
          "metadata": {},
          "output_type": "display_data"
        },
        {
          "data": {
            "image/png": "[encoded data removed]",
            "text/plain": [
              "<Figure size 500x500 with 1 Axes>"
            ]
          },
          "metadata": {},
          "output_type": "display_data"
        }
      ],
      "source": [
        "sfo.scatter('water', 'linear_residual')\n",
        "plt.title('(Linear) Residual Plot')\n",
        "plt.show()\n",
        "\n",
        "sfo.scatter('water', 'quadratic_residual')\n",
        "plt.title('(Quadratic) Residual Plot')\n",
        "plt.show()"
      ]
    },
    {
      "cell_type": "markdown",
      "id": "abb661e6-aa31-4a0b-a58c-50baebfb9b9b",
      "metadata": {
        "deletable": false,
        "editable": false,
        "id": "abb661e6-aa31-4a0b-a58c-50baebfb9b9b"
      },
      "source": [
        "<!-- END QUESTION -->\n",
        "\n",
        "---"
      ]
    },
    {
      "cell_type": "markdown",
      "id": "e131f728-b980-41ba-aa42-b0c1ec77073e",
      "metadata": {
        "id": "e131f728-b980-41ba-aa42-b0c1ec77073e"
      },
      "source": [
        "### RMSE"
      ]
    },
    {
      "cell_type": "markdown",
      "id": "fa9d61c4-5c34-4649-9a92-990bce930b3f",
      "metadata": {
        "id": "fa9d61c4-5c34-4649-9a92-990bce930b3f"
      },
      "source": [
        "Root mean squared error (Error) is a way to summarize the prediction error for a model. You can decide between two models by choosing the model with the smaller RMSE."
      ]
    },
    {
      "cell_type": "markdown",
      "id": "b177c935-3328-49e6-afc1-31f3e9a44d6a",
      "metadata": {
        "id": "b177c935-3328-49e6-afc1-31f3e9a44d6a"
      },
      "source": [
        "---"
      ]
    },
    {
      "cell_type": "markdown",
      "id": "346891e3-e055-42a4-968c-de000f1aa015",
      "metadata": {
        "tags": [],
        "id": "346891e3-e055-42a4-968c-de000f1aa015"
      },
      "source": [
        "#### Task 09 📍"
      ]
    },
    {
      "cell_type": "markdown",
      "id": "dd409029-4e0b-4703-8f3b-da0598f4176b",
      "metadata": {
        "deletable": false,
        "editable": false,
        "id": "dd409029-4e0b-4703-8f3b-da0598f4176b"
      },
      "source": [
        "For this task:\n",
        "1. Create the function `rmse` that uses the `sfo` table that you've built so far and returns the RMSE associated with the actual electricity values and predicted electricity values based on the model you used. The argument `'predicted_col'` will tell the function which column in `sfo` contains the predicted values you want to use for the calculation.\n",
        "2. After calculating the RMSE associated with each model, assign 'linear' or 'quadratic' to `best_model_by_RMSE` based on which model has the lowest RMSE."
      ]
    },
    {
      "cell_type": "code",
      "execution_count": null,
      "id": "aaf07602-e353-436c-b7e7-34e2b95477ff",
      "metadata": {
        "tags": [],
        "id": "aaf07602-e353-436c-b7e7-34e2b95477ff",
        "outputId": "bc74628c-76e3-4fe6-c73a-259e8e26a5c5"
      },
      "outputs": [
        {
          "name": "stdout",
          "output_type": "stream",
          "text": [
            "The linear RMSE is 1210610.0712136752. \n",
            "The quadratic RMSE is 1206228.635110698.\n",
            "You said the the quadratic model is the best model based on the RMSE value.\n"
          ]
        }
      ],
      "source": [
        "def rmse(predicted_col):\n",
        "    actual = sfo.column('electricity')\n",
        "    predicted = sfo.column(predicted_col)\n",
        "    error = actual - predicted\n",
        "    return np.sqrt(np.mean(error**2))\n",
        "\n",
        "linear_rmse =  rmse('linear_electricity')\n",
        "quadratic_rmse = rmse('quadratic_electricity')\n",
        "print(f'The linear RMSE is {linear_rmse}. \\nThe quadratic RMSE is {quadratic_rmse}.')\n",
        "\n",
        "best_model_by_RMSE = 'linear' if linear_rmse < quadratic_rmse else 'quadratic'\n",
        "print(f'You said the the {best_model_by_RMSE} model is the best model based on the RMSE value.')"
      ]
    },
    {
      "cell_type": "code",
      "execution_count": null,
      "id": "1b729546",
      "metadata": {
        "deletable": false,
        "editable": false,
        "id": "1b729546",
        "outputId": "6fdfb936-7cca-4ef5-c363-d88c2648c8ba"
      },
      "outputs": [
        {
          "data": {
            "text/html": [
              "<p><strong><pre style='display: inline;'>task_09</pre></strong> passed! ✨</p><p><strong><pre style='display: inline;'>task_09 - 1</pre> message:</strong> ✅ Your linear RMSE seems correct.</p><p><strong><pre style='display: inline;'>task_09 - 2</pre> message:</strong> ✅ Your quadratic RMSE seems correct.</p><p><strong><pre style='display: inline;'>task_09 - 3</pre> message:</strong> ✅ You choose 'linear' or 'quadratic'.</p><p><strong><pre style='display: inline;'>task_09 - 4</pre> message:</strong> ✅ We agree with your model choice!</p>"
            ],
            "text/plain": [
              "task_09 results: All test cases passed!\n",
              "task_09 - 1 message: ✅ Your linear RMSE seems correct.\n",
              "task_09 - 2 message: ✅ Your quadratic RMSE seems correct.\n",
              "task_09 - 3 message: ✅ You choose 'linear' or 'quadratic'.\n",
              "task_09 - 4 message: ✅ We agree with your model choice!"
            ]
          },
          "execution_count": 32,
          "metadata": {},
          "output_type": "execute_result"
        }
      ],
      "source": [
        "grader.check(\"task_09\")"
      ]
    },
    {
      "cell_type": "markdown",
      "id": "2f76dbe2-5e16-483f-9bd9-b64d4a93ad5f",
      "metadata": {
        "id": "2f76dbe2-5e16-483f-9bd9-b64d4a93ad5f"
      },
      "source": [
        "---"
      ]
    },
    {
      "cell_type": "markdown",
      "id": "129e7bf1-2748-4afd-a10e-78da4c498ed3",
      "metadata": {
        "id": "129e7bf1-2748-4afd-a10e-78da4c498ed3"
      },
      "source": [
        "Great work! As you can see, choosing the best model to predict with is not a simple decision. There are many things to consider when picking a model, and the tools you've learned about are here to help you make a decision."
      ]
    },
    {
      "cell_type": "markdown",
      "id": "5a0982f2-7459-46cc-bab8-f8a3ff3bacf0",
      "metadata": {
        "id": "5a0982f2-7459-46cc-bab8-f8a3ff3bacf0"
      },
      "source": [
        "---"
      ]
    },
    {
      "cell_type": "markdown",
      "id": "3fa73e48-d286-4aa8-b8a7-b603a40dcba0",
      "metadata": {
        "id": "3fa73e48-d286-4aa8-b8a7-b603a40dcba0"
      },
      "source": [
        "## Submit Your Assignment to Canvas"
      ]
    },
    {
      "cell_type": "markdown",
      "id": "cb7aa259-b0a3-4cc6-bdca-ed6a4c56b12f",
      "metadata": {
        "jp-MarkdownHeadingCollapsed": true,
        "id": "cb7aa259-b0a3-4cc6-bdca-ed6a4c56b12f"
      },
      "source": [
        "Follow these steps to submit your lab assignment:\n",
        "\n",
        "1. **Check the Assignment Completion Requirements:** This assignment is scored as Complete or Incomplete. Make sure to check with your instructor about their requirements for a Complete score.\n",
        "2. **Run the Auto-Grader:** Ensure you have executed the code cell containing the command `grader.check_all()` to run all tests for auto-graded tasks marked with 📍. This command will execute all auto-grader tests sequentially.\n",
        "3. **Complete Manually Graded Tasks:** Verify that you have responded to all the manually graded tasks marked with 📍🔎.\n",
        "4. **Save Your Work:** In the notebook's Toolbar, go to `File -> Save Notebook` to save your work and create a checkpoint.\n",
        "5. **Download the Notebook:** In the notebook's Toolbar, go to `File -> Download HTML` to download the HTML version (`.html`) of this notebook.\n",
        "6. **Upload to Canvas:** On the Canvas Assignment page, click \"Start Assignment\" or \"New Attempt\" to upload the downloaded `.html` file."
      ]
    },
    {
      "cell_type": "markdown",
      "id": "bc51523b-d30e-4c42-9fec-e1056fa21a4c",
      "metadata": {
        "id": "bc51523b-d30e-4c42-9fec-e1056fa21a4c"
      },
      "source": [
        "---"
      ]
    },
    {
      "cell_type": "markdown",
      "id": "a23bd0de-4d61-420d-8ad7-bf9a94d9cdc7",
      "metadata": {
        "editable": true,
        "tags": [],
        "id": "a23bd0de-4d61-420d-8ad7-bf9a94d9cdc7"
      },
      "source": [
        "## Attribution"
      ]
    },
    {
      "cell_type": "markdown",
      "id": "c2e883b6-88ea-49f0-ba09-38a3622a3a68",
      "metadata": {
        "id": "c2e883b6-88ea-49f0-ba09-38a3622a3a68"
      },
      "source": [
        "This content is licensed under the <a href=\"https://creativecommons.org/licenses/by-nc-sa/4.0/\">Creative Commons Attribution-NonCommercial-ShareAlike 4.0 International License (CC BY-NC-SA 4.0)</a> and derived from the <a href=\"https://www.data8.org/\">Data 8: The Foundations of Data Science</a> offered by the University of California, Berkeley.\n",
        "\n",
        "<img src=\"./by-nc-sa.png\" width=100px>"
      ]
    },
    {
      "cell_type": "markdown",
      "id": "133c7601",
      "metadata": {
        "deletable": false,
        "editable": false,
        "id": "133c7601"
      },
      "source": [
        "---\n",
        "\n",
        "To double-check your work, the cell below will rerun all of the autograder tests."
      ]
    },
    {
      "cell_type": "code",
      "execution_count": null,
      "id": "c32b6392",
      "metadata": {
        "deletable": false,
        "editable": false,
        "id": "c32b6392",
        "outputId": "b10017dd-d11f-46e1-fbd3-9c5474bbde8b"
      },
      "outputs": [
        {
          "data": {
            "text/plain": [
              "task_02 results: All test cases passed!\n",
              "task_02 - 1 message: ✅ gas_water represents an array of integers.\n",
              "task_02 - 2 message: ✅ Great work. That is how we interpreted this graph as well.\n",
              "\n",
              "task_03 results: All test cases passed!\n",
              "task_03 - 1 message: ✅ Your function seems to be working correctly\n",
              "\n",
              "task_04 results: All test cases passed!\n",
              "task_04 - 1 message: ✅ linear_predict_electricity seems to be working correctly.\n",
              "\n",
              "task_05 results: All test cases passed!\n",
              "task_05 - 1 message: ✅ Great work adding the 'quadratic_electricity' column to sfo.\n",
              "task_05 - 2 message: ✅ Your quadratic electricity predictions seem to be correct.\n",
              "\n",
              "task_07 results: All test cases passed!\n",
              "task_07 - 1 message: ✅ Your residuals from the linear model seem correct.\n",
              "task_07 - 2 message: ✅ Your residuals from the quadratic model seem correct.\n",
              "\n",
              "task_09 results: All test cases passed!\n",
              "task_09 - 1 message: ✅ Your linear RMSE seems correct.\n",
              "task_09 - 2 message: ✅ Your quadratic RMSE seems correct.\n",
              "task_09 - 3 message: ✅ You choose 'linear' or 'quadratic'.\n",
              "task_09 - 4 message: ✅ We agree with your model choice!"
            ]
          },
          "execution_count": 33,
          "metadata": {},
          "output_type": "execute_result"
        }
      ],
      "source": [
        "grader.check_all()"
      ]
    }
  ],
  "metadata": {
    "kernelspec": {
      "display_name": "Python 3 (ipykernel)",
      "language": "python",
      "name": "python3"
    },
    "language_info": {
      "codemirror_mode": {
        "name": "ipython",
        "version": 3
      },
      "file_extension": ".py",
      "mimetype": "text/x-python",
      "name": "python",
      "nbconvert_exporter": "python",
      "pygments_lexer": "ipython3",
      "version": "3.11.9"
    },
    "otter": {
      "OK_FORMAT": true,
      "assignment_name": "lab12_sp25",
      "tests": {
        "task_02": {
          "name": "task_02",
          "points": null,
          "suites": [
            {
              "cases": [
                {
                  "code": ">>> isinstance(electricity_water, np.ndarray) and isinstance(electricity_water.item(0), (int, np.integer))\nTrue",
                  "failure_message": "❌ gas_water should represent an array of integers.",
                  "hidden": false,
                  "locked": false,
                  "points": 1,
                  "success_message": "✅ gas_water represents an array of integers."
                },
                {
                  "code": ">>> 1 in electricity_water and 5 in electricity_water and (not set(electricity_water).issubset({2, 3, 4}))\nTrue",
                  "failure_message": "❌ Notice that the scatterplot shows a slightly curved trend that starts from the lower left and moves towards the upper right.",
                  "hidden": false,
                  "locked": false,
                  "points": 1,
                  "success_message": "✅ Great work. That is how we interpreted this graph as well."
                }
              ],
              "scored": true,
              "setup": "",
              "teardown": "",
              "type": "doctest"
            }
          ]
        },
        "task_03": {
          "name": "task_03",
          "points": null,
          "suites": [
            {
              "cases": [
                {
                  "code": ">>> np.isclose(linear_model_rmse(113753.566, 23136076.141), 1210610.0712136773) and np.isclose(linear_model_rmse(100000, 20000000), 3790521.8867601505)\nTrue",
                  "failure_message": "❌ Your function doesn't seem to be working correctly. The actual data should come from the electricity column. The predicted data should be calculated using slope * actual_water + intercept. The function should return the RMSE using the error actual - predicted.",
                  "hidden": false,
                  "locked": false,
                  "success_message": "✅ Your function seems to be working correctly"
                }
              ],
              "scored": true,
              "setup": "",
              "teardown": "",
              "type": "doctest"
            }
          ]
        },
        "task_04": {
          "name": "task_04",
          "points": null,
          "suites": [
            {
              "cases": [
                {
                  "code": ">>> np.isclose(linear_predict_electricity(31.0368), 26666622.809532203) and np.isclose(sum(sfo.column('linear_electricity')), 2152252739.064834)\nTrue",
                  "failure_message": "❌ linear_predict_electricity doesn't seem to be working correctly. You should return the slope times the water usage plus the intercept.",
                  "hidden": false,
                  "locked": false,
                  "success_message": "✅ linear_predict_electricity seems to be working correctly."
                }
              ],
              "scored": true,
              "setup": "",
              "teardown": "",
              "type": "doctest"
            }
          ]
        },
        "task_05": {
          "name": "task_05",
          "points": null,
          "suites": [
            {
              "cases": [
                {
                  "code": ">>> 'quadratic_electricity' in sfo.labels\nTrue",
                  "failure_message": "❌ It doesn't seem that you've added the 'quadratic_electricity' column to the sfo table.",
                  "hidden": false,
                  "locked": false,
                  "success_message": "✅ Great work adding the 'quadratic_electricity' column to sfo."
                },
                {
                  "code": ">>> np.isclose(sum(sfo.column('quadratic_electricity')), 2152232600.1741104) and np.isclose(min(sfo.column('quadratic_electricity')), 25325122.546123043)\nTrue",
                  "failure_message": "❌ Your quadratic electricity predictions do not seem to be correct. Ask for help as you try to follow similar steps for the linear model.",
                  "hidden": false,
                  "locked": false,
                  "success_message": "✅ Your quadratic electricity predictions seem to be correct."
                }
              ],
              "scored": true,
              "setup": "",
              "teardown": "",
              "type": "doctest"
            }
          ]
        },
        "task_07": {
          "name": "task_07",
          "points": null,
          "suites": [
            {
              "cases": [
                {
                  "code": ">>> np.isclose(np.sum(sfo.column('linear_residual')), -10.664834152907133) and np.isclose(min(sfo.column('linear_residual')), -3345482.7231732905)\nTrue",
                  "failure_message": "❌ Your residuals from the linear model do not seem correct. Try applying the residual function to the sfo table and reference the linear_electricty values",
                  "hidden": false,
                  "locked": false,
                  "success_message": "✅ Your residuals from the linear model seem correct."
                },
                {
                  "code": ">>> np.isclose(np.sum(sfo.column('quadratic_residual')), 20128.225890103728) and np.isclose(min(sfo.column('quadratic_residual')), -3393442.3036418445)\nTrue",
                  "failure_message": "❌ Your residuals from the quadratic model do not seem correct. Try applying the residual function to the sfo table and reference the quadratic_electricty values.",
                  "hidden": false,
                  "locked": false,
                  "success_message": "✅ Your residuals from the quadratic model seem correct."
                }
              ],
              "scored": true,
              "setup": "",
              "teardown": "",
              "type": "doctest"
            }
          ]
        },
        "task_09": {
          "name": "task_09",
          "points": null,
          "suites": [
            {
              "cases": [
                {
                  "code": ">>> import hashlib\n>>> \n>>> def get_hash(num):\n...     \"\"\"Helper function for assessing correctness.\"\"\"\n...     return hashlib.md5(str(num).encode()).hexdigest()\n>>> get_hash(round(linear_rmse, 3))\n'c3d8812aaed53c05c039426a5d513bb5'",
                  "failure_message": "❌ Your linear RMSE doesn't seem correct. Use 'linear_electricity' with the rmse function. You might have a bug with your function. Ask for help if you need it.",
                  "hidden": false,
                  "locked": false,
                  "success_message": "✅ Your linear RMSE seems correct."
                },
                {
                  "code": ">>> import hashlib\n>>> \n>>> def get_hash(num):\n...     \"\"\"Helper function for assessing correctness.\"\"\"\n...     return hashlib.md5(str(num).encode()).hexdigest()\n>>> get_hash(round(quadratic_rmse, 3))\n'7413ee868029c953ed1d27fb8bb9a674'",
                  "failure_message": "❌ Your quadratic RMSE doesn't seem correct. Use 'quadratic_electricity' with the rmse function. You might have a bug with your function. Ask for help if you need it.",
                  "hidden": false,
                  "locked": false,
                  "success_message": "✅ Your quadratic RMSE seems correct."
                },
                {
                  "code": ">>> import hashlib\n>>> \n>>> def get_hash(num):\n...     \"\"\"Helper function for assessing correctness.\"\"\"\n...     return hashlib.md5(str(num).encode()).hexdigest()\n>>> best_model_by_RMSE in {'linear', 'quadratic'}\nTrue",
                  "failure_message": "❌ Make sure to assign 'linear' or 'quadratic' to best_model_by_rmse.",
                  "hidden": false,
                  "locked": false,
                  "success_message": "✅ You choose 'linear' or 'quadratic'."
                },
                {
                  "code": ">>> import hashlib\n>>> \n>>> def get_hash(num):\n...     \"\"\"Helper function for assessing correctness.\"\"\"\n...     return hashlib.md5(str(num).encode()).hexdigest()\n>>> get_hash(best_model_by_RMSE)\n'd2ac8798d82192d415e5a4d797dda30a'",
                  "failure_message": "❌ We don't agree with your model choice. Make sure you are picking the model with the smaller RMSE value. ",
                  "hidden": false,
                  "locked": false,
                  "success_message": "✅ We agree with your model choice!"
                }
              ],
              "scored": true,
              "setup": "",
              "teardown": "",
              "type": "doctest"
            }
          ]
        }
      }
    },
    "colab": {
      "provenance": [],
      "include_colab_link": true
    }
  },
  "nbformat": 4,
  "nbformat_minor": 5
}