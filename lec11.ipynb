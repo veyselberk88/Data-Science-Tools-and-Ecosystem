{
  "cells": [
    {
      "cell_type": "markdown",
      "metadata": {
        "id": "view-in-github",
        "colab_type": "text"
      },
      "source": [
        "<a href=\"https://colab.research.google.com/github/veyselberk88/Data-Science-Tools-and-Ecosystem/blob/main/lec11.ipynb\" target=\"_parent\"><img src=\"https://colab.research.google.com/assets/colab-badge.svg\" alt=\"Open In Colab\"/></a>"
      ]
    },
    {
      "cell_type": "markdown",
      "id": "2e8c3bb4-c018-4f62-aab2-3d5e43924cdf",
      "metadata": {
        "id": "2e8c3bb4-c018-4f62-aab2-3d5e43924cdf"
      },
      "source": [
        "<img src=\"./ccsf.png\" alt=\"CCSF Logo\" width=200px style=\"margin:0px -5px\">"
      ]
    },
    {
      "cell_type": "markdown",
      "id": "6cc42725-18a0-487f-a398-ea6a81fd303b",
      "metadata": {
        "id": "6cc42725-18a0-487f-a398-ea6a81fd303b"
      },
      "source": [
        "# Lecture 11: Functions"
      ]
    },
    {
      "cell_type": "markdown",
      "id": "ec461ad9-e2a1-4d7c-8175-0f8ff4f3ed82",
      "metadata": {
        "id": "ec461ad9-e2a1-4d7c-8175-0f8ff4f3ed82"
      },
      "source": [
        "Associated Textbook Sections: [8.0, 8.1](https://ccsf-math-108.github.io/textbook/chapters/08/Functions_and_Tables.html)"
      ]
    },
    {
      "cell_type": "markdown",
      "id": "152b988f-493d-4ab6-84d9-39dc51c14be5",
      "metadata": {
        "id": "152b988f-493d-4ab6-84d9-39dc51c14be5"
      },
      "source": [
        "---"
      ]
    },
    {
      "cell_type": "markdown",
      "id": "48375a99-8f22-4759-a108-fa57a3750a8d",
      "metadata": {
        "id": "48375a99-8f22-4759-a108-fa57a3750a8d"
      },
      "source": [
        "## Overview"
      ]
    },
    {
      "cell_type": "markdown",
      "id": "89825372-6d33-4657-b2b8-2bffacdd28f5",
      "metadata": {
        "id": "89825372-6d33-4657-b2b8-2bffacdd28f5"
      },
      "source": [
        "* [Defining Functions](#Defining-Functions)\n",
        "* [Apply](#Apply)"
      ]
    },
    {
      "cell_type": "markdown",
      "id": "0428067b-1d30-4552-8527-8cb17ada1343",
      "metadata": {
        "id": "0428067b-1d30-4552-8527-8cb17ada1343"
      },
      "source": [
        "---"
      ]
    },
    {
      "cell_type": "markdown",
      "id": "69013478-8537-4ffb-a59a-4fa6eaf1c0c4",
      "metadata": {
        "id": "69013478-8537-4ffb-a59a-4fa6eaf1c0c4"
      },
      "source": [
        "## Set Up the Notebook"
      ]
    },
    {
      "cell_type": "code",
      "execution_count": null,
      "id": "e30ba96f-ec2c-4bc3-9e4f-4b0abe134861",
      "metadata": {
        "id": "e30ba96f-ec2c-4bc3-9e4f-4b0abe134861"
      },
      "outputs": [],
      "source": [
        "from datascience import *\n",
        "import numpy as np\n",
        "%matplotlib inline\n",
        "import matplotlib.pyplot as plt\n",
        "plt.style.use('fivethirtyeight')"
      ]
    },
    {
      "cell_type": "markdown",
      "id": "503320a6-2f88-4359-953f-3a1a8ea7e30a",
      "metadata": {
        "id": "503320a6-2f88-4359-953f-3a1a8ea7e30a"
      },
      "source": [
        "---"
      ]
    },
    {
      "cell_type": "markdown",
      "id": "b2025028-2711-4199-9f68-d039351bac28",
      "metadata": {
        "id": "b2025028-2711-4199-9f68-d039351bac28"
      },
      "source": [
        "## Defining Functions"
      ]
    },
    {
      "cell_type": "markdown",
      "id": "7457fd81-22ae-42a0-8d2f-e61b8a91f7b4",
      "metadata": {
        "id": "7457fd81-22ae-42a0-8d2f-e61b8a91f7b4"
      },
      "source": [
        "---"
      ]
    },
    {
      "cell_type": "markdown",
      "id": "ff2ea2b5-a95c-4604-bc48-9b5221562dc5",
      "metadata": {
        "id": "ff2ea2b5-a95c-4604-bc48-9b5221562dc5"
      },
      "source": [
        "### `def` Statements"
      ]
    },
    {
      "cell_type": "markdown",
      "id": "2779e072-bf40-4c31-bee8-02ad2fd01199",
      "metadata": {
        "id": "2779e072-bf40-4c31-bee8-02ad2fd01199"
      },
      "source": [
        "User-defined functions give names to blocks of code.\n"
      ]
    },
    {
      "cell_type": "markdown",
      "id": "19bd0a91-f382-484a-8629-883cb305b52b",
      "metadata": {
        "id": "19bd0a91-f382-484a-8629-883cb305b52b"
      },
      "source": [
        "``` python\n",
        "def spread(values):\n",
        "    \"\"\"Return the spread of the values.\n",
        "\n",
        "    Keyword argument:\n",
        "    values: an array-like object of numerical values\n",
        "    \"\"\"\n",
        "    value_spread = max(values) - min(values)\n",
        "    return value_spread\n",
        "```"
      ]
    },
    {
      "cell_type": "markdown",
      "id": "2667aabd-5887-453d-8a95-3172794d73d9",
      "metadata": {
        "id": "2667aabd-5887-453d-8a95-3172794d73d9"
      },
      "source": [
        "---"
      ]
    },
    {
      "cell_type": "markdown",
      "id": "99d004bc-36bd-4cf0-8431-97eb416d9c72",
      "metadata": {
        "id": "99d004bc-36bd-4cf0-8431-97eb416d9c72"
      },
      "source": [
        "### The First Line"
      ]
    },
    {
      "cell_type": "markdown",
      "id": "c95847d3-9f7d-45fa-96ba-8bcc8633022f",
      "metadata": {
        "id": "c95847d3-9f7d-45fa-96ba-8bcc8633022f"
      },
      "source": [
        "\n",
        "``` python\n",
        "def spread(values):\n",
        "\n",
        "```"
      ]
    },
    {
      "cell_type": "markdown",
      "id": "324fb281-7e94-4402-b2a2-09fc27ee7fa1",
      "metadata": {
        "id": "324fb281-7e94-4402-b2a2-09fc27ee7fa1"
      },
      "source": [
        "* `def` is a Python keyword that indicates you are defining a function\n",
        "* `spread` is the name of the function. This is how the function can be referenced.\n",
        "* `values` is the function argument.\n",
        "    * _A function may have 0, 1, 2, ... arguments._\n",
        "    * `values` serves as a placeholder in the definition for whatever input you actually provide.\n",
        "    * You can set the default value for an argument with an assignment statement.\n",
        "* The `:` is required.\n",
        "\n",
        "###functions default return value is None"
      ]
    },
    {
      "cell_type": "markdown",
      "id": "36aef8af-16d1-4e2a-8dd5-fd0186ab78e2",
      "metadata": {
        "id": "36aef8af-16d1-4e2a-8dd5-fd0186ab78e2"
      },
      "source": [
        "---"
      ]
    },
    {
      "cell_type": "markdown",
      "id": "c562445b-a26d-45b6-ba18-ace9292669a4",
      "metadata": {
        "id": "c562445b-a26d-45b6-ba18-ace9292669a4"
      },
      "source": [
        "### The Docstring"
      ]
    },
    {
      "cell_type": "markdown",
      "id": "9ba04453-3660-49fa-824d-531aac9aff4f",
      "metadata": {
        "id": "9ba04453-3660-49fa-824d-531aac9aff4f"
      },
      "source": [
        "``` python\n",
        "    \"\"\"Return the spread of the values.\n",
        "\n",
        "    Keyword argument:\n",
        "    values: an array-like object of numerical values\n",
        "    \"\"\"\n",
        "```"
      ]
    },
    {
      "cell_type": "markdown",
      "id": "82ad697a-1f6c-4761-a356-c099b1b6e334",
      "metadata": {
        "id": "82ad697a-1f6c-4761-a356-c099b1b6e334"
      },
      "source": [
        "* The docstring provides documentation on what the function does.\n",
        "* Everything between the triple double quotes is included in the docstring."
      ]
    },
    {
      "cell_type": "markdown",
      "id": "6bbe0ad0-0eac-4410-b443-6313cbed6ac9",
      "metadata": {
        "id": "6bbe0ad0-0eac-4410-b443-6313cbed6ac9"
      },
      "source": [
        "---"
      ]
    },
    {
      "cell_type": "markdown",
      "id": "45965744-40bd-4e66-a9cd-afcdc28a9d9b",
      "metadata": {
        "id": "45965744-40bd-4e66-a9cd-afcdc28a9d9b"
      },
      "source": [
        "### The Body"
      ]
    },
    {
      "cell_type": "markdown",
      "id": "6060cff9-15ee-4a38-adb8-42e0616ee993",
      "metadata": {
        "id": "6060cff9-15ee-4a38-adb8-42e0616ee993"
      },
      "source": [
        "\n",
        "``` python\n",
        "    value_spread = max(values) - min(values)\n",
        "    return value_spread\n",
        "    \n",
        "```"
      ]
    },
    {
      "cell_type": "markdown",
      "id": "58744e96-9332-49ea-80af-16d4550256d8",
      "metadata": {
        "id": "58744e96-9332-49ea-80af-16d4550256d8"
      },
      "source": [
        "* `value_spread = ...` and `return value_spread` are part of the body of the function.\n",
        "    * This is the code that you have named as `spread`.\n",
        "    * The spacing is important for identifying the body.\n",
        "* `return value_spread` is the return statement for the function. _A function does not need to have a return statement._"
      ]
    },
    {
      "cell_type": "markdown",
      "id": "4c5bc99f-3b5f-41e0-803f-b2c0cc210bd6",
      "metadata": {
        "id": "4c5bc99f-3b5f-41e0-803f-b2c0cc210bd6"
      },
      "source": [
        "---"
      ]
    },
    {
      "cell_type": "code",
      "execution_count": null,
      "id": "dd0c1705-ed21-4a02-acdd-dc62e3c5610c",
      "metadata": {
        "id": "dd0c1705-ed21-4a02-acdd-dc62e3c5610c"
      },
      "outputs": [],
      "source": [
        "def spread(values):\n",
        "    \"\"\"Return the spread of the values.\n",
        "\n",
        "    Keyword argument:\n",
        "    values: an array-like object of numerical values\n",
        "    \"\"\"\n",
        "    value_spread = max(values) - min(values)\n",
        "    return value_spread"
      ]
    },
    {
      "cell_type": "markdown",
      "id": "3fb50689-ed97-40b3-87d5-f7e27e4712a0",
      "metadata": {
        "id": "3fb50689-ed97-40b3-87d5-f7e27e4712a0"
      },
      "source": [
        "---"
      ]
    },
    {
      "cell_type": "code",
      "execution_count": null,
      "id": "63f18c91-1787-4da4-87a6-bf015a406e52",
      "metadata": {
        "tags": [],
        "id": "63f18c91-1787-4da4-87a6-bf015a406e52",
        "outputId": "48f751c8-e5ed-4c87-8ec2-c052a0cabe29"
      },
      "outputs": [
        {
          "data": {
            "text/plain": [
              "\u001b[0;31mSignature:\u001b[0m \u001b[0mspread\u001b[0m\u001b[0;34m(\u001b[0m\u001b[0mvalues\u001b[0m\u001b[0;34m)\u001b[0m\u001b[0;34m\u001b[0m\u001b[0;34m\u001b[0m\u001b[0m\n",
              "\u001b[0;31mDocstring:\u001b[0m\n",
              "Return the spread of the values.\n",
              "\n",
              "Keyword argument:\n",
              "values: an array-like object of numerical values\n",
              "\u001b[0;31mFile:\u001b[0m      /tmp/ipykernel_198/2414150103.py\n",
              "\u001b[0;31mType:\u001b[0m      function"
            ]
          },
          "metadata": {},
          "output_type": "display_data"
        }
      ],
      "source": [
        "spread?"
      ]
    },
    {
      "cell_type": "markdown",
      "id": "d59576d0-9944-48ff-8db6-e1b415c8fa7b",
      "metadata": {
        "id": "d59576d0-9944-48ff-8db6-e1b415c8fa7b"
      },
      "source": [
        "---"
      ]
    },
    {
      "cell_type": "markdown",
      "id": "204610f1-adf4-488a-a9a1-657159767708",
      "metadata": {
        "id": "204610f1-adf4-488a-a9a1-657159767708"
      },
      "source": [
        "### Demo: Functions"
      ]
    },
    {
      "cell_type": "markdown",
      "id": "52debf56-70c2-4419-8242-d69585a105c4",
      "metadata": {
        "deletable": false,
        "editable": false,
        "id": "52debf56-70c2-4419-8242-d69585a105c4"
      },
      "source": [
        "Create a simple function with one argument and demonstrate using it."
      ]
    },
    {
      "cell_type": "code",
      "execution_count": null,
      "id": "fbbe35f7-f855-4209-9216-8479b87fee85",
      "metadata": {
        "tags": [],
        "id": "fbbe35f7-f855-4209-9216-8479b87fee85"
      },
      "outputs": [],
      "source": [
        "def mult_10(some_number):\n",
        "    value=some_number *10\n",
        "    return value"
      ]
    },
    {
      "cell_type": "code",
      "execution_count": null,
      "id": "822b6eab-dea0-426e-bf69-6f19af6c3dc5",
      "metadata": {
        "tags": [],
        "id": "822b6eab-dea0-426e-bf69-6f19af6c3dc5",
        "outputId": "7c439b27-2a42-42f2-d5b3-3acebe5f29f3"
      },
      "outputs": [
        {
          "data": {
            "text/plain": [
              "60"
            ]
          },
          "execution_count": 11,
          "metadata": {},
          "output_type": "execute_result"
        }
      ],
      "source": [
        "mult_10(6)"
      ]
    },
    {
      "cell_type": "code",
      "execution_count": null,
      "id": "7f630e3b-88c3-4052-b07b-1b67ad8ed8b3",
      "metadata": {
        "tags": [],
        "id": "7f630e3b-88c3-4052-b07b-1b67ad8ed8b3"
      },
      "outputs": [],
      "source": [
        "num = 3.45"
      ]
    },
    {
      "cell_type": "code",
      "execution_count": null,
      "id": "138856d1-eeec-448c-bcdc-56713456f89e",
      "metadata": {
        "tags": [],
        "id": "138856d1-eeec-448c-bcdc-56713456f89e",
        "outputId": "63521bcc-dbf2-41d9-8007-b8e8a077c183"
      },
      "outputs": [
        {
          "data": {
            "text/plain": [
              "34.5"
            ]
          },
          "execution_count": 12,
          "metadata": {},
          "output_type": "execute_result"
        }
      ],
      "source": [
        "mult_10(num)"
      ]
    },
    {
      "cell_type": "code",
      "execution_count": null,
      "id": "a97f817b-0b4e-40b8-86c4-db7f690a7e2f",
      "metadata": {
        "tags": [],
        "id": "a97f817b-0b4e-40b8-86c4-db7f690a7e2f",
        "outputId": "0e2f3127-8407-4d94-f2cf-4a5507855b13"
      },
      "outputs": [
        {
          "data": {
            "text/plain": [
              "34.5"
            ]
          },
          "execution_count": 13,
          "metadata": {},
          "output_type": "execute_result"
        }
      ],
      "source": [
        "mult_10(some_number=num)"
      ]
    },
    {
      "cell_type": "code",
      "execution_count": null,
      "id": "d5994f13-aa6c-4c6e-b8f8-4a8cdde67c0b",
      "metadata": {
        "tags": [],
        "id": "d5994f13-aa6c-4c6e-b8f8-4a8cdde67c0b"
      },
      "outputs": [],
      "source": [
        "..."
      ]
    },
    {
      "cell_type": "markdown",
      "id": "2d74b1ec-3e83-43ee-9e6e-7fb076428a7d",
      "metadata": {
        "id": "2d74b1ec-3e83-43ee-9e6e-7fb076428a7d"
      },
      "source": [
        "---"
      ]
    },
    {
      "cell_type": "markdown",
      "id": "27e4d11c-0039-4ff0-9174-6030db4bd63d",
      "metadata": {
        "id": "27e4d11c-0039-4ff0-9174-6030db4bd63d"
      },
      "source": [
        "### Demo: Scope"
      ]
    },
    {
      "cell_type": "markdown",
      "id": "ab6eeb90-f66b-4e82-add8-bff8615e6bde",
      "metadata": {
        "deletable": false,
        "editable": false,
        "id": "ab6eeb90-f66b-4e82-add8-bff8615e6bde"
      },
      "source": [
        "Illustrate the concept of scope using functions."
      ]
    },
    {
      "cell_type": "code",
      "execution_count": null,
      "id": "f89e5bb9-6b7f-402f-b186-42d9a73da17c",
      "metadata": {
        "id": "f89e5bb9-6b7f-402f-b186-42d9a73da17c",
        "outputId": "936c3f2a-a8c8-45ac-eeef-80a9a9c610d1"
      },
      "outputs": [
        {
          "data": {
            "text/plain": [
              "50"
            ]
          },
          "execution_count": 14,
          "metadata": {},
          "output_type": "execute_result"
        }
      ],
      "source": [
        "mult_10(5)"
      ]
    },
    {
      "cell_type": "code",
      "execution_count": null,
      "id": "3201f210-eec3-4945-8501-690fedf5f7b7",
      "metadata": {
        "id": "3201f210-eec3-4945-8501-690fedf5f7b7"
      },
      "outputs": [],
      "source": [
        "value=10"
      ]
    },
    {
      "cell_type": "code",
      "execution_count": null,
      "id": "103f7017-35c9-4553-9b13-f91326c8f0a8",
      "metadata": {
        "id": "103f7017-35c9-4553-9b13-f91326c8f0a8",
        "outputId": "8618e9d8-0cd6-4cba-a1aa-f3c583a53de5"
      },
      "outputs": [
        {
          "data": {
            "text/plain": [
              "50"
            ]
          },
          "execution_count": 16,
          "metadata": {},
          "output_type": "execute_result"
        }
      ],
      "source": [
        "mult_10(5)"
      ]
    },
    {
      "cell_type": "code",
      "execution_count": null,
      "id": "2341fc93-ee3d-418c-9b72-60068f3d9dd2",
      "metadata": {
        "scrolled": true,
        "tags": [],
        "id": "2341fc93-ee3d-418c-9b72-60068f3d9dd2"
      },
      "outputs": [],
      "source": [
        "#A NameError when some_number is referenced outside of the function body\n",
        "..."
      ]
    },
    {
      "cell_type": "code",
      "execution_count": null,
      "id": "e2f1d8a4-5a75-42be-aab1-3c3c15d3595c",
      "metadata": {
        "tags": [],
        "id": "e2f1d8a4-5a75-42be-aab1-3c3c15d3595c"
      },
      "outputs": [],
      "source": [
        "some_number = ..."
      ]
    },
    {
      "cell_type": "code",
      "execution_count": null,
      "id": "45b9789d-8489-4dfc-bcb7-582e813afd42",
      "metadata": {
        "tags": [],
        "id": "45b9789d-8489-4dfc-bcb7-582e813afd42"
      },
      "outputs": [],
      "source": [
        "..."
      ]
    },
    {
      "cell_type": "code",
      "execution_count": null,
      "id": "cfeede38-f78b-4969-9f1b-f21588696a2b",
      "metadata": {
        "tags": [],
        "id": "cfeede38-f78b-4969-9f1b-f21588696a2b"
      },
      "outputs": [],
      "source": [
        "..."
      ]
    },
    {
      "cell_type": "code",
      "execution_count": null,
      "id": "435357e9-af0e-47d1-925d-eb037e56a43b",
      "metadata": {
        "tags": [],
        "id": "435357e9-af0e-47d1-925d-eb037e56a43b"
      },
      "outputs": [],
      "source": [
        "..."
      ]
    },
    {
      "cell_type": "code",
      "execution_count": null,
      "id": "19909882-47b4-4fcd-89cd-23b7b1cc86eb",
      "metadata": {
        "tags": [],
        "id": "19909882-47b4-4fcd-89cd-23b7b1cc86eb"
      },
      "outputs": [],
      "source": [
        "#A NameError when new_variable is referenced outside of the function body\n",
        "..."
      ]
    },
    {
      "cell_type": "code",
      "execution_count": null,
      "id": "352e83f7-686e-4013-8a35-5bd9a3496cdd",
      "metadata": {
        "tags": [],
        "id": "352e83f7-686e-4013-8a35-5bd9a3496cdd"
      },
      "outputs": [],
      "source": [
        "an_input = ...\n",
        "..."
      ]
    },
    {
      "cell_type": "code",
      "execution_count": null,
      "id": "cfb9fe3c-4c48-4739-b0f7-95fe66ae37f5",
      "metadata": {
        "tags": [],
        "id": "cfb9fe3c-4c48-4739-b0f7-95fe66ae37f5"
      },
      "outputs": [],
      "source": [
        "#A NameError when new_variable is referenced outside of the function body\n",
        "..."
      ]
    },
    {
      "cell_type": "markdown",
      "id": "6faaa511-41be-4dfb-90c0-fad961bb383b",
      "metadata": {
        "id": "6faaa511-41be-4dfb-90c0-fad961bb383b"
      },
      "source": [
        "---"
      ]
    },
    {
      "cell_type": "markdown",
      "id": "2ee98177-b921-4b38-a483-ab2143bd49cb",
      "metadata": {
        "id": "2ee98177-b921-4b38-a483-ab2143bd49cb"
      },
      "source": [
        "### Demo: Type Agnostic"
      ]
    },
    {
      "cell_type": "markdown",
      "id": "6d66a1d2-a0af-4f12-a4f9-6667ad8b4dfc",
      "metadata": {
        "deletable": false,
        "editable": false,
        "id": "6d66a1d2-a0af-4f12-a4f9-6667ad8b4dfc"
      },
      "source": [
        "Show that Python functions are type agnostic."
      ]
    },
    {
      "cell_type": "code",
      "execution_count": null,
      "id": "13d02b6a-c856-40a9-9026-118fcedca2c5",
      "metadata": {
        "tags": [],
        "id": "13d02b6a-c856-40a9-9026-118fcedca2c5",
        "outputId": "16314d72-bd59-46ef-feb2-12615715a6fa"
      },
      "outputs": [
        {
          "data": {
            "text/plain": [
              "'aaaaaaaaaa'"
            ]
          },
          "execution_count": 17,
          "metadata": {},
          "output_type": "execute_result"
        }
      ],
      "source": [
        "mult_10('a')"
      ]
    },
    {
      "cell_type": "code",
      "execution_count": null,
      "id": "5435145c-72f6-4bc4-9fce-a6a87718ec73",
      "metadata": {
        "tags": [],
        "id": "5435145c-72f6-4bc4-9fce-a6a87718ec73",
        "outputId": "34024b5f-8e73-4c1c-cff6-28729c740fb8"
      },
      "outputs": [
        {
          "data": {
            "text/plain": [
              "'aaaaaaaaaa'"
            ]
          },
          "execution_count": 18,
          "metadata": {},
          "output_type": "execute_result"
        }
      ],
      "source": [
        "'a'*10"
      ]
    },
    {
      "cell_type": "markdown",
      "id": "e17725c9-df4a-428d-b49b-ac490e69af3e",
      "metadata": {
        "id": "e17725c9-df4a-428d-b49b-ac490e69af3e"
      },
      "source": [
        "---"
      ]
    },
    {
      "cell_type": "markdown",
      "id": "e214692c-1089-4e2b-a9fe-d10297a81f53",
      "metadata": {
        "id": "e214692c-1089-4e2b-a9fe-d10297a81f53"
      },
      "source": [
        "### Demo: Multiple Arguments"
      ]
    },
    {
      "cell_type": "markdown",
      "id": "32655b8d-3bff-4ccc-9268-b9fa5e938bcf",
      "metadata": {
        "deletable": false,
        "editable": false,
        "id": "32655b8d-3bff-4ccc-9268-b9fa5e938bcf"
      },
      "source": [
        "Create a function that calculates the Hypotenuse Length of a Right Triangle using:\n",
        "\n",
        "Pythagoras's Theorem: If $x$ and $y$ denote the lengths of the right-angle sides, then the hypotenuse length satisfies:"
      ]
    },
    {
      "cell_type": "markdown",
      "id": "c7da8774-dfda-4290-a562-9b25c545fc06",
      "metadata": {
        "deletable": false,
        "editable": false,
        "id": "c7da8774-dfda-4290-a562-9b25c545fc06"
      },
      "source": [
        "$ h^2 = x^2 + y^2 \\hspace{20 pt} \\iff \\hspace{20 pt} h = \\sqrt{ x^2 + y^2 } $"
      ]
    },
    {
      "cell_type": "code",
      "execution_count": null,
      "id": "27daaf77-e6b4-4bf6-8ff4-b2ff24fc4a4e",
      "metadata": {
        "tags": [],
        "id": "27daaf77-e6b4-4bf6-8ff4-b2ff24fc4a4e"
      },
      "outputs": [],
      "source": [
        "def hypotenuse(x, y):\n",
        "    h = np.sqrt(x*x + y*y)\n",
        "    return h"
      ]
    },
    {
      "cell_type": "code",
      "execution_count": null,
      "id": "e144bc06-f2bb-430e-9cb0-d866e0051931",
      "metadata": {
        "tags": [],
        "id": "e144bc06-f2bb-430e-9cb0-d866e0051931",
        "outputId": "dac13939-7438-47f9-d43e-0d86bf802472"
      },
      "outputs": [
        {
          "data": {
            "text/plain": [
              "5.0"
            ]
          },
          "execution_count": 20,
          "metadata": {},
          "output_type": "execute_result"
        }
      ],
      "source": [
        "hypotenuse(3,4)"
      ]
    },
    {
      "cell_type": "code",
      "execution_count": null,
      "id": "7b396b41-d73a-4b7a-ad9e-792b863c3117",
      "metadata": {
        "tags": [],
        "id": "7b396b41-d73a-4b7a-ad9e-792b863c3117",
        "outputId": "7c420ed5-0b58-44c1-9fec-722aecc65e29"
      },
      "outputs": [
        {
          "data": {
            "text/plain": [
              "5.0"
            ]
          },
          "execution_count": 21,
          "metadata": {},
          "output_type": "execute_result"
        }
      ],
      "source": [
        "hypotenuse(y=3,x=4)"
      ]
    },
    {
      "cell_type": "markdown",
      "id": "f2bc38e2-b9f2-4a7c-ac9b-c79302d96c33",
      "metadata": {
        "id": "f2bc38e2-b9f2-4a7c-ac9b-c79302d96c33"
      },
      "source": [
        "---"
      ]
    },
    {
      "cell_type": "markdown",
      "id": "98360ba3-857a-4d64-9ba8-0380b30a7f86",
      "metadata": {
        "tags": [],
        "id": "98360ba3-857a-4d64-9ba8-0380b30a7f86"
      },
      "source": [
        "### Demo: No Arguments"
      ]
    },
    {
      "cell_type": "markdown",
      "id": "e88d9bfd-da8d-48e1-a969-4e4c0a7b3c51",
      "metadata": {
        "deletable": false,
        "editable": false,
        "id": "e88d9bfd-da8d-48e1-a969-4e4c0a7b3c51"
      },
      "source": [
        "Create and use a function that has no arguments."
      ]
    },
    {
      "cell_type": "code",
      "execution_count": null,
      "id": "8c768d65-926d-43cc-bc4f-39557cc5b9d4",
      "metadata": {
        "tags": [],
        "id": "8c768d65-926d-43cc-bc4f-39557cc5b9d4"
      },
      "outputs": [],
      "source": [
        "def my_pi():\n",
        "    return np.pi"
      ]
    },
    {
      "cell_type": "code",
      "execution_count": null,
      "id": "45b7ab7a-f668-498f-8638-77d6779eea60",
      "metadata": {
        "tags": [],
        "id": "45b7ab7a-f668-498f-8638-77d6779eea60",
        "outputId": "04a5fba8-6993-43f7-c6d4-056f7215bec0"
      },
      "outputs": [
        {
          "data": {
            "text/plain": [
              "3.141592653589793"
            ]
          },
          "execution_count": 23,
          "metadata": {},
          "output_type": "execute_result"
        }
      ],
      "source": [
        "my_pi()"
      ]
    },
    {
      "cell_type": "code",
      "execution_count": null,
      "id": "990f4540-bd7a-4792-81b0-f15e0a8f2020",
      "metadata": {
        "tags": [],
        "id": "990f4540-bd7a-4792-81b0-f15e0a8f2020"
      },
      "outputs": [],
      "source": [
        "# You need to use the () for the function call\n",
        "..."
      ]
    },
    {
      "cell_type": "markdown",
      "id": "8e493b98-b91f-4580-a5c1-ccb6d8d2bb76",
      "metadata": {
        "id": "8e493b98-b91f-4580-a5c1-ccb6d8d2bb76"
      },
      "source": [
        "---"
      ]
    },
    {
      "cell_type": "markdown",
      "id": "e6eed59f-284c-430b-8e33-8c45c8ae5639",
      "metadata": {
        "id": "e6eed59f-284c-430b-8e33-8c45c8ae5639"
      },
      "source": [
        "## Apply"
      ]
    },
    {
      "cell_type": "markdown",
      "id": "065348cc-dec5-4304-ade0-83ea8199e9d3",
      "metadata": {
        "id": "065348cc-dec5-4304-ade0-83ea8199e9d3"
      },
      "source": [
        "---"
      ]
    },
    {
      "cell_type": "markdown",
      "id": "87b859f3-0074-4dd5-a3e7-974f3184ff7e",
      "metadata": {
        "id": "87b859f3-0074-4dd5-a3e7-974f3184ff7e"
      },
      "source": [
        "### Apply"
      ]
    },
    {
      "cell_type": "code",
      "execution_count": null,
      "id": "a3c07e78-689e-4d99-9c4a-498b1f467db9",
      "metadata": {
        "id": "a3c07e78-689e-4d99-9c4a-498b1f467db9",
        "outputId": "f92524e3-6617-4942-c873-fcf446620def"
      },
      "outputs": [
        {
          "data": {
            "text/plain": [
              "array([0, 1, 2, 3, 4])"
            ]
          },
          "execution_count": 24,
          "metadata": {},
          "output_type": "execute_result"
        }
      ],
      "source": [
        "np.arange(5)"
      ]
    },
    {
      "cell_type": "code",
      "execution_count": null,
      "id": "7eacf3c1-cd2e-46c2-b122-42b87f9de5c5",
      "metadata": {
        "id": "7eacf3c1-cd2e-46c2-b122-42b87f9de5c5",
        "outputId": "11a008a4-a0f3-4b9d-b050-8bf05208c8fb"
      },
      "outputs": [
        {
          "name": "stdout",
          "output_type": "stream",
          "text": [
            "0\n",
            "10\n",
            "20\n",
            "30\n",
            "40\n"
          ]
        }
      ],
      "source": [
        "for a in np.arange(5):\n",
        "    b = mult_10(a)\n",
        "    print(b)"
      ]
    },
    {
      "cell_type": "markdown",
      "id": "83640f4f-659a-47b8-b240-209062e177fc",
      "metadata": {
        "id": "83640f4f-659a-47b8-b240-209062e177fc"
      },
      "source": [
        "* The apply method creates an array by calling a function on every element in input column(s)\n",
        "    * First argument: The function to apply\n",
        "    * Other arguments: The input column(s)\n",
        "* Produces an array containing the output of the function on each input column element.\n",
        "* Example application: `table_name.apply(function_name, 'column_label')`\n"
      ]
    },
    {
      "cell_type": "markdown",
      "id": "c05b8190-929f-47c3-b15c-3d57f332464d",
      "metadata": {
        "id": "c05b8190-929f-47c3-b15c-3d57f332464d"
      },
      "source": [
        "---"
      ]
    },
    {
      "cell_type": "markdown",
      "id": "dc236879-bd5c-4c9b-b8bb-132ed0e9c6b2",
      "metadata": {
        "id": "dc236879-bd5c-4c9b-b8bb-132ed0e9c6b2"
      },
      "source": [
        "### Demo: Apply"
      ]
    },
    {
      "cell_type": "markdown",
      "id": "d74d05a4-324b-41f8-8f10-eb97c4befdc1",
      "metadata": {
        "deletable": false,
        "editable": false,
        "id": "d74d05a4-324b-41f8-8f10-eb97c4befdc1"
      },
      "source": [
        "Show how to apply a function to a table."
      ]
    },
    {
      "cell_type": "code",
      "execution_count": null,
      "id": "3c0eaca2-e66f-40f1-a66a-d57b16156e21",
      "metadata": {
        "tags": [],
        "id": "3c0eaca2-e66f-40f1-a66a-d57b16156e21",
        "outputId": "e1ecd291-3d46-4ba9-f7bd-c254093713b1"
      },
      "outputs": [
        {
          "data": {
            "text/html": [
              "<table border=\"1\" class=\"dataframe\">\n",
              "    <thead>\n",
              "        <tr>\n",
              "            <th>Item Number</th> <th>Charge</th>\n",
              "        </tr>\n",
              "    </thead>\n",
              "    <tbody>\n",
              "        <tr>\n",
              "            <td>1          </td> <td>$4.30  </td>\n",
              "        </tr>\n",
              "        <tr>\n",
              "            <td>2          </td> <td>$120.21</td>\n",
              "        </tr>\n",
              "        <tr>\n",
              "            <td>3          </td> <td>$10.50 </td>\n",
              "        </tr>\n",
              "        <tr>\n",
              "            <td>4          </td> <td>$325.51</td>\n",
              "        </tr>\n",
              "    </tbody>\n",
              "</table>"
            ],
            "text/plain": [
              "Item Number | Charge\n",
              "1           | $4.30\n",
              "2           | $120.21\n",
              "3           | $10.50\n",
              "4           | $325.51"
            ]
          },
          "execution_count": 26,
          "metadata": {},
          "output_type": "execute_result"
        }
      ],
      "source": [
        "charge_table = Table().with_columns(\n",
        "    'Item Number', np.arange(1, 5),\n",
        "    'Charge', make_array('$4.30', '$120.21', '$10.50', '$325.51')\n",
        ")\n",
        "charge_table"
      ]
    },
    {
      "cell_type": "code",
      "execution_count": null,
      "id": "89bb77c1-9e7c-492d-a74b-892c239e3878",
      "metadata": {
        "tags": [],
        "id": "89bb77c1-9e7c-492d-a74b-892c239e3878"
      },
      "outputs": [],
      "source": [
        "# The data type of the charges is causing an error\n",
        "..."
      ]
    },
    {
      "cell_type": "code",
      "execution_count": null,
      "id": "49e0cd22-7bbb-4fa2-baad-056d37004009",
      "metadata": {
        "tags": [],
        "id": "49e0cd22-7bbb-4fa2-baad-056d37004009"
      },
      "outputs": [],
      "source": [
        "def dollar_to_float(a_string_dollar_amount):\n",
        "    b = a_string_dollar_amount.replace('$', '')\n",
        "    return float(b)"
      ]
    },
    {
      "cell_type": "code",
      "execution_count": null,
      "id": "74634b71-6114-4412-9fc7-bd4795d1f083",
      "metadata": {
        "tags": [],
        "id": "74634b71-6114-4412-9fc7-bd4795d1f083",
        "outputId": "8119706e-f0fc-4892-daee-1142479e96bf"
      },
      "outputs": [
        {
          "data": {
            "text/plain": [
              "5.6"
            ]
          },
          "execution_count": 28,
          "metadata": {},
          "output_type": "execute_result"
        }
      ],
      "source": [
        "dollar_to_float('$5.6')"
      ]
    },
    {
      "cell_type": "code",
      "execution_count": null,
      "id": "63f4eef3-ecb9-4830-93c4-db782580edea",
      "metadata": {
        "tags": [],
        "id": "63f4eef3-ecb9-4830-93c4-db782580edea",
        "outputId": "1b8c2edf-2dea-437b-eb82-763c210830b4"
      },
      "outputs": [
        {
          "data": {
            "text/plain": [
              "array([   4.3 ,  120.21,   10.5 ,  325.51])"
            ]
          },
          "execution_count": 29,
          "metadata": {},
          "output_type": "execute_result"
        }
      ],
      "source": [
        "charge_table.apply(dollar_to_float, 'Charge')"
      ]
    },
    {
      "cell_type": "code",
      "execution_count": null,
      "id": "a149d5bc-4950-47f6-bc1f-03f9c2b518ac",
      "metadata": {
        "id": "a149d5bc-4950-47f6-bc1f-03f9c2b518ac",
        "outputId": "39c712ed-a210-4a5c-bddd-a595f9aee788"
      },
      "outputs": [
        {
          "data": {
            "text/html": [
              "<table border=\"1\" class=\"dataframe\">\n",
              "    <thead>\n",
              "        <tr>\n",
              "            <th>Item Number</th> <th>Charge</th> <th>new_charge</th>\n",
              "        </tr>\n",
              "    </thead>\n",
              "    <tbody>\n",
              "        <tr>\n",
              "            <td>1          </td> <td>$4.30  </td> <td>4.3       </td>\n",
              "        </tr>\n",
              "        <tr>\n",
              "            <td>2          </td> <td>$120.21</td> <td>120.21    </td>\n",
              "        </tr>\n",
              "        <tr>\n",
              "            <td>3          </td> <td>$10.50 </td> <td>10.5      </td>\n",
              "        </tr>\n",
              "        <tr>\n",
              "            <td>4          </td> <td>$325.51</td> <td>325.51    </td>\n",
              "        </tr>\n",
              "    </tbody>\n",
              "</table>"
            ],
            "text/plain": [
              "Item Number | Charge  | new_charge\n",
              "1           | $4.30   | 4.3\n",
              "2           | $120.21 | 120.21\n",
              "3           | $10.50  | 10.5\n",
              "4           | $325.51 | 325.51"
            ]
          },
          "execution_count": 30,
          "metadata": {},
          "output_type": "execute_result"
        }
      ],
      "source": [
        "c = charge_table.apply(dollar_to_float, 'Charge')\n",
        "charge_table2 = charge_table.with_column('new_charge', c)\n",
        "charge_table2"
      ]
    },
    {
      "cell_type": "code",
      "execution_count": null,
      "id": "0fb71b40-d63c-4933-934e-f0ffd82c3aa3",
      "metadata": {
        "id": "0fb71b40-d63c-4933-934e-f0ffd82c3aa3",
        "outputId": "45cefe1c-fff3-4c08-ccc7-df18449d24e1"
      },
      "outputs": [
        {
          "data": {
            "text/plain": [
              "array([   43. ,  1202.1,   105. ,  3255.1])"
            ]
          },
          "execution_count": 31,
          "metadata": {},
          "output_type": "execute_result"
        }
      ],
      "source": [
        "charge_table2.apply(mult_10, 'new_charge')"
      ]
    },
    {
      "cell_type": "markdown",
      "id": "1416ef40-cb3b-4905-8fd6-e94d7b994d47",
      "metadata": {
        "id": "1416ef40-cb3b-4905-8fd6-e94d7b994d47"
      },
      "source": [
        "---"
      ]
    },
    {
      "cell_type": "markdown",
      "id": "0b15e874-7ca9-44f9-a0c2-44300d38b7ca",
      "metadata": {
        "deletable": false,
        "editable": false,
        "id": "0b15e874-7ca9-44f9-a0c2-44300d38b7ca"
      },
      "source": [
        "Use the `apply` method with a function with multiple arguments."
      ]
    },
    {
      "cell_type": "code",
      "execution_count": null,
      "id": "7bb4865a-0ce9-4b4f-9d9a-ae749b70aeac",
      "metadata": {
        "tags": [],
        "id": "7bb4865a-0ce9-4b4f-9d9a-ae749b70aeac",
        "outputId": "88bbe377-f8d7-4c83-e8a9-d24fbccbfd62"
      },
      "outputs": [
        {
          "data": {
            "text/html": [
              "<table border=\"1\" class=\"dataframe\">\n",
              "    <thead>\n",
              "        <tr>\n",
              "            <th>x</th> <th>y</th>\n",
              "        </tr>\n",
              "    </thead>\n",
              "    <tbody>\n",
              "        <tr>\n",
              "            <td>15  </td> <td>1   </td>\n",
              "        </tr>\n",
              "        <tr>\n",
              "            <td>7   </td> <td>0   </td>\n",
              "        </tr>\n",
              "        <tr>\n",
              "            <td>5   </td> <td>2   </td>\n",
              "        </tr>\n",
              "        <tr>\n",
              "            <td>21  </td> <td>32  </td>\n",
              "        </tr>\n",
              "    </tbody>\n",
              "</table>"
            ],
            "text/plain": [
              "x    | y\n",
              "15   | 1\n",
              "7    | 0\n",
              "5    | 2\n",
              "21   | 32"
            ]
          },
          "execution_count": 33,
          "metadata": {},
          "output_type": "execute_result"
        }
      ],
      "source": [
        "triangle_info = Table().with_columns(\n",
        "    'x', make_array(15, 7, 5, 21),\n",
        "    'y', make_array(1, 0, 2, 32)\n",
        ")\n",
        "triangle_info"
      ]
    },
    {
      "cell_type": "code",
      "execution_count": null,
      "id": "b649ae66-57ca-4369-b8eb-e7b94b0ecd5c",
      "metadata": {
        "tags": [],
        "id": "b649ae66-57ca-4369-b8eb-e7b94b0ecd5c",
        "outputId": "d4998afc-47df-442c-f027-77300080b3bf"
      },
      "outputs": [
        {
          "data": {
            "text/html": [
              "<table border=\"1\" class=\"dataframe\">\n",
              "    <thead>\n",
              "        <tr>\n",
              "            <th>x</th> <th>y</th> <th>h</th>\n",
              "        </tr>\n",
              "    </thead>\n",
              "    <tbody>\n",
              "        <tr>\n",
              "            <td>15  </td> <td>1   </td> <td>15.0333</td>\n",
              "        </tr>\n",
              "        <tr>\n",
              "            <td>7   </td> <td>0   </td> <td>7      </td>\n",
              "        </tr>\n",
              "        <tr>\n",
              "            <td>5   </td> <td>2   </td> <td>5.38516</td>\n",
              "        </tr>\n",
              "        <tr>\n",
              "            <td>21  </td> <td>32  </td> <td>38.2753</td>\n",
              "        </tr>\n",
              "    </tbody>\n",
              "</table>"
            ],
            "text/plain": [
              "x    | y    | h\n",
              "15   | 1    | 15.0333\n",
              "7    | 0    | 7\n",
              "5    | 2    | 5.38516\n",
              "21   | 32   | 38.2753"
            ]
          },
          "execution_count": 34,
          "metadata": {},
          "output_type": "execute_result"
        }
      ],
      "source": [
        "hypotenuses = triangle_info.apply(hypotenuse, 'x', 'y')\n",
        "triangle_info.with_column('h', hypotenuses)"
      ]
    },
    {
      "cell_type": "markdown",
      "id": "4b1dd12f-3440-409c-b975-ad9c8b310cf6",
      "metadata": {
        "id": "4b1dd12f-3440-409c-b975-ad9c8b310cf6"
      },
      "source": [
        "---"
      ]
    },
    {
      "cell_type": "markdown",
      "id": "6332709a-246b-494a-a218-d0e15a318d6a",
      "metadata": {
        "editable": true,
        "tags": [],
        "id": "6332709a-246b-494a-a218-d0e15a318d6a"
      },
      "source": [
        "## Attribution"
      ]
    },
    {
      "cell_type": "markdown",
      "id": "55f638ba-2d95-4f0c-8786-8f4c9b5f1ba0",
      "metadata": {
        "id": "55f638ba-2d95-4f0c-8786-8f4c9b5f1ba0"
      },
      "source": [
        "This content is licensed under the <a href=\"https://creativecommons.org/licenses/by-nc-sa/4.0/\">Creative Commons Attribution-NonCommercial-ShareAlike 4.0 International License (CC BY-NC-SA 4.0)</a> and derived from the <a href=\"https://www.data8.org/\">Data 8: The Foundations of Data Science</a> offered by the University of California, Berkeley.\n",
        "\n",
        "<img src=\"./by-nc-sa.png\" width=100px>"
      ]
    }
  ],
  "metadata": {
    "kernelspec": {
      "display_name": "Python 3 (ipykernel)",
      "language": "python",
      "name": "python3"
    },
    "language_info": {
      "codemirror_mode": {
        "name": "ipython",
        "version": 3
      },
      "file_extension": ".py",
      "mimetype": "text/x-python",
      "name": "python",
      "nbconvert_exporter": "python",
      "pygments_lexer": "ipython3",
      "version": "3.11.9"
    },
    "otter": {
      "OK_FORMAT": true,
      "tests": {}
    },
    "colab": {
      "provenance": [],
      "include_colab_link": true
    }
  },
  "nbformat": 4,
  "nbformat_minor": 5
}