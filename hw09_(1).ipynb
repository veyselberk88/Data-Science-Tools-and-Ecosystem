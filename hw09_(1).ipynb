{
  "cells": [
    {
      "cell_type": "markdown",
      "metadata": {
        "id": "view-in-github",
        "colab_type": "text"
      },
      "source": [
        "<a href=\"https://colab.research.google.com/github/veyselberk88/Data-Science-Tools-and-Ecosystem/blob/main/hw09_(1).ipynb\" target=\"_parent\"><img src=\"https://colab.research.google.com/assets/colab-badge.svg\" alt=\"Open In Colab\"/></a>"
      ]
    },
    {
      "cell_type": "code",
      "execution_count": null,
      "id": "3f842077",
      "metadata": {
        "deletable": false,
        "editable": false,
        "id": "3f842077"
      },
      "outputs": [],
      "source": [
        "# Initialize Otter\n",
        "import otter\n",
        "grader = otter.Notebook(\"hw09.ipynb\")"
      ]
    },
    {
      "cell_type": "markdown",
      "id": "1fcf6e3d-0e54-4b0c-9f5d-4003f5d79b3d",
      "metadata": {
        "id": "1fcf6e3d-0e54-4b0c-9f5d-4003f5d79b3d"
      },
      "source": [
        "<img src=\"./ccsf.png\" alt=\"CCSF Logo\" width=200px style=\"margin:0px -5px\">"
      ]
    },
    {
      "cell_type": "markdown",
      "id": "bffa7518-bca5-4360-93e6-74ca62793148",
      "metadata": {
        "id": "bffa7518-bca5-4360-93e6-74ca62793148"
      },
      "source": [
        "# Homework 09: Estimation"
      ]
    },
    {
      "cell_type": "markdown",
      "id": "33f208b9-bb84-48bb-9e25-4b6cce3bb7fb",
      "metadata": {
        "id": "33f208b9-bb84-48bb-9e25-4b6cce3bb7fb"
      },
      "source": [
        "## References\n",
        "\n",
        "* [Estimation](https://ccsf-math-108.github.io/textbook/chapters/13/Estimation.html)\n",
        "* [`datascience` Documentation](https://datascience.readthedocs.io/)\n",
        "* [Code Reference](https://ccsf-math-108.github.io/materials-sp25/resources/code-reference.html)"
      ]
    },
    {
      "cell_type": "markdown",
      "id": "75282420-ef46-44c5-b253-f95d0bab3c2c",
      "metadata": {
        "id": "75282420-ef46-44c5-b253-f95d0bab3c2c"
      },
      "source": [
        "---"
      ]
    },
    {
      "cell_type": "markdown",
      "id": "5fb3dbcf-2017-460a-aad8-ca0b191acbd6",
      "metadata": {
        "id": "5fb3dbcf-2017-460a-aad8-ca0b191acbd6"
      },
      "source": [
        "## Assignment Reminders"
      ]
    },
    {
      "cell_type": "markdown",
      "id": "eebddfb8-e90a-463c-a96c-a27a5229eae1",
      "metadata": {
        "id": "eebddfb8-e90a-463c-a96c-a27a5229eae1"
      },
      "source": [
        "- 🚨 Make sure to run the code cell at the top of this notebook that starts with `# Initialize Otter` to load the auto-grader.\n",
        "- Your Tasks are categorized as auto-graded (📍) and manually graded (📍🔎).\n",
        "    - For all the auto-graded tasks:\n",
        "        - Replace the `...` in the provided code cell with your own code.\n",
        "        - Run the `grader.check` code cell to run some tests on your code.\n",
        "        - Keep in mind that for homework and project assignments, sometimes there are hidden tests that you will not be able to see the results of that we use for scoring the correctness of your response. **Passing the auto-grader does not guarantee that your answer is correct.**\n",
        "    - For all the manually graded tasks:\n",
        "        - You might need to provide your own response to the provided prompt. Do so by replacing the template text \"_Type your answer here, replacing this text._\" with your own words.\n",
        "        - You might need to produce a graphic or something else using code. Do so by replacing the `...` in the code cell to generate the image, table, etc.\n",
        "        - In either case, review the rubric on the associated <a href=\"https://ccsf.instructure.com\" target=\"_blank\">Canvas</a> Assignment page to understand the scoring criteria.\n",
        "- Throughout this assignment and all future ones, please be sure to not re-assign variables throughout the notebook! _For example, if you use `max_temperature` in your answer to one question, do not reassign it later on. Otherwise, you will fail tests that you thought you were passing previously!_\n",
        "- You may [submit](#Submit-Your-Assignment-to-Canvas) this assignment as many times as you want before the deadline. Your instructor will score the last version you submit once the deadline has passed.\n",
        "- We encourage you to discuss this assignment with others but make sure to write and submit your own code. Refer to the syllabus to learn more about how to learn cooperatively."
      ]
    },
    {
      "cell_type": "markdown",
      "id": "df7d96bc-8524-41da-83a7-c564dd356c72",
      "metadata": {
        "id": "df7d96bc-8524-41da-83a7-c564dd356c72"
      },
      "source": [
        "---"
      ]
    },
    {
      "cell_type": "markdown",
      "id": "ed729133-f3dc-491b-8416-748200e40097",
      "metadata": {
        "id": "ed729133-f3dc-491b-8416-748200e40097"
      },
      "source": [
        "## Configure the Notebook"
      ]
    },
    {
      "cell_type": "markdown",
      "id": "eea182aa-dd77-44d1-8a75-b433f3c112ce",
      "metadata": {
        "id": "eea182aa-dd77-44d1-8a75-b433f3c112ce"
      },
      "source": [
        "Run the following cell to configure this Notebook."
      ]
    },
    {
      "cell_type": "code",
      "execution_count": null,
      "id": "cc005111-9401-4908-ae21-9d81bfc43738",
      "metadata": {
        "tags": [],
        "id": "cc005111-9401-4908-ae21-9d81bfc43738"
      },
      "outputs": [],
      "source": [
        "from datascience import *\n",
        "import numpy as np\n",
        "%matplotlib inline\n",
        "import matplotlib.pyplot as plt\n",
        "plt.style.use('fivethirtyeight')"
      ]
    },
    {
      "cell_type": "markdown",
      "id": "ee9b788a-a200-433d-9fa4-46690342b377",
      "metadata": {
        "id": "ee9b788a-a200-433d-9fa4-46690342b377"
      },
      "source": [
        "---"
      ]
    },
    {
      "cell_type": "markdown",
      "id": "11a67650-4edb-480c-aeab-5f6a68b72cab",
      "metadata": {
        "id": "11a67650-4edb-480c-aeab-5f6a68b72cab"
      },
      "source": [
        "## Thai Restaurants\n"
      ]
    },
    {
      "cell_type": "markdown",
      "id": "8907a14d-1770-4029-9840-1d33918ee31d",
      "metadata": {
        "id": "8907a14d-1770-4029-9840-1d33918ee31d"
      },
      "source": [
        "---"
      ]
    },
    {
      "cell_type": "markdown",
      "id": "956d1e8f-7d16-416f-86af-ca1aacb076a0",
      "metadata": {
        "id": "956d1e8f-7d16-416f-86af-ca1aacb076a0"
      },
      "source": [
        "Oswaldo and Varun are trying to see what the best Thai restaurant in Berkeley is. They survey 1,500 UC Berkeley students selected uniformly at random and ask each student what Thai restaurant is the best. (*Note: This data is fabricated for the purposes of this homework.*) The choices of Thai restaurants are [Lucky House](https://www.google.com/maps/place/Lucky+House+Thai+Cuisine/@37.8707428,-122.270045,15.32z/data=!4m5!3m4!1s0x80857e9e69a8c921:0x7b6d80f58406fb26!8m2!3d37.8721393!4d-122.2672699), [Imm Thai](https://www.google.com/maps/place/Imm+Thai+Street+Food/@37.8704926,-122.2687372,15.51z/data=!4m5!3m4!1s0x80857e9eec4f1e63:0x5f54d96f0dccdb72!8m2!3d37.8719079!4d-122.2691186), [Thai Temple](https://www.google.com/maps/place/Wat+Mongkolratanaram/@37.8689514,-122.2698649,14.75z/data=!4m5!3m4!1s0x80857e886e39daf1:0xe309caa1b5710fc0!8m2!3d37.8563633!4d-122.2707584), and [Thai Basil](https://www.google.com/maps/place/Thai+Basil/@37.8691911,-122.266539,15.37z/data=!4m5!3m4!1s0x80857c2f6ae0e2f1:0x6978b6e8a72d58d4!8m2!3d37.868327!4d-122.258081). After compiling the results, Oswaldo and Varun release the following percentages, percentages of votes that each restaurant received, from their sample:\n",
        "\n",
        "|Thai Restaurant  | Percentage|\n",
        "|:------------:|:------------:|\n",
        "|Lucky House | 8% |\n",
        "|Imm Thai | 52% |\n",
        "|Thai Temple | 25% |\n",
        "|Thai Basil | 15% |\n",
        "\n",
        "These percentages represent a uniform random sample of the population of UC Berkeley students. We will attempt to estimate the corresponding *parameters*, or the percentage of the votes that each restaurant will receive from the entire population (the entire population is all UC Berkeley students). We will use confidence intervals to compute a range of values that reflects the uncertainty of our estimates.\n",
        "\n",
        "The table `votes` contains the results of the survey."
      ]
    },
    {
      "cell_type": "code",
      "execution_count": null,
      "id": "36f54bc7-30dd-4170-a629-b7463b35a00f",
      "metadata": {
        "id": "36f54bc7-30dd-4170-a629-b7463b35a00f",
        "outputId": "529a53b4-11af-4f4c-a3f8-0f2befe592b1"
      },
      "outputs": [
        {
          "data": {
            "text/html": [
              "<table border=\"1\" class=\"dataframe\">\n",
              "    <thead>\n",
              "        <tr>\n",
              "            <th>Vote</th>\n",
              "        </tr>\n",
              "    </thead>\n",
              "    <tbody>\n",
              "        <tr>\n",
              "            <td>Imm Thai   </td>\n",
              "        </tr>\n",
              "        <tr>\n",
              "            <td>Thai Basil </td>\n",
              "        </tr>\n",
              "        <tr>\n",
              "            <td>Thai Temple</td>\n",
              "        </tr>\n",
              "        <tr>\n",
              "            <td>Imm Thai   </td>\n",
              "        </tr>\n",
              "        <tr>\n",
              "            <td>Thai Temple</td>\n",
              "        </tr>\n",
              "        <tr>\n",
              "            <td>Imm Thai   </td>\n",
              "        </tr>\n",
              "        <tr>\n",
              "            <td>Imm Thai   </td>\n",
              "        </tr>\n",
              "        <tr>\n",
              "            <td>Lucky House</td>\n",
              "        </tr>\n",
              "        <tr>\n",
              "            <td>Imm Thai   </td>\n",
              "        </tr>\n",
              "        <tr>\n",
              "            <td>Thai Basil </td>\n",
              "        </tr>\n",
              "    </tbody>\n",
              "</table>\n",
              "<p>... (1490 rows omitted)</p>"
            ],
            "text/plain": [
              "Vote\n",
              "Imm Thai\n",
              "Thai Basil\n",
              "Thai Temple\n",
              "Imm Thai\n",
              "Thai Temple\n",
              "Imm Thai\n",
              "Imm Thai\n",
              "Lucky House\n",
              "Imm Thai\n",
              "Thai Basil\n",
              "... (1490 rows omitted)"
            ]
          },
          "execution_count": 3,
          "metadata": {},
          "output_type": "execute_result"
        }
      ],
      "source": [
        "# Just run this cell\n",
        "votes = Table.read_table('votes.csv').sample(with_replacement = False)\n",
        "votes"
      ]
    },
    {
      "cell_type": "markdown",
      "id": "1baab2f1-c3c3-49c1-abbe-64e902171440",
      "metadata": {
        "id": "1baab2f1-c3c3-49c1-abbe-64e902171440"
      },
      "source": [
        "---"
      ]
    },
    {
      "cell_type": "markdown",
      "id": "bb85ddd5-c464-4d99-a441-a71d08f7ca02",
      "metadata": {
        "id": "bb85ddd5-c464-4d99-a441-a71d08f7ca02"
      },
      "source": [
        "### Task 01 📍"
      ]
    },
    {
      "cell_type": "markdown",
      "id": "e419485d-2b3f-426c-9999-17b42d996f46",
      "metadata": {
        "deletable": false,
        "editable": false,
        "id": "e419485d-2b3f-426c-9999-17b42d996f46"
      },
      "source": [
        "Complete the function `one_resampled_percentage` below. It should return Imm Thai's **percentage** of votes after simulating one bootstrap sample of `tbl`.\n",
        "\n",
        "* You can assume that `tbl` contains the original sample data. Your function should create a resample from this data.\n",
        "* `tbl` will always be in the same format as `votes`.\n",
        "* This function should be completed **without** `.group` or `.pivot`. Using these functions will cause your code to timeout.\n",
        "* Given a table of votes, how can you figure out what percentage of the votes are for a certain restaurant? **Be sure to use percentages, not proportions, for this question!**\n",
        "\n",
        "_Points:_ 3"
      ]
    },
    {
      "cell_type": "code",
      "execution_count": null,
      "id": "292d965d-4c3c-4db4-bea3-e1f53bde7213",
      "metadata": {
        "tags": [],
        "id": "292d965d-4c3c-4db4-bea3-e1f53bde7213",
        "outputId": "f9ed7323-faa0-4346-90b0-23513f50a97f"
      },
      "outputs": [
        {
          "data": {
            "text/plain": [
              "50.66666666666667"
            ]
          },
          "execution_count": 5,
          "metadata": {},
          "output_type": "execute_result"
        }
      ],
      "source": [
        "def one_resampled_percentage(tbl):\n",
        "    resample=tbl.sample()\n",
        "    return (resample.where(resample.column(0),are.containing('Imm Thai')).num_rows/resample.num_rows)*100\n",
        "\n",
        "one_resampled_percentage(votes)"
      ]
    },
    {
      "cell_type": "code",
      "execution_count": null,
      "id": "eda182dd",
      "metadata": {
        "deletable": false,
        "editable": false,
        "id": "eda182dd",
        "outputId": "1a01764e-27c0-4520-df81-6206c2eb008b"
      },
      "outputs": [
        {
          "data": {
            "text/html": [
              "<p><strong><pre style='display: inline;'>task_01</pre></strong> passed! 💯</p><p><strong><pre style='display: inline;'>task_01 - 1</pre> message:</strong> ✅ Your function returns a float.</p><p><strong><pre style='display: inline;'>task_01 - 2</pre> message:</strong> ✅ Your function returns a value within a range of possible answers.</p>"
            ],
            "text/plain": [
              "task_01 results: All test cases passed!\n",
              "task_01 - 1 message: ✅ Your function returns a float.\n",
              "task_01 - 2 message: ✅ Your function returns a value within a range of possible answers."
            ]
          },
          "execution_count": 6,
          "metadata": {},
          "output_type": "execute_result"
        }
      ],
      "source": [
        "grader.check(\"task_01\")"
      ]
    },
    {
      "cell_type": "markdown",
      "id": "b451814e-3743-42ca-a34a-6e5339f9ccec",
      "metadata": {
        "id": "b451814e-3743-42ca-a34a-6e5339f9ccec"
      },
      "source": [
        "---"
      ]
    },
    {
      "cell_type": "markdown",
      "id": "ab8f9edc-7797-4d7c-be56-112de39e3dea",
      "metadata": {
        "id": "ab8f9edc-7797-4d7c-be56-112de39e3dea"
      },
      "source": [
        "### Task 02 📍"
      ]
    },
    {
      "cell_type": "markdown",
      "id": "d5c513ef-65d1-40da-96b6-bb6b7a277f1b",
      "metadata": {
        "deletable": false,
        "editable": false,
        "id": "d5c513ef-65d1-40da-96b6-bb6b7a277f1b"
      },
      "source": [
        "Complete the `percentages_in_resamples` function such that it simulates and returns an array of **2023 elements**, where each element represents a bootstrapped estimate of the percentage of voters who will vote for Imm Thai. You should use the `one_resampled_percentage` function you wrote above.\n",
        "\n",
        "* We perform our simulation with **only 2023 trials** in this problem to reduce the runtime, but we should generally use more repetitions.\n",
        "\n",
        "_Points:_ 3"
      ]
    },
    {
      "cell_type": "code",
      "execution_count": null,
      "id": "9413d434-4a61-46a2-a71f-30716f447285",
      "metadata": {
        "for_assignment_type": "solution",
        "tags": [],
        "id": "9413d434-4a61-46a2-a71f-30716f447285"
      },
      "outputs": [],
      "source": [
        "def percentages_in_resamples():\n",
        "    percentage_imm = make_array()\n",
        "    for i in np.arange(2023):\n",
        "        est=one_resampled_percentage(votes)\n",
        "        percentage_imm=np.append(percentage_imm,est)\n",
        "    return percentage_imm"
      ]
    },
    {
      "cell_type": "code",
      "execution_count": null,
      "id": "8fc87307",
      "metadata": {
        "deletable": false,
        "editable": false,
        "id": "8fc87307",
        "outputId": "17d7726e-62de-4616-e5ec-bf3f3edf4a57"
      },
      "outputs": [
        {
          "data": {
            "text/html": [
              "<p><strong><pre style='display: inline;'>task_02</pre></strong> passed! ✨</p><p><strong><pre style='display: inline;'>task_02 - 1</pre> message:</strong> ✅ percentages_in_resamples is defined to be a function.</p><p><strong><pre style='display: inline;'>task_02 - 2</pre> message:</strong> ✅ percentages_in_resamples produces an array with 2023 items.</p>"
            ],
            "text/plain": [
              "task_02 results: All test cases passed!\n",
              "task_02 - 1 message: ✅ percentages_in_resamples is defined to be a function.\n",
              "task_02 - 2 message: ✅ percentages_in_resamples produces an array with 2023 items."
            ]
          },
          "execution_count": 10,
          "metadata": {},
          "output_type": "execute_result"
        }
      ],
      "source": [
        "grader.check(\"task_02\")"
      ]
    },
    {
      "cell_type": "markdown",
      "id": "822d0642-2494-4adb-a6f0-41a54292db33",
      "metadata": {
        "id": "822d0642-2494-4adb-a6f0-41a54292db33"
      },
      "source": [
        "---"
      ]
    },
    {
      "cell_type": "markdown",
      "id": "3b74874c-ad78-4f78-986a-4199cb0b3b87",
      "metadata": {
        "id": "3b74874c-ad78-4f78-986a-4199cb0b3b87"
      },
      "source": [
        "In the following cell, we run the function you just defined, `percentages_in_resamples`, and create a histogram of the calculated statistic for the 2023 bootstrap estimates of the percentage of voters who voted for Imm Thai.\n",
        "\n",
        "*Note:* This might take a few seconds to run."
      ]
    },
    {
      "cell_type": "code",
      "execution_count": null,
      "id": "2087b001-0641-48ce-b7a0-435530748075",
      "metadata": {
        "id": "2087b001-0641-48ce-b7a0-435530748075",
        "outputId": "c60ca248-3e46-4641-ad3b-9df06b1cc65f"
      },
      "outputs": [
        {
          "data": {
            "image/png": "[encoded data removed]",
            "text/plain": [
              "<Figure size 600x400 with 1 Axes>"
            ]
          },
          "metadata": {},
          "output_type": "display_data"
        }
      ],
      "source": [
        "resampled_percentages = percentages_in_resamples()\n",
        "Table().with_column('Estimated Percentage', resampled_percentages).hist(\"Estimated Percentage\")"
      ]
    },
    {
      "cell_type": "markdown",
      "id": "572ec812-ac74-410d-9bd3-f361a19ed147",
      "metadata": {
        "id": "572ec812-ac74-410d-9bd3-f361a19ed147"
      },
      "source": [
        "---"
      ]
    },
    {
      "cell_type": "markdown",
      "id": "8cf6ab7f-3769-43b8-a387-404f871f68a0",
      "metadata": {
        "id": "8cf6ab7f-3769-43b8-a387-404f871f68a0"
      },
      "source": [
        "### Task 03 📍"
      ]
    },
    {
      "cell_type": "markdown",
      "id": "22c9014b-c3a8-492a-8441-6fb30bd4c7bc",
      "metadata": {
        "deletable": false,
        "editable": false,
        "id": "22c9014b-c3a8-492a-8441-6fb30bd4c7bc"
      },
      "source": [
        "Using the array `resampled_percentages`, find the values at the two edges of the middle 95% of the bootstrapped percentage estimates. (Compute the lower and upper ends of the interval, named `imm_lower_bound` and `imm_upper_bound`, respectively.)\n",
        "\n",
        "\n",
        "_Points:_ 2"
      ]
    },
    {
      "cell_type": "code",
      "execution_count": null,
      "id": "660e0443-0a38-45b2-a6a5-5e0f86ec77a7",
      "metadata": {
        "tags": [],
        "id": "660e0443-0a38-45b2-a6a5-5e0f86ec77a7",
        "outputId": "379a375e-dd0b-43d6-da4f-0b3b10ecde97"
      },
      "outputs": [
        {
          "name": "stdout",
          "output_type": "stream",
          "text": [
            "Bootstrapped 95% confidence interval for the percentage of Imm Thai voters in the population:[49.47, 54.53]\n"
          ]
        }
      ],
      "source": [
        "imm_lower_bound = percentile(2.5,resampled_percentages)\n",
        "imm_upper_bound = percentile(97.5,resampled_percentages)\n",
        "print(f\"Bootstrapped 95% confidence interval for the percentage of Imm Thai voters in the population:[{imm_lower_bound:.2f}, {imm_upper_bound:.2f}]\")"
      ]
    },
    {
      "cell_type": "code",
      "execution_count": null,
      "id": "34a368cd",
      "metadata": {
        "deletable": false,
        "editable": false,
        "id": "34a368cd",
        "outputId": "5690572f-0c19-4f7e-bcfa-e0c548a4add7"
      },
      "outputs": [
        {
          "data": {
            "text/html": [
              "<p><strong><pre style='display: inline;'>task_03</pre></strong> passed! 🎉</p><p><strong><pre style='display: inline;'>task_03 - 1</pre> message:</strong> ✅ Your values for imm_lower_bound and imm_upper_bound are within an appropriate interval.</p>"
            ],
            "text/plain": [
              "task_03 results: All test cases passed!\n",
              "task_03 - 1 message: ✅ Your values for imm_lower_bound and imm_upper_bound are within an appropriate interval."
            ]
          },
          "execution_count": 13,
          "metadata": {},
          "output_type": "execute_result"
        }
      ],
      "source": [
        "grader.check(\"task_03\")"
      ]
    },
    {
      "cell_type": "markdown",
      "id": "c34cc27c-afe8-4da2-9895-f88cc5f7171a",
      "metadata": {
        "id": "c34cc27c-afe8-4da2-9895-f88cc5f7171a"
      },
      "source": [
        "---"
      ]
    },
    {
      "cell_type": "markdown",
      "id": "92ef0bd0-cb42-4ad8-8537-3bb5cd3f912d",
      "metadata": {
        "id": "92ef0bd0-cb42-4ad8-8537-3bb5cd3f912d"
      },
      "source": [
        "### Task 04 📍"
      ]
    },
    {
      "cell_type": "markdown",
      "id": "49a24241-49df-4c42-9dbc-a3f6ec3882b5",
      "metadata": {
        "deletable": false,
        "editable": false,
        "id": "49a24241-49df-4c42-9dbc-a3f6ec3882b5"
      },
      "source": [
        "The survey results seem to indicate that Imm Thai is beating all the other Thai restaurants among the voters. We would like to use confidence intervals to determine a range of likely values for Imm Thai's true lead over all the other restaurants combined. The calculation for Imm Thai's lead over Lucky House, Thai Temple, and Thai Basil combined is:\n",
        "\n",
        "$$\\text{Imm Thai's percent of the vote} - (\\text{100 percent} - \\text{Imm Thai's percent of the vote})$$\n",
        "\n",
        "Define the function `one_resampled_difference` that returns **exactly one value** of Imm Thai's percentage lead over Lucky House, Thai Temple, and Thai Basil combined from one bootstrap sample of `tbl`.\n",
        "\n",
        "* Imm Thai's lead can be negative.\n",
        "* Given a table of votes, how can you figure out what percentage of the votes are for a certain restaurant? **Be sure to use percentages, not proportions, for this question!**\n",
        "* If the skeleton code provided within the function is not helpful for you, feel free to approach the question using your own variables.\n",
        "\n",
        "\n",
        "_Points:_ 2"
      ]
    },
    {
      "cell_type": "code",
      "execution_count": null,
      "id": "6e28840a-2eba-45d5-851a-b5816a8a0974",
      "metadata": {
        "tags": [],
        "id": "6e28840a-2eba-45d5-851a-b5816a8a0974"
      },
      "outputs": [],
      "source": [
        "def one_resampled_difference(tbl):\n",
        "    imm_percentage = one_resampled_percentage(tbl)\n",
        "    return imm_percentage-(100-imm_percentage)"
      ]
    },
    {
      "cell_type": "code",
      "execution_count": null,
      "id": "13f436bc",
      "metadata": {
        "deletable": false,
        "editable": false,
        "id": "13f436bc",
        "outputId": "7c6a22ec-af46-4b78-8234-d9e781abdeff"
      },
      "outputs": [
        {
          "data": {
            "text/html": [
              "<p><strong><pre style='display: inline;'>task_04</pre></strong> passed! 🚀</p><p><strong><pre style='display: inline;'>task_04 - 1</pre> message:</strong> ✅ Your function returns a float.</p>"
            ],
            "text/plain": [
              "task_04 results: All test cases passed!\n",
              "task_04 - 1 message: ✅ Your function returns a float."
            ]
          },
          "execution_count": 15,
          "metadata": {},
          "output_type": "execute_result"
        }
      ],
      "source": [
        "grader.check(\"task_04\")"
      ]
    },
    {
      "cell_type": "markdown",
      "id": "30f3fd4b-e81c-4613-8abf-289d52fa255a",
      "metadata": {
        "id": "30f3fd4b-e81c-4613-8abf-289d52fa255a"
      },
      "source": [
        "---"
      ]
    },
    {
      "cell_type": "markdown",
      "id": "ef09e97e-de59-4b9e-85ac-05c8124859ff",
      "metadata": {
        "id": "ef09e97e-de59-4b9e-85ac-05c8124859ff"
      },
      "source": [
        "### Task 05 📍🔎"
      ]
    },
    {
      "cell_type": "markdown",
      "id": "08ff5256-76a6-48bc-b578-226f8f0457e9",
      "metadata": {
        "deletable": false,
        "editable": false,
        "id": "08ff5256-76a6-48bc-b578-226f8f0457e9"
      },
      "source": [
        "<!-- BEGIN QUESTION -->\n",
        "\n",
        "Write a function called `leads_in_resamples` that returns an array of 2023 elements representing the bootstrapped estimates (the result of calling `one_resampled_difference`) of Imm Thai's lead over Lucky House, Thai Temple, and Thai Basil combined. Afterwards, run the cell to plot a histogram of the resulting samples.\n",
        "\n",
        "* If you see an error involving `NoneType`, consider what components a function needs to have!\n",
        "\n",
        "_Points:_ 2"
      ]
    },
    {
      "cell_type": "code",
      "execution_count": null,
      "id": "44040077-3356-49b6-b6bd-920adb820b11",
      "metadata": {
        "export_pdf": true,
        "for_assignment_type": "solution",
        "tags": [],
        "id": "44040077-3356-49b6-b6bd-920adb820b11",
        "outputId": "a474c154-4b0c-4e2e-f0fb-c0091a5a7af7"
      },
      "outputs": [
        {
          "data": {
            "image/png": "[encoded data removed]",
            "text/plain": [
              "<Figure size 600x400 with 1 Axes>"
            ]
          },
          "metadata": {},
          "output_type": "display_data"
        }
      ],
      "source": [
        "def leads_in_resamples():\n",
        "    sampled_leads=make_array()\n",
        "    for i in np.arange(2023):\n",
        "        imm_lead=one_resampled_difference(votes)\n",
        "        sampled_leads=np.append(sampled_leads,imm_lead)\n",
        "    return sampled_leads\n",
        "\n",
        "sampled_leads = leads_in_resamples()\n",
        "Table().with_column('Estimated Lead', sampled_leads).hist(\"Estimated Lead\")"
      ]
    },
    {
      "cell_type": "markdown",
      "id": "94c9d052-f2f3-42a4-afb3-cee59782a8f8",
      "metadata": {
        "deletable": false,
        "editable": false,
        "id": "94c9d052-f2f3-42a4-afb3-cee59782a8f8"
      },
      "source": [
        "<!-- END QUESTION -->\n",
        "\n",
        "---"
      ]
    },
    {
      "cell_type": "markdown",
      "id": "567c0722-2cff-4e37-9b99-b5f6532e8ed3",
      "metadata": {
        "id": "567c0722-2cff-4e37-9b99-b5f6532e8ed3"
      },
      "source": [
        "### Task 06 📍"
      ]
    },
    {
      "cell_type": "markdown",
      "id": "d9affcd0-8b5f-41ed-be0f-68a464b6b44d",
      "metadata": {
        "deletable": false,
        "editable": false,
        "id": "d9affcd0-8b5f-41ed-be0f-68a464b6b44d"
      },
      "source": [
        "Use the simulated data in `sampled_leads` from Task 05 to compute an approximate 95% confidence interval for Imm Thai's true lead over Lucky House, Thai Temple, and Thai Basil combined.\n",
        "\n",
        "\n",
        "_Points:_ 3"
      ]
    },
    {
      "cell_type": "code",
      "execution_count": null,
      "id": "ae97301b-2901-4db0-93e3-e065f48026b7",
      "metadata": {
        "tags": [],
        "id": "ae97301b-2901-4db0-93e3-e065f48026b7",
        "outputId": "35ac4386-57af-4116-c3cc-ddbf76ef02b9"
      },
      "outputs": [
        {
          "name": "stdout",
          "output_type": "stream",
          "text": [
            "Bootstrapped 95% confidence interval for Imm Thai's true lead over Lucky House, Thai Temple, and Thai Basil combined: [-1.066667, 8.933333]\n"
          ]
        }
      ],
      "source": [
        "diff_lower_bound = percentile(2.5,sampled_leads)\n",
        "diff_upper_bound = percentile(97.5,sampled_leads)\n",
        "print(\"Bootstrapped 95% confidence interval for Imm Thai's true lead over Lucky House, Thai Temple, and Thai Basil combined: [{:f}, {:f}]\".format(diff_lower_bound, diff_upper_bound))"
      ]
    },
    {
      "cell_type": "code",
      "execution_count": null,
      "id": "1977fb9c",
      "metadata": {
        "deletable": false,
        "editable": false,
        "id": "1977fb9c",
        "outputId": "584e7d5e-25e0-4f88-9dbc-dc8d3fc76930"
      },
      "outputs": [
        {
          "data": {
            "text/html": [
              "<p><strong><pre style='display: inline;'>task_06</pre></strong> passed! 🎉</p><p><strong><pre style='display: inline;'>task_06 - 1</pre> message:</strong> ✅ The values of diff_lower_bound and diff_upper_bound are within a reasonable interval.</p>"
            ],
            "text/plain": [
              "task_06 results: All test cases passed!\n",
              "task_06 - 1 message: ✅ The values of diff_lower_bound and diff_upper_bound are within a reasonable interval."
            ]
          },
          "execution_count": 18,
          "metadata": {},
          "output_type": "execute_result"
        }
      ],
      "source": [
        "grader.check(\"task_06\")"
      ]
    },
    {
      "cell_type": "markdown",
      "id": "cd096ceb-ef2f-4a70-bb48-e902e7a3a9c4",
      "metadata": {
        "id": "cd096ceb-ef2f-4a70-bb48-e902e7a3a9c4"
      },
      "source": [
        "---"
      ]
    },
    {
      "cell_type": "markdown",
      "id": "9ecd19d3-77ab-446f-bad7-c20b53c2a21e",
      "metadata": {
        "id": "9ecd19d3-77ab-446f-bad7-c20b53c2a21e"
      },
      "source": [
        "## Interpreting Confidence Intervals"
      ]
    },
    {
      "cell_type": "markdown",
      "id": "62d0c0a8-84d3-4dd2-8def-29e436b03489",
      "metadata": {
        "id": "62d0c0a8-84d3-4dd2-8def-29e436b03489"
      },
      "source": [
        "---"
      ]
    },
    {
      "cell_type": "markdown",
      "id": "284776e9-a342-4dae-9b4b-1460e0889459",
      "metadata": {
        "id": "284776e9-a342-4dae-9b4b-1460e0889459"
      },
      "source": [
        "We computed the following 95% confidence interval for the percentage of Imm Thai voters:\n",
        "\n",
        "$$[49.40, 54.47]$$\n",
        "\n",
        "(Your answer may have been a bit different; that doesn't mean it was wrong!)"
      ]
    },
    {
      "cell_type": "markdown",
      "id": "43b7cbeb-a3d9-4e43-9617-e6ce38e20b02",
      "metadata": {
        "id": "43b7cbeb-a3d9-4e43-9617-e6ce38e20b02"
      },
      "source": [
        "---"
      ]
    },
    {
      "cell_type": "markdown",
      "id": "3c5e2487-4612-45d4-a1fa-0021f24a7445",
      "metadata": {
        "id": "3c5e2487-4612-45d4-a1fa-0021f24a7445"
      },
      "source": [
        "### Task 07 📍🔎"
      ]
    },
    {
      "cell_type": "markdown",
      "id": "3657de3c-68ce-49a9-99db-ff305e1cfdac",
      "metadata": {
        "deletable": false,
        "editable": false,
        "id": "3657de3c-68ce-49a9-99db-ff305e1cfdac"
      },
      "source": [
        "<!-- BEGIN QUESTION -->\n",
        "\n",
        "Can we say there is a 95% probability that the interval [49.40, 54.47] contains the true percentage of the population that votes for Imm Thai as the best Berkeley Thai restaurant? Answer \"yes\" or \"no\" and explain your reasoning.\n",
        "\n",
        "*Note:* ambiguous answers using language like \"sometimes\" or \"maybe\" will not receive credit.\n",
        "\n",
        "\n",
        "_Points:_ 2"
      ]
    },
    {
      "cell_type": "markdown",
      "id": "00f0954d-b15d-4349-90e3-96a60f92b6c0",
      "metadata": {
        "id": "00f0954d-b15d-4349-90e3-96a60f92b6c0"
      },
      "source": [
        "Yes. The distrubition is bell shaped and sample size is large."
      ]
    },
    {
      "cell_type": "markdown",
      "id": "ef589efc-e5e7-4787-baac-486ea0244073",
      "metadata": {
        "deletable": false,
        "editable": false,
        "id": "ef589efc-e5e7-4787-baac-486ea0244073"
      },
      "source": [
        "<!-- END QUESTION -->\n",
        "\n",
        "---"
      ]
    },
    {
      "cell_type": "markdown",
      "id": "b9e0e8f8-b86d-40f6-96bb-cfe8aac08b00",
      "metadata": {
        "id": "b9e0e8f8-b86d-40f6-96bb-cfe8aac08b00"
      },
      "source": [
        "### Task 08 📍🔎"
      ]
    },
    {
      "cell_type": "markdown",
      "id": "f17eac24-59f7-4411-b81b-c727420dcc76",
      "metadata": {
        "deletable": false,
        "editable": false,
        "id": "f17eac24-59f7-4411-b81b-c727420dcc76"
      },
      "source": [
        "<!-- BEGIN QUESTION -->\n",
        "\n",
        "We also created 70%, 90%, and 99% confidence intervals from the same sample, but we forgot to label which confidence interval represented which percentages! Match each confidence level (70%, 90%, 99%) with its corresponding interval in the cell below (e.g. __ % CI: [49.87, 54.0] $\\rightarrow$ replace the blank with one of the three confidence levels). **Then**, explain your thought process and how you came up with your answers.\n",
        "\n",
        "The intervals are below:\n",
        "\n",
        "* [49.87, 54.00]\n",
        "* [50.67, 53.27]\n",
        "* [48.80, 55.40]\n",
        "\n",
        "\n",
        "_Points:_ 2"
      ]
    },
    {
      "cell_type": "code",
      "execution_count": null,
      "id": "60c8aecb-994d-4a89-a2dc-843c31cccab8",
      "metadata": {
        "id": "60c8aecb-994d-4a89-a2dc-843c31cccab8",
        "outputId": "50e71a28-7f26-4a49-e954-91e3f64a4e22"
      },
      "outputs": [
        {
          "data": {
            "text/plain": [
              "50.666666666666671"
            ]
          },
          "execution_count": 23,
          "metadata": {},
          "output_type": "execute_result"
        }
      ],
      "source": [
        "percentile(15,resampled_percentages)"
      ]
    },
    {
      "cell_type": "code",
      "execution_count": null,
      "id": "74e3d5cf-5758-4fa8-b713-cd40a63bfa3b",
      "metadata": {
        "id": "74e3d5cf-5758-4fa8-b713-cd40a63bfa3b",
        "outputId": "e096c9d2-3448-4c14-f70c-6f0a323e55d5"
      },
      "outputs": [
        {
          "data": {
            "text/plain": [
              "53.333333333333336"
            ]
          },
          "execution_count": 24,
          "metadata": {},
          "output_type": "execute_result"
        }
      ],
      "source": [
        "percentile(85,resampled_percentages)"
      ]
    },
    {
      "cell_type": "code",
      "execution_count": null,
      "id": "e797e8f9-1234-488a-86ff-e1d2c33c9ca9",
      "metadata": {
        "id": "e797e8f9-1234-488a-86ff-e1d2c33c9ca9",
        "outputId": "c7bcc401-3f64-4330-8070-8c2cf9085312"
      },
      "outputs": [
        {
          "data": {
            "text/plain": [
              "49.799999999999997"
            ]
          },
          "execution_count": 25,
          "metadata": {},
          "output_type": "execute_result"
        }
      ],
      "source": [
        "percentile(5,resampled_percentages)"
      ]
    },
    {
      "cell_type": "code",
      "execution_count": null,
      "id": "eeff844e-4fa5-4e84-989e-1966a39dbc15",
      "metadata": {
        "id": "eeff844e-4fa5-4e84-989e-1966a39dbc15",
        "outputId": "4d84ffbf-6cb7-48bd-c423-23baf84f9151"
      },
      "outputs": [
        {
          "data": {
            "text/plain": [
              "54.066666666666663"
            ]
          },
          "execution_count": 26,
          "metadata": {},
          "output_type": "execute_result"
        }
      ],
      "source": [
        "percentile(95,resampled_percentages)"
      ]
    },
    {
      "cell_type": "code",
      "execution_count": null,
      "id": "0a8c4f89-245f-4fba-aa5a-86c2868c6bf8",
      "metadata": {
        "id": "0a8c4f89-245f-4fba-aa5a-86c2868c6bf8",
        "outputId": "df2a060d-9556-425d-c90c-5622bb9558f9"
      },
      "outputs": [
        {
          "data": {
            "text/plain": [
              "48.733333333333334"
            ]
          },
          "execution_count": 21,
          "metadata": {},
          "output_type": "execute_result"
        }
      ],
      "source": [
        "percentile(0.5,resampled_percentages)"
      ]
    },
    {
      "cell_type": "code",
      "execution_count": null,
      "id": "ce287534-5059-42a8-b51e-5bed7e60b987",
      "metadata": {
        "id": "ce287534-5059-42a8-b51e-5bed7e60b987",
        "outputId": "967e565e-b27d-4b36-fe15-5460ffbb31d8"
      },
      "outputs": [
        {
          "data": {
            "text/plain": [
              "55.200000000000003"
            ]
          },
          "execution_count": 22,
          "metadata": {},
          "output_type": "execute_result"
        }
      ],
      "source": [
        "percentile(99.5,resampled_percentages)"
      ]
    },
    {
      "cell_type": "markdown",
      "id": "bea7b0b2",
      "metadata": {
        "id": "bea7b0b2"
      },
      "source": [
        "90%=[49.87, 54.00]\n",
        "70%=[50.67, 53.27]\n",
        "99%=[48.80, 55.40]\n",
        "\n",
        "I checked the percentile values for each % then choose the ones matching"
      ]
    },
    {
      "cell_type": "markdown",
      "id": "33b63ac7-879c-4475-a1d2-da71c96b96f1",
      "metadata": {
        "deletable": false,
        "editable": false,
        "id": "33b63ac7-879c-4475-a1d2-da71c96b96f1"
      },
      "source": [
        "<!-- END QUESTION -->\n",
        "\n",
        "---"
      ]
    },
    {
      "cell_type": "markdown",
      "id": "5e2bc943-d86f-47a4-bee5-0cbad07b57e4",
      "metadata": {
        "id": "5e2bc943-d86f-47a4-bee5-0cbad07b57e4"
      },
      "source": [
        "### Task 09 📍"
      ]
    },
    {
      "cell_type": "markdown",
      "id": "2dd34904-2ccb-4cc3-9ce3-208dfbeadbb8",
      "metadata": {
        "deletable": false,
        "editable": false,
        "id": "2dd34904-2ccb-4cc3-9ce3-208dfbeadbb8"
      },
      "source": [
        "Suppose we produced 5,000 new samples (each one a uniform random sample of 1,500 voters/students) from the population and created a 95% confidence interval from each one. Roughly how many of those 5,000 intervals do you expect will actually contain the true percentage of the population?\n",
        "\n",
        "Assign your answer to `true_percentage_intervals`.\n",
        "\n",
        "\n",
        "_Points:_ 2"
      ]
    },
    {
      "cell_type": "code",
      "execution_count": null,
      "id": "6322b480-67e3-48d5-941a-3911d4a74826",
      "metadata": {
        "tags": [],
        "id": "6322b480-67e3-48d5-941a-3911d4a74826",
        "outputId": "559e2086-f5e7-4b3b-a7bd-aa8e3bbbc5b6"
      },
      "outputs": [
        {
          "data": {
            "text/plain": [
              "4750.0"
            ]
          },
          "execution_count": 27,
          "metadata": {},
          "output_type": "execute_result"
        }
      ],
      "source": [
        "true_percentage_intervals = 5000*.95\n",
        "true_percentage_intervals"
      ]
    },
    {
      "cell_type": "code",
      "execution_count": null,
      "id": "94fd4100",
      "metadata": {
        "deletable": false,
        "editable": false,
        "id": "94fd4100",
        "outputId": "f787aef9-b843-423d-d993-d392cbcea5d4"
      },
      "outputs": [
        {
          "data": {
            "text/html": [
              "<p><strong><pre style='display: inline;'>task_09</pre></strong> passed! 🌈</p><p><strong><pre style='display: inline;'>task_09 - 1</pre> message:</strong> ✅ The value of true_percentage_intervals is within a possible interval.</p>"
            ],
            "text/plain": [
              "task_09 results: All test cases passed!\n",
              "task_09 - 1 message: ✅ The value of true_percentage_intervals is within a possible interval."
            ]
          },
          "execution_count": 28,
          "metadata": {},
          "output_type": "execute_result"
        }
      ],
      "source": [
        "grader.check(\"task_09\")"
      ]
    },
    {
      "cell_type": "markdown",
      "id": "ebff8377-5648-414c-b2a1-670cc39c161e",
      "metadata": {
        "id": "ebff8377-5648-414c-b2a1-670cc39c161e"
      },
      "source": [
        "---"
      ]
    },
    {
      "cell_type": "markdown",
      "id": "814da83b-bdf5-4991-a2ed-de31fa69801c",
      "metadata": {
        "id": "814da83b-bdf5-4991-a2ed-de31fa69801c"
      },
      "source": [
        "Recall the second bootstrap confidence interval you created, which estimated Imm Thai's lead over Lucky House, Thai Temple, and Thai Basil combined. Among\n",
        "voters in the sample, Imm Thai's lead was 4%.\n",
        "\n",
        "Our 95% confidence interval for the true lead (in the population of all voters) was\n",
        "\n",
        "$$[-0.80, 8.80]$$\n",
        "\n",
        "(Yours should have looked similar.)\n",
        "\n",
        "Suppose we are interested in testing a simple yes-or-no question:\n",
        "\n",
        "> \"Is the percentage of votes for Imm Thai tied with the percentage of votes for Lucky House, Thai Temple, and Thai Basil combined?\"\n",
        "\n",
        "Our null hypothesis is that the percentages are equal, or equivalently, that Imm Thai's lead is exactly 0. Our alternative hypothesis is that Imm Thai's lead is not equal to 0.  In the questions below, don't compute any confidence interval yourself - use only the 95% confidence interval we created and shared with you."
      ]
    },
    {
      "cell_type": "markdown",
      "id": "d2759f68-89c5-486d-83fb-fbd527127e5c",
      "metadata": {
        "id": "d2759f68-89c5-486d-83fb-fbd527127e5c"
      },
      "source": [
        "---"
      ]
    },
    {
      "cell_type": "markdown",
      "id": "375ca46a-f945-4374-9d10-6899979af4a7",
      "metadata": {
        "id": "375ca46a-f945-4374-9d10-6899979af4a7"
      },
      "source": [
        "### Task 10 📍"
      ]
    },
    {
      "cell_type": "markdown",
      "id": "cfeab193-1628-410a-b31a-672f72da8427",
      "metadata": {
        "deletable": false,
        "editable": false,
        "id": "cfeab193-1628-410a-b31a-672f72da8427"
      },
      "source": [
        "Say we use a 5% P-value cutoff.  Do we reject the null, fail to reject the null, or are we unable to tell using our confidence interval?\n",
        "\n",
        "Assign `restaurants_tied` to the number corresponding to the correct answer.\n",
        "\n",
        "1. Reject the null / Data is consistent with the alternative hypothesis\n",
        "2. Fail to reject the null / Data is consistent with the null hypothesis\n",
        "3. Unable to tell using the provided confidence interval\n",
        "\n",
        "_Consider the relationship between the p-value cutoff and confidence. If you're confused, take a look at [this chapter](https://ccsf-math-108.github.io/textbook/chapters/13/4/Using_Confidence_Intervals.html) of the textbook._\n",
        "\n",
        "\n",
        "_Points:_ 2"
      ]
    },
    {
      "cell_type": "code",
      "execution_count": null,
      "id": "0c317fd0-3e8d-4735-874a-78b75040ca19",
      "metadata": {
        "tags": [],
        "id": "0c317fd0-3e8d-4735-874a-78b75040ca19"
      },
      "outputs": [],
      "source": [
        "restaurants_tied = 2"
      ]
    },
    {
      "cell_type": "code",
      "execution_count": null,
      "id": "2a92c6f0",
      "metadata": {
        "deletable": false,
        "editable": false,
        "id": "2a92c6f0",
        "outputId": "faebbb3e-2320-4606-b3fa-19ccd5037b1b"
      },
      "outputs": [
        {
          "data": {
            "text/html": [
              "<p><strong><pre style='display: inline;'>task_10</pre></strong> passed! 🚀</p><p><strong><pre style='display: inline;'>task_10 - 1</pre> message:</strong> ✅ restaurants_tied represents a possible answer.</p>"
            ],
            "text/plain": [
              "task_10 results: All test cases passed!\n",
              "task_10 - 1 message: ✅ restaurants_tied represents a possible answer."
            ]
          },
          "execution_count": 34,
          "metadata": {},
          "output_type": "execute_result"
        }
      ],
      "source": [
        "grader.check(\"task_10\")"
      ]
    },
    {
      "cell_type": "markdown",
      "id": "058ae089-dfad-4ccd-ba3e-c7e0b82cd636",
      "metadata": {
        "id": "058ae089-dfad-4ccd-ba3e-c7e0b82cd636"
      },
      "source": [
        "---"
      ]
    },
    {
      "cell_type": "markdown",
      "id": "faf62daf-2b8b-4ba0-987d-fc78ced94af5",
      "metadata": {
        "id": "faf62daf-2b8b-4ba0-987d-fc78ced94af5"
      },
      "source": [
        "### Task 11 📍"
      ]
    },
    {
      "cell_type": "markdown",
      "id": "1dd30a42-d628-42f0-b26b-80781e167ae8",
      "metadata": {
        "deletable": false,
        "editable": false,
        "id": "1dd30a42-d628-42f0-b26b-80781e167ae8"
      },
      "source": [
        "What if, instead, we use a P-value cutoff of 1%? Do we reject the null, fail to reject the null, or are we unable to tell using our confidence interval?\n",
        "\n",
        "Assign `cutoff_one_percent` to the number corresponding to the correct answer.\n",
        "\n",
        "1. Reject the null / Data is consistent with the alternative hypothesis\n",
        "2. Fail to reject the null / Data is consistent with the null hypothesis\n",
        "3. Unable to tell using the provided confidence interval\n",
        "\n",
        "\n",
        "_Points:_ 2"
      ]
    },
    {
      "cell_type": "code",
      "execution_count": null,
      "id": "12e683f7-f772-441d-8a5d-75936973af30",
      "metadata": {
        "tags": [],
        "id": "12e683f7-f772-441d-8a5d-75936973af30"
      },
      "outputs": [],
      "source": [
        "cutoff_one_percent = 2"
      ]
    },
    {
      "cell_type": "code",
      "execution_count": null,
      "id": "635f862d",
      "metadata": {
        "deletable": false,
        "editable": false,
        "id": "635f862d",
        "outputId": "ca13a3e4-d084-4903-b9bf-2ebb79868b2f"
      },
      "outputs": [
        {
          "data": {
            "text/html": [
              "<p><strong><pre style='display: inline;'>task_11</pre></strong> passed! ✨</p><p><strong><pre style='display: inline;'>task_11 - 1</pre> message:</strong> ✅ cutoff_one_percent represents a possible answer.</p>"
            ],
            "text/plain": [
              "task_11 results: All test cases passed!\n",
              "task_11 - 1 message: ✅ cutoff_one_percent represents a possible answer."
            ]
          },
          "execution_count": 36,
          "metadata": {},
          "output_type": "execute_result"
        }
      ],
      "source": [
        "grader.check(\"task_11\")"
      ]
    },
    {
      "cell_type": "markdown",
      "id": "89419701-b9ca-4401-9a35-4c2781ba0bcf",
      "metadata": {
        "id": "89419701-b9ca-4401-9a35-4c2781ba0bcf"
      },
      "source": [
        "---"
      ]
    },
    {
      "cell_type": "markdown",
      "id": "3293bda7-3624-4c0a-869c-a130dcd10534",
      "metadata": {
        "id": "3293bda7-3624-4c0a-869c-a130dcd10534"
      },
      "source": [
        "### Task 12 📍"
      ]
    },
    {
      "cell_type": "markdown",
      "id": "ccfe994e-0951-4e85-beb8-7a05bd54c4b1",
      "metadata": {
        "deletable": false,
        "editable": false,
        "id": "ccfe994e-0951-4e85-beb8-7a05bd54c4b1"
      },
      "source": [
        "What if we use a P-value cutoff of 10%? Do we reject, fail to reject, or are we unable to tell using our confidence interval?\n",
        "\n",
        "Assign `cutoff_ten_percent` to the number corresponding to the correct answer.\n",
        "\n",
        "1. Reject the null / Data is consistent with the alternative hypothesis\n",
        "2. Fail to reject the null / Data is consistent with the null hypothesis\n",
        "3. Unable to tell using our staff confidence interval\n",
        "\n",
        "\n",
        "_Points:_ 2"
      ]
    },
    {
      "cell_type": "code",
      "execution_count": null,
      "id": "65064fb5-6d83-463f-b3b7-216c91f486cc",
      "metadata": {
        "tags": [],
        "id": "65064fb5-6d83-463f-b3b7-216c91f486cc"
      },
      "outputs": [],
      "source": [
        "cutoff_ten_percent = 1"
      ]
    },
    {
      "cell_type": "code",
      "execution_count": null,
      "id": "620e320f",
      "metadata": {
        "deletable": false,
        "editable": false,
        "id": "620e320f",
        "outputId": "43f6a8db-5ff5-4b93-97fd-8df42a939bee"
      },
      "outputs": [
        {
          "data": {
            "text/html": [
              "<p><strong><pre style='display: inline;'>task_12</pre></strong> passed! 🌟</p><p><strong><pre style='display: inline;'>task_12 - 1</pre> message:</strong> ✅ cutoff_ten_percent represents a possible answer.</p>"
            ],
            "text/plain": [
              "task_12 results: All test cases passed!\n",
              "task_12 - 1 message: ✅ cutoff_ten_percent represents a possible answer."
            ]
          },
          "execution_count": 38,
          "metadata": {},
          "output_type": "execute_result"
        }
      ],
      "source": [
        "grader.check(\"task_12\")"
      ]
    },
    {
      "cell_type": "markdown",
      "id": "5821c3cc-54c8-4891-8333-6064684af7a2",
      "metadata": {
        "id": "5821c3cc-54c8-4891-8333-6064684af7a2"
      },
      "source": [
        "---"
      ]
    },
    {
      "cell_type": "markdown",
      "id": "6eb52dc0-bd4f-41c9-880b-8fd9702322ee",
      "metadata": {
        "id": "6eb52dc0-bd4f-41c9-880b-8fd9702322ee"
      },
      "source": [
        "## Submit Your Assignment to Canvas"
      ]
    },
    {
      "cell_type": "markdown",
      "id": "334a64b1-02de-4757-8b05-0f02d6fb94b4",
      "metadata": {
        "id": "334a64b1-02de-4757-8b05-0f02d6fb94b4"
      },
      "source": [
        "Follow these steps to submit your homework assignment:\n",
        "\n",
        "1. **Review the Rubric:** View the rubric on the associated Canvas Assignment page to understand the scoring criteria.\n",
        "2. **Run the Auto-Grader:** Ensure you have executed the code cell containing the command `grader.check_all()` to run all tests for auto-graded tasks marked with 📍. This command will execute all auto-grader tests sequentially.\n",
        "3. **Complete Manually Graded Tasks:** Verify that you have responded to all the manually graded tasks marked with 📍🔎.\n",
        "4. **Save Your Work:** In the notebook's Toolbar, go to `File -> Save Notebook` to save your work and create a checkpoint.\n",
        "5. **Download the Notebook:** In the notebook's Toolbar, go to `File -> Download IPYNB` to download the notebook (`.ipynb`) file.\n",
        "6. **Upload to Canvas:** On the Canvas Assignment page, click \"Start Assignment\" or \"New Attempt\" to upload the downloaded `.ipynb` file."
      ]
    },
    {
      "cell_type": "markdown",
      "id": "1b733eef-e705-44aa-b1cd-f028785c4b73",
      "metadata": {
        "id": "1b733eef-e705-44aa-b1cd-f028785c4b73"
      },
      "source": [
        "---"
      ]
    },
    {
      "cell_type": "markdown",
      "id": "4d5a9087-58b1-4700-8ba4-a05626a959c1",
      "metadata": {
        "editable": true,
        "tags": [],
        "id": "4d5a9087-58b1-4700-8ba4-a05626a959c1"
      },
      "source": [
        "## Attribution"
      ]
    },
    {
      "cell_type": "markdown",
      "id": "fc35756e-b1b6-4cb8-b337-baa62ca0fdf1",
      "metadata": {
        "id": "fc35756e-b1b6-4cb8-b337-baa62ca0fdf1"
      },
      "source": [
        "This content is licensed under the <a href=\"https://creativecommons.org/licenses/by-nc-sa/4.0/\">Creative Commons Attribution-NonCommercial-ShareAlike 4.0 International License (CC BY-NC-SA 4.0)</a> and derived from the <a href=\"https://www.data8.org/\">Data 8: The Foundations of Data Science</a> offered by the University of California, Berkeley.\n",
        "\n",
        "<img src=\"./by-nc-sa.png\" width=100px>"
      ]
    },
    {
      "cell_type": "markdown",
      "id": "5735e704",
      "metadata": {
        "deletable": false,
        "editable": false,
        "id": "5735e704"
      },
      "source": [
        "---\n",
        "\n",
        "To double-check your work, the cell below will rerun all of the autograder tests."
      ]
    },
    {
      "cell_type": "code",
      "execution_count": null,
      "id": "2c973f7c",
      "metadata": {
        "deletable": false,
        "editable": false,
        "id": "2c973f7c",
        "outputId": "8417915b-6076-4e94-f353-42650dd1c05c"
      },
      "outputs": [
        {
          "data": {
            "text/plain": [
              "task_01 results: All test cases passed!\n",
              "task_01 - 1 message: ✅ Your function returns a float.\n",
              "task_01 - 2 message: ✅ Your function returns a value within a range of possible answers.\n",
              "\n",
              "task_02 results: All test cases passed!\n",
              "task_02 - 1 message: ✅ percentages_in_resamples is defined to be a function.\n",
              "task_02 - 2 message: ✅ percentages_in_resamples produces an array with 2023 items.\n",
              "\n",
              "task_03 results: All test cases passed!\n",
              "task_03 - 1 message: ✅ Your values for imm_lower_bound and imm_upper_bound are within an appropriate interval.\n",
              "\n",
              "task_04 results: All test cases passed!\n",
              "task_04 - 1 message: ✅ Your function returns a float.\n",
              "\n",
              "task_06 results: All test cases passed!\n",
              "task_06 - 1 message: ✅ The values of diff_lower_bound and diff_upper_bound are within a reasonable interval.\n",
              "\n",
              "task_09 results: All test cases passed!\n",
              "task_09 - 1 message: ✅ The value of true_percentage_intervals is within a possible interval.\n",
              "\n",
              "task_10 results: All test cases passed!\n",
              "task_10 - 1 message: ✅ restaurants_tied represents a possible answer.\n",
              "\n",
              "task_11 results: All test cases passed!\n",
              "task_11 - 1 message: ✅ cutoff_one_percent represents a possible answer.\n",
              "\n",
              "task_12 results: All test cases passed!\n",
              "task_12 - 1 message: ✅ cutoff_ten_percent represents a possible answer."
            ]
          },
          "execution_count": 39,
          "metadata": {},
          "output_type": "execute_result"
        }
      ],
      "source": [
        "grader.check_all()"
      ]
    }
  ],
  "metadata": {
    "kernelspec": {
      "display_name": "Python 3 (ipykernel)",
      "language": "python",
      "name": "python3"
    },
    "language_info": {
      "codemirror_mode": {
        "name": "ipython",
        "version": 3
      },
      "file_extension": ".py",
      "mimetype": "text/x-python",
      "name": "python",
      "nbconvert_exporter": "python",
      "pygments_lexer": "ipython3",
      "version": "3.11.9"
    },
    "otter": {
      "OK_FORMAT": true,
      "assignment_name": "hw09_sp25",
      "tests": {
        "task_01": {
          "name": "task_01",
          "points": 3,
          "suites": [
            {
              "cases": [
                {
                  "code": ">>> isinstance(one_resampled_percentage(votes), (float, np.float32, np.float64))\nTrue",
                  "failure_message": "❌ Your function should return a float.",
                  "hidden": false,
                  "locked": false,
                  "points": 1,
                  "success_message": "✅ Your function returns a float."
                },
                {
                  "code": ">>> 35 <= one_resampled_percentage(votes) <= 65\nTrue",
                  "failure_message": "❌ Your function does not return a value within a range of possible answers.",
                  "hidden": false,
                  "locked": false,
                  "points": 1,
                  "success_message": "✅ Your function returns a value within a range of possible answers."
                }
              ],
              "scored": true,
              "setup": "",
              "teardown": "",
              "type": "doctest"
            }
          ]
        },
        "task_02": {
          "name": "task_02",
          "points": 3,
          "suites": [
            {
              "cases": [
                {
                  "code": ">>> 'percentages_in_resamples' in globals() and callable(percentages_in_resamples)\nTrue",
                  "failure_message": "❌ percentages_in_resamples should be defined to be a function.",
                  "hidden": false,
                  "locked": false,
                  "points": 0.5,
                  "success_message": "✅ percentages_in_resamples is defined to be a function."
                },
                {
                  "code": ">>> isinstance(percentages_in_resamples(), np.ndarray) and len(percentages_in_resamples()) == 2023\nTrue",
                  "failure_message": "❌ percentages_in_resamples should produce an array with 2023 items.",
                  "hidden": false,
                  "locked": false,
                  "points": 0.5,
                  "success_message": "✅ percentages_in_resamples produces an array with 2023 items."
                }
              ],
              "scored": true,
              "setup": "",
              "teardown": "",
              "type": "doctest"
            }
          ]
        },
        "task_03": {
          "name": "task_03",
          "points": 2,
          "suites": [
            {
              "cases": [
                {
                  "code": ">>> 40 <= imm_lower_bound <= imm_upper_bound <= 60\nTrue",
                  "failure_message": "❌ Your values for imm_lower_bound and imm_upper_bound are not within an appropriate interval.",
                  "hidden": false,
                  "locked": false,
                  "points": 1,
                  "success_message": "✅ Your values for imm_lower_bound and imm_upper_bound are within an appropriate interval."
                }
              ],
              "scored": true,
              "setup": "",
              "teardown": "",
              "type": "doctest"
            }
          ]
        },
        "task_04": {
          "name": "task_04",
          "points": 2,
          "suites": [
            {
              "cases": [
                {
                  "code": ">>> isinstance(one_resampled_difference(votes), (float, np.float32, np.float64))\nTrue",
                  "failure_message": "❌ Your function should return a float.",
                  "hidden": false,
                  "locked": false,
                  "points": 1,
                  "success_message": "✅ Your function returns a float."
                }
              ],
              "scored": true,
              "setup": "",
              "teardown": "",
              "type": "doctest"
            }
          ]
        },
        "task_06": {
          "name": "task_06",
          "points": 3,
          "suites": [
            {
              "cases": [
                {
                  "code": ">>> -5 <= diff_lower_bound <= diff_upper_bound <= 12\nTrue",
                  "failure_message": "❌ The values of diff_lower_bound and diff_upper_bound are not within a reasonable interval.",
                  "hidden": false,
                  "locked": false,
                  "points": 1,
                  "success_message": "✅ The values of diff_lower_bound and diff_upper_bound are within a reasonable interval."
                }
              ],
              "scored": true,
              "setup": "",
              "teardown": "",
              "type": "doctest"
            }
          ]
        },
        "task_09": {
          "name": "task_09",
          "points": 2,
          "suites": [
            {
              "cases": [
                {
                  "code": ">>> 1000 <= true_percentage_intervals <= 10000\nTrue",
                  "failure_message": "❌ The value of true_percentage_intervals is not within a possible interval. ",
                  "hidden": false,
                  "locked": false,
                  "points": 1,
                  "success_message": "✅ The value of true_percentage_intervals is within a possible interval."
                }
              ],
              "scored": true,
              "setup": "",
              "teardown": "",
              "type": "doctest"
            }
          ]
        },
        "task_10": {
          "name": "task_10",
          "points": 2,
          "suites": [
            {
              "cases": [
                {
                  "code": ">>> 1 <= restaurants_tied <= 3\nTrue",
                  "failure_message": "❌ restaurants_tied should name 1, 2, or 3.",
                  "hidden": false,
                  "locked": false,
                  "points": 1,
                  "success_message": "✅ restaurants_tied represents a possible answer."
                }
              ],
              "scored": true,
              "setup": "",
              "teardown": "",
              "type": "doctest"
            }
          ]
        },
        "task_11": {
          "name": "task_11",
          "points": 2,
          "suites": [
            {
              "cases": [
                {
                  "code": ">>> 1 <= cutoff_one_percent <= 3\nTrue",
                  "failure_message": "❌ cutoff_one_person should name 1, 2, or 3.",
                  "hidden": false,
                  "locked": false,
                  "points": 1,
                  "success_message": "✅ cutoff_one_percent represents a possible answer."
                }
              ],
              "scored": true,
              "setup": "",
              "teardown": "",
              "type": "doctest"
            }
          ]
        },
        "task_12": {
          "name": "task_12",
          "points": 2,
          "suites": [
            {
              "cases": [
                {
                  "code": ">>> 1 <= cutoff_ten_percent <= 3\nTrue",
                  "failure_message": "❌ cutoff_ten_percent should name 1, 2, or 3.",
                  "hidden": false,
                  "locked": false,
                  "points": 1,
                  "success_message": "✅ cutoff_ten_percent represents a possible answer."
                }
              ],
              "scored": true,
              "setup": "",
              "teardown": "",
              "type": "doctest"
            }
          ]
        }
      }
    },
    "colab": {
      "provenance": [],
      "include_colab_link": true
    }
  },
  "nbformat": 4,
  "nbformat_minor": 5
}