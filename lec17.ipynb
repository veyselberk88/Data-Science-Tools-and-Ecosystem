{
  "cells": [
    {
      "cell_type": "markdown",
      "metadata": {
        "id": "view-in-github",
        "colab_type": "text"
      },
      "source": [
        "<a href=\"https://colab.research.google.com/github/veyselberk88/Data-Science-Tools-and-Ecosystem/blob/main/lec17.ipynb\" target=\"_parent\"><img src=\"https://colab.research.google.com/assets/colab-badge.svg\" alt=\"Open In Colab\"/></a>"
      ]
    },
    {
      "cell_type": "markdown",
      "id": "7940c9a2-4ef0-4ff5-ad1c-dfa1f16c4681",
      "metadata": {
        "id": "7940c9a2-4ef0-4ff5-ad1c-dfa1f16c4681"
      },
      "source": [
        "<img src=\"./ccsf.png\" alt=\"CCSF Logo\" width=200px style=\"margin:0px -5px\">"
      ]
    },
    {
      "cell_type": "markdown",
      "id": "a8f0d2e4-73c7-4bf7-9d36-2c8b41d9a28b",
      "metadata": {
        "id": "a8f0d2e4-73c7-4bf7-9d36-2c8b41d9a28b"
      },
      "source": [
        "# Lecture 17: Distributions"
      ]
    },
    {
      "cell_type": "markdown",
      "id": "1dd99790-0415-4979-8a5a-bc611423323c",
      "metadata": {
        "id": "1dd99790-0415-4979-8a5a-bc611423323c"
      },
      "source": [
        "Associated Textbook Sections: [10.1, 10.2, 10.3, and 10.4](https://ccsf-math-108.github.io/textbook/chapters/10/1/Empirical_Distributions.html)"
      ]
    },
    {
      "cell_type": "markdown",
      "id": "377dc20a-3a54-49c0-a10f-182f76ccf663",
      "metadata": {
        "id": "377dc20a-3a54-49c0-a10f-182f76ccf663"
      },
      "source": [
        "---"
      ]
    },
    {
      "cell_type": "markdown",
      "id": "af4e0622-b0aa-4cd2-8610-d12e1ccf134f",
      "metadata": {
        "id": "af4e0622-b0aa-4cd2-8610-d12e1ccf134f"
      },
      "source": [
        "## Outline"
      ]
    },
    {
      "cell_type": "markdown",
      "id": "a2d4a810-f83a-4881-94c4-f7fe79406461",
      "metadata": {
        "id": "a2d4a810-f83a-4881-94c4-f7fe79406461"
      },
      "source": [
        "* [Distributions](#Distributions)\n",
        "* [Law of Large Numbers](#Law-of-Large-Numbers)\n",
        "* [A Statistic](#A-Statistic)"
      ]
    },
    {
      "cell_type": "markdown",
      "id": "6e918755-7fcb-4e4b-a13d-4981bd11be59",
      "metadata": {
        "id": "6e918755-7fcb-4e4b-a13d-4981bd11be59"
      },
      "source": [
        "---"
      ]
    },
    {
      "cell_type": "markdown",
      "id": "72899e80-153b-416c-9d2d-decf2f9f6fb3",
      "metadata": {
        "id": "72899e80-153b-416c-9d2d-decf2f9f6fb3"
      },
      "source": [
        "## Set Up the Notebook"
      ]
    },
    {
      "cell_type": "code",
      "execution_count": null,
      "id": "6a0c9fe7-80a4-4c46-a688-63a9552b546b",
      "metadata": {
        "id": "6a0c9fe7-80a4-4c46-a688-63a9552b546b"
      },
      "outputs": [],
      "source": [
        "from datascience import *\n",
        "import numpy as np\n",
        "%matplotlib inline\n",
        "import matplotlib.pyplot as plt\n",
        "plt.style.use('fivethirtyeight')"
      ]
    },
    {
      "cell_type": "markdown",
      "id": "24dd2b9c-4db7-4d85-a40c-d22ac3a3a28e",
      "metadata": {
        "id": "24dd2b9c-4db7-4d85-a40c-d22ac3a3a28e"
      },
      "source": [
        "---"
      ]
    },
    {
      "cell_type": "markdown",
      "id": "3effa706-b51e-4ff2-ab07-06db1210156e",
      "metadata": {
        "id": "3effa706-b51e-4ff2-ab07-06db1210156e"
      },
      "source": [
        "## Distributions"
      ]
    },
    {
      "cell_type": "markdown",
      "id": "0ddd7c16-898e-432f-8996-3cfb9695ae10",
      "metadata": {
        "id": "0ddd7c16-898e-432f-8996-3cfb9695ae10"
      },
      "source": [
        "---"
      ]
    },
    {
      "cell_type": "markdown",
      "id": "dc90dd39-e320-4f9f-8c91-c61b07512faf",
      "metadata": {
        "id": "dc90dd39-e320-4f9f-8c91-c61b07512faf"
      },
      "source": [
        "### Probability Distribution"
      ]
    },
    {
      "cell_type": "markdown",
      "id": "bca13235-f33a-4286-a0d6-7e39115ba4c5",
      "metadata": {
        "id": "bca13235-f33a-4286-a0d6-7e39115ba4c5"
      },
      "source": [
        "<a href=\"https://ccsf-math-108.github.io/textbook/chapters/10/1/Empirical_Distributions.html#a-probability-distribution\"><img src=\"./probability_dist_die.png\" alt=\"Probability distribution for the number shown on a single die roll.\"/></a>\n",
        "\n",
        "* Random quantity with various possible values\n",
        "* Probability Distribution:\n",
        "    * All the possible values of the quantity\n",
        "    * The probability of each of those values\n",
        "* If you can do the math, you can work out the probability distribution without ever simulating it\n",
        "* But... simulation is often easier!\n"
      ]
    },
    {
      "cell_type": "markdown",
      "id": "056d9565-0cc9-413a-b4a9-a8b2f4a05a0d",
      "metadata": {
        "id": "056d9565-0cc9-413a-b4a9-a8b2f4a05a0d"
      },
      "source": [
        "---"
      ]
    },
    {
      "cell_type": "markdown",
      "id": "a4691829-29f1-41fa-9856-799633e80bf1",
      "metadata": {
        "id": "a4691829-29f1-41fa-9856-799633e80bf1"
      },
      "source": [
        "### Empirical Distribution"
      ]
    },
    {
      "cell_type": "markdown",
      "id": "4406ab51-d5ae-45b0-a487-2895270ea885",
      "metadata": {
        "id": "4406ab51-d5ae-45b0-a487-2895270ea885"
      },
      "source": [
        "<a href=\"https://ccsf-math-108.github.io/textbook/chapters/10/1/Empirical_Distributions.html#empirical-histograms\"><img src=\"./empirical_dist_die_10.png\" alt=\"An empirical distribution for the number shown on a die roll based on 10 observations.\"/></a>\n",
        "\n",
        "* Empirical: based on observations\n",
        "* Observations can be from repetitions of an experiment\n",
        "* Empirical Distribution:\n",
        "    * All observed values\n",
        "    * The proportion of times each value appears"
      ]
    },
    {
      "cell_type": "markdown",
      "id": "d066d52e-a8de-41a5-92cd-0e6b0ee22be3",
      "metadata": {
        "id": "d066d52e-a8de-41a5-92cd-0e6b0ee22be3"
      },
      "source": [
        "---"
      ]
    },
    {
      "cell_type": "markdown",
      "id": "86d0fda2-2d4c-4df2-9cd2-4d11d4886d02",
      "metadata": {
        "id": "86d0fda2-2d4c-4df2-9cd2-4d11d4886d02"
      },
      "source": [
        "### Demo: Distributions"
      ]
    },
    {
      "cell_type": "markdown",
      "id": "bb8a82eb-2e7d-4749-8efa-e222aae5065b",
      "metadata": {
        "deletable": false,
        "editable": false,
        "id": "bb8a82eb-2e7d-4749-8efa-e222aae5065b"
      },
      "source": [
        "Create a table with the face numbers of a six-sided die. Use that table with the `sample` method to simulate randomly rolling a die. Visualize the probability distribution."
      ]
    },
    {
      "cell_type": "code",
      "execution_count": null,
      "id": "c322c8b5-0df7-4b62-afe4-49d3084eb7c4",
      "metadata": {
        "tags": [],
        "id": "c322c8b5-0df7-4b62-afe4-49d3084eb7c4",
        "outputId": "b61cf015-8651-4c1b-fd30-b0a040db3fb4"
      },
      "outputs": [
        {
          "data": {
            "text/html": [
              "<table border=\"1\" class=\"dataframe\">\n",
              "    <thead>\n",
              "        <tr>\n",
              "            <th>Face</th>\n",
              "        </tr>\n",
              "    </thead>\n",
              "    <tbody>\n",
              "        <tr>\n",
              "            <td>1   </td>\n",
              "        </tr>\n",
              "        <tr>\n",
              "            <td>2   </td>\n",
              "        </tr>\n",
              "        <tr>\n",
              "            <td>3   </td>\n",
              "        </tr>\n",
              "        <tr>\n",
              "            <td>4   </td>\n",
              "        </tr>\n",
              "        <tr>\n",
              "            <td>5   </td>\n",
              "        </tr>\n",
              "        <tr>\n",
              "            <td>6   </td>\n",
              "        </tr>\n",
              "    </tbody>\n",
              "</table>"
            ],
            "text/plain": [
              "Face\n",
              "1\n",
              "2\n",
              "3\n",
              "4\n",
              "5\n",
              "6"
            ]
          },
          "execution_count": 7,
          "metadata": {},
          "output_type": "execute_result"
        }
      ],
      "source": [
        "die =Table().with_column('Face',np.arange(1,7))\n",
        "die"
      ]
    },
    {
      "cell_type": "code",
      "execution_count": null,
      "id": "58ead8da-c700-473f-a7b7-7992f2df0c63",
      "metadata": {
        "tags": [],
        "id": "58ead8da-c700-473f-a7b7-7992f2df0c63",
        "outputId": "151e100e-96b3-49fb-a336-a22296e5ba44"
      },
      "outputs": [
        {
          "data": {
            "text/html": [
              "<table border=\"1\" class=\"dataframe\">\n",
              "    <thead>\n",
              "        <tr>\n",
              "            <th>Face</th>\n",
              "        </tr>\n",
              "    </thead>\n",
              "    <tbody>\n",
              "        <tr>\n",
              "            <td>5   </td>\n",
              "        </tr>\n",
              "        <tr>\n",
              "            <td>2   </td>\n",
              "        </tr>\n",
              "        <tr>\n",
              "            <td>4   </td>\n",
              "        </tr>\n",
              "    </tbody>\n",
              "</table>"
            ],
            "text/plain": [
              "Face\n",
              "5\n",
              "2\n",
              "4"
            ]
          },
          "execution_count": 8,
          "metadata": {},
          "output_type": "execute_result"
        }
      ],
      "source": [
        "die.sample(3)"
      ]
    },
    {
      "cell_type": "code",
      "execution_count": null,
      "id": "b052a478-6ce1-4ca2-b9b9-bce90be50153",
      "metadata": {
        "tags": [],
        "id": "b052a478-6ce1-4ca2-b9b9-bce90be50153"
      },
      "outputs": [],
      "source": [
        "..."
      ]
    },
    {
      "cell_type": "code",
      "execution_count": null,
      "id": "aee603e9-3090-4862-8519-62305bc71895",
      "metadata": {
        "tags": [],
        "id": "aee603e9-3090-4862-8519-62305bc71895"
      },
      "outputs": [],
      "source": [
        "roll_bins = np.arange(0.5, 7.5)\n",
        "..."
      ]
    },
    {
      "cell_type": "markdown",
      "id": "f927ab3b-257e-4691-98ad-954211747bd9",
      "metadata": {
        "id": "f927ab3b-257e-4691-98ad-954211747bd9"
      },
      "source": [
        "---"
      ]
    },
    {
      "cell_type": "markdown",
      "id": "dc3a6e71-a934-4c9a-8d7f-9c08660b1107",
      "metadata": {
        "deletable": false,
        "editable": false,
        "id": "dc3a6e71-a934-4c9a-8d7f-9c08660b1107"
      },
      "source": [
        "Randomly sample using a few different sample sizes and visualize the resulting empirical distributions."
      ]
    },
    {
      "cell_type": "code",
      "execution_count": null,
      "id": "9b1d65fb-b65b-492e-8acf-0b297db7d7fd",
      "metadata": {
        "tags": [],
        "id": "9b1d65fb-b65b-492e-8acf-0b297db7d7fd"
      },
      "outputs": [],
      "source": [
        "..."
      ]
    },
    {
      "cell_type": "code",
      "execution_count": null,
      "id": "56f531a5-5dc1-4ec5-abee-f0828af7ac1a",
      "metadata": {
        "tags": [],
        "id": "56f531a5-5dc1-4ec5-abee-f0828af7ac1a"
      },
      "outputs": [],
      "source": [
        "..."
      ]
    },
    {
      "cell_type": "code",
      "execution_count": null,
      "id": "67e884b6-56c5-450f-8455-f9d3468064bb",
      "metadata": {
        "tags": [],
        "id": "67e884b6-56c5-450f-8455-f9d3468064bb"
      },
      "outputs": [],
      "source": [
        "..."
      ]
    },
    {
      "cell_type": "markdown",
      "id": "29a2bd40-1251-4bbd-b6b9-180d45b09f0a",
      "metadata": {
        "id": "29a2bd40-1251-4bbd-b6b9-180d45b09f0a"
      },
      "source": [
        "---"
      ]
    },
    {
      "cell_type": "markdown",
      "id": "0a1c0856-12ef-41ac-8960-ed971cc5c7bb",
      "metadata": {
        "id": "0a1c0856-12ef-41ac-8960-ed971cc5c7bb"
      },
      "source": [
        "## Law of Large Numbers"
      ]
    },
    {
      "cell_type": "markdown",
      "id": "bc802fa3-586f-4df1-800c-9dd294188508",
      "metadata": {
        "id": "bc802fa3-586f-4df1-800c-9dd294188508"
      },
      "source": [
        "---"
      ]
    },
    {
      "cell_type": "markdown",
      "id": "7f4f816d-38a9-4707-a61b-274fb273f02c",
      "metadata": {
        "id": "7f4f816d-38a9-4707-a61b-274fb273f02c"
      },
      "source": [
        "### Law of Averages / Law of Large Numbers"
      ]
    },
    {
      "cell_type": "markdown",
      "id": "ed9b678e-6b27-4060-959b-102d325698e5",
      "metadata": {
        "id": "ed9b678e-6b27-4060-959b-102d325698e5"
      },
      "source": [
        "* If a chance experiment is repeated many times, independently and under the same conditions, then the proportion of times that an event occurs gets closer to the theoretical probability of the event\n",
        "* As you increase the number of rolls of a six-sided die, the proportion of times you see the face with five spots gets closer to 1/6\n"
      ]
    },
    {
      "cell_type": "markdown",
      "id": "50693db1-0295-4289-a987-1ffe2c955df3",
      "metadata": {
        "id": "50693db1-0295-4289-a987-1ffe2c955df3"
      },
      "source": [
        "---"
      ]
    },
    {
      "cell_type": "markdown",
      "id": "10df1f20-b627-4dc8-bcdd-30b85be17e34",
      "metadata": {
        "id": "10df1f20-b627-4dc8-bcdd-30b85be17e34"
      },
      "source": [
        "### Empirical Distribution of a Sample"
      ]
    },
    {
      "cell_type": "markdown",
      "id": "866fe5d8-2b73-4987-b29b-2fa6c4fed43f",
      "metadata": {
        "id": "866fe5d8-2b73-4987-b29b-2fa6c4fed43f"
      },
      "source": [
        "If the sample size is large, then the empirical distribution of a uniform random sample resembles the distribution of the population, with high probability.\n"
      ]
    },
    {
      "cell_type": "markdown",
      "id": "f091fe2a-8149-47dd-b226-d44637575faf",
      "metadata": {
        "id": "f091fe2a-8149-47dd-b226-d44637575faf"
      },
      "source": [
        "---"
      ]
    },
    {
      "cell_type": "markdown",
      "id": "726fe920-b6f6-4aa6-9c99-db24b8c7df7a",
      "metadata": {
        "id": "726fe920-b6f6-4aa6-9c99-db24b8c7df7a"
      },
      "source": [
        "### Demo: Large Random Samples"
      ]
    },
    {
      "cell_type": "markdown",
      "id": "4ef21602-27e5-4b09-9231-abc9912560da",
      "metadata": {
        "id": "4ef21602-27e5-4b09-9231-abc9912560da"
      },
      "source": [
        "The following code loads the same SFO November 2023 flight delay data in `delays.csv` sourced from the [Bureau of Transportation Statistic's Reporting Carrier On-Time Performance Data](https://www.transtats.bts.gov/DL_SelectFields.aspx?gnoyr_VQ=FGJ&QO_fu146_anzr=b0-gvzr). Additionally, we filter out the rows with missing delay data."
      ]
    },
    {
      "cell_type": "code",
      "execution_count": null,
      "id": "82bf2733-9d47-4f9d-86ce-190d7d3f89f1",
      "metadata": {
        "id": "82bf2733-9d47-4f9d-86ce-190d7d3f89f1",
        "outputId": "cfa7eb66-8e4d-45a5-a09e-259454a6bab8"
      },
      "outputs": [
        {
          "data": {
            "text/html": [
              "<table border=\"1\" class=\"dataframe\">\n",
              "    <thead>\n",
              "        <tr>\n",
              "            <th>OP_CARRIER</th> <th>DEST</th> <th>DELAY</th>\n",
              "        </tr>\n",
              "    </thead>\n",
              "    <tbody>\n",
              "        <tr>\n",
              "            <td>AA        </td> <td>CLT </td> <td>-23  </td>\n",
              "        </tr>\n",
              "        <tr>\n",
              "            <td>AA        </td> <td>CLT </td> <td>-22  </td>\n",
              "        </tr>\n",
              "        <tr>\n",
              "            <td>AA        </td> <td>CLT </td> <td>-19  </td>\n",
              "        </tr>\n",
              "        <tr>\n",
              "            <td>AA        </td> <td>CLT </td> <td>-17  </td>\n",
              "        </tr>\n",
              "        <tr>\n",
              "            <td>AA        </td> <td>CLT </td> <td>-12  </td>\n",
              "        </tr>\n",
              "        <tr>\n",
              "            <td>AA        </td> <td>DFW </td> <td>-32  </td>\n",
              "        </tr>\n",
              "        <tr>\n",
              "            <td>AA        </td> <td>DFW </td> <td>-25  </td>\n",
              "        </tr>\n",
              "        <tr>\n",
              "            <td>AA        </td> <td>DFW </td> <td>-25  </td>\n",
              "        </tr>\n",
              "        <tr>\n",
              "            <td>AA        </td> <td>DFW </td> <td>-18  </td>\n",
              "        </tr>\n",
              "        <tr>\n",
              "            <td>AA        </td> <td>DFW </td> <td>-17  </td>\n",
              "        </tr>\n",
              "    </tbody>\n",
              "</table>\n",
              "<p>... (11139 rows omitted)</p>"
            ],
            "text/plain": [
              "OP_CARRIER | DEST | DELAY\n",
              "AA         | CLT  | -23\n",
              "AA         | CLT  | -22\n",
              "AA         | CLT  | -19\n",
              "AA         | CLT  | -17\n",
              "AA         | CLT  | -12\n",
              "AA         | DFW  | -32\n",
              "AA         | DFW  | -25\n",
              "AA         | DFW  | -25\n",
              "AA         | DFW  | -18\n",
              "AA         | DFW  | -17\n",
              "... (11139 rows omitted)"
            ]
          },
          "execution_count": 9,
          "metadata": {},
          "output_type": "execute_result"
        }
      ],
      "source": [
        "delays = Table.read_table('delays.csv')\n",
        "sfo_delays = delays.where('ORIGIN', 'SFO').drop(0,2).relabeled('ARR_DELAY', 'DELAY')\n",
        "nan_filter = np.invert(np.isnan(sfo_delays.column('DELAY')))\n",
        "sfo_delays = sfo_delays.where(nan_filter)\n",
        "sfo_delays"
      ]
    },
    {
      "cell_type": "markdown",
      "id": "671ae93b-6b98-41e9-86a8-2e11fb79a59b",
      "metadata": {
        "id": "671ae93b-6b98-41e9-86a8-2e11fb79a59b"
      },
      "source": [
        "---"
      ]
    },
    {
      "cell_type": "markdown",
      "id": "af0f6fc3-949d-4b15-a8ae-d3ef362211b8",
      "metadata": {
        "deletable": false,
        "editable": false,
        "id": "af0f6fc3-949d-4b15-a8ae-d3ef362211b8"
      },
      "source": [
        "Visualize the empirical distribution of flight delays in the delay data. You'll need to adjust the bins. Take note of the average and median flight delays."
      ]
    },
    {
      "cell_type": "code",
      "execution_count": null,
      "id": "32f820a4-4290-4fcf-b8fc-b6d2d299ecca",
      "metadata": {
        "tags": [],
        "id": "32f820a4-4290-4fcf-b8fc-b6d2d299ecca",
        "outputId": "cd5ce1df-900e-49dd-ea4e-125dbe372e16"
      },
      "outputs": [
        {
          "data": {
            "image/png": "[encoded data removed]",
            "text/plain": [
              "<Figure size 600x400 with 1 Axes>"
            ]
          },
          "metadata": {},
          "output_type": "display_data"
        }
      ],
      "source": [
        "sfo_delays.hist(\"DELAY\",unit=\"Minute\")"
      ]
    },
    {
      "cell_type": "code",
      "execution_count": null,
      "id": "efbb4997-202d-442e-a4c6-40dc52fa7a25",
      "metadata": {
        "tags": [],
        "id": "efbb4997-202d-442e-a4c6-40dc52fa7a25",
        "outputId": "6584d5f6-59b1-4a0a-824a-0e4e567cb190"
      },
      "outputs": [
        {
          "data": {
            "text/plain": [
              "-66.0"
            ]
          },
          "execution_count": 10,
          "metadata": {},
          "output_type": "execute_result"
        }
      ],
      "source": [
        "min_delay = min(sfo_delays.column('DELAY'))\n",
        "min_delay"
      ]
    },
    {
      "cell_type": "code",
      "execution_count": null,
      "id": "72669374-7f30-4ff8-aaf2-001720e54b1c",
      "metadata": {
        "tags": [],
        "id": "72669374-7f30-4ff8-aaf2-001720e54b1c",
        "outputId": "02e86cd5-0625-474c-e686-f263f0641e3c"
      },
      "outputs": [
        {
          "data": {
            "text/plain": [
              "1461.0"
            ]
          },
          "execution_count": 11,
          "metadata": {},
          "output_type": "execute_result"
        }
      ],
      "source": [
        "max_delay = max(sfo_delays.column('DELAY'))\n",
        "max_delay"
      ]
    },
    {
      "cell_type": "code",
      "execution_count": null,
      "id": "4eb1f700-fd9c-4463-978b-2ddc5d203baa",
      "metadata": {
        "tags": [],
        "id": "4eb1f700-fd9c-4463-978b-2ddc5d203baa",
        "outputId": "5c61a8a4-4e3f-4bd4-fc87-d2495826d704"
      },
      "outputs": [
        {
          "name": "stdout",
          "output_type": "stream",
          "text": [
            "99% of the delays are most 151.0 mins.\n"
          ]
        }
      ],
      "source": [
        "# The percentile function will be introduced later in the course\n",
        "percentile_99 = percentile(99, sfo_delays.column('DELAY'))\n",
        "print(f'99% of the delays are most {percentile_99} mins.')"
      ]
    },
    {
      "cell_type": "code",
      "execution_count": null,
      "id": "cf9e7c96-0067-41ac-a922-3db53599c6e4",
      "metadata": {
        "tags": [],
        "id": "cf9e7c96-0067-41ac-a922-3db53599c6e4",
        "outputId": "9ddde0a7-6957-4106-8626-046d57575cd0"
      },
      "outputs": [
        {
          "data": {
            "image/png": "[encoded data removed]",
            "text/plain": [
              "<Figure size 600x400 with 1 Axes>"
            ]
          },
          "metadata": {},
          "output_type": "display_data"
        }
      ],
      "source": [
        "bins = np.arange(min_delay, percentile_99, 5)\n",
        "sfo_delays.hist(\"DELAY\",bins=bins, unit=\"Minute\")"
      ]
    },
    {
      "cell_type": "code",
      "execution_count": null,
      "id": "9e69572c-dd5d-4fb5-a5d9-75d5a84ab3c0",
      "metadata": {
        "tags": [],
        "id": "9e69572c-dd5d-4fb5-a5d9-75d5a84ab3c0",
        "outputId": "209dd036-96bf-445f-a8db-8d300e61afcc"
      },
      "outputs": [
        {
          "data": {
            "text/plain": [
              "-0.69082428917391692"
            ]
          },
          "execution_count": 17,
          "metadata": {},
          "output_type": "execute_result"
        }
      ],
      "source": [
        "average_delay = np.average(sfo_delays.column('DELAY'))\n",
        "average_delay"
      ]
    },
    {
      "cell_type": "code",
      "execution_count": null,
      "id": "29758fd9-540b-4223-88bc-1944cd5e9d83",
      "metadata": {
        "tags": [],
        "id": "29758fd9-540b-4223-88bc-1944cd5e9d83",
        "outputId": "077a621c-44e1-4d45-c94f-8a5101d030e5"
      },
      "outputs": [
        {
          "data": {
            "text/plain": [
              "-9.0"
            ]
          },
          "execution_count": 18,
          "metadata": {},
          "output_type": "execute_result"
        }
      ],
      "source": [
        "median_delay = np.median(sfo_delays.column('DELAY'))\n",
        "median_delay"
      ]
    },
    {
      "cell_type": "markdown",
      "id": "cec2e870-8fbd-45d4-9c68-22d5ce9fdab5",
      "metadata": {
        "id": "cec2e870-8fbd-45d4-9c68-22d5ce9fdab5"
      },
      "source": [
        "---"
      ]
    },
    {
      "cell_type": "markdown",
      "id": "e1224268-4292-4425-b58d-85ef8218a955",
      "metadata": {
        "deletable": false,
        "editable": false,
        "id": "e1224268-4292-4425-b58d-85ef8218a955"
      },
      "source": [
        "Randomly sample 10 and 1000 flights from the delay data and visualize the distributions of the samples."
      ]
    },
    {
      "cell_type": "code",
      "execution_count": null,
      "id": "3f4ef7d7-8b85-4fcb-83f0-797a970c3fb5",
      "metadata": {
        "tags": [],
        "id": "3f4ef7d7-8b85-4fcb-83f0-797a970c3fb5",
        "outputId": "9a30d6dd-27eb-4e47-d201-87a836d3eabc"
      },
      "outputs": [
        {
          "data": {
            "image/png": "[encoded data removed]",
            "text/plain": [
              "<Figure size 600x400 with 1 Axes>"
            ]
          },
          "metadata": {},
          "output_type": "display_data"
        }
      ],
      "source": [
        "sfo_delays.sample(10).hist('DELAY', bins = bins, unit='Minute')"
      ]
    },
    {
      "cell_type": "code",
      "execution_count": null,
      "id": "e07a4d1e-b5b1-4392-a0bc-dba3f0cd1cd6",
      "metadata": {
        "id": "e07a4d1e-b5b1-4392-a0bc-dba3f0cd1cd6",
        "outputId": "87ffd24d-b4e1-4569-adb5-2bc6646a4993"
      },
      "outputs": [
        {
          "data": {
            "image/png": "[encoded data removed]",
            "text/plain": [
              "<Figure size 600x400 with 1 Axes>"
            ]
          },
          "metadata": {},
          "output_type": "display_data"
        }
      ],
      "source": [
        "sfo_delays.sample(100).hist('DELAY', bins = bins, unit='Minute')"
      ]
    },
    {
      "cell_type": "code",
      "execution_count": null,
      "id": "cbd34ba4-f358-482c-b7db-eacd1a9b919a",
      "metadata": {
        "tags": [],
        "id": "cbd34ba4-f358-482c-b7db-eacd1a9b919a",
        "outputId": "2aeeecc0-b33d-40d8-d054-fdb4a21c2519"
      },
      "outputs": [
        {
          "data": {
            "image/png": "[encoded data removed]",
            "text/plain": [
              "<Figure size 600x400 with 1 Axes>"
            ]
          },
          "metadata": {},
          "output_type": "display_data"
        }
      ],
      "source": [
        "sfo_delays.sample(1000).hist('DELAY', bins = bins, unit='Minute')"
      ]
    },
    {
      "cell_type": "code",
      "execution_count": null,
      "id": "cf22bff3-3c56-44f6-8b71-896927ef4ad0",
      "metadata": {
        "id": "cf22bff3-3c56-44f6-8b71-896927ef4ad0",
        "outputId": "03166b08-62bd-45e0-a64e-6dec9d00865a"
      },
      "outputs": [
        {
          "data": {
            "image/png": "[encoded data removed]",
            "text/plain": [
              "<Figure size 600x400 with 1 Axes>"
            ]
          },
          "metadata": {},
          "output_type": "display_data"
        }
      ],
      "source": [
        "sfo_delays.sample(10000).hist('DELAY', bins = bins, unit='Minute')"
      ]
    },
    {
      "cell_type": "markdown",
      "id": "2817094b-2cff-4d3e-9586-f178c147f059",
      "metadata": {
        "id": "2817094b-2cff-4d3e-9586-f178c147f059"
      },
      "source": [
        "---"
      ]
    },
    {
      "cell_type": "markdown",
      "id": "3590eb93-082e-4c7e-8ccb-fd8feb274ca1",
      "metadata": {
        "id": "3590eb93-082e-4c7e-8ccb-fd8feb274ca1"
      },
      "source": [
        "## A Statistic"
      ]
    },
    {
      "cell_type": "markdown",
      "id": "83092df3-2376-4166-a9b0-9d7516fd1470",
      "metadata": {
        "id": "83092df3-2376-4166-a9b0-9d7516fd1470"
      },
      "source": [
        "---"
      ]
    },
    {
      "cell_type": "markdown",
      "id": "33cc63db-c743-4e1c-aec8-cf0dc514de61",
      "metadata": {
        "id": "33cc63db-c743-4e1c-aec8-cf0dc514de61"
      },
      "source": [
        "### Inference"
      ]
    },
    {
      "cell_type": "markdown",
      "id": "36cb61fb-2191-406d-b2d3-04009a2df12d",
      "metadata": {
        "id": "36cb61fb-2191-406d-b2d3-04009a2df12d"
      },
      "source": [
        "* Statistical Inference: Making conclusions based on data in random samples\n",
        "* Example: Use the data to guess the value of an unknown and fixed number by creating an estimate of the unknown quantity that depends on the random sample.\n",
        "\n"
      ]
    },
    {
      "cell_type": "markdown",
      "id": "6ca920ba-4633-4324-b202-307aebfb6f34",
      "metadata": {
        "id": "6ca920ba-4633-4324-b202-307aebfb6f34"
      },
      "source": [
        "---"
      ]
    },
    {
      "cell_type": "markdown",
      "id": "b49d82ef-2c2a-4bb7-b3a6-4641b304fa60",
      "metadata": {
        "id": "b49d82ef-2c2a-4bb7-b3a6-4641b304fa60"
      },
      "source": [
        "### Terminology"
      ]
    },
    {
      "cell_type": "markdown",
      "id": "602dc743-ad72-4942-b740-a5729efd5240",
      "metadata": {
        "id": "602dc743-ad72-4942-b740-a5729efd5240"
      },
      "source": [
        "* Parameter: A number associated with the population\n",
        "* Statistic: A number calculated from the sample\n",
        "* A statistic can be used as an estimate of a parameter"
      ]
    },
    {
      "cell_type": "markdown",
      "id": "b7c68d59-e7fd-4b49-8b01-e4d9e04451a4",
      "metadata": {
        "id": "b7c68d59-e7fd-4b49-8b01-e4d9e04451a4"
      },
      "source": [
        "---"
      ]
    },
    {
      "cell_type": "markdown",
      "id": "9edf8d67-1578-4c41-bb76-91f367c1e41f",
      "metadata": {
        "id": "9edf8d67-1578-4c41-bb76-91f367c1e41f"
      },
      "source": [
        "### Demo: Simulating Statistics"
      ]
    },
    {
      "cell_type": "markdown",
      "id": "2b609267-c864-473a-aab1-0950537acb35",
      "metadata": {
        "deletable": false,
        "editable": false,
        "id": "2b609267-c864-473a-aab1-0950537acb35"
      },
      "source": [
        "Recall the median for the flight delays (parameter) and compare it to the median statistic associated with a random sample of 10 flights."
      ]
    },
    {
      "cell_type": "code",
      "execution_count": null,
      "id": "e4d6fa78-1709-44d5-b349-04b61e34e3fd",
      "metadata": {
        "tags": [],
        "id": "e4d6fa78-1709-44d5-b349-04b61e34e3fd",
        "outputId": "66cceb86-2ad4-413d-ba18-901022be31c2"
      },
      "outputs": [
        {
          "data": {
            "text/plain": [
              "-9.0"
            ]
          },
          "execution_count": 25,
          "metadata": {},
          "output_type": "execute_result"
        }
      ],
      "source": [
        "median_delay"
      ]
    },
    {
      "cell_type": "code",
      "execution_count": null,
      "id": "28410751-1d9c-4da5-8cfe-57c4cf623939",
      "metadata": {
        "tags": [],
        "id": "28410751-1d9c-4da5-8cfe-57c4cf623939",
        "outputId": "2704d660-cbeb-46da-d85b-44656309d79c"
      },
      "outputs": [
        {
          "data": {
            "text/plain": [
              "-14.5"
            ]
          },
          "execution_count": 26,
          "metadata": {},
          "output_type": "execute_result"
        }
      ],
      "source": [
        "np.median(sfo_delays.sample(10).column(\"DELAY\"))"
      ]
    },
    {
      "cell_type": "markdown",
      "id": "40647f6f-720e-4b5e-beeb-6b1fad1f96fa",
      "metadata": {
        "id": "40647f6f-720e-4b5e-beeb-6b1fad1f96fa"
      },
      "source": [
        "---"
      ]
    },
    {
      "cell_type": "markdown",
      "id": "3add46c0-6dae-46fa-98e3-0dd3f3819bf9",
      "metadata": {
        "deletable": false,
        "editable": false,
        "id": "3add46c0-6dae-46fa-98e3-0dd3f3819bf9"
      },
      "source": [
        "Define a function that randomly samples delay data for an inputted sample size and returns the median delay for that sample."
      ]
    },
    {
      "cell_type": "code",
      "execution_count": null,
      "id": "5456ca39-4fe5-467f-9ec8-d398dbbc8515",
      "metadata": {
        "tags": [],
        "id": "5456ca39-4fe5-467f-9ec8-d398dbbc8515"
      },
      "outputs": [],
      "source": [
        "def sample_median(size):\n",
        "    return np.median(sfo_delays.sample(10).column(\"DELAY\"))"
      ]
    },
    {
      "cell_type": "code",
      "execution_count": null,
      "id": "dd198c57-7c82-45d4-9c3b-abe89dae11c5",
      "metadata": {
        "tags": [],
        "id": "dd198c57-7c82-45d4-9c3b-abe89dae11c5",
        "outputId": "f3132d8a-67aa-42ed-b33d-1cfa834b1606"
      },
      "outputs": [
        {
          "data": {
            "text/plain": [
              "-13.0"
            ]
          },
          "execution_count": 28,
          "metadata": {},
          "output_type": "execute_result"
        }
      ],
      "source": [
        "sample_median(10)"
      ]
    },
    {
      "cell_type": "code",
      "execution_count": null,
      "id": "e4409aee-dd7d-4df7-b03d-da75770df10a",
      "metadata": {
        "tags": [],
        "id": "e4409aee-dd7d-4df7-b03d-da75770df10a",
        "outputId": "705aacfe-9ec5-4cc5-b14e-208da27441f8"
      },
      "outputs": [
        {
          "data": {
            "text/plain": [
              "-11.5"
            ]
          },
          "execution_count": 31,
          "metadata": {},
          "output_type": "execute_result"
        }
      ],
      "source": [
        "sample_median(1000)"
      ]
    },
    {
      "cell_type": "markdown",
      "id": "01f93134-7a20-4e2d-9ef9-8e92419c1fde",
      "metadata": {
        "id": "01f93134-7a20-4e2d-9ef9-8e92419c1fde"
      },
      "source": [
        "---"
      ]
    },
    {
      "cell_type": "markdown",
      "id": "6db250df-3701-425f-bd50-731ff82ce2e7",
      "metadata": {
        "deletable": false,
        "editable": false,
        "id": "6db250df-3701-425f-bd50-731ff82ce2e7"
      },
      "source": [
        "Simulate randomly sampling 10 flights 1000 times and storing the sample delay medians for each iteration. Add the results to a table and visualize the sampling distribution."
      ]
    },
    {
      "cell_type": "code",
      "execution_count": null,
      "id": "ddcf2326-c148-43fc-ab59-f25078e51688",
      "metadata": {
        "tags": [],
        "id": "ddcf2326-c148-43fc-ab59-f25078e51688"
      },
      "outputs": [],
      "source": [
        "sample_medians = ...\n",
        "reps = ...\n",
        "sample_size = ...\n",
        "\n",
        "for ...:\n",
        "    new_median = ...\n",
        "    sample_medians = ..."
      ]
    },
    {
      "cell_type": "code",
      "execution_count": null,
      "id": "4330602a-1f5f-4cca-b4d0-8e95b91846a7",
      "metadata": {
        "tags": [],
        "id": "4330602a-1f5f-4cca-b4d0-8e95b91846a7"
      },
      "outputs": [],
      "source": [
        "Table().with_column('Sample Medians', sample_medians).hist(bins = np.arange(-30,20), unit='Minute')"
      ]
    },
    {
      "cell_type": "markdown",
      "id": "f1ba02a0-b5b0-48a9-8640-a5a269400d08",
      "metadata": {
        "id": "f1ba02a0-b5b0-48a9-8640-a5a269400d08"
      },
      "source": [
        "---"
      ]
    },
    {
      "cell_type": "markdown",
      "id": "41439270-e1be-4bc6-a7e8-6086a1eab9af",
      "metadata": {
        "deletable": false,
        "editable": false,
        "id": "41439270-e1be-4bc6-a7e8-6086a1eab9af"
      },
      "source": [
        "Repeat the sample simulation except use a sample size of 1000, instead of 10."
      ]
    },
    {
      "cell_type": "code",
      "execution_count": null,
      "id": "3ef90198-c18b-4b16-9059-e0205750c831",
      "metadata": {
        "tags": [],
        "id": "3ef90198-c18b-4b16-9059-e0205750c831"
      },
      "outputs": [],
      "source": [
        "sample_medians = ...\n",
        "reps = ...\n",
        "sample_size = ...\n",
        "\n",
        "for ...:\n",
        "    new_median = ...\n",
        "    sample_medians = ..."
      ]
    },
    {
      "cell_type": "code",
      "execution_count": null,
      "id": "c228fa3f-b1f9-4f84-b579-bc6fdcd7f8f7",
      "metadata": {
        "tags": [],
        "id": "c228fa3f-b1f9-4f84-b579-bc6fdcd7f8f7"
      },
      "outputs": [],
      "source": [
        "Table().with_column('Sample Medians', sample_medians).hist(bins = np.arange(-30,20), unit='Minute')"
      ]
    },
    {
      "cell_type": "markdown",
      "id": "9bf52c12-cf28-433a-8998-48d4d21200ca",
      "metadata": {
        "id": "9bf52c12-cf28-433a-8998-48d4d21200ca"
      },
      "source": [
        "---"
      ]
    },
    {
      "cell_type": "markdown",
      "id": "cd1f5a4b-056f-49d8-b9eb-3812c01e9cdd",
      "metadata": {
        "id": "cd1f5a4b-056f-49d8-b9eb-3812c01e9cdd"
      },
      "source": [
        "### Probability Distribution of a Statistic"
      ]
    },
    {
      "cell_type": "markdown",
      "id": "ae7c120d-2876-42fc-9da4-6058e759799c",
      "metadata": {
        "id": "ae7c120d-2876-42fc-9da4-6058e759799c"
      },
      "source": [
        "* Values of a statistic vary because random samples vary\n",
        "* Sampling distribution (or probability distribution) of the statistic:\n",
        "    * All possible values of the statistic,\n",
        "    * and all the corresponding probabilities\n",
        "    * Can be hard to calculate\n",
        "        * Either have to do the math\n",
        "        * Or have to generate all possible samples and calculate the statistic based on each sample\n"
      ]
    },
    {
      "cell_type": "markdown",
      "id": "3c51d556-4248-4093-b629-b019f37a2665",
      "metadata": {
        "id": "3c51d556-4248-4093-b629-b019f37a2665"
      },
      "source": [
        "---"
      ]
    },
    {
      "cell_type": "markdown",
      "id": "f90ca415-ede3-4941-a5b9-1bcb66c2d294",
      "metadata": {
        "id": "f90ca415-ede3-4941-a5b9-1bcb66c2d294"
      },
      "source": [
        "### Empirical Distribution of a Statistic"
      ]
    },
    {
      "cell_type": "markdown",
      "id": "c4b9bcdc-8c16-4a86-a779-315bf246a2a7",
      "metadata": {
        "id": "c4b9bcdc-8c16-4a86-a779-315bf246a2a7"
      },
      "source": [
        "* Empirical distribution of the statistic:\n",
        "    * Based on simulated values of the statistic\n",
        "    * Consists of all the observed values of the statistic,\n",
        "    * and the proportion of times each value appeared\n",
        "* Good approximation to the probability distribution of the statistic if the number of repetitions in the simulation is large\n"
      ]
    },
    {
      "cell_type": "markdown",
      "id": "fcc71a44-39a9-402f-958d-58583b096b67",
      "metadata": {
        "id": "fcc71a44-39a9-402f-958d-58583b096b67"
      },
      "source": [
        "---"
      ]
    },
    {
      "cell_type": "markdown",
      "id": "24af2328-e7f3-419f-9437-8c10260607fd",
      "metadata": {
        "editable": true,
        "tags": [],
        "id": "24af2328-e7f3-419f-9437-8c10260607fd"
      },
      "source": [
        "## Attribution"
      ]
    },
    {
      "cell_type": "markdown",
      "id": "f01e2c43-7057-410f-a6ec-25aa047b61df",
      "metadata": {
        "id": "f01e2c43-7057-410f-a6ec-25aa047b61df"
      },
      "source": [
        "This content is licensed under the <a href=\"https://creativecommons.org/licenses/by-nc-sa/4.0/\">Creative Commons Attribution-NonCommercial-ShareAlike 4.0 International License (CC BY-NC-SA 4.0)</a> and derived from the <a href=\"https://www.data8.org/\">Data 8: The Foundations of Data Science</a> offered by the University of California, Berkeley.\n",
        "\n",
        "<img src=\"./by-nc-sa.png\" width=100px>"
      ]
    }
  ],
  "metadata": {
    "kernelspec": {
      "display_name": "Python 3 (ipykernel)",
      "language": "python",
      "name": "python3"
    },
    "language_info": {
      "codemirror_mode": {
        "name": "ipython",
        "version": 3
      },
      "file_extension": ".py",
      "mimetype": "text/x-python",
      "name": "python",
      "nbconvert_exporter": "python",
      "pygments_lexer": "ipython3",
      "version": "3.11.9"
    },
    "otter": {
      "OK_FORMAT": true,
      "tests": {}
    },
    "colab": {
      "provenance": [],
      "include_colab_link": true
    }
  },
  "nbformat": 4,
  "nbformat_minor": 5
}