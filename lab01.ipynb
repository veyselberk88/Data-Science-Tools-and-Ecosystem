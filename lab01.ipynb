{
  "cells": [
    {
      "cell_type": "markdown",
      "metadata": {
        "id": "view-in-github",
        "colab_type": "text"
      },
      "source": [
        "<a href=\"https://colab.research.google.com/github/veyselberk88/Data-Science-Tools-and-Ecosystem/blob/main/lab01.ipynb\" target=\"_parent\"><img src=\"https://colab.research.google.com/assets/colab-badge.svg\" alt=\"Open In Colab\"/></a>"
      ]
    },
    {
      "cell_type": "markdown",
      "id": "e4cecb82-f4de-4098-9511-9488fc81cec4",
      "metadata": {
        "id": "e4cecb82-f4de-4098-9511-9488fc81cec4"
      },
      "source": [
        "<img src=\"./ccsf.png\" alt=\"CCSF Logo\" width=200px style=\"margin:0px -5px\">"
      ]
    },
    {
      "cell_type": "markdown",
      "id": "e36f075e-5b44-4886-96f7-4ac5ddb12224",
      "metadata": {
        "tags": [],
        "id": "e36f075e-5b44-4886-96f7-4ac5ddb12224"
      },
      "source": [
        "# Lab 01: Jupyter and Python"
      ]
    },
    {
      "cell_type": "markdown",
      "id": "0f248dc1-d431-4825-98de-f8048c8d8271",
      "metadata": {
        "id": "0f248dc1-d431-4825-98de-f8048c8d8271"
      },
      "source": [
        "## Welcome 🎉"
      ]
    },
    {
      "cell_type": "markdown",
      "id": "941dff44-4d65-4302-896c-a150b4b7c3ac",
      "metadata": {
        "id": "941dff44-4d65-4302-896c-a150b4b7c3ac"
      },
      "source": [
        "Welcome to your first Foundations of Data Science lab assignment! Each week, you will complete a lab assignment like this one. Hands-on practice is essential for learning technical subjects, so labs are a key part of the course. It's natural to make mistakes while completing these assignments, and that is okay! We are here to support you as you learn and grow from those mistakes.\n",
        "\n",
        "**Collaborating on labs is encouraged!** You should rarely remain stuck for more than a few minutes on questions in labs, so ask an instructor or classmate for help. (Explaining things is beneficial, too -- the best way to solidify your knowledge of a subject is to explain it.) However, please don't just share answers.\n",
        "\n",
        "Ideally, you'll [submit](#Submit-Your-Assignment-to-Canvas) this assignment with your instructor during the in-person lab meeting."
      ]
    },
    {
      "cell_type": "markdown",
      "id": "91af69e3-cad9-4624-a424-18d43eae57bf",
      "metadata": {
        "id": "91af69e3-cad9-4624-a424-18d43eae57bf"
      },
      "source": [
        "---"
      ]
    },
    {
      "cell_type": "markdown",
      "id": "b629dcbf-a514-4054-a67a-efca33251bf6",
      "metadata": {
        "tags": [],
        "id": "b629dcbf-a514-4054-a67a-efca33251bf6"
      },
      "source": [
        "## Jupyter Notebooks"
      ]
    },
    {
      "cell_type": "markdown",
      "id": "b01782b7-57c2-4573-873a-df3898c7bb52",
      "metadata": {
        "tags": [],
        "id": "b01782b7-57c2-4573-873a-df3898c7bb52"
      },
      "source": [
        "<img style=\"display: block; margin-left: auto; margin-right: auto;\" src=\"jupyter-main-logo.svg\" alt=\"Jupyter's main logo\" width=\"100rem;\">\n",
        "\n",
        "This web application is called a Jupyter notebook and is part of [Project Jupyter](https://jupyter.org/). A notebook is a place to host and share explanatory content intended for humans, usually in association with computational programs and their results. This notebook format supports reproducible computational research, enabling anyone with access to the notebook and the relevant data to reproduce the work done by the original researchers. Jupyter is recognized as a [\"Champion of Open Science\"](https://blog.jupyter.org/jupyter-recognized-as-champion-of-open-science-by-u-s-white-house-fcb0018f8efa) by the United States White House Office of Science and Technology Policy. Notebook files on a computer end with the `.ipynb` extension, referencing the IPython programming environment developed by [Fernando Pérez](https://en.wikipedia.org/wiki/Fernando_P%C3%A9rez_(software_developer)).\n",
        "\n",
        "You'll notice that these notebooks can be edited and run on several different platforms such as the [CCSF JupyterHub](https://ccsf.cloudbank.2i2c.cloud/), [Google Colab](https://colab.research.google.com), and [VS code](https://code.visualstudio.com/). These platforms allow you to interact with the notebooks in slightly different ways, but the main components of a notebook typically persist through those differences.\n",
        "\n",
        "<img style=\"display: block; margin-left: auto; margin-right: auto;\" src=\"otter-logo-smaller.png\" alt=\"Otter-Grader's logo\" width=\"100rem;\">\n",
        "\n",
        "We will utilize notebooks for lecture demonstrations and assignments such as this one. Typically, you will need to provide explanatory content or code for the associated **Tasks** throughout the notebook. To assist in grading your work, we will use an auto-grading tool called [Otter-Grader](https://otter-grader.readthedocs.io/en/latest). You'll learn about Otter-Grader later in this assignment. Let's get started by exploring the various types of cells you will work with in this course.\n"
      ]
    },
    {
      "cell_type": "markdown",
      "id": "88ec94c0-0d23-4e8a-8ac8-1dea8b04cba2",
      "metadata": {
        "id": "88ec94c0-0d23-4e8a-8ac8-1dea8b04cba2"
      },
      "source": [
        "---"
      ]
    },
    {
      "cell_type": "markdown",
      "id": "1ea4e4f5-18ff-42a4-a7a4-ac1f882e111b",
      "metadata": {
        "id": "1ea4e4f5-18ff-42a4-a7a4-ac1f882e111b"
      },
      "source": [
        "## Cells"
      ]
    },
    {
      "cell_type": "markdown",
      "id": "1421512f-cf6f-494a-b74b-48f3d28c53ce",
      "metadata": {
        "id": "1421512f-cf6f-494a-b74b-48f3d28c53ce"
      },
      "source": [
        "From our point of view, notebooks consist of building blocks called cells. If you navigate through the document, you'll notice that the various cells are outlined by a rectangle. In terms of the basics of cells, you will work with Markdown cells and code cells."
      ]
    },
    {
      "cell_type": "markdown",
      "id": "9db080c8-d9fc-46e2-9b35-8fe9dea80e12",
      "metadata": {
        "id": "9db080c8-d9fc-46e2-9b35-8fe9dea80e12"
      },
      "source": [
        "### Markdown Cells"
      ]
    },
    {
      "cell_type": "markdown",
      "id": "22ee2e45-5b86-4b59-baef-7a6c532545f9",
      "metadata": {
        "id": "22ee2e45-5b86-4b59-baef-7a6c532545f9"
      },
      "source": [
        "Markdown cells are typically where you will find the content intended for the explanatory material. There could be text, images, etc. in these cells to explain what is going on in the notebook and in the code cells. The text in these cells are formatted with a language called Markdown. You don't need to learn all the details of Markdown, but you might find it helpful to go through the tutorial on [markdowntutorial.com](https://www.markdowntutorial.com/) or reference the [Markdown Cheat Sheet](https://www.markdownguide.org/cheat-sheet/).\n",
        "\n",
        "* If you double-click a Markdown cell, then you'll be able to see how it was formatted. Sometimes we lock the Markdown cells in these notebooks, so you won't accidentally modify our explanatory content or instructions. You should have no program editing cells that you create or cells that are associated with the assignment tasks.\n",
        "* To return back to the formatted version of the cell, select the ▶ button on the toolbar."
      ]
    },
    {
      "cell_type": "markdown",
      "id": "8c9b96b0-2007-4606-a6e8-ec059338c4c1",
      "metadata": {
        "id": "8c9b96b0-2007-4606-a6e8-ec059338c4c1"
      },
      "source": [
        "### Task 01 📍🔎"
      ]
    },
    {
      "cell_type": "markdown",
      "id": "cda46179-f644-4ec0-8f80-c8b61b256f87",
      "metadata": {
        "deletable": false,
        "editable": false,
        "jp-MarkdownHeadingCollapsed": true,
        "tags": [],
        "id": "cda46179-f644-4ec0-8f80-c8b61b256f87"
      },
      "source": [
        "<!-- BEGIN QUESTION -->\n",
        "\n",
        "For your first task, edit the following Markdown cell and replace the text `_Type your answer here, replacing this text._`, with your name and a song, movie, book, etc. that you have been enjoying recently. (It is okay and preferred that you delete the placeholder text and replace it with your response.)\n",
        "\n",
        "It is not required, but if you want to practice using Markdown, try to format your response as an unordered list with your name in **bold** and the name of the song, movie, book, etc. in _italics_. If you need to, review the [Markdown Cheat Sheet](https://www.markdownguide.org/cheat-sheet/)."
      ]
    },
    {
      "cell_type": "markdown",
      "id": "327ffe37",
      "metadata": {
        "id": "327ffe37"
      },
      "source": [
        "**Veysel Berk**\n",
        "*Sapiens*\n",
        "*The sound of silence*"
      ]
    },
    {
      "cell_type": "markdown",
      "id": "81053caa-4f62-4aff-948b-00ab31934f0f",
      "metadata": {
        "deletable": false,
        "editable": false,
        "id": "81053caa-4f62-4aff-948b-00ab31934f0f"
      },
      "source": [
        "<!-- END QUESTION -->\n",
        "\n",
        "**Task 01 is marked with a 🔎 symbol, so it is manually checked and not auto-graded. For lab tasks like this, check your response with another student, a tutor, or the instructor before moving on.**"
      ]
    },
    {
      "cell_type": "markdown",
      "id": "12a35753-8498-4310-a277-338c13f8896e",
      "metadata": {
        "id": "12a35753-8498-4310-a277-338c13f8896e"
      },
      "source": [
        "### Code Cells"
      ]
    },
    {
      "cell_type": "markdown",
      "id": "09431a2f-ba35-42a3-b5f6-cd27ec219eea",
      "metadata": {
        "id": "09431a2f-ba35-42a3-b5f6-cd27ec219eea"
      },
      "source": [
        "Code cells host text associated with some programming language. We will utilize the Python 3 programming language in this course, and you will learn some of the basics of that language throughout the semester. The following cell is a code cell. You'll notice that code cells have a different structure than Markdown cells. You can run the code cell by selecting it and pressing the ▶ button.\n",
        "\n",
        "As you progress, you'll want to familiarize yourself with a few shortcuts rather than selecting the buttons. For example, to run a code cell, you can hold down <kbd>Shift</kbd> and press <kbd>Return/Enter</kbd>."
      ]
    },
    {
      "cell_type": "code",
      "execution_count": null,
      "id": "685bf6f5-4ec2-4d69-82e1-da99241546b1",
      "metadata": {
        "id": "685bf6f5-4ec2-4d69-82e1-da99241546b1",
        "outputId": "a3bc827f-0256-4fb4-aea9-9694511885d3"
      },
      "outputs": [
        {
          "name": "stdout",
          "output_type": "stream",
          "text": [
            "Hello, World!\n"
          ]
        }
      ],
      "source": [
        "print(\"Hello, World!\")"
      ]
    },
    {
      "cell_type": "markdown",
      "id": "c94658b3-233d-45bd-8206-b3f0ae355fa2",
      "metadata": {
        "id": "c94658b3-233d-45bd-8206-b3f0ae355fa2"
      },
      "source": [
        "If you ran the above cell, you should notice that next to the code cell is a set of square brackets with a number inside of it.\n",
        "* If a code cell has not been run, then it will not contain a number `[ ]:`.\n",
        "* Depending on how long it takes for the code to run, you'll see an asterisk within the brackets while the code is running `[*]:`.\n",
        "* If it is the first cell to be executed in the notebook, then it will have a 1 in it `[1]:`.\n",
        "* The next cell (including the same cell) that is run will have a 2 within the brackets `[2]:`.\n",
        "* The numbers in the code cells provide us with the sequence in which the code cells were run. It is important to know which cells have been executed because code cells ran later in time might depend on code cells previously executed."
      ]
    },
    {
      "cell_type": "markdown",
      "id": "edaa2002-fe65-4a5a-af60-10164a9d9603",
      "metadata": {
        "id": "edaa2002-fe65-4a5a-af60-10164a9d9603"
      },
      "source": [
        "#### Output"
      ]
    },
    {
      "cell_type": "markdown",
      "id": "aa441b83-e5b3-4a61-935f-574ce96c9f8d",
      "metadata": {
        "id": "aa441b83-e5b3-4a61-935f-574ce96c9f8d"
      },
      "source": [
        "Notice that once the above code cell was run, `Hello, World!` appeared below the code cell as output. The output of a code cell contain images, data tables, etc. produced by the output from running the Python commands."
      ]
    },
    {
      "cell_type": "markdown",
      "id": "7c5a6e90-367f-4e93-b9d8-17c3daac1df0",
      "metadata": {
        "id": "7c5a6e90-367f-4e93-b9d8-17c3daac1df0"
      },
      "source": [
        "---"
      ]
    },
    {
      "cell_type": "markdown",
      "id": "89608b0b-fdf0-4783-a5e0-03dff52804cc",
      "metadata": {
        "id": "89608b0b-fdf0-4783-a5e0-03dff52804cc"
      },
      "source": [
        "## Otter: An Auto-Grader"
      ]
    },
    {
      "cell_type": "markdown",
      "id": "0e8f5af1-ab8a-437d-a7ed-b08b7666f189",
      "metadata": {
        "id": "0e8f5af1-ab8a-437d-a7ed-b08b7666f189"
      },
      "source": [
        "In every assignment, we will run some checks on your code to see if you are doing things correctly. That auto-grading is done with the help of the [Otter-Grader](https://otter-grader.readthedocs.io/en/latest/) library. Otter runs tests on your code to help check your progress. Sometimes these tests show you what we are testing for and what the results are, but there will be times when we run hidden tests after you submit your work to help grade for correctness.\n",
        "\n",
        "* The lab assignments in this course **do not** have hidden tests.\n",
        "* The homework and project assignments **do** have hidden tests.\n",
        "\n",
        "For every assignment after this one, you'll run a cell at the top of the notebook that initializes Otter."
      ]
    },
    {
      "cell_type": "markdown",
      "id": "e4e86fac-afc3-4723-978b-df2b5e3859b3",
      "metadata": {
        "id": "e4e86fac-afc3-4723-978b-df2b5e3859b3"
      },
      "source": [
        "### Initialize Otter"
      ]
    },
    {
      "cell_type": "markdown",
      "id": "3e87aa1c-6d90-48aa-8d66-d975c0054b01",
      "metadata": {
        "id": "3e87aa1c-6d90-48aa-8d66-d975c0054b01"
      },
      "source": [
        "In every notebook assignment, you will need to run a code cell that starts with `# Initialize Otter`.\n",
        "\n",
        "The word in Python that we will use as a default to use the auto-grader is `grader`.  By default, Python doesn't understand what the word `grader` means, so you need to run a code cell that imports the Otter grader into the notebook environment and assigns the name `grader` to the auto-grader and its configuration for this assignment."
      ]
    },
    {
      "cell_type": "markdown",
      "id": "30d28c9d-6bb7-4bfa-b0ce-6ba8b37283f5",
      "metadata": {
        "id": "30d28c9d-6bb7-4bfa-b0ce-6ba8b37283f5"
      },
      "source": [
        "### Task 02 📍"
      ]
    },
    {
      "cell_type": "markdown",
      "id": "5e53b0d0-6a8a-4d16-9615-e2b8cdbe1910",
      "metadata": {
        "deletable": false,
        "editable": false,
        "id": "5e53b0d0-6a8a-4d16-9615-e2b8cdbe1910"
      },
      "source": [
        "For this task:\n",
        "\n",
        "1. Run the following code cell that starts with `# Initialize Otter`.\n",
        "2. Run the code cell containing `grader.check(\"task_02\")`."
      ]
    },
    {
      "cell_type": "code",
      "execution_count": null,
      "id": "9e07bce6-b957-444f-80f5-cde591bd71cd",
      "metadata": {
        "deletable": false,
        "editable": false,
        "id": "9e07bce6-b957-444f-80f5-cde591bd71cd"
      },
      "outputs": [],
      "source": [
        "# Initialize Otter\n",
        "import otter\n",
        "grader = otter.Notebook(\"lab01.ipynb\")"
      ]
    },
    {
      "cell_type": "code",
      "execution_count": null,
      "id": "35282ad8",
      "metadata": {
        "deletable": false,
        "editable": false,
        "id": "35282ad8",
        "outputId": "ef101e72-615a-4ec4-a1c8-23c4395fb425"
      },
      "outputs": [
        {
          "data": {
            "text/html": [
              "<p><strong><pre style='display: inline;'>task_02</pre></strong> passed! 🌟</p><p><strong><pre style='display: inline;'>task_02 - 1</pre> message:</strong> ✅ You've successfully run the cell and initialized Otter!</p>"
            ],
            "text/plain": [
              "task_02 results: All test cases passed!\n",
              "task_02 - 1 message: ✅ You've successfully run the cell and initialized Otter!"
            ]
          },
          "execution_count": 5,
          "metadata": {},
          "output_type": "execute_result"
        }
      ],
      "source": [
        "grader.check(\"task_02\")"
      ]
    },
    {
      "cell_type": "markdown",
      "id": "77646d4e-cece-441f-a6c7-f8d983d83a1e",
      "metadata": {
        "id": "77646d4e-cece-441f-a6c7-f8d983d83a1e"
      },
      "source": [
        "---"
      ]
    },
    {
      "cell_type": "markdown",
      "id": "389d60a9-fc1d-4c68-84d1-799b8ea9eddf",
      "metadata": {
        "id": "389d60a9-fc1d-4c68-84d1-799b8ea9eddf"
      },
      "source": [
        "## Comments"
      ]
    },
    {
      "cell_type": "markdown",
      "id": "baa1d669-fcc5-4e1a-a524-c406d0583d84",
      "metadata": {
        "id": "baa1d669-fcc5-4e1a-a524-c406d0583d84"
      },
      "source": [
        "You may have noticed the first line in the code cell that initializes Otter earlier on in the notebook:\n",
        "\n",
        "    # Initialize Otter\n",
        "    \n",
        "This is called a *comment*. It doesn't make anything happen in Python; Python ignores anything on a line after a `#`.  Instead, it's there to communicate something about the code to you, the human. Comments are extremely useful, but keep them to a minimum when using notebooks. Instead, utilize the Markdown cells to explain what your code is doing.\n",
        "\n",
        "<img src=\"http://imgs.xkcd.com/comics/future_self.png\" alt=\"A comic showing a conversation between a programmer and their future self through comments.\">\n",
        "Image Source: <a href=\"http://imgs.xkcd.com/comics/future_self.png\">imgs.xkcd.com</a>"
      ]
    },
    {
      "cell_type": "markdown",
      "id": "4cb153a6-8361-4bd4-bce8-af88640d3b14",
      "metadata": {
        "id": "4cb153a6-8361-4bd4-bce8-af88640d3b14"
      },
      "source": [
        "---"
      ]
    },
    {
      "cell_type": "markdown",
      "id": "ecb080f1-11fb-4670-9643-f8cb917ff1bc",
      "metadata": {
        "id": "ecb080f1-11fb-4670-9643-f8cb917ff1bc"
      },
      "source": [
        "## The Kernel"
      ]
    },
    {
      "cell_type": "markdown",
      "id": "5aa3d294-3f3f-40a1-8c86-65c1e5bfc3f5",
      "metadata": {
        "id": "5aa3d294-3f3f-40a1-8c86-65c1e5bfc3f5"
      },
      "source": [
        "The kernel is a program that executes the code inside your notebook and outputs the results. We are running a Python 3 kernel in this course. In the top right of your window, you can see a circle that indicates the status of your kernel. If the circle is empty (⚪), the kernel is idle and ready to execute code. If the circle is filled in (⚫), the kernel is busy running some code. If the circle has a lightning bolt through it, then the kernel has shut down for some reason and needs to be restarted.\n",
        "\n",
        "As we described above, next to every code cell, you'll see some text that reads `[ ]:`. Before you run the cell, you'll see `[ ]:`. When the cell is running, you'll see `In [*]`. If you see an asterisk (\\*) next to a cell that doesn't go away, it's likely that the code inside the cell is taking too long to run, and it might be a good time to interrupt the kernel (discussed below). When a cell is finished running, you'll see a number inside the brackets, like so: `In [1]`. The number corresponds to the order in which you run the cells."
      ]
    },
    {
      "cell_type": "markdown",
      "id": "979c789e-e5c3-4d16-a9c4-fbeb43cfe590",
      "metadata": {
        "id": "979c789e-e5c3-4d16-a9c4-fbeb43cfe590"
      },
      "source": [
        "### Restarting the Kernel"
      ]
    },
    {
      "cell_type": "markdown",
      "id": "4ff3bb1a-2570-4e93-a6ce-dba591d23098",
      "metadata": {
        "id": "4ff3bb1a-2570-4e93-a6ce-dba591d23098"
      },
      "source": [
        "You may run into problems where your kernel is stuck for an excessive amount of time, your notebook is very slow and unresponsive, or your kernel loses its connection. If this happens, try the following steps:\n",
        "\n",
        "1. At the top of your screen, click `Kernel` in the menu bar, then `Interrupt Kernel`.\n",
        "2. If that doesn't help:\n",
        "    1. Select the cell you were last working with.\n",
        "    2. Click `Kernel` in the menu bar.\n",
        "    3. In that new menu, click `Restart Kernel and Run Up to Selected Cell...`. (This restarts the kernel and re-runs all the cells in order from top to bottom up to the cell you selected.)\n",
        "3. If that doesn't help, restart your server by completing the following tasks:\n",
        "    1. Open [your JupyterHub home page](https://ccsf.cloudbank.2i2c.cloud/hub/home).\n",
        "    2. Select the `Stop My Server` button, wait a few moments, and select the `Start My Server` button.\n",
        "    3. Close the JupyterHub window/tabs.\n",
        "    4. Re-open the notebook using the link from the Canvas assignment page. *You'll need to run your code cells again*.\n",
        "\n",
        "**Note that if your notebook is inactive for a while, the kernel will shut down on its own, and you will have to run your code cells from the start of your notebook up until where you paused your work.**\n"
      ]
    },
    {
      "cell_type": "markdown",
      "id": "aeb8e7fb-2f01-464e-8963-b6a51e9e687e",
      "metadata": {
        "id": "aeb8e7fb-2f01-464e-8963-b6a51e9e687e"
      },
      "source": [
        "### Task 03 📍🔎"
      ]
    },
    {
      "cell_type": "markdown",
      "id": "0fcc232c-c798-4829-858c-45aa57eb11d3",
      "metadata": {
        "deletable": false,
        "editable": false,
        "id": "0fcc232c-c798-4829-858c-45aa57eb11d3"
      },
      "source": [
        "<!-- BEGIN QUESTION -->\n",
        "\n",
        "It is common for students to start an assignment, make some progress, take a break, and then return to their assignment. **The kernel will likely shut down during the break to save resources.** This might cause more confusion than you might think because the notebook will show your work is still there, and the code cells look like they have been run, but the Python interpreter doesn't remember anything once the kernel shuts down. So, you must re-run the cells you've already run before moving on. We want you to replicate this (common) situation in this task.\n",
        "\n",
        "For this task:\n",
        "\n",
        "1. At the top of your screen, click `Kernel` in the menu bar, then click `Shut Down Kernel`. After you do this, the kernel status icon should show a lightning bolt and read \"No Kernel\". You are doing this to simulate the kernel shutting down after you have made some progress on a notebook.\n",
        "2. Next, refresh the browser page as if you were returning to this assignment from a break and scroll back here to continue working on this task.\n",
        "3. After you refresh the page, the kernel should have restarted. (If it didn't, you can manually restart it by clicking `Kernel` in the menu bar, then clicking `Restart Kernel...`). If you go back up to the `grader.check` cell for Task 02 and try to run it, you should see that it fails even though you already ran the `# Initialize Otter` cell. This is because the keyword `grader` was removed from memory once the kernel shut down. Go try this and re-run the `# Initialize Otter` cell to pass Task 02 again."
      ]
    },
    {
      "cell_type": "markdown",
      "id": "d6ec9a91-53a1-477d-a0e5-79f7bda8b664",
      "metadata": {
        "deletable": false,
        "editable": false,
        "id": "d6ec9a91-53a1-477d-a0e5-79f7bda8b664"
      },
      "source": [
        "<!-- END QUESTION -->\n",
        "\n",
        "This task might feel a little complicated, so you might want to try it with a tutor or the instructor. With that said, do not skip it because you will eventually have to deal with this situation, so we recommend that you learn about it while you have support.\n",
        "\n",
        "**Check your understanding of this task with another student, a tutor, or the instructor before moving on.**"
      ]
    },
    {
      "cell_type": "markdown",
      "id": "0a030e3e-4c6a-429e-8c28-093d61972627",
      "metadata": {
        "id": "0a030e3e-4c6a-429e-8c28-093d61972627"
      },
      "source": [
        "---"
      ]
    },
    {
      "cell_type": "markdown",
      "id": "941f373e-b559-4f07-9fd1-0f497d283d5e",
      "metadata": {
        "id": "941f373e-b559-4f07-9fd1-0f497d283d5e"
      },
      "source": [
        "## Adding and Editing Cells"
      ]
    },
    {
      "cell_type": "markdown",
      "id": "34becf54-bcfe-4268-b12b-c9fa600460b8",
      "metadata": {
        "id": "34becf54-bcfe-4268-b12b-c9fa600460b8"
      },
      "source": [
        "### Adding Cells to Jupyter Notebooks"
      ]
    },
    {
      "cell_type": "markdown",
      "id": "3a354991-a0a4-41b5-b139-d39bdf0e20f5",
      "metadata": {
        "id": "3a354991-a0a4-41b5-b139-d39bdf0e20f5"
      },
      "source": [
        "So far, you have only edited the content of this notebook. There will be times when you will need to add your own cells to notebooks. To add a new cell:\n",
        "\n",
        "Click the `+` button in the toolbar.  \n",
        "\n",
        "New cells start out as a code cell by default.  In order to change the cell type:\n",
        "\n",
        "1. Click to the cell that you want to change the type of.\n",
        "2. Click the drop-down box in the toolbar and choose `Markdown`."
      ]
    },
    {
      "cell_type": "markdown",
      "id": "3beee68c-531b-4b21-a194-c34480503d06",
      "metadata": {
        "id": "3beee68c-531b-4b21-a194-c34480503d06"
      },
      "source": [
        "### Making Mistakes"
      ]
    },
    {
      "cell_type": "markdown",
      "id": "ada5976a-508d-4792-918a-db9f6e3e1685",
      "metadata": {
        "id": "ada5976a-508d-4792-918a-db9f6e3e1685"
      },
      "source": [
        "Before you begin the next task, we want to remind you that making mistakes is a natural part of working with these notebooks. Consider the following three pieces of advice:\n",
        "\n",
        "1. If you find that you have just made a mistake, be careful not to compound the issue by trying to fix it immediately. Instead, select `Edit` in the menu bar and choose the relevant `Undo` option. You can undo changes made to the notebook as a whole (`Undo Cell Operation`) or to individual cells (`Undo`).\n",
        "2. You can create checkpoints in your notebook's history by selecting `File` in the menu bar, then `Save`. You can revert to the last checkpoint by selecting `File` in the menu bar, followed by `Revert Notebook to Checkpoint`.\n",
        "3. If you feel that you want to start your assignment over, select `File` in the menu bar, then `Rename...`. This keeps your work in your JupyterHub. After that, go back to Canvas and open the link to the notebook from the assignment page. This will create a new copy of the original notebook that we shared with you."
      ]
    },
    {
      "cell_type": "markdown",
      "id": "016caccc-94e3-47d5-89d3-7cdd6f1575e3",
      "metadata": {
        "id": "016caccc-94e3-47d5-89d3-7cdd6f1575e3"
      },
      "source": [
        "### Task 04 📍🔎"
      ]
    },
    {
      "cell_type": "markdown",
      "id": "768ca349-ab00-4d6b-ab8c-abc7a980a3b2",
      "metadata": {
        "deletable": false,
        "editable": false,
        "id": "768ca349-ab00-4d6b-ab8c-abc7a980a3b2"
      },
      "source": [
        "<!-- BEGIN QUESTION -->\n",
        "\n",
        "Okay, it's time to practice adding cells and moving them around. For this task,\n",
        "\n",
        "1. Add a code cell to the notebook and **position it below** this Markdown cell.\n",
        "2. Type `2 + 2` in the code cell and run it so that `4` appears in its associated output.\n",
        "3. Add a Markdown cell to the notebook and **position it above** the code cell you created.\n",
        "4. Type `I'm getting the hang of this! Here is some code:` in the Markdown cell that you added."
      ]
    },
    {
      "cell_type": "markdown",
      "id": "c7d233df-6cc9-4af2-9a54-7a49ea04b5bd",
      "metadata": {
        "id": "c7d233df-6cc9-4af2-9a54-7a49ea04b5bd"
      },
      "source": [
        "I'm getting the hang of this! Here is some code:"
      ]
    },
    {
      "cell_type": "code",
      "execution_count": null,
      "id": "5e808c3b-b0e3-4222-96f5-61c6f8d23d1c",
      "metadata": {
        "id": "5e808c3b-b0e3-4222-96f5-61c6f8d23d1c",
        "outputId": "2c6b3cb6-7e09-4c95-c0d5-27e044040061"
      },
      "outputs": [
        {
          "data": {
            "text/plain": [
              "4"
            ]
          },
          "execution_count": 1,
          "metadata": {},
          "output_type": "execute_result"
        }
      ],
      "source": [
        "2+2"
      ]
    },
    {
      "cell_type": "markdown",
      "id": "ed8f9b89-0f6e-4e94-80dd-e9d96bee0242",
      "metadata": {
        "deletable": false,
        "editable": false,
        "id": "ed8f9b89-0f6e-4e94-80dd-e9d96bee0242"
      },
      "source": [
        "<!-- END QUESTION -->\n",
        "\n",
        "**You might need to ask for help when it comes to moving the cells around. Check with someone to make sure that you completed this task correctly and don't give up!**"
      ]
    },
    {
      "cell_type": "markdown",
      "id": "974d0c73-e714-409a-b4bc-94759be1a3c6",
      "metadata": {
        "id": "974d0c73-e714-409a-b4bc-94759be1a3c6"
      },
      "source": [
        "### Edit and Command Modes"
      ]
    },
    {
      "cell_type": "markdown",
      "id": "a4bae7de-1674-4ed7-aaf2-f20a76b73cef",
      "metadata": {
        "id": "a4bae7de-1674-4ed7-aaf2-f20a76b73cef"
      },
      "source": [
        "Notebooks have two modes. In edit mode, you can edit text in cells. Command mode is used for navigating the notebook using keyboard shortcuts.\n",
        "\n",
        "- If the notebook is in command mode, press `enter` on the keyboard to change to edit mode.\n",
        "- If the notebook is in edit mode, press `esc` on the keyboard to change to command mode.\n",
        "\n",
        "It can be tricky at first understanding the difference between the two modes, but you will get the hang of it over time!"
      ]
    },
    {
      "cell_type": "markdown",
      "id": "4977c6f4-ae0a-4c5c-9fce-ac6da25c749e",
      "metadata": {
        "id": "4977c6f4-ae0a-4c5c-9fce-ac6da25c749e"
      },
      "source": [
        "---"
      ]
    },
    {
      "cell_type": "markdown",
      "id": "b64c3065-4436-4336-b31c-f2856be09a1d",
      "metadata": {
        "id": "b64c3065-4436-4336-b31c-f2856be09a1d"
      },
      "source": [
        "## Shortcuts"
      ]
    },
    {
      "cell_type": "markdown",
      "id": "3244a496-6f10-4968-a0e1-58e69af7da41",
      "metadata": {
        "id": "3244a496-6f10-4968-a0e1-58e69af7da41"
      },
      "source": [
        "After a few lessons, you might end up moving quicker than you can edit the notebook. Learning a few shortcuts can help you speed up your editing process. You can find most of the notebook shortcuts by selecting `Help` in the menu bar and clicking `Notebook Shortcuts`.\n",
        "\n",
        "A few of the most common shortcuts that we use are:\n",
        "\n",
        "1. Hold `shift` while pressing `return` on the keyboard: This shortcut runs the selected cell and moves to the next cell.\n",
        "2. While in command mode, pressing `b` on the keyboard will create a new cell below the selected cell.\n",
        "3. While in command mode, pressing `d` on the keyboard twice will delete the selected cell.\n",
        "4. While in command mode, pressing `m` on the keyboard turns the selected cell into a Markdown cell."
      ]
    },
    {
      "cell_type": "markdown",
      "id": "2461dca5-7abb-472f-b5cd-c00f6008beef",
      "metadata": {
        "id": "2461dca5-7abb-472f-b5cd-c00f6008beef"
      },
      "source": [
        "---"
      ]
    },
    {
      "cell_type": "markdown",
      "id": "f7bec871-0488-4905-b4a7-802d80209914",
      "metadata": {
        "id": "f7bec871-0488-4905-b4a7-802d80209914"
      },
      "source": [
        "## Errors"
      ]
    },
    {
      "cell_type": "markdown",
      "id": "c739ef04-51e8-4026-b3f3-8cbf077289d6",
      "metadata": {
        "id": "c739ef04-51e8-4026-b3f3-8cbf077289d6"
      },
      "source": [
        "Python is a language, and like natural human languages, it has rules.  It differs from natural language in two important ways:\n",
        "\n",
        "1. The rules are relatively _simple_.  You can learn most of them in a few weeks and gain reasonable proficiency with the language in a semester.\n",
        "2. The rules are _rigid_.  If you're proficient in a natural language, you can understand a non-proficient speaker, glossing over small mistakes.  A computer running Python code is not smart enough to do that.\n",
        "\n",
        "Whenever you write code, you'll make mistakes.  When you run a code cell that has errors, Python will sometimes produce error messages to tell you what you did wrong.\n",
        "\n",
        "**Errors are okay; even experienced programmers make many errors.** When you make an error, you just have to find the source of the problem, fix it, and move on.\n",
        "\n",
        "The following code cell contains an error. We ran the code and Python shows us (within the red box) details about the error.\n",
        "\n",
        "<img src=\"./syntax_error.png\" alt=\"A syntax error\">\n",
        "\n",
        "We are using version 3.11 of Python, so the error should show `SyntaxError: incomplete input` at the bottom of the output. Additionally, there should be a ^ symbol attempting to point to the issue. (Depending on the version of Python being used to run the notebook, the error might look slightly different.)\n",
        "\n",
        "You don't need to know every term to program effectively. **The most helpful information is often at the bottom of error messages.** If you encounter a cryptic message, you can usually keep going without fully understanding it. (But if you're stuck, ask for help 😊)"
      ]
    },
    {
      "cell_type": "markdown",
      "id": "7f2563ff-989c-416c-a43d-cd144271c43f",
      "metadata": {
        "id": "7f2563ff-989c-416c-a43d-cd144271c43f"
      },
      "source": [
        "### Task 05 📍🔎"
      ]
    },
    {
      "cell_type": "markdown",
      "id": "8aa7bd9e-b432-497b-a730-945a9a8d6fb3",
      "metadata": {
        "deletable": false,
        "editable": false,
        "id": "8aa7bd9e-b432-497b-a730-945a9a8d6fb3"
      },
      "source": [
        "The code `print(\"This line is missing something.\"` raises a `SyntaxError` because:\n",
        "\n",
        "1. The `print` function is not defined in Python.\n",
        "2. The string inside the `print` function is not enclosed in double quotes.\n",
        "3. The closing parenthesis `)` is missing after the `print` function call.\n",
        "4. The string is too long to be printed in a single line.\n",
        "\n",
        "Replace the `...` in the following code cell with the number (either `1`, `2`, `3`, or `4`) that correctly explains why we are seeing the `SyntaxError` above."
      ]
    },
    {
      "cell_type": "code",
      "execution_count": null,
      "id": "fc620579-8286-4543-8ed7-24ade72ec94c",
      "metadata": {
        "tags": [],
        "id": "fc620579-8286-4543-8ed7-24ade72ec94c"
      },
      "outputs": [],
      "source": [
        "task_05_reason = 3"
      ]
    },
    {
      "cell_type": "code",
      "execution_count": null,
      "id": "b907da99",
      "metadata": {
        "deletable": false,
        "editable": false,
        "id": "b907da99",
        "outputId": "f45188a9-358a-4e8a-dbc6-92e489194d4a"
      },
      "outputs": [
        {
          "data": {
            "text/html": [
              "<p><strong><pre style='display: inline;'>task_05</pre></strong> passed! 🌟</p><p><strong><pre style='display: inline;'>task_05 - 1</pre> message:</strong> ✅ Great work replacing the ... with 1, 2, 3, or 4.</p><p><strong><pre style='display: inline;'>task_05 - 2</pre> message:</strong> ✅ Great work!</p>"
            ],
            "text/plain": [
              "task_05 results: All test cases passed!\n",
              "task_05 - 1 message: ✅ Great work replacing the ... with 1, 2, 3, or 4.\n",
              "task_05 - 2 message: ✅ Great work!"
            ]
          },
          "execution_count": 6,
          "metadata": {},
          "output_type": "execute_result"
        }
      ],
      "source": [
        "grader.check(\"task_05\")"
      ]
    },
    {
      "cell_type": "markdown",
      "id": "fcf88fb4-f085-4a43-9c0f-967de8875ca2",
      "metadata": {
        "id": "fcf88fb4-f085-4a43-9c0f-967de8875ca2"
      },
      "source": [
        "For those wanting to take a deeper look at what the errors means and what type of errors there are built into Python, check out the [official Python 3.11 documentation on Exceptions](https://docs.python.org/3.11/library/exceptions.html#concrete-exceptions)."
      ]
    },
    {
      "cell_type": "markdown",
      "id": "e80f4107-1d52-45e8-8fe3-e532abcd0faa",
      "metadata": {
        "id": "e80f4107-1d52-45e8-8fe3-e532abcd0faa"
      },
      "source": [
        "### More on Otter"
      ]
    },
    {
      "cell_type": "markdown",
      "id": "773d0e34-67d6-4361-9a49-a6d80ac7da03",
      "metadata": {
        "id": "773d0e34-67d6-4361-9a49-a6d80ac7da03"
      },
      "source": [
        "Notice in Task 05 that the auto-grader came with 2 tests to check your code. One test checked if you replaced the `...` with `1`, `2`, `3`, or `4`, and the other test checked for the correctness of your response. A task may have many tests to help you check your code and for us to score your response.\n",
        "\n",
        "* In the lab assignments, none of the tests will be hidden.\n",
        "* For homework and project assignments, you'll typically find that the tests that check for correctness (like the second one) are hidden from you."
      ]
    },
    {
      "cell_type": "markdown",
      "id": "52dae23b-ea3d-4091-9b9e-9205e072dbc9",
      "metadata": {
        "id": "52dae23b-ea3d-4091-9b9e-9205e072dbc9"
      },
      "source": [
        "---"
      ]
    },
    {
      "cell_type": "markdown",
      "id": "0327ef4c-72e1-4336-974b-24ac9743872f",
      "metadata": {
        "tags": [],
        "id": "0327ef4c-72e1-4336-974b-24ac9743872f"
      },
      "source": [
        "## Expressions"
      ]
    },
    {
      "cell_type": "markdown",
      "id": "30339344-4cf3-42a1-b7c8-22186a435cbc",
      "metadata": {
        "tags": [],
        "id": "30339344-4cf3-42a1-b7c8-22186a435cbc"
      },
      "source": [
        "The fundamental building blocks of Python code are expressions. In these notebooks, cells can contain multiple lines with multiple expressions. When you run a cell, the lines of code are executed in the order in which they appear. Every `print` statement prints a line. Run the next cell and notice the order of the output."
      ]
    },
    {
      "cell_type": "code",
      "execution_count": null,
      "id": "98403d8d-40ab-468c-925c-4785ab523c87",
      "metadata": {
        "id": "98403d8d-40ab-468c-925c-4785ab523c87",
        "outputId": "96cd13b8-4d71-4e27-dd5e-b7e427a0567d"
      },
      "outputs": [
        {
          "name": "stdout",
          "output_type": "stream",
          "text": [
            "First this line is printed,\n",
            "and then this one.\n"
          ]
        }
      ],
      "source": [
        "print(\"First this line is printed,\")\n",
        "print(\"and then this one.\")"
      ]
    },
    {
      "cell_type": "markdown",
      "id": "c6172f6c-9955-4dc8-ae4c-b97f6291d073",
      "metadata": {
        "id": "c6172f6c-9955-4dc8-ae4c-b97f6291d073"
      },
      "source": [
        "### Numbers"
      ]
    },
    {
      "cell_type": "markdown",
      "id": "c626aa08-0ea9-4e08-878a-26e3f349640a",
      "metadata": {
        "id": "c626aa08-0ea9-4e08-878a-26e3f349640a"
      },
      "source": [
        "Quantitative information arises everywhere in Data Science. In addition to representing commands to print out lines, expressions can represent numbers and methods of combining numbers. The expression `3.2500` evaluates to the number `3.25`. Run the cell and see the result."
      ]
    },
    {
      "cell_type": "code",
      "execution_count": null,
      "id": "76c8e7a4-0e09-4ff2-ab6e-4c51d0bb6fc7",
      "metadata": {
        "id": "76c8e7a4-0e09-4ff2-ab6e-4c51d0bb6fc7",
        "outputId": "5afad50f-d65f-4cf6-b082-6f15cc177966"
      },
      "outputs": [
        {
          "data": {
            "text/plain": [
              "3.25"
            ]
          },
          "execution_count": 8,
          "metadata": {},
          "output_type": "execute_result"
        }
      ],
      "source": [
        "3.2500"
      ]
    },
    {
      "cell_type": "markdown",
      "id": "cca79844-5b01-41ec-9414-a3060a5b6d23",
      "metadata": {
        "id": "cca79844-5b01-41ec-9414-a3060a5b6d23"
      },
      "source": [
        "Notice that we didn't have to `print`. When you run a notebook cell, if the last line has a value, then Jupyter helpfully prints out that value for you. However, it won't print out prior lines automatically."
      ]
    },
    {
      "cell_type": "code",
      "execution_count": null,
      "id": "568ddfe1-baae-4cbc-8ca9-593e6885a8f1",
      "metadata": {
        "id": "568ddfe1-baae-4cbc-8ca9-593e6885a8f1",
        "outputId": "07fc7d31-a4c7-4045-b45e-7dadde05602e"
      },
      "outputs": [
        {
          "name": "stdout",
          "output_type": "stream",
          "text": [
            "2\n",
            "3\n"
          ]
        },
        {
          "data": {
            "text/plain": [
              "4"
            ]
          },
          "execution_count": 10,
          "metadata": {},
          "output_type": "execute_result"
        }
      ],
      "source": [
        "print(2)\n",
        "print(3)\n",
        "4"
      ]
    },
    {
      "cell_type": "markdown",
      "id": "03d5a074-83e4-4ccb-bd91-fde93b3f58f9",
      "metadata": {
        "id": "03d5a074-83e4-4ccb-bd91-fde93b3f58f9"
      },
      "source": [
        "Above, you should see that 4 is the value of the last expression, 2 is printed, but 3 is lost forever because it was neither printed nor last.\n",
        "\n",
        "You don't want to print everything all the time anyway.  But if you feel sorry for 3, change the cell above to print it."
      ]
    },
    {
      "cell_type": "markdown",
      "id": "09b371f5-2f0a-4465-9f3a-6c3d7526aa9e",
      "metadata": {
        "id": "09b371f5-2f0a-4465-9f3a-6c3d7526aa9e"
      },
      "source": [
        "### Arithmetic Expressions"
      ]
    },
    {
      "cell_type": "markdown",
      "id": "ba27b4c1-a52c-4d69-bfc2-3f345719e420",
      "metadata": {
        "id": "ba27b4c1-a52c-4d69-bfc2-3f345719e420"
      },
      "source": [
        "The line in the next cell subtracts.  Its value is what you'd expect.  Run it to see the result."
      ]
    },
    {
      "cell_type": "code",
      "execution_count": null,
      "id": "0cd52ea1-96fb-4167-85b7-6a535cabf213",
      "metadata": {
        "id": "0cd52ea1-96fb-4167-85b7-6a535cabf213",
        "outputId": "983a80ff-7579-49ae-ed74-c66eb67f946a"
      },
      "outputs": [
        {
          "data": {
            "text/plain": [
              "1.75"
            ]
          },
          "execution_count": 11,
          "metadata": {},
          "output_type": "execute_result"
        }
      ],
      "source": [
        "3.25 - 1.5"
      ]
    },
    {
      "cell_type": "markdown",
      "id": "edac2071-afe9-4600-b7ec-fa2d1cb0b84a",
      "metadata": {
        "id": "edac2071-afe9-4600-b7ec-fa2d1cb0b84a"
      },
      "source": [
        "Many basic arithmetic operations are built into Python.  The textbook section on [Expressions](http://www.inferentialthinking.com/chapters/03/1/Expressions.html) describes all the arithmetic operators used in the course.  The common operator that differs from typical math notation is `**`, which raises one number to the power of the other. So, `2 ** 3` stands for $2^3$ and evaluates to 8."
      ]
    },
    {
      "cell_type": "markdown",
      "id": "396bfe62-59ed-4554-8098-27b11ea32296",
      "metadata": {
        "id": "396bfe62-59ed-4554-8098-27b11ea32296"
      },
      "source": [
        "#### Order of Operations"
      ]
    },
    {
      "cell_type": "markdown",
      "id": "7900a284-ed1d-40b4-a497-687c52fd1927",
      "metadata": {
        "id": "7900a284-ed1d-40b4-a497-687c52fd1927"
      },
      "source": [
        "The [order of operations](https://en.wikipedia.org/wiki/Order_of_operations) is the same as what you learned in previous courses. Python also has parentheses to group operations.  For example, compare the outputs of the two cells below that contain the same numbers. The first cell uses parentheses to show 2023, but the second cell produces a different number because of the lack of parentheses!"
      ]
    },
    {
      "cell_type": "code",
      "execution_count": null,
      "id": "e9a50330-eb23-489d-9624-94e6be3ec14c",
      "metadata": {
        "tags": [],
        "id": "e9a50330-eb23-489d-9624-94e6be3ec14c",
        "outputId": "f5a8d469-783c-45bd-dd61-963ecbc3f65b"
      },
      "outputs": [
        {
          "data": {
            "text/plain": [
              "2023.0"
            ]
          },
          "execution_count": 12,
          "metadata": {},
          "output_type": "execute_result"
        }
      ],
      "source": [
        "6 + (6 * 5 - (6 * 3)) ** 2 * ((2 ** 3) / 4 * 7) + 1"
      ]
    },
    {
      "cell_type": "code",
      "execution_count": null,
      "id": "239f2c1d-271d-4526-96bc-8b438843e381",
      "metadata": {
        "tags": [],
        "id": "239f2c1d-271d-4526-96bc-8b438843e381",
        "outputId": "d44b6f72-21a9-4af1-aad7-036720f35481"
      },
      "outputs": [
        {
          "data": {
            "text/plain": [
              "-719.0"
            ]
          },
          "execution_count": 13,
          "metadata": {},
          "output_type": "execute_result"
        }
      ],
      "source": [
        "6 + 6 * 5 - 6 * 3 ** 2 * 2 ** 3 / 4 * 7 + 1"
      ]
    },
    {
      "cell_type": "markdown",
      "id": "2a2b5414-14a1-4e31-98d6-6348d05859f9",
      "metadata": {
        "id": "2a2b5414-14a1-4e31-98d6-6348d05859f9"
      },
      "source": [
        "In common Mathematics notation, the first expression is\n",
        "\n",
        "$$6 + \\left(6 \\times 5 - (6 \\times 3)\\right)^2 \\times \\left(\\frac{\\left(2^3\\right)}{4} \\times 7\\right) + 1,$$\n",
        "\n",
        "\n",
        "while the second expression is\n",
        "\n",
        "$$6 + 6 \\times 5 - 6 \\times 3^2 \\times \\frac{2^3}{4} \\times 7 + 1.$$"
      ]
    },
    {
      "cell_type": "markdown",
      "id": "b4407541-16ff-4b8b-845c-162ff4ab4e4c",
      "metadata": {
        "id": "b4407541-16ff-4b8b-845c-162ff4ab4e4c"
      },
      "source": [
        "#### Task 06 📍🔎"
      ]
    },
    {
      "cell_type": "markdown",
      "id": "1955f713-247d-46d1-b3b7-9461e819c55a",
      "metadata": {
        "deletable": false,
        "editable": false,
        "jp-MarkdownHeadingCollapsed": true,
        "tags": [],
        "id": "1955f713-247d-46d1-b3b7-9461e819c55a"
      },
      "source": [
        "<!-- BEGIN QUESTION -->\n",
        "\n",
        "Replace the ellipses (`...`) in the following code cell with a Python expression that evaluates to be the same value as:\n",
        "\n",
        "$$5 \\times \\left(3 \\frac{10}{11}\\right) - 50 \\frac{1}{3} + 2^{\\left(0.5 \\times 22\\right)} - \\frac{7}{33} + 7.$$  \n",
        "\n",
        "That's five times three and ten elevenths, minus fifty and a third, plus two to the power of half twenty-two, minus seven thirty-thirds plus six.  As a reminder, $3 \\frac{10}{11}$ means $3+\\frac{10}{11}$, not $3 \\times \\frac{10}{11}$."
      ]
    },
    {
      "cell_type": "code",
      "execution_count": null,
      "id": "cf0dec9f-04a8-4c0e-9db4-34af40cd56b3",
      "metadata": {
        "tags": [],
        "id": "cf0dec9f-04a8-4c0e-9db4-34af40cd56b3",
        "outputId": "e33c840a-a131-466f-c8f7-c9e9397df959"
      },
      "outputs": [
        {
          "data": {
            "text/plain": [
              "2024.0"
            ]
          },
          "execution_count": 15,
          "metadata": {},
          "output_type": "execute_result"
        }
      ],
      "source": [
        "5*(3+10/11)-(50+1/3)+2**(0.5*22)-7/33+7"
      ]
    },
    {
      "cell_type": "markdown",
      "id": "065fe16b-7a52-4a18-bde5-992d464711ed",
      "metadata": {
        "deletable": false,
        "editable": false,
        "id": "065fe16b-7a52-4a18-bde5-992d464711ed"
      },
      "source": [
        "<!-- END QUESTION -->\n",
        "\n",
        "There is not an auto-grader check for this task, so make sure to check with someone that you did it correctly."
      ]
    },
    {
      "cell_type": "markdown",
      "id": "3146dcce-b157-4275-ab37-f72c338c3617",
      "metadata": {
        "id": "3146dcce-b157-4275-ab37-f72c338c3617"
      },
      "source": [
        "---"
      ]
    },
    {
      "cell_type": "markdown",
      "id": "ef3ba87c-9c63-4aa8-b7a8-15f11f47d445",
      "metadata": {
        "id": "ef3ba87c-9c63-4aa8-b7a8-15f11f47d445"
      },
      "source": [
        "## Names and Assignment Statements"
      ]
    },
    {
      "cell_type": "markdown",
      "id": "10877ae5-1800-4b79-bfb0-3c5223e2b84d",
      "metadata": {
        "id": "10877ae5-1800-4b79-bfb0-3c5223e2b84d"
      },
      "source": [
        "In natural language, we have terminology that lets us quickly reference very complicated concepts.  We don't say, \"That's a large mammal with brown fur and sharp teeth!\"  Instead, we might say, \"That's a bear!\"\n",
        "\n",
        "In Python, we do a similar thing using _assignment statements_. An assignment statement has a name on the left side of an `=` sign and an expression to be evaluated on the right. Run the next cell that contains an assignment statement."
      ]
    },
    {
      "cell_type": "code",
      "execution_count": null,
      "id": "cf18e1e4-a54c-4e8c-ab7a-169e5dfb3d84",
      "metadata": {
        "id": "cf18e1e4-a54c-4e8c-ab7a-169e5dfb3d84"
      },
      "outputs": [],
      "source": [
        "ten = 3 * 2 + 4"
      ]
    },
    {
      "cell_type": "markdown",
      "id": "c41652fa-987a-4a93-b843-ab1bebe26919",
      "metadata": {
        "id": "c41652fa-987a-4a93-b843-ab1bebe26919"
      },
      "source": [
        "When you run that cell, Python first computes the value of the expression on the right-hand side, `3 * 2 + 4`, which is the number 10.  Then it assigns that value to the name `ten`.  At that point, the code in the cell is done running. It can be a little subtle to know if a code cell that contains an assignment statement has being executed. Don't forget that the number in `[...]: ` lets us know that the cell has been run. After running that cell, the value 10 is bound to the name `ten`. Take a look by running the next cell."
      ]
    },
    {
      "cell_type": "code",
      "execution_count": null,
      "id": "917c0416-12e4-404d-aa4f-e67e081ea26c",
      "metadata": {
        "id": "917c0416-12e4-404d-aa4f-e67e081ea26c",
        "outputId": "cf8f0c14-1307-4fc4-bda5-a644bb93eaf7"
      },
      "outputs": [
        {
          "data": {
            "text/plain": [
              "10"
            ]
          },
          "execution_count": 17,
          "metadata": {},
          "output_type": "execute_result"
        }
      ],
      "source": [
        "ten"
      ]
    },
    {
      "cell_type": "markdown",
      "id": "ae3dfec6-c5fa-40b0-9483-9a183e1f717b",
      "metadata": {
        "id": "ae3dfec6-c5fa-40b0-9483-9a183e1f717b"
      },
      "source": [
        "The statement `ten = 3 * 2 + 4` is not asserting that `ten` is already equal to `3 * 2 + 4`. Rather, that line of code changes what `ten` means; it now refers to the value 10, whereas before it meant nothing at all. If the designers of Python had been ruthlessly pedantic, they might have made us write\n",
        "\n",
        "    define the name ten to hereafter have the value of 3 * 2 + 4\n",
        "\n",
        "instead.  You will probably appreciate the brevity of \"`=`\"!  But keep that more long-winded expression in mind as you work with assignment statements."
      ]
    },
    {
      "cell_type": "markdown",
      "id": "7580ccf6-f149-4177-bd34-24adc9998a51",
      "metadata": {
        "id": "7580ccf6-f149-4177-bd34-24adc9998a51"
      },
      "source": [
        "### Task 07 📍"
      ]
    },
    {
      "cell_type": "markdown",
      "id": "aa008f9b-4c92-4492-86d3-0e9a37dd29e2",
      "metadata": {
        "deletable": false,
        "editable": false,
        "id": "aa008f9b-4c92-4492-86d3-0e9a37dd29e2"
      },
      "source": [
        "Replace the `...` in the following cell with an assignment statement where the name is `eleven` and the expression is any arithmetic expression that has a value of `11`."
      ]
    },
    {
      "cell_type": "code",
      "execution_count": null,
      "id": "1b15008b-e1b5-4e2c-bba0-18b113963b96",
      "metadata": {
        "tags": [],
        "id": "1b15008b-e1b5-4e2c-bba0-18b113963b96"
      },
      "outputs": [],
      "source": [
        "eleven = 2*5+1"
      ]
    },
    {
      "cell_type": "code",
      "execution_count": null,
      "id": "33be7de5",
      "metadata": {
        "deletable": false,
        "editable": false,
        "id": "33be7de5",
        "outputId": "d80eb322-cb93-48fd-aaa8-132710527d91"
      },
      "outputs": [
        {
          "data": {
            "text/html": [
              "<p><strong><pre style='display: inline;'>task_07</pre></strong> passed! 🍀</p><p><strong><pre style='display: inline;'>task_07 - 1</pre> message:</strong> ✅ Great work Python recognizes eleven as a name!</p><p><strong><pre style='display: inline;'>task_07 - 2</pre> message:</strong> ✅ The name eleven represents the numerical value 11!</p>"
            ],
            "text/plain": [
              "task_07 results: All test cases passed!\n",
              "task_07 - 1 message: ✅ Great work Python recognizes eleven as a name!\n",
              "task_07 - 2 message: ✅ The name eleven represents the numerical value 11!"
            ]
          },
          "execution_count": 19,
          "metadata": {},
          "output_type": "execute_result"
        }
      ],
      "source": [
        "grader.check(\"task_07\")"
      ]
    },
    {
      "cell_type": "markdown",
      "id": "48971443-35fd-42f7-a605-328c58e8f39f",
      "metadata": {
        "id": "48971443-35fd-42f7-a605-328c58e8f39f"
      },
      "source": [
        "It is common for people to assign a value to a name and then evaluate the name so that the value is displayed as output. This is demonstrated in the following cell."
      ]
    },
    {
      "cell_type": "code",
      "execution_count": null,
      "id": "a3f16006-9625-4005-8a3d-7566f60eed3d",
      "metadata": {
        "id": "a3f16006-9625-4005-8a3d-7566f60eed3d",
        "outputId": "0b7d4062-7d08-474b-972b-b8574dbcdadb"
      },
      "outputs": [
        {
          "data": {
            "text/plain": [
              "3.1415929203539825"
            ]
          },
          "execution_count": 20,
          "metadata": {},
          "output_type": "execute_result"
        }
      ],
      "source": [
        "close_to_pi = 355 / 113\n",
        "close_to_pi"
      ]
    },
    {
      "cell_type": "markdown",
      "id": "3ad9c425-f735-40c0-a632-5be854dd8328",
      "metadata": {
        "id": "3ad9c425-f735-40c0-a632-5be854dd8328"
      },
      "source": [
        "Another common pattern is that a series of lines in a single cell will build up a complex computation in stages, naming the intermediate results. We encourage this type of thinking in this class! The next cell shows you an example."
      ]
    },
    {
      "cell_type": "code",
      "execution_count": null,
      "id": "3a27c937-ac8c-44ee-84fa-1f247cbbe570",
      "metadata": {
        "tags": [],
        "id": "3a27c937-ac8c-44ee-84fa-1f247cbbe570",
        "outputId": "389f6cb3-9f64-4868-b9a0-452f1f427761"
      },
      "outputs": [
        {
          "data": {
            "text/plain": [
              "20190.0"
            ]
          },
          "execution_count": 21,
          "metadata": {},
          "output_type": "execute_result"
        }
      ],
      "source": [
        "semimonthly_salary = 841.25\n",
        "monthly_salary = 2 * semimonthly_salary\n",
        "number_of_months_in_a_year = 12\n",
        "yearly_salary = number_of_months_in_a_year * monthly_salary\n",
        "yearly_salary"
      ]
    },
    {
      "cell_type": "markdown",
      "id": "5df248de-4c6f-4877-9b1d-cb1da7e29188",
      "metadata": {
        "id": "5df248de-4c6f-4877-9b1d-cb1da7e29188"
      },
      "source": [
        "From the online learning platform W3Schools page [Python - Variable Names](https://www.w3schools.com/python/python_variables_names.asp):\n",
        "\n",
        "> A variable can have a short name (like x and y) or a more descriptive name (age, carname, total_volume). Rules for Python variables:\n",
        "> * A variable name must start with a letter or the underscore character\n",
        "> * A variable name cannot start with a number\n",
        "> * A variable name can only contain alpha-numeric characters and underscores (A-z, 0-9, and _ )\n",
        "> * Variable names are case-sensitive (age, Age and AGE are three different variables)\n",
        "> * A variable name cannot be any of the [Python keywords](https://www.w3schools.com/python/python_ref_keywords.asp).\n",
        "\n",
        "Other than those rules, what you name something doesn't matter *to Python*.  For example, the cell below does the same thing as the above cell, except everything has a different name. **However**, names are very important for making your code *readable* to yourself and others.  The cell below is shorter, but it's useless without an explanation of what it does."
      ]
    },
    {
      "cell_type": "code",
      "execution_count": null,
      "id": "96712d5b-2e1f-416f-b320-bc78a9b2eee5",
      "metadata": {
        "id": "96712d5b-2e1f-416f-b320-bc78a9b2eee5",
        "outputId": "e5aecc3a-3af8-4555-b588-3b00ecc8d1de"
      },
      "outputs": [
        {
          "data": {
            "text/plain": [
              "20190.0"
            ]
          },
          "execution_count": 22,
          "metadata": {},
          "output_type": "execute_result"
        }
      ],
      "source": [
        "a = 841.25\n",
        "b = 2 * a\n",
        "c = 12\n",
        "d = c * b\n",
        "d"
      ]
    },
    {
      "cell_type": "markdown",
      "id": "8ad45176-74bf-45e8-8964-1cf6c19c2948",
      "metadata": {
        "id": "8ad45176-74bf-45e8-8964-1cf6c19c2948"
      },
      "source": [
        "At some point, you'll start to care about the style of the code you are writing. It helps to follow a common style pattern when you are collaborating with others. PEP 8 is the style guide outlined in the Python documentation. That guide contains a lot of advanced vocabulary, but you should check out [the PEP 8 section Naming Conventions](https://peps.python.org/pep-0008/#naming-conventions) if you plan to work with others using the Python language."
      ]
    },
    {
      "cell_type": "markdown",
      "id": "1b11091d-0e31-434b-a7c3-9e766a6fd7cb",
      "metadata": {
        "id": "1b11091d-0e31-434b-a7c3-9e766a6fd7cb"
      },
      "source": [
        "### Task 08 📍"
      ]
    },
    {
      "cell_type": "markdown",
      "id": "b65343f7-4ddc-4c8f-8639-c18b74324e8d",
      "metadata": {
        "deletable": false,
        "editable": false,
        "tags": [],
        "id": "b65343f7-4ddc-4c8f-8639-c18b74324e8d"
      },
      "source": [
        "Consider the time interval between midnight January 1, 2012 and midnight January 1, 2022. We will guide you through calculating the number of seconds in this particular decade using descriptive variable names and intermediate steps.\n",
        "\n",
        "For this task,\n",
        " 1. Assign `number_of_days` to be the total number of days in the above time interval. Note that there are three leap years in this span of this particular decade (2012, 2016, 2020). A non-leap year has 365 days and a leap year has 366 days.\n",
        " 2. Using `number_of_days`, assign the name `seconds_per_decade` to the number of seconds between midnight January 1, 2012 and midnight January 1, 2022. You are welcome to define and use more intermediate variables such as `hours_per_day` in the calculation of `seconds_per_decade`."
      ]
    },
    {
      "cell_type": "code",
      "execution_count": null,
      "id": "6486a1d7-6e9c-4520-8282-0ab6a0880c48",
      "metadata": {
        "tags": [],
        "id": "6486a1d7-6e9c-4520-8282-0ab6a0880c48",
        "outputId": "b0e94b00-cf05-44f6-bcc6-f83ede862895"
      },
      "outputs": [
        {
          "data": {
            "text/plain": [
              "315619200"
            ]
          },
          "execution_count": 23,
          "metadata": {},
          "output_type": "execute_result"
        }
      ],
      "source": [
        "number_of_days = (7*365) +(3*366)\n",
        "seconds_per_day=24*60*60\n",
        "seconds_per_decade = number_of_days *seconds_per_day\n",
        "seconds_per_decade"
      ]
    },
    {
      "cell_type": "code",
      "execution_count": null,
      "id": "fe4804a2",
      "metadata": {
        "deletable": false,
        "editable": false,
        "id": "fe4804a2",
        "outputId": "74e8f782-09bb-4228-abdb-ede93fffddb9"
      },
      "outputs": [
        {
          "data": {
            "text/html": [
              "<p><strong><pre style='display: inline;'>task_08</pre></strong> passed! 🎉</p><p><strong><pre style='display: inline;'>task_08 - 1</pre> message:</strong> ✅ You have assigned values to the names number_of_days and second_per_decade.</p><p><strong><pre style='display: inline;'>task_08 - 2</pre> message:</strong> ✅ You have the correct number of days assigned to number_of_days!</p><p><strong><pre style='display: inline;'>task_08 - 3</pre> message:</strong> ✅ You have the correct number of seconds in a decade!</p>"
            ],
            "text/plain": [
              "task_08 results: All test cases passed!\n",
              "task_08 - 1 message: ✅ You have assigned values to the names number_of_days and second_per_decade.\n",
              "task_08 - 2 message: ✅ You have the correct number of days assigned to number_of_days!\n",
              "task_08 - 3 message: ✅ You have the correct number of seconds in a decade!"
            ]
          },
          "execution_count": 24,
          "metadata": {},
          "output_type": "execute_result"
        }
      ],
      "source": [
        "grader.check(\"task_08\")"
      ]
    },
    {
      "cell_type": "markdown",
      "id": "13271a62-df23-4fac-8dec-ab455b83e25e",
      "metadata": {
        "id": "13271a62-df23-4fac-8dec-ab455b83e25e"
      },
      "source": [
        "## Calling Functions"
      ]
    },
    {
      "cell_type": "markdown",
      "id": "c3aaf868-92d3-47e8-9758-d7c666d410bc",
      "metadata": {
        "id": "c3aaf868-92d3-47e8-9758-d7c666d410bc"
      },
      "source": [
        "A function is a named block of code. The most common way to combine or manipulate values in Python is by calling functions. As a preview, functions essentially name a logical flow of code. Python comes with many built-in functions that perform common operations.\n",
        "\n",
        "For example, Python's built-in absolute value function `abs` takes a single number as its argument and returns the absolute value of that number. Rather than working with the absolute value function code directly, you are more likely to reference that code by the name `abs`. Run the next two cells that contain a function call using the absolute value function `abs`."
      ]
    },
    {
      "cell_type": "code",
      "execution_count": null,
      "id": "2c1b8b4a-13e8-4c29-ba4e-4d877e9137da",
      "metadata": {
        "id": "2c1b8b4a-13e8-4c29-ba4e-4d877e9137da",
        "outputId": "acc7c8dc-dea2-4385-f8c0-72d99809d4d5"
      },
      "outputs": [
        {
          "data": {
            "text/plain": [
              "5"
            ]
          },
          "execution_count": 25,
          "metadata": {},
          "output_type": "execute_result"
        }
      ],
      "source": [
        "abs(5)"
      ]
    },
    {
      "cell_type": "code",
      "execution_count": null,
      "id": "3500228d-dbf9-495a-9dff-f90964e81e63",
      "metadata": {
        "id": "3500228d-dbf9-495a-9dff-f90964e81e63",
        "outputId": "57dd2fe6-d4e4-4bc4-a33e-9c75b85dd2ce"
      },
      "outputs": [
        {
          "data": {
            "text/plain": [
              "5"
            ]
          },
          "execution_count": 26,
          "metadata": {},
          "output_type": "execute_result"
        }
      ],
      "source": [
        "abs(-5)"
      ]
    },
    {
      "cell_type": "markdown",
      "id": "089f0cb9-0227-47f1-b094-ce6102d87d58",
      "metadata": {
        "id": "089f0cb9-0227-47f1-b094-ce6102d87d58"
      },
      "source": [
        "Note that `abs` is the name of the function, but `abs(5)` is the call expression because it sends an input of `5` to the function to be evaluated and the function returns a value. You will learn more about functions later in the course. For now, just practice using ones that are already defined."
      ]
    },
    {
      "cell_type": "markdown",
      "id": "54317433-5815-44d3-be69-e52675d24ee0",
      "metadata": {
        "id": "54317433-5815-44d3-be69-e52675d24ee0"
      },
      "source": [
        "### Multiple Arguments"
      ]
    },
    {
      "cell_type": "markdown",
      "id": "9d3351f3-b8ff-4bb0-8185-ca3209636957",
      "metadata": {
        "id": "9d3351f3-b8ff-4bb0-8185-ca3209636957"
      },
      "source": [
        "Some functions take multiple arguments, separated by commas. For example, the built-in `max` function returns the maximum argument passed to it. Run the following cell to see how to make a function call using multiple arguments."
      ]
    },
    {
      "cell_type": "code",
      "execution_count": null,
      "id": "e58e034a-434f-40d5-9a70-575df936b769",
      "metadata": {
        "id": "e58e034a-434f-40d5-9a70-575df936b769",
        "outputId": "576fbfb2-6baa-4336-fd0f-9ec32a01175e"
      },
      "outputs": [
        {
          "data": {
            "text/plain": [
              "4"
            ]
          },
          "execution_count": 27,
          "metadata": {},
          "output_type": "execute_result"
        }
      ],
      "source": [
        "max(2, -3, 4, -5)"
      ]
    },
    {
      "cell_type": "markdown",
      "id": "60211a77-4da4-4250-9716-6802901d12cc",
      "metadata": {
        "id": "60211a77-4da4-4250-9716-6802901d12cc"
      },
      "source": [
        "---"
      ]
    },
    {
      "cell_type": "markdown",
      "id": "f5bff9b6-f531-4d85-9b80-82e0b2374c46",
      "metadata": {
        "tags": [],
        "id": "f5bff9b6-f531-4d85-9b80-82e0b2374c46"
      },
      "source": [
        "## Understanding Nested Expressions"
      ]
    },
    {
      "cell_type": "markdown",
      "id": "724a4861-a3ec-4583-a077-b99d6af39651",
      "metadata": {
        "id": "724a4861-a3ec-4583-a077-b99d6af39651"
      },
      "source": [
        "Function calls and arithmetic expressions can themselves contain expressions. The expression `abs(42-34)` has 2 number expressions in a subtraction expression in a function call expression.\n",
        "\n",
        "Nested expressions can turn into complicated-looking code. However, the way in which complicated expressions break down is very regular.\n",
        "\n",
        "Suppose we are interested in human heights that are very unusual.  We'll say that a height is unusual to the extent that it's far away on the number line from the average human height.  [An estimate](http://press.endocrine.org/doi/full/10.1210/jcem.86.9.7875?ck=nck&) of the average adult human height (averaging, we hope, over all humans on Earth today) is 1.688 meters.\n",
        "\n",
        "So if an individual named Kayla is 1.21 meters tall, then their height is $|1.21 - 1.688|$, or $0.478$, meters away from the average.  Here's a picture of that:\n",
        "\n",
        "<img src=\"numberline_0.png\" alt=\"A number line showing the distance as the height.\">\n",
        "\n",
        "And here's how we'd write that in one line of Python code:"
      ]
    },
    {
      "cell_type": "code",
      "execution_count": null,
      "id": "3551ecea-5fdb-4ee1-9352-5e63769395cb",
      "metadata": {
        "tags": [],
        "id": "3551ecea-5fdb-4ee1-9352-5e63769395cb",
        "outputId": "b0db573d-e67c-4d2f-caa2-1c1d704b0826"
      },
      "outputs": [
        {
          "data": {
            "text/plain": [
              "0.478"
            ]
          },
          "execution_count": 28,
          "metadata": {},
          "output_type": "execute_result"
        }
      ],
      "source": [
        "abs(1.21 - 1.688)"
      ]
    },
    {
      "cell_type": "markdown",
      "id": "a6207c8d-41d9-4dd2-b2ae-b561ec1a8459",
      "metadata": {
        "id": "a6207c8d-41d9-4dd2-b2ae-b561ec1a8459"
      },
      "source": [
        "What's going on here? `abs` takes just one argument, so the stuff inside the parentheses is all part of that *single argument*.  Specifically, the argument is the value of the expression `1.21 - 1.688`.  The value of that expression is `-.478`.  That value is the argument to `abs`.  The absolute value of that is `.478`, so `.478` is the value of the full expression `abs(1.21 - 1.688)`.\n",
        "\n",
        "Picture simplifying the expression in several steps:\n",
        "\n",
        "1. `abs(1.21 - 1.688)`\n",
        "2. `abs(-0.478)`\n",
        "3. `0.478`\n",
        "\n",
        "In fact, that's basically what Python does to compute the value of the expression!"
      ]
    },
    {
      "cell_type": "markdown",
      "id": "c1ba33e1-3360-418a-a79d-88e81da4f1b8",
      "metadata": {
        "id": "c1ba33e1-3360-418a-a79d-88e81da4f1b8"
      },
      "source": [
        "### Task 09 📍"
      ]
    },
    {
      "cell_type": "markdown",
      "id": "08edbe44-6c0b-4c09-9952-2f3a7d58935c",
      "metadata": {
        "deletable": false,
        "editable": false,
        "id": "08edbe44-6c0b-4c09-9952-2f3a7d58935c"
      },
      "source": [
        "Say that Paola's height is 1.76 meters.  In the next cell, use `abs` to compute the absolute value of the difference between Paola's height and the average human height.  Give that value the name `paola_distance_from_average_m`.\n",
        "\n",
        "<img src=\"numberline_1.png\" alt=\"A number line visualizing the distance between Paola's height and an average human height.\">"
      ]
    },
    {
      "cell_type": "code",
      "execution_count": null,
      "id": "f587c865-4fef-4809-beda-c0d5fd0e88d8",
      "metadata": {
        "tags": [],
        "id": "f587c865-4fef-4809-beda-c0d5fd0e88d8",
        "outputId": "1cd1f871-0be2-4902-c59b-b6bd1a00bd68"
      },
      "outputs": [
        {
          "data": {
            "text/plain": [
              "0.07200000000000006"
            ]
          },
          "execution_count": 31,
          "metadata": {},
          "output_type": "execute_result"
        }
      ],
      "source": [
        "\n",
        "paola_distance_from_average_m = abs(1.688-1.76)\n",
        "paola_distance_from_average_m\n"
      ]
    },
    {
      "cell_type": "code",
      "execution_count": null,
      "id": "1f9d6840",
      "metadata": {
        "deletable": false,
        "editable": false,
        "id": "1f9d6840",
        "outputId": "3cbc190d-533f-47d1-e0da-039f4e7563da"
      },
      "outputs": [
        {
          "data": {
            "text/html": [
              "<p><strong><pre style='display: inline;'>task_09</pre></strong> passed! 🎉</p><p><strong><pre style='display: inline;'>task_09 - 1</pre> message:</strong> ✅ You have assigned values to the name paola_distance_from_average_m.</p><p><strong><pre style='display: inline;'>task_09 - 2</pre> message:</strong> ✅ You have the correct value for paola_distance_from_average_m</p>"
            ],
            "text/plain": [
              "task_09 results: All test cases passed!\n",
              "task_09 - 1 message: ✅ You have assigned values to the name paola_distance_from_average_m.\n",
              "task_09 - 2 message: ✅ You have the correct value for paola_distance_from_average_m"
            ]
          },
          "execution_count": 32,
          "metadata": {},
          "output_type": "execute_result"
        }
      ],
      "source": [
        "grader.check(\"task_09\")"
      ]
    },
    {
      "cell_type": "markdown",
      "id": "6cb05a63-9c79-40d1-977b-b0589616e0e9",
      "metadata": {
        "id": "6cb05a63-9c79-40d1-977b-b0589616e0e9"
      },
      "source": [
        "### More Nesting"
      ]
    },
    {
      "cell_type": "markdown",
      "id": "f357728f-2002-446d-a222-07e0b99815e5",
      "metadata": {
        "id": "f357728f-2002-446d-a222-07e0b99815e5"
      },
      "source": [
        "Now, say that we want to compute the more unusual of the two heights.  We'll use the function `max`, which (again) takes two numbers as arguments and returns the larger of the two arguments.  Combining that with the `abs` function, we can compute the larger distance from average among the two heights. Just read through and run the following cell. Note that you are not expected to know how this more complex `print` statement works, but it is worth spending a few minutes trying to understand."
      ]
    },
    {
      "cell_type": "code",
      "execution_count": null,
      "id": "94ec5574-36cc-48c8-a51b-e627529505b9",
      "metadata": {
        "id": "94ec5574-36cc-48c8-a51b-e627529505b9",
        "outputId": "1f0689f8-c7cb-4d93-907b-7f068efd0a9d"
      },
      "outputs": [
        {
          "name": "stdout",
          "output_type": "stream",
          "text": [
            "The larger distance from the average height among these two people is 0.478 meters.\n"
          ]
        }
      ],
      "source": [
        "kayla_height_m = 1.21\n",
        "paola_height_m = 1.76\n",
        "average_adult_height_m = 1.688\n",
        "\n",
        "# The larger distance from the average human height, among the two heights:\n",
        "larger_distance_m = max(abs(kayla_height_m - average_adult_height_m),\n",
        "                        abs(paola_height_m - average_adult_height_m))\n",
        "\n",
        "# Print out our results in a nice readable format:\n",
        "print(f\"The larger distance from the average height among \\\n",
        "these two people is {larger_distance_m} meters.\")"
      ]
    },
    {
      "cell_type": "markdown",
      "id": "04d6a242-cbe3-42ad-be5c-4b30e4428122",
      "metadata": {
        "id": "04d6a242-cbe3-42ad-be5c-4b30e4428122"
      },
      "source": [
        "The line where `larger_distance_m` is computed looks complicated, but we can break it down into simpler components just like we did before.\n",
        "\n",
        "The basic recipe is to repeatedly simplify small parts of the expression:\n",
        "* **Basic expressions:** Start with expressions whose values we know, like names or numbers.\n",
        "    - Examples: `paola_height_m` or `5`.\n",
        "* **Find the next simplest group of expressions:** Look for basic expressions that are directly connected to each other. This can be by arithmetic or as arguments to a function call.\n",
        "    - Example: `kayla_height_m - average_adult_height_m`.\n",
        "* **Evaluate that group:** Evaluate the arithmetic expression or function call. Use the value computed to replace the group of expressions.  \n",
        "    - Example: `kayla_height_m - average_adult_height_m` becomes `-0.478`.\n",
        "* **Repeat:** Continue this process, using the value of the previously-evaluated expression as a new basic expression. Stop when we've evaluated the entire expression.\n",
        "    - Example: `abs(-0.478)` becomes `0.478`, and `max(0.478, 0.072)` becomes `0.478`.\n",
        "\n",
        "You can run the next cell to load Google Slides where you can advance through a step-by-step presentation of that process. The slide navigation controls are at the bottom of the presentation window."
      ]
    },
    {
      "cell_type": "code",
      "execution_count": null,
      "id": "77e23739-cb01-4f94-a303-6308263e4ddc",
      "metadata": {
        "id": "77e23739-cb01-4f94-a303-6308263e4ddc",
        "outputId": "aa335dbc-a680-4298-9249-a3c3a48ae981"
      },
      "outputs": [
        {
          "data": {
            "text/html": [
              "\n",
              "        <iframe\n",
              "            width=\"800\"\n",
              "            height=\"600\"\n",
              "            src=\"https://docs.google.com/presentation/d/e/2PACX-1vTiIUOa9tP4pHPesrI8p2TCp8WCOJtTb3usOacQFPfkEfvQMmX-JYEW3OnBoTmQEJWAHdBP6Mvp053G/embed?start=false&loop=false&delayms=3000\"\n",
              "            frameborder=\"0\"\n",
              "            allowfullscreen\n",
              "            \n",
              "        ></iframe>\n",
              "        "
            ],
            "text/plain": [
              "<IPython.lib.display.IFrame at 0x7fda4c791150>"
            ]
          },
          "execution_count": 34,
          "metadata": {},
          "output_type": "execute_result"
        }
      ],
      "source": [
        "from IPython.display import IFrame\n",
        "IFrame('https://docs.google.com/presentation/d/e/2PACX-1vTiIUOa9tP4p\\\n",
        "HPesrI8p2TCp8WCOJtTb3usOacQFPfkEfvQMmX-JYEW3OnBoTmQEJWAHdBP6Mvp053G/\\\n",
        "embed?start=false&loop=false&delayms=3000', 800, 600)"
      ]
    },
    {
      "cell_type": "markdown",
      "id": "6e28f934-edee-4ef3-a0d5-a444be00765f",
      "metadata": {
        "id": "6e28f934-edee-4ef3-a0d5-a444be00765f"
      },
      "source": [
        "### Task 10 📍"
      ]
    },
    {
      "cell_type": "markdown",
      "id": "491e766d-a4bd-4cb4-8118-be6d4322fef8",
      "metadata": {
        "deletable": false,
        "editable": false,
        "id": "491e766d-a4bd-4cb4-8118-be6d4322fef8"
      },
      "source": [
        "Given the heights of players from the Golden State Warriors, write an expression that computes the smallest difference between any of the three heights. Your expression shouldn't have any numbers in it, only function calls and the names `green`, `curry`, and `wiggins`. Give the value of your expression the name `min_height_difference`.\n",
        "\n",
        "We recommend that you compute the absolute difference between each pair of names that represent heights using `abs` and then find the smallest of those 3 absolute differences using `min`."
      ]
    },
    {
      "cell_type": "code",
      "execution_count": null,
      "id": "55728c5d-ba59-4a80-b0db-77134e084d76",
      "metadata": {
        "tags": [],
        "id": "55728c5d-ba59-4a80-b0db-77134e084d76",
        "outputId": "ddfeb52a-cfc3-43de-8903-a278f170339f"
      },
      "outputs": [
        {
          "name": "stdout",
          "output_type": "stream",
          "text": [
            "The smallest difference between any of the three heights is 1 inch(es).\n"
          ]
        }
      ],
      "source": [
        "# The three players' heights, in inches\n",
        "green =  78 # Draymond Green is 6'6\"\n",
        "curry = 74 # Steph Curry is 6'2\"\n",
        "wiggins = 79 # Andrew Wiggins is 6'7\"\n",
        "\n",
        "min_height_difference = min(abs(green-curry),\n",
        "                            abs(curry-wiggins),\n",
        "                            abs(green-wiggins))\n",
        "min_height_difference\n",
        "print(\"The smallest difference between any of the three heights is\",\n",
        "      min_height_difference,\n",
        "      \"inch(es).\")"
      ]
    },
    {
      "cell_type": "code",
      "execution_count": null,
      "id": "dd27dd65",
      "metadata": {
        "deletable": false,
        "editable": false,
        "id": "dd27dd65",
        "outputId": "663db282-466a-4f5b-f8da-bff115498e7c"
      },
      "outputs": [
        {
          "data": {
            "text/html": [
              "<p><strong><pre style='display: inline;'>task_10</pre></strong> passed! 🍀</p><p><strong><pre style='display: inline;'>task_10 - 1</pre> message:</strong> ✅ You have assigned values to the name min_height_difference.</p><p><strong><pre style='display: inline;'>task_10 - 2</pre> message:</strong> ✅ You have the correct value for min_height_difference</p>"
            ],
            "text/plain": [
              "task_10 results: All test cases passed!\n",
              "task_10 - 1 message: ✅ You have assigned values to the name min_height_difference.\n",
              "task_10 - 2 message: ✅ You have the correct value for min_height_difference"
            ]
          },
          "execution_count": 36,
          "metadata": {},
          "output_type": "execute_result"
        }
      ],
      "source": [
        "grader.check(\"task_10\")"
      ]
    },
    {
      "cell_type": "markdown",
      "id": "72bace5a-9156-4190-aef8-5c2cf7007c1d",
      "metadata": {
        "id": "72bace5a-9156-4190-aef8-5c2cf7007c1d"
      },
      "source": [
        "Great work getting to this point! That is enough for now to get you started working with Python. You will be learning a lot more over the semester. Now, complete the following steps to submit your assignment."
      ]
    },
    {
      "cell_type": "markdown",
      "id": "7866ded8-8888-44c1-838d-13ebc317bab6",
      "metadata": {
        "id": "7866ded8-8888-44c1-838d-13ebc317bab6"
      },
      "source": [
        "---"
      ]
    },
    {
      "cell_type": "markdown",
      "id": "3bdb87e0-52dd-409d-810b-7d2755184218",
      "metadata": {
        "id": "3bdb87e0-52dd-409d-810b-7d2755184218"
      },
      "source": [
        "## Submit Your Assignment to Canvas"
      ]
    },
    {
      "cell_type": "markdown",
      "id": "11ad0201-32ac-4712-966f-82207460c556",
      "metadata": {
        "jp-MarkdownHeadingCollapsed": true,
        "id": "11ad0201-32ac-4712-966f-82207460c556"
      },
      "source": [
        "Follow these steps to submit your lab assignment:\n",
        "\n",
        "1. **Check the Assignment Completion Requirements:** This assignment is scored as Complete or Incomplete. Make sure to check with your instructor about their requirements for a Complete score.\n",
        "2. **Run the Auto-Grader:** Ensure you have executed the code cell containing the command `grader.check_all()` to run all tests for auto-graded tasks marked with 📍. This command will execute all auto-grader tests sequentially.\n",
        "3. **Complete Manually Graded Tasks:** Verify that you have responded to all the manually graded tasks marked with 📍🔎.\n",
        "4. **Save Your Work:** In the notebook's Toolbar, go to `File -> Save Notebook` to save your work and create a checkpoint.\n",
        "5. **Download the Notebook:** In the notebook's Toolbar, go to `File -> Download HTML` to download the HTML version (`.html`) of this notebook.\n",
        "6. **Upload to Canvas:** On the Canvas Assignment page, click \"Start Assignment\" or \"New Attempt\" to upload the downloaded `.html` file."
      ]
    },
    {
      "cell_type": "markdown",
      "id": "ac128138-1254-4aee-8631-0b9a633141fe",
      "metadata": {
        "id": "ac128138-1254-4aee-8631-0b9a633141fe"
      },
      "source": [
        "---"
      ]
    },
    {
      "cell_type": "markdown",
      "id": "bcb7dbb8-8c59-4142-b266-36e9467ee4b5",
      "metadata": {
        "editable": true,
        "tags": [],
        "id": "bcb7dbb8-8c59-4142-b266-36e9467ee4b5"
      },
      "source": [
        "## Attribution"
      ]
    },
    {
      "cell_type": "markdown",
      "id": "84b84a76-2574-4a1b-a4c8-10d1de00f006",
      "metadata": {
        "id": "84b84a76-2574-4a1b-a4c8-10d1de00f006"
      },
      "source": [
        "This content is licensed under the <a href=\"https://creativecommons.org/licenses/by-nc-sa/4.0/\">Creative Commons Attribution-NonCommercial-ShareAlike 4.0 International License (CC BY-NC-SA 4.0)</a> and derived from the <a href=\"https://www.data8.org/\">Data 8: The Foundations of Data Science</a> offered by the University of California, Berkeley.\n",
        "\n",
        "<img src=\"./by-nc-sa.png\" width=100px>"
      ]
    },
    {
      "cell_type": "markdown",
      "id": "12b45951",
      "metadata": {
        "deletable": false,
        "editable": false,
        "id": "12b45951"
      },
      "source": [
        "---\n",
        "\n",
        "To double-check your work, the cell below will rerun all of the autograder tests."
      ]
    },
    {
      "cell_type": "code",
      "execution_count": null,
      "id": "8a4902d6",
      "metadata": {
        "deletable": false,
        "editable": false,
        "id": "8a4902d6"
      },
      "outputs": [],
      "source": [
        "grader.check_all()"
      ]
    }
  ],
  "metadata": {
    "kernelspec": {
      "display_name": "Python 3 (ipykernel)",
      "language": "python",
      "name": "python3"
    },
    "language_info": {
      "codemirror_mode": {
        "name": "ipython",
        "version": 3
      },
      "file_extension": ".py",
      "mimetype": "text/x-python",
      "name": "python",
      "nbconvert_exporter": "python",
      "pygments_lexer": "ipython3",
      "version": "3.11.9"
    },
    "otter": {
      "OK_FORMAT": true,
      "assignment_name": "lab01_sp25",
      "tests": {
        "task_02": {
          "name": "task_02",
          "points": null,
          "suites": [
            {
              "cases": [
                {
                  "code": ">>> import sys\n>>> 'otter' in sys.modules and 'grader' in vars()\nTrue",
                  "failure_message": "❌ It doesn't seem that you successfully ran the cell starting with # Initialize Otter or the kernel has shut down and you need to re-run the cell that starts with # Initialize Otter.",
                  "hidden": false,
                  "locked": false,
                  "points": 1,
                  "success_message": "✅ You've successfully run the cell and initialized Otter!"
                }
              ],
              "scored": true,
              "setup": "",
              "teardown": "",
              "type": "doctest"
            }
          ]
        },
        "task_05": {
          "name": "task_05",
          "points": null,
          "suites": [
            {
              "cases": [
                {
                  "code": ">>> task_05_reason in {1, 2, 3, 4}\nTrue",
                  "failure_message": "❌ Make sure you replace the ... with 1, 2, 3, or 4.",
                  "hidden": false,
                  "locked": false,
                  "success_message": "✅ Great work replacing the ... with 1, 2, 3, or 4."
                },
                {
                  "code": ">>> task_05_reason == 3\nTrue",
                  "failure_message": "❌ Try again.",
                  "hidden": false,
                  "locked": false,
                  "success_message": "✅ Great work!"
                }
              ],
              "scored": true,
              "setup": "",
              "teardown": "",
              "type": "doctest"
            }
          ]
        },
        "task_07": {
          "name": "task_07",
          "points": null,
          "suites": [
            {
              "cases": [
                {
                  "code": ">>> 'eleven' in globals()\nTrue",
                  "failure_message": "❌ It doesn't seem that you have named an expression as eleven.",
                  "hidden": false,
                  "locked": false,
                  "success_message": "✅ Great work Python recognizes eleven as a name!"
                },
                {
                  "code": ">>> eleven == 11\nTrue",
                  "failure_message": "❌ It doesn't seem that you have assigned a value of 11 to the name eleven.",
                  "hidden": false,
                  "locked": false,
                  "success_message": "✅ The name eleven represents the numerical value 11!"
                }
              ],
              "scored": true,
              "setup": "",
              "teardown": "",
              "type": "doctest"
            }
          ]
        },
        "task_08": {
          "name": "task_08",
          "points": null,
          "suites": [
            {
              "cases": [
                {
                  "code": ">>> 'number_of_days' in vars() and number_of_days != ... and ('seconds_per_decade' in vars()) and (seconds_per_decade != ...)\nTrue",
                  "failure_message": "❌ Make sure you replace both sets of ... and run the cell that assigns a value to number_of_days and seconds_in_a_decade.",
                  "hidden": false,
                  "locked": false,
                  "success_message": "✅ You have assigned values to the names number_of_days and second_per_decade."
                },
                {
                  "code": ">>> number_of_days == 3653\nTrue",
                  "failure_message": "❌ You don't have the correct number of days assigned to number_of_days. Remember that 3 of the 10 years are leap years.",
                  "hidden": false,
                  "locked": false,
                  "success_message": "✅ You have the correct number of days assigned to number_of_days!"
                },
                {
                  "code": ">>> seconds_per_decade == 315619200\nTrue",
                  "failure_message": "❌ You don't have the correct number of seconds in a decade. Consider converting days to seconds.",
                  "hidden": false,
                  "locked": false,
                  "success_message": "✅ You have the correct number of seconds in a decade!"
                }
              ],
              "scored": true,
              "setup": "",
              "teardown": "",
              "type": "doctest"
            }
          ]
        },
        "task_09": {
          "name": "task_09",
          "points": null,
          "suites": [
            {
              "cases": [
                {
                  "code": ">>> paola_distance_from_average_m != ... and 'paola_distance_from_average_m' in vars()\nTrue",
                  "failure_message": "❌ Make sure you replace ... and run the cell that assigns a value to paola_distance_from_average_m.",
                  "hidden": false,
                  "locked": false,
                  "success_message": "✅ You have assigned values to the name paola_distance_from_average_m."
                },
                {
                  "code": ">>> round(paola_distance_from_average_m, 5) == 0.072\nTrue",
                  "failure_message": "❌ You don't have the correct value for paola_distance_from_average_m. Try to use `abs` with a nested arithmetic expression as its input.",
                  "hidden": false,
                  "locked": false,
                  "success_message": "✅ You have the correct value for paola_distance_from_average_m"
                }
              ],
              "scored": true,
              "setup": "",
              "teardown": "",
              "type": "doctest"
            }
          ]
        },
        "task_10": {
          "name": "task_10",
          "points": null,
          "suites": [
            {
              "cases": [
                {
                  "code": ">>> min_height_difference != ... and 'min_height_difference' in vars()\nTrue",
                  "failure_message": "❌ Make sure you replace ... and run the cell that assigns a value to min_height_difference.",
                  "hidden": false,
                  "locked": false,
                  "success_message": "✅ You have assigned values to the name min_height_difference."
                },
                {
                  "code": ">>> round(min_height_difference, 5) == 1\nTrue",
                  "failure_message": "❌ You don't have the correct value for min_height_difference. Find the minimum of three absolute differences of heights",
                  "hidden": false,
                  "locked": false,
                  "success_message": "✅ You have the correct value for min_height_difference"
                }
              ],
              "scored": true,
              "setup": "",
              "teardown": "",
              "type": "doctest"
            }
          ]
        }
      }
    },
    "colab": {
      "provenance": [],
      "include_colab_link": true
    }
  },
  "nbformat": 4,
  "nbformat_minor": 5
}