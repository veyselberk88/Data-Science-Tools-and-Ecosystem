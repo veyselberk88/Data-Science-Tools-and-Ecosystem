{
  "cells": [
    {
      "cell_type": "markdown",
      "metadata": {
        "id": "view-in-github",
        "colab_type": "text"
      },
      "source": [
        "<a href=\"https://colab.research.google.com/github/veyselberk88/Data-Science-Tools-and-Ecosystem/blob/main/lab03.ipynb\" target=\"_parent\"><img src=\"https://colab.research.google.com/assets/colab-badge.svg\" alt=\"Open In Colab\"/></a>"
      ]
    },
    {
      "cell_type": "code",
      "execution_count": null,
      "metadata": {
        "deletable": false,
        "editable": false,
        "id": "MW_Q9ODlBNtd"
      },
      "outputs": [],
      "source": [
        "# Initialize Otter\n",
        "import otter\n",
        "grader = otter.Notebook(\"lab03.ipynb\")"
      ]
    },
    {
      "cell_type": "markdown",
      "metadata": {
        "id": "jMn8cySGBNtf"
      },
      "source": [
        "<img src=\"./ccsf.png\" alt=\"CCSF Logo\" width=200px style=\"margin:0px -5px\">"
      ]
    },
    {
      "cell_type": "markdown",
      "metadata": {
        "tags": [],
        "id": "uahDUXSABNth"
      },
      "source": [
        "# Lab 03: Tables"
      ]
    },
    {
      "cell_type": "markdown",
      "metadata": {
        "id": "HBDgzQIpBNth"
      },
      "source": [
        "---"
      ]
    },
    {
      "cell_type": "markdown",
      "metadata": {
        "id": "10OnkH71BNti"
      },
      "source": [
        "## References"
      ]
    },
    {
      "cell_type": "markdown",
      "metadata": {
        "id": "xrwB3nRpBNti"
      },
      "source": [
        "* [Sections 6.0 - 6.4 of the Textbook](https://ccsf-math-108.github.io/textbook/chapters/06/Tables.html)\n",
        "* [datascience Documentation](https://datascience.readthedocs.io/)\n",
        "* [Markdown Cheat Sheet](https://www.markdownguide.org/cheat-sheet/)"
      ]
    },
    {
      "cell_type": "markdown",
      "metadata": {
        "id": "A4LJIzyUBNtj"
      },
      "source": [
        "---"
      ]
    },
    {
      "cell_type": "markdown",
      "metadata": {
        "id": "VZb229MIBNtj"
      },
      "source": [
        "## Lab Assignment Reminders"
      ]
    },
    {
      "cell_type": "markdown",
      "metadata": {
        "id": "sFVkt8zXBNtk"
      },
      "source": [
        "- 🚨 Make sure to run the code cell at the top of this notebook that starts with `# Initialize Otter` to load the auto-grader.\n",
        "- Your tasks are categorized as auto-graded (📍) and manually graded (📍🔎):\n",
        "    - **For all auto-graded tasks:**\n",
        "        - Replace the `...` in the provided code cell with your own code.\n",
        "        - Run the `grader.check` code cell to execute tests on your code.\n",
        "        - There are no hidden auto-grader tests in the lab assignments. This means if you pass the tests, you can assume you've completed the task successfully.\n",
        "    - **For all manually graded tasks:**\n",
        "        - You may need to provide your own response to the provided prompt. Replace the template text \"_Type your answer here, replacing this text._\" with your own words.\n",
        "        - You might need to produce a graphic or another output using code. Replace the `...` in the code cell to generate the image, table, etc.\n",
        "        - In either case, check your response with a classmate, a tutor, or the instructor before moving on.\n",
        "- Throughout this assignment and all future ones, please **do not re-assign variables** throughout the notebook! _For example, if you use `max_temperature` in your answer to one question, do not reassign it later on. Otherwise, you may fail tests that you thought you were passing previously!_\n",
        "- You may [submit](#Submit-Your-Assignment-to-Canvas) this assignment as many times as you want before the deadline. Your instructor will score the last version you submit once the deadline has passed.\n",
        "- **Collaborating on labs is encouraged!** You should rarely remain stuck for more than a few minutes on questions in labs, so ask an instructor or classmate for help. (Explaining things is beneficial, too -- the best way to solidify your knowledge of a subject is to explain it.) However, please don't just share answers."
      ]
    },
    {
      "cell_type": "markdown",
      "metadata": {
        "id": "TR2CWiCaBNtl"
      },
      "source": [
        "---"
      ]
    },
    {
      "cell_type": "markdown",
      "metadata": {
        "id": "JHXn8OyeBNtl"
      },
      "source": [
        "## Configure the Notebook"
      ]
    },
    {
      "cell_type": "markdown",
      "metadata": {
        "id": "PdgXhrsZBNtl"
      },
      "source": [
        "Run the following cell to configure this Notebook."
      ]
    },
    {
      "cell_type": "code",
      "execution_count": null,
      "metadata": {
        "id": "XweoXahpBNtm"
      },
      "outputs": [],
      "source": [
        "import numpy as np\n",
        "from datascience import *"
      ]
    },
    {
      "cell_type": "markdown",
      "metadata": {
        "id": "-BeX1DSBBNtm"
      },
      "source": [
        "---"
      ]
    },
    {
      "cell_type": "markdown",
      "metadata": {
        "id": "52Hf2OprBNtm"
      },
      "source": [
        "## Loading Data"
      ]
    },
    {
      "cell_type": "markdown",
      "metadata": {
        "id": "ZizwQq5hBNtn"
      },
      "source": [
        "---"
      ]
    },
    {
      "cell_type": "markdown",
      "metadata": {
        "id": "FNIFEtmkBNtn"
      },
      "source": [
        "### CSV Files"
      ]
    },
    {
      "cell_type": "markdown",
      "metadata": {
        "id": "U4QwnVKzBNtn"
      },
      "source": [
        "The CSV file `farmers_markets.csv` contains data on farmers' markets in the United States.  (The was data collected from [the USDA's website](https://apps.ams.usda.gov/FarmersMarketsExport/ExcelExport.aspx)). CSV (comma-separated values) refers to how the information in the file is organized. If you run the following code cell, you'll see the first 3 lines of the file and probably notice **how challenging it is to read**."
      ]
    },
    {
      "cell_type": "code",
      "execution_count": null,
      "metadata": {
        "id": "nxVHREgMBNtn",
        "outputId": "b02aaa3a-c87f-4134-e704-e6fe60de9fa5"
      },
      "outputs": [
        {
          "name": "stdout",
          "output_type": "stream",
          "text": [
            "FMID,MarketName,Website,Facebook,Twitter,Youtube,OtherMedia,street,city,County,State,zip,Season1Date,Season1Time,Season2Date,Season2Time,Season3Date,Season3Time,Season4Date,Season4Time,x,y,Location,Credit,WIC,WICcash,SFMNP,SNAP,Organic,Bakedgoods,Cheese,Crafts,Flowers,Eggs,Seafood,Herbs,Vegetables,Honey,Jams,Maple,Meat,Nursery,Nuts,Plants,Poultry,Prepared,Soap,Trees,Wine,Coffee,Beans,Fruits,Grains,Juices,Mushrooms,PetFood,Tofu,WildHarvested,updateTime\n",
            "1018261, Caledonia Farmers Market Association - Danville,https://www.caledoniafarmersmarket.com,https://www.facebook.com/Danville.VT.Farmers.Market/,,,,,Danville,Caledonia,Vermont,05828,06/10/2020 to 10/07/2020,Wed: 9:00 AM-1:00 PM;,,,,,,,-72.140337,44.411036,,Y,Y,N,Y,N,Y,Y,Y,Y,Y,Y,N,Y,Y,Y,Y,Y,Y,N,N,N,Y,Y,Y,Y,N,Y,Y,Y,N,N,Y,Y,N,N,8/3/2020 3:23:12 PM\n",
            "1009994,18th Street Farmer's Market,,https://www.facebook.com/ScottsbluffFarmersMarket,,,,18th and Broadway,Scottsbluff,Scotts Bluff,Nebraska,69361,06/05/2021 to 06/05/2021,Sat: 8:00 AM-11:00 AM;,,,,,,,-103.662538,41.864268,,Y,N,N,Y,N,Y,Y,Y,Y,Y,Y,N,Y,Y,Y,Y,N,Y,N,N,Y,Y,Y,N,N,N,Y,Y,Y,N,N,N,N,N,N,2/18/2021 2:37:26 PM\n"
          ]
        }
      ],
      "source": [
        "!head -n 3 farmers_markets.csv"
      ]
    },
    {
      "cell_type": "markdown",
      "metadata": {
        "id": "DM2eaW_MBNto"
      },
      "source": [
        "To better display that information and to provide you with a collection of tools to work with the data, we will guide you in storing that CSV into a `Table` format."
      ]
    },
    {
      "cell_type": "markdown",
      "metadata": {
        "id": "RdIbQ6J-BNto"
      },
      "source": [
        "---"
      ]
    },
    {
      "cell_type": "markdown",
      "metadata": {
        "id": "_sDr07gVBNto"
      },
      "source": [
        "### `read_table`"
      ]
    },
    {
      "cell_type": "markdown",
      "metadata": {
        "id": "EiTBQEqzBNto"
      },
      "source": [
        "The `read_table` function from the `datascience` library helps you load the contents from a CSV file and store the information within a `Table`.\n",
        "\n",
        "Run the next cell to load the `farmers_markets` table."
      ]
    },
    {
      "cell_type": "code",
      "execution_count": null,
      "metadata": {
        "tags": [],
        "id": "NfBRhtCbBNto"
      },
      "outputs": [],
      "source": [
        "farmers_markets = Table.read_table('farmers_markets.csv')\n"
      ]
    },
    {
      "cell_type": "markdown",
      "metadata": {
        "id": "BLoiQ9GxBNtp"
      },
      "source": [
        "After running that code cell, `farmers_markets` represents the table of information. In this lab and some future assignments, you are going to focus on working with these tables. If you run the following code cell, you'll see the contents of the table.\n",
        "\n",
        "* By default, Jupyter displays the first 10 rows of a table.\n",
        "* Notice that it shows `... (1671 rows omitted)` below the displayed table."
      ]
    },
    {
      "cell_type": "code",
      "execution_count": null,
      "metadata": {
        "id": "mT5jtaBaBNtp",
        "outputId": "d2f17b98-b60e-477e-d4d9-2354556273d1"
      },
      "outputs": [
        {
          "data": {
            "text/html": [
              "<table border=\"1\" class=\"dataframe\">\n",
              "    <thead>\n",
              "        <tr>\n",
              "            <th>FMID</th> <th>MarketName</th> <th>Website</th> <th>Facebook</th> <th>Twitter</th> <th>Youtube</th> <th>OtherMedia</th> <th>street</th> <th>city</th> <th>County</th> <th>State</th> <th>zip</th> <th>Season1Date</th> <th>Season1Time</th> <th>Season2Date</th> <th>Season2Time</th> <th>Season3Date</th> <th>Season3Time</th> <th>Season4Date</th> <th>Season4Time</th> <th>x</th> <th>y</th> <th>Location</th> <th>Credit</th> <th>WIC</th> <th>WICcash</th> <th>SFMNP</th> <th>SNAP</th> <th>Organic</th> <th>Bakedgoods</th> <th>Cheese</th> <th>Crafts</th> <th>Flowers</th> <th>Eggs</th> <th>Seafood</th> <th>Herbs</th> <th>Vegetables</th> <th>Honey</th> <th>Jams</th> <th>Maple</th> <th>Meat</th> <th>Nursery</th> <th>Nuts</th> <th>Plants</th> <th>Poultry</th> <th>Prepared</th> <th>Soap</th> <th>Trees</th> <th>Wine</th> <th>Coffee</th> <th>Beans</th> <th>Fruits</th> <th>Grains</th> <th>Juices</th> <th>Mushrooms</th> <th>PetFood</th> <th>Tofu</th> <th>WildHarvested</th> <th>updateTime</th>\n",
              "        </tr>\n",
              "    </thead>\n",
              "    <tbody>\n",
              "        <tr>\n",
              "            <td>1018261</td> <td> Caledonia Farmers Market Association - Danville           </td> <td>https://www.caledoniafarmersmarket.com   </td> <td>https://www.facebook.com/Danville.VT.Farmers.Market/        </td> <td>nan     </td> <td>nan    </td> <td>nan                         </td> <td>nan                       </td> <td>Danville        </td> <td>Caledonia     </td> <td>Vermont   </td> <td>05828</td> <td>06/10/2020 to 10/07/2020</td> <td>Wed: 9:00 AM-1:00 PM;                                       </td> <td>nan                     </td> <td>nan                                                         </td> <td>nan        </td> <td>nan        </td> <td>nan        </td> <td>nan        </td> <td>-72.1403</td> <td>44.411 </td> <td>nan     </td> <td>Y     </td> <td>Y   </td> <td>N      </td> <td>Y    </td> <td>N   </td> <td>Y      </td> <td>Y         </td> <td>Y     </td> <td>Y     </td> <td>Y      </td> <td>Y   </td> <td>N      </td> <td>Y    </td> <td>Y         </td> <td>Y    </td> <td>Y   </td> <td>Y    </td> <td>Y   </td> <td>N      </td> <td>N   </td> <td>N     </td> <td>Y      </td> <td>Y       </td> <td>Y   </td> <td>Y    </td> <td>N   </td> <td>Y     </td> <td>Y    </td> <td>Y     </td> <td>N     </td> <td>N     </td> <td>Y        </td> <td>Y      </td> <td>N   </td> <td>N            </td> <td>8/3/2020 3:23:12 PM  </td>\n",
              "        </tr>\n",
              "        <tr>\n",
              "            <td>1009994</td> <td>18th Street Farmer's Market                                </td> <td>nan                                      </td> <td>https://www.facebook.com/ScottsbluffFarmersMarket           </td> <td>nan     </td> <td>nan    </td> <td>nan                         </td> <td>18th and Broadway         </td> <td>Scottsbluff     </td> <td>Scotts Bluff  </td> <td>Nebraska  </td> <td>69361</td> <td>06/05/2021 to 06/05/2021</td> <td>Sat: 8:00 AM-11:00 AM;                                      </td> <td>nan                     </td> <td>nan                                                         </td> <td>nan        </td> <td>nan        </td> <td>nan        </td> <td>nan        </td> <td>-103.663</td> <td>41.8643</td> <td>nan     </td> <td>Y     </td> <td>N   </td> <td>N      </td> <td>Y    </td> <td>N   </td> <td>Y      </td> <td>Y         </td> <td>Y     </td> <td>Y     </td> <td>Y      </td> <td>Y   </td> <td>N      </td> <td>Y    </td> <td>Y         </td> <td>Y    </td> <td>Y   </td> <td>N    </td> <td>Y   </td> <td>N      </td> <td>N   </td> <td>Y     </td> <td>Y      </td> <td>Y       </td> <td>N   </td> <td>N    </td> <td>N   </td> <td>Y     </td> <td>Y    </td> <td>Y     </td> <td>N     </td> <td>N     </td> <td>N        </td> <td>N      </td> <td>N   </td> <td>N            </td> <td>2/18/2021 2:37:26 PM </td>\n",
              "        </tr>\n",
              "        <tr>\n",
              "            <td>1000709</td> <td>26th Annual Highlands Business Partnership's Farmers Market</td> <td>http://www.highlandsnj.com               </td> <td>https://www.facebook.com/pages/Highlands-Business-Partne ...</td> <td>nan     </td> <td>nan    </td> <td>visithighlandsnj - Instagram</td> <td>71 Waterwitch Avenue      </td> <td>Highlands       </td> <td>Monmouth      </td> <td>New Jersey</td> <td>07732</td> <td>06/06/2020              </td> <td>Sat: 8:30 AM-2:00 PM;                                       </td> <td>nan                     </td> <td>nan                                                         </td> <td>nan        </td> <td>nan        </td> <td>nan        </td> <td>nan        </td> <td>-73.9944</td> <td>40.4048</td> <td>nan     </td> <td>Y     </td> <td>Y   </td> <td>Y      </td> <td>Y    </td> <td>Y   </td> <td>Y      </td> <td>Y         </td> <td>Y     </td> <td>Y     </td> <td>Y      </td> <td>Y   </td> <td>N      </td> <td>Y    </td> <td>Y         </td> <td>Y    </td> <td>Y   </td> <td>N    </td> <td>N   </td> <td>N      </td> <td>Y   </td> <td>Y     </td> <td>N      </td> <td>N       </td> <td>Y   </td> <td>N    </td> <td>N   </td> <td>N     </td> <td>N    </td> <td>Y     </td> <td>N     </td> <td>Y     </td> <td>N        </td> <td>N      </td> <td>N   </td> <td>Y            </td> <td>9/10/2020 3:25:18 PM </td>\n",
              "        </tr>\n",
              "        <tr>\n",
              "            <td>1019956</td> <td>29 Palms Farmers' Market                                   </td> <td>nan                                      </td> <td>https://www.facebook.com/29palmsfarmersmarket/              </td> <td>nan     </td> <td>nan    </td> <td>IG @29palmsfarmersmarket    </td> <td>73484 Twentynine Palms Hwy</td> <td>Twentynine Palms</td> <td>San Bernardino</td> <td>California</td> <td>92277</td> <td>01/01/2020 to 01/01/2020</td> <td>Sat: 8:00 AM-1:00 PM;                                       </td> <td>nan                     </td> <td>nan                                                         </td> <td>nan        </td> <td>nan        </td> <td>nan        </td> <td>nan        </td> <td>-116.059</td> <td>34.1358</td> <td>nan     </td> <td>Y     </td> <td>N   </td> <td>N      </td> <td>N    </td> <td>N   </td> <td>Y      </td> <td>Y         </td> <td>N     </td> <td>Y     </td> <td>N      </td> <td>Y   </td> <td>N      </td> <td>Y    </td> <td>Y         </td> <td>Y    </td> <td>Y   </td> <td>N    </td> <td>N   </td> <td>N      </td> <td>Y   </td> <td>N     </td> <td>N      </td> <td>Y       </td> <td>Y   </td> <td>N    </td> <td>N   </td> <td>N     </td> <td>N    </td> <td>Y     </td> <td>N     </td> <td>Y     </td> <td>N        </td> <td>N      </td> <td>N   </td> <td>N            </td> <td>1/13/2021 5:15:12 PM </td>\n",
              "        </tr>\n",
              "        <tr>\n",
              "            <td>1009959</td> <td>2nd Street Market - Five Rivers MetroPark                  </td> <td>http://www.metroparks.org                </td> <td>https://www.facebook.com/2ndStreetMarket/                   </td> <td>nan     </td> <td>nan    </td> <td>nan                         </td> <td>600 E. 2nd Street         </td> <td>Dayton          </td> <td>Montgomery    </td> <td>Ohio      </td> <td>45402</td> <td>01/01/2018 to 05/31/2018</td> <td>Thu: 11:00 AM-3:00 PM;Fri: 11:00 AM-3:00 PM;Sat: 8:00 AM ...</td> <td>06/01/2018 to 12/31/2018</td> <td>Thu: 11:00 AM-3:00 PM;Fri: 11:00 AM-3:00 PM;Sat: 8:00 AM ...</td> <td>nan        </td> <td>nan        </td> <td>nan        </td> <td>nan        </td> <td>-84.181 </td> <td>39.7626</td> <td>nan     </td> <td>Y     </td> <td>N   </td> <td>Y      </td> <td>N    </td> <td>Y   </td> <td>Y      </td> <td>Y         </td> <td>Y     </td> <td>Y     </td> <td>Y      </td> <td>Y   </td> <td>N      </td> <td>Y    </td> <td>Y         </td> <td>Y    </td> <td>Y   </td> <td>Y    </td> <td>Y   </td> <td>N      </td> <td>Y   </td> <td>Y     </td> <td>Y      </td> <td>Y       </td> <td>Y   </td> <td>N    </td> <td>N   </td> <td>Y     </td> <td>Y    </td> <td>Y     </td> <td>Y     </td> <td>Y     </td> <td>Y        </td> <td>Y      </td> <td>N   </td> <td>Y            </td> <td>7/26/2018 4:26:56 PM </td>\n",
              "        </tr>\n",
              "        <tr>\n",
              "            <td>1004950</td> <td>3 French Hens French Country Market                        </td> <td>http://www.3frenchhensmarket.blogspot.com</td> <td>https://www.facebook.com/pages/3-French-Hens-French-Coun ...</td> <td>nan     </td> <td>nan    </td> <td>nan                         </td> <td>123 W. Illinois ave.      </td> <td>Morris          </td> <td>Grundy        </td> <td>Illinois  </td> <td>60450</td> <td>05/12/2018 to 10/13/2018</td> <td>Sat: 8:00 AM-2:00 PM;                                       </td> <td>11/09/2018 to 11/10/2018</td> <td>Fri: 4:00 PM-10:00 PM;Sat: 10:00 AM-3:00 PM;                </td> <td>nan        </td> <td>nan        </td> <td>nan        </td> <td>nan        </td> <td>-88.4252</td> <td>41.3564</td> <td>nan     </td> <td>Y     </td> <td>N   </td> <td>N      </td> <td>N    </td> <td>N   </td> <td>Y      </td> <td>Y         </td> <td>Y     </td> <td>Y     </td> <td>Y      </td> <td>Y   </td> <td>N      </td> <td>Y    </td> <td>Y         </td> <td>Y    </td> <td>Y   </td> <td>Y    </td> <td>Y   </td> <td>N      </td> <td>N   </td> <td>Y     </td> <td>Y      </td> <td>Y       </td> <td>Y   </td> <td>Y    </td> <td>N   </td> <td>Y     </td> <td>Y    </td> <td>Y     </td> <td>N     </td> <td>N     </td> <td>N        </td> <td>Y      </td> <td>N   </td> <td>N            </td> <td>7/26/2018 4:22:44 PM </td>\n",
              "        </tr>\n",
              "        <tr>\n",
              "            <td>1019938</td> <td>3rd Day Farmer's Market                                    </td> <td>http://www.3rddayfarm.com                </td> <td>facebook/ 3rd Day Farm                                      </td> <td>nan     </td> <td>nan    </td> <td>nan                         </td> <td>3234 S. LaChance Rd       </td> <td>Lake City       </td> <td>Missaukee     </td> <td>Michigan  </td> <td>49651</td> <td>nan                     </td> <td>Tue: 10:00 AM-5:00 PM;Wed: 10:00 AM-5:00 PM;Thu: 10:00 A ...</td> <td>nan                     </td> <td>nan                                                         </td> <td>nan        </td> <td>nan        </td> <td>nan        </td> <td>nan        </td> <td>-85.2961</td> <td>44.293 </td> <td>nan     </td> <td>Y     </td> <td>Y   </td> <td>Y      </td> <td>Y    </td> <td>Y   </td> <td>N      </td> <td>Y         </td> <td>Y     </td> <td>Y     </td> <td>Y      </td> <td>Y   </td> <td>N      </td> <td>Y    </td> <td>Y         </td> <td>Y    </td> <td>Y   </td> <td>Y    </td> <td>Y   </td> <td>N      </td> <td>N   </td> <td>Y     </td> <td>Y      </td> <td>N       </td> <td>Y   </td> <td>Y    </td> <td>N   </td> <td>N     </td> <td>N    </td> <td>Y     </td> <td>N     </td> <td>N     </td> <td>Y        </td> <td>N      </td> <td>N   </td> <td>Y            </td> <td>6/25/2020 11:53:13 AM</td>\n",
              "        </tr>\n",
              "        <tr>\n",
              "            <td>1021607</td> <td>4 Veggies & 3 Fruits Farmer’s Market                       </td> <td>nan                                      </td> <td>nan                                                         </td> <td>nan     </td> <td>nan    </td> <td>nan                         </td> <td>140 W 62nd Street         </td> <td>Chicago         </td> <td>Cook          </td> <td>Illinois  </td> <td>60621</td> <td>01/01/2021 to 01/01/2021</td> <td>Wed: 3:00 PM-8:00 PM;Sun: 9:00 AM-8:00 PM;                  </td> <td>nan                     </td> <td>nan                                                         </td> <td>nan        </td> <td>nan        </td> <td>nan        </td> <td>nan        </td> <td>-87.6296</td> <td>41.7819</td> <td>nan     </td> <td>Y     </td> <td>N   </td> <td>N      </td> <td>N    </td> <td>Y   </td> <td>N      </td> <td>N         </td> <td>N     </td> <td>Y     </td> <td>N      </td> <td>N   </td> <td>N      </td> <td>Y    </td> <td>N         </td> <td>Y    </td> <td>N   </td> <td>N    </td> <td>Y   </td> <td>N      </td> <td>Y   </td> <td>N     </td> <td>N      </td> <td>N       </td> <td>Y   </td> <td>N    </td> <td>N   </td> <td>Y     </td> <td>N    </td> <td>N     </td> <td>N     </td> <td>N     </td> <td>N        </td> <td>N      </td> <td>N   </td> <td>N            </td> <td>8/24/2021 6:09:09 AM </td>\n",
              "        </tr>\n",
              "        <tr>\n",
              "            <td>1018965</td> <td>61st Street Farmers Market                                 </td> <td>https://experimentalstation.org/market   </td> <td>61market                                                    </td> <td>61market</td> <td>nan    </td> <td>Instagram:                  </td> <td>6100 S. Blackstone Ave    </td> <td>Chicago         </td> <td>Cook          </td> <td>Illinois  </td> <td>60637</td> <td>05/12/2018 to 12/15/2018</td> <td>Sat: 9:00 AM-2:00 PM;                                       </td> <td>nan                     </td> <td>nan                                                         </td> <td>nan        </td> <td>nan        </td> <td>nan        </td> <td>nan        </td> <td>-87.5906</td> <td>41.7841</td> <td>nan     </td> <td>Y     </td> <td>N   </td> <td>N      </td> <td>N    </td> <td>Y   </td> <td>-      </td> <td>Y         </td> <td>Y     </td> <td>N     </td> <td>Y      </td> <td>Y   </td> <td>Y      </td> <td>Y    </td> <td>Y         </td> <td>Y    </td> <td>Y   </td> <td>Y    </td> <td>N   </td> <td>N      </td> <td>Y   </td> <td>N     </td> <td>N      </td> <td>Y       </td> <td>Y   </td> <td>N    </td> <td>N   </td> <td>Y     </td> <td>N    </td> <td>Y     </td> <td>N     </td> <td>Y     </td> <td>Y        </td> <td>N      </td> <td>N   </td> <td>N            </td> <td>2/23/2018 4:18:31 PM </td>\n",
              "        </tr>\n",
              "        <tr>\n",
              "            <td>1009004</td> <td>A Growers' Market                                          </td> <td>nan                                      </td> <td>nan                                                         </td> <td>nan     </td> <td>nan    </td> <td>nan                         </td> <td>229 Lake Ella Drive       </td> <td>Tallahassee     </td> <td>Leon          </td> <td>Florida   </td> <td>32303</td> <td>01/01/2018 to 12/31/2018</td> <td>Wed: 12:00 PM-6:00 PM;Sat: 11:00 AM-3:00 PM;                </td> <td>nan                     </td> <td>nan                                                         </td> <td>nan        </td> <td>nan        </td> <td>nan        </td> <td>nan        </td> <td>-84.2799</td> <td>30.462 </td> <td>nan     </td> <td>Y     </td> <td>Y   </td> <td>N      </td> <td>Y    </td> <td>Y   </td> <td>N      </td> <td>Y         </td> <td>Y     </td> <td>N     </td> <td>Y      </td> <td>Y   </td> <td>N      </td> <td>Y    </td> <td>Y         </td> <td>Y    </td> <td>Y   </td> <td>N    </td> <td>N   </td> <td>N      </td> <td>N   </td> <td>N     </td> <td>N      </td> <td>Y       </td> <td>Y   </td> <td>N    </td> <td>N   </td> <td>N     </td> <td>N    </td> <td>Y     </td> <td>N     </td> <td>N     </td> <td>Y        </td> <td>N      </td> <td>N   </td> <td>N            </td> <td>7/29/2018 12:47:57 PM</td>\n",
              "        </tr>\n",
              "    </tbody>\n",
              "</table>\n",
              "<p>... (1671 rows omitted)</p>"
            ],
            "text/plain": [
              "FMID    | MarketName                                                  | Website                                   | Facebook                                                     | Twitter  | Youtube | OtherMedia                   | street                     | city             | County         | State      | zip   | Season1Date              | Season1Time                                                  | Season2Date              | Season2Time                                                  | Season3Date | Season3Time | Season4Date | Season4Time | x        | y       | Location | Credit | WIC  | WICcash | SFMNP | SNAP | Organic | Bakedgoods | Cheese | Crafts | Flowers | Eggs | Seafood | Herbs | Vegetables | Honey | Jams | Maple | Meat | Nursery | Nuts | Plants | Poultry | Prepared | Soap | Trees | Wine | Coffee | Beans | Fruits | Grains | Juices | Mushrooms | PetFood | Tofu | WildHarvested | updateTime\n",
              "1018261 |  Caledonia Farmers Market Association - Danville            | https://www.caledoniafarmersmarket.com    | https://www.facebook.com/Danville.VT.Farmers.Market/         | nan      | nan     | nan                          | nan                        | Danville         | Caledonia      | Vermont    | 05828 | 06/10/2020 to 10/07/2020 | Wed: 9:00 AM-1:00 PM;                                        | nan                      | nan                                                          | nan         | nan         | nan         | nan         | -72.1403 | 44.411  | nan      | Y      | Y    | N       | Y     | N    | Y       | Y          | Y      | Y      | Y       | Y    | N       | Y     | Y          | Y     | Y    | Y     | Y    | N       | N    | N      | Y       | Y        | Y    | Y     | N    | Y      | Y     | Y      | N      | N      | Y         | Y       | N    | N             | 8/3/2020 3:23:12 PM\n",
              "1009994 | 18th Street Farmer's Market                                 | nan                                       | https://www.facebook.com/ScottsbluffFarmersMarket            | nan      | nan     | nan                          | 18th and Broadway          | Scottsbluff      | Scotts Bluff   | Nebraska   | 69361 | 06/05/2021 to 06/05/2021 | Sat: 8:00 AM-11:00 AM;                                       | nan                      | nan                                                          | nan         | nan         | nan         | nan         | -103.663 | 41.8643 | nan      | Y      | N    | N       | Y     | N    | Y       | Y          | Y      | Y      | Y       | Y    | N       | Y     | Y          | Y     | Y    | N     | Y    | N       | N    | Y      | Y       | Y        | N    | N     | N    | Y      | Y     | Y      | N      | N      | N         | N       | N    | N             | 2/18/2021 2:37:26 PM\n",
              "1000709 | 26th Annual Highlands Business Partnership's Farmers Market | http://www.highlandsnj.com                | https://www.facebook.com/pages/Highlands-Business-Partne ... | nan      | nan     | visithighlandsnj - Instagram | 71 Waterwitch Avenue       | Highlands        | Monmouth       | New Jersey | 07732 | 06/06/2020               | Sat: 8:30 AM-2:00 PM;                                        | nan                      | nan                                                          | nan         | nan         | nan         | nan         | -73.9944 | 40.4048 | nan      | Y      | Y    | Y       | Y     | Y    | Y       | Y          | Y      | Y      | Y       | Y    | N       | Y     | Y          | Y     | Y    | N     | N    | N       | Y    | Y      | N       | N        | Y    | N     | N    | N      | N     | Y      | N      | Y      | N         | N       | N    | Y             | 9/10/2020 3:25:18 PM\n",
              "1019956 | 29 Palms Farmers' Market                                    | nan                                       | https://www.facebook.com/29palmsfarmersmarket/               | nan      | nan     | IG @29palmsfarmersmarket     | 73484 Twentynine Palms Hwy | Twentynine Palms | San Bernardino | California | 92277 | 01/01/2020 to 01/01/2020 | Sat: 8:00 AM-1:00 PM;                                        | nan                      | nan                                                          | nan         | nan         | nan         | nan         | -116.059 | 34.1358 | nan      | Y      | N    | N       | N     | N    | Y       | Y          | N      | Y      | N       | Y    | N       | Y     | Y          | Y     | Y    | N     | N    | N       | Y    | N      | N       | Y        | Y    | N     | N    | N      | N     | Y      | N      | Y      | N         | N       | N    | N             | 1/13/2021 5:15:12 PM\n",
              "1009959 | 2nd Street Market - Five Rivers MetroPark                   | http://www.metroparks.org                 | https://www.facebook.com/2ndStreetMarket/                    | nan      | nan     | nan                          | 600 E. 2nd Street          | Dayton           | Montgomery     | Ohio       | 45402 | 01/01/2018 to 05/31/2018 | Thu: 11:00 AM-3:00 PM;Fri: 11:00 AM-3:00 PM;Sat: 8:00 AM ... | 06/01/2018 to 12/31/2018 | Thu: 11:00 AM-3:00 PM;Fri: 11:00 AM-3:00 PM;Sat: 8:00 AM ... | nan         | nan         | nan         | nan         | -84.181  | 39.7626 | nan      | Y      | N    | Y       | N     | Y    | Y       | Y          | Y      | Y      | Y       | Y    | N       | Y     | Y          | Y     | Y    | Y     | Y    | N       | Y    | Y      | Y       | Y        | Y    | N     | N    | Y      | Y     | Y      | Y      | Y      | Y         | Y       | N    | Y             | 7/26/2018 4:26:56 PM\n",
              "1004950 | 3 French Hens French Country Market                         | http://www.3frenchhensmarket.blogspot.com | https://www.facebook.com/pages/3-French-Hens-French-Coun ... | nan      | nan     | nan                          | 123 W. Illinois ave.       | Morris           | Grundy         | Illinois   | 60450 | 05/12/2018 to 10/13/2018 | Sat: 8:00 AM-2:00 PM;                                        | 11/09/2018 to 11/10/2018 | Fri: 4:00 PM-10:00 PM;Sat: 10:00 AM-3:00 PM;                 | nan         | nan         | nan         | nan         | -88.4252 | 41.3564 | nan      | Y      | N    | N       | N     | N    | Y       | Y          | Y      | Y      | Y       | Y    | N       | Y     | Y          | Y     | Y    | Y     | Y    | N       | N    | Y      | Y       | Y        | Y    | Y     | N    | Y      | Y     | Y      | N      | N      | N         | Y       | N    | N             | 7/26/2018 4:22:44 PM\n",
              "1019938 | 3rd Day Farmer's Market                                     | http://www.3rddayfarm.com                 | facebook/ 3rd Day Farm                                       | nan      | nan     | nan                          | 3234 S. LaChance Rd        | Lake City        | Missaukee      | Michigan   | 49651 | nan                      | Tue: 10:00 AM-5:00 PM;Wed: 10:00 AM-5:00 PM;Thu: 10:00 A ... | nan                      | nan                                                          | nan         | nan         | nan         | nan         | -85.2961 | 44.293  | nan      | Y      | Y    | Y       | Y     | Y    | N       | Y          | Y      | Y      | Y       | Y    | N       | Y     | Y          | Y     | Y    | Y     | Y    | N       | N    | Y      | Y       | N        | Y    | Y     | N    | N      | N     | Y      | N      | N      | Y         | N       | N    | Y             | 6/25/2020 11:53:13 AM\n",
              "1021607 | 4 Veggies & 3 Fruits Farmer’s Market                        | nan                                       | nan                                                          | nan      | nan     | nan                          | 140 W 62nd Street          | Chicago          | Cook           | Illinois   | 60621 | 01/01/2021 to 01/01/2021 | Wed: 3:00 PM-8:00 PM;Sun: 9:00 AM-8:00 PM;                   | nan                      | nan                                                          | nan         | nan         | nan         | nan         | -87.6296 | 41.7819 | nan      | Y      | N    | N       | N     | Y    | N       | N          | N      | Y      | N       | N    | N       | Y     | N          | Y     | N    | N     | Y    | N       | Y    | N      | N       | N        | Y    | N     | N    | Y      | N     | N      | N      | N      | N         | N       | N    | N             | 8/24/2021 6:09:09 AM\n",
              "1018965 | 61st Street Farmers Market                                  | https://experimentalstation.org/market    | 61market                                                     | 61market | nan     | Instagram:                   | 6100 S. Blackstone Ave     | Chicago          | Cook           | Illinois   | 60637 | 05/12/2018 to 12/15/2018 | Sat: 9:00 AM-2:00 PM;                                        | nan                      | nan                                                          | nan         | nan         | nan         | nan         | -87.5906 | 41.7841 | nan      | Y      | N    | N       | N     | Y    | -       | Y          | Y      | N      | Y       | Y    | Y       | Y     | Y          | Y     | Y    | Y     | N    | N       | Y    | N      | N       | Y        | Y    | N     | N    | Y      | N     | Y      | N      | Y      | Y         | N       | N    | N             | 2/23/2018 4:18:31 PM\n",
              "1009004 | A Growers' Market                                           | nan                                       | nan                                                          | nan      | nan     | nan                          | 229 Lake Ella Drive        | Tallahassee      | Leon           | Florida    | 32303 | 01/01/2018 to 12/31/2018 | Wed: 12:00 PM-6:00 PM;Sat: 11:00 AM-3:00 PM;                 | nan                      | nan                                                          | nan         | nan         | nan         | nan         | -84.2799 | 30.462  | nan      | Y      | Y    | N       | Y     | Y    | N       | Y          | Y      | N      | Y       | Y    | N       | Y     | Y          | Y     | Y    | N     | N    | N       | N    | N      | N       | Y        | Y    | N     | N    | N      | N     | Y      | N      | N      | Y         | N       | N    | N             | 7/29/2018 12:47:57 PM\n",
              "... (1671 rows omitted)"
            ]
          },
          "execution_count": 44,
          "metadata": {},
          "output_type": "execute_result"
        }
      ],
      "source": [
        "farmers_markets"
      ]
    },
    {
      "cell_type": "markdown",
      "metadata": {
        "id": "Fwe-_GmPBNtp"
      },
      "source": [
        "Hopefully, that is a little easier to visualize compared to looking at the direct contents of the related CSV file! Now, you didn't do all of that just to visualize the information, you unlocked a collection of tools for you to engage with that data."
      ]
    },
    {
      "cell_type": "markdown",
      "metadata": {
        "id": "yL-cRkC9BNtq"
      },
      "source": [
        "---"
      ]
    },
    {
      "cell_type": "markdown",
      "metadata": {
        "id": "UskKxPduBNtq"
      },
      "source": [
        "## Attributes and Methods"
      ]
    },
    {
      "cell_type": "markdown",
      "metadata": {
        "id": "c_trqHLTBNtq"
      },
      "source": [
        "---"
      ]
    },
    {
      "cell_type": "markdown",
      "metadata": {
        "id": "ZSwbmMyhBNtq"
      },
      "source": [
        "When you create something in Python, such as a `Table` (or any object), you gain access to a collection of properties (attributes) and functions (methods) associated with that object's data type. These properties and methods provide ways to interact with, manipulate, and retrieve information from the object.\n",
        "\n",
        "*There are often many attributes and methods available, so it's common to use documentation and tools like artificial intelligence to explore and understand them. In this course, you will focus on a specific subset of these tools. We encourage you to use our reference materials and commit some of this syntax to memory rather than relying on artificial intelligence for learning.*"
      ]
    },
    {
      "cell_type": "markdown",
      "metadata": {
        "id": "9UxYeOJVBNtq"
      },
      "source": [
        "---"
      ]
    },
    {
      "cell_type": "markdown",
      "metadata": {
        "id": "7HOPnibfBNtr"
      },
      "source": [
        "## Some `Table` Attributes and Methods"
      ]
    },
    {
      "cell_type": "markdown",
      "metadata": {
        "id": "rT8oHcucBNtr"
      },
      "source": [
        "---"
      ]
    },
    {
      "cell_type": "markdown",
      "metadata": {
        "id": "pedbAO5XBNtr"
      },
      "source": [
        "### `show`"
      ]
    },
    {
      "cell_type": "markdown",
      "metadata": {
        "id": "TajcwPt6BNtr"
      },
      "source": [
        "Earlier, you were able to preview the `farmers_market` table by using its name, but how can you look at a specific number of rows or the entire table? The `show` table method in the `datascience` library is used to *display* a subset of rows from a `Table`. This method is handy for quickly inspecting the data.\n",
        "\n",
        "* By default, `tbl.show()` displays all of the rows from the table `tbl`.\n",
        "* You can specify the number of rows to display by passing a number as an argument.\n",
        "\n",
        "For example, the following code shows the first 10 rows of the `farmers_market` table."
      ]
    },
    {
      "cell_type": "code",
      "execution_count": null,
      "metadata": {
        "id": "ZlS0ORJ-BNtr",
        "outputId": "529abeb6-bcd5-4bfe-8dcc-ac8f51a0f47d"
      },
      "outputs": [
        {
          "data": {
            "text/html": [
              "<table border=\"1\" class=\"dataframe\">\n",
              "    <thead>\n",
              "        <tr>\n",
              "            <th>FMID</th> <th>MarketName</th> <th>Website</th> <th>Facebook</th> <th>Twitter</th> <th>Youtube</th> <th>OtherMedia</th> <th>street</th> <th>city</th> <th>County</th> <th>State</th> <th>zip</th> <th>Season1Date</th> <th>Season1Time</th> <th>Season2Date</th> <th>Season2Time</th> <th>Season3Date</th> <th>Season3Time</th> <th>Season4Date</th> <th>Season4Time</th> <th>x</th> <th>y</th> <th>Location</th> <th>Credit</th> <th>WIC</th> <th>WICcash</th> <th>SFMNP</th> <th>SNAP</th> <th>Organic</th> <th>Bakedgoods</th> <th>Cheese</th> <th>Crafts</th> <th>Flowers</th> <th>Eggs</th> <th>Seafood</th> <th>Herbs</th> <th>Vegetables</th> <th>Honey</th> <th>Jams</th> <th>Maple</th> <th>Meat</th> <th>Nursery</th> <th>Nuts</th> <th>Plants</th> <th>Poultry</th> <th>Prepared</th> <th>Soap</th> <th>Trees</th> <th>Wine</th> <th>Coffee</th> <th>Beans</th> <th>Fruits</th> <th>Grains</th> <th>Juices</th> <th>Mushrooms</th> <th>PetFood</th> <th>Tofu</th> <th>WildHarvested</th> <th>updateTime</th>\n",
              "        </tr>\n",
              "    </thead>\n",
              "    <tbody>\n",
              "        <tr>\n",
              "            <td>1018261</td> <td> Caledonia Farmers Market Association - Danville           </td> <td>https://www.caledoniafarmersmarket.com   </td> <td>https://www.facebook.com/Danville.VT.Farmers.Market/        </td> <td>nan     </td> <td>nan    </td> <td>nan                         </td> <td>nan                       </td> <td>Danville        </td> <td>Caledonia     </td> <td>Vermont   </td> <td>05828</td> <td>06/10/2020 to 10/07/2020</td> <td>Wed: 9:00 AM-1:00 PM;                                       </td> <td>nan                     </td> <td>nan                                                         </td> <td>nan        </td> <td>nan        </td> <td>nan        </td> <td>nan        </td> <td>-72.1403</td> <td>44.411 </td> <td>nan     </td> <td>Y     </td> <td>Y   </td> <td>N      </td> <td>Y    </td> <td>N   </td> <td>Y      </td> <td>Y         </td> <td>Y     </td> <td>Y     </td> <td>Y      </td> <td>Y   </td> <td>N      </td> <td>Y    </td> <td>Y         </td> <td>Y    </td> <td>Y   </td> <td>Y    </td> <td>Y   </td> <td>N      </td> <td>N   </td> <td>N     </td> <td>Y      </td> <td>Y       </td> <td>Y   </td> <td>Y    </td> <td>N   </td> <td>Y     </td> <td>Y    </td> <td>Y     </td> <td>N     </td> <td>N     </td> <td>Y        </td> <td>Y      </td> <td>N   </td> <td>N            </td> <td>8/3/2020 3:23:12 PM  </td>\n",
              "        </tr>\n",
              "        <tr>\n",
              "            <td>1009994</td> <td>18th Street Farmer's Market                                </td> <td>nan                                      </td> <td>https://www.facebook.com/ScottsbluffFarmersMarket           </td> <td>nan     </td> <td>nan    </td> <td>nan                         </td> <td>18th and Broadway         </td> <td>Scottsbluff     </td> <td>Scotts Bluff  </td> <td>Nebraska  </td> <td>69361</td> <td>06/05/2021 to 06/05/2021</td> <td>Sat: 8:00 AM-11:00 AM;                                      </td> <td>nan                     </td> <td>nan                                                         </td> <td>nan        </td> <td>nan        </td> <td>nan        </td> <td>nan        </td> <td>-103.663</td> <td>41.8643</td> <td>nan     </td> <td>Y     </td> <td>N   </td> <td>N      </td> <td>Y    </td> <td>N   </td> <td>Y      </td> <td>Y         </td> <td>Y     </td> <td>Y     </td> <td>Y      </td> <td>Y   </td> <td>N      </td> <td>Y    </td> <td>Y         </td> <td>Y    </td> <td>Y   </td> <td>N    </td> <td>Y   </td> <td>N      </td> <td>N   </td> <td>Y     </td> <td>Y      </td> <td>Y       </td> <td>N   </td> <td>N    </td> <td>N   </td> <td>Y     </td> <td>Y    </td> <td>Y     </td> <td>N     </td> <td>N     </td> <td>N        </td> <td>N      </td> <td>N   </td> <td>N            </td> <td>2/18/2021 2:37:26 PM </td>\n",
              "        </tr>\n",
              "        <tr>\n",
              "            <td>1000709</td> <td>26th Annual Highlands Business Partnership's Farmers Market</td> <td>http://www.highlandsnj.com               </td> <td>https://www.facebook.com/pages/Highlands-Business-Partne ...</td> <td>nan     </td> <td>nan    </td> <td>visithighlandsnj - Instagram</td> <td>71 Waterwitch Avenue      </td> <td>Highlands       </td> <td>Monmouth      </td> <td>New Jersey</td> <td>07732</td> <td>06/06/2020              </td> <td>Sat: 8:30 AM-2:00 PM;                                       </td> <td>nan                     </td> <td>nan                                                         </td> <td>nan        </td> <td>nan        </td> <td>nan        </td> <td>nan        </td> <td>-73.9944</td> <td>40.4048</td> <td>nan     </td> <td>Y     </td> <td>Y   </td> <td>Y      </td> <td>Y    </td> <td>Y   </td> <td>Y      </td> <td>Y         </td> <td>Y     </td> <td>Y     </td> <td>Y      </td> <td>Y   </td> <td>N      </td> <td>Y    </td> <td>Y         </td> <td>Y    </td> <td>Y   </td> <td>N    </td> <td>N   </td> <td>N      </td> <td>Y   </td> <td>Y     </td> <td>N      </td> <td>N       </td> <td>Y   </td> <td>N    </td> <td>N   </td> <td>N     </td> <td>N    </td> <td>Y     </td> <td>N     </td> <td>Y     </td> <td>N        </td> <td>N      </td> <td>N   </td> <td>Y            </td> <td>9/10/2020 3:25:18 PM </td>\n",
              "        </tr>\n",
              "        <tr>\n",
              "            <td>1019956</td> <td>29 Palms Farmers' Market                                   </td> <td>nan                                      </td> <td>https://www.facebook.com/29palmsfarmersmarket/              </td> <td>nan     </td> <td>nan    </td> <td>IG @29palmsfarmersmarket    </td> <td>73484 Twentynine Palms Hwy</td> <td>Twentynine Palms</td> <td>San Bernardino</td> <td>California</td> <td>92277</td> <td>01/01/2020 to 01/01/2020</td> <td>Sat: 8:00 AM-1:00 PM;                                       </td> <td>nan                     </td> <td>nan                                                         </td> <td>nan        </td> <td>nan        </td> <td>nan        </td> <td>nan        </td> <td>-116.059</td> <td>34.1358</td> <td>nan     </td> <td>Y     </td> <td>N   </td> <td>N      </td> <td>N    </td> <td>N   </td> <td>Y      </td> <td>Y         </td> <td>N     </td> <td>Y     </td> <td>N      </td> <td>Y   </td> <td>N      </td> <td>Y    </td> <td>Y         </td> <td>Y    </td> <td>Y   </td> <td>N    </td> <td>N   </td> <td>N      </td> <td>Y   </td> <td>N     </td> <td>N      </td> <td>Y       </td> <td>Y   </td> <td>N    </td> <td>N   </td> <td>N     </td> <td>N    </td> <td>Y     </td> <td>N     </td> <td>Y     </td> <td>N        </td> <td>N      </td> <td>N   </td> <td>N            </td> <td>1/13/2021 5:15:12 PM </td>\n",
              "        </tr>\n",
              "        <tr>\n",
              "            <td>1009959</td> <td>2nd Street Market - Five Rivers MetroPark                  </td> <td>http://www.metroparks.org                </td> <td>https://www.facebook.com/2ndStreetMarket/                   </td> <td>nan     </td> <td>nan    </td> <td>nan                         </td> <td>600 E. 2nd Street         </td> <td>Dayton          </td> <td>Montgomery    </td> <td>Ohio      </td> <td>45402</td> <td>01/01/2018 to 05/31/2018</td> <td>Thu: 11:00 AM-3:00 PM;Fri: 11:00 AM-3:00 PM;Sat: 8:00 AM ...</td> <td>06/01/2018 to 12/31/2018</td> <td>Thu: 11:00 AM-3:00 PM;Fri: 11:00 AM-3:00 PM;Sat: 8:00 AM ...</td> <td>nan        </td> <td>nan        </td> <td>nan        </td> <td>nan        </td> <td>-84.181 </td> <td>39.7626</td> <td>nan     </td> <td>Y     </td> <td>N   </td> <td>Y      </td> <td>N    </td> <td>Y   </td> <td>Y      </td> <td>Y         </td> <td>Y     </td> <td>Y     </td> <td>Y      </td> <td>Y   </td> <td>N      </td> <td>Y    </td> <td>Y         </td> <td>Y    </td> <td>Y   </td> <td>Y    </td> <td>Y   </td> <td>N      </td> <td>Y   </td> <td>Y     </td> <td>Y      </td> <td>Y       </td> <td>Y   </td> <td>N    </td> <td>N   </td> <td>Y     </td> <td>Y    </td> <td>Y     </td> <td>Y     </td> <td>Y     </td> <td>Y        </td> <td>Y      </td> <td>N   </td> <td>Y            </td> <td>7/26/2018 4:26:56 PM </td>\n",
              "        </tr>\n",
              "        <tr>\n",
              "            <td>1004950</td> <td>3 French Hens French Country Market                        </td> <td>http://www.3frenchhensmarket.blogspot.com</td> <td>https://www.facebook.com/pages/3-French-Hens-French-Coun ...</td> <td>nan     </td> <td>nan    </td> <td>nan                         </td> <td>123 W. Illinois ave.      </td> <td>Morris          </td> <td>Grundy        </td> <td>Illinois  </td> <td>60450</td> <td>05/12/2018 to 10/13/2018</td> <td>Sat: 8:00 AM-2:00 PM;                                       </td> <td>11/09/2018 to 11/10/2018</td> <td>Fri: 4:00 PM-10:00 PM;Sat: 10:00 AM-3:00 PM;                </td> <td>nan        </td> <td>nan        </td> <td>nan        </td> <td>nan        </td> <td>-88.4252</td> <td>41.3564</td> <td>nan     </td> <td>Y     </td> <td>N   </td> <td>N      </td> <td>N    </td> <td>N   </td> <td>Y      </td> <td>Y         </td> <td>Y     </td> <td>Y     </td> <td>Y      </td> <td>Y   </td> <td>N      </td> <td>Y    </td> <td>Y         </td> <td>Y    </td> <td>Y   </td> <td>Y    </td> <td>Y   </td> <td>N      </td> <td>N   </td> <td>Y     </td> <td>Y      </td> <td>Y       </td> <td>Y   </td> <td>Y    </td> <td>N   </td> <td>Y     </td> <td>Y    </td> <td>Y     </td> <td>N     </td> <td>N     </td> <td>N        </td> <td>Y      </td> <td>N   </td> <td>N            </td> <td>7/26/2018 4:22:44 PM </td>\n",
              "        </tr>\n",
              "        <tr>\n",
              "            <td>1019938</td> <td>3rd Day Farmer's Market                                    </td> <td>http://www.3rddayfarm.com                </td> <td>facebook/ 3rd Day Farm                                      </td> <td>nan     </td> <td>nan    </td> <td>nan                         </td> <td>3234 S. LaChance Rd       </td> <td>Lake City       </td> <td>Missaukee     </td> <td>Michigan  </td> <td>49651</td> <td>nan                     </td> <td>Tue: 10:00 AM-5:00 PM;Wed: 10:00 AM-5:00 PM;Thu: 10:00 A ...</td> <td>nan                     </td> <td>nan                                                         </td> <td>nan        </td> <td>nan        </td> <td>nan        </td> <td>nan        </td> <td>-85.2961</td> <td>44.293 </td> <td>nan     </td> <td>Y     </td> <td>Y   </td> <td>Y      </td> <td>Y    </td> <td>Y   </td> <td>N      </td> <td>Y         </td> <td>Y     </td> <td>Y     </td> <td>Y      </td> <td>Y   </td> <td>N      </td> <td>Y    </td> <td>Y         </td> <td>Y    </td> <td>Y   </td> <td>Y    </td> <td>Y   </td> <td>N      </td> <td>N   </td> <td>Y     </td> <td>Y      </td> <td>N       </td> <td>Y   </td> <td>Y    </td> <td>N   </td> <td>N     </td> <td>N    </td> <td>Y     </td> <td>N     </td> <td>N     </td> <td>Y        </td> <td>N      </td> <td>N   </td> <td>Y            </td> <td>6/25/2020 11:53:13 AM</td>\n",
              "        </tr>\n",
              "        <tr>\n",
              "            <td>1021607</td> <td>4 Veggies & 3 Fruits Farmer’s Market                       </td> <td>nan                                      </td> <td>nan                                                         </td> <td>nan     </td> <td>nan    </td> <td>nan                         </td> <td>140 W 62nd Street         </td> <td>Chicago         </td> <td>Cook          </td> <td>Illinois  </td> <td>60621</td> <td>01/01/2021 to 01/01/2021</td> <td>Wed: 3:00 PM-8:00 PM;Sun: 9:00 AM-8:00 PM;                  </td> <td>nan                     </td> <td>nan                                                         </td> <td>nan        </td> <td>nan        </td> <td>nan        </td> <td>nan        </td> <td>-87.6296</td> <td>41.7819</td> <td>nan     </td> <td>Y     </td> <td>N   </td> <td>N      </td> <td>N    </td> <td>Y   </td> <td>N      </td> <td>N         </td> <td>N     </td> <td>Y     </td> <td>N      </td> <td>N   </td> <td>N      </td> <td>Y    </td> <td>N         </td> <td>Y    </td> <td>N   </td> <td>N    </td> <td>Y   </td> <td>N      </td> <td>Y   </td> <td>N     </td> <td>N      </td> <td>N       </td> <td>Y   </td> <td>N    </td> <td>N   </td> <td>Y     </td> <td>N    </td> <td>N     </td> <td>N     </td> <td>N     </td> <td>N        </td> <td>N      </td> <td>N   </td> <td>N            </td> <td>8/24/2021 6:09:09 AM </td>\n",
              "        </tr>\n",
              "        <tr>\n",
              "            <td>1018965</td> <td>61st Street Farmers Market                                 </td> <td>https://experimentalstation.org/market   </td> <td>61market                                                    </td> <td>61market</td> <td>nan    </td> <td>Instagram:                  </td> <td>6100 S. Blackstone Ave    </td> <td>Chicago         </td> <td>Cook          </td> <td>Illinois  </td> <td>60637</td> <td>05/12/2018 to 12/15/2018</td> <td>Sat: 9:00 AM-2:00 PM;                                       </td> <td>nan                     </td> <td>nan                                                         </td> <td>nan        </td> <td>nan        </td> <td>nan        </td> <td>nan        </td> <td>-87.5906</td> <td>41.7841</td> <td>nan     </td> <td>Y     </td> <td>N   </td> <td>N      </td> <td>N    </td> <td>Y   </td> <td>-      </td> <td>Y         </td> <td>Y     </td> <td>N     </td> <td>Y      </td> <td>Y   </td> <td>Y      </td> <td>Y    </td> <td>Y         </td> <td>Y    </td> <td>Y   </td> <td>Y    </td> <td>N   </td> <td>N      </td> <td>Y   </td> <td>N     </td> <td>N      </td> <td>Y       </td> <td>Y   </td> <td>N    </td> <td>N   </td> <td>Y     </td> <td>N    </td> <td>Y     </td> <td>N     </td> <td>Y     </td> <td>Y        </td> <td>N      </td> <td>N   </td> <td>N            </td> <td>2/23/2018 4:18:31 PM </td>\n",
              "        </tr>\n",
              "        <tr>\n",
              "            <td>1009004</td> <td>A Growers' Market                                          </td> <td>nan                                      </td> <td>nan                                                         </td> <td>nan     </td> <td>nan    </td> <td>nan                         </td> <td>229 Lake Ella Drive       </td> <td>Tallahassee     </td> <td>Leon          </td> <td>Florida   </td> <td>32303</td> <td>01/01/2018 to 12/31/2018</td> <td>Wed: 12:00 PM-6:00 PM;Sat: 11:00 AM-3:00 PM;                </td> <td>nan                     </td> <td>nan                                                         </td> <td>nan        </td> <td>nan        </td> <td>nan        </td> <td>nan        </td> <td>-84.2799</td> <td>30.462 </td> <td>nan     </td> <td>Y     </td> <td>Y   </td> <td>N      </td> <td>Y    </td> <td>Y   </td> <td>N      </td> <td>Y         </td> <td>Y     </td> <td>N     </td> <td>Y      </td> <td>Y   </td> <td>N      </td> <td>Y    </td> <td>Y         </td> <td>Y    </td> <td>Y   </td> <td>N    </td> <td>N   </td> <td>N      </td> <td>N   </td> <td>N     </td> <td>N      </td> <td>Y       </td> <td>Y   </td> <td>N    </td> <td>N   </td> <td>N     </td> <td>N    </td> <td>Y     </td> <td>N     </td> <td>N     </td> <td>Y        </td> <td>N      </td> <td>N   </td> <td>N            </td> <td>7/29/2018 12:47:57 PM</td>\n",
              "        </tr>\n",
              "    </tbody>\n",
              "</table>\n",
              "<p>... (1671 rows omitted)</p>"
            ],
            "text/plain": [
              "<IPython.core.display.HTML object>"
            ]
          },
          "metadata": {},
          "output_type": "display_data"
        }
      ],
      "source": [
        "farmers_markets.show(10)"
      ]
    },
    {
      "cell_type": "markdown",
      "metadata": {
        "id": "N9gsspC8BNts"
      },
      "source": [
        "This method is for visual inspection only and does not return a `Table` data type. Run the following code to see that the 10 rows are displayed, but the display has a `NoneType` for a data type."
      ]
    },
    {
      "cell_type": "code",
      "execution_count": null,
      "metadata": {
        "id": "IiQJ-fTxBNts",
        "outputId": "23c6b483-8d94-4a44-a860-a03a1dc42724"
      },
      "outputs": [
        {
          "data": {
            "text/html": [
              "<table border=\"1\" class=\"dataframe\">\n",
              "    <thead>\n",
              "        <tr>\n",
              "            <th>FMID</th> <th>MarketName</th> <th>Website</th> <th>Facebook</th> <th>Twitter</th> <th>Youtube</th> <th>OtherMedia</th> <th>street</th> <th>city</th> <th>County</th> <th>State</th> <th>zip</th> <th>Season1Date</th> <th>Season1Time</th> <th>Season2Date</th> <th>Season2Time</th> <th>Season3Date</th> <th>Season3Time</th> <th>Season4Date</th> <th>Season4Time</th> <th>x</th> <th>y</th> <th>Location</th> <th>Credit</th> <th>WIC</th> <th>WICcash</th> <th>SFMNP</th> <th>SNAP</th> <th>Organic</th> <th>Bakedgoods</th> <th>Cheese</th> <th>Crafts</th> <th>Flowers</th> <th>Eggs</th> <th>Seafood</th> <th>Herbs</th> <th>Vegetables</th> <th>Honey</th> <th>Jams</th> <th>Maple</th> <th>Meat</th> <th>Nursery</th> <th>Nuts</th> <th>Plants</th> <th>Poultry</th> <th>Prepared</th> <th>Soap</th> <th>Trees</th> <th>Wine</th> <th>Coffee</th> <th>Beans</th> <th>Fruits</th> <th>Grains</th> <th>Juices</th> <th>Mushrooms</th> <th>PetFood</th> <th>Tofu</th> <th>WildHarvested</th> <th>updateTime</th>\n",
              "        </tr>\n",
              "    </thead>\n",
              "    <tbody>\n",
              "        <tr>\n",
              "            <td>1018261</td> <td> Caledonia Farmers Market Association - Danville           </td> <td>https://www.caledoniafarmersmarket.com   </td> <td>https://www.facebook.com/Danville.VT.Farmers.Market/        </td> <td>nan     </td> <td>nan    </td> <td>nan                         </td> <td>nan                       </td> <td>Danville        </td> <td>Caledonia     </td> <td>Vermont   </td> <td>05828</td> <td>06/10/2020 to 10/07/2020</td> <td>Wed: 9:00 AM-1:00 PM;                                       </td> <td>nan                     </td> <td>nan                                                         </td> <td>nan        </td> <td>nan        </td> <td>nan        </td> <td>nan        </td> <td>-72.1403</td> <td>44.411 </td> <td>nan     </td> <td>Y     </td> <td>Y   </td> <td>N      </td> <td>Y    </td> <td>N   </td> <td>Y      </td> <td>Y         </td> <td>Y     </td> <td>Y     </td> <td>Y      </td> <td>Y   </td> <td>N      </td> <td>Y    </td> <td>Y         </td> <td>Y    </td> <td>Y   </td> <td>Y    </td> <td>Y   </td> <td>N      </td> <td>N   </td> <td>N     </td> <td>Y      </td> <td>Y       </td> <td>Y   </td> <td>Y    </td> <td>N   </td> <td>Y     </td> <td>Y    </td> <td>Y     </td> <td>N     </td> <td>N     </td> <td>Y        </td> <td>Y      </td> <td>N   </td> <td>N            </td> <td>8/3/2020 3:23:12 PM  </td>\n",
              "        </tr>\n",
              "        <tr>\n",
              "            <td>1009994</td> <td>18th Street Farmer's Market                                </td> <td>nan                                      </td> <td>https://www.facebook.com/ScottsbluffFarmersMarket           </td> <td>nan     </td> <td>nan    </td> <td>nan                         </td> <td>18th and Broadway         </td> <td>Scottsbluff     </td> <td>Scotts Bluff  </td> <td>Nebraska  </td> <td>69361</td> <td>06/05/2021 to 06/05/2021</td> <td>Sat: 8:00 AM-11:00 AM;                                      </td> <td>nan                     </td> <td>nan                                                         </td> <td>nan        </td> <td>nan        </td> <td>nan        </td> <td>nan        </td> <td>-103.663</td> <td>41.8643</td> <td>nan     </td> <td>Y     </td> <td>N   </td> <td>N      </td> <td>Y    </td> <td>N   </td> <td>Y      </td> <td>Y         </td> <td>Y     </td> <td>Y     </td> <td>Y      </td> <td>Y   </td> <td>N      </td> <td>Y    </td> <td>Y         </td> <td>Y    </td> <td>Y   </td> <td>N    </td> <td>Y   </td> <td>N      </td> <td>N   </td> <td>Y     </td> <td>Y      </td> <td>Y       </td> <td>N   </td> <td>N    </td> <td>N   </td> <td>Y     </td> <td>Y    </td> <td>Y     </td> <td>N     </td> <td>N     </td> <td>N        </td> <td>N      </td> <td>N   </td> <td>N            </td> <td>2/18/2021 2:37:26 PM </td>\n",
              "        </tr>\n",
              "        <tr>\n",
              "            <td>1000709</td> <td>26th Annual Highlands Business Partnership's Farmers Market</td> <td>http://www.highlandsnj.com               </td> <td>https://www.facebook.com/pages/Highlands-Business-Partne ...</td> <td>nan     </td> <td>nan    </td> <td>visithighlandsnj - Instagram</td> <td>71 Waterwitch Avenue      </td> <td>Highlands       </td> <td>Monmouth      </td> <td>New Jersey</td> <td>07732</td> <td>06/06/2020              </td> <td>Sat: 8:30 AM-2:00 PM;                                       </td> <td>nan                     </td> <td>nan                                                         </td> <td>nan        </td> <td>nan        </td> <td>nan        </td> <td>nan        </td> <td>-73.9944</td> <td>40.4048</td> <td>nan     </td> <td>Y     </td> <td>Y   </td> <td>Y      </td> <td>Y    </td> <td>Y   </td> <td>Y      </td> <td>Y         </td> <td>Y     </td> <td>Y     </td> <td>Y      </td> <td>Y   </td> <td>N      </td> <td>Y    </td> <td>Y         </td> <td>Y    </td> <td>Y   </td> <td>N    </td> <td>N   </td> <td>N      </td> <td>Y   </td> <td>Y     </td> <td>N      </td> <td>N       </td> <td>Y   </td> <td>N    </td> <td>N   </td> <td>N     </td> <td>N    </td> <td>Y     </td> <td>N     </td> <td>Y     </td> <td>N        </td> <td>N      </td> <td>N   </td> <td>Y            </td> <td>9/10/2020 3:25:18 PM </td>\n",
              "        </tr>\n",
              "        <tr>\n",
              "            <td>1019956</td> <td>29 Palms Farmers' Market                                   </td> <td>nan                                      </td> <td>https://www.facebook.com/29palmsfarmersmarket/              </td> <td>nan     </td> <td>nan    </td> <td>IG @29palmsfarmersmarket    </td> <td>73484 Twentynine Palms Hwy</td> <td>Twentynine Palms</td> <td>San Bernardino</td> <td>California</td> <td>92277</td> <td>01/01/2020 to 01/01/2020</td> <td>Sat: 8:00 AM-1:00 PM;                                       </td> <td>nan                     </td> <td>nan                                                         </td> <td>nan        </td> <td>nan        </td> <td>nan        </td> <td>nan        </td> <td>-116.059</td> <td>34.1358</td> <td>nan     </td> <td>Y     </td> <td>N   </td> <td>N      </td> <td>N    </td> <td>N   </td> <td>Y      </td> <td>Y         </td> <td>N     </td> <td>Y     </td> <td>N      </td> <td>Y   </td> <td>N      </td> <td>Y    </td> <td>Y         </td> <td>Y    </td> <td>Y   </td> <td>N    </td> <td>N   </td> <td>N      </td> <td>Y   </td> <td>N     </td> <td>N      </td> <td>Y       </td> <td>Y   </td> <td>N    </td> <td>N   </td> <td>N     </td> <td>N    </td> <td>Y     </td> <td>N     </td> <td>Y     </td> <td>N        </td> <td>N      </td> <td>N   </td> <td>N            </td> <td>1/13/2021 5:15:12 PM </td>\n",
              "        </tr>\n",
              "        <tr>\n",
              "            <td>1009959</td> <td>2nd Street Market - Five Rivers MetroPark                  </td> <td>http://www.metroparks.org                </td> <td>https://www.facebook.com/2ndStreetMarket/                   </td> <td>nan     </td> <td>nan    </td> <td>nan                         </td> <td>600 E. 2nd Street         </td> <td>Dayton          </td> <td>Montgomery    </td> <td>Ohio      </td> <td>45402</td> <td>01/01/2018 to 05/31/2018</td> <td>Thu: 11:00 AM-3:00 PM;Fri: 11:00 AM-3:00 PM;Sat: 8:00 AM ...</td> <td>06/01/2018 to 12/31/2018</td> <td>Thu: 11:00 AM-3:00 PM;Fri: 11:00 AM-3:00 PM;Sat: 8:00 AM ...</td> <td>nan        </td> <td>nan        </td> <td>nan        </td> <td>nan        </td> <td>-84.181 </td> <td>39.7626</td> <td>nan     </td> <td>Y     </td> <td>N   </td> <td>Y      </td> <td>N    </td> <td>Y   </td> <td>Y      </td> <td>Y         </td> <td>Y     </td> <td>Y     </td> <td>Y      </td> <td>Y   </td> <td>N      </td> <td>Y    </td> <td>Y         </td> <td>Y    </td> <td>Y   </td> <td>Y    </td> <td>Y   </td> <td>N      </td> <td>Y   </td> <td>Y     </td> <td>Y      </td> <td>Y       </td> <td>Y   </td> <td>N    </td> <td>N   </td> <td>Y     </td> <td>Y    </td> <td>Y     </td> <td>Y     </td> <td>Y     </td> <td>Y        </td> <td>Y      </td> <td>N   </td> <td>Y            </td> <td>7/26/2018 4:26:56 PM </td>\n",
              "        </tr>\n",
              "        <tr>\n",
              "            <td>1004950</td> <td>3 French Hens French Country Market                        </td> <td>http://www.3frenchhensmarket.blogspot.com</td> <td>https://www.facebook.com/pages/3-French-Hens-French-Coun ...</td> <td>nan     </td> <td>nan    </td> <td>nan                         </td> <td>123 W. Illinois ave.      </td> <td>Morris          </td> <td>Grundy        </td> <td>Illinois  </td> <td>60450</td> <td>05/12/2018 to 10/13/2018</td> <td>Sat: 8:00 AM-2:00 PM;                                       </td> <td>11/09/2018 to 11/10/2018</td> <td>Fri: 4:00 PM-10:00 PM;Sat: 10:00 AM-3:00 PM;                </td> <td>nan        </td> <td>nan        </td> <td>nan        </td> <td>nan        </td> <td>-88.4252</td> <td>41.3564</td> <td>nan     </td> <td>Y     </td> <td>N   </td> <td>N      </td> <td>N    </td> <td>N   </td> <td>Y      </td> <td>Y         </td> <td>Y     </td> <td>Y     </td> <td>Y      </td> <td>Y   </td> <td>N      </td> <td>Y    </td> <td>Y         </td> <td>Y    </td> <td>Y   </td> <td>Y    </td> <td>Y   </td> <td>N      </td> <td>N   </td> <td>Y     </td> <td>Y      </td> <td>Y       </td> <td>Y   </td> <td>Y    </td> <td>N   </td> <td>Y     </td> <td>Y    </td> <td>Y     </td> <td>N     </td> <td>N     </td> <td>N        </td> <td>Y      </td> <td>N   </td> <td>N            </td> <td>7/26/2018 4:22:44 PM </td>\n",
              "        </tr>\n",
              "        <tr>\n",
              "            <td>1019938</td> <td>3rd Day Farmer's Market                                    </td> <td>http://www.3rddayfarm.com                </td> <td>facebook/ 3rd Day Farm                                      </td> <td>nan     </td> <td>nan    </td> <td>nan                         </td> <td>3234 S. LaChance Rd       </td> <td>Lake City       </td> <td>Missaukee     </td> <td>Michigan  </td> <td>49651</td> <td>nan                     </td> <td>Tue: 10:00 AM-5:00 PM;Wed: 10:00 AM-5:00 PM;Thu: 10:00 A ...</td> <td>nan                     </td> <td>nan                                                         </td> <td>nan        </td> <td>nan        </td> <td>nan        </td> <td>nan        </td> <td>-85.2961</td> <td>44.293 </td> <td>nan     </td> <td>Y     </td> <td>Y   </td> <td>Y      </td> <td>Y    </td> <td>Y   </td> <td>N      </td> <td>Y         </td> <td>Y     </td> <td>Y     </td> <td>Y      </td> <td>Y   </td> <td>N      </td> <td>Y    </td> <td>Y         </td> <td>Y    </td> <td>Y   </td> <td>Y    </td> <td>Y   </td> <td>N      </td> <td>N   </td> <td>Y     </td> <td>Y      </td> <td>N       </td> <td>Y   </td> <td>Y    </td> <td>N   </td> <td>N     </td> <td>N    </td> <td>Y     </td> <td>N     </td> <td>N     </td> <td>Y        </td> <td>N      </td> <td>N   </td> <td>Y            </td> <td>6/25/2020 11:53:13 AM</td>\n",
              "        </tr>\n",
              "        <tr>\n",
              "            <td>1021607</td> <td>4 Veggies & 3 Fruits Farmer’s Market                       </td> <td>nan                                      </td> <td>nan                                                         </td> <td>nan     </td> <td>nan    </td> <td>nan                         </td> <td>140 W 62nd Street         </td> <td>Chicago         </td> <td>Cook          </td> <td>Illinois  </td> <td>60621</td> <td>01/01/2021 to 01/01/2021</td> <td>Wed: 3:00 PM-8:00 PM;Sun: 9:00 AM-8:00 PM;                  </td> <td>nan                     </td> <td>nan                                                         </td> <td>nan        </td> <td>nan        </td> <td>nan        </td> <td>nan        </td> <td>-87.6296</td> <td>41.7819</td> <td>nan     </td> <td>Y     </td> <td>N   </td> <td>N      </td> <td>N    </td> <td>Y   </td> <td>N      </td> <td>N         </td> <td>N     </td> <td>Y     </td> <td>N      </td> <td>N   </td> <td>N      </td> <td>Y    </td> <td>N         </td> <td>Y    </td> <td>N   </td> <td>N    </td> <td>Y   </td> <td>N      </td> <td>Y   </td> <td>N     </td> <td>N      </td> <td>N       </td> <td>Y   </td> <td>N    </td> <td>N   </td> <td>Y     </td> <td>N    </td> <td>N     </td> <td>N     </td> <td>N     </td> <td>N        </td> <td>N      </td> <td>N   </td> <td>N            </td> <td>8/24/2021 6:09:09 AM </td>\n",
              "        </tr>\n",
              "        <tr>\n",
              "            <td>1018965</td> <td>61st Street Farmers Market                                 </td> <td>https://experimentalstation.org/market   </td> <td>61market                                                    </td> <td>61market</td> <td>nan    </td> <td>Instagram:                  </td> <td>6100 S. Blackstone Ave    </td> <td>Chicago         </td> <td>Cook          </td> <td>Illinois  </td> <td>60637</td> <td>05/12/2018 to 12/15/2018</td> <td>Sat: 9:00 AM-2:00 PM;                                       </td> <td>nan                     </td> <td>nan                                                         </td> <td>nan        </td> <td>nan        </td> <td>nan        </td> <td>nan        </td> <td>-87.5906</td> <td>41.7841</td> <td>nan     </td> <td>Y     </td> <td>N   </td> <td>N      </td> <td>N    </td> <td>Y   </td> <td>-      </td> <td>Y         </td> <td>Y     </td> <td>N     </td> <td>Y      </td> <td>Y   </td> <td>Y      </td> <td>Y    </td> <td>Y         </td> <td>Y    </td> <td>Y   </td> <td>Y    </td> <td>N   </td> <td>N      </td> <td>Y   </td> <td>N     </td> <td>N      </td> <td>Y       </td> <td>Y   </td> <td>N    </td> <td>N   </td> <td>Y     </td> <td>N    </td> <td>Y     </td> <td>N     </td> <td>Y     </td> <td>Y        </td> <td>N      </td> <td>N   </td> <td>N            </td> <td>2/23/2018 4:18:31 PM </td>\n",
              "        </tr>\n",
              "        <tr>\n",
              "            <td>1009004</td> <td>A Growers' Market                                          </td> <td>nan                                      </td> <td>nan                                                         </td> <td>nan     </td> <td>nan    </td> <td>nan                         </td> <td>229 Lake Ella Drive       </td> <td>Tallahassee     </td> <td>Leon          </td> <td>Florida   </td> <td>32303</td> <td>01/01/2018 to 12/31/2018</td> <td>Wed: 12:00 PM-6:00 PM;Sat: 11:00 AM-3:00 PM;                </td> <td>nan                     </td> <td>nan                                                         </td> <td>nan        </td> <td>nan        </td> <td>nan        </td> <td>nan        </td> <td>-84.2799</td> <td>30.462 </td> <td>nan     </td> <td>Y     </td> <td>Y   </td> <td>N      </td> <td>Y    </td> <td>Y   </td> <td>N      </td> <td>Y         </td> <td>Y     </td> <td>N     </td> <td>Y      </td> <td>Y   </td> <td>N      </td> <td>Y    </td> <td>Y         </td> <td>Y    </td> <td>Y   </td> <td>N    </td> <td>N   </td> <td>N      </td> <td>N   </td> <td>N     </td> <td>N      </td> <td>Y       </td> <td>Y   </td> <td>N    </td> <td>N   </td> <td>N     </td> <td>N    </td> <td>Y     </td> <td>N     </td> <td>N     </td> <td>Y        </td> <td>N      </td> <td>N   </td> <td>N            </td> <td>7/29/2018 12:47:57 PM</td>\n",
              "        </tr>\n",
              "    </tbody>\n",
              "</table>\n",
              "<p>... (1671 rows omitted)</p>"
            ],
            "text/plain": [
              "<IPython.core.display.HTML object>"
            ]
          },
          "metadata": {},
          "output_type": "display_data"
        },
        {
          "data": {
            "text/plain": [
              "NoneType"
            ]
          },
          "execution_count": 46,
          "metadata": {},
          "output_type": "execute_result"
        }
      ],
      "source": [
        "type(farmers_markets.show(10))"
      ]
    },
    {
      "cell_type": "markdown",
      "metadata": {
        "id": "52M1ws-dBNtt"
      },
      "source": [
        "In other words, running `farmers_markets` and `farmers_markets.show(10)` **do not do the same thing!**"
      ]
    },
    {
      "cell_type": "markdown",
      "metadata": {
        "id": "xQqrvv6dBNtt"
      },
      "source": [
        "---"
      ]
    },
    {
      "cell_type": "markdown",
      "metadata": {
        "id": "BQsxkJD7BNtt"
      },
      "source": [
        "#### Task 01 📍🔎"
      ]
    },
    {
      "cell_type": "markdown",
      "metadata": {
        "id": "_jxDC7PoBNtt"
      },
      "source": [
        "Use the method `show` to display the first 5 rows of `farmers_markets`.\n",
        "\n",
        "Make sure to check your visualization with a classmate, a tutor, or the instructor before moving on since there is no auto-grader for this lab task.\n",
        "\n",
        "**Important Note:** Be careful to not to call `.show()` without an argument. There is a lot of information in the farmers market table and showing it all will crash your kernel!"
      ]
    },
    {
      "cell_type": "markdown",
      "metadata": {
        "deletable": false,
        "editable": false,
        "id": "xfDU7XzJBNtu"
      },
      "source": [
        "<!-- BEGIN QUESTION -->\n",
        "\n"
      ]
    },
    {
      "cell_type": "code",
      "execution_count": null,
      "metadata": {
        "tags": [],
        "id": "b9bydKjeBNtu",
        "outputId": "2f6bfb05-6548-483a-e609-42e8c63c54aa"
      },
      "outputs": [
        {
          "data": {
            "text/html": [
              "<table border=\"1\" class=\"dataframe\">\n",
              "    <thead>\n",
              "        <tr>\n",
              "            <th>FMID</th> <th>MarketName</th> <th>Website</th> <th>Facebook</th> <th>Twitter</th> <th>Youtube</th> <th>OtherMedia</th> <th>street</th> <th>city</th> <th>County</th> <th>State</th> <th>zip</th> <th>Season1Date</th> <th>Season1Time</th> <th>Season2Date</th> <th>Season2Time</th> <th>Season3Date</th> <th>Season3Time</th> <th>Season4Date</th> <th>Season4Time</th> <th>x</th> <th>y</th> <th>Location</th> <th>Credit</th> <th>WIC</th> <th>WICcash</th> <th>SFMNP</th> <th>SNAP</th> <th>Organic</th> <th>Bakedgoods</th> <th>Cheese</th> <th>Crafts</th> <th>Flowers</th> <th>Eggs</th> <th>Seafood</th> <th>Herbs</th> <th>Vegetables</th> <th>Honey</th> <th>Jams</th> <th>Maple</th> <th>Meat</th> <th>Nursery</th> <th>Nuts</th> <th>Plants</th> <th>Poultry</th> <th>Prepared</th> <th>Soap</th> <th>Trees</th> <th>Wine</th> <th>Coffee</th> <th>Beans</th> <th>Fruits</th> <th>Grains</th> <th>Juices</th> <th>Mushrooms</th> <th>PetFood</th> <th>Tofu</th> <th>WildHarvested</th> <th>updateTime</th>\n",
              "        </tr>\n",
              "    </thead>\n",
              "    <tbody>\n",
              "        <tr>\n",
              "            <td>1018261</td> <td> Caledonia Farmers Market Association - Danville           </td> <td>https://www.caledoniafarmersmarket.com</td> <td>https://www.facebook.com/Danville.VT.Farmers.Market/        </td> <td>nan    </td> <td>nan    </td> <td>nan                         </td> <td>nan                       </td> <td>Danville        </td> <td>Caledonia     </td> <td>Vermont   </td> <td>05828</td> <td>06/10/2020 to 10/07/2020</td> <td>Wed: 9:00 AM-1:00 PM;                                       </td> <td>nan                     </td> <td>nan                                                         </td> <td>nan        </td> <td>nan        </td> <td>nan        </td> <td>nan        </td> <td>-72.1403</td> <td>44.411 </td> <td>nan     </td> <td>Y     </td> <td>Y   </td> <td>N      </td> <td>Y    </td> <td>N   </td> <td>Y      </td> <td>Y         </td> <td>Y     </td> <td>Y     </td> <td>Y      </td> <td>Y   </td> <td>N      </td> <td>Y    </td> <td>Y         </td> <td>Y    </td> <td>Y   </td> <td>Y    </td> <td>Y   </td> <td>N      </td> <td>N   </td> <td>N     </td> <td>Y      </td> <td>Y       </td> <td>Y   </td> <td>Y    </td> <td>N   </td> <td>Y     </td> <td>Y    </td> <td>Y     </td> <td>N     </td> <td>N     </td> <td>Y        </td> <td>Y      </td> <td>N   </td> <td>N            </td> <td>8/3/2020 3:23:12 PM </td>\n",
              "        </tr>\n",
              "        <tr>\n",
              "            <td>1009994</td> <td>18th Street Farmer's Market                                </td> <td>nan                                   </td> <td>https://www.facebook.com/ScottsbluffFarmersMarket           </td> <td>nan    </td> <td>nan    </td> <td>nan                         </td> <td>18th and Broadway         </td> <td>Scottsbluff     </td> <td>Scotts Bluff  </td> <td>Nebraska  </td> <td>69361</td> <td>06/05/2021 to 06/05/2021</td> <td>Sat: 8:00 AM-11:00 AM;                                      </td> <td>nan                     </td> <td>nan                                                         </td> <td>nan        </td> <td>nan        </td> <td>nan        </td> <td>nan        </td> <td>-103.663</td> <td>41.8643</td> <td>nan     </td> <td>Y     </td> <td>N   </td> <td>N      </td> <td>Y    </td> <td>N   </td> <td>Y      </td> <td>Y         </td> <td>Y     </td> <td>Y     </td> <td>Y      </td> <td>Y   </td> <td>N      </td> <td>Y    </td> <td>Y         </td> <td>Y    </td> <td>Y   </td> <td>N    </td> <td>Y   </td> <td>N      </td> <td>N   </td> <td>Y     </td> <td>Y      </td> <td>Y       </td> <td>N   </td> <td>N    </td> <td>N   </td> <td>Y     </td> <td>Y    </td> <td>Y     </td> <td>N     </td> <td>N     </td> <td>N        </td> <td>N      </td> <td>N   </td> <td>N            </td> <td>2/18/2021 2:37:26 PM</td>\n",
              "        </tr>\n",
              "        <tr>\n",
              "            <td>1000709</td> <td>26th Annual Highlands Business Partnership's Farmers Market</td> <td>http://www.highlandsnj.com            </td> <td>https://www.facebook.com/pages/Highlands-Business-Partne ...</td> <td>nan    </td> <td>nan    </td> <td>visithighlandsnj - Instagram</td> <td>71 Waterwitch Avenue      </td> <td>Highlands       </td> <td>Monmouth      </td> <td>New Jersey</td> <td>07732</td> <td>06/06/2020              </td> <td>Sat: 8:30 AM-2:00 PM;                                       </td> <td>nan                     </td> <td>nan                                                         </td> <td>nan        </td> <td>nan        </td> <td>nan        </td> <td>nan        </td> <td>-73.9944</td> <td>40.4048</td> <td>nan     </td> <td>Y     </td> <td>Y   </td> <td>Y      </td> <td>Y    </td> <td>Y   </td> <td>Y      </td> <td>Y         </td> <td>Y     </td> <td>Y     </td> <td>Y      </td> <td>Y   </td> <td>N      </td> <td>Y    </td> <td>Y         </td> <td>Y    </td> <td>Y   </td> <td>N    </td> <td>N   </td> <td>N      </td> <td>Y   </td> <td>Y     </td> <td>N      </td> <td>N       </td> <td>Y   </td> <td>N    </td> <td>N   </td> <td>N     </td> <td>N    </td> <td>Y     </td> <td>N     </td> <td>Y     </td> <td>N        </td> <td>N      </td> <td>N   </td> <td>Y            </td> <td>9/10/2020 3:25:18 PM</td>\n",
              "        </tr>\n",
              "        <tr>\n",
              "            <td>1019956</td> <td>29 Palms Farmers' Market                                   </td> <td>nan                                   </td> <td>https://www.facebook.com/29palmsfarmersmarket/              </td> <td>nan    </td> <td>nan    </td> <td>IG @29palmsfarmersmarket    </td> <td>73484 Twentynine Palms Hwy</td> <td>Twentynine Palms</td> <td>San Bernardino</td> <td>California</td> <td>92277</td> <td>01/01/2020 to 01/01/2020</td> <td>Sat: 8:00 AM-1:00 PM;                                       </td> <td>nan                     </td> <td>nan                                                         </td> <td>nan        </td> <td>nan        </td> <td>nan        </td> <td>nan        </td> <td>-116.059</td> <td>34.1358</td> <td>nan     </td> <td>Y     </td> <td>N   </td> <td>N      </td> <td>N    </td> <td>N   </td> <td>Y      </td> <td>Y         </td> <td>N     </td> <td>Y     </td> <td>N      </td> <td>Y   </td> <td>N      </td> <td>Y    </td> <td>Y         </td> <td>Y    </td> <td>Y   </td> <td>N    </td> <td>N   </td> <td>N      </td> <td>Y   </td> <td>N     </td> <td>N      </td> <td>Y       </td> <td>Y   </td> <td>N    </td> <td>N   </td> <td>N     </td> <td>N    </td> <td>Y     </td> <td>N     </td> <td>Y     </td> <td>N        </td> <td>N      </td> <td>N   </td> <td>N            </td> <td>1/13/2021 5:15:12 PM</td>\n",
              "        </tr>\n",
              "        <tr>\n",
              "            <td>1009959</td> <td>2nd Street Market - Five Rivers MetroPark                  </td> <td>http://www.metroparks.org             </td> <td>https://www.facebook.com/2ndStreetMarket/                   </td> <td>nan    </td> <td>nan    </td> <td>nan                         </td> <td>600 E. 2nd Street         </td> <td>Dayton          </td> <td>Montgomery    </td> <td>Ohio      </td> <td>45402</td> <td>01/01/2018 to 05/31/2018</td> <td>Thu: 11:00 AM-3:00 PM;Fri: 11:00 AM-3:00 PM;Sat: 8:00 AM ...</td> <td>06/01/2018 to 12/31/2018</td> <td>Thu: 11:00 AM-3:00 PM;Fri: 11:00 AM-3:00 PM;Sat: 8:00 AM ...</td> <td>nan        </td> <td>nan        </td> <td>nan        </td> <td>nan        </td> <td>-84.181 </td> <td>39.7626</td> <td>nan     </td> <td>Y     </td> <td>N   </td> <td>Y      </td> <td>N    </td> <td>Y   </td> <td>Y      </td> <td>Y         </td> <td>Y     </td> <td>Y     </td> <td>Y      </td> <td>Y   </td> <td>N      </td> <td>Y    </td> <td>Y         </td> <td>Y    </td> <td>Y   </td> <td>Y    </td> <td>Y   </td> <td>N      </td> <td>Y   </td> <td>Y     </td> <td>Y      </td> <td>Y       </td> <td>Y   </td> <td>N    </td> <td>N   </td> <td>Y     </td> <td>Y    </td> <td>Y     </td> <td>Y     </td> <td>Y     </td> <td>Y        </td> <td>Y      </td> <td>N   </td> <td>Y            </td> <td>7/26/2018 4:26:56 PM</td>\n",
              "        </tr>\n",
              "    </tbody>\n",
              "</table>\n",
              "<p>... (1676 rows omitted)</p>"
            ],
            "text/plain": [
              "<IPython.core.display.HTML object>"
            ]
          },
          "metadata": {},
          "output_type": "display_data"
        }
      ],
      "source": [
        "farmers_markets.show(5)"
      ]
    },
    {
      "cell_type": "markdown",
      "metadata": {
        "deletable": false,
        "editable": false,
        "id": "yfD_sRWWBNtu"
      },
      "source": [
        "<!-- END QUESTION -->\n",
        "\n",
        "Notice that some of the values in this table are missing, as denoted by `nan`. This means either that the value is not available (e.g. if we don’t know the market’s street address) or not applicable (e.g. if the market doesn’t have a street address). You'll also notice that the table has a large number of columns in it!"
      ]
    },
    {
      "cell_type": "markdown",
      "metadata": {
        "id": "yO_bssi0BNtv"
      },
      "source": [
        "---"
      ]
    },
    {
      "cell_type": "markdown",
      "metadata": {
        "id": "aHA9paVvBNtv"
      },
      "source": [
        "### `num_columns`"
      ]
    },
    {
      "cell_type": "markdown",
      "metadata": {
        "id": "mwDgieMMBNtv"
      },
      "source": [
        "The table attribute `num_columns` returns the number of columns in a table. Running `tbl.num_columns` would provide you with the number of columns in the table `tbl`. Notice that `num_columns` is not a function, so you don't use `()` at the end. Think of `num_columns` as a variable name with specific stored information about the table."
      ]
    },
    {
      "cell_type": "markdown",
      "metadata": {
        "id": "NnWJBMk3BNtv"
      },
      "source": [
        "---"
      ]
    },
    {
      "cell_type": "markdown",
      "metadata": {
        "id": "Pu9lOtm0BNtv"
      },
      "source": [
        "#### Task 02 📍"
      ]
    },
    {
      "cell_type": "markdown",
      "metadata": {
        "id": "a_zfwKyIBNtw"
      },
      "source": [
        "Use `num_columns` to find the number of columns in our farmers' markets dataset.\n",
        "\n",
        "Assign the number of columns to `num_farmers_markets_columns`."
      ]
    },
    {
      "cell_type": "code",
      "execution_count": null,
      "metadata": {
        "tags": [],
        "id": "bw2IyaACBNtw",
        "outputId": "3408421b-17cb-489a-fe91-3dfb3953bd74"
      },
      "outputs": [
        {
          "name": "stdout",
          "output_type": "stream",
          "text": [
            "The table has 59 columns in it!\n"
          ]
        }
      ],
      "source": [
        "num_farmers_markets_columns = farmers_markets.num_columns\n",
        "print(\"The table has\", num_farmers_markets_columns, \"columns in it!\")"
      ]
    },
    {
      "cell_type": "code",
      "execution_count": null,
      "metadata": {
        "deletable": false,
        "editable": false,
        "id": "9vQY6CHIBNtx",
        "outputId": "904e015c-aa11-4c67-96a1-ab34693ab34a"
      },
      "outputs": [
        {
          "data": {
            "text/html": [
              "<p><strong><pre style='display: inline;'>task_02</pre></strong> passed! 🌈</p><p><strong><pre style='display: inline;'>task_02 - 1</pre> message:</strong> ✅ Great work!</p>"
            ],
            "text/plain": [
              "task_02 results: All test cases passed!\n",
              "task_02 - 1 message: ✅ Great work!"
            ]
          },
          "execution_count": 49,
          "metadata": {},
          "output_type": "execute_result"
        }
      ],
      "source": [
        "grader.check(\"task_02\")"
      ]
    },
    {
      "cell_type": "markdown",
      "metadata": {
        "id": "sqJvDuBJBNtx"
      },
      "source": [
        "---"
      ]
    },
    {
      "cell_type": "markdown",
      "metadata": {
        "id": "K6zgCNUQBNtx"
      },
      "source": [
        "### `num_rows`"
      ]
    },
    {
      "cell_type": "markdown",
      "metadata": {
        "id": "URWI2yy-BNty"
      },
      "source": [
        "Similarly, the attribute `num_rows` tells you how many rows are in a table. Run the following cell to see how that table property can be accessed."
      ]
    },
    {
      "cell_type": "code",
      "execution_count": null,
      "metadata": {
        "id": "FjagfiqOBNty",
        "outputId": "08c48766-6bca-41bb-9f8f-241b7ff2cac2"
      },
      "outputs": [
        {
          "name": "stdout",
          "output_type": "stream",
          "text": [
            "The table has 1681 rows in it!\n"
          ]
        }
      ],
      "source": [
        "num_farmers_markets_rows = farmers_markets.num_rows\n",
        "print(\"The table has\", num_farmers_markets_rows, \"rows in it!\")"
      ]
    },
    {
      "cell_type": "markdown",
      "metadata": {
        "id": "dS5u5-RbBNty"
      },
      "source": [
        "---"
      ]
    },
    {
      "cell_type": "markdown",
      "metadata": {
        "id": "Xj0f_AehBNty"
      },
      "source": [
        "### `select` and `drop`"
      ]
    },
    {
      "cell_type": "markdown",
      "metadata": {
        "id": "1TBWTh81BNtz"
      },
      "source": [
        "Most of the columns in `farmers_markets` are about particular products -- whether the market sells tofu, pet food, etc.  If we're not interested in that information, it just makes the table difficult to read and potentially slows down the computer if we work with the table. This comes up more than you might think, because people who collect and publish data may not know ahead of time what people will want to do with it.\n",
        "\n",
        "In such situations, we can use the table method `select` to choose only the columns that we want in a particular table. It takes any number of arguments. Each should be the name of a column in the table. It returns a new table with only those columns in it. The columns are in the order *in which they were listed as arguments*.\n",
        "\n",
        "For example, the value of `farmers_markets.select(\"MarketName\", \"State\")` is a table with only the name and the state of each farmers' market in `farmers_markets`."
      ]
    },
    {
      "cell_type": "markdown",
      "metadata": {
        "id": "ucteSyzwBNtz"
      },
      "source": [
        "---"
      ]
    },
    {
      "cell_type": "markdown",
      "metadata": {
        "id": "2SiVkRSXBNtz"
      },
      "source": [
        "#### Task 03 📍"
      ]
    },
    {
      "cell_type": "markdown",
      "metadata": {
        "id": "F0IYSdDPBNtz"
      },
      "source": [
        "Use `select` to create a table with only the name, city, county, state, longitude (`x`), and latitude (`y`) of each market, in that order. Assign that new table to the name `farmers_markets_locations`.\n",
        "\n",
        "**Note:** We didn't create the column names (and their format), they come directly from the United States Department of Agriculture data resource. Make sure to be exact when using column names with `select`. Double-check capitalization! Also, in this task, the order of the columns matters."
      ]
    },
    {
      "cell_type": "code",
      "execution_count": null,
      "metadata": {
        "tags": [],
        "id": "6q7LqzIsBNtz",
        "outputId": "603786fe-5b31-46f5-b04d-6ca20e953c51"
      },
      "outputs": [
        {
          "data": {
            "text/html": [
              "<table border=\"1\" class=\"dataframe\">\n",
              "    <thead>\n",
              "        <tr>\n",
              "            <th>MarketName</th> <th>city</th> <th>County</th> <th>State</th> <th>x</th> <th>y</th>\n",
              "        </tr>\n",
              "    </thead>\n",
              "    <tbody>\n",
              "        <tr>\n",
              "            <td> Caledonia Farmers Market Association - Danville           </td> <td>Danville        </td> <td>Caledonia     </td> <td>Vermont   </td> <td>-72.1403</td> <td>44.411 </td>\n",
              "        </tr>\n",
              "        <tr>\n",
              "            <td>18th Street Farmer's Market                                </td> <td>Scottsbluff     </td> <td>Scotts Bluff  </td> <td>Nebraska  </td> <td>-103.663</td> <td>41.8643</td>\n",
              "        </tr>\n",
              "        <tr>\n",
              "            <td>26th Annual Highlands Business Partnership's Farmers Market</td> <td>Highlands       </td> <td>Monmouth      </td> <td>New Jersey</td> <td>-73.9944</td> <td>40.4048</td>\n",
              "        </tr>\n",
              "        <tr>\n",
              "            <td>29 Palms Farmers' Market                                   </td> <td>Twentynine Palms</td> <td>San Bernardino</td> <td>California</td> <td>-116.059</td> <td>34.1358</td>\n",
              "        </tr>\n",
              "        <tr>\n",
              "            <td>2nd Street Market - Five Rivers MetroPark                  </td> <td>Dayton          </td> <td>Montgomery    </td> <td>Ohio      </td> <td>-84.181 </td> <td>39.7626</td>\n",
              "        </tr>\n",
              "        <tr>\n",
              "            <td>3 French Hens French Country Market                        </td> <td>Morris          </td> <td>Grundy        </td> <td>Illinois  </td> <td>-88.4252</td> <td>41.3564</td>\n",
              "        </tr>\n",
              "        <tr>\n",
              "            <td>3rd Day Farmer's Market                                    </td> <td>Lake City       </td> <td>Missaukee     </td> <td>Michigan  </td> <td>-85.2961</td> <td>44.293 </td>\n",
              "        </tr>\n",
              "        <tr>\n",
              "            <td>4 Veggies & 3 Fruits Farmer’s Market                       </td> <td>Chicago         </td> <td>Cook          </td> <td>Illinois  </td> <td>-87.6296</td> <td>41.7819</td>\n",
              "        </tr>\n",
              "        <tr>\n",
              "            <td>61st Street Farmers Market                                 </td> <td>Chicago         </td> <td>Cook          </td> <td>Illinois  </td> <td>-87.5906</td> <td>41.7841</td>\n",
              "        </tr>\n",
              "        <tr>\n",
              "            <td>A Growers' Market                                          </td> <td>Tallahassee     </td> <td>Leon          </td> <td>Florida   </td> <td>-84.2799</td> <td>30.462 </td>\n",
              "        </tr>\n",
              "    </tbody>\n",
              "</table>\n",
              "<p>... (1671 rows omitted)</p>"
            ],
            "text/plain": [
              "MarketName                                                  | city             | County         | State      | x        | y\n",
              " Caledonia Farmers Market Association - Danville            | Danville         | Caledonia      | Vermont    | -72.1403 | 44.411\n",
              "18th Street Farmer's Market                                 | Scottsbluff      | Scotts Bluff   | Nebraska   | -103.663 | 41.8643\n",
              "26th Annual Highlands Business Partnership's Farmers Market | Highlands        | Monmouth       | New Jersey | -73.9944 | 40.4048\n",
              "29 Palms Farmers' Market                                    | Twentynine Palms | San Bernardino | California | -116.059 | 34.1358\n",
              "2nd Street Market - Five Rivers MetroPark                   | Dayton           | Montgomery     | Ohio       | -84.181  | 39.7626\n",
              "3 French Hens French Country Market                         | Morris           | Grundy         | Illinois   | -88.4252 | 41.3564\n",
              "3rd Day Farmer's Market                                     | Lake City        | Missaukee      | Michigan   | -85.2961 | 44.293\n",
              "4 Veggies & 3 Fruits Farmer’s Market                        | Chicago          | Cook           | Illinois   | -87.6296 | 41.7819\n",
              "61st Street Farmers Market                                  | Chicago          | Cook           | Illinois   | -87.5906 | 41.7841\n",
              "A Growers' Market                                           | Tallahassee      | Leon           | Florida    | -84.2799 | 30.462\n",
              "... (1671 rows omitted)"
            ]
          },
          "execution_count": 51,
          "metadata": {},
          "output_type": "execute_result"
        }
      ],
      "source": [
        "farmers_markets_locations = farmers_markets.select('MarketName', 'city', 'County', 'State', 'x','y')\n",
        "farmers_markets_locations"
      ]
    },
    {
      "cell_type": "code",
      "execution_count": null,
      "metadata": {
        "deletable": false,
        "editable": false,
        "id": "94ibFM_wBNt0",
        "outputId": "9ca8fe1a-dcb7-4270-86dc-c7d2a3f0193a"
      },
      "outputs": [
        {
          "data": {
            "text/html": [
              "<p><strong><pre style='display: inline;'>task_03</pre></strong> passed! 🍀</p><p><strong><pre style='display: inline;'>task_03 - 1</pre> message:</strong> ✅ Great work. It seems you have the correct columns!</p><p><strong><pre style='display: inline;'>task_03 - 2</pre> message:</strong> ✅ Your table seems to have the correct information.</p>"
            ],
            "text/plain": [
              "task_03 results: All test cases passed!\n",
              "task_03 - 1 message: ✅ Great work. It seems you have the correct columns!\n",
              "task_03 - 2 message: ✅ Your table seems to have the correct information."
            ]
          },
          "execution_count": 52,
          "metadata": {},
          "output_type": "execute_result"
        }
      ],
      "source": [
        "grader.check(\"task_03\")"
      ]
    },
    {
      "cell_type": "markdown",
      "metadata": {
        "id": "XREqd_2FBNt0"
      },
      "source": [
        "---"
      ]
    },
    {
      "cell_type": "markdown",
      "metadata": {
        "id": "c6QqlcjFBNt0"
      },
      "source": [
        "### `drop`"
      ]
    },
    {
      "cell_type": "markdown",
      "metadata": {
        "id": "3cmBvljYBNt1"
      },
      "source": [
        "`drop` serves the similar purpose as `select`, but it takes away the columns that you provide rather than the ones that you don't provide. Like `select`, `drop` returns a new table.\n",
        "\n",
        "For example, the following code would create a copy of the `farmers_markets` table without the `FMID` and `updateTime` columns."
      ]
    },
    {
      "cell_type": "code",
      "execution_count": null,
      "metadata": {
        "scrolled": true,
        "id": "8Wv2OONkBNt1",
        "outputId": "a0f5c599-25a4-45d1-c69a-cf1b06080b93"
      },
      "outputs": [
        {
          "data": {
            "text/html": [
              "<table border=\"1\" class=\"dataframe\">\n",
              "    <thead>\n",
              "        <tr>\n",
              "            <th>MarketName</th> <th>Website</th> <th>Facebook</th> <th>Twitter</th> <th>Youtube</th> <th>OtherMedia</th> <th>street</th> <th>city</th> <th>County</th> <th>State</th> <th>zip</th> <th>Season1Date</th> <th>Season1Time</th> <th>Season2Date</th> <th>Season2Time</th> <th>Season3Date</th> <th>Season3Time</th> <th>Season4Date</th> <th>Season4Time</th> <th>x</th> <th>y</th> <th>Location</th> <th>Credit</th> <th>WIC</th> <th>WICcash</th> <th>SFMNP</th> <th>SNAP</th> <th>Organic</th> <th>Bakedgoods</th> <th>Cheese</th> <th>Crafts</th> <th>Flowers</th> <th>Eggs</th> <th>Seafood</th> <th>Herbs</th> <th>Vegetables</th> <th>Honey</th> <th>Jams</th> <th>Maple</th> <th>Meat</th> <th>Nursery</th> <th>Nuts</th> <th>Plants</th> <th>Poultry</th> <th>Prepared</th> <th>Soap</th> <th>Trees</th> <th>Wine</th> <th>Coffee</th> <th>Beans</th> <th>Fruits</th> <th>Grains</th> <th>Juices</th> <th>Mushrooms</th> <th>PetFood</th> <th>Tofu</th> <th>WildHarvested</th>\n",
              "        </tr>\n",
              "    </thead>\n",
              "    <tbody>\n",
              "        <tr>\n",
              "            <td> Caledonia Farmers Market Association - Danville           </td> <td>https://www.caledoniafarmersmarket.com   </td> <td>https://www.facebook.com/Danville.VT.Farmers.Market/        </td> <td>nan     </td> <td>nan    </td> <td>nan                         </td> <td>nan                       </td> <td>Danville        </td> <td>Caledonia     </td> <td>Vermont   </td> <td>05828</td> <td>06/10/2020 to 10/07/2020</td> <td>Wed: 9:00 AM-1:00 PM;                                       </td> <td>nan                     </td> <td>nan                                                         </td> <td>nan        </td> <td>nan        </td> <td>nan        </td> <td>nan        </td> <td>-72.1403</td> <td>44.411 </td> <td>nan     </td> <td>Y     </td> <td>Y   </td> <td>N      </td> <td>Y    </td> <td>N   </td> <td>Y      </td> <td>Y         </td> <td>Y     </td> <td>Y     </td> <td>Y      </td> <td>Y   </td> <td>N      </td> <td>Y    </td> <td>Y         </td> <td>Y    </td> <td>Y   </td> <td>Y    </td> <td>Y   </td> <td>N      </td> <td>N   </td> <td>N     </td> <td>Y      </td> <td>Y       </td> <td>Y   </td> <td>Y    </td> <td>N   </td> <td>Y     </td> <td>Y    </td> <td>Y     </td> <td>N     </td> <td>N     </td> <td>Y        </td> <td>Y      </td> <td>N   </td> <td>N            </td>\n",
              "        </tr>\n",
              "        <tr>\n",
              "            <td>18th Street Farmer's Market                                </td> <td>nan                                      </td> <td>https://www.facebook.com/ScottsbluffFarmersMarket           </td> <td>nan     </td> <td>nan    </td> <td>nan                         </td> <td>18th and Broadway         </td> <td>Scottsbluff     </td> <td>Scotts Bluff  </td> <td>Nebraska  </td> <td>69361</td> <td>06/05/2021 to 06/05/2021</td> <td>Sat: 8:00 AM-11:00 AM;                                      </td> <td>nan                     </td> <td>nan                                                         </td> <td>nan        </td> <td>nan        </td> <td>nan        </td> <td>nan        </td> <td>-103.663</td> <td>41.8643</td> <td>nan     </td> <td>Y     </td> <td>N   </td> <td>N      </td> <td>Y    </td> <td>N   </td> <td>Y      </td> <td>Y         </td> <td>Y     </td> <td>Y     </td> <td>Y      </td> <td>Y   </td> <td>N      </td> <td>Y    </td> <td>Y         </td> <td>Y    </td> <td>Y   </td> <td>N    </td> <td>Y   </td> <td>N      </td> <td>N   </td> <td>Y     </td> <td>Y      </td> <td>Y       </td> <td>N   </td> <td>N    </td> <td>N   </td> <td>Y     </td> <td>Y    </td> <td>Y     </td> <td>N     </td> <td>N     </td> <td>N        </td> <td>N      </td> <td>N   </td> <td>N            </td>\n",
              "        </tr>\n",
              "        <tr>\n",
              "            <td>26th Annual Highlands Business Partnership's Farmers Market</td> <td>http://www.highlandsnj.com               </td> <td>https://www.facebook.com/pages/Highlands-Business-Partne ...</td> <td>nan     </td> <td>nan    </td> <td>visithighlandsnj - Instagram</td> <td>71 Waterwitch Avenue      </td> <td>Highlands       </td> <td>Monmouth      </td> <td>New Jersey</td> <td>07732</td> <td>06/06/2020              </td> <td>Sat: 8:30 AM-2:00 PM;                                       </td> <td>nan                     </td> <td>nan                                                         </td> <td>nan        </td> <td>nan        </td> <td>nan        </td> <td>nan        </td> <td>-73.9944</td> <td>40.4048</td> <td>nan     </td> <td>Y     </td> <td>Y   </td> <td>Y      </td> <td>Y    </td> <td>Y   </td> <td>Y      </td> <td>Y         </td> <td>Y     </td> <td>Y     </td> <td>Y      </td> <td>Y   </td> <td>N      </td> <td>Y    </td> <td>Y         </td> <td>Y    </td> <td>Y   </td> <td>N    </td> <td>N   </td> <td>N      </td> <td>Y   </td> <td>Y     </td> <td>N      </td> <td>N       </td> <td>Y   </td> <td>N    </td> <td>N   </td> <td>N     </td> <td>N    </td> <td>Y     </td> <td>N     </td> <td>Y     </td> <td>N        </td> <td>N      </td> <td>N   </td> <td>Y            </td>\n",
              "        </tr>\n",
              "        <tr>\n",
              "            <td>29 Palms Farmers' Market                                   </td> <td>nan                                      </td> <td>https://www.facebook.com/29palmsfarmersmarket/              </td> <td>nan     </td> <td>nan    </td> <td>IG @29palmsfarmersmarket    </td> <td>73484 Twentynine Palms Hwy</td> <td>Twentynine Palms</td> <td>San Bernardino</td> <td>California</td> <td>92277</td> <td>01/01/2020 to 01/01/2020</td> <td>Sat: 8:00 AM-1:00 PM;                                       </td> <td>nan                     </td> <td>nan                                                         </td> <td>nan        </td> <td>nan        </td> <td>nan        </td> <td>nan        </td> <td>-116.059</td> <td>34.1358</td> <td>nan     </td> <td>Y     </td> <td>N   </td> <td>N      </td> <td>N    </td> <td>N   </td> <td>Y      </td> <td>Y         </td> <td>N     </td> <td>Y     </td> <td>N      </td> <td>Y   </td> <td>N      </td> <td>Y    </td> <td>Y         </td> <td>Y    </td> <td>Y   </td> <td>N    </td> <td>N   </td> <td>N      </td> <td>Y   </td> <td>N     </td> <td>N      </td> <td>Y       </td> <td>Y   </td> <td>N    </td> <td>N   </td> <td>N     </td> <td>N    </td> <td>Y     </td> <td>N     </td> <td>Y     </td> <td>N        </td> <td>N      </td> <td>N   </td> <td>N            </td>\n",
              "        </tr>\n",
              "        <tr>\n",
              "            <td>2nd Street Market - Five Rivers MetroPark                  </td> <td>http://www.metroparks.org                </td> <td>https://www.facebook.com/2ndStreetMarket/                   </td> <td>nan     </td> <td>nan    </td> <td>nan                         </td> <td>600 E. 2nd Street         </td> <td>Dayton          </td> <td>Montgomery    </td> <td>Ohio      </td> <td>45402</td> <td>01/01/2018 to 05/31/2018</td> <td>Thu: 11:00 AM-3:00 PM;Fri: 11:00 AM-3:00 PM;Sat: 8:00 AM ...</td> <td>06/01/2018 to 12/31/2018</td> <td>Thu: 11:00 AM-3:00 PM;Fri: 11:00 AM-3:00 PM;Sat: 8:00 AM ...</td> <td>nan        </td> <td>nan        </td> <td>nan        </td> <td>nan        </td> <td>-84.181 </td> <td>39.7626</td> <td>nan     </td> <td>Y     </td> <td>N   </td> <td>Y      </td> <td>N    </td> <td>Y   </td> <td>Y      </td> <td>Y         </td> <td>Y     </td> <td>Y     </td> <td>Y      </td> <td>Y   </td> <td>N      </td> <td>Y    </td> <td>Y         </td> <td>Y    </td> <td>Y   </td> <td>Y    </td> <td>Y   </td> <td>N      </td> <td>Y   </td> <td>Y     </td> <td>Y      </td> <td>Y       </td> <td>Y   </td> <td>N    </td> <td>N   </td> <td>Y     </td> <td>Y    </td> <td>Y     </td> <td>Y     </td> <td>Y     </td> <td>Y        </td> <td>Y      </td> <td>N   </td> <td>Y            </td>\n",
              "        </tr>\n",
              "        <tr>\n",
              "            <td>3 French Hens French Country Market                        </td> <td>http://www.3frenchhensmarket.blogspot.com</td> <td>https://www.facebook.com/pages/3-French-Hens-French-Coun ...</td> <td>nan     </td> <td>nan    </td> <td>nan                         </td> <td>123 W. Illinois ave.      </td> <td>Morris          </td> <td>Grundy        </td> <td>Illinois  </td> <td>60450</td> <td>05/12/2018 to 10/13/2018</td> <td>Sat: 8:00 AM-2:00 PM;                                       </td> <td>11/09/2018 to 11/10/2018</td> <td>Fri: 4:00 PM-10:00 PM;Sat: 10:00 AM-3:00 PM;                </td> <td>nan        </td> <td>nan        </td> <td>nan        </td> <td>nan        </td> <td>-88.4252</td> <td>41.3564</td> <td>nan     </td> <td>Y     </td> <td>N   </td> <td>N      </td> <td>N    </td> <td>N   </td> <td>Y      </td> <td>Y         </td> <td>Y     </td> <td>Y     </td> <td>Y      </td> <td>Y   </td> <td>N      </td> <td>Y    </td> <td>Y         </td> <td>Y    </td> <td>Y   </td> <td>Y    </td> <td>Y   </td> <td>N      </td> <td>N   </td> <td>Y     </td> <td>Y      </td> <td>Y       </td> <td>Y   </td> <td>Y    </td> <td>N   </td> <td>Y     </td> <td>Y    </td> <td>Y     </td> <td>N     </td> <td>N     </td> <td>N        </td> <td>Y      </td> <td>N   </td> <td>N            </td>\n",
              "        </tr>\n",
              "        <tr>\n",
              "            <td>3rd Day Farmer's Market                                    </td> <td>http://www.3rddayfarm.com                </td> <td>facebook/ 3rd Day Farm                                      </td> <td>nan     </td> <td>nan    </td> <td>nan                         </td> <td>3234 S. LaChance Rd       </td> <td>Lake City       </td> <td>Missaukee     </td> <td>Michigan  </td> <td>49651</td> <td>nan                     </td> <td>Tue: 10:00 AM-5:00 PM;Wed: 10:00 AM-5:00 PM;Thu: 10:00 A ...</td> <td>nan                     </td> <td>nan                                                         </td> <td>nan        </td> <td>nan        </td> <td>nan        </td> <td>nan        </td> <td>-85.2961</td> <td>44.293 </td> <td>nan     </td> <td>Y     </td> <td>Y   </td> <td>Y      </td> <td>Y    </td> <td>Y   </td> <td>N      </td> <td>Y         </td> <td>Y     </td> <td>Y     </td> <td>Y      </td> <td>Y   </td> <td>N      </td> <td>Y    </td> <td>Y         </td> <td>Y    </td> <td>Y   </td> <td>Y    </td> <td>Y   </td> <td>N      </td> <td>N   </td> <td>Y     </td> <td>Y      </td> <td>N       </td> <td>Y   </td> <td>Y    </td> <td>N   </td> <td>N     </td> <td>N    </td> <td>Y     </td> <td>N     </td> <td>N     </td> <td>Y        </td> <td>N      </td> <td>N   </td> <td>Y            </td>\n",
              "        </tr>\n",
              "        <tr>\n",
              "            <td>4 Veggies & 3 Fruits Farmer’s Market                       </td> <td>nan                                      </td> <td>nan                                                         </td> <td>nan     </td> <td>nan    </td> <td>nan                         </td> <td>140 W 62nd Street         </td> <td>Chicago         </td> <td>Cook          </td> <td>Illinois  </td> <td>60621</td> <td>01/01/2021 to 01/01/2021</td> <td>Wed: 3:00 PM-8:00 PM;Sun: 9:00 AM-8:00 PM;                  </td> <td>nan                     </td> <td>nan                                                         </td> <td>nan        </td> <td>nan        </td> <td>nan        </td> <td>nan        </td> <td>-87.6296</td> <td>41.7819</td> <td>nan     </td> <td>Y     </td> <td>N   </td> <td>N      </td> <td>N    </td> <td>Y   </td> <td>N      </td> <td>N         </td> <td>N     </td> <td>Y     </td> <td>N      </td> <td>N   </td> <td>N      </td> <td>Y    </td> <td>N         </td> <td>Y    </td> <td>N   </td> <td>N    </td> <td>Y   </td> <td>N      </td> <td>Y   </td> <td>N     </td> <td>N      </td> <td>N       </td> <td>Y   </td> <td>N    </td> <td>N   </td> <td>Y     </td> <td>N    </td> <td>N     </td> <td>N     </td> <td>N     </td> <td>N        </td> <td>N      </td> <td>N   </td> <td>N            </td>\n",
              "        </tr>\n",
              "        <tr>\n",
              "            <td>61st Street Farmers Market                                 </td> <td>https://experimentalstation.org/market   </td> <td>61market                                                    </td> <td>61market</td> <td>nan    </td> <td>Instagram:                  </td> <td>6100 S. Blackstone Ave    </td> <td>Chicago         </td> <td>Cook          </td> <td>Illinois  </td> <td>60637</td> <td>05/12/2018 to 12/15/2018</td> <td>Sat: 9:00 AM-2:00 PM;                                       </td> <td>nan                     </td> <td>nan                                                         </td> <td>nan        </td> <td>nan        </td> <td>nan        </td> <td>nan        </td> <td>-87.5906</td> <td>41.7841</td> <td>nan     </td> <td>Y     </td> <td>N   </td> <td>N      </td> <td>N    </td> <td>Y   </td> <td>-      </td> <td>Y         </td> <td>Y     </td> <td>N     </td> <td>Y      </td> <td>Y   </td> <td>Y      </td> <td>Y    </td> <td>Y         </td> <td>Y    </td> <td>Y   </td> <td>Y    </td> <td>N   </td> <td>N      </td> <td>Y   </td> <td>N     </td> <td>N      </td> <td>Y       </td> <td>Y   </td> <td>N    </td> <td>N   </td> <td>Y     </td> <td>N    </td> <td>Y     </td> <td>N     </td> <td>Y     </td> <td>Y        </td> <td>N      </td> <td>N   </td> <td>N            </td>\n",
              "        </tr>\n",
              "        <tr>\n",
              "            <td>A Growers' Market                                          </td> <td>nan                                      </td> <td>nan                                                         </td> <td>nan     </td> <td>nan    </td> <td>nan                         </td> <td>229 Lake Ella Drive       </td> <td>Tallahassee     </td> <td>Leon          </td> <td>Florida   </td> <td>32303</td> <td>01/01/2018 to 12/31/2018</td> <td>Wed: 12:00 PM-6:00 PM;Sat: 11:00 AM-3:00 PM;                </td> <td>nan                     </td> <td>nan                                                         </td> <td>nan        </td> <td>nan        </td> <td>nan        </td> <td>nan        </td> <td>-84.2799</td> <td>30.462 </td> <td>nan     </td> <td>Y     </td> <td>Y   </td> <td>N      </td> <td>Y    </td> <td>Y   </td> <td>N      </td> <td>Y         </td> <td>Y     </td> <td>N     </td> <td>Y      </td> <td>Y   </td> <td>N      </td> <td>Y    </td> <td>Y         </td> <td>Y    </td> <td>Y   </td> <td>N    </td> <td>N   </td> <td>N      </td> <td>N   </td> <td>N     </td> <td>N      </td> <td>Y       </td> <td>Y   </td> <td>N    </td> <td>N   </td> <td>N     </td> <td>N    </td> <td>Y     </td> <td>N     </td> <td>N     </td> <td>Y        </td> <td>N      </td> <td>N   </td> <td>N            </td>\n",
              "        </tr>\n",
              "    </tbody>\n",
              "</table>\n",
              "<p>... (1671 rows omitted)</p>"
            ],
            "text/plain": [
              "MarketName                                                  | Website                                   | Facebook                                                     | Twitter  | Youtube | OtherMedia                   | street                     | city             | County         | State      | zip   | Season1Date              | Season1Time                                                  | Season2Date              | Season2Time                                                  | Season3Date | Season3Time | Season4Date | Season4Time | x        | y       | Location | Credit | WIC  | WICcash | SFMNP | SNAP | Organic | Bakedgoods | Cheese | Crafts | Flowers | Eggs | Seafood | Herbs | Vegetables | Honey | Jams | Maple | Meat | Nursery | Nuts | Plants | Poultry | Prepared | Soap | Trees | Wine | Coffee | Beans | Fruits | Grains | Juices | Mushrooms | PetFood | Tofu | WildHarvested\n",
              " Caledonia Farmers Market Association - Danville            | https://www.caledoniafarmersmarket.com    | https://www.facebook.com/Danville.VT.Farmers.Market/         | nan      | nan     | nan                          | nan                        | Danville         | Caledonia      | Vermont    | 05828 | 06/10/2020 to 10/07/2020 | Wed: 9:00 AM-1:00 PM;                                        | nan                      | nan                                                          | nan         | nan         | nan         | nan         | -72.1403 | 44.411  | nan      | Y      | Y    | N       | Y     | N    | Y       | Y          | Y      | Y      | Y       | Y    | N       | Y     | Y          | Y     | Y    | Y     | Y    | N       | N    | N      | Y       | Y        | Y    | Y     | N    | Y      | Y     | Y      | N      | N      | Y         | Y       | N    | N\n",
              "18th Street Farmer's Market                                 | nan                                       | https://www.facebook.com/ScottsbluffFarmersMarket            | nan      | nan     | nan                          | 18th and Broadway          | Scottsbluff      | Scotts Bluff   | Nebraska   | 69361 | 06/05/2021 to 06/05/2021 | Sat: 8:00 AM-11:00 AM;                                       | nan                      | nan                                                          | nan         | nan         | nan         | nan         | -103.663 | 41.8643 | nan      | Y      | N    | N       | Y     | N    | Y       | Y          | Y      | Y      | Y       | Y    | N       | Y     | Y          | Y     | Y    | N     | Y    | N       | N    | Y      | Y       | Y        | N    | N     | N    | Y      | Y     | Y      | N      | N      | N         | N       | N    | N\n",
              "26th Annual Highlands Business Partnership's Farmers Market | http://www.highlandsnj.com                | https://www.facebook.com/pages/Highlands-Business-Partne ... | nan      | nan     | visithighlandsnj - Instagram | 71 Waterwitch Avenue       | Highlands        | Monmouth       | New Jersey | 07732 | 06/06/2020               | Sat: 8:30 AM-2:00 PM;                                        | nan                      | nan                                                          | nan         | nan         | nan         | nan         | -73.9944 | 40.4048 | nan      | Y      | Y    | Y       | Y     | Y    | Y       | Y          | Y      | Y      | Y       | Y    | N       | Y     | Y          | Y     | Y    | N     | N    | N       | Y    | Y      | N       | N        | Y    | N     | N    | N      | N     | Y      | N      | Y      | N         | N       | N    | Y\n",
              "29 Palms Farmers' Market                                    | nan                                       | https://www.facebook.com/29palmsfarmersmarket/               | nan      | nan     | IG @29palmsfarmersmarket     | 73484 Twentynine Palms Hwy | Twentynine Palms | San Bernardino | California | 92277 | 01/01/2020 to 01/01/2020 | Sat: 8:00 AM-1:00 PM;                                        | nan                      | nan                                                          | nan         | nan         | nan         | nan         | -116.059 | 34.1358 | nan      | Y      | N    | N       | N     | N    | Y       | Y          | N      | Y      | N       | Y    | N       | Y     | Y          | Y     | Y    | N     | N    | N       | Y    | N      | N       | Y        | Y    | N     | N    | N      | N     | Y      | N      | Y      | N         | N       | N    | N\n",
              "2nd Street Market - Five Rivers MetroPark                   | http://www.metroparks.org                 | https://www.facebook.com/2ndStreetMarket/                    | nan      | nan     | nan                          | 600 E. 2nd Street          | Dayton           | Montgomery     | Ohio       | 45402 | 01/01/2018 to 05/31/2018 | Thu: 11:00 AM-3:00 PM;Fri: 11:00 AM-3:00 PM;Sat: 8:00 AM ... | 06/01/2018 to 12/31/2018 | Thu: 11:00 AM-3:00 PM;Fri: 11:00 AM-3:00 PM;Sat: 8:00 AM ... | nan         | nan         | nan         | nan         | -84.181  | 39.7626 | nan      | Y      | N    | Y       | N     | Y    | Y       | Y          | Y      | Y      | Y       | Y    | N       | Y     | Y          | Y     | Y    | Y     | Y    | N       | Y    | Y      | Y       | Y        | Y    | N     | N    | Y      | Y     | Y      | Y      | Y      | Y         | Y       | N    | Y\n",
              "3 French Hens French Country Market                         | http://www.3frenchhensmarket.blogspot.com | https://www.facebook.com/pages/3-French-Hens-French-Coun ... | nan      | nan     | nan                          | 123 W. Illinois ave.       | Morris           | Grundy         | Illinois   | 60450 | 05/12/2018 to 10/13/2018 | Sat: 8:00 AM-2:00 PM;                                        | 11/09/2018 to 11/10/2018 | Fri: 4:00 PM-10:00 PM;Sat: 10:00 AM-3:00 PM;                 | nan         | nan         | nan         | nan         | -88.4252 | 41.3564 | nan      | Y      | N    | N       | N     | N    | Y       | Y          | Y      | Y      | Y       | Y    | N       | Y     | Y          | Y     | Y    | Y     | Y    | N       | N    | Y      | Y       | Y        | Y    | Y     | N    | Y      | Y     | Y      | N      | N      | N         | Y       | N    | N\n",
              "3rd Day Farmer's Market                                     | http://www.3rddayfarm.com                 | facebook/ 3rd Day Farm                                       | nan      | nan     | nan                          | 3234 S. LaChance Rd        | Lake City        | Missaukee      | Michigan   | 49651 | nan                      | Tue: 10:00 AM-5:00 PM;Wed: 10:00 AM-5:00 PM;Thu: 10:00 A ... | nan                      | nan                                                          | nan         | nan         | nan         | nan         | -85.2961 | 44.293  | nan      | Y      | Y    | Y       | Y     | Y    | N       | Y          | Y      | Y      | Y       | Y    | N       | Y     | Y          | Y     | Y    | Y     | Y    | N       | N    | Y      | Y       | N        | Y    | Y     | N    | N      | N     | Y      | N      | N      | Y         | N       | N    | Y\n",
              "4 Veggies & 3 Fruits Farmer’s Market                        | nan                                       | nan                                                          | nan      | nan     | nan                          | 140 W 62nd Street          | Chicago          | Cook           | Illinois   | 60621 | 01/01/2021 to 01/01/2021 | Wed: 3:00 PM-8:00 PM;Sun: 9:00 AM-8:00 PM;                   | nan                      | nan                                                          | nan         | nan         | nan         | nan         | -87.6296 | 41.7819 | nan      | Y      | N    | N       | N     | Y    | N       | N          | N      | Y      | N       | N    | N       | Y     | N          | Y     | N    | N     | Y    | N       | Y    | N      | N       | N        | Y    | N     | N    | Y      | N     | N      | N      | N      | N         | N       | N    | N\n",
              "61st Street Farmers Market                                  | https://experimentalstation.org/market    | 61market                                                     | 61market | nan     | Instagram:                   | 6100 S. Blackstone Ave     | Chicago          | Cook           | Illinois   | 60637 | 05/12/2018 to 12/15/2018 | Sat: 9:00 AM-2:00 PM;                                        | nan                      | nan                                                          | nan         | nan         | nan         | nan         | -87.5906 | 41.7841 | nan      | Y      | N    | N       | N     | Y    | -       | Y          | Y      | N      | Y       | Y    | Y       | Y     | Y          | Y     | Y    | Y     | N    | N       | Y    | N      | N       | Y        | Y    | N     | N    | Y      | N     | Y      | N      | Y      | Y         | N       | N    | N\n",
              "A Growers' Market                                           | nan                                       | nan                                                          | nan      | nan     | nan                          | 229 Lake Ella Drive        | Tallahassee      | Leon           | Florida    | 32303 | 01/01/2018 to 12/31/2018 | Wed: 12:00 PM-6:00 PM;Sat: 11:00 AM-3:00 PM;                 | nan                      | nan                                                          | nan         | nan         | nan         | nan         | -84.2799 | 30.462  | nan      | Y      | Y    | N       | Y     | Y    | N       | Y          | Y      | N      | Y       | Y    | N       | Y     | Y          | Y     | Y    | N     | N    | N       | N    | N      | N       | Y        | Y    | N     | N    | N      | N     | Y      | N      | N      | Y         | N       | N    | N\n",
              "... (1671 rows omitted)"
            ]
          },
          "execution_count": 53,
          "metadata": {},
          "output_type": "execute_result"
        }
      ],
      "source": [
        "farmers_markets.drop(\"FMID\", \"updateTime\")"
      ]
    },
    {
      "cell_type": "markdown",
      "metadata": {
        "id": "4nFsakYFBNt1"
      },
      "source": [
        "---"
      ]
    },
    {
      "cell_type": "markdown",
      "metadata": {
        "id": "evr53L-4BNt1"
      },
      "source": [
        "### `where`"
      ]
    },
    {
      "cell_type": "markdown",
      "metadata": {
        "id": "bj_mlcNABNt2"
      },
      "source": [
        "Now let's say we want a table of all farmers' markets in California. We can use the table method `where` to do this.\n",
        "\n",
        "Run the following cell to filter the table to include only California farmers' markets."
      ]
    },
    {
      "cell_type": "code",
      "execution_count": null,
      "metadata": {
        "id": "e6WTEsFzBNt2",
        "outputId": "68a30a36-5b03-45a8-c9d4-bb03277cb7ec"
      },
      "outputs": [
        {
          "data": {
            "text/html": [
              "<table border=\"1\" class=\"dataframe\">\n",
              "    <thead>\n",
              "        <tr>\n",
              "            <th>MarketName</th> <th>city</th> <th>County</th> <th>State</th> <th>x</th> <th>y</th>\n",
              "        </tr>\n",
              "    </thead>\n",
              "    <tbody>\n",
              "        <tr>\n",
              "            <td>29 Palms Farmers' Market                            </td> <td>Twentynine Palms     </td> <td>San Bernardino</td> <td>California</td> <td>-116.059</td> <td>34.1358</td>\n",
              "        </tr>\n",
              "        <tr>\n",
              "            <td>Alturas Farmers Market                              </td> <td>Alturas              </td> <td>Modoc         </td> <td>California</td> <td>-120.542</td> <td>41.4839</td>\n",
              "        </tr>\n",
              "        <tr>\n",
              "            <td>Atwater Village Farmers' Market                     </td> <td>Los Angeles          </td> <td>Los Angeles   </td> <td>California</td> <td>-118.26 </td> <td>34.1178</td>\n",
              "        </tr>\n",
              "        <tr>\n",
              "            <td>Barm Bargains Market                                </td> <td>Garden Valley        </td> <td>El Dorado     </td> <td>California</td> <td>-120.878</td> <td>38.8402</td>\n",
              "        </tr>\n",
              "        <tr>\n",
              "            <td>Benica Certified Farmers Market                     </td> <td>Benicia              </td> <td>Solano        </td> <td>California</td> <td>-122.161</td> <td>38.0462</td>\n",
              "        </tr>\n",
              "        <tr>\n",
              "            <td>Beverly Hills Farmers Market                        </td> <td>Beverly Hills        </td> <td>Los Angeles   </td> <td>California</td> <td>-118.399</td> <td>34.0737</td>\n",
              "        </tr>\n",
              "        <tr>\n",
              "            <td>Big Bear Farmers Market                             </td> <td>City of Big Bear Lake</td> <td>San Bernardino</td> <td>California</td> <td>-116.867</td> <td>34.2608</td>\n",
              "        </tr>\n",
              "        <tr>\n",
              "            <td>Burbank Certified Farmers' Market                   </td> <td>Burbank              </td> <td>Los Angeles   </td> <td>California</td> <td>-118.308</td> <td>34.1828</td>\n",
              "        </tr>\n",
              "        <tr>\n",
              "            <td>CalaverasGROWN Certified Farmers' Market San Andreas</td> <td>San Andreas          </td> <td>Calaveras     </td> <td>California</td> <td>-120.668</td> <td>38.1912</td>\n",
              "        </tr>\n",
              "        <tr>\n",
              "            <td>CalaverasGROWN Murphys Certified Farmers' Market    </td> <td>Murphys              </td> <td>Calaveras     </td> <td>California</td> <td>-120.464</td> <td>38.1369</td>\n",
              "        </tr>\n",
              "    </tbody>\n",
              "</table>\n",
              "<p>... (126 rows omitted)</p>"
            ],
            "text/plain": [
              "MarketName                                           | city                  | County         | State      | x        | y\n",
              "29 Palms Farmers' Market                             | Twentynine Palms      | San Bernardino | California | -116.059 | 34.1358\n",
              "Alturas Farmers Market                               | Alturas               | Modoc          | California | -120.542 | 41.4839\n",
              "Atwater Village Farmers' Market                      | Los Angeles           | Los Angeles    | California | -118.26  | 34.1178\n",
              "Barm Bargains Market                                 | Garden Valley         | El Dorado      | California | -120.878 | 38.8402\n",
              "Benica Certified Farmers Market                      | Benicia               | Solano         | California | -122.161 | 38.0462\n",
              "Beverly Hills Farmers Market                         | Beverly Hills         | Los Angeles    | California | -118.399 | 34.0737\n",
              "Big Bear Farmers Market                              | City of Big Bear Lake | San Bernardino | California | -116.867 | 34.2608\n",
              "Burbank Certified Farmers' Market                    | Burbank               | Los Angeles    | California | -118.308 | 34.1828\n",
              "CalaverasGROWN Certified Farmers' Market San Andreas | San Andreas           | Calaveras      | California | -120.668 | 38.1912\n",
              "CalaverasGROWN Murphys Certified Farmers' Market     | Murphys               | Calaveras      | California | -120.464 | 38.1369\n",
              "... (126 rows omitted)"
            ]
          },
          "execution_count": 54,
          "metadata": {},
          "output_type": "execute_result"
        }
      ],
      "source": [
        "california_farmers_markets = farmers_markets_locations.where('State', are.equal_to('California'))\n",
        "california_farmers_markets"
      ]
    },
    {
      "cell_type": "markdown",
      "metadata": {
        "id": "iaQA6ZUfBNt2"
      },
      "source": [
        "Ignore the syntax for the moment.  Instead, try to read that line like this:\n",
        "\n",
        "> Assign the name **`california_farmers_markets`** to a table whose rows are the rows in the **`farmers_markets_locations`** table **`where`** the **`'State'`**s **`are` `equal` `to` `California`**."
      ]
    },
    {
      "cell_type": "markdown",
      "metadata": {
        "id": "CxSFuyg4BNt2"
      },
      "source": [
        "Let's dive into the details a bit more.  `where` takes 2 arguments:\n",
        "\n",
        "1. The name of a column.  `where` finds rows where that column's values meet some criterion.\n",
        "2. A predicate that describes the criterion that the column needs to meet.\n",
        "\n",
        "The predicate in the example above called the function `are.equal_to` with the value we wanted, 'California'.  We'll see other predicates soon.\n",
        "\n",
        "`where` returns a table that's a copy of the original table, but **with only the rows that meet the given predicate**."
      ]
    },
    {
      "cell_type": "markdown",
      "metadata": {
        "id": "LM_WISJ7BNt3"
      },
      "source": [
        "---"
      ]
    },
    {
      "cell_type": "markdown",
      "metadata": {
        "id": "fgbMDUopBNt3"
      },
      "source": [
        "#### Task 04 📍"
      ]
    },
    {
      "cell_type": "markdown",
      "metadata": {
        "id": "FpfLd7x_BNt3"
      },
      "source": [
        "Use `california_farmers_markets` to create a table called `sf_markets` containing farmers' markets in San Francisco, California.\n",
        "\n",
        "**Note:** These aren't all of the markets in the city, but they are the markets listed in USDA's data set."
      ]
    },
    {
      "cell_type": "code",
      "execution_count": null,
      "metadata": {
        "tags": [],
        "id": "qFmBbJpZBNt3",
        "outputId": "52b8e4ee-29db-48ac-fb02-8f3ff14348f1"
      },
      "outputs": [
        {
          "data": {
            "text/html": [
              "<table border=\"1\" class=\"dataframe\">\n",
              "    <thead>\n",
              "        <tr>\n",
              "            <th>MarketName</th> <th>city</th> <th>County</th> <th>State</th> <th>x</th> <th>y</th>\n",
              "        </tr>\n",
              "    </thead>\n",
              "    <tbody>\n",
              "        <tr>\n",
              "            <td>Ferry Plaza Farmers Market                    </td> <td>San Francisco</td> <td>San Francisco</td> <td>California</td> <td>-122.394</td> <td>37.7952</td>\n",
              "        </tr>\n",
              "        <tr>\n",
              "            <td>Mission Community Market                      </td> <td>San Francisco</td> <td>San Francisco</td> <td>California</td> <td>-122.42 </td> <td>37.7554</td>\n",
              "        </tr>\n",
              "        <tr>\n",
              "            <td>San Francisco Certified Alemany Farmers Market</td> <td>San Francisco</td> <td>San Francisco</td> <td>California</td> <td>-122.409</td> <td>37.7373</td>\n",
              "        </tr>\n",
              "    </tbody>\n",
              "</table>"
            ],
            "text/plain": [
              "MarketName                                     | city          | County        | State      | x        | y\n",
              "Ferry Plaza Farmers Market                     | San Francisco | San Francisco | California | -122.394 | 37.7952\n",
              "Mission Community Market                       | San Francisco | San Francisco | California | -122.42  | 37.7554\n",
              "San Francisco Certified Alemany Farmers Market | San Francisco | San Francisco | California | -122.409 | 37.7373"
            ]
          },
          "execution_count": 55,
          "metadata": {},
          "output_type": "execute_result"
        }
      ],
      "source": [
        "sf_markets = california_farmers_markets.where('city',are.equal_to('San Francisco'))\n",
        "sf_markets"
      ]
    },
    {
      "cell_type": "code",
      "execution_count": null,
      "metadata": {
        "deletable": false,
        "editable": false,
        "id": "3WgElKEcBNt4",
        "outputId": "e8419a58-4221-46fe-8dac-2ff1269b3c63"
      },
      "outputs": [
        {
          "data": {
            "text/html": [
              "<p><strong><pre style='display: inline;'>task_04</pre></strong> passed! 🎉</p><p><strong><pre style='display: inline;'>task_04 - 1</pre> message:</strong> ✅ It seems you have the correct number of markets.</p><p><strong><pre style='display: inline;'>task_04 - 2</pre> message:</strong> ✅ You've filtered the table to just San Francisco markets.</p>"
            ],
            "text/plain": [
              "task_04 results: All test cases passed!\n",
              "task_04 - 1 message: ✅ It seems you have the correct number of markets.\n",
              "task_04 - 2 message: ✅ You've filtered the table to just San Francisco markets."
            ]
          },
          "execution_count": 56,
          "metadata": {},
          "output_type": "execute_result"
        }
      ],
      "source": [
        "grader.check(\"task_04\")"
      ]
    },
    {
      "cell_type": "markdown",
      "metadata": {
        "id": "WLJOcMCKBNt4"
      },
      "source": [
        "So far we've only been using `where` with the predicate that requires finding the values in a column to be *exactly* equal to a certain value. However, there are many other predicates. Here are a few:\n",
        "\n",
        "|Predicate|Example|Result|\n",
        "|-|-|-|\n",
        "|`are.equal_to`|`are.equal_to(50)`|Find rows with values equal to 50|\n",
        "|`are.not_equal_to`|`are.not_equal_to(50)`|Find rows with values not equal to 50|\n",
        "|`are.above`|`are.above(50)`|Find rows with values above (and not equal to) 50|\n",
        "|`are.above_or_equal_to`|`are.above_or_equal_to(50)`|Find rows with values above 50 or equal to 50|\n",
        "|`are.below`|`are.below(50)`|Find rows with values below 50|\n",
        "|`are.between`|`are.between(2, 10)`|Find rows with values above or equal to 2 and below 10|\n",
        "|`are.containing`|`are.containing('Data Science')`|Find rows with values that contain the substring `'Data Science'`|\n",
        "\n",
        "Next, you are going to practice using some of those predicates to filter the data in the table. For additional predicates, see the Code Reference [Table Filtering Predicates section](https://ccsf-math-108.github.io/materials-sp25/resources/code-reference.html#table-filtering-predicates)."
      ]
    },
    {
      "cell_type": "markdown",
      "metadata": {
        "id": "IDnBZUR-BNt4"
      },
      "source": [
        "---"
      ]
    },
    {
      "cell_type": "markdown",
      "metadata": {
        "tags": [],
        "id": "NRsFq08iBNt4"
      },
      "source": [
        "#### Task 05 📍"
      ]
    },
    {
      "cell_type": "markdown",
      "metadata": {
        "deletable": false,
        "editable": false,
        "id": "dC3x9y8dBNt5"
      },
      "source": [
        "There are many cities in California with the \"San\" (which means \"Saint\" in Spanish) in their name due to Spanish colonization and the establishment of Catholic missions during the 18th and early 19th centuries.\n",
        "\n",
        "Assign `san_farmers_markets` to a table containing all the information from `california_farmers_markets` where the city contains the sub-name `San `.\n",
        "\n",
        "**Note**: Make sure to include the space after \"San\", so you don't include places like Santa Clara."
      ]
    },
    {
      "cell_type": "code",
      "execution_count": null,
      "metadata": {
        "tags": [],
        "id": "-0ObzX7_BNt5",
        "outputId": "5fce72c0-1260-4f32-8488-6dca8cd77c21"
      },
      "outputs": [
        {
          "data": {
            "text/html": [
              "<table border=\"1\" class=\"dataframe\">\n",
              "    <thead>\n",
              "        <tr>\n",
              "            <th>MarketName</th> <th>city</th> <th>County</th> <th>State</th> <th>x</th> <th>y</th>\n",
              "        </tr>\n",
              "    </thead>\n",
              "    <tbody>\n",
              "        <tr>\n",
              "            <td>CalaverasGROWN Certified Farmers' Market San Andreas</td> <td>San Andreas    </td> <td>Calaveras      </td> <td>California</td> <td>-120.668</td> <td>38.1912</td>\n",
              "        </tr>\n",
              "        <tr>\n",
              "            <td>Cambrian Park Farmers' Market                       </td> <td>San Jose       </td> <td>Santa Clara    </td> <td>California</td> <td>-121.819</td> <td>37.2969</td>\n",
              "        </tr>\n",
              "        <tr>\n",
              "            <td>City Heights Certified Farmers Market               </td> <td>San Diego      </td> <td>San Diego      </td> <td>California</td> <td>-117.102</td> <td>32.7478</td>\n",
              "        </tr>\n",
              "        <tr>\n",
              "            <td>Ferry Plaza Farmers Market                          </td> <td>San Francisco  </td> <td>San Francisco  </td> <td>California</td> <td>-122.394</td> <td>37.7952</td>\n",
              "        </tr>\n",
              "        <tr>\n",
              "            <td>Linda Vista Certified Farmers Market                </td> <td>San Diego      </td> <td>San Diego      </td> <td>California</td> <td>-117.171</td> <td>32.7852</td>\n",
              "        </tr>\n",
              "        <tr>\n",
              "            <td>Little Italy Mercato CFM                            </td> <td>San Diego      </td> <td>San Diego      </td> <td>California</td> <td>-117.168</td> <td>32.7231</td>\n",
              "        </tr>\n",
              "        <tr>\n",
              "            <td>Mission Community Market                            </td> <td>San Francisco  </td> <td>San Francisco  </td> <td>California</td> <td>-122.42 </td> <td>37.7554</td>\n",
              "        </tr>\n",
              "        <tr>\n",
              "            <td>Ocean Beach Certified Farmers Market                </td> <td>San Diego      </td> <td>San Diego      </td> <td>California</td> <td>-117.25 </td> <td>32.7462</td>\n",
              "        </tr>\n",
              "        <tr>\n",
              "            <td>San Francisco Certified Alemany Farmers Market      </td> <td>San Francisco  </td> <td>San Francisco  </td> <td>California</td> <td>-122.409</td> <td>37.7373</td>\n",
              "        </tr>\n",
              "        <tr>\n",
              "            <td>SLO Farm Supply Farmers Market                      </td> <td>San Luis Obispo</td> <td>San Luis Obispo</td> <td>California</td> <td>-120.667</td> <td>35.2472</td>\n",
              "        </tr>\n",
              "    </tbody>\n",
              "</table>\n",
              "<p>... (2 rows omitted)</p>"
            ],
            "text/plain": [
              "MarketName                                           | city            | County          | State      | x        | y\n",
              "CalaverasGROWN Certified Farmers' Market San Andreas | San Andreas     | Calaveras       | California | -120.668 | 38.1912\n",
              "Cambrian Park Farmers' Market                        | San Jose        | Santa Clara     | California | -121.819 | 37.2969\n",
              "City Heights Certified Farmers Market                | San Diego       | San Diego       | California | -117.102 | 32.7478\n",
              "Ferry Plaza Farmers Market                           | San Francisco   | San Francisco   | California | -122.394 | 37.7952\n",
              "Linda Vista Certified Farmers Market                 | San Diego       | San Diego       | California | -117.171 | 32.7852\n",
              "Little Italy Mercato CFM                             | San Diego       | San Diego       | California | -117.168 | 32.7231\n",
              "Mission Community Market                             | San Francisco   | San Francisco   | California | -122.42  | 37.7554\n",
              "Ocean Beach Certified Farmers Market                 | San Diego       | San Diego       | California | -117.25  | 32.7462\n",
              "San Francisco Certified Alemany Farmers Market       | San Francisco   | San Francisco   | California | -122.409 | 37.7373\n",
              "SLO Farm Supply Farmers Market                       | San Luis Obispo | San Luis Obispo | California | -120.667 | 35.2472\n",
              "... (2 rows omitted)"
            ]
          },
          "execution_count": 57,
          "metadata": {},
          "output_type": "execute_result"
        }
      ],
      "source": [
        "san_farmers_markets = california_farmers_markets.where('city', are.containing('San '))\n",
        "san_farmers_markets"
      ]
    },
    {
      "cell_type": "code",
      "execution_count": null,
      "metadata": {
        "deletable": false,
        "editable": false,
        "id": "qNpN88-dBNt5",
        "outputId": "83495c22-8c29-4513-dea4-d43c63e56eb1"
      },
      "outputs": [
        {
          "data": {
            "text/html": [
              "<p><strong><pre style='display: inline;'>task_05</pre></strong> passed! 🌟</p><p><strong><pre style='display: inline;'>task_05 - 1</pre> message:</strong> ✅ san_farmers_markets is assigned to a Table.</p><p><strong><pre style='display: inline;'>task_05 - 2</pre> message:</strong> ✅ san_farmers_markets contains only markets from California.</p><p><strong><pre style='display: inline;'>task_05 - 3</pre> message:</strong> ✅ san_farmers_markets contains the correct number of rows.</p><p><strong><pre style='display: inline;'>task_05 - 4</pre> message:</strong> ✅ san_farmers_markets seems correct.</p>"
            ],
            "text/plain": [
              "task_05 results: All test cases passed!\n",
              "task_05 - 1 message: ✅ san_farmers_markets is assigned to a Table.\n",
              "task_05 - 2 message: ✅ san_farmers_markets contains only markets from California.\n",
              "task_05 - 3 message: ✅ san_farmers_markets contains the correct number of rows.\n",
              "task_05 - 4 message: ✅ san_farmers_markets seems correct."
            ]
          },
          "execution_count": 58,
          "metadata": {},
          "output_type": "execute_result"
        }
      ],
      "source": [
        "grader.check(\"task_05\")"
      ]
    },
    {
      "cell_type": "markdown",
      "metadata": {
        "id": "idR_XEqtBNt6"
      },
      "source": [
        "---"
      ]
    },
    {
      "cell_type": "markdown",
      "metadata": {
        "tags": [],
        "id": "lBcR1Kf-BNt6"
      },
      "source": [
        "#### Task 06 📍"
      ]
    },
    {
      "cell_type": "markdown",
      "metadata": {
        "deletable": false,
        "editable": false,
        "id": "l47qerSyBNt6"
      },
      "source": [
        "<a href=\"https://commons.wikimedia.org/wiki/File:Location_Map_San_Francisco_Bay_Area.png\"><img src=\"./Bay_Area.png\" alt=\"A map of the San Francisco Bay Area\" width=400px></a>\n",
        "\n",
        "Wikipedia **defines** the San Francisco Bay Area by the following border coordinates:\n",
        "\n",
        "* 38.2033 - Latitude at top edge of map, in decimal degrees\n",
        "* 37.1897 - Latitude at bottom edge of map, in decimal degrees\n",
        "* -122.6445 - Longitude at left edge of map, in decimal degrees\n",
        "* -121.5871 - Longitude at right edge of map, in decimal degrees\n",
        "\n",
        "Assign `bay_area_farmers_markets` to a table that only contains the information from the `farmers_markets` table within the described Bay Area coordinates.\n",
        "\n",
        "**Notes**:\n",
        "* Remember that you can chain together functions like `where`.\n",
        "* It doesn't matter if you include the coordinate boundaries in this task.\n",
        "* **Defining** what the Bay Area is might be a divisive topic! 🫣"
      ]
    },
    {
      "cell_type": "code",
      "execution_count": null,
      "metadata": {
        "tags": [],
        "id": "Tge60OPmBNt6",
        "outputId": "68a3c2bb-3543-4f95-f929-479e4f41649a"
      },
      "outputs": [
        {
          "data": {
            "text/html": [
              "<table border=\"1\" class=\"dataframe\">\n",
              "    <thead>\n",
              "        <tr>\n",
              "            <th>FMID</th> <th>MarketName</th> <th>Website</th> <th>Facebook</th> <th>Twitter</th> <th>Youtube</th> <th>OtherMedia</th> <th>street</th> <th>city</th> <th>County</th> <th>State</th> <th>zip</th> <th>Season1Date</th> <th>Season1Time</th> <th>Season2Date</th> <th>Season2Time</th> <th>Season3Date</th> <th>Season3Time</th> <th>Season4Date</th> <th>Season4Time</th> <th>x</th> <th>y</th> <th>Location</th> <th>Credit</th> <th>WIC</th> <th>WICcash</th> <th>SFMNP</th> <th>SNAP</th> <th>Organic</th> <th>Bakedgoods</th> <th>Cheese</th> <th>Crafts</th> <th>Flowers</th> <th>Eggs</th> <th>Seafood</th> <th>Herbs</th> <th>Vegetables</th> <th>Honey</th> <th>Jams</th> <th>Maple</th> <th>Meat</th> <th>Nursery</th> <th>Nuts</th> <th>Plants</th> <th>Poultry</th> <th>Prepared</th> <th>Soap</th> <th>Trees</th> <th>Wine</th> <th>Coffee</th> <th>Beans</th> <th>Fruits</th> <th>Grains</th> <th>Juices</th> <th>Mushrooms</th> <th>PetFood</th> <th>Tofu</th> <th>WildHarvested</th> <th>updateTime</th>\n",
              "        </tr>\n",
              "    </thead>\n",
              "    <tbody>\n",
              "        <tr>\n",
              "            <td>1001533</td> <td>Benica Certified Farmers Market                     </td> <td>http://www.beniciamainstreet.org      </td> <td>nan                                                         </td> <td>nan                              </td> <td>nan    </td> <td>nan                                             </td> <td>First Street between B & D Streets                        </td> <td>Benicia       </td> <td>Solano     </td> <td>California</td> <td>94510</td> <td>04/29/2021 to 04/29/2021</td> <td>Thu: 4:00 PM-8:00 PM; </td> <td>nan                     </td> <td>nan                   </td> <td>nan        </td> <td>nan        </td> <td>nan        </td> <td>nan        </td> <td>-122.161</td> <td>38.0462</td> <td>nan     </td> <td>Y     </td> <td>Y   </td> <td>N      </td> <td>N    </td> <td>Y   </td> <td>Y      </td> <td>Y         </td> <td>Y     </td> <td>Y     </td> <td>Y      </td> <td>Y   </td> <td>Y      </td> <td>Y    </td> <td>Y         </td> <td>Y    </td> <td>Y   </td> <td>N    </td> <td>Y   </td> <td>N      </td> <td>Y   </td> <td>N     </td> <td>Y      </td> <td>Y       </td> <td>Y   </td> <td>N    </td> <td>N   </td> <td>Y     </td> <td>N    </td> <td>Y     </td> <td>N     </td> <td>N     </td> <td>Y        </td> <td>N      </td> <td>N   </td> <td>N            </td> <td>1/27/2021 4:23:09 PM </td>\n",
              "        </tr>\n",
              "        <tr>\n",
              "            <td>1020188</td> <td>California Avenue Farmers' Market                   </td> <td>https://uvfm.org/palo-alto-sundays    </td> <td>https://www.facebook.com/UrbanVillageOnFB                   </td> <td>nan                              </td> <td>nan    </td> <td>https://www.instagram.com/urbanvillage/         </td> <td>California Avenue, at El Camino                           </td> <td>Palo Alto     </td> <td>Santa Clara</td> <td>California</td> <td>94306</td> <td>01/05/2020 to 12/27/2020</td> <td>Sun: 9:00 AM-1:00 PM; </td> <td>nan                     </td> <td>nan                   </td> <td>nan        </td> <td>nan        </td> <td>nan        </td> <td>nan        </td> <td>-122.133</td> <td>37.4678</td> <td>nan     </td> <td>Y     </td> <td>Y   </td> <td>N      </td> <td>N    </td> <td>Y   </td> <td>Y      </td> <td>Y         </td> <td>Y     </td> <td>Y     </td> <td>Y      </td> <td>Y   </td> <td>Y      </td> <td>Y    </td> <td>Y         </td> <td>Y    </td> <td>Y   </td> <td>N    </td> <td>Y   </td> <td>N      </td> <td>Y   </td> <td>N     </td> <td>Y      </td> <td>Y       </td> <td>Y   </td> <td>Y    </td> <td>Y   </td> <td>Y     </td> <td>Y    </td> <td>Y     </td> <td>N     </td> <td>Y     </td> <td>Y        </td> <td>N      </td> <td>Y   </td> <td>Y            </td> <td>8/24/2020 3:23:47 PM </td>\n",
              "        </tr>\n",
              "        <tr>\n",
              "            <td>1020183</td> <td>Cambrian Park Farmers' Market                       </td> <td>http://www.uvfm.org                   </td> <td>https://www.facebook.com/UrbanVillageOnFB                   </td> <td>nan                              </td> <td>nan    </td> <td>https://www.instagram.com/urbanvillage/         </td> <td>Camden Avenue and Union Avenue                            </td> <td>San Jose      </td> <td>Santa Clara</td> <td>California</td> <td>95124</td> <td>05/06/2020 to 09/30/2020</td> <td>Wed: 4:00 PM-8:00 PM; </td> <td>nan                     </td> <td>nan                   </td> <td>nan        </td> <td>nan        </td> <td>nan        </td> <td>nan        </td> <td>-121.819</td> <td>37.2969</td> <td>nan     </td> <td>Y     </td> <td>Y   </td> <td>N      </td> <td>N    </td> <td>N   </td> <td>Y      </td> <td>Y         </td> <td>Y     </td> <td>N     </td> <td>Y      </td> <td>Y   </td> <td>Y      </td> <td>Y    </td> <td>Y         </td> <td>Y    </td> <td>Y   </td> <td>N    </td> <td>Y   </td> <td>N      </td> <td>Y   </td> <td>N     </td> <td>Y      </td> <td>Y       </td> <td>Y   </td> <td>Y    </td> <td>N   </td> <td>Y     </td> <td>N    </td> <td>Y     </td> <td>N     </td> <td>Y     </td> <td>Y        </td> <td>N      </td> <td>N   </td> <td>N            </td> <td>8/24/2020 2:50:27 PM </td>\n",
              "        </tr>\n",
              "        <tr>\n",
              "            <td>1020184</td> <td>Campbell Farmers' Market                            </td> <td>https://uvfm.org/campbell-sundays     </td> <td>https://www.facebook.com/UrbanVillageOnFB                   </td> <td>nan                              </td> <td>nan    </td> <td>https://www.instagram.com/urbanvillage/         </td> <td>Campbell Avenue & Central Avenue                          </td> <td>Campbell      </td> <td>Santa Clara</td> <td>California</td> <td>95008</td> <td>01/05/2020 to 12/27/2020</td> <td>Sun: 9:00 AM-1:00 PM; </td> <td>nan                     </td> <td>nan                   </td> <td>nan        </td> <td>nan        </td> <td>nan        </td> <td>nan        </td> <td>-121.954</td> <td>37.2802</td> <td>nan     </td> <td>Y     </td> <td>Y   </td> <td>N      </td> <td>N    </td> <td>Y   </td> <td>Y      </td> <td>Y         </td> <td>Y     </td> <td>Y     </td> <td>Y      </td> <td>Y   </td> <td>Y      </td> <td>Y    </td> <td>Y         </td> <td>Y    </td> <td>Y   </td> <td>N    </td> <td>Y   </td> <td>N      </td> <td>Y   </td> <td>N     </td> <td>Y      </td> <td>Y       </td> <td>Y   </td> <td>Y    </td> <td>Y   </td> <td>Y     </td> <td>Y    </td> <td>Y     </td> <td>N     </td> <td>Y     </td> <td>Y        </td> <td>Y      </td> <td>Y   </td> <td>Y            </td> <td>8/24/2020 2:56:55 PM </td>\n",
              "        </tr>\n",
              "        <tr>\n",
              "            <td>1020135</td> <td>Coastside Farmers' Market - Half Moon Bay           </td> <td>http://www.coastsidefarmersmarkets.org</td> <td>https://www.facebook.com/Coastside-Farmers-Market-in-Hal ...</td> <td>nan                              </td> <td>nan    </td> <td>#coastsidefarmersmarkets                        </td> <td>225 Cabrillo Highway                                      </td> <td>Half Moon Bay </td> <td>San Mateo  </td> <td>California</td> <td>94019</td> <td>04/01/2020 to 12/19/2020</td> <td>Sat: 9:00 AM-1:00 PM; </td> <td>nan                     </td> <td>nan                   </td> <td>nan        </td> <td>nan        </td> <td>nan        </td> <td>nan        </td> <td>-122.437</td> <td>37.4668</td> <td>nan     </td> <td>Y     </td> <td>Y   </td> <td>N      </td> <td>Y    </td> <td>Y   </td> <td>Y      </td> <td>Y         </td> <td>Y     </td> <td>N     </td> <td>Y      </td> <td>Y   </td> <td>Y      </td> <td>Y    </td> <td>Y         </td> <td>Y    </td> <td>Y   </td> <td>N    </td> <td>Y   </td> <td>N      </td> <td>Y   </td> <td>Y     </td> <td>Y      </td> <td>Y       </td> <td>N   </td> <td>Y    </td> <td>N   </td> <td>N     </td> <td>Y    </td> <td>Y     </td> <td>Y     </td> <td>Y     </td> <td>Y        </td> <td>N      </td> <td>Y   </td> <td>N            </td> <td>8/20/2020 4:04:27 PM </td>\n",
              "        </tr>\n",
              "        <tr>\n",
              "            <td>1020137</td> <td>Coastside Farmers' Market - Rockaway Beach, Pacifica</td> <td>http://www.coastsidefarmersmarkets.org</td> <td>https://www.facebook.com/Coastside-Farmers-Market-in-Hal ...</td> <td>nan                              </td> <td>nan    </td> <td>#coastsidefarmersmarkets                        </td> <td>450 Old County Road                                       </td> <td>Pacifica      </td> <td>San Mateo  </td> <td>California</td> <td>94044</td> <td>04/01/2020 to 12/23/2020</td> <td>nan                   </td> <td>nan                     </td> <td>nan                   </td> <td>nan        </td> <td>nan        </td> <td>nan        </td> <td>nan        </td> <td>-122.495</td> <td>37.6094</td> <td>nan     </td> <td>Y     </td> <td>Y   </td> <td>N      </td> <td>Y    </td> <td>Y   </td> <td>Y      </td> <td>Y         </td> <td>Y     </td> <td>N     </td> <td>Y      </td> <td>Y   </td> <td>Y      </td> <td>Y    </td> <td>Y         </td> <td>Y    </td> <td>Y   </td> <td>N    </td> <td>Y   </td> <td>N      </td> <td>Y   </td> <td>Y     </td> <td>Y      </td> <td>Y       </td> <td>N   </td> <td>Y    </td> <td>N   </td> <td>Y     </td> <td>Y    </td> <td>Y     </td> <td>Y     </td> <td>Y     </td> <td>Y        </td> <td>N      </td> <td>Y   </td> <td>Y            </td> <td>8/20/2020 4:17:05 PM </td>\n",
              "        </tr>\n",
              "        <tr>\n",
              "            <td>1020064</td> <td>Downtown Berkeley                                   </td> <td>https://ecologycenter.org/fm/         </td> <td>https://www.facebook.com/ecologycenter.org                  </td> <td>https://twitter.com/EcologyCenter</td> <td>nan    </td> <td>https://www.instagram.com/ecology.center/?hl=en </td> <td>1947 Center St.                                           </td> <td>Berkeley      </td> <td>Alameda    </td> <td>California</td> <td>94704</td> <td>01/01/2020 to 12/31/2020</td> <td>Sun: 10:00 AM-3:00 PM;</td> <td>nan                     </td> <td>nan                   </td> <td>nan        </td> <td>nan        </td> <td>nan        </td> <td>nan        </td> <td>-122.272</td> <td>37.8698</td> <td>nan     </td> <td>Y     </td> <td>Y   </td> <td>N      </td> <td>Y    </td> <td>Y   </td> <td>Y      </td> <td>Y         </td> <td>Y     </td> <td>N     </td> <td>Y      </td> <td>Y   </td> <td>Y      </td> <td>Y    </td> <td>Y         </td> <td>Y    </td> <td>Y   </td> <td>N    </td> <td>Y   </td> <td>N      </td> <td>Y   </td> <td>N     </td> <td>Y      </td> <td>Y       </td> <td>N   </td> <td>Y    </td> <td>Y   </td> <td>Y     </td> <td>Y    </td> <td>Y     </td> <td>Y     </td> <td>Y     </td> <td>Y        </td> <td>Y      </td> <td>N   </td> <td>Y            </td> <td>8/13/2020 12:58:38 AM</td>\n",
              "        </tr>\n",
              "        <tr>\n",
              "            <td>1018621</td> <td>Downtown Novato Community Farmers Market            </td> <td>http://www.ilovefarmersmarkets.org    </td> <td>https://www.facebook.com/DowntownNovatoCommunityFarmersM ...</td> <td>nan                              </td> <td>nan    </td> <td>Instagram communitymarkets                      </td> <td>7th Street behind the CVS between Grant Ave & Novato Blvd </td> <td>Novato        </td> <td>Marin      </td> <td>California</td> <td>94947</td> <td>05/07/2019 to 09/24/2019</td> <td>Tue: 4:00 PM-8:00 PM; </td> <td>nan                     </td> <td>nan                   </td> <td>nan        </td> <td>nan        </td> <td>nan        </td> <td>nan        </td> <td>-122.579</td> <td>38.1075</td> <td>nan     </td> <td>Y     </td> <td>Y   </td> <td>Y      </td> <td>Y    </td> <td>Y   </td> <td>Y      </td> <td>Y         </td> <td>Y     </td> <td>Y     </td> <td>Y      </td> <td>Y   </td> <td>Y      </td> <td>Y    </td> <td>Y         </td> <td>Y    </td> <td>Y   </td> <td>N    </td> <td>N   </td> <td>N      </td> <td>Y   </td> <td>Y     </td> <td>N      </td> <td>Y       </td> <td>Y   </td> <td>Y    </td> <td>Y   </td> <td>Y     </td> <td>Y    </td> <td>Y     </td> <td>Y     </td> <td>Y     </td> <td>Y        </td> <td>N      </td> <td>Y   </td> <td>N            </td> <td>8/6/2020 10:10:41 AM </td>\n",
              "        </tr>\n",
              "        <tr>\n",
              "            <td>1019721</td> <td>Downtown Palo Alto Farmers' Market                  </td> <td>nan                                   </td> <td>http://www.facebook.com/paloaltofarmersmarket               </td> <td>@paloaltofarmers                 </td> <td>nan    </td> <td>https://www.instagram.com/paloaltofarmersmarket/</td> <td>Gilman St, between Hamilton and Forest                    </td> <td>Palo Alto     </td> <td>Santa Clara</td> <td>California</td> <td>94301</td> <td>01/11/2020 to 04/25/2020</td> <td>Sat: 9:00 AM-1:00 PM; </td> <td>05/04/2019 to 12/19/2020</td> <td>Sat: 8:00 AM-12:00 PM;</td> <td>nan        </td> <td>nan        </td> <td>nan        </td> <td>nan        </td> <td>-122.159</td> <td>37.4453</td> <td>nan     </td> <td>Y     </td> <td>N   </td> <td>N      </td> <td>N    </td> <td>N   </td> <td>Y      </td> <td>Y         </td> <td>Y     </td> <td>N     </td> <td>Y      </td> <td>Y   </td> <td>Y      </td> <td>Y    </td> <td>Y         </td> <td>Y    </td> <td>Y   </td> <td>N    </td> <td>Y   </td> <td>N      </td> <td>Y   </td> <td>Y     </td> <td>Y      </td> <td>Y       </td> <td>Y   </td> <td>Y    </td> <td>Y   </td> <td>Y     </td> <td>Y    </td> <td>Y     </td> <td>Y     </td> <td>Y     </td> <td>Y        </td> <td>N      </td> <td>N   </td> <td>N            </td> <td>12/8/2019 7:02:55 PM </td>\n",
              "        </tr>\n",
              "        <tr>\n",
              "            <td>1005358</td> <td>Dublin                                              </td> <td>http://www.pcfma.org                  </td> <td>nan                                                         </td> <td>nan                              </td> <td>nan    </td> <td>nan                                             </td> <td>4201 Central Parkway                                      </td> <td>Dublin        </td> <td>Alameda    </td> <td>California</td> <td>94568</td> <td>05/01/2012 to 09/31/2012</td> <td>Thu: 4:00 PM-8:00 PM; </td> <td>04/05/2018 to 09/27/2018</td> <td>Thu: 4:00 PM-8:00 PM; </td> <td>nan        </td> <td>nan        </td> <td>nan        </td> <td>nan        </td> <td>-121.879</td> <td>37.7104</td> <td>nan     </td> <td>Y     </td> <td>Y   </td> <td>Y      </td> <td>Y    </td> <td>Y   </td> <td>Y      </td> <td>Y         </td> <td>Y     </td> <td>N     </td> <td>Y      </td> <td>Y   </td> <td>N      </td> <td>N    </td> <td>Y         </td> <td>Y    </td> <td>Y   </td> <td>N    </td> <td>N   </td> <td>N      </td> <td>Y   </td> <td>N     </td> <td>N      </td> <td>Y       </td> <td>Y   </td> <td>N    </td> <td>N   </td> <td>N     </td> <td>N    </td> <td>Y     </td> <td>N     </td> <td>N     </td> <td>Y        </td> <td>N      </td> <td>Y   </td> <td>N            </td> <td>7/27/2018 10:37:55 AM</td>\n",
              "        </tr>\n",
              "    </tbody>\n",
              "</table>\n",
              "<p>... (18 rows omitted)</p>"
            ],
            "text/plain": [
              "FMID    | MarketName                                           | Website                                | Facebook                                                     | Twitter                           | Youtube | OtherMedia                                       | street                                                     | city           | County      | State      | zip   | Season1Date              | Season1Time            | Season2Date              | Season2Time            | Season3Date | Season3Time | Season4Date | Season4Time | x        | y       | Location | Credit | WIC  | WICcash | SFMNP | SNAP | Organic | Bakedgoods | Cheese | Crafts | Flowers | Eggs | Seafood | Herbs | Vegetables | Honey | Jams | Maple | Meat | Nursery | Nuts | Plants | Poultry | Prepared | Soap | Trees | Wine | Coffee | Beans | Fruits | Grains | Juices | Mushrooms | PetFood | Tofu | WildHarvested | updateTime\n",
              "1001533 | Benica Certified Farmers Market                      | http://www.beniciamainstreet.org       | nan                                                          | nan                               | nan     | nan                                              | First Street between B & D Streets                         | Benicia        | Solano      | California | 94510 | 04/29/2021 to 04/29/2021 | Thu: 4:00 PM-8:00 PM;  | nan                      | nan                    | nan         | nan         | nan         | nan         | -122.161 | 38.0462 | nan      | Y      | Y    | N       | N     | Y    | Y       | Y          | Y      | Y      | Y       | Y    | Y       | Y     | Y          | Y     | Y    | N     | Y    | N       | Y    | N      | Y       | Y        | Y    | N     | N    | Y      | N     | Y      | N      | N      | Y         | N       | N    | N             | 1/27/2021 4:23:09 PM\n",
              "1020188 | California Avenue Farmers' Market                    | https://uvfm.org/palo-alto-sundays     | https://www.facebook.com/UrbanVillageOnFB                    | nan                               | nan     | https://www.instagram.com/urbanvillage/          | California Avenue, at El Camino                            | Palo Alto      | Santa Clara | California | 94306 | 01/05/2020 to 12/27/2020 | Sun: 9:00 AM-1:00 PM;  | nan                      | nan                    | nan         | nan         | nan         | nan         | -122.133 | 37.4678 | nan      | Y      | Y    | N       | N     | Y    | Y       | Y          | Y      | Y      | Y       | Y    | Y       | Y     | Y          | Y     | Y    | N     | Y    | N       | Y    | N      | Y       | Y        | Y    | Y     | Y    | Y      | Y     | Y      | N      | Y      | Y         | N       | Y    | Y             | 8/24/2020 3:23:47 PM\n",
              "1020183 | Cambrian Park Farmers' Market                        | http://www.uvfm.org                    | https://www.facebook.com/UrbanVillageOnFB                    | nan                               | nan     | https://www.instagram.com/urbanvillage/          | Camden Avenue and Union Avenue                             | San Jose       | Santa Clara | California | 95124 | 05/06/2020 to 09/30/2020 | Wed: 4:00 PM-8:00 PM;  | nan                      | nan                    | nan         | nan         | nan         | nan         | -121.819 | 37.2969 | nan      | Y      | Y    | N       | N     | N    | Y       | Y          | Y      | N      | Y       | Y    | Y       | Y     | Y          | Y     | Y    | N     | Y    | N       | Y    | N      | Y       | Y        | Y    | Y     | N    | Y      | N     | Y      | N      | Y      | Y         | N       | N    | N             | 8/24/2020 2:50:27 PM\n",
              "1020184 | Campbell Farmers' Market                             | https://uvfm.org/campbell-sundays      | https://www.facebook.com/UrbanVillageOnFB                    | nan                               | nan     | https://www.instagram.com/urbanvillage/          | Campbell Avenue & Central Avenue                           | Campbell       | Santa Clara | California | 95008 | 01/05/2020 to 12/27/2020 | Sun: 9:00 AM-1:00 PM;  | nan                      | nan                    | nan         | nan         | nan         | nan         | -121.954 | 37.2802 | nan      | Y      | Y    | N       | N     | Y    | Y       | Y          | Y      | Y      | Y       | Y    | Y       | Y     | Y          | Y     | Y    | N     | Y    | N       | Y    | N      | Y       | Y        | Y    | Y     | Y    | Y      | Y     | Y      | N      | Y      | Y         | Y       | Y    | Y             | 8/24/2020 2:56:55 PM\n",
              "1020135 | Coastside Farmers' Market - Half Moon Bay            | http://www.coastsidefarmersmarkets.org | https://www.facebook.com/Coastside-Farmers-Market-in-Hal ... | nan                               | nan     | #coastsidefarmersmarkets                         | 225 Cabrillo Highway                                       | Half Moon Bay  | San Mateo   | California | 94019 | 04/01/2020 to 12/19/2020 | Sat: 9:00 AM-1:00 PM;  | nan                      | nan                    | nan         | nan         | nan         | nan         | -122.437 | 37.4668 | nan      | Y      | Y    | N       | Y     | Y    | Y       | Y          | Y      | N      | Y       | Y    | Y       | Y     | Y          | Y     | Y    | N     | Y    | N       | Y    | Y      | Y       | Y        | N    | Y     | N    | N      | Y     | Y      | Y      | Y      | Y         | N       | Y    | N             | 8/20/2020 4:04:27 PM\n",
              "1020137 | Coastside Farmers' Market - Rockaway Beach, Pacifica | http://www.coastsidefarmersmarkets.org | https://www.facebook.com/Coastside-Farmers-Market-in-Hal ... | nan                               | nan     | #coastsidefarmersmarkets                         | 450 Old County Road                                        | Pacifica       | San Mateo   | California | 94044 | 04/01/2020 to 12/23/2020 | nan                    | nan                      | nan                    | nan         | nan         | nan         | nan         | -122.495 | 37.6094 | nan      | Y      | Y    | N       | Y     | Y    | Y       | Y          | Y      | N      | Y       | Y    | Y       | Y     | Y          | Y     | Y    | N     | Y    | N       | Y    | Y      | Y       | Y        | N    | Y     | N    | Y      | Y     | Y      | Y      | Y      | Y         | N       | Y    | Y             | 8/20/2020 4:17:05 PM\n",
              "1020064 | Downtown Berkeley                                    | https://ecologycenter.org/fm/          | https://www.facebook.com/ecologycenter.org                   | https://twitter.com/EcologyCenter | nan     | https://www.instagram.com/ecology.center/?hl=en  | 1947 Center St.                                            | Berkeley       | Alameda     | California | 94704 | 01/01/2020 to 12/31/2020 | Sun: 10:00 AM-3:00 PM; | nan                      | nan                    | nan         | nan         | nan         | nan         | -122.272 | 37.8698 | nan      | Y      | Y    | N       | Y     | Y    | Y       | Y          | Y      | N      | Y       | Y    | Y       | Y     | Y          | Y     | Y    | N     | Y    | N       | Y    | N      | Y       | Y        | N    | Y     | Y    | Y      | Y     | Y      | Y      | Y      | Y         | Y       | N    | Y             | 8/13/2020 12:58:38 AM\n",
              "1018621 | Downtown Novato Community Farmers Market             | http://www.ilovefarmersmarkets.org     | https://www.facebook.com/DowntownNovatoCommunityFarmersM ... | nan                               | nan     | Instagram communitymarkets                       | 7th Street behind the CVS between Grant Ave & Novato Blvd  | Novato         | Marin       | California | 94947 | 05/07/2019 to 09/24/2019 | Tue: 4:00 PM-8:00 PM;  | nan                      | nan                    | nan         | nan         | nan         | nan         | -122.579 | 38.1075 | nan      | Y      | Y    | Y       | Y     | Y    | Y       | Y          | Y      | Y      | Y       | Y    | Y       | Y     | Y          | Y     | Y    | N     | N    | N       | Y    | Y      | N       | Y        | Y    | Y     | Y    | Y      | Y     | Y      | Y      | Y      | Y         | N       | Y    | N             | 8/6/2020 10:10:41 AM\n",
              "1019721 | Downtown Palo Alto Farmers' Market                   | nan                                    | http://www.facebook.com/paloaltofarmersmarket                | @paloaltofarmers                  | nan     | https://www.instagram.com/paloaltofarmersmarket/ | Gilman St, between Hamilton and Forest                     | Palo Alto      | Santa Clara | California | 94301 | 01/11/2020 to 04/25/2020 | Sat: 9:00 AM-1:00 PM;  | 05/04/2019 to 12/19/2020 | Sat: 8:00 AM-12:00 PM; | nan         | nan         | nan         | nan         | -122.159 | 37.4453 | nan      | Y      | N    | N       | N     | N    | Y       | Y          | Y      | N      | Y       | Y    | Y       | Y     | Y          | Y     | Y    | N     | Y    | N       | Y    | Y      | Y       | Y        | Y    | Y     | Y    | Y      | Y     | Y      | Y      | Y      | Y         | N       | N    | N             | 12/8/2019 7:02:55 PM\n",
              "1005358 | Dublin                                               | http://www.pcfma.org                   | nan                                                          | nan                               | nan     | nan                                              | 4201 Central Parkway                                       | Dublin         | Alameda     | California | 94568 | 05/01/2012 to 09/31/2012 | Thu: 4:00 PM-8:00 PM;  | 04/05/2018 to 09/27/2018 | Thu: 4:00 PM-8:00 PM;  | nan         | nan         | nan         | nan         | -121.879 | 37.7104 | nan      | Y      | Y    | Y       | Y     | Y    | Y       | Y          | Y      | N      | Y       | Y    | N       | N     | Y          | Y     | Y    | N     | N    | N       | Y    | N      | N       | Y        | Y    | N     | N    | N      | N     | Y      | N      | N      | Y         | N       | Y    | N             | 7/27/2018 10:37:55 AM\n",
              "... (18 rows omitted)"
            ]
          },
          "execution_count": 67,
          "metadata": {},
          "output_type": "execute_result"
        }
      ],
      "source": [
        "top = 38.2033\n",
        "bottom = 37.1897\n",
        "left = -122.6445\n",
        "right = -121.5871\n",
        "bay_area_farmers_markets = farmers_markets.where('x', are.between_or_equal_to(left,right)).where('y',are.between_or_equal_to(bottom,top))\n",
        "bay_area_farmers_markets"
      ]
    },
    {
      "cell_type": "code",
      "execution_count": null,
      "metadata": {
        "deletable": false,
        "editable": false,
        "id": "DIb3avNjBNt7",
        "outputId": "4efe240e-976d-4175-dbaf-045ac6ec8065"
      },
      "outputs": [
        {
          "data": {
            "text/html": [
              "<p><strong><pre style='display: inline;'>task_06</pre></strong> passed! 🌈</p><p><strong><pre style='display: inline;'>task_06 - 1</pre> message:</strong> ✅ bay_area_farmers_markets is a Table.</p><p><strong><pre style='display: inline;'>task_06 - 2</pre> message:</strong> ✅ You seem to have the top boundary accounted for.</p><p><strong><pre style='display: inline;'>task_06 - 3</pre> message:</strong> ✅ You seem to have the bottom boundary accounted for.</p><p><strong><pre style='display: inline;'>task_06 - 4</pre> message:</strong> ✅ You seem to have the left boundary accounted for.</p><p><strong><pre style='display: inline;'>task_06 - 5</pre> message:</strong> ✅ You seem to have the right boundary accounted for.</p><p><strong><pre style='display: inline;'>task_06 - 6</pre> message:</strong> ✅ bay_area_farmers_markets has the correct number of rows.</p><p><strong><pre style='display: inline;'>task_06 - 7</pre> message:</strong> ✅ bay_area_farmers_markets seems correct.</p>"
            ],
            "text/plain": [
              "task_06 results: All test cases passed!\n",
              "task_06 - 1 message: ✅ bay_area_farmers_markets is a Table.\n",
              "task_06 - 2 message: ✅ You seem to have the top boundary accounted for.\n",
              "task_06 - 3 message: ✅ You seem to have the bottom boundary accounted for.\n",
              "task_06 - 4 message: ✅ You seem to have the left boundary accounted for.\n",
              "task_06 - 5 message: ✅ You seem to have the right boundary accounted for.\n",
              "task_06 - 6 message: ✅ bay_area_farmers_markets has the correct number of rows.\n",
              "task_06 - 7 message: ✅ bay_area_farmers_markets seems correct."
            ]
          },
          "execution_count": 68,
          "metadata": {},
          "output_type": "execute_result"
        }
      ],
      "source": [
        "grader.check(\"task_06\")"
      ]
    },
    {
      "cell_type": "markdown",
      "metadata": {
        "id": "9bGylj_tBNt7"
      },
      "source": [
        "---"
      ]
    },
    {
      "cell_type": "markdown",
      "metadata": {
        "id": "LqeA5IW-BNt7"
      },
      "source": [
        "### `take`"
      ]
    },
    {
      "cell_type": "markdown",
      "metadata": {
        "id": "EcXKBQoNBNt7"
      },
      "source": [
        "You might recall from early in this notebook that the `tbl.show(5)` will display the first 5 rows of the table `tbl`, but it doesn't output a table. So, what should you use if you want to actually make a table with only the first 5 rows of some other table?\n",
        "\n",
        "The `take` table method can help you do this. If you run `tbl.take(5)`, then you won't end up with the first 5 rows of `tbl`. Instead, you'll produce a table with the 6th row of the `tbl` because it assumed that `5` refers to the row index 5 (aka the 6th row).\n",
        "\n",
        "Run the following code cell to see this."
      ]
    },
    {
      "cell_type": "code",
      "execution_count": null,
      "metadata": {
        "id": "EjxxpJdtBNt7",
        "outputId": "62e0d864-a070-4bed-e332-4a7393671d2f"
      },
      "outputs": [
        {
          "data": {
            "text/html": [
              "<table border=\"1\" class=\"dataframe\">\n",
              "    <thead>\n",
              "        <tr>\n",
              "            <th>FMID</th> <th>MarketName</th> <th>Website</th> <th>Facebook</th> <th>Twitter</th> <th>Youtube</th> <th>OtherMedia</th> <th>street</th> <th>city</th> <th>County</th> <th>State</th> <th>zip</th> <th>Season1Date</th> <th>Season1Time</th> <th>Season2Date</th> <th>Season2Time</th> <th>Season3Date</th> <th>Season3Time</th> <th>Season4Date</th> <th>Season4Time</th> <th>x</th> <th>y</th> <th>Location</th> <th>Credit</th> <th>WIC</th> <th>WICcash</th> <th>SFMNP</th> <th>SNAP</th> <th>Organic</th> <th>Bakedgoods</th> <th>Cheese</th> <th>Crafts</th> <th>Flowers</th> <th>Eggs</th> <th>Seafood</th> <th>Herbs</th> <th>Vegetables</th> <th>Honey</th> <th>Jams</th> <th>Maple</th> <th>Meat</th> <th>Nursery</th> <th>Nuts</th> <th>Plants</th> <th>Poultry</th> <th>Prepared</th> <th>Soap</th> <th>Trees</th> <th>Wine</th> <th>Coffee</th> <th>Beans</th> <th>Fruits</th> <th>Grains</th> <th>Juices</th> <th>Mushrooms</th> <th>PetFood</th> <th>Tofu</th> <th>WildHarvested</th> <th>updateTime</th>\n",
              "        </tr>\n",
              "    </thead>\n",
              "    <tbody>\n",
              "        <tr>\n",
              "            <td>1004950</td> <td>3 French Hens French Country Market</td> <td>http://www.3frenchhensmarket.blogspot.com</td> <td>https://www.facebook.com/pages/3-French-Hens-French-Coun ...</td> <td>nan    </td> <td>nan    </td> <td>nan       </td> <td>123 W. Illinois ave. </td> <td>Morris</td> <td>Grundy</td> <td>Illinois</td> <td>60450</td> <td>05/12/2018 to 10/13/2018</td> <td>Sat: 8:00 AM-2:00 PM;</td> <td>11/09/2018 to 11/10/2018</td> <td>Fri: 4:00 PM-10:00 PM;Sat: 10:00 AM-3:00 PM;</td> <td>nan        </td> <td>nan        </td> <td>nan        </td> <td>nan        </td> <td>-88.4252</td> <td>41.3564</td> <td>nan     </td> <td>Y     </td> <td>N   </td> <td>N      </td> <td>N    </td> <td>N   </td> <td>Y      </td> <td>Y         </td> <td>Y     </td> <td>Y     </td> <td>Y      </td> <td>Y   </td> <td>N      </td> <td>Y    </td> <td>Y         </td> <td>Y    </td> <td>Y   </td> <td>Y    </td> <td>Y   </td> <td>N      </td> <td>N   </td> <td>Y     </td> <td>Y      </td> <td>Y       </td> <td>Y   </td> <td>Y    </td> <td>N   </td> <td>Y     </td> <td>Y    </td> <td>Y     </td> <td>N     </td> <td>N     </td> <td>N        </td> <td>Y      </td> <td>N   </td> <td>N            </td> <td>7/26/2018 4:22:44 PM</td>\n",
              "        </tr>\n",
              "    </tbody>\n",
              "</table>"
            ],
            "text/plain": [
              "FMID    | MarketName                          | Website                                   | Facebook                                                     | Twitter | Youtube | OtherMedia | street                | city   | County | State    | zip   | Season1Date              | Season1Time           | Season2Date              | Season2Time                                  | Season3Date | Season3Time | Season4Date | Season4Time | x        | y       | Location | Credit | WIC  | WICcash | SFMNP | SNAP | Organic | Bakedgoods | Cheese | Crafts | Flowers | Eggs | Seafood | Herbs | Vegetables | Honey | Jams | Maple | Meat | Nursery | Nuts | Plants | Poultry | Prepared | Soap | Trees | Wine | Coffee | Beans | Fruits | Grains | Juices | Mushrooms | PetFood | Tofu | WildHarvested | updateTime\n",
              "1004950 | 3 French Hens French Country Market | http://www.3frenchhensmarket.blogspot.com | https://www.facebook.com/pages/3-French-Hens-French-Coun ... | nan     | nan     | nan        | 123 W. Illinois ave.  | Morris | Grundy | Illinois | 60450 | 05/12/2018 to 10/13/2018 | Sat: 8:00 AM-2:00 PM; | 11/09/2018 to 11/10/2018 | Fri: 4:00 PM-10:00 PM;Sat: 10:00 AM-3:00 PM; | nan         | nan         | nan         | nan         | -88.4252 | 41.3564 | nan      | Y      | N    | N       | N     | N    | Y       | Y          | Y      | Y      | Y       | Y    | N       | Y     | Y          | Y     | Y    | Y     | Y    | N       | N    | Y      | Y       | Y        | Y    | Y     | N    | Y      | Y     | Y      | N      | N      | N         | Y       | N    | N             | 7/26/2018 4:22:44 PM"
            ]
          },
          "execution_count": 69,
          "metadata": {},
          "output_type": "execute_result"
        }
      ],
      "source": [
        "farmers_markets.take(5)"
      ]
    },
    {
      "cell_type": "markdown",
      "metadata": {
        "id": "eb_2ieopBNt8"
      },
      "source": [
        "In order to get the first 5 rows, you need to provide an array of row indices as an argument for `take`. Specifically, you need the row indices 0, 1, 2, 3, 4. Thankfully, you learned about `np.arange` previously as a way to generate a sequence of numbers like this (i.e. `np.arange(5)`)."
      ]
    },
    {
      "cell_type": "markdown",
      "metadata": {
        "tags": [],
        "id": "IfSYMftUBNt8"
      },
      "source": [
        "#### Task 07 📍"
      ]
    },
    {
      "cell_type": "markdown",
      "metadata": {
        "deletable": false,
        "editable": false,
        "id": "908g68jMBNt8"
      },
      "source": [
        "Assign `first_5_markets` to a table containing the information from the first 5 rows of `farmers_markets`."
      ]
    },
    {
      "cell_type": "code",
      "execution_count": null,
      "metadata": {
        "tags": [],
        "id": "0_hnx2uhBNt8",
        "outputId": "dae843a9-899a-41ae-ee19-87f3a5f6e332"
      },
      "outputs": [
        {
          "data": {
            "text/html": [
              "<table border=\"1\" class=\"dataframe\">\n",
              "    <thead>\n",
              "        <tr>\n",
              "            <th>FMID</th> <th>MarketName</th> <th>Website</th> <th>Facebook</th> <th>Twitter</th> <th>Youtube</th> <th>OtherMedia</th> <th>street</th> <th>city</th> <th>County</th> <th>State</th> <th>zip</th> <th>Season1Date</th> <th>Season1Time</th> <th>Season2Date</th> <th>Season2Time</th> <th>Season3Date</th> <th>Season3Time</th> <th>Season4Date</th> <th>Season4Time</th> <th>x</th> <th>y</th> <th>Location</th> <th>Credit</th> <th>WIC</th> <th>WICcash</th> <th>SFMNP</th> <th>SNAP</th> <th>Organic</th> <th>Bakedgoods</th> <th>Cheese</th> <th>Crafts</th> <th>Flowers</th> <th>Eggs</th> <th>Seafood</th> <th>Herbs</th> <th>Vegetables</th> <th>Honey</th> <th>Jams</th> <th>Maple</th> <th>Meat</th> <th>Nursery</th> <th>Nuts</th> <th>Plants</th> <th>Poultry</th> <th>Prepared</th> <th>Soap</th> <th>Trees</th> <th>Wine</th> <th>Coffee</th> <th>Beans</th> <th>Fruits</th> <th>Grains</th> <th>Juices</th> <th>Mushrooms</th> <th>PetFood</th> <th>Tofu</th> <th>WildHarvested</th> <th>updateTime</th>\n",
              "        </tr>\n",
              "    </thead>\n",
              "    <tbody>\n",
              "        <tr>\n",
              "            <td>1018261</td> <td> Caledonia Farmers Market Association - Danville           </td> <td>https://www.caledoniafarmersmarket.com</td> <td>https://www.facebook.com/Danville.VT.Farmers.Market/        </td> <td>nan    </td> <td>nan    </td> <td>nan                         </td> <td>nan                       </td> <td>Danville        </td> <td>Caledonia     </td> <td>Vermont   </td> <td>05828</td> <td>06/10/2020 to 10/07/2020</td> <td>Wed: 9:00 AM-1:00 PM;                                       </td> <td>nan                     </td> <td>nan                                                         </td> <td>nan        </td> <td>nan        </td> <td>nan        </td> <td>nan        </td> <td>-72.1403</td> <td>44.411 </td> <td>nan     </td> <td>Y     </td> <td>Y   </td> <td>N      </td> <td>Y    </td> <td>N   </td> <td>Y      </td> <td>Y         </td> <td>Y     </td> <td>Y     </td> <td>Y      </td> <td>Y   </td> <td>N      </td> <td>Y    </td> <td>Y         </td> <td>Y    </td> <td>Y   </td> <td>Y    </td> <td>Y   </td> <td>N      </td> <td>N   </td> <td>N     </td> <td>Y      </td> <td>Y       </td> <td>Y   </td> <td>Y    </td> <td>N   </td> <td>Y     </td> <td>Y    </td> <td>Y     </td> <td>N     </td> <td>N     </td> <td>Y        </td> <td>Y      </td> <td>N   </td> <td>N            </td> <td>8/3/2020 3:23:12 PM </td>\n",
              "        </tr>\n",
              "        <tr>\n",
              "            <td>1009994</td> <td>18th Street Farmer's Market                                </td> <td>nan                                   </td> <td>https://www.facebook.com/ScottsbluffFarmersMarket           </td> <td>nan    </td> <td>nan    </td> <td>nan                         </td> <td>18th and Broadway         </td> <td>Scottsbluff     </td> <td>Scotts Bluff  </td> <td>Nebraska  </td> <td>69361</td> <td>06/05/2021 to 06/05/2021</td> <td>Sat: 8:00 AM-11:00 AM;                                      </td> <td>nan                     </td> <td>nan                                                         </td> <td>nan        </td> <td>nan        </td> <td>nan        </td> <td>nan        </td> <td>-103.663</td> <td>41.8643</td> <td>nan     </td> <td>Y     </td> <td>N   </td> <td>N      </td> <td>Y    </td> <td>N   </td> <td>Y      </td> <td>Y         </td> <td>Y     </td> <td>Y     </td> <td>Y      </td> <td>Y   </td> <td>N      </td> <td>Y    </td> <td>Y         </td> <td>Y    </td> <td>Y   </td> <td>N    </td> <td>Y   </td> <td>N      </td> <td>N   </td> <td>Y     </td> <td>Y      </td> <td>Y       </td> <td>N   </td> <td>N    </td> <td>N   </td> <td>Y     </td> <td>Y    </td> <td>Y     </td> <td>N     </td> <td>N     </td> <td>N        </td> <td>N      </td> <td>N   </td> <td>N            </td> <td>2/18/2021 2:37:26 PM</td>\n",
              "        </tr>\n",
              "        <tr>\n",
              "            <td>1000709</td> <td>26th Annual Highlands Business Partnership's Farmers Market</td> <td>http://www.highlandsnj.com            </td> <td>https://www.facebook.com/pages/Highlands-Business-Partne ...</td> <td>nan    </td> <td>nan    </td> <td>visithighlandsnj - Instagram</td> <td>71 Waterwitch Avenue      </td> <td>Highlands       </td> <td>Monmouth      </td> <td>New Jersey</td> <td>07732</td> <td>06/06/2020              </td> <td>Sat: 8:30 AM-2:00 PM;                                       </td> <td>nan                     </td> <td>nan                                                         </td> <td>nan        </td> <td>nan        </td> <td>nan        </td> <td>nan        </td> <td>-73.9944</td> <td>40.4048</td> <td>nan     </td> <td>Y     </td> <td>Y   </td> <td>Y      </td> <td>Y    </td> <td>Y   </td> <td>Y      </td> <td>Y         </td> <td>Y     </td> <td>Y     </td> <td>Y      </td> <td>Y   </td> <td>N      </td> <td>Y    </td> <td>Y         </td> <td>Y    </td> <td>Y   </td> <td>N    </td> <td>N   </td> <td>N      </td> <td>Y   </td> <td>Y     </td> <td>N      </td> <td>N       </td> <td>Y   </td> <td>N    </td> <td>N   </td> <td>N     </td> <td>N    </td> <td>Y     </td> <td>N     </td> <td>Y     </td> <td>N        </td> <td>N      </td> <td>N   </td> <td>Y            </td> <td>9/10/2020 3:25:18 PM</td>\n",
              "        </tr>\n",
              "        <tr>\n",
              "            <td>1019956</td> <td>29 Palms Farmers' Market                                   </td> <td>nan                                   </td> <td>https://www.facebook.com/29palmsfarmersmarket/              </td> <td>nan    </td> <td>nan    </td> <td>IG @29palmsfarmersmarket    </td> <td>73484 Twentynine Palms Hwy</td> <td>Twentynine Palms</td> <td>San Bernardino</td> <td>California</td> <td>92277</td> <td>01/01/2020 to 01/01/2020</td> <td>Sat: 8:00 AM-1:00 PM;                                       </td> <td>nan                     </td> <td>nan                                                         </td> <td>nan        </td> <td>nan        </td> <td>nan        </td> <td>nan        </td> <td>-116.059</td> <td>34.1358</td> <td>nan     </td> <td>Y     </td> <td>N   </td> <td>N      </td> <td>N    </td> <td>N   </td> <td>Y      </td> <td>Y         </td> <td>N     </td> <td>Y     </td> <td>N      </td> <td>Y   </td> <td>N      </td> <td>Y    </td> <td>Y         </td> <td>Y    </td> <td>Y   </td> <td>N    </td> <td>N   </td> <td>N      </td> <td>Y   </td> <td>N     </td> <td>N      </td> <td>Y       </td> <td>Y   </td> <td>N    </td> <td>N   </td> <td>N     </td> <td>N    </td> <td>Y     </td> <td>N     </td> <td>Y     </td> <td>N        </td> <td>N      </td> <td>N   </td> <td>N            </td> <td>1/13/2021 5:15:12 PM</td>\n",
              "        </tr>\n",
              "        <tr>\n",
              "            <td>1009959</td> <td>2nd Street Market - Five Rivers MetroPark                  </td> <td>http://www.metroparks.org             </td> <td>https://www.facebook.com/2ndStreetMarket/                   </td> <td>nan    </td> <td>nan    </td> <td>nan                         </td> <td>600 E. 2nd Street         </td> <td>Dayton          </td> <td>Montgomery    </td> <td>Ohio      </td> <td>45402</td> <td>01/01/2018 to 05/31/2018</td> <td>Thu: 11:00 AM-3:00 PM;Fri: 11:00 AM-3:00 PM;Sat: 8:00 AM ...</td> <td>06/01/2018 to 12/31/2018</td> <td>Thu: 11:00 AM-3:00 PM;Fri: 11:00 AM-3:00 PM;Sat: 8:00 AM ...</td> <td>nan        </td> <td>nan        </td> <td>nan        </td> <td>nan        </td> <td>-84.181 </td> <td>39.7626</td> <td>nan     </td> <td>Y     </td> <td>N   </td> <td>Y      </td> <td>N    </td> <td>Y   </td> <td>Y      </td> <td>Y         </td> <td>Y     </td> <td>Y     </td> <td>Y      </td> <td>Y   </td> <td>N      </td> <td>Y    </td> <td>Y         </td> <td>Y    </td> <td>Y   </td> <td>Y    </td> <td>Y   </td> <td>N      </td> <td>Y   </td> <td>Y     </td> <td>Y      </td> <td>Y       </td> <td>Y   </td> <td>N    </td> <td>N   </td> <td>Y     </td> <td>Y    </td> <td>Y     </td> <td>Y     </td> <td>Y     </td> <td>Y        </td> <td>Y      </td> <td>N   </td> <td>Y            </td> <td>7/26/2018 4:26:56 PM</td>\n",
              "        </tr>\n",
              "    </tbody>\n",
              "</table>"
            ],
            "text/plain": [
              "FMID    | MarketName                                                  | Website                                | Facebook                                                     | Twitter | Youtube | OtherMedia                   | street                     | city             | County         | State      | zip   | Season1Date              | Season1Time                                                  | Season2Date              | Season2Time                                                  | Season3Date | Season3Time | Season4Date | Season4Time | x        | y       | Location | Credit | WIC  | WICcash | SFMNP | SNAP | Organic | Bakedgoods | Cheese | Crafts | Flowers | Eggs | Seafood | Herbs | Vegetables | Honey | Jams | Maple | Meat | Nursery | Nuts | Plants | Poultry | Prepared | Soap | Trees | Wine | Coffee | Beans | Fruits | Grains | Juices | Mushrooms | PetFood | Tofu | WildHarvested | updateTime\n",
              "1018261 |  Caledonia Farmers Market Association - Danville            | https://www.caledoniafarmersmarket.com | https://www.facebook.com/Danville.VT.Farmers.Market/         | nan     | nan     | nan                          | nan                        | Danville         | Caledonia      | Vermont    | 05828 | 06/10/2020 to 10/07/2020 | Wed: 9:00 AM-1:00 PM;                                        | nan                      | nan                                                          | nan         | nan         | nan         | nan         | -72.1403 | 44.411  | nan      | Y      | Y    | N       | Y     | N    | Y       | Y          | Y      | Y      | Y       | Y    | N       | Y     | Y          | Y     | Y    | Y     | Y    | N       | N    | N      | Y       | Y        | Y    | Y     | N    | Y      | Y     | Y      | N      | N      | Y         | Y       | N    | N             | 8/3/2020 3:23:12 PM\n",
              "1009994 | 18th Street Farmer's Market                                 | nan                                    | https://www.facebook.com/ScottsbluffFarmersMarket            | nan     | nan     | nan                          | 18th and Broadway          | Scottsbluff      | Scotts Bluff   | Nebraska   | 69361 | 06/05/2021 to 06/05/2021 | Sat: 8:00 AM-11:00 AM;                                       | nan                      | nan                                                          | nan         | nan         | nan         | nan         | -103.663 | 41.8643 | nan      | Y      | N    | N       | Y     | N    | Y       | Y          | Y      | Y      | Y       | Y    | N       | Y     | Y          | Y     | Y    | N     | Y    | N       | N    | Y      | Y       | Y        | N    | N     | N    | Y      | Y     | Y      | N      | N      | N         | N       | N    | N             | 2/18/2021 2:37:26 PM\n",
              "1000709 | 26th Annual Highlands Business Partnership's Farmers Market | http://www.highlandsnj.com             | https://www.facebook.com/pages/Highlands-Business-Partne ... | nan     | nan     | visithighlandsnj - Instagram | 71 Waterwitch Avenue       | Highlands        | Monmouth       | New Jersey | 07732 | 06/06/2020               | Sat: 8:30 AM-2:00 PM;                                        | nan                      | nan                                                          | nan         | nan         | nan         | nan         | -73.9944 | 40.4048 | nan      | Y      | Y    | Y       | Y     | Y    | Y       | Y          | Y      | Y      | Y       | Y    | N       | Y     | Y          | Y     | Y    | N     | N    | N       | Y    | Y      | N       | N        | Y    | N     | N    | N      | N     | Y      | N      | Y      | N         | N       | N    | Y             | 9/10/2020 3:25:18 PM\n",
              "1019956 | 29 Palms Farmers' Market                                    | nan                                    | https://www.facebook.com/29palmsfarmersmarket/               | nan     | nan     | IG @29palmsfarmersmarket     | 73484 Twentynine Palms Hwy | Twentynine Palms | San Bernardino | California | 92277 | 01/01/2020 to 01/01/2020 | Sat: 8:00 AM-1:00 PM;                                        | nan                      | nan                                                          | nan         | nan         | nan         | nan         | -116.059 | 34.1358 | nan      | Y      | N    | N       | N     | N    | Y       | Y          | N      | Y      | N       | Y    | N       | Y     | Y          | Y     | Y    | N     | N    | N       | Y    | N      | N       | Y        | Y    | N     | N    | N      | N     | Y      | N      | Y      | N         | N       | N    | N             | 1/13/2021 5:15:12 PM\n",
              "1009959 | 2nd Street Market - Five Rivers MetroPark                   | http://www.metroparks.org              | https://www.facebook.com/2ndStreetMarket/                    | nan     | nan     | nan                          | 600 E. 2nd Street          | Dayton           | Montgomery     | Ohio       | 45402 | 01/01/2018 to 05/31/2018 | Thu: 11:00 AM-3:00 PM;Fri: 11:00 AM-3:00 PM;Sat: 8:00 AM ... | 06/01/2018 to 12/31/2018 | Thu: 11:00 AM-3:00 PM;Fri: 11:00 AM-3:00 PM;Sat: 8:00 AM ... | nan         | nan         | nan         | nan         | -84.181  | 39.7626 | nan      | Y      | N    | Y       | N     | Y    | Y       | Y          | Y      | Y      | Y       | Y    | N       | Y     | Y          | Y     | Y    | Y     | Y    | N       | Y    | Y      | Y       | Y        | Y    | N     | N    | Y      | Y     | Y      | Y      | Y      | Y         | Y       | N    | Y             | 7/26/2018 4:26:56 PM"
            ]
          },
          "execution_count": 70,
          "metadata": {},
          "output_type": "execute_result"
        }
      ],
      "source": [
        "first_5_markets = farmers_markets.take(np.arange(5))\n",
        "first_5_markets"
      ]
    },
    {
      "cell_type": "code",
      "execution_count": null,
      "metadata": {
        "deletable": false,
        "editable": false,
        "id": "nBczZG0xBNt9",
        "outputId": "a17148c0-208d-432a-8e23-ae4fb800f5c8"
      },
      "outputs": [
        {
          "data": {
            "text/html": [
              "<p><strong><pre style='display: inline;'>task_07</pre></strong> passed! 🌟</p><p><strong><pre style='display: inline;'>task_07 - 1</pre> message:</strong> ✅ first_5_markets reflects a Table.</p><p><strong><pre style='display: inline;'>task_07 - 2</pre> message:</strong> ✅ first_5_markets has the correct number of rows.</p><p><strong><pre style='display: inline;'>task_07 - 3</pre> message:</strong> ✅ first_5_markets seems correct.</p>"
            ],
            "text/plain": [
              "task_07 results: All test cases passed!\n",
              "task_07 - 1 message: ✅ first_5_markets reflects a Table.\n",
              "task_07 - 2 message: ✅ first_5_markets has the correct number of rows.\n",
              "task_07 - 3 message: ✅ first_5_markets seems correct."
            ]
          },
          "execution_count": 71,
          "metadata": {},
          "output_type": "execute_result"
        }
      ],
      "source": [
        "grader.check(\"task_07\")"
      ]
    },
    {
      "cell_type": "markdown",
      "metadata": {
        "id": "DyS4L-smBNt9"
      },
      "source": [
        "---"
      ]
    },
    {
      "cell_type": "markdown",
      "metadata": {
        "id": "-zCxLYquBNt9"
      },
      "source": [
        "### `group`"
      ]
    },
    {
      "cell_type": "markdown",
      "metadata": {
        "id": "OUqxEriiBNt9"
      },
      "source": [
        "The `farmers_markets` table is initially set up to have one market per row, but what if you want to analyze the markets from the State perspective? For example, it could be helpful to count how many markets there are in each state.\n",
        "\n",
        "The `group` table method in the `datascience` library is a powerful tool for summarizing and aggregating data based on the unique values within one or more columns. It works by grouping rows in a table based on the distinct values in one or more specified columns.\n",
        "\n",
        "Run the following cell which takes `farmers_market_locations` and creates a new table that will group the farmers' markets by `'State'` and list the counts for the number of farmers' markets in each state. We will go into greater depth with the `group` method later in the course. Notice that the column of counts automatically gets the label of `count`."
      ]
    },
    {
      "cell_type": "code",
      "execution_count": null,
      "metadata": {
        "id": "KcnGB2MoBNt-",
        "outputId": "43f394ba-859a-45b4-9a14-23f485fb2eeb"
      },
      "outputs": [
        {
          "data": {
            "text/html": [
              "<table border=\"1\" class=\"dataframe\">\n",
              "    <thead>\n",
              "        <tr>\n",
              "            <th>State</th> <th>count</th>\n",
              "        </tr>\n",
              "    </thead>\n",
              "    <tbody>\n",
              "        <tr>\n",
              "            <td>Alabama             </td> <td>17   </td>\n",
              "        </tr>\n",
              "        <tr>\n",
              "            <td>Alaska              </td> <td>8    </td>\n",
              "        </tr>\n",
              "        <tr>\n",
              "            <td>Arizona             </td> <td>11   </td>\n",
              "        </tr>\n",
              "        <tr>\n",
              "            <td>Arkansas            </td> <td>30   </td>\n",
              "        </tr>\n",
              "        <tr>\n",
              "            <td>California          </td> <td>136  </td>\n",
              "        </tr>\n",
              "        <tr>\n",
              "            <td>Colorado            </td> <td>25   </td>\n",
              "        </tr>\n",
              "        <tr>\n",
              "            <td>Connecticut         </td> <td>28   </td>\n",
              "        </tr>\n",
              "        <tr>\n",
              "            <td>Delaware            </td> <td>7    </td>\n",
              "        </tr>\n",
              "        <tr>\n",
              "            <td>District of Columbia</td> <td>8    </td>\n",
              "        </tr>\n",
              "        <tr>\n",
              "            <td>Florida             </td> <td>36   </td>\n",
              "        </tr>\n",
              "    </tbody>\n",
              "</table>\n",
              "<p>... (43 rows omitted)</p>"
            ],
            "text/plain": [
              "State                | count\n",
              "Alabama              | 17\n",
              "Alaska               | 8\n",
              "Arizona              | 11\n",
              "Arkansas             | 30\n",
              "California           | 136\n",
              "Colorado             | 25\n",
              "Connecticut          | 28\n",
              "Delaware             | 7\n",
              "District of Columbia | 8\n",
              "Florida              | 36\n",
              "... (43 rows omitted)"
            ]
          },
          "execution_count": 72,
          "metadata": {},
          "output_type": "execute_result"
        }
      ],
      "source": [
        "farmers_markets_locations.group('State')"
      ]
    },
    {
      "cell_type": "markdown",
      "metadata": {
        "id": "E5_BeqB7BNt-"
      },
      "source": [
        "#### Task 08 📍"
      ]
    },
    {
      "cell_type": "markdown",
      "metadata": {
        "deletable": false,
        "editable": false,
        "id": "LLY5hwhlBNt-"
      },
      "source": [
        "For this task, use `group` to assign `markets_by_county` to a table containing a row for each county in `california_farmers_markets` with a column (`'County'`) for the name of the county and a column (`'count'`) showing the count of markets within that county."
      ]
    },
    {
      "cell_type": "code",
      "execution_count": null,
      "metadata": {
        "tags": [],
        "id": "pWFIlS9bBNt-",
        "outputId": "72bb1ed4-d85b-4162-c19e-246077fce416"
      },
      "outputs": [
        {
          "data": {
            "text/html": [
              "<table border=\"1\" class=\"dataframe\">\n",
              "    <thead>\n",
              "        <tr>\n",
              "            <th>County</th> <th>count</th>\n",
              "        </tr>\n",
              "    </thead>\n",
              "    <tbody>\n",
              "        <tr>\n",
              "            <td>Alameda     </td> <td>7    </td>\n",
              "        </tr>\n",
              "        <tr>\n",
              "            <td>Butte       </td> <td>4    </td>\n",
              "        </tr>\n",
              "        <tr>\n",
              "            <td>Calaveras   </td> <td>2    </td>\n",
              "        </tr>\n",
              "        <tr>\n",
              "            <td>Colusa      </td> <td>1    </td>\n",
              "        </tr>\n",
              "        <tr>\n",
              "            <td>Contra Costa</td> <td>3    </td>\n",
              "        </tr>\n",
              "        <tr>\n",
              "            <td>El Dorado   </td> <td>6    </td>\n",
              "        </tr>\n",
              "        <tr>\n",
              "            <td>Fresno      </td> <td>5    </td>\n",
              "        </tr>\n",
              "        <tr>\n",
              "            <td>Humboldt    </td> <td>1    </td>\n",
              "        </tr>\n",
              "        <tr>\n",
              "            <td>Lake        </td> <td>2    </td>\n",
              "        </tr>\n",
              "        <tr>\n",
              "            <td>Los Angeles </td> <td>28   </td>\n",
              "        </tr>\n",
              "    </tbody>\n",
              "</table>\n",
              "<p>... (23 rows omitted)</p>"
            ],
            "text/plain": [
              "County       | count\n",
              "Alameda      | 7\n",
              "Butte        | 4\n",
              "Calaveras    | 2\n",
              "Colusa       | 1\n",
              "Contra Costa | 3\n",
              "El Dorado    | 6\n",
              "Fresno       | 5\n",
              "Humboldt     | 1\n",
              "Lake         | 2\n",
              "Los Angeles  | 28\n",
              "... (23 rows omitted)"
            ]
          },
          "execution_count": 73,
          "metadata": {},
          "output_type": "execute_result"
        }
      ],
      "source": [
        "markets_by_county = california_farmers_markets.group('County')\n",
        "markets_by_county"
      ]
    },
    {
      "cell_type": "code",
      "execution_count": null,
      "metadata": {
        "deletable": false,
        "editable": false,
        "id": "IjJsSS5GBNt_",
        "outputId": "e5af9651-3f63-4188-d701-fac202a0a657"
      },
      "outputs": [
        {
          "data": {
            "text/html": [
              "<p><strong><pre style='display: inline;'>task_08</pre></strong> passed! 🎉</p><p><strong><pre style='display: inline;'>task_08 - 1</pre> message:</strong> ✅ You've made a table with the correct name.</p><p><strong><pre style='display: inline;'>task_08 - 2</pre> message:</strong> ✅ markets_by_counts has the correct columns.</p><p><strong><pre style='display: inline;'>task_08 - 3</pre> message:</strong> ✅ markets_by_counts seems correct.</p>"
            ],
            "text/plain": [
              "task_08 results: All test cases passed!\n",
              "task_08 - 1 message: ✅ You've made a table with the correct name.\n",
              "task_08 - 2 message: ✅ markets_by_counts has the correct columns.\n",
              "task_08 - 3 message: ✅ markets_by_counts seems correct."
            ]
          },
          "execution_count": 74,
          "metadata": {},
          "output_type": "execute_result"
        }
      ],
      "source": [
        "grader.check(\"task_08\")"
      ]
    },
    {
      "cell_type": "markdown",
      "metadata": {
        "id": "qfXAtA_oBNt_"
      },
      "source": [
        "---"
      ]
    },
    {
      "cell_type": "markdown",
      "metadata": {
        "id": "gHTZUzzZBNt_"
      },
      "source": [
        "### `sort`"
      ]
    },
    {
      "cell_type": "markdown",
      "metadata": {
        "id": "8bTFtTzPBNt_"
      },
      "source": [
        "Notice that `farmers_markets_locations.group('State')` sorted the information such that the states are in alphabetical order. If you want to re-organize the table to show the states with the most markets at the top, then you'd want to use the `sort` table method.\n",
        "\n",
        "You need to provide `sort` with the column name (or index) you want to sort by and the information will be sorted in ascending order by default.\n",
        "\n",
        "Run the following cell to find the states in the data set with the least farmers' markets."
      ]
    },
    {
      "cell_type": "code",
      "execution_count": null,
      "metadata": {
        "id": "AvV6iy60BNuA",
        "outputId": "008d54c6-a302-4952-f9b4-1b892b0e3cde"
      },
      "outputs": [
        {
          "data": {
            "text/html": [
              "<table border=\"1\" class=\"dataframe\">\n",
              "    <thead>\n",
              "        <tr>\n",
              "            <th>State</th> <th>count</th>\n",
              "        </tr>\n",
              "    </thead>\n",
              "    <tbody>\n",
              "        <tr>\n",
              "            <td>nan                 </td> <td>1    </td>\n",
              "        </tr>\n",
              "        <tr>\n",
              "            <td>Puerto Rico         </td> <td>2    </td>\n",
              "        </tr>\n",
              "        <tr>\n",
              "            <td>North Dakota        </td> <td>4    </td>\n",
              "        </tr>\n",
              "        <tr>\n",
              "            <td>Oklahoma            </td> <td>6    </td>\n",
              "        </tr>\n",
              "        <tr>\n",
              "            <td>Delaware            </td> <td>7    </td>\n",
              "        </tr>\n",
              "        <tr>\n",
              "            <td>Mississippi         </td> <td>7    </td>\n",
              "        </tr>\n",
              "        <tr>\n",
              "            <td>South Dakota        </td> <td>7    </td>\n",
              "        </tr>\n",
              "        <tr>\n",
              "            <td>Wyoming             </td> <td>7    </td>\n",
              "        </tr>\n",
              "        <tr>\n",
              "            <td>Alaska              </td> <td>8    </td>\n",
              "        </tr>\n",
              "        <tr>\n",
              "            <td>District of Columbia</td> <td>8    </td>\n",
              "        </tr>\n",
              "    </tbody>\n",
              "</table>\n",
              "<p>... (43 rows omitted)</p>"
            ],
            "text/plain": [
              "State                | count\n",
              "nan                  | 1\n",
              "Puerto Rico          | 2\n",
              "North Dakota         | 4\n",
              "Oklahoma             | 6\n",
              "Delaware             | 7\n",
              "Mississippi          | 7\n",
              "South Dakota         | 7\n",
              "Wyoming              | 7\n",
              "Alaska               | 8\n",
              "District of Columbia | 8\n",
              "... (43 rows omitted)"
            ]
          },
          "execution_count": 75,
          "metadata": {},
          "output_type": "execute_result"
        }
      ],
      "source": [
        "farmers_markets_locations.group('State').sort('count')"
      ]
    },
    {
      "cell_type": "markdown",
      "metadata": {
        "id": "82a9VtQ-BNuB"
      },
      "source": [
        "If you want the largest counts at the top of the table, you'd need to sort in descending order. You can do this by adjusting the `descending` argument to have a value of `True`. Specifically, you could type `.sort('count', descending=True)`."
      ]
    },
    {
      "cell_type": "markdown",
      "metadata": {
        "id": "42CbbMQfBNuB"
      },
      "source": [
        "---"
      ]
    },
    {
      "cell_type": "markdown",
      "metadata": {
        "tags": [],
        "id": "KSx-3eKJBNuB"
      },
      "source": [
        "#### Task 09 📍"
      ]
    },
    {
      "cell_type": "markdown",
      "metadata": {
        "deletable": false,
        "editable": false,
        "id": "rGrdzbmCBNuB"
      },
      "source": [
        "Assign `sorted_markets_by_county` to a table containing the information in `markets_by_county` sorted such that the counts are in descending order and the counties with the largest counts are at the top of the table."
      ]
    },
    {
      "cell_type": "code",
      "execution_count": null,
      "metadata": {
        "tags": [],
        "id": "62S8QwxIBNuB",
        "outputId": "5942c4f4-0af2-4f55-af53-fb98fe850921"
      },
      "outputs": [
        {
          "data": {
            "text/html": [
              "<table border=\"1\" class=\"dataframe\">\n",
              "    <thead>\n",
              "        <tr>\n",
              "            <th>County</th> <th>count</th>\n",
              "        </tr>\n",
              "    </thead>\n",
              "    <tbody>\n",
              "        <tr>\n",
              "            <td>Los Angeles   </td> <td>28   </td>\n",
              "        </tr>\n",
              "        <tr>\n",
              "            <td>San Bernardino</td> <td>10   </td>\n",
              "        </tr>\n",
              "        <tr>\n",
              "            <td>Sonoma        </td> <td>10   </td>\n",
              "        </tr>\n",
              "        <tr>\n",
              "            <td>Alameda       </td> <td>7    </td>\n",
              "        </tr>\n",
              "        <tr>\n",
              "            <td>Santa Clara   </td> <td>7    </td>\n",
              "        </tr>\n",
              "        <tr>\n",
              "            <td>El Dorado     </td> <td>6    </td>\n",
              "        </tr>\n",
              "        <tr>\n",
              "            <td>San Diego     </td> <td>6    </td>\n",
              "        </tr>\n",
              "        <tr>\n",
              "            <td>Fresno        </td> <td>5    </td>\n",
              "        </tr>\n",
              "        <tr>\n",
              "            <td>Butte         </td> <td>4    </td>\n",
              "        </tr>\n",
              "        <tr>\n",
              "            <td>San Mateo     </td> <td>4    </td>\n",
              "        </tr>\n",
              "    </tbody>\n",
              "</table>\n",
              "<p>... (23 rows omitted)</p>"
            ],
            "text/plain": [
              "County         | count\n",
              "Los Angeles    | 28\n",
              "San Bernardino | 10\n",
              "Sonoma         | 10\n",
              "Alameda        | 7\n",
              "Santa Clara    | 7\n",
              "El Dorado      | 6\n",
              "San Diego      | 6\n",
              "Fresno         | 5\n",
              "Butte          | 4\n",
              "San Mateo      | 4\n",
              "... (23 rows omitted)"
            ]
          },
          "execution_count": 79,
          "metadata": {},
          "output_type": "execute_result"
        }
      ],
      "source": [
        "sorted_markets_by_county = markets_by_county.sort('count',descending= True)\n",
        "sorted_markets_by_county"
      ]
    },
    {
      "cell_type": "code",
      "execution_count": null,
      "metadata": {
        "deletable": false,
        "editable": false,
        "id": "GhMtK1RWBNuC",
        "outputId": "46237a7b-8589-48a2-e91a-a6c17c3aafdc"
      },
      "outputs": [
        {
          "data": {
            "text/html": [
              "<p><strong><pre style='display: inline;'>task_09</pre></strong> passed! 🚀</p><p><strong><pre style='display: inline;'>task_09 - 1</pre> message:</strong> ✅ sorted_markets_by_county has the correct first row.</p>"
            ],
            "text/plain": [
              "task_09 results: All test cases passed!\n",
              "task_09 - 1 message: ✅ sorted_markets_by_county has the correct first row."
            ]
          },
          "execution_count": 80,
          "metadata": {},
          "output_type": "execute_result"
        }
      ],
      "source": [
        "grader.check(\"task_09\")"
      ]
    },
    {
      "cell_type": "markdown",
      "metadata": {
        "id": "kWAGf2ZpBNuC"
      },
      "source": [
        "---"
      ]
    },
    {
      "cell_type": "markdown",
      "metadata": {
        "id": "rCZubWsgBNuC"
      },
      "source": [
        "## Combining Commands and Using Documentation."
      ]
    },
    {
      "cell_type": "markdown",
      "metadata": {
        "id": "GT1S1WAnBNuD"
      },
      "source": [
        "There are many more table operations. It is challenging to memorize them all and you do not need to do that! Instead, you can reference documentation such as the [`datascience` documentation page on `Tables`](https://datascience.readthedocs.io/en/master/tables.html) to get a summary of all the operations for tables."
      ]
    },
    {
      "cell_type": "markdown",
      "metadata": {
        "tags": [],
        "id": "E_2SYGNKBNuD"
      },
      "source": [
        "#### Task 10 📍"
      ]
    },
    {
      "cell_type": "markdown",
      "metadata": {
        "deletable": false,
        "editable": false,
        "id": "Eijd_SjHBNuD"
      },
      "source": [
        "Using a variety of tools you've learned about in this assignment and the [`relabeled` command](https://datascience.readthedocs.io/en/master/_autosummary/datascience.tables.Table.relabeled.html#datascience.tables.Table.relabeled) from the documentation, assign `top_10` to a table with two columns `'City'` and `'Number of Markets'` which contains the 10 cities with the most number of farmers markets according to the `farmers_markets` data set.\n",
        "\n",
        "**Note**:\n",
        "This task involves several tasks, we recommend trying to break this up into smaller steps and use intermediate variable names to store your progress."
      ]
    },
    {
      "cell_type": "code",
      "execution_count": null,
      "metadata": {
        "id": "vu97JVmeBNuD",
        "outputId": "ea05634a-ccf1-4e45-8279-7d0d0e78965a"
      },
      "outputs": [
        {
          "data": {
            "text/html": [
              "<table border=\"1\" class=\"dataframe\">\n",
              "    <thead>\n",
              "        <tr>\n",
              "            <th>city</th> <th>count</th>\n",
              "        </tr>\n",
              "    </thead>\n",
              "    <tbody>\n",
              "        <tr>\n",
              "            <td>New York    </td> <td>13   </td>\n",
              "        </tr>\n",
              "        <tr>\n",
              "            <td>Honolulu    </td> <td>12   </td>\n",
              "        </tr>\n",
              "        <tr>\n",
              "            <td>Portland    </td> <td>12   </td>\n",
              "        </tr>\n",
              "        <tr>\n",
              "            <td>Houston     </td> <td>11   </td>\n",
              "        </tr>\n",
              "        <tr>\n",
              "            <td>Atlanta     </td> <td>10   </td>\n",
              "        </tr>\n",
              "        <tr>\n",
              "            <td>Chicago     </td> <td>9    </td>\n",
              "        </tr>\n",
              "        <tr>\n",
              "            <td>Philadelphia</td> <td>9    </td>\n",
              "        </tr>\n",
              "        <tr>\n",
              "            <td>San Antonio </td> <td>9    </td>\n",
              "        </tr>\n",
              "        <tr>\n",
              "            <td>Columbus    </td> <td>8    </td>\n",
              "        </tr>\n",
              "        <tr>\n",
              "            <td>Los Angeles </td> <td>8    </td>\n",
              "        </tr>\n",
              "    </tbody>\n",
              "</table>\n",
              "<p>... (1286 rows omitted)</p>"
            ],
            "text/plain": [
              "city         | count\n",
              "New York     | 13\n",
              "Honolulu     | 12\n",
              "Portland     | 12\n",
              "Houston      | 11\n",
              "Atlanta      | 10\n",
              "Chicago      | 9\n",
              "Philadelphia | 9\n",
              "San Antonio  | 9\n",
              "Columbus     | 8\n",
              "Los Angeles  | 8\n",
              "... (1286 rows omitted)"
            ]
          },
          "execution_count": 86,
          "metadata": {},
          "output_type": "execute_result"
        }
      ],
      "source": [
        "base=farmers_markets.group('city').sort('count',True)\n",
        "base"
      ]
    },
    {
      "cell_type": "code",
      "execution_count": null,
      "metadata": {
        "id": "HELPV1CkBNuE",
        "outputId": "1c31e2bb-41a9-45b1-b059-8d7cf87cc23f"
      },
      "outputs": [
        {
          "data": {
            "text/html": [
              "<table border=\"1\" class=\"dataframe\">\n",
              "    <thead>\n",
              "        <tr>\n",
              "            <th>City</th> <th>Number of Markets</th>\n",
              "        </tr>\n",
              "    </thead>\n",
              "    <tbody>\n",
              "        <tr>\n",
              "            <td>New York    </td> <td>13               </td>\n",
              "        </tr>\n",
              "        <tr>\n",
              "            <td>Honolulu    </td> <td>12               </td>\n",
              "        </tr>\n",
              "        <tr>\n",
              "            <td>Portland    </td> <td>12               </td>\n",
              "        </tr>\n",
              "        <tr>\n",
              "            <td>Houston     </td> <td>11               </td>\n",
              "        </tr>\n",
              "        <tr>\n",
              "            <td>Atlanta     </td> <td>10               </td>\n",
              "        </tr>\n",
              "        <tr>\n",
              "            <td>Chicago     </td> <td>9                </td>\n",
              "        </tr>\n",
              "        <tr>\n",
              "            <td>Philadelphia</td> <td>9                </td>\n",
              "        </tr>\n",
              "        <tr>\n",
              "            <td>San Antonio </td> <td>9                </td>\n",
              "        </tr>\n",
              "        <tr>\n",
              "            <td>Columbus    </td> <td>8                </td>\n",
              "        </tr>\n",
              "        <tr>\n",
              "            <td>Los Angeles </td> <td>8                </td>\n",
              "        </tr>\n",
              "    </tbody>\n",
              "</table>\n",
              "<p>... (1286 rows omitted)</p>"
            ],
            "text/plain": [
              "City         | Number of Markets\n",
              "New York     | 13\n",
              "Honolulu     | 12\n",
              "Portland     | 12\n",
              "Houston      | 11\n",
              "Atlanta      | 10\n",
              "Chicago      | 9\n",
              "Philadelphia | 9\n",
              "San Antonio  | 9\n",
              "Columbus     | 8\n",
              "Los Angeles  | 8\n",
              "... (1286 rows omitted)"
            ]
          },
          "execution_count": 87,
          "metadata": {},
          "output_type": "execute_result"
        }
      ],
      "source": [
        "col_relabeled=base.relabeled('city','City').relabeled('count','Number of Markets')\n",
        "col_relabeled"
      ]
    },
    {
      "cell_type": "code",
      "execution_count": null,
      "metadata": {
        "tags": [],
        "id": "87sykrZXBNuE",
        "outputId": "64f66968-129e-4c12-effa-d90bfab31d89"
      },
      "outputs": [
        {
          "data": {
            "text/html": [
              "<table border=\"1\" class=\"dataframe\">\n",
              "    <thead>\n",
              "        <tr>\n",
              "            <th>City</th> <th>Number of Markets</th>\n",
              "        </tr>\n",
              "    </thead>\n",
              "    <tbody>\n",
              "        <tr>\n",
              "            <td>New York    </td> <td>13               </td>\n",
              "        </tr>\n",
              "        <tr>\n",
              "            <td>Honolulu    </td> <td>12               </td>\n",
              "        </tr>\n",
              "        <tr>\n",
              "            <td>Portland    </td> <td>12               </td>\n",
              "        </tr>\n",
              "        <tr>\n",
              "            <td>Houston     </td> <td>11               </td>\n",
              "        </tr>\n",
              "        <tr>\n",
              "            <td>Atlanta     </td> <td>10               </td>\n",
              "        </tr>\n",
              "        <tr>\n",
              "            <td>Chicago     </td> <td>9                </td>\n",
              "        </tr>\n",
              "        <tr>\n",
              "            <td>Philadelphia</td> <td>9                </td>\n",
              "        </tr>\n",
              "        <tr>\n",
              "            <td>San Antonio </td> <td>9                </td>\n",
              "        </tr>\n",
              "        <tr>\n",
              "            <td>Columbus    </td> <td>8                </td>\n",
              "        </tr>\n",
              "        <tr>\n",
              "            <td>Los Angeles </td> <td>8                </td>\n",
              "        </tr>\n",
              "    </tbody>\n",
              "</table>"
            ],
            "text/plain": [
              "City         | Number of Markets\n",
              "New York     | 13\n",
              "Honolulu     | 12\n",
              "Portland     | 12\n",
              "Houston      | 11\n",
              "Atlanta      | 10\n",
              "Chicago      | 9\n",
              "Philadelphia | 9\n",
              "San Antonio  | 9\n",
              "Columbus     | 8\n",
              "Los Angeles  | 8"
            ]
          },
          "execution_count": 89,
          "metadata": {},
          "output_type": "execute_result"
        }
      ],
      "source": [
        "top_10 = col_relabeled.take(np.arange(10))\n",
        "top_10"
      ]
    },
    {
      "cell_type": "code",
      "execution_count": null,
      "metadata": {
        "deletable": false,
        "editable": false,
        "id": "2fgND8u0BNuE",
        "outputId": "7e525a7f-1304-4c24-ce00-9f1ce4bb2a4f"
      },
      "outputs": [
        {
          "data": {
            "text/html": [
              "<p><strong><pre style='display: inline;'>task_10</pre></strong> passed! 🙌</p><p><strong><pre style='display: inline;'>task_10 - 1</pre> message:</strong> ✅ top_10 is assigned to a Table.</p><p><strong><pre style='display: inline;'>task_10 - 2</pre> message:</strong> ✅ top_10 has 10 rows.</p><p><strong><pre style='display: inline;'>task_10 - 3</pre> message:</strong> ✅ top_10 has 2 columns.</p><p><strong><pre style='display: inline;'>task_10 - 4</pre> message:</strong> ✅ top_10 has the correct column labels.</p><p><strong><pre style='display: inline;'>task_10 - 5</pre> message:</strong> ✅ top_10 seems correct.</p>"
            ],
            "text/plain": [
              "task_10 results: All test cases passed!\n",
              "task_10 - 1 message: ✅ top_10 is assigned to a Table.\n",
              "task_10 - 2 message: ✅ top_10 has 10 rows.\n",
              "task_10 - 3 message: ✅ top_10 has 2 columns.\n",
              "task_10 - 4 message: ✅ top_10 has the correct column labels.\n",
              "task_10 - 5 message: ✅ top_10 seems correct."
            ]
          },
          "execution_count": 90,
          "metadata": {},
          "output_type": "execute_result"
        }
      ],
      "source": [
        "grader.check(\"task_10\")"
      ]
    },
    {
      "cell_type": "markdown",
      "metadata": {
        "id": "I95nTMXHBNuF"
      },
      "source": [
        "Great work so far! There is a lot to learn about `Tables`. Some of it we will guide you in specifically and other things require you to look through the documentation or ask for help about."
      ]
    },
    {
      "cell_type": "markdown",
      "metadata": {
        "id": "JYNK7xmGBNuF"
      },
      "source": [
        "---"
      ]
    },
    {
      "cell_type": "markdown",
      "metadata": {
        "id": "-6NDR3CmBNuF"
      },
      "source": [
        "## Submit Your Assignment to Canvas"
      ]
    },
    {
      "cell_type": "markdown",
      "metadata": {
        "jp-MarkdownHeadingCollapsed": true,
        "id": "LbOmruucBNuF"
      },
      "source": [
        "Follow these steps to submit your lab assignment:\n",
        "\n",
        "1. **Check the Assignment Completion Requirements:** This assignment is scored as Complete or Incomplete. Make sure to check with your instructor about their requirements for a Complete score.\n",
        "2. **Run the Auto-Grader:** Ensure you have executed the code cell containing the command `grader.check_all()` to run all tests for auto-graded tasks marked with 📍. This command will execute all auto-grader tests sequentially.\n",
        "3. **Complete Manually Graded Tasks:** Verify that you have responded to all the manually graded tasks marked with 📍🔎.\n",
        "4. **Save Your Work:** In the notebook's Toolbar, go to `File -> Save Notebook` to save your work and create a checkpoint.\n",
        "5. **Download the Notebook:** In the notebook's Toolbar, go to `File -> Download HTML` to download the HTML version (`.html`) of this notebook.\n",
        "6. **Upload to Canvas:** On the Canvas Assignment page, click \"Start Assignment\" or \"New Attempt\" to upload the downloaded `.html` file."
      ]
    },
    {
      "cell_type": "markdown",
      "metadata": {
        "id": "3Tfwt-VzBNuG"
      },
      "source": [
        "---"
      ]
    },
    {
      "cell_type": "markdown",
      "metadata": {
        "editable": true,
        "tags": [],
        "id": "1EqrGP22BNuG"
      },
      "source": [
        "## Attribution"
      ]
    },
    {
      "cell_type": "markdown",
      "metadata": {
        "id": "VCGN17GFBNuG"
      },
      "source": [
        "This content is licensed under the <a href=\"https://creativecommons.org/licenses/by-nc-sa/4.0/\">Creative Commons Attribution-NonCommercial-ShareAlike 4.0 International License (CC BY-NC-SA 4.0)</a> and derived from the <a href=\"https://www.data8.org/\">Data 8: The Foundations of Data Science</a> offered by the University of California, Berkeley.\n",
        "\n",
        "<img src=\"./by-nc-sa.png\" width=100px>"
      ]
    },
    {
      "cell_type": "markdown",
      "metadata": {
        "deletable": false,
        "editable": false,
        "id": "VGikQaeyBNuG"
      },
      "source": [
        "---\n",
        "\n",
        "To double-check your work, the cell below will rerun all of the autograder tests."
      ]
    },
    {
      "cell_type": "code",
      "execution_count": null,
      "metadata": {
        "deletable": false,
        "editable": false,
        "id": "vWToth9BBNuH",
        "outputId": "6ba7a7cc-4df5-4eff-e602-ff594c646f50"
      },
      "outputs": [
        {
          "data": {
            "text/plain": [
              "task_02 results: All test cases passed!\n",
              "task_02 - 1 message: ✅ Great work!\n",
              "\n",
              "task_03 results: All test cases passed!\n",
              "task_03 - 1 message: ✅ Great work. It seems you have the correct columns!\n",
              "task_03 - 2 message: ✅ Your table seems to have the correct information.\n",
              "\n",
              "task_04 results: All test cases passed!\n",
              "task_04 - 1 message: ✅ It seems you have the correct number of markets.\n",
              "task_04 - 2 message: ✅ You've filtered the table to just San Francisco markets.\n",
              "\n",
              "task_05 results: All test cases passed!\n",
              "task_05 - 1 message: ✅ san_farmers_markets is assigned to a Table.\n",
              "task_05 - 2 message: ✅ san_farmers_markets contains only markets from California.\n",
              "task_05 - 3 message: ✅ san_farmers_markets contains the correct number of rows.\n",
              "task_05 - 4 message: ✅ san_farmers_markets seems correct.\n",
              "\n",
              "task_06 results: All test cases passed!\n",
              "task_06 - 1 message: ✅ bay_area_farmers_markets is a Table.\n",
              "task_06 - 2 message: ✅ You seem to have the top boundary accounted for.\n",
              "task_06 - 3 message: ✅ You seem to have the bottom boundary accounted for.\n",
              "task_06 - 4 message: ✅ You seem to have the left boundary accounted for.\n",
              "task_06 - 5 message: ✅ You seem to have the right boundary accounted for.\n",
              "task_06 - 6 message: ✅ bay_area_farmers_markets has the correct number of rows.\n",
              "task_06 - 7 message: ✅ bay_area_farmers_markets seems correct.\n",
              "\n",
              "task_07 results: All test cases passed!\n",
              "task_07 - 1 message: ✅ first_5_markets reflects a Table.\n",
              "task_07 - 2 message: ✅ first_5_markets has the correct number of rows.\n",
              "task_07 - 3 message: ✅ first_5_markets seems correct.\n",
              "\n",
              "task_08 results: All test cases passed!\n",
              "task_08 - 1 message: ✅ You've made a table with the correct name.\n",
              "task_08 - 2 message: ✅ markets_by_counts has the correct columns.\n",
              "task_08 - 3 message: ✅ markets_by_counts seems correct.\n",
              "\n",
              "task_09 results: All test cases passed!\n",
              "task_09 - 1 message: ✅ sorted_markets_by_county has the correct first row.\n",
              "\n",
              "task_10 results: All test cases passed!\n",
              "task_10 - 1 message: ✅ top_10 is assigned to a Table.\n",
              "task_10 - 2 message: ✅ top_10 has 10 rows.\n",
              "task_10 - 3 message: ✅ top_10 has 2 columns.\n",
              "task_10 - 4 message: ✅ top_10 has the correct column labels.\n",
              "task_10 - 5 message: ✅ top_10 seems correct."
            ]
          },
          "execution_count": 91,
          "metadata": {},
          "output_type": "execute_result"
        }
      ],
      "source": [
        "grader.check_all()"
      ]
    },
    {
      "cell_type": "code",
      "execution_count": null,
      "metadata": {
        "id": "jhVUTYTyBNuH"
      },
      "outputs": [],
      "source": []
    }
  ],
  "metadata": {
    "hide_input": false,
    "kernelspec": {
      "display_name": "Python 3 (ipykernel)",
      "language": "python",
      "name": "python3"
    },
    "language_info": {
      "codemirror_mode": {
        "name": "ipython",
        "version": 3
      },
      "file_extension": ".py",
      "mimetype": "text/x-python",
      "name": "python",
      "nbconvert_exporter": "python",
      "pygments_lexer": "ipython3",
      "version": "3.11.9"
    },
    "otter": {
      "OK_FORMAT": true,
      "assignment_name": "lab03_sp25",
      "tests": {
        "task_02": {
          "name": "task_02",
          "points": null,
          "suites": [
            {
              "cases": [
                {
                  "code": ">>> num_farmers_markets_columns == 59\nTrue",
                  "failure_message": "❌ It doesn't seem that you have the correct value. Make sure you using .num_columns directly after the name of the table.",
                  "hidden": false,
                  "locked": false,
                  "success_message": "✅ Great work!"
                }
              ],
              "scored": true,
              "setup": "",
              "teardown": "",
              "type": "doctest"
            }
          ]
        },
        "task_03": {
          "name": "task_03",
          "points": null,
          "suites": [
            {
              "cases": [
                {
                  "code": ">>> sorted(farmers_markets_locations.labels) == ['County', 'MarketName', 'State', 'city', 'x', 'y']\nTrue",
                  "failure_message": "❌ It doesn't seem that you have the correct columns. Make sure you are using the names of the 5 column, sepearted by commas, as the input for .select().",
                  "hidden": false,
                  "locked": false,
                  "success_message": "✅ Great work. It seems you have the correct columns!"
                },
                {
                  "code": ">>> farmers_markets_locations.num_rows == 1681 and farmers_markets_locations.sort('State').row(10).item(3) == 'Alabama'\nTrue",
                  "failure_message": "❌ It doesn't seem that you all of the information from the table for those specific columns",
                  "hidden": false,
                  "locked": false,
                  "success_message": "✅ Your table seems to have the correct information."
                }
              ],
              "scored": true,
              "setup": "",
              "teardown": "",
              "type": "doctest"
            }
          ]
        },
        "task_04": {
          "name": "task_04",
          "points": null,
          "suites": [
            {
              "cases": [
                {
                  "code": ">>> sf_markets.num_rows == 3\nTrue",
                  "failure_message": "❌ It doesn't seem that you have the correct number of markets. Make sure you are using the where method with the 'city' column as the first arugment and and correct city as the second argument",
                  "hidden": false,
                  "locked": false,
                  "success_message": "✅ It seems you have the correct number of markets."
                },
                {
                  "code": ">>> list(sf_markets.column('city')) == ['San Francisco', 'San Francisco', 'San Francisco']\nTrue",
                  "failure_message": "❌ It doesn't seem that you have filtered the table to just San Francisco markets. Make sure to double-check your spelling.",
                  "hidden": false,
                  "locked": false,
                  "success_message": "✅ You've filtered the table to just San Francisco markets."
                }
              ],
              "scored": true,
              "setup": "",
              "teardown": "",
              "type": "doctest"
            }
          ]
        },
        "task_05": {
          "name": "task_05",
          "points": null,
          "suites": [
            {
              "cases": [
                {
                  "code": ">>> isinstance(san_farmers_markets, Table)\nTrue",
                  "failure_message": "❌ san_farmers_markets is not assigned to a Table. We recommend that you use the where table method for this task.",
                  "hidden": false,
                  "locked": false,
                  "points": 1,
                  "success_message": "✅ san_farmers_markets is assigned to a Table."
                },
                {
                  "code": ">>> set(san_farmers_markets.column('State')) == {'California'}\nTrue",
                  "failure_message": "❌ san_farmers_markets should only contain markets from California. Make sure you are using the california_farmers_markets table.",
                  "hidden": false,
                  "locked": false,
                  "points": 1,
                  "success_message": "✅ san_farmers_markets contains only markets from California."
                },
                {
                  "code": ">>> san_farmers_markets.num_rows\n12",
                  "failure_message": "❌ san_farmers_markets doesn't contain the correct number of rows. Are you including the space after San?",
                  "hidden": false,
                  "locked": false,
                  "points": 1,
                  "success_message": "✅ san_farmers_markets contains the correct number of rows."
                },
                {
                  "code": ">>> names_in_table = set(san_farmers_markets.column('MarketName'))\n>>> expected_names = {\"CalaverasGROWN Certified Farmers' Market San Andreas\", \"Cambrian Park Farmers' Market\", 'City Heights Certified Farmers Market', 'Ferry Plaza Farmers Market', 'Linda Vista Certified Farmers Market', 'Little Italy Mercato CFM', 'Mission Community Market', 'Ocean Beach Certified Farmers Market', 'SLO Farm Supply Farmers Market', 'San Francisco Certified Alemany Farmers Market', 'Thursday Marin Farmers Market', \"Willow Glen Farmers' Market\"}\n>>> names_in_table == expected_names\nTrue",
                  "failure_message": "❌ san_farmers_markets doesn't seem correct. Are you using the are.containing predicate with the where method?",
                  "hidden": false,
                  "locked": false,
                  "points": 1,
                  "success_message": "✅ san_farmers_markets seems correct."
                }
              ],
              "scored": true,
              "setup": "",
              "teardown": "",
              "type": "doctest"
            }
          ]
        },
        "task_06": {
          "name": "task_06",
          "points": null,
          "suites": [
            {
              "cases": [
                {
                  "code": ">>> isinstance(bay_area_farmers_markets, Table)\nTrue",
                  "failure_message": "❌ bay_area_farmers_markets should be a Table. We recommend using the where table method for this one.",
                  "hidden": false,
                  "locked": false,
                  "points": 1,
                  "success_message": "✅ bay_area_farmers_markets is a Table."
                },
                {
                  "code": ">>> np.all(bay_area_farmers_markets.column('y') <= 38.2033)\nTrue",
                  "failure_message": "❌ You don't seem to have the top boundary accounted for. Try assigning top = 38.2033",
                  "hidden": false,
                  "locked": false,
                  "points": 1,
                  "success_message": "✅ You seem to have the top boundary accounted for."
                },
                {
                  "code": ">>> np.all(bay_area_farmers_markets.column('y') >= 37.1897)\nTrue",
                  "failure_message": "❌ You don't seem to have the bottom boundary accounted for. Try assigning bottom = 37.1897",
                  "hidden": false,
                  "locked": false,
                  "points": 1,
                  "success_message": "✅ You seem to have the bottom boundary accounted for."
                },
                {
                  "code": ">>> np.all(bay_area_farmers_markets.column('x') >= -122.6445)\nTrue",
                  "failure_message": "❌ You don't seem to have the left boundary accounted for. Try assigning left = -122.6445",
                  "hidden": false,
                  "locked": false,
                  "points": 1,
                  "success_message": "✅ You seem to have the left boundary accounted for."
                },
                {
                  "code": ">>> np.all(bay_area_farmers_markets.column('x') <= -121.5871)\nTrue",
                  "failure_message": "❌ You don't seem to have the right boundary accounted for. Try assigning right = -121.5871",
                  "hidden": false,
                  "locked": false,
                  "points": 1,
                  "success_message": "✅ You seem to have the right boundary accounted for."
                },
                {
                  "code": ">>> bay_area_farmers_markets.num_rows\n28",
                  "failure_message": "❌ bay_area_farmers_markets doesn't have the correct number of rows. Are you filtering by the x and the y values?",
                  "hidden": false,
                  "locked": false,
                  "points": 1,
                  "success_message": "✅ bay_area_farmers_markets has the correct number of rows."
                },
                {
                  "code": ">>> provided_bay_area_markets = set(bay_area_farmers_markets.column('MarketName'))\n>>> actual_bay_area_markets = {'Benica Certified Farmers Market', \"California Avenue Farmers' Market\", \"Cambrian Park Farmers' Market\", \"Campbell Farmers' Market\", \"Coastside Farmers' Market - Half Moon Bay \", \"Coastside Farmers' Market - Rockaway Beach, Pacifica\", 'Downtown Berkeley', 'Downtown Novato Community Farmers Market', \"Downtown Palo Alto Farmers' Market\", 'Dublin', 'East Palo Alto Community Farmers Market', \"Fairfax Community Farmers' Market\", 'Ferry Plaza Farmers Market', \"Fresh Approach Mobile Farmers' Market\", \"Menlo Park Farmers' Market\", 'Mission Community Market', \"Montclair Village Farmers' Market\", \"North Berkeley Farmers' Market\", \"Old Oakland Farmers' Market\", 'Orinda Famers Market', 'San Francisco Certified Alemany Farmers Market', \"Santa Clara Farmers' Market\", \"South Berkeley Farmers' Market\", \"Sunnyvale Farmers' Market\", \"Temescal Urban Village Farmers' Market \", 'Thursday Marin Farmers Market', \"Walnut Creek Certified Farmers' Market\", \"Willow Glen Farmers' Market\"}\n>>> provided_bay_area_markets == actual_bay_area_markets\nTrue",
                  "failure_message": "❌ bay_area_farmers_markets doesn't seem correct. We recommend using the where method twice with the are.between_or_equal_to predicate.",
                  "hidden": false,
                  "locked": false,
                  "points": 1,
                  "success_message": "✅ bay_area_farmers_markets seems correct."
                }
              ],
              "scored": true,
              "setup": "",
              "teardown": "",
              "type": "doctest"
            }
          ]
        },
        "task_07": {
          "name": "task_07",
          "points": null,
          "suites": [
            {
              "cases": [
                {
                  "code": ">>> isinstance(first_5_markets, Table)\nTrue",
                  "failure_message": "❌ first_5_markets doesn't reflect a Table. Are you using the take table method?",
                  "hidden": false,
                  "locked": false,
                  "points": 1,
                  "success_message": "✅ first_5_markets reflects a Table."
                },
                {
                  "code": ">>> first_5_markets.num_rows == 5\nTrue",
                  "failure_message": "❌ first_5_markets doesn't have the correct number of rows. Try using np.arange(5) as the argument to take.",
                  "hidden": false,
                  "locked": false,
                  "points": 1,
                  "success_message": "✅ first_5_markets has the correct number of rows."
                },
                {
                  "code": ">>> first_5_market_names = set(first_5_markets.column('MarketName'))\n>>> actual_first_5_market_names = {' Caledonia Farmers Market Association - Danville', \"18th Street Farmer's Market\", \"26th Annual Highlands Business Partnership's Farmers Market\", \"29 Palms Farmers' Market\", '2nd Street Market - Five Rivers MetroPark'}\n>>> first_5_market_names == actual_first_5_market_names\nTrue",
                  "failure_message": "❌ first_5_markets doesn't seem correct.",
                  "hidden": false,
                  "locked": false,
                  "points": 1,
                  "success_message": "✅ first_5_markets seems correct."
                }
              ],
              "scored": true,
              "setup": "",
              "teardown": "",
              "type": "doctest"
            }
          ]
        },
        "task_08": {
          "name": "task_08",
          "points": null,
          "suites": [
            {
              "cases": [
                {
                  "code": ">>> isinstance(markets_by_county, Table)\nTrue",
                  "failure_message": "❌ It doesn't seem that you made a table with the correct name.",
                  "hidden": false,
                  "locked": false,
                  "success_message": "✅ You've made a table with the correct name."
                },
                {
                  "code": ">>> set(markets_by_county.labels) == {'County', 'count'}\nTrue",
                  "failure_message": "❌ markets_by_counts doesn't have the correct columns.",
                  "hidden": false,
                  "locked": false,
                  "success_message": "✅ markets_by_counts has the correct columns."
                },
                {
                  "code": ">>> sum(markets_by_county.column('count'))\n136",
                  "failure_message": "❌ markets_by_counts doesn't seem correct. Your counts are not adding up to the correct number.",
                  "hidden": false,
                  "locked": false,
                  "success_message": "✅ markets_by_counts seems correct."
                }
              ],
              "scored": true,
              "setup": "",
              "teardown": "",
              "type": "doctest"
            }
          ]
        },
        "task_09": {
          "name": "task_09",
          "points": null,
          "suites": [
            {
              "cases": [
                {
                  "code": ">>> sorted_markets_by_county.column('count').item(0)\n28",
                  "failure_message": "❌ sorted_markets_by_county doesn't have the correct first row. Are you using descending=True with the sort method?",
                  "hidden": false,
                  "locked": false,
                  "points": 1,
                  "success_message": "✅ sorted_markets_by_county has the correct first row."
                }
              ],
              "scored": true,
              "setup": "",
              "teardown": "",
              "type": "doctest"
            }
          ]
        },
        "task_10": {
          "name": "task_10",
          "points": null,
          "suites": [
            {
              "cases": [
                {
                  "code": ">>> isinstance(top_10, Table)\nTrue",
                  "failure_message": "❌ top_10 is not assigned to a Table.",
                  "hidden": false,
                  "locked": false,
                  "points": 1,
                  "success_message": "✅ top_10 is assigned to a Table."
                },
                {
                  "code": ">>> top_10.num_rows\n10",
                  "failure_message": "❌ top_10 should have 10 rows.",
                  "hidden": false,
                  "locked": false,
                  "points": 1,
                  "success_message": "✅ top_10 has 10 rows."
                },
                {
                  "code": ">>> top_10.num_columns\n2",
                  "failure_message": "❌ top_10 should have 2 columns.",
                  "hidden": false,
                  "locked": false,
                  "points": 1,
                  "success_message": "✅ top_10 has 2 columns."
                },
                {
                  "code": ">>> set(top_10.labels) == {'City', 'Number of Markets'}\nTrue",
                  "failure_message": "❌ top_10 doesn't have the correct column labels. Ask for help with the relabeled function.",
                  "hidden": false,
                  "locked": false,
                  "points": 1,
                  "success_message": "✅ top_10 has the correct column labels."
                },
                {
                  "code": ">>> provided_top_10_cities = set(top_10.column('City'))\n>>> actual_top_10_cities = {'Atlanta', 'Chicago', 'Columbus', 'Honolulu', 'Houston', 'Los Angeles ', 'New York', 'Philadelphia', 'Portland', 'San Antonio'}\n>>> provided_top_10_cities == actual_top_10_cities\nTrue",
                  "failure_message": "❌ top_10 doesn't seem correct. We imagined you using, the group, sort, take, and relabeled functions to complete this task.",
                  "hidden": false,
                  "locked": false,
                  "points": 1,
                  "success_message": "✅ top_10 seems correct."
                }
              ],
              "scored": true,
              "setup": "",
              "teardown": "",
              "type": "doctest"
            }
          ]
        }
      }
    },
    "toc-autonumbering": false,
    "toc-showmarkdowntxt": false,
    "colab": {
      "provenance": [],
      "include_colab_link": true
    }
  },
  "nbformat": 4,
  "nbformat_minor": 0
}