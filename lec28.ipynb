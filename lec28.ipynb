{
  "cells": [
    {
      "cell_type": "markdown",
      "metadata": {
        "id": "view-in-github",
        "colab_type": "text"
      },
      "source": [
        "<a href=\"https://colab.research.google.com/github/veyselberk88/Data-Science-Tools-and-Ecosystem/blob/main/lec28.ipynb\" target=\"_parent\"><img src=\"https://colab.research.google.com/assets/colab-badge.svg\" alt=\"Open In Colab\"/></a>"
      ]
    },
    {
      "cell_type": "markdown",
      "id": "705165f2-da65-4179-a63c-1e11d82e612e",
      "metadata": {
        "id": "705165f2-da65-4179-a63c-1e11d82e612e"
      },
      "source": [
        "<img src=\"./ccsf.png\" alt=\"CCSF Logo\" width=200px style=\"margin:0px -5px\">"
      ]
    },
    {
      "cell_type": "markdown",
      "id": "36c9b9e1-c748-4e82-beae-1f23d5af84b9",
      "metadata": {
        "id": "36c9b9e1-c748-4e82-beae-1f23d5af84b9"
      },
      "source": [
        "# Lecture 28: The Normal Distribution"
      ]
    },
    {
      "cell_type": "markdown",
      "id": "2eceeb3c-f8f0-47df-9dbc-cf72158d798f",
      "metadata": {
        "id": "2eceeb3c-f8f0-47df-9dbc-cf72158d798f"
      },
      "source": [
        "Associated Textbook Sections: [14.3, 14.4](https://ccsf-math-108.github.io/textbook/chapters/14/3/SD_and_the_Normal_Curve.html)"
      ]
    },
    {
      "cell_type": "markdown",
      "id": "e3b01ff1-5c95-426e-90dd-dd4c1524896e",
      "metadata": {
        "id": "e3b01ff1-5c95-426e-90dd-dd4c1524896e"
      },
      "source": [
        "---"
      ]
    },
    {
      "cell_type": "markdown",
      "id": "4fad0de3-251a-4682-980a-02eaa24d5e73",
      "metadata": {
        "id": "4fad0de3-251a-4682-980a-02eaa24d5e73"
      },
      "source": [
        "## Outline"
      ]
    },
    {
      "cell_type": "markdown",
      "id": "cef64b8b-b25b-4570-a2bc-9340b829fd38",
      "metadata": {
        "id": "cef64b8b-b25b-4570-a2bc-9340b829fd38"
      },
      "source": [
        "* [Standard Units Review](#Standard-Units-Review)\n",
        "* [Normal Distributions](#Normal-Distributions)\n",
        "* [Normal Proportions](#Normal-Proportions)"
      ]
    },
    {
      "cell_type": "markdown",
      "id": "e074c2d9-8c95-4e91-8c3f-5150c091de62",
      "metadata": {
        "id": "e074c2d9-8c95-4e91-8c3f-5150c091de62"
      },
      "source": [
        "---"
      ]
    },
    {
      "cell_type": "markdown",
      "id": "755f6a6c-452c-42ac-bb5a-35c5f299d861",
      "metadata": {
        "id": "755f6a6c-452c-42ac-bb5a-35c5f299d861"
      },
      "source": [
        "## Set Up the Notebook"
      ]
    },
    {
      "cell_type": "code",
      "execution_count": null,
      "id": "36ec7e22-b145-4e83-bfa1-c2258167c671",
      "metadata": {
        "id": "36ec7e22-b145-4e83-bfa1-c2258167c671"
      },
      "outputs": [],
      "source": [
        "from datascience import *\n",
        "import numpy as np\n",
        "%matplotlib inline\n",
        "import matplotlib.pyplot as plt\n",
        "plt.style.use('fivethirtyeight')\n",
        "import scipy\n",
        "import plotly.express as px\n",
        "from ipywidgets import interact, interactive, fixed, interact_manual\n",
        "import ipywidgets as widgets"
      ]
    },
    {
      "cell_type": "markdown",
      "id": "56bdb7fc-3c23-4ba7-896b-2e0df1810e94",
      "metadata": {
        "id": "56bdb7fc-3c23-4ba7-896b-2e0df1810e94"
      },
      "source": [
        "---"
      ]
    },
    {
      "cell_type": "markdown",
      "id": "c30ebdda-8d1f-48a9-b616-167552deb751",
      "metadata": {
        "id": "c30ebdda-8d1f-48a9-b616-167552deb751"
      },
      "source": [
        "## Standard Units Review"
      ]
    },
    {
      "cell_type": "markdown",
      "id": "903d2460-814d-40e5-a0fd-590beb181f9d",
      "metadata": {
        "id": "903d2460-814d-40e5-a0fd-590beb181f9d"
      },
      "source": [
        "* How many SDs above average?\n",
        "* `z = (value - average)/SD`\n",
        "    * Negative z: value below average\n",
        "    * Positive z: value above average\n",
        "    * z = 0: value equal to average\n",
        "* When values are in standard units: average = 0, SD = 1\n",
        "* Gives us a way to compare/understand data no matter what the original units\n"
      ]
    },
    {
      "cell_type": "markdown",
      "id": "3a07870a-08b7-4d4a-b5ef-4f82d23514a7",
      "metadata": {
        "id": "3a07870a-08b7-4d4a-b5ef-4f82d23514a7"
      },
      "source": [
        "---"
      ]
    },
    {
      "cell_type": "markdown",
      "id": "25ab181f-5364-494a-98e3-da1816e2b812",
      "metadata": {
        "id": "25ab181f-5364-494a-98e3-da1816e2b812"
      },
      "source": [
        "### Demo: Standard Units"
      ]
    },
    {
      "cell_type": "markdown",
      "id": "4b3d2810-b6f6-4aa4-bbbd-bcc4e3b54f93",
      "metadata": {
        "deletable": false,
        "editable": false,
        "id": "4b3d2810-b6f6-4aa4-bbbd-bcc4e3b54f93"
      },
      "source": [
        "* Load UC Berkeley DATA 8 exam distribution data from Fall 2018.\n",
        "* Calculate the mean midterm and final exam scores.\n",
        "* Visualize the distribution of scores.\n",
        "* Create a function that calculates the standard units of the numerical values in an array.\n",
        "* Add the standardized midterm and final exam scores to the `exams` table.\n",
        "* Visualize the distribution of standardized scores to notice that the general shape of the distribution does not change."
      ]
    },
    {
      "cell_type": "code",
      "execution_count": null,
      "id": "eec7338e-a73d-45c7-be9a-d322b06ab6e6",
      "metadata": {
        "tags": [],
        "id": "eec7338e-a73d-45c7-be9a-d322b06ab6e6",
        "outputId": "a75def26-cded-4780-acb8-df6cb366f4cb"
      },
      "outputs": [
        {
          "data": {
            "text/html": [
              "<table border=\"1\" class=\"dataframe\">\n",
              "    <thead>\n",
              "        <tr>\n",
              "            <th>Midterm</th> <th>Final</th>\n",
              "        </tr>\n",
              "    </thead>\n",
              "    <tbody>\n",
              "        <tr>\n",
              "            <td>91     </td> <td>88   </td>\n",
              "        </tr>\n",
              "        <tr>\n",
              "            <td>89.5   </td> <td>84   </td>\n",
              "        </tr>\n",
              "        <tr>\n",
              "            <td>78     </td> <td>71.5 </td>\n",
              "        </tr>\n",
              "        <tr>\n",
              "            <td>87     </td> <td>88   </td>\n",
              "        </tr>\n",
              "        <tr>\n",
              "            <td>72     </td> <td>72.5 </td>\n",
              "        </tr>\n",
              "    </tbody>\n",
              "</table>\n",
              "<p>... (1237 rows omitted)</p>"
            ],
            "text/plain": [
              "<IPython.core.display.HTML object>"
            ]
          },
          "metadata": {},
          "output_type": "display_data"
        }
      ],
      "source": [
        "exams = Table.read_table('exams_fa18.csv')\n",
        "exams.show(5)"
      ]
    },
    {
      "cell_type": "code",
      "execution_count": null,
      "id": "753173f1-e89a-4eec-bcad-b5e146ce1117",
      "metadata": {
        "tags": [],
        "id": "753173f1-e89a-4eec-bcad-b5e146ce1117",
        "outputId": "84451147-b0b3-4f7b-b983-04e3314d480f"
      },
      "outputs": [
        {
          "data": {
            "text/plain": [
              "(77.832528180199347, 79.207729468599027)"
            ]
          },
          "execution_count": 3,
          "metadata": {},
          "output_type": "execute_result"
        }
      ],
      "source": [
        "midterm_mean = np.mean(exams.column('Midterm'))\n",
        "final_mean = np.mean(exams.column('Final'))\n",
        "midterm_mean, final_mean"
      ]
    },
    {
      "cell_type": "code",
      "execution_count": null,
      "id": "fb487f06-d957-4a77-a899-da826d49d43e",
      "metadata": {
        "tags": [],
        "id": "fb487f06-d957-4a77-a899-da826d49d43e",
        "outputId": "b7a19f84-e95a-463f-8a9d-83dd120a8f9f"
      },
      "outputs": [
        {
          "data": {
            "image/png": "[encoded data removed]",
            "text/plain": [
              "<Figure size 600x800 with 2 Axes>"
            ]
          },
          "metadata": {},
          "output_type": "display_data"
        }
      ],
      "source": [
        "(exams\n",
        " .select('Midterm', 'Final')\n",
        " .hist(overlay=False, bins=20))"
      ]
    },
    {
      "cell_type": "code",
      "execution_count": null,
      "id": "ceac582d-9856-4ef3-948e-8e5d1e93b403",
      "metadata": {
        "tags": [],
        "id": "ceac582d-9856-4ef3-948e-8e5d1e93b403",
        "outputId": "6e1d3bbc-b31c-4fd5-94a9-e558e844d270"
      },
      "outputs": [
        {
          "data": {
            "text/plain": [
              "14.000000000000002"
            ]
          },
          "execution_count": 5,
          "metadata": {},
          "output_type": "execute_result"
        }
      ],
      "source": [
        "np.min(exams.column('Final'))"
      ]
    },
    {
      "cell_type": "code",
      "execution_count": null,
      "id": "32e9af88-0ef9-46ea-ad6b-5c86ebbc969a",
      "metadata": {
        "tags": [],
        "id": "32e9af88-0ef9-46ea-ad6b-5c86ebbc969a"
      },
      "outputs": [],
      "source": [
        "def standard_units(x):\n",
        "    \"\"\"Convert array x to standard units.\"\"\"\n",
        "    return (x - np.mean(x)) / np.std(x)"
      ]
    },
    {
      "cell_type": "code",
      "execution_count": null,
      "id": "be115ed5-2c2d-467e-adb3-372ccf886afb",
      "metadata": {
        "tags": [],
        "id": "be115ed5-2c2d-467e-adb3-372ccf886afb",
        "outputId": "0b04b026-6c3e-4a32-e8a9-bf672d28a5d0"
      },
      "outputs": [
        {
          "data": {
            "text/html": [
              "<table border=\"1\" class=\"dataframe\">\n",
              "    <thead>\n",
              "        <tr>\n",
              "            <th>Midterm</th> <th>Final</th> <th>Midterm in Standard Units</th> <th>Final in Standard Units</th>\n",
              "        </tr>\n",
              "    </thead>\n",
              "    <tbody>\n",
              "        <tr>\n",
              "            <td>91     </td> <td>88   </td> <td>1.16278                  </td> <td>0.717241               </td>\n",
              "        </tr>\n",
              "        <tr>\n",
              "            <td>89.5   </td> <td>84   </td> <td>1.03032                  </td> <td>0.390935               </td>\n",
              "        </tr>\n",
              "        <tr>\n",
              "            <td>78     </td> <td>71.5 </td> <td>0.0147889                </td> <td>-0.628768              </td>\n",
              "        </tr>\n",
              "        <tr>\n",
              "            <td>87     </td> <td>88   </td> <td>0.809552                 </td> <td>0.717241               </td>\n",
              "        </tr>\n",
              "        <tr>\n",
              "            <td>72     </td> <td>72.5 </td> <td>-0.515053                </td> <td>-0.547191              </td>\n",
              "        </tr>\n",
              "        <tr>\n",
              "            <td>71.5   </td> <td>61   </td> <td>-0.559206                </td> <td>-1.48532               </td>\n",
              "        </tr>\n",
              "        <tr>\n",
              "            <td>82     </td> <td>92.5 </td> <td>0.368017                 </td> <td>1.08433                </td>\n",
              "        </tr>\n",
              "        <tr>\n",
              "            <td>84.5   </td> <td>87   </td> <td>0.588784                 </td> <td>0.635664               </td>\n",
              "        </tr>\n",
              "        <tr>\n",
              "            <td>85     </td> <td>92   </td> <td>0.632938                 </td> <td>1.04355                </td>\n",
              "        </tr>\n",
              "        <tr>\n",
              "            <td>78     </td> <td>71   </td> <td>0.0147889                </td> <td>-0.669556              </td>\n",
              "        </tr>\n",
              "    </tbody>\n",
              "</table>\n",
              "<p>... (1232 rows omitted)</p>"
            ],
            "text/plain": [
              "<IPython.core.display.HTML object>"
            ]
          },
          "metadata": {},
          "output_type": "display_data"
        }
      ],
      "source": [
        "midterm_su = standard_units(exams.column('Midterm'))\n",
        "exams = exams.with_column('Midterm in Standard Units', midterm_su)\n",
        "\n",
        "final_su = standard_units(exams.column('Final'))\n",
        "exams = exams.with_column('Final in Standard Units', final_su)\n",
        "\n",
        "exams.show(10)"
      ]
    },
    {
      "cell_type": "code",
      "execution_count": null,
      "id": "35533718-b03d-428a-8f7d-2087f2b90922",
      "metadata": {
        "tags": [],
        "id": "35533718-b03d-428a-8f7d-2087f2b90922",
        "outputId": "cee1b3a9-8393-4d4f-9eb0-8a76d0af4ac8"
      },
      "outputs": [
        {
          "data": {
            "image/png": "[encoded data removed]",
            "text/plain": [
              "<Figure size 600x800 with 2 Axes>"
            ]
          },
          "metadata": {},
          "output_type": "display_data"
        }
      ],
      "source": [
        "exams.select(\n",
        "    'Midterm in Standard Units', 'Final in Standard Units'\n",
        ").hist(overlay=False, bins=20)"
      ]
    },
    {
      "cell_type": "markdown",
      "id": "3548f40e-c1b6-4226-903a-968f15fecf3c",
      "metadata": {
        "id": "3548f40e-c1b6-4226-903a-968f15fecf3c"
      },
      "source": [
        "---"
      ]
    },
    {
      "cell_type": "markdown",
      "id": "d5a93075-7815-4932-bd20-6329649ec859",
      "metadata": {
        "id": "d5a93075-7815-4932-bd20-6329649ec859"
      },
      "source": [
        "## Normal Distributions"
      ]
    },
    {
      "cell_type": "markdown",
      "id": "ca391c20-3b39-45aa-874a-5ba411c51d87",
      "metadata": {
        "id": "ca391c20-3b39-45aa-874a-5ba411c51d87"
      },
      "source": [
        "---"
      ]
    },
    {
      "cell_type": "markdown",
      "id": "f5049c95-d4cc-458c-a764-ca56b324d944",
      "metadata": {
        "id": "f5049c95-d4cc-458c-a764-ca56b324d944"
      },
      "source": [
        "### Bell-Shaped Curves"
      ]
    },
    {
      "cell_type": "markdown",
      "id": "4221c036-48c5-4346-8b82-03f2e6892c5a",
      "metadata": {
        "id": "4221c036-48c5-4346-8b82-03f2e6892c5a"
      },
      "source": [
        "<img src=\"./hanging_bell.jpeg\" width=50%>"
      ]
    },
    {
      "cell_type": "markdown",
      "id": "728d57a5-8e00-4230-985a-0809b83dbef4",
      "metadata": {
        "id": "728d57a5-8e00-4230-985a-0809b83dbef4"
      },
      "source": [
        "---"
      ]
    },
    {
      "cell_type": "markdown",
      "id": "b0a05d62-6ccc-4f0b-a7d8-e3278c3dcfab",
      "metadata": {
        "id": "b0a05d62-6ccc-4f0b-a7d8-e3278c3dcfab"
      },
      "source": [
        "### There are many, many, many normal curves!"
      ]
    },
    {
      "cell_type": "markdown",
      "id": "097cf970-d702-460e-a5d5-4bd39b5aed53",
      "metadata": {
        "id": "097cf970-d702-460e-a5d5-4bd39b5aed53"
      },
      "source": [
        "<img src=\"./normal_curves.png\" width=50%>"
      ]
    },
    {
      "cell_type": "markdown",
      "id": "de9be8f7-533c-4272-bf47-49749b7b8245",
      "metadata": {
        "id": "de9be8f7-533c-4272-bf47-49749b7b8245"
      },
      "source": [
        "---"
      ]
    },
    {
      "cell_type": "markdown",
      "id": "9bbdf363-f668-4555-9155-7531fbb4de9f",
      "metadata": {
        "id": "9bbdf363-f668-4555-9155-7531fbb4de9f"
      },
      "source": [
        "### Probability Density Curve"
      ]
    },
    {
      "cell_type": "markdown",
      "id": "28cc1610-33e7-4913-834e-4f4316f99c67",
      "metadata": {
        "id": "28cc1610-33e7-4913-834e-4f4316f99c67"
      },
      "source": [
        "The height of the (probability density) curves are determined by the formula*\n",
        "\n",
        "$$f(x) = \\frac{1}{\\sigma\\sqrt{2\\pi}}e^{-\\frac{1}{2}\\left(\\frac{x - \\mu}{\\sigma}\\right)^2}$$\n",
        "\n",
        "and the shape is determined by the mean (`mu`, $\\mu$) and standard deviation (`sigma`, $\\sigma$) values.\n",
        "\n",
        "_Note: You will not be working with this formula directly in this class, but we can use a python representation of it (`scipy.stats.norm.pdf`) to see how the mean and standard deviation impact the shape of the distribution._"
      ]
    },
    {
      "cell_type": "code",
      "execution_count": null,
      "id": "7e5a2a2c-b13d-4fc7-8a56-1fbbc6c496d4",
      "metadata": {
        "id": "7e5a2a2c-b13d-4fc7-8a56-1fbbc6c496d4"
      },
      "outputs": [],
      "source": [
        "def graph_norm(mu=0, sigma=1):\n",
        "    x=np.arange(-10, 10, 0.01)\n",
        "    display(px.line(x=x,\n",
        "                    y=scipy.stats.norm.pdf(x, loc=mu, scale=sigma),\n",
        "                    range_y=[0, 1]));"
      ]
    },
    {
      "cell_type": "markdown",
      "id": "eec2927e-1378-48c9-8a7b-c7229cacbe54",
      "metadata": {
        "id": "eec2927e-1378-48c9-8a7b-c7229cacbe54"
      },
      "source": [
        "Adjust the values of `mu` and `sigma` using the slider to see how the shape of the distribution changes."
      ]
    },
    {
      "cell_type": "code",
      "execution_count": null,
      "id": "b3273435-8fb8-4772-8c67-8bcfb7d89efe",
      "metadata": {
        "id": "b3273435-8fb8-4772-8c67-8bcfb7d89efe",
        "outputId": "952ffb40-f28e-48a1-efd4-b95ec683b122",
        "colab": {
          "referenced_widgets": [
            "c898673eb3f04bff980b96f58838cb6f"
          ]
        }
      },
      "outputs": [
        {
          "data": {
            "application/vnd.jupyter.widget-view+json": {
              "model_id": "c898673eb3f04bff980b96f58838cb6f",
              "version_major": 2,
              "version_minor": 0
            },
            "text/plain": [
              "interactive(children=(IntSlider(value=0, description='mu', max=5, min=-5), FloatSlider(value=1.0, description=…"
            ]
          },
          "metadata": {},
          "output_type": "display_data"
        }
      ],
      "source": [
        "interact(graph_norm, mu=(-5, 5), sigma=(0.2**0.5, 5**0.5, 0.05));"
      ]
    },
    {
      "cell_type": "markdown",
      "id": "75dfb0dc-f3ee-44f0-aab5-a7b917413ac7",
      "metadata": {
        "id": "75dfb0dc-f3ee-44f0-aab5-a7b917413ac7"
      },
      "source": [
        "---"
      ]
    },
    {
      "cell_type": "markdown",
      "id": "ad3976d6-4d21-46df-8ae7-f9d27097d6f2",
      "metadata": {
        "id": "ad3976d6-4d21-46df-8ae7-f9d27097d6f2"
      },
      "source": [
        "## Normal Proportions"
      ]
    },
    {
      "cell_type": "markdown",
      "id": "51dac055-fb95-42e4-94d1-6f19edd1966e",
      "metadata": {
        "id": "51dac055-fb95-42e4-94d1-6f19edd1966e"
      },
      "source": [
        "---"
      ]
    },
    {
      "cell_type": "markdown",
      "id": "46e6289c-fa8c-495a-931b-771f0fb70563",
      "metadata": {
        "id": "46e6289c-fa8c-495a-931b-771f0fb70563"
      },
      "source": [
        "### How Big are Most of the Values?"
      ]
    },
    {
      "cell_type": "markdown",
      "id": "f91dc4a1-09c3-4a44-9eda-5fb9bc9230c6",
      "metadata": {
        "id": "f91dc4a1-09c3-4a44-9eda-5fb9bc9230c6"
      },
      "source": [
        "* No matter what the shape of the distribution, the bulk of the data are in the range \"average ± a few SDs\" (Chebyshev's Inequality)\n",
        "* **If a histogram is bell-shaped**, then almost all of the data are in the range \"average ± 3 SDs\"\n"
      ]
    },
    {
      "cell_type": "markdown",
      "id": "e08d1721-eee7-41bc-9dee-05f751c973b0",
      "metadata": {
        "id": "e08d1721-eee7-41bc-9dee-05f751c973b0"
      },
      "source": [
        "---"
      ]
    },
    {
      "cell_type": "markdown",
      "id": "470ab65d-79e1-4239-b250-5a38ed6803c0",
      "metadata": {
        "id": "470ab65d-79e1-4239-b250-5a38ed6803c0"
      },
      "source": [
        "### Bounds and Normal Approximations"
      ]
    },
    {
      "cell_type": "markdown",
      "id": "5a42fb42-4ee4-4dfa-ba60-34d979a8519e",
      "metadata": {
        "id": "5a42fb42-4ee4-4dfa-ba60-34d979a8519e"
      },
      "source": [
        "<img src=\"./normal_bounds.png\" width = 50%>"
      ]
    },
    {
      "cell_type": "markdown",
      "id": "8d2597ff-ad1f-42f1-b75a-5410e5d0b8d4",
      "metadata": {
        "id": "8d2597ff-ad1f-42f1-b75a-5410e5d0b8d4"
      },
      "source": [
        "---"
      ]
    },
    {
      "cell_type": "markdown",
      "id": "1ba0c944-3b52-42e9-a798-9f4f5e558e67",
      "metadata": {
        "id": "1ba0c944-3b52-42e9-a798-9f4f5e558e67"
      },
      "source": [
        "### A \"Central\" Area"
      ]
    },
    {
      "cell_type": "markdown",
      "id": "80532214-ebd2-49ef-a53d-b5f4781779e1",
      "metadata": {
        "id": "80532214-ebd2-49ef-a53d-b5f4781779e1"
      },
      "source": [
        "<img src=\"./central_area.png\" width = 50%>"
      ]
    },
    {
      "cell_type": "markdown",
      "id": "a6a964d2-db6e-47a7-8ba9-686b0694e634",
      "metadata": {
        "id": "a6a964d2-db6e-47a7-8ba9-686b0694e634"
      },
      "source": [
        "---"
      ]
    },
    {
      "cell_type": "markdown",
      "id": "fda3eda7-39fa-4fa8-962f-dd52ab4c68a3",
      "metadata": {
        "editable": true,
        "tags": [],
        "id": "fda3eda7-39fa-4fa8-962f-dd52ab4c68a3"
      },
      "source": [
        "## Attribution"
      ]
    },
    {
      "cell_type": "markdown",
      "id": "1c98b629-4294-4045-9046-97e2c0c62469",
      "metadata": {
        "id": "1c98b629-4294-4045-9046-97e2c0c62469"
      },
      "source": [
        "This content is licensed under the <a href=\"https://creativecommons.org/licenses/by-nc-sa/4.0/\">Creative Commons Attribution-NonCommercial-ShareAlike 4.0 International License (CC BY-NC-SA 4.0)</a> and derived from the <a href=\"https://www.data8.org/\">Data 8: The Foundations of Data Science</a> offered by the University of California, Berkeley.\n",
        "\n",
        "<img src=\"./by-nc-sa.png\" width=100px>"
      ]
    }
  ],
  "metadata": {
    "kernelspec": {
      "display_name": "Python 3 (ipykernel)",
      "language": "python",
      "name": "python3"
    },
    "language_info": {
      "codemirror_mode": {
        "name": "ipython",
        "version": 3
      },
      "file_extension": ".py",
      "mimetype": "text/x-python",
      "name": "python",
      "nbconvert_exporter": "python",
      "pygments_lexer": "ipython3",
      "version": "3.11.9"
    },
    "otter": {
      "OK_FORMAT": true,
      "tests": {}
    },
    "colab": {
      "provenance": [],
      "include_colab_link": true
    }
  },
  "nbformat": 4,
  "nbformat_minor": 5
}