{
  "cells": [
    {
      "cell_type": "markdown",
      "metadata": {
        "id": "view-in-github",
        "colab_type": "text"
      },
      "source": [
        "<a href=\"https://colab.research.google.com/github/veyselberk88/Data-Science-Tools-and-Ecosystem/blob/main/lec37.ipynb\" target=\"_parent\"><img src=\"https://colab.research.google.com/assets/colab-badge.svg\" alt=\"Open In Colab\"/></a>"
      ]
    },
    {
      "cell_type": "markdown",
      "id": "7ffa63cd-77f2-4e36-b58d-b0e4c83449c1",
      "metadata": {
        "id": "7ffa63cd-77f2-4e36-b58d-b0e4c83449c1"
      },
      "source": [
        "<img src=\"./ccsf.png\" alt=\"CCSF Logo\" width=200px style=\"margin:0px -5px\">"
      ]
    },
    {
      "cell_type": "markdown",
      "id": "2d305cf5-3aaf-45e4-b965-892ee9d07e4e",
      "metadata": {
        "id": "2d305cf5-3aaf-45e4-b965-892ee9d07e4e"
      },
      "source": [
        "# Lecture 37: Implementing Classifiers"
      ]
    },
    {
      "cell_type": "markdown",
      "id": "9046670a-de1b-4354-a993-ca5163df5c4f",
      "metadata": {
        "id": "9046670a-de1b-4354-a993-ca5163df5c4f"
      },
      "source": [
        "Associated Textbook Sections: [17.4](https://ccsf-math-108.github.io/textbook/chapters/17/4/Implementing_the_Classifier.html)"
      ]
    },
    {
      "cell_type": "markdown",
      "id": "848c8841-3185-48ac-a7b4-0d57711b986a",
      "metadata": {
        "id": "848c8841-3185-48ac-a7b4-0d57711b986a"
      },
      "source": [
        "---"
      ]
    },
    {
      "cell_type": "markdown",
      "id": "735f8077-60eb-4eb3-aa4a-e1ea424f623c",
      "metadata": {
        "id": "735f8077-60eb-4eb3-aa4a-e1ea424f623c"
      },
      "source": [
        "## Outline"
      ]
    },
    {
      "cell_type": "markdown",
      "id": "6eadb953-ebfa-4c89-977f-a28b5d50c0a1",
      "metadata": {
        "id": "6eadb953-ebfa-4c89-977f-a28b5d50c0a1"
      },
      "source": [
        "* [Implementing a Classifier](#Implementing-a-Classifier)\n",
        "* [Feature Selection](#Feature-Selection)\n",
        "* [Review of Rows](#Review-of-Rows)\n",
        "* [Calculating Distance](#Calculating-Distance)\n",
        "* [Splitting the Data](#Splitting-the-Data)\n",
        "* [Nearest Neighbors](#Nearest-Neighbors)"
      ]
    },
    {
      "cell_type": "markdown",
      "id": "0073fa5b-b4b3-4e76-ae33-6b0720d6cbb0",
      "metadata": {
        "id": "0073fa5b-b4b3-4e76-ae33-6b0720d6cbb0"
      },
      "source": [
        "---"
      ]
    },
    {
      "cell_type": "markdown",
      "id": "481ca149-5f15-4aed-84a4-3b4763f947db",
      "metadata": {
        "id": "481ca149-5f15-4aed-84a4-3b4763f947db"
      },
      "source": [
        "## Set Up the Notebook"
      ]
    },
    {
      "cell_type": "code",
      "execution_count": null,
      "id": "9372da55-2ebd-4b07-89a0-307829163a44",
      "metadata": {
        "id": "9372da55-2ebd-4b07-89a0-307829163a44"
      },
      "outputs": [],
      "source": [
        "from datascience import *\n",
        "import numpy as np\n",
        "%matplotlib inline\n",
        "import matplotlib.pyplot as plt\n",
        "plt.style.use('fivethirtyeight')\n",
        "\n",
        "from mpl_toolkits.mplot3d import Axes3D"
      ]
    },
    {
      "cell_type": "markdown",
      "id": "0bacfffc-7871-4f83-b9d6-dd6b8d64fbff",
      "metadata": {
        "id": "0bacfffc-7871-4f83-b9d6-dd6b8d64fbff"
      },
      "source": [
        "---"
      ]
    },
    {
      "cell_type": "markdown",
      "id": "344c9fdd-38c9-4f7e-88a3-936d4b8c8f4e",
      "metadata": {
        "id": "344c9fdd-38c9-4f7e-88a3-936d4b8c8f4e"
      },
      "source": [
        "## Implementing a Classifier"
      ]
    },
    {
      "cell_type": "markdown",
      "id": "1dea4e06-ba5a-445b-8170-ceabcafe12c3",
      "metadata": {
        "id": "1dea4e06-ba5a-445b-8170-ceabcafe12c3"
      },
      "source": [
        "---"
      ]
    },
    {
      "cell_type": "markdown",
      "id": "b9c52c49-504d-44ca-abeb-1bb21a679180",
      "metadata": {
        "id": "b9c52c49-504d-44ca-abeb-1bb21a679180"
      },
      "source": [
        "### A Process"
      ]
    },
    {
      "cell_type": "markdown",
      "id": "65f90a38-cbda-4469-89a3-e37d7c26cc3a",
      "metadata": {
        "id": "65f90a38-cbda-4469-89a3-e37d7c26cc3a"
      },
      "source": [
        "```mermaid\n",
        "flowchart TD\n",
        "    A[\"Population\"] --> B[\"Sample with labels\"]\n",
        "    B -->|\"x% of Sample\"| C[\"Training Set\"]\n",
        "    B -->|\"(100-x)% of Sample\"| D[\"Test Set\"]\n",
        "    C --> E[\"Model the association\\n between attributes & labels\"]\n",
        "    E --> F[\"Predict label of a new point\"]\n",
        "    E --> G[\"Predict labels for Test Set\"]\n",
        "    D --> G\n",
        "    G --> H[\"Evaluate model quality\"]\n",
        "```"
      ]
    },
    {
      "cell_type": "markdown",
      "id": "a7c23bfa-41a4-44f2-b0eb-0a04bac5207c",
      "metadata": {
        "id": "a7c23bfa-41a4-44f2-b0eb-0a04bac5207c"
      },
      "source": [
        "---"
      ]
    },
    {
      "cell_type": "markdown",
      "id": "dee23caa-42e9-4b4f-8eef-0a1c5a353491",
      "metadata": {
        "id": "dee23caa-42e9-4b4f-8eef-0a1c5a353491"
      },
      "source": [
        "### $k$ Nearest Neighbor Classification"
      ]
    },
    {
      "cell_type": "markdown",
      "id": "e6e90c0c-b61a-4721-861b-2ad65e8f2d67",
      "metadata": {
        "id": "e6e90c0c-b61a-4721-861b-2ad65e8f2d67"
      },
      "source": [
        "- A nearest neighbor classifier assigns a label to an unlabeled point by using the **majority label** of **nearby** points\n",
        "- The number of nearby points considered is called **$k$** and can vary depending on the classifier\n",
        "- For this lecture, let's explore a way to\n",
        "    - Calculate distance\n",
        "    - Split the sample into training and testing sets\n",
        "    - Determine the nearby points\n",
        "    - Calculate the majority label"
      ]
    },
    {
      "cell_type": "markdown",
      "id": "d119a974-1a37-41b3-b8a6-bbe218467085",
      "metadata": {
        "id": "d119a974-1a37-41b3-b8a6-bbe218467085"
      },
      "source": [
        "---"
      ]
    },
    {
      "cell_type": "markdown",
      "id": "e20dfe80-4863-4801-a9cf-f5dff900125f",
      "metadata": {
        "id": "e20dfe80-4863-4801-a9cf-f5dff900125f"
      },
      "source": [
        "## Feature Selection"
      ]
    },
    {
      "cell_type": "markdown",
      "id": "d9a4e9db-b327-4bef-9a8a-c23ca0c055f2",
      "metadata": {
        "id": "d9a4e9db-b327-4bef-9a8a-c23ca0c055f2"
      },
      "source": [
        "---"
      ]
    },
    {
      "cell_type": "markdown",
      "id": "07bac964-566c-48a8-9603-fd402700581a",
      "metadata": {
        "id": "07bac964-566c-48a8-9603-fd402700581a"
      },
      "source": [
        "### Reviewing the Features"
      ]
    },
    {
      "cell_type": "markdown",
      "id": "0eeaaada-3faa-47b4-987e-29c2e2e2011a",
      "metadata": {
        "id": "0eeaaada-3faa-47b4-987e-29c2e2e2011a"
      },
      "source": [
        "* From the previous lecture, we showed you the chronic kidney disease (CKD) data set\n",
        "* Each row represented an individual\n",
        "* Each column was a feature of the individual\n",
        "* The class label was a label indicating whether they were diagnosed with CKD (`1`) or not (`0`)"
      ]
    },
    {
      "cell_type": "code",
      "execution_count": null,
      "id": "130d65c9-3cbe-459f-8cfe-1976b4f729d8",
      "metadata": {
        "id": "130d65c9-3cbe-459f-8cfe-1976b4f729d8",
        "outputId": "b8d43176-6803-48ea-e2bb-812cf58839d7"
      },
      "outputs": [
        {
          "data": {
            "text/html": [
              "<table border=\"1\" class=\"dataframe\">\n",
              "    <thead>\n",
              "        <tr>\n",
              "            <th>Age</th> <th>Blood Pressure</th> <th>Specific Gravity</th> <th>Albumin</th> <th>Sugar</th> <th>Red Blood Cells</th> <th>Pus Cell</th> <th>Pus Cell clumps</th> <th>Bacteria</th> <th>Glucose</th> <th>Blood Urea</th> <th>Serum Creatinine</th> <th>Sodium</th> <th>Potassium</th> <th>Hemoglobin</th> <th>Packed Cell Volume</th> <th>White Blood Cell Count</th> <th>Red Blood Cell Count</th> <th>Hypertension</th> <th>Diabetes Mellitus</th> <th>Coronary Artery Disease</th> <th>Appetite</th> <th>Pedal Edema</th> <th>Anemia</th> <th>Class</th>\n",
              "        </tr>\n",
              "    </thead>\n",
              "    <tbody>\n",
              "        <tr>\n",
              "            <td>23  </td> <td>80            </td> <td>1.025           </td> <td>0      </td> <td>0    </td> <td>normal         </td> <td>normal  </td> <td>notpresent     </td> <td>notpresent</td> <td>111    </td> <td>34        </td> <td>1.1             </td> <td>145   </td> <td>4        </td> <td>14.3      </td> <td>41                </td> <td>7200                  </td> <td>5                   </td> <td>no          </td> <td>no               </td> <td>no                     </td> <td>good    </td> <td>no         </td> <td>no    </td> <td>0    </td>\n",
              "        </tr>\n",
              "        <tr>\n",
              "            <td>42  </td> <td>70            </td> <td>1.02            </td> <td>0      </td> <td>0    </td> <td>normal         </td> <td>normal  </td> <td>notpresent     </td> <td>notpresent</td> <td>93     </td> <td>32        </td> <td>0.9             </td> <td>143   </td> <td>4.7      </td> <td>16.6      </td> <td>43                </td> <td>7100                  </td> <td>5.3                 </td> <td>no          </td> <td>no               </td> <td>no                     </td> <td>good    </td> <td>no         </td> <td>no    </td> <td>0    </td>\n",
              "        </tr>\n",
              "        <tr>\n",
              "            <td>33  </td> <td>80            </td> <td>1.025           </td> <td>0      </td> <td>0    </td> <td>normal         </td> <td>normal  </td> <td>notpresent     </td> <td>notpresent</td> <td>100    </td> <td>37        </td> <td>1.2             </td> <td>142   </td> <td>4        </td> <td>16.9      </td> <td>52                </td> <td>6700                  </td> <td>6                   </td> <td>no          </td> <td>no               </td> <td>no                     </td> <td>good    </td> <td>no         </td> <td>no    </td> <td>0    </td>\n",
              "        </tr>\n",
              "    </tbody>\n",
              "</table>"
            ],
            "text/plain": [
              "<IPython.core.display.HTML object>"
            ]
          },
          "metadata": {},
          "output_type": "display_data"
        }
      ],
      "source": [
        "ckd = Table.read_table('ckd.csv').relabeled('Blood Glucose Random', 'Glucose')\n",
        "ckd.sample(3).show(3)"
      ]
    },
    {
      "cell_type": "markdown",
      "id": "2f28b290-18ed-4bfd-a33d-b451087a51f0",
      "metadata": {
        "id": "2f28b290-18ed-4bfd-a33d-b451087a51f0"
      },
      "source": [
        "* Which features help predict CKD?\n",
        "* We saw that glucose and hemoglobin measurements can helpful"
      ]
    },
    {
      "cell_type": "code",
      "execution_count": null,
      "id": "67081240-66ea-43e1-9762-fbd73bd757d3",
      "metadata": {
        "id": "67081240-66ea-43e1-9762-fbd73bd757d3",
        "outputId": "fa1afbfe-89a6-478e-c2c4-49204272edaf"
      },
      "outputs": [
        {
          "data": {
            "text/html": [
              "<table border=\"1\" class=\"dataframe\">\n",
              "    <thead>\n",
              "        <tr>\n",
              "            <th>Hemoglobin</th> <th>Glucose</th> <th>Class</th>\n",
              "        </tr>\n",
              "    </thead>\n",
              "    <tbody>\n",
              "        <tr>\n",
              "            <td>11.2      </td> <td>117    </td> <td>1    </td>\n",
              "        </tr>\n",
              "        <tr>\n",
              "            <td>9.5       </td> <td>70     </td> <td>1    </td>\n",
              "        </tr>\n",
              "        <tr>\n",
              "            <td>10.8      </td> <td>380    </td> <td>1    </td>\n",
              "        </tr>\n",
              "        <tr>\n",
              "            <td>5.6       </td> <td>157    </td> <td>1    </td>\n",
              "        </tr>\n",
              "        <tr>\n",
              "            <td>7.7       </td> <td>173    </td> <td>1    </td>\n",
              "        </tr>\n",
              "        <tr>\n",
              "            <td>9.8       </td> <td>95     </td> <td>1    </td>\n",
              "        </tr>\n",
              "        <tr>\n",
              "            <td>12.5      </td> <td>264    </td> <td>1    </td>\n",
              "        </tr>\n",
              "        <tr>\n",
              "            <td>10        </td> <td>70     </td> <td>1    </td>\n",
              "        </tr>\n",
              "        <tr>\n",
              "            <td>10.5      </td> <td>253    </td> <td>1    </td>\n",
              "        </tr>\n",
              "        <tr>\n",
              "            <td>9.8       </td> <td>163    </td> <td>1    </td>\n",
              "        </tr>\n",
              "    </tbody>\n",
              "</table>\n",
              "<p>... (148 rows omitted)</p>"
            ],
            "text/plain": [
              "Hemoglobin | Glucose | Class\n",
              "11.2       | 117     | 1\n",
              "9.5        | 70      | 1\n",
              "10.8       | 380     | 1\n",
              "5.6        | 157     | 1\n",
              "7.7        | 173     | 1\n",
              "9.8        | 95      | 1\n",
              "12.5       | 264     | 1\n",
              "10         | 70      | 1\n",
              "10.5       | 253     | 1\n",
              "9.8        | 163     | 1\n",
              "... (148 rows omitted)"
            ]
          },
          "execution_count": 3,
          "metadata": {},
          "output_type": "execute_result"
        }
      ],
      "source": [
        "ckd = ckd.select('Hemoglobin', 'Glucose', 'Class')\n",
        "ckd"
      ]
    },
    {
      "cell_type": "markdown",
      "id": "b8324c83-ea75-488a-85ef-a9f8f383d6a4",
      "metadata": {
        "id": "b8324c83-ea75-488a-85ef-a9f8f383d6a4"
      },
      "source": [
        "---"
      ]
    },
    {
      "cell_type": "markdown",
      "id": "2f3399f3-5e02-4c72-9155-932dc48b49b2",
      "metadata": {
        "id": "2f3399f3-5e02-4c72-9155-932dc48b49b2"
      },
      "source": [
        "## Rows"
      ]
    },
    {
      "cell_type": "markdown",
      "id": "f26cbc0f-2711-463b-8208-169ba1ad80fc",
      "metadata": {
        "id": "f26cbc0f-2711-463b-8208-169ba1ad80fc"
      },
      "source": [
        "---"
      ]
    },
    {
      "cell_type": "markdown",
      "id": "9c64a825-cce8-4622-af2b-fb500c798851",
      "metadata": {
        "id": "9c64a825-cce8-4622-af2b-fb500c798851"
      },
      "source": [
        "### Reviewing Rows of Tables"
      ]
    },
    {
      "cell_type": "markdown",
      "id": "10d2b933-a9ba-4fb6-a3ac-16d7d0502c53",
      "metadata": {
        "id": "10d2b933-a9ba-4fb6-a3ac-16d7d0502c53"
      },
      "source": [
        "Each row contains all the data for one individual\n",
        "* `t.row(i)` evaluates to `i`th row of table `t`\n",
        "* `t.row(i).item(j)` is the value of column `j` in row `i`\n",
        "* If all values are numbers, then `np.array(t.row(i))` evaluates to an array of all the numbers in the row.  \n",
        "* To consider each row individually, use\n",
        "* `for row in t.rows:`\n",
        "    `... row.item(j) ...`\n",
        "* `t.exclude(i)` evaluates to the table `t` without its `i`th row\n"
      ]
    },
    {
      "cell_type": "markdown",
      "id": "9a303bc0-ad92-4984-9d8c-2db3c5731e48",
      "metadata": {
        "id": "9a303bc0-ad92-4984-9d8c-2db3c5731e48"
      },
      "source": [
        "---"
      ]
    },
    {
      "cell_type": "markdown",
      "id": "53cbcd52-93f5-4ce5-8b48-a23090193d6e",
      "metadata": {
        "id": "53cbcd52-93f5-4ce5-8b48-a23090193d6e"
      },
      "source": [
        "## Calculating Distance"
      ]
    },
    {
      "cell_type": "markdown",
      "id": "be65f4f3-9ecb-492a-ba0e-a374222bd20b",
      "metadata": {
        "id": "be65f4f3-9ecb-492a-ba0e-a374222bd20b"
      },
      "source": [
        "---"
      ]
    },
    {
      "cell_type": "markdown",
      "id": "59608f1d-2995-4b31-9e37-c2ec275a9585",
      "metadata": {
        "id": "59608f1d-2995-4b31-9e37-c2ec275a9585"
      },
      "source": [
        "### Pythagoras' Formula"
      ]
    },
    {
      "cell_type": "markdown",
      "id": "acfa1301-2bff-491d-a809-49593a2443d5",
      "metadata": {
        "id": "acfa1301-2bff-491d-a809-49593a2443d5"
      },
      "source": [
        "<img src=\"./pyth.png\" width=20%>\n",
        "\n",
        "For a right triangle with legs $a, b$ and hypotenuse $c$, the following relationship is always true: $$a^2 + b^2 = c^2.$$\n"
      ]
    },
    {
      "cell_type": "markdown",
      "id": "f3f081ad-7aa9-4716-a6f9-34e093898367",
      "metadata": {
        "id": "f3f081ad-7aa9-4716-a6f9-34e093898367"
      },
      "source": [
        "---"
      ]
    },
    {
      "cell_type": "markdown",
      "id": "be1d4675-c00b-455b-b914-eff0b14bd0b4",
      "metadata": {
        "id": "be1d4675-c00b-455b-b914-eff0b14bd0b4"
      },
      "source": [
        "### Distance Between Two Points"
      ]
    },
    {
      "cell_type": "markdown",
      "id": "fde49f4b-c330-432b-a342-7ef59273849b",
      "metadata": {
        "id": "fde49f4b-c330-432b-a342-7ef59273849b"
      },
      "source": [
        "One way to calculate the distance $D$ between two points utilizes a right triangle and depends on the number of attributes each point has.\n",
        "* If $D$ represents the distance between points $(x_0, y_0)$ and $(x_1, y_1)$, then $$D = \\sqrt{(x_0 - x_1)^2 + (y_0 - y_1)^2}$$\n",
        "* If $D$ represents the distance between points $(x_0, y_0, z_0)$ and $(x_1, y_1, z_1)$, then $$D = \\sqrt{(x_0 - x_1)^2 + (y_0 - y_1)^2 + (z_0 - z_1)^2}$$\n",
        "* etc."
      ]
    },
    {
      "cell_type": "markdown",
      "id": "43d4bd15-7a51-4018-8dab-620051ec05f8",
      "metadata": {
        "id": "43d4bd15-7a51-4018-8dab-620051ec05f8"
      },
      "source": [
        "---"
      ]
    },
    {
      "cell_type": "markdown",
      "id": "54c710f7-064e-4361-8473-73c8055afa5a",
      "metadata": {
        "id": "54c710f7-064e-4361-8473-73c8055afa5a"
      },
      "source": [
        "### Distances using Array Arithmetic"
      ]
    },
    {
      "cell_type": "markdown",
      "id": "122b7309-b1a3-4435-ab74-33b2bd3132d9",
      "metadata": {
        "id": "122b7309-b1a3-4435-ab74-33b2bd3132d9"
      },
      "source": [
        "* For a table like `tbl`:\n",
        "\n",
        "Attribute | Point 1 | Point 2\n",
        "|---|---|---|\n",
        "x | x_0 | x_1\n",
        "y | y_0 | y_1\n",
        "z | z_0 | z_1\n",
        "... | ... | ...\n",
        "\n",
        "* You can get the column (array) data:\n",
        "    * `pt1 = tbl.column('Point 1')`\n",
        "    * `pt2 = tbl.column('Point 2')`\n",
        "* Then the distance formula with NumPy is: `np.sqrt(np.sum((pt1 - pt2)**2))`\n",
        "* This formula with NumPy is the same no matter how many rows (attributes) there are!"
      ]
    },
    {
      "cell_type": "markdown",
      "id": "e98253ad-8034-470e-91a1-c313b95041f9",
      "metadata": {
        "id": "e98253ad-8034-470e-91a1-c313b95041f9"
      },
      "source": [
        "---"
      ]
    },
    {
      "cell_type": "markdown",
      "id": "b7af03eb-24d9-4229-bd6e-078c833ff298",
      "metadata": {
        "id": "b7af03eb-24d9-4229-bd6e-078c833ff298"
      },
      "source": [
        "### Demo: Distance"
      ]
    },
    {
      "cell_type": "markdown",
      "id": "88e987e1-e57a-4ae9-96e3-57155a6bd48f",
      "metadata": {
        "deletable": false,
        "editable": false,
        "id": "88e987e1-e57a-4ae9-96e3-57155a6bd48f"
      },
      "source": [
        "* Create a function to calculate the distance between 2 points (represented as arrays).\n",
        "* Use that function to calculate the distance between two rows of numeric data from a table.\n",
        "* Remove the `'Class'` column from `ckd` to create `features`.\n",
        "* Apply the `row_distance` function."
      ]
    },
    {
      "cell_type": "code",
      "execution_count": null,
      "id": "3567d8a3-87f5-4027-bba4-905307c8eb5e",
      "metadata": {
        "tags": [],
        "id": "3567d8a3-87f5-4027-bba4-905307c8eb5e"
      },
      "outputs": [],
      "source": [
        "def distance(pt1, pt2):\n",
        "    \"\"\"Return the distance between two points, represented as arrays\"\"\"\n",
        "    return np.sqrt(sum((pt1 - pt2)**2))"
      ]
    },
    {
      "cell_type": "code",
      "execution_count": null,
      "id": "b62cf137-d91b-4432-b01b-428de55ee49f",
      "metadata": {
        "tags": [],
        "id": "b62cf137-d91b-4432-b01b-428de55ee49f"
      },
      "outputs": [],
      "source": [
        "def row_distance(row1, row2):\n",
        "    \"\"\"Return the distance between two numerical rows of a table\"\"\"\n",
        "    return distance(np.array(row1), np.array(row2))"
      ]
    },
    {
      "cell_type": "code",
      "execution_count": null,
      "id": "5a6d897f-9358-4d0c-ab5e-3b67dc0d502a",
      "metadata": {
        "tags": [],
        "id": "5a6d897f-9358-4d0c-ab5e-3b67dc0d502a",
        "outputId": "9e2bde56-2a16-4ee5-e1cf-b3259fb32c61"
      },
      "outputs": [
        {
          "data": {
            "text/html": [
              "<table border=\"1\" class=\"dataframe\">\n",
              "    <thead>\n",
              "        <tr>\n",
              "            <th>Hemoglobin</th> <th>Glucose</th>\n",
              "        </tr>\n",
              "    </thead>\n",
              "    <tbody>\n",
              "        <tr>\n",
              "            <td>11.2      </td> <td>117    </td>\n",
              "        </tr>\n",
              "        <tr>\n",
              "            <td>9.5       </td> <td>70     </td>\n",
              "        </tr>\n",
              "        <tr>\n",
              "            <td>10.8      </td> <td>380    </td>\n",
              "        </tr>\n",
              "        <tr>\n",
              "            <td>5.6       </td> <td>157    </td>\n",
              "        </tr>\n",
              "        <tr>\n",
              "            <td>7.7       </td> <td>173    </td>\n",
              "        </tr>\n",
              "        <tr>\n",
              "            <td>9.8       </td> <td>95     </td>\n",
              "        </tr>\n",
              "        <tr>\n",
              "            <td>12.5      </td> <td>264    </td>\n",
              "        </tr>\n",
              "        <tr>\n",
              "            <td>10        </td> <td>70     </td>\n",
              "        </tr>\n",
              "        <tr>\n",
              "            <td>10.5      </td> <td>253    </td>\n",
              "        </tr>\n",
              "        <tr>\n",
              "            <td>9.8       </td> <td>163    </td>\n",
              "        </tr>\n",
              "    </tbody>\n",
              "</table>\n",
              "<p>... (148 rows omitted)</p>"
            ],
            "text/plain": [
              "Hemoglobin | Glucose\n",
              "11.2       | 117\n",
              "9.5        | 70\n",
              "10.8       | 380\n",
              "5.6        | 157\n",
              "7.7        | 173\n",
              "9.8        | 95\n",
              "12.5       | 264\n",
              "10         | 70\n",
              "10.5       | 253\n",
              "9.8        | 163\n",
              "... (148 rows omitted)"
            ]
          },
          "execution_count": 6,
          "metadata": {},
          "output_type": "execute_result"
        }
      ],
      "source": [
        "features = ckd.drop('Class')\n",
        "features"
      ]
    },
    {
      "cell_type": "code",
      "execution_count": null,
      "id": "0e5c57c1-8b0d-41dc-b802-f979f05b07e0",
      "metadata": {
        "tags": [],
        "id": "0e5c57c1-8b0d-41dc-b802-f979f05b07e0",
        "outputId": "99611649-5af0-4b7e-ebb6-4db7dba707ce"
      },
      "outputs": [
        {
          "data": {
            "text/plain": [
              "Row(Hemoglobin=9.5, Glucose=70)"
            ]
          },
          "execution_count": 7,
          "metadata": {},
          "output_type": "execute_result"
        }
      ],
      "source": [
        "features.row(1)"
      ]
    },
    {
      "cell_type": "code",
      "execution_count": null,
      "id": "c7bc43b9-15cb-4b87-bacf-deb488cc996c",
      "metadata": {
        "tags": [],
        "id": "c7bc43b9-15cb-4b87-bacf-deb488cc996c",
        "outputId": "0f46638c-46bd-48ed-cc02-4647227ba0c2"
      },
      "outputs": [
        {
          "data": {
            "text/plain": [
              "47.030734631727789"
            ]
          },
          "execution_count": 8,
          "metadata": {},
          "output_type": "execute_result"
        }
      ],
      "source": [
        "row_distance(features.row(0), features.row(1))"
      ]
    },
    {
      "cell_type": "code",
      "execution_count": null,
      "id": "f6714720-e576-4a63-b271-faaf27ca13d4",
      "metadata": {
        "tags": [],
        "id": "f6714720-e576-4a63-b271-faaf27ca13d4",
        "outputId": "8892716b-bd83-4270-f33d-b557107414e3"
      },
      "outputs": [
        {
          "data": {
            "text/plain": [
              "263.00030418233359"
            ]
          },
          "execution_count": 9,
          "metadata": {},
          "output_type": "execute_result"
        }
      ],
      "source": [
        "row_distance(features.row(0), features.row(2))"
      ]
    },
    {
      "cell_type": "code",
      "execution_count": null,
      "id": "309b8e6e-d32b-490e-9865-9b8bb17dfdf8",
      "metadata": {
        "tags": [],
        "id": "309b8e6e-d32b-490e-9865-9b8bb17dfdf8",
        "outputId": "e7da7360-24ab-45a2-8799-03265a724429"
      },
      "outputs": [
        {
          "data": {
            "text/plain": [
              "0.0"
            ]
          },
          "execution_count": 10,
          "metadata": {},
          "output_type": "execute_result"
        }
      ],
      "source": [
        "row_distance(features.row(2), features.row(2))"
      ]
    },
    {
      "cell_type": "markdown",
      "id": "f3dba33d-da22-4e28-a559-f80b6650c491",
      "metadata": {
        "id": "f3dba33d-da22-4e28-a559-f80b6650c491"
      },
      "source": [
        "---"
      ]
    },
    {
      "cell_type": "markdown",
      "id": "e44d2b8e-d7cc-4b69-b8ae-bc132c826a69",
      "metadata": {
        "id": "e44d2b8e-d7cc-4b69-b8ae-bc132c826a69"
      },
      "source": [
        "## Splitting the Data"
      ]
    },
    {
      "cell_type": "markdown",
      "id": "9a7c379d-8172-4658-90c4-18249dc85ca9",
      "metadata": {
        "id": "9a7c379d-8172-4658-90c4-18249dc85ca9"
      },
      "source": [
        "---"
      ]
    },
    {
      "cell_type": "markdown",
      "id": "0dfda871-9640-492e-b261-a1c06f18e968",
      "metadata": {
        "id": "0dfda871-9640-492e-b261-a1c06f18e968"
      },
      "source": [
        "### `split`"
      ]
    },
    {
      "cell_type": "markdown",
      "id": "1f554f51-aabf-4232-9b02-decc0480e892",
      "metadata": {
        "id": "1f554f51-aabf-4232-9b02-decc0480e892"
      },
      "source": [
        "* The `datascience` library contains the `split` `Table` method\n",
        "    * Notation: `tbl.split(first_n)`\n",
        "* Splits `tbl` into 2 Tables\n",
        "* `first_n` represents the number of rows from `tbl` to be randomly assigned to the first table\n",
        "* The rest of the rows in `tbl` are assigned to the second table\n",
        "* This function produces two outputs (tables)!"
      ]
    },
    {
      "cell_type": "markdown",
      "id": "0821ba90-0bde-4367-b5ab-9abeb1f77f1b",
      "metadata": {
        "id": "0821ba90-0bde-4367-b5ab-9abeb1f77f1b"
      },
      "source": [
        "---"
      ]
    },
    {
      "cell_type": "markdown",
      "id": "fcd3beaa-11f0-4217-b982-1b4ce59fbae7",
      "metadata": {
        "id": "fcd3beaa-11f0-4217-b982-1b4ce59fbae7"
      },
      "source": [
        "### Demo: Splitting Data"
      ]
    },
    {
      "cell_type": "markdown",
      "id": "a3f9eaff-8d84-4ca6-9759-16efac5d894c",
      "metadata": {
        "deletable": false,
        "editable": false,
        "id": "a3f9eaff-8d84-4ca6-9759-16efac5d894c"
      },
      "source": [
        "* Use `split` to split the data into a training set and a test set, with half of the original data in each set\n",
        "* Explain how `split` works by showing a manual process of splitting the data"
      ]
    },
    {
      "cell_type": "code",
      "execution_count": null,
      "id": "75424876-6454-4fbf-838e-05c34386c3e8",
      "metadata": {
        "tags": [],
        "id": "75424876-6454-4fbf-838e-05c34386c3e8"
      },
      "outputs": [],
      "source": [
        "half_way = round(ckd.num_rows/2)\n",
        "train_50, test_50 = ckd.split(half_way)"
      ]
    },
    {
      "cell_type": "code",
      "execution_count": null,
      "id": "53df4c3f-768c-48e0-8e3c-137c0a265911",
      "metadata": {
        "tags": [],
        "id": "53df4c3f-768c-48e0-8e3c-137c0a265911",
        "outputId": "ca17dc45-b895-4f4e-dcdc-6ee8445baacd"
      },
      "outputs": [
        {
          "data": {
            "text/html": [
              "<table border=\"1\" class=\"dataframe\">\n",
              "    <thead>\n",
              "        <tr>\n",
              "            <th>Hemoglobin</th> <th>Glucose</th> <th>Class</th>\n",
              "        </tr>\n",
              "    </thead>\n",
              "    <tbody>\n",
              "        <tr>\n",
              "            <td>13.6      </td> <td>107    </td> <td>0    </td>\n",
              "        </tr>\n",
              "        <tr>\n",
              "            <td>14.2      </td> <td>134    </td> <td>0    </td>\n",
              "        </tr>\n",
              "        <tr>\n",
              "            <td>13.5      </td> <td>91     </td> <td>0    </td>\n",
              "        </tr>\n",
              "        <tr>\n",
              "            <td>15.8      </td> <td>100    </td> <td>0    </td>\n",
              "        </tr>\n",
              "        <tr>\n",
              "            <td>9.9       </td> <td>94     </td> <td>1    </td>\n",
              "        </tr>\n",
              "        <tr>\n",
              "            <td>15.9      </td> <td>130    </td> <td>0    </td>\n",
              "        </tr>\n",
              "        <tr>\n",
              "            <td>12.6      </td> <td>122    </td> <td>1    </td>\n",
              "        </tr>\n",
              "        <tr>\n",
              "            <td>16.2      </td> <td>83     </td> <td>0    </td>\n",
              "        </tr>\n",
              "        <tr>\n",
              "            <td>14.4      </td> <td>132    </td> <td>0    </td>\n",
              "        </tr>\n",
              "        <tr>\n",
              "            <td>16.3      </td> <td>111    </td> <td>0    </td>\n",
              "        </tr>\n",
              "    </tbody>\n",
              "</table>\n",
              "<p>... (69 rows omitted)</p>"
            ],
            "text/plain": [
              "Hemoglobin | Glucose | Class\n",
              "13.6       | 107     | 0\n",
              "14.2       | 134     | 0\n",
              "13.5       | 91      | 0\n",
              "15.8       | 100     | 0\n",
              "9.9        | 94      | 1\n",
              "15.9       | 130     | 0\n",
              "12.6       | 122     | 1\n",
              "16.2       | 83      | 0\n",
              "14.4       | 132     | 0\n",
              "16.3       | 111     | 0\n",
              "... (69 rows omitted)"
            ]
          },
          "execution_count": 12,
          "metadata": {},
          "output_type": "execute_result"
        }
      ],
      "source": [
        "train_50"
      ]
    },
    {
      "cell_type": "code",
      "execution_count": null,
      "id": "65971b6f-7aae-488a-b8e0-35633e785dc4",
      "metadata": {
        "tags": [],
        "id": "65971b6f-7aae-488a-b8e0-35633e785dc4",
        "outputId": "5c20f9b4-33f6-483b-a79e-5717538db98d"
      },
      "outputs": [
        {
          "data": {
            "text/html": [
              "<table border=\"1\" class=\"dataframe\">\n",
              "    <thead>\n",
              "        <tr>\n",
              "            <th>Hemoglobin</th> <th>Glucose</th> <th>Class</th>\n",
              "        </tr>\n",
              "    </thead>\n",
              "    <tbody>\n",
              "        <tr>\n",
              "            <td>14.8      </td> <td>139    </td> <td>0    </td>\n",
              "        </tr>\n",
              "        <tr>\n",
              "            <td>15.5      </td> <td>130    </td> <td>0    </td>\n",
              "        </tr>\n",
              "        <tr>\n",
              "            <td>17.6      </td> <td>79     </td> <td>0    </td>\n",
              "        </tr>\n",
              "        <tr>\n",
              "            <td>14.7      </td> <td>81     </td> <td>0    </td>\n",
              "        </tr>\n",
              "        <tr>\n",
              "            <td>14        </td> <td>92     </td> <td>0    </td>\n",
              "        </tr>\n",
              "        <tr>\n",
              "            <td>15.3      </td> <td>113    </td> <td>0    </td>\n",
              "        </tr>\n",
              "        <tr>\n",
              "            <td>5.6       </td> <td>157    </td> <td>1    </td>\n",
              "        </tr>\n",
              "        <tr>\n",
              "            <td>17        </td> <td>112    </td> <td>0    </td>\n",
              "        </tr>\n",
              "        <tr>\n",
              "            <td>12.5      </td> <td>264    </td> <td>1    </td>\n",
              "        </tr>\n",
              "        <tr>\n",
              "            <td>13.1      </td> <td>128    </td> <td>0    </td>\n",
              "        </tr>\n",
              "    </tbody>\n",
              "</table>\n",
              "<p>... (69 rows omitted)</p>"
            ],
            "text/plain": [
              "Hemoglobin | Glucose | Class\n",
              "14.8       | 139     | 0\n",
              "15.5       | 130     | 0\n",
              "17.6       | 79      | 0\n",
              "14.7       | 81      | 0\n",
              "14         | 92      | 0\n",
              "15.3       | 113     | 0\n",
              "5.6        | 157     | 1\n",
              "17         | 112     | 0\n",
              "12.5       | 264     | 1\n",
              "13.1       | 128     | 0\n",
              "... (69 rows omitted)"
            ]
          },
          "execution_count": 13,
          "metadata": {},
          "output_type": "execute_result"
        }
      ],
      "source": [
        "test_50"
      ]
    },
    {
      "cell_type": "code",
      "execution_count": null,
      "id": "9d55214c-e37d-4401-bcc6-6bb7a2ba4248",
      "metadata": {
        "tags": [],
        "id": "9d55214c-e37d-4401-bcc6-6bb7a2ba4248"
      },
      "outputs": [],
      "source": [
        "half_way = round(ckd.num_rows/2)\n",
        "shuffled = ckd.sample(with_replacement=False)\n",
        "train_manual = shuffled.take(np.arange(half_way))\n",
        "test_manual  = shuffled.take(np.arange(half_way, ckd.num_rows))"
      ]
    },
    {
      "cell_type": "code",
      "execution_count": null,
      "id": "e2475c62-6142-4e37-8579-2f037f0af9c0",
      "metadata": {
        "tags": [],
        "id": "e2475c62-6142-4e37-8579-2f037f0af9c0",
        "outputId": "8559d5b8-31f7-4263-e3ce-40dbc17de71b"
      },
      "outputs": [
        {
          "data": {
            "text/html": [
              "<table border=\"1\" class=\"dataframe\">\n",
              "    <thead>\n",
              "        <tr>\n",
              "            <th>Hemoglobin</th> <th>Glucose</th> <th>Class</th>\n",
              "        </tr>\n",
              "    </thead>\n",
              "    <tbody>\n",
              "        <tr>\n",
              "            <td>9.1       </td> <td>129    </td> <td>1    </td>\n",
              "        </tr>\n",
              "        <tr>\n",
              "            <td>13        </td> <td>99     </td> <td>0    </td>\n",
              "        </tr>\n",
              "        <tr>\n",
              "            <td>14.3      </td> <td>111    </td> <td>0    </td>\n",
              "        </tr>\n",
              "        <tr>\n",
              "            <td>10        </td> <td>117    </td> <td>1    </td>\n",
              "        </tr>\n",
              "        <tr>\n",
              "            <td>7.9       </td> <td>288    </td> <td>1    </td>\n",
              "        </tr>\n",
              "        <tr>\n",
              "            <td>16.7      </td> <td>89     </td> <td>0    </td>\n",
              "        </tr>\n",
              "        <tr>\n",
              "            <td>13.3      </td> <td>88     </td> <td>0    </td>\n",
              "        </tr>\n",
              "        <tr>\n",
              "            <td>16.2      </td> <td>117    </td> <td>0    </td>\n",
              "        </tr>\n",
              "        <tr>\n",
              "            <td>16.3      </td> <td>140    </td> <td>0    </td>\n",
              "        </tr>\n",
              "        <tr>\n",
              "            <td>12.6      </td> <td>424    </td> <td>1    </td>\n",
              "        </tr>\n",
              "    </tbody>\n",
              "</table>\n",
              "<p>... (69 rows omitted)</p>"
            ],
            "text/plain": [
              "Hemoglobin | Glucose | Class\n",
              "9.1        | 129     | 1\n",
              "13         | 99      | 0\n",
              "14.3       | 111     | 0\n",
              "10         | 117     | 1\n",
              "7.9        | 288     | 1\n",
              "16.7       | 89      | 0\n",
              "13.3       | 88      | 0\n",
              "16.2       | 117     | 0\n",
              "16.3       | 140     | 0\n",
              "12.6       | 424     | 1\n",
              "... (69 rows omitted)"
            ]
          },
          "execution_count": 15,
          "metadata": {},
          "output_type": "execute_result"
        }
      ],
      "source": [
        "train_manual"
      ]
    },
    {
      "cell_type": "code",
      "execution_count": null,
      "id": "b0daf1d9-3c7c-44e3-b7b5-c1ce3acea490",
      "metadata": {
        "tags": [],
        "id": "b0daf1d9-3c7c-44e3-b7b5-c1ce3acea490",
        "outputId": "4278c51a-5694-485c-8a40-1edb29baf3e5"
      },
      "outputs": [
        {
          "data": {
            "text/html": [
              "<table border=\"1\" class=\"dataframe\">\n",
              "    <thead>\n",
              "        <tr>\n",
              "            <th>Hemoglobin</th> <th>Glucose</th> <th>Class</th>\n",
              "        </tr>\n",
              "    </thead>\n",
              "    <tbody>\n",
              "        <tr>\n",
              "            <td>8.3       </td> <td>107    </td> <td>1    </td>\n",
              "        </tr>\n",
              "        <tr>\n",
              "            <td>10.9      </td> <td>214    </td> <td>1    </td>\n",
              "        </tr>\n",
              "        <tr>\n",
              "            <td>13        </td> <td>117    </td> <td>0    </td>\n",
              "        </tr>\n",
              "        <tr>\n",
              "            <td>13.5      </td> <td>91     </td> <td>0    </td>\n",
              "        </tr>\n",
              "        <tr>\n",
              "            <td>15.1      </td> <td>74     </td> <td>0    </td>\n",
              "        </tr>\n",
              "        <tr>\n",
              "            <td>15        </td> <td>140    </td> <td>0    </td>\n",
              "        </tr>\n",
              "        <tr>\n",
              "            <td>14.7      </td> <td>105    </td> <td>0    </td>\n",
              "        </tr>\n",
              "        <tr>\n",
              "            <td>14.8      </td> <td>139    </td> <td>0    </td>\n",
              "        </tr>\n",
              "        <tr>\n",
              "            <td>14.1      </td> <td>137    </td> <td>0    </td>\n",
              "        </tr>\n",
              "        <tr>\n",
              "            <td>14.2      </td> <td>114    </td> <td>0    </td>\n",
              "        </tr>\n",
              "    </tbody>\n",
              "</table>\n",
              "<p>... (69 rows omitted)</p>"
            ],
            "text/plain": [
              "Hemoglobin | Glucose | Class\n",
              "8.3        | 107     | 1\n",
              "10.9       | 214     | 1\n",
              "13         | 117     | 0\n",
              "13.5       | 91      | 0\n",
              "15.1       | 74      | 0\n",
              "15         | 140     | 0\n",
              "14.7       | 105     | 0\n",
              "14.8       | 139     | 0\n",
              "14.1       | 137     | 0\n",
              "14.2       | 114     | 0\n",
              "... (69 rows omitted)"
            ]
          },
          "execution_count": 16,
          "metadata": {},
          "output_type": "execute_result"
        }
      ],
      "source": [
        "test_manual"
      ]
    },
    {
      "cell_type": "markdown",
      "id": "ef61292a-16b6-4221-850a-5c2467ee097d",
      "metadata": {
        "id": "ef61292a-16b6-4221-850a-5c2467ee097d"
      },
      "source": [
        "---"
      ]
    },
    {
      "cell_type": "markdown",
      "id": "200fc20e-4515-434f-b094-6b52a306f80b",
      "metadata": {
        "id": "200fc20e-4515-434f-b094-6b52a306f80b"
      },
      "source": [
        "## Nearest Neighbors"
      ]
    },
    {
      "cell_type": "markdown",
      "id": "3dc887a4-602b-4a97-9c35-6b33a5e1a161",
      "metadata": {
        "id": "3dc887a4-602b-4a97-9c35-6b33a5e1a161"
      },
      "source": [
        "---"
      ]
    },
    {
      "cell_type": "markdown",
      "id": "b853c7f2-e4ad-47f0-9d93-0ee16b9e577c",
      "metadata": {
        "id": "b853c7f2-e4ad-47f0-9d93-0ee16b9e577c"
      },
      "source": [
        "### Finding the `k` Nearest Neighbors"
      ]
    },
    {
      "cell_type": "markdown",
      "id": "91e669f5-2b45-4194-ae24-e87a568b3339",
      "metadata": {
        "id": "91e669f5-2b45-4194-ae24-e87a568b3339"
      },
      "source": [
        "To find the `k` nearest neighbors of an example:\n",
        "* Find the distance between the example and each example in the training set\n",
        "* Augment the training data table with a column containing all the distances\n",
        "* Sort the augmented table in increasing order of the distances\n",
        "* Take the top `k` rows of the sorted table"
      ]
    },
    {
      "cell_type": "markdown",
      "id": "6e0ed3fe-7792-4270-8a48-a3b9a67493ba",
      "metadata": {
        "id": "6e0ed3fe-7792-4270-8a48-a3b9a67493ba"
      },
      "source": [
        "---"
      ]
    },
    {
      "cell_type": "markdown",
      "id": "c3554515-77bc-496c-a795-22db4a43e5bf",
      "metadata": {
        "id": "c3554515-77bc-496c-a795-22db4a43e5bf"
      },
      "source": [
        "### The Classifier"
      ]
    },
    {
      "cell_type": "markdown",
      "id": "c74251f6-59c6-4ebb-9141-321e4dcedcd3",
      "metadata": {
        "id": "c74251f6-59c6-4ebb-9141-321e4dcedcd3"
      },
      "source": [
        "To classify a point:\n",
        "* Find its `k` nearest neighbors\n",
        "* Take a majority vote of the `k` nearest neighbors to see which of the two classes appears more often\n",
        "* Assign the point the class that wins the majority vote"
      ]
    },
    {
      "cell_type": "markdown",
      "id": "823cfd8c-e03d-40b9-bc3d-8314a0e7bf1d",
      "metadata": {
        "id": "823cfd8c-e03d-40b9-bc3d-8314a0e7bf1d"
      },
      "source": [
        "---"
      ]
    },
    {
      "cell_type": "markdown",
      "id": "cf873905-be0c-442d-ad29-c8468f668215",
      "metadata": {
        "id": "cf873905-be0c-442d-ad29-c8468f668215"
      },
      "source": [
        "### Demo: The Classifier"
      ]
    },
    {
      "cell_type": "markdown",
      "id": "872ca5c2-74e8-484c-8d5d-4b18febac9ea",
      "metadata": {
        "deletable": false,
        "editable": false,
        "id": "872ca5c2-74e8-484c-8d5d-4b18febac9ea"
      },
      "source": [
        "The `distance` function calculates the distance between an example row (an individual patient) and every row in the training set of `patient` data.\n",
        "\n",
        "* How can we use kNN to classify an example patient?\n",
        "* Split the `ckd` into training and testing sets.\n",
        "* Measure the distance between the example patient and every row in the training data set.\n",
        "* Create a function that finds the `k` closest row(s) in the training set to the example patient. Apply that function to the situation above.\n",
        "* Create a function or functions to report the majority class for the nearest `k` rows in the training set to the example patient."
      ]
    },
    {
      "cell_type": "code",
      "execution_count": null,
      "id": "cdbda80a-4214-47c8-95e3-bc98f943ce7b",
      "metadata": {
        "tags": [],
        "id": "cdbda80a-4214-47c8-95e3-bc98f943ce7b"
      },
      "outputs": [],
      "source": [
        "example_patient = [12.3, 119]"
      ]
    },
    {
      "cell_type": "code",
      "execution_count": null,
      "id": "c2afd0ea-2560-4fbf-b2ee-69c02adbb409",
      "metadata": {
        "tags": [],
        "id": "c2afd0ea-2560-4fbf-b2ee-69c02adbb409",
        "outputId": "688f8ad7-9273-4ed4-f3b9-dde6835128e8"
      },
      "outputs": [
        {
          "data": {
            "text/plain": [
              "[12.3, 119]"
            ]
          },
          "execution_count": 18,
          "metadata": {},
          "output_type": "execute_result"
        }
      ],
      "source": [
        "example_patient"
      ]
    },
    {
      "cell_type": "code",
      "execution_count": null,
      "id": "ac325779-f4f2-4834-955f-68f06f018879",
      "metadata": {
        "tags": [],
        "id": "ac325779-f4f2-4834-955f-68f06f018879"
      },
      "outputs": [],
      "source": [
        "np.random.seed(123) # Makes sure we all get the same data\n",
        "row_80th = round(ckd.num_rows * 0.80)\n",
        "train, test = ckd.split(row_80th)"
      ]
    },
    {
      "cell_type": "code",
      "execution_count": null,
      "id": "151cb1ce-e9e1-4dbe-9c82-c76876b36039",
      "metadata": {
        "tags": [],
        "id": "151cb1ce-e9e1-4dbe-9c82-c76876b36039",
        "outputId": "4b22e5c1-821b-4dc3-d786-5da01a80f8f1"
      },
      "outputs": [
        {
          "data": {
            "text/html": [
              "<table border=\"1\" class=\"dataframe\">\n",
              "    <thead>\n",
              "        <tr>\n",
              "            <th>Hemoglobin</th> <th>Glucose</th> <th>Class</th>\n",
              "        </tr>\n",
              "    </thead>\n",
              "    <tbody>\n",
              "        <tr>\n",
              "            <td>12.6      </td> <td>122    </td> <td>1    </td>\n",
              "        </tr>\n",
              "        <tr>\n",
              "            <td>8.3       </td> <td>273    </td> <td>1    </td>\n",
              "        </tr>\n",
              "        <tr>\n",
              "            <td>15        </td> <td>95     </td> <td>0    </td>\n",
              "        </tr>\n",
              "        <tr>\n",
              "            <td>17.3      </td> <td>104    </td> <td>0    </td>\n",
              "        </tr>\n",
              "        <tr>\n",
              "            <td>15.1      </td> <td>74     </td> <td>0    </td>\n",
              "        </tr>\n",
              "        <tr>\n",
              "            <td>13.7      </td> <td>132    </td> <td>0    </td>\n",
              "        </tr>\n",
              "        <tr>\n",
              "            <td>15.6      </td> <td>131    </td> <td>0    </td>\n",
              "        </tr>\n",
              "        <tr>\n",
              "            <td>16.5      </td> <td>113    </td> <td>0    </td>\n",
              "        </tr>\n",
              "        <tr>\n",
              "            <td>16.5      </td> <td>75     </td> <td>0    </td>\n",
              "        </tr>\n",
              "        <tr>\n",
              "            <td>15.8      </td> <td>131    </td> <td>0    </td>\n",
              "        </tr>\n",
              "    </tbody>\n",
              "</table>\n",
              "<p>... (116 rows omitted)</p>"
            ],
            "text/plain": [
              "Hemoglobin | Glucose | Class\n",
              "12.6       | 122     | 1\n",
              "8.3        | 273     | 1\n",
              "15         | 95      | 0\n",
              "17.3       | 104     | 0\n",
              "15.1       | 74      | 0\n",
              "13.7       | 132     | 0\n",
              "15.6       | 131     | 0\n",
              "16.5       | 113     | 0\n",
              "16.5       | 75      | 0\n",
              "15.8       | 131     | 0\n",
              "... (116 rows omitted)"
            ]
          },
          "execution_count": 20,
          "metadata": {},
          "output_type": "execute_result"
        }
      ],
      "source": [
        "train"
      ]
    },
    {
      "cell_type": "code",
      "execution_count": null,
      "id": "b36f78f2-11f2-4c7c-a653-be447dd45abe",
      "metadata": {
        "tags": [],
        "id": "b36f78f2-11f2-4c7c-a653-be447dd45abe",
        "outputId": "11ca23fd-ec13-4d42-f59c-a3282cbac7e2"
      },
      "outputs": [
        {
          "data": {
            "text/html": [
              "<table border=\"1\" class=\"dataframe\">\n",
              "    <thead>\n",
              "        <tr>\n",
              "            <th>Hemoglobin</th> <th>Glucose</th> <th>Class</th>\n",
              "        </tr>\n",
              "    </thead>\n",
              "    <tbody>\n",
              "        <tr>\n",
              "            <td>15.7      </td> <td>105    </td> <td>0    </td>\n",
              "        </tr>\n",
              "        <tr>\n",
              "            <td>15        </td> <td>89     </td> <td>0    </td>\n",
              "        </tr>\n",
              "        <tr>\n",
              "            <td>13.5      </td> <td>130    </td> <td>0    </td>\n",
              "        </tr>\n",
              "        <tr>\n",
              "            <td>14.3      </td> <td>100    </td> <td>0    </td>\n",
              "        </tr>\n",
              "        <tr>\n",
              "            <td>16.7      </td> <td>93     </td> <td>0    </td>\n",
              "        </tr>\n",
              "        <tr>\n",
              "            <td>16.3      </td> <td>111    </td> <td>0    </td>\n",
              "        </tr>\n",
              "        <tr>\n",
              "            <td>15.8      </td> <td>100    </td> <td>0    </td>\n",
              "        </tr>\n",
              "        <tr>\n",
              "            <td>9.4       </td> <td>214    </td> <td>1    </td>\n",
              "        </tr>\n",
              "        <tr>\n",
              "            <td>13.6      </td> <td>137    </td> <td>0    </td>\n",
              "        </tr>\n",
              "        <tr>\n",
              "            <td>10.8      </td> <td>380    </td> <td>1    </td>\n",
              "        </tr>\n",
              "    </tbody>\n",
              "</table>\n",
              "<p>... (22 rows omitted)</p>"
            ],
            "text/plain": [
              "Hemoglobin | Glucose | Class\n",
              "15.7       | 105     | 0\n",
              "15         | 89      | 0\n",
              "13.5       | 130     | 0\n",
              "14.3       | 100     | 0\n",
              "16.7       | 93      | 0\n",
              "16.3       | 111     | 0\n",
              "15.8       | 100     | 0\n",
              "9.4        | 214     | 1\n",
              "13.6       | 137     | 0\n",
              "10.8       | 380     | 1\n",
              "... (22 rows omitted)"
            ]
          },
          "execution_count": 21,
          "metadata": {},
          "output_type": "execute_result"
        }
      ],
      "source": [
        "test"
      ]
    },
    {
      "cell_type": "code",
      "execution_count": null,
      "id": "5e08240b-3ee1-41cb-b946-69069c448382",
      "metadata": {
        "tags": [],
        "id": "5e08240b-3ee1-41cb-b946-69069c448382"
      },
      "outputs": [],
      "source": [
        "def distances(training, example):\n",
        "    \"\"\"\n",
        "    Compute distance between example row and every row in training.\n",
        "    Return training augmented with Distance column\n",
        "    \"\"\"\n",
        "    distances = make_array()\n",
        "    features_only = training.drop('Class')\n",
        "\n",
        "    for row in features_only.rows:\n",
        "        distances = np.append(distances, row_distance(row, example))\n",
        "\n",
        "#   ^ SAME AS DOING:\n",
        "#\n",
        "#   for i in np.arange(features_only.num_rows):\n",
        "#       row = features_only.row(i)\n",
        "#       distances = np.append(distances, row_distance(row, example))\n",
        "\n",
        "    return training.with_column('Distance_to_ex', distances)"
      ]
    },
    {
      "cell_type": "code",
      "execution_count": null,
      "id": "88d73e5a-b573-4dbe-abb7-75b38aef52c6",
      "metadata": {
        "tags": [],
        "id": "88d73e5a-b573-4dbe-abb7-75b38aef52c6",
        "outputId": "6381dd52-02d8-4db6-aaeb-a4ef88081795"
      },
      "outputs": [
        {
          "data": {
            "text/html": [
              "<table border=\"1\" class=\"dataframe\">\n",
              "    <thead>\n",
              "        <tr>\n",
              "            <th>Hemoglobin</th> <th>Glucose</th> <th>Class</th> <th>Distance_to_ex</th>\n",
              "        </tr>\n",
              "    </thead>\n",
              "    <tbody>\n",
              "        <tr>\n",
              "            <td>12        </td> <td>118    </td> <td>1    </td> <td>1.04403       </td>\n",
              "        </tr>\n",
              "        <tr>\n",
              "            <td>13.4      </td> <td>120    </td> <td>0    </td> <td>1.48661       </td>\n",
              "        </tr>\n",
              "        <tr>\n",
              "            <td>13.9      </td> <td>119    </td> <td>0    </td> <td>1.6           </td>\n",
              "        </tr>\n",
              "        <tr>\n",
              "            <td>13        </td> <td>117    </td> <td>0    </td> <td>2.11896       </td>\n",
              "        </tr>\n",
              "        <tr>\n",
              "            <td>13        </td> <td>117    </td> <td>0    </td> <td>2.11896       </td>\n",
              "        </tr>\n",
              "        <tr>\n",
              "            <td>11.2      </td> <td>117    </td> <td>1    </td> <td>2.28254       </td>\n",
              "        </tr>\n",
              "        <tr>\n",
              "            <td>13.6      </td> <td>121    </td> <td>0    </td> <td>2.38537       </td>\n",
              "        </tr>\n",
              "        <tr>\n",
              "            <td>14.8      </td> <td>118    </td> <td>0    </td> <td>2.69258       </td>\n",
              "        </tr>\n",
              "        <tr>\n",
              "            <td>12.6      </td> <td>122    </td> <td>1    </td> <td>3.01496       </td>\n",
              "        </tr>\n",
              "        <tr>\n",
              "            <td>10        </td> <td>117    </td> <td>1    </td> <td>3.04795       </td>\n",
              "        </tr>\n",
              "    </tbody>\n",
              "</table>\n",
              "<p>... (116 rows omitted)</p>"
            ],
            "text/plain": [
              "Hemoglobin | Glucose | Class | Distance_to_ex\n",
              "12         | 118     | 1     | 1.04403\n",
              "13.4       | 120     | 0     | 1.48661\n",
              "13.9       | 119     | 0     | 1.6\n",
              "13         | 117     | 0     | 2.11896\n",
              "13         | 117     | 0     | 2.11896\n",
              "11.2       | 117     | 1     | 2.28254\n",
              "13.6       | 121     | 0     | 2.38537\n",
              "14.8       | 118     | 0     | 2.69258\n",
              "12.6       | 122     | 1     | 3.01496\n",
              "10         | 117     | 1     | 3.04795\n",
              "... (116 rows omitted)"
            ]
          },
          "execution_count": 24,
          "metadata": {},
          "output_type": "execute_result"
        }
      ],
      "source": [
        "distances(train, example_patient).sort('Distance_to_ex')"
      ]
    },
    {
      "cell_type": "code",
      "execution_count": null,
      "id": "a5ce5589-ee48-4f79-8943-df6969a48efc",
      "metadata": {
        "tags": [],
        "id": "a5ce5589-ee48-4f79-8943-df6969a48efc"
      },
      "outputs": [],
      "source": [
        "def closest(training, example, k):\n",
        "    \"\"\"\n",
        "    Return a table of the k closest neighbors to example\n",
        "    \"\"\"\n",
        "    return distances(training, example).sort('Distance_to_ex').take(np.arange(k))"
      ]
    },
    {
      "cell_type": "code",
      "execution_count": null,
      "id": "3d3449e9-75cc-4fa7-82d9-a1614a2e0807",
      "metadata": {
        "tags": [],
        "id": "3d3449e9-75cc-4fa7-82d9-a1614a2e0807",
        "outputId": "ccbc2536-1455-4176-ca5f-f15e7797c56a"
      },
      "outputs": [
        {
          "data": {
            "text/html": [
              "<table border=\"1\" class=\"dataframe\">\n",
              "    <thead>\n",
              "        <tr>\n",
              "            <th>Hemoglobin</th> <th>Glucose</th> <th>Class</th> <th>Distance_to_ex</th>\n",
              "        </tr>\n",
              "    </thead>\n",
              "    <tbody>\n",
              "        <tr>\n",
              "            <td>12        </td> <td>118    </td> <td>1    </td> <td>1.04403       </td>\n",
              "        </tr>\n",
              "        <tr>\n",
              "            <td>13.4      </td> <td>120    </td> <td>0    </td> <td>1.48661       </td>\n",
              "        </tr>\n",
              "        <tr>\n",
              "            <td>13.9      </td> <td>119    </td> <td>0    </td> <td>1.6           </td>\n",
              "        </tr>\n",
              "        <tr>\n",
              "            <td>13        </td> <td>117    </td> <td>0    </td> <td>2.11896       </td>\n",
              "        </tr>\n",
              "        <tr>\n",
              "            <td>13        </td> <td>117    </td> <td>0    </td> <td>2.11896       </td>\n",
              "        </tr>\n",
              "    </tbody>\n",
              "</table>"
            ],
            "text/plain": [
              "Hemoglobin | Glucose | Class | Distance_to_ex\n",
              "12         | 118     | 1     | 1.04403\n",
              "13.4       | 120     | 0     | 1.48661\n",
              "13.9       | 119     | 0     | 1.6\n",
              "13         | 117     | 0     | 2.11896\n",
              "13         | 117     | 0     | 2.11896"
            ]
          },
          "execution_count": 26,
          "metadata": {},
          "output_type": "execute_result"
        }
      ],
      "source": [
        "closest(train, example_patient, 5)"
      ]
    },
    {
      "cell_type": "code",
      "execution_count": null,
      "id": "c229f6a6-a072-4b4c-8a9d-57979b5e270b",
      "metadata": {
        "tags": [],
        "id": "c229f6a6-a072-4b4c-8a9d-57979b5e270b",
        "outputId": "643b8285-9bef-46a2-c7f2-269d33248df6"
      },
      "outputs": [
        {
          "data": {
            "text/html": [
              "<table border=\"1\" class=\"dataframe\">\n",
              "    <thead>\n",
              "        <tr>\n",
              "            <th>Class</th> <th>count</th>\n",
              "        </tr>\n",
              "    </thead>\n",
              "    <tbody>\n",
              "        <tr>\n",
              "            <td>0    </td> <td>4    </td>\n",
              "        </tr>\n",
              "        <tr>\n",
              "            <td>1    </td> <td>1    </td>\n",
              "        </tr>\n",
              "    </tbody>\n",
              "</table>"
            ],
            "text/plain": [
              "Class | count\n",
              "0     | 4\n",
              "1     | 1"
            ]
          },
          "execution_count": 27,
          "metadata": {},
          "output_type": "execute_result"
        }
      ],
      "source": [
        "(closest(train, example_patient, 5)).group('Class').sort('count', descending=True)"
      ]
    },
    {
      "cell_type": "code",
      "execution_count": null,
      "id": "19fdc160-1f9a-4e72-8617-d47144f3e8f9",
      "metadata": {
        "tags": [],
        "id": "19fdc160-1f9a-4e72-8617-d47144f3e8f9"
      },
      "outputs": [],
      "source": [
        "def majority_class(topk):\n",
        "    \"\"\"\n",
        "    Return the class with the highest count\n",
        "    \"\"\"\n",
        "    return topk.group('Class').sort('count', descending=True).column(0).item(0)"
      ]
    },
    {
      "cell_type": "code",
      "execution_count": null,
      "id": "f873ee86-e65d-47e5-b745-3efa44a40bfd",
      "metadata": {
        "tags": [],
        "id": "f873ee86-e65d-47e5-b745-3efa44a40bfd"
      },
      "outputs": [],
      "source": [
        "def classify(training, example, k):\n",
        "    \"\"\"\n",
        "    Return the majority class among the\n",
        "    k nearest neighbors of example\n",
        "    \"\"\"\n",
        "    return majority_class(closest(training, example, k))"
      ]
    },
    {
      "cell_type": "code",
      "execution_count": null,
      "id": "a0839ad5-98eb-42d3-86bd-aea3fb480aa4",
      "metadata": {
        "tags": [],
        "id": "a0839ad5-98eb-42d3-86bd-aea3fb480aa4",
        "outputId": "6a2276c4-7b92-400d-9aac-9875fc1e44da"
      },
      "outputs": [
        {
          "data": {
            "text/plain": [
              "0"
            ]
          },
          "execution_count": 30,
          "metadata": {},
          "output_type": "execute_result"
        }
      ],
      "source": [
        "classify(train, example_patient, 5)"
      ]
    },
    {
      "cell_type": "markdown",
      "id": "0086ed45-aff3-4185-8c93-34a619734b06",
      "metadata": {
        "id": "0086ed45-aff3-4185-8c93-34a619734b06"
      },
      "source": [
        "---"
      ]
    },
    {
      "cell_type": "markdown",
      "id": "8de321a9-e637-462f-9ec7-14c90458ed36",
      "metadata": {
        "id": "8de321a9-e637-462f-9ec7-14c90458ed36"
      },
      "source": [
        "### Did the Classifier Work?"
      ]
    },
    {
      "cell_type": "markdown",
      "id": "33d64197-f60d-4889-b880-068493274e8f",
      "metadata": {
        "id": "33d64197-f60d-4889-b880-068493274e8f"
      },
      "source": [
        "- We predicted the class of the example patient.\n",
        "- Was the prediction correct?\n",
        "- A better question - How reliable is our classifier?\n",
        "- We will use the test set in the next lecture to measure the quality of our classifier."
      ]
    },
    {
      "cell_type": "markdown",
      "id": "c5378ce4-420c-4495-8d78-86b6a1600989",
      "metadata": {
        "id": "c5378ce4-420c-4495-8d78-86b6a1600989"
      },
      "source": [
        "---"
      ]
    },
    {
      "cell_type": "markdown",
      "id": "4d7631f7-2be5-4473-a92a-e5ece1ffa8cb",
      "metadata": {
        "id": "4d7631f7-2be5-4473-a92a-e5ece1ffa8cb"
      },
      "source": [
        "### Review of the Steps"
      ]
    },
    {
      "cell_type": "markdown",
      "id": "15367ad9-77ae-42c9-9955-7aaed78005f9",
      "metadata": {
        "id": "15367ad9-77ae-42c9-9955-7aaed78005f9"
      },
      "source": [
        "- `distance(pt1, pt2)`: Returns the distance between the arrays `pt1` and `pt2`\n",
        "- `row_distance(row1, row2)`: Returns the distance between the rows `row1` and `row2`\n",
        "- `distances(training, example)`: Returns a table that is `training` with an additional column `'Distance'` that contains the distance between `example` and each row of `training`\n",
        "- `closest(training, example, k)`: Returns a table of the rows corresponding to the k smallest distances\n",
        "- `majority_class(topk)`: Returns the majority class in the `'Class'` column\n",
        "- `classify(training, example, k)`: Returns the predicted class of `example` based on a `k` nearest neighbors classifier using the historical sample `training`\n",
        "\n",
        "In the next lecture, we will show you a way to evaluate a classifier."
      ]
    },
    {
      "cell_type": "markdown",
      "id": "3e481ad4-e8a3-4123-bf4d-27c9f5a6d753",
      "metadata": {
        "id": "3e481ad4-e8a3-4123-bf4d-27c9f5a6d753"
      },
      "source": [
        "---"
      ]
    },
    {
      "cell_type": "markdown",
      "id": "b39b3d9c-c13a-48dd-b476-69d31919dde7",
      "metadata": {
        "editable": true,
        "tags": [],
        "id": "b39b3d9c-c13a-48dd-b476-69d31919dde7"
      },
      "source": [
        "## Attribution"
      ]
    },
    {
      "cell_type": "markdown",
      "id": "569e5c2f-0061-42cd-aac6-527c3dd24527",
      "metadata": {
        "id": "569e5c2f-0061-42cd-aac6-527c3dd24527"
      },
      "source": [
        "This content is licensed under the <a href=\"https://creativecommons.org/licenses/by-nc-sa/4.0/\">Creative Commons Attribution-NonCommercial-ShareAlike 4.0 International License (CC BY-NC-SA 4.0)</a> and derived from the <a href=\"https://www.data8.org/\">Data 8: The Foundations of Data Science</a> offered by the University of California, Berkeley.\n",
        "\n",
        "<img src=\"./by-nc-sa.png\" width=100px>"
      ]
    }
  ],
  "metadata": {
    "kernelspec": {
      "display_name": "Python 3 (ipykernel)",
      "language": "python",
      "name": "python3"
    },
    "language_info": {
      "codemirror_mode": {
        "name": "ipython",
        "version": 3
      },
      "file_extension": ".py",
      "mimetype": "text/x-python",
      "name": "python",
      "nbconvert_exporter": "python",
      "pygments_lexer": "ipython3",
      "version": "3.11.9"
    },
    "otter": {
      "OK_FORMAT": true,
      "tests": {}
    },
    "colab": {
      "provenance": [],
      "include_colab_link": true
    }
  },
  "nbformat": 4,
  "nbformat_minor": 5
}