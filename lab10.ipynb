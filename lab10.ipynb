{
  "cells": [
    {
      "cell_type": "markdown",
      "metadata": {
        "id": "view-in-github",
        "colab_type": "text"
      },
      "source": [
        "<a href=\"https://colab.research.google.com/github/veyselberk88/Data-Science-Tools-and-Ecosystem/blob/main/lab10.ipynb\" target=\"_parent\"><img src=\"https://colab.research.google.com/assets/colab-badge.svg\" alt=\"Open In Colab\"/></a>"
      ]
    },
    {
      "cell_type": "code",
      "execution_count": null,
      "id": "d928c156",
      "metadata": {
        "deletable": false,
        "editable": false,
        "id": "d928c156"
      },
      "outputs": [],
      "source": [
        "# Initialize Otter\n",
        "import otter\n",
        "grader = otter.Notebook(\"lab10.ipynb\")"
      ]
    },
    {
      "cell_type": "markdown",
      "id": "88224d9c-167f-46d4-b43a-09779bfdc4dd",
      "metadata": {
        "id": "88224d9c-167f-46d4-b43a-09779bfdc4dd"
      },
      "source": [
        "<img src=\"./ccsf.png\" alt=\"CCSF Logo\" width=200px style=\"margin:0px -5px\">"
      ]
    },
    {
      "cell_type": "markdown",
      "id": "2b683e93-ad82-4125-8778-95c8e40c5436",
      "metadata": {
        "id": "2b683e93-ad82-4125-8778-95c8e40c5436"
      },
      "source": [
        "# Lab 10 - Sampling Distributions"
      ]
    },
    {
      "cell_type": "markdown",
      "id": "e6f07fdb-c60f-44e3-9c70-a2134379d0d2",
      "metadata": {
        "id": "e6f07fdb-c60f-44e3-9c70-a2134379d0d2"
      },
      "source": [
        "---"
      ]
    },
    {
      "cell_type": "markdown",
      "id": "9055712c-4f89-402d-b488-b414c27fa2c2",
      "metadata": {
        "id": "9055712c-4f89-402d-b488-b414c27fa2c2"
      },
      "source": [
        "## References"
      ]
    },
    {
      "cell_type": "markdown",
      "id": "54c18223-1828-4128-bc7d-fb97d02708db",
      "metadata": {
        "id": "54c18223-1828-4128-bc7d-fb97d02708db"
      },
      "source": [
        "* [Sections 14.3 - 14.6 of the Textbook](https://ccsf-math-108.github.io/textbook/chapters/14/3/SD_and_the_Normal_Curve.html)\n",
        "* [datascience Documentation](https://datascience.readthedocs.io/)\n",
        "* [Code Reference](https://ccsf-math-108.github.io/materials-sp25/resources/code-reference.html)"
      ]
    },
    {
      "cell_type": "markdown",
      "id": "ebd198cd-a7c5-4063-9323-769323265c2e",
      "metadata": {
        "id": "ebd198cd-a7c5-4063-9323-769323265c2e"
      },
      "source": [
        "---"
      ]
    },
    {
      "cell_type": "markdown",
      "id": "c7a4f7d9-c50e-41ee-8196-c31d3bdfd519",
      "metadata": {
        "id": "c7a4f7d9-c50e-41ee-8196-c31d3bdfd519"
      },
      "source": [
        "## Lab Assignment Reminders"
      ]
    },
    {
      "cell_type": "markdown",
      "id": "a2555420-62ca-403e-ad6b-1fc5379dbe2e",
      "metadata": {
        "id": "a2555420-62ca-403e-ad6b-1fc5379dbe2e"
      },
      "source": [
        "- 🚨 Make sure to run the code cell at the top of this notebook that starts with `# Initialize Otter` to load the auto-grader.\n",
        "- Your tasks are categorized as auto-graded (📍) and manually graded (📍🔎):\n",
        "    - **For all auto-graded tasks:**\n",
        "        - Replace the `...` in the provided code cell with your own code.\n",
        "        - Run the `grader.check` code cell to execute tests on your code.\n",
        "        - There are no hidden auto-grader tests in the lab assignments. This means if you pass the tests, you can assume you've completed the task successfully.\n",
        "    - **For all manually graded tasks:**\n",
        "        - You may need to provide your own response to the provided prompt. Replace the template text \"_Type your answer here, replacing this text._\" with your own words.\n",
        "        - You might need to produce a graphic or another output using code. Replace the `...` in the code cell to generate the image, table, etc.\n",
        "        - In either case, check your response with a classmate, a tutor, or the instructor before moving on.\n",
        "- Throughout this assignment and all future ones, please **do not re-assign variables** throughout the notebook! _For example, if you use `max_temperature` in your answer to one question, do not reassign it later on. Otherwise, you may fail tests that you thought you were passing previously!_\n",
        "- You may [submit](#Submit-Your-Assignment-to-Canvas) this assignment as many times as you want before the deadline. Your instructor will score the last version you submit once the deadline has passed.\n",
        "- **Collaborating on labs is encouraged!** You should rarely remain stuck for more than a few minutes on questions in labs, so ask an instructor or classmate for help. (Explaining things is beneficial, too -- the best way to solidify your knowledge of a subject is to explain it.) However, please don't just share answers."
      ]
    },
    {
      "cell_type": "markdown",
      "id": "4779800a-6bd6-448e-a008-4a88031be1fc",
      "metadata": {
        "id": "4779800a-6bd6-448e-a008-4a88031be1fc"
      },
      "source": [
        "---"
      ]
    },
    {
      "cell_type": "markdown",
      "id": "a6c1aebc-d922-46c0-b1f5-da4b25b0571c",
      "metadata": {
        "id": "a6c1aebc-d922-46c0-b1f5-da4b25b0571c"
      },
      "source": [
        "## Configure the Notebook"
      ]
    },
    {
      "cell_type": "markdown",
      "id": "eecfefb3-babf-4c6c-8ac2-d9423a2dc2b0",
      "metadata": {
        "id": "eecfefb3-babf-4c6c-8ac2-d9423a2dc2b0"
      },
      "source": [
        "Run the following cell to configure this Notebook."
      ]
    },
    {
      "cell_type": "code",
      "execution_count": null,
      "id": "b286c97c-9138-4537-a20c-908d021e5c8b",
      "metadata": {
        "id": "b286c97c-9138-4537-a20c-908d021e5c8b"
      },
      "outputs": [],
      "source": [
        "from datascience import *\n",
        "import numpy as np\n",
        "%matplotlib inline\n",
        "import matplotlib.pyplot as plt\n",
        "plt.style.use('fivethirtyeight')"
      ]
    },
    {
      "cell_type": "markdown",
      "id": "9842c4a1-139d-495b-892b-dd61dc0722ac",
      "metadata": {
        "id": "9842c4a1-139d-495b-892b-dd61dc0722ac"
      },
      "source": [
        "---"
      ]
    },
    {
      "cell_type": "markdown",
      "id": "6aef5b87-b2bd-40ef-8639-efadc99f3741",
      "metadata": {
        "id": "6aef5b87-b2bd-40ef-8639-efadc99f3741"
      },
      "source": [
        "## Normal Distributions"
      ]
    },
    {
      "cell_type": "markdown",
      "id": "62247622-1d67-4bc6-bc47-67183ac7a959",
      "metadata": {
        "id": "62247622-1d67-4bc6-bc47-67183ac7a959"
      },
      "source": [
        "When we visualize the distribution of a sample, we are often interested in the mean and the standard deviation of the sample (for the rest of this lab, we will abbreviate \"standard deviation\" as \"SD\"). These two sample statistics can give us a bird's eye view of the distribution -- by letting us know where the distribution sits on the number line and how spread out it is, respectively.\n",
        "\n",
        "First, load in the `births` table from lecture, which is a large random sample of US births and includes information about mother-child pairs."
      ]
    },
    {
      "cell_type": "code",
      "execution_count": null,
      "id": "aac1ee58-7542-4e4f-ac79-93fa0df8dad7",
      "metadata": {
        "id": "aac1ee58-7542-4e4f-ac79-93fa0df8dad7",
        "outputId": "6c93b8d9-fd47-4bf0-bb40-30da37c1c337"
      },
      "outputs": [
        {
          "data": {
            "text/html": [
              "<table border=\"1\" class=\"dataframe\">\n",
              "    <thead>\n",
              "        <tr>\n",
              "            <th>Birth Weight</th> <th>Gestational Days</th> <th>Maternal Age</th> <th>Maternal Height</th> <th>Maternal Pregnancy Weight</th> <th>Maternal Smoker</th>\n",
              "        </tr>\n",
              "    </thead>\n",
              "    <tbody>\n",
              "        <tr>\n",
              "            <td>120         </td> <td>284             </td> <td>27          </td> <td>62             </td> <td>100                      </td> <td>False          </td>\n",
              "        </tr>\n",
              "        <tr>\n",
              "            <td>113         </td> <td>282             </td> <td>33          </td> <td>64             </td> <td>135                      </td> <td>False          </td>\n",
              "        </tr>\n",
              "        <tr>\n",
              "            <td>128         </td> <td>279             </td> <td>28          </td> <td>64             </td> <td>115                      </td> <td>True           </td>\n",
              "        </tr>\n",
              "        <tr>\n",
              "            <td>108         </td> <td>282             </td> <td>23          </td> <td>67             </td> <td>125                      </td> <td>True           </td>\n",
              "        </tr>\n",
              "        <tr>\n",
              "            <td>136         </td> <td>286             </td> <td>25          </td> <td>62             </td> <td>93                       </td> <td>False          </td>\n",
              "        </tr>\n",
              "        <tr>\n",
              "            <td>138         </td> <td>244             </td> <td>33          </td> <td>62             </td> <td>178                      </td> <td>False          </td>\n",
              "        </tr>\n",
              "        <tr>\n",
              "            <td>132         </td> <td>245             </td> <td>23          </td> <td>65             </td> <td>140                      </td> <td>False          </td>\n",
              "        </tr>\n",
              "        <tr>\n",
              "            <td>120         </td> <td>289             </td> <td>25          </td> <td>62             </td> <td>125                      </td> <td>False          </td>\n",
              "        </tr>\n",
              "        <tr>\n",
              "            <td>143         </td> <td>299             </td> <td>30          </td> <td>66             </td> <td>136                      </td> <td>True           </td>\n",
              "        </tr>\n",
              "        <tr>\n",
              "            <td>140         </td> <td>351             </td> <td>27          </td> <td>68             </td> <td>120                      </td> <td>False          </td>\n",
              "        </tr>\n",
              "    </tbody>\n",
              "</table>\n",
              "<p>... (1164 rows omitted)</p>"
            ],
            "text/plain": [
              "Birth Weight | Gestational Days | Maternal Age | Maternal Height | Maternal Pregnancy Weight | Maternal Smoker\n",
              "120          | 284              | 27           | 62              | 100                       | False\n",
              "113          | 282              | 33           | 64              | 135                       | False\n",
              "128          | 279              | 28           | 64              | 115                       | True\n",
              "108          | 282              | 23           | 67              | 125                       | True\n",
              "136          | 286              | 25           | 62              | 93                        | False\n",
              "138          | 244              | 33           | 62              | 178                       | False\n",
              "132          | 245              | 23           | 65              | 140                       | False\n",
              "120          | 289              | 25           | 62              | 125                       | False\n",
              "143          | 299              | 30           | 66              | 136                       | True\n",
              "140          | 351              | 27           | 68              | 120                       | False\n",
              "... (1164 rows omitted)"
            ]
          },
          "execution_count": 5,
          "metadata": {},
          "output_type": "execute_result"
        }
      ],
      "source": [
        "births = Table.read_table('baby.csv')\n",
        "births"
      ]
    },
    {
      "cell_type": "markdown",
      "id": "77623759-b3af-4407-9025-fdfb1c13a593",
      "metadata": {
        "id": "77623759-b3af-4407-9025-fdfb1c13a593"
      },
      "source": [
        "---"
      ]
    },
    {
      "cell_type": "markdown",
      "id": "2693c99e-1ad1-47ee-8bef-9551d1ef2705",
      "metadata": {
        "tags": [],
        "id": "2693c99e-1ad1-47ee-8bef-9551d1ef2705"
      },
      "source": [
        "### Task 01 📍🔎"
      ]
    },
    {
      "cell_type": "markdown",
      "id": "342b9fcc-b13a-4a8a-840d-0033f739786f",
      "metadata": {
        "deletable": false,
        "editable": false,
        "id": "342b9fcc-b13a-4a8a-840d-0033f739786f"
      },
      "source": [
        "<!-- BEGIN QUESTION -->\n",
        "\n",
        "Write a line of code to plot the distribution of mother's ages from the `births` table. Don't change the last line, which will plot the mean of the sample on the distribution itself.\n",
        "\n",
        "**Note**: Since this task does not have an auto-grader, check your solution with a classmate, tutor, or the instructor before moving on."
      ]
    },
    {
      "cell_type": "code",
      "execution_count": null,
      "id": "a09c7bb0-be64-4450-931d-ed85a274924e",
      "metadata": {
        "jp-MarkdownHeadingCollapsed": true,
        "tags": [],
        "id": "a09c7bb0-be64-4450-931d-ed85a274924e",
        "outputId": "f48b1d12-479c-4e1c-abe2-025b2263ffc3"
      },
      "outputs": [
        {
          "data": {
            "image/png": "[encoded data removed]",
            "text/plain": [
              "<Figure size 600x400 with 1 Axes>"
            ]
          },
          "metadata": {},
          "output_type": "display_data"
        }
      ],
      "source": [
        "births.select(\"Maternal Age\").hist()\n",
        "# Do not change anything below this line\n",
        "plt.scatter(np.mean(births.column(\"Maternal Age\")), 0, color='red', zorder=2, s=50);\n",
        "plt.ylim(-0.005, 0.07);"
      ]
    },
    {
      "cell_type": "markdown",
      "id": "b42284a0-affe-44a3-b30d-4aca00e2f22c",
      "metadata": {
        "deletable": false,
        "editable": false,
        "id": "b42284a0-affe-44a3-b30d-4aca00e2f22c"
      },
      "source": [
        "<!-- END QUESTION -->\n",
        "\n",
        "---"
      ]
    },
    {
      "cell_type": "markdown",
      "id": "a6e49492-8ff7-42d4-ba0e-0f73953ac257",
      "metadata": {
        "id": "a6e49492-8ff7-42d4-ba0e-0f73953ac257"
      },
      "source": [
        "### Center of Gravity"
      ]
    },
    {
      "cell_type": "markdown",
      "id": "93d083e4-c2da-4233-b9ff-2c5858a56e25",
      "metadata": {
        "id": "93d083e4-c2da-4233-b9ff-2c5858a56e25"
      },
      "source": [
        "In the plot above, we can see that the mean is the center of gravity (or balance point) of the distribution. If you imagine cutting the distribution out of cardboard and placing your finger below the mean (the red dot), the distribution would balance perfectly on your finger. Since the distribution is right-skewed (i.e., it has a long right tail), the mean of the distribution is larger than the median (the \"halfway\" point of the data). Conversely, if the distribution had been left-skewed, the mean would be smaller than the median."
      ]
    },
    {
      "cell_type": "markdown",
      "id": "cae4ad50-0779-4fe5-9725-8e62f9c70728",
      "metadata": {
        "id": "cae4ad50-0779-4fe5-9725-8e62f9c70728"
      },
      "source": [
        "---"
      ]
    },
    {
      "cell_type": "markdown",
      "id": "90ae870b-5179-410a-bb9d-fdd87df44af0",
      "metadata": {
        "tags": [],
        "id": "90ae870b-5179-410a-bb9d-fdd87df44af0"
      },
      "source": [
        "### Task 02 📍🔎"
      ]
    },
    {
      "cell_type": "markdown",
      "id": "2a36fbc6-5174-4799-b85d-dd7da666d646",
      "metadata": {
        "deletable": false,
        "editable": false,
        "id": "2a36fbc6-5174-4799-b85d-dd7da666d646"
      },
      "source": [
        "<!-- BEGIN QUESTION -->\n",
        "\n",
        "Run the following cell to plot the mean (red) and median (blue) on the distribution of the mothers' ages. Then write a sentence describing the relationship between the mean and the median in this distribution.\n",
        "\n",
        "**Note**: Since this task does not have an auto-grader, check your solution with a classmate, tutor, or the instructor before moving on."
      ]
    },
    {
      "cell_type": "code",
      "execution_count": null,
      "id": "d4719114-a484-4103-ad9c-9446c50036f7",
      "metadata": {
        "deletable": false,
        "editable": false,
        "id": "d4719114-a484-4103-ad9c-9446c50036f7",
        "outputId": "4de06892-9b35-42a4-e0f2-53ebca40f2ac"
      },
      "outputs": [
        {
          "data": {
            "image/png": "[encoded data removed]",
            "text/plain": [
              "<Figure size 600x400 with 1 Axes>"
            ]
          },
          "metadata": {},
          "output_type": "display_data"
        }
      ],
      "source": [
        "births.hist(\"Maternal Age\")\n",
        "plt.scatter(np.mean(births.column(\"Maternal Age\")), 0, color='red', zorder=2, s=50, label=\"Mean\")\n",
        "plt.scatter(np.median(births.column(\"Maternal Age\")), 0, color='blue', zorder=2, s=50, label=\"Median\")\n",
        "plt.legend()\n",
        "plt.ylim(-0.005, 0.07);"
      ]
    },
    {
      "cell_type": "markdown",
      "id": "f3b110ff",
      "metadata": {
        "id": "f3b110ff"
      },
      "source": [
        "Since the distribution is right-skewed, the mean of the distribution is larger than the median"
      ]
    },
    {
      "cell_type": "markdown",
      "id": "f27d90bc-3aac-4fdc-af0b-0063f18c50ca",
      "metadata": {
        "deletable": false,
        "editable": false,
        "id": "f27d90bc-3aac-4fdc-af0b-0063f18c50ca"
      },
      "source": [
        "<!-- END QUESTION -->\n",
        "\n",
        "---"
      ]
    },
    {
      "cell_type": "markdown",
      "id": "013b118e-bc09-428a-b6c3-91c394e51bff",
      "metadata": {
        "id": "013b118e-bc09-428a-b6c3-91c394e51bff"
      },
      "source": [
        "### Standard Deviation"
      ]
    },
    {
      "cell_type": "markdown",
      "id": "4fc8cd49-aba8-43a1-9190-8d6f86421515",
      "metadata": {
        "id": "4fc8cd49-aba8-43a1-9190-8d6f86421515"
      },
      "source": [
        "We are also interested in the standard deviation (SD) of mother's ages. The SD gives us a sense of how variable mothers' ages are around the average mothers' age. If the SD is larger, then this indicates that the mothers' ages are more spread out around the average than if the SD is smaller. A smaller SD would indicate a more tightly clustered distribution around the average mother's age.\n",
        "\n",
        "**Recall that the SD of an array is defined as the \"root mean square of the deviations\", where the deviations are the difference between the original elements and their average.**\n",
        "\n",
        "You can read more about Variability and SD in [Section 14.2](https://ccsf-math-108.github.io/textbook/chapters/14/2/Variability.html). This chapter also goes a bit more into detail about how \"root mean square of the deviations\" is calculated. Fun fact! $\\sigma$ (Greek letter sigma) is used to represent the SD and $\\mu$ (Greek letter mu) is used for the mean."
      ]
    },
    {
      "cell_type": "markdown",
      "id": "ba5b0aca-18ec-4a3a-b5be-bf456938326c",
      "metadata": {
        "id": "ba5b0aca-18ec-4a3a-b5be-bf456938326c"
      },
      "source": [
        "---"
      ]
    },
    {
      "cell_type": "markdown",
      "id": "9d3c037e-f5bb-4326-aa66-1e8cfd067d5c",
      "metadata": {
        "tags": [],
        "id": "9d3c037e-f5bb-4326-aa66-1e8cfd067d5c"
      },
      "source": [
        "### Task 03 📍"
      ]
    },
    {
      "cell_type": "markdown",
      "id": "c86469b4-7457-4fcd-8737-4fdb7ef8fc41",
      "metadata": {
        "deletable": false,
        "editable": false,
        "id": "c86469b4-7457-4fcd-8737-4fdb7ef8fc41"
      },
      "source": [
        "Assign `age_mean` to the mean of the maternal ages and `age_sd` to the SD of the maternal ages. Then run the cell below to see the width of one SD (blue) from the sample mean (red) plotted on the histogram of maternal ages.\n",
        "\n",
        "**Hint**: `np.std` might be useful here."
      ]
    },
    {
      "cell_type": "code",
      "execution_count": null,
      "id": "ad5df4c9-6b7b-467e-98e3-70d7adfb986a",
      "metadata": {
        "tags": [],
        "id": "ad5df4c9-6b7b-467e-98e3-70d7adfb986a",
        "outputId": "99a6a6cd-3e57-4634-f4c8-42e6ddd18e73"
      },
      "outputs": [
        {
          "data": {
            "image/png": "[encoded data removed]",
            "text/plain": [
              "<Figure size 600x400 with 1 Axes>"
            ]
          },
          "metadata": {},
          "output_type": "display_data"
        }
      ],
      "source": [
        "age_mean = np.mean(births.column(\"Maternal Age\"))\n",
        "age_sd = np.std(births.column(\"Maternal Age\"))\n",
        "births.hist(\"Maternal Age\")\n",
        "\n",
        "plt.scatter(age_mean, 0, color='red', zorder=2, s=50);\n",
        "plt.scatter(age_mean+age_sd, 0, marker='^', color='blue', zorder=2, s=50);\n",
        "plt.scatter(age_mean-age_sd, 0, marker='^', color='blue', zorder=2, s=50);\n",
        "plt.ylim(-0.005, 0.07);"
      ]
    },
    {
      "cell_type": "code",
      "execution_count": null,
      "id": "fbbc1713",
      "metadata": {
        "deletable": false,
        "editable": false,
        "id": "fbbc1713",
        "outputId": "e4622537-3a39-43f0-c9f7-31b5660950f6"
      },
      "outputs": [
        {
          "data": {
            "text/html": [
              "<p><strong><pre style='display: inline;'>task_03</pre></strong> passed! 🌈</p><p><strong><pre style='display: inline;'>task_03 - 1</pre> message:</strong> \"✅ age_mean seems correct.\"\n",
              "</p><p><strong><pre style='display: inline;'>task_03 - 2</pre> message:</strong> \"✅ age_sd seems correct.\"\n",
              "</p>"
            ],
            "text/plain": [
              "task_03 results: All test cases passed!\n",
              "task_03 - 1 message: \"✅ age_mean seems correct.\"\n",
              "\n",
              "task_03 - 2 message: \"✅ age_sd seems correct.\""
            ]
          },
          "execution_count": 9,
          "metadata": {},
          "output_type": "execute_result"
        }
      ],
      "source": [
        "grader.check(\"task_03\")"
      ]
    },
    {
      "cell_type": "markdown",
      "id": "8389138a-6a86-4e24-bac6-7846258b3ac0",
      "metadata": {
        "editable": true,
        "tags": [],
        "id": "8389138a-6a86-4e24-bac6-7846258b3ac0"
      },
      "source": [
        "---"
      ]
    },
    {
      "cell_type": "markdown",
      "id": "6adb605a-6f19-4696-afb3-5e3c9e0b9769",
      "metadata": {
        "id": "6adb605a-6f19-4696-afb3-5e3c9e0b9769"
      },
      "source": [
        "### Standard Deviations and Inflection Points"
      ]
    },
    {
      "cell_type": "markdown",
      "id": "95614c02-6afd-4f27-9c76-b7882f57ee03",
      "metadata": {
        "id": "95614c02-6afd-4f27-9c76-b7882f57ee03"
      },
      "source": [
        "In the histogram above, the standard deviation is not easy to identify if you were just looking at the graph.\n",
        "\n",
        "However, the distributions of some variables allow us to easily spot the standard deviation on the plot. For example, if a sample follows a **[normal distribution](https://ccsf-math-108.github.io/textbook/chapters/14/3/SD_and_the_Normal_Curve.html)**, the standard deviation is easily spotted using the point of inflection (the point where the curve begins to change the direction of its curvature) of the distribution."
      ]
    },
    {
      "cell_type": "markdown",
      "id": "666adf1a-0a35-4c72-8221-aab539e94730",
      "metadata": {
        "id": "666adf1a-0a35-4c72-8221-aab539e94730"
      },
      "source": [
        "---"
      ]
    },
    {
      "cell_type": "markdown",
      "id": "cb0731f7-725e-4ac2-8283-f5833967be0c",
      "metadata": {
        "tags": [],
        "id": "cb0731f7-725e-4ac2-8283-f5833967be0c"
      },
      "source": [
        "### Task 04 📍"
      ]
    },
    {
      "cell_type": "markdown",
      "id": "46d5e434-d8fe-4bf0-870c-a1e1138cd0aa",
      "metadata": {
        "deletable": false,
        "editable": false,
        "id": "46d5e434-d8fe-4bf0-870c-a1e1138cd0aa"
      },
      "source": [
        "Fill in the following code to examine the distribution of maternal heights, which is roughly normally distributed. We'll plot the standard deviation on the histogram, as before. Notice where one standard deviation (blue) away from the mean (red) falls on the plot. Do you see the points of inflection?"
      ]
    },
    {
      "cell_type": "code",
      "execution_count": null,
      "id": "439a8a8c-5771-4eae-8ad6-1421277b6f62",
      "metadata": {
        "tags": [],
        "id": "439a8a8c-5771-4eae-8ad6-1421277b6f62",
        "outputId": "829d4656-f4fd-46ea-b785-d17c73905570"
      },
      "outputs": [
        {
          "data": {
            "image/png": "[encoded data removed]",
            "text/plain": [
              "<Figure size 600x400 with 1 Axes>"
            ]
          },
          "metadata": {},
          "output_type": "display_data"
        }
      ],
      "source": [
        "height_mean = np.mean(births.column(\"Maternal Height\"))\n",
        "height_sd =  np.std(births.column(\"Maternal Height\"))\n",
        "births.hist(\"Maternal Height\", bins=np.arange(55,75,1))\n",
        "\n",
        "plt.scatter((height_mean), 0, color='red', zorder=2, s=50);\n",
        "plt.scatter(height_mean+height_sd, 0, marker='^', color='blue', zorder=2, s=50);\n",
        "plt.scatter(height_mean-height_sd, 0, marker='^', color='blue', zorder=2, s=50);\n",
        "plt.ylim(-0.01, 0.16);"
      ]
    },
    {
      "cell_type": "code",
      "execution_count": null,
      "id": "ad4ce651",
      "metadata": {
        "deletable": false,
        "editable": false,
        "id": "ad4ce651",
        "outputId": "44bbe157-2fb2-4226-9f0c-13d62cfbfe25"
      },
      "outputs": [
        {
          "data": {
            "text/html": [
              "<p><strong><pre style='display: inline;'>task_04</pre></strong> passed! 💯</p><p><strong><pre style='display: inline;'>task_04 - 1</pre> message:</strong> \"✅ height_mean seems correct.\"\n",
              "</p><p><strong><pre style='display: inline;'>task_04 - 2</pre> message:</strong> \"✅ height_sd seems correct.\"\n",
              "</p>"
            ],
            "text/plain": [
              "task_04 results: All test cases passed!\n",
              "task_04 - 1 message: \"✅ height_mean seems correct.\"\n",
              "\n",
              "task_04 - 2 message: \"✅ height_sd seems correct.\""
            ]
          },
          "execution_count": 11,
          "metadata": {},
          "output_type": "execute_result"
        }
      ],
      "source": [
        "grader.check(\"task_04\")"
      ]
    },
    {
      "cell_type": "markdown",
      "id": "7fa91a36-45d1-41c6-85fb-e1b3fd1a7892",
      "metadata": {
        "editable": true,
        "tags": [],
        "id": "7fa91a36-45d1-41c6-85fb-e1b3fd1a7892"
      },
      "source": [
        "---"
      ]
    },
    {
      "cell_type": "markdown",
      "id": "97214691-9fc0-4e16-884c-62ced5f5db45",
      "metadata": {
        "id": "97214691-9fc0-4e16-884c-62ced5f5db45"
      },
      "source": [
        "### Central Limit Theorem"
      ]
    },
    {
      "cell_type": "markdown",
      "id": "d9f07f61-b8b5-4afd-980f-9f4cb740462c",
      "metadata": {
        "id": "d9f07f61-b8b5-4afd-980f-9f4cb740462c"
      },
      "source": [
        "We don't always know how a variable will be distributed, and making assumptions about whether or not a variable will follow a normal distribution is dangerous. However, the Central Limit Theorem (CLT) gives us distributions that always follow a normal distribution. The CLT says that distributions of both means and sums of large random samples drawn with replacement taken from a single distribution (regardless of the distribution's original shape) will be normally distributed. Remember that the CLT refers to the distribution of a statistic calculated from a distribution, not the distribution of the original sample or population. If this is confusing, ask a staff member!\n",
        "\n",
        "The next section explores distributions of sample means and how the standard deviation of these distributions depends on sample size."
      ]
    },
    {
      "cell_type": "markdown",
      "id": "1e726a1f-b7f9-4ba5-a12a-3d895f26c5e9",
      "metadata": {
        "id": "1e726a1f-b7f9-4ba5-a12a-3d895f26c5e9"
      },
      "source": [
        "---"
      ]
    },
    {
      "cell_type": "markdown",
      "id": "84fb1844-ba37-4a0d-a6ee-c6d313464d23",
      "metadata": {
        "id": "84fb1844-ba37-4a0d-a6ee-c6d313464d23"
      },
      "source": [
        "## Variability of the Sample Mean"
      ]
    },
    {
      "cell_type": "markdown",
      "id": "e5def6a3-7c37-4c14-8c71-21d463bf0a64",
      "metadata": {
        "id": "e5def6a3-7c37-4c14-8c71-21d463bf0a64"
      },
      "source": [
        "By the [Central Limit Theorem](https://ccsf-math-108.github.io/textbook/chapters/14/4/Central_Limit_Theorem.html), the probability distribution of the mean or sum of a large random sample is roughly normal. The bell curve is centered at the population mean. Some of the sample means are higher and some are lower, but the deviations from the population mean are roughly symmetric on either side, as we have seen repeatedly.\n",
        "\n",
        "In our simulations, we also noticed that the means of larger samples tended to be more tightly clustered around the mean of the distribution from which we sampled than those of smaller samples. Note that in this lab, the data we have access to and sample from is the population (which we rarely have access to), while when we bootstrap, the distribution we sample from is our original sample.\n",
        "\n",
        "In this section, we will quantify the [variability of the sample mean](https://ccsf-math-108.github.io/textbook/chapters/14/5/Variability_of_the_Sample_Mean.html) and develop a relation between the variability and the sample size.\n",
        "\n",
        "Let's look at the salaries of employees of the City of San Francisco in 2023. The median salary reported by the city government was about $169,361. **Note that in this lab, this dataset is the population.**\n",
        "\n",
        "This data was collected by [Transparent California](https://transparentcalifornia.com/salaries/2023/san-francisco/) where the `salary` column is calculated by summing up regular, overtime, and other pay.\n",
        "\n",
        "_Note: If you get stuck on any part of this lab, please refer to [Chapter 14 of the textbook](https://ccsf-math-108.github.io/textbook/chapters/14/Why_the_Mean_Matters.html)._"
      ]
    },
    {
      "cell_type": "code",
      "execution_count": null,
      "id": "fd6ecd30-cdce-4c3c-8cd1-39e101f2302f",
      "metadata": {
        "id": "fd6ecd30-cdce-4c3c-8cd1-39e101f2302f",
        "outputId": "84940912-3b00-42e5-a363-4fe63342ef86"
      },
      "outputs": [
        {
          "data": {
            "text/html": [
              "<table border=\"1\" class=\"dataframe\">\n",
              "    <thead>\n",
              "        <tr>\n",
              "            <th>salary</th>\n",
              "        </tr>\n",
              "    </thead>\n",
              "    <tbody>\n",
              "        <tr>\n",
              "            <td>678381</td>\n",
              "        </tr>\n",
              "        <tr>\n",
              "            <td>653854</td>\n",
              "        </tr>\n",
              "        <tr>\n",
              "            <td>580333</td>\n",
              "        </tr>\n",
              "        <tr>\n",
              "            <td>565644</td>\n",
              "        </tr>\n",
              "        <tr>\n",
              "            <td>522043</td>\n",
              "        </tr>\n",
              "    </tbody>\n",
              "</table>\n",
              "<p>... (41247 rows omitted)</p>"
            ],
            "text/plain": [
              "<IPython.core.display.HTML object>"
            ]
          },
          "metadata": {},
          "output_type": "display_data"
        }
      ],
      "source": [
        "salaries = Table.read_table('sf_salaries_2023.csv')\n",
        "salaries.show(5)"
      ]
    },
    {
      "cell_type": "code",
      "execution_count": null,
      "id": "e762d9c9-c93f-4cba-bd2a-e2903bd19314",
      "metadata": {
        "id": "e762d9c9-c93f-4cba-bd2a-e2903bd19314",
        "outputId": "cf3aaea9-516c-4f07-fa33-901ac0aa6f54"
      },
      "outputs": [
        {
          "name": "stdout",
          "output_type": "stream",
          "text": [
            "Mean salary of San Francisco city employees in 2023:  113394.16\n"
          ]
        }
      ],
      "source": [
        "salary_mean = np.mean(salaries.column('salary'))\n",
        "print('Mean salary of San Francisco city employees in 2023: ', salary_mean.round(2))"
      ]
    },
    {
      "cell_type": "code",
      "execution_count": null,
      "id": "bda58f35-edbe-4c78-8c01-40d4bd7ff184",
      "metadata": {
        "id": "bda58f35-edbe-4c78-8c01-40d4bd7ff184",
        "outputId": "f33e9570-1fa0-43cf-f03e-9507e03ce9f0"
      },
      "outputs": [
        {
          "data": {
            "text/plain": [
              "678381.01000000001"
            ]
          },
          "execution_count": 14,
          "metadata": {},
          "output_type": "execute_result"
        }
      ],
      "source": [
        "max(salaries.column(0))"
      ]
    },
    {
      "cell_type": "code",
      "execution_count": null,
      "id": "8809386a-ea1b-4b01-bab7-70c669228851",
      "metadata": {
        "id": "8809386a-ea1b-4b01-bab7-70c669228851",
        "outputId": "a96cd35c-8bd3-44c2-8c8b-9f8dacc15f12"
      },
      "outputs": [
        {
          "data": {
            "image/png": "[encoded data removed]",
            "text/plain": [
              "<Figure size 600x400 with 1 Axes>"
            ]
          },
          "metadata": {},
          "output_type": "display_data"
        }
      ],
      "source": [
        "salaries.hist('salary', bins=np.arange(0, 400000, 10000))\n",
        "plt.scatter(salary_mean, 0, color='red', zorder=2, s=50)\n",
        "plt.title('2023 salaries of city of SF employees')\n",
        "plt.ylim(-0.0000005, 0.000011);"
      ]
    },
    {
      "cell_type": "markdown",
      "id": "571ab244-7713-4e37-b0ac-0a3bf0a27e37",
      "metadata": {
        "id": "571ab244-7713-4e37-b0ac-0a3bf0a27e37"
      },
      "source": [
        "Clearly, the population _does not_ follow a Normal distribution. Keep that in mind as we progress through these exercises.\n",
        "\n",
        "Let's take random samples **with replacement** and look at the probability distribution of the sample mean. As usual, we will use simulation to get an empirical approximation to this distribution."
      ]
    },
    {
      "cell_type": "markdown",
      "id": "92a35807-c58b-42e6-a1ad-2d56b5afdce4",
      "metadata": {
        "id": "92a35807-c58b-42e6-a1ad-2d56b5afdce4"
      },
      "source": [
        "---"
      ]
    },
    {
      "cell_type": "markdown",
      "id": "c77503cb-8492-4afd-a99c-33d71514d066",
      "metadata": {
        "tags": [],
        "id": "c77503cb-8492-4afd-a99c-33d71514d066"
      },
      "source": [
        "### Task 05 📍"
      ]
    },
    {
      "cell_type": "markdown",
      "id": "2c0afe5c-7000-4f4e-97ea-a9fb353531b6",
      "metadata": {
        "deletable": false,
        "editable": false,
        "id": "2c0afe5c-7000-4f4e-97ea-a9fb353531b6"
      },
      "source": [
        "Define a function `one_sample_mean`. Its arguments should be `table` (the name of a table), `label` (the label of the column containing the variable), and `sample_size`(the number of employees in the sample). It should sample with replacement from the table and\n",
        "return the mean of the `label` column of the sample.\n",
        "\n",
        "_Note:_ The function should reference the arguments and be able to work with any table."
      ]
    },
    {
      "cell_type": "code",
      "execution_count": null,
      "id": "3fb14dc1-b69b-428c-a33b-64a95eb5e20f",
      "metadata": {
        "tags": [],
        "id": "3fb14dc1-b69b-428c-a33b-64a95eb5e20f"
      },
      "outputs": [],
      "source": [
        "def one_sample_mean(table, label, sample_size):\n",
        "    new_sample = table.sample(sample_size, with_replacement=True)\n",
        "    new_sample_mean = np.mean(new_sample.column(label))\n",
        "    return new_sample_mean"
      ]
    },
    {
      "cell_type": "code",
      "execution_count": null,
      "id": "e9ba652d",
      "metadata": {
        "deletable": false,
        "editable": false,
        "id": "e9ba652d",
        "outputId": "e1bac387-e0ba-4572-c096-902d461e42b7"
      },
      "outputs": [
        {
          "data": {
            "text/html": [
              "<p><strong><pre style='display: inline;'>task_05</pre></strong> passed! ✨</p><p><strong><pre style='display: inline;'>task_05 - 1</pre> message:</strong> \"✅ one_sample_mean is callable.\"\n",
              "</p><p><strong><pre style='display: inline;'>task_05 - 2</pre> message:</strong> \"✅ one_sample_mean returns a number.\"\n",
              "</p><p><strong><pre style='display: inline;'>task_05 - 3</pre> message:</strong> \"✅ one_sample_mean seems to be working correctly.\"\n",
              "</p>"
            ],
            "text/plain": [
              "task_05 results: All test cases passed!\n",
              "task_05 - 1 message: \"✅ one_sample_mean is callable.\"\n",
              "\n",
              "task_05 - 2 message: \"✅ one_sample_mean returns a number.\"\n",
              "\n",
              "task_05 - 3 message: \"✅ one_sample_mean seems to be working correctly.\""
            ]
          },
          "execution_count": 17,
          "metadata": {},
          "output_type": "execute_result"
        }
      ],
      "source": [
        "grader.check(\"task_05\")"
      ]
    },
    {
      "cell_type": "markdown",
      "id": "4827a44a-e6ab-4d27-8830-9999c19c0bee",
      "metadata": {
        "editable": true,
        "tags": [],
        "id": "4827a44a-e6ab-4d27-8830-9999c19c0bee"
      },
      "source": [
        "---"
      ]
    },
    {
      "cell_type": "markdown",
      "id": "4ba38e93-6559-4f7f-9551-8dba9fc4f28d",
      "metadata": {
        "tags": [],
        "id": "4ba38e93-6559-4f7f-9551-8dba9fc4f28d"
      },
      "source": [
        "### Task 06 📍"
      ]
    },
    {
      "cell_type": "markdown",
      "id": "1b9b96fc-739e-4c6a-a285-554711d80cd2",
      "metadata": {
        "deletable": false,
        "editable": false,
        "id": "1b9b96fc-739e-4c6a-a285-554711d80cd2"
      },
      "source": [
        "Use `one_sample_mean` to define a function `simulate_sample_mean`. The arguments are the name of the `table`, the `label` of the column containing the variable, the `sample_size`, and the number of simulations (`repetitions`).\n",
        "\n",
        "The function should sample with replacement from the table and calculate the mean of each sample. It should save the sample means in an array called `means`. The remaining code in the function displays an empirical histogram of the sample means.\n",
        "\n",
        "_Note:_ We round all values to 2 decimal places in the provided code because we are working with salaries."
      ]
    },
    {
      "cell_type": "code",
      "execution_count": null,
      "id": "e508c224-d3a0-465f-b678-7d3361e0cedb",
      "metadata": {
        "tags": [],
        "id": "e508c224-d3a0-465f-b678-7d3361e0cedb"
      },
      "outputs": [],
      "source": [
        "def simulate_sample_mean(table, label, sample_size, repetitions):\n",
        "\n",
        "    means = make_array()\n",
        "\n",
        "    for i in np.arange(repetitions):\n",
        "        new_sample_mean = one_sample_mean(table, label, sample_size)\n",
        "        means = np.append(means, round(new_sample_mean, 2))\n",
        "\n",
        "    sample_means = Table().with_column('Sample Means', means)\n",
        "\n",
        "    # Display empirical histogram and print all relevant quantities – don't change this!\n",
        "    sample_means.hist(bins=20)\n",
        "    plt.xlabel('Sample Means')\n",
        "    plt.title('Sample Size {sample_size}; {repetitions} Resamples'.format(sample_size=sample_size, repetitions=repetitions))\n",
        "    print(f\"Sample size: {sample_size}\")\n",
        "    print(f\"Population mean: {np.mean(table.column(label)).round(2)}\")\n",
        "    print(f\"Average of sample means: {np.mean(means).round(2)}\")\n",
        "    print(f\"Population SD: {np.std(table.column(label)).round(2)}\")\n",
        "    print(f\"SD of sample means: {np.std(means).round(2)}\")\n",
        "    return np.std(means)"
      ]
    },
    {
      "cell_type": "code",
      "execution_count": null,
      "id": "abcda57f",
      "metadata": {
        "deletable": false,
        "editable": false,
        "id": "abcda57f",
        "outputId": "dd1cc93f-6541-4630-e474-0add91cdca11"
      },
      "outputs": [
        {
          "data": {
            "text/html": [
              "<p><strong><pre style='display: inline;'>task_06</pre></strong> passed! 🎉</p><p><strong><pre style='display: inline;'>task_06 - 1</pre> message:</strong> \"✅ simulate_sample_mean is callable.\"\n",
              "</p>"
            ],
            "text/plain": [
              "task_06 results: All test cases passed!\n",
              "task_06 - 1 message: \"✅ simulate_sample_mean is callable.\""
            ]
          },
          "execution_count": 21,
          "metadata": {},
          "output_type": "execute_result"
        }
      ],
      "source": [
        "grader.check(\"task_06\")"
      ]
    },
    {
      "cell_type": "markdown",
      "id": "57f261ac-fb44-443a-a792-6022a7fb1b12",
      "metadata": {
        "editable": true,
        "tags": [],
        "id": "57f261ac-fb44-443a-a792-6022a7fb1b12"
      },
      "source": [
        "---"
      ]
    },
    {
      "cell_type": "markdown",
      "id": "c5d661d9-d6f6-4ae8-96f7-74e06c722271",
      "metadata": {
        "id": "c5d661d9-d6f6-4ae8-96f7-74e06c722271"
      },
      "source": [
        "### Verify `simulate_sample_mean`"
      ]
    },
    {
      "cell_type": "markdown",
      "id": "8e0b2061-cb1a-440b-9ccd-3a6a13b86efa",
      "metadata": {
        "id": "8e0b2061-cb1a-440b-9ccd-3a6a13b86efa"
      },
      "source": [
        "Verify with a peer, a tutor, or the instructor that you've implemented the function above correctly. If you haven't implemented it correctly, the rest of the lab won't work properly, so this step is crucial.  In the following cell, we will create a sample of size 100 from `salaries` and graph it using our new `simulate_sample_mean` function.\n",
        "\n",
        "*Hint: You should see a distribution similar to something we've been talking about. If not, check your function.*"
      ]
    },
    {
      "cell_type": "code",
      "execution_count": null,
      "id": "0b00c979-d336-49db-8b85-f840e887fad4",
      "metadata": {
        "id": "0b00c979-d336-49db-8b85-f840e887fad4",
        "outputId": "ae710cf0-6eed-4677-c8f9-d9c2e5ad133b"
      },
      "outputs": [
        {
          "name": "stdout",
          "output_type": "stream",
          "text": [
            "Sample size: 100\n",
            "Population mean: 113394.16\n",
            "Average of sample means: 113270.74\n",
            "Population SD: 78501.6\n",
            "SD of sample means: 7876.45\n"
          ]
        },
        {
          "data": {
            "image/png": "[encoded data removed]",
            "text/plain": [
              "<Figure size 600x400 with 1 Axes>"
            ]
          },
          "metadata": {},
          "output_type": "display_data"
        }
      ],
      "source": [
        "simulate_sample_mean(salaries, 'salary', 100, 10000)\n",
        "plt.xlim(80000, 150000);"
      ]
    },
    {
      "cell_type": "markdown",
      "id": "7519a6ff-06bf-4420-908f-21ad8d946d4c",
      "metadata": {
        "id": "7519a6ff-06bf-4420-908f-21ad8d946d4c"
      },
      "source": [
        "Notice that our distribution of *sample means* looks approximately normal! Did it matter if our original distribution was normally distributed?"
      ]
    },
    {
      "cell_type": "markdown",
      "id": "1409ae05-d1ec-4d26-b02f-71a7d65fd072",
      "metadata": {
        "id": "1409ae05-d1ec-4d26-b02f-71a7d65fd072"
      },
      "source": [
        "---"
      ]
    },
    {
      "cell_type": "markdown",
      "id": "ec8b735a-fc70-4df1-a415-5966aa9f28ed",
      "metadata": {
        "tags": [],
        "id": "ec8b735a-fc70-4df1-a415-5966aa9f28ed"
      },
      "source": [
        "### Task 07 📍🔎"
      ]
    },
    {
      "cell_type": "markdown",
      "id": "f4b57e20-9b41-47cf-b7c8-ae6826457db1",
      "metadata": {
        "deletable": false,
        "editable": false,
        "id": "f4b57e20-9b41-47cf-b7c8-ae6826457db1"
      },
      "source": [
        "<!-- BEGIN QUESTION -->\n",
        "\n",
        "Simulate two sample means, one for a sample of 400 salaries and one for a sample of 625 salaries. In each case, perform 10,000 repetitions.\n",
        "\n",
        "**Notes:**\n",
        "* Since this task does not have an auto-grader, check your solution with a classmate, tutor, or the instructor before moving on.\n",
        "* You are not responsible for the `plt.xlim` or `plt.ylim` lines - they just make sure that all of the plt have the same x-axis and y-axis, respectively.\n"
      ]
    },
    {
      "cell_type": "code",
      "execution_count": null,
      "id": "c3aa1f65-3974-433c-bf08-2350970db372",
      "metadata": {
        "tags": [],
        "id": "c3aa1f65-3974-433c-bf08-2350970db372",
        "outputId": "7c206123-ca71-4a32-8d93-44f8cb45bf8f"
      },
      "outputs": [
        {
          "name": "stdout",
          "output_type": "stream",
          "text": [
            "Sample size: 400\n",
            "Population mean: 113394.16\n",
            "Average of sample means: 113373.0\n",
            "Population SD: 78501.6\n",
            "SD of sample means: 3921.25\n"
          ]
        },
        {
          "data": {
            "image/png": "[encoded data removed]",
            "text/plain": [
              "<Figure size 600x400 with 1 Axes>"
            ]
          },
          "metadata": {},
          "output_type": "display_data"
        },
        {
          "name": "stdout",
          "output_type": "stream",
          "text": [
            "\n",
            "\n",
            "Sample size: 625\n",
            "Population mean: 113394.16\n",
            "Average of sample means: 113400.62\n",
            "Population SD: 78501.6\n",
            "SD of sample means: 3126.37\n"
          ]
        },
        {
          "data": {
            "image/png": "[encoded data removed]",
            "text/plain": [
              "<Figure size 600x400 with 1 Axes>"
            ]
          },
          "metadata": {},
          "output_type": "display_data"
        }
      ],
      "source": [
        "simulate_sample_mean(salaries, 'salary', 400, 10000)\n",
        "plt.xlim(90000, 140000)\n",
        "plt.ylim(0, 0.00014)\n",
        "plt.show();\n",
        "print('\\n')\n",
        "simulate_sample_mean(salaries, 'salary', 625, 10000)\n",
        "plt.xlim(90000, 140000)\n",
        "plt.ylim(0, 0.00014)\n",
        "plt.show();"
      ]
    },
    {
      "cell_type": "markdown",
      "id": "36d3d740-7396-4f06-9857-0a61b1999c01",
      "metadata": {
        "deletable": false,
        "editable": false,
        "id": "36d3d740-7396-4f06-9857-0a61b1999c01"
      },
      "source": [
        "<!-- END QUESTION -->\n",
        "\n",
        "---"
      ]
    },
    {
      "cell_type": "markdown",
      "id": "aa2bd7b8-297d-4801-bbe7-d10af116f7e6",
      "metadata": {
        "tags": [],
        "id": "aa2bd7b8-297d-4801-bbe7-d10af116f7e6"
      },
      "source": [
        "### Task 08 📍"
      ]
    },
    {
      "cell_type": "markdown",
      "id": "e674c340-7447-43ab-9668-684e59441fac",
      "metadata": {
        "deletable": false,
        "editable": false,
        "id": "e674c340-7447-43ab-9668-684e59441fac"
      },
      "source": [
        "Assign `task8` to an array of numbers corresponding to true statement(s) about the plots from [Task 07](#Task-07-📍🔎).\n",
        "\n",
        "*Hint*: If a distribution is bell-shaped, what type of curve does it follow?\n",
        "\n",
        "1. We see the Central Limit Theorem (CLT) in action because the distributions of the sample means are bell-shaped.\n",
        "2. We see the Law of Averages in action because the distributions of the sample means look like the distribution of the population.\n",
        "3. One of the conditions for CLT is that we have to draw a small random sample with replacement from the population.\n",
        "4. One of the conditions for CLT is that we have to draw a large random sample with replacement from the population.\n",
        "5. One of the conditions for CLT is that the population must be normally distributed.\n"
      ]
    },
    {
      "cell_type": "code",
      "execution_count": null,
      "id": "7f103e5b-7c89-4b96-a9f3-4964cb19cae1",
      "metadata": {
        "tags": [],
        "id": "7f103e5b-7c89-4b96-a9f3-4964cb19cae1",
        "outputId": "411d58b0-54ea-4ea4-fe48-7d342af1d563"
      },
      "outputs": [
        {
          "data": {
            "text/plain": [
              "array([1, 4])"
            ]
          },
          "execution_count": 25,
          "metadata": {},
          "output_type": "execute_result"
        }
      ],
      "source": [
        "task8 = make_array(1,4)\n",
        "task8"
      ]
    },
    {
      "cell_type": "code",
      "execution_count": null,
      "id": "aea549d6",
      "metadata": {
        "deletable": false,
        "editable": false,
        "id": "aea549d6",
        "outputId": "1ce9d603-f660-4791-9de7-6b02ac888e0b"
      },
      "outputs": [
        {
          "data": {
            "text/html": [
              "<p><strong><pre style='display: inline;'>task_08</pre></strong> passed! 🚀</p><p><strong><pre style='display: inline;'>task_08 - 1</pre> message:</strong> \"✅ task8 is assigned to an array\"\n",
              "</p><p><strong><pre style='display: inline;'>task_08 - 2</pre> message:</strong> \"✅ task8 is assigned to an array of integers\"\n",
              "</p><p><strong><pre style='display: inline;'>task_08 - 3</pre> message:</strong> \"✅ task8 is assigned to an array of integers between 1 and 5, inclusive.\"\n",
              "</p><p><strong><pre style='display: inline;'>task_08 - 4</pre> message:</strong> \"✅ You've assigned the correct values to task8.\"\n",
              "</p>"
            ],
            "text/plain": [
              "task_08 results: All test cases passed!\n",
              "task_08 - 1 message: \"✅ task8 is assigned to an array\"\n",
              "\n",
              "task_08 - 2 message: \"✅ task8 is assigned to an array of integers\"\n",
              "\n",
              "task_08 - 3 message: \"✅ task8 is assigned to an array of integers between 1 and 5, inclusive.\"\n",
              "\n",
              "task_08 - 4 message: \"✅ You've assigned the correct values to task8.\""
            ]
          },
          "execution_count": 26,
          "metadata": {},
          "output_type": "execute_result"
        }
      ],
      "source": [
        "grader.check(\"task_08\")"
      ]
    },
    {
      "cell_type": "markdown",
      "id": "ca262270-3c8e-40fb-9779-6bc824e5cdd0",
      "metadata": {
        "editable": true,
        "tags": [],
        "id": "ca262270-3c8e-40fb-9779-6bc824e5cdd0"
      },
      "source": [
        "---"
      ]
    },
    {
      "cell_type": "markdown",
      "id": "8e2e8a34-5ce7-4ff9-805c-81fcef90b3c4",
      "metadata": {
        "tags": [],
        "id": "8e2e8a34-5ce7-4ff9-805c-81fcef90b3c4"
      },
      "source": [
        "### Task 09 📍"
      ]
    },
    {
      "cell_type": "markdown",
      "id": "5f3f8786-2934-4944-80ed-dcb4544ed6dd",
      "metadata": {
        "deletable": false,
        "editable": false,
        "id": "5f3f8786-2934-4944-80ed-dcb4544ed6dd"
      },
      "source": [
        "Assign `task9` to an array of numbers corresponding to true statement(s) about the plots from [Task 07](#Task-07-📍🔎).\n",
        "\n",
        "1. Both plots in Task 07 are roughly centered around the population mean.\n",
        "2. Both plots in Task 07 are roughly centered around the mean of a particular sample.\n",
        "3. The distribution of sample means for sample size 625 has less variability than the distribution of sample means for sample size 400.\n",
        "4. The distribution of sample means for sample size 625 has more variability than the distribution of sample means for sample size 400."
      ]
    },
    {
      "cell_type": "code",
      "execution_count": null,
      "id": "f36ec7f9-ab52-4f94-83dc-fe47a52635ad",
      "metadata": {
        "tags": [],
        "id": "f36ec7f9-ab52-4f94-83dc-fe47a52635ad",
        "outputId": "23a08f30-1066-45c9-c2c0-428fcbd91351"
      },
      "outputs": [
        {
          "data": {
            "text/plain": [
              "array([1, 3])"
            ]
          },
          "execution_count": 27,
          "metadata": {},
          "output_type": "execute_result"
        }
      ],
      "source": [
        "task9 = make_array(1, 3)\n",
        "task9"
      ]
    },
    {
      "cell_type": "code",
      "execution_count": null,
      "id": "8ab1375f",
      "metadata": {
        "deletable": false,
        "editable": false,
        "id": "8ab1375f",
        "outputId": "fe628208-4660-46ac-d098-8452458f9ef0"
      },
      "outputs": [
        {
          "data": {
            "text/html": [
              "<p><strong><pre style='display: inline;'>task_09</pre></strong> passed! ✨</p><p><strong><pre style='display: inline;'>task_09 - 1</pre> message:</strong> \"✅ task9 is assigned to an array\"\n",
              "</p><p><strong><pre style='display: inline;'>task_09 - 2</pre> message:</strong> \"✅ task9 is assigned to an array of integers\"\n",
              "</p><p><strong><pre style='display: inline;'>task_09 - 3</pre> message:</strong> \"✅ task9 is assigned to an array of integers between 1 and 4, inclusive.\"\n",
              "</p><p><strong><pre style='display: inline;'>task_09 - 4</pre> message:</strong> \"✅ You've assigned the correct values to task9.\"\n",
              "</p>"
            ],
            "text/plain": [
              "task_09 results: All test cases passed!\n",
              "task_09 - 1 message: \"✅ task9 is assigned to an array\"\n",
              "\n",
              "task_09 - 2 message: \"✅ task9 is assigned to an array of integers\"\n",
              "\n",
              "task_09 - 3 message: \"✅ task9 is assigned to an array of integers between 1 and 4, inclusive.\"\n",
              "\n",
              "task_09 - 4 message: \"✅ You've assigned the correct values to task9.\""
            ]
          },
          "execution_count": 28,
          "metadata": {},
          "output_type": "execute_result"
        }
      ],
      "source": [
        "grader.check(\"task_09\")"
      ]
    },
    {
      "cell_type": "markdown",
      "id": "c4b4e8c6-9e00-483e-b379-357d567b42bf",
      "metadata": {
        "editable": true,
        "tags": [],
        "id": "c4b4e8c6-9e00-483e-b379-357d567b42bf"
      },
      "source": [
        "---"
      ]
    },
    {
      "cell_type": "markdown",
      "id": "a88b7b2b-c6a2-4e0e-a075-1112f33519b8",
      "metadata": {
        "id": "a88b7b2b-c6a2-4e0e-a075-1112f33519b8"
      },
      "source": [
        "### Increasing Number of Resamples"
      ]
    },
    {
      "cell_type": "markdown",
      "id": "443784a6-1755-42af-ab68-db628cd300cd",
      "metadata": {
        "id": "443784a6-1755-42af-ab68-db628cd300cd"
      },
      "source": [
        "Below, we'll look at what happens when we take an **increasing number of resamples of a fixed sample size.** Notice what number in the code changes, and what stays the same. How does the distribution of the resampled means change?"
      ]
    },
    {
      "cell_type": "code",
      "execution_count": null,
      "id": "b2d0ce04-a852-4618-a365-9dea5d002a76",
      "metadata": {
        "id": "b2d0ce04-a852-4618-a365-9dea5d002a76",
        "outputId": "57b64861-6568-4a3c-ab40-ff1348e61776"
      },
      "outputs": [
        {
          "name": "stdout",
          "output_type": "stream",
          "text": [
            "Sample size: 100\n",
            "Population mean: 113394.16\n",
            "Average of sample means: 113703.44\n",
            "Population SD: 78501.6\n",
            "SD of sample means: 7805.38\n"
          ]
        },
        {
          "data": {
            "text/plain": [
              "(0.0, 6e-05)"
            ]
          },
          "execution_count": 29,
          "metadata": {},
          "output_type": "execute_result"
        },
        {
          "data": {
            "image/png": "[encoded data removed]",
            "text/plain": [
              "<Figure size 600x400 with 1 Axes>"
            ]
          },
          "metadata": {},
          "output_type": "display_data"
        }
      ],
      "source": [
        "simulate_sample_mean(salaries, 'salary', 100, 500)\n",
        "plt.xlim(80000, 150000)\n",
        "plt.ylim(0, 0.00006)"
      ]
    },
    {
      "cell_type": "code",
      "execution_count": null,
      "id": "fbd98a16-1291-4485-8c12-30c64e5202eb",
      "metadata": {
        "id": "fbd98a16-1291-4485-8c12-30c64e5202eb",
        "outputId": "bdf5fac1-f932-4b46-acdd-9f545981c1ae"
      },
      "outputs": [
        {
          "name": "stdout",
          "output_type": "stream",
          "text": [
            "Sample size: 100\n",
            "Population mean: 113394.16\n",
            "Average of sample means: 113335.79\n",
            "Population SD: 78501.6\n",
            "SD of sample means: 7819.78\n"
          ]
        },
        {
          "data": {
            "text/plain": [
              "(0.0, 6e-05)"
            ]
          },
          "execution_count": 30,
          "metadata": {},
          "output_type": "execute_result"
        },
        {
          "data": {
            "image/png": "[encoded data removed]",
            "text/plain": [
              "<Figure size 600x400 with 1 Axes>"
            ]
          },
          "metadata": {},
          "output_type": "display_data"
        }
      ],
      "source": [
        "simulate_sample_mean(salaries, 'salary', 100, 5000)\n",
        "plt.xlim(80000, 150000)\n",
        "plt.ylim(0, 0.00006)"
      ]
    },
    {
      "cell_type": "code",
      "execution_count": null,
      "id": "9ea3dc30-51c0-4241-84c5-e964c6450d16",
      "metadata": {
        "id": "9ea3dc30-51c0-4241-84c5-e964c6450d16",
        "outputId": "ed80f5a1-f9fa-420a-9fc9-1cd68962298f"
      },
      "outputs": [
        {
          "name": "stdout",
          "output_type": "stream",
          "text": [
            "Sample size: 100\n",
            "Population mean: 113394.16\n",
            "Average of sample means: 113357.19\n",
            "Population SD: 78501.6\n",
            "SD of sample means: 7753.19\n"
          ]
        },
        {
          "data": {
            "text/plain": [
              "(0.0, 6e-05)"
            ]
          },
          "execution_count": 31,
          "metadata": {},
          "output_type": "execute_result"
        },
        {
          "data": {
            "image/png": "[encoded data removed]",
            "text/plain": [
              "<Figure size 600x400 with 1 Axes>"
            ]
          },
          "metadata": {},
          "output_type": "display_data"
        }
      ],
      "source": [
        "simulate_sample_mean(salaries, 'salary', 100, 10000)\n",
        "plt.xlim(80000, 150000)\n",
        "plt.ylim(0, 0.00006)"
      ]
    },
    {
      "cell_type": "markdown",
      "id": "a5dca96d-62cd-4a6c-933e-d8e74a5f910d",
      "metadata": {
        "id": "a5dca96d-62cd-4a6c-933e-d8e74a5f910d"
      },
      "source": [
        "---"
      ]
    },
    {
      "cell_type": "markdown",
      "id": "dff0013a-d623-46e7-82f0-6a50ce90edff",
      "metadata": {
        "tags": [],
        "id": "dff0013a-d623-46e7-82f0-6a50ce90edff"
      },
      "source": [
        "### Task 10 📍🔎"
      ]
    },
    {
      "cell_type": "markdown",
      "id": "b62ed856-2e6f-4d56-9e32-8fcf944f7eb6",
      "metadata": {
        "deletable": false,
        "editable": false,
        "id": "b62ed856-2e6f-4d56-9e32-8fcf944f7eb6"
      },
      "source": [
        "<!-- BEGIN QUESTION -->\n",
        "\n",
        "What did you notice about the distributions of sample means in the four histograms above? Discuss with a peer, a tutor, or your instructor before moving on."
      ]
    },
    {
      "cell_type": "markdown",
      "id": "3a0b6ae0",
      "metadata": {
        "id": "3a0b6ae0"
      },
      "source": [
        "Sample size is the same across all three (100), so the spread stays about the same in all.When the sample size increases then the spread gets narrower.\n",
        "But as the number of repetitions increases, the histograms become smoother and more bell-shaped."
      ]
    },
    {
      "cell_type": "markdown",
      "id": "881631e6-5819-4970-8904-05ccc2f26cee",
      "metadata": {
        "deletable": false,
        "editable": false,
        "id": "881631e6-5819-4970-8904-05ccc2f26cee"
      },
      "source": [
        "<!-- END QUESTION -->\n",
        "\n",
        "---"
      ]
    },
    {
      "cell_type": "markdown",
      "id": "36cd3f09-bc4e-4885-9559-7fc068fe14a3",
      "metadata": {
        "tags": [],
        "id": "36cd3f09-bc4e-4885-9559-7fc068fe14a3"
      },
      "source": [
        "### Task 11 📍"
      ]
    },
    {
      "cell_type": "markdown",
      "id": "69e60188-5f2c-48c7-ab3f-c32f7c71059c",
      "metadata": {
        "deletable": false,
        "editable": false,
        "id": "69e60188-5f2c-48c7-ab3f-c32f7c71059c"
      },
      "source": [
        "Assign the variable `SD_of_sample_means` to the integer corresponding to your answer to the following question:\n",
        "\n",
        "When I increase the number of _resamples_ that I take, for a _fixed_ sample size, the SD of my sample means will...\n",
        "\n",
        "1. Increase\n",
        "2. Decrease\n",
        "3. Stay about the same\n",
        "4. Vary widely"
      ]
    },
    {
      "cell_type": "code",
      "execution_count": null,
      "id": "6c50f913-84b4-4dba-a5b5-42b27d1b0043",
      "metadata": {
        "tags": [],
        "id": "6c50f913-84b4-4dba-a5b5-42b27d1b0043",
        "outputId": "a4c75da2-79fd-448e-d35d-3fa67ae8a1ea"
      },
      "outputs": [
        {
          "data": {
            "text/plain": [
              "3"
            ]
          },
          "execution_count": 32,
          "metadata": {},
          "output_type": "execute_result"
        }
      ],
      "source": [
        "SD_of_sample_means = 3\n",
        "SD_of_sample_means"
      ]
    },
    {
      "cell_type": "code",
      "execution_count": null,
      "id": "45dfd9de",
      "metadata": {
        "deletable": false,
        "editable": false,
        "id": "45dfd9de",
        "outputId": "f287481f-d1b7-42dd-8577-f740e8d99e8f"
      },
      "outputs": [
        {
          "data": {
            "text/html": [
              "<p><strong><pre style='display: inline;'>task_11</pre></strong> passed! 🌟</p><p><strong><pre style='display: inline;'>task_11 - 1</pre> message:</strong> \"✅ You've assigned SD_of_sample_means to an integer.\"\n",
              "</p><p><strong><pre style='display: inline;'>task_11 - 2</pre> message:</strong> \"✅ You've assigned SD_of_sample_means to an integer from 1, 2, 3, 4.\"\n",
              "</p><p><strong><pre style='display: inline;'>task_11 - 3</pre> message:</strong> \"✅ You've assigned the correct values to SD_of_sample_means.\"\n",
              "</p>"
            ],
            "text/plain": [
              "task_11 results: All test cases passed!\n",
              "task_11 - 1 message: \"✅ You've assigned SD_of_sample_means to an integer.\"\n",
              "\n",
              "task_11 - 2 message: \"✅ You've assigned SD_of_sample_means to an integer from 1, 2, 3, 4.\"\n",
              "\n",
              "task_11 - 3 message: \"✅ You've assigned the correct values to SD_of_sample_means.\""
            ]
          },
          "execution_count": 33,
          "metadata": {},
          "output_type": "execute_result"
        }
      ],
      "source": [
        "grader.check(\"task_11\")"
      ]
    },
    {
      "cell_type": "markdown",
      "id": "c9c02543-7def-4f01-8a9f-133bf5d447c4",
      "metadata": {
        "editable": true,
        "tags": [],
        "id": "c9c02543-7def-4f01-8a9f-133bf5d447c4"
      },
      "source": [
        "---"
      ]
    },
    {
      "cell_type": "markdown",
      "id": "73e27aa4-c031-4c3d-8401-765e521f8251",
      "metadata": {
        "id": "73e27aa4-c031-4c3d-8401-765e521f8251"
      },
      "source": [
        "### Increasing Sample Size"
      ]
    },
    {
      "cell_type": "markdown",
      "id": "2934b5ff-db3c-4f9c-a8d9-def2ad44b250",
      "metadata": {
        "tags": [],
        "id": "2934b5ff-db3c-4f9c-a8d9-def2ad44b250"
      },
      "source": [
        "### Task 12 📍"
      ]
    },
    {
      "cell_type": "markdown",
      "id": "8d8e162f-b4e2-4bc1-8663-812bf450eb7c",
      "metadata": {
        "deletable": false,
        "editable": false,
        "id": "8d8e162f-b4e2-4bc1-8663-812bf450eb7c"
      },
      "source": [
        "Let's think about how the relationships between population SD, sample SD, and SD of sample means change with varying sample size. Which of the following is true? Assign the variable `pop_vs_sample` to an array of integer(s) that correspond to true statement(s).\n",
        "\n",
        "1. Sample SD gets smaller with increasing sample size.\n",
        "2. Sample SD gets larger with increasing sample size.\n",
        "3. Sample SD becomes more consistent with population SD with increasing sample size.\n",
        "4. SD of sample means gets smaller with increasing sample size.\n",
        "5. SD of sample means gets larger with increasing sample size.\n",
        "6. SD of sample means stays the same with increasing sample size.\n",
        "\n",
        "**Hints**:\n",
        "* The sample SD is different from the SD of the sample means.\n",
        "* [Section 14.5](https://ccsf-math-108.github.io/textbook/chapters/14/5/Variability_of_the_Sample_Mean.html) might be helpful for answering this question."
      ]
    },
    {
      "cell_type": "code",
      "execution_count": null,
      "id": "3bccdfad-4d32-4c73-9859-16d10ea814fa",
      "metadata": {
        "tags": [],
        "id": "3bccdfad-4d32-4c73-9859-16d10ea814fa",
        "outputId": "c4841468-948b-4c5b-999d-8c38b6898a98"
      },
      "outputs": [
        {
          "data": {
            "text/plain": [
              "array([3, 4])"
            ]
          },
          "execution_count": 34,
          "metadata": {},
          "output_type": "execute_result"
        }
      ],
      "source": [
        "pop_vs_sample = make_array(3,4)\n",
        "pop_vs_sample"
      ]
    },
    {
      "cell_type": "code",
      "execution_count": null,
      "id": "b2ad16f5",
      "metadata": {
        "deletable": false,
        "editable": false,
        "id": "b2ad16f5",
        "outputId": "175939cf-e008-4258-bd43-5602a32d2004"
      },
      "outputs": [
        {
          "data": {
            "text/html": [
              "<p><strong><pre style='display: inline;'>task_12</pre></strong> passed! ✨</p><p><strong><pre style='display: inline;'>task_12 - 1</pre> message:</strong> \"✅ pop_vs_sample is assigned to an array\"\n",
              "</p><p><strong><pre style='display: inline;'>task_12 - 2</pre> message:</strong> \"✅ pop_vs_sample is assigned to an array of integers\"\n",
              "</p><p><strong><pre style='display: inline;'>task_12 - 3</pre> message:</strong> \"✅ pop_vs_sample is assigned to an array of integers between 1 and 6, inclusive.\"\n",
              "</p><p><strong><pre style='display: inline;'>task_12 - 4</pre> message:</strong> \"✅ You've assigned the correct values to pop_vs_sample.\"\n",
              "</p>"
            ],
            "text/plain": [
              "task_12 results: All test cases passed!\n",
              "task_12 - 1 message: \"✅ pop_vs_sample is assigned to an array\"\n",
              "\n",
              "task_12 - 2 message: \"✅ pop_vs_sample is assigned to an array of integers\"\n",
              "\n",
              "task_12 - 3 message: \"✅ pop_vs_sample is assigned to an array of integers between 1 and 6, inclusive.\"\n",
              "\n",
              "task_12 - 4 message: \"✅ You've assigned the correct values to pop_vs_sample.\""
            ]
          },
          "execution_count": 35,
          "metadata": {},
          "output_type": "execute_result"
        }
      ],
      "source": [
        "grader.check(\"task_12\")"
      ]
    },
    {
      "cell_type": "markdown",
      "id": "870a0bd3-3130-4a5b-b914-41343b1bcd77",
      "metadata": {
        "editable": true,
        "tags": [],
        "id": "870a0bd3-3130-4a5b-b914-41343b1bcd77"
      },
      "source": [
        "---"
      ]
    },
    {
      "cell_type": "markdown",
      "id": "c58b90c9-89ba-4b73-9ed1-aabfaa79da50",
      "metadata": {
        "tags": [],
        "id": "c58b90c9-89ba-4b73-9ed1-aabfaa79da50"
      },
      "source": [
        "### Task 13 📍"
      ]
    },
    {
      "cell_type": "markdown",
      "id": "76555a4c-a2ef-4d1b-85b7-b2ecc8296225",
      "metadata": {
        "deletable": false,
        "editable": false,
        "id": "76555a4c-a2ef-4d1b-85b7-b2ecc8296225"
      },
      "source": [
        "Is there a relationship between the sample size and the standard deviation of the sample means? Assign `task13` to the number corresponding to the statement that answers this question.\n",
        "\n",
        "1. The SD of the sample means is inversely proportional to the square root of sample size.\n",
        "2. The SD of the sample means is directly proportional to the square root of sample size.\n",
        "\n",
        "_Hint:_ [Chapter 14.5](https://ccsf-math-108.github.io/textbook/chapters/14/5/Variability_of_the_Sample_Mean.html) of the textbook may be helpful."
      ]
    },
    {
      "cell_type": "code",
      "execution_count": null,
      "id": "bdee24d3-6cec-46ba-82d9-f7d867458e6d",
      "metadata": {
        "tags": [],
        "id": "bdee24d3-6cec-46ba-82d9-f7d867458e6d",
        "outputId": "0060103f-44e3-40b6-e298-08790f12157b"
      },
      "outputs": [
        {
          "data": {
            "text/plain": [
              "1"
            ]
          },
          "execution_count": 36,
          "metadata": {},
          "output_type": "execute_result"
        }
      ],
      "source": [
        "task13 = 1\n",
        "task13"
      ]
    },
    {
      "cell_type": "code",
      "execution_count": null,
      "id": "d34c1035",
      "metadata": {
        "deletable": false,
        "editable": false,
        "id": "d34c1035",
        "outputId": "b3ec4247-a6f5-4629-cc8f-15826b8052eb"
      },
      "outputs": [
        {
          "data": {
            "text/html": [
              "<p><strong><pre style='display: inline;'>task_13</pre></strong> passed! 🌈</p><p><strong><pre style='display: inline;'>task_13 - 1</pre> message:</strong> \"✅ You've assigned task13 to an integer.\"\n",
              "</p><p><strong><pre style='display: inline;'>task_13 - 2</pre> message:</strong> \"✅ You've assigned task13 to the integer 1 or 2.\"\n",
              "</p><p><strong><pre style='display: inline;'>task_13 - 3</pre> message:</strong> \"✅ You've assigned the correct values to task13.\"\n",
              "</p>"
            ],
            "text/plain": [
              "task_13 results: All test cases passed!\n",
              "task_13 - 1 message: \"✅ You've assigned task13 to an integer.\"\n",
              "\n",
              "task_13 - 2 message: \"✅ You've assigned task13 to the integer 1 or 2.\"\n",
              "\n",
              "task_13 - 3 message: \"✅ You've assigned the correct values to task13.\""
            ]
          },
          "execution_count": 37,
          "metadata": {},
          "output_type": "execute_result"
        }
      ],
      "source": [
        "grader.check(\"task_13\")"
      ]
    },
    {
      "cell_type": "markdown",
      "id": "1a83b44e-14c5-46c5-b423-5a1794e4c54e",
      "metadata": {
        "editable": true,
        "tags": [],
        "id": "1a83b44e-14c5-46c5-b423-5a1794e4c54e"
      },
      "source": [
        "---"
      ]
    },
    {
      "cell_type": "markdown",
      "id": "e80e3f06-27a9-4ea3-8809-e2bb8cfdf2a0",
      "metadata": {
        "id": "e80e3f06-27a9-4ea3-8809-e2bb8cfdf2a0"
      },
      "source": [
        "### Bootstrap Samples"
      ]
    },
    {
      "cell_type": "markdown",
      "id": "01627d07-4620-4340-8bcf-0c5565db4160",
      "metadata": {
        "id": "01627d07-4620-4340-8bcf-0c5565db4160"
      },
      "source": [
        "**Throughout this lab, we have been taking many random samples from a population** (in contrast to re-sampling from a sample). However, all of these principles hold for bootstrapped resamples from a single sample. The bootstrap works because it's like drawing from the original population, assuming the sample is representative. If your original sample is relatively large, all of your resamples will also be relatively large, and so the SD of resampled means will be relatively small.\n",
        "\n",
        "It is also important to keep in mind that when doing the bootstrap, our histogram of resample means will be centered around the **original sample mean**, rather than the population mean (as we usually don't have access to the population mean)!\n",
        "\n",
        "**In order to change the variability of your sample mean, you'd have to change the size of the original sample from which you are taking bootstrapped resamples.**"
      ]
    },
    {
      "cell_type": "markdown",
      "id": "3036b7cb-d675-4a09-80a6-ece1a4c01071",
      "metadata": {
        "id": "3036b7cb-d675-4a09-80a6-ece1a4c01071"
      },
      "source": [
        "---"
      ]
    },
    {
      "cell_type": "markdown",
      "id": "4a34f614-fc11-4ca7-9a21-ba4f372c092f",
      "metadata": {
        "id": "4a34f614-fc11-4ca7-9a21-ba4f372c092f"
      },
      "source": [
        "## Submit Your Assignment to Canvas"
      ]
    },
    {
      "cell_type": "markdown",
      "id": "7407a724-154e-45ac-8d07-696c81c96619",
      "metadata": {
        "jp-MarkdownHeadingCollapsed": true,
        "id": "7407a724-154e-45ac-8d07-696c81c96619"
      },
      "source": [
        "Follow these steps to submit your lab assignment:\n",
        "\n",
        "1. **Check the Assignment Completion Requirements:** This assignment is scored as Complete or Incomplete. Make sure to check with your instructor about their requirements for a Complete score.\n",
        "2. **Run the Auto-Grader:** Ensure you have executed the code cell containing the command `grader.check_all()` to run all tests for auto-graded tasks marked with 📍. This command will execute all auto-grader tests sequentially.\n",
        "3. **Complete Manually Graded Tasks:** Verify that you have responded to all the manually graded tasks marked with 📍🔎.\n",
        "4. **Save Your Work:** In the notebook's Toolbar, go to `File -> Save Notebook` to save your work and create a checkpoint.\n",
        "5. **Download the Notebook:** In the notebook's Toolbar, go to `File -> Download HTML` to download the HTML version (`.html`) of this notebook.\n",
        "6. **Upload to Canvas:** On the Canvas Assignment page, click \"Start Assignment\" or \"New Attempt\" to upload the downloaded `.html` file."
      ]
    },
    {
      "cell_type": "markdown",
      "id": "0643da2c-f39d-4a79-acf2-bfb48c9bb43b",
      "metadata": {
        "id": "0643da2c-f39d-4a79-acf2-bfb48c9bb43b"
      },
      "source": [
        "---"
      ]
    },
    {
      "cell_type": "markdown",
      "id": "1e261459-a034-416c-a794-8406ebcb6df5",
      "metadata": {
        "editable": true,
        "tags": [],
        "id": "1e261459-a034-416c-a794-8406ebcb6df5"
      },
      "source": [
        "## Attribution"
      ]
    },
    {
      "cell_type": "markdown",
      "id": "f3af2df5-9f88-4f19-8ccf-e7b485dbe4ea",
      "metadata": {
        "id": "f3af2df5-9f88-4f19-8ccf-e7b485dbe4ea"
      },
      "source": [
        "This content is licensed under the <a href=\"https://creativecommons.org/licenses/by-nc-sa/4.0/\">Creative Commons Attribution-NonCommercial-ShareAlike 4.0 International License (CC BY-NC-SA 4.0)</a> and derived from the <a href=\"https://www.data8.org/\">Data 8: The Foundations of Data Science</a> offered by the University of California, Berkeley.\n",
        "\n",
        "<img src=\"./by-nc-sa.png\" width=100px>"
      ]
    },
    {
      "cell_type": "markdown",
      "id": "c54d8387",
      "metadata": {
        "deletable": false,
        "editable": false,
        "id": "c54d8387"
      },
      "source": [
        "---\n",
        "\n",
        "To double-check your work, the cell below will rerun all of the autograder tests."
      ]
    },
    {
      "cell_type": "code",
      "execution_count": null,
      "id": "0a19972d",
      "metadata": {
        "deletable": false,
        "editable": false,
        "id": "0a19972d",
        "outputId": "c5ebdbec-22e9-4755-e81d-2198682964eb"
      },
      "outputs": [
        {
          "data": {
            "text/plain": [
              "task_03 results: All test cases passed!\n",
              "task_03 - 1 message: \"✅ age_mean seems correct.\"\n",
              "\n",
              "task_03 - 2 message: \"✅ age_sd seems correct.\"\n",
              "\n",
              "\n",
              "task_04 results: All test cases passed!\n",
              "task_04 - 1 message: \"✅ height_mean seems correct.\"\n",
              "\n",
              "task_04 - 2 message: \"✅ height_sd seems correct.\"\n",
              "\n",
              "\n",
              "task_05 results: All test cases passed!\n",
              "task_05 - 1 message: \"✅ one_sample_mean is callable.\"\n",
              "\n",
              "task_05 - 2 message: \"✅ one_sample_mean returns a number.\"\n",
              "\n",
              "task_05 - 3 message: \"✅ one_sample_mean seems to be working correctly.\"\n",
              "\n",
              "\n",
              "task_06 results: All test cases passed!\n",
              "task_06 - 1 message: \"✅ simulate_sample_mean is callable.\"\n",
              "\n",
              "\n",
              "task_08 results: All test cases passed!\n",
              "task_08 - 1 message: \"✅ task8 is assigned to an array\"\n",
              "\n",
              "task_08 - 2 message: \"✅ task8 is assigned to an array of integers\"\n",
              "\n",
              "task_08 - 3 message: \"✅ task8 is assigned to an array of integers between 1 and 5, inclusive.\"\n",
              "\n",
              "task_08 - 4 message: \"✅ You've assigned the correct values to task8.\"\n",
              "\n",
              "\n",
              "task_09 results: All test cases passed!\n",
              "task_09 - 1 message: \"✅ task9 is assigned to an array\"\n",
              "\n",
              "task_09 - 2 message: \"✅ task9 is assigned to an array of integers\"\n",
              "\n",
              "task_09 - 3 message: \"✅ task9 is assigned to an array of integers between 1 and 4, inclusive.\"\n",
              "\n",
              "task_09 - 4 message: \"✅ You've assigned the correct values to task9.\"\n",
              "\n",
              "\n",
              "task_11 results: All test cases passed!\n",
              "task_11 - 1 message: \"✅ You've assigned SD_of_sample_means to an integer.\"\n",
              "\n",
              "task_11 - 2 message: \"✅ You've assigned SD_of_sample_means to an integer from 1, 2, 3, 4.\"\n",
              "\n",
              "task_11 - 3 message: \"✅ You've assigned the correct values to SD_of_sample_means.\"\n",
              "\n",
              "\n",
              "task_12 results: All test cases passed!\n",
              "task_12 - 1 message: \"✅ pop_vs_sample is assigned to an array\"\n",
              "\n",
              "task_12 - 2 message: \"✅ pop_vs_sample is assigned to an array of integers\"\n",
              "\n",
              "task_12 - 3 message: \"✅ pop_vs_sample is assigned to an array of integers between 1 and 6, inclusive.\"\n",
              "\n",
              "task_12 - 4 message: \"✅ You've assigned the correct values to pop_vs_sample.\"\n",
              "\n",
              "\n",
              "task_13 results: All test cases passed!\n",
              "task_13 - 1 message: \"✅ You've assigned task13 to an integer.\"\n",
              "\n",
              "task_13 - 2 message: \"✅ You've assigned task13 to the integer 1 or 2.\"\n",
              "\n",
              "task_13 - 3 message: \"✅ You've assigned the correct values to task13.\""
            ]
          },
          "execution_count": 38,
          "metadata": {},
          "output_type": "execute_result"
        }
      ],
      "source": [
        "grader.check_all()"
      ]
    }
  ],
  "metadata": {
    "kernelspec": {
      "display_name": "Python 3 (ipykernel)",
      "language": "python",
      "name": "python3"
    },
    "language_info": {
      "codemirror_mode": {
        "name": "ipython",
        "version": 3
      },
      "file_extension": ".py",
      "mimetype": "text/x-python",
      "name": "python",
      "nbconvert_exporter": "python",
      "pygments_lexer": "ipython3",
      "version": "3.11.9"
    },
    "otter": {
      "OK_FORMAT": true,
      "assignment_name": "lab10_sp25",
      "tests": {
        "task_03": {
          "name": "task_03",
          "points": null,
          "suites": [
            {
              "cases": [
                {
                  "code": ">>> np.isclose(age_mean, 27.228279386712096)\nTrue",
                  "failure_message": "\"❌ age_mean does not seem correct. \nTry using np.mean with the Maternal Age values.\"",
                  "hidden": false,
                  "locked": false,
                  "success_message": "\"✅ age_mean seems correct.\"\n"
                },
                {
                  "code": ">>> np.isclose(age_sd, 5.815360404190897)\nTrue",
                  "failure_message": "\"❌ age_sd does not seem correct. \nTry using np.std with the Maternal Age values.\"",
                  "hidden": false,
                  "locked": false,
                  "success_message": "\"✅ age_sd seems correct.\"\n"
                }
              ],
              "scored": true,
              "setup": "",
              "teardown": "",
              "type": "doctest"
            }
          ]
        },
        "task_04": {
          "name": "task_04",
          "points": null,
          "suites": [
            {
              "cases": [
                {
                  "code": ">>> np.isclose(height_mean, 64.04940374787053)\nTrue",
                  "failure_message": "\"❌ height_mean does not seem correct. \nTry using np.mean with the Maternal Height values.\"",
                  "hidden": false,
                  "locked": false,
                  "success_message": "\"✅ height_mean seems correct.\"\n"
                },
                {
                  "code": ">>> np.isclose(height_sd, 2.5250254409674375)\nTrue",
                  "failure_message": "\"❌ height_sd does not seem correct. \nTry using np.std with the Maternal Height values.\"",
                  "hidden": false,
                  "locked": false,
                  "success_message": "\"✅ height_sd seems correct.\"\n"
                }
              ],
              "scored": true,
              "setup": "",
              "teardown": "",
              "type": "doctest"
            }
          ]
        },
        "task_05": {
          "name": "task_05",
          "points": null,
          "suites": [
            {
              "cases": [
                {
                  "code": ">>> callable(one_sample_mean)\nTrue",
                  "failure_message": "\"❌ one_sample_mean is not callable. \nMake sure you are using a def statement to create this function.\"",
                  "hidden": false,
                  "locked": false,
                  "success_message": "\"✅ one_sample_mean is callable.\"\n"
                },
                {
                  "code": ">>> import numbers\n>>> np.random.seed(1010101)\n>>> test_sample_mean = one_sample_mean(salaries, 'salary', 100)\n>>> isinstance(test_sample_mean, numbers.Number)\nTrue",
                  "failure_message": "\"❌ one_sample_mean should return a number. \nTry calculating a mean in your function body.\"",
                  "hidden": false,
                  "locked": false,
                  "success_message": "\"✅ one_sample_mean returns a number.\"\n"
                },
                {
                  "code": ">>> np.random.seed(1010101)\n>>> test_sample_mean = one_sample_mean(salaries, 'salary', 100)\n>>> np.isclose(test_sample_mean, 110627.46720000001)\nTrue",
                  "failure_message": "\"❌ one_sample_mean does not seem to be working correctly.\nDid you resample the table with replacement and calculate \nthe mean using the provided label?\"",
                  "hidden": false,
                  "locked": false,
                  "success_message": "\"✅ one_sample_mean seems to be working correctly.\"\n"
                }
              ],
              "scored": true,
              "setup": "",
              "teardown": "",
              "type": "doctest"
            }
          ]
        },
        "task_06": {
          "name": "task_06",
          "points": null,
          "suites": [
            {
              "cases": [
                {
                  "code": ">>> callable(simulate_sample_mean)\nTrue",
                  "failure_message": "\"❌ simulate_sample_mean is not callable. \nMake sure you are using a def statement to define this function.\"",
                  "hidden": false,
                  "locked": false,
                  "success_message": "\"✅ simulate_sample_mean is callable.\"\n"
                }
              ],
              "scored": true,
              "setup": "",
              "teardown": "",
              "type": "doctest"
            }
          ]
        },
        "task_08": {
          "name": "task_08",
          "points": null,
          "suites": [
            {
              "cases": [
                {
                  "code": ">>> isinstance(task8, np.ndarray)\nTrue",
                  "failure_message": "\"❌ task8 should be assigned to an array.\"",
                  "hidden": false,
                  "locked": false,
                  "success_message": "\"✅ task8 is assigned to an array\"\n"
                },
                {
                  "code": ">>> isinstance(task8.item(0), (int, np.integer))\nTrue",
                  "failure_message": "\"❌ task8 should be assigned to an array of integers. \nThere is at least one correct statement.\"",
                  "hidden": false,
                  "locked": false,
                  "success_message": "\"✅ task8 is assigned to an array of integers\"\n"
                },
                {
                  "code": ">>> np.all(task8 <= 5) and np.all(task8 >= 1)\nTrue",
                  "failure_message": "\"❌ task8 should be assigned to an array of integers between 1 and 5, inclusive.\"",
                  "hidden": false,
                  "locked": false,
                  "success_message": "\"✅ task8 is assigned to an array of integers between 1 and 5, inclusive.\"\n"
                },
                {
                  "code": ">>> import hashlib\n>>> \n>>> def get_hash(num):\n...     \"\"\"Helper function for assessing correctness.\"\"\"\n...     return hashlib.md5(str(num).encode()).hexdigest()\n>>> get_hash(set(np.array(task8).astype(int))) == '3649655f87d3a44afa82f25eced24944'\nTrue",
                  "failure_message": "\"❌ You have not assigned the correct values to task8.\"",
                  "hidden": false,
                  "locked": false,
                  "success_message": "\"✅ You've assigned the correct values to task8.\"\n"
                }
              ],
              "scored": true,
              "setup": "",
              "teardown": "",
              "type": "doctest"
            }
          ]
        },
        "task_09": {
          "name": "task_09",
          "points": null,
          "suites": [
            {
              "cases": [
                {
                  "code": ">>> isinstance(task9, np.ndarray)\nTrue",
                  "failure_message": "\"❌ task9 should be assigned to an array.\"",
                  "hidden": false,
                  "locked": false,
                  "success_message": "\"✅ task9 is assigned to an array\"\n"
                },
                {
                  "code": ">>> isinstance(task9.item(0), (int, np.integer))\nTrue",
                  "failure_message": "\"❌ task9 should be assigned to an array of integers. \nThere is at least one correct statement.\"",
                  "hidden": false,
                  "locked": false,
                  "success_message": "\"✅ task9 is assigned to an array of integers\"\n"
                },
                {
                  "code": ">>> np.all(task9 <= 5) and np.all(task9 >= 1)\nTrue",
                  "failure_message": "\"❌ task9 should be assigned to an array of integers between 1 and 4, inclusive.\"",
                  "hidden": false,
                  "locked": false,
                  "success_message": "\"✅ task9 is assigned to an array of integers between 1 and 4, inclusive.\"\n"
                },
                {
                  "code": ">>> import hashlib\n>>> \n>>> def get_hash(num):\n...     \"\"\"Helper function for assessing correctness.\"\"\"\n...     return hashlib.md5(str(num).encode()).hexdigest()\n>>> get_hash(set(np.array(task9).astype(int))) == 'b793dd27381f7b63cada88b749c0e023'\nTrue",
                  "failure_message": "\"❌ You have not assigned the correct values to task9.\"",
                  "hidden": false,
                  "locked": false,
                  "success_message": "\"✅ You've assigned the correct values to task9.\"\n"
                }
              ],
              "scored": true,
              "setup": "",
              "teardown": "",
              "type": "doctest"
            }
          ]
        },
        "task_11": {
          "name": "task_11",
          "points": null,
          "suites": [
            {
              "cases": [
                {
                  "code": ">>> isinstance(SD_of_sample_means, (int, np.integer))\nTrue",
                  "failure_message": "\"❌ You have not assigned SD_of_sample_means to an integer.\"",
                  "hidden": false,
                  "locked": false,
                  "success_message": "\"✅ You've assigned SD_of_sample_means to an integer.\"\n"
                },
                {
                  "code": ">>> SD_of_sample_means in {1, 2, 3, 4}\nTrue",
                  "failure_message": "\"❌ You have not assigned SD_of_sample_means to an integer from 1, 2, 3, 4.\"",
                  "hidden": false,
                  "locked": false,
                  "success_message": "\"✅ You've assigned SD_of_sample_means to an integer from 1, 2, 3, 4.\"\n"
                },
                {
                  "code": ">>> import hashlib\n>>> \n>>> def get_hash(num):\n...     \"\"\"Helper function for assessing correctness.\"\"\"\n...     return hashlib.md5(str(num).encode()).hexdigest()\n>>> get_hash(SD_of_sample_means) == 'eccbc87e4b5ce2fe28308fd9f2a7baf3'\nTrue",
                  "failure_message": "\"❌ You have not assigned the correct values to SD_of_sample_means.\"",
                  "hidden": false,
                  "locked": false,
                  "success_message": "\"✅ You've assigned the correct values to SD_of_sample_means.\"\n"
                }
              ],
              "scored": true,
              "setup": "",
              "teardown": "",
              "type": "doctest"
            }
          ]
        },
        "task_12": {
          "name": "task_12",
          "points": null,
          "suites": [
            {
              "cases": [
                {
                  "code": ">>> isinstance(pop_vs_sample, np.ndarray)\nTrue",
                  "failure_message": "\"❌ pop_vs_sample should be assigned to an array.\"",
                  "hidden": false,
                  "locked": false,
                  "success_message": "\"✅ pop_vs_sample is assigned to an array\"\n"
                },
                {
                  "code": ">>> isinstance(pop_vs_sample.item(0), (int, np.integer))\nTrue",
                  "failure_message": "\"❌ pop_vs_sample should be assigned to an array of integers. \nThere is at least one correct statement.\"",
                  "hidden": false,
                  "locked": false,
                  "success_message": "\"✅ pop_vs_sample is assigned to an array of integers\"\n"
                },
                {
                  "code": ">>> np.all(pop_vs_sample <= 6) and np.all(pop_vs_sample >= 1)\nTrue",
                  "failure_message": "\"❌ pop_vs_sample should be assigned to an array of integers between 1 and 6, inclusive.\"",
                  "hidden": false,
                  "locked": false,
                  "success_message": "\"✅ pop_vs_sample is assigned to an array of integers between 1 and 6, inclusive.\"\n"
                },
                {
                  "code": ">>> import hashlib\n>>> \n>>> def get_hash(num):\n...     \"\"\"Helper function for assessing correctness.\"\"\"\n...     return hashlib.md5(str(num).encode()).hexdigest()\n>>> get_hash(set(np.array(pop_vs_sample).astype(int))) == '1d919a653870c713cf8bd17b9c9c65ee'\nTrue",
                  "failure_message": "\"❌ You have not assigned the correct values to pop_vs_sample.\"",
                  "hidden": false,
                  "locked": false,
                  "success_message": "\"✅ You've assigned the correct values to pop_vs_sample.\"\n"
                }
              ],
              "scored": true,
              "setup": "",
              "teardown": "",
              "type": "doctest"
            }
          ]
        },
        "task_13": {
          "name": "task_13",
          "points": null,
          "suites": [
            {
              "cases": [
                {
                  "code": ">>> isinstance(task13, (int, np.integer))\nTrue",
                  "failure_message": "\"❌ You have not assigned task13 to an integer.\"",
                  "hidden": false,
                  "locked": false,
                  "success_message": "\"✅ You've assigned task13 to an integer.\"\n"
                },
                {
                  "code": ">>> task13 in {1, 2}\nTrue",
                  "failure_message": "\"❌ You have not assigned task13 to the integer 1 or 2.\"",
                  "hidden": false,
                  "locked": false,
                  "success_message": "\"✅ You've assigned task13 to the integer 1 or 2.\"\n"
                },
                {
                  "code": ">>> import hashlib\n>>> \n>>> def get_hash(num):\n...     \"\"\"Helper function for assessing correctness.\"\"\"\n...     return hashlib.md5(str(num).encode()).hexdigest()\n>>> get_hash(task13) == 'c4ca4238a0b923820dcc509a6f75849b'\nTrue",
                  "failure_message": "\"❌ You have not assigned the correct values to task13.\"",
                  "hidden": false,
                  "locked": false,
                  "success_message": "\"✅ You've assigned the correct values to task13.\"\n"
                }
              ],
              "scored": true,
              "setup": "",
              "teardown": "",
              "type": "doctest"
            }
          ]
        }
      }
    },
    "colab": {
      "provenance": [],
      "include_colab_link": true
    }
  },
  "nbformat": 4,
  "nbformat_minor": 5
}