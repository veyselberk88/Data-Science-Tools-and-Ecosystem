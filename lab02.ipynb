{
  "cells": [
    {
      "cell_type": "markdown",
      "metadata": {
        "id": "view-in-github",
        "colab_type": "text"
      },
      "source": [
        "<a href=\"https://colab.research.google.com/github/veyselberk88/Data-Science-Tools-and-Ecosystem/blob/main/lab02.ipynb\" target=\"_parent\"><img src=\"https://colab.research.google.com/assets/colab-badge.svg\" alt=\"Open In Colab\"/></a>"
      ]
    },
    {
      "cell_type": "code",
      "execution_count": null,
      "metadata": {
        "deletable": false,
        "editable": false,
        "id": "V9U5KHul94a_"
      },
      "outputs": [],
      "source": [
        "# Initialize Otter\n",
        "import otter\n",
        "grader = otter.Notebook(\"lab02.ipynb\")"
      ]
    },
    {
      "cell_type": "markdown",
      "metadata": {
        "id": "04HUw3Pk94bB"
      },
      "source": [
        "<img src=\"./ccsf.png\" alt=\"CCSF Logo\" width=200px style=\"margin:0px -5px\">"
      ]
    },
    {
      "cell_type": "markdown",
      "metadata": {
        "tags": [],
        "id": "_uYkcVUY94bD"
      },
      "source": [
        "# Lab 02: Sequences"
      ]
    },
    {
      "cell_type": "markdown",
      "metadata": {
        "id": "KW1cOLxc94bD"
      },
      "source": [
        "---"
      ]
    },
    {
      "cell_type": "markdown",
      "metadata": {
        "id": "5921qdrf94bF"
      },
      "source": [
        "## References"
      ]
    },
    {
      "cell_type": "markdown",
      "metadata": {
        "id": "Kg21NccL94bG"
      },
      "source": [
        "* [datascience Documentation](https://datascience.readthedocs.io/)\n",
        "* [Jupyter Notebook Documentation](https://jupyter-notebook.readthedocs.io/)\n",
        "* [Markdown Cheat Sheet](https://www.markdownguide.org/cheat-sheet/)"
      ]
    },
    {
      "cell_type": "markdown",
      "metadata": {
        "id": "ChQx_xBt94bG"
      },
      "source": [
        "---"
      ]
    },
    {
      "cell_type": "markdown",
      "metadata": {
        "id": "V6VZRIgu94bI"
      },
      "source": [
        "## Lab Assignment Reminders"
      ]
    },
    {
      "cell_type": "markdown",
      "metadata": {
        "id": "gpdySCvn94bI"
      },
      "source": [
        "- 🚨 Make sure to run the code cell at the top of this notebook that starts with `# Initialize Otter` to load the auto-grader.\n",
        "- Your tasks are categorized as auto-graded (📍) and manually graded (📍🔎):\n",
        "    - **For all auto-graded tasks:**\n",
        "        - Replace the `...` in the provided code cell with your own code.\n",
        "        - Run the `grader.check` code cell to execute tests on your code.\n",
        "        - There are no hidden auto-grader tests in the lab assignments. This means if you pass the tests, you can assume you've completed the task successfully.\n",
        "    - **For all manually graded tasks:**\n",
        "        - You may need to provide your own response to the provided prompt. Replace the template text \"_Type your answer here, replacing this text._\" with your own words.\n",
        "        - You might need to produce a graphic or another output using code. Replace the `...` in the code cell to generate the image, table, etc.\n",
        "        - In either case, check your response with a classmate, a tutor, or the instructor before moving on.\n",
        "- Throughout this assignment and all future ones, please **do not re-assign variables** throughout the notebook! _For example, if you use `max_temperature` in your answer to one question, do not reassign it later on. Otherwise, you may fail tests that you thought you were passing previously!_\n",
        "- You may [submit](#Submit-Your-Assignment-to-Canvas) this assignment as many times as you want before the deadline. Your instructor will score the last version you submit once the deadline has passed.\n",
        "- **Collaborating on labs is encouraged!** You should rarely remain stuck for more than a few minutes on questions in labs, so ask an instructor or classmate for help. (Explaining things is beneficial, too -- the best way to solidify your knowledge of a subject is to explain it.) However, please don't just share answers."
      ]
    },
    {
      "cell_type": "markdown",
      "metadata": {
        "id": "ocuIV6Lc94bT"
      },
      "source": [
        "---"
      ]
    },
    {
      "cell_type": "markdown",
      "metadata": {
        "id": "S_Dtxw2_94bU"
      },
      "source": [
        "## Configure the Notebook"
      ]
    },
    {
      "cell_type": "markdown",
      "metadata": {
        "id": "04Be97FH94bU"
      },
      "source": [
        "Run the following cell to configure this Notebook."
      ]
    },
    {
      "cell_type": "code",
      "execution_count": null,
      "metadata": {
        "id": "12qfvSsN94bU"
      },
      "outputs": [],
      "source": [
        "import numpy as np\n",
        "from datascience import *"
      ]
    },
    {
      "cell_type": "markdown",
      "metadata": {
        "id": "DxP-GE_o94bW"
      },
      "source": [
        "---"
      ]
    },
    {
      "cell_type": "markdown",
      "metadata": {
        "id": "fh2-S3_D94bX"
      },
      "source": [
        "## Expressions Review"
      ]
    },
    {
      "cell_type": "markdown",
      "metadata": {
        "id": "QwxMxQQU94bX"
      },
      "source": [
        "The two building blocks of Python code are *expressions* and *statements*.  An **expression** is a piece of code that\n",
        "\n",
        "* is self-contained, meaning it would make sense to write it on a line by itself, and\n",
        "* usually evaluates to a value.\n",
        "\n",
        "\n",
        "Here are two expressions that both evaluate to 3:\n",
        "\n",
        "    3\n",
        "    5 - 2\n",
        "    \n",
        "One important type of expression is the **call expression**. A call expression begins with the name of a function and is followed by the argument(s) of that function in parentheses. The function returns some value, based on its arguments. Some important mathematical functions are listed below.\n",
        "\n",
        "| Function | Description                                                   |\n",
        "|----------|---------------------------------------------------------------|\n",
        "| `abs`      | Returns the absolute value of its argument                    |\n",
        "| `max`      | Returns the maximum of all its arguments                      |\n",
        "| `min`      | Returns the minimum of all its arguments                      |\n",
        "| `pow`      | Raises its first argument to the power of its second argument |\n",
        "| `round`    | Rounds its argument to the nearest integer                     |\n",
        "\n",
        "Here are two call expressions that both evaluate to 3:\n",
        "\n",
        "    abs(2 - 5)\n",
        "    max(round(2.8), min(pow(2, 10), -1 * pow(2, 10)))\n",
        "\n",
        "The expression `2 - 5` and the two call expressions given above are examples of **compound expressions**, meaning that they are actually combinations of several smaller expressions.  `2 - 5` combines the expressions `2` and `5` by subtraction.  In this case, `2` and `5` are called **subexpressions** because they're expressions that are part of a larger expression.\n",
        "\n",
        "A **statement** is a whole line of code.  Some statements are just expressions.  The expressions listed above are examples.\n",
        "\n",
        "Other statements *make something happen* rather than *having a value*. For example, an **assignment statement** assigns a value to a name.\n",
        "\n",
        "A good way to think about this is that we're **evaluating the right-hand side** of the equals sign and **assigning it to the left-hand side**. Here are some assignment statements:\n",
        "    \n",
        "    height = 1.3\n",
        "    the_number_five = abs(-5)\n",
        "    absolute_height_difference = abs(height - 1.688)\n",
        "\n",
        "An important idea in programming is that large, interesting things can be built by combining many simple, uninteresting things.  The key to understanding a complicated piece of code is breaking it down into its simple components.\n",
        "\n",
        "For example, a lot is going on in the last statement above, but it's really just a combination of a few things.  This picture describes what's going on.\n",
        "\n",
        "<img src=\"statement.png\" alt=\"An assignment statement \">"
      ]
    },
    {
      "cell_type": "markdown",
      "metadata": {
        "id": "MUaEqdY-94bX"
      },
      "source": [
        "---"
      ]
    },
    {
      "cell_type": "markdown",
      "metadata": {
        "id": "DqJb34_t94bY"
      },
      "source": [
        "### Task 01 📍"
      ]
    },
    {
      "cell_type": "markdown",
      "metadata": {
        "id": "sP1F0Y_M94bY"
      },
      "source": [
        "In the next cell, assign the name `max_value` to the larger value among the following two expressions:\n",
        "\n",
        "1. the **absolute value** of $2^{5}-2^{11}-2^3 + 1$, and\n",
        "2. $5 \\times 13 \\times 31 + 10$.\n",
        "\n",
        "Don't do this in one line. Instead, break this task up into steps. For example:\n",
        "\n",
        "1. Assign the first expression to `value_1`.\n",
        "2. Assign the second expression to `value_2`.\n",
        "3. Use `max` to find the bigger of the two values.\n",
        "\n",
        "Let Python do the work. There is no need to grab a calculator!"
      ]
    },
    {
      "cell_type": "code",
      "execution_count": null,
      "metadata": {
        "tags": [],
        "id": "AJcP2P4F94bY",
        "outputId": "2c6d5493-47b9-4c7f-86ce-455edc561fbe"
      },
      "outputs": [
        {
          "name": "stdout",
          "output_type": "stream",
          "text": [
            "-2023\n",
            "2025\n"
          ]
        },
        {
          "data": {
            "text/plain": [
              "2025"
            ]
          },
          "execution_count": 4,
          "metadata": {},
          "output_type": "execute_result"
        }
      ],
      "source": [
        "value_1 = 2**5-2**11-2**3+1\n",
        "print(value_1)\n",
        "value_2 = 5*13*31+10\n",
        "print(value_2)\n",
        "max_value = max(value_1, value_2)\n",
        "max_value"
      ]
    },
    {
      "cell_type": "code",
      "execution_count": null,
      "metadata": {
        "deletable": false,
        "editable": false,
        "id": "Tc1ulI5694bZ",
        "outputId": "acc7154c-48b8-4e8e-c71c-26fb0d8c326f"
      },
      "outputs": [
        {
          "data": {
            "text/html": [
              "<p><strong><pre style='display: inline;'>task_01</pre></strong> passed! ✨</p><p><strong><pre style='display: inline;'>task_01 - 1</pre> message:</strong> ✅ Great work running an assignment statement with the name max_value.</p><p><strong><pre style='display: inline;'>task_01 - 2</pre> message:</strong> ✅ Great work! Hopefully, you were able to utilize the max and abs functions.</p>"
            ],
            "text/plain": [
              "task_01 results: All test cases passed!\n",
              "task_01 - 1 message: ✅ Great work running an assignment statement with the name max_value.\n",
              "task_01 - 2 message: ✅ Great work! Hopefully, you were able to utilize the max and abs functions."
            ]
          },
          "execution_count": 5,
          "metadata": {},
          "output_type": "execute_result"
        }
      ],
      "source": [
        "grader.check(\"task_01\")"
      ]
    },
    {
      "cell_type": "markdown",
      "metadata": {
        "id": "gJq6DSXI94bZ"
      },
      "source": [
        "It is tempting to try and write the solution to that task in one line of code, but it is not a good idea to jam these steps into a single line because it can make the code harder to read and harder to debug. Good programming practice involves splitting up your code into smaller steps and using appropriate names. You'll have plenty of practice in the rest of this course!"
      ]
    },
    {
      "cell_type": "markdown",
      "metadata": {
        "id": "0ybvoGsS94bZ"
      },
      "source": [
        "---"
      ]
    },
    {
      "cell_type": "markdown",
      "metadata": {
        "id": "FSdoMI1R94ba"
      },
      "source": [
        "## Text"
      ]
    },
    {
      "cell_type": "markdown",
      "metadata": {
        "id": "t4Q493Dm94ba"
      },
      "source": [
        "Programming doesn't just concern numbers. Text is one of the most common data types used in programs.\n",
        "\n",
        "Text is represented by a **string value** in Python. The word \"string\" is a programming term for a sequence of characters. A string might contain a single character, a word, a sentence, or a whole book.\n",
        "\n",
        "To distinguish text data from actual code, we demarcate strings by putting quotation marks around them. Single quotes (`'`) and double quotes (`\"`) are both valid, but the types of opening and closing quotation marks must match. The contents can be any sequence of characters, including numbers and symbols.\n",
        "\n",
        "We've seen strings before in `print` statements.  Below, two different strings are passed as arguments to the `print` function."
      ]
    },
    {
      "cell_type": "code",
      "execution_count": null,
      "metadata": {
        "id": "OKvngvOw94ba",
        "outputId": "2fefd92f-fe03-495d-d724-30b7e384d10f"
      },
      "outputs": [
        {
          "name": "stdout",
          "output_type": "stream",
          "text": [
            "I <3 Data Science\n"
          ]
        }
      ],
      "source": [
        "print(\"I <3\", 'Data Science')"
      ]
    },
    {
      "cell_type": "markdown",
      "metadata": {
        "tags": [],
        "id": "McWBTONL94ba"
      },
      "source": [
        "Just as names can be given to numbers, names can be given to string values.  The names and strings aren't required to be similar in any way. Any name can be assigned to any string."
      ]
    },
    {
      "cell_type": "code",
      "execution_count": null,
      "metadata": {
        "id": "Z5CdBql794bb",
        "outputId": "27afbd98-1a1e-45c0-cd4b-7bf4b5c20fc6"
      },
      "outputs": [
        {
          "name": "stdout",
          "output_type": "stream",
          "text": [
            "1 + 1\n"
          ]
        }
      ],
      "source": [
        "one = '1'\n",
        "plus = '+'\n",
        "print(one, plus, one)"
      ]
    },
    {
      "cell_type": "markdown",
      "metadata": {
        "id": "zgS9PRYi94bb"
      },
      "source": [
        "---"
      ]
    },
    {
      "cell_type": "markdown",
      "metadata": {
        "id": "e_DEirIc94bc"
      },
      "source": [
        "### Task 02 📍"
      ]
    },
    {
      "cell_type": "markdown",
      "metadata": {
        "deletable": false,
        "editable": false,
        "id": "R96MgIq394bc"
      },
      "source": [
        "Yuri Gagarin was the first person to travel through outer space.  When he emerged from his capsule upon landing on Earth, he [reportedly](https://en.wikiquote.org/wiki/Yuri_Gagarin) had the following conversation with a woman and girl who saw the landing:\n",
        "\n",
        "    The woman asked: \"Can it be that you have come from outer space?\"\n",
        "    Gagarin replied: \"As a matter of fact, I have!\"\n",
        "\n",
        "The cell below contains unfinished code.  Fill in the `...`s so that it prints out this conversation *exactly* as it appears above, ignoring the space displayed on the left of the conversation. To complete this task successfully, the capitalization, spaces, punctuation, etc. all need to be correct."
      ]
    },
    {
      "cell_type": "code",
      "execution_count": null,
      "metadata": {
        "tags": [],
        "id": "ziorD1mj94bc",
        "outputId": "64b6b41b-610f-402d-ba5e-0844abc0cc5f"
      },
      "outputs": [
        {
          "name": "stdout",
          "output_type": "stream",
          "text": [
            "The woman asked: \"Can it be that you have come from outer space?\"\n",
            "Gagarin replied: \"As a matter of fact, I have!\"\n"
          ]
        }
      ],
      "source": [
        "woman_asking = 'The woman asked:'\n",
        "woman_quote = '\"Can it be that you have come from outer space?\"'\n",
        "gagarin_reply = 'Gagarin replied:'\n",
        "gagarin_quote = '\"As a matter of fact, I have!\"'\n",
        "\n",
        "print(woman_asking, woman_quote)\n",
        "print(gagarin_reply, gagarin_quote)"
      ]
    },
    {
      "cell_type": "code",
      "execution_count": null,
      "metadata": {
        "deletable": false,
        "editable": false,
        "id": "2Vy-ncMF94bc",
        "outputId": "565a5cec-3903-4bdd-db68-b83ff73d8f53"
      },
      "outputs": [
        {
          "data": {
            "text/html": [
              "<p><strong><pre style='display: inline;'>task_02</pre></strong> passed! 🚀</p><p><strong><pre style='display: inline;'>task_02 - 1</pre> message:</strong> ✅ It seems like you have the correct string.</p><p><strong><pre style='display: inline;'>task_02 - 2</pre> message:</strong> ✅ It seems like you have the correct string.</p>"
            ],
            "text/plain": [
              "task_02 results: All test cases passed!\n",
              "task_02 - 1 message: ✅ It seems like you have the correct string.\n",
              "task_02 - 2 message: ✅ It seems like you have the correct string."
            ]
          },
          "execution_count": 15,
          "metadata": {},
          "output_type": "execute_result"
        }
      ],
      "source": [
        "grader.check(\"task_02\")"
      ]
    },
    {
      "cell_type": "markdown",
      "metadata": {
        "id": "SN1U-DQ_94bd"
      },
      "source": [
        "---"
      ]
    },
    {
      "cell_type": "markdown",
      "metadata": {
        "id": "11xGt92J94bd"
      },
      "source": [
        "### String Methods"
      ]
    },
    {
      "cell_type": "markdown",
      "metadata": {
        "id": "kPUNHtyS94be"
      },
      "source": [
        "Strings can be transformed using **methods**. Methods and functions are technically not the same thing, but we'll be using them interchangeably for the purposes of this course.\n",
        "\n",
        "Here's a sketch of how to call methods on a string:\n",
        "\n",
        "    <expression that evaluates to a string>.<method name>(<argument>, <argument>, ...)\n",
        "    \n",
        "One example of a string method is `replace`, which replaces all instances of some part of the original string (or a *substring*) with a new string.\n",
        "\n",
        "    <original string>.replace(<old substring>, <new substring>)\n",
        "    \n",
        "`replace` returns (evaluates to) a new string, leaving the original string unchanged.\n",
        "    \n",
        "Try to predict the output of this example, then run the cell!"
      ]
    },
    {
      "cell_type": "code",
      "execution_count": null,
      "metadata": {
        "id": "3WWCgHn_94bf",
        "outputId": "5f35d56a-ebc2-4d8f-e1e5-2d10a31119c0"
      },
      "outputs": [
        {
          "name": "stdout",
          "output_type": "stream",
          "text": [
            "Hella Hello\n"
          ]
        }
      ],
      "source": [
        "# Replace one letter\n",
        "hello = 'Hello'\n",
        "print(hello.replace('o', 'a'), hello)"
      ]
    },
    {
      "cell_type": "markdown",
      "metadata": {
        "id": "nEIMDvlg94bf"
      },
      "source": [
        "You can call functions on the results of other functions.  For example, `max(abs(-5), abs(3))` evaluates to 5.  Similarly, you can call methods on the results of other method or function calls.\n",
        "\n",
        "You may have already noticed one difference between functions and methods - a function like `max` does not require a `.` before it's called, but a string method like `replace` does."
      ]
    },
    {
      "cell_type": "code",
      "execution_count": null,
      "metadata": {
        "scrolled": true,
        "id": "FuW-axiF94bg",
        "outputId": "b12c2505-3472-4210-d832-846aa1a7ff00"
      },
      "outputs": [
        {
          "data": {
            "text/plain": [
              "'degrade'"
            ]
          },
          "execution_count": 17,
          "metadata": {},
          "output_type": "execute_result"
        }
      ],
      "source": [
        "# Calling replace on the output of another call to replace\n",
        "'train'.replace('t', 'ing').replace('in', 'de')"
      ]
    },
    {
      "cell_type": "markdown",
      "metadata": {
        "id": "j4d_v-nY94bh"
      },
      "source": [
        "Here's a picture of how Python evaluates a \"chained\" method call like that:\n",
        "\n",
        "<img src=\"./chaining_method_calls.png\" alt=\"showing chaining methods\" width=80%/>"
      ]
    },
    {
      "cell_type": "markdown",
      "metadata": {
        "id": "HMljYbzY94bh"
      },
      "source": [
        "---"
      ]
    },
    {
      "cell_type": "markdown",
      "metadata": {
        "id": "MDNgBnXR94bh"
      },
      "source": [
        "#### Task 03 📍"
      ]
    },
    {
      "cell_type": "markdown",
      "metadata": {
        "deletable": false,
        "editable": false,
        "id": "oAQ7UDTh94bh"
      },
      "source": [
        "Use `replace` to transform the string `'hitchhiker'` into `'matchmaker'`. Assign your result to `new_word`.\n"
      ]
    },
    {
      "cell_type": "code",
      "execution_count": null,
      "metadata": {
        "tags": [],
        "id": "_bD38fak94bh",
        "outputId": "6de81e48-a76f-4520-b347-a52da5c11ea1"
      },
      "outputs": [
        {
          "data": {
            "text/plain": [
              "'matchmaker'"
            ]
          },
          "execution_count": 18,
          "metadata": {},
          "output_type": "execute_result"
        }
      ],
      "source": [
        "new_word = 'hitchhiker'.replace('hitchhi','matchma')\n",
        "new_word"
      ]
    },
    {
      "cell_type": "code",
      "execution_count": null,
      "metadata": {
        "deletable": false,
        "editable": false,
        "id": "1f7TTJwr94bi",
        "outputId": "aaec2247-92c8-4473-c137-1126e6ecbc78"
      },
      "outputs": [
        {
          "data": {
            "text/html": [
              "<p><strong><pre style='display: inline;'>task_03</pre></strong> passed! 🍀</p><p><strong><pre style='display: inline;'>task_03 - 1</pre> message:</strong> ✅ It seems like you have the correct string.</p>"
            ],
            "text/plain": [
              "task_03 results: All test cases passed!\n",
              "task_03 - 1 message: ✅ It seems like you have the correct string."
            ]
          },
          "execution_count": 19,
          "metadata": {},
          "output_type": "execute_result"
        }
      ],
      "source": [
        "grader.check(\"task_03\")"
      ]
    },
    {
      "cell_type": "markdown",
      "metadata": {
        "id": "tfFWf0yA94bi"
      },
      "source": [
        "There are many more string methods in Python, but most programmers don't memorize their names or how to use them.  In the \"real world,\" people usually just search the internet for documentation and examples. A complete [list of string methods](https://docs.python.org/3/library/stdtypes.html#string-methods) appears in the Python language documentation."
      ]
    },
    {
      "cell_type": "markdown",
      "metadata": {
        "id": "4OaCtYGi94bi"
      },
      "source": [
        "---"
      ]
    },
    {
      "cell_type": "markdown",
      "metadata": {
        "id": "3uhh1ydI94bj"
      },
      "source": [
        "### Converting To and From Strings"
      ]
    },
    {
      "cell_type": "markdown",
      "metadata": {
        "id": "Dk_UqiBf94bj"
      },
      "source": [
        "Strings and numbers are different *types* of values, even when a string contains the digits of a number. For example, evaluating the following cell causes an error because an integer cannot be added to a string.\n",
        "\n",
        "<img src=\"./int_add_str_error.png\">"
      ]
    },
    {
      "cell_type": "markdown",
      "metadata": {
        "id": "QwX2B5xG94bj"
      },
      "source": [
        "However, there are built-in functions to convert numbers to strings and strings to numbers. Some of these built-in functions have restrictions on the type of argument they take:\n",
        "\n",
        "|Function |Description|\n",
        "|-|-|\n",
        "|`int`|Converts a string of digits or a float to an integer (\"int\") value|\n",
        "|`float`|Converts a string of digits (perhaps with a decimal point) or an int to a decimal (\"float\") value|\n",
        "|`str`|Converts any value to a string|"
      ]
    },
    {
      "cell_type": "markdown",
      "metadata": {
        "id": "Rkivwdou94bj"
      },
      "source": [
        "Try to predict what data type and value `example` evaluates to, then run the cell."
      ]
    },
    {
      "cell_type": "code",
      "execution_count": null,
      "metadata": {
        "id": "hIot4xs694bk",
        "outputId": "5a8ccce2-6d07-4e35-f673-00f2eb5a77fd"
      },
      "outputs": [
        {
          "name": "stdout",
          "output_type": "stream",
          "text": [
            "26.0\n",
            "This example returned a <class 'float'>!\n"
          ]
        }
      ],
      "source": [
        "example = 8 + int(\"10\") + float(\"8\")\n",
        "\n",
        "print(example)\n",
        "print(\"This example returned a \" + str(type(example)) + \"!\")"
      ]
    },
    {
      "cell_type": "markdown",
      "metadata": {
        "id": "SJlY1qtf94bk"
      },
      "source": [
        "Suppose you're writing a program that looks for dates in a text, and you want your program to find the amount of time that elapsed between two years it has identified.  It doesn't make sense to subtract two texts, but you can first convert the text containing the years into numbers."
      ]
    },
    {
      "cell_type": "markdown",
      "metadata": {
        "id": "Ce1QnHgM94bk"
      },
      "source": [
        "---"
      ]
    },
    {
      "cell_type": "markdown",
      "metadata": {
        "id": "JAvUDNsE94bk"
      },
      "source": [
        "#### Task 04 📍"
      ]
    },
    {
      "cell_type": "markdown",
      "metadata": {
        "deletable": false,
        "editable": false,
        "id": "LMX5HVMM94bl"
      },
      "source": [
        "Finish the code below to compute the number of years that elapsed between `one_year` and `another_year`.  Don't just write the numbers `1618` and `1648` (or `30`); use a conversion function to turn the given text data into numbers.\n"
      ]
    },
    {
      "cell_type": "code",
      "execution_count": null,
      "metadata": {
        "tags": [],
        "id": "2klTKnRi94bl",
        "outputId": "51f06ec4-44dd-44a9-b54d-b3993c8e16fd"
      },
      "outputs": [
        {
          "data": {
            "text/plain": [
              "30"
            ]
          },
          "execution_count": 21,
          "metadata": {},
          "output_type": "execute_result"
        }
      ],
      "source": [
        "# Some text data:\n",
        "one_year = \"1618\"\n",
        "another_year = \"1648\"\n",
        "\n",
        "# Complete the next line.  Note that we can't just write:\n",
        "#   another_year - one_year\n",
        "# If you don't see why, try seeing what happens when you\n",
        "# write that here.\n",
        "difference = abs(int(one_year)-int(another_year))\n",
        "difference"
      ]
    },
    {
      "cell_type": "code",
      "execution_count": null,
      "metadata": {
        "deletable": false,
        "editable": false,
        "id": "X09MTFXI94bl",
        "outputId": "1d9e29a1-ee2f-4cda-de8a-d55224be5377"
      },
      "outputs": [
        {
          "data": {
            "text/html": [
              "<p><strong><pre style='display: inline;'>task_04</pre></strong> passed! 🚀</p><p><strong><pre style='display: inline;'>task_04 - 1</pre> message:</strong> ✅ It seems like you have the correct value.</p>"
            ],
            "text/plain": [
              "task_04 results: All test cases passed!\n",
              "task_04 - 1 message: ✅ It seems like you have the correct value."
            ]
          },
          "execution_count": 22,
          "metadata": {},
          "output_type": "execute_result"
        }
      ],
      "source": [
        "grader.check(\"task_04\")"
      ]
    },
    {
      "cell_type": "markdown",
      "metadata": {
        "id": "mjXLI-gK94bm"
      },
      "source": [
        "---"
      ]
    },
    {
      "cell_type": "markdown",
      "metadata": {
        "id": "8qrQsrrE94bm"
      },
      "source": [
        "### Passing strings to functions"
      ]
    },
    {
      "cell_type": "markdown",
      "metadata": {
        "id": "wMH-jCLz94bm"
      },
      "source": [
        "String values, like numbers, can be arguments to functions and can be returned by functions.\n",
        "\n",
        "The function `len` (derived from the word \"length\") takes a single string as its argument and returns the number of characters (including spaces) in the string.\n",
        "\n",
        "Note that it doesn't count *words*. `len(\"one small step for man\")` evaluates to 22, not 5."
      ]
    },
    {
      "cell_type": "markdown",
      "metadata": {
        "id": "QTsyV_hy94bn"
      },
      "source": [
        "---"
      ]
    },
    {
      "cell_type": "markdown",
      "metadata": {
        "id": "Wjyqb3lN94bn"
      },
      "source": [
        "#### Task 05 📍"
      ]
    },
    {
      "cell_type": "markdown",
      "metadata": {
        "deletable": false,
        "editable": false,
        "id": "cHVDB_J594bn"
      },
      "source": [
        "Use `len` to find the number of characters in the long string in the next cell.  Characters include things like spaces and punctuation. Assign `sentence_length` to that number.\n",
        "\n",
        "(The string is the first sentence of the English translation of the French [Declaration of the Rights of Man](http://avalon.law.yale.edu/18th_century/rightsof.asp).)  \n"
      ]
    },
    {
      "cell_type": "code",
      "execution_count": null,
      "metadata": {
        "tags": [],
        "id": "_8amT8Kb94bn",
        "outputId": "6021ac02-017a-4d49-fc3a-701b73121459"
      },
      "outputs": [
        {
          "data": {
            "text/plain": [
              "896"
            ]
          },
          "execution_count": 23,
          "metadata": {},
          "output_type": "execute_result"
        }
      ],
      "source": [
        "a_very_long_sentence = \"The representatives of the French people, organized as a National Assembly, believing that the ignorance, neglect, or contempt of the rights of man are the sole cause of public calamities and of the corruption of governments, have determined to set forth in a solemn declaration the natural, unalienable, and sacred rights of man, in order that this declaration, being constantly before all the members of the Social body, shall remind them continually of their rights and duties; in order that the acts of the legislative power, as well as those of the executive power, may be compared at any moment with the objects and purposes of all political institutions and may thus be more respected, and, lastly, in order that the grievances of the citizens, based hereafter upon simple and incontestable principles, shall tend to the maintenance of the constitution and redound to the happiness of all.\"\n",
        "sentence_length = len(a_very_long_sentence)\n",
        "sentence_length"
      ]
    },
    {
      "cell_type": "code",
      "execution_count": null,
      "metadata": {
        "deletable": false,
        "editable": false,
        "id": "-Eqh52Dn94bo",
        "outputId": "f258b54c-8aeb-4535-8cda-d95104eb8188"
      },
      "outputs": [
        {
          "data": {
            "text/html": [
              "<p><strong><pre style='display: inline;'>task_05</pre></strong> passed! 🙌</p><p><strong><pre style='display: inline;'>task_05 - 1</pre> message:</strong> ✅ That seems correct!</p>"
            ],
            "text/plain": [
              "task_05 results: All test cases passed!\n",
              "task_05 - 1 message: ✅ That seems correct!"
            ]
          },
          "execution_count": 24,
          "metadata": {},
          "output_type": "execute_result"
        }
      ],
      "source": [
        "grader.check(\"task_05\")"
      ]
    },
    {
      "cell_type": "markdown",
      "metadata": {
        "id": "-ieVcMhe94bo"
      },
      "source": [
        "---"
      ]
    },
    {
      "cell_type": "markdown",
      "metadata": {
        "id": "FloJtRNg94bo"
      },
      "source": [
        "## Importing Code"
      ]
    },
    {
      "cell_type": "markdown",
      "metadata": {
        "id": "dFNxqWhs94bp"
      },
      "source": [
        "Most programming involves work that is very similar to work that has been done before.  Since writing code is time-consuming, it's good to rely on others' published code when you can.  Rather than copy-pasting, Python allows us to **import modules**. A module is a file with Python code that has defined variables and functions. By importing a module, we are able to use its code in our own notebook.\n",
        "\n",
        "Python includes many useful modules that are just an `import` away.  We'll look at the `math` module as a first example. The `math` module is extremely useful in computing mathematical expressions in Python.\n",
        "\n",
        "Suppose we want to very accurately compute the area of a circle with a radius of 5 meters.  For that, we need the constant $\\pi$, which is roughly 3.14.  Conveniently, the `math` module has `pi` defined for us:"
      ]
    },
    {
      "cell_type": "code",
      "execution_count": null,
      "metadata": {
        "id": "9VpgCLlQ94bp",
        "outputId": "43eec739-06bb-4821-d2c4-6e8229d067ce"
      },
      "outputs": [
        {
          "data": {
            "text/plain": [
              "78.53981633974483"
            ]
          },
          "execution_count": 25,
          "metadata": {},
          "output_type": "execute_result"
        }
      ],
      "source": [
        "import math\n",
        "radius = 5\n",
        "area_of_circle = radius ** 2 * math.pi\n",
        "area_of_circle"
      ]
    },
    {
      "cell_type": "markdown",
      "metadata": {
        "id": "7FYg4uCE94bp"
      },
      "source": [
        "In the code above, the line `import math` imports the math module. This statement creates a module and then assigns the name `math` to that module. We are now able to access any variables or functions defined within `math` by typing the name of the module followed by a dot, then followed by the name of the variable or function we want.\n",
        "\n",
        "    <module name>.<name>"
      ]
    },
    {
      "cell_type": "markdown",
      "metadata": {
        "id": "CUmIZLQ_94bq"
      },
      "source": [
        "---"
      ]
    },
    {
      "cell_type": "markdown",
      "metadata": {
        "id": "KtbKNEn894bq"
      },
      "source": [
        "### Task 06 📍"
      ]
    },
    {
      "cell_type": "markdown",
      "metadata": {
        "id": "Y-iFo86694bq"
      },
      "source": [
        "The module `math` also provides the name `e` for the base of the natural logarithm, which is roughly 2.71. Compute $e^{\\pi}-\\pi$, giving it the name `near_twenty`.\n",
        "\n",
        "**Hint**: `math.pi` and `math.e` provide representations of the mathematical constants $\\pi$ and $e$."
      ]
    },
    {
      "cell_type": "code",
      "execution_count": null,
      "metadata": {
        "tags": [],
        "id": "KUpQ2Xml94bq",
        "outputId": "cc439494-24f2-4460-9215-e6143dfb9c87"
      },
      "outputs": [
        {
          "data": {
            "text/plain": [
              "19.99909997918947"
            ]
          },
          "execution_count": 26,
          "metadata": {},
          "output_type": "execute_result"
        }
      ],
      "source": [
        "near_twenty = math.e**math.pi-math.pi\n",
        "near_twenty"
      ]
    },
    {
      "cell_type": "code",
      "execution_count": null,
      "metadata": {
        "deletable": false,
        "editable": false,
        "id": "nyYgwDyt94br",
        "outputId": "a71399a4-c337-4418-ec5f-ec276b1e4f1d"
      },
      "outputs": [
        {
          "data": {
            "text/html": [
              "<p><strong><pre style='display: inline;'>task_06</pre></strong> passed! 🙌</p><p><strong><pre style='display: inline;'>task_06 - 1</pre> message:</strong> ✅ Great work running the cell above that imports the math module.</p><p><strong><pre style='display: inline;'>task_06 - 2</pre> message:</strong> ✅ Great work. It seems you have correct value.</p>"
            ],
            "text/plain": [
              "task_06 results: All test cases passed!\n",
              "task_06 - 1 message: ✅ Great work running the cell above that imports the math module.\n",
              "task_06 - 2 message: ✅ Great work. It seems you have correct value."
            ]
          },
          "execution_count": 27,
          "metadata": {},
          "output_type": "execute_result"
        }
      ],
      "source": [
        "grader.check(\"task_06\")"
      ]
    },
    {
      "cell_type": "markdown",
      "metadata": {
        "id": "cDWY70Ji94br"
      },
      "source": [
        "<img src=\"./e_to_the_pi_minus_pi.png\" alt=\"A comic about e to the pi minus pi.\">\n",
        "\n",
        "[An explanation of the comic.](https://www.explainxkcd.com/wiki/index.php/217:_e_to_the_pi_Minus_pi)"
      ]
    },
    {
      "cell_type": "markdown",
      "metadata": {
        "id": "lRJ3vTZ-94br"
      },
      "source": [
        "---"
      ]
    },
    {
      "cell_type": "markdown",
      "metadata": {
        "id": "c_zJ5Cvx94br"
      },
      "source": [
        "### Accessing functions"
      ]
    },
    {
      "cell_type": "markdown",
      "metadata": {
        "id": "p5mrTKVw94bs"
      },
      "source": [
        "In the question above, you accessed variables within the `math` module.\n",
        "\n",
        "**Modules** also define **functions**.  For example, `math` provides the name `sqrt` for the square root function.  Having imported `math` already, we can write `math.sqrt(3)` to compute the square root of 3."
      ]
    },
    {
      "cell_type": "markdown",
      "metadata": {
        "id": "kF0Iy2wp94bs"
      },
      "source": [
        "---"
      ]
    },
    {
      "cell_type": "markdown",
      "metadata": {
        "id": "U8eybYXq94bs"
      },
      "source": [
        "#### Task 07 📍"
      ]
    },
    {
      "cell_type": "markdown",
      "metadata": {
        "id": "OdU2AFci94bs"
      },
      "source": [
        "What is the square root of pi?  Compute that value using `sqrt` and `pi` from the `math` module.  Give the result the name `square_root_of_pi`."
      ]
    },
    {
      "cell_type": "code",
      "execution_count": null,
      "metadata": {
        "tags": [],
        "id": "FhHQmyyt94bs",
        "outputId": "8c8d1625-3194-479e-d249-65a23f4f004f"
      },
      "outputs": [
        {
          "data": {
            "text/plain": [
              "1.7724538509055159"
            ]
          },
          "execution_count": 28,
          "metadata": {},
          "output_type": "execute_result"
        }
      ],
      "source": [
        "square_root_of_pi = math.sqrt(math.pi)\n",
        "square_root_of_pi"
      ]
    },
    {
      "cell_type": "code",
      "execution_count": null,
      "metadata": {
        "deletable": false,
        "editable": false,
        "id": "M1rvqyTv94bt",
        "outputId": "5951cab5-6783-403a-8e20-077ce76e798d"
      },
      "outputs": [
        {
          "data": {
            "text/html": [
              "<p><strong><pre style='display: inline;'>task_07</pre></strong> passed! 🍀</p><p><strong><pre style='display: inline;'>task_07 - 1</pre> message:</strong> ✅ Great work. It seems you have correct value.</p>"
            ],
            "text/plain": [
              "task_07 results: All test cases passed!\n",
              "task_07 - 1 message: ✅ Great work. It seems you have correct value."
            ]
          },
          "execution_count": 29,
          "metadata": {},
          "output_type": "execute_result"
        }
      ],
      "source": [
        "grader.check(\"task_07\")"
      ]
    },
    {
      "cell_type": "markdown",
      "metadata": {
        "id": "noEHyzsH94bt"
      },
      "source": [
        "Different functions can take in different numbers of arguments. Often, the [documentation](https://docs.python.org/3/library/math.html) of the module will provide information on how many arguments are required for each function.  \n",
        "\n",
        "For example, the logarithm function requires two arguments, as shown below. Calculating logarithms (the logarithm of 8 in base 2). Remember that logarithms are the inverse of powers, so the result is 3 because 2 to the power of 3 is 8.\n",
        "\n",
        "*Hint: If you press `shift+tab` while next to the function call, the documentation for that function will appear.*"
      ]
    },
    {
      "cell_type": "code",
      "execution_count": null,
      "metadata": {
        "id": "ZPKoRW_K94bt",
        "outputId": "2ef0e5ae-8b89-4e67-e539-08cd10f2d2df"
      },
      "outputs": [
        {
          "data": {
            "text/plain": [
              "3.0"
            ]
          },
          "execution_count": 30,
          "metadata": {},
          "output_type": "execute_result"
        }
      ],
      "source": [
        "math.log(8, 2)"
      ]
    },
    {
      "cell_type": "markdown",
      "metadata": {
        "id": "DSGiBMXS94bu"
      },
      "source": [
        "There are various ways to import and access code from outside sources. The method we used above — `import <module_name>` — imports the entire module and requires that we use `<module_name>.<name>` to access its code.\n",
        "\n",
        "We can also import a specific constant or function instead of the entire module. Notice that you don't have to use the module name beforehand to reference that particular value. However, you do have to be careful about reassigning the names of the constants or functions to other values!"
      ]
    },
    {
      "cell_type": "markdown",
      "metadata": {
        "id": "qNmhqkJq94bu"
      },
      "source": [
        "Importing just `sqrt` and `pi` from math means that we don't have to use `math.` in front of `sqrt` or `pi`."
      ]
    },
    {
      "cell_type": "code",
      "execution_count": null,
      "metadata": {
        "id": "emnuadbz94bu",
        "outputId": "3f024146-8c1a-459f-c7e1-c7c7dbfb7363"
      },
      "outputs": [
        {
          "name": "stdout",
          "output_type": "stream",
          "text": [
            "1.7724538509055159\n"
          ]
        }
      ],
      "source": [
        "from math import sqrt, pi\n",
        "print(sqrt(pi))"
      ]
    },
    {
      "cell_type": "markdown",
      "metadata": {
        "id": "qqZv3Dku94bu"
      },
      "source": [
        "We do have to use it in front of other functions from math that we have not imported directly."
      ]
    },
    {
      "cell_type": "code",
      "execution_count": null,
      "metadata": {
        "id": "5_k_dO9T94bu",
        "outputId": "7e7a87ab-84d5-452f-aa41-8b5b7d3ef747"
      },
      "outputs": [
        {
          "data": {
            "text/plain": [
              "1.1447298858494002"
            ]
          },
          "execution_count": 32,
          "metadata": {},
          "output_type": "execute_result"
        }
      ],
      "source": [
        "math.log(pi)"
      ]
    },
    {
      "cell_type": "markdown",
      "metadata": {
        "id": "5zdFdUZZ94bv"
      },
      "source": [
        "We can also import **every** function and value from the entire module. This isn't a good practice in general, but we will do it in this class with the `datascience` module. Notice that, with the following command, you can just use `log` instead of `math.log`."
      ]
    },
    {
      "cell_type": "code",
      "execution_count": null,
      "metadata": {
        "id": "sYpHfYyp94bv",
        "outputId": "fbb2fbb7-d9b2-4445-e7c5-ef35be3e21d6"
      },
      "outputs": [
        {
          "data": {
            "text/plain": [
              "1.1447298858494002"
            ]
          },
          "execution_count": 33,
          "metadata": {},
          "output_type": "execute_result"
        }
      ],
      "source": [
        "from math import *\n",
        "log(pi)"
      ]
    },
    {
      "cell_type": "markdown",
      "metadata": {
        "id": "PKuBHp7394bv"
      },
      "source": [
        "For our class, it is not important to focus on which type of import to use. In almost every case, there will be a cell containing all the import commands you need to run to complete the assignments."
      ]
    },
    {
      "cell_type": "markdown",
      "metadata": {
        "id": "54gRBns694bv"
      },
      "source": [
        "---"
      ]
    },
    {
      "cell_type": "markdown",
      "metadata": {
        "id": "-VC2ryC094bw"
      },
      "source": [
        "## Arrays"
      ]
    },
    {
      "cell_type": "markdown",
      "metadata": {
        "id": "ovpjjfFi94bw"
      },
      "source": [
        "Computers are most useful when you can use a small amount of code to *do the same action* to *many different things*.\n",
        "\n",
        "For example, in the time it takes you to calculate the 18% tip on a restaurant bill, a laptop can calculate 18% tips for every restaurant bill paid by every human on Earth that day.  (That's if you're pretty fast at doing arithmetic in your head!)\n",
        "\n",
        "**Arrays** are how we put many values in one place so that we can operate on them as a group. For example, if `billions_of_numbers` is an array of numbers, the expression\n",
        "\n",
        "    .18 * billions_of_numbers\n",
        "\n",
        "gives a new array of numbers that contains the result of multiplying each number in `billions_of_numbers` by .18.  Arrays are not limited to numbers; we can also put all the words in a book into an array of strings.\n",
        "\n",
        "Concretely, an array is a **collection of values of the same type**."
      ]
    },
    {
      "cell_type": "markdown",
      "metadata": {
        "id": "5-FG6SAa94bw"
      },
      "source": [
        "---"
      ]
    },
    {
      "cell_type": "markdown",
      "metadata": {
        "id": "iioJ4OaM94bw"
      },
      "source": [
        "### Making arrays"
      ]
    },
    {
      "cell_type": "markdown",
      "metadata": {
        "id": "JQO4Qu-H94bx"
      },
      "source": [
        "First, let's learn how to manually input values into an array. This typically isn't how programs work. Normally, we create arrays by loading them from an external source, like a data file.\n",
        "\n",
        "To create an array by hand, call the function `make_array`.  Each argument you pass to `make_array` will be in the array it returns.  Run this cell to see an example:"
      ]
    },
    {
      "cell_type": "code",
      "execution_count": null,
      "metadata": {
        "scrolled": true,
        "id": "oVxhhdNn94bx",
        "outputId": "66fbe6d4-80e8-46bb-85e1-ba0f50d537a9"
      },
      "outputs": [
        {
          "data": {
            "text/plain": [
              "array([ 0.125,  4.75 , -1.3  ])"
            ]
          },
          "execution_count": 34,
          "metadata": {},
          "output_type": "execute_result"
        }
      ],
      "source": [
        "make_array(0.125, 4.75, -1.3)"
      ]
    },
    {
      "cell_type": "markdown",
      "metadata": {
        "id": "CYL5iFBd94bx"
      },
      "source": [
        "Each value in an array (in the above case, the numbers 0.125, 4.75, and -1.3) is called an *element* of that array.\n",
        "\n",
        "Arrays themselves are also values, just like numbers and strings.  That means you can assign them to names or use them as arguments to functions. For example, `len(<some_array>)` returns the number of elements in `some_array`."
      ]
    },
    {
      "cell_type": "markdown",
      "metadata": {
        "id": "HgHCwt9B94bx"
      },
      "source": [
        "---"
      ]
    },
    {
      "cell_type": "markdown",
      "metadata": {
        "id": "O45qqtJm94by"
      },
      "source": [
        "#### Task 08 📍"
      ]
    },
    {
      "cell_type": "markdown",
      "metadata": {
        "deletable": false,
        "editable": false,
        "id": "I69NI4cW94by"
      },
      "source": [
        "Make an array containing the numbers 0, 1, -1, $\\pi$, and $e$, in that order.  Name it `interesting_numbers`.  \n",
        "\n",
        "*Hint:* How did you get the values $\\pi$ and $e$ in Task 06?  You can refer to them in exactly the same way here.\n"
      ]
    },
    {
      "cell_type": "code",
      "execution_count": null,
      "metadata": {
        "tags": [],
        "id": "Bwx3Rn0Y94by",
        "outputId": "eae4d224-9cfb-4ae1-dbf6-5159d11730c1"
      },
      "outputs": [
        {
          "data": {
            "text/plain": [
              "array([ 0.        ,  1.        , -1.        ,  3.14159265,  2.71828183])"
            ]
          },
          "execution_count": 38,
          "metadata": {},
          "output_type": "execute_result"
        }
      ],
      "source": [
        "interesting_numbers = make_array(0,1,-1,pi,e)\n",
        "interesting_numbers"
      ]
    },
    {
      "cell_type": "code",
      "execution_count": null,
      "metadata": {
        "deletable": false,
        "editable": false,
        "id": "uBRPeg9H94bz",
        "outputId": "294e9b60-bf3d-4f0e-a361-acbdf6893d99"
      },
      "outputs": [
        {
          "data": {
            "text/html": [
              "<p><strong><pre style='display: inline;'>task_08</pre></strong> passed! 🚀</p><p><strong><pre style='display: inline;'>task_08 - 1</pre> message:</strong> ✅ It seems like you made an array.</p><p><strong><pre style='display: inline;'>task_08 - 2</pre> message:</strong> ✅ You have the correct number of values.</p><p><strong><pre style='display: inline;'>task_08 - 3</pre> message:</strong> ✅ It seems like you have the correct values.</p>"
            ],
            "text/plain": [
              "task_08 results: All test cases passed!\n",
              "task_08 - 1 message: ✅ It seems like you made an array.\n",
              "task_08 - 2 message: ✅ You have the correct number of values.\n",
              "task_08 - 3 message: ✅ It seems like you have the correct values."
            ]
          },
          "execution_count": 36,
          "metadata": {},
          "output_type": "execute_result"
        }
      ],
      "source": [
        "grader.check(\"task_08\")"
      ]
    },
    {
      "cell_type": "markdown",
      "metadata": {
        "id": "Ms1yzYPF94bz"
      },
      "source": [
        "---"
      ]
    },
    {
      "cell_type": "markdown",
      "metadata": {
        "id": "ecYON3ey94bz"
      },
      "source": [
        "#### Task 09 📍"
      ]
    },
    {
      "cell_type": "markdown",
      "metadata": {
        "deletable": false,
        "editable": false,
        "id": "YiVc3r0g94b0"
      },
      "source": [
        "Make an array containing the five strings `\"Hello\"`, `\",\"`, `\" \"`, `\"world\"`, and `\"!\"`.  (The third one is a single space inside quotes.)  Name it `hello_world_components`.\n",
        "\n",
        "*Note:* If you evaluate `hello_world_components`, you'll notice some extra information in addition to its contents: `dtype='<U5'`.  That's just NumPy's extremely cryptic way of saying that the data types in the array are strings.\n"
      ]
    },
    {
      "cell_type": "code",
      "execution_count": null,
      "metadata": {
        "tags": [],
        "id": "auYqcZul94b0",
        "outputId": "3fc65d98-dcf8-44e3-f824-6a65f674aa87"
      },
      "outputs": [
        {
          "data": {
            "text/plain": [
              "array(['Hello', ',', ' ', 'world', '!'],\n",
              "      dtype='<U5')"
            ]
          },
          "execution_count": 39,
          "metadata": {},
          "output_type": "execute_result"
        }
      ],
      "source": [
        "hello_world_components = make_array(\"Hello\", \",\", \" \", \"world\",\"!\")\n",
        "hello_world_components"
      ]
    },
    {
      "cell_type": "code",
      "execution_count": null,
      "metadata": {
        "deletable": false,
        "editable": false,
        "id": "WgGiA1e394b0",
        "outputId": "bf3b229f-116d-40f7-937f-0c615bcf4538"
      },
      "outputs": [
        {
          "data": {
            "text/html": [
              "<p><strong><pre style='display: inline;'>task_09</pre></strong> passed! ✨</p><p><strong><pre style='display: inline;'>task_09 - 1</pre> message:</strong> ✅ It seems like you made an array.</p><p><strong><pre style='display: inline;'>task_09 - 2</pre> message:</strong> ✅ You have the correct number of values.</p><p><strong><pre style='display: inline;'>task_09 - 3</pre> message:</strong> ✅ It looks like your array contains the blank space!</p><p><strong><pre style='display: inline;'>task_09 - 4</pre> message:</strong> ✅ It seems like you have the correct values.</p>"
            ],
            "text/plain": [
              "task_09 results: All test cases passed!\n",
              "task_09 - 1 message: ✅ It seems like you made an array.\n",
              "task_09 - 2 message: ✅ You have the correct number of values.\n",
              "task_09 - 3 message: ✅ It looks like your array contains the blank space!\n",
              "task_09 - 4 message: ✅ It seems like you have the correct values."
            ]
          },
          "execution_count": 40,
          "metadata": {},
          "output_type": "execute_result"
        }
      ],
      "source": [
        "grader.check(\"task_09\")"
      ]
    },
    {
      "cell_type": "markdown",
      "metadata": {
        "id": "V61YdSCN94b1"
      },
      "source": [
        "---"
      ]
    },
    {
      "cell_type": "markdown",
      "metadata": {
        "id": "z2qlx4vk94b1"
      },
      "source": [
        "####  `np.arange`"
      ]
    },
    {
      "cell_type": "markdown",
      "metadata": {
        "id": "1N0Vukqm94b1"
      },
      "source": [
        "Arrays are provided by a package called [NumPy](http://www.numpy.org/) (pronounced \"NUM-pie\"). The package is called `numpy`, but it's standard to rename it `np` for brevity.  You can do that with:\n",
        "\n",
        "    import numpy as np\n",
        "\n",
        "Very often in data science, we want to work with many numbers that are evenly spaced within some range.  NumPy provides a special function for this called `arange`.  The line of code `np.arange(start, stop, step)` evaluates to an array with all the numbers starting at `start` and counting up by `step`, stopping **before** `stop` is reached.\n",
        "\n",
        "Note that this is not exactly the same as the built in data type `range`!\n",
        "\n",
        "Run the following cells to see some examples!"
      ]
    },
    {
      "cell_type": "code",
      "execution_count": null,
      "metadata": {
        "id": "rJxBA_vD94b1",
        "outputId": "16011ffa-6709-435e-c251-be3e59b02a09"
      },
      "outputs": [
        {
          "data": {
            "text/plain": [
              "array([1, 3, 5])"
            ]
          },
          "execution_count": 41,
          "metadata": {},
          "output_type": "execute_result"
        }
      ],
      "source": [
        "# This array starts at 1 and counts up by 2\n",
        "# and then stops before 6\n",
        "np.arange(1, 6, 2)"
      ]
    },
    {
      "cell_type": "code",
      "execution_count": null,
      "metadata": {
        "id": "74dXERBi94b2",
        "outputId": "a22abe48-7891-4183-eb64-2a8904d1cd54"
      },
      "outputs": [
        {
          "data": {
            "text/plain": [
              "array([4, 5, 6, 7, 8])"
            ]
          },
          "execution_count": 42,
          "metadata": {},
          "output_type": "execute_result"
        }
      ],
      "source": [
        "# This array doesn't contain 9\n",
        "# because np.arange stops *before* the stop value is reached\n",
        "np.arange(4, 9, 1)"
      ]
    },
    {
      "cell_type": "markdown",
      "metadata": {
        "id": "2DXDYh9594b2"
      },
      "source": [
        "---"
      ]
    },
    {
      "cell_type": "markdown",
      "metadata": {
        "id": "DH8czk-s94b2"
      },
      "source": [
        "#### Task 10 📍"
      ]
    },
    {
      "cell_type": "markdown",
      "metadata": {
        "deletable": false,
        "editable": false,
        "id": "59mAg71094b3"
      },
      "source": [
        "Use `np.arange` to create an array with the multiples of 99 from 0 up to (**and including**) 9999.  (So its elements are 0, 99, 198, 297, etc.)\n"
      ]
    },
    {
      "cell_type": "code",
      "execution_count": null,
      "metadata": {
        "tags": [],
        "id": "QUGRlEFq94b3",
        "outputId": "42349313-dab6-4dad-9498-d68a61d15a5a"
      },
      "outputs": [
        {
          "data": {
            "text/plain": [
              "array([   0,   99,  198,  297,  396,  495,  594,  693,  792,  891,  990,\n",
              "       1089, 1188, 1287, 1386, 1485, 1584, 1683, 1782, 1881, 1980, 2079,\n",
              "       2178, 2277, 2376, 2475, 2574, 2673, 2772, 2871, 2970, 3069, 3168,\n",
              "       3267, 3366, 3465, 3564, 3663, 3762, 3861, 3960, 4059, 4158, 4257,\n",
              "       4356, 4455, 4554, 4653, 4752, 4851, 4950, 5049, 5148, 5247, 5346,\n",
              "       5445, 5544, 5643, 5742, 5841, 5940, 6039, 6138, 6237, 6336, 6435,\n",
              "       6534, 6633, 6732, 6831, 6930, 7029, 7128, 7227, 7326, 7425, 7524,\n",
              "       7623, 7722, 7821, 7920, 8019, 8118, 8217, 8316, 8415, 8514, 8613,\n",
              "       8712, 8811, 8910, 9009, 9108, 9207, 9306, 9405, 9504, 9603, 9702,\n",
              "       9801, 9900, 9999])"
            ]
          },
          "execution_count": 43,
          "metadata": {},
          "output_type": "execute_result"
        }
      ],
      "source": [
        "multiples_of_99 = np.arange(0,10000,99)\n",
        "multiples_of_99"
      ]
    },
    {
      "cell_type": "code",
      "execution_count": null,
      "metadata": {
        "deletable": false,
        "editable": false,
        "id": "v60_0cQd94b3",
        "outputId": "d4d0c744-0f5c-4c05-9b72-1a0e9637cbbe"
      },
      "outputs": [
        {
          "data": {
            "text/html": [
              "<p><strong><pre style='display: inline;'>task_10</pre></strong> passed! ✨</p><p><strong><pre style='display: inline;'>task_10 - 1</pre> message:</strong> ✅ It seems like you made an array.</p><p><strong><pre style='display: inline;'>task_10 - 2</pre> message:</strong> ✅ You have the correct number of values.</p><p><strong><pre style='display: inline;'>task_10 - 3</pre> message:</strong> ✅ It seems like you have the correct values.</p>"
            ],
            "text/plain": [
              "task_10 results: All test cases passed!\n",
              "task_10 - 1 message: ✅ It seems like you made an array.\n",
              "task_10 - 2 message: ✅ You have the correct number of values.\n",
              "task_10 - 3 message: ✅ It seems like you have the correct values."
            ]
          },
          "execution_count": 44,
          "metadata": {},
          "output_type": "execute_result"
        }
      ],
      "source": [
        "grader.check(\"task_10\")"
      ]
    },
    {
      "cell_type": "markdown",
      "metadata": {
        "id": "vooDKHvI94b4"
      },
      "source": [
        "---"
      ]
    },
    {
      "cell_type": "markdown",
      "metadata": {
        "id": "1BVIXsoE94b4"
      },
      "source": [
        "### Indexing"
      ]
    },
    {
      "cell_type": "markdown",
      "metadata": {
        "id": "mV1EAbKz94b4"
      },
      "source": [
        "Let's work with a more interesting dataset.  The next cell creates an array called `population_amounts` that includes estimated world populations in every year from **1950** to roughly the present.  (The estimates come from the US Census Bureau website.)\n",
        "\n",
        "Rather than type in the data manually, we've loaded them from a file on your computer called `world_population.csv`.  You'll learn about this code later."
      ]
    },
    {
      "cell_type": "code",
      "execution_count": null,
      "metadata": {
        "id": "-dZvsbL-94b5",
        "outputId": "3e7cf859-e4ae-4f4f-febf-079f2deebf9d"
      },
      "outputs": [
        {
          "data": {
            "text/plain": [
              "array([2557628654, 2594939877, 2636772306, 2682053389, 2730228104,\n",
              "       2782098943, 2835299673, 2891349717, 2948137248, 3000716593,\n",
              "       3043001508, 3083966929, 3140093217, 3209827882, 3281201306,\n",
              "       3350425793, 3420677923, 3490333715, 3562313822, 3637159050,\n",
              "       3712697742, 3790326948, 3866568653, 3942096442, 4016608813,\n",
              "       4089083233, 4160185010, 4232084578, 4304105753, 4379013942,\n",
              "       4451362735, 4534410125, 4614566561, 4695736743, 4774569391,\n",
              "       4856462699, 4940571232, 5027200492, 5114557167, 5201440110,\n",
              "       5288955934, 5371585922, 5456136278, 5538268316, 5618682132,\n",
              "       5699202985, 5779440593, 5857972543, 5935213248, 6012074922,\n",
              "       6088571383, 6165219247, 6242016348, 6318590956, 6395699509,\n",
              "       6473044732, 6551263534, 6629913759, 6709049780, 6788214394,\n",
              "       6866332358, 6944055583, 7022349283, 7101027895, 7178722893,\n",
              "       7256490011])"
            ]
          },
          "execution_count": 45,
          "metadata": {},
          "output_type": "execute_result"
        }
      ],
      "source": [
        "population_amounts = Table.read_table(\"./world_population.csv\").column(\"Population\")\n",
        "population_amounts"
      ]
    },
    {
      "cell_type": "markdown",
      "metadata": {
        "id": "Yi_6V_K394b6"
      },
      "source": [
        "Run the following cell to confirm that `population_amounts` is a NumPy array."
      ]
    },
    {
      "cell_type": "code",
      "execution_count": null,
      "metadata": {
        "id": "Xf6cJbqw94b6",
        "outputId": "4b7bd78a-bc26-45b7-a98d-3e82a048bbd5"
      },
      "outputs": [
        {
          "data": {
            "text/plain": [
              "numpy.ndarray"
            ]
          },
          "execution_count": 46,
          "metadata": {},
          "output_type": "execute_result"
        }
      ],
      "source": [
        "type(population_amounts)"
      ]
    },
    {
      "cell_type": "markdown",
      "metadata": {
        "id": "AdA7_G6594b6"
      },
      "source": [
        "Here's how we get the first element of `population_amounts`, which is the world population in the first year in the dataset, 1950."
      ]
    },
    {
      "cell_type": "code",
      "execution_count": null,
      "metadata": {
        "id": "oSGp5y8x94b7",
        "outputId": "fcfc7d51-fafe-4243-a8ee-be371007e668"
      },
      "outputs": [
        {
          "data": {
            "text/plain": [
              "2557628654"
            ]
          },
          "execution_count": 47,
          "metadata": {},
          "output_type": "execute_result"
        }
      ],
      "source": [
        "population_amounts.item(0)"
      ]
    },
    {
      "cell_type": "markdown",
      "metadata": {
        "id": "mgpitvEW94b7"
      },
      "source": [
        "The value of that expression is the number 2557628654 (around 2.5 billion), because that's the first thing in the array `population_amounts`.\n",
        "\n",
        "Notice that we wrote `.item(0)`, not `.item(1)`, to get the first element.  This is a weird convention in computer science.  0 is called the *index* of the first item.  It's the number of elements that appear *before* that item.  So 3 is the index of the 4th item."
      ]
    },
    {
      "cell_type": "markdown",
      "metadata": {
        "id": "vHzLAYUM94b7"
      },
      "source": [
        "**Note:** It is possible to use `population_amounts[0]` to get the first element, but the course material does not guide you this way, so be careful and always check the data type of your results. The `.item` method from the `datascience` module is performing some additional code that the square bracket notation is not performing."
      ]
    },
    {
      "cell_type": "code",
      "execution_count": null,
      "metadata": {
        "id": "iPkfDSML94b7",
        "outputId": "6a648da2-a2d0-4460-828f-0c46b1b5e08f"
      },
      "outputs": [
        {
          "data": {
            "text/plain": [
              "int"
            ]
          },
          "execution_count": 48,
          "metadata": {},
          "output_type": "execute_result"
        }
      ],
      "source": [
        "type(population_amounts.item(0))"
      ]
    },
    {
      "cell_type": "code",
      "execution_count": null,
      "metadata": {
        "id": "RTuLJFa_94b8",
        "outputId": "8c84ee62-8616-4e6d-faab-93824ebdc694"
      },
      "outputs": [
        {
          "data": {
            "text/plain": [
              "numpy.int64"
            ]
          },
          "execution_count": 49,
          "metadata": {},
          "output_type": "execute_result"
        }
      ],
      "source": [
        "type(population_amounts[0])"
      ]
    },
    {
      "cell_type": "markdown",
      "metadata": {
        "id": "kwV-Ddcx94b8"
      },
      "source": [
        "Here are some more examples.  In the examples, we've given names to the things we get out of `population_amounts`.  Read and run each cell."
      ]
    },
    {
      "cell_type": "code",
      "execution_count": null,
      "metadata": {
        "id": "zFzPjGBP94b8",
        "outputId": "7b863dd1-0deb-462f-a8c8-ab92de0603fa"
      },
      "outputs": [
        {
          "data": {
            "text/plain": [
              "3140093217"
            ]
          },
          "execution_count": 50,
          "metadata": {},
          "output_type": "execute_result"
        }
      ],
      "source": [
        "# The 13th element in the array is the population\n",
        "# in 1962 (which is 1950 + 12).\n",
        "population_1962 = population_amounts.item(12)\n",
        "population_1962"
      ]
    },
    {
      "cell_type": "code",
      "execution_count": null,
      "metadata": {
        "id": "imv4BVKT94b9",
        "outputId": "3dae873b-64df-49b3-c7a9-c27eb8569054"
      },
      "outputs": [
        {
          "data": {
            "text/plain": [
              "7256490011"
            ]
          },
          "execution_count": 51,
          "metadata": {},
          "output_type": "execute_result"
        }
      ],
      "source": [
        "# The 66th element is the population in 2015.\n",
        "population_2015 = population_amounts.item(65)\n",
        "population_2015"
      ]
    },
    {
      "cell_type": "markdown",
      "metadata": {
        "id": "KWI5lNe294b9"
      },
      "source": [
        "You will see an `IndexError` if you try to use an index value that is outside the range of possible values for the array:\n",
        "\n",
        "<img src=\"./index_error.png\">"
      ]
    },
    {
      "cell_type": "markdown",
      "metadata": {
        "id": "KCyjftOF94b9"
      },
      "source": [
        "Since `make_array` returns an array, we can call `.item(3)` on its output to get its 4th element, just like we \"chained\" together calls to the method `replace` earlier."
      ]
    },
    {
      "cell_type": "code",
      "execution_count": null,
      "metadata": {
        "id": "JGYaSSdj94b9",
        "outputId": "dfab0530-c5a4-44a9-eb8d-a33547f2d339"
      },
      "outputs": [
        {
          "data": {
            "text/plain": [
              "-2"
            ]
          },
          "execution_count": 52,
          "metadata": {},
          "output_type": "execute_result"
        }
      ],
      "source": [
        "make_array(-1, -3, 4, -2).item(3)"
      ]
    },
    {
      "cell_type": "markdown",
      "metadata": {
        "id": "li4lDGI494b-"
      },
      "source": [
        "---"
      ]
    },
    {
      "cell_type": "markdown",
      "metadata": {
        "id": "nCuDuZ2N94b-"
      },
      "source": [
        "#### Task 11 📍"
      ]
    },
    {
      "cell_type": "markdown",
      "metadata": {
        "deletable": false,
        "editable": false,
        "id": "XBxi-deA94b-"
      },
      "source": [
        "Set `population_1973` to the world population in 1973, by getting the appropriate element from `population_amounts` using `item`.\n"
      ]
    },
    {
      "cell_type": "code",
      "execution_count": null,
      "metadata": {
        "tags": [],
        "id": "JKnUy1p594b-",
        "outputId": "590cfe78-230c-4ecd-a69e-d0dadc7387ae"
      },
      "outputs": [
        {
          "data": {
            "text/plain": [
              "3942096442"
            ]
          },
          "execution_count": 59,
          "metadata": {},
          "output_type": "execute_result"
        }
      ],
      "source": [
        "\n",
        "population_1973 =population_amounts.item(23)\n",
        "population_1973"
      ]
    },
    {
      "cell_type": "code",
      "execution_count": null,
      "metadata": {
        "deletable": false,
        "editable": false,
        "id": "V0TGBs4b94b_",
        "outputId": "de75772a-098b-461b-cc5a-34c58de10aed"
      },
      "outputs": [
        {
          "data": {
            "text/html": [
              "<p><strong><pre style='display: inline;'>task_11</pre></strong> passed! 💯</p><p><strong><pre style='display: inline;'>task_11 - 1</pre> message:</strong> ✅ It seems like you used the .item method.</p><p><strong><pre style='display: inline;'>task_11 - 2</pre> message:</strong> ✅ You have the correct value.</p>"
            ],
            "text/plain": [
              "task_11 results: All test cases passed!\n",
              "task_11 - 1 message: ✅ It seems like you used the .item method.\n",
              "task_11 - 2 message: ✅ You have the correct value."
            ]
          },
          "execution_count": 60,
          "metadata": {},
          "output_type": "execute_result"
        }
      ],
      "source": [
        "grader.check(\"task_11\")"
      ]
    },
    {
      "cell_type": "markdown",
      "metadata": {
        "id": "6B9BGKrt94b_"
      },
      "source": [
        "Arrays are primarily useful for doing the same operation many times, so we don't often have to use `.item` and work with single elements."
      ]
    },
    {
      "cell_type": "markdown",
      "metadata": {
        "id": "BM0bjF9594b_"
      },
      "source": [
        "---"
      ]
    },
    {
      "cell_type": "markdown",
      "metadata": {
        "id": "E65D1hRL94b_"
      },
      "source": [
        "### Logarithms"
      ]
    },
    {
      "cell_type": "markdown",
      "metadata": {
        "id": "Vh7xTVwn94cA"
      },
      "source": [
        "Here is one question we might ask about world population:\n",
        "\n",
        "> How big was the population in *orders of magnitude* in each year?\n",
        "\n",
        "Orders of magnitude quantify how big a number is by representing it as the power of another number (for example, representing $104$ as $10^{2.017033}$). One way to do this is by using the logarithm function. The logarithm (base 10) of a number increases by 1 every time we multiply the number by 10. It's like a measure of how many decimal digits the number has, or how big it is in orders of magnitude.\n",
        "\n",
        "We can use the `log10` function from the `math` module to see that $1004$ is an order of magnitude larger than $104$."
      ]
    },
    {
      "cell_type": "code",
      "execution_count": null,
      "metadata": {
        "id": "5LvB9bHI94cA",
        "outputId": "8c492e78-ce7e-4212-f312-92e2445806f6"
      },
      "outputs": [
        {
          "data": {
            "text/plain": [
              "2.0170333392987803"
            ]
          },
          "execution_count": 61,
          "metadata": {},
          "output_type": "execute_result"
        }
      ],
      "source": [
        "math.log10(104)"
      ]
    },
    {
      "cell_type": "code",
      "execution_count": null,
      "metadata": {
        "id": "RdoMTqkO94cB",
        "outputId": "4ce5698b-62a7-4605-af57-529532b83c1f"
      },
      "outputs": [
        {
          "data": {
            "text/plain": [
              "3.0017337128090005"
            ]
          },
          "execution_count": 62,
          "metadata": {},
          "output_type": "execute_result"
        }
      ],
      "source": [
        "math.log10(1004)"
      ]
    },
    {
      "cell_type": "markdown",
      "metadata": {
        "id": "yFnnUB3S94cB"
      },
      "source": [
        "To answer the original question, we could try to answer our question like this, using the `log10` function from the `math` module and the `item` method you just saw:"
      ]
    },
    {
      "cell_type": "code",
      "execution_count": null,
      "metadata": {
        "scrolled": true,
        "id": "ryKb1SaV94cC"
      },
      "outputs": [],
      "source": [
        "population_1950_magnitude = math.log10(population_amounts.item(0))\n",
        "population_1951_magnitude = math.log10(population_amounts.item(1))\n",
        "population_1952_magnitude = math.log10(population_amounts.item(2))\n",
        "population_1953_magnitude = math.log10(population_amounts.item(3))\n",
        "# and so on"
      ]
    },
    {
      "cell_type": "markdown",
      "metadata": {
        "id": "qrJTzxc294cC"
      },
      "source": [
        "But this is tedious and doesn't really take advantage of the fact that we are using a computer.\n",
        "\n",
        "Instead, NumPy provides its own version of `log10` that takes the logarithm of each element of an array.  It takes a single array of numbers as its argument.  It returns an array of the same length, where the first element of the result is the logarithm of the first element of the argument, and so on.\n",
        "\n",
        "For example:"
      ]
    },
    {
      "cell_type": "code",
      "execution_count": null,
      "metadata": {
        "id": "1wz7bKkV94cC",
        "outputId": "3db12eca-2120-421a-bd47-ad8b4e08e891"
      },
      "outputs": [
        {
          "data": {
            "text/plain": [
              "2.0170333392987803"
            ]
          },
          "execution_count": 65,
          "metadata": {},
          "output_type": "execute_result"
        }
      ],
      "source": [
        "np.log10(104)"
      ]
    },
    {
      "cell_type": "code",
      "execution_count": null,
      "metadata": {
        "id": "j0d5yCWZ94cD",
        "outputId": "0ae85ed5-f445-413d-a009-47006b272030"
      },
      "outputs": [
        {
          "data": {
            "text/plain": [
              "array([ 2.01703334,  3.00173371])"
            ]
          },
          "execution_count": 66,
          "metadata": {},
          "output_type": "execute_result"
        }
      ],
      "source": [
        "an_array = make_array(104, 1004)\n",
        "np.log10(an_array)"
      ]
    },
    {
      "cell_type": "markdown",
      "metadata": {
        "id": "NTz9tDEP94cD"
      },
      "source": [
        "---"
      ]
    },
    {
      "cell_type": "markdown",
      "metadata": {
        "id": "QL6ZbEAY94cD"
      },
      "source": [
        "#### Task 12 📍"
      ]
    },
    {
      "cell_type": "markdown",
      "metadata": {
        "deletable": false,
        "editable": false,
        "id": "jaZU62_E94cE"
      },
      "source": [
        "Use `np.log10` to compute the logarithms of the world population in every year.  Give the result (an array of 66 numbers) the name `population_magnitudes`.  Your code should be very short.\n"
      ]
    },
    {
      "cell_type": "code",
      "execution_count": null,
      "metadata": {
        "tags": [],
        "id": "odFoiKdK94cE",
        "outputId": "aea47f07-bc7b-42f1-91e2-d173d6a5f4ca"
      },
      "outputs": [
        {
          "data": {
            "text/plain": [
              "array([ 9.40783749,  9.4141273 ,  9.42107263,  9.42846742,  9.43619893,\n",
              "        9.44437257,  9.45259897,  9.46110062,  9.4695477 ,  9.47722498,\n",
              "        9.48330217,  9.48910971,  9.49694254,  9.50648175,  9.51603288,\n",
              "        9.5251    ,  9.53411218,  9.54286695,  9.55173218,  9.56076229,\n",
              "        9.56968959,  9.57867667,  9.58732573,  9.59572724,  9.60385954,\n",
              "        9.61162595,  9.61911264,  9.62655434,  9.63388293,  9.64137633,\n",
              "        9.64849299,  9.6565208 ,  9.66413091,  9.67170374,  9.67893421,\n",
              "        9.68632006,  9.69377717,  9.70132621,  9.70880804,  9.7161236 ,\n",
              "        9.72336995,  9.73010253,  9.73688521,  9.74337399,  9.74963446,\n",
              "        9.75581413,  9.7618858 ,  9.76774733,  9.77343633,  9.77902438,\n",
              "        9.7845154 ,  9.78994853,  9.7953249 ,  9.80062024,  9.80588805,\n",
              "        9.81110861,  9.81632507,  9.82150788,  9.82666101,  9.83175555,\n",
              "        9.83672482,  9.84161319,  9.84648243,  9.85132122,  9.85604719,\n",
              "        9.8607266 ])"
            ]
          },
          "execution_count": 69,
          "metadata": {},
          "output_type": "execute_result"
        }
      ],
      "source": [
        "population_magnitudes = np.log10(population_amounts)\n",
        "population_magnitudes"
      ]
    },
    {
      "cell_type": "code",
      "execution_count": null,
      "metadata": {
        "deletable": false,
        "editable": false,
        "id": "70gBAmc994cE",
        "outputId": "8dfd8c32-6aa4-4b11-afc3-675988303f2a"
      },
      "outputs": [
        {
          "data": {
            "text/html": [
              "<p><strong><pre style='display: inline;'>task_12</pre></strong> passed! 💯</p><p><strong><pre style='display: inline;'>task_12 - 1</pre> message:</strong> ✅ It seems like you made an array.</p><p><strong><pre style='display: inline;'>task_12 - 2</pre> message:</strong> ✅ It seems like you have the correct values.</p>"
            ],
            "text/plain": [
              "task_12 results: All test cases passed!\n",
              "task_12 - 1 message: ✅ It seems like you made an array.\n",
              "task_12 - 2 message: ✅ It seems like you have the correct values."
            ]
          },
          "execution_count": 70,
          "metadata": {},
          "output_type": "execute_result"
        }
      ],
      "source": [
        "grader.check(\"task_12\")"
      ]
    },
    {
      "cell_type": "markdown",
      "metadata": {
        "id": "nUVBUPXD94cE"
      },
      "source": [
        "What you just did is called *elementwise* application of `np.log10`, since `np.log10` operates separately on each element of the array that it's called on. Here's a picture of what's going on:"
      ]
    },
    {
      "cell_type": "markdown",
      "metadata": {
        "id": "pRamPjTb94cF"
      },
      "source": [
        "<img src=\"./array_logarithm.jpg\">\n",
        "\n",
        "\n",
        "The textbook's [section](https://www.inferentialthinking.com/chapters/05/1/Arrays)  on arrays has a useful list of NumPy functions that are designed to work elementwise, like `np.log10`."
      ]
    },
    {
      "cell_type": "markdown",
      "metadata": {
        "id": "xnR_ijZH94cF"
      },
      "source": [
        "---"
      ]
    },
    {
      "cell_type": "markdown",
      "metadata": {
        "id": "HTVfVquc94cG"
      },
      "source": [
        "### Arithmetic"
      ]
    },
    {
      "cell_type": "markdown",
      "metadata": {
        "id": "Ol2Buv8B94cG"
      },
      "source": [
        "Arithmetic also works elementwise on arrays, meaning that if you perform an arithmetic operation (like subtraction, division, etc) on an array, Python will do the operation to every element of the array individually and return an array of all of the results. For example, you can divide all the population numbers by 1 billion to get numbers in billions:"
      ]
    },
    {
      "cell_type": "code",
      "execution_count": null,
      "metadata": {
        "id": "eityESLQ94cG",
        "outputId": "0b1b97ba-9b1a-485a-a2e1-b5839d62c04a"
      },
      "outputs": [
        {
          "data": {
            "text/plain": [
              "array([ 2.55762865,  2.59493988,  2.63677231,  2.68205339,  2.7302281 ,\n",
              "        2.78209894,  2.83529967,  2.89134972,  2.94813725,  3.00071659,\n",
              "        3.04300151,  3.08396693,  3.14009322,  3.20982788,  3.28120131,\n",
              "        3.35042579,  3.42067792,  3.49033371,  3.56231382,  3.63715905,\n",
              "        3.71269774,  3.79032695,  3.86656865,  3.94209644,  4.01660881,\n",
              "        4.08908323,  4.16018501,  4.23208458,  4.30410575,  4.37901394,\n",
              "        4.45136274,  4.53441012,  4.61456656,  4.69573674,  4.77456939,\n",
              "        4.8564627 ,  4.94057123,  5.02720049,  5.11455717,  5.20144011,\n",
              "        5.28895593,  5.37158592,  5.45613628,  5.53826832,  5.61868213,\n",
              "        5.69920299,  5.77944059,  5.85797254,  5.93521325,  6.01207492,\n",
              "        6.08857138,  6.16521925,  6.24201635,  6.31859096,  6.39569951,\n",
              "        6.47304473,  6.55126353,  6.62991376,  6.70904978,  6.78821439,\n",
              "        6.86633236,  6.94405558,  7.02234928,  7.10102789,  7.17872289,\n",
              "        7.25649001])"
            ]
          },
          "execution_count": 71,
          "metadata": {},
          "output_type": "execute_result"
        }
      ],
      "source": [
        "population_in_billions = population_amounts / 1000000000\n",
        "population_in_billions"
      ]
    },
    {
      "cell_type": "markdown",
      "metadata": {
        "id": "v_DJuo9n94cG"
      },
      "source": [
        "You can do the same with addition, subtraction, multiplication, and exponentiation (`**`). For example, you can calculate a tip on several restaurant bills at once (in this case just 3):"
      ]
    },
    {
      "cell_type": "code",
      "execution_count": null,
      "metadata": {
        "id": "wBB1sbuO94cH",
        "outputId": "85d2887e-69ed-4f7e-f8cd-0634f9c13ab2"
      },
      "outputs": [
        {
          "name": "stdout",
          "output_type": "stream",
          "text": [
            "Restaurant bills:\t [ 20.12  39.9   31.01]\n",
            "Tips:\t\t\t [ 4.024  7.98   6.202]\n"
          ]
        }
      ],
      "source": [
        "restaurant_bills = make_array(20.12, 39.90, 31.01)\n",
        "print(\"Restaurant bills:\\t\", restaurant_bills)\n",
        "\n",
        "# Array multiplication\n",
        "tips = .2 * restaurant_bills\n",
        "print(\"Tips:\\t\\t\\t\", tips)"
      ]
    },
    {
      "cell_type": "markdown",
      "metadata": {
        "id": "9mKkUiVN94cH"
      },
      "source": [
        "<img src=\"./array_multiplication.jpg\">"
      ]
    },
    {
      "cell_type": "markdown",
      "metadata": {
        "id": "LJMPjXLx94cH"
      },
      "source": [
        "Suppose the total charge at a restaurant is the original bill plus the tip. If the tip is 20%, that means we can multiply the original bill by 1.2 to get the total charge.  Run the following code to calculate the total charge for each bill in `restaurant_bills`, and assign the resulting array to `total_charges`."
      ]
    },
    {
      "cell_type": "code",
      "execution_count": null,
      "metadata": {
        "id": "med9BX5b94cI",
        "outputId": "c4c2aa2f-5a46-438c-cdb6-a9e2891810b2"
      },
      "outputs": [
        {
          "data": {
            "text/plain": [
              "array([ 24.144,  47.88 ,  37.212])"
            ]
          },
          "execution_count": 73,
          "metadata": {},
          "output_type": "execute_result"
        }
      ],
      "source": [
        "total_charges = 1.2 * restaurant_bills\n",
        "total_charges"
      ]
    },
    {
      "cell_type": "markdown",
      "metadata": {
        "id": "jvLeWEx194cI"
      },
      "source": [
        "---"
      ]
    },
    {
      "cell_type": "markdown",
      "metadata": {
        "id": "nPvkULf594cI"
      },
      "source": [
        "#### Task 13 📍"
      ]
    },
    {
      "cell_type": "markdown",
      "metadata": {
        "deletable": false,
        "editable": false,
        "id": "8u_2jVqx94cI"
      },
      "source": [
        "The array `more_restaurant_bills` contains 100,000 bills!  Compute the total charge for every bill.\n",
        "\n",
        "*Note: You'll learn about the command `Table.read_table` soon. For now, just run the cell.*\n"
      ]
    },
    {
      "cell_type": "code",
      "execution_count": null,
      "metadata": {
        "tags": [],
        "id": "pz7TkkrK94cI",
        "outputId": "6f5bfd4c-b9b7-4ac5-94bb-dcbd023117c7"
      },
      "outputs": [
        {
          "data": {
            "text/plain": [
              "array([ 20.244,  20.892,  12.216, ...,  19.308,  18.336,  35.664])"
            ]
          },
          "execution_count": 88,
          "metadata": {},
          "output_type": "execute_result"
        }
      ],
      "source": [
        "more_restaurant_bills = Table.read_table(\"./more_restaurant_bills.csv\").column(\"Bill\")\n",
        "more_total_charges = 1.2*more_restaurant_bills\n",
        "more_total_charges"
      ]
    },
    {
      "cell_type": "code",
      "execution_count": null,
      "metadata": {
        "deletable": false,
        "editable": false,
        "id": "FT71Qbir94cJ",
        "outputId": "5dcc674c-1a5c-430b-96fe-8fd83905e31d"
      },
      "outputs": [
        {
          "data": {
            "text/html": [
              "<p><strong><pre style='display: inline;'>task_13</pre></strong> passed! 🍀</p><p><strong><pre style='display: inline;'>task_13 - 1</pre> message:</strong> ✅ It seems like you made an array.</p><p><strong><pre style='display: inline;'>task_13 - 2</pre> message:</strong> ✅ It seems like you have the correct values.</p>"
            ],
            "text/plain": [
              "task_13 results: All test cases passed!\n",
              "task_13 - 1 message: ✅ It seems like you made an array.\n",
              "task_13 - 2 message: ✅ It seems like you have the correct values."
            ]
          },
          "execution_count": 89,
          "metadata": {},
          "output_type": "execute_result"
        }
      ],
      "source": [
        "grader.check(\"task_13\")"
      ]
    },
    {
      "cell_type": "markdown",
      "metadata": {
        "id": "_Gp0gF8W94cJ"
      },
      "source": [
        "The function `np.sum` takes a single array of numbers as its argument.  It returns the sum of all the numbers in that array (so it returns a single number, not an array)."
      ]
    },
    {
      "cell_type": "markdown",
      "metadata": {
        "id": "CQuGEc7r94cJ"
      },
      "source": [
        "---"
      ]
    },
    {
      "cell_type": "markdown",
      "metadata": {
        "id": "GEkb_twn94cK"
      },
      "source": [
        "#### Task 14 📍"
      ]
    },
    {
      "cell_type": "markdown",
      "metadata": {
        "deletable": false,
        "editable": false,
        "id": "WpavFZYs94cK"
      },
      "source": [
        "What was the sum of all the bills in `more_restaurant_bills`, *including tips*?\n"
      ]
    },
    {
      "cell_type": "code",
      "execution_count": null,
      "metadata": {
        "tags": [],
        "id": "16OVYydc94cK",
        "outputId": "d32d65b4-1d20-4482-ca26-61b27e3a16f1"
      },
      "outputs": [
        {
          "data": {
            "text/plain": [
              "1795730.0640000193"
            ]
          },
          "execution_count": 92,
          "metadata": {},
          "output_type": "execute_result"
        }
      ],
      "source": [
        "sum_of_bills = sum(more_restaurant_bills*1.2)\n",
        "sum_of_bills"
      ]
    },
    {
      "cell_type": "code",
      "execution_count": null,
      "metadata": {
        "deletable": false,
        "editable": false,
        "id": "G0Zr4KaY94cK",
        "outputId": "37a9eded-a970-4be5-c9c6-74d57fa258c4"
      },
      "outputs": [
        {
          "data": {
            "text/html": [
              "<p><strong><pre style='display: inline;'>task_14</pre></strong> passed! 🎉</p><p><strong><pre style='display: inline;'>task_14 - 1</pre> message:</strong> ✅ It seems like you have the correct values.</p>"
            ],
            "text/plain": [
              "task_14 results: All test cases passed!\n",
              "task_14 - 1 message: ✅ It seems like you have the correct values."
            ]
          },
          "execution_count": 93,
          "metadata": {},
          "output_type": "execute_result"
        }
      ],
      "source": [
        "grader.check(\"task_14\")"
      ]
    },
    {
      "cell_type": "markdown",
      "metadata": {
        "id": "iW6ySml194cL"
      },
      "source": [
        "---"
      ]
    },
    {
      "cell_type": "markdown",
      "metadata": {
        "id": "rv-V2t7k94cL"
      },
      "source": [
        "#### Task 15 📍"
      ]
    },
    {
      "cell_type": "markdown",
      "metadata": {
        "deletable": false,
        "editable": false,
        "id": "pscxMvio94cL"
      },
      "source": [
        "The powers of 2 ($2^0 = 1$, $2^1 = 2$, $2^2 = 4$, etc) arise frequently in computer science.  (For example, you may have noticed that storage on smartphones or USBs come in powers of 2, like 16 GB, 32 GB, or 64 GB.)  \n",
        "\n",
        "Use the exponentiation operator `**` with `np.arange` to compute the first 30 powers of 2, starting from $2^0$ up to and including $2^{29}$.\n",
        "\n",
        "* *Hint 1:* `2 ** make_array(1, 2)` would produce the array `array([2, 4])`.\n",
        "* *Hint 2:* `np.arange(1, 2**30, 1)` creates an array with $2^{30}$ elements and **will crash your kernel**.\n",
        "\n"
      ]
    },
    {
      "cell_type": "code",
      "execution_count": null,
      "metadata": {
        "tags": [],
        "id": "cI2D6q0F94cL",
        "outputId": "c8211d91-da5c-4c4f-8a16-19d6bbba256b"
      },
      "outputs": [
        {
          "data": {
            "text/plain": [
              "array([        1,         2,         4,         8,        16,        32,\n",
              "              64,       128,       256,       512,      1024,      2048,\n",
              "            4096,      8192,     16384,     32768,     65536,    131072,\n",
              "          262144,    524288,   1048576,   2097152,   4194304,   8388608,\n",
              "        16777216,  33554432,  67108864, 134217728, 268435456, 536870912])"
            ]
          },
          "execution_count": 96,
          "metadata": {},
          "output_type": "execute_result"
        }
      ],
      "source": [
        "powers_of_2 = 2**np.arange(0,30,1)\n",
        "powers_of_2"
      ]
    },
    {
      "cell_type": "code",
      "execution_count": null,
      "metadata": {
        "deletable": false,
        "editable": false,
        "id": "WYHoxC3i94cM",
        "outputId": "6e14ff4b-fac8-4f9a-f397-cde5788197f3"
      },
      "outputs": [
        {
          "data": {
            "text/html": [
              "<p><strong><pre style='display: inline;'>task_15</pre></strong> passed! 🙌</p><p><strong><pre style='display: inline;'>task_15 - 1</pre> message:</strong> ✅ It seems like you have the correct values.</p>"
            ],
            "text/plain": [
              "task_15 results: All test cases passed!\n",
              "task_15 - 1 message: ✅ It seems like you have the correct values."
            ]
          },
          "execution_count": 97,
          "metadata": {},
          "output_type": "execute_result"
        }
      ],
      "source": [
        "grader.check(\"task_15\")"
      ]
    },
    {
      "cell_type": "markdown",
      "metadata": {
        "id": "qzIx0KbD94cM"
      },
      "source": [
        "---"
      ]
    },
    {
      "cell_type": "markdown",
      "metadata": {
        "id": "VJgJyIeO94cM"
      },
      "source": [
        "## Submit Your Assignment to Canvas"
      ]
    },
    {
      "cell_type": "markdown",
      "metadata": {
        "jp-MarkdownHeadingCollapsed": true,
        "id": "k926nasf94cM"
      },
      "source": [
        "Follow these steps to submit your lab assignment:\n",
        "\n",
        "1. **Check the Assignment Completion Requirements:** This assignment is scored as Complete or Incomplete. Make sure to check with your instructor about their requirements for a Complete score.\n",
        "2. **Run the Auto-Grader:** Ensure you have executed the code cell containing the command `grader.check_all()` to run all tests for auto-graded tasks marked with 📍. This command will execute all auto-grader tests sequentially.\n",
        "3. **Complete Manually Graded Tasks:** Verify that you have responded to all the manually graded tasks marked with 📍🔎.\n",
        "4. **Save Your Work:** In the notebook's Toolbar, go to `File -> Save Notebook` to save your work and create a checkpoint.\n",
        "5. **Download the Notebook:** In the notebook's Toolbar, go to `File -> Download HTML` to download the HTML version (`.html`) of this notebook.\n",
        "6. **Upload to Canvas:** On the Canvas Assignment page, click \"Start Assignment\" or \"New Attempt\" to upload the downloaded `.html` file."
      ]
    },
    {
      "cell_type": "markdown",
      "metadata": {
        "id": "kmA88q2I94cN"
      },
      "source": [
        "---"
      ]
    },
    {
      "cell_type": "markdown",
      "metadata": {
        "editable": true,
        "tags": [],
        "id": "QR3b6JTp94cN"
      },
      "source": [
        "## Attribution"
      ]
    },
    {
      "cell_type": "markdown",
      "metadata": {
        "id": "8WrthXoH94cN"
      },
      "source": [
        "This content is licensed under the <a href=\"https://creativecommons.org/licenses/by-nc-sa/4.0/\">Creative Commons Attribution-NonCommercial-ShareAlike 4.0 International License (CC BY-NC-SA 4.0)</a> and derived from the <a href=\"https://www.data8.org/\">Data 8: The Foundations of Data Science</a> offered by the University of California, Berkeley.\n",
        "\n",
        "<img src=\"./by-nc-sa.png\" width=100px>"
      ]
    },
    {
      "cell_type": "markdown",
      "metadata": {
        "deletable": false,
        "editable": false,
        "id": "dNY2KdIW94cN"
      },
      "source": [
        "---\n",
        "\n",
        "To double-check your work, the cell below will rerun all of the autograder tests."
      ]
    },
    {
      "cell_type": "code",
      "execution_count": null,
      "metadata": {
        "deletable": false,
        "editable": false,
        "id": "O0RJeob594cO",
        "outputId": "63f59de2-3513-40bd-eb1c-a5eaf8c1f68c"
      },
      "outputs": [
        {
          "data": {
            "text/plain": [
              "task_01 results: All test cases passed!\n",
              "task_01 - 1 message: ✅ Great work running an assignment statement with the name max_value.\n",
              "task_01 - 2 message: ✅ Great work! Hopefully, you were able to utilize the max and abs functions.\n",
              "\n",
              "task_02 results: All test cases passed!\n",
              "task_02 - 1 message: ✅ It seems like you have the correct string.\n",
              "task_02 - 2 message: ✅ It seems like you have the correct string.\n",
              "\n",
              "task_03 results: All test cases passed!\n",
              "task_03 - 1 message: ✅ It seems like you have the correct string.\n",
              "\n",
              "task_04 results: All test cases passed!\n",
              "task_04 - 1 message: ✅ It seems like you have the correct value.\n",
              "\n",
              "task_05 results: All test cases passed!\n",
              "task_05 - 1 message: ✅ That seems correct!\n",
              "\n",
              "task_06 results: All test cases passed!\n",
              "task_06 - 1 message: ✅ Great work running the cell above that imports the math module.\n",
              "task_06 - 2 message: ✅ Great work. It seems you have correct value.\n",
              "\n",
              "task_07 results: All test cases passed!\n",
              "task_07 - 1 message: ✅ Great work. It seems you have correct value.\n",
              "\n",
              "task_08 results: All test cases passed!\n",
              "task_08 - 1 message: ✅ It seems like you made an array.\n",
              "task_08 - 2 message: ✅ You have the correct number of values.\n",
              "task_08 - 3 message: ✅ It seems like you have the correct values.\n",
              "\n",
              "task_09 results: All test cases passed!\n",
              "task_09 - 1 message: ✅ It seems like you made an array.\n",
              "task_09 - 2 message: ✅ You have the correct number of values.\n",
              "task_09 - 3 message: ✅ It looks like your array contains the blank space!\n",
              "task_09 - 4 message: ✅ It seems like you have the correct values.\n",
              "\n",
              "task_10 results: All test cases passed!\n",
              "task_10 - 1 message: ✅ It seems like you made an array.\n",
              "task_10 - 2 message: ✅ You have the correct number of values.\n",
              "task_10 - 3 message: ✅ It seems like you have the correct values.\n",
              "\n",
              "task_11 results: All test cases passed!\n",
              "task_11 - 1 message: ✅ It seems like you used the .item method.\n",
              "task_11 - 2 message: ✅ You have the correct value.\n",
              "\n",
              "task_12 results: All test cases passed!\n",
              "task_12 - 1 message: ✅ It seems like you made an array.\n",
              "task_12 - 2 message: ✅ It seems like you have the correct values.\n",
              "\n",
              "task_13 results: All test cases passed!\n",
              "task_13 - 1 message: ✅ It seems like you made an array.\n",
              "task_13 - 2 message: ✅ It seems like you have the correct values.\n",
              "\n",
              "task_14 results: All test cases passed!\n",
              "task_14 - 1 message: ✅ It seems like you have the correct values.\n",
              "\n",
              "task_15 results: All test cases passed!\n",
              "task_15 - 1 message: ✅ It seems like you have the correct values."
            ]
          },
          "execution_count": 98,
          "metadata": {},
          "output_type": "execute_result"
        }
      ],
      "source": [
        "grader.check_all()"
      ]
    },
    {
      "cell_type": "code",
      "execution_count": null,
      "metadata": {
        "id": "yCxnaBIu94cO"
      },
      "outputs": [],
      "source": []
    }
  ],
  "metadata": {
    "hide_input": false,
    "kernelspec": {
      "display_name": "Python 3 (ipykernel)",
      "language": "python",
      "name": "python3"
    },
    "language_info": {
      "codemirror_mode": {
        "name": "ipython",
        "version": 3
      },
      "file_extension": ".py",
      "mimetype": "text/x-python",
      "name": "python",
      "nbconvert_exporter": "python",
      "pygments_lexer": "ipython3",
      "version": "3.11.9"
    },
    "otter": {
      "OK_FORMAT": true,
      "assignment_name": "lab02_sp25",
      "tests": {
        "task_01": {
          "name": "task_01",
          "points": null,
          "suites": [
            {
              "cases": [
                {
                  "code": ">>> max_value != ...\nTrue",
                  "failure_message": "❌ It doesn't seem that you replaced ... in the assignment statement.",
                  "hidden": false,
                  "locked": false,
                  "success_message": "✅ Great work running an assignment statement with the name max_value."
                },
                {
                  "code": ">>> max_value == 2025\nTrue",
                  "failure_message": "❌ It doesn't seem that you have the correct value. Double-check your expressions, make sure to use the abs function for 1., and consider using the max function with 2 inputs to get your overall value.",
                  "hidden": false,
                  "locked": false,
                  "success_message": "✅ Great work! Hopefully, you were able to utilize the max and abs functions."
                }
              ],
              "scored": true,
              "setup": "",
              "teardown": "",
              "type": "doctest"
            }
          ]
        },
        "task_02": {
          "name": "task_02",
          "points": null,
          "suites": [
            {
              "cases": [
                {
                  "code": ">>> woman_asking == 'The woman asked:'\nTrue",
                  "failure_message": "❌ It doesn't seem like you have the correct string. The print commands adds a space between the strings you provide as input.",
                  "hidden": false,
                  "locked": false,
                  "points": 1,
                  "success_message": "✅ It seems like you have the correct string."
                },
                {
                  "code": ">>> gagarin_quote == '\"As a matter of fact, I have!\"'\nTrue",
                  "failure_message": "❌ You'll need to use two different types of quotes, so you can use quotes within a string.",
                  "hidden": false,
                  "locked": false,
                  "points": 1,
                  "success_message": "✅ It seems like you have the correct string."
                }
              ],
              "scored": true,
              "setup": "",
              "teardown": "",
              "type": "doctest"
            }
          ]
        },
        "task_03": {
          "name": "task_03",
          "points": null,
          "suites": [
            {
              "cases": [
                {
                  "code": ">>> new_word == 'matchmaker'\nTrue",
                  "failure_message": "❌ Start with 'hitchhiker' and use .replace() after that.",
                  "hidden": false,
                  "locked": false,
                  "points": 1,
                  "success_message": "✅ It seems like you have the correct string."
                }
              ],
              "scored": true,
              "setup": "",
              "teardown": "",
              "type": "doctest"
            }
          ]
        },
        "task_04": {
          "name": "task_04",
          "points": null,
          "suites": [
            {
              "cases": [
                {
                  "code": ">>> abs(difference) == 30 or round(abs(difference), 1) == 30.0\nTrue",
                  "failure_message": "❌ You'll need to convert the strings to numbers. Try using the int() function to convert the strings to integers, so you can subtract the values.",
                  "hidden": false,
                  "locked": false,
                  "points": 1,
                  "success_message": "✅ It seems like you have the correct value."
                }
              ],
              "scored": true,
              "setup": "",
              "teardown": "",
              "type": "doctest"
            }
          ]
        },
        "task_05": {
          "name": "task_05",
          "points": null,
          "suites": [
            {
              "cases": [
                {
                  "code": ">>> sentence_length == 896\nTrue",
                  "failure_message": "❌ Try using len() with the string as the argument.",
                  "hidden": false,
                  "locked": false,
                  "points": 1,
                  "success_message": "✅ That seems correct!"
                }
              ],
              "scored": true,
              "setup": "",
              "teardown": "",
              "type": "doctest"
            }
          ]
        },
        "task_06": {
          "name": "task_06",
          "points": null,
          "suites": [
            {
              "cases": [
                {
                  "code": ">>> import sys\n>>> 'math' in sys.modules\nTrue",
                  "failure_message": "❌ It doesn't seem that you have imported the math module. Make sure to run the cell above that contains the code: import math.",
                  "hidden": false,
                  "locked": false,
                  "success_message": "✅ Great work running the cell above that imports the math module."
                },
                {
                  "code": ">>> near_twenty != ... and round(near_twenty, 8) == 19.99909998\nTrue",
                  "failure_message": "❌ It doesn't seem that you have the correct value. Make sure you are using math.pi and math.e in your expression.",
                  "hidden": false,
                  "locked": false,
                  "success_message": "✅ Great work. It seems you have correct value."
                }
              ],
              "scored": true,
              "setup": "",
              "teardown": "",
              "type": "doctest"
            }
          ]
        },
        "task_07": {
          "name": "task_07",
          "points": null,
          "suites": [
            {
              "cases": [
                {
                  "code": ">>> import math\n>>> square_root_of_pi != ... and round(square_root_of_pi, 8) == 1.77245385\nTrue",
                  "failure_message": "❌ It doesn't seem that you have the correct value. Make sure you are using math.pi and math.sqrt or the exponent (1/2) in your expression.",
                  "hidden": false,
                  "locked": false,
                  "success_message": "✅ Great work. It seems you have correct value."
                }
              ],
              "scored": true,
              "setup": "",
              "teardown": "",
              "type": "doctest"
            }
          ]
        },
        "task_08": {
          "name": "task_08",
          "points": null,
          "suites": [
            {
              "cases": [
                {
                  "code": ">>> type(interesting_numbers) == np.ndarray\nTrue",
                  "failure_message": "❌ You need to make an array. Try using the function make_array.",
                  "hidden": false,
                  "locked": false,
                  "points": 1,
                  "success_message": "✅ It seems like you made an array."
                },
                {
                  "code": ">>> len(interesting_numbers) == 5\nTrue",
                  "failure_message": "❌ It seems like you missed some of the values, you should have 5.",
                  "hidden": false,
                  "locked": false,
                  "points": 1,
                  "success_message": "✅ You have the correct number of values."
                },
                {
                  "code": ">>> all(interesting_numbers == np.array([0, 1, -1, math.pi, math.e]))\nTrue",
                  "failure_message": "❌ You don't seem to have the correct values. Don't forgot that pi and e are part of the math module.",
                  "hidden": false,
                  "locked": false,
                  "points": 1,
                  "success_message": "✅ It seems like you have the correct values."
                }
              ],
              "scored": true,
              "setup": "",
              "teardown": "",
              "type": "doctest"
            }
          ]
        },
        "task_09": {
          "name": "task_09",
          "points": null,
          "suites": [
            {
              "cases": [
                {
                  "code": ">>> type(hello_world_components) == np.ndarray\nTrue",
                  "failure_message": "❌ You need to make an array. Try using the function make_array.",
                  "hidden": false,
                  "locked": false,
                  "points": 1,
                  "success_message": "✅ It seems like you made an array."
                },
                {
                  "code": ">>> len(hello_world_components) == 5\nTrue",
                  "failure_message": "❌ It seems like you missed some of the values, you should have 5.",
                  "hidden": false,
                  "locked": false,
                  "points": 1,
                  "success_message": "✅ You have the correct number of values."
                },
                {
                  "code": ">>> ' ' in hello_world_components\nTrue",
                  "failure_message": "❌ It seems like you did not use a blank space in your string. Use \" \" instead of \"\".",
                  "hidden": false,
                  "locked": false,
                  "points": 1,
                  "success_message": "✅ It looks like your array contains the blank space!"
                },
                {
                  "code": ">>> all(hello_world_components == np.array(['Hello', ',', ' ', 'world', '!']))\nTrue",
                  "failure_message": "❌ You don't seem to have the correct values.",
                  "hidden": false,
                  "locked": false,
                  "points": 1,
                  "success_message": "✅ It seems like you have the correct values."
                }
              ],
              "scored": true,
              "setup": "",
              "teardown": "",
              "type": "doctest"
            }
          ]
        },
        "task_10": {
          "name": "task_10",
          "points": null,
          "suites": [
            {
              "cases": [
                {
                  "code": ">>> type(multiples_of_99) == np.ndarray\nTrue",
                  "failure_message": "❌ You need to make an array. Try using the function make_array.",
                  "hidden": false,
                  "locked": false,
                  "points": 1,
                  "success_message": "✅ It seems like you made an array."
                },
                {
                  "code": ">>> len(multiples_of_99) == 102\nTrue",
                  "failure_message": "❌ It seems like you missed some of the values, you should have 5.",
                  "hidden": false,
                  "locked": false,
                  "points": 1,
                  "success_message": "✅ You have the correct number of values."
                },
                {
                  "code": ">>> all(multiples_of_99 == np.arange(0, 9999 + 99, 99))\nTrue",
                  "failure_message": "❌ You don't seem to have the correct values. Don't forgot that pi and e are part of the math module.",
                  "hidden": false,
                  "locked": false,
                  "points": 1,
                  "success_message": "✅ It seems like you have the correct values."
                }
              ],
              "scored": true,
              "setup": "",
              "teardown": "",
              "type": "doctest"
            }
          ]
        },
        "task_11": {
          "name": "task_11",
          "points": null,
          "suites": [
            {
              "cases": [
                {
                  "code": ">>> not isinstance(population_1973, np.int64)\nTrue",
                  "failure_message": "❌ It doesn't seem that you used the .item method. Maybe you used the bracket notation. Try using .item() after the array name using the correct index.",
                  "hidden": false,
                  "locked": false,
                  "points": 1,
                  "success_message": "✅ It seems like you used the .item method."
                },
                {
                  "code": ">>> population_1973 == 3942096442\nTrue",
                  "failure_message": "❌ It doesn't seem that you have the correct value. Try using .item() after the array name using the correct index. You might be off by 1 on the index.",
                  "hidden": false,
                  "locked": false,
                  "points": 1,
                  "success_message": "✅ You have the correct value."
                }
              ],
              "scored": true,
              "setup": "",
              "teardown": "",
              "type": "doctest"
            }
          ]
        },
        "task_12": {
          "name": "task_12",
          "points": null,
          "suites": [
            {
              "cases": [
                {
                  "code": ">>> type(population_magnitudes) == np.ndarray\nTrue",
                  "failure_message": "❌ You need to make an array. Try using the function make_array.",
                  "hidden": false,
                  "locked": false,
                  "points": 1,
                  "success_message": "✅ It seems like you made an array."
                },
                {
                  "code": ">>> sum(abs(population_magnitudes - np.log10(population_amounts))) < 1e-06\nTrue",
                  "failure_message": "❌ You don't seem to have the correct values. Make sure you are using np.log10",
                  "hidden": false,
                  "locked": false,
                  "points": 1,
                  "success_message": "✅ It seems like you have the correct values."
                }
              ],
              "scored": true,
              "setup": "",
              "teardown": "",
              "type": "doctest"
            }
          ]
        },
        "task_13": {
          "name": "task_13",
          "points": null,
          "suites": [
            {
              "cases": [
                {
                  "code": ">>> type(more_total_charges) == np.ndarray\nTrue",
                  "failure_message": "❌ You need to make an array. Try using the function make_array.",
                  "hidden": false,
                  "locked": false,
                  "points": 1,
                  "success_message": "✅ It seems like you made an array."
                },
                {
                  "code": ">>> sum(abs(more_total_charges - 1.2 * more_restaurant_bills)) < 1e-06\nTrue",
                  "failure_message": "❌ You don't seem to have the correct values. Try multiplying the array by 1.2",
                  "hidden": false,
                  "locked": false,
                  "points": 1,
                  "success_message": "✅ It seems like you have the correct values."
                }
              ],
              "scored": true,
              "setup": "",
              "teardown": "",
              "type": "doctest"
            }
          ]
        },
        "task_14": {
          "name": "task_14",
          "points": null,
          "suites": [
            {
              "cases": [
                {
                  "code": ">>> round(sum_of_bills, 2) == 1795730.06\nTrue",
                  "failure_message": "❌ You don't seem to have the correct values. Try using the sum function.",
                  "hidden": false,
                  "locked": false,
                  "points": 1,
                  "success_message": "✅ It seems like you have the correct values."
                }
              ],
              "scored": true,
              "setup": "",
              "teardown": "",
              "type": "doctest"
            }
          ]
        },
        "task_15": {
          "name": "task_15",
          "points": null,
          "suites": [
            {
              "cases": [
                {
                  "code": ">>> all(powers_of_2 == 2 ** np.arange(30))\nTrue",
                  "failure_message": "❌ You don't seem to have the correct values. Try evaluating 2 with an exponent that is an array of values.",
                  "hidden": false,
                  "locked": false,
                  "points": 1,
                  "success_message": "✅ It seems like you have the correct values."
                }
              ],
              "scored": true,
              "setup": "",
              "teardown": "",
              "type": "doctest"
            }
          ]
        }
      }
    },
    "toc-autonumbering": false,
    "toc-showmarkdowntxt": false,
    "colab": {
      "provenance": [],
      "include_colab_link": true
    }
  },
  "nbformat": 4,
  "nbformat_minor": 0
}