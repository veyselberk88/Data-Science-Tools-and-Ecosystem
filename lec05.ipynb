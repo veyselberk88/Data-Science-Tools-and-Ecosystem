{
  "cells": [
    {
      "cell_type": "markdown",
      "metadata": {
        "id": "view-in-github",
        "colab_type": "text"
      },
      "source": [
        "<a href=\"https://colab.research.google.com/github/veyselberk88/Data-Science-Tools-and-Ecosystem/blob/main/lec05.ipynb\" target=\"_parent\"><img src=\"https://colab.research.google.com/assets/colab-badge.svg\" alt=\"Open In Colab\"/></a>"
      ]
    },
    {
      "cell_type": "markdown",
      "id": "f2c57170-09dd-4b17-8225-b6e88230cb99",
      "metadata": {
        "id": "f2c57170-09dd-4b17-8225-b6e88230cb99"
      },
      "source": [
        "<img src=\"./ccsf.png\" alt=\"CCSF Logo\" width=200px style=\"margin:0px -5px\">"
      ]
    },
    {
      "cell_type": "markdown",
      "id": "337b7645-bb08-456f-8ce2-7ff59bb5ca37",
      "metadata": {
        "id": "337b7645-bb08-456f-8ce2-7ff59bb5ca37"
      },
      "source": [
        "# Lecture 05: Sequences"
      ]
    },
    {
      "cell_type": "markdown",
      "id": "b9e32f76-b2bf-4f09-89f0-4f423a96958d",
      "metadata": {
        "id": "b9e32f76-b2bf-4f09-89f0-4f423a96958d"
      },
      "source": [
        "Associated Textbook Sections: [5.0, 5.1, 5.2, 5.3](https://ccsf-math-108.github.io/textbook/chapters/05/Sequences.html)"
      ]
    },
    {
      "cell_type": "markdown",
      "id": "8ab0a1c9-34e7-4182-9360-d05c6c810b22",
      "metadata": {
        "id": "8ab0a1c9-34e7-4182-9360-d05c6c810b22"
      },
      "source": [
        "---"
      ]
    },
    {
      "cell_type": "markdown",
      "id": "ab6fd3da-3e53-477c-9326-7bd557fcd0f9",
      "metadata": {
        "editable": true,
        "tags": [],
        "id": "ab6fd3da-3e53-477c-9326-7bd557fcd0f9"
      },
      "source": [
        "## Overview\n",
        "\n",
        "* [Sequences](#Sequences)\n",
        "* [Beyond the Python Library](#Beyond-the-Python-Library)\n",
        "* [Arrays](#Arrays)\n",
        "* [Indexing Sequences](#Indexing-Sequences)\n",
        "* [NumPy](#NumPy)"
      ]
    },
    {
      "cell_type": "markdown",
      "id": "588833d3-8465-4d4d-8ab1-ea4a4a8190df",
      "metadata": {
        "editable": true,
        "tags": [],
        "id": "588833d3-8465-4d4d-8ab1-ea4a4a8190df"
      },
      "source": [
        "## Set Up the Notebook"
      ]
    },
    {
      "cell_type": "code",
      "execution_count": null,
      "id": "6aa93b15-898f-4c05-95bc-326343a847fb",
      "metadata": {
        "editable": true,
        "tags": [],
        "id": "6aa93b15-898f-4c05-95bc-326343a847fb"
      },
      "outputs": [],
      "source": [
        "from datascience import *\n",
        "import numpy as np"
      ]
    },
    {
      "cell_type": "markdown",
      "id": "5c92e945-6912-40b5-ac81-f91cb418f55a",
      "metadata": {
        "id": "5c92e945-6912-40b5-ac81-f91cb418f55a"
      },
      "source": [
        "---"
      ]
    },
    {
      "cell_type": "markdown",
      "id": "be50dde5-de00-46fb-9052-801d532055c8",
      "metadata": {
        "id": "be50dde5-de00-46fb-9052-801d532055c8"
      },
      "source": [
        "## Sequences"
      ]
    },
    {
      "cell_type": "markdown",
      "id": "73a019f5-28c3-4ac1-a5b7-d18fb01d69fd",
      "metadata": {
        "editable": true,
        "tags": [],
        "id": "73a019f5-28c3-4ac1-a5b7-d18fb01d69fd"
      },
      "source": [
        "A sequenced data type represents an ordered collection\n",
        "\n",
        "<img src=\"./sequence_blocks.png\"  alt=\"A sequence visualized a collection of blocks\" width = 40%>\n"
      ]
    },
    {
      "cell_type": "markdown",
      "id": "96c09536-5625-41ca-b8f4-d3334bf4d497",
      "metadata": {
        "id": "96c09536-5625-41ca-b8f4-d3334bf4d497"
      },
      "source": [
        "---"
      ]
    },
    {
      "cell_type": "markdown",
      "id": "064f52a0-83c4-4fb8-a73b-4d4344cd2ecb",
      "metadata": {
        "editable": true,
        "tags": [],
        "id": "064f52a0-83c4-4fb8-a73b-4d4344cd2ecb"
      },
      "source": [
        "### Built-In Sequence Data Types"
      ]
    },
    {
      "cell_type": "markdown",
      "id": "47f34bd7-da6b-44f1-abe4-d0228df7989f",
      "metadata": {
        "editable": true,
        "tags": [],
        "id": "47f34bd7-da6b-44f1-abe4-d0228df7989f"
      },
      "source": [
        "There are several built-in sequence data types in Python such as:\n",
        "*  Strings (`str`):\n",
        "    * A text sequence of characters\n",
        "    * `\"data science\"`\n",
        "*  Lists (`list`):\n",
        "    * A sequence of a mixture of data types\n",
        "    *  `['a', 1, max]`\n",
        "*  Ranges (`range`):\n",
        "    * A sequence of numbers\n",
        "    * `range(10)`"
      ]
    },
    {
      "cell_type": "markdown",
      "id": "73cac5de-605d-4780-b5d5-1f5168709800",
      "metadata": {
        "id": "73cac5de-605d-4780-b5d5-1f5168709800"
      },
      "source": [
        "---"
      ]
    },
    {
      "cell_type": "markdown",
      "id": "57b4893f-2de8-4b65-881e-4bc32401fcb2",
      "metadata": {
        "editable": true,
        "tags": [],
        "id": "57b4893f-2de8-4b65-881e-4bc32401fcb2"
      },
      "source": [
        "### Demo: Built-In Sequence Types"
      ]
    },
    {
      "cell_type": "markdown",
      "id": "9c99bbdc-5b91-4dfc-b053-99588d548482",
      "metadata": {
        "deletable": false,
        "editable": false,
        "tags": [],
        "id": "9c99bbdc-5b91-4dfc-b053-99588d548482"
      },
      "source": [
        "Create a string and notice the length of a string includes the blank space."
      ]
    },
    {
      "cell_type": "code",
      "execution_count": null,
      "id": "eced5051-8e5b-4f75-a4eb-4fc920722d7c",
      "metadata": {
        "editable": true,
        "tags": [],
        "id": "eced5051-8e5b-4f75-a4eb-4fc920722d7c",
        "outputId": "876540de-bc88-45c4-c718-f5635c7561b3"
      },
      "outputs": [
        {
          "data": {
            "text/plain": [
              "'data science'"
            ]
          },
          "execution_count": 2,
          "metadata": {},
          "output_type": "execute_result"
        }
      ],
      "source": [
        "a_string = \"data science\"\n",
        "a_string"
      ]
    },
    {
      "cell_type": "code",
      "execution_count": null,
      "id": "b7d2a648-a422-47ec-bbfd-f80dfef579f2",
      "metadata": {
        "editable": true,
        "tags": [],
        "id": "b7d2a648-a422-47ec-bbfd-f80dfef579f2",
        "outputId": "bacc0c6a-0478-4b21-b066-a72e7c3b6e04"
      },
      "outputs": [
        {
          "data": {
            "text/plain": [
              "12"
            ]
          },
          "execution_count": 3,
          "metadata": {},
          "output_type": "execute_result"
        }
      ],
      "source": [
        "len(a_string)"
      ]
    },
    {
      "cell_type": "markdown",
      "id": "35734b1f-49d9-4184-b9a5-5e997b7ef4bf",
      "metadata": {
        "id": "35734b1f-49d9-4184-b9a5-5e997b7ef4bf"
      },
      "source": [
        "---"
      ]
    },
    {
      "cell_type": "markdown",
      "id": "db1ffdf3-e2d7-4ae8-858b-5fea2e5cf44c",
      "metadata": {
        "deletable": false,
        "editable": false,
        "id": "db1ffdf3-e2d7-4ae8-858b-5fea2e5cf44c"
      },
      "source": [
        "Create a list, notice it contains a mixture of data types, and check it's length"
      ]
    },
    {
      "cell_type": "code",
      "execution_count": null,
      "id": "0902c4e5-c1f3-4f43-86d4-a5194bd0a34c",
      "metadata": {
        "tags": [],
        "id": "0902c4e5-c1f3-4f43-86d4-a5194bd0a34c",
        "outputId": "3e3a749a-ba8a-4e96-abbc-524a248702ac"
      },
      "outputs": [
        {
          "data": {
            "text/plain": [
              "['a', 2, <function max>]"
            ]
          },
          "execution_count": 4,
          "metadata": {},
          "output_type": "execute_result"
        }
      ],
      "source": [
        "a_list = [\"a\",2,max]\n",
        "a_list"
      ]
    },
    {
      "cell_type": "code",
      "execution_count": null,
      "id": "a5fedab6-55e3-4c7f-a98e-c9a33d983f36",
      "metadata": {
        "editable": true,
        "tags": [],
        "id": "a5fedab6-55e3-4c7f-a98e-c9a33d983f36",
        "outputId": "3e5d99d8-b5cc-44fb-9e8a-35a71cce51c5"
      },
      "outputs": [
        {
          "data": {
            "text/plain": [
              "3"
            ]
          },
          "execution_count": 5,
          "metadata": {},
          "output_type": "execute_result"
        }
      ],
      "source": [
        "len(a_list)"
      ]
    },
    {
      "cell_type": "code",
      "execution_count": null,
      "id": "8c101c8a-bbff-4989-98e7-d64d70410fa2",
      "metadata": {
        "tags": [],
        "id": "8c101c8a-bbff-4989-98e7-d64d70410fa2",
        "outputId": "d0208389-c0bf-4558-c7bc-5c56a470caae"
      },
      "outputs": [
        {
          "data": {
            "text/plain": [
              "list"
            ]
          },
          "execution_count": 6,
          "metadata": {},
          "output_type": "execute_result"
        }
      ],
      "source": [
        "type(a_list)"
      ]
    },
    {
      "cell_type": "markdown",
      "id": "e62302be-6113-4a63-9def-b2479699f58e",
      "metadata": {
        "id": "e62302be-6113-4a63-9def-b2479699f58e"
      },
      "source": [
        "---"
      ]
    },
    {
      "cell_type": "markdown",
      "id": "21b8f123-851a-45eb-b5f9-9a314fb307c2",
      "metadata": {
        "deletable": false,
        "editable": false,
        "id": "21b8f123-851a-45eb-b5f9-9a314fb307c2"
      },
      "source": [
        "Create a range from 0 up to (but not including) 10."
      ]
    },
    {
      "cell_type": "code",
      "execution_count": null,
      "id": "cb2f3df0-7669-4619-acd8-3f93a4e631d7",
      "metadata": {
        "tags": [],
        "id": "cb2f3df0-7669-4619-acd8-3f93a4e631d7",
        "outputId": "46274e77-d122-4cf3-8e77-b3dba5d52723"
      },
      "outputs": [
        {
          "data": {
            "text/plain": [
              "range(0, 10)"
            ]
          },
          "execution_count": 7,
          "metadata": {},
          "output_type": "execute_result"
        }
      ],
      "source": [
        "a_range = range(10)\n",
        "a_range"
      ]
    },
    {
      "cell_type": "code",
      "execution_count": null,
      "id": "c81d8a45-aede-49e9-94dc-b79c29f95654",
      "metadata": {
        "tags": [],
        "id": "c81d8a45-aede-49e9-94dc-b79c29f95654",
        "outputId": "a3b19be5-3f74-4ec4-96d0-3b4f89c8a557"
      },
      "outputs": [
        {
          "data": {
            "text/plain": [
              "[0, 1, 2, 3, 4, 5, 6, 7, 8, 9]"
            ]
          },
          "execution_count": 8,
          "metadata": {},
          "output_type": "execute_result"
        }
      ],
      "source": [
        "list(a_range)"
      ]
    },
    {
      "cell_type": "code",
      "execution_count": null,
      "id": "b141a63c-c4c4-4cdf-9eb7-67e202b4179e",
      "metadata": {
        "tags": [],
        "id": "b141a63c-c4c4-4cdf-9eb7-67e202b4179e",
        "outputId": "2482b216-5702-4791-9866-2fce102632fc"
      },
      "outputs": [
        {
          "data": {
            "text/plain": [
              "10"
            ]
          },
          "execution_count": 9,
          "metadata": {},
          "output_type": "execute_result"
        }
      ],
      "source": [
        "len(a_range)"
      ]
    },
    {
      "cell_type": "markdown",
      "id": "aee8e394-99f2-4901-89fa-9edd59ab9041",
      "metadata": {
        "id": "aee8e394-99f2-4901-89fa-9edd59ab9041"
      },
      "source": [
        "---"
      ]
    },
    {
      "cell_type": "markdown",
      "id": "66ea04b1-a3a4-48a6-873d-40ceb8731514",
      "metadata": {
        "deletable": false,
        "editable": false,
        "id": "66ea04b1-a3a4-48a6-873d-40ceb8731514"
      },
      "source": [
        "Convert the range to a list to see the items."
      ]
    },
    {
      "cell_type": "code",
      "execution_count": null,
      "id": "758cf7df-28ff-4e48-a05a-2a7056416512",
      "metadata": {
        "editable": true,
        "tags": [],
        "id": "758cf7df-28ff-4e48-a05a-2a7056416512"
      },
      "outputs": [],
      "source": [
        "..."
      ]
    },
    {
      "cell_type": "markdown",
      "id": "270a044b-f21b-42b5-8547-9471fb50d8e2",
      "metadata": {
        "id": "270a044b-f21b-42b5-8547-9471fb50d8e2"
      },
      "source": [
        "---"
      ]
    },
    {
      "cell_type": "markdown",
      "id": "2cd30c1f-1824-41f2-9245-769375dad549",
      "metadata": {
        "id": "2cd30c1f-1824-41f2-9245-769375dad549"
      },
      "source": [
        "## Beyond the Python Library"
      ]
    },
    {
      "cell_type": "markdown",
      "id": "516e7505-3efa-47b1-b30e-a5dc65dd1065",
      "metadata": {
        "id": "516e7505-3efa-47b1-b30e-a5dc65dd1065"
      },
      "source": [
        "### Modules, Libraries, and Packages"
      ]
    },
    {
      "cell_type": "markdown",
      "id": "80d208f1-214f-4d2f-ad09-093e4a66a3da",
      "metadata": {
        "editable": true,
        "tags": [],
        "id": "80d208f1-214f-4d2f-ad09-093e4a66a3da"
      },
      "source": [
        "* Modules, libraries, and packages are collections of Python code\n",
        "    * Python has a built-in module called `math` that contains a collection of mathematical functions and values\n",
        "    * `datascience` is a package written by staff at UC Berkeley for this course\n",
        "    * `Matplotlib` is a standard data visualization library\n",
        "* The `import` command is a way to load modules, libraries, and packages into the coding environment\n",
        "    * `from datascience import *` imports everything from the `datascience` package\n",
        "    * `import numpy as np` imports the NumPy package and provides it with the common shorter name (alias) `np`"
      ]
    },
    {
      "cell_type": "markdown",
      "id": "871e653a-a09a-41ca-a810-38801f23d273",
      "metadata": {
        "id": "871e653a-a09a-41ca-a810-38801f23d273"
      },
      "source": [
        "---"
      ]
    },
    {
      "cell_type": "markdown",
      "id": "44a2d622-f75b-40c0-b0f6-cfe09b4c6d58",
      "metadata": {
        "id": "44a2d622-f75b-40c0-b0f6-cfe09b4c6d58"
      },
      "source": [
        "## Arrays"
      ]
    },
    {
      "cell_type": "markdown",
      "id": "b9b0eaae-85fd-4e64-aefe-3a7fd62b7081",
      "metadata": {
        "id": "b9b0eaae-85fd-4e64-aefe-3a7fd62b7081"
      },
      "source": [
        "---"
      ]
    },
    {
      "cell_type": "markdown",
      "id": "b6a41cdf-b734-481e-9929-99436a0a9fa7",
      "metadata": {
        "id": "b6a41cdf-b734-481e-9929-99436a0a9fa7"
      },
      "source": [
        "### Arrays"
      ]
    },
    {
      "cell_type": "markdown",
      "id": "dd675932-4456-4dca-b112-20db9b02ed8d",
      "metadata": {
        "editable": true,
        "tags": [],
        "id": "dd675932-4456-4dca-b112-20db9b02ed8d"
      },
      "source": [
        "* An array (`numpy.ndarray`) is a sequenced type from the `NumPy` package\n",
        "* All elements in an array have the same data type\n",
        "* Math operations work on each element of the array separately\n",
        "* When adding arrays, elements are added one by one (if they have the same length)\n",
        "* They're better than lists for handling big datasets efficiently\n",
        "* We'll frequently use arrays instead of lists in this course\n",
        "* You can make an array with the `make_array` function from the `datascience` package"
      ]
    },
    {
      "cell_type": "markdown",
      "id": "00020733-f2f2-4542-96a6-94d95cc24b3f",
      "metadata": {
        "id": "00020733-f2f2-4542-96a6-94d95cc24b3f"
      },
      "source": [
        "---"
      ]
    },
    {
      "cell_type": "markdown",
      "id": "4cc5521b-dccc-4ea2-812d-93bee239eee2",
      "metadata": {
        "editable": true,
        "tags": [],
        "id": "4cc5521b-dccc-4ea2-812d-93bee239eee2"
      },
      "source": [
        "### Demo: Arrays"
      ]
    },
    {
      "cell_type": "markdown",
      "id": "ea134992-9435-4880-92ce-afb4cbfcd64b",
      "metadata": {
        "deletable": false,
        "editable": false,
        "id": "ea134992-9435-4880-92ce-afb4cbfcd64b"
      },
      "source": [
        "Create an array using `make_array`."
      ]
    },
    {
      "cell_type": "code",
      "execution_count": null,
      "id": "51e6768a-9aa4-4a8e-89a6-abac28af0576",
      "metadata": {
        "editable": true,
        "tags": [],
        "id": "51e6768a-9aa4-4a8e-89a6-abac28af0576",
        "outputId": "2e6c72d1-74b6-41ab-85ad-64c154b6666b"
      },
      "outputs": [
        {
          "data": {
            "text/plain": [
              "array([1, 2, 3, 4])"
            ]
          },
          "execution_count": 10,
          "metadata": {},
          "output_type": "execute_result"
        }
      ],
      "source": [
        "my_array = make_array(1,2,3,4)\n",
        "my_array"
      ]
    },
    {
      "cell_type": "code",
      "execution_count": null,
      "id": "1de8bcf5-3c3a-4d82-8ab4-5d1a80314ebd",
      "metadata": {
        "tags": [],
        "id": "1de8bcf5-3c3a-4d82-8ab4-5d1a80314ebd",
        "outputId": "18b43e38-427b-487c-f8e7-307b8764518c"
      },
      "outputs": [
        {
          "data": {
            "text/plain": [
              "numpy.ndarray"
            ]
          },
          "execution_count": 11,
          "metadata": {},
          "output_type": "execute_result"
        }
      ],
      "source": [
        "type(my_array)\n"
      ]
    },
    {
      "cell_type": "markdown",
      "id": "f2917dc4-231d-4464-8246-945a5c11673b",
      "metadata": {
        "id": "f2917dc4-231d-4464-8246-945a5c11673b"
      },
      "source": [
        "---"
      ]
    },
    {
      "cell_type": "markdown",
      "id": "125b54d2-acf9-4ffc-b4e0-fa139f51d129",
      "metadata": {
        "deletable": false,
        "editable": false,
        "tags": [],
        "id": "125b54d2-acf9-4ffc-b4e0-fa139f51d129"
      },
      "source": [
        "Explore using array arithmetic and notice that the operations create a new array."
      ]
    },
    {
      "cell_type": "code",
      "execution_count": null,
      "id": "bcc095e7-7819-45b2-9fdb-5be2560dd7ca",
      "metadata": {
        "editable": true,
        "tags": [],
        "id": "bcc095e7-7819-45b2-9fdb-5be2560dd7ca",
        "outputId": "7a228e45-2124-4cf3-defc-113fce762f17"
      },
      "outputs": [
        {
          "data": {
            "text/plain": [
              "array([2, 4, 6, 8])"
            ]
          },
          "execution_count": 12,
          "metadata": {},
          "output_type": "execute_result"
        }
      ],
      "source": [
        "my_array*2"
      ]
    },
    {
      "cell_type": "code",
      "execution_count": null,
      "id": "f91a0d08-895d-4323-b922-ced13fb84e42",
      "metadata": {
        "tags": [],
        "id": "f91a0d08-895d-4323-b922-ced13fb84e42",
        "outputId": "d00db382-2ea2-4d37-cd92-5b3763161c62"
      },
      "outputs": [
        {
          "data": {
            "text/plain": [
              "array([ 1,  4,  9, 16])"
            ]
          },
          "execution_count": 13,
          "metadata": {},
          "output_type": "execute_result"
        }
      ],
      "source": [
        "my_array**2"
      ]
    },
    {
      "cell_type": "code",
      "execution_count": null,
      "id": "8f596b12-866c-4605-80a0-a1f6e35219b6",
      "metadata": {
        "tags": [],
        "id": "8f596b12-866c-4605-80a0-a1f6e35219b6",
        "outputId": "8aae4c47-0be9-4c4b-862b-ba3f8cb205d1"
      },
      "outputs": [
        {
          "data": {
            "text/plain": [
              "array([2, 3, 4, 5])"
            ]
          },
          "execution_count": 17,
          "metadata": {},
          "output_type": "execute_result"
        }
      ],
      "source": [
        "my_array+1"
      ]
    },
    {
      "cell_type": "code",
      "execution_count": null,
      "id": "3689574d-4225-4ceb-b334-5afeba160913",
      "metadata": {
        "tags": [],
        "id": "3689574d-4225-4ceb-b334-5afeba160913",
        "outputId": "21155031-40a1-40cb-ba5f-d932d4a88029"
      },
      "outputs": [
        {
          "data": {
            "text/plain": [
              "array([1, 2, 3, 4])"
            ]
          },
          "execution_count": 18,
          "metadata": {},
          "output_type": "execute_result"
        }
      ],
      "source": [
        "# my_array is unchanged\n",
        "my_array"
      ]
    },
    {
      "cell_type": "markdown",
      "id": "8bc18396-bb81-40cc-9fb5-4217146f5ad6",
      "metadata": {
        "id": "8bc18396-bb81-40cc-9fb5-4217146f5ad6"
      },
      "source": [
        "---"
      ]
    },
    {
      "cell_type": "markdown",
      "id": "7abac2b2-e378-4c30-ba40-5972d17ac5e4",
      "metadata": {
        "deletable": false,
        "editable": false,
        "id": "7abac2b2-e378-4c30-ba40-5972d17ac5e4"
      },
      "source": [
        "Use some functions such as `len` and `sum` on an array"
      ]
    },
    {
      "cell_type": "code",
      "execution_count": null,
      "id": "3ea6e7f4-3aeb-4385-a1e0-9f64ccdc375e",
      "metadata": {
        "tags": [],
        "id": "3ea6e7f4-3aeb-4385-a1e0-9f64ccdc375e",
        "outputId": "799dc040-0bed-4650-a072-f8c9d260efc0"
      },
      "outputs": [
        {
          "data": {
            "text/plain": [
              "4"
            ]
          },
          "execution_count": 19,
          "metadata": {},
          "output_type": "execute_result"
        }
      ],
      "source": [
        "len(my_array)\n"
      ]
    },
    {
      "cell_type": "code",
      "execution_count": null,
      "id": "425f24e2-ec4c-405f-aa70-a120f38b4bbe",
      "metadata": {
        "tags": [],
        "id": "425f24e2-ec4c-405f-aa70-a120f38b4bbe",
        "outputId": "09127db3-e1a2-427f-82fb-9587e96cce22"
      },
      "outputs": [
        {
          "data": {
            "text/plain": [
              "10"
            ]
          },
          "execution_count": 20,
          "metadata": {},
          "output_type": "execute_result"
        }
      ],
      "source": [
        "# Built-in sum\n",
        "sum(my_array)"
      ]
    },
    {
      "cell_type": "code",
      "execution_count": null,
      "id": "e9db6a70-b616-483f-8e7d-a9b24b8887ac",
      "metadata": {
        "tags": [],
        "id": "e9db6a70-b616-483f-8e7d-a9b24b8887ac",
        "outputId": "2a2b7a1c-ab03-41de-813e-2c7a88f6d32f"
      },
      "outputs": [
        {
          "data": {
            "text/plain": [
              "10"
            ]
          },
          "execution_count": 21,
          "metadata": {},
          "output_type": "execute_result"
        }
      ],
      "source": [
        "# NumPy sum - optimized for arrays\n",
        "np.sum(my_array)"
      ]
    },
    {
      "cell_type": "markdown",
      "id": "e4e3264e-cc6f-4267-a49a-9037d01d1b38",
      "metadata": {
        "id": "e4e3264e-cc6f-4267-a49a-9037d01d1b38"
      },
      "source": [
        "---"
      ]
    },
    {
      "cell_type": "markdown",
      "id": "dc5e212a-a9b3-4534-91f1-6ed850d5ca7f",
      "metadata": {
        "deletable": false,
        "editable": false,
        "id": "dc5e212a-a9b3-4534-91f1-6ed850d5ca7f"
      },
      "source": [
        "There are some rules for array arithmetic. For example, you can only add arrays of the same length."
      ]
    },
    {
      "cell_type": "code",
      "execution_count": null,
      "id": "14113260-4392-45fe-8ae9-7ba5483bc5f8",
      "metadata": {
        "tags": [],
        "id": "14113260-4392-45fe-8ae9-7ba5483bc5f8"
      },
      "outputs": [],
      "source": [
        "another = make_array(10,20,30,40)"
      ]
    },
    {
      "cell_type": "code",
      "execution_count": null,
      "id": "139dab8d-8a1d-47b3-952a-cf2f665250d4",
      "metadata": {
        "tags": [],
        "id": "139dab8d-8a1d-47b3-952a-cf2f665250d4",
        "outputId": "88200887-e1cc-48a9-9bfd-0d9dc9539b1e"
      },
      "outputs": [
        {
          "data": {
            "text/plain": [
              "array([11, 22, 33, 44])"
            ]
          },
          "execution_count": 24,
          "metadata": {},
          "output_type": "execute_result"
        }
      ],
      "source": [
        "my_array+another"
      ]
    },
    {
      "cell_type": "code",
      "execution_count": null,
      "id": "3d5bf442-0e2f-4a7f-b526-0f7c55b84a34",
      "metadata": {
        "tags": [],
        "id": "3d5bf442-0e2f-4a7f-b526-0f7c55b84a34"
      },
      "outputs": [],
      "source": [
        "yet_another = make_array(100,200,300)"
      ]
    },
    {
      "cell_type": "code",
      "execution_count": null,
      "id": "5ac461ff-28e0-4475-b343-13f689529fb1",
      "metadata": {
        "tags": [],
        "id": "5ac461ff-28e0-4475-b343-13f689529fb1",
        "outputId": "e062cf7e-eaba-4c35-edba-5014c7776c03"
      },
      "outputs": [
        {
          "ename": "ValueError",
          "evalue": "operands could not be broadcast together with shapes (4,) (3,) ",
          "output_type": "error",
          "traceback": [
            "\u001b[0;31m---------------------------------------------------------------------------\u001b[0m",
            "\u001b[0;31mValueError\u001b[0m                                Traceback (most recent call last)",
            "Cell \u001b[0;32mIn[26], line 2\u001b[0m\n\u001b[1;32m      1\u001b[0m \u001b[38;5;66;03m# A ValueError\u001b[39;00m\n\u001b[0;32m----> 2\u001b[0m \u001b[43mmy_array\u001b[49m\u001b[43m \u001b[49m\u001b[38;5;241;43m+\u001b[39;49m\u001b[43m \u001b[49m\u001b[43myet_another\u001b[49m\n",
            "\u001b[0;31mValueError\u001b[0m: operands could not be broadcast together with shapes (4,) (3,) "
          ]
        }
      ],
      "source": [
        "# A ValueError\n",
        "my_array + yet_another"
      ]
    },
    {
      "cell_type": "code",
      "execution_count": null,
      "id": "0fffafbe-c9dd-4854-8989-3c56796f0950",
      "metadata": {
        "editable": true,
        "tags": [],
        "id": "0fffafbe-c9dd-4854-8989-3c56796f0950",
        "outputId": "c5a6ca76-439e-4c91-84f2-5becb13115ae"
      },
      "outputs": [
        {
          "data": {
            "text/plain": [
              "25.0"
            ]
          },
          "execution_count": 27,
          "metadata": {},
          "output_type": "execute_result"
        }
      ],
      "source": [
        "np.sum(another)/len(another)"
      ]
    },
    {
      "cell_type": "markdown",
      "id": "57a089e8-ce2b-41a1-b5f9-fc55973254db",
      "metadata": {
        "editable": true,
        "tags": [],
        "id": "57a089e8-ce2b-41a1-b5f9-fc55973254db"
      },
      "source": [
        "---"
      ]
    },
    {
      "cell_type": "markdown",
      "id": "28d6ae49-7cc0-4bb6-bb14-9e5d2799eed8",
      "metadata": {
        "deletable": false,
        "editable": false,
        "id": "28d6ae49-7cc0-4bb6-bb14-9e5d2799eed8"
      },
      "source": [
        "You can make an array with non-numeric data types."
      ]
    },
    {
      "cell_type": "code",
      "execution_count": null,
      "id": "ae657073-4d49-41d3-a64e-fee0f5fd3f7b",
      "metadata": {
        "tags": [],
        "id": "ae657073-4d49-41d3-a64e-fee0f5fd3f7b",
        "outputId": "fec77591-9459-43e4-abca-d6401bec212b"
      },
      "outputs": [
        {
          "data": {
            "text/plain": [
              "array(['bluefin', 'albacore', 'jim'],\n",
              "      dtype='<U8')"
            ]
          },
          "execution_count": 28,
          "metadata": {},
          "output_type": "execute_result"
        }
      ],
      "source": [
        "tunas_array = make_array(\"bluefin\",\"albacore\",\"jim\")\n",
        "tunas_array"
      ]
    },
    {
      "cell_type": "markdown",
      "id": "07a00a3c-ae50-4d15-8bd1-224ae8243906",
      "metadata": {
        "editable": true,
        "tags": [],
        "id": "07a00a3c-ae50-4d15-8bd1-224ae8243906"
      },
      "source": [
        "---"
      ]
    },
    {
      "cell_type": "markdown",
      "id": "4d904d2d-8e06-440f-bcc0-595adc1a6b5b",
      "metadata": {
        "editable": true,
        "tags": [],
        "id": "4d904d2d-8e06-440f-bcc0-595adc1a6b5b"
      },
      "source": [
        "## Indexing Sequences"
      ]
    },
    {
      "cell_type": "markdown",
      "id": "6528eb7b-6c7f-408b-a513-7aa877105e27",
      "metadata": {
        "editable": true,
        "tags": [],
        "id": "6528eb7b-6c7f-408b-a513-7aa877105e27"
      },
      "source": [
        "---"
      ]
    },
    {
      "cell_type": "markdown",
      "id": "4c86b883-8465-4b41-acd5-d06a4ddf84d0",
      "metadata": {
        "id": "4c86b883-8465-4b41-acd5-d06a4ddf84d0"
      },
      "source": [
        "### Indexes"
      ]
    },
    {
      "cell_type": "markdown",
      "id": "8c4b0a93-dde8-47ab-8502-e2f037c4f46e",
      "metadata": {
        "id": "8c4b0a93-dde8-47ab-8502-e2f037c4f46e"
      },
      "source": [
        "<img src=\"./sequence_blocks_with_indices.png\"  alt=\"A sequence visualized a collection of blocks with the index values included\" width = 45%>"
      ]
    },
    {
      "cell_type": "markdown",
      "id": "8fbbd558-fa29-45d5-af32-e70d493af1ae",
      "metadata": {
        "editable": true,
        "tags": [],
        "id": "8fbbd558-fa29-45d5-af32-e70d493af1ae"
      },
      "source": [
        "Sequence data types have a variety of ways to access each item in the sequence:\n",
        "* A standard way: Use the item's position number in the sequence (index) with bracket `[...]` notation\n",
        "    * Indices start with `0`\n",
        "* Array way specific in MATH 108: NumPy arrays in our class can be indexed with the `.item()` method"
      ]
    },
    {
      "cell_type": "markdown",
      "id": "52605687-40db-4b83-a85c-1c5eb8cda7a2",
      "metadata": {
        "id": "52605687-40db-4b83-a85c-1c5eb8cda7a2"
      },
      "source": [
        "---"
      ]
    },
    {
      "cell_type": "markdown",
      "id": "5af7aca2-7fdd-449e-848a-51b67e15f4dc",
      "metadata": {
        "editable": true,
        "tags": [],
        "id": "5af7aca2-7fdd-449e-848a-51b67e15f4dc"
      },
      "source": [
        "### Demo: Indexing"
      ]
    },
    {
      "cell_type": "markdown",
      "id": "97cf47ed-5ddc-49b4-950d-f097055b31cb",
      "metadata": {
        "deletable": false,
        "editable": false,
        "tags": [],
        "id": "97cf47ed-5ddc-49b4-950d-f097055b31cb"
      },
      "source": [
        "Get the first character from a string."
      ]
    },
    {
      "cell_type": "code",
      "execution_count": null,
      "id": "08c46f10-1eb4-4e7b-bb39-57e1f19243d9",
      "metadata": {
        "editable": true,
        "tags": [],
        "id": "08c46f10-1eb4-4e7b-bb39-57e1f19243d9",
        "outputId": "8e30fcfa-8e21-446a-de71-ff9a43cbd857"
      },
      "outputs": [
        {
          "data": {
            "text/plain": [
              "'San Francisco'"
            ]
          },
          "execution_count": 29,
          "metadata": {},
          "output_type": "execute_result"
        }
      ],
      "source": [
        "another_string = \"San Francisco\"\n",
        "another_string"
      ]
    },
    {
      "cell_type": "code",
      "execution_count": null,
      "id": "74b55736-e7a6-4ea6-9a8f-bb6a99474d04",
      "metadata": {
        "editable": true,
        "tags": [],
        "id": "74b55736-e7a6-4ea6-9a8f-bb6a99474d04",
        "outputId": "fb6e904c-9d1c-48e7-b8d1-b61db7abe601"
      },
      "outputs": [
        {
          "data": {
            "text/plain": [
              "'S'"
            ]
          },
          "execution_count": 30,
          "metadata": {},
          "output_type": "execute_result"
        }
      ],
      "source": [
        "another_string[0]"
      ]
    },
    {
      "cell_type": "markdown",
      "id": "b9ada2fb-aa90-4924-8d83-6ffaa33407c3",
      "metadata": {
        "id": "b9ada2fb-aa90-4924-8d83-6ffaa33407c3"
      },
      "source": [
        "---"
      ]
    },
    {
      "cell_type": "markdown",
      "id": "6abc3e94-2354-46a8-b6f9-c13f57ecb336",
      "metadata": {
        "deletable": false,
        "editable": false,
        "tags": [],
        "id": "6abc3e94-2354-46a8-b6f9-c13f57ecb336"
      },
      "source": [
        "Get the last character from a string."
      ]
    },
    {
      "cell_type": "code",
      "execution_count": null,
      "id": "8ec981a1-492f-428b-8316-036be3eb2e9d",
      "metadata": {
        "editable": true,
        "tags": [],
        "id": "8ec981a1-492f-428b-8316-036be3eb2e9d",
        "outputId": "f9a9ccbf-a287-4208-8f23-584528a99057"
      },
      "outputs": [
        {
          "data": {
            "text/plain": [
              "'o'"
            ]
          },
          "execution_count": 31,
          "metadata": {},
          "output_type": "execute_result"
        }
      ],
      "source": [
        "another_string[-1]"
      ]
    },
    {
      "cell_type": "code",
      "execution_count": null,
      "id": "b50d1f33-d88a-4e06-9acb-a27203845daa",
      "metadata": {
        "editable": true,
        "tags": [],
        "id": "b50d1f33-d88a-4e06-9acb-a27203845daa",
        "outputId": "2b18bfea-29f6-464d-a613-b41980777da8"
      },
      "outputs": [
        {
          "ename": "IndexError",
          "evalue": "string index out of range",
          "output_type": "error",
          "traceback": [
            "\u001b[0;31m---------------------------------------------------------------------------\u001b[0m",
            "\u001b[0;31mIndexError\u001b[0m                                Traceback (most recent call last)",
            "Cell \u001b[0;32mIn[32], line 2\u001b[0m\n\u001b[1;32m      1\u001b[0m \u001b[38;5;66;03m# An IndexError\u001b[39;00m\n\u001b[0;32m----> 2\u001b[0m \u001b[43manother_string\u001b[49m\u001b[43m[\u001b[49m\u001b[38;5;241;43m13\u001b[39;49m\u001b[43m]\u001b[49m\n",
            "\u001b[0;31mIndexError\u001b[0m: string index out of range"
          ]
        }
      ],
      "source": [
        "# An IndexError\n",
        "another_string[13]"
      ]
    },
    {
      "cell_type": "code",
      "execution_count": null,
      "id": "82cb43c1-ce08-4bae-97b2-3db835cf8624",
      "metadata": {
        "editable": true,
        "tags": [],
        "id": "82cb43c1-ce08-4bae-97b2-3db835cf8624",
        "outputId": "f04311de-38c7-4cf8-8d21-a2874141a763"
      },
      "outputs": [
        {
          "data": {
            "text/plain": [
              "'o'"
            ]
          },
          "execution_count": 33,
          "metadata": {},
          "output_type": "execute_result"
        }
      ],
      "source": [
        "another_string[12]"
      ]
    },
    {
      "cell_type": "code",
      "execution_count": null,
      "id": "9d9ac141-862c-46ba-b541-514697bc3837",
      "metadata": {
        "editable": true,
        "tags": [],
        "id": "9d9ac141-862c-46ba-b541-514697bc3837",
        "outputId": "e3b49cf5-aa5b-4ac4-e98e-e75d2b4ce1c6"
      },
      "outputs": [
        {
          "data": {
            "text/plain": [
              "'o'"
            ]
          },
          "execution_count": 34,
          "metadata": {},
          "output_type": "execute_result"
        }
      ],
      "source": [
        "# Another way to access the last item in a sequence.\n",
        "another_string[-1]"
      ]
    },
    {
      "cell_type": "code",
      "execution_count": null,
      "id": "14346eea-e233-4b27-81cc-0339c9455c13",
      "metadata": {
        "editable": true,
        "tags": [],
        "id": "14346eea-e233-4b27-81cc-0339c9455c13",
        "outputId": "81052598-36cc-43d8-d8c2-927a5f780762"
      },
      "outputs": [
        {
          "data": {
            "text/plain": [
              "'o'"
            ]
          },
          "execution_count": 35,
          "metadata": {},
          "output_type": "execute_result"
        }
      ],
      "source": [
        "# And another way ...\n",
        "num_items = len(another_string)\n",
        "another_string[num_items-1]"
      ]
    },
    {
      "cell_type": "markdown",
      "id": "494fca66-a0f3-4758-aad4-fa7dedbe69c1",
      "metadata": {
        "id": "494fca66-a0f3-4758-aad4-fa7dedbe69c1"
      },
      "source": [
        "---"
      ]
    },
    {
      "cell_type": "markdown",
      "id": "81fc0592-d1be-4595-a777-1267a086305d",
      "metadata": {
        "deletable": false,
        "editable": false,
        "tags": [],
        "id": "81fc0592-d1be-4595-a777-1267a086305d"
      },
      "source": [
        "Access items in an array using .item and bracket notation."
      ]
    },
    {
      "cell_type": "code",
      "execution_count": null,
      "id": "d516f1b7-aebe-4f2d-848c-1baf60a0d539",
      "metadata": {
        "editable": true,
        "tags": [],
        "id": "d516f1b7-aebe-4f2d-848c-1baf60a0d539",
        "outputId": "58ebdfa8-02bf-4088-e9fc-d32562a65aee"
      },
      "outputs": [
        {
          "data": {
            "text/plain": [
              "array(['eats', 'shoots', 'leaves'],\n",
              "      dtype='<U6')"
            ]
          },
          "execution_count": 36,
          "metadata": {},
          "output_type": "execute_result"
        }
      ],
      "source": [
        "an_array = make_array('eats', 'shoots', 'leaves')\n",
        "an_array"
      ]
    },
    {
      "cell_type": "code",
      "execution_count": null,
      "id": "dd08497f-daad-42fa-a3b0-416800a231c2",
      "metadata": {
        "editable": true,
        "tags": [],
        "id": "dd08497f-daad-42fa-a3b0-416800a231c2",
        "outputId": "c7f6069c-170c-4ecc-a69c-77dcc362bced"
      },
      "outputs": [
        {
          "data": {
            "text/plain": [
              "'eats'"
            ]
          },
          "execution_count": 37,
          "metadata": {},
          "output_type": "execute_result"
        }
      ],
      "source": [
        "an_array[0]"
      ]
    },
    {
      "cell_type": "code",
      "execution_count": null,
      "id": "40649625-669d-470e-bd15-535504e89dc2",
      "metadata": {
        "editable": true,
        "tags": [],
        "id": "40649625-669d-470e-bd15-535504e89dc2",
        "outputId": "aa0873b1-2b41-42c8-df56-64cdb3825999"
      },
      "outputs": [
        {
          "data": {
            "text/plain": [
              "'eats'"
            ]
          },
          "execution_count": 38,
          "metadata": {},
          "output_type": "execute_result"
        }
      ],
      "source": [
        "an_array.item(0)"
      ]
    },
    {
      "cell_type": "code",
      "execution_count": null,
      "id": "96a78e83-dafd-4172-acee-ca3c8f601ff9",
      "metadata": {
        "editable": true,
        "tags": [],
        "id": "96a78e83-dafd-4172-acee-ca3c8f601ff9",
        "outputId": "6b72cfd7-469a-4215-d77a-728d3fa10570"
      },
      "outputs": [
        {
          "data": {
            "text/plain": [
              "'leaves'"
            ]
          },
          "execution_count": 39,
          "metadata": {},
          "output_type": "execute_result"
        }
      ],
      "source": [
        "an_array[-1]"
      ]
    },
    {
      "cell_type": "code",
      "execution_count": null,
      "id": "b252905b-a6da-41f1-8249-e3b1233af1e8",
      "metadata": {
        "editable": true,
        "tags": [],
        "id": "b252905b-a6da-41f1-8249-e3b1233af1e8",
        "outputId": "a107b66d-09cb-4648-99b7-ced341ea77de"
      },
      "outputs": [
        {
          "data": {
            "text/plain": [
              "'leaves'"
            ]
          },
          "execution_count": 40,
          "metadata": {},
          "output_type": "execute_result"
        }
      ],
      "source": [
        "an_array.item(-1)"
      ]
    },
    {
      "cell_type": "markdown",
      "id": "c4c98e88-2e50-47f8-89ec-d6b7c72cd8d5",
      "metadata": {
        "id": "c4c98e88-2e50-47f8-89ec-d6b7c72cd8d5"
      },
      "source": [
        "---"
      ]
    },
    {
      "cell_type": "markdown",
      "id": "807cba06-7e67-4a44-a318-ac9deff90c36",
      "metadata": {
        "deletable": false,
        "editable": false,
        "tags": [],
        "id": "807cba06-7e67-4a44-a318-ac9deff90c36"
      },
      "source": [
        "Be careful! Check your data types because sometimes you don't get what you expect."
      ]
    },
    {
      "cell_type": "code",
      "execution_count": null,
      "id": "b6460193-7dc4-4465-b370-d04f026f8488",
      "metadata": {
        "editable": true,
        "tags": [],
        "id": "b6460193-7dc4-4465-b370-d04f026f8488",
        "outputId": "07ab8619-b268-46bb-cf4f-bb7e8ef09ce0"
      },
      "outputs": [
        {
          "data": {
            "text/plain": [
              "array([10, 20, 30])"
            ]
          },
          "execution_count": 41,
          "metadata": {},
          "output_type": "execute_result"
        }
      ],
      "source": [
        "another_array = make_array(10, 20, 30)\n",
        "another_array"
      ]
    },
    {
      "cell_type": "code",
      "execution_count": null,
      "id": "a399b0c9-1f8b-445d-bbfb-ea5b1d179f8b",
      "metadata": {
        "editable": true,
        "tags": [],
        "id": "a399b0c9-1f8b-445d-bbfb-ea5b1d179f8b",
        "outputId": "53bc21ea-30ce-45d4-ec39-e8415486a2c5"
      },
      "outputs": [
        {
          "data": {
            "text/plain": [
              "numpy.int64"
            ]
          },
          "execution_count": 42,
          "metadata": {},
          "output_type": "execute_result"
        }
      ],
      "source": [
        "type(another_array[0])"
      ]
    },
    {
      "cell_type": "code",
      "execution_count": null,
      "id": "2efc893e-6350-449f-ba70-93020f0caeb2",
      "metadata": {
        "editable": true,
        "tags": [],
        "id": "2efc893e-6350-449f-ba70-93020f0caeb2",
        "outputId": "f922b7f6-dec2-4cbf-be47-4a4e9a90ecc1"
      },
      "outputs": [
        {
          "data": {
            "text/plain": [
              "int"
            ]
          },
          "execution_count": 43,
          "metadata": {},
          "output_type": "execute_result"
        }
      ],
      "source": [
        "type(another_array.item(0))"
      ]
    },
    {
      "cell_type": "markdown",
      "id": "84e6e986-0a0c-41d4-81a9-6ae7c0265ad8",
      "metadata": {
        "editable": true,
        "tags": [],
        "id": "84e6e986-0a0c-41d4-81a9-6ae7c0265ad8"
      },
      "source": [
        "---"
      ]
    },
    {
      "cell_type": "markdown",
      "id": "d0d9f83f-0d1a-4c57-b333-c90b1e0aba53",
      "metadata": {
        "id": "d0d9f83f-0d1a-4c57-b333-c90b1e0aba53"
      },
      "source": [
        "## NumPy"
      ]
    },
    {
      "cell_type": "markdown",
      "id": "00e1fdc6-2fe6-4570-b448-bd0d23627c8a",
      "metadata": {
        "editable": true,
        "tags": [],
        "id": "00e1fdc6-2fe6-4570-b448-bd0d23627c8a"
      },
      "source": [
        "---"
      ]
    },
    {
      "cell_type": "markdown",
      "id": "b800a7ee-3c9f-4b81-a130-cbd9b86437f2",
      "metadata": {
        "id": "b800a7ee-3c9f-4b81-a130-cbd9b86437f2"
      },
      "source": [
        "### NumPy Functions"
      ]
    },
    {
      "cell_type": "markdown",
      "id": "90442f72-fad8-4978-a09d-3bd15ab198cb",
      "metadata": {
        "editable": true,
        "tags": [],
        "id": "90442f72-fad8-4978-a09d-3bd15ab198cb"
      },
      "source": [
        "* NumPy is a Python library with a collection of tools optimized to work with arrays\n",
        "* In our reference material, array tools commonly start with `np`\n",
        "* One function `np.arange` is really helpful for generating arrays of numbers\n",
        "    * General command: `np.arange(start, stop, step)`\n",
        "    * the `start` and `step` values have a default of 0 and 1, respectively\n",
        "    * `np.arange(5)` creates the array `array([0, 1, 2, 3, 4])`\n",
        "    * `np.arange(1, 5)` creates the array `array([1, 2, 3, 4])`\n",
        "    * `np.arange(1, 5, 2)` creates the array `array([1, 3])`\n",
        "    * `np.arange` is not the same as `range`"
      ]
    },
    {
      "cell_type": "markdown",
      "id": "1e8484b7-1d82-4e21-b76b-ccace31a07c4",
      "metadata": {
        "id": "1e8484b7-1d82-4e21-b76b-ccace31a07c4"
      },
      "source": [
        "---"
      ]
    },
    {
      "cell_type": "markdown",
      "id": "112ec6fb-7c48-4324-b652-a67f2fdb78b2",
      "metadata": {
        "editable": true,
        "tags": [],
        "id": "112ec6fb-7c48-4324-b652-a67f2fdb78b2"
      },
      "source": [
        "### Demo: NumPy Functions"
      ]
    },
    {
      "cell_type": "markdown",
      "id": "3675bb87-7863-4a8f-bb02-96a6ae877319",
      "metadata": {
        "deletable": false,
        "editable": false,
        "tags": [],
        "id": "3675bb87-7863-4a8f-bb02-96a6ae877319"
      },
      "source": [
        "Generate arrays with `arange`."
      ]
    },
    {
      "cell_type": "code",
      "execution_count": null,
      "id": "93bf8113-4522-4fea-8905-b1fc48fe7ff3",
      "metadata": {
        "tags": [],
        "id": "93bf8113-4522-4fea-8905-b1fc48fe7ff3",
        "outputId": "e2118dab-0597-4342-9b21-0703986785d8"
      },
      "outputs": [
        {
          "data": {
            "text/plain": [
              "array([  0,  30,  60,  90, 120, 150, 180])"
            ]
          },
          "execution_count": 44,
          "metadata": {},
          "output_type": "execute_result"
        }
      ],
      "source": [
        "np.arange(0,200,30)\n"
      ]
    },
    {
      "cell_type": "code",
      "execution_count": null,
      "id": "488bd815-034c-40b4-891c-638b3335c123",
      "metadata": {
        "tags": [],
        "id": "488bd815-034c-40b4-891c-638b3335c123",
        "outputId": "b4c89cf9-38ae-419b-8500-f3b261b7a559"
      },
      "outputs": [
        {
          "data": {
            "text/plain": [
              "numpy.ndarray"
            ]
          },
          "execution_count": 47,
          "metadata": {},
          "output_type": "execute_result"
        }
      ],
      "source": [
        "type(np.arange(100))\n"
      ]
    },
    {
      "cell_type": "code",
      "execution_count": null,
      "id": "ef6b1cde-348f-455e-a38e-93cd9f7ef81a",
      "metadata": {
        "editable": true,
        "tags": [],
        "id": "ef6b1cde-348f-455e-a38e-93cd9f7ef81a",
        "outputId": "4734be52-f16e-4da5-d58a-cca6ae08a781"
      },
      "outputs": [
        {
          "data": {
            "text/plain": [
              "array([  0,  30,  60,  90, 120, 150, 180])"
            ]
          },
          "execution_count": 48,
          "metadata": {},
          "output_type": "execute_result"
        }
      ],
      "source": [
        "my_array = np.arange(0,200,30)\n",
        "my_array"
      ]
    },
    {
      "cell_type": "markdown",
      "id": "2a8bb359-375d-4073-8e57-5919ac4bd7e8",
      "metadata": {
        "id": "2a8bb359-375d-4073-8e57-5919ac4bd7e8"
      },
      "source": [
        "---"
      ]
    },
    {
      "cell_type": "markdown",
      "id": "da6932a3-c277-4ffc-8c27-1a2c80cfae88",
      "metadata": {
        "deletable": false,
        "editable": false,
        "tags": [],
        "id": "da6932a3-c277-4ffc-8c27-1a2c80cfae88"
      },
      "source": [
        "Demonstrate a few NumPy functions, attributes, and methods."
      ]
    },
    {
      "cell_type": "code",
      "execution_count": null,
      "id": "d15ca610-b419-4b20-8804-f8e328ead457",
      "metadata": {
        "editable": true,
        "tags": [],
        "id": "d15ca610-b419-4b20-8804-f8e328ead457",
        "outputId": "c8742113-5a21-4084-ac63-1bda2a26c210"
      },
      "outputs": [
        {
          "data": {
            "text/plain": [
              "90.0"
            ]
          },
          "execution_count": 49,
          "metadata": {},
          "output_type": "execute_result"
        }
      ],
      "source": [
        "np.average(my_array)"
      ]
    },
    {
      "cell_type": "code",
      "execution_count": null,
      "id": "24fb7e08-d1c2-4d5c-83f8-e2b1772d4730",
      "metadata": {
        "editable": true,
        "tags": [],
        "id": "24fb7e08-d1c2-4d5c-83f8-e2b1772d4730",
        "outputId": "e61d3fd0-e542-443c-8e06-d5e60edfb47d"
      },
      "outputs": [
        {
          "data": {
            "text/plain": [
              "array([30, 30, 30, 30, 30, 30])"
            ]
          },
          "execution_count": 50,
          "metadata": {},
          "output_type": "execute_result"
        }
      ],
      "source": [
        "np.diff(my_array)"
      ]
    },
    {
      "cell_type": "code",
      "execution_count": null,
      "id": "607d7938-fdd6-4274-9a81-fd889589434b",
      "metadata": {
        "editable": true,
        "tags": [],
        "id": "607d7938-fdd6-4274-9a81-fd889589434b",
        "outputId": "e5a4064d-acc9-4d6f-ec73-c8876163f599"
      },
      "outputs": [
        {
          "data": {
            "text/plain": [
              "array([  0,  30,  90, 180, 300, 450, 630])"
            ]
          },
          "execution_count": 52,
          "metadata": {},
          "output_type": "execute_result"
        }
      ],
      "source": [
        "np.cumsum(my_array)"
      ]
    },
    {
      "cell_type": "code",
      "execution_count": null,
      "id": "a6b0e3cf-077e-4ecc-b87c-13f31d4a0239",
      "metadata": {
        "editable": true,
        "tags": [],
        "id": "a6b0e3cf-077e-4ecc-b87c-13f31d4a0239",
        "outputId": "29fda061-00b4-46e6-afa5-f6cdfc9b7fd9"
      },
      "outputs": [
        {
          "data": {
            "text/plain": [
              "7"
            ]
          },
          "execution_count": 54,
          "metadata": {},
          "output_type": "execute_result"
        }
      ],
      "source": [
        "# an array attribute\n",
        "my_array.size"
      ]
    },
    {
      "cell_type": "code",
      "execution_count": null,
      "id": "aecdbf5b-2bc3-4c37-b713-f85119eba213",
      "metadata": {
        "editable": true,
        "tags": [],
        "id": "aecdbf5b-2bc3-4c37-b713-f85119eba213",
        "outputId": "d6b947aa-e29a-47a9-b664-8905b169f9f6"
      },
      "outputs": [
        {
          "data": {
            "text/plain": [
              "0"
            ]
          },
          "execution_count": 56,
          "metadata": {},
          "output_type": "execute_result"
        }
      ],
      "source": [
        "# an array method\n",
        "my_array.min()"
      ]
    },
    {
      "cell_type": "markdown",
      "id": "0c660749-9683-44ee-9924-7232978afae3",
      "metadata": {
        "id": "0c660749-9683-44ee-9924-7232978afae3"
      },
      "source": [
        "---"
      ]
    },
    {
      "cell_type": "markdown",
      "id": "22888835-5a8a-4194-9677-1184ee4ebe71",
      "metadata": {
        "editable": true,
        "tags": [],
        "id": "22888835-5a8a-4194-9677-1184ee4ebe71"
      },
      "source": [
        "## Attribution"
      ]
    },
    {
      "cell_type": "markdown",
      "id": "d6b35e97-1608-40b1-a244-dbfc3966c13d",
      "metadata": {
        "id": "d6b35e97-1608-40b1-a244-dbfc3966c13d"
      },
      "source": [
        "This content is licensed under the <a href=\"https://creativecommons.org/licenses/by-nc-sa/4.0/\">Creative Commons Attribution-NonCommercial-ShareAlike 4.0 International License (CC BY-NC-SA 4.0)</a> and derived from the <a href=\"https://www.data8.org/\">Data 8: The Foundations of Data Science</a> offered by the University of California, Berkeley.\n",
        "\n",
        "<img src=\"./by-nc-sa.png\" width=100px>"
      ]
    }
  ],
  "metadata": {
    "kernelspec": {
      "display_name": "Python 3 (ipykernel)",
      "language": "python",
      "name": "python3"
    },
    "language_info": {
      "codemirror_mode": {
        "name": "ipython",
        "version": 3
      },
      "file_extension": ".py",
      "mimetype": "text/x-python",
      "name": "python",
      "nbconvert_exporter": "python",
      "pygments_lexer": "ipython3",
      "version": "3.11.9"
    },
    "otter": {
      "OK_FORMAT": true,
      "tests": {}
    },
    "colab": {
      "provenance": [],
      "include_colab_link": true
    }
  },
  "nbformat": 4,
  "nbformat_minor": 5
}