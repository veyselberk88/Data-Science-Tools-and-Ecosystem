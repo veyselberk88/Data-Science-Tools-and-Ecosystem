{
  "cells": [
    {
      "cell_type": "markdown",
      "metadata": {
        "id": "view-in-github",
        "colab_type": "text"
      },
      "source": [
        "<a href=\"https://colab.research.google.com/github/veyselberk88/Data-Science-Tools-and-Ecosystem/blob/main/lec38.ipynb\" target=\"_parent\"><img src=\"https://colab.research.google.com/assets/colab-badge.svg\" alt=\"Open In Colab\"/></a>"
      ]
    },
    {
      "cell_type": "markdown",
      "id": "7ffa63cd-77f2-4e36-b58d-b0e4c83449c1",
      "metadata": {
        "id": "7ffa63cd-77f2-4e36-b58d-b0e4c83449c1"
      },
      "source": [
        "<img src=\"./ccsf.png\" alt=\"CCSF Logo\" width=200px style=\"margin:0px -5px\">"
      ]
    },
    {
      "cell_type": "markdown",
      "id": "2d305cf5-3aaf-45e4-b965-892ee9d07e4e",
      "metadata": {
        "id": "2d305cf5-3aaf-45e4-b965-892ee9d07e4e"
      },
      "source": [
        "# Lecture 38: Evaluating Classifiers"
      ]
    },
    {
      "cell_type": "markdown",
      "id": "9046670a-de1b-4354-a993-ca5163df5c4f",
      "metadata": {
        "id": "9046670a-de1b-4354-a993-ca5163df5c4f"
      },
      "source": [
        "Associated Textbook Sections: [17.5](https://ccsf-math-108.github.io/textbook/chapters/17/5/Accuracy_of_the_Classifier.html)"
      ]
    },
    {
      "cell_type": "markdown",
      "id": "848c8841-3185-48ac-a7b4-0d57711b986a",
      "metadata": {
        "id": "848c8841-3185-48ac-a7b4-0d57711b986a"
      },
      "source": [
        "---"
      ]
    },
    {
      "cell_type": "markdown",
      "id": "735f8077-60eb-4eb3-aa4a-e1ea424f623c",
      "metadata": {
        "id": "735f8077-60eb-4eb3-aa4a-e1ea424f623c"
      },
      "source": [
        "## Outline"
      ]
    },
    {
      "cell_type": "markdown",
      "id": "6eadb953-ebfa-4c89-977f-a28b5d50c0a1",
      "metadata": {
        "id": "6eadb953-ebfa-4c89-977f-a28b5d50c0a1"
      },
      "source": [
        "* [Nearest Neighbors Classifier](#Nearest-Neighbors-Classifier)\n",
        "* [Evaluation](#Evaluation)\n",
        "* [Before Classifying](#Before-Classifying)\n",
        "* [Example: The Google Science Fair](#Example:-The-Google-Science-Fair)\n",
        "* [Picking `k`](#Picking-k)"
      ]
    },
    {
      "cell_type": "markdown",
      "id": "0073fa5b-b4b3-4e76-ae33-6b0720d6cbb0",
      "metadata": {
        "id": "0073fa5b-b4b3-4e76-ae33-6b0720d6cbb0"
      },
      "source": [
        "---"
      ]
    },
    {
      "cell_type": "markdown",
      "id": "481ca149-5f15-4aed-84a4-3b4763f947db",
      "metadata": {
        "id": "481ca149-5f15-4aed-84a4-3b4763f947db"
      },
      "source": [
        "## Set Up the Notebook"
      ]
    },
    {
      "cell_type": "code",
      "execution_count": null,
      "id": "06e23617-7b63-4446-8936-9f408033cc12",
      "metadata": {
        "id": "06e23617-7b63-4446-8936-9f408033cc12"
      },
      "outputs": [],
      "source": [
        "from datascience import *\n",
        "import numpy as np\n",
        "%matplotlib inline\n",
        "import matplotlib.pyplot as plt\n",
        "plt.style.use('fivethirtyeight')"
      ]
    },
    {
      "cell_type": "markdown",
      "id": "0bacfffc-7871-4f83-b9d6-dd6b8d64fbff",
      "metadata": {
        "id": "0bacfffc-7871-4f83-b9d6-dd6b8d64fbff"
      },
      "source": [
        "---"
      ]
    },
    {
      "cell_type": "markdown",
      "id": "aa106fde-8e4c-43f7-9ea4-3428444a36e6",
      "metadata": {
        "id": "aa106fde-8e4c-43f7-9ea4-3428444a36e6"
      },
      "source": [
        "## Nearest Neighbors Classifier"
      ]
    },
    {
      "cell_type": "markdown",
      "id": "a5439cad-80f5-4ec5-bc62-dd615e8d1d6c",
      "metadata": {
        "id": "a5439cad-80f5-4ec5-bc62-dd615e8d1d6c"
      },
      "source": [
        "---"
      ]
    },
    {
      "cell_type": "markdown",
      "id": "0818781a-7184-4c6c-b4d7-174a1099fa23",
      "metadata": {
        "id": "0818781a-7184-4c6c-b4d7-174a1099fa23"
      },
      "source": [
        "### Rebuild the Classifier"
      ]
    },
    {
      "cell_type": "markdown",
      "id": "10e51580-934d-41f3-ad9c-e9508ddda80e",
      "metadata": {
        "id": "10e51580-934d-41f3-ad9c-e9508ddda80e"
      },
      "source": [
        "Here are the functions from the last lecture:"
      ]
    },
    {
      "cell_type": "code",
      "execution_count": null,
      "id": "ced53158-61a8-4ff9-ba5d-08674b3fb4bc",
      "metadata": {
        "id": "ced53158-61a8-4ff9-ba5d-08674b3fb4bc"
      },
      "outputs": [],
      "source": [
        "def distance(pt1, pt2):\n",
        "    \"\"\"Return the distance between two points, represented as arrays\"\"\"\n",
        "    return np.sqrt(sum((pt1 - pt2)**2))\n",
        "\n",
        "def row_distance(row1, row2):\n",
        "    \"\"\"Return the distance between two numerical rows of a table\"\"\"\n",
        "    return distance(np.array(row1), np.array(row2))\n",
        "\n",
        "def distances(training, example):\n",
        "    \"\"\"\n",
        "    Compute distance between example row and every row in training.\n",
        "    Return training augmented with Distance column\n",
        "    \"\"\"\n",
        "    distances = make_array()\n",
        "    features_only = training.drop('Class')\n",
        "\n",
        "    for row in features_only.rows:\n",
        "        distances = np.append(distances, row_distance(row, example))\n",
        "\n",
        "    return training.with_column('Distance_to_ex', distances)\n",
        "\n",
        "def closest(training, example, k):\n",
        "    \"\"\"\n",
        "    Return a table of the k closest neighbors to example\n",
        "    \"\"\"\n",
        "    return distances(training, example).sort('Distance_to_ex').take(np.arange(k))\n",
        "\n",
        "def majority_class(topk):\n",
        "    \"\"\"\n",
        "    Return the class with the highest count\n",
        "    \"\"\"\n",
        "    return topk.group('Class').sort('count', descending=True).column(0).item(0)\n",
        "\n",
        "def classify(training, example, k):\n",
        "    \"\"\"\n",
        "    Return the majority class among the\n",
        "    k nearest neighbors of example\n",
        "    \"\"\"\n",
        "    return majority_class(closest(training, example, k))"
      ]
    },
    {
      "cell_type": "markdown",
      "id": "a3b3c337-45df-41e7-9878-3033bf0cc3f5",
      "metadata": {
        "id": "a3b3c337-45df-41e7-9878-3033bf0cc3f5"
      },
      "source": [
        "---"
      ]
    },
    {
      "cell_type": "markdown",
      "id": "56f881cc-5bd9-4b26-8084-0ed416b670e5",
      "metadata": {
        "id": "56f881cc-5bd9-4b26-8084-0ed416b670e5"
      },
      "source": [
        "## Evaluation"
      ]
    },
    {
      "cell_type": "markdown",
      "id": "06968868-0738-4f71-b9fd-ff4a0adcbc96",
      "metadata": {
        "id": "06968868-0738-4f71-b9fd-ff4a0adcbc96"
      },
      "source": [
        "---"
      ]
    },
    {
      "cell_type": "markdown",
      "id": "2fdb9a6c-ec0a-4b31-b047-1cb17ea4e691",
      "metadata": {
        "id": "2fdb9a6c-ec0a-4b31-b047-1cb17ea4e691"
      },
      "source": [
        "### Accuracy of a Classifier"
      ]
    },
    {
      "cell_type": "markdown",
      "id": "a422b560-c55d-4994-9be3-138711cbea3c",
      "metadata": {
        "id": "a422b560-c55d-4994-9be3-138711cbea3c"
      },
      "source": [
        "* The accuracy of a classifier on a labeled data set is the proportion of examples in the test set that are labeled correctly\n",
        "* Need to compare classifier predictions to true labels\n",
        "* If the labeled data set is sampled at random from a population, then we can infer accuracy on that population"
      ]
    },
    {
      "cell_type": "markdown",
      "id": "3f219acb-2611-4087-b839-c091e431d33d",
      "metadata": {
        "id": "3f219acb-2611-4087-b839-c091e431d33d"
      },
      "source": [
        "---"
      ]
    },
    {
      "cell_type": "markdown",
      "id": "1a9b8153-9e2f-42a5-bc5f-15d604623fdb",
      "metadata": {
        "id": "1a9b8153-9e2f-42a5-bc5f-15d604623fdb"
      },
      "source": [
        "### Demo: Accuracy of a Classifier"
      ]
    },
    {
      "cell_type": "markdown",
      "id": "5e2e3fda-26a7-4ac1-828c-eb3c2a8953a6",
      "metadata": {
        "deletable": false,
        "editable": false,
        "id": "5e2e3fda-26a7-4ac1-828c-eb3c2a8953a6"
      },
      "source": [
        "* Reload the `ckd` data from the previous 2 lectures already split into two tables, where approximately 80% of the data is used for training and 20% is used for testing.\n",
        "* Create a function that evaluates the accuracy by returning the proportion of correctly classified examples in the test set.\n",
        "* Evaluate the accuracy for `k = 5`.\n",
        "* Re-evaluate the accuracy if the White Blood Cell Count feature is included."
      ]
    },
    {
      "cell_type": "code",
      "execution_count": null,
      "id": "b6cd5083-825d-45db-9bf3-76c7796e3970",
      "metadata": {
        "tags": [],
        "id": "b6cd5083-825d-45db-9bf3-76c7796e3970",
        "outputId": "74df1a60-44d8-4f36-d4ea-56023ddb4b3d"
      },
      "outputs": [
        {
          "data": {
            "text/html": [
              "<table border=\"1\" class=\"dataframe\">\n",
              "    <thead>\n",
              "        <tr>\n",
              "            <th>Glucose</th> <th>Hemoglobin</th> <th>Class</th>\n",
              "        </tr>\n",
              "    </thead>\n",
              "    <tbody>\n",
              "        <tr>\n",
              "            <td>117    </td> <td>11.2      </td> <td>1    </td>\n",
              "        </tr>\n",
              "        <tr>\n",
              "            <td>70     </td> <td>9.5       </td> <td>1    </td>\n",
              "        </tr>\n",
              "        <tr>\n",
              "            <td>380    </td> <td>10.8      </td> <td>1    </td>\n",
              "        </tr>\n",
              "        <tr>\n",
              "            <td>157    </td> <td>5.6       </td> <td>1    </td>\n",
              "        </tr>\n",
              "        <tr>\n",
              "            <td>173    </td> <td>7.7       </td> <td>1    </td>\n",
              "        </tr>\n",
              "        <tr>\n",
              "            <td>95     </td> <td>9.8       </td> <td>1    </td>\n",
              "        </tr>\n",
              "        <tr>\n",
              "            <td>264    </td> <td>12.5      </td> <td>1    </td>\n",
              "        </tr>\n",
              "        <tr>\n",
              "            <td>70     </td> <td>10        </td> <td>1    </td>\n",
              "        </tr>\n",
              "        <tr>\n",
              "            <td>253    </td> <td>10.5      </td> <td>1    </td>\n",
              "        </tr>\n",
              "        <tr>\n",
              "            <td>163    </td> <td>9.8       </td> <td>1    </td>\n",
              "        </tr>\n",
              "    </tbody>\n",
              "</table>\n",
              "<p>... (148 rows omitted)</p>"
            ],
            "text/plain": [
              "Glucose | Hemoglobin | Class\n",
              "117     | 11.2       | 1\n",
              "70      | 9.5        | 1\n",
              "380     | 10.8       | 1\n",
              "157     | 5.6        | 1\n",
              "173     | 7.7        | 1\n",
              "95      | 9.8        | 1\n",
              "264     | 12.5       | 1\n",
              "70      | 10         | 1\n",
              "253     | 10.5       | 1\n",
              "163     | 9.8        | 1\n",
              "... (148 rows omitted)"
            ]
          },
          "execution_count": 3,
          "metadata": {},
          "output_type": "execute_result"
        }
      ],
      "source": [
        "ckd = (Table.read_table('ckd.csv')\n",
        "       .relabeled('Blood Glucose Random', 'Glucose')\n",
        "       .select('Glucose', 'Hemoglobin', 'Class'))\n",
        "ckd"
      ]
    },
    {
      "cell_type": "code",
      "execution_count": null,
      "id": "82e6d956-4caf-4468-9bbe-aed023dc7b42",
      "metadata": {
        "tags": [],
        "id": "82e6d956-4caf-4468-9bbe-aed023dc7b42"
      },
      "outputs": [],
      "source": [
        "np.random.seed(123) # Makes sure we all get the same data\n",
        "row_80th = round(ckd.num_rows * 0.80)\n",
        "train, test = ckd.split(row_80th)"
      ]
    },
    {
      "cell_type": "code",
      "execution_count": null,
      "id": "b2d01175-ff98-4b3f-87be-ce68fd3eaf7c",
      "metadata": {
        "tags": [],
        "id": "b2d01175-ff98-4b3f-87be-ce68fd3eaf7c",
        "outputId": "35c08b63-7ce6-4fd0-8589-8a7f51c58d7e"
      },
      "outputs": [
        {
          "data": {
            "text/html": [
              "<table border=\"1\" class=\"dataframe\">\n",
              "    <thead>\n",
              "        <tr>\n",
              "            <th>Glucose</th> <th>Hemoglobin</th> <th>Class</th>\n",
              "        </tr>\n",
              "    </thead>\n",
              "    <tbody>\n",
              "        <tr>\n",
              "            <td>122    </td> <td>12.6      </td> <td>1    </td>\n",
              "        </tr>\n",
              "        <tr>\n",
              "            <td>273    </td> <td>8.3       </td> <td>1    </td>\n",
              "        </tr>\n",
              "        <tr>\n",
              "            <td>95     </td> <td>15        </td> <td>0    </td>\n",
              "        </tr>\n",
              "        <tr>\n",
              "            <td>104    </td> <td>17.3      </td> <td>0    </td>\n",
              "        </tr>\n",
              "        <tr>\n",
              "            <td>74     </td> <td>15.1      </td> <td>0    </td>\n",
              "        </tr>\n",
              "        <tr>\n",
              "            <td>132    </td> <td>13.7      </td> <td>0    </td>\n",
              "        </tr>\n",
              "        <tr>\n",
              "            <td>131    </td> <td>15.6      </td> <td>0    </td>\n",
              "        </tr>\n",
              "        <tr>\n",
              "            <td>113    </td> <td>16.5      </td> <td>0    </td>\n",
              "        </tr>\n",
              "        <tr>\n",
              "            <td>75     </td> <td>16.5      </td> <td>0    </td>\n",
              "        </tr>\n",
              "        <tr>\n",
              "            <td>131    </td> <td>15.8      </td> <td>0    </td>\n",
              "        </tr>\n",
              "    </tbody>\n",
              "</table>\n",
              "<p>... (116 rows omitted)</p>"
            ],
            "text/plain": [
              "Glucose | Hemoglobin | Class\n",
              "122     | 12.6       | 1\n",
              "273     | 8.3        | 1\n",
              "95      | 15         | 0\n",
              "104     | 17.3       | 0\n",
              "74      | 15.1       | 0\n",
              "132     | 13.7       | 0\n",
              "131     | 15.6       | 0\n",
              "113     | 16.5       | 0\n",
              "75      | 16.5       | 0\n",
              "131     | 15.8       | 0\n",
              "... (116 rows omitted)"
            ]
          },
          "execution_count": 5,
          "metadata": {},
          "output_type": "execute_result"
        }
      ],
      "source": [
        "train"
      ]
    },
    {
      "cell_type": "code",
      "execution_count": null,
      "id": "e0180925-6120-4a1d-9802-7b667759efc6",
      "metadata": {
        "tags": [],
        "id": "e0180925-6120-4a1d-9802-7b667759efc6",
        "outputId": "86fb2981-1ed2-4bab-a004-52b58dfeffff"
      },
      "outputs": [
        {
          "data": {
            "text/html": [
              "<table border=\"1\" class=\"dataframe\">\n",
              "    <thead>\n",
              "        <tr>\n",
              "            <th>Glucose</th> <th>Hemoglobin</th> <th>Class</th>\n",
              "        </tr>\n",
              "    </thead>\n",
              "    <tbody>\n",
              "        <tr>\n",
              "            <td>105    </td> <td>15.7      </td> <td>0    </td>\n",
              "        </tr>\n",
              "        <tr>\n",
              "            <td>89     </td> <td>15        </td> <td>0    </td>\n",
              "        </tr>\n",
              "        <tr>\n",
              "            <td>130    </td> <td>13.5      </td> <td>0    </td>\n",
              "        </tr>\n",
              "        <tr>\n",
              "            <td>100    </td> <td>14.3      </td> <td>0    </td>\n",
              "        </tr>\n",
              "        <tr>\n",
              "            <td>93     </td> <td>16.7      </td> <td>0    </td>\n",
              "        </tr>\n",
              "        <tr>\n",
              "            <td>111    </td> <td>16.3      </td> <td>0    </td>\n",
              "        </tr>\n",
              "        <tr>\n",
              "            <td>100    </td> <td>15.8      </td> <td>0    </td>\n",
              "        </tr>\n",
              "        <tr>\n",
              "            <td>214    </td> <td>9.4       </td> <td>1    </td>\n",
              "        </tr>\n",
              "        <tr>\n",
              "            <td>137    </td> <td>13.6      </td> <td>0    </td>\n",
              "        </tr>\n",
              "        <tr>\n",
              "            <td>380    </td> <td>10.8      </td> <td>1    </td>\n",
              "        </tr>\n",
              "    </tbody>\n",
              "</table>\n",
              "<p>... (22 rows omitted)</p>"
            ],
            "text/plain": [
              "Glucose | Hemoglobin | Class\n",
              "105     | 15.7       | 0\n",
              "89      | 15         | 0\n",
              "130     | 13.5       | 0\n",
              "100     | 14.3       | 0\n",
              "93      | 16.7       | 0\n",
              "111     | 16.3       | 0\n",
              "100     | 15.8       | 0\n",
              "214     | 9.4        | 1\n",
              "137     | 13.6       | 0\n",
              "380     | 10.8       | 1\n",
              "... (22 rows omitted)"
            ]
          },
          "execution_count": 6,
          "metadata": {},
          "output_type": "execute_result"
        }
      ],
      "source": [
        "test"
      ]
    },
    {
      "cell_type": "code",
      "execution_count": null,
      "id": "54df019f-d721-491d-a066-2b1884988041",
      "metadata": {
        "tags": [],
        "id": "54df019f-d721-491d-a066-2b1884988041",
        "outputId": "bae3589d-e7a9-46ea-8b8b-c96805d0722c"
      },
      "outputs": [
        {
          "data": {
            "text/plain": [
              "array([ 0.,  0.,  0.,  0.,  0.,  0.,  0.,  1.,  0.,  1.,  0.,  0.,  0.,\n",
              "        0.,  0.,  0.,  0.,  1.,  0.,  0.,  0.,  0.,  0.,  0.,  0.,  0.,\n",
              "        0.,  1.,  0.,  0.,  0.,  0.])"
            ]
          },
          "execution_count": 7,
          "metadata": {},
          "output_type": "execute_result"
        }
      ],
      "source": [
        "predicted_classes = make_array()\n",
        "test_attributes = test.drop('Class')\n",
        "for i in np.arange(test.num_rows):\n",
        "    predicted_class = classify(train, test_attributes.row(i), 5)\n",
        "    predicted_classes = np.append(predicted_classes, predicted_class)\n",
        "\n",
        "predicted_classes"
      ]
    },
    {
      "cell_type": "code",
      "execution_count": null,
      "id": "78590de7-0f9d-4d08-9e21-b21a9890cfab",
      "metadata": {
        "tags": [],
        "id": "78590de7-0f9d-4d08-9e21-b21a9890cfab",
        "outputId": "e1fdc5e0-5c7f-4e47-9a14-2fd216d375c5"
      },
      "outputs": [
        {
          "data": {
            "text/html": [
              "<table border=\"1\" class=\"dataframe\">\n",
              "    <thead>\n",
              "        <tr>\n",
              "            <th>Glucose</th> <th>Hemoglobin</th> <th>Class</th> <th>Predicted Class</th>\n",
              "        </tr>\n",
              "    </thead>\n",
              "    <tbody>\n",
              "        <tr>\n",
              "            <td>105    </td> <td>15.7      </td> <td>0    </td> <td>0              </td>\n",
              "        </tr>\n",
              "        <tr>\n",
              "            <td>89     </td> <td>15        </td> <td>0    </td> <td>0              </td>\n",
              "        </tr>\n",
              "        <tr>\n",
              "            <td>130    </td> <td>13.5      </td> <td>0    </td> <td>0              </td>\n",
              "        </tr>\n",
              "        <tr>\n",
              "            <td>100    </td> <td>14.3      </td> <td>0    </td> <td>0              </td>\n",
              "        </tr>\n",
              "        <tr>\n",
              "            <td>93     </td> <td>16.7      </td> <td>0    </td> <td>0              </td>\n",
              "        </tr>\n",
              "        <tr>\n",
              "            <td>111    </td> <td>16.3      </td> <td>0    </td> <td>0              </td>\n",
              "        </tr>\n",
              "        <tr>\n",
              "            <td>100    </td> <td>15.8      </td> <td>0    </td> <td>0              </td>\n",
              "        </tr>\n",
              "        <tr>\n",
              "            <td>214    </td> <td>9.4       </td> <td>1    </td> <td>1              </td>\n",
              "        </tr>\n",
              "        <tr>\n",
              "            <td>137    </td> <td>13.6      </td> <td>0    </td> <td>0              </td>\n",
              "        </tr>\n",
              "        <tr>\n",
              "            <td>380    </td> <td>10.8      </td> <td>1    </td> <td>1              </td>\n",
              "        </tr>\n",
              "    </tbody>\n",
              "</table>\n",
              "<p>... (22 rows omitted)</p>"
            ],
            "text/plain": [
              "Glucose | Hemoglobin | Class | Predicted Class\n",
              "105     | 15.7       | 0     | 0\n",
              "89      | 15         | 0     | 0\n",
              "130     | 13.5       | 0     | 0\n",
              "100     | 14.3       | 0     | 0\n",
              "93      | 16.7       | 0     | 0\n",
              "111     | 16.3       | 0     | 0\n",
              "100     | 15.8       | 0     | 0\n",
              "214     | 9.4        | 1     | 1\n",
              "137     | 13.6       | 0     | 0\n",
              "380     | 10.8       | 1     | 1\n",
              "... (22 rows omitted)"
            ]
          },
          "execution_count": 8,
          "metadata": {},
          "output_type": "execute_result"
        }
      ],
      "source": [
        "test_with_predictions = test.with_column('Predicted Class', predicted_classes)\n",
        "test_with_predictions"
      ]
    },
    {
      "cell_type": "code",
      "execution_count": null,
      "id": "19787a45-2617-44f5-bed4-7921d81d0c7f",
      "metadata": {
        "tags": [],
        "id": "19787a45-2617-44f5-bed4-7921d81d0c7f",
        "outputId": "d0c96fc3-4131-401b-8c97-5a29668c1f62"
      },
      "outputs": [
        {
          "data": {
            "text/plain": [
              "1.0"
            ]
          },
          "execution_count": 9,
          "metadata": {},
          "output_type": "execute_result"
        }
      ],
      "source": [
        "np.average(test_with_predictions.column('Class') == predicted_classes)"
      ]
    },
    {
      "cell_type": "code",
      "execution_count": null,
      "id": "592ab543-42af-454c-b9ad-a44f8ccdb6c7",
      "metadata": {
        "tags": [],
        "id": "592ab543-42af-454c-b9ad-a44f8ccdb6c7"
      },
      "outputs": [],
      "source": [
        "def evaluate_accuracy(training, test, k):\n",
        "    '''Return the proportion of correctly classified examples\n",
        "    in the test set'''\n",
        "    test_attributes = test.drop('Class')\n",
        "    predicted_classes = make_array()\n",
        "    for i in np.arange(test.num_rows):\n",
        "        predicted_class = classify(train, test_attributes.row(i), k)\n",
        "        predicted_classes = np.append(predicted_classes, predicted_class)\n",
        "\n",
        "    test_with_predictions = test.with_column('Predicted Class', predicted_classes)\n",
        "    accuracy = np.average(test_with_predictions.column('Class') == predicted_classes)\n",
        "    return accuracy"
      ]
    },
    {
      "cell_type": "code",
      "execution_count": null,
      "id": "4f672eff-3656-46d5-8be6-ea4aa5e65f37",
      "metadata": {
        "tags": [],
        "id": "4f672eff-3656-46d5-8be6-ea4aa5e65f37",
        "outputId": "36912dce-e6f4-4220-ef75-ed46b528219a"
      },
      "outputs": [
        {
          "data": {
            "text/plain": [
              "1.0"
            ]
          },
          "execution_count": 11,
          "metadata": {},
          "output_type": "execute_result"
        }
      ],
      "source": [
        "evaluate_accuracy(train, test, 5)"
      ]
    },
    {
      "cell_type": "code",
      "execution_count": null,
      "id": "3aac67ba-c63b-41d1-bd9c-eaac0218b12e",
      "metadata": {
        "tags": [],
        "id": "3aac67ba-c63b-41d1-bd9c-eaac0218b12e",
        "outputId": "72d5c7ad-88a0-41b8-fd76-761b92770d5d"
      },
      "outputs": [
        {
          "data": {
            "text/html": [
              "<table border=\"1\" class=\"dataframe\">\n",
              "    <thead>\n",
              "        <tr>\n",
              "            <th>Glucose</th> <th>Hemoglobin</th> <th>White Blood Cell Count</th> <th>Class</th>\n",
              "        </tr>\n",
              "    </thead>\n",
              "    <tbody>\n",
              "        <tr>\n",
              "            <td>117    </td> <td>11.2      </td> <td>6700                  </td> <td>1    </td>\n",
              "        </tr>\n",
              "        <tr>\n",
              "            <td>70     </td> <td>9.5       </td> <td>12100                 </td> <td>1    </td>\n",
              "        </tr>\n",
              "        <tr>\n",
              "            <td>380    </td> <td>10.8      </td> <td>4500                  </td> <td>1    </td>\n",
              "        </tr>\n",
              "        <tr>\n",
              "            <td>157    </td> <td>5.6       </td> <td>11000                 </td> <td>1    </td>\n",
              "        </tr>\n",
              "        <tr>\n",
              "            <td>173    </td> <td>7.7       </td> <td>9200                  </td> <td>1    </td>\n",
              "        </tr>\n",
              "        <tr>\n",
              "            <td>95     </td> <td>9.8       </td> <td>6900                  </td> <td>1    </td>\n",
              "        </tr>\n",
              "        <tr>\n",
              "            <td>264    </td> <td>12.5      </td> <td>9600                  </td> <td>1    </td>\n",
              "        </tr>\n",
              "        <tr>\n",
              "            <td>70     </td> <td>10        </td> <td>18900                 </td> <td>1    </td>\n",
              "        </tr>\n",
              "        <tr>\n",
              "            <td>253    </td> <td>10.5      </td> <td>7200                  </td> <td>1    </td>\n",
              "        </tr>\n",
              "        <tr>\n",
              "            <td>163    </td> <td>9.8       </td> <td>14600                 </td> <td>1    </td>\n",
              "        </tr>\n",
              "    </tbody>\n",
              "</table>\n",
              "<p>... (148 rows omitted)</p>"
            ],
            "text/plain": [
              "Glucose | Hemoglobin | White Blood Cell Count | Class\n",
              "117     | 11.2       | 6700                   | 1\n",
              "70      | 9.5        | 12100                  | 1\n",
              "380     | 10.8       | 4500                   | 1\n",
              "157     | 5.6        | 11000                  | 1\n",
              "173     | 7.7        | 9200                   | 1\n",
              "95      | 9.8        | 6900                   | 1\n",
              "264     | 12.5       | 9600                   | 1\n",
              "70      | 10         | 18900                  | 1\n",
              "253     | 10.5       | 7200                   | 1\n",
              "163     | 9.8        | 14600                  | 1\n",
              "... (148 rows omitted)"
            ]
          },
          "execution_count": 12,
          "metadata": {},
          "output_type": "execute_result"
        }
      ],
      "source": [
        "# Add White Blood Cell Count\n",
        "ckd = (Table.read_table('ckd.csv')\n",
        "       .relabeled('Blood Glucose Random', 'Glucose')\n",
        "       .select('Glucose', 'Hemoglobin',\n",
        "               'White Blood Cell Count', 'Class'))\n",
        "ckd"
      ]
    },
    {
      "cell_type": "code",
      "execution_count": null,
      "id": "24754ee0-fad9-4e13-b129-daa887dfdcad",
      "metadata": {
        "tags": [],
        "id": "24754ee0-fad9-4e13-b129-daa887dfdcad"
      },
      "outputs": [],
      "source": [
        "# Same Train/Test Split with White Blood Cell Count added\n",
        "np.random.seed(123) # Makes sure we all get the same data\n",
        "row_80th = round(ckd.num_rows * 0.80)\n",
        "train, test = ckd.split(row_80th)"
      ]
    },
    {
      "cell_type": "code",
      "execution_count": null,
      "id": "041b9268-510d-4669-9af5-8bebf0e2942f",
      "metadata": {
        "tags": [],
        "id": "041b9268-510d-4669-9af5-8bebf0e2942f",
        "outputId": "2f5cc435-f2f4-43b3-e5ae-519bb3fb8ea3"
      },
      "outputs": [
        {
          "data": {
            "text/html": [
              "<table border=\"1\" class=\"dataframe\">\n",
              "    <thead>\n",
              "        <tr>\n",
              "            <th>Glucose</th> <th>Hemoglobin</th> <th>White Blood Cell Count</th> <th>Class</th>\n",
              "        </tr>\n",
              "    </thead>\n",
              "    <tbody>\n",
              "        <tr>\n",
              "            <td>122    </td> <td>12.6      </td> <td>7900                  </td> <td>1    </td>\n",
              "        </tr>\n",
              "        <tr>\n",
              "            <td>273    </td> <td>8.3       </td> <td>14600                 </td> <td>1    </td>\n",
              "        </tr>\n",
              "        <tr>\n",
              "            <td>95     </td> <td>15        </td> <td>6300                  </td> <td>0    </td>\n",
              "        </tr>\n",
              "        <tr>\n",
              "            <td>104    </td> <td>17.3      </td> <td>8200                  </td> <td>0    </td>\n",
              "        </tr>\n",
              "        <tr>\n",
              "            <td>74     </td> <td>15.1      </td> <td>9700                  </td> <td>0    </td>\n",
              "        </tr>\n",
              "        <tr>\n",
              "            <td>132    </td> <td>13.7      </td> <td>7500                  </td> <td>0    </td>\n",
              "        </tr>\n",
              "        <tr>\n",
              "            <td>131    </td> <td>15.6      </td> <td>9400                  </td> <td>0    </td>\n",
              "        </tr>\n",
              "        <tr>\n",
              "            <td>113    </td> <td>16.5      </td> <td>8000                  </td> <td>0    </td>\n",
              "        </tr>\n",
              "        <tr>\n",
              "            <td>75     </td> <td>16.5      </td> <td>7800                  </td> <td>0    </td>\n",
              "        </tr>\n",
              "        <tr>\n",
              "            <td>131    </td> <td>15.8      </td> <td>6800                  </td> <td>0    </td>\n",
              "        </tr>\n",
              "    </tbody>\n",
              "</table>\n",
              "<p>... (116 rows omitted)</p>"
            ],
            "text/plain": [
              "Glucose | Hemoglobin | White Blood Cell Count | Class\n",
              "122     | 12.6       | 7900                   | 1\n",
              "273     | 8.3        | 14600                  | 1\n",
              "95      | 15         | 6300                   | 0\n",
              "104     | 17.3       | 8200                   | 0\n",
              "74      | 15.1       | 9700                   | 0\n",
              "132     | 13.7       | 7500                   | 0\n",
              "131     | 15.6       | 9400                   | 0\n",
              "113     | 16.5       | 8000                   | 0\n",
              "75      | 16.5       | 7800                   | 0\n",
              "131     | 15.8       | 6800                   | 0\n",
              "... (116 rows omitted)"
            ]
          },
          "execution_count": 14,
          "metadata": {},
          "output_type": "execute_result"
        }
      ],
      "source": [
        "train"
      ]
    },
    {
      "cell_type": "code",
      "execution_count": null,
      "id": "13decd86-4ed1-4694-b971-aabde6a853c4",
      "metadata": {
        "tags": [],
        "id": "13decd86-4ed1-4694-b971-aabde6a853c4",
        "outputId": "97e32eac-fd2c-4c5d-a85c-eded3b91aa37"
      },
      "outputs": [
        {
          "data": {
            "text/html": [
              "<table border=\"1\" class=\"dataframe\">\n",
              "    <thead>\n",
              "        <tr>\n",
              "            <th>Glucose</th> <th>Hemoglobin</th> <th>White Blood Cell Count</th> <th>Class</th>\n",
              "        </tr>\n",
              "    </thead>\n",
              "    <tbody>\n",
              "        <tr>\n",
              "            <td>105    </td> <td>15.7      </td> <td>10400                 </td> <td>0    </td>\n",
              "        </tr>\n",
              "        <tr>\n",
              "            <td>89     </td> <td>15        </td> <td>10300                 </td> <td>0    </td>\n",
              "        </tr>\n",
              "        <tr>\n",
              "            <td>130    </td> <td>13.5      </td> <td>6700                  </td> <td>0    </td>\n",
              "        </tr>\n",
              "        <tr>\n",
              "            <td>100    </td> <td>14.3      </td> <td>6700                  </td> <td>0    </td>\n",
              "        </tr>\n",
              "        <tr>\n",
              "            <td>93     </td> <td>16.7      </td> <td>6200                  </td> <td>0    </td>\n",
              "        </tr>\n",
              "        <tr>\n",
              "            <td>111    </td> <td>16.3      </td> <td>8000                  </td> <td>0    </td>\n",
              "        </tr>\n",
              "        <tr>\n",
              "            <td>100    </td> <td>15.8      </td> <td>6600                  </td> <td>0    </td>\n",
              "        </tr>\n",
              "        <tr>\n",
              "            <td>214    </td> <td>9.4       </td> <td>11500                 </td> <td>1    </td>\n",
              "        </tr>\n",
              "        <tr>\n",
              "            <td>137    </td> <td>13.6      </td> <td>7900                  </td> <td>0    </td>\n",
              "        </tr>\n",
              "        <tr>\n",
              "            <td>380    </td> <td>10.8      </td> <td>4500                  </td> <td>1    </td>\n",
              "        </tr>\n",
              "    </tbody>\n",
              "</table>\n",
              "<p>... (22 rows omitted)</p>"
            ],
            "text/plain": [
              "Glucose | Hemoglobin | White Blood Cell Count | Class\n",
              "105     | 15.7       | 10400                  | 0\n",
              "89      | 15         | 10300                  | 0\n",
              "130     | 13.5       | 6700                   | 0\n",
              "100     | 14.3       | 6700                   | 0\n",
              "93      | 16.7       | 6200                   | 0\n",
              "111     | 16.3       | 8000                   | 0\n",
              "100     | 15.8       | 6600                   | 0\n",
              "214     | 9.4        | 11500                  | 1\n",
              "137     | 13.6       | 7900                   | 0\n",
              "380     | 10.8       | 4500                   | 1\n",
              "... (22 rows omitted)"
            ]
          },
          "execution_count": 15,
          "metadata": {},
          "output_type": "execute_result"
        }
      ],
      "source": [
        "test"
      ]
    },
    {
      "cell_type": "code",
      "execution_count": null,
      "id": "632ec01e-c1f7-47c1-8824-8834c015327e",
      "metadata": {
        "tags": [],
        "id": "632ec01e-c1f7-47c1-8824-8834c015327e",
        "outputId": "4562c237-82e7-492a-b268-cca6511f04b9"
      },
      "outputs": [
        {
          "data": {
            "text/plain": [
              "0.9375"
            ]
          },
          "execution_count": 16,
          "metadata": {},
          "output_type": "execute_result"
        }
      ],
      "source": [
        "evaluate_accuracy(train, test, 5)"
      ]
    },
    {
      "cell_type": "markdown",
      "id": "57db7232-025c-4bc8-966f-0b66d70383a8",
      "metadata": {
        "id": "57db7232-025c-4bc8-966f-0b66d70383a8"
      },
      "source": [
        "---"
      ]
    },
    {
      "cell_type": "markdown",
      "id": "0ba1b3b6-fe94-4184-a91d-964b04ddbd88",
      "metadata": {
        "id": "0ba1b3b6-fe94-4184-a91d-964b04ddbd88"
      },
      "source": [
        "### Data Leakage"
      ]
    },
    {
      "cell_type": "markdown",
      "id": "83829da1-0379-4b2a-a065-233c46754faf",
      "metadata": {
        "id": "83829da1-0379-4b2a-a065-233c46754faf"
      },
      "source": [
        "- In the last demo, we **used the same test set twice** (just ignoring the `'White Blood Cell Count'` feature initially\n",
        "- This is generally a **bad practice** and should be avoided\n",
        "- We did it here to show the impact of the feature selection"
      ]
    },
    {
      "cell_type": "markdown",
      "id": "f50c5629-c87d-468f-9ba1-ddc554fa9db3",
      "metadata": {
        "id": "f50c5629-c87d-468f-9ba1-ddc554fa9db3"
      },
      "source": [
        "---"
      ]
    },
    {
      "cell_type": "markdown",
      "id": "3e5c2e8a-f004-4ca4-b45e-bf80a5596c9c",
      "metadata": {
        "id": "3e5c2e8a-f004-4ca4-b45e-bf80a5596c9c"
      },
      "source": [
        "## Before Classifying"
      ]
    },
    {
      "cell_type": "markdown",
      "id": "d21c8cd6-6100-4f07-9d52-1dffea4e343a",
      "metadata": {
        "id": "d21c8cd6-6100-4f07-9d52-1dffea4e343a"
      },
      "source": [
        "---"
      ]
    },
    {
      "cell_type": "markdown",
      "id": "1d23fe4b-59b8-4ba7-b585-c8061fd0b486",
      "metadata": {
        "id": "1d23fe4b-59b8-4ba7-b585-c8061fd0b486"
      },
      "source": [
        "### Start with a Representative Sample"
      ]
    },
    {
      "cell_type": "markdown",
      "id": "50afd24f-c8fb-4dbc-9bd7-9ab9ca58f932",
      "metadata": {
        "id": "50afd24f-c8fb-4dbc-9bd7-9ab9ca58f932"
      },
      "source": [
        "<img src=\"./dog_wolf.png\" width=60%>\n",
        "\n",
        "* Both the training and test sets must accurately represent the population on which you use your classifier\n",
        "* Overfitting happens when a classifier does very well on the training set, but can't do as well on the test set"
      ]
    },
    {
      "cell_type": "markdown",
      "id": "26bb342c-c2c3-4df9-86a7-20d55b35da39",
      "metadata": {
        "id": "26bb342c-c2c3-4df9-86a7-20d55b35da39"
      },
      "source": [
        "---"
      ]
    },
    {
      "cell_type": "markdown",
      "id": "b3689abd-6a8a-47c9-839d-6744a0a7eead",
      "metadata": {
        "id": "b3689abd-6a8a-47c9-839d-6744a0a7eead"
      },
      "source": [
        "### Standardize Data"
      ]
    },
    {
      "cell_type": "code",
      "execution_count": null,
      "id": "1424c499-29ba-4232-a02a-41fb349bfbf2",
      "metadata": {
        "id": "1424c499-29ba-4232-a02a-41fb349bfbf2",
        "outputId": "a483627c-565d-45bb-c1ec-8e4f747d3566"
      },
      "outputs": [
        {
          "data": {
            "text/html": [
              "<table border=\"1\" class=\"dataframe\">\n",
              "    <thead>\n",
              "        <tr>\n",
              "            <th>Glucose</th> <th>Hemoglobin</th> <th>White Blood Cell Count</th> <th>Class</th>\n",
              "        </tr>\n",
              "    </thead>\n",
              "    <tbody>\n",
              "        <tr>\n",
              "            <td>117    </td> <td>11.2      </td> <td>6700                  </td> <td>1    </td>\n",
              "        </tr>\n",
              "        <tr>\n",
              "            <td>70     </td> <td>9.5       </td> <td>12100                 </td> <td>1    </td>\n",
              "        </tr>\n",
              "        <tr>\n",
              "            <td>380    </td> <td>10.8      </td> <td>4500                  </td> <td>1    </td>\n",
              "        </tr>\n",
              "        <tr>\n",
              "            <td>157    </td> <td>5.6       </td> <td>11000                 </td> <td>1    </td>\n",
              "        </tr>\n",
              "    </tbody>\n",
              "</table>\n",
              "<p>... (154 rows omitted)</p>"
            ],
            "text/plain": [
              "<IPython.core.display.HTML object>"
            ]
          },
          "metadata": {},
          "output_type": "display_data"
        }
      ],
      "source": [
        "ckd.show(4)"
      ]
    },
    {
      "cell_type": "markdown",
      "id": "70174d3b-70ca-4246-a034-28b7ead07814",
      "metadata": {
        "id": "70174d3b-70ca-4246-a034-28b7ead07814"
      },
      "source": [
        "- If the attributes are on very different numerical scales, **distances can be distorted**.\n",
        "- As a result, classification can be **biased toward features with larger numerical values**.\n",
        "    - For example, in the `ckd` data, **Glucose** and **White Blood Cell Count** values are generally **orders of magnitude larger** than **Hemoglobin** values.\n",
        "    - This means our classification in the previous lecture was **more influenced by Glucose and White Blood Cell Count** than by Hemoglobin.\n",
        "    - In situations like this, it's a good idea to **convert all variables to standard units**.\n",
        "- **Standardizing** puts all numerical values on the **same scale**, making distance comparisons fair.\n",
        "- The best practice is to standardize the training and test set after splitting using the mean and standard deviation from the training set."
      ]
    },
    {
      "cell_type": "markdown",
      "id": "1e945ccc-5150-438f-8d71-634ae233e676",
      "metadata": {
        "id": "1e945ccc-5150-438f-8d71-634ae233e676"
      },
      "source": [
        "---"
      ]
    },
    {
      "cell_type": "markdown",
      "id": "7117ea06-58be-41ed-88bc-150d70a8acfc",
      "metadata": {
        "id": "7117ea06-58be-41ed-88bc-150d70a8acfc"
      },
      "source": [
        "### Demo: Standardizing Data"
      ]
    },
    {
      "cell_type": "markdown",
      "id": "01195df5-fbd8-4416-aa66-5bd4e4c38974",
      "metadata": {
        "deletable": false,
        "editable": false,
        "id": "01195df5-fbd8-4416-aa66-5bd4e4c38974"
      },
      "source": [
        "Explore what can happen to the classifier's accuracy (with 3 features) when the units are not standardized."
      ]
    },
    {
      "cell_type": "code",
      "execution_count": null,
      "id": "1ff090ab-fdf8-400f-97f5-8d3e7d79b106",
      "metadata": {
        "tags": [],
        "id": "1ff090ab-fdf8-400f-97f5-8d3e7d79b106"
      },
      "outputs": [],
      "source": [
        "train, test = ckd.split(row_80th)"
      ]
    },
    {
      "cell_type": "code",
      "execution_count": null,
      "id": "de6a7ce8-d7bb-4c86-b1de-961cffc80994",
      "metadata": {
        "tags": [],
        "id": "de6a7ce8-d7bb-4c86-b1de-961cffc80994",
        "outputId": "e64d2df7-5683-4f43-baa9-b3a721204768"
      },
      "outputs": [
        {
          "data": {
            "text/html": [
              "<table border=\"1\" class=\"dataframe\">\n",
              "    <thead>\n",
              "        <tr>\n",
              "            <th>Glucose</th> <th>Hemoglobin</th> <th>White Blood Cell Count</th> <th>Class</th>\n",
              "        </tr>\n",
              "    </thead>\n",
              "    <tbody>\n",
              "        <tr>\n",
              "            <td>133    </td> <td>10.3      </td> <td>6200                  </td> <td>1    </td>\n",
              "        </tr>\n",
              "        <tr>\n",
              "            <td>83     </td> <td>17.5      </td> <td>9900                  </td> <td>0    </td>\n",
              "        </tr>\n",
              "        <tr>\n",
              "            <td>130    </td> <td>13.4      </td> <td>7300                  </td> <td>0    </td>\n",
              "        </tr>\n",
              "        <tr>\n",
              "            <td>139    </td> <td>14.8      </td> <td>5600                  </td> <td>0    </td>\n",
              "        </tr>\n",
              "    </tbody>\n",
              "</table>\n",
              "<p>... (122 rows omitted)</p>"
            ],
            "text/plain": [
              "<IPython.core.display.HTML object>"
            ]
          },
          "metadata": {},
          "output_type": "display_data"
        }
      ],
      "source": [
        "train.show(4)"
      ]
    },
    {
      "cell_type": "code",
      "execution_count": null,
      "id": "0d7f84f5-8dc3-418b-b4c4-55f32c093c68",
      "metadata": {
        "tags": [],
        "id": "0d7f84f5-8dc3-418b-b4c4-55f32c093c68",
        "outputId": "d8f08e91-4377-4b49-919a-ba0c44a56902"
      },
      "outputs": [
        {
          "data": {
            "text/html": [
              "<table border=\"1\" class=\"dataframe\">\n",
              "    <thead>\n",
              "        <tr>\n",
              "            <th>Glucose</th> <th>Hemoglobin</th> <th>White Blood Cell Count</th> <th>Class</th>\n",
              "        </tr>\n",
              "    </thead>\n",
              "    <tbody>\n",
              "        <tr>\n",
              "            <td>125    </td> <td>17.4      </td> <td>6700                  </td> <td>0    </td>\n",
              "        </tr>\n",
              "        <tr>\n",
              "            <td>132    </td> <td>13.7      </td> <td>7500                  </td> <td>0    </td>\n",
              "        </tr>\n",
              "        <tr>\n",
              "            <td>117    </td> <td>16.2      </td> <td>8600                  </td> <td>0    </td>\n",
              "        </tr>\n",
              "        <tr>\n",
              "            <td>81     </td> <td>13.9      </td> <td>6900                  </td> <td>0    </td>\n",
              "        </tr>\n",
              "    </tbody>\n",
              "</table>\n",
              "<p>... (28 rows omitted)</p>"
            ],
            "text/plain": [
              "<IPython.core.display.HTML object>"
            ]
          },
          "metadata": {},
          "output_type": "display_data"
        }
      ],
      "source": [
        "test.show(4)"
      ]
    },
    {
      "cell_type": "code",
      "execution_count": null,
      "id": "65d23670-43b1-4669-a602-cd209850a99b",
      "metadata": {
        "tags": [],
        "id": "65d23670-43b1-4669-a602-cd209850a99b",
        "outputId": "81eb2ddf-e7c6-4b4f-c88d-9d2d2e30e106"
      },
      "outputs": [
        {
          "data": {
            "text/plain": [
              "0.90625"
            ]
          },
          "execution_count": 21,
          "metadata": {},
          "output_type": "execute_result"
        }
      ],
      "source": [
        "accuracy_og_units = evaluate_accuracy(train, test, 5)\n",
        "accuracy_og_units"
      ]
    },
    {
      "cell_type": "code",
      "execution_count": null,
      "id": "496018f8-5936-4dd9-bd1a-f19e66fc37e0",
      "metadata": {
        "tags": [],
        "id": "496018f8-5936-4dd9-bd1a-f19e66fc37e0"
      },
      "outputs": [],
      "source": [
        "def standardize_from_training(train, test):\n",
        "    \"\"\"Standardize all columns (except 'Class') in train and test tables,\n",
        "    using training set stats. Returns (train_su, test_su).\"\"\"\n",
        "\n",
        "    new_train_cols = []\n",
        "    new_test_cols = []\n",
        "\n",
        "    for label in train.labels:\n",
        "        if label == \"Class\":\n",
        "            # Leave 'Class' column unchanged\n",
        "            new_train_cols.append(train.column(label))\n",
        "            new_test_cols.append(test.column(label))\n",
        "        else:\n",
        "            train_values = train.column(label)\n",
        "            mean_train = np.average(train_values)\n",
        "            SD_train = np.std(train_values)\n",
        "\n",
        "            # Standardize using training mean and SD\n",
        "            new_train_cols.append((train_values - mean_train) / SD_train)\n",
        "            new_test_cols.append((test.column(label) - mean_train) / SD_train)\n",
        "\n",
        "    train_su = Table().with_columns(zip(train.labels, new_train_cols))\n",
        "    test_su = Table().with_columns(zip(test.labels, new_test_cols))\n",
        "\n",
        "    return train_su, test_su"
      ]
    },
    {
      "cell_type": "code",
      "execution_count": null,
      "id": "e1eb9235-d081-4c98-bda1-e06a00db4559",
      "metadata": {
        "tags": [],
        "id": "e1eb9235-d081-4c98-bda1-e06a00db4559"
      },
      "outputs": [],
      "source": [
        "train_su, test_su = standardize_from_training(train, test)"
      ]
    },
    {
      "cell_type": "code",
      "execution_count": null,
      "id": "96535b29-f28b-44f4-9241-3e87a95e0b36",
      "metadata": {
        "tags": [],
        "id": "96535b29-f28b-44f4-9241-3e87a95e0b36",
        "outputId": "9608dfa3-d5ff-4d46-b291-062a878e0843"
      },
      "outputs": [
        {
          "data": {
            "text/html": [
              "<table border=\"1\" class=\"dataframe\">\n",
              "    <thead>\n",
              "        <tr>\n",
              "            <th>Glucose</th> <th>Hemoglobin</th> <th>White Blood Cell Count</th> <th>Class</th>\n",
              "        </tr>\n",
              "    </thead>\n",
              "    <tbody>\n",
              "        <tr>\n",
              "            <td>-0.0202733</td> <td>-1.15757  </td> <td>-0.684666             </td> <td>1    </td>\n",
              "        </tr>\n",
              "        <tr>\n",
              "            <td>-0.767185 </td> <td>1.32858   </td> <td>0.44282               </td> <td>0    </td>\n",
              "        </tr>\n",
              "        <tr>\n",
              "            <td>-0.065088 </td> <td>-0.0871467</td> <td>-0.349467             </td> <td>0    </td>\n",
              "        </tr>\n",
              "        <tr>\n",
              "            <td>0.0693561 </td> <td>0.396271  </td> <td>-0.867501             </td> <td>0    </td>\n",
              "        </tr>\n",
              "    </tbody>\n",
              "</table>\n",
              "<p>... (122 rows omitted)</p>"
            ],
            "text/plain": [
              "<IPython.core.display.HTML object>"
            ]
          },
          "metadata": {},
          "output_type": "display_data"
        }
      ],
      "source": [
        "train_su.show(4)"
      ]
    },
    {
      "cell_type": "code",
      "execution_count": null,
      "id": "2acb1bf3-e8a5-48fa-81f5-44ae2fccaf2a",
      "metadata": {
        "tags": [],
        "id": "2acb1bf3-e8a5-48fa-81f5-44ae2fccaf2a",
        "outputId": "0a9e49aa-62f3-4f41-dbf3-35d40f66fc44"
      },
      "outputs": [
        {
          "data": {
            "text/html": [
              "<table border=\"1\" class=\"dataframe\">\n",
              "    <thead>\n",
              "        <tr>\n",
              "            <th>Glucose</th> <th>Hemoglobin</th> <th>White Blood Cell Count</th> <th>Class</th>\n",
              "        </tr>\n",
              "    </thead>\n",
              "    <tbody>\n",
              "        <tr>\n",
              "            <td>-0.139779 </td> <td>1.29405   </td> <td>-0.532303             </td> <td>0    </td>\n",
              "        </tr>\n",
              "        <tr>\n",
              "            <td>-0.0352115</td> <td>0.0164428 </td> <td>-0.288522             </td> <td>0    </td>\n",
              "        </tr>\n",
              "        <tr>\n",
              "            <td>-0.259285 </td> <td>0.879688  </td> <td>0.0466762             </td> <td>0    </td>\n",
              "        </tr>\n",
              "        <tr>\n",
              "            <td>-0.797061 </td> <td>0.0855024 </td> <td>-0.471358             </td> <td>0    </td>\n",
              "        </tr>\n",
              "    </tbody>\n",
              "</table>\n",
              "<p>... (28 rows omitted)</p>"
            ],
            "text/plain": [
              "<IPython.core.display.HTML object>"
            ]
          },
          "metadata": {},
          "output_type": "display_data"
        }
      ],
      "source": [
        "test_su.show(4)"
      ]
    },
    {
      "cell_type": "code",
      "execution_count": null,
      "id": "470db437-d93d-4314-93fe-abffa24cc11e",
      "metadata": {
        "tags": [],
        "id": "470db437-d93d-4314-93fe-abffa24cc11e",
        "outputId": "6da47230-e5fd-4d86-d16e-502913989ed5"
      },
      "outputs": [
        {
          "data": {
            "text/plain": [
              "0.78125"
            ]
          },
          "execution_count": 26,
          "metadata": {},
          "output_type": "execute_result"
        }
      ],
      "source": [
        "accuracy_su = evaluate_accuracy(train_su, test_su, 5)\n",
        "accuracy_su"
      ]
    },
    {
      "cell_type": "code",
      "execution_count": null,
      "id": "a6ea0986-28ae-43f9-8d43-0c7a09ca1881",
      "metadata": {
        "tags": [],
        "id": "a6ea0986-28ae-43f9-8d43-0c7a09ca1881",
        "outputId": "a4c0789a-d89f-4e57-e4d8-f6ab15fcfad8"
      },
      "outputs": [
        {
          "data": {
            "image/png": "[encoded data removed]",
            "text/plain": [
              "<Figure size 600x600 with 1 Axes>"
            ]
          },
          "metadata": {},
          "output_type": "display_data"
        }
      ],
      "source": [
        "accuracies_ou = make_array()\n",
        "accuracies_su = make_array()\n",
        "num_iter = 50\n",
        "for _ in np.arange(num_iter):\n",
        "    train, test = ckd.split(row_80th)\n",
        "    train_su, test_su = standardize_from_training(train, test)\n",
        "    accuracies_ou = np.append(accuracies_ou, evaluate_accuracy(train, test, 5))\n",
        "    accuracies_su = np.append(accuracies_su, evaluate_accuracy(train_su, test_su, 5))\n",
        "\n",
        "accuracies = Table().with_columns(\n",
        "    'Iteration', np.arange(num_iter),\n",
        "    'Original Units', accuracies_ou,\n",
        "    'Standard Units', accuracies_su\n",
        ")\n",
        "accuracies.plot('Iteration')\n",
        "plt.title('Accuracy for Random Train/Test Splits')\n",
        "plt.show()"
      ]
    },
    {
      "cell_type": "markdown",
      "id": "56316ff4-010a-46f9-b625-dc17fdbf8fc3",
      "metadata": {
        "id": "56316ff4-010a-46f9-b625-dc17fdbf8fc3"
      },
      "source": [
        "---"
      ]
    },
    {
      "cell_type": "markdown",
      "id": "fcc3cb56-6c8f-49cf-adf6-b6f619c1727b",
      "metadata": {
        "id": "fcc3cb56-6c8f-49cf-adf6-b6f619c1727b"
      },
      "source": [
        "## Example: The Google Science Fair"
      ]
    },
    {
      "cell_type": "markdown",
      "id": "dfc6093f-84a0-40c9-9c11-1ec1b65fc1ec",
      "metadata": {
        "id": "dfc6093f-84a0-40c9-9c11-1ec1b65fc1ec"
      },
      "source": [
        "<img src=\"./google_fair.png\" width=60%>\n",
        "\n",
        "[Brittany Wenger](https://edu.google.com/case-studies/brittany-wenger/), a 17-year-old high school student in 2012 won by building a breast cancer classifier with 99% accuracy.\n"
      ]
    },
    {
      "cell_type": "markdown",
      "id": "5d1e27e2-6564-4f0f-870a-012e674f38e5",
      "metadata": {
        "id": "5d1e27e2-6564-4f0f-870a-012e674f38e5"
      },
      "source": [
        "---"
      ]
    },
    {
      "cell_type": "markdown",
      "id": "e7738923-3f74-4b5b-ac3f-03887c2d5d76",
      "metadata": {
        "id": "e7738923-3f74-4b5b-ac3f-03887c2d5d76"
      },
      "source": [
        "### Demo: Google Science Fair"
      ]
    },
    {
      "cell_type": "markdown",
      "id": "5f8a22fa-cbcd-4091-afb8-de1ddf979734",
      "metadata": {
        "deletable": false,
        "editable": false,
        "id": "5f8a22fa-cbcd-4091-afb8-de1ddf979734"
      },
      "source": [
        "- Load the `breast-cancer.csv` dataset, which contains cell measurements and a label: **benign (0)** or **malignant (1)**.  \n",
        "- The values were assigned manually by medical professionals after visually inspecting images.\n",
        "- Visualize the relationship between **Bland Chromatin** and **Single Epithelial Cell Size** to try to classify the cells.\n",
        "    - The scatter plot may look like it has only a few points because many data points overlap.\n",
        "    - This happens because the measurements are not precise numbers but more like categories or rankings, leading to **many repeated values**.\n",
        "    - The `jittered` table adds random noise to the points to make them easier to see and avoid **overplotting**.  \n",
        "    - [What is overplotting?](https://blogs.sas.com/content/iml/2011/07/05/jittering-to-prevent-overplotting-in-statistical-graphics.html#:~:text=Jittering%20is%20the%20act%20of,rounded%20to%20some%20convenient%20unit.)\n",
        "- Split `patients` data into a training set and a test set.\n",
        "- Classify an example patient using 5-NN and check the accuracy."
      ]
    },
    {
      "cell_type": "code",
      "execution_count": null,
      "id": "3597bb6b-374b-4634-bdb6-cbefad990233",
      "metadata": {
        "tags": [],
        "id": "3597bb6b-374b-4634-bdb6-cbefad990233",
        "outputId": "5a6bf484-af0a-4fcd-e55f-1b2125008ebb"
      },
      "outputs": [
        {
          "data": {
            "text/html": [
              "<table border=\"1\" class=\"dataframe\">\n",
              "    <thead>\n",
              "        <tr>\n",
              "            <th>Clump Thickness</th> <th>Uniformity of Cell Size</th> <th>Uniformity of Cell Shape</th> <th>Marginal Adhesion</th> <th>Single Epithelial Cell Size</th> <th>Bare Nuclei</th> <th>Bland Chromatin</th> <th>Normal Nucleoli</th> <th>Mitoses</th> <th>Class</th>\n",
              "        </tr>\n",
              "    </thead>\n",
              "    <tbody>\n",
              "        <tr>\n",
              "            <td>5              </td> <td>1                      </td> <td>1                       </td> <td>1                </td> <td>2                          </td> <td>1          </td> <td>3              </td> <td>1              </td> <td>1      </td> <td>0    </td>\n",
              "        </tr>\n",
              "        <tr>\n",
              "            <td>5              </td> <td>4                      </td> <td>4                       </td> <td>5                </td> <td>7                          </td> <td>10         </td> <td>3              </td> <td>2              </td> <td>1      </td> <td>0    </td>\n",
              "        </tr>\n",
              "        <tr>\n",
              "            <td>3              </td> <td>1                      </td> <td>1                       </td> <td>1                </td> <td>2                          </td> <td>2          </td> <td>3              </td> <td>1              </td> <td>1      </td> <td>0    </td>\n",
              "        </tr>\n",
              "        <tr>\n",
              "            <td>6              </td> <td>8                      </td> <td>8                       </td> <td>1                </td> <td>3                          </td> <td>4          </td> <td>3              </td> <td>7              </td> <td>1      </td> <td>0    </td>\n",
              "        </tr>\n",
              "        <tr>\n",
              "            <td>4              </td> <td>1                      </td> <td>1                       </td> <td>3                </td> <td>2                          </td> <td>1          </td> <td>3              </td> <td>1              </td> <td>1      </td> <td>0    </td>\n",
              "        </tr>\n",
              "    </tbody>\n",
              "</table>\n",
              "<p>... (678 rows omitted)</p>"
            ],
            "text/plain": [
              "<IPython.core.display.HTML object>"
            ]
          },
          "metadata": {},
          "output_type": "display_data"
        }
      ],
      "source": [
        "patients = (Table.read_table('breast-cancer.csv')\n",
        "                 .drop('ID'))\n",
        "patients.show(5)"
      ]
    },
    {
      "cell_type": "code",
      "execution_count": null,
      "id": "bb2f0d5a-0756-4d82-9dc4-9649c842a3a1",
      "metadata": {
        "tags": [],
        "id": "bb2f0d5a-0756-4d82-9dc4-9649c842a3a1",
        "outputId": "0295d878-4234-4678-ce87-ad84ba917aa1"
      },
      "outputs": [
        {
          "data": {
            "text/html": [
              "<table border=\"1\" class=\"dataframe\">\n",
              "    <thead>\n",
              "        <tr>\n",
              "            <th>Class</th> <th>count</th>\n",
              "        </tr>\n",
              "    </thead>\n",
              "    <tbody>\n",
              "        <tr>\n",
              "            <td>0    </td> <td>444  </td>\n",
              "        </tr>\n",
              "        <tr>\n",
              "            <td>1    </td> <td>239  </td>\n",
              "        </tr>\n",
              "    </tbody>\n",
              "</table>"
            ],
            "text/plain": [
              "Class | count\n",
              "0     | 444\n",
              "1     | 239"
            ]
          },
          "execution_count": 29,
          "metadata": {},
          "output_type": "execute_result"
        }
      ],
      "source": [
        "patients.group('Class')"
      ]
    },
    {
      "cell_type": "code",
      "execution_count": null,
      "id": "2b3b2bdd-3333-4427-b055-f872752c33d9",
      "metadata": {
        "tags": [],
        "id": "2b3b2bdd-3333-4427-b055-f872752c33d9",
        "outputId": "e2fcecbe-796c-46dd-ae39-cb1ce1eaa48f"
      },
      "outputs": [
        {
          "data": {
            "image/png": "[encoded data removed]",
            "text/plain": [
              "<Figure size 500x500 with 1 Axes>"
            ]
          },
          "metadata": {},
          "output_type": "display_data"
        }
      ],
      "source": [
        "patients.scatter('Bland Chromatin',\n",
        "                 'Single Epithelial Cell Size',\n",
        "                 group='Class')\n",
        "plt.title('You are witnessing something called overplotting!')\n",
        "plt.show()"
      ]
    },
    {
      "cell_type": "code",
      "execution_count": null,
      "id": "744a22af-89e5-4fef-b592-b58f29ae3d6a",
      "metadata": {
        "tags": [],
        "id": "744a22af-89e5-4fef-b592-b58f29ae3d6a",
        "outputId": "e155b30e-dc5c-4386-f9b3-b8e980d5c114"
      },
      "outputs": [
        {
          "data": {
            "image/png": "[encoded data removed]",
            "text/plain": [
              "<Figure size 500x500 with 1 Axes>"
            ]
          },
          "metadata": {},
          "output_type": "display_data"
        }
      ],
      "source": [
        "def randomize_column(a):\n",
        "    return a + np.random.normal(0.0, 0.09, size=len(a))\n",
        "\n",
        "jittered = Table().with_columns([\n",
        "        'Bland Chromatin (jittered)',\n",
        "        randomize_column(patients.column('Bland Chromatin')),\n",
        "        'Single Epithelial Cell Size (jittered)',\n",
        "        randomize_column(patients.column('Single Epithelial Cell Size')),\n",
        "        'Class',\n",
        "        patients.column('Class')\n",
        "    ])\n",
        "\n",
        "jittered.scatter(0, 1, group='Class')\n",
        "plt.title('Jittering Helps Visually Overcome Overplotting')\n",
        "plt.show()"
      ]
    },
    {
      "cell_type": "code",
      "execution_count": null,
      "id": "a59a5a56-6c57-4f34-ba64-1959fa621a35",
      "metadata": {
        "tags": [],
        "id": "a59a5a56-6c57-4f34-ba64-1959fa621a35"
      },
      "outputs": [],
      "source": [
        "row_80th_percentile = round(patients.num_rows * 0.80)\n",
        "train_bc, test_bc = patients.split(row_80th_percentile)"
      ]
    },
    {
      "cell_type": "code",
      "execution_count": null,
      "id": "74fbdd2f-862c-4e0a-a3a6-76e614733739",
      "metadata": {
        "tags": [],
        "id": "74fbdd2f-862c-4e0a-a3a6-76e614733739",
        "outputId": "34b5145e-621e-4e1c-dde8-a71e98dce367"
      },
      "outputs": [
        {
          "data": {
            "text/plain": [
              "Row(Clump Thickness=1, Uniformity of Cell Size=1, Uniformity of Cell Shape=1, Marginal Adhesion=1, Single Epithelial Cell Size=2, Bare Nuclei=1, Bland Chromatin=1, Normal Nucleoli=1, Mitoses=1)"
            ]
          },
          "execution_count": 33,
          "metadata": {},
          "output_type": "execute_result"
        }
      ],
      "source": [
        "example_patient = test_bc.drop('Class').row(2)\n",
        "example_patient"
      ]
    },
    {
      "cell_type": "code",
      "execution_count": null,
      "id": "6884155f-6d22-4c25-a570-2add8aaf0310",
      "metadata": {
        "tags": [],
        "id": "6884155f-6d22-4c25-a570-2add8aaf0310",
        "outputId": "f7807e13-ee0d-49fa-fbf7-1b8d28b7c1b1"
      },
      "outputs": [
        {
          "data": {
            "image/png": "[encoded data removed]",
            "text/plain": [
              "<Figure size 500x500 with 1 Axes>"
            ]
          },
          "metadata": {},
          "output_type": "display_data"
        }
      ],
      "source": [
        "train_bc.scatter('Bland Chromatin',\n",
        "                 'Single Epithelial Cell Size',\n",
        "                 group='Class')\n",
        "plt.plot(example_patient.item('Bland Chromatin'),\n",
        "         example_patient.item('Single Epithelial Cell Size'),\n",
        "         marker='*', color='red', markersize=12)\n",
        "plt.title('Training Data with Example Patient (Red Star)')\n",
        "plt.show()"
      ]
    },
    {
      "cell_type": "code",
      "execution_count": null,
      "id": "a8847677-bd61-4691-9910-d8ba7fb9e0f6",
      "metadata": {
        "tags": [],
        "id": "a8847677-bd61-4691-9910-d8ba7fb9e0f6",
        "outputId": "8343a8e4-c8d0-4f20-fffc-00720cf214ff"
      },
      "outputs": [
        {
          "data": {
            "text/plain": [
              "0"
            ]
          },
          "execution_count": 35,
          "metadata": {},
          "output_type": "execute_result"
        }
      ],
      "source": [
        "classify(train_bc, example_patient, 5)"
      ]
    },
    {
      "cell_type": "code",
      "execution_count": null,
      "id": "73b33f36-2d34-4870-bc86-502a3655918c",
      "metadata": {
        "tags": [],
        "id": "73b33f36-2d34-4870-bc86-502a3655918c",
        "outputId": "d2595d1c-ce66-466f-e74e-336524a26906"
      },
      "outputs": [
        {
          "data": {
            "text/plain": [
              "0"
            ]
          },
          "execution_count": 36,
          "metadata": {},
          "output_type": "execute_result"
        }
      ],
      "source": [
        "actual_label = test_bc.row(2).item('Class')\n",
        "actual_label"
      ]
    },
    {
      "cell_type": "code",
      "execution_count": null,
      "id": "ef7bb569-56d9-4b9e-8517-58a318011d6a",
      "metadata": {
        "tags": [],
        "id": "ef7bb569-56d9-4b9e-8517-58a318011d6a",
        "outputId": "40d9bf74-ada4-41f1-a7b8-7923e9add779"
      },
      "outputs": [
        {
          "data": {
            "text/html": [
              "<table border=\"1\" class=\"dataframe\">\n",
              "    <thead>\n",
              "        <tr>\n",
              "            <th>Clump Thickness</th> <th>Uniformity of Cell Size</th> <th>Uniformity of Cell Shape</th> <th>Marginal Adhesion</th> <th>Single Epithelial Cell Size</th> <th>Bare Nuclei</th> <th>Bland Chromatin</th> <th>Normal Nucleoli</th> <th>Mitoses</th> <th>Class</th>\n",
              "        </tr>\n",
              "    </thead>\n",
              "    <tbody>\n",
              "        <tr>\n",
              "            <td>10             </td> <td>8                      </td> <td>4                       </td> <td>4                </td> <td>4                          </td> <td>10         </td> <td>3              </td> <td>10             </td> <td>4      </td> <td>1    </td>\n",
              "        </tr>\n",
              "        <tr>\n",
              "            <td>3              </td> <td>1                      </td> <td>1                       </td> <td>1                </td> <td>2                          </td> <td>1          </td> <td>2              </td> <td>3              </td> <td>1      </td> <td>0    </td>\n",
              "        </tr>\n",
              "        <tr>\n",
              "            <td>5              </td> <td>10                     </td> <td>10                      </td> <td>6                </td> <td>10                         </td> <td>10         </td> <td>10             </td> <td>6              </td> <td>5      </td> <td>1    </td>\n",
              "        </tr>\n",
              "        <tr>\n",
              "            <td>3              </td> <td>2                      </td> <td>2                       </td> <td>1                </td> <td>4                          </td> <td>3          </td> <td>2              </td> <td>1              </td> <td>1      </td> <td>0    </td>\n",
              "        </tr>\n",
              "    </tbody>\n",
              "</table>\n",
              "<p>... (542 rows omitted)</p>"
            ],
            "text/plain": [
              "<IPython.core.display.HTML object>"
            ]
          },
          "metadata": {},
          "output_type": "display_data"
        }
      ],
      "source": [
        "train_bc.show(4)"
      ]
    },
    {
      "cell_type": "code",
      "execution_count": null,
      "id": "64a7bf60-3ed0-4693-80a7-86c1bdf3af53",
      "metadata": {
        "id": "64a7bf60-3ed0-4693-80a7-86c1bdf3af53",
        "outputId": "2983c7f5-9842-499e-d4a8-7f8168118cbe"
      },
      "outputs": [
        {
          "data": {
            "text/html": [
              "<table border=\"1\" class=\"dataframe\">\n",
              "    <thead>\n",
              "        <tr>\n",
              "            <th>Clump Thickness</th> <th>Uniformity of Cell Size</th> <th>Uniformity of Cell Shape</th> <th>Marginal Adhesion</th> <th>Single Epithelial Cell Size</th> <th>Bare Nuclei</th> <th>Bland Chromatin</th> <th>Normal Nucleoli</th> <th>Mitoses</th> <th>Class</th>\n",
              "        </tr>\n",
              "    </thead>\n",
              "    <tbody>\n",
              "        <tr>\n",
              "            <td>2              </td> <td>1                      </td> <td>1                       </td> <td>1                </td> <td>2                          </td> <td>1          </td> <td>2              </td> <td>1              </td> <td>1      </td> <td>0    </td>\n",
              "        </tr>\n",
              "        <tr>\n",
              "            <td>4              </td> <td>3                      </td> <td>3                       </td> <td>1                </td> <td>2                          </td> <td>1          </td> <td>3              </td> <td>3              </td> <td>1      </td> <td>0    </td>\n",
              "        </tr>\n",
              "        <tr>\n",
              "            <td>1              </td> <td>1                      </td> <td>1                       </td> <td>1                </td> <td>2                          </td> <td>1          </td> <td>1              </td> <td>1              </td> <td>1      </td> <td>0    </td>\n",
              "        </tr>\n",
              "        <tr>\n",
              "            <td>1              </td> <td>2                      </td> <td>3                       </td> <td>1                </td> <td>2                          </td> <td>1          </td> <td>2              </td> <td>1              </td> <td>1      </td> <td>0    </td>\n",
              "        </tr>\n",
              "    </tbody>\n",
              "</table>\n",
              "<p>... (133 rows omitted)</p>"
            ],
            "text/plain": [
              "<IPython.core.display.HTML object>"
            ]
          },
          "metadata": {},
          "output_type": "display_data"
        }
      ],
      "source": [
        "test_bc.show(4)"
      ]
    },
    {
      "cell_type": "code",
      "execution_count": null,
      "id": "5443969f-b611-4116-b7d9-a90e36902564",
      "metadata": {
        "id": "5443969f-b611-4116-b7d9-a90e36902564",
        "outputId": "4b625ad1-1b7d-493e-b7d7-92e3d35a06c3"
      },
      "outputs": [
        {
          "ename": "ValueError",
          "evalue": "operands could not be broadcast together with shapes (3,) (9,) ",
          "output_type": "error",
          "traceback": [
            "\u001b[0;31m---------------------------------------------------------------------------\u001b[0m",
            "\u001b[0;31mValueError\u001b[0m                                Traceback (most recent call last)",
            "Cell \u001b[0;32mIn[40], line 1\u001b[0m\n\u001b[0;32m----> 1\u001b[0m \u001b[43mevaluate_accuracy\u001b[49m\u001b[43m(\u001b[49m\u001b[43mtrain_bc\u001b[49m\u001b[43m,\u001b[49m\u001b[43m \u001b[49m\u001b[43mtest_bc\u001b[49m\u001b[43m,\u001b[49m\u001b[43m \u001b[49m\u001b[38;5;241;43m5\u001b[39;49m\u001b[43m)\u001b[49m\n",
            "Cell \u001b[0;32mIn[10], line 7\u001b[0m, in \u001b[0;36mevaluate_accuracy\u001b[0;34m(training, test, k)\u001b[0m\n\u001b[1;32m      5\u001b[0m predicted_classes \u001b[38;5;241m=\u001b[39m make_array()\n\u001b[1;32m      6\u001b[0m \u001b[38;5;28;01mfor\u001b[39;00m i \u001b[38;5;129;01min\u001b[39;00m np\u001b[38;5;241m.\u001b[39marange(test\u001b[38;5;241m.\u001b[39mnum_rows):\n\u001b[0;32m----> 7\u001b[0m     predicted_class \u001b[38;5;241m=\u001b[39m \u001b[43mclassify\u001b[49m\u001b[43m(\u001b[49m\u001b[43mtrain\u001b[49m\u001b[43m,\u001b[49m\u001b[43m \u001b[49m\u001b[43mtest_attributes\u001b[49m\u001b[38;5;241;43m.\u001b[39;49m\u001b[43mrow\u001b[49m\u001b[43m(\u001b[49m\u001b[43mi\u001b[49m\u001b[43m)\u001b[49m\u001b[43m,\u001b[49m\u001b[43m \u001b[49m\u001b[43mk\u001b[49m\u001b[43m)\u001b[49m\n\u001b[1;32m      8\u001b[0m     predicted_classes \u001b[38;5;241m=\u001b[39m np\u001b[38;5;241m.\u001b[39mappend(predicted_classes, predicted_class)\n\u001b[1;32m     10\u001b[0m test_with_predictions \u001b[38;5;241m=\u001b[39m test\u001b[38;5;241m.\u001b[39mwith_column(\u001b[38;5;124m'\u001b[39m\u001b[38;5;124mPredicted Class\u001b[39m\u001b[38;5;124m'\u001b[39m, predicted_classes)\n",
            "Cell \u001b[0;32mIn[2], line 39\u001b[0m, in \u001b[0;36mclassify\u001b[0;34m(training, example, k)\u001b[0m\n\u001b[1;32m     34\u001b[0m \u001b[38;5;28;01mdef\u001b[39;00m \u001b[38;5;21mclassify\u001b[39m(training, example, k):\n\u001b[1;32m     35\u001b[0m \u001b[38;5;250m    \u001b[39m\u001b[38;5;124;03m\"\"\"\u001b[39;00m\n\u001b[1;32m     36\u001b[0m \u001b[38;5;124;03m    Return the majority class among the \u001b[39;00m\n\u001b[1;32m     37\u001b[0m \u001b[38;5;124;03m    k nearest neighbors of example\u001b[39;00m\n\u001b[1;32m     38\u001b[0m \u001b[38;5;124;03m    \"\"\"\u001b[39;00m\n\u001b[0;32m---> 39\u001b[0m     \u001b[38;5;28;01mreturn\u001b[39;00m majority_class(\u001b[43mclosest\u001b[49m\u001b[43m(\u001b[49m\u001b[43mtraining\u001b[49m\u001b[43m,\u001b[49m\u001b[43m \u001b[49m\u001b[43mexample\u001b[49m\u001b[43m,\u001b[49m\u001b[43m \u001b[49m\u001b[43mk\u001b[49m\u001b[43m)\u001b[49m)\n",
            "Cell \u001b[0;32mIn[2], line 26\u001b[0m, in \u001b[0;36mclosest\u001b[0;34m(training, example, k)\u001b[0m\n\u001b[1;32m     22\u001b[0m \u001b[38;5;28;01mdef\u001b[39;00m \u001b[38;5;21mclosest\u001b[39m(training, example, k):\n\u001b[1;32m     23\u001b[0m \u001b[38;5;250m    \u001b[39m\u001b[38;5;124;03m\"\"\"\u001b[39;00m\n\u001b[1;32m     24\u001b[0m \u001b[38;5;124;03m    Return a table of the k closest neighbors to example\u001b[39;00m\n\u001b[1;32m     25\u001b[0m \u001b[38;5;124;03m    \"\"\"\u001b[39;00m\n\u001b[0;32m---> 26\u001b[0m     \u001b[38;5;28;01mreturn\u001b[39;00m \u001b[43mdistances\u001b[49m\u001b[43m(\u001b[49m\u001b[43mtraining\u001b[49m\u001b[43m,\u001b[49m\u001b[43m \u001b[49m\u001b[43mexample\u001b[49m\u001b[43m)\u001b[49m\u001b[38;5;241m.\u001b[39msort(\u001b[38;5;124m'\u001b[39m\u001b[38;5;124mDistance_to_ex\u001b[39m\u001b[38;5;124m'\u001b[39m)\u001b[38;5;241m.\u001b[39mtake(np\u001b[38;5;241m.\u001b[39marange(k))\n",
            "Cell \u001b[0;32mIn[2], line 18\u001b[0m, in \u001b[0;36mdistances\u001b[0;34m(training, example)\u001b[0m\n\u001b[1;32m     15\u001b[0m features_only \u001b[38;5;241m=\u001b[39m training\u001b[38;5;241m.\u001b[39mdrop(\u001b[38;5;124m'\u001b[39m\u001b[38;5;124mClass\u001b[39m\u001b[38;5;124m'\u001b[39m)\n\u001b[1;32m     17\u001b[0m \u001b[38;5;28;01mfor\u001b[39;00m row \u001b[38;5;129;01min\u001b[39;00m features_only\u001b[38;5;241m.\u001b[39mrows:\n\u001b[0;32m---> 18\u001b[0m     distances \u001b[38;5;241m=\u001b[39m np\u001b[38;5;241m.\u001b[39mappend(distances, \u001b[43mrow_distance\u001b[49m\u001b[43m(\u001b[49m\u001b[43mrow\u001b[49m\u001b[43m,\u001b[49m\u001b[43m \u001b[49m\u001b[43mexample\u001b[49m\u001b[43m)\u001b[49m)\n\u001b[1;32m     20\u001b[0m \u001b[38;5;28;01mreturn\u001b[39;00m training\u001b[38;5;241m.\u001b[39mwith_column(\u001b[38;5;124m'\u001b[39m\u001b[38;5;124mDistance_to_ex\u001b[39m\u001b[38;5;124m'\u001b[39m, distances)\n",
            "Cell \u001b[0;32mIn[2], line 7\u001b[0m, in \u001b[0;36mrow_distance\u001b[0;34m(row1, row2)\u001b[0m\n\u001b[1;32m      5\u001b[0m \u001b[38;5;28;01mdef\u001b[39;00m \u001b[38;5;21mrow_distance\u001b[39m(row1, row2):\n\u001b[1;32m      6\u001b[0m \u001b[38;5;250m    \u001b[39m\u001b[38;5;124;03m\"\"\"Return the distance between two numerical rows of a table\"\"\"\u001b[39;00m\n\u001b[0;32m----> 7\u001b[0m     \u001b[38;5;28;01mreturn\u001b[39;00m \u001b[43mdistance\u001b[49m\u001b[43m(\u001b[49m\u001b[43mnp\u001b[49m\u001b[38;5;241;43m.\u001b[39;49m\u001b[43marray\u001b[49m\u001b[43m(\u001b[49m\u001b[43mrow1\u001b[49m\u001b[43m)\u001b[49m\u001b[43m,\u001b[49m\u001b[43m \u001b[49m\u001b[43mnp\u001b[49m\u001b[38;5;241;43m.\u001b[39;49m\u001b[43marray\u001b[49m\u001b[43m(\u001b[49m\u001b[43mrow2\u001b[49m\u001b[43m)\u001b[49m\u001b[43m)\u001b[49m\n",
            "Cell \u001b[0;32mIn[2], line 3\u001b[0m, in \u001b[0;36mdistance\u001b[0;34m(pt1, pt2)\u001b[0m\n\u001b[1;32m      1\u001b[0m \u001b[38;5;28;01mdef\u001b[39;00m \u001b[38;5;21mdistance\u001b[39m(pt1, pt2):\n\u001b[1;32m      2\u001b[0m \u001b[38;5;250m    \u001b[39m\u001b[38;5;124;03m\"\"\"Return the distance between two points, represented as arrays\"\"\"\u001b[39;00m\n\u001b[0;32m----> 3\u001b[0m     \u001b[38;5;28;01mreturn\u001b[39;00m np\u001b[38;5;241m.\u001b[39msqrt(\u001b[38;5;28msum\u001b[39m((\u001b[43mpt1\u001b[49m\u001b[43m \u001b[49m\u001b[38;5;241;43m-\u001b[39;49m\u001b[43m \u001b[49m\u001b[43mpt2\u001b[49m)\u001b[38;5;241m*\u001b[39m\u001b[38;5;241m*\u001b[39m\u001b[38;5;241m2\u001b[39m))\n",
            "\u001b[0;31mValueError\u001b[0m: operands could not be broadcast together with shapes (3,) (9,) "
          ]
        }
      ],
      "source": [
        "evaluate_accuracy(train_bc, test_bc, 5)"
      ]
    },
    {
      "cell_type": "markdown",
      "id": "c584ee7a-9042-4058-a62c-d1fa03bc614c",
      "metadata": {
        "id": "c584ee7a-9042-4058-a62c-d1fa03bc614c"
      },
      "source": [
        "---"
      ]
    },
    {
      "cell_type": "markdown",
      "id": "95d82ed3-d34b-4417-9f7d-a9e37595a4de",
      "metadata": {
        "id": "95d82ed3-d34b-4417-9f7d-a9e37595a4de"
      },
      "source": [
        "## Picking `k`"
      ]
    },
    {
      "cell_type": "markdown",
      "id": "df33c56e-9f6e-4e94-8a49-e4d96b97e6ed",
      "metadata": {
        "id": "df33c56e-9f6e-4e94-8a49-e4d96b97e6ed"
      },
      "source": [
        "- How can we decide on which value of `k` to use?\n",
        "    - Evaluate a performance metric for various values of `k`\n",
        "    - Determine the optimal `k` that is found by finding the smallest `k` with the best performance\n",
        "- Do you use the test set for this?\n",
        "    - No! The test should only be used once.\n",
        "    - Instead, when deciding on a good value for `k`\n",
        "        - Split the training set further into 2 sets, training and validation\n",
        "        - Use the validation set to assess the \"accuracy\" for different values of `k`"
      ]
    },
    {
      "cell_type": "markdown",
      "id": "d497c461-372e-4d37-b4e2-771e01c61d4f",
      "metadata": {
        "id": "d497c461-372e-4d37-b4e2-771e01c61d4f"
      },
      "source": [
        "---"
      ]
    },
    {
      "cell_type": "markdown",
      "id": "df8eda82-343b-4ad5-b583-b67f8c0faebc",
      "metadata": {
        "id": "df8eda82-343b-4ad5-b583-b67f8c0faebc"
      },
      "source": [
        "### Demo: Picking `k`"
      ]
    },
    {
      "cell_type": "markdown",
      "id": "b4777e23-4238-4c14-ac73-a09a18b1e319",
      "metadata": {
        "deletable": false,
        "editable": false,
        "id": "b4777e23-4238-4c14-ac73-a09a18b1e319"
      },
      "source": [
        "- Re-split the training set into training and validation sets.\n",
        "- Calculate the accuracy on the validation set for several values of `k`.\n",
        "- Visualize the trend in accuracy over the `k` to find the optimal value."
      ]
    },
    {
      "cell_type": "code",
      "execution_count": null,
      "id": "45226a64-feb0-42cc-858d-d5b53bc035d4",
      "metadata": {
        "tags": [],
        "id": "45226a64-feb0-42cc-858d-d5b53bc035d4"
      },
      "outputs": [],
      "source": [
        "row_70th_percentile = round(train_bc.num_rows*(0.70))\n",
        "new_train, validation = train_bc.split(row_70th_percentile )"
      ]
    },
    {
      "cell_type": "code",
      "execution_count": null,
      "id": "729de358-2c16-47e8-9261-34c926fc90f7",
      "metadata": {
        "tags": [],
        "id": "729de358-2c16-47e8-9261-34c926fc90f7",
        "outputId": "3aa93c4f-c427-40b4-c761-c6564fc5a499"
      },
      "outputs": [
        {
          "data": {
            "text/html": [
              "<table border=\"1\" class=\"dataframe\">\n",
              "    <thead>\n",
              "        <tr>\n",
              "            <th>Clump Thickness</th> <th>Uniformity of Cell Size</th> <th>Uniformity of Cell Shape</th> <th>Marginal Adhesion</th> <th>Single Epithelial Cell Size</th> <th>Bare Nuclei</th> <th>Bland Chromatin</th> <th>Normal Nucleoli</th> <th>Mitoses</th> <th>Class</th>\n",
              "        </tr>\n",
              "    </thead>\n",
              "    <tbody>\n",
              "        <tr>\n",
              "            <td>1              </td> <td>1                      </td> <td>1                       </td> <td>1                </td> <td>2                          </td> <td>1          </td> <td>2              </td> <td>1              </td> <td>1      </td> <td>0    </td>\n",
              "        </tr>\n",
              "        <tr>\n",
              "            <td>1              </td> <td>1                      </td> <td>1                       </td> <td>1                </td> <td>2                          </td> <td>1          </td> <td>3              </td> <td>1              </td> <td>1      </td> <td>0    </td>\n",
              "        </tr>\n",
              "        <tr>\n",
              "            <td>5              </td> <td>8                      </td> <td>8                       </td> <td>10               </td> <td>5                          </td> <td>10         </td> <td>8              </td> <td>10             </td> <td>3      </td> <td>1    </td>\n",
              "        </tr>\n",
              "        <tr>\n",
              "            <td>5              </td> <td>2                      </td> <td>3                       </td> <td>1                </td> <td>6                          </td> <td>10         </td> <td>5              </td> <td>1              </td> <td>1      </td> <td>1    </td>\n",
              "        </tr>\n",
              "    </tbody>\n",
              "</table>\n",
              "<p>... (378 rows omitted)</p>"
            ],
            "text/plain": [
              "<IPython.core.display.HTML object>"
            ]
          },
          "metadata": {},
          "output_type": "display_data"
        }
      ],
      "source": [
        "new_train.show(4)"
      ]
    },
    {
      "cell_type": "code",
      "execution_count": null,
      "id": "33671f4d-01a0-46a3-b46d-074f92bfc301",
      "metadata": {
        "tags": [],
        "id": "33671f4d-01a0-46a3-b46d-074f92bfc301",
        "outputId": "2fbc4a6b-8ea4-4446-95ff-65ba144db9ab"
      },
      "outputs": [
        {
          "data": {
            "text/html": [
              "<table border=\"1\" class=\"dataframe\">\n",
              "    <thead>\n",
              "        <tr>\n",
              "            <th>Clump Thickness</th> <th>Uniformity of Cell Size</th> <th>Uniformity of Cell Shape</th> <th>Marginal Adhesion</th> <th>Single Epithelial Cell Size</th> <th>Bare Nuclei</th> <th>Bland Chromatin</th> <th>Normal Nucleoli</th> <th>Mitoses</th> <th>Class</th>\n",
              "        </tr>\n",
              "    </thead>\n",
              "    <tbody>\n",
              "        <tr>\n",
              "            <td>5              </td> <td>2                      </td> <td>2                       </td> <td>4                </td> <td>2                          </td> <td>4          </td> <td>1              </td> <td>1              </td> <td>1      </td> <td>0    </td>\n",
              "        </tr>\n",
              "        <tr>\n",
              "            <td>5              </td> <td>5                      </td> <td>7                       </td> <td>8                </td> <td>6                          </td> <td>10         </td> <td>7              </td> <td>4              </td> <td>1      </td> <td>1    </td>\n",
              "        </tr>\n",
              "        <tr>\n",
              "            <td>5              </td> <td>1                      </td> <td>3                       </td> <td>1                </td> <td>2                          </td> <td>1          </td> <td>2              </td> <td>1              </td> <td>1      </td> <td>0    </td>\n",
              "        </tr>\n",
              "        <tr>\n",
              "            <td>2              </td> <td>1                      </td> <td>1                       </td> <td>1                </td> <td>1                          </td> <td>1          </td> <td>1              </td> <td>1              </td> <td>1      </td> <td>0    </td>\n",
              "        </tr>\n",
              "    </tbody>\n",
              "</table>\n",
              "<p>... (160 rows omitted)</p>"
            ],
            "text/plain": [
              "<IPython.core.display.HTML object>"
            ]
          },
          "metadata": {},
          "output_type": "display_data"
        }
      ],
      "source": [
        "validation.show(4)"
      ]
    },
    {
      "cell_type": "code",
      "execution_count": null,
      "id": "45315763-0ecb-4819-9ac3-18d0b45c6710",
      "metadata": {
        "tags": [],
        "id": "45315763-0ecb-4819-9ac3-18d0b45c6710"
      },
      "outputs": [],
      "source": [
        "def knn(training, testing, k):\n",
        "    \"\"\"Returns the test predictions in the test set in a table, along with their actual classifications\"\"\"\n",
        "\n",
        "    predictions = make_array()\n",
        "    for i in np.arange(testing.num_rows):\n",
        "        predictions = np.append(predictions, classify(training,\n",
        "                                                     testing.drop('Class').row(i),\n",
        "                                                     k))\n",
        "\n",
        "    knn_table = Table().with_columns('Actual', testing.column('Class'),\n",
        "                                     'Predicted', predictions)\n",
        "\n",
        "    return knn_table"
      ]
    },
    {
      "cell_type": "code",
      "execution_count": null,
      "id": "95fa8a9c-1a1b-468e-a3f6-e3a1ee990585",
      "metadata": {
        "tags": [],
        "id": "95fa8a9c-1a1b-468e-a3f6-e3a1ee990585"
      },
      "outputs": [],
      "source": [
        "def which_k(training, validation, k_values):\n",
        "\n",
        "    accuracies = make_array()\n",
        "\n",
        "    for i in np.arange(np.size(k_values)):\n",
        "\n",
        "        evaluate_accuracy(training, validation, k_values.item(i))\n",
        "        accuracies = np.append(accuracies,\n",
        "                               evaluate_accuracy(training, validation, k_values.item(i)))\n",
        "\n",
        "    k_table = Table().with_columns(\"k\", k_values,\n",
        "                                   \"Accuracy\", accuracies)\n",
        "\n",
        "    return k_table"
      ]
    },
    {
      "cell_type": "code",
      "execution_count": null,
      "id": "8ee0e14d-cfd1-4273-bcf1-ecedb0f433d8",
      "metadata": {
        "tags": [],
        "id": "8ee0e14d-cfd1-4273-bcf1-ecedb0f433d8",
        "outputId": "03e8a37a-b445-47c6-fd9f-22f20a4bbfea"
      },
      "outputs": [
        {
          "ename": "ValueError",
          "evalue": "operands could not be broadcast together with shapes (3,) (9,) ",
          "output_type": "error",
          "traceback": [
            "\u001b[0;31m---------------------------------------------------------------------------\u001b[0m",
            "\u001b[0;31mValueError\u001b[0m                                Traceback (most recent call last)",
            "Cell \u001b[0;32mIn[46], line 2\u001b[0m\n\u001b[1;32m      1\u001b[0m k_s \u001b[38;5;241m=\u001b[39m make_array(\u001b[38;5;241m1\u001b[39m,\u001b[38;5;241m3\u001b[39m,\u001b[38;5;241m5\u001b[39m,\u001b[38;5;241m7\u001b[39m,\u001b[38;5;241m9\u001b[39m,\u001b[38;5;241m11\u001b[39m,\u001b[38;5;241m13\u001b[39m,\u001b[38;5;241m15\u001b[39m,\u001b[38;5;241m17\u001b[39m,\u001b[38;5;241m19\u001b[39m,\u001b[38;5;241m21\u001b[39m,\u001b[38;5;241m23\u001b[39m,\u001b[38;5;241m25\u001b[39m) \u001b[38;5;66;03m# Try many odd k values\u001b[39;00m\n\u001b[0;32m----> 2\u001b[0m k_table \u001b[38;5;241m=\u001b[39m \u001b[43mwhich_k\u001b[49m\u001b[43m(\u001b[49m\u001b[43mnew_train\u001b[49m\u001b[43m,\u001b[49m\u001b[43m \u001b[49m\u001b[43mvalidation\u001b[49m\u001b[43m,\u001b[49m\u001b[43m \u001b[49m\u001b[43mk_s\u001b[49m\u001b[43m)\u001b[49m\n\u001b[1;32m      3\u001b[0m k_table\n",
            "Cell \u001b[0;32mIn[45], line 7\u001b[0m, in \u001b[0;36mwhich_k\u001b[0;34m(training, validation, k_values)\u001b[0m\n\u001b[1;32m      3\u001b[0m accuracies \u001b[38;5;241m=\u001b[39m make_array()\n\u001b[1;32m      5\u001b[0m \u001b[38;5;28;01mfor\u001b[39;00m i \u001b[38;5;129;01min\u001b[39;00m np\u001b[38;5;241m.\u001b[39marange(np\u001b[38;5;241m.\u001b[39msize(k_values)):\n\u001b[0;32m----> 7\u001b[0m     \u001b[43mevaluate_accuracy\u001b[49m\u001b[43m(\u001b[49m\u001b[43mtraining\u001b[49m\u001b[43m,\u001b[49m\u001b[43m \u001b[49m\u001b[43mvalidation\u001b[49m\u001b[43m,\u001b[49m\u001b[43m \u001b[49m\u001b[43mk_values\u001b[49m\u001b[38;5;241;43m.\u001b[39;49m\u001b[43mitem\u001b[49m\u001b[43m(\u001b[49m\u001b[43mi\u001b[49m\u001b[43m)\u001b[49m\u001b[43m)\u001b[49m\n\u001b[1;32m      8\u001b[0m     accuracies \u001b[38;5;241m=\u001b[39m np\u001b[38;5;241m.\u001b[39mappend(accuracies, \n\u001b[1;32m      9\u001b[0m                            evaluate_accuracy(training, validation, k_values\u001b[38;5;241m.\u001b[39mitem(i)))\n\u001b[1;32m     11\u001b[0m k_table \u001b[38;5;241m=\u001b[39m Table()\u001b[38;5;241m.\u001b[39mwith_columns(\u001b[38;5;124m\"\u001b[39m\u001b[38;5;124mk\u001b[39m\u001b[38;5;124m\"\u001b[39m, k_values,\n\u001b[1;32m     12\u001b[0m                                \u001b[38;5;124m\"\u001b[39m\u001b[38;5;124mAccuracy\u001b[39m\u001b[38;5;124m\"\u001b[39m, accuracies)\n",
            "Cell \u001b[0;32mIn[10], line 7\u001b[0m, in \u001b[0;36mevaluate_accuracy\u001b[0;34m(training, test, k)\u001b[0m\n\u001b[1;32m      5\u001b[0m predicted_classes \u001b[38;5;241m=\u001b[39m make_array()\n\u001b[1;32m      6\u001b[0m \u001b[38;5;28;01mfor\u001b[39;00m i \u001b[38;5;129;01min\u001b[39;00m np\u001b[38;5;241m.\u001b[39marange(test\u001b[38;5;241m.\u001b[39mnum_rows):\n\u001b[0;32m----> 7\u001b[0m     predicted_class \u001b[38;5;241m=\u001b[39m \u001b[43mclassify\u001b[49m\u001b[43m(\u001b[49m\u001b[43mtrain\u001b[49m\u001b[43m,\u001b[49m\u001b[43m \u001b[49m\u001b[43mtest_attributes\u001b[49m\u001b[38;5;241;43m.\u001b[39;49m\u001b[43mrow\u001b[49m\u001b[43m(\u001b[49m\u001b[43mi\u001b[49m\u001b[43m)\u001b[49m\u001b[43m,\u001b[49m\u001b[43m \u001b[49m\u001b[43mk\u001b[49m\u001b[43m)\u001b[49m\n\u001b[1;32m      8\u001b[0m     predicted_classes \u001b[38;5;241m=\u001b[39m np\u001b[38;5;241m.\u001b[39mappend(predicted_classes, predicted_class)\n\u001b[1;32m     10\u001b[0m test_with_predictions \u001b[38;5;241m=\u001b[39m test\u001b[38;5;241m.\u001b[39mwith_column(\u001b[38;5;124m'\u001b[39m\u001b[38;5;124mPredicted Class\u001b[39m\u001b[38;5;124m'\u001b[39m, predicted_classes)\n",
            "Cell \u001b[0;32mIn[2], line 39\u001b[0m, in \u001b[0;36mclassify\u001b[0;34m(training, example, k)\u001b[0m\n\u001b[1;32m     34\u001b[0m \u001b[38;5;28;01mdef\u001b[39;00m \u001b[38;5;21mclassify\u001b[39m(training, example, k):\n\u001b[1;32m     35\u001b[0m \u001b[38;5;250m    \u001b[39m\u001b[38;5;124;03m\"\"\"\u001b[39;00m\n\u001b[1;32m     36\u001b[0m \u001b[38;5;124;03m    Return the majority class among the \u001b[39;00m\n\u001b[1;32m     37\u001b[0m \u001b[38;5;124;03m    k nearest neighbors of example\u001b[39;00m\n\u001b[1;32m     38\u001b[0m \u001b[38;5;124;03m    \"\"\"\u001b[39;00m\n\u001b[0;32m---> 39\u001b[0m     \u001b[38;5;28;01mreturn\u001b[39;00m majority_class(\u001b[43mclosest\u001b[49m\u001b[43m(\u001b[49m\u001b[43mtraining\u001b[49m\u001b[43m,\u001b[49m\u001b[43m \u001b[49m\u001b[43mexample\u001b[49m\u001b[43m,\u001b[49m\u001b[43m \u001b[49m\u001b[43mk\u001b[49m\u001b[43m)\u001b[49m)\n",
            "Cell \u001b[0;32mIn[2], line 26\u001b[0m, in \u001b[0;36mclosest\u001b[0;34m(training, example, k)\u001b[0m\n\u001b[1;32m     22\u001b[0m \u001b[38;5;28;01mdef\u001b[39;00m \u001b[38;5;21mclosest\u001b[39m(training, example, k):\n\u001b[1;32m     23\u001b[0m \u001b[38;5;250m    \u001b[39m\u001b[38;5;124;03m\"\"\"\u001b[39;00m\n\u001b[1;32m     24\u001b[0m \u001b[38;5;124;03m    Return a table of the k closest neighbors to example\u001b[39;00m\n\u001b[1;32m     25\u001b[0m \u001b[38;5;124;03m    \"\"\"\u001b[39;00m\n\u001b[0;32m---> 26\u001b[0m     \u001b[38;5;28;01mreturn\u001b[39;00m \u001b[43mdistances\u001b[49m\u001b[43m(\u001b[49m\u001b[43mtraining\u001b[49m\u001b[43m,\u001b[49m\u001b[43m \u001b[49m\u001b[43mexample\u001b[49m\u001b[43m)\u001b[49m\u001b[38;5;241m.\u001b[39msort(\u001b[38;5;124m'\u001b[39m\u001b[38;5;124mDistance_to_ex\u001b[39m\u001b[38;5;124m'\u001b[39m)\u001b[38;5;241m.\u001b[39mtake(np\u001b[38;5;241m.\u001b[39marange(k))\n",
            "Cell \u001b[0;32mIn[2], line 18\u001b[0m, in \u001b[0;36mdistances\u001b[0;34m(training, example)\u001b[0m\n\u001b[1;32m     15\u001b[0m features_only \u001b[38;5;241m=\u001b[39m training\u001b[38;5;241m.\u001b[39mdrop(\u001b[38;5;124m'\u001b[39m\u001b[38;5;124mClass\u001b[39m\u001b[38;5;124m'\u001b[39m)\n\u001b[1;32m     17\u001b[0m \u001b[38;5;28;01mfor\u001b[39;00m row \u001b[38;5;129;01min\u001b[39;00m features_only\u001b[38;5;241m.\u001b[39mrows:\n\u001b[0;32m---> 18\u001b[0m     distances \u001b[38;5;241m=\u001b[39m np\u001b[38;5;241m.\u001b[39mappend(distances, \u001b[43mrow_distance\u001b[49m\u001b[43m(\u001b[49m\u001b[43mrow\u001b[49m\u001b[43m,\u001b[49m\u001b[43m \u001b[49m\u001b[43mexample\u001b[49m\u001b[43m)\u001b[49m)\n\u001b[1;32m     20\u001b[0m \u001b[38;5;28;01mreturn\u001b[39;00m training\u001b[38;5;241m.\u001b[39mwith_column(\u001b[38;5;124m'\u001b[39m\u001b[38;5;124mDistance_to_ex\u001b[39m\u001b[38;5;124m'\u001b[39m, distances)\n",
            "Cell \u001b[0;32mIn[2], line 7\u001b[0m, in \u001b[0;36mrow_distance\u001b[0;34m(row1, row2)\u001b[0m\n\u001b[1;32m      5\u001b[0m \u001b[38;5;28;01mdef\u001b[39;00m \u001b[38;5;21mrow_distance\u001b[39m(row1, row2):\n\u001b[1;32m      6\u001b[0m \u001b[38;5;250m    \u001b[39m\u001b[38;5;124;03m\"\"\"Return the distance between two numerical rows of a table\"\"\"\u001b[39;00m\n\u001b[0;32m----> 7\u001b[0m     \u001b[38;5;28;01mreturn\u001b[39;00m \u001b[43mdistance\u001b[49m\u001b[43m(\u001b[49m\u001b[43mnp\u001b[49m\u001b[38;5;241;43m.\u001b[39;49m\u001b[43marray\u001b[49m\u001b[43m(\u001b[49m\u001b[43mrow1\u001b[49m\u001b[43m)\u001b[49m\u001b[43m,\u001b[49m\u001b[43m \u001b[49m\u001b[43mnp\u001b[49m\u001b[38;5;241;43m.\u001b[39;49m\u001b[43marray\u001b[49m\u001b[43m(\u001b[49m\u001b[43mrow2\u001b[49m\u001b[43m)\u001b[49m\u001b[43m)\u001b[49m\n",
            "Cell \u001b[0;32mIn[2], line 3\u001b[0m, in \u001b[0;36mdistance\u001b[0;34m(pt1, pt2)\u001b[0m\n\u001b[1;32m      1\u001b[0m \u001b[38;5;28;01mdef\u001b[39;00m \u001b[38;5;21mdistance\u001b[39m(pt1, pt2):\n\u001b[1;32m      2\u001b[0m \u001b[38;5;250m    \u001b[39m\u001b[38;5;124;03m\"\"\"Return the distance between two points, represented as arrays\"\"\"\u001b[39;00m\n\u001b[0;32m----> 3\u001b[0m     \u001b[38;5;28;01mreturn\u001b[39;00m np\u001b[38;5;241m.\u001b[39msqrt(\u001b[38;5;28msum\u001b[39m((\u001b[43mpt1\u001b[49m\u001b[43m \u001b[49m\u001b[38;5;241;43m-\u001b[39;49m\u001b[43m \u001b[49m\u001b[43mpt2\u001b[49m)\u001b[38;5;241m*\u001b[39m\u001b[38;5;241m*\u001b[39m\u001b[38;5;241m2\u001b[39m))\n",
            "\u001b[0;31mValueError\u001b[0m: operands could not be broadcast together with shapes (3,) (9,) "
          ]
        }
      ],
      "source": [
        "k_s = make_array(1,3,5,7,9,11,13,15,17,19,21,23,25) # Try many odd k values\n",
        "k_table = which_k(new_train, validation, k_s)\n",
        "k_table"
      ]
    },
    {
      "cell_type": "code",
      "execution_count": null,
      "id": "778bc1d3-3ba5-496b-96ce-d9681fbfe03e",
      "metadata": {
        "tags": [],
        "id": "778bc1d3-3ba5-496b-96ce-d9681fbfe03e"
      },
      "outputs": [],
      "source": [
        "k_table.plot('k', 'Accuracy')\n",
        "plt.title('The best k for the job is...?');"
      ]
    },
    {
      "cell_type": "markdown",
      "id": "ca9b419f-99f3-435a-a002-4a73885c9e61",
      "metadata": {
        "id": "ca9b419f-99f3-435a-a002-4a73885c9e61"
      },
      "source": [
        "---"
      ]
    },
    {
      "cell_type": "markdown",
      "id": "b39b3d9c-c13a-48dd-b476-69d31919dde7",
      "metadata": {
        "editable": true,
        "tags": [],
        "id": "b39b3d9c-c13a-48dd-b476-69d31919dde7"
      },
      "source": [
        "## Attribution"
      ]
    },
    {
      "cell_type": "markdown",
      "id": "569e5c2f-0061-42cd-aac6-527c3dd24527",
      "metadata": {
        "id": "569e5c2f-0061-42cd-aac6-527c3dd24527"
      },
      "source": [
        "This content is licensed under the <a href=\"https://creativecommons.org/licenses/by-nc-sa/4.0/\">Creative Commons Attribution-NonCommercial-ShareAlike 4.0 International License (CC BY-NC-SA 4.0)</a> and derived from the <a href=\"https://www.data8.org/\">Data 8: The Foundations of Data Science</a> offered by the University of California, Berkeley.\n",
        "\n",
        "<img src=\"./by-nc-sa.png\" width=100px>"
      ]
    }
  ],
  "metadata": {
    "kernelspec": {
      "display_name": "Python 3 (ipykernel)",
      "language": "python",
      "name": "python3"
    },
    "language_info": {
      "codemirror_mode": {
        "name": "ipython",
        "version": 3
      },
      "file_extension": ".py",
      "mimetype": "text/x-python",
      "name": "python",
      "nbconvert_exporter": "python",
      "pygments_lexer": "ipython3",
      "version": "3.11.9"
    },
    "otter": {
      "OK_FORMAT": true,
      "tests": {}
    },
    "colab": {
      "provenance": [],
      "include_colab_link": true
    }
  },
  "nbformat": 4,
  "nbformat_minor": 5
}