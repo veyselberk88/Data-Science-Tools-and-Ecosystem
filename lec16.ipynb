{
  "cells": [
    {
      "cell_type": "markdown",
      "metadata": {
        "id": "view-in-github",
        "colab_type": "text"
      },
      "source": [
        "<a href=\"https://colab.research.google.com/github/veyselberk88/Data-Science-Tools-and-Ecosystem/blob/main/lec16.ipynb\" target=\"_parent\"><img src=\"https://colab.research.google.com/assets/colab-badge.svg\" alt=\"Open In Colab\"/></a>"
      ]
    },
    {
      "cell_type": "markdown",
      "id": "7940c9a2-4ef0-4ff5-ad1c-dfa1f16c4681",
      "metadata": {
        "id": "7940c9a2-4ef0-4ff5-ad1c-dfa1f16c4681"
      },
      "source": [
        "<img src=\"./ccsf.png\" alt=\"CCSF Logo\" width=200px style=\"margin:0px -5px\">"
      ]
    },
    {
      "cell_type": "markdown",
      "id": "a8f0d2e4-73c7-4bf7-9d36-2c8b41d9a28b",
      "metadata": {
        "id": "a8f0d2e4-73c7-4bf7-9d36-2c8b41d9a28b"
      },
      "source": [
        "# Lecture 16: Sampling"
      ]
    },
    {
      "cell_type": "markdown",
      "id": "1dd99790-0415-4979-8a5a-bc611423323c",
      "metadata": {
        "id": "1dd99790-0415-4979-8a5a-bc611423323c"
      },
      "source": [
        "Associated Textbook Section: [10.0](https://ccsf-math-108.github.io/textbook/chapters/10/Sampling_and_Empirical_Distributions.html)"
      ]
    },
    {
      "cell_type": "markdown",
      "id": "377dc20a-3a54-49c0-a10f-182f76ccf663",
      "metadata": {
        "id": "377dc20a-3a54-49c0-a10f-182f76ccf663"
      },
      "source": [
        "---"
      ]
    },
    {
      "cell_type": "markdown",
      "id": "af4e0622-b0aa-4cd2-8610-d12e1ccf134f",
      "metadata": {
        "id": "af4e0622-b0aa-4cd2-8610-d12e1ccf134f"
      },
      "source": [
        "## Outline"
      ]
    },
    {
      "cell_type": "markdown",
      "id": "a2d4a810-f83a-4881-94c4-f7fe79406461",
      "metadata": {
        "id": "a2d4a810-f83a-4881-94c4-f7fe79406461"
      },
      "source": [
        "* [Sampling](#Sampling)\n",
        "* [Sampling with Technology](#Sampling-with-Technology)"
      ]
    },
    {
      "cell_type": "markdown",
      "id": "6e918755-7fcb-4e4b-a13d-4981bd11be59",
      "metadata": {
        "id": "6e918755-7fcb-4e4b-a13d-4981bd11be59"
      },
      "source": [
        "---"
      ]
    },
    {
      "cell_type": "markdown",
      "id": "72899e80-153b-416c-9d2d-decf2f9f6fb3",
      "metadata": {
        "id": "72899e80-153b-416c-9d2d-decf2f9f6fb3"
      },
      "source": [
        "## Set Up the Notebook"
      ]
    },
    {
      "cell_type": "code",
      "execution_count": null,
      "id": "6a0c9fe7-80a4-4c46-a688-63a9552b546b",
      "metadata": {
        "id": "6a0c9fe7-80a4-4c46-a688-63a9552b546b"
      },
      "outputs": [],
      "source": [
        "from datascience import *\n",
        "import numpy as np\n",
        "%matplotlib inline\n",
        "import matplotlib.pyplot as plt\n",
        "plt.style.use('fivethirtyeight')"
      ]
    },
    {
      "cell_type": "markdown",
      "id": "24dd2b9c-4db7-4d85-a40c-d22ac3a3a28e",
      "metadata": {
        "id": "24dd2b9c-4db7-4d85-a40c-d22ac3a3a28e"
      },
      "source": [
        "---"
      ]
    },
    {
      "cell_type": "markdown",
      "id": "75369240-7a98-414c-afed-db2e32f46f98",
      "metadata": {
        "id": "75369240-7a98-414c-afed-db2e32f46f98"
      },
      "source": [
        "## Sampling"
      ]
    },
    {
      "cell_type": "markdown",
      "id": "a0cbcf1e-7d95-4e4c-b09b-4edc50b1c020",
      "metadata": {
        "id": "a0cbcf1e-7d95-4e4c-b09b-4edc50b1c020"
      },
      "source": [
        "---"
      ]
    },
    {
      "cell_type": "markdown",
      "id": "2e9e7c14-fb19-4613-ba71-dc80e62ed241",
      "metadata": {
        "id": "2e9e7c14-fb19-4613-ba71-dc80e62ed241"
      },
      "source": [
        "### Random Samples"
      ]
    },
    {
      "cell_type": "markdown",
      "id": "e064f4be-5f8f-4822-8029-b0d6e2cd7baa",
      "metadata": {
        "id": "e064f4be-5f8f-4822-8029-b0d6e2cd7baa"
      },
      "source": [
        "<a href=\"https://en.wikipedia.org/wiki/Sampling_(statistics)\"><img src=\"./simple_random_sampling.png\" width=400px alt=\"A visual representation of selecting a simple random sample.\"/></a>\n",
        "\n",
        "* Population: Set of all elements from whom a sample will be drawn\n",
        "* Deterministic sample: The sampling scheme doesn't involve chance\n",
        "* Random (Probability) sample:\n",
        "    * Before the sample is drawn, you have to know the selection probability of every group of people in the population\n",
        "    * Not all individuals/groups have to have an equal chance of being selected\n",
        "    * If the chances are equal, then the sample is a simple random sample."
      ]
    },
    {
      "cell_type": "markdown",
      "id": "9d2cd3bc-0c35-4775-8308-6f0cd0a93d8e",
      "metadata": {
        "id": "9d2cd3bc-0c35-4775-8308-6f0cd0a93d8e"
      },
      "source": [
        "---"
      ]
    },
    {
      "cell_type": "markdown",
      "id": "f33a4422-6bf4-4beb-a82d-e62a24fa2c69",
      "metadata": {
        "id": "f33a4422-6bf4-4beb-a82d-e62a24fa2c69"
      },
      "source": [
        "### Sample of Convenience"
      ]
    },
    {
      "cell_type": "markdown",
      "id": "311898d8-43e6-47f6-afda-7378154f872c",
      "metadata": {
        "id": "311898d8-43e6-47f6-afda-7378154f872c"
      },
      "source": [
        "* Example: sample consists of whoever walks by\n",
        "* Just because you think you're sampling \"randomly\", doesn't mean you have a random sample.\n",
        "* If you can't figure out the following ahead of time, then you don't have a random sample\n",
        "    * what's the population\n",
        "    * what's the chance of selection, for each group in the population"
      ]
    },
    {
      "cell_type": "markdown",
      "id": "d3cac60c-d631-4349-a877-f7d372f82331",
      "metadata": {
        "id": "d3cac60c-d631-4349-a877-f7d372f82331"
      },
      "source": [
        "---"
      ]
    },
    {
      "cell_type": "markdown",
      "id": "c56314ae-46f7-4bc0-b630-ff5489bfdc8c",
      "metadata": {
        "id": "c56314ae-46f7-4bc0-b630-ff5489bfdc8c"
      },
      "source": [
        "### With and Without Replacement"
      ]
    },
    {
      "cell_type": "markdown",
      "id": "e479c7b1-2d44-410d-b50c-7d572ca24232",
      "metadata": {
        "id": "e479c7b1-2d44-410d-b50c-7d572ca24232"
      },
      "source": [
        "<a href=\"https://towardsdatascience.com/an-introduction-to-probability-sampling-methods-7a936e486b5/\"><img src=\"./sampling.webp\" width=700px alt=\"A visual representation of sampling with and without replacement.\"/></a>\n",
        "\n",
        "* Sampling with Replacement:\n",
        "    * One event happening does not impact the chance of another event happening\n",
        "    * Associated with the concept called independent events.\n",
        "* Sampling without Replacement:\n",
        "    * One event happening may impact the chance of another event happening\n",
        "    * Associated with the concept called dependent events."
      ]
    },
    {
      "cell_type": "markdown",
      "id": "21c17d3e-e4d0-45ba-9170-89414a54d8a3",
      "metadata": {
        "id": "21c17d3e-e4d0-45ba-9170-89414a54d8a3"
      },
      "source": [
        "---"
      ]
    },
    {
      "cell_type": "markdown",
      "id": "9dadb6bc-cc90-4828-9165-16769a85b64d",
      "metadata": {
        "id": "9dadb6bc-cc90-4828-9165-16769a85b64d"
      },
      "source": [
        "## Sampling with Technology"
      ]
    },
    {
      "cell_type": "markdown",
      "id": "a8f59ea8-afbe-431b-8366-4fa910b3e15c",
      "metadata": {
        "id": "a8f59ea8-afbe-431b-8366-4fa910b3e15c"
      },
      "source": [
        "---"
      ]
    },
    {
      "cell_type": "markdown",
      "id": "57b5a831-bc24-49f3-9523-e825ae7a825b",
      "metadata": {
        "id": "57b5a831-bc24-49f3-9523-e825ae7a825b"
      },
      "source": [
        "### Sampling from Arrays and Tables"
      ]
    },
    {
      "cell_type": "markdown",
      "id": "721fa1de-de20-41d3-9e55-6022d3d318b4",
      "metadata": {
        "id": "721fa1de-de20-41d3-9e55-6022d3d318b4"
      },
      "source": [
        "* Sampling from a table\n",
        "    * Use can use `take` to systematically sample data from a table\n",
        "    * `tbl.sample(k=n, with_replacement=True)`:\n",
        "        * Randomly samples with replacement `n` rows from `tbl` and creates a new table\n",
        "        * `k` is `tbl.num_rows` by default\n",
        "        * `with_replacement` is `True` by default\n",
        "* Sampling from an array\n",
        "    * `np.random.choice(a=an_array, size=n, replace=True)`:\n",
        "        * Randomly samples with replacement `n` elements from the elements in `an_array`\n",
        "        * `size` is 1 by default\n",
        "        * `replace` is `True` by default"
      ]
    },
    {
      "cell_type": "markdown",
      "id": "2787bbf7-26d8-4f41-a19c-941d25739ef2",
      "metadata": {
        "id": "2787bbf7-26d8-4f41-a19c-941d25739ef2"
      },
      "source": [
        "---"
      ]
    },
    {
      "cell_type": "markdown",
      "id": "59353222-ee58-4607-81f0-98034eccba08",
      "metadata": {
        "id": "59353222-ee58-4607-81f0-98034eccba08"
      },
      "source": [
        "### Demo: Sampling from Arrays and Tables"
      ]
    },
    {
      "cell_type": "markdown",
      "id": "c0529fe7-d985-4792-91fc-b3ea388b29ac",
      "metadata": {
        "id": "c0529fe7-d985-4792-91fc-b3ea388b29ac"
      },
      "source": [
        "<a href=\"https://www.bts.gov/\"><img src=\"./Tarmac.png\" alt=\"An airplane landing on a tarmac.\"/></a>\n",
        "\n",
        "Load the November 2023 flight delay data in `delay.csv` sourced from the [Bureau of Transportation Statistic's Reporting Carrier On-Time Performance Data](https://www.transtats.bts.gov/DL_SelectFields.aspx?gnoyr_VQ=FGJ&QO_fu146_anzr=b0-gvzr). The variable `ARR_DELAY` contains the difference in minutes between scheduled and actual arrival time at the destination airport `DEST`. Early arrivals show negative numbers, and the airline code is expressed in the variable `OP_CARRIER`."
      ]
    },
    {
      "cell_type": "code",
      "execution_count": null,
      "id": "e990e8e1-796a-4c39-ab9a-5215bf715ae0",
      "metadata": {
        "id": "e990e8e1-796a-4c39-ab9a-5215bf715ae0",
        "outputId": "06cbebee-da2d-4da6-cdd6-4e668a85a2eb"
      },
      "outputs": [
        {
          "data": {
            "text/html": [
              "<table border=\"1\" class=\"dataframe\">\n",
              "    <thead>\n",
              "        <tr>\n",
              "            <th>FL_DATE</th> <th>OP_CARRIER</th> <th>ORIGIN</th> <th>DEST</th> <th>ARR_DELAY</th>\n",
              "        </tr>\n",
              "    </thead>\n",
              "    <tbody>\n",
              "        <tr>\n",
              "            <td>11/1/2023 12:00:00 AM</td> <td>9E        </td> <td>ABE   </td> <td>ATL </td> <td>-22      </td>\n",
              "        </tr>\n",
              "        <tr>\n",
              "            <td>11/1/2023 12:00:00 AM</td> <td>9E        </td> <td>ABE   </td> <td>ATL </td> <td>-7       </td>\n",
              "        </tr>\n",
              "        <tr>\n",
              "            <td>11/1/2023 12:00:00 AM</td> <td>9E        </td> <td>ABY   </td> <td>ATL </td> <td>-21      </td>\n",
              "        </tr>\n",
              "        <tr>\n",
              "            <td>11/1/2023 12:00:00 AM</td> <td>9E        </td> <td>ABY   </td> <td>ATL </td> <td>-11      </td>\n",
              "        </tr>\n",
              "        <tr>\n",
              "            <td>11/1/2023 12:00:00 AM</td> <td>9E        </td> <td>AEX   </td> <td>ATL </td> <td>-27      </td>\n",
              "        </tr>\n",
              "        <tr>\n",
              "            <td>11/1/2023 12:00:00 AM</td> <td>9E        </td> <td>AEX   </td> <td>ATL </td> <td>-10      </td>\n",
              "        </tr>\n",
              "        <tr>\n",
              "            <td>11/1/2023 12:00:00 AM</td> <td>9E        </td> <td>AGS   </td> <td>ATL </td> <td>-18      </td>\n",
              "        </tr>\n",
              "        <tr>\n",
              "            <td>11/1/2023 12:00:00 AM</td> <td>9E        </td> <td>AGS   </td> <td>ATL </td> <td>-15      </td>\n",
              "        </tr>\n",
              "        <tr>\n",
              "            <td>11/1/2023 12:00:00 AM</td> <td>9E        </td> <td>ALB   </td> <td>DTW </td> <td>-13      </td>\n",
              "        </tr>\n",
              "        <tr>\n",
              "            <td>11/1/2023 12:00:00 AM</td> <td>9E        </td> <td>ALB   </td> <td>LGA </td> <td>-15      </td>\n",
              "        </tr>\n",
              "    </tbody>\n",
              "</table>\n",
              "<p>... (563767 rows omitted)</p>"
            ],
            "text/plain": [
              "FL_DATE               | OP_CARRIER | ORIGIN | DEST | ARR_DELAY\n",
              "11/1/2023 12:00:00 AM | 9E         | ABE    | ATL  | -22\n",
              "11/1/2023 12:00:00 AM | 9E         | ABE    | ATL  | -7\n",
              "11/1/2023 12:00:00 AM | 9E         | ABY    | ATL  | -21\n",
              "11/1/2023 12:00:00 AM | 9E         | ABY    | ATL  | -11\n",
              "11/1/2023 12:00:00 AM | 9E         | AEX    | ATL  | -27\n",
              "11/1/2023 12:00:00 AM | 9E         | AEX    | ATL  | -10\n",
              "11/1/2023 12:00:00 AM | 9E         | AGS    | ATL  | -18\n",
              "11/1/2023 12:00:00 AM | 9E         | AGS    | ATL  | -15\n",
              "11/1/2023 12:00:00 AM | 9E         | ALB    | DTW  | -13\n",
              "11/1/2023 12:00:00 AM | 9E         | ALB    | LGA  | -15\n",
              "... (563767 rows omitted)"
            ]
          },
          "execution_count": 2,
          "metadata": {},
          "output_type": "execute_result"
        }
      ],
      "source": [
        "delays = Table.read_table('delays.csv')\n",
        "delays"
      ]
    },
    {
      "cell_type": "markdown",
      "id": "a74866ea-3e5c-403f-8e6d-2d2ee5800e3c",
      "metadata": {
        "id": "a74866ea-3e5c-403f-8e6d-2d2ee5800e3c"
      },
      "source": [
        "---"
      ]
    },
    {
      "cell_type": "markdown",
      "id": "7f9233e2-044d-4c95-8ef2-c7cff75989a8",
      "metadata": {
        "deletable": false,
        "editable": false,
        "id": "7f9233e2-044d-4c95-8ef2-c7cff75989a8"
      },
      "source": [
        "Demonstrate how to use the `take` method to sample the data in a few ways."
      ]
    },
    {
      "cell_type": "code",
      "execution_count": null,
      "id": "36504fe6-3467-415d-964a-f295e4b470a2",
      "metadata": {
        "tags": [],
        "id": "36504fe6-3467-415d-964a-f295e4b470a2",
        "outputId": "77276d5b-fe04-4df5-b96a-5d6e895f0dd8"
      },
      "outputs": [
        {
          "data": {
            "text/html": [
              "<table border=\"1\" class=\"dataframe\">\n",
              "    <thead>\n",
              "        <tr>\n",
              "            <th>FL_DATE</th> <th>OP_CARRIER</th> <th>ORIGIN</th> <th>DEST</th> <th>ARR_DELAY</th>\n",
              "        </tr>\n",
              "    </thead>\n",
              "    <tbody>\n",
              "        <tr>\n",
              "            <td>11/1/2023 12:00:00 AM</td> <td>9E        </td> <td>ATL   </td> <td>HPN </td> <td>-15      </td>\n",
              "        </tr>\n",
              "        <tr>\n",
              "            <td>11/1/2023 12:00:00 AM</td> <td>9E        </td> <td>EWR   </td> <td>CVG </td> <td>-27      </td>\n",
              "        </tr>\n",
              "        <tr>\n",
              "            <td>11/1/2023 12:00:00 AM</td> <td>B6        </td> <td>BOS   </td> <td>LGA </td> <td>-18      </td>\n",
              "        </tr>\n",
              "    </tbody>\n",
              "</table>"
            ],
            "text/plain": [
              "FL_DATE               | OP_CARRIER | ORIGIN | DEST | ARR_DELAY\n",
              "11/1/2023 12:00:00 AM | 9E         | ATL    | HPN  | -15\n",
              "11/1/2023 12:00:00 AM | 9E         | EWR    | CVG  | -27\n",
              "11/1/2023 12:00:00 AM | B6         | BOS    | LGA  | -18"
            ]
          },
          "execution_count": 3,
          "metadata": {},
          "output_type": "execute_result"
        }
      ],
      "source": [
        "delays.take(make_array(34,221,4000))"
      ]
    },
    {
      "cell_type": "code",
      "execution_count": null,
      "id": "b466d116-0f90-47ca-b612-1aa8f6a579e8",
      "metadata": {
        "tags": [],
        "id": "b466d116-0f90-47ca-b612-1aa8f6a579e8",
        "outputId": "dddc770a-92cb-43ec-b058-321b5619d59c"
      },
      "outputs": [
        {
          "data": {
            "text/html": [
              "<table border=\"1\" class=\"dataframe\">\n",
              "    <thead>\n",
              "        <tr>\n",
              "            <th>FL_DATE</th> <th>OP_CARRIER</th> <th>ORIGIN</th> <th>DEST</th> <th>ARR_DELAY</th>\n",
              "        </tr>\n",
              "    </thead>\n",
              "    <tbody>\n",
              "        <tr>\n",
              "            <td>11/1/2023 12:00:00 AM</td> <td>9E        </td> <td>ABE   </td> <td>ATL </td> <td>-22      </td>\n",
              "        </tr>\n",
              "        <tr>\n",
              "            <td>11/1/2023 12:00:00 AM</td> <td>OO        </td> <td>COS   </td> <td>ORD </td> <td>-7       </td>\n",
              "        </tr>\n",
              "        <tr>\n",
              "            <td>11/2/2023 12:00:00 AM</td> <td>AA        </td> <td>DFW   </td> <td>MSP </td> <td>-7       </td>\n",
              "        </tr>\n",
              "        <tr>\n",
              "            <td>11/2/2023 12:00:00 AM</td> <td>OO        </td> <td>MBS   </td> <td>DTW </td> <td>-19      </td>\n",
              "        </tr>\n",
              "        <tr>\n",
              "            <td>11/3/2023 12:00:00 AM</td> <td>AA        </td> <td>DFW   </td> <td>VPS </td> <td>-8       </td>\n",
              "        </tr>\n",
              "        <tr>\n",
              "            <td>11/3/2023 12:00:00 AM</td> <td>OO        </td> <td>ORD   </td> <td>JFK </td> <td>-15      </td>\n",
              "        </tr>\n",
              "        <tr>\n",
              "            <td>11/4/2023 12:00:00 AM</td> <td>AA        </td> <td>MIA   </td> <td>TPA </td> <td>-14      </td>\n",
              "        </tr>\n",
              "        <tr>\n",
              "            <td>11/4/2023 12:00:00 AM</td> <td>UA        </td> <td>LAX   </td> <td>SEA </td> <td>3        </td>\n",
              "        </tr>\n",
              "        <tr>\n",
              "            <td>11/5/2023 12:00:00 AM</td> <td>DL        </td> <td>BOI   </td> <td>ATL </td> <td>-39      </td>\n",
              "        </tr>\n",
              "        <tr>\n",
              "            <td>11/5/2023 12:00:00 AM</td> <td>WN        </td> <td>BWI   </td> <td>TPA </td> <td>-11      </td>\n",
              "        </tr>\n",
              "    </tbody>\n",
              "</table>\n",
              "<p>... (47 rows omitted)</p>"
            ],
            "text/plain": [
              "FL_DATE               | OP_CARRIER | ORIGIN | DEST | ARR_DELAY\n",
              "11/1/2023 12:00:00 AM | 9E         | ABE    | ATL  | -22\n",
              "11/1/2023 12:00:00 AM | OO         | COS    | ORD  | -7\n",
              "11/2/2023 12:00:00 AM | AA         | DFW    | MSP  | -7\n",
              "11/2/2023 12:00:00 AM | OO         | MBS    | DTW  | -19\n",
              "11/3/2023 12:00:00 AM | AA         | DFW    | VPS  | -8\n",
              "11/3/2023 12:00:00 AM | OO         | ORD    | JFK  | -15\n",
              "11/4/2023 12:00:00 AM | AA         | MIA    | TPA  | -14\n",
              "11/4/2023 12:00:00 AM | UA         | LAX    | SEA  | 3\n",
              "11/5/2023 12:00:00 AM | DL         | BOI    | ATL  | -39\n",
              "11/5/2023 12:00:00 AM | WN         | BWI    | TPA  | -11\n",
              "... (47 rows omitted)"
            ]
          },
          "execution_count": 4,
          "metadata": {},
          "output_type": "execute_result"
        }
      ],
      "source": [
        "delays.take(np.arange(0,delays.num_rows,10_000))"
      ]
    },
    {
      "cell_type": "code",
      "execution_count": null,
      "id": "c4b1bfae-814f-4b4a-85b5-791eabfc5b31",
      "metadata": {
        "id": "c4b1bfae-814f-4b4a-85b5-791eabfc5b31",
        "outputId": "6df578f5-cefa-4822-91c0-88813212be2a"
      },
      "outputs": [
        {
          "data": {
            "text/plain": [
              "7930"
            ]
          },
          "execution_count": 5,
          "metadata": {},
          "output_type": "execute_result"
        }
      ],
      "source": [
        "start=np.random.choice(np.arange(10_000))\n",
        "start"
      ]
    },
    {
      "cell_type": "code",
      "execution_count": null,
      "id": "ece79467-d858-485c-8836-5236aa2776a2",
      "metadata": {
        "id": "ece79467-d858-485c-8836-5236aa2776a2",
        "outputId": "71617e85-ce84-43b1-c2f6-fdd6abe3138f"
      },
      "outputs": [
        {
          "data": {
            "text/html": [
              "<table border=\"1\" class=\"dataframe\">\n",
              "    <thead>\n",
              "        <tr>\n",
              "            <th>FL_DATE</th> <th>OP_CARRIER</th> <th>ORIGIN</th> <th>DEST</th> <th>ARR_DELAY</th>\n",
              "        </tr>\n",
              "    </thead>\n",
              "    <tbody>\n",
              "        <tr>\n",
              "            <td>11/1/2023 12:00:00 AM </td> <td>MQ        </td> <td>CRP   </td> <td>DFW </td> <td>-13      </td>\n",
              "        </tr>\n",
              "        <tr>\n",
              "            <td>11/1/2023 12:00:00 AM </td> <td>YX        </td> <td>EWR   </td> <td>BUF </td> <td>-11      </td>\n",
              "        </tr>\n",
              "        <tr>\n",
              "            <td>11/2/2023 12:00:00 AM </td> <td>NK        </td> <td>EWR   </td> <td>IND </td> <td>1        </td>\n",
              "        </tr>\n",
              "        <tr>\n",
              "            <td>11/2/2023 12:00:00 AM </td> <td>YX        </td> <td>LGA   </td> <td>BOS </td> <td>-16      </td>\n",
              "        </tr>\n",
              "        <tr>\n",
              "            <td>11/3/2023 12:00:00 AM </td> <td>NK        </td> <td>MCO   </td> <td>CLE </td> <td>28       </td>\n",
              "        </tr>\n",
              "        <tr>\n",
              "            <td>11/3/2023 12:00:00 AM </td> <td>YX        </td> <td>SDF   </td> <td>EWR </td> <td>-3       </td>\n",
              "        </tr>\n",
              "        <tr>\n",
              "            <td>11/4/2023 12:00:00 AM </td> <td>OO        </td> <td>LAX   </td> <td>PHX </td> <td>-11      </td>\n",
              "        </tr>\n",
              "        <tr>\n",
              "            <td>11/5/2023 12:00:00 AM </td> <td>AA        </td> <td>VPS   </td> <td>DFW </td> <td>192      </td>\n",
              "        </tr>\n",
              "        <tr>\n",
              "            <td>11/5/2023 12:00:00 AM </td> <td>UA        </td> <td>EWR   </td> <td>SAN </td> <td>-36      </td>\n",
              "        </tr>\n",
              "        <tr>\n",
              "            <td>11/6/2023 12:00:00 AM </td> <td>AS        </td> <td>SEA   </td> <td>SNA </td> <td>-1       </td>\n",
              "        </tr>\n",
              "        <tr>\n",
              "            <td>11/6/2023 12:00:00 AM </td> <td>UA        </td> <td>JAX   </td> <td>EWR </td> <td>-18      </td>\n",
              "        </tr>\n",
              "        <tr>\n",
              "            <td>11/7/2023 12:00:00 AM </td> <td>B6        </td> <td>IAH   </td> <td>JFK </td> <td>-6       </td>\n",
              "        </tr>\n",
              "        <tr>\n",
              "            <td>11/7/2023 12:00:00 AM </td> <td>WN        </td> <td>BOS   </td> <td>BWI </td> <td>-5       </td>\n",
              "        </tr>\n",
              "        <tr>\n",
              "            <td>11/8/2023 12:00:00 AM </td> <td>DL        </td> <td>DTW   </td> <td>IAD </td> <td>-7       </td>\n",
              "        </tr>\n",
              "        <tr>\n",
              "            <td>11/8/2023 12:00:00 AM </td> <td>WN        </td> <td>IAH   </td> <td>MDW </td> <td>-12      </td>\n",
              "        </tr>\n",
              "        <tr>\n",
              "            <td>11/9/2023 12:00:00 AM </td> <td>DL        </td> <td>MSP   </td> <td>SAT </td> <td>20       </td>\n",
              "        </tr>\n",
              "        <tr>\n",
              "            <td>11/9/2023 12:00:00 AM </td> <td>WN        </td> <td>LAS   </td> <td>DAL </td> <td>4        </td>\n",
              "        </tr>\n",
              "        <tr>\n",
              "            <td>11/10/2023 12:00:00 AM</td> <td>DL        </td> <td>PBI   </td> <td>ATL </td> <td>-14      </td>\n",
              "        </tr>\n",
              "        <tr>\n",
              "            <td>11/10/2023 12:00:00 AM</td> <td>WN        </td> <td>LAS   </td> <td>STL </td> <td>7        </td>\n",
              "        </tr>\n",
              "        <tr>\n",
              "            <td>11/11/2023 12:00:00 AM</td> <td>G4        </td> <td>SYR   </td> <td>SRQ </td> <td>-1       </td>\n",
              "        </tr>\n",
              "        <tr>\n",
              "            <td>11/12/2023 12:00:00 AM</td> <td>9E        </td> <td>LGA   </td> <td>ORF </td> <td>-26      </td>\n",
              "        </tr>\n",
              "        <tr>\n",
              "            <td>11/12/2023 12:00:00 AM</td> <td>OH        </td> <td>CLT   </td> <td>IAD </td> <td>-11      </td>\n",
              "        </tr>\n",
              "        <tr>\n",
              "            <td>11/13/2023 12:00:00 AM</td> <td>AA        </td> <td>BWI   </td> <td>DFW </td> <td>-7       </td>\n",
              "        </tr>\n",
              "        <tr>\n",
              "            <td>11/13/2023 12:00:00 AM</td> <td>OH        </td> <td>SAV   </td> <td>PHL </td> <td>-5       </td>\n",
              "        </tr>\n",
              "        <tr>\n",
              "            <td>11/14/2023 12:00:00 AM</td> <td>AA        </td> <td>CLT   </td> <td>MIA </td> <td>-7       </td>\n",
              "        </tr>\n",
              "        <tr>\n",
              "            <td>11/14/2023 12:00:00 AM</td> <td>OO        </td> <td>ORD   </td> <td>BNA </td> <td>10       </td>\n",
              "        </tr>\n",
              "        <tr>\n",
              "            <td>11/15/2023 12:00:00 AM</td> <td>AA        </td> <td>MIA   </td> <td>SEA </td> <td>48       </td>\n",
              "        </tr>\n",
              "        <tr>\n",
              "            <td>11/15/2023 12:00:00 AM</td> <td>UA        </td> <td>DEN   </td> <td>OMA </td> <td>-15      </td>\n",
              "        </tr>\n",
              "        <tr>\n",
              "            <td>11/16/2023 12:00:00 AM</td> <td>AS        </td> <td>LAX   </td> <td>LAS </td> <td>-7       </td>\n",
              "        </tr>\n",
              "        <tr>\n",
              "            <td>11/16/2023 12:00:00 AM</td> <td>UA        </td> <td>EWR   </td> <td>GSP </td> <td>-17      </td>\n",
              "        </tr>\n",
              "        <tr>\n",
              "            <td>11/17/2023 12:00:00 AM</td> <td>AS        </td> <td>PHX   </td> <td>SEA </td> <td>-4       </td>\n",
              "        </tr>\n",
              "        <tr>\n",
              "            <td>11/17/2023 12:00:00 AM</td> <td>UA        </td> <td>EWR   </td> <td>PHX </td> <td>-21      </td>\n",
              "        </tr>\n",
              "        <tr>\n",
              "            <td>11/18/2023 12:00:00 AM</td> <td>B6        </td> <td>EWR   </td> <td>MCO </td> <td>-20      </td>\n",
              "        </tr>\n",
              "        <tr>\n",
              "            <td>11/18/2023 12:00:00 AM</td> <td>WN        </td> <td>BWI   </td> <td>ALB </td> <td>-4       </td>\n",
              "        </tr>\n",
              "        <tr>\n",
              "            <td>11/19/2023 12:00:00 AM</td> <td>DL        </td> <td>MCO   </td> <td>ATL </td> <td>-19      </td>\n",
              "        </tr>\n",
              "        <tr>\n",
              "            <td>11/19/2023 12:00:00 AM</td> <td>WN        </td> <td>HOU   </td> <td>MIA </td> <td>-13      </td>\n",
              "        </tr>\n",
              "        <tr>\n",
              "            <td>11/20/2023 12:00:00 AM</td> <td>DL        </td> <td>ORD   </td> <td>DTW </td> <td>-7       </td>\n",
              "        </tr>\n",
              "        <tr>\n",
              "            <td>11/20/2023 12:00:00 AM</td> <td>WN        </td> <td>LAX   </td> <td>SJC </td> <td>9        </td>\n",
              "        </tr>\n",
              "        <tr>\n",
              "            <td>11/21/2023 12:00:00 AM</td> <td>DL        </td> <td>SLC   </td> <td>MCO </td> <td>4        </td>\n",
              "        </tr>\n",
              "        <tr>\n",
              "            <td>11/21/2023 12:00:00 AM</td> <td>WN        </td> <td>MDW   </td> <td>CMH </td> <td>-5       </td>\n",
              "        </tr>\n",
              "        <tr>\n",
              "            <td>11/22/2023 12:00:00 AM</td> <td>DL        </td> <td>SLC   </td> <td>PHX </td> <td>-2       </td>\n",
              "        </tr>\n",
              "        <tr>\n",
              "            <td>11/22/2023 12:00:00 AM</td> <td>WN        </td> <td>MCO   </td> <td>PHL </td> <td>-16      </td>\n",
              "        </tr>\n",
              "        <tr>\n",
              "            <td>11/23/2023 12:00:00 AM</td> <td>UA        </td> <td>GRR   </td> <td>DEN </td> <td>-20      </td>\n",
              "        </tr>\n",
              "        <tr>\n",
              "            <td>11/24/2023 12:00:00 AM</td> <td>DL        </td> <td>SLC   </td> <td>DTW </td> <td>-16      </td>\n",
              "        </tr>\n",
              "        <tr>\n",
              "            <td>11/24/2023 12:00:00 AM</td> <td>WN        </td> <td>SAN   </td> <td>SMF </td> <td>-15      </td>\n",
              "        </tr>\n",
              "        <tr>\n",
              "            <td>11/25/2023 12:00:00 AM</td> <td>MQ        </td> <td>DFW   </td> <td>SDF </td> <td>-11      </td>\n",
              "        </tr>\n",
              "        <tr>\n",
              "            <td>11/25/2023 12:00:00 AM</td> <td>YX        </td> <td>EWR   </td> <td>DFW </td> <td>-12      </td>\n",
              "        </tr>\n",
              "        <tr>\n",
              "            <td>11/26/2023 12:00:00 AM</td> <td>MQ        </td> <td>GRR   </td> <td>ORD </td> <td>72       </td>\n",
              "        </tr>\n",
              "        <tr>\n",
              "            <td>11/26/2023 12:00:00 AM</td> <td>WN        </td> <td>STL   </td> <td>ATL </td> <td>25       </td>\n",
              "        </tr>\n",
              "        <tr>\n",
              "            <td>11/27/2023 12:00:00 AM</td> <td>HA        </td> <td>OGG   </td> <td>LIH </td> <td>-2       </td>\n",
              "        </tr>\n",
              "        <tr>\n",
              "            <td>11/27/2023 12:00:00 AM</td> <td>WN        </td> <td>SFO   </td> <td>SAN </td> <td>-9       </td>\n",
              "        </tr>\n",
              "        <tr>\n",
              "            <td>11/28/2023 12:00:00 AM</td> <td>NK        </td> <td>TPA   </td> <td>IAH </td> <td>-1       </td>\n",
              "        </tr>\n",
              "        <tr>\n",
              "            <td>11/29/2023 12:00:00 AM</td> <td>AA        </td> <td>CLT   </td> <td>ORD </td> <td>-18      </td>\n",
              "        </tr>\n",
              "        <tr>\n",
              "            <td>11/29/2023 12:00:00 AM</td> <td>UA        </td> <td>BWI   </td> <td>DEN </td> <td>-19      </td>\n",
              "        </tr>\n",
              "        <tr>\n",
              "            <td>11/30/2023 12:00:00 AM</td> <td>AS        </td> <td>GEG   </td> <td>SEA </td> <td>41       </td>\n",
              "        </tr>\n",
              "        <tr>\n",
              "            <td>11/30/2023 12:00:00 AM</td> <td>UA        </td> <td>LAX   </td> <td>HNL </td> <td>-14      </td>\n",
              "        </tr>\n",
              "    </tbody>\n",
              "</table>"
            ],
            "text/plain": [
              "<IPython.core.display.HTML object>"
            ]
          },
          "metadata": {},
          "output_type": "display_data"
        }
      ],
      "source": [
        "systematic_sample = delays.take(np.arange(start, delays.num_rows, 10_000))\n",
        "systematic_sample.show()"
      ]
    },
    {
      "cell_type": "code",
      "execution_count": null,
      "id": "3f844725-6be5-47b3-9d79-225dce9d60e9",
      "metadata": {
        "scrolled": true,
        "tags": [],
        "id": "3f844725-6be5-47b3-9d79-225dce9d60e9"
      },
      "outputs": [],
      "source": [
        "start = ...\n",
        "systematic_sample = ...\n",
        "systematic_sample.show()"
      ]
    },
    {
      "cell_type": "markdown",
      "id": "b7463040-5e96-48c5-88ea-0c3fbd270988",
      "metadata": {
        "id": "b7463040-5e96-48c5-88ea-0c3fbd270988"
      },
      "source": [
        "---"
      ]
    },
    {
      "cell_type": "markdown",
      "id": "aef5a02e-d738-4b7e-9d1f-6b0bbc61a8af",
      "metadata": {
        "deletable": false,
        "editable": false,
        "id": "aef5a02e-d738-4b7e-9d1f-6b0bbc61a8af"
      },
      "source": [
        "Demonstrate how to get a simple random sample of 12 flight delays using `np.random.choice` and `sample`."
      ]
    },
    {
      "cell_type": "code",
      "execution_count": null,
      "id": "6f9c0751-1278-4d85-b2d6-0c04a8e7b853",
      "metadata": {
        "tags": [],
        "id": "6f9c0751-1278-4d85-b2d6-0c04a8e7b853",
        "outputId": "e18d230c-4060-45aa-a181-d9a1aa3479cb"
      },
      "outputs": [
        {
          "data": {
            "text/plain": [
              "array([-22.,  -7., -21., ..., -25., -19.,  -5.])"
            ]
          },
          "execution_count": 8,
          "metadata": {},
          "output_type": "execute_result"
        }
      ],
      "source": [
        "delays_arr = delays.column('ARR_DELAY')\n",
        "delays_arr"
      ]
    },
    {
      "cell_type": "code",
      "execution_count": null,
      "id": "b692d44d-a451-412c-b517-de5b4657f33b",
      "metadata": {
        "id": "b692d44d-a451-412c-b517-de5b4657f33b",
        "outputId": "f25fe16d-d092-42fc-ec93-f8b69ffa75cf"
      },
      "outputs": [
        {
          "data": {
            "text/plain": [
              "array([ 13.,  11., -10.,  -5., -18.,  -8., -18.,  13., -17., -30.,   8.,\n",
              "        15.])"
            ]
          },
          "execution_count": 9,
          "metadata": {},
          "output_type": "execute_result"
        }
      ],
      "source": [
        "np.random.choice(delays_arr, 12, replace=False)"
      ]
    },
    {
      "cell_type": "code",
      "execution_count": null,
      "id": "a0c7482f-14fb-4a02-9859-3aaa7acbb170",
      "metadata": {
        "id": "a0c7482f-14fb-4a02-9859-3aaa7acbb170",
        "outputId": "f1376439-b2b1-45ee-b81e-bb5dee5cb4bd"
      },
      "outputs": [
        {
          "data": {
            "text/plain": [
              "array([ 73., -10., -11., -23., -20.,   4.,  -3.,   1., -36.,  -3.,  21.,\n",
              "        11.])"
            ]
          },
          "execution_count": 10,
          "metadata": {},
          "output_type": "execute_result"
        }
      ],
      "source": [
        "np.random.choice(delays_arr, 12, replace=True)"
      ]
    },
    {
      "cell_type": "code",
      "execution_count": null,
      "id": "23040841-d269-46fd-aeca-379992928bdf",
      "metadata": {
        "tags": [],
        "id": "23040841-d269-46fd-aeca-379992928bdf",
        "outputId": "55f0e5d9-9797-4933-d150-7afb34f045a1"
      },
      "outputs": [
        {
          "data": {
            "text/html": [
              "<table border=\"1\" class=\"dataframe\">\n",
              "    <thead>\n",
              "        <tr>\n",
              "            <th>FL_DATE</th> <th>OP_CARRIER</th> <th>ORIGIN</th> <th>DEST</th> <th>ARR_DELAY</th>\n",
              "        </tr>\n",
              "    </thead>\n",
              "    <tbody>\n",
              "        <tr>\n",
              "            <td>11/10/2023 12:00:00 AM</td> <td>YX        </td> <td>DCA   </td> <td>CMH </td> <td>13       </td>\n",
              "        </tr>\n",
              "        <tr>\n",
              "            <td>11/14/2023 12:00:00 AM</td> <td>OO        </td> <td>XNA   </td> <td>DEN </td> <td>-24      </td>\n",
              "        </tr>\n",
              "        <tr>\n",
              "            <td>11/24/2023 12:00:00 AM</td> <td>NK        </td> <td>SJU   </td> <td>BWI </td> <td>-15      </td>\n",
              "        </tr>\n",
              "        <tr>\n",
              "            <td>11/22/2023 12:00:00 AM</td> <td>AA        </td> <td>LAS   </td> <td>DFW </td> <td>3        </td>\n",
              "        </tr>\n",
              "        <tr>\n",
              "            <td>11/15/2023 12:00:00 AM</td> <td>WN        </td> <td>OMA   </td> <td>LAS </td> <td>8        </td>\n",
              "        </tr>\n",
              "        <tr>\n",
              "            <td>11/5/2023 12:00:00 AM </td> <td>NK        </td> <td>MCO   </td> <td>ORD </td> <td>-17      </td>\n",
              "        </tr>\n",
              "        <tr>\n",
              "            <td>11/27/2023 12:00:00 AM</td> <td>OO        </td> <td>DEN   </td> <td>BIS </td> <td>-17      </td>\n",
              "        </tr>\n",
              "        <tr>\n",
              "            <td>11/22/2023 12:00:00 AM</td> <td>MQ        </td> <td>EYW   </td> <td>MIA </td> <td>-10      </td>\n",
              "        </tr>\n",
              "        <tr>\n",
              "            <td>11/7/2023 12:00:00 AM </td> <td>UA        </td> <td>SLC   </td> <td>SFO </td> <td>123      </td>\n",
              "        </tr>\n",
              "        <tr>\n",
              "            <td>11/25/2023 12:00:00 AM</td> <td>HA        </td> <td>KOA   </td> <td>HNL </td> <td>-1       </td>\n",
              "        </tr>\n",
              "        <tr>\n",
              "            <td>11/14/2023 12:00:00 AM</td> <td>OO        </td> <td>SFO   </td> <td>RNO </td> <td>0        </td>\n",
              "        </tr>\n",
              "        <tr>\n",
              "            <td>11/11/2023 12:00:00 AM</td> <td>WN        </td> <td>DAL   </td> <td>ABQ </td> <td>-5       </td>\n",
              "        </tr>\n",
              "    </tbody>\n",
              "</table>"
            ],
            "text/plain": [
              "<IPython.core.display.HTML object>"
            ]
          },
          "metadata": {},
          "output_type": "display_data"
        }
      ],
      "source": [
        "random_sample = delays.sample(12, with_replacement=False)\n",
        "random_sample.show()"
      ]
    },
    {
      "cell_type": "code",
      "execution_count": null,
      "id": "f504100c-b20b-4967-9022-658af65bb10d",
      "metadata": {
        "id": "f504100c-b20b-4967-9022-658af65bb10d",
        "outputId": "712e7ab2-6627-48da-f14a-a313e388f63d"
      },
      "outputs": [
        {
          "data": {
            "text/html": [
              "<table border=\"1\" class=\"dataframe\">\n",
              "    <thead>\n",
              "        <tr>\n",
              "            <th>FL_DATE</th> <th>OP_CARRIER</th> <th>ORIGIN</th> <th>DEST</th> <th>ARR_DELAY</th>\n",
              "        </tr>\n",
              "    </thead>\n",
              "    <tbody>\n",
              "        <tr>\n",
              "            <td>11/30/2023 12:00:00 AM</td> <td>F9        </td> <td>CLE   </td> <td>RSW </td> <td>-25      </td>\n",
              "        </tr>\n",
              "        <tr>\n",
              "            <td>11/26/2023 12:00:00 AM</td> <td>AA        </td> <td>PHL   </td> <td>CMH </td> <td>0        </td>\n",
              "        </tr>\n",
              "        <tr>\n",
              "            <td>11/15/2023 12:00:00 AM</td> <td>WN        </td> <td>SAT   </td> <td>DAL </td> <td>-9       </td>\n",
              "        </tr>\n",
              "        <tr>\n",
              "            <td>11/5/2023 12:00:00 AM </td> <td>WN        </td> <td>MCO   </td> <td>ALB </td> <td>-4       </td>\n",
              "        </tr>\n",
              "        <tr>\n",
              "            <td>11/21/2023 12:00:00 AM</td> <td>WN        </td> <td>ATL   </td> <td>GSP </td> <td>46       </td>\n",
              "        </tr>\n",
              "        <tr>\n",
              "            <td>11/22/2023 12:00:00 AM</td> <td>9E        </td> <td>JFK   </td> <td>DTW </td> <td>-34      </td>\n",
              "        </tr>\n",
              "        <tr>\n",
              "            <td>11/16/2023 12:00:00 AM</td> <td>B6        </td> <td>FLL   </td> <td>LAX </td> <td>34       </td>\n",
              "        </tr>\n",
              "        <tr>\n",
              "            <td>11/11/2023 12:00:00 AM</td> <td>AA        </td> <td>CLT   </td> <td>PNS </td> <td>-16      </td>\n",
              "        </tr>\n",
              "        <tr>\n",
              "            <td>11/10/2023 12:00:00 AM</td> <td>MQ        </td> <td>TLH   </td> <td>DFW </td> <td>12       </td>\n",
              "        </tr>\n",
              "        <tr>\n",
              "            <td>11/1/2023 12:00:00 AM </td> <td>NK        </td> <td>BDL   </td> <td>MYR </td> <td>14       </td>\n",
              "        </tr>\n",
              "        <tr>\n",
              "            <td>11/20/2023 12:00:00 AM</td> <td>B6        </td> <td>LGA   </td> <td>SRQ </td> <td>-18      </td>\n",
              "        </tr>\n",
              "        <tr>\n",
              "            <td>11/17/2023 12:00:00 AM</td> <td>WN        </td> <td>LAX   </td> <td>PHX </td> <td>1        </td>\n",
              "        </tr>\n",
              "    </tbody>\n",
              "</table>"
            ],
            "text/plain": [
              "<IPython.core.display.HTML object>"
            ]
          },
          "metadata": {},
          "output_type": "display_data"
        }
      ],
      "source": [
        "random_sample = delays.sample(12, with_replacement=False)\n",
        "random_sample.show()"
      ]
    },
    {
      "cell_type": "markdown",
      "id": "af0cdbdb-ab8b-42d0-b29d-ddadaa4c0192",
      "metadata": {
        "id": "af0cdbdb-ab8b-42d0-b29d-ddadaa4c0192"
      },
      "source": [
        "---"
      ]
    },
    {
      "cell_type": "markdown",
      "id": "24af2328-e7f3-419f-9437-8c10260607fd",
      "metadata": {
        "editable": true,
        "tags": [],
        "id": "24af2328-e7f3-419f-9437-8c10260607fd"
      },
      "source": [
        "## Attribution"
      ]
    },
    {
      "cell_type": "markdown",
      "id": "f01e2c43-7057-410f-a6ec-25aa047b61df",
      "metadata": {
        "id": "f01e2c43-7057-410f-a6ec-25aa047b61df"
      },
      "source": [
        "This content is licensed under the <a href=\"https://creativecommons.org/licenses/by-nc-sa/4.0/\">Creative Commons Attribution-NonCommercial-ShareAlike 4.0 International License (CC BY-NC-SA 4.0)</a> and derived from the <a href=\"https://www.data8.org/\">Data 8: The Foundations of Data Science</a> offered by the University of California, Berkeley.\n",
        "\n",
        "<img src=\"./by-nc-sa.png\" width=100px>"
      ]
    }
  ],
  "metadata": {
    "kernelspec": {
      "display_name": "Python 3 (ipykernel)",
      "language": "python",
      "name": "python3"
    },
    "language_info": {
      "codemirror_mode": {
        "name": "ipython",
        "version": 3
      },
      "file_extension": ".py",
      "mimetype": "text/x-python",
      "name": "python",
      "nbconvert_exporter": "python",
      "pygments_lexer": "ipython3",
      "version": "3.11.9"
    },
    "otter": {
      "OK_FORMAT": true,
      "tests": {}
    },
    "colab": {
      "provenance": [],
      "include_colab_link": true
    }
  },
  "nbformat": 4,
  "nbformat_minor": 5
}