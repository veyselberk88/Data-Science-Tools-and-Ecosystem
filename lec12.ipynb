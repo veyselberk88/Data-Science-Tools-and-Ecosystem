{
  "cells": [
    {
      "cell_type": "markdown",
      "metadata": {
        "id": "view-in-github",
        "colab_type": "text"
      },
      "source": [
        "<a href=\"https://colab.research.google.com/github/veyselberk88/Data-Science-Tools-and-Ecosystem/blob/main/lec12.ipynb\" target=\"_parent\"><img src=\"https://colab.research.google.com/assets/colab-badge.svg\" alt=\"Open In Colab\"/></a>"
      ]
    },
    {
      "cell_type": "markdown",
      "id": "abdfba49-79da-4f33-a822-9d8433a102a5",
      "metadata": {
        "id": "abdfba49-79da-4f33-a822-9d8433a102a5"
      },
      "source": [
        "<img src=\"./ccsf.png\" alt=\"CCSF Logo\" width=200px style=\"margin:0px -5px\">"
      ]
    },
    {
      "cell_type": "markdown",
      "id": "e7a5b3d7-d71a-4849-ac14-42c0fd3f4cfa",
      "metadata": {
        "id": "e7a5b3d7-d71a-4849-ac14-42c0fd3f4cfa"
      },
      "source": [
        "# Lecture 12: Group and Pivot"
      ]
    },
    {
      "cell_type": "markdown",
      "id": "803989b6-8bc8-4b55-a22b-e17757a1cb04",
      "metadata": {
        "id": "803989b6-8bc8-4b55-a22b-e17757a1cb04"
      },
      "source": [
        "Associated Textbook Sections: [8.2, 8.3](https://ccsf-math-108.github.io/textbook/chapters/08/2/Classifying_by_One_Variable.html)"
      ]
    },
    {
      "cell_type": "markdown",
      "id": "d60074c1-da9e-419a-a4f0-db98488d64f1",
      "metadata": {
        "id": "d60074c1-da9e-419a-a4f0-db98488d64f1"
      },
      "source": [
        "---"
      ]
    },
    {
      "cell_type": "markdown",
      "id": "e30a834d-0a85-4157-95ab-9e19e0679552",
      "metadata": {
        "id": "e30a834d-0a85-4157-95ab-9e19e0679552"
      },
      "source": [
        "## Overview"
      ]
    },
    {
      "cell_type": "markdown",
      "id": "3840b161-a3a1-42d0-b492-95016ff9cf6c",
      "metadata": {
        "id": "3840b161-a3a1-42d0-b492-95016ff9cf6c"
      },
      "source": [
        "* [Grouping](#Grouping)\n",
        "* [Pivot Tables](#Pivot-Tables)\n",
        "* [Cross-Classification](#Cross-Classification)"
      ]
    },
    {
      "cell_type": "markdown",
      "id": "38579637-4570-497e-8278-e6862a03157e",
      "metadata": {
        "id": "38579637-4570-497e-8278-e6862a03157e"
      },
      "source": [
        "---"
      ]
    },
    {
      "cell_type": "markdown",
      "id": "1fc9aec6-a973-44ed-9407-22bae6704f87",
      "metadata": {
        "id": "1fc9aec6-a973-44ed-9407-22bae6704f87"
      },
      "source": [
        "## Set Up the Notebook"
      ]
    },
    {
      "cell_type": "code",
      "execution_count": null,
      "id": "4152e11f-ff70-4ac4-9e88-1b7c1e235f8e",
      "metadata": {
        "id": "4152e11f-ff70-4ac4-9e88-1b7c1e235f8e"
      },
      "outputs": [],
      "source": [
        "from datascience import *\n",
        "import numpy as np\n",
        "%matplotlib inline\n",
        "import matplotlib.pyplot as plt\n",
        "plt.style.use('fivethirtyeight')"
      ]
    },
    {
      "cell_type": "markdown",
      "id": "3e042e2d-23a2-4cbd-b2ed-628b720f9ae3",
      "metadata": {
        "id": "3e042e2d-23a2-4cbd-b2ed-628b720f9ae3"
      },
      "source": [
        "---"
      ]
    },
    {
      "cell_type": "markdown",
      "id": "cc285ac2-b725-48c8-a205-468901ad68a0",
      "metadata": {
        "id": "cc285ac2-b725-48c8-a205-468901ad68a0"
      },
      "source": [
        "## Grouping Data"
      ]
    },
    {
      "cell_type": "markdown",
      "id": "e25b86ff-baf0-454b-ba62-85d30c01340c",
      "metadata": {
        "id": "e25b86ff-baf0-454b-ba62-85d30c01340c"
      },
      "source": [
        "<a href=\"https://epirhandbook.com/images/Grouping_1500x500.png\"><img src=\"./grouping_R.png\" width=400px alt=\"3 clusters of objects grouped in different ways based on shape and color.\"><a/>\n",
        "\n",
        "* **Identify Patterns and Trends**\n",
        "    * Grouping helps reveal insights by summarizing data across categories, making it easier to spot trends.\n",
        "* **Simplify Large Datasets**\n",
        "    * Instead of analyzing raw data row by row, grouping organizes information into meaningful summaries.\n",
        "* **Compare Categories**\n",
        "    * Easily compare different groups, such as average income by city or total sales by product type.\n",
        "* **Prepare Data for Visualization**\n",
        "    * Grouping is a key step in creating charts and tables that highlight important relationships in data."
      ]
    },
    {
      "cell_type": "markdown",
      "id": "b708399c-3cc0-4418-9129-9c7ea23da57b",
      "metadata": {
        "id": "b708399c-3cc0-4418-9129-9c7ea23da57b"
      },
      "source": [
        "---"
      ]
    },
    {
      "cell_type": "markdown",
      "id": "d351e242-4894-4379-b499-aa07df39c4b3",
      "metadata": {
        "id": "d351e242-4894-4379-b499-aa07df39c4b3"
      },
      "source": [
        "### Grouping by One Column"
      ]
    },
    {
      "cell_type": "markdown",
      "id": "9b7ed896-8e9f-4ec4-b7d7-7e6585b0e4e2",
      "metadata": {
        "id": "9b7ed896-8e9f-4ec4-b7d7-7e6585b0e4e2"
      },
      "source": [
        "The group method aggregates all rows with the same value for a column into a single row in the resulting table.\n",
        "* First argument: Which column to group by\n",
        "* Second argument: (Optional) How to combine values\n",
        "    * `len` — number of grouped values (default)\n",
        "    * `list` — list of all grouped values\n",
        "    * `sum`  — total of all grouped values\n",
        "    * ...\n"
      ]
    },
    {
      "cell_type": "markdown",
      "id": "f05467e5-6f4e-4698-8ec9-729385f8a6e7",
      "metadata": {
        "id": "f05467e5-6f4e-4698-8ec9-729385f8a6e7"
      },
      "source": [
        "---"
      ]
    },
    {
      "cell_type": "code",
      "execution_count": null,
      "id": "605b08cf-a133-440d-9722-2dd21b75cb82",
      "metadata": {
        "id": "605b08cf-a133-440d-9722-2dd21b75cb82",
        "outputId": "340d1430-4763-49e8-80c5-4a015ad69c45"
      },
      "outputs": [
        {
          "data": {
            "text/html": [
              "\n",
              "        <iframe\n",
              "            width=\"800\"\n",
              "            height=\"600\"\n",
              "            src=\"https://docs.google.com/presentation/d/e/2PACX-1vT5DQDrDs21XnYnUD1000G97wukT1oj9N_ePPTdmGTp2vPh88jW_JCLcoK2yaWmmLjKjXelJDnT4m-J/embed?start=false&loop=false&delayms=3000\"\n",
              "            frameborder=\"0\"\n",
              "            allowfullscreen\n",
              "            \n",
              "        ></iframe>\n",
              "        "
            ],
            "text/plain": [
              "<IPython.lib.display.IFrame at 0x7cd5d642ccd0>"
            ]
          },
          "execution_count": 21,
          "metadata": {},
          "output_type": "execute_result"
        }
      ],
      "source": [
        "from IPython.display import IFrame\n",
        "IFrame('https://docs.google.com/presentation/d/e/2PACX-1vT5DQDrDs21XnYnUD1000G97wukT1oj9N_ePPTdmGTp2vPh88jW_JCLcoK2yaWmmLjKjXelJDnT4m-J/embed?start=false&loop=false&delayms=3000', 800, 600)"
      ]
    },
    {
      "cell_type": "markdown",
      "id": "5b2ebed7-edb3-4e89-8197-79991a50d5e1",
      "metadata": {
        "id": "5b2ebed7-edb3-4e89-8197-79991a50d5e1"
      },
      "source": [
        "---"
      ]
    },
    {
      "cell_type": "markdown",
      "id": "4dc47c65-ddf1-4df4-a562-ee1335bb3b4f",
      "metadata": {
        "id": "4dc47c65-ddf1-4df4-a562-ee1335bb3b4f"
      },
      "source": [
        "### Demo: Grouping by One Column"
      ]
    },
    {
      "cell_type": "markdown",
      "id": "a7d16f5f-f0ca-4fc5-bb63-4fe3b7ff23c5",
      "metadata": {
        "editable": true,
        "tags": [],
        "id": "a7d16f5f-f0ca-4fc5-bb63-4fe3b7ff23c5"
      },
      "source": [
        "<a href=\"https://unsplash.com/photos/a-large-city-with-a-lot-of-tall-buildings-I0wLMpoRe0E\"><img src=\"./casey_horner_san_francisco.avif\" width=800px alt=\"San Francisco with fog covering downtown buildings.\"></a>\n",
        "\n",
        "The San Francisco [Existing Buildings Energy Performance Ordinance](https://data.sfgov.org/Energy-and-Environment/Existing-Buildings-Energy-Performance-Ordinance-Re/96ck-qcfe/about_data) (Environment Code Chapter 20) requires that each non-residential building with at least 10,000 square feet of conditioned (heated or cooled) space and each residential building with at least 50,000 square feet of conditioned space must be benchmarked annually using Energy Star Portfolio Manager. Each non-residential building specified above is also required to undergo an energy audit, retrocommissioning, or develop a plan for decarbonization at least once every 5 years.\n",
        "\n",
        "The table `energy` contains this data (as of February 7, 2024)."
      ]
    },
    {
      "cell_type": "code",
      "execution_count": null,
      "id": "f02bf8ee-9c6e-485a-b674-2cecee48f27e",
      "metadata": {
        "editable": true,
        "scrolled": true,
        "tags": [],
        "id": "f02bf8ee-9c6e-485a-b674-2cecee48f27e",
        "outputId": "a42a4445-4ff8-4c04-f861-a8c476802b2c"
      },
      "outputs": [
        {
          "data": {
            "text/html": [
              "<table border=\"1\" class=\"dataframe\">\n",
              "    <thead>\n",
              "        <tr>\n",
              "            <th>unique_identifier</th> <th>parcel_number</th> <th>building_name</th> <th>building_address</th> <th>postal_code</th> <th>floor_area</th> <th>category</th> <th>property_type</th> <th>pim_link</th> <th>year_built</th> <th>energy_audit_due_date</th> <th>energy_audit_status</th> <th>benchmark_year</th> <th>energy_star_score</th> <th>site_eui</th> <th>source_eui</th> <th>percent_better_than_national_median_site_eui</th> <th>weather_normalized_site_eui</th> <th>weather_normalized_source_eui</th> <th>total_ghg_emissions</th> <th>total_ghg_emissions_intensity</th> <th>electricity_use_grid_purchase</th> <th>natural_gas_use</th> <th>district_steam_use</th> <th>site_energy_use</th> <th>benchmark_status</th> <th>reason_for_exemption</th> <th>point</th> <th>longitude</th> <th>latitude</th> <th>analysis_neighborhood</th> <th>supervisor_district</th> <th>data_as_of</th> <th>data_loaded_at</th>\n",
              "        </tr>\n",
              "    </thead>\n",
              "    <tbody>\n",
              "        <tr>\n",
              "            <td>0010/001_2021    </td> <td>0010/001     </td> <td>2801 Leavenworth Street</td> <td>2801 LEAVENWORTH ST</td> <td>94109      </td> <td>133675    </td> <td>Office  </td> <td>Commercial   </td> <td>https://sfplanninggis.org/PIM/?tab=Property&search=0010/001</td> <td>1907      </td> <td>2024-04-01T00:00:00.000</td> <td>Upcoming           </td> <td>2021          </td> <td>86               </td> <td>46.5    </td> <td>80.5      </td> <td>-0.454                                      </td> <td>47                         </td> <td>81.1                         </td> <td>347.8              </td> <td>2.6                          </td> <td>709465                       </td> <td>3.78932e+06    </td> <td>nan               </td> <td>6.21001e+06    </td> <td>2021 - Complied </td> <td>nan                 </td> <td>POINT (-122.419470839 37.807277976)</td> <td>-122.419 </td> <td>37.8073 </td> <td>Russian Hill         </td> <td>3                  </td> <td>2024-02-06T17:45:41.000</td> <td>2024-02-07T10:47:48.991</td>\n",
              "        </tr>\n",
              "        <tr>\n",
              "            <td>0010/001_2019    </td> <td>0010/001     </td> <td>2801 Leavenworth Street</td> <td>2801 LEAVENWORTH ST</td> <td>94109      </td> <td>133675    </td> <td>Office  </td> <td>Commercial   </td> <td>https://sfplanninggis.org/PIM/?tab=Property&search=0010/001</td> <td>1907      </td> <td>2024-04-01T00:00:00.000</td> <td>Upcoming           </td> <td>2019          </td> <td>73               </td> <td>55.6    </td> <td>105.1     </td> <td>-0.29                                       </td> <td>57.8                       </td> <td>107.4                        </td> <td>456.7              </td> <td>3.4                          </td> <td>1.04651e+06                  </td> <td>3.86361e+06    </td> <td>nan               </td> <td>7.43431e+06    </td> <td>2019 - Complied </td> <td>nan                 </td> <td>POINT (-122.419470839 37.807277976)</td> <td>-122.419 </td> <td>37.8073 </td> <td>Russian Hill         </td> <td>3                  </td> <td>2024-02-06T17:45:41.000</td> <td>2024-02-07T10:47:48.991</td>\n",
              "        </tr>\n",
              "        <tr>\n",
              "            <td>0010/001_2017    </td> <td>0010/001     </td> <td>2801 Leavenworth Street</td> <td>2801 LEAVENWORTH ST</td> <td>94109      </td> <td>133675    </td> <td>Office  </td> <td>Commercial   </td> <td>https://sfplanninggis.org/PIM/?tab=Property&search=0010/001</td> <td>1907      </td> <td>2024-04-01T00:00:00.000</td> <td>Upcoming           </td> <td>2017          </td> <td>76               </td> <td>66.6    </td> <td>148.4     </td> <td>-0.278                                      </td> <td>68.1                       </td> <td>150.1                        </td> <td>586.8              </td> <td>4.4                          </td> <td>nan                          </td> <td>nan            </td> <td>nan               </td> <td>nan            </td> <td>2017 - Complied </td> <td>nan                 </td> <td>POINT (-122.419470839 37.807277976)</td> <td>-122.419 </td> <td>37.8073 </td> <td>Russian Hill         </td> <td>3                  </td> <td>2024-02-06T17:45:41.000</td> <td>2024-02-07T10:47:48.991</td>\n",
              "        </tr>\n",
              "        <tr>\n",
              "            <td>0010/001_2015    </td> <td>0010/001     </td> <td>2801 Leavenworth Street</td> <td>2801 LEAVENWORTH ST</td> <td>94109      </td> <td>133675    </td> <td>Office  </td> <td>Commercial   </td> <td>https://sfplanninggis.org/PIM/?tab=Property&search=0010/001</td> <td>1907      </td> <td>2024-04-01T00:00:00.000</td> <td>Upcoming           </td> <td>2015          </td> <td>72               </td> <td>72      </td> <td>153.9     </td> <td>-0.23                                       </td> <td>73.7                       </td> <td>155.6                        </td> <td>653.2              </td> <td>4.9                          </td> <td>nan                          </td> <td>nan            </td> <td>nan               </td> <td>nan            </td> <td>2015 - Complied </td> <td>nan                 </td> <td>POINT (-122.419470839 37.807277976)</td> <td>-122.419 </td> <td>37.8073 </td> <td>Russian Hill         </td> <td>3                  </td> <td>2024-02-06T17:45:41.000</td> <td>2024-02-07T10:47:48.991</td>\n",
              "        </tr>\n",
              "        <tr>\n",
              "            <td>0010/001_2016    </td> <td>0010/001     </td> <td>2801 Leavenworth Street</td> <td>2801 LEAVENWORTH ST</td> <td>94109      </td> <td>133675    </td> <td>Office  </td> <td>Commercial   </td> <td>https://sfplanninggis.org/PIM/?tab=Property&search=0010/001</td> <td>1907      </td> <td>2024-04-01T00:00:00.000</td> <td>Upcoming           </td> <td>2016          </td> <td>75               </td> <td>68.2    </td> <td>149.7     </td> <td>-0.263                                      </td> <td>71.5                       </td> <td>153.2                        </td> <td>652.4              </td> <td>4.9                          </td> <td>nan                          </td> <td>nan            </td> <td>nan               </td> <td>nan            </td> <td>2016 - Complied </td> <td>nan                 </td> <td>POINT (-122.419470839 37.807277976)</td> <td>-122.419 </td> <td>37.8073 </td> <td>Russian Hill         </td> <td>3                  </td> <td>2024-02-06T17:45:41.000</td> <td>2024-02-07T10:47:48.991</td>\n",
              "        </tr>\n",
              "        <tr>\n",
              "            <td>0010/001_2022    </td> <td>0010/001     </td> <td>2801 Leavenworth Street</td> <td>2801 LEAVENWORTH ST</td> <td>94109      </td> <td>133675    </td> <td>Office  </td> <td>Commercial   </td> <td>https://sfplanninggis.org/PIM/?tab=Property&search=0010/001</td> <td>1907      </td> <td>2024-04-01T00:00:00.000</td> <td>Upcoming           </td> <td>2022          </td> <td>84               </td> <td>46.2    </td> <td>85.7      </td> <td>-0.427                                      </td> <td>46                         </td> <td>85.5                         </td> <td>371.6              </td> <td>2.8                          </td> <td>833784                       </td> <td>3.32633e+06    </td> <td>nan               </td> <td>6.1712e+06     </td> <td>2022 - Complied </td> <td>nan                 </td> <td>POINT (-122.419470839 37.807277976)</td> <td>-122.419 </td> <td>37.8073 </td> <td>Russian Hill         </td> <td>3                  </td> <td>2024-02-06T17:45:41.000</td> <td>2024-02-07T10:47:48.991</td>\n",
              "        </tr>\n",
              "        <tr>\n",
              "            <td>0010/001_2018    </td> <td>0010/001     </td> <td>2801 Leavenworth Street</td> <td>2801 LEAVENWORTH ST</td> <td>94109      </td> <td>133675    </td> <td>Office  </td> <td>Commercial   </td> <td>https://sfplanninggis.org/PIM/?tab=Property&search=0010/001</td> <td>1907      </td> <td>2024-04-01T00:00:00.000</td> <td>Upcoming           </td> <td>2018          </td> <td>65               </td> <td>59.8    </td> <td>119.1     </td> <td>-0.148                                      </td> <td>59.8                       </td> <td>119.2                        </td> <td>499.1              </td> <td>3.7                          </td> <td>1.26125e+06                  </td> <td>3.68919e+06    </td> <td>nan               </td> <td>7.99259e+06    </td> <td>2018 - Complied </td> <td>nan                 </td> <td>POINT (-122.419470839 37.807277976)</td> <td>-122.419 </td> <td>37.8073 </td> <td>Russian Hill         </td> <td>3                  </td> <td>2024-02-06T17:45:41.000</td> <td>2024-02-07T10:47:48.991</td>\n",
              "        </tr>\n",
              "        <tr>\n",
              "            <td>0010/001_2013    </td> <td>0010/001     </td> <td>2801 Leavenworth Street</td> <td>2801 LEAVENWORTH ST</td> <td>94109      </td> <td>133675    </td> <td>Office  </td> <td>Commercial   </td> <td>https://sfplanninggis.org/PIM/?tab=Property&search=0010/001</td> <td>1907      </td> <td>2024-04-01T00:00:00.000</td> <td>Upcoming           </td> <td>2013          </td> <td>74               </td> <td>81.3    </td> <td>166.9     </td> <td>-0.262                                      </td> <td>81.6                       </td> <td>167.2                        </td> <td>786.5              </td> <td>5.7                          </td> <td>nan                          </td> <td>nan            </td> <td>nan               </td> <td>nan            </td> <td>2013 - Complied </td> <td>nan                 </td> <td>POINT (-122.419470839 37.807277976)</td> <td>-122.419 </td> <td>37.8073 </td> <td>Russian Hill         </td> <td>3                  </td> <td>2024-02-06T17:45:41.000</td> <td>2024-02-07T10:47:48.991</td>\n",
              "        </tr>\n",
              "        <tr>\n",
              "            <td>0010/001_2011    </td> <td>0010/001     </td> <td>2801 Leavenworth Street</td> <td>2801 LEAVENWORTH ST</td> <td>94109      </td> <td>133675    </td> <td>Office  </td> <td>Commercial   </td> <td>https://sfplanninggis.org/PIM/?tab=Property&search=0010/001</td> <td>1907      </td> <td>2024-04-01T00:00:00.000</td> <td>Upcoming           </td> <td>2011          </td> <td>nan              </td> <td>nan     </td> <td>nan       </td> <td>nan                                         </td> <td>nan                        </td> <td>nan                          </td> <td>nan                </td> <td>nan                          </td> <td>nan                          </td> <td>nan            </td> <td>nan               </td> <td>nan            </td> <td>2011 - Complied </td> <td>nan                 </td> <td>POINT (-122.419470839 37.807277976)</td> <td>-122.419 </td> <td>37.8073 </td> <td>Russian Hill         </td> <td>3                  </td> <td>2024-02-06T17:45:41.000</td> <td>2024-02-07T10:47:48.991</td>\n",
              "        </tr>\n",
              "        <tr>\n",
              "            <td>0010/001_2012    </td> <td>0010/001     </td> <td>2801 Leavenworth Street</td> <td>2801 LEAVENWORTH ST</td> <td>94109      </td> <td>133675    </td> <td>Office  </td> <td>Commercial   </td> <td>https://sfplanninggis.org/PIM/?tab=Property&search=0010/001</td> <td>1907      </td> <td>2024-04-01T00:00:00.000</td> <td>Upcoming           </td> <td>2012          </td> <td>81               </td> <td>71      </td> <td>149.9     </td> <td>-0.345                                      </td> <td>70.7                       </td> <td>149.7                        </td> <td>696.4              </td> <td>nan                          </td> <td>nan                          </td> <td>nan            </td> <td>nan               </td> <td>nan            </td> <td>2012 - Complied </td> <td>nan                 </td> <td>POINT (-122.419470839 37.807277976)</td> <td>-122.419 </td> <td>37.8073 </td> <td>Russian Hill         </td> <td>3                  </td> <td>2024-02-06T17:45:41.000</td> <td>2024-02-07T10:47:48.991</td>\n",
              "        </tr>\n",
              "    </tbody>\n",
              "</table>\n",
              "<p>... (23897 rows omitted)</p>"
            ],
            "text/plain": [
              "unique_identifier | parcel_number | building_name           | building_address    | postal_code | floor_area | category | property_type | pim_link                                                    | year_built | energy_audit_due_date   | energy_audit_status | benchmark_year | energy_star_score | site_eui | source_eui | percent_better_than_national_median_site_eui | weather_normalized_site_eui | weather_normalized_source_eui | total_ghg_emissions | total_ghg_emissions_intensity | electricity_use_grid_purchase | natural_gas_use | district_steam_use | site_energy_use | benchmark_status | reason_for_exemption | point                               | longitude | latitude | analysis_neighborhood | supervisor_district | data_as_of              | data_loaded_at\n",
              "0010/001_2021     | 0010/001      | 2801 Leavenworth Street | 2801 LEAVENWORTH ST | 94109       | 133675     | Office   | Commercial    | https://sfplanninggis.org/PIM/?tab=Property&search=0010/001 | 1907       | 2024-04-01T00:00:00.000 | Upcoming            | 2021           | 86                | 46.5     | 80.5       | -0.454                                       | 47                          | 81.1                          | 347.8               | 2.6                           | 709465                        | 3.78932e+06     | nan                | 6.21001e+06     | 2021 - Complied  | nan                  | POINT (-122.419470839 37.807277976) | -122.419  | 37.8073  | Russian Hill          | 3                   | 2024-02-06T17:45:41.000 | 2024-02-07T10:47:48.991\n",
              "0010/001_2019     | 0010/001      | 2801 Leavenworth Street | 2801 LEAVENWORTH ST | 94109       | 133675     | Office   | Commercial    | https://sfplanninggis.org/PIM/?tab=Property&search=0010/001 | 1907       | 2024-04-01T00:00:00.000 | Upcoming            | 2019           | 73                | 55.6     | 105.1      | -0.29                                        | 57.8                        | 107.4                         | 456.7               | 3.4                           | 1.04651e+06                   | 3.86361e+06     | nan                | 7.43431e+06     | 2019 - Complied  | nan                  | POINT (-122.419470839 37.807277976) | -122.419  | 37.8073  | Russian Hill          | 3                   | 2024-02-06T17:45:41.000 | 2024-02-07T10:47:48.991\n",
              "0010/001_2017     | 0010/001      | 2801 Leavenworth Street | 2801 LEAVENWORTH ST | 94109       | 133675     | Office   | Commercial    | https://sfplanninggis.org/PIM/?tab=Property&search=0010/001 | 1907       | 2024-04-01T00:00:00.000 | Upcoming            | 2017           | 76                | 66.6     | 148.4      | -0.278                                       | 68.1                        | 150.1                         | 586.8               | 4.4                           | nan                           | nan             | nan                | nan             | 2017 - Complied  | nan                  | POINT (-122.419470839 37.807277976) | -122.419  | 37.8073  | Russian Hill          | 3                   | 2024-02-06T17:45:41.000 | 2024-02-07T10:47:48.991\n",
              "0010/001_2015     | 0010/001      | 2801 Leavenworth Street | 2801 LEAVENWORTH ST | 94109       | 133675     | Office   | Commercial    | https://sfplanninggis.org/PIM/?tab=Property&search=0010/001 | 1907       | 2024-04-01T00:00:00.000 | Upcoming            | 2015           | 72                | 72       | 153.9      | -0.23                                        | 73.7                        | 155.6                         | 653.2               | 4.9                           | nan                           | nan             | nan                | nan             | 2015 - Complied  | nan                  | POINT (-122.419470839 37.807277976) | -122.419  | 37.8073  | Russian Hill          | 3                   | 2024-02-06T17:45:41.000 | 2024-02-07T10:47:48.991\n",
              "0010/001_2016     | 0010/001      | 2801 Leavenworth Street | 2801 LEAVENWORTH ST | 94109       | 133675     | Office   | Commercial    | https://sfplanninggis.org/PIM/?tab=Property&search=0010/001 | 1907       | 2024-04-01T00:00:00.000 | Upcoming            | 2016           | 75                | 68.2     | 149.7      | -0.263                                       | 71.5                        | 153.2                         | 652.4               | 4.9                           | nan                           | nan             | nan                | nan             | 2016 - Complied  | nan                  | POINT (-122.419470839 37.807277976) | -122.419  | 37.8073  | Russian Hill          | 3                   | 2024-02-06T17:45:41.000 | 2024-02-07T10:47:48.991\n",
              "0010/001_2022     | 0010/001      | 2801 Leavenworth Street | 2801 LEAVENWORTH ST | 94109       | 133675     | Office   | Commercial    | https://sfplanninggis.org/PIM/?tab=Property&search=0010/001 | 1907       | 2024-04-01T00:00:00.000 | Upcoming            | 2022           | 84                | 46.2     | 85.7       | -0.427                                       | 46                          | 85.5                          | 371.6               | 2.8                           | 833784                        | 3.32633e+06     | nan                | 6.1712e+06      | 2022 - Complied  | nan                  | POINT (-122.419470839 37.807277976) | -122.419  | 37.8073  | Russian Hill          | 3                   | 2024-02-06T17:45:41.000 | 2024-02-07T10:47:48.991\n",
              "0010/001_2018     | 0010/001      | 2801 Leavenworth Street | 2801 LEAVENWORTH ST | 94109       | 133675     | Office   | Commercial    | https://sfplanninggis.org/PIM/?tab=Property&search=0010/001 | 1907       | 2024-04-01T00:00:00.000 | Upcoming            | 2018           | 65                | 59.8     | 119.1      | -0.148                                       | 59.8                        | 119.2                         | 499.1               | 3.7                           | 1.26125e+06                   | 3.68919e+06     | nan                | 7.99259e+06     | 2018 - Complied  | nan                  | POINT (-122.419470839 37.807277976) | -122.419  | 37.8073  | Russian Hill          | 3                   | 2024-02-06T17:45:41.000 | 2024-02-07T10:47:48.991\n",
              "0010/001_2013     | 0010/001      | 2801 Leavenworth Street | 2801 LEAVENWORTH ST | 94109       | 133675     | Office   | Commercial    | https://sfplanninggis.org/PIM/?tab=Property&search=0010/001 | 1907       | 2024-04-01T00:00:00.000 | Upcoming            | 2013           | 74                | 81.3     | 166.9      | -0.262                                       | 81.6                        | 167.2                         | 786.5               | 5.7                           | nan                           | nan             | nan                | nan             | 2013 - Complied  | nan                  | POINT (-122.419470839 37.807277976) | -122.419  | 37.8073  | Russian Hill          | 3                   | 2024-02-06T17:45:41.000 | 2024-02-07T10:47:48.991\n",
              "0010/001_2011     | 0010/001      | 2801 Leavenworth Street | 2801 LEAVENWORTH ST | 94109       | 133675     | Office   | Commercial    | https://sfplanninggis.org/PIM/?tab=Property&search=0010/001 | 1907       | 2024-04-01T00:00:00.000 | Upcoming            | 2011           | nan               | nan      | nan        | nan                                          | nan                         | nan                           | nan                 | nan                           | nan                           | nan             | nan                | nan             | 2011 - Complied  | nan                  | POINT (-122.419470839 37.807277976) | -122.419  | 37.8073  | Russian Hill          | 3                   | 2024-02-06T17:45:41.000 | 2024-02-07T10:47:48.991\n",
              "0010/001_2012     | 0010/001      | 2801 Leavenworth Street | 2801 LEAVENWORTH ST | 94109       | 133675     | Office   | Commercial    | https://sfplanninggis.org/PIM/?tab=Property&search=0010/001 | 1907       | 2024-04-01T00:00:00.000 | Upcoming            | 2012           | 81                | 71       | 149.9      | -0.345                                       | 70.7                        | 149.7                         | 696.4               | nan                           | nan                           | nan             | nan                | nan             | 2012 - Complied  | nan                  | POINT (-122.419470839 37.807277976) | -122.419  | 37.8073  | Russian Hill          | 3                   | 2024-02-06T17:45:41.000 | 2024-02-07T10:47:48.991\n",
              "... (23897 rows omitted)"
            ]
          },
          "execution_count": 22,
          "metadata": {},
          "output_type": "execute_result"
        }
      ],
      "source": [
        "energy = Table().read_table('energy.csv')\n",
        "energy"
      ]
    },
    {
      "cell_type": "markdown",
      "id": "0dd1b936-0504-41a3-9ea1-e10928cb32f7",
      "metadata": {
        "deletable": false,
        "editable": false,
        "id": "0dd1b936-0504-41a3-9ea1-e10928cb32f7"
      },
      "source": [
        "Explore the `energy` data using the `group` method."
      ]
    },
    {
      "cell_type": "code",
      "execution_count": null,
      "id": "537d41d4-ce34-4283-9ded-b0221671e095",
      "metadata": {
        "id": "537d41d4-ce34-4283-9ded-b0221671e095",
        "outputId": "8640372a-d356-4a41-cba2-d7e3d3474efb"
      },
      "outputs": [
        {
          "data": {
            "text/html": [
              "<table border=\"1\" class=\"dataframe\">\n",
              "    <thead>\n",
              "        <tr>\n",
              "            <th>category</th> <th>Cannabis Business</th> <th>Commercial</th> <th>Commercial - Port Facility</th> <th>Mixed Residential</th> <th>Multifamily</th>\n",
              "        </tr>\n",
              "    </thead>\n",
              "    <tbody>\n",
              "        <tr>\n",
              "            <td>Adult Education      </td> <td>0                </td> <td>29200     </td> <td>0                         </td> <td>0                </td> <td>0          </td>\n",
              "        </tr>\n",
              "        <tr>\n",
              "            <td>Arts & Culture       </td> <td>0                </td> <td>29369.5   </td> <td>0                         </td> <td>193173           </td> <td>0          </td>\n",
              "        </tr>\n",
              "        <tr>\n",
              "            <td>Automobile Dealership</td> <td>0                </td> <td>75432     </td> <td>0                         </td> <td>0                </td> <td>0          </td>\n",
              "        </tr>\n",
              "        <tr>\n",
              "            <td>Bank Branch          </td> <td>0                </td> <td>23202.7   </td> <td>0                         </td> <td>0                </td> <td>0          </td>\n",
              "        </tr>\n",
              "        <tr>\n",
              "            <td>Bar/Nightclub        </td> <td>0                </td> <td>16579.8   </td> <td>0                         </td> <td>0                </td> <td>0          </td>\n",
              "        </tr>\n",
              "        <tr>\n",
              "            <td>College/University   </td> <td>0                </td> <td>76929.3   </td> <td>0                         </td> <td>0                </td> <td>0          </td>\n",
              "        </tr>\n",
              "        <tr>\n",
              "            <td>Data Center          </td> <td>0                </td> <td>318186    </td> <td>0                         </td> <td>0                </td> <td>0          </td>\n",
              "        </tr>\n",
              "        <tr>\n",
              "            <td>Distribution Center  </td> <td>0                </td> <td>66735.4   </td> <td>0                         </td> <td>0                </td> <td>0          </td>\n",
              "        </tr>\n",
              "        <tr>\n",
              "            <td>Enclosed Mall        </td> <td>0                </td> <td>288296    </td> <td>0                         </td> <td>222307           </td> <td>0          </td>\n",
              "        </tr>\n",
              "        <tr>\n",
              "            <td>Financial Office     </td> <td>0                </td> <td>271089    </td> <td>0                         </td> <td>0                </td> <td>0          </td>\n",
              "        </tr>\n",
              "    </tbody>\n",
              "</table>\n",
              "<p>... (54 rows omitted)</p>"
            ],
            "text/plain": [
              "category              | Cannabis Business | Commercial | Commercial - Port Facility | Mixed Residential | Multifamily\n",
              "Adult Education       | 0                 | 29200      | 0                          | 0                 | 0\n",
              "Arts & Culture        | 0                 | 29369.5    | 0                          | 193173            | 0\n",
              "Automobile Dealership | 0                 | 75432      | 0                          | 0                 | 0\n",
              "Bank Branch           | 0                 | 23202.7    | 0                          | 0                 | 0\n",
              "Bar/Nightclub         | 0                 | 16579.8    | 0                          | 0                 | 0\n",
              "College/University    | 0                 | 76929.3    | 0                          | 0                 | 0\n",
              "Data Center           | 0                 | 318186     | 0                          | 0                 | 0\n",
              "Distribution Center   | 0                 | 66735.4    | 0                          | 0                 | 0\n",
              "Enclosed Mall         | 0                 | 288296     | 0                          | 222307            | 0\n",
              "Financial Office      | 0                 | 271089     | 0                          | 0                 | 0\n",
              "... (54 rows omitted)"
            ]
          },
          "execution_count": 23,
          "metadata": {},
          "output_type": "execute_result"
        }
      ],
      "source": [
        "energy.pivot('property_type', 'category', values='floor_area', collect=np.average) # real time example in class"
      ]
    },
    {
      "cell_type": "code",
      "execution_count": null,
      "id": "7d61f848-b0da-4e59-83f8-e5ba3674f8ed",
      "metadata": {
        "tags": [],
        "id": "7d61f848-b0da-4e59-83f8-e5ba3674f8ed",
        "outputId": "0c338df3-4bd7-4741-d5e3-404ae7177d6b"
      },
      "outputs": [
        {
          "data": {
            "text/html": [
              "<table border=\"1\" class=\"dataframe\">\n",
              "    <thead>\n",
              "        <tr>\n",
              "            <th>postal_code</th> <th>count</th>\n",
              "        </tr>\n",
              "    </thead>\n",
              "    <tbody>\n",
              "        <tr>\n",
              "            <td>94103      </td> <td>3465 </td>\n",
              "        </tr>\n",
              "        <tr>\n",
              "            <td>94107      </td> <td>2574 </td>\n",
              "        </tr>\n",
              "        <tr>\n",
              "            <td>94102      </td> <td>2082 </td>\n",
              "        </tr>\n",
              "        <tr>\n",
              "            <td>94105      </td> <td>1972 </td>\n",
              "        </tr>\n",
              "        <tr>\n",
              "            <td>94108      </td> <td>1882 </td>\n",
              "        </tr>\n",
              "        <tr>\n",
              "            <td>94109      </td> <td>1875 </td>\n",
              "        </tr>\n",
              "        <tr>\n",
              "            <td>94111      </td> <td>1624 </td>\n",
              "        </tr>\n",
              "        <tr>\n",
              "            <td>94124      </td> <td>1340 </td>\n",
              "        </tr>\n",
              "        <tr>\n",
              "            <td>94133      </td> <td>1301 </td>\n",
              "        </tr>\n",
              "        <tr>\n",
              "            <td>94110      </td> <td>1282 </td>\n",
              "        </tr>\n",
              "    </tbody>\n",
              "</table>\n",
              "<p>... (17 rows omitted)</p>"
            ],
            "text/plain": [
              "postal_code | count\n",
              "94103       | 3465\n",
              "94107       | 2574\n",
              "94102       | 2082\n",
              "94105       | 1972\n",
              "94108       | 1882\n",
              "94109       | 1875\n",
              "94111       | 1624\n",
              "94124       | 1340\n",
              "94133       | 1301\n",
              "94110       | 1282\n",
              "... (17 rows omitted)"
            ]
          },
          "execution_count": 24,
          "metadata": {},
          "output_type": "execute_result"
        }
      ],
      "source": [
        "energy.group('postal_code').sort('count',True)"
      ]
    },
    {
      "cell_type": "code",
      "execution_count": null,
      "id": "a2e09602-0b9b-44c1-9fbb-5a7c873161c8",
      "metadata": {
        "id": "a2e09602-0b9b-44c1-9fbb-5a7c873161c8",
        "outputId": "32b7e2db-1575-4aeb-8625-6cdfe4717a6e"
      },
      "outputs": [
        {
          "data": {
            "text/html": [
              "<table border=\"1\" class=\"dataframe\">\n",
              "    <thead>\n",
              "        <tr>\n",
              "            <th>postal_code</th> <th>floor_area list</th>\n",
              "        </tr>\n",
              "    </thead>\n",
              "    <tbody>\n",
              "        <tr>\n",
              "            <td>94102      </td> <td>[34173, 34173, 34173, 34173, 34173, 34173, 34173, 34173, ...</td>\n",
              "        </tr>\n",
              "        <tr>\n",
              "            <td>94103      </td> <td>[164167, 164167, 164167, 164167, 164167, 16400, 16400, 1 ...</td>\n",
              "        </tr>\n",
              "        <tr>\n",
              "            <td>94104      </td> <td>[588929, 588929, 588929, 588929, 588929, 588929, 588929, ...</td>\n",
              "        </tr>\n",
              "        <tr>\n",
              "            <td>94105      </td> <td>[58822, 58822, 58822, 58822, 58822, 58822, 58822, 58822, ...</td>\n",
              "        </tr>\n",
              "        <tr>\n",
              "            <td>94107      </td> <td>[51500, 51500, 51500, 51500, 51500, 51500, 51500, 51500, ...</td>\n",
              "        </tr>\n",
              "        <tr>\n",
              "            <td>94108      </td> <td>[15000, 15000, 15000, 15000, 15000, 15000, 15000, 15000, ...</td>\n",
              "        </tr>\n",
              "        <tr>\n",
              "            <td>94109      </td> <td>[133675, 133675, 133675, 133675, 133675, 133675, 133675, ...</td>\n",
              "        </tr>\n",
              "        <tr>\n",
              "            <td>94110      </td> <td>[62520, 62520, 62520, 62520, 62520, 65795, 65795, 65795, ...</td>\n",
              "        </tr>\n",
              "        <tr>\n",
              "            <td>94111      </td> <td>[142446, 142446, 142446, 142446, 142446, 142446, 142446, ...</td>\n",
              "        </tr>\n",
              "        <tr>\n",
              "            <td>94112      </td> <td>[61242, 61242, 61242, 61242, 61242, 61242, 61242, 61242, ...</td>\n",
              "        </tr>\n",
              "    </tbody>\n",
              "</table>\n",
              "<p>... (17 rows omitted)</p>"
            ],
            "text/plain": [
              "postal_code | floor_area list\n",
              "94102       | [34173, 34173, 34173, 34173, 34173, 34173, 34173, 34173, ...\n",
              "94103       | [164167, 164167, 164167, 164167, 164167, 16400, 16400, 1 ...\n",
              "94104       | [588929, 588929, 588929, 588929, 588929, 588929, 588929, ...\n",
              "94105       | [58822, 58822, 58822, 58822, 58822, 58822, 58822, 58822, ...\n",
              "94107       | [51500, 51500, 51500, 51500, 51500, 51500, 51500, 51500, ...\n",
              "94108       | [15000, 15000, 15000, 15000, 15000, 15000, 15000, 15000, ...\n",
              "94109       | [133675, 133675, 133675, 133675, 133675, 133675, 133675, ...\n",
              "94110       | [62520, 62520, 62520, 62520, 62520, 65795, 65795, 65795, ...\n",
              "94111       | [142446, 142446, 142446, 142446, 142446, 142446, 142446, ...\n",
              "94112       | [61242, 61242, 61242, 61242, 61242, 61242, 61242, 61242, ...\n",
              "... (17 rows omitted)"
            ]
          },
          "execution_count": 25,
          "metadata": {},
          "output_type": "execute_result"
        }
      ],
      "source": [
        "energy.select('postal_code', 'floor_area').group('postal_code', list)"
      ]
    },
    {
      "cell_type": "code",
      "execution_count": null,
      "id": "fe897b09-0ab6-4ce8-a82a-540d012ed8f9",
      "metadata": {
        "tags": [],
        "id": "fe897b09-0ab6-4ce8-a82a-540d012ed8f9",
        "outputId": "846e495d-98b8-4f68-a97e-1ce1a4474e03"
      },
      "outputs": [
        {
          "data": {
            "text/html": [
              "<table border=\"1\" class=\"dataframe\">\n",
              "    <thead>\n",
              "        <tr>\n",
              "            <th>postal_code</th> <th>floor_area average</th>\n",
              "        </tr>\n",
              "    </thead>\n",
              "    <tbody>\n",
              "        <tr>\n",
              "            <td>94102      </td> <td>104657            </td>\n",
              "        </tr>\n",
              "        <tr>\n",
              "            <td>94103      </td> <td>105811            </td>\n",
              "        </tr>\n",
              "        <tr>\n",
              "            <td>94104      </td> <td>239949            </td>\n",
              "        </tr>\n",
              "        <tr>\n",
              "            <td>94105      </td> <td>265667            </td>\n",
              "        </tr>\n",
              "        <tr>\n",
              "            <td>94107      </td> <td>106369            </td>\n",
              "        </tr>\n",
              "        <tr>\n",
              "            <td>94108      </td> <td>87159.9           </td>\n",
              "        </tr>\n",
              "        <tr>\n",
              "            <td>94109      </td> <td>79762.2           </td>\n",
              "        </tr>\n",
              "        <tr>\n",
              "            <td>94110      </td> <td>47702.2           </td>\n",
              "        </tr>\n",
              "        <tr>\n",
              "            <td>94111      </td> <td>169430            </td>\n",
              "        </tr>\n",
              "        <tr>\n",
              "            <td>94112      </td> <td>46772.3           </td>\n",
              "        </tr>\n",
              "    </tbody>\n",
              "</table>\n",
              "<p>... (17 rows omitted)</p>"
            ],
            "text/plain": [
              "postal_code | floor_area average\n",
              "94102       | 104657\n",
              "94103       | 105811\n",
              "94104       | 239949\n",
              "94105       | 265667\n",
              "94107       | 106369\n",
              "94108       | 87159.9\n",
              "94109       | 79762.2\n",
              "94110       | 47702.2\n",
              "94111       | 169430\n",
              "94112       | 46772.3\n",
              "... (17 rows omitted)"
            ]
          },
          "execution_count": 26,
          "metadata": {},
          "output_type": "execute_result"
        }
      ],
      "source": [
        "energy.select('postal_code','floor_area').group('postal_code',np.average)"
      ]
    },
    {
      "cell_type": "code",
      "execution_count": null,
      "id": "4908d896-593b-46f8-ba37-76e48aa8128a",
      "metadata": {
        "id": "4908d896-593b-46f8-ba37-76e48aa8128a",
        "outputId": "f8ddd029-3d11-4df9-a694-d75cf09bc251"
      },
      "outputs": [
        {
          "data": {
            "text/html": [
              "<table border=\"1\" class=\"dataframe\">\n",
              "    <thead>\n",
              "        <tr>\n",
              "            <th>postal_code</th> <th>floor_area max</th>\n",
              "        </tr>\n",
              "    </thead>\n",
              "    <tbody>\n",
              "        <tr>\n",
              "            <td>94102      </td> <td>1964250       </td>\n",
              "        </tr>\n",
              "        <tr>\n",
              "            <td>94103      </td> <td>1781712       </td>\n",
              "        </tr>\n",
              "        <tr>\n",
              "            <td>94104      </td> <td>1978104       </td>\n",
              "        </tr>\n",
              "        <tr>\n",
              "            <td>94105      </td> <td>1948626       </td>\n",
              "        </tr>\n",
              "        <tr>\n",
              "            <td>94107      </td> <td>1230000       </td>\n",
              "        </tr>\n",
              "        <tr>\n",
              "            <td>94108      </td> <td>804136        </td>\n",
              "        </tr>\n",
              "        <tr>\n",
              "            <td>94109      </td> <td>524272        </td>\n",
              "        </tr>\n",
              "        <tr>\n",
              "            <td>94110      </td> <td>267564        </td>\n",
              "        </tr>\n",
              "        <tr>\n",
              "            <td>94111      </td> <td>1464955       </td>\n",
              "        </tr>\n",
              "        <tr>\n",
              "            <td>94112      </td> <td>217902        </td>\n",
              "        </tr>\n",
              "    </tbody>\n",
              "</table>\n",
              "<p>... (17 rows omitted)</p>"
            ],
            "text/plain": [
              "postal_code | floor_area max\n",
              "94102       | 1964250\n",
              "94103       | 1781712\n",
              "94104       | 1978104\n",
              "94105       | 1948626\n",
              "94107       | 1230000\n",
              "94108       | 804136\n",
              "94109       | 524272\n",
              "94110       | 267564\n",
              "94111       | 1464955\n",
              "94112       | 217902\n",
              "... (17 rows omitted)"
            ]
          },
          "execution_count": 27,
          "metadata": {},
          "output_type": "execute_result"
        }
      ],
      "source": [
        "energy.select('postal_code', 'floor_area').group('postal_code', np.max)"
      ]
    },
    {
      "cell_type": "code",
      "execution_count": null,
      "id": "befa63f2-e26b-42e5-9af4-086b075625f7",
      "metadata": {
        "tags": [],
        "id": "befa63f2-e26b-42e5-9af4-086b075625f7",
        "outputId": "97ae3cf5-ccae-4da2-f563-b437c914eb89"
      },
      "outputs": [
        {
          "data": {
            "text/plain": [
              "Ellipsis"
            ]
          },
          "execution_count": 28,
          "metadata": {},
          "output_type": "execute_result"
        }
      ],
      "source": [
        "..."
      ]
    },
    {
      "cell_type": "markdown",
      "id": "c3914135-bcf5-45bd-86a0-1be4a16007f0",
      "metadata": {
        "id": "c3914135-bcf5-45bd-86a0-1be4a16007f0"
      },
      "source": [
        "---"
      ]
    },
    {
      "cell_type": "markdown",
      "id": "6036172b-406b-4fe3-a9c1-8b648b79ecd3",
      "metadata": {
        "id": "6036172b-406b-4fe3-a9c1-8b648b79ecd3"
      },
      "source": [
        "### Grouping by Two Columns"
      ]
    },
    {
      "cell_type": "markdown",
      "id": "98abcbdc-b619-4229-88e3-83693e43e8ca",
      "metadata": {
        "id": "98abcbdc-b619-4229-88e3-83693e43e8ca"
      },
      "source": [
        "The group method can also aggregate all rows that share the combination of values in multiple columns\n",
        "* First argument: A list of which columns to group by\n",
        "* Second argument: (Optional) How to combine values"
      ]
    },
    {
      "cell_type": "markdown",
      "id": "52e7f56b-4c8a-4ecc-9518-1dc16ffa7768",
      "metadata": {
        "id": "52e7f56b-4c8a-4ecc-9518-1dc16ffa7768"
      },
      "source": [
        "---"
      ]
    },
    {
      "cell_type": "markdown",
      "id": "6f05a37f-5dd9-4a37-97a9-dfea7d678bed",
      "metadata": {
        "id": "6f05a37f-5dd9-4a37-97a9-dfea7d678bed"
      },
      "source": [
        "### Demo: Grouping by Two Columns"
      ]
    },
    {
      "cell_type": "markdown",
      "id": "e2da1035-2393-440c-9546-1526c1229f92",
      "metadata": {
        "deletable": false,
        "editable": false,
        "id": "e2da1035-2393-440c-9546-1526c1229f92"
      },
      "source": [
        "The variable `'weather_normalized_site_eui'` in `energy` reflects the energy use (measured in kBtu/ft2) the building would have consumed during 30-year average weather conditions. Determine what category (Office, Retail Store, etc.) and postal code combination the city has the highest average energy use consumed during 30-year average weather conditions. Since some of the values are not available `nan`, filter the energy data to exclude such values."
      ]
    },
    {
      "cell_type": "code",
      "execution_count": null,
      "id": "1f1d502b-019b-4baf-afdb-cc5bf9970a5e",
      "metadata": {
        "tags": [],
        "id": "1f1d502b-019b-4baf-afdb-cc5bf9970a5e",
        "outputId": "bc5311c7-fa72-45fa-e972-c9dbcf66dd2e"
      },
      "outputs": [
        {
          "data": {
            "text/html": [
              "<table border=\"1\" class=\"dataframe\">\n",
              "    <thead>\n",
              "        <tr>\n",
              "            <th>category</th> <th>postal_code</th> <th>weather_normalized_site_eui</th>\n",
              "        </tr>\n",
              "    </thead>\n",
              "    <tbody>\n",
              "        <tr>\n",
              "            <td>Office  </td> <td>94109      </td> <td>47                         </td>\n",
              "        </tr>\n",
              "        <tr>\n",
              "            <td>Office  </td> <td>94109      </td> <td>57.8                       </td>\n",
              "        </tr>\n",
              "        <tr>\n",
              "            <td>Office  </td> <td>94109      </td> <td>68.1                       </td>\n",
              "        </tr>\n",
              "        <tr>\n",
              "            <td>Office  </td> <td>94109      </td> <td>73.7                       </td>\n",
              "        </tr>\n",
              "        <tr>\n",
              "            <td>Office  </td> <td>94109      </td> <td>71.5                       </td>\n",
              "        </tr>\n",
              "        <tr>\n",
              "            <td>Office  </td> <td>94109      </td> <td>46                         </td>\n",
              "        </tr>\n",
              "        <tr>\n",
              "            <td>Office  </td> <td>94109      </td> <td>59.8                       </td>\n",
              "        </tr>\n",
              "        <tr>\n",
              "            <td>Office  </td> <td>94109      </td> <td>81.6                       </td>\n",
              "        </tr>\n",
              "        <tr>\n",
              "            <td>Office  </td> <td>94109      </td> <td>70.7                       </td>\n",
              "        </tr>\n",
              "        <tr>\n",
              "            <td>Office  </td> <td>94109      </td> <td>52.5                       </td>\n",
              "        </tr>\n",
              "    </tbody>\n",
              "</table>\n",
              "<p>... (14356 rows omitted)</p>"
            ],
            "text/plain": [
              "category | postal_code | weather_normalized_site_eui\n",
              "Office   | 94109       | 47\n",
              "Office   | 94109       | 57.8\n",
              "Office   | 94109       | 68.1\n",
              "Office   | 94109       | 73.7\n",
              "Office   | 94109       | 71.5\n",
              "Office   | 94109       | 46\n",
              "Office   | 94109       | 59.8\n",
              "Office   | 94109       | 81.6\n",
              "Office   | 94109       | 70.7\n",
              "Office   | 94109       | 52.5\n",
              "... (14356 rows omitted)"
            ]
          },
          "execution_count": 29,
          "metadata": {},
          "output_type": "execute_result"
        }
      ],
      "source": [
        "energy_reduced = energy.select('category', 'postal_code', 'weather_normalized_site_eui')\n",
        "energy_filtered = energy_reduced.where('weather_normalized_site_eui', are.above(0))\n",
        "energy_filtered"
      ]
    },
    {
      "cell_type": "code",
      "execution_count": null,
      "id": "08bfacc3-ffeb-4fc6-86bf-47b6fa463f4c",
      "metadata": {
        "tags": [],
        "id": "08bfacc3-ffeb-4fc6-86bf-47b6fa463f4c",
        "outputId": "3c8c6396-86d1-4a11-abd6-efff01936811"
      },
      "outputs": [
        {
          "data": {
            "text/html": [
              "<table border=\"1\" class=\"dataframe\">\n",
              "    <thead>\n",
              "        <tr>\n",
              "            <th>category</th> <th>postal_code</th> <th>count</th>\n",
              "        </tr>\n",
              "    </thead>\n",
              "    <tbody>\n",
              "        <tr>\n",
              "            <td>Adult Education      </td> <td>94103      </td> <td>7    </td>\n",
              "        </tr>\n",
              "        <tr>\n",
              "            <td>Adult Education      </td> <td>94109      </td> <td>7    </td>\n",
              "        </tr>\n",
              "        <tr>\n",
              "            <td>Arts & Culture       </td> <td>94103      </td> <td>1    </td>\n",
              "        </tr>\n",
              "        <tr>\n",
              "            <td>Arts & Culture       </td> <td>94115      </td> <td>1    </td>\n",
              "        </tr>\n",
              "        <tr>\n",
              "            <td>Automobile Dealership</td> <td>94103      </td> <td>21   </td>\n",
              "        </tr>\n",
              "        <tr>\n",
              "            <td>Automobile Dealership</td> <td>94109      </td> <td>49   </td>\n",
              "        </tr>\n",
              "        <tr>\n",
              "            <td>Automobile Dealership</td> <td>94118      </td> <td>20   </td>\n",
              "        </tr>\n",
              "        <tr>\n",
              "            <td>Bank Branch          </td> <td>94102      </td> <td>6    </td>\n",
              "        </tr>\n",
              "        <tr>\n",
              "            <td>Bank Branch          </td> <td>94103      </td> <td>14   </td>\n",
              "        </tr>\n",
              "        <tr>\n",
              "            <td>Bank Branch          </td> <td>94104      </td> <td>19   </td>\n",
              "        </tr>\n",
              "    </tbody>\n",
              "</table>\n",
              "<p>... (343 rows omitted)</p>"
            ],
            "text/plain": [
              "category              | postal_code | count\n",
              "Adult Education       | 94103       | 7\n",
              "Adult Education       | 94109       | 7\n",
              "Arts & Culture        | 94103       | 1\n",
              "Arts & Culture        | 94115       | 1\n",
              "Automobile Dealership | 94103       | 21\n",
              "Automobile Dealership | 94109       | 49\n",
              "Automobile Dealership | 94118       | 20\n",
              "Bank Branch           | 94102       | 6\n",
              "Bank Branch           | 94103       | 14\n",
              "Bank Branch           | 94104       | 19\n",
              "... (343 rows omitted)"
            ]
          },
          "execution_count": 30,
          "metadata": {},
          "output_type": "execute_result"
        }
      ],
      "source": [
        "energy_filtered.group(['category','postal_code'])\n"
      ]
    },
    {
      "cell_type": "code",
      "execution_count": null,
      "id": "af46bfb9-7530-4d49-a421-183a6c25a075",
      "metadata": {
        "id": "af46bfb9-7530-4d49-a421-183a6c25a075",
        "outputId": "c137681d-cb9e-4344-93f8-9f2ee65ed1d8"
      },
      "outputs": [
        {
          "data": {
            "text/html": [
              "<table border=\"1\" class=\"dataframe\">\n",
              "    <thead>\n",
              "        <tr>\n",
              "            <th>category</th> <th>postal_code</th> <th>weather_normalized_site_eui average</th>\n",
              "        </tr>\n",
              "    </thead>\n",
              "    <tbody>\n",
              "        <tr>\n",
              "            <td>Adult Education      </td> <td>94103      </td> <td>21.8143                            </td>\n",
              "        </tr>\n",
              "        <tr>\n",
              "            <td>Adult Education      </td> <td>94109      </td> <td>37.3286                            </td>\n",
              "        </tr>\n",
              "        <tr>\n",
              "            <td>Arts & Culture       </td> <td>94103      </td> <td>26.3                               </td>\n",
              "        </tr>\n",
              "        <tr>\n",
              "            <td>Arts & Culture       </td> <td>94115      </td> <td>128.7                              </td>\n",
              "        </tr>\n",
              "        <tr>\n",
              "            <td>Automobile Dealership</td> <td>94103      </td> <td>39.8571                            </td>\n",
              "        </tr>\n",
              "        <tr>\n",
              "            <td>Automobile Dealership</td> <td>94109      </td> <td>18.5776                            </td>\n",
              "        </tr>\n",
              "        <tr>\n",
              "            <td>Automobile Dealership</td> <td>94118      </td> <td>40.53                              </td>\n",
              "        </tr>\n",
              "        <tr>\n",
              "            <td>Bank Branch          </td> <td>94102      </td> <td>15.0667                            </td>\n",
              "        </tr>\n",
              "        <tr>\n",
              "            <td>Bank Branch          </td> <td>94103      </td> <td>40.5571                            </td>\n",
              "        </tr>\n",
              "        <tr>\n",
              "            <td>Bank Branch          </td> <td>94104      </td> <td>49.8579                            </td>\n",
              "        </tr>\n",
              "    </tbody>\n",
              "</table>\n",
              "<p>... (343 rows omitted)</p>"
            ],
            "text/plain": [
              "category              | postal_code | weather_normalized_site_eui average\n",
              "Adult Education       | 94103       | 21.8143\n",
              "Adult Education       | 94109       | 37.3286\n",
              "Arts & Culture        | 94103       | 26.3\n",
              "Arts & Culture        | 94115       | 128.7\n",
              "Automobile Dealership | 94103       | 39.8571\n",
              "Automobile Dealership | 94109       | 18.5776\n",
              "Automobile Dealership | 94118       | 40.53\n",
              "Bank Branch           | 94102       | 15.0667\n",
              "Bank Branch           | 94103       | 40.5571\n",
              "Bank Branch           | 94104       | 49.8579\n",
              "... (343 rows omitted)"
            ]
          },
          "execution_count": 31,
          "metadata": {},
          "output_type": "execute_result"
        }
      ],
      "source": [
        "energy_filtered.group(['category', 'postal_code'], np.average)"
      ]
    },
    {
      "cell_type": "code",
      "execution_count": null,
      "id": "0ea2dc48-07c7-4d39-b242-1cfca34face8",
      "metadata": {
        "tags": [],
        "id": "0ea2dc48-07c7-4d39-b242-1cfca34face8",
        "outputId": "162e3843-e176-42a3-bf67-6ae4fb849715"
      },
      "outputs": [
        {
          "data": {
            "text/html": [
              "<table border=\"1\" class=\"dataframe\">\n",
              "    <thead>\n",
              "        <tr>\n",
              "            <th>category</th> <th>postal_code</th> <th>weather_normalized_site_eui average</th>\n",
              "        </tr>\n",
              "    </thead>\n",
              "    <tbody>\n",
              "        <tr>\n",
              "            <td>Data Center                          </td> <td>94107      </td> <td>1545.05                            </td>\n",
              "        </tr>\n",
              "        <tr>\n",
              "            <td>Data Center                          </td> <td>94105      </td> <td>792.514                            </td>\n",
              "        </tr>\n",
              "        <tr>\n",
              "            <td>Other - Technology/Science           </td> <td>94124      </td> <td>680.673                            </td>\n",
              "        </tr>\n",
              "        <tr>\n",
              "            <td>Data Center                          </td> <td>94124      </td> <td>599.083                            </td>\n",
              "        </tr>\n",
              "        <tr>\n",
              "            <td>Manufacturing/Industrial Plant       </td> <td>94124      </td> <td>372.713                            </td>\n",
              "        </tr>\n",
              "        <tr>\n",
              "            <td>Hospital (General Medical & Surgical)</td> <td>94108      </td> <td>337.75                             </td>\n",
              "        </tr>\n",
              "        <tr>\n",
              "            <td>Supermarket/Grocery Store            </td> <td>94109      </td> <td>281.511                            </td>\n",
              "        </tr>\n",
              "        <tr>\n",
              "            <td>Supermarket/Grocery Store            </td> <td>94127      </td> <td>281.138                            </td>\n",
              "        </tr>\n",
              "        <tr>\n",
              "            <td>Supermarket/Grocery Store            </td> <td>94131      </td> <td>276.286                            </td>\n",
              "        </tr>\n",
              "        <tr>\n",
              "            <td>Supermarket/Grocery Store            </td> <td>94123      </td> <td>269.555                            </td>\n",
              "        </tr>\n",
              "    </tbody>\n",
              "</table>\n",
              "<p>... (343 rows omitted)</p>"
            ],
            "text/plain": [
              "category                              | postal_code | weather_normalized_site_eui average\n",
              "Data Center                           | 94107       | 1545.05\n",
              "Data Center                           | 94105       | 792.514\n",
              "Other - Technology/Science            | 94124       | 680.673\n",
              "Data Center                           | 94124       | 599.083\n",
              "Manufacturing/Industrial Plant        | 94124       | 372.713\n",
              "Hospital (General Medical & Surgical) | 94108       | 337.75\n",
              "Supermarket/Grocery Store             | 94109       | 281.511\n",
              "Supermarket/Grocery Store             | 94127       | 281.138\n",
              "Supermarket/Grocery Store             | 94131       | 276.286\n",
              "Supermarket/Grocery Store             | 94123       | 269.555\n",
              "... (343 rows omitted)"
            ]
          },
          "execution_count": 32,
          "metadata": {},
          "output_type": "execute_result"
        }
      ],
      "source": [
        "energy_by_cat_and_postal = energy_filtered.group(['category', 'postal_code'], np.average)\n",
        "energy_by_cat_and_postal.sort('weather_normalized_site_eui average', True)"
      ]
    },
    {
      "cell_type": "markdown",
      "id": "74248d31-a6ab-49c7-b4f6-be27de4af2c8",
      "metadata": {
        "id": "74248d31-a6ab-49c7-b4f6-be27de4af2c8"
      },
      "source": [
        "---"
      ]
    },
    {
      "cell_type": "markdown",
      "id": "af7d231b-c2dc-44e7-8bb5-8905b37e3277",
      "metadata": {
        "id": "af7d231b-c2dc-44e7-8bb5-8905b37e3277"
      },
      "source": [
        "## Pivot Tables"
      ]
    },
    {
      "cell_type": "markdown",
      "id": "8e0ca5b8-dfca-45c3-8beb-959101512ea9",
      "metadata": {
        "id": "8e0ca5b8-dfca-45c3-8beb-959101512ea9"
      },
      "source": [
        "---"
      ]
    },
    {
      "cell_type": "markdown",
      "id": "9ce5b764-148b-456b-ba00-51ba14c3cd08",
      "metadata": {
        "id": "9ce5b764-148b-456b-ba00-51ba14c3cd08"
      },
      "source": [
        "### Pivot"
      ]
    },
    {
      "cell_type": "markdown",
      "id": "e3ddf346-cf22-4f82-8a9c-62c0f27220e7",
      "metadata": {
        "id": "e3ddf346-cf22-4f82-8a9c-62c0f27220e7"
      },
      "source": [
        "* Produces a grid of counts or aggregated values based on two categorical variables\n",
        "* Two required arguments:\n",
        "    * First: variable that forms column labels of grid\n",
        "    * Second: variable that forms row labels of grid\n",
        "* Two optional arguments (include both or neither)\n",
        "    * `values=’column_label_to_aggregate’`\n",
        "    * `collect=function_to_aggregate_with`"
      ]
    },
    {
      "cell_type": "markdown",
      "id": "046d44c8-2bd7-4a78-9ecd-272f4f3cd714",
      "metadata": {
        "id": "046d44c8-2bd7-4a78-9ecd-272f4f3cd714"
      },
      "source": [
        "---"
      ]
    },
    {
      "cell_type": "markdown",
      "id": "2f59e5fe-3ed9-4294-8e8e-f81d3e0b37a1",
      "metadata": {
        "id": "2f59e5fe-3ed9-4294-8e8e-f81d3e0b37a1"
      },
      "source": [
        "### Demo: Pivot Tables"
      ]
    },
    {
      "cell_type": "markdown",
      "id": "36227404-8eeb-40cc-b5b2-801207482af6",
      "metadata": {
        "deletable": false,
        "editable": false,
        "tags": [],
        "id": "36227404-8eeb-40cc-b5b2-801207482af6"
      },
      "source": [
        "Using the `pivot` table method, summarize the average energy use consumed during 30-year average weather conditions across categories (Office, Retail Store, etc.) and postal code combinations."
      ]
    },
    {
      "cell_type": "code",
      "execution_count": null,
      "id": "e0119bf9-921e-45f9-8d96-ced5868b14d2",
      "metadata": {
        "tags": [],
        "id": "e0119bf9-921e-45f9-8d96-ced5868b14d2",
        "outputId": "ea79e1b9-2942-4846-8f86-f856916504da"
      },
      "outputs": [
        {
          "data": {
            "text/html": [
              "<table border=\"1\" class=\"dataframe\">\n",
              "    <thead>\n",
              "        <tr>\n",
              "            <th>postal_code</th> <th>Adult Education</th> <th>Arts & Culture</th> <th>Automobile Dealership</th> <th>Bank Branch</th> <th>Bar/Nightclub</th> <th>College/University</th> <th>Data Center</th> <th>Distribution Center</th> <th>Enclosed Mall</th> <th>Financial Office</th> <th>Fitness Center/Health Club/Gym</th> <th>Food Sales</th> <th>Food Service</th> <th>Hospital (General Medical & Surgical)</th> <th>Hotel</th> <th>Indoor Arena</th> <th>K-12 School</th> <th>Laboratory</th> <th>Manufacturing/Industrial Plant</th> <th>Medical Office</th> <th>Mixed Use Property</th> <th>Movie Theater</th> <th>Multifamily Housing</th> <th>Museum</th> <th>Non-Refrigerated Warehouse</th> <th>Office</th> <th>Other</th> <th>Other - Education</th> <th>Other - Entertainment/Public Assembly</th> <th>Other - Lodging/Residential</th> <th>Other - Mall</th> <th>Other - Recreation</th> <th>Other - Restaurant/Bar</th> <th>Other - Services</th> <th>Other - Technology/Science</th> <th>Parking</th> <th>Performing Arts</th> <th>Personal Services (Health/Beauty, Dry Cleaning, etc.)</th> <th>Pre-school/Daycare</th> <th>Preforming Arts</th> <th>Refrigerated Warehouse</th> <th>Repair Services (Vehicle, Shoe, Locksmith, etc.)</th> <th>Residence Hall/Dormitory</th> <th>Residential Care Facility</th> <th>Restaurant</th> <th>Retail Store</th> <th>Self-Storage Facility</th> <th>Senior Living Community</th> <th>Social/Meeting Hall</th> <th>Stadium (Open)</th> <th>Strip Mall</th> <th>Supermarket/Grocery Store</th> <th>Transportation Terminal/Station</th> <th>Urgent Care/Clinic/Other Outpatient</th> <th>Veterinary Office</th> <th>Vocational School</th> <th>Wholesale Club/Supercenter</th> <th>Worship Facility</th>\n",
              "        </tr>\n",
              "    </thead>\n",
              "    <tbody>\n",
              "        <tr>\n",
              "            <td>94102      </td> <td>0              </td> <td>0             </td> <td>0                    </td> <td>6          </td> <td>0            </td> <td>60                </td> <td>0          </td> <td>0                  </td> <td>0            </td> <td>0               </td> <td>0                             </td> <td>0         </td> <td>0           </td> <td>0                                    </td> <td>296  </td> <td>0           </td> <td>20         </td> <td>0         </td> <td>10                            </td> <td>8             </td> <td>38                </td> <td>0            </td> <td>261                </td> <td>0     </td> <td>0                         </td> <td>335   </td> <td>35   </td> <td>0                </td> <td>0                                    </td> <td>1                          </td> <td>0           </td> <td>0                 </td> <td>2                     </td> <td>0               </td> <td>0                         </td> <td>11     </td> <td>44             </td> <td>0                                                    </td> <td>16                </td> <td>2              </td> <td>0                     </td> <td>0                                               </td> <td>0                       </td> <td>0                        </td> <td>7         </td> <td>66          </td> <td>2                    </td> <td>0                      </td> <td>27                 </td> <td>0             </td> <td>3         </td> <td>0                        </td> <td>0                              </td> <td>0                                  </td> <td>0                </td> <td>0                </td> <td>0                         </td> <td>30              </td>\n",
              "        </tr>\n",
              "        <tr>\n",
              "            <td>94103      </td> <td>7              </td> <td>1             </td> <td>21                   </td> <td>14         </td> <td>20           </td> <td>0                 </td> <td>0          </td> <td>39                 </td> <td>16           </td> <td>0               </td> <td>17                            </td> <td>0         </td> <td>0           </td> <td>9                                    </td> <td>171  </td> <td>0           </td> <td>11         </td> <td>6         </td> <td>60                            </td> <td>5             </td> <td>58                </td> <td>8            </td> <td>183                </td> <td>13    </td> <td>56                        </td> <td>870   </td> <td>88   </td> <td>0                </td> <td>36                                   </td> <td>8                          </td> <td>12          </td> <td>0                 </td> <td>10                    </td> <td>0               </td> <td>0                         </td> <td>0      </td> <td>0              </td> <td>0                                                    </td> <td>0                 </td> <td>0              </td> <td>0                     </td> <td>7                                               </td> <td>3                       </td> <td>0                        </td> <td>0         </td> <td>127         </td> <td>29                   </td> <td>0                      </td> <td>8                  </td> <td>0             </td> <td>12        </td> <td>42                       </td> <td>0                              </td> <td>10                                 </td> <td>0                </td> <td>10               </td> <td>10                        </td> <td>10              </td>\n",
              "        </tr>\n",
              "        <tr>\n",
              "            <td>94104      </td> <td>0              </td> <td>0             </td> <td>0                    </td> <td>19         </td> <td>0            </td> <td>0                 </td> <td>0          </td> <td>0                  </td> <td>0            </td> <td>9               </td> <td>0                             </td> <td>0         </td> <td>0           </td> <td>0                                    </td> <td>31   </td> <td>0           </td> <td>0          </td> <td>0         </td> <td>0                             </td> <td>0             </td> <td>9                 </td> <td>0            </td> <td>0                  </td> <td>0     </td> <td>0                         </td> <td>621   </td> <td>5    </td> <td>0                </td> <td>0                                    </td> <td>0                          </td> <td>0           </td> <td>0                 </td> <td>0                     </td> <td>0               </td> <td>0                         </td> <td>0      </td> <td>0              </td> <td>0                                                    </td> <td>0                 </td> <td>0              </td> <td>0                     </td> <td>0                                               </td> <td>0                       </td> <td>0                        </td> <td>0         </td> <td>2           </td> <td>0                    </td> <td>0                      </td> <td>0                  </td> <td>0             </td> <td>0         </td> <td>0                        </td> <td>0                              </td> <td>0                                  </td> <td>0                </td> <td>0                </td> <td>0                         </td> <td>0               </td>\n",
              "        </tr>\n",
              "        <tr>\n",
              "            <td>94105      </td> <td>0              </td> <td>0             </td> <td>0                    </td> <td>0          </td> <td>3            </td> <td>46                </td> <td>7          </td> <td>0                  </td> <td>0            </td> <td>6               </td> <td>0                             </td> <td>0         </td> <td>0           </td> <td>0                                    </td> <td>49   </td> <td>0           </td> <td>0          </td> <td>0         </td> <td>0                             </td> <td>0             </td> <td>31                </td> <td>0            </td> <td>83                 </td> <td>10    </td> <td>8                         </td> <td>1094  </td> <td>24   </td> <td>0                </td> <td>0                                    </td> <td>0                          </td> <td>9           </td> <td>0                 </td> <td>0                     </td> <td>0               </td> <td>0                         </td> <td>9      </td> <td>0              </td> <td>0                                                    </td> <td>0                 </td> <td>0              </td> <td>0                     </td> <td>0                                               </td> <td>0                       </td> <td>0                        </td> <td>6         </td> <td>19          </td> <td>2                    </td> <td>0                      </td> <td>0                  </td> <td>0             </td> <td>0         </td> <td>0                        </td> <td>0                              </td> <td>0                                  </td> <td>0                </td> <td>0                </td> <td>0                         </td> <td>0               </td>\n",
              "        </tr>\n",
              "        <tr>\n",
              "            <td>94107      </td> <td>0              </td> <td>0             </td> <td>0                    </td> <td>0          </td> <td>0            </td> <td>59                </td> <td>6          </td> <td>14                 </td> <td>0            </td> <td>0               </td> <td>27                            </td> <td>0         </td> <td>0           </td> <td>0                                    </td> <td>4    </td> <td>0           </td> <td>11         </td> <td>19        </td> <td>39                            </td> <td>0             </td> <td>46                </td> <td>0            </td> <td>232                </td> <td>0     </td> <td>17                        </td> <td>879   </td> <td>70   </td> <td>0                </td> <td>0                                    </td> <td>0                          </td> <td>0           </td> <td>0                 </td> <td>8                     </td> <td>10              </td> <td>0                         </td> <td>0      </td> <td>0              </td> <td>0                                                    </td> <td>0                 </td> <td>0              </td> <td>0                     </td> <td>6                                               </td> <td>0                       </td> <td>0                        </td> <td>3         </td> <td>23          </td> <td>8                    </td> <td>0                      </td> <td>0                  </td> <td>6             </td> <td>0         </td> <td>0                        </td> <td>8                              </td> <td>0                                  </td> <td>0                </td> <td>0                </td> <td>0                         </td> <td>0               </td>\n",
              "        </tr>\n",
              "        <tr>\n",
              "            <td>94108      </td> <td>0              </td> <td>0             </td> <td>0                    </td> <td>6          </td> <td>0            </td> <td>22                </td> <td>0          </td> <td>0                  </td> <td>0            </td> <td>8               </td> <td>0                             </td> <td>0         </td> <td>0           </td> <td>8                                    </td> <td>158  </td> <td>0           </td> <td>16         </td> <td>0         </td> <td>0                             </td> <td>26            </td> <td>31                </td> <td>0            </td> <td>45                 </td> <td>0     </td> <td>0                         </td> <td>539   </td> <td>31   </td> <td>0                </td> <td>0                                    </td> <td>0                          </td> <td>6           </td> <td>0                 </td> <td>5                     </td> <td>0               </td> <td>0                         </td> <td>0      </td> <td>0              </td> <td>21                                                   </td> <td>0                 </td> <td>0              </td> <td>0                     </td> <td>0                                               </td> <td>0                       </td> <td>0                        </td> <td>15        </td> <td>160         </td> <td>0                    </td> <td>0                      </td> <td>0                  </td> <td>0             </td> <td>0         </td> <td>0                        </td> <td>0                              </td> <td>0                                  </td> <td>0                </td> <td>0                </td> <td>0                         </td> <td>37              </td>\n",
              "        </tr>\n",
              "        <tr>\n",
              "            <td>94109      </td> <td>7              </td> <td>0             </td> <td>49                   </td> <td>19         </td> <td>0            </td> <td>33                </td> <td>0          </td> <td>0                  </td> <td>5            </td> <td>0               </td> <td>19                            </td> <td>0         </td> <td>0           </td> <td>7                                    </td> <td>145  </td> <td>0           </td> <td>0          </td> <td>0         </td> <td>0                             </td> <td>43            </td> <td>59                </td> <td>6            </td> <td>254                </td> <td>11    </td> <td>0                         </td> <td>152   </td> <td>14   </td> <td>0                </td> <td>10                                   </td> <td>0                          </td> <td>10          </td> <td>0                 </td> <td>0                     </td> <td>8               </td> <td>0                         </td> <td>9      </td> <td>0              </td> <td>0                                                    </td> <td>0                 </td> <td>0              </td> <td>0                     </td> <td>7                                               </td> <td>0                       </td> <td>0                        </td> <td>10        </td> <td>40          </td> <td>0                    </td> <td>23                     </td> <td>10                 </td> <td>0             </td> <td>7         </td> <td>18                       </td> <td>0                              </td> <td>0                                  </td> <td>0                </td> <td>0                </td> <td>0                         </td> <td>21              </td>\n",
              "        </tr>\n",
              "        <tr>\n",
              "            <td>94110      </td> <td>0              </td> <td>0             </td> <td>0                    </td> <td>3          </td> <td>3            </td> <td>0                 </td> <td>0          </td> <td>0                  </td> <td>0            </td> <td>0               </td> <td>8                             </td> <td>0         </td> <td>0           </td> <td>0                                    </td> <td>0    </td> <td>0           </td> <td>0          </td> <td>0         </td> <td>26                            </td> <td>18            </td> <td>52                </td> <td>5            </td> <td>82                 </td> <td>0     </td> <td>9                         </td> <td>253   </td> <td>46   </td> <td>5                </td> <td>0                                    </td> <td>4                          </td> <td>0           </td> <td>0                 </td> <td>9                     </td> <td>0               </td> <td>10                        </td> <td>0      </td> <td>0              </td> <td>0                                                    </td> <td>0                 </td> <td>0              </td> <td>0                     </td> <td>0                                               </td> <td>0                       </td> <td>0                        </td> <td>8         </td> <td>69          </td> <td>5                    </td> <td>0                      </td> <td>0                  </td> <td>0             </td> <td>4         </td> <td>16                       </td> <td>0                              </td> <td>9                                  </td> <td>10               </td> <td>5                </td> <td>0                         </td> <td>10              </td>\n",
              "        </tr>\n",
              "        <tr>\n",
              "            <td>94111      </td> <td>0              </td> <td>0             </td> <td>0                    </td> <td>0          </td> <td>0            </td> <td>0                 </td> <td>0          </td> <td>0                  </td> <td>0            </td> <td>0               </td> <td>0                             </td> <td>0         </td> <td>0           </td> <td>0                                    </td> <td>49   </td> <td>0           </td> <td>0          </td> <td>0         </td> <td>0                             </td> <td>0             </td> <td>35                </td> <td>0            </td> <td>25                 </td> <td>0     </td> <td>22                        </td> <td>982   </td> <td>17   </td> <td>0                </td> <td>0                                    </td> <td>0                          </td> <td>0           </td> <td>0                 </td> <td>0                     </td> <td>0               </td> <td>0                         </td> <td>0      </td> <td>0              </td> <td>0                                                    </td> <td>0                 </td> <td>0              </td> <td>0                     </td> <td>0                                               </td> <td>0                       </td> <td>0                        </td> <td>13        </td> <td>0           </td> <td>0                    </td> <td>0                      </td> <td>0                  </td> <td>0             </td> <td>0         </td> <td>0                        </td> <td>0                              </td> <td>0                                  </td> <td>0                </td> <td>0                </td> <td>0                         </td> <td>11              </td>\n",
              "        </tr>\n",
              "        <tr>\n",
              "            <td>94112      </td> <td>0              </td> <td>0             </td> <td>0                    </td> <td>0          </td> <td>0            </td> <td>0                 </td> <td>0          </td> <td>0                  </td> <td>0            </td> <td>0               </td> <td>0                             </td> <td>0         </td> <td>0           </td> <td>0                                    </td> <td>0    </td> <td>0           </td> <td>12         </td> <td>0         </td> <td>0                             </td> <td>0             </td> <td>13                </td> <td>0            </td> <td>27                 </td> <td>0     </td> <td>0                         </td> <td>3     </td> <td>6    </td> <td>0                </td> <td>7                                    </td> <td>0                          </td> <td>0           </td> <td>0                 </td> <td>0                     </td> <td>0               </td> <td>0                         </td> <td>0      </td> <td>0              </td> <td>0                                                    </td> <td>0                 </td> <td>0              </td> <td>0                     </td> <td>0                                               </td> <td>0                       </td> <td>0                        </td> <td>0         </td> <td>5           </td> <td>0                    </td> <td>0                      </td> <td>10                 </td> <td>0             </td> <td>0         </td> <td>22                       </td> <td>0                              </td> <td>0                                  </td> <td>0                </td> <td>0                </td> <td>0                         </td> <td>19              </td>\n",
              "        </tr>\n",
              "    </tbody>\n",
              "</table>\n",
              "<p>... (17 rows omitted)</p>"
            ],
            "text/plain": [
              "postal_code | Adult Education | Arts & Culture | Automobile Dealership | Bank Branch | Bar/Nightclub | College/University | Data Center | Distribution Center | Enclosed Mall | Financial Office | Fitness Center/Health Club/Gym | Food Sales | Food Service | Hospital (General Medical & Surgical) | Hotel | Indoor Arena | K-12 School | Laboratory | Manufacturing/Industrial Plant | Medical Office | Mixed Use Property | Movie Theater | Multifamily Housing | Museum | Non-Refrigerated Warehouse | Office | Other | Other - Education | Other - Entertainment/Public Assembly | Other - Lodging/Residential | Other - Mall | Other - Recreation | Other - Restaurant/Bar | Other - Services | Other - Technology/Science | Parking | Performing Arts | Personal Services (Health/Beauty, Dry Cleaning, etc.) | Pre-school/Daycare | Preforming Arts | Refrigerated Warehouse | Repair Services (Vehicle, Shoe, Locksmith, etc.) | Residence Hall/Dormitory | Residential Care Facility | Restaurant | Retail Store | Self-Storage Facility | Senior Living Community | Social/Meeting Hall | Stadium (Open) | Strip Mall | Supermarket/Grocery Store | Transportation Terminal/Station | Urgent Care/Clinic/Other Outpatient | Veterinary Office | Vocational School | Wholesale Club/Supercenter | Worship Facility\n",
              "94102       | 0               | 0              | 0                     | 6           | 0             | 60                 | 0           | 0                   | 0             | 0                | 0                              | 0          | 0            | 0                                     | 296   | 0            | 20          | 0          | 10                             | 8              | 38                 | 0             | 261                 | 0      | 0                          | 335    | 35    | 0                 | 0                                     | 1                           | 0            | 0                  | 2                      | 0                | 0                          | 11      | 44              | 0                                                     | 16                 | 2               | 0                      | 0                                                | 0                        | 0                         | 7          | 66           | 2                     | 0                       | 27                  | 0              | 3          | 0                         | 0                               | 0                                   | 0                 | 0                 | 0                          | 30\n",
              "94103       | 7               | 1              | 21                    | 14          | 20            | 0                  | 0           | 39                  | 16            | 0                | 17                             | 0          | 0            | 9                                     | 171   | 0            | 11          | 6          | 60                             | 5              | 58                 | 8             | 183                 | 13     | 56                         | 870    | 88    | 0                 | 36                                    | 8                           | 12           | 0                  | 10                     | 0                | 0                          | 0       | 0               | 0                                                     | 0                  | 0               | 0                      | 7                                                | 3                        | 0                         | 0          | 127          | 29                    | 0                       | 8                   | 0              | 12         | 42                        | 0                               | 10                                  | 0                 | 10                | 10                         | 10\n",
              "94104       | 0               | 0              | 0                     | 19          | 0             | 0                  | 0           | 0                   | 0             | 9                | 0                              | 0          | 0            | 0                                     | 31    | 0            | 0           | 0          | 0                              | 0              | 9                  | 0             | 0                   | 0      | 0                          | 621    | 5     | 0                 | 0                                     | 0                           | 0            | 0                  | 0                      | 0                | 0                          | 0       | 0               | 0                                                     | 0                  | 0               | 0                      | 0                                                | 0                        | 0                         | 0          | 2            | 0                     | 0                       | 0                   | 0              | 0          | 0                         | 0                               | 0                                   | 0                 | 0                 | 0                          | 0\n",
              "94105       | 0               | 0              | 0                     | 0           | 3             | 46                 | 7           | 0                   | 0             | 6                | 0                              | 0          | 0            | 0                                     | 49    | 0            | 0           | 0          | 0                              | 0              | 31                 | 0             | 83                  | 10     | 8                          | 1094   | 24    | 0                 | 0                                     | 0                           | 9            | 0                  | 0                      | 0                | 0                          | 9       | 0               | 0                                                     | 0                  | 0               | 0                      | 0                                                | 0                        | 0                         | 6          | 19           | 2                     | 0                       | 0                   | 0              | 0          | 0                         | 0                               | 0                                   | 0                 | 0                 | 0                          | 0\n",
              "94107       | 0               | 0              | 0                     | 0           | 0             | 59                 | 6           | 14                  | 0             | 0                | 27                             | 0          | 0            | 0                                     | 4     | 0            | 11          | 19         | 39                             | 0              | 46                 | 0             | 232                 | 0      | 17                         | 879    | 70    | 0                 | 0                                     | 0                           | 0            | 0                  | 8                      | 10               | 0                          | 0       | 0               | 0                                                     | 0                  | 0               | 0                      | 6                                                | 0                        | 0                         | 3          | 23           | 8                     | 0                       | 0                   | 6              | 0          | 0                         | 8                               | 0                                   | 0                 | 0                 | 0                          | 0\n",
              "94108       | 0               | 0              | 0                     | 6           | 0             | 22                 | 0           | 0                   | 0             | 8                | 0                              | 0          | 0            | 8                                     | 158   | 0            | 16          | 0          | 0                              | 26             | 31                 | 0             | 45                  | 0      | 0                          | 539    | 31    | 0                 | 0                                     | 0                           | 6            | 0                  | 5                      | 0                | 0                          | 0       | 0               | 21                                                    | 0                  | 0               | 0                      | 0                                                | 0                        | 0                         | 15         | 160          | 0                     | 0                       | 0                   | 0              | 0          | 0                         | 0                               | 0                                   | 0                 | 0                 | 0                          | 37\n",
              "94109       | 7               | 0              | 49                    | 19          | 0             | 33                 | 0           | 0                   | 5             | 0                | 19                             | 0          | 0            | 7                                     | 145   | 0            | 0           | 0          | 0                              | 43             | 59                 | 6             | 254                 | 11     | 0                          | 152    | 14    | 0                 | 10                                    | 0                           | 10           | 0                  | 0                      | 8                | 0                          | 9       | 0               | 0                                                     | 0                  | 0               | 0                      | 7                                                | 0                        | 0                         | 10         | 40           | 0                     | 23                      | 10                  | 0              | 7          | 18                        | 0                               | 0                                   | 0                 | 0                 | 0                          | 21\n",
              "94110       | 0               | 0              | 0                     | 3           | 3             | 0                  | 0           | 0                   | 0             | 0                | 8                              | 0          | 0            | 0                                     | 0     | 0            | 0           | 0          | 26                             | 18             | 52                 | 5             | 82                  | 0      | 9                          | 253    | 46    | 5                 | 0                                     | 4                           | 0            | 0                  | 9                      | 0                | 10                         | 0       | 0               | 0                                                     | 0                  | 0               | 0                      | 0                                                | 0                        | 0                         | 8          | 69           | 5                     | 0                       | 0                   | 0              | 4          | 16                        | 0                               | 9                                   | 10                | 5                 | 0                          | 10\n",
              "94111       | 0               | 0              | 0                     | 0           | 0             | 0                  | 0           | 0                   | 0             | 0                | 0                              | 0          | 0            | 0                                     | 49    | 0            | 0           | 0          | 0                              | 0              | 35                 | 0             | 25                  | 0      | 22                         | 982    | 17    | 0                 | 0                                     | 0                           | 0            | 0                  | 0                      | 0                | 0                          | 0       | 0               | 0                                                     | 0                  | 0               | 0                      | 0                                                | 0                        | 0                         | 13         | 0            | 0                     | 0                       | 0                   | 0              | 0          | 0                         | 0                               | 0                                   | 0                 | 0                 | 0                          | 11\n",
              "94112       | 0               | 0              | 0                     | 0           | 0             | 0                  | 0           | 0                   | 0             | 0                | 0                              | 0          | 0            | 0                                     | 0     | 0            | 12          | 0          | 0                              | 0              | 13                 | 0             | 27                  | 0      | 0                          | 3      | 6     | 0                 | 7                                     | 0                           | 0            | 0                  | 0                      | 0                | 0                          | 0       | 0               | 0                                                     | 0                  | 0               | 0                      | 0                                                | 0                        | 0                         | 0          | 5            | 0                     | 0                       | 10                  | 0              | 0          | 22                        | 0                               | 0                                   | 0                 | 0                 | 0                          | 19\n",
              "... (17 rows omitted)"
            ]
          },
          "execution_count": 33,
          "metadata": {},
          "output_type": "execute_result"
        }
      ],
      "source": [
        "energy_filtered.pivot('category','postal_code')"
      ]
    },
    {
      "cell_type": "code",
      "execution_count": null,
      "id": "1dd1051e-5d97-45a6-829b-be8c9d52fab1",
      "metadata": {
        "id": "1dd1051e-5d97-45a6-829b-be8c9d52fab1",
        "outputId": "58243a3c-1675-47ad-f3dd-eebe29df63f6"
      },
      "outputs": [
        {
          "data": {
            "text/html": [
              "<table border=\"1\" class=\"dataframe\">\n",
              "    <thead>\n",
              "        <tr>\n",
              "            <th>postal_code</th> <th>Adult Education</th> <th>Arts & Culture</th> <th>Automobile Dealership</th> <th>Bank Branch</th> <th>Bar/Nightclub</th> <th>College/University</th> <th>Data Center</th> <th>Distribution Center</th> <th>Enclosed Mall</th> <th>Financial Office</th> <th>Fitness Center/Health Club/Gym</th> <th>Food Sales</th> <th>Food Service</th> <th>Hospital (General Medical & Surgical)</th> <th>Hotel</th> <th>Indoor Arena</th> <th>K-12 School</th> <th>Laboratory</th> <th>Manufacturing/Industrial Plant</th> <th>Medical Office</th> <th>Mixed Use Property</th> <th>Movie Theater</th> <th>Multifamily Housing</th> <th>Museum</th> <th>Non-Refrigerated Warehouse</th> <th>Office</th> <th>Other</th> <th>Other - Education</th> <th>Other - Entertainment/Public Assembly</th> <th>Other - Lodging/Residential</th> <th>Other - Mall</th> <th>Other - Recreation</th> <th>Other - Restaurant/Bar</th> <th>Other - Services</th> <th>Other - Technology/Science</th> <th>Parking</th> <th>Performing Arts</th> <th>Personal Services (Health/Beauty, Dry Cleaning, etc.)</th> <th>Pre-school/Daycare</th> <th>Preforming Arts</th> <th>Refrigerated Warehouse</th> <th>Repair Services (Vehicle, Shoe, Locksmith, etc.)</th> <th>Residence Hall/Dormitory</th> <th>Residential Care Facility</th> <th>Restaurant</th> <th>Retail Store</th> <th>Self-Storage Facility</th> <th>Senior Living Community</th> <th>Social/Meeting Hall</th> <th>Stadium (Open)</th> <th>Strip Mall</th> <th>Supermarket/Grocery Store</th> <th>Transportation Terminal/Station</th> <th>Urgent Care/Clinic/Other Outpatient</th> <th>Veterinary Office</th> <th>Vocational School</th> <th>Wholesale Club/Supercenter</th> <th>Worship Facility</th>\n",
              "        </tr>\n",
              "    </thead>\n",
              "    <tbody>\n",
              "        <tr>\n",
              "            <td>94102      </td> <td>0              </td> <td>0             </td> <td>0                    </td> <td>15.0667    </td> <td>0            </td> <td>52.7467           </td> <td>0          </td> <td>0                  </td> <td>0            </td> <td>0               </td> <td>0                             </td> <td>0         </td> <td>0           </td> <td>0                                    </td> <td>71.9797</td> <td>0           </td> <td>35.145     </td> <td>0         </td> <td>34.06                         </td> <td>35.7125       </td> <td>56.1289           </td> <td>0            </td> <td>48.6586            </td> <td>0      </td> <td>0                         </td> <td>46.2991</td> <td>107.314</td> <td>0                </td> <td>0                                    </td> <td>50.6                       </td> <td>0           </td> <td>0                 </td> <td>75.45                 </td> <td>0               </td> <td>0                         </td> <td>266.573</td> <td>84.2341        </td> <td>0                                                    </td> <td>25.825            </td> <td>93.35          </td> <td>0                     </td> <td>0                                               </td> <td>0                       </td> <td>0                        </td> <td>80.6571   </td> <td>72.1576     </td> <td>1.55                 </td> <td>0                      </td> <td>65.1               </td> <td>0             </td> <td>117.367   </td> <td>0                        </td> <td>0                              </td> <td>0                                  </td> <td>0                </td> <td>0                </td> <td>0                         </td> <td>15.9867         </td>\n",
              "        </tr>\n",
              "        <tr>\n",
              "            <td>94103      </td> <td>21.8143        </td> <td>26.3          </td> <td>39.8571              </td> <td>40.5571    </td> <td>25.71        </td> <td>0                 </td> <td>0          </td> <td>22.4385            </td> <td>24.75        </td> <td>0               </td> <td>72.1353                       </td> <td>0         </td> <td>0           </td> <td>146.556                              </td> <td>64.5287</td> <td>0           </td> <td>21.0909    </td> <td>130.183   </td> <td>25.37                         </td> <td>40.22         </td> <td>44.4983           </td> <td>91.5         </td> <td>36.9781            </td> <td>13.9692</td> <td>21.1482                   </td> <td>51.3198</td> <td>52.883 </td> <td>0                </td> <td>18.7361                              </td> <td>149.588                    </td> <td>30.7667     </td> <td>0                 </td> <td>151.66                </td> <td>0               </td> <td>0                         </td> <td>0      </td> <td>0              </td> <td>0                                                    </td> <td>0                 </td> <td>0              </td> <td>0                     </td> <td>16.8857                                         </td> <td>63.3333                 </td> <td>0                        </td> <td>0         </td> <td>48.7638     </td> <td>6.14483              </td> <td>0                      </td> <td>21.325             </td> <td>0             </td> <td>56.4667   </td> <td>134.76                   </td> <td>0                              </td> <td>33.33                              </td> <td>0                </td> <td>29.44            </td> <td>102.25                    </td> <td>47.87           </td>\n",
              "        </tr>\n",
              "        <tr>\n",
              "            <td>94104      </td> <td>0              </td> <td>0             </td> <td>0                    </td> <td>49.8579    </td> <td>0            </td> <td>0                 </td> <td>0          </td> <td>0                  </td> <td>0            </td> <td>52.7            </td> <td>0                             </td> <td>0         </td> <td>0           </td> <td>0                                    </td> <td>80.1452</td> <td>0           </td> <td>0          </td> <td>0         </td> <td>0                             </td> <td>0             </td> <td>46.4222           </td> <td>0            </td> <td>0                  </td> <td>0      </td> <td>0                         </td> <td>51.2364</td> <td>233.68 </td> <td>0                </td> <td>0                                    </td> <td>0                          </td> <td>0           </td> <td>0                 </td> <td>0                     </td> <td>0               </td> <td>0                         </td> <td>0      </td> <td>0              </td> <td>0                                                    </td> <td>0                 </td> <td>0              </td> <td>0                     </td> <td>0                                               </td> <td>0                       </td> <td>0                        </td> <td>0         </td> <td>32.5        </td> <td>0                    </td> <td>0                      </td> <td>0                  </td> <td>0             </td> <td>0         </td> <td>0                        </td> <td>0                              </td> <td>0                                  </td> <td>0                </td> <td>0                </td> <td>0                         </td> <td>0               </td>\n",
              "        </tr>\n",
              "        <tr>\n",
              "            <td>94105      </td> <td>0              </td> <td>0             </td> <td>0                    </td> <td>0          </td> <td>16.7333      </td> <td>69.0478           </td> <td>792.514    </td> <td>0                  </td> <td>0            </td> <td>50.5667         </td> <td>0                             </td> <td>0         </td> <td>0           </td> <td>0                                    </td> <td>80.0735</td> <td>0           </td> <td>0          </td> <td>0         </td> <td>0                             </td> <td>0             </td> <td>46.7677           </td> <td>0            </td> <td>36.0651            </td> <td>25.82  </td> <td>4.1125                    </td> <td>50.2409</td> <td>110.337</td> <td>0                </td> <td>0                                    </td> <td>0                          </td> <td>17.0111     </td> <td>0                 </td> <td>0                     </td> <td>0               </td> <td>0                         </td> <td>101.722</td> <td>0              </td> <td>0                                                    </td> <td>0                 </td> <td>0              </td> <td>0                     </td> <td>0                                               </td> <td>0                       </td> <td>0                        </td> <td>242.95    </td> <td>33.1474     </td> <td>8.05                 </td> <td>0                      </td> <td>0                  </td> <td>0             </td> <td>0         </td> <td>0                        </td> <td>0                              </td> <td>0                                  </td> <td>0                </td> <td>0                </td> <td>0                         </td> <td>0               </td>\n",
              "        </tr>\n",
              "        <tr>\n",
              "            <td>94107      </td> <td>0              </td> <td>0             </td> <td>0                    </td> <td>0          </td> <td>0            </td> <td>38.8508           </td> <td>1545.05    </td> <td>36.3929            </td> <td>0            </td> <td>0               </td> <td>35.4926                       </td> <td>0         </td> <td>0           </td> <td>0                                    </td> <td>49.325 </td> <td>0           </td> <td>29.8636    </td> <td>204.211   </td> <td>102.005                       </td> <td>0             </td> <td>63.6326           </td> <td>0            </td> <td>32.7375            </td> <td>0      </td> <td>10.0412                   </td> <td>49.6016</td> <td>55.89  </td> <td>0                </td> <td>0                                    </td> <td>0                          </td> <td>0           </td> <td>0                 </td> <td>42.2625               </td> <td>22.44           </td> <td>0                         </td> <td>0      </td> <td>0              </td> <td>0                                                    </td> <td>0                 </td> <td>0              </td> <td>0                     </td> <td>15.0667                                         </td> <td>0                       </td> <td>0                        </td> <td>199.3     </td> <td>45.0217     </td> <td>4.7875               </td> <td>0                      </td> <td>0                  </td> <td>42.4333       </td> <td>0         </td> <td>0                        </td> <td>82.9                           </td> <td>0                                  </td> <td>0                </td> <td>0                </td> <td>0                         </td> <td>0               </td>\n",
              "        </tr>\n",
              "        <tr>\n",
              "            <td>94108      </td> <td>0              </td> <td>0             </td> <td>0                    </td> <td>46.1167    </td> <td>0            </td> <td>61.35             </td> <td>0          </td> <td>0                  </td> <td>0            </td> <td>100.112         </td> <td>0                             </td> <td>0         </td> <td>0           </td> <td>337.75                               </td> <td>74.1506</td> <td>0           </td> <td>3.75625    </td> <td>0         </td> <td>0                             </td> <td>44.0731       </td> <td>39.8161           </td> <td>0            </td> <td>42.4               </td> <td>0      </td> <td>0                         </td> <td>46.879 </td> <td>60.929 </td> <td>0                </td> <td>0                                    </td> <td>0                          </td> <td>6.31667     </td> <td>0                 </td> <td>118.1                 </td> <td>0               </td> <td>0                         </td> <td>0      </td> <td>0              </td> <td>38.3476                                              </td> <td>0                 </td> <td>0              </td> <td>0                     </td> <td>0                                               </td> <td>0                       </td> <td>0                        </td> <td>188.427   </td> <td>60.5344     </td> <td>0                    </td> <td>0                      </td> <td>0                  </td> <td>0             </td> <td>0         </td> <td>0                        </td> <td>0                              </td> <td>0                                  </td> <td>0                </td> <td>0                </td> <td>0                         </td> <td>11.7432         </td>\n",
              "        </tr>\n",
              "        <tr>\n",
              "            <td>94109      </td> <td>37.3286        </td> <td>0             </td> <td>18.5776              </td> <td>68.6842    </td> <td>0            </td> <td>22.0909           </td> <td>0          </td> <td>0                  </td> <td>59.14        </td> <td>0               </td> <td>77.9368                       </td> <td>0         </td> <td>0           </td> <td>178.314                              </td> <td>64.4593</td> <td>0           </td> <td>0          </td> <td>0         </td> <td>0                             </td> <td>57.5535       </td> <td>42.2966           </td> <td>88.9667      </td> <td>49.5917            </td> <td>26.2091</td> <td>0                         </td> <td>67.1296</td> <td>47.5143</td> <td>0                </td> <td>62.37                                </td> <td>0                          </td> <td>83.6        </td> <td>0                 </td> <td>0                     </td> <td>12.1            </td> <td>0                         </td> <td>174.667</td> <td>0              </td> <td>0                                                    </td> <td>0                 </td> <td>0              </td> <td>0                     </td> <td>59                                              </td> <td>0                       </td> <td>0                        </td> <td>155.15    </td> <td>48.49       </td> <td>0                    </td> <td>76.8087                </td> <td>25.18              </td> <td>0             </td> <td>46.6571   </td> <td>281.511                  </td> <td>0                              </td> <td>0                                  </td> <td>0                </td> <td>0                </td> <td>0                         </td> <td>19.6714         </td>\n",
              "        </tr>\n",
              "        <tr>\n",
              "            <td>94110      </td> <td>0              </td> <td>0             </td> <td>0                    </td> <td>67.5       </td> <td>31           </td> <td>0                 </td> <td>0          </td> <td>0                  </td> <td>0            </td> <td>0               </td> <td>7.125                         </td> <td>0         </td> <td>0           </td> <td>0                                    </td> <td>0      </td> <td>0           </td> <td>0          </td> <td>0         </td> <td>24.4923                       </td> <td>59.3944       </td> <td>43.7788           </td> <td>156.08       </td> <td>33.222             </td> <td>0      </td> <td>10.6111                   </td> <td>34.3518</td> <td>27.7783</td> <td>12.92            </td> <td>0                                    </td> <td>18.5                       </td> <td>0           </td> <td>0                 </td> <td>158.356               </td> <td>0               </td> <td>50.18                     </td> <td>0      </td> <td>0              </td> <td>0                                                    </td> <td>0                 </td> <td>0              </td> <td>0                     </td> <td>0                                               </td> <td>0                       </td> <td>0                        </td> <td>214.413   </td> <td>64.8377     </td> <td>9.5                  </td> <td>0                      </td> <td>0                  </td> <td>0             </td> <td>59.6      </td> <td>229.088                  </td> <td>0                              </td> <td>56.3111                            </td> <td>67.89            </td> <td>30.24            </td> <td>0                         </td> <td>17.83           </td>\n",
              "        </tr>\n",
              "        <tr>\n",
              "            <td>94111      </td> <td>0              </td> <td>0             </td> <td>0                    </td> <td>0          </td> <td>0            </td> <td>0                 </td> <td>0          </td> <td>0                  </td> <td>0            </td> <td>0               </td> <td>0                             </td> <td>0         </td> <td>0           </td> <td>0                                    </td> <td>77.451 </td> <td>0           </td> <td>0          </td> <td>0         </td> <td>0                             </td> <td>0             </td> <td>69.9086           </td> <td>0            </td> <td>53.868             </td> <td>0      </td> <td>4.70909                   </td> <td>55.673 </td> <td>27.4294</td> <td>0                </td> <td>0                                    </td> <td>0                          </td> <td>0           </td> <td>0                 </td> <td>0                     </td> <td>0               </td> <td>0                         </td> <td>0      </td> <td>0              </td> <td>0                                                    </td> <td>0                 </td> <td>0              </td> <td>0                     </td> <td>0                                               </td> <td>0                       </td> <td>0                        </td> <td>234.131   </td> <td>0           </td> <td>0                    </td> <td>0                      </td> <td>0                  </td> <td>0             </td> <td>0         </td> <td>0                        </td> <td>0                              </td> <td>0                                  </td> <td>0                </td> <td>0                </td> <td>0                         </td> <td>42.5273         </td>\n",
              "        </tr>\n",
              "        <tr>\n",
              "            <td>94112      </td> <td>0              </td> <td>0             </td> <td>0                    </td> <td>0          </td> <td>0            </td> <td>0                 </td> <td>0          </td> <td>0                  </td> <td>0            </td> <td>0               </td> <td>0                             </td> <td>0         </td> <td>0           </td> <td>0                                    </td> <td>0      </td> <td>0           </td> <td>53.6167    </td> <td>0         </td> <td>0                             </td> <td>0             </td> <td>171.631           </td> <td>0            </td> <td>21.6259            </td> <td>0      </td> <td>0                         </td> <td>93.6333</td> <td>33.9667</td> <td>0                </td> <td>52.7143                              </td> <td>0                          </td> <td>0           </td> <td>0                 </td> <td>0                     </td> <td>0               </td> <td>0                         </td> <td>0      </td> <td>0              </td> <td>0                                                    </td> <td>0                 </td> <td>0              </td> <td>0                     </td> <td>0                                               </td> <td>0                       </td> <td>0                        </td> <td>0         </td> <td>56.82       </td> <td>0                    </td> <td>0                      </td> <td>27.73              </td> <td>0             </td> <td>0         </td> <td>223.264                  </td> <td>0                              </td> <td>0                                  </td> <td>0                </td> <td>0                </td> <td>0                         </td> <td>20.2895         </td>\n",
              "        </tr>\n",
              "    </tbody>\n",
              "</table>\n",
              "<p>... (17 rows omitted)</p>"
            ],
            "text/plain": [
              "postal_code | Adult Education | Arts & Culture | Automobile Dealership | Bank Branch | Bar/Nightclub | College/University | Data Center | Distribution Center | Enclosed Mall | Financial Office | Fitness Center/Health Club/Gym | Food Sales | Food Service | Hospital (General Medical & Surgical) | Hotel   | Indoor Arena | K-12 School | Laboratory | Manufacturing/Industrial Plant | Medical Office | Mixed Use Property | Movie Theater | Multifamily Housing | Museum  | Non-Refrigerated Warehouse | Office  | Other   | Other - Education | Other - Entertainment/Public Assembly | Other - Lodging/Residential | Other - Mall | Other - Recreation | Other - Restaurant/Bar | Other - Services | Other - Technology/Science | Parking | Performing Arts | Personal Services (Health/Beauty, Dry Cleaning, etc.) | Pre-school/Daycare | Preforming Arts | Refrigerated Warehouse | Repair Services (Vehicle, Shoe, Locksmith, etc.) | Residence Hall/Dormitory | Residential Care Facility | Restaurant | Retail Store | Self-Storage Facility | Senior Living Community | Social/Meeting Hall | Stadium (Open) | Strip Mall | Supermarket/Grocery Store | Transportation Terminal/Station | Urgent Care/Clinic/Other Outpatient | Veterinary Office | Vocational School | Wholesale Club/Supercenter | Worship Facility\n",
              "94102       | 0               | 0              | 0                     | 15.0667     | 0             | 52.7467            | 0           | 0                   | 0             | 0                | 0                              | 0          | 0            | 0                                     | 71.9797 | 0            | 35.145      | 0          | 34.06                          | 35.7125        | 56.1289            | 0             | 48.6586             | 0       | 0                          | 46.2991 | 107.314 | 0                 | 0                                     | 50.6                        | 0            | 0                  | 75.45                  | 0                | 0                          | 266.573 | 84.2341         | 0                                                     | 25.825             | 93.35           | 0                      | 0                                                | 0                        | 0                         | 80.6571    | 72.1576      | 1.55                  | 0                       | 65.1                | 0              | 117.367    | 0                         | 0                               | 0                                   | 0                 | 0                 | 0                          | 15.9867\n",
              "94103       | 21.8143         | 26.3           | 39.8571               | 40.5571     | 25.71         | 0                  | 0           | 22.4385             | 24.75         | 0                | 72.1353                        | 0          | 0            | 146.556                               | 64.5287 | 0            | 21.0909     | 130.183    | 25.37                          | 40.22          | 44.4983            | 91.5          | 36.9781             | 13.9692 | 21.1482                    | 51.3198 | 52.883  | 0                 | 18.7361                               | 149.588                     | 30.7667      | 0                  | 151.66                 | 0                | 0                          | 0       | 0               | 0                                                     | 0                  | 0               | 0                      | 16.8857                                          | 63.3333                  | 0                         | 0          | 48.7638      | 6.14483               | 0                       | 21.325              | 0              | 56.4667    | 134.76                    | 0                               | 33.33                               | 0                 | 29.44             | 102.25                     | 47.87\n",
              "94104       | 0               | 0              | 0                     | 49.8579     | 0             | 0                  | 0           | 0                   | 0             | 52.7             | 0                              | 0          | 0            | 0                                     | 80.1452 | 0            | 0           | 0          | 0                              | 0              | 46.4222            | 0             | 0                   | 0       | 0                          | 51.2364 | 233.68  | 0                 | 0                                     | 0                           | 0            | 0                  | 0                      | 0                | 0                          | 0       | 0               | 0                                                     | 0                  | 0               | 0                      | 0                                                | 0                        | 0                         | 0          | 32.5         | 0                     | 0                       | 0                   | 0              | 0          | 0                         | 0                               | 0                                   | 0                 | 0                 | 0                          | 0\n",
              "94105       | 0               | 0              | 0                     | 0           | 16.7333       | 69.0478            | 792.514     | 0                   | 0             | 50.5667          | 0                              | 0          | 0            | 0                                     | 80.0735 | 0            | 0           | 0          | 0                              | 0              | 46.7677            | 0             | 36.0651             | 25.82   | 4.1125                     | 50.2409 | 110.337 | 0                 | 0                                     | 0                           | 17.0111      | 0                  | 0                      | 0                | 0                          | 101.722 | 0               | 0                                                     | 0                  | 0               | 0                      | 0                                                | 0                        | 0                         | 242.95     | 33.1474      | 8.05                  | 0                       | 0                   | 0              | 0          | 0                         | 0                               | 0                                   | 0                 | 0                 | 0                          | 0\n",
              "94107       | 0               | 0              | 0                     | 0           | 0             | 38.8508            | 1545.05     | 36.3929             | 0             | 0                | 35.4926                        | 0          | 0            | 0                                     | 49.325  | 0            | 29.8636     | 204.211    | 102.005                        | 0              | 63.6326            | 0             | 32.7375             | 0       | 10.0412                    | 49.6016 | 55.89   | 0                 | 0                                     | 0                           | 0            | 0                  | 42.2625                | 22.44            | 0                          | 0       | 0               | 0                                                     | 0                  | 0               | 0                      | 15.0667                                          | 0                        | 0                         | 199.3      | 45.0217      | 4.7875                | 0                       | 0                   | 42.4333        | 0          | 0                         | 82.9                            | 0                                   | 0                 | 0                 | 0                          | 0\n",
              "94108       | 0               | 0              | 0                     | 46.1167     | 0             | 61.35              | 0           | 0                   | 0             | 100.112          | 0                              | 0          | 0            | 337.75                                | 74.1506 | 0            | 3.75625     | 0          | 0                              | 44.0731        | 39.8161            | 0             | 42.4                | 0       | 0                          | 46.879  | 60.929  | 0                 | 0                                     | 0                           | 6.31667      | 0                  | 118.1                  | 0                | 0                          | 0       | 0               | 38.3476                                               | 0                  | 0               | 0                      | 0                                                | 0                        | 0                         | 188.427    | 60.5344      | 0                     | 0                       | 0                   | 0              | 0          | 0                         | 0                               | 0                                   | 0                 | 0                 | 0                          | 11.7432\n",
              "94109       | 37.3286         | 0              | 18.5776               | 68.6842     | 0             | 22.0909            | 0           | 0                   | 59.14         | 0                | 77.9368                        | 0          | 0            | 178.314                               | 64.4593 | 0            | 0           | 0          | 0                              | 57.5535        | 42.2966            | 88.9667       | 49.5917             | 26.2091 | 0                          | 67.1296 | 47.5143 | 0                 | 62.37                                 | 0                           | 83.6         | 0                  | 0                      | 12.1             | 0                          | 174.667 | 0               | 0                                                     | 0                  | 0               | 0                      | 59                                               | 0                        | 0                         | 155.15     | 48.49        | 0                     | 76.8087                 | 25.18               | 0              | 46.6571    | 281.511                   | 0                               | 0                                   | 0                 | 0                 | 0                          | 19.6714\n",
              "94110       | 0               | 0              | 0                     | 67.5        | 31            | 0                  | 0           | 0                   | 0             | 0                | 7.125                          | 0          | 0            | 0                                     | 0       | 0            | 0           | 0          | 24.4923                        | 59.3944        | 43.7788            | 156.08        | 33.222              | 0       | 10.6111                    | 34.3518 | 27.7783 | 12.92             | 0                                     | 18.5                        | 0            | 0                  | 158.356                | 0                | 50.18                      | 0       | 0               | 0                                                     | 0                  | 0               | 0                      | 0                                                | 0                        | 0                         | 214.413    | 64.8377      | 9.5                   | 0                       | 0                   | 0              | 59.6       | 229.088                   | 0                               | 56.3111                             | 67.89             | 30.24             | 0                          | 17.83\n",
              "94111       | 0               | 0              | 0                     | 0           | 0             | 0                  | 0           | 0                   | 0             | 0                | 0                              | 0          | 0            | 0                                     | 77.451  | 0            | 0           | 0          | 0                              | 0              | 69.9086            | 0             | 53.868              | 0       | 4.70909                    | 55.673  | 27.4294 | 0                 | 0                                     | 0                           | 0            | 0                  | 0                      | 0                | 0                          | 0       | 0               | 0                                                     | 0                  | 0               | 0                      | 0                                                | 0                        | 0                         | 234.131    | 0            | 0                     | 0                       | 0                   | 0              | 0          | 0                         | 0                               | 0                                   | 0                 | 0                 | 0                          | 42.5273\n",
              "94112       | 0               | 0              | 0                     | 0           | 0             | 0                  | 0           | 0                   | 0             | 0                | 0                              | 0          | 0            | 0                                     | 0       | 0            | 53.6167     | 0          | 0                              | 0              | 171.631            | 0             | 21.6259             | 0       | 0                          | 93.6333 | 33.9667 | 0                 | 52.7143                               | 0                           | 0            | 0                  | 0                      | 0                | 0                          | 0       | 0               | 0                                                     | 0                  | 0               | 0                      | 0                                                | 0                        | 0                         | 0          | 56.82        | 0                     | 0                       | 27.73               | 0              | 0          | 223.264                   | 0                               | 0                                   | 0                 | 0                 | 0                          | 20.2895\n",
              "... (17 rows omitted)"
            ]
          },
          "execution_count": 34,
          "metadata": {},
          "output_type": "execute_result"
        }
      ],
      "source": [
        "energy_filtered.pivot('category', 'postal_code',\n",
        "                      values='weather_normalized_site_eui',\n",
        "                      collect=np.average)"
      ]
    },
    {
      "cell_type": "code",
      "execution_count": null,
      "id": "e9b68ee7-a59c-4ff2-977a-2a3321df0dc2",
      "metadata": {
        "editable": true,
        "tags": [],
        "id": "e9b68ee7-a59c-4ff2-977a-2a3321df0dc2",
        "outputId": "f23a4c89-cd99-4ff3-f522-ab2d066ee33a"
      },
      "outputs": [
        {
          "name": "stdout",
          "output_type": "stream",
          "text": [
            "<class 'datascience.tables.Table'>\n"
          ]
        },
        {
          "data": {
            "text/html": [
              "<table border=\"1\" class=\"dataframe\">\n",
              "    <thead>\n",
              "        <tr>\n",
              "            <th>postal_code</th> <th>Adult Education</th> <th>Arts & Culture</th> <th>Automobile Dealership</th> <th>Bank Branch</th> <th>Bar/Nightclub</th> <th>College/University</th> <th>Data Center</th> <th>Distribution Center</th> <th>Enclosed Mall</th> <th>Financial Office</th> <th>Fitness Center/Health Club/Gym</th> <th>Food Sales</th> <th>Food Service</th> <th>Hospital (General Medical & Surgical)</th> <th>Hotel</th> <th>Indoor Arena</th> <th>K-12 School</th> <th>Laboratory</th> <th>Manufacturing/Industrial Plant</th> <th>Medical Office</th> <th>Mixed Use Property</th> <th>Movie Theater</th> <th>Multifamily Housing</th> <th>Museum</th> <th>Non-Refrigerated Warehouse</th> <th>Office</th> <th>Other</th> <th>Other - Education</th> <th>Other - Entertainment/Public Assembly</th> <th>Other - Lodging/Residential</th> <th>Other - Mall</th> <th>Other - Recreation</th> <th>Other - Restaurant/Bar</th> <th>Other - Services</th> <th>Other - Technology/Science</th> <th>Parking</th> <th>Performing Arts</th> <th>Personal Services (Health/Beauty, Dry Cleaning, etc.)</th> <th>Pre-school/Daycare</th> <th>Preforming Arts</th> <th>Refrigerated Warehouse</th> <th>Repair Services (Vehicle, Shoe, Locksmith, etc.)</th> <th>Residence Hall/Dormitory</th> <th>Residential Care Facility</th> <th>Restaurant</th> <th>Retail Store</th> <th>Self-Storage Facility</th> <th>Senior Living Community</th> <th>Social/Meeting Hall</th> <th>Stadium (Open)</th> <th>Strip Mall</th> <th>Supermarket/Grocery Store</th> <th>Transportation Terminal/Station</th> <th>Urgent Care/Clinic/Other Outpatient</th> <th>Veterinary Office</th> <th>Vocational School</th> <th>Wholesale Club/Supercenter</th> <th>Worship Facility</th>\n",
              "        </tr>\n",
              "    </thead>\n",
              "    <tbody>\n",
              "        <tr>\n",
              "            <td>94102      </td> <td>0              </td> <td>0             </td> <td>0                    </td> <td>15.0667    </td> <td>0            </td> <td>52.7467           </td> <td>0          </td> <td>0                  </td> <td>0            </td> <td>0               </td> <td>0                             </td> <td>0         </td> <td>0           </td> <td>0                                    </td> <td>71.9797</td> <td>0           </td> <td>35.145     </td> <td>0         </td> <td>34.06                         </td> <td>35.7125       </td> <td>56.1289           </td> <td>0            </td> <td>48.6586            </td> <td>0      </td> <td>0                         </td> <td>46.2991</td> <td>107.314</td> <td>0                </td> <td>0                                    </td> <td>50.6                       </td> <td>0           </td> <td>0                 </td> <td>75.45                 </td> <td>0               </td> <td>0                         </td> <td>266.573</td> <td>84.2341        </td> <td>0                                                    </td> <td>25.825            </td> <td>93.35          </td> <td>0                     </td> <td>0                                               </td> <td>0                       </td> <td>0                        </td> <td>80.6571   </td> <td>72.1576     </td> <td>1.55                 </td> <td>0                      </td> <td>65.1               </td> <td>0             </td> <td>117.367   </td> <td>0                        </td> <td>0                              </td> <td>0                                  </td> <td>0                </td> <td>0                </td> <td>0                         </td> <td>15.9867         </td>\n",
              "        </tr>\n",
              "        <tr>\n",
              "            <td>94103      </td> <td>21.8143        </td> <td>26.3          </td> <td>39.8571              </td> <td>40.5571    </td> <td>25.71        </td> <td>0                 </td> <td>0          </td> <td>22.4385            </td> <td>24.75        </td> <td>0               </td> <td>72.1353                       </td> <td>0         </td> <td>0           </td> <td>146.556                              </td> <td>64.5287</td> <td>0           </td> <td>21.0909    </td> <td>130.183   </td> <td>25.37                         </td> <td>40.22         </td> <td>44.4983           </td> <td>91.5         </td> <td>36.9781            </td> <td>13.9692</td> <td>21.1482                   </td> <td>51.3198</td> <td>52.883 </td> <td>0                </td> <td>18.7361                              </td> <td>149.588                    </td> <td>30.7667     </td> <td>0                 </td> <td>151.66                </td> <td>0               </td> <td>0                         </td> <td>0      </td> <td>0              </td> <td>0                                                    </td> <td>0                 </td> <td>0              </td> <td>0                     </td> <td>16.8857                                         </td> <td>63.3333                 </td> <td>0                        </td> <td>0         </td> <td>48.7638     </td> <td>6.14483              </td> <td>0                      </td> <td>21.325             </td> <td>0             </td> <td>56.4667   </td> <td>134.76                   </td> <td>0                              </td> <td>33.33                              </td> <td>0                </td> <td>29.44            </td> <td>102.25                    </td> <td>47.87           </td>\n",
              "        </tr>\n",
              "        <tr>\n",
              "            <td>94104      </td> <td>0              </td> <td>0             </td> <td>0                    </td> <td>49.8579    </td> <td>0            </td> <td>0                 </td> <td>0          </td> <td>0                  </td> <td>0            </td> <td>52.7            </td> <td>0                             </td> <td>0         </td> <td>0           </td> <td>0                                    </td> <td>80.1452</td> <td>0           </td> <td>0          </td> <td>0         </td> <td>0                             </td> <td>0             </td> <td>46.4222           </td> <td>0            </td> <td>0                  </td> <td>0      </td> <td>0                         </td> <td>51.2364</td> <td>233.68 </td> <td>0                </td> <td>0                                    </td> <td>0                          </td> <td>0           </td> <td>0                 </td> <td>0                     </td> <td>0               </td> <td>0                         </td> <td>0      </td> <td>0              </td> <td>0                                                    </td> <td>0                 </td> <td>0              </td> <td>0                     </td> <td>0                                               </td> <td>0                       </td> <td>0                        </td> <td>0         </td> <td>32.5        </td> <td>0                    </td> <td>0                      </td> <td>0                  </td> <td>0             </td> <td>0         </td> <td>0                        </td> <td>0                              </td> <td>0                                  </td> <td>0                </td> <td>0                </td> <td>0                         </td> <td>0               </td>\n",
              "        </tr>\n",
              "        <tr>\n",
              "            <td>94105      </td> <td>0              </td> <td>0             </td> <td>0                    </td> <td>0          </td> <td>16.7333      </td> <td>69.0478           </td> <td>792.514    </td> <td>0                  </td> <td>0            </td> <td>50.5667         </td> <td>0                             </td> <td>0         </td> <td>0           </td> <td>0                                    </td> <td>80.0735</td> <td>0           </td> <td>0          </td> <td>0         </td> <td>0                             </td> <td>0             </td> <td>46.7677           </td> <td>0            </td> <td>36.0651            </td> <td>25.82  </td> <td>4.1125                    </td> <td>50.2409</td> <td>110.337</td> <td>0                </td> <td>0                                    </td> <td>0                          </td> <td>17.0111     </td> <td>0                 </td> <td>0                     </td> <td>0               </td> <td>0                         </td> <td>101.722</td> <td>0              </td> <td>0                                                    </td> <td>0                 </td> <td>0              </td> <td>0                     </td> <td>0                                               </td> <td>0                       </td> <td>0                        </td> <td>242.95    </td> <td>33.1474     </td> <td>8.05                 </td> <td>0                      </td> <td>0                  </td> <td>0             </td> <td>0         </td> <td>0                        </td> <td>0                              </td> <td>0                                  </td> <td>0                </td> <td>0                </td> <td>0                         </td> <td>0               </td>\n",
              "        </tr>\n",
              "        <tr>\n",
              "            <td>94107      </td> <td>0              </td> <td>0             </td> <td>0                    </td> <td>0          </td> <td>0            </td> <td>38.8508           </td> <td>1545.05    </td> <td>36.3929            </td> <td>0            </td> <td>0               </td> <td>35.4926                       </td> <td>0         </td> <td>0           </td> <td>0                                    </td> <td>49.325 </td> <td>0           </td> <td>29.8636    </td> <td>204.211   </td> <td>102.005                       </td> <td>0             </td> <td>63.6326           </td> <td>0            </td> <td>32.7375            </td> <td>0      </td> <td>10.0412                   </td> <td>49.6016</td> <td>55.89  </td> <td>0                </td> <td>0                                    </td> <td>0                          </td> <td>0           </td> <td>0                 </td> <td>42.2625               </td> <td>22.44           </td> <td>0                         </td> <td>0      </td> <td>0              </td> <td>0                                                    </td> <td>0                 </td> <td>0              </td> <td>0                     </td> <td>15.0667                                         </td> <td>0                       </td> <td>0                        </td> <td>199.3     </td> <td>45.0217     </td> <td>4.7875               </td> <td>0                      </td> <td>0                  </td> <td>42.4333       </td> <td>0         </td> <td>0                        </td> <td>82.9                           </td> <td>0                                  </td> <td>0                </td> <td>0                </td> <td>0                         </td> <td>0               </td>\n",
              "        </tr>\n",
              "        <tr>\n",
              "            <td>94108      </td> <td>0              </td> <td>0             </td> <td>0                    </td> <td>46.1167    </td> <td>0            </td> <td>61.35             </td> <td>0          </td> <td>0                  </td> <td>0            </td> <td>100.112         </td> <td>0                             </td> <td>0         </td> <td>0           </td> <td>337.75                               </td> <td>74.1506</td> <td>0           </td> <td>3.75625    </td> <td>0         </td> <td>0                             </td> <td>44.0731       </td> <td>39.8161           </td> <td>0            </td> <td>42.4               </td> <td>0      </td> <td>0                         </td> <td>46.879 </td> <td>60.929 </td> <td>0                </td> <td>0                                    </td> <td>0                          </td> <td>6.31667     </td> <td>0                 </td> <td>118.1                 </td> <td>0               </td> <td>0                         </td> <td>0      </td> <td>0              </td> <td>38.3476                                              </td> <td>0                 </td> <td>0              </td> <td>0                     </td> <td>0                                               </td> <td>0                       </td> <td>0                        </td> <td>188.427   </td> <td>60.5344     </td> <td>0                    </td> <td>0                      </td> <td>0                  </td> <td>0             </td> <td>0         </td> <td>0                        </td> <td>0                              </td> <td>0                                  </td> <td>0                </td> <td>0                </td> <td>0                         </td> <td>11.7432         </td>\n",
              "        </tr>\n",
              "        <tr>\n",
              "            <td>94109      </td> <td>37.3286        </td> <td>0             </td> <td>18.5776              </td> <td>68.6842    </td> <td>0            </td> <td>22.0909           </td> <td>0          </td> <td>0                  </td> <td>59.14        </td> <td>0               </td> <td>77.9368                       </td> <td>0         </td> <td>0           </td> <td>178.314                              </td> <td>64.4593</td> <td>0           </td> <td>0          </td> <td>0         </td> <td>0                             </td> <td>57.5535       </td> <td>42.2966           </td> <td>88.9667      </td> <td>49.5917            </td> <td>26.2091</td> <td>0                         </td> <td>67.1296</td> <td>47.5143</td> <td>0                </td> <td>62.37                                </td> <td>0                          </td> <td>83.6        </td> <td>0                 </td> <td>0                     </td> <td>12.1            </td> <td>0                         </td> <td>174.667</td> <td>0              </td> <td>0                                                    </td> <td>0                 </td> <td>0              </td> <td>0                     </td> <td>59                                              </td> <td>0                       </td> <td>0                        </td> <td>155.15    </td> <td>48.49       </td> <td>0                    </td> <td>76.8087                </td> <td>25.18              </td> <td>0             </td> <td>46.6571   </td> <td>281.511                  </td> <td>0                              </td> <td>0                                  </td> <td>0                </td> <td>0                </td> <td>0                         </td> <td>19.6714         </td>\n",
              "        </tr>\n",
              "        <tr>\n",
              "            <td>94110      </td> <td>0              </td> <td>0             </td> <td>0                    </td> <td>67.5       </td> <td>31           </td> <td>0                 </td> <td>0          </td> <td>0                  </td> <td>0            </td> <td>0               </td> <td>7.125                         </td> <td>0         </td> <td>0           </td> <td>0                                    </td> <td>0      </td> <td>0           </td> <td>0          </td> <td>0         </td> <td>24.4923                       </td> <td>59.3944       </td> <td>43.7788           </td> <td>156.08       </td> <td>33.222             </td> <td>0      </td> <td>10.6111                   </td> <td>34.3518</td> <td>27.7783</td> <td>12.92            </td> <td>0                                    </td> <td>18.5                       </td> <td>0           </td> <td>0                 </td> <td>158.356               </td> <td>0               </td> <td>50.18                     </td> <td>0      </td> <td>0              </td> <td>0                                                    </td> <td>0                 </td> <td>0              </td> <td>0                     </td> <td>0                                               </td> <td>0                       </td> <td>0                        </td> <td>214.413   </td> <td>64.8377     </td> <td>9.5                  </td> <td>0                      </td> <td>0                  </td> <td>0             </td> <td>59.6      </td> <td>229.088                  </td> <td>0                              </td> <td>56.3111                            </td> <td>67.89            </td> <td>30.24            </td> <td>0                         </td> <td>17.83           </td>\n",
              "        </tr>\n",
              "        <tr>\n",
              "            <td>94111      </td> <td>0              </td> <td>0             </td> <td>0                    </td> <td>0          </td> <td>0            </td> <td>0                 </td> <td>0          </td> <td>0                  </td> <td>0            </td> <td>0               </td> <td>0                             </td> <td>0         </td> <td>0           </td> <td>0                                    </td> <td>77.451 </td> <td>0           </td> <td>0          </td> <td>0         </td> <td>0                             </td> <td>0             </td> <td>69.9086           </td> <td>0            </td> <td>53.868             </td> <td>0      </td> <td>4.70909                   </td> <td>55.673 </td> <td>27.4294</td> <td>0                </td> <td>0                                    </td> <td>0                          </td> <td>0           </td> <td>0                 </td> <td>0                     </td> <td>0               </td> <td>0                         </td> <td>0      </td> <td>0              </td> <td>0                                                    </td> <td>0                 </td> <td>0              </td> <td>0                     </td> <td>0                                               </td> <td>0                       </td> <td>0                        </td> <td>234.131   </td> <td>0           </td> <td>0                    </td> <td>0                      </td> <td>0                  </td> <td>0             </td> <td>0         </td> <td>0                        </td> <td>0                              </td> <td>0                                  </td> <td>0                </td> <td>0                </td> <td>0                         </td> <td>42.5273         </td>\n",
              "        </tr>\n",
              "        <tr>\n",
              "            <td>94112      </td> <td>0              </td> <td>0             </td> <td>0                    </td> <td>0          </td> <td>0            </td> <td>0                 </td> <td>0          </td> <td>0                  </td> <td>0            </td> <td>0               </td> <td>0                             </td> <td>0         </td> <td>0           </td> <td>0                                    </td> <td>0      </td> <td>0           </td> <td>53.6167    </td> <td>0         </td> <td>0                             </td> <td>0             </td> <td>171.631           </td> <td>0            </td> <td>21.6259            </td> <td>0      </td> <td>0                         </td> <td>93.6333</td> <td>33.9667</td> <td>0                </td> <td>52.7143                              </td> <td>0                          </td> <td>0           </td> <td>0                 </td> <td>0                     </td> <td>0               </td> <td>0                         </td> <td>0      </td> <td>0              </td> <td>0                                                    </td> <td>0                 </td> <td>0              </td> <td>0                     </td> <td>0                                               </td> <td>0                       </td> <td>0                        </td> <td>0         </td> <td>56.82       </td> <td>0                    </td> <td>0                      </td> <td>27.73              </td> <td>0             </td> <td>0         </td> <td>223.264                  </td> <td>0                              </td> <td>0                                  </td> <td>0                </td> <td>0                </td> <td>0                         </td> <td>20.2895         </td>\n",
              "        </tr>\n",
              "    </tbody>\n",
              "</table>\n",
              "<p>... (17 rows omitted)</p>"
            ],
            "text/plain": [
              "postal_code | Adult Education | Arts & Culture | Automobile Dealership | Bank Branch | Bar/Nightclub | College/University | Data Center | Distribution Center | Enclosed Mall | Financial Office | Fitness Center/Health Club/Gym | Food Sales | Food Service | Hospital (General Medical & Surgical) | Hotel   | Indoor Arena | K-12 School | Laboratory | Manufacturing/Industrial Plant | Medical Office | Mixed Use Property | Movie Theater | Multifamily Housing | Museum  | Non-Refrigerated Warehouse | Office  | Other   | Other - Education | Other - Entertainment/Public Assembly | Other - Lodging/Residential | Other - Mall | Other - Recreation | Other - Restaurant/Bar | Other - Services | Other - Technology/Science | Parking | Performing Arts | Personal Services (Health/Beauty, Dry Cleaning, etc.) | Pre-school/Daycare | Preforming Arts | Refrigerated Warehouse | Repair Services (Vehicle, Shoe, Locksmith, etc.) | Residence Hall/Dormitory | Residential Care Facility | Restaurant | Retail Store | Self-Storage Facility | Senior Living Community | Social/Meeting Hall | Stadium (Open) | Strip Mall | Supermarket/Grocery Store | Transportation Terminal/Station | Urgent Care/Clinic/Other Outpatient | Veterinary Office | Vocational School | Wholesale Club/Supercenter | Worship Facility\n",
              "94102       | 0               | 0              | 0                     | 15.0667     | 0             | 52.7467            | 0           | 0                   | 0             | 0                | 0                              | 0          | 0            | 0                                     | 71.9797 | 0            | 35.145      | 0          | 34.06                          | 35.7125        | 56.1289            | 0             | 48.6586             | 0       | 0                          | 46.2991 | 107.314 | 0                 | 0                                     | 50.6                        | 0            | 0                  | 75.45                  | 0                | 0                          | 266.573 | 84.2341         | 0                                                     | 25.825             | 93.35           | 0                      | 0                                                | 0                        | 0                         | 80.6571    | 72.1576      | 1.55                  | 0                       | 65.1                | 0              | 117.367    | 0                         | 0                               | 0                                   | 0                 | 0                 | 0                          | 15.9867\n",
              "94103       | 21.8143         | 26.3           | 39.8571               | 40.5571     | 25.71         | 0                  | 0           | 22.4385             | 24.75         | 0                | 72.1353                        | 0          | 0            | 146.556                               | 64.5287 | 0            | 21.0909     | 130.183    | 25.37                          | 40.22          | 44.4983            | 91.5          | 36.9781             | 13.9692 | 21.1482                    | 51.3198 | 52.883  | 0                 | 18.7361                               | 149.588                     | 30.7667      | 0                  | 151.66                 | 0                | 0                          | 0       | 0               | 0                                                     | 0                  | 0               | 0                      | 16.8857                                          | 63.3333                  | 0                         | 0          | 48.7638      | 6.14483               | 0                       | 21.325              | 0              | 56.4667    | 134.76                    | 0                               | 33.33                               | 0                 | 29.44             | 102.25                     | 47.87\n",
              "94104       | 0               | 0              | 0                     | 49.8579     | 0             | 0                  | 0           | 0                   | 0             | 52.7             | 0                              | 0          | 0            | 0                                     | 80.1452 | 0            | 0           | 0          | 0                              | 0              | 46.4222            | 0             | 0                   | 0       | 0                          | 51.2364 | 233.68  | 0                 | 0                                     | 0                           | 0            | 0                  | 0                      | 0                | 0                          | 0       | 0               | 0                                                     | 0                  | 0               | 0                      | 0                                                | 0                        | 0                         | 0          | 32.5         | 0                     | 0                       | 0                   | 0              | 0          | 0                         | 0                               | 0                                   | 0                 | 0                 | 0                          | 0\n",
              "94105       | 0               | 0              | 0                     | 0           | 16.7333       | 69.0478            | 792.514     | 0                   | 0             | 50.5667          | 0                              | 0          | 0            | 0                                     | 80.0735 | 0            | 0           | 0          | 0                              | 0              | 46.7677            | 0             | 36.0651             | 25.82   | 4.1125                     | 50.2409 | 110.337 | 0                 | 0                                     | 0                           | 17.0111      | 0                  | 0                      | 0                | 0                          | 101.722 | 0               | 0                                                     | 0                  | 0               | 0                      | 0                                                | 0                        | 0                         | 242.95     | 33.1474      | 8.05                  | 0                       | 0                   | 0              | 0          | 0                         | 0                               | 0                                   | 0                 | 0                 | 0                          | 0\n",
              "94107       | 0               | 0              | 0                     | 0           | 0             | 38.8508            | 1545.05     | 36.3929             | 0             | 0                | 35.4926                        | 0          | 0            | 0                                     | 49.325  | 0            | 29.8636     | 204.211    | 102.005                        | 0              | 63.6326            | 0             | 32.7375             | 0       | 10.0412                    | 49.6016 | 55.89   | 0                 | 0                                     | 0                           | 0            | 0                  | 42.2625                | 22.44            | 0                          | 0       | 0               | 0                                                     | 0                  | 0               | 0                      | 15.0667                                          | 0                        | 0                         | 199.3      | 45.0217      | 4.7875                | 0                       | 0                   | 42.4333        | 0          | 0                         | 82.9                            | 0                                   | 0                 | 0                 | 0                          | 0\n",
              "94108       | 0               | 0              | 0                     | 46.1167     | 0             | 61.35              | 0           | 0                   | 0             | 100.112          | 0                              | 0          | 0            | 337.75                                | 74.1506 | 0            | 3.75625     | 0          | 0                              | 44.0731        | 39.8161            | 0             | 42.4                | 0       | 0                          | 46.879  | 60.929  | 0                 | 0                                     | 0                           | 6.31667      | 0                  | 118.1                  | 0                | 0                          | 0       | 0               | 38.3476                                               | 0                  | 0               | 0                      | 0                                                | 0                        | 0                         | 188.427    | 60.5344      | 0                     | 0                       | 0                   | 0              | 0          | 0                         | 0                               | 0                                   | 0                 | 0                 | 0                          | 11.7432\n",
              "94109       | 37.3286         | 0              | 18.5776               | 68.6842     | 0             | 22.0909            | 0           | 0                   | 59.14         | 0                | 77.9368                        | 0          | 0            | 178.314                               | 64.4593 | 0            | 0           | 0          | 0                              | 57.5535        | 42.2966            | 88.9667       | 49.5917             | 26.2091 | 0                          | 67.1296 | 47.5143 | 0                 | 62.37                                 | 0                           | 83.6         | 0                  | 0                      | 12.1             | 0                          | 174.667 | 0               | 0                                                     | 0                  | 0               | 0                      | 59                                               | 0                        | 0                         | 155.15     | 48.49        | 0                     | 76.8087                 | 25.18               | 0              | 46.6571    | 281.511                   | 0                               | 0                                   | 0                 | 0                 | 0                          | 19.6714\n",
              "94110       | 0               | 0              | 0                     | 67.5        | 31            | 0                  | 0           | 0                   | 0             | 0                | 7.125                          | 0          | 0            | 0                                     | 0       | 0            | 0           | 0          | 24.4923                        | 59.3944        | 43.7788            | 156.08        | 33.222              | 0       | 10.6111                    | 34.3518 | 27.7783 | 12.92             | 0                                     | 18.5                        | 0            | 0                  | 158.356                | 0                | 50.18                      | 0       | 0               | 0                                                     | 0                  | 0               | 0                      | 0                                                | 0                        | 0                         | 214.413    | 64.8377      | 9.5                   | 0                       | 0                   | 0              | 59.6       | 229.088                   | 0                               | 56.3111                             | 67.89             | 30.24             | 0                          | 17.83\n",
              "94111       | 0               | 0              | 0                     | 0           | 0             | 0                  | 0           | 0                   | 0             | 0                | 0                              | 0          | 0            | 0                                     | 77.451  | 0            | 0           | 0          | 0                              | 0              | 69.9086            | 0             | 53.868              | 0       | 4.70909                    | 55.673  | 27.4294 | 0                 | 0                                     | 0                           | 0            | 0                  | 0                      | 0                | 0                          | 0       | 0               | 0                                                     | 0                  | 0               | 0                      | 0                                                | 0                        | 0                         | 234.131    | 0            | 0                     | 0                       | 0                   | 0              | 0          | 0                         | 0                               | 0                                   | 0                 | 0                 | 0                          | 42.5273\n",
              "94112       | 0               | 0              | 0                     | 0           | 0             | 0                  | 0           | 0                   | 0             | 0                | 0                              | 0          | 0            | 0                                     | 0       | 0            | 53.6167     | 0          | 0                              | 0              | 171.631            | 0             | 21.6259             | 0       | 0                          | 93.6333 | 33.9667 | 0                 | 52.7143                               | 0                           | 0            | 0                  | 0                      | 0                | 0                          | 0       | 0               | 0                                                     | 0                  | 0               | 0                      | 0                                                | 0                        | 0                         | 0          | 56.82        | 0                     | 0                       | 27.73               | 0              | 0          | 223.264                   | 0                               | 0                                   | 0                 | 0                 | 0                          | 20.2895\n",
              "... (17 rows omitted)"
            ]
          },
          "execution_count": 35,
          "metadata": {},
          "output_type": "execute_result"
        }
      ],
      "source": [
        "temp = energy_filtered.pivot('category', 'postal_code',\n",
        "                      values='weather_normalized_site_eui',\n",
        "                      collect=np.average)\n",
        "print(type(temp))\n",
        "temp"
      ]
    },
    {
      "cell_type": "code",
      "execution_count": null,
      "id": "c3ebfc96-4379-4ab8-9404-52e2e092dd67",
      "metadata": {
        "id": "c3ebfc96-4379-4ab8-9404-52e2e092dd67"
      },
      "outputs": [],
      "source": [
        "import pandas as pd\n",
        "temp1 = temp.to_df()"
      ]
    },
    {
      "cell_type": "code",
      "execution_count": null,
      "id": "62698d24-96e2-4c1d-a48a-40759dd2ccb8",
      "metadata": {
        "id": "62698d24-96e2-4c1d-a48a-40759dd2ccb8",
        "outputId": "8cc85c66-4822-488b-c557-a6487ff9ffbe"
      },
      "outputs": [
        {
          "data": {
            "text/html": [
              "<div>\n",
              "<style scoped>\n",
              "    .dataframe tbody tr th:only-of-type {\n",
              "        vertical-align: middle;\n",
              "    }\n",
              "\n",
              "    .dataframe tbody tr th {\n",
              "        vertical-align: top;\n",
              "    }\n",
              "\n",
              "    .dataframe thead th {\n",
              "        text-align: right;\n",
              "    }\n",
              "</style>\n",
              "<table border=\"1\" class=\"dataframe\">\n",
              "  <thead>\n",
              "    <tr style=\"text-align: right;\">\n",
              "      <th></th>\n",
              "      <th>postal_code</th>\n",
              "      <th>Adult Education</th>\n",
              "      <th>Arts &amp; Culture</th>\n",
              "      <th>Automobile Dealership</th>\n",
              "      <th>Bank Branch</th>\n",
              "      <th>Bar/Nightclub</th>\n",
              "      <th>College/University</th>\n",
              "      <th>Data Center</th>\n",
              "      <th>Distribution Center</th>\n",
              "      <th>Enclosed Mall</th>\n",
              "      <th>...</th>\n",
              "      <th>Social/Meeting Hall</th>\n",
              "      <th>Stadium (Open)</th>\n",
              "      <th>Strip Mall</th>\n",
              "      <th>Supermarket/Grocery Store</th>\n",
              "      <th>Transportation Terminal/Station</th>\n",
              "      <th>Urgent Care/Clinic/Other Outpatient</th>\n",
              "      <th>Veterinary Office</th>\n",
              "      <th>Vocational School</th>\n",
              "      <th>Wholesale Club/Supercenter</th>\n",
              "      <th>Worship Facility</th>\n",
              "    </tr>\n",
              "  </thead>\n",
              "  <tbody>\n",
              "    <tr>\n",
              "      <th>0</th>\n",
              "      <td>94102.0</td>\n",
              "      <td>0.000000</td>\n",
              "      <td>0.0</td>\n",
              "      <td>0.000000</td>\n",
              "      <td>15.066667</td>\n",
              "      <td>0.000000</td>\n",
              "      <td>52.746667</td>\n",
              "      <td>0.000000</td>\n",
              "      <td>0.000000</td>\n",
              "      <td>0.00</td>\n",
              "      <td>...</td>\n",
              "      <td>65.100</td>\n",
              "      <td>0.000000</td>\n",
              "      <td>117.366667</td>\n",
              "      <td>0.000000</td>\n",
              "      <td>0.0</td>\n",
              "      <td>0.00</td>\n",
              "      <td>0.0</td>\n",
              "      <td>0.00</td>\n",
              "      <td>0.00</td>\n",
              "      <td>15.986667</td>\n",
              "    </tr>\n",
              "    <tr>\n",
              "      <th>1</th>\n",
              "      <td>94103.0</td>\n",
              "      <td>21.814286</td>\n",
              "      <td>26.3</td>\n",
              "      <td>39.857143</td>\n",
              "      <td>40.557143</td>\n",
              "      <td>25.710000</td>\n",
              "      <td>0.000000</td>\n",
              "      <td>0.000000</td>\n",
              "      <td>22.438462</td>\n",
              "      <td>24.75</td>\n",
              "      <td>...</td>\n",
              "      <td>21.325</td>\n",
              "      <td>0.000000</td>\n",
              "      <td>56.466667</td>\n",
              "      <td>134.759524</td>\n",
              "      <td>0.0</td>\n",
              "      <td>33.33</td>\n",
              "      <td>0.0</td>\n",
              "      <td>29.44</td>\n",
              "      <td>102.25</td>\n",
              "      <td>47.870000</td>\n",
              "    </tr>\n",
              "    <tr>\n",
              "      <th>2</th>\n",
              "      <td>94104.0</td>\n",
              "      <td>0.000000</td>\n",
              "      <td>0.0</td>\n",
              "      <td>0.000000</td>\n",
              "      <td>49.857895</td>\n",
              "      <td>0.000000</td>\n",
              "      <td>0.000000</td>\n",
              "      <td>0.000000</td>\n",
              "      <td>0.000000</td>\n",
              "      <td>0.00</td>\n",
              "      <td>...</td>\n",
              "      <td>0.000</td>\n",
              "      <td>0.000000</td>\n",
              "      <td>0.000000</td>\n",
              "      <td>0.000000</td>\n",
              "      <td>0.0</td>\n",
              "      <td>0.00</td>\n",
              "      <td>0.0</td>\n",
              "      <td>0.00</td>\n",
              "      <td>0.00</td>\n",
              "      <td>0.000000</td>\n",
              "    </tr>\n",
              "    <tr>\n",
              "      <th>3</th>\n",
              "      <td>94105.0</td>\n",
              "      <td>0.000000</td>\n",
              "      <td>0.0</td>\n",
              "      <td>0.000000</td>\n",
              "      <td>0.000000</td>\n",
              "      <td>16.733333</td>\n",
              "      <td>69.047826</td>\n",
              "      <td>792.514286</td>\n",
              "      <td>0.000000</td>\n",
              "      <td>0.00</td>\n",
              "      <td>...</td>\n",
              "      <td>0.000</td>\n",
              "      <td>0.000000</td>\n",
              "      <td>0.000000</td>\n",
              "      <td>0.000000</td>\n",
              "      <td>0.0</td>\n",
              "      <td>0.00</td>\n",
              "      <td>0.0</td>\n",
              "      <td>0.00</td>\n",
              "      <td>0.00</td>\n",
              "      <td>0.000000</td>\n",
              "    </tr>\n",
              "    <tr>\n",
              "      <th>4</th>\n",
              "      <td>94107.0</td>\n",
              "      <td>0.000000</td>\n",
              "      <td>0.0</td>\n",
              "      <td>0.000000</td>\n",
              "      <td>0.000000</td>\n",
              "      <td>0.000000</td>\n",
              "      <td>38.850847</td>\n",
              "      <td>1545.050000</td>\n",
              "      <td>36.392857</td>\n",
              "      <td>0.00</td>\n",
              "      <td>...</td>\n",
              "      <td>0.000</td>\n",
              "      <td>42.433333</td>\n",
              "      <td>0.000000</td>\n",
              "      <td>0.000000</td>\n",
              "      <td>82.9</td>\n",
              "      <td>0.00</td>\n",
              "      <td>0.0</td>\n",
              "      <td>0.00</td>\n",
              "      <td>0.00</td>\n",
              "      <td>0.000000</td>\n",
              "    </tr>\n",
              "  </tbody>\n",
              "</table>\n",
              "<p>5 rows × 59 columns</p>\n",
              "</div>"
            ],
            "text/plain": [
              "   postal_code  Adult Education  Arts & Culture  Automobile Dealership  \\\n",
              "0      94102.0         0.000000             0.0               0.000000   \n",
              "1      94103.0        21.814286            26.3              39.857143   \n",
              "2      94104.0         0.000000             0.0               0.000000   \n",
              "3      94105.0         0.000000             0.0               0.000000   \n",
              "4      94107.0         0.000000             0.0               0.000000   \n",
              "\n",
              "   Bank Branch  Bar/Nightclub  College/University  Data Center  \\\n",
              "0    15.066667       0.000000           52.746667     0.000000   \n",
              "1    40.557143      25.710000            0.000000     0.000000   \n",
              "2    49.857895       0.000000            0.000000     0.000000   \n",
              "3     0.000000      16.733333           69.047826   792.514286   \n",
              "4     0.000000       0.000000           38.850847  1545.050000   \n",
              "\n",
              "   Distribution Center  Enclosed Mall  ...  Social/Meeting Hall  \\\n",
              "0             0.000000           0.00  ...               65.100   \n",
              "1            22.438462          24.75  ...               21.325   \n",
              "2             0.000000           0.00  ...                0.000   \n",
              "3             0.000000           0.00  ...                0.000   \n",
              "4            36.392857           0.00  ...                0.000   \n",
              "\n",
              "   Stadium (Open)  Strip Mall  Supermarket/Grocery Store  \\\n",
              "0        0.000000  117.366667                   0.000000   \n",
              "1        0.000000   56.466667                 134.759524   \n",
              "2        0.000000    0.000000                   0.000000   \n",
              "3        0.000000    0.000000                   0.000000   \n",
              "4       42.433333    0.000000                   0.000000   \n",
              "\n",
              "   Transportation Terminal/Station  Urgent Care/Clinic/Other Outpatient  \\\n",
              "0                              0.0                                 0.00   \n",
              "1                              0.0                                33.33   \n",
              "2                              0.0                                 0.00   \n",
              "3                              0.0                                 0.00   \n",
              "4                             82.9                                 0.00   \n",
              "\n",
              "   Veterinary Office  Vocational School  Wholesale Club/Supercenter  \\\n",
              "0                0.0               0.00                        0.00   \n",
              "1                0.0              29.44                      102.25   \n",
              "2                0.0               0.00                        0.00   \n",
              "3                0.0               0.00                        0.00   \n",
              "4                0.0               0.00                        0.00   \n",
              "\n",
              "   Worship Facility  \n",
              "0         15.986667  \n",
              "1         47.870000  \n",
              "2          0.000000  \n",
              "3          0.000000  \n",
              "4          0.000000  \n",
              "\n",
              "[5 rows x 59 columns]"
            ]
          },
          "execution_count": 39,
          "metadata": {},
          "output_type": "execute_result"
        }
      ],
      "source": [
        "temp1.head()"
      ]
    },
    {
      "cell_type": "code",
      "execution_count": null,
      "id": "b6e835e9-37a7-4704-be30-c3d5eef6e293",
      "metadata": {
        "id": "b6e835e9-37a7-4704-be30-c3d5eef6e293",
        "outputId": "5a701bde-e0ba-4958-91c9-21c77b99d4b8"
      },
      "outputs": [
        {
          "data": {
            "text/plain": [
              "postal_code                                                 161.995385\n",
              "Adult Education                                              66.912857\n",
              "Arts & Culture                                              629.444815\n",
              "Automobile Dealership                                       123.602192\n",
              "Bank Branch                                                 662.155855\n",
              "Bar/Nightclub                                               101.309859\n",
              "College/University                                          599.699116\n",
              "Data Center                                              117490.598475\n",
              "Distribution Center                                          93.553643\n",
              "Enclosed Mall                                              1145.005663\n",
              "Financial Office                                            623.135059\n",
              "Fitness Center/Health Club/Gym                              821.610744\n",
              "Food Sales                                                  251.879671\n",
              "Food Service                                                958.106603\n",
              "Hospital (General Medical & Surgical)                      7833.396818\n",
              "Hotel                                                      1174.462754\n",
              "Indoor Arena                                                 33.200133\n",
              "K-12 School                                                 325.686126\n",
              "Laboratory                                                 3866.602854\n",
              "Manufacturing/Industrial Plant                             5810.519981\n",
              "Medical Office                                             1541.145581\n",
              "Mixed Use Property                                         2824.439700\n",
              "Movie Theater                                              2497.985115\n",
              "Multifamily Housing                                         257.307207\n",
              "Museum                                                      244.043559\n",
              "Non-Refrigerated Warehouse                                   68.476408\n",
              "Office                                                      683.718421\n",
              "Other                                                      3247.821197\n",
              "Other - Education                                             7.437815\n",
              "Other - Entertainment/Public Assembly                       401.366895\n",
              "Other - Lodging/Residential                                 904.144717\n",
              "Other - Mall                                               1768.932674\n",
              "Other - Recreation                                           31.212626\n",
              "Other - Restaurant/Bar                                     2248.818798\n",
              "Other - Services                                             49.630278\n",
              "Other - Technology/Science                                17155.777679\n",
              "Parking                                                    3875.648539\n",
              "Performing Arts                                             262.791929\n",
              "Personal Services (Health/Beauty, Dry Cleaning, etc.)        54.464440\n",
              "Pre-school/Daycare                                           24.701134\n",
              "Preforming Arts                                             322.748981\n",
              "Refrigerated Warehouse                                      217.190965\n",
              "Repair Services (Vehicle, Shoe, Locksmith, etc.)            329.148793\n",
              "Residence Hall/Dormitory                                    232.694799\n",
              "Residential Care Facility                                   205.013333\n",
              "Restaurant                                                 7958.316603\n",
              "Retail Store                                                690.308715\n",
              "Self-Storage Facility                                        11.923924\n",
              "Senior Living Community                                    1554.678197\n",
              "Social/Meeting Hall                                         261.193258\n",
              "Stadium (Open)                                               66.688436\n",
              "Strip Mall                                                 1591.639675\n",
              "Supermarket/Grocery Store                                 13511.427424\n",
              "Transportation Terminal/Station                             254.533704\n",
              "Urgent Care/Clinic/Other Outpatient                        1842.779923\n",
              "Veterinary Office                                           528.438753\n",
              "Vocational School                                            63.432934\n",
              "Wholesale Club/Supercenter                                  680.259852\n",
              "Worship Facility                                            210.070430\n",
              "dtype: float64"
            ]
          },
          "execution_count": 40,
          "metadata": {},
          "output_type": "execute_result"
        }
      ],
      "source": [
        "temp1.var(axis=0)"
      ]
    },
    {
      "cell_type": "markdown",
      "id": "f2867f49-26e5-41fe-a899-ec1b0835f3b3",
      "metadata": {
        "id": "f2867f49-26e5-41fe-a899-ec1b0835f3b3"
      },
      "source": [
        "---"
      ]
    },
    {
      "cell_type": "markdown",
      "id": "90b67b60-70ea-46f9-8a82-e672675eafbc",
      "metadata": {
        "id": "90b67b60-70ea-46f9-8a82-e672675eafbc"
      },
      "source": [
        "## Cross-Classification"
      ]
    },
    {
      "cell_type": "markdown",
      "id": "516f809e-3686-4cd0-8d39-6121048ff9bb",
      "metadata": {
        "id": "516f809e-3686-4cd0-8d39-6121048ff9bb"
      },
      "source": [
        "---"
      ]
    },
    {
      "cell_type": "markdown",
      "id": "40c19efa-58e3-4f59-9b93-ed25e900b32c",
      "metadata": {
        "id": "40c19efa-58e3-4f59-9b93-ed25e900b32c"
      },
      "source": [
        "### Group and Pivot Tables"
      ]
    },
    {
      "cell_type": "markdown",
      "id": "75c2b4a6-7775-4ef7-b2b3-5a551dd92901",
      "metadata": {
        "id": "75c2b4a6-7775-4ef7-b2b3-5a551dd92901"
      },
      "source": [
        "Cross-classification is to put individuals into groups based on the values of 2 or more variables."
      ]
    },
    {
      "cell_type": "markdown",
      "id": "e9e0b046-f883-4f27-bcc1-4910ef86d084",
      "metadata": {
        "id": "e9e0b046-f883-4f27-bcc1-4910ef86d084"
      },
      "source": [
        "For cross-classification:\n",
        "\n",
        "* Grouped Table\n",
        "    * Any number of grouping variables\n",
        "    * One combo of grouping variables per row\n",
        "    * Aggregate values of all other columns in table\n",
        "    * Missing combos absent\n",
        "* Pivot Table\n",
        "    * Two grouping variables: columns and rows\n",
        "    * One combo of grouping variables per entry\n",
        "    * Aggregate values of values column\n",
        "    * Missing combos = 0 (or empty string)"
      ]
    },
    {
      "cell_type": "markdown",
      "id": "3c027792-6d95-4273-854a-f8a36e540f74",
      "metadata": {
        "id": "3c027792-6d95-4273-854a-f8a36e540f74"
      },
      "source": [
        "---"
      ]
    },
    {
      "cell_type": "markdown",
      "id": "42721033-b6cc-458a-a6ba-3b589a50b22e",
      "metadata": {
        "id": "42721033-b6cc-458a-a6ba-3b589a50b22e"
      },
      "source": [
        "### Table Function Visualizer"
      ]
    },
    {
      "cell_type": "markdown",
      "id": "13ab5029-9332-47d3-883d-9fe5b3bbb997",
      "metadata": {
        "id": "13ab5029-9332-47d3-883d-9fe5b3bbb997"
      },
      "source": [
        "Check out UC Berkeley's [Table Function Visualizer](https://www.data8.org/interactive_table_functions/) to better understand the `group` and `pivot` table methods."
      ]
    },
    {
      "cell_type": "markdown",
      "id": "48414fb5-fd97-4c8f-baab-a197b61d29a2",
      "metadata": {
        "id": "48414fb5-fd97-4c8f-baab-a197b61d29a2"
      },
      "source": [
        "---"
      ]
    },
    {
      "cell_type": "markdown",
      "id": "756ec322-aa95-413d-909c-eb83fc2b857c",
      "metadata": {
        "editable": true,
        "tags": [],
        "id": "756ec322-aa95-413d-909c-eb83fc2b857c"
      },
      "source": [
        "## Attribution"
      ]
    },
    {
      "cell_type": "markdown",
      "id": "18a21a8e-3163-40d0-8fa9-9b2998be27fb",
      "metadata": {
        "id": "18a21a8e-3163-40d0-8fa9-9b2998be27fb"
      },
      "source": [
        "This content is licensed under the <a href=\"https://creativecommons.org/licenses/by-nc-sa/4.0/\">Creative Commons Attribution-NonCommercial-ShareAlike 4.0 International License (CC BY-NC-SA 4.0)</a> and derived from the <a href=\"https://www.data8.org/\">Data 8: The Foundations of Data Science</a> offered by the University of California, Berkeley.\n",
        "\n",
        "<img src=\"./by-nc-sa.png\" width=100px>"
      ]
    }
  ],
  "metadata": {
    "kernelspec": {
      "display_name": "Python 3 (ipykernel)",
      "language": "python",
      "name": "python3"
    },
    "language_info": {
      "codemirror_mode": {
        "name": "ipython",
        "version": 3
      },
      "file_extension": ".py",
      "mimetype": "text/x-python",
      "name": "python",
      "nbconvert_exporter": "python",
      "pygments_lexer": "ipython3",
      "version": "3.11.9"
    },
    "otter": {
      "OK_FORMAT": true,
      "tests": {}
    },
    "colab": {
      "provenance": [],
      "include_colab_link": true
    }
  },
  "nbformat": 4,
  "nbformat_minor": 5
}