{
  "cells": [
    {
      "cell_type": "markdown",
      "metadata": {
        "id": "view-in-github",
        "colab_type": "text"
      },
      "source": [
        "<a href=\"https://colab.research.google.com/github/veyselberk88/Data-Science-Tools-and-Ecosystem/blob/main/lec20.ipynb\" target=\"_parent\"><img src=\"https://colab.research.google.com/assets/colab-badge.svg\" alt=\"Open In Colab\"/></a>"
      ]
    },
    {
      "cell_type": "markdown",
      "id": "10390736-7777-4347-81ee-2f35c263d427",
      "metadata": {
        "id": "10390736-7777-4347-81ee-2f35c263d427"
      },
      "source": [
        "<img src=\"./ccsf.png\" alt=\"CCSF Logo\" width=200px style=\"margin:0px -5px\">"
      ]
    },
    {
      "cell_type": "markdown",
      "id": "bfd6cabb-3136-4d4d-baa1-d0ba792efb0b",
      "metadata": {
        "id": "bfd6cabb-3136-4d4d-baa1-d0ba792efb0b"
      },
      "source": [
        "# Lecture 20: Decisions and Uncertainty"
      ]
    },
    {
      "cell_type": "markdown",
      "id": "ed437d9b-1ef6-4653-b9ee-4b9a70afcf4a",
      "metadata": {
        "id": "ed437d9b-1ef6-4653-b9ee-4b9a70afcf4a"
      },
      "source": [
        "Associated Textbook Sections: [11.3, 11.4](ccsf-math-108.github.io/textbook/chapters/11/3/Decisions_and_Uncertainty.html)"
      ]
    },
    {
      "cell_type": "markdown",
      "id": "2dd10d5e-2ec4-4245-bf31-ab7f1e891352",
      "metadata": {
        "id": "2dd10d5e-2ec4-4245-bf31-ab7f1e891352"
      },
      "source": [
        "---"
      ]
    },
    {
      "cell_type": "markdown",
      "id": "afa474af-efc8-4768-93ac-9b89e5f83db0",
      "metadata": {
        "id": "afa474af-efc8-4768-93ac-9b89e5f83db0"
      },
      "source": [
        "## Outline"
      ]
    },
    {
      "cell_type": "markdown",
      "id": "687449a7-c6a5-4005-8dc2-12ec4db79b6e",
      "metadata": {
        "id": "687449a7-c6a5-4005-8dc2-12ec4db79b6e"
      },
      "source": [
        "* [Decisions and Uncertainty](#Decisions-and-Uncertainty)\n",
        "* [Review: Terminology](#Review:-Terminology)\n",
        "* [A Low Midterm Average](#A-Low-Midterm-Average)\n",
        "* [Statistical Significance](#Statistical-Significance)\n",
        "* [How We’ve Tested Thus Far](#How-We’ve-Tested-Thus-Far)"
      ]
    },
    {
      "cell_type": "markdown",
      "id": "4ae07c34-29f2-43ad-8d64-9e718a90677e",
      "metadata": {
        "id": "4ae07c34-29f2-43ad-8d64-9e718a90677e"
      },
      "source": [
        "---"
      ]
    },
    {
      "cell_type": "markdown",
      "id": "6edc01b1-e2dd-4988-a4c5-f908f2d6c620",
      "metadata": {
        "id": "6edc01b1-e2dd-4988-a4c5-f908f2d6c620"
      },
      "source": [
        "## Set Up the Notebook"
      ]
    },
    {
      "cell_type": "code",
      "execution_count": null,
      "id": "780da9af-1a76-4591-ad7b-be83dbe0253e",
      "metadata": {
        "id": "780da9af-1a76-4591-ad7b-be83dbe0253e"
      },
      "outputs": [],
      "source": [
        "from datascience import *\n",
        "import numpy as np\n",
        "%matplotlib inline\n",
        "import matplotlib.pyplot as plt\n",
        "plt.style.use('fivethirtyeight')"
      ]
    },
    {
      "cell_type": "markdown",
      "id": "ae6bc560-07f1-42c8-a7af-9a7d8bb207d9",
      "metadata": {
        "id": "ae6bc560-07f1-42c8-a7af-9a7d8bb207d9"
      },
      "source": [
        "---"
      ]
    },
    {
      "cell_type": "markdown",
      "id": "673586ee-ef51-4a28-ba0b-41074d69577f",
      "metadata": {
        "id": "673586ee-ef51-4a28-ba0b-41074d69577f"
      },
      "source": [
        "## Decisions and Uncertainty"
      ]
    },
    {
      "cell_type": "markdown",
      "id": "cd6ad4bf-6c22-43d8-99ec-521c0d8d8f92",
      "metadata": {
        "id": "cd6ad4bf-6c22-43d8-99ec-521c0d8d8f92"
      },
      "source": [
        "---"
      ]
    },
    {
      "cell_type": "markdown",
      "id": "863cf44b-b60f-4147-9141-816b3462201b",
      "metadata": {
        "id": "863cf44b-b60f-4147-9141-816b3462201b"
      },
      "source": [
        "### Incomplete Information"
      ]
    },
    {
      "cell_type": "markdown",
      "id": "4e43faae-894e-4bb6-85d0-653f833a9e00",
      "metadata": {
        "id": "4e43faae-894e-4bb6-85d0-653f833a9e00"
      },
      "source": [
        "* We are trying to choose between two views of the world, based on data in a sample.\n",
        "* It is not always clear whether the data are consistent with one view or the other.\n",
        "* Random samples can turn out quite extreme. It is unlikely, but possible."
      ]
    },
    {
      "cell_type": "markdown",
      "id": "fec75cd4-ad18-414d-8086-cc71ddb6f5f7",
      "metadata": {
        "id": "fec75cd4-ad18-414d-8086-cc71ddb6f5f7"
      },
      "source": [
        "---"
      ]
    },
    {
      "cell_type": "markdown",
      "id": "20363c4b-1ae6-4e2c-9c2a-47277c969695",
      "metadata": {
        "id": "20363c4b-1ae6-4e2c-9c2a-47277c969695"
      },
      "source": [
        "## Review: Terminology"
      ]
    },
    {
      "cell_type": "markdown",
      "id": "66d3e29e-3c00-4e6c-a659-f470117596fb",
      "metadata": {
        "id": "66d3e29e-3c00-4e6c-a659-f470117596fb"
      },
      "source": [
        "---"
      ]
    },
    {
      "cell_type": "markdown",
      "id": "a1c9ee26-fce3-4814-8aa7-382beeed5f0f",
      "metadata": {
        "id": "a1c9ee26-fce3-4814-8aa7-382beeed5f0f"
      },
      "source": [
        "### Testing Hypotheses"
      ]
    },
    {
      "cell_type": "markdown",
      "id": "9f4ee385-6612-4c61-bf10-a7a435a85732",
      "metadata": {
        "id": "9f4ee385-6612-4c61-bf10-a7a435a85732"
      },
      "source": [
        "* A test chooses between two views of how data were generated\n",
        "* The views are called hypotheses\n",
        "* The test picks the hypothesis that is better supported by the observed data\n"
      ]
    },
    {
      "cell_type": "markdown",
      "id": "6b356a3e-6a7a-47d9-b070-86780a9363d6",
      "metadata": {
        "id": "6b356a3e-6a7a-47d9-b070-86780a9363d6"
      },
      "source": [
        "---"
      ]
    },
    {
      "cell_type": "markdown",
      "id": "7b23871d-89c8-4e8a-ada0-4a00192b0358",
      "metadata": {
        "id": "7b23871d-89c8-4e8a-ada0-4a00192b0358"
      },
      "source": [
        "### Null and Alternative"
      ]
    },
    {
      "cell_type": "markdown",
      "id": "33e76eed-941f-4b31-83d2-b5186b619fec",
      "metadata": {
        "id": "33e76eed-941f-4b31-83d2-b5186b619fec"
      },
      "source": [
        "The method only works if we can simulate data under one of the hypotheses.\n",
        "* Null hypothesis:\n",
        "    * A well defined chance model about how the data were generated\n",
        "    * We can simulate data under the assumptions of this model – “under the null hypothesis”\n",
        "* Alternative hypothesis: A different view about the origin of the data\n"
      ]
    },
    {
      "cell_type": "markdown",
      "id": "b3be6e7e-4349-4656-a849-ae83f22fa1a4",
      "metadata": {
        "id": "b3be6e7e-4349-4656-a849-ae83f22fa1a4"
      },
      "source": [
        "---"
      ]
    },
    {
      "cell_type": "markdown",
      "id": "5f69f609-2c85-4607-ac5d-79a5c96cabd5",
      "metadata": {
        "id": "5f69f609-2c85-4607-ac5d-79a5c96cabd5"
      },
      "source": [
        "### Test Statistic"
      ]
    },
    {
      "cell_type": "markdown",
      "id": "e198ebbf-b18c-41e9-89ca-8f9cde530cc2",
      "metadata": {
        "id": "e198ebbf-b18c-41e9-89ca-8f9cde530cc2"
      },
      "source": [
        "* The statistic that we choose to simulate, to decide between the two hypotheses\n",
        "* Questions before choosing the statistic:\n",
        "    * What values of the statistic will make us lean towards the null hypothesis?\n",
        "    * What values will make us lean towards the alternative? Preferably, the answer should be just \"high\". Try to avoid \"both high and low\".\n"
      ]
    },
    {
      "cell_type": "markdown",
      "id": "688539a0-2a9f-408b-ab3d-57093d3b6ba3",
      "metadata": {
        "id": "688539a0-2a9f-408b-ab3d-57093d3b6ba3"
      },
      "source": [
        "---"
      ]
    },
    {
      "cell_type": "markdown",
      "id": "ea4d649f-6d30-4d2e-953f-b9c6718bfe01",
      "metadata": {
        "id": "ea4d649f-6d30-4d2e-953f-b9c6718bfe01"
      },
      "source": [
        "### Prediction Under the Null Hypothesis"
      ]
    },
    {
      "cell_type": "markdown",
      "id": "82519c7e-da18-4f28-8a3a-6d5c5e1f02a2",
      "metadata": {
        "id": "82519c7e-da18-4f28-8a3a-6d5c5e1f02a2"
      },
      "source": [
        "* Simulate the test statistic under the null hypothesis; draw the histogram of the simulated values\n",
        "* This displays the **empirical distribution of the statistic under the null hypothesis**\n",
        "* It is a prediction about the statistic, made by the null hypothesis\n",
        "    * It shows all the likely values of the statistic\n",
        "    * Also how likely they are (**if the null hypothesis is true**)\n",
        "* The probabilities are approximate, because we can't generate all the possible random samples\n"
      ]
    },
    {
      "cell_type": "markdown",
      "id": "cfdbaec4-fae3-4f54-9219-bebc10204fad",
      "metadata": {
        "id": "cfdbaec4-fae3-4f54-9219-bebc10204fad"
      },
      "source": [
        "---"
      ]
    },
    {
      "cell_type": "markdown",
      "id": "98dfd43f-6551-42ef-899b-b3e851a23a4a",
      "metadata": {
        "id": "98dfd43f-6551-42ef-899b-b3e851a23a4a"
      },
      "source": [
        "### Conclusion of the Test"
      ]
    },
    {
      "cell_type": "markdown",
      "id": "d4a9d9d5-fda5-4556-979a-a4d4cf901fda",
      "metadata": {
        "id": "d4a9d9d5-fda5-4556-979a-a4d4cf901fda"
      },
      "source": [
        "* Resolve choice between null and alternative hypotheses\n",
        "    * Compare the **observed test statistic** and its empirical distribution under the null hypothesis\n",
        "    * If the observed value is **not consistent** with the distribution, then the test favors the alternative (\"data is more consistent with the alternative\")\n",
        "* Whether a value is consistent with a distribution:\n",
        "    * A visualization may be sufficient\n",
        "    * If not, there are conventions about \"consistency\""
      ]
    },
    {
      "cell_type": "markdown",
      "id": "c3648613-c84d-4cf6-b5b3-6450ccd43b2c",
      "metadata": {
        "id": "c3648613-c84d-4cf6-b5b3-6450ccd43b2c"
      },
      "source": [
        "---"
      ]
    },
    {
      "cell_type": "markdown",
      "id": "f4845669-1f54-446b-bafe-c32b294f52af",
      "metadata": {
        "id": "f4845669-1f54-446b-bafe-c32b294f52af"
      },
      "source": [
        "## A Low Midterm Average"
      ]
    },
    {
      "cell_type": "markdown",
      "id": "64cc2dd0-64a0-495b-9248-9b66ae8f3a95",
      "metadata": {
        "id": "64cc2dd0-64a0-495b-9248-9b66ae8f3a95"
      },
      "source": [
        "---"
      ]
    },
    {
      "cell_type": "markdown",
      "id": "4adc878b-769c-4cdf-8fc1-bc66aafd4d81",
      "metadata": {
        "id": "4adc878b-769c-4cdf-8fc1-bc66aafd4d81"
      },
      "source": [
        "### The Set Up"
      ]
    },
    {
      "cell_type": "markdown",
      "id": "2580a83b-c806-451f-80b9-6e24614b1996",
      "metadata": {
        "id": "2580a83b-c806-451f-80b9-6e24614b1996"
      },
      "source": [
        "* Large(-ish) Data Science class divided into 12 discussion sections\n",
        "* After the midterm, students in Section 3 notice that the average score in their section is lower than in others"
      ]
    },
    {
      "cell_type": "markdown",
      "id": "1203b09b-7805-437b-8448-d5b2671fc187",
      "metadata": {
        "id": "1203b09b-7805-437b-8448-d5b2671fc187"
      },
      "source": [
        "---"
      ]
    },
    {
      "cell_type": "markdown",
      "id": "4883573f-c777-4f9b-acff-26f6525016f1",
      "metadata": {
        "id": "4883573f-c777-4f9b-acff-26f6525016f1"
      },
      "source": [
        "### The Instructor's Defense"
      ]
    },
    {
      "cell_type": "markdown",
      "id": "cf674504-b543-4ad0-abd4-3225168fabf6",
      "metadata": {
        "id": "cf674504-b543-4ad0-abd4-3225168fabf6"
      },
      "source": [
        "* Section 3 Instructor's position (Null Hypothesis): If we had picked my section at random from the whole class, we could have got an average like this one.\n",
        "* Alternative Hypothesis: No, the average score is too low. Randomness is not the only reason for the low scores.\n"
      ]
    },
    {
      "cell_type": "markdown",
      "id": "15056d10-f3a4-47b5-9982-2fdfaf9d09ae",
      "metadata": {
        "id": "15056d10-f3a4-47b5-9982-2fdfaf9d09ae"
      },
      "source": [
        "---"
      ]
    },
    {
      "cell_type": "markdown",
      "id": "3e47a47b-6acd-4ada-ad64-47cef1814d47",
      "metadata": {
        "id": "3e47a47b-6acd-4ada-ad64-47cef1814d47"
      },
      "source": [
        "### Demo: A Low Midterm Average"
      ]
    },
    {
      "cell_type": "markdown",
      "id": "bc613b3f-6d66-4bcc-b4d8-871977f2a5a3",
      "metadata": {
        "deletable": false,
        "editable": false,
        "id": "bc613b3f-6d66-4bcc-b4d8-871977f2a5a3"
      },
      "source": [
        "* Load the `scores_by_section.csv` data, identify the average Midterm score for each section, make sure to store the value of the Section 3 average Midterm score.\n",
        "* Randomly sample 27 students (same as section 3) from the population (without replacement) and compute the sample average Midterm score.\n",
        "* Simulate one value of the test statistic under the hypothesis that the section is like a random sample from the class.\n",
        "* Simulate 50,000 copies of the test statistic and compare the simulated distribution of the statistic and the actual observed statistic.\n",
        "* Visualize the distribution.\n",
        "* Calculate the area in the left tail of the histogram."
      ]
    },
    {
      "cell_type": "code",
      "execution_count": null,
      "id": "ffe96597-ac5c-4d01-bcd2-dbccd7ae98d5",
      "metadata": {
        "scrolled": true,
        "tags": [],
        "id": "ffe96597-ac5c-4d01-bcd2-dbccd7ae98d5",
        "outputId": "3044e82f-1936-42ca-c196-06f731ad4eb8"
      },
      "outputs": [
        {
          "data": {
            "text/html": [
              "<table border=\"1\" class=\"dataframe\">\n",
              "    <thead>\n",
              "        <tr>\n",
              "            <th>Section</th> <th>Midterm</th>\n",
              "        </tr>\n",
              "    </thead>\n",
              "    <tbody>\n",
              "        <tr>\n",
              "            <td>1      </td> <td>22     </td>\n",
              "        </tr>\n",
              "        <tr>\n",
              "            <td>2      </td> <td>12     </td>\n",
              "        </tr>\n",
              "        <tr>\n",
              "            <td>2      </td> <td>23     </td>\n",
              "        </tr>\n",
              "        <tr>\n",
              "            <td>2      </td> <td>14     </td>\n",
              "        </tr>\n",
              "        <tr>\n",
              "            <td>1      </td> <td>20     </td>\n",
              "        </tr>\n",
              "        <tr>\n",
              "            <td>3      </td> <td>25     </td>\n",
              "        </tr>\n",
              "        <tr>\n",
              "            <td>4      </td> <td>19     </td>\n",
              "        </tr>\n",
              "        <tr>\n",
              "            <td>1      </td> <td>24     </td>\n",
              "        </tr>\n",
              "        <tr>\n",
              "            <td>5      </td> <td>8      </td>\n",
              "        </tr>\n",
              "        <tr>\n",
              "            <td>6      </td> <td>14     </td>\n",
              "        </tr>\n",
              "    </tbody>\n",
              "</table>\n",
              "<p>... (349 rows omitted)</p>"
            ],
            "text/plain": [
              "Section | Midterm\n",
              "1       | 22\n",
              "2       | 12\n",
              "2       | 23\n",
              "2       | 14\n",
              "1       | 20\n",
              "3       | 25\n",
              "4       | 19\n",
              "1       | 24\n",
              "5       | 8\n",
              "6       | 14\n",
              "... (349 rows omitted)"
            ]
          },
          "execution_count": 2,
          "metadata": {},
          "output_type": "execute_result"
        }
      ],
      "source": [
        "scores = Table.read_table('scores_by_section.csv')\n",
        "scores"
      ]
    },
    {
      "cell_type": "code",
      "execution_count": null,
      "id": "6f477b73-3c62-41be-b793-5ed1ab239319",
      "metadata": {
        "tags": [],
        "id": "6f477b73-3c62-41be-b793-5ed1ab239319",
        "outputId": "30efd5fe-92ae-4c1f-c81b-7f56ce4dd443"
      },
      "outputs": [
        {
          "data": {
            "text/html": [
              "<table border=\"1\" class=\"dataframe\">\n",
              "    <thead>\n",
              "        <tr>\n",
              "            <th>Section</th> <th>count</th>\n",
              "        </tr>\n",
              "    </thead>\n",
              "    <tbody>\n",
              "        <tr>\n",
              "            <td>1      </td> <td>32   </td>\n",
              "        </tr>\n",
              "        <tr>\n",
              "            <td>2      </td> <td>32   </td>\n",
              "        </tr>\n",
              "        <tr>\n",
              "            <td>3      </td> <td>27   </td>\n",
              "        </tr>\n",
              "        <tr>\n",
              "            <td>4      </td> <td>30   </td>\n",
              "        </tr>\n",
              "        <tr>\n",
              "            <td>5      </td> <td>33   </td>\n",
              "        </tr>\n",
              "        <tr>\n",
              "            <td>6      </td> <td>32   </td>\n",
              "        </tr>\n",
              "        <tr>\n",
              "            <td>7      </td> <td>24   </td>\n",
              "        </tr>\n",
              "        <tr>\n",
              "            <td>8      </td> <td>29   </td>\n",
              "        </tr>\n",
              "        <tr>\n",
              "            <td>9      </td> <td>30   </td>\n",
              "        </tr>\n",
              "        <tr>\n",
              "            <td>10     </td> <td>34   </td>\n",
              "        </tr>\n",
              "    </tbody>\n",
              "</table>\n",
              "<p>... (2 rows omitted)</p>"
            ],
            "text/plain": [
              "Section | count\n",
              "1       | 32\n",
              "2       | 32\n",
              "3       | 27\n",
              "4       | 30\n",
              "5       | 33\n",
              "6       | 32\n",
              "7       | 24\n",
              "8       | 29\n",
              "9       | 30\n",
              "10      | 34\n",
              "... (2 rows omitted)"
            ]
          },
          "execution_count": 4,
          "metadata": {},
          "output_type": "execute_result"
        }
      ],
      "source": [
        "scores.group(\"Section\")"
      ]
    },
    {
      "cell_type": "code",
      "execution_count": null,
      "id": "ff3658ad-c7ad-4c83-b09f-2e2a4579c1ac",
      "metadata": {
        "tags": [],
        "id": "ff3658ad-c7ad-4c83-b09f-2e2a4579c1ac",
        "outputId": "08ce22e6-200c-4599-e73d-fd9d0b76d142"
      },
      "outputs": [
        {
          "data": {
            "text/html": [
              "<table border=\"1\" class=\"dataframe\">\n",
              "    <thead>\n",
              "        <tr>\n",
              "            <th>Section</th> <th>Midterm average</th>\n",
              "        </tr>\n",
              "    </thead>\n",
              "    <tbody>\n",
              "        <tr>\n",
              "            <td>1      </td> <td>15.5938        </td>\n",
              "        </tr>\n",
              "        <tr>\n",
              "            <td>2      </td> <td>15.125         </td>\n",
              "        </tr>\n",
              "        <tr>\n",
              "            <td>3      </td> <td>13.6667        </td>\n",
              "        </tr>\n",
              "        <tr>\n",
              "            <td>4      </td> <td>14.7667        </td>\n",
              "        </tr>\n",
              "        <tr>\n",
              "            <td>5      </td> <td>17.4545        </td>\n",
              "        </tr>\n",
              "        <tr>\n",
              "            <td>6      </td> <td>15.0312        </td>\n",
              "        </tr>\n",
              "        <tr>\n",
              "            <td>7      </td> <td>16.625         </td>\n",
              "        </tr>\n",
              "        <tr>\n",
              "            <td>8      </td> <td>16.3103        </td>\n",
              "        </tr>\n",
              "        <tr>\n",
              "            <td>9      </td> <td>14.5667        </td>\n",
              "        </tr>\n",
              "        <tr>\n",
              "            <td>10     </td> <td>15.2353        </td>\n",
              "        </tr>\n",
              "        <tr>\n",
              "            <td>11     </td> <td>15.8077        </td>\n",
              "        </tr>\n",
              "        <tr>\n",
              "            <td>12     </td> <td>15.7333        </td>\n",
              "        </tr>\n",
              "    </tbody>\n",
              "</table>"
            ],
            "text/plain": [
              "<IPython.core.display.HTML object>"
            ]
          },
          "metadata": {},
          "output_type": "display_data"
        }
      ],
      "source": [
        "scores.group('Section', np.average).show()"
      ]
    },
    {
      "cell_type": "code",
      "execution_count": null,
      "id": "a3dd67d7-1f4f-4685-a4aa-1b9cae042105",
      "metadata": {
        "tags": [],
        "id": "a3dd67d7-1f4f-4685-a4aa-1b9cae042105",
        "outputId": "8f84b3a1-8d8f-4eee-eed3-e61dc7efe50e"
      },
      "outputs": [
        {
          "data": {
            "text/plain": [
              "13.666666666666666"
            ]
          },
          "execution_count": 6,
          "metadata": {},
          "output_type": "execute_result"
        }
      ],
      "source": [
        "observed_average = (scores.group('Section', np.average)\n",
        "                          .where('Section', 3)\n",
        "                          .column('Midterm average')\n",
        "                          .item(0))\n",
        "observed_average"
      ]
    },
    {
      "cell_type": "code",
      "execution_count": null,
      "id": "30c2f0c7-4235-4d0e-acc4-e3a53d88ab96",
      "metadata": {
        "tags": [],
        "id": "30c2f0c7-4235-4d0e-acc4-e3a53d88ab96",
        "outputId": "bf466a2d-0c01-48aa-b7e2-61d1a3ac0e46"
      },
      "outputs": [
        {
          "data": {
            "text/html": [
              "<table border=\"1\" class=\"dataframe\">\n",
              "    <thead>\n",
              "        <tr>\n",
              "            <th>Section</th> <th>Midterm</th>\n",
              "        </tr>\n",
              "    </thead>\n",
              "    <tbody>\n",
              "        <tr>\n",
              "            <td>11     </td> <td>25     </td>\n",
              "        </tr>\n",
              "        <tr>\n",
              "            <td>3      </td> <td>16     </td>\n",
              "        </tr>\n",
              "        <tr>\n",
              "            <td>1      </td> <td>13     </td>\n",
              "        </tr>\n",
              "        <tr>\n",
              "            <td>6      </td> <td>11     </td>\n",
              "        </tr>\n",
              "        <tr>\n",
              "            <td>6      </td> <td>17     </td>\n",
              "        </tr>\n",
              "        <tr>\n",
              "            <td>2      </td> <td>11     </td>\n",
              "        </tr>\n",
              "        <tr>\n",
              "            <td>7      </td> <td>11     </td>\n",
              "        </tr>\n",
              "        <tr>\n",
              "            <td>1      </td> <td>13     </td>\n",
              "        </tr>\n",
              "        <tr>\n",
              "            <td>7      </td> <td>25     </td>\n",
              "        </tr>\n",
              "        <tr>\n",
              "            <td>7      </td> <td>11     </td>\n",
              "        </tr>\n",
              "    </tbody>\n",
              "</table>\n",
              "<p>... (17 rows omitted)</p>"
            ],
            "text/plain": [
              "Section | Midterm\n",
              "11      | 25\n",
              "3       | 16\n",
              "1       | 13\n",
              "6       | 11\n",
              "6       | 17\n",
              "2       | 11\n",
              "7       | 11\n",
              "1       | 13\n",
              "7       | 25\n",
              "7       | 11\n",
              "... (17 rows omitted)"
            ]
          },
          "execution_count": 7,
          "metadata": {},
          "output_type": "execute_result"
        }
      ],
      "source": [
        "random_sample = scores.sample(27, with_replacement=False)\n",
        "random_sample"
      ]
    },
    {
      "cell_type": "code",
      "execution_count": null,
      "id": "42efd650-b3ec-4536-928a-cd2526c20dd2",
      "metadata": {
        "tags": [],
        "id": "42efd650-b3ec-4536-928a-cd2526c20dd2",
        "outputId": "5d45b3b4-c8f4-4123-c11e-18e84432502a"
      },
      "outputs": [
        {
          "data": {
            "text/plain": [
              "14.777777777777779"
            ]
          },
          "execution_count": 8,
          "metadata": {},
          "output_type": "execute_result"
        }
      ],
      "source": [
        "np.average(random_sample.column('Midterm'))"
      ]
    },
    {
      "cell_type": "code",
      "execution_count": null,
      "id": "bcf2879e-508f-4c4a-8492-0db2400ead31",
      "metadata": {
        "tags": [],
        "id": "bcf2879e-508f-4c4a-8492-0db2400ead31"
      },
      "outputs": [],
      "source": [
        "def random_sample_midterm_avg():\n",
        "    random_sample = scores.sample(27, with_replacement = False)\n",
        "    return np.average(random_sample.column('Midterm'))"
      ]
    },
    {
      "cell_type": "code",
      "execution_count": null,
      "id": "5b530703-059a-49b4-897d-0ab6fc1d5fa5",
      "metadata": {
        "tags": [],
        "id": "5b530703-059a-49b4-897d-0ab6fc1d5fa5",
        "outputId": "75dbf0b1-1a7f-4700-e2f3-3d6c074d1e7a"
      },
      "outputs": [
        {
          "data": {
            "text/plain": [
              "16.962962962962962"
            ]
          },
          "execution_count": 10,
          "metadata": {},
          "output_type": "execute_result"
        }
      ],
      "source": [
        "random_sample_midterm_avg()"
      ]
    },
    {
      "cell_type": "code",
      "execution_count": null,
      "id": "fe630593-a63d-4e4e-a89e-a1f9531fa6c4",
      "metadata": {
        "tags": [],
        "id": "fe630593-a63d-4e4e-a89e-a1f9531fa6c4"
      },
      "outputs": [],
      "source": [
        "sample_averages = make_array()\n",
        "\n",
        "for _ in np.arange(50_000):\n",
        "    random_sample_average = random_sample_midterm_avg()\n",
        "    sample_averages = np.append(sample_averages, random_sample_average)"
      ]
    },
    {
      "cell_type": "code",
      "execution_count": null,
      "id": "6ee3c7db-8f94-4b2f-9f99-5f6d3b6c9494",
      "metadata": {
        "tags": [],
        "id": "6ee3c7db-8f94-4b2f-9f99-5f6d3b6c9494",
        "outputId": "1872f069-e143-4892-87b2-b1eb7a2ffac5"
      },
      "outputs": [
        {
          "data": {
            "image/png": "[encoded data removed]",
            "text/plain": [
              "<Figure size 600x400 with 1 Axes>"
            ]
          },
          "metadata": {},
          "output_type": "display_data"
        }
      ],
      "source": [
        "averages_tbl = Table().with_column('Random Sample Average', sample_averages)\n",
        "averages_tbl.hist(bins = 20)\n",
        "plt.scatter(observed_average, 0, color = 'red', s=60, zorder=3)\n",
        "plt.show()"
      ]
    },
    {
      "cell_type": "code",
      "execution_count": null,
      "id": "c5dcdce4-bf37-4d6d-b8b7-d399d7b5f864",
      "metadata": {
        "tags": [],
        "id": "c5dcdce4-bf37-4d6d-b8b7-d399d7b5f864",
        "outputId": "1f5b648c-b3c7-4824-b29a-17b29b31c58b"
      },
      "outputs": [
        {
          "data": {
            "text/plain": [
              "0.05738"
            ]
          },
          "execution_count": 13,
          "metadata": {},
          "output_type": "execute_result"
        }
      ],
      "source": [
        "area_in_left_tail = sum(sample_averages <= observed_average) / 50000\n",
        "area_in_left_tail"
      ]
    },
    {
      "cell_type": "markdown",
      "id": "95325b3d-76c6-4561-a738-ca20389078d2",
      "metadata": {
        "id": "95325b3d-76c6-4561-a738-ca20389078d2"
      },
      "source": [
        "---"
      ]
    },
    {
      "cell_type": "markdown",
      "id": "ec470fc7-946f-494b-abcb-ed6a7478abe4",
      "metadata": {
        "id": "ec470fc7-946f-494b-abcb-ed6a7478abe4"
      },
      "source": [
        "## Statistical Significance"
      ]
    },
    {
      "cell_type": "markdown",
      "id": "54fa248c-b047-4543-bfbd-5daca4879356",
      "metadata": {
        "id": "54fa248c-b047-4543-bfbd-5daca4879356"
      },
      "source": [
        "---"
      ]
    },
    {
      "cell_type": "markdown",
      "id": "50713819-6b34-48b5-a56f-88ecbc887004",
      "metadata": {
        "id": "50713819-6b34-48b5-a56f-88ecbc887004"
      },
      "source": [
        "### Tail Areas"
      ]
    },
    {
      "cell_type": "markdown",
      "id": "72c0ccdd-aa58-46b5-981e-b3a0388e989b",
      "metadata": {
        "id": "72c0ccdd-aa58-46b5-981e-b3a0388e989b"
      },
      "source": [
        "<img src=\"./tail_areas.png\" alt=\"comparison of distributions\" width=80%>"
      ]
    },
    {
      "cell_type": "markdown",
      "id": "2624bf28-aec2-48b1-939b-67a5f6cab744",
      "metadata": {
        "id": "2624bf28-aec2-48b1-939b-67a5f6cab744"
      },
      "source": [
        "---"
      ]
    },
    {
      "cell_type": "markdown",
      "id": "44859e15-6851-4655-93fb-dfad38190c92",
      "metadata": {
        "id": "44859e15-6851-4655-93fb-dfad38190c92"
      },
      "source": [
        "### Conventions About Inconsistency"
      ]
    },
    {
      "cell_type": "markdown",
      "id": "f552156b-792c-4a00-9db5-769c76dd9bb8",
      "metadata": {
        "id": "f552156b-792c-4a00-9db5-769c76dd9bb8"
      },
      "source": [
        "* \"Inconsistent with the null\": The test statistic is in the tail of the empirical distribution under the null hypothesis\n",
        "* \"In the tail,\" first convention:\n",
        "    * The area in the tail is less than 5%\n",
        "    * The result is \"statistically significant\"\n",
        "* \"In the tail,\" second convention:\n",
        "    * The area in the tail is less than 1%\n",
        "    * The result is \"highly statistically significant\"\n"
      ]
    },
    {
      "cell_type": "markdown",
      "id": "595555a6-acff-4453-835d-7597b200c82c",
      "metadata": {
        "id": "595555a6-acff-4453-835d-7597b200c82c"
      },
      "source": [
        "---"
      ]
    },
    {
      "cell_type": "markdown",
      "id": "f7d8c89c-b7fc-4cf2-bde3-797e37b3d778",
      "metadata": {
        "id": "f7d8c89c-b7fc-4cf2-bde3-797e37b3d778"
      },
      "source": [
        "### Demo: Conventions About Inconsistency"
      ]
    },
    {
      "cell_type": "markdown",
      "id": "cf77fa27-1946-43b0-93e2-5e315cb2fc34",
      "metadata": {
        "deletable": false,
        "editable": false,
        "id": "cf77fa27-1946-43b0-93e2-5e315cb2fc34"
      },
      "source": [
        "Using the fact that 5% of 50,000 is 2500, identify the 2500th data value in the sorted (ascending) table of averages."
      ]
    },
    {
      "cell_type": "markdown",
      "id": "e70d62b1-e7e2-4467-bd77-c81ac1764a1e",
      "metadata": {
        "deletable": false,
        "editable": false,
        "id": "e70d62b1-e7e2-4467-bd77-c81ac1764a1e"
      },
      "source": [
        "Visualize the distribution of sample averages along with a vertical line marking the 2500th data value."
      ]
    },
    {
      "cell_type": "code",
      "execution_count": null,
      "id": "b548576b-4207-4caa-b31b-cff432deaee0",
      "metadata": {
        "tags": [],
        "id": "b548576b-4207-4caa-b31b-cff432deaee0",
        "outputId": "adb00dd0-cfc5-4e77-ccd5-09507833ea76"
      },
      "outputs": [
        {
          "data": {
            "text/plain": [
              "2500.0"
            ]
          },
          "execution_count": 14,
          "metadata": {},
          "output_type": "execute_result"
        }
      ],
      "source": [
        "0.05 * 50_000"
      ]
    },
    {
      "cell_type": "code",
      "execution_count": null,
      "id": "5c1f8edb-5b3a-4da9-893c-532705332211",
      "metadata": {
        "tags": [],
        "id": "5c1f8edb-5b3a-4da9-893c-532705332211",
        "outputId": "2933f765-9a52-4f6a-f895-3a9b77a44d6e"
      },
      "outputs": [
        {
          "data": {
            "text/plain": [
              "13.592592592592593"
            ]
          },
          "execution_count": 15,
          "metadata": {},
          "output_type": "execute_result"
        }
      ],
      "source": [
        "five_percent_point = averages_tbl.sort(0).column(0).item(2500)\n",
        "five_percent_point"
      ]
    },
    {
      "cell_type": "code",
      "execution_count": null,
      "id": "0696ca41-d675-410f-9569-7afdd3951bb1",
      "metadata": {
        "scrolled": true,
        "tags": [],
        "id": "0696ca41-d675-410f-9569-7afdd3951bb1",
        "outputId": "aa7e3acf-e05d-4ee6-f2c7-941573480ea3"
      },
      "outputs": [
        {
          "data": {
            "image/png": "[encoded data removed]",
            "text/plain": [
              "<Figure size 600x400 with 1 Axes>"
            ]
          },
          "metadata": {},
          "output_type": "display_data"
        }
      ],
      "source": [
        "averages_tbl.hist(bins = 20)\n",
        "plt.plot([five_percent_point, five_percent_point], [0, 0.35], color='gold', lw=2)\n",
        "plt.title('Area to the left of the gold line: 5%');"
      ]
    },
    {
      "cell_type": "markdown",
      "id": "854b7d5c-f7ee-4e32-aa90-9bfd3d0f2ce7",
      "metadata": {
        "id": "854b7d5c-f7ee-4e32-aa90-9bfd3d0f2ce7"
      },
      "source": [
        "---"
      ]
    },
    {
      "cell_type": "markdown",
      "id": "28c10bf2-a21e-4052-8427-338a5ae0286b",
      "metadata": {
        "id": "28c10bf2-a21e-4052-8427-338a5ae0286b"
      },
      "source": [
        "### The P-Value as an Area"
      ]
    },
    {
      "cell_type": "code",
      "execution_count": null,
      "id": "cc8f384d-8a48-406e-ad24-d5b1e93079e8",
      "metadata": {
        "id": "cc8f384d-8a48-406e-ad24-d5b1e93079e8",
        "outputId": "235a858a-67d5-4cda-ecfe-f391245b1088"
      },
      "outputs": [
        {
          "data": {
            "image/png": "[encoded data removed]",
            "text/plain": [
              "<Figure size 600x400 with 1 Axes>"
            ]
          },
          "metadata": {},
          "output_type": "display_data"
        }
      ],
      "source": [
        "averages_tbl.hist(bins = np.arange(10, 21, 0.5), right_end=five_percent_point)\n",
        "plt.plot([five_percent_point, five_percent_point], [0, 0.35], color='gold', lw=2)\n",
        "plt.scatter(observed_average, 0, color = 'red', s=60, zorder=3);"
      ]
    },
    {
      "cell_type": "markdown",
      "id": "6a818be4-b0ac-4793-be65-857f2e30acb7",
      "metadata": {
        "id": "6a818be4-b0ac-4793-be65-857f2e30acb7"
      },
      "source": [
        "* Empirical distribution of the test statistic under the null hypothesis\n",
        "* The red dot is the observed statistic.\n",
        "* The P-value is represented by the shaded region of the histogram determined by the definition of the alternative hypothesis."
      ]
    },
    {
      "cell_type": "markdown",
      "id": "61be1284-1638-456e-b1ca-4349a788d359",
      "metadata": {
        "id": "61be1284-1638-456e-b1ca-4349a788d359"
      },
      "source": [
        "---"
      ]
    },
    {
      "cell_type": "markdown",
      "id": "e16b6a24-300f-45d2-b775-9089ba9872d6",
      "metadata": {
        "id": "e16b6a24-300f-45d2-b775-9089ba9872d6"
      },
      "source": [
        "### Definition of the P-value"
      ]
    },
    {
      "cell_type": "markdown",
      "id": "12cd4833-4c4e-41b5-a6d1-d4e0fb3ef1ad",
      "metadata": {
        "id": "12cd4833-4c4e-41b5-a6d1-d4e0fb3ef1ad"
      },
      "source": [
        "* The P-value is the chance,\n",
        "    * under the null hypothesis,\n",
        "    * that the test statistic\n",
        "    * is equal to the value that was observed in the data\n",
        "    * or is even further in the direction of the alternative.\n",
        "* Also known as the observed significance level\n"
      ]
    },
    {
      "cell_type": "markdown",
      "id": "97d13e05-bf6a-4059-b648-ba7272fdee6a",
      "metadata": {
        "id": "97d13e05-bf6a-4059-b648-ba7272fdee6a"
      },
      "source": [
        "---"
      ]
    },
    {
      "cell_type": "markdown",
      "id": "a1c9ba91-631e-4f8d-8ca1-e4994f3fbbc6",
      "metadata": {
        "id": "a1c9ba91-631e-4f8d-8ca1-e4994f3fbbc6"
      },
      "source": [
        "### Demo: Calculating the P-value"
      ]
    },
    {
      "cell_type": "markdown",
      "id": "424dad65-40f9-4282-a607-58ad9597226b",
      "metadata": {
        "deletable": false,
        "editable": false,
        "id": "424dad65-40f9-4282-a607-58ad9597226b"
      },
      "source": [
        "Calculate the P-value using the distribution of simulated statistics."
      ]
    },
    {
      "cell_type": "code",
      "execution_count": null,
      "id": "5e4e00db-a5e0-4bc0-bf08-ff998d95c8f9",
      "metadata": {
        "tags": [],
        "id": "5e4e00db-a5e0-4bc0-bf08-ff998d95c8f9",
        "outputId": "60ebcbda-67e3-427d-9c21-b181819c0102"
      },
      "outputs": [
        {
          "data": {
            "text/html": [
              "<table border=\"1\" class=\"dataframe\">\n",
              "    <thead>\n",
              "        <tr>\n",
              "            <th>Random Sample Average</th>\n",
              "        </tr>\n",
              "    </thead>\n",
              "    <tbody>\n",
              "        <tr>\n",
              "            <td>16.8519              </td>\n",
              "        </tr>\n",
              "        <tr>\n",
              "            <td>16.2222              </td>\n",
              "        </tr>\n",
              "        <tr>\n",
              "            <td>16.0741              </td>\n",
              "        </tr>\n",
              "        <tr>\n",
              "            <td>15.6296              </td>\n",
              "        </tr>\n",
              "        <tr>\n",
              "            <td>16.7407              </td>\n",
              "        </tr>\n",
              "        <tr>\n",
              "            <td>14.5556              </td>\n",
              "        </tr>\n",
              "        <tr>\n",
              "            <td>14.8889              </td>\n",
              "        </tr>\n",
              "        <tr>\n",
              "            <td>15.2593              </td>\n",
              "        </tr>\n",
              "        <tr>\n",
              "            <td>16.037               </td>\n",
              "        </tr>\n",
              "        <tr>\n",
              "            <td>16.963               </td>\n",
              "        </tr>\n",
              "    </tbody>\n",
              "</table>\n",
              "<p>... (49990 rows omitted)</p>"
            ],
            "text/plain": [
              "Random Sample Average\n",
              "16.8519\n",
              "16.2222\n",
              "16.0741\n",
              "15.6296\n",
              "16.7407\n",
              "14.5556\n",
              "14.8889\n",
              "15.2593\n",
              "16.037\n",
              "16.963\n",
              "... (49990 rows omitted)"
            ]
          },
          "execution_count": 18,
          "metadata": {},
          "output_type": "execute_result"
        }
      ],
      "source": [
        "averages_tbl"
      ]
    },
    {
      "cell_type": "code",
      "execution_count": null,
      "id": "506b3632-dfe2-439f-ab03-e2612c3ad26e",
      "metadata": {
        "tags": [],
        "id": "506b3632-dfe2-439f-ab03-e2612c3ad26e",
        "outputId": "ba5f6b92-103c-4116-d098-ea80a6609725"
      },
      "outputs": [
        {
          "data": {
            "text/plain": [
              "13.666666666666666"
            ]
          },
          "execution_count": 19,
          "metadata": {},
          "output_type": "execute_result"
        }
      ],
      "source": [
        "observed_average"
      ]
    },
    {
      "cell_type": "code",
      "execution_count": null,
      "id": "124e3096-df6e-4a73-b1dd-34a8b8c68c7d",
      "metadata": {
        "tags": [],
        "id": "124e3096-df6e-4a73-b1dd-34a8b8c68c7d",
        "outputId": "0c4dbc20-4a6f-4ce1-f0df-bef74ff036a9"
      },
      "outputs": [
        {
          "data": {
            "text/plain": [
              "0.05738"
            ]
          },
          "execution_count": 20,
          "metadata": {},
          "output_type": "execute_result"
        }
      ],
      "source": [
        "p_value = np.count_nonzero(averages_tbl.column(0) <= observed_average) / averages_tbl.num_rows\n",
        "p_value"
      ]
    },
    {
      "cell_type": "markdown",
      "id": "17e65405-1706-4aae-9b85-8fa0466d92bb",
      "metadata": {
        "id": "17e65405-1706-4aae-9b85-8fa0466d92bb"
      },
      "source": [
        "---"
      ]
    },
    {
      "cell_type": "markdown",
      "id": "058683f8-37e4-4269-9821-68e288cd14e9",
      "metadata": {
        "id": "058683f8-37e4-4269-9821-68e288cd14e9"
      },
      "source": [
        "## How We’ve Tested Thus Far"
      ]
    },
    {
      "cell_type": "markdown",
      "id": "f52347b2-b527-4976-8256-46730275ce4c",
      "metadata": {
        "id": "f52347b2-b527-4976-8256-46730275ce4c"
      },
      "source": [
        "---"
      ]
    },
    {
      "cell_type": "markdown",
      "id": "b0a909f7-7950-4bd9-baa1-f252f9cbd1a9",
      "metadata": {
        "id": "b0a909f7-7950-4bd9-baa1-f252f9cbd1a9"
      },
      "source": [
        "### Hypothesis Testing Review"
      ]
    },
    {
      "cell_type": "markdown",
      "id": "50e0f438-e189-448c-ad87-95fadba37122",
      "metadata": {
        "id": "50e0f438-e189-448c-ad87-95fadba37122"
      },
      "source": [
        "* One Category (*ex: percent of flowers that are purple*)\n",
        "    * Test Statistic (1): `empirical_percentage`\n",
        "    * Test Statistic (2): `abs(empirical_percentage - null_percentage)`\n",
        "    * How to Simulate: sample_proportions(n, null_dist)\n",
        "* Multiple Categories (*ex: ethnicity distribution of jury panel*)\n",
        "    * Test Statistic: `tvd(empirical_dist, null_dist)`\n",
        "    * How to Simulate: `sample_proportions(n, null_dist)`\n",
        "* Numerical Data (*ex: scores in a lab section*)\n",
        "    * Test Statistic: `empirical_mean`\n",
        "    * How to Simulate: `population_data.sample(n, with_replacement=False)`"
      ]
    },
    {
      "cell_type": "markdown",
      "id": "0bc8df92-d720-4259-a8de-99dc97913d3e",
      "metadata": {
        "id": "0bc8df92-d720-4259-a8de-99dc97913d3e"
      },
      "source": [
        "---"
      ]
    },
    {
      "cell_type": "markdown",
      "id": "3ce994e7-2582-4e4c-a009-682434587842",
      "metadata": {
        "editable": true,
        "tags": [],
        "id": "3ce994e7-2582-4e4c-a009-682434587842"
      },
      "source": [
        "## Attribution"
      ]
    },
    {
      "cell_type": "markdown",
      "id": "c309ed67-9914-4cf1-a593-82fa1e255c14",
      "metadata": {
        "id": "c309ed67-9914-4cf1-a593-82fa1e255c14"
      },
      "source": [
        "This content is licensed under the <a href=\"https://creativecommons.org/licenses/by-nc-sa/4.0/\">Creative Commons Attribution-NonCommercial-ShareAlike 4.0 International License (CC BY-NC-SA 4.0)</a> and derived from the <a href=\"https://www.data8.org/\">Data 8: The Foundations of Data Science</a> offered by the University of California, Berkeley.\n",
        "\n",
        "<img src=\"./by-nc-sa.png\" width=100px>"
      ]
    }
  ],
  "metadata": {
    "kernelspec": {
      "display_name": "Python 3 (ipykernel)",
      "language": "python",
      "name": "python3"
    },
    "language_info": {
      "codemirror_mode": {
        "name": "ipython",
        "version": 3
      },
      "file_extension": ".py",
      "mimetype": "text/x-python",
      "name": "python",
      "nbconvert_exporter": "python",
      "pygments_lexer": "ipython3",
      "version": "3.11.9"
    },
    "otter": {
      "OK_FORMAT": true,
      "tests": {}
    },
    "colab": {
      "provenance": [],
      "include_colab_link": true
    }
  },
  "nbformat": 4,
  "nbformat_minor": 5
}