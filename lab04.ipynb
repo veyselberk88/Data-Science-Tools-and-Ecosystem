{
  "cells": [
    {
      "cell_type": "markdown",
      "metadata": {
        "id": "view-in-github",
        "colab_type": "text"
      },
      "source": [
        "<a href=\"https://colab.research.google.com/github/veyselberk88/Data-Science-Tools-and-Ecosystem/blob/main/lab04.ipynb\" target=\"_parent\"><img src=\"https://colab.research.google.com/assets/colab-badge.svg\" alt=\"Open In Colab\"/></a>"
      ]
    },
    {
      "cell_type": "code",
      "execution_count": null,
      "metadata": {
        "deletable": false,
        "editable": false,
        "id": "6LzT45C5LyIb"
      },
      "outputs": [],
      "source": [
        "# Initialize Otter\n",
        "import otter\n",
        "grader = otter.Notebook(\"lab04.ipynb\")"
      ]
    },
    {
      "cell_type": "markdown",
      "metadata": {
        "id": "CuSfYxSYLyId"
      },
      "source": [
        "<img src=\"./ccsf.png\" alt=\"CCSF Logo\" width=200px style=\"margin:0px -5px\">"
      ]
    },
    {
      "cell_type": "markdown",
      "metadata": {
        "tags": [],
        "id": "94fQW4jDLyIf"
      },
      "source": [
        "# Lab 04: Visualizations and Functions"
      ]
    },
    {
      "cell_type": "markdown",
      "metadata": {
        "id": "qfhoAu69LyIg"
      },
      "source": [
        "## References"
      ]
    },
    {
      "cell_type": "markdown",
      "metadata": {
        "id": "UGbKg5eKLyIg"
      },
      "source": [
        "* [Sections 7.0 - 7.3](https://ccsf-math-108.github.io/textbook/chapters/07/Visualization.html)\n",
        "* [Sections 8.0 - 8.1](https://ccsf-math-108.github.io/textbook/chapters/08/Functions_and_Tables.html)\n",
        "* [datascience Documentation](https://datascience.readthedocs.io/)\n",
        "* [Markdown Cheat Sheet](https://www.markdownguide.org/cheat-sheet/)"
      ]
    },
    {
      "cell_type": "markdown",
      "metadata": {
        "id": "5MACUy3qLyIh"
      },
      "source": [
        "---"
      ]
    },
    {
      "cell_type": "markdown",
      "metadata": {
        "id": "P74vAcaOLyIh"
      },
      "source": [
        "## Lab Assignment Reminders"
      ]
    },
    {
      "cell_type": "markdown",
      "metadata": {
        "id": "4N3lkHi5LyIh"
      },
      "source": [
        "- 🚨 Make sure to run the code cell at the top of this notebook that starts with `# Initialize Otter` to load the auto-grader.\n",
        "- Your tasks are categorized as auto-graded (📍) and manually graded (📍🔎):\n",
        "    - **For all auto-graded tasks:**\n",
        "        - Replace the `...` in the provided code cell with your own code.\n",
        "        - Run the `grader.check` code cell to execute tests on your code.\n",
        "        - There are no hidden auto-grader tests in the lab assignments. This means if you pass the tests, you can assume you've completed the task successfully.\n",
        "    - **For all manually graded tasks:**\n",
        "        - You may need to provide your own response to the provided prompt. Replace the template text \"_Type your answer here, replacing this text._\" with your own words.\n",
        "        - You might need to produce a graphic or another output using code. Replace the `...` in the code cell to generate the image, table, etc.\n",
        "        - In either case, check your response with a classmate, a tutor, or the instructor before moving on.\n",
        "- Throughout this assignment and all future ones, please **do not re-assign variables** throughout the notebook! _For example, if you use `max_temperature` in your answer to one question, do not reassign it later on. Otherwise, you may fail tests that you thought you were passing previously!_\n",
        "- You may [submit](#Submit-Your-Assignment-to-Canvas) this assignment as many times as you want before the deadline. Your instructor will score the last version you submit once the deadline has passed.\n",
        "- **Collaborating on labs is encouraged!** You should rarely remain stuck for more than a few minutes on questions in labs, so ask an instructor or classmate for help. (Explaining things is beneficial, too -- the best way to solidify your knowledge of a subject is to explain it.) However, please don't just share answers."
      ]
    },
    {
      "cell_type": "markdown",
      "metadata": {
        "id": "LZT17TAfLyIi"
      },
      "source": [
        "---"
      ]
    },
    {
      "cell_type": "markdown",
      "metadata": {
        "id": "rlC0HDfFLyIj"
      },
      "source": [
        "## Configure the Notebook"
      ]
    },
    {
      "cell_type": "markdown",
      "metadata": {
        "id": "o7aqqw8dLyIj"
      },
      "source": [
        "Run the following cell to configure this Notebook."
      ]
    },
    {
      "cell_type": "code",
      "execution_count": null,
      "metadata": {
        "id": "MIo8t0gOLyIk"
      },
      "outputs": [],
      "source": [
        "import numpy as np\n",
        "from datascience import *\n",
        "import matplotlib\n",
        "%matplotlib inline\n",
        "import matplotlib.pyplot as plt\n",
        "plt.style.use('fivethirtyeight')\n",
        "\n",
        "# Interactive Widgets\n",
        "from ipywidgets import interact, interactive, fixed, interact_manual\n",
        "import ipywidgets as widgets"
      ]
    },
    {
      "cell_type": "markdown",
      "metadata": {
        "id": "ZybZCLB0LyIl"
      },
      "source": [
        "---"
      ]
    },
    {
      "cell_type": "markdown",
      "metadata": {
        "id": "r-SYxh99LyIl"
      },
      "source": [
        "## Defining functions"
      ]
    },
    {
      "cell_type": "markdown",
      "metadata": {
        "id": "kz_zR8e6LyIl"
      },
      "source": [
        "Start this lab by learning how to create a very simple function that converts a proportion to a percentage by multiplying it by 100.  For example, the value of `to_percentage(.5)` should be the number 50 (no percent sign).\n",
        "\n",
        "A function definition has a few parts."
      ]
    },
    {
      "cell_type": "markdown",
      "metadata": {
        "id": "Bb5YfGz2LyIn"
      },
      "source": [
        "---"
      ]
    },
    {
      "cell_type": "markdown",
      "metadata": {
        "id": "LAL0PIO2LyIn"
      },
      "source": [
        "### `def`"
      ]
    },
    {
      "cell_type": "markdown",
      "metadata": {
        "id": "s6OZMS96LyIn"
      },
      "source": [
        "It always starts with `def` (short for **def**ine):\n",
        "\n",
        "``` python\n",
        "def\n",
        "```"
      ]
    },
    {
      "cell_type": "markdown",
      "metadata": {
        "id": "SQf6P6hGLyIn"
      },
      "source": [
        "---"
      ]
    },
    {
      "cell_type": "markdown",
      "metadata": {
        "id": "ihngi3SjLyIo"
      },
      "source": [
        "### Name"
      ]
    },
    {
      "cell_type": "markdown",
      "metadata": {
        "id": "6IEDkblzLyIo"
      },
      "source": [
        "Next comes the name of the function.  Like other names we've defined, it can't start with a number or contain spaces. Let's call our function `to_percentage`:\n",
        "\n",
        "``` python\n",
        "def to_percentage\n",
        "```"
      ]
    },
    {
      "cell_type": "markdown",
      "metadata": {
        "id": "_1HWeJgXLyIo"
      },
      "source": [
        "---"
      ]
    },
    {
      "cell_type": "markdown",
      "metadata": {
        "id": "BDcb3w1sLyKW"
      },
      "source": [
        "### Signature"
      ]
    },
    {
      "cell_type": "markdown",
      "metadata": {
        "id": "8k9Iy7njLyKX"
      },
      "source": [
        "Next comes something called the *signature* of the function.  This tells Python how many arguments your function should have, and what names you'll use to refer to those arguments in the function's code.  A function can have any number of arguments (including 0!).\n",
        "\n",
        "`to_percentage` should take one argument, and we'll call that argument `proportion` since it should be a proportion.\n",
        "\n",
        "``` python\n",
        "def to_percentage(proportion)\n",
        "```\n",
        "\n",
        "If we want our function to take more than one argument, we add a comma between each argument name. Note that if we had zero arguments, we'd still place the parentheses () after than name.\n",
        "\n",
        "We put a colon after the signature to tell Python it's over. If you're getting a syntax error after defining a function, check to make sure you remembered the colon!\n",
        "\n",
        "``` python\n",
        "def to_percentage(proportion):\n",
        "```"
      ]
    },
    {
      "cell_type": "markdown",
      "metadata": {
        "id": "JLc6n59rLyKX"
      },
      "source": [
        "---"
      ]
    },
    {
      "cell_type": "markdown",
      "metadata": {
        "id": "iHTS8MRpLyKX"
      },
      "source": [
        "### Documentation"
      ]
    },
    {
      "cell_type": "markdown",
      "metadata": {
        "id": "fnqTfFIdLyKX"
      },
      "source": [
        "Functions can do complicated things, so you should write an explanation of what your function does.  For small functions, this is less important, but it's a good habit to learn from the start.  Conventionally, Python functions are documented by writing an **indented** triple-quoted string:\n",
        "\n",
        "``` python\n",
        "def to_percentage(proportion):\n",
        "    \"\"\"Converts a proportion to a percentage.\"\"\"\n",
        "```"
      ]
    },
    {
      "cell_type": "markdown",
      "metadata": {
        "id": "VG6ZzlLCLyKY"
      },
      "source": [
        "---"
      ]
    },
    {
      "cell_type": "markdown",
      "metadata": {
        "id": "Igdo_aAMLyKY"
      },
      "source": [
        "### Body"
      ]
    },
    {
      "cell_type": "markdown",
      "metadata": {
        "id": "Rf4m6KkWLyKY"
      },
      "source": [
        "Now we start writing code that runs when the function is called.  This is called the *body* of the function and every line **must be indented with a tab or 4 spaces**.  Any lines that are *not* indented and left-aligned with the def statement is considered outside the function.\n",
        "\n",
        "Some notes about the body of the function:\n",
        "- We can write code that we would write anywhere else.  \n",
        "- We use the arguments defined in the function signature. We can do this because we assume that when we call the function, values are already assigned to those arguments.\n",
        "- We generally avoid referencing variables defined *outside* the function. If you would like to reference variables outside of the function, pass them through as arguments!\n",
        "\n",
        "\n",
        "Now, let's give a name to the number we multiply a proportion by to get a percentage:\n",
        "\n",
        "``` python\n",
        "def to_percentage(proportion):\n",
        "    \"\"\"Converts a proportion to a percentage.\"\"\"\n",
        "    factor = 100\n",
        "```"
      ]
    },
    {
      "cell_type": "markdown",
      "metadata": {
        "id": "1Qih4z0mLyKY"
      },
      "source": [
        "---"
      ]
    },
    {
      "cell_type": "markdown",
      "metadata": {
        "id": "wBujKPulLyKZ"
      },
      "source": [
        "### `return`"
      ]
    },
    {
      "cell_type": "markdown",
      "metadata": {
        "id": "s1KLFYkuLyKZ"
      },
      "source": [
        "The special instruction `return` is part of the function's body and tells Python to make the value of the function call equal to whatever comes right after `return`.  We want the value of `to_percentage(.5)` to be the proportion .5 times the factor 100, so we write:\n",
        "\n",
        "``` python\n",
        "def to_percentage(proportion):\n",
        "    \"\"\"Converts a proportion to a percentage.\"\"\"\n",
        "    factor = 100\n",
        "    return proportion * factor\n",
        "```\n",
        "        \n",
        "`return` only makes sense in the context of a function, and **can never be used outside of a function**. If present, `return` is always the last line of the function because Python stops executing the body of a function once it hits a `return` statement.\n",
        "\n",
        "*Note:*  `return` inside a function tells Python what value the function evaluates to. However, there are other functions, like `print`, that have no `return` value. For example, `print` simply prints a certain value out to the console.\n",
        "\n",
        "`return` and `print` are **very** different."
      ]
    },
    {
      "cell_type": "markdown",
      "metadata": {
        "id": "m2XF5IDlLyKZ"
      },
      "source": [
        "---"
      ]
    },
    {
      "cell_type": "markdown",
      "metadata": {
        "id": "IzECOpwRLyKZ"
      },
      "source": [
        "### Task 01 📍"
      ]
    },
    {
      "cell_type": "markdown",
      "metadata": {
        "deletable": false,
        "editable": false,
        "id": "CbJjqk-8LyKa"
      },
      "source": [
        "1. Define `to_percentage` in the cell below.\n",
        "2. Call your function to convert the proportion 0.2 to a percentage and name the output `twenty_percent`.\n"
      ]
    },
    {
      "cell_type": "code",
      "execution_count": null,
      "metadata": {
        "tags": [],
        "id": "GV-eSzngLyKa",
        "outputId": "326c57bf-0045-46b3-ad7e-867ae183c87e"
      },
      "outputs": [
        {
          "data": {
            "text/plain": [
              "20.0"
            ]
          },
          "execution_count": 33,
          "metadata": {},
          "output_type": "execute_result"
        }
      ],
      "source": [
        "def to_percentage(proportion):\n",
        "\n",
        "    factor = 100\n",
        "    return proportion * factor\n",
        "    \"\"\"\"\n",
        "    Converts a proportion to a percentage.\n",
        "\n",
        "    >>> to_percentage(0.25)\n",
        "    25.0\n",
        "    \"\"\"\n",
        "\n",
        "\n",
        "twenty_percent = to_percentage(0.2)\n",
        "twenty_percent\n"
      ]
    },
    {
      "cell_type": "code",
      "execution_count": null,
      "metadata": {
        "deletable": false,
        "editable": false,
        "id": "7Ma0btUzLyKb",
        "outputId": "18b7c9e0-e0e6-4788-e658-92c3bed9e09f"
      },
      "outputs": [
        {
          "data": {
            "text/html": [
              "<p><strong><pre style='display: inline;'>task_01</pre></strong> passed! ✨</p><p><strong><pre style='display: inline;'>task_01 - 1</pre> message:</strong> ✅ It seems like your function is working!</p>"
            ],
            "text/plain": [
              "task_01 results: All test cases passed!\n",
              "task_01 - 1 message: ✅ It seems like your function is working!"
            ]
          },
          "execution_count": 34,
          "metadata": {},
          "output_type": "execute_result"
        }
      ],
      "source": [
        "grader.check(\"task_01\")"
      ]
    },
    {
      "cell_type": "markdown",
      "metadata": {
        "id": "9aMJ8g3ZLyKb"
      },
      "source": [
        "Like you’ve done with built-in functions in previous labs (max, abs, etc.), you can pass in named values as arguments to your function."
      ]
    },
    {
      "cell_type": "markdown",
      "metadata": {
        "id": "xN7swHU0LyKl"
      },
      "source": [
        "---"
      ]
    },
    {
      "cell_type": "markdown",
      "metadata": {
        "id": "08knHu3HLyKl"
      },
      "source": [
        "### Task 02 📍"
      ]
    },
    {
      "cell_type": "markdown",
      "metadata": {
        "deletable": false,
        "editable": false,
        "id": "AT6N-CNjLyKl"
      },
      "source": [
        "Use `to_percentage` again to convert the proportion named `a_proportion` (defined below) to a percentage called `a_percentage`.\n",
        "\n",
        "*Note:* You don't need to define `to_percentage` again!  Like other named values, functions stick around after you define them.\n"
      ]
    },
    {
      "cell_type": "code",
      "execution_count": null,
      "metadata": {
        "tags": [],
        "id": "TDqVxda6LyKm",
        "outputId": "03013e7b-5edd-40b0-f4f7-25030d340e7f"
      },
      "outputs": [
        {
          "data": {
            "text/plain": [
              "70.71067811865476"
            ]
          },
          "execution_count": 35,
          "metadata": {},
          "output_type": "execute_result"
        }
      ],
      "source": [
        "a_proportion = 2 ** (0.5) / 2\n",
        "a_percentage = to_percentage (a_proportion)\n",
        "a_percentage"
      ]
    },
    {
      "cell_type": "code",
      "execution_count": null,
      "metadata": {
        "deletable": false,
        "editable": false,
        "id": "i3Ogf0JbLyKm",
        "outputId": "b93b8190-db81-4ef8-826c-837ea34cc5ff"
      },
      "outputs": [
        {
          "data": {
            "text/html": [
              "<p><strong><pre style='display: inline;'>task_02</pre></strong> passed! 🌈</p><p><strong><pre style='display: inline;'>task_02 - 1</pre> message:</strong> ✅ Great work calling the function on the value named a_proportion.</p>"
            ],
            "text/plain": [
              "task_02 results: All test cases passed!\n",
              "task_02 - 1 message: ✅ Great work calling the function on the value named a_proportion."
            ]
          },
          "execution_count": 36,
          "metadata": {},
          "output_type": "execute_result"
        }
      ],
      "source": [
        "grader.check(\"task_02\")"
      ]
    },
    {
      "cell_type": "markdown",
      "metadata": {
        "id": "sZTgYwXQLyKm"
      },
      "source": [
        "Here's something important about functions: the names assigned *within* a function body are only accessible within the function body. Once the function has returned, those names are gone.  So even if you created a variable called `factor` and defined `factor = 100` inside of the body of the `to_percentage` function and then called `to_percentage`, `factor` would not have a value assigned to it outside of the body of `to_percentage`."
      ]
    },
    {
      "cell_type": "markdown",
      "metadata": {
        "id": "CAn3MciqLyKn"
      },
      "source": [
        "As we've seen with built-in functions, functions can also take strings (or arrays, or tables) as arguments, and they can return those things, too."
      ]
    },
    {
      "cell_type": "markdown",
      "metadata": {
        "id": "60HFM2kpLyKn"
      },
      "source": [
        "---"
      ]
    },
    {
      "cell_type": "markdown",
      "metadata": {
        "id": "J5TbMYMkLyKn"
      },
      "source": [
        "### Task 03 📍"
      ]
    },
    {
      "cell_type": "markdown",
      "metadata": {
        "deletable": false,
        "editable": false,
        "id": "YBm_Nm8FLyKo"
      },
      "source": [
        "Define a function called `disemvowel`.  It should take a single string as its argument.  (You can call that argument whatever you want.)  It should return a copy of that string, but with all the characters that are vowels removed.  (In English, the vowels are the characters \"a\", \"e\", \"i\", \"o\", and \"u\".) You can use as many lines inside of the function to do this as you’d like.\n",
        "\n",
        "*Hint:* To remove all the \"a\"s from a string, you can use `that_string.replace(\"a\", \"\")`.  The `.replace` method for strings returns a new string, so you can call `replace` multiple times, one after the other.\n"
      ]
    },
    {
      "cell_type": "code",
      "execution_count": null,
      "metadata": {
        "tags": [],
        "id": "mw-pWxvtLyKo",
        "outputId": "677981b7-53b6-4fd3-c714-d04abb60c841"
      },
      "outputs": [
        {
          "data": {
            "text/plain": [
              "'Cn y rd ths wtht vwls?'"
            ]
          },
          "execution_count": 37,
          "metadata": {},
          "output_type": "execute_result"
        }
      ],
      "source": [
        "def disemvowel(a_string):\n",
        "    without_vowels=a_string.replace(\"a\",\"\").replace(\"e\",\"\").replace(\"i\",\"\").replace(\"o\",\"\").replace(\"u\",\"\")\n",
        "    return without_vowels\n",
        "    \"\"\"\n",
        "    Removes all vowels from a string.\n",
        "\n",
        "    >>> disemvowel('datascience')\n",
        "    'dtscnc'\n",
        "    \"\"\"\n",
        "    ...\n",
        "\n",
        "\n",
        "# Checking to see if your function works for an example string.\n",
        "disemvowel(\"Can you read this without vowels?\")"
      ]
    },
    {
      "cell_type": "code",
      "execution_count": null,
      "metadata": {
        "deletable": false,
        "editable": false,
        "id": "yM2ISvHdLyKo",
        "outputId": "9fe65c48-5e58-4699-a8fd-e0e590137a91"
      },
      "outputs": [
        {
          "data": {
            "text/html": [
              "<p><strong><pre style='display: inline;'>task_03</pre></strong> passed! 🚀</p><p><strong><pre style='display: inline;'>task_03 - 1</pre> message:</strong> ✅ It looks like disemvowel is working correctly.</p>"
            ],
            "text/plain": [
              "task_03 results: All test cases passed!\n",
              "task_03 - 1 message: ✅ It looks like disemvowel is working correctly."
            ]
          },
          "execution_count": 38,
          "metadata": {},
          "output_type": "execute_result"
        }
      ],
      "source": [
        "grader.check(\"task_03\")"
      ]
    },
    {
      "cell_type": "markdown",
      "metadata": {
        "id": "3zOW93HiLyKp"
      },
      "source": [
        "---"
      ]
    },
    {
      "cell_type": "markdown",
      "metadata": {
        "id": "uT3YPLi5LyKp"
      },
      "source": [
        "### Calls on calls on calls"
      ]
    },
    {
      "cell_type": "markdown",
      "metadata": {
        "id": "U8sL1AGjLyKp"
      },
      "source": [
        "Just as you can write a series of lines to build up a complex computation, it is useful to define a series of small functions that build on each other. Since you can write any code inside the body of a function, you can call other functions previously defined there.\n",
        "\n",
        "If we think of a function as a recipe, defining a function in terms of other functions is like having a recipe for cake that calls on another recipe to make the frosting, and another to make the jam filling. This makes the cake recipe shorter and clearer, and it avoids having a bunch of duplicated frosting recipes. It's a foundation of productive programming.\n",
        "\n",
        "For example, suppose you want to count the number of characters that are not vowels in a piece of text. One way to do this is to remove all of the vowels and find the length of the remaining string."
      ]
    },
    {
      "cell_type": "markdown",
      "metadata": {
        "id": "2aFdfdkkLyKp"
      },
      "source": [
        "---"
      ]
    },
    {
      "cell_type": "markdown",
      "metadata": {
        "id": "7x7XklopLyKq"
      },
      "source": [
        "### Task 04 📍"
      ]
    },
    {
      "cell_type": "markdown",
      "metadata": {
        "deletable": false,
        "editable": false,
        "id": "NaU7Gr-4LyKq"
      },
      "source": [
        "Write a function called `num_nonvowels`.  It should take a string as its argument and return a number.  That number should be the number of characters in the argument string that aren't vowels. You should use the `disemvowel` function you wrote above inside of the `num_nonvowels` function.\n",
        "\n",
        "*Hint:* The function `len` takes a string as its argument and returns the number of characters in it.\n"
      ]
    },
    {
      "cell_type": "code",
      "execution_count": null,
      "metadata": {
        "tags": [],
        "id": "x1k6zxjQLyKq",
        "outputId": "f548caa1-f266-476d-ef35-0afba025ba3c"
      },
      "outputs": [
        {
          "data": {
            "text/plain": [
              "6"
            ]
          },
          "execution_count": 39,
          "metadata": {},
          "output_type": "execute_result"
        }
      ],
      "source": [
        "def num_nonvowels(a_string):\n",
        "    without_vowels=a_string.replace(\"a\",\"\").replace(\"e\",\"\").replace(\"i\",\"\").replace(\"o\",\"\").replace(\"u\",\"\").replace(\" \",\"\")\n",
        "    lenght=len(without_vowels)\n",
        "    return lenght\n",
        "\n",
        "\n",
        "    \"\"\"\n",
        "    The number of characters in a string, minus the vowels.\n",
        "\n",
        "    >>> num_nonvowels('datascience')\n",
        "\n",
        "    6\n",
        "    \"\"\"\n",
        "    ...\n",
        "\n",
        "# Try running an example function call of num_nonvowels below to test out your code.\n",
        "num_nonvowels('datascience')"
      ]
    },
    {
      "cell_type": "code",
      "execution_count": null,
      "metadata": {
        "deletable": false,
        "editable": false,
        "id": "JhoBklnqLyKr",
        "outputId": "a51e2b31-51f8-4a7c-919b-888f53edc75a"
      },
      "outputs": [
        {
          "data": {
            "text/html": [
              "<p><strong><pre style='display: inline;'>task_04</pre></strong> passed! ✨</p><p><strong><pre style='display: inline;'>task_04 - 1</pre> message:</strong> ✅ It seems like your function num_nonvowels is working correctly!</p>"
            ],
            "text/plain": [
              "task_04 results: All test cases passed!\n",
              "task_04 - 1 message: ✅ It seems like your function num_nonvowels is working correctly!"
            ]
          },
          "execution_count": 40,
          "metadata": {},
          "output_type": "execute_result"
        }
      ],
      "source": [
        "grader.check(\"task_04\")"
      ]
    },
    {
      "cell_type": "markdown",
      "metadata": {
        "id": "TEryvSpDLyKr"
      },
      "source": [
        "Functions can also encapsulate code that *displays output* instead of computing a value. For example, if you call `print` inside a function, and then call that function, something will get printed."
      ]
    },
    {
      "cell_type": "markdown",
      "metadata": {
        "id": "3z02Mjg5LyKr"
      },
      "source": [
        "---"
      ]
    },
    {
      "cell_type": "markdown",
      "metadata": {
        "id": "r6cYQmp0LyKs"
      },
      "source": [
        "## Functions and CEO Incomes"
      ]
    },
    {
      "cell_type": "markdown",
      "metadata": {
        "id": "RdIrz16OLyKs"
      },
      "source": [
        "In this question, we'll look at the 2015 compensation of CEOs at the 100 largest companies in California. The data was compiled from a [Los Angeles Times analysis](http://spreadsheets.latimes.com/california-ceo-compensation/), and ultimately came from [filings](https://www.sec.gov/answers/proxyhtf.htm) mandated by the SEC from all publicly-traded companies. Two companies have two CEOs, so there are 102 CEOs in the dataset.\n",
        "\n",
        "We've copied the raw data from the LA Times page into a file called `raw_compensation.csv`. (The page notes that all dollar amounts are in **millions of dollars**.)"
      ]
    },
    {
      "cell_type": "code",
      "execution_count": null,
      "metadata": {
        "tags": [],
        "id": "9OsK7On8LyKs",
        "outputId": "5ef8e2df-eeeb-4ef9-a9f8-a543c2c5669b"
      },
      "outputs": [
        {
          "data": {
            "text/html": [
              "<table border=\"1\" class=\"dataframe\">\n",
              "    <thead>\n",
              "        <tr>\n",
              "            <th>Rank</th> <th>Name</th> <th>Company (Headquarters)</th> <th>Total Pay</th> <th>% Change</th> <th>Cash Pay</th> <th>Equity Pay</th> <th>Other Pay</th> <th>Ratio of CEO pay to average industry worker pay</th>\n",
              "        </tr>\n",
              "    </thead>\n",
              "    <tbody>\n",
              "        <tr>\n",
              "            <td>1   </td> <td>Mark V. Hurd*     </td> <td>Oracle (Redwood City)         </td> <td>$53.25   </td> <td>(No previous year)</td> <td>$0.95   </td> <td>$52.27    </td> <td>$0.02    </td> <td>362                                            </td>\n",
              "        </tr>\n",
              "        <tr>\n",
              "            <td>2   </td> <td>Safra A. Catz*    </td> <td>Oracle (Redwood City)         </td> <td>$53.24   </td> <td>(No previous year)</td> <td>$0.95   </td> <td>$52.27    </td> <td>$0.02    </td> <td>362                                            </td>\n",
              "        </tr>\n",
              "        <tr>\n",
              "            <td>3   </td> <td>Robert A. Iger    </td> <td>Walt Disney (Burbank)         </td> <td>$44.91   </td> <td>-3%               </td> <td>$24.89  </td> <td>$17.28    </td> <td>$2.74    </td> <td>477                                            </td>\n",
              "        </tr>\n",
              "        <tr>\n",
              "            <td>4   </td> <td>Marissa A. Mayer  </td> <td>Yahoo! (Sunnyvale)            </td> <td>$35.98   </td> <td>-15%              </td> <td>$1.00   </td> <td>$34.43    </td> <td>$0.55    </td> <td>342                                            </td>\n",
              "        </tr>\n",
              "        <tr>\n",
              "            <td>5   </td> <td>Marc Benioff      </td> <td>salesforce.com (San Francisco)</td> <td>$33.36   </td> <td>-16%              </td> <td>$4.65   </td> <td>$27.26    </td> <td>$1.45    </td> <td>338                                            </td>\n",
              "        </tr>\n",
              "        <tr>\n",
              "            <td>6   </td> <td>John H. Hammergren</td> <td>McKesson (San Francisco)      </td> <td>$24.84   </td> <td>-4%               </td> <td>$12.10  </td> <td>$12.37    </td> <td>$0.37    </td> <td>222                                            </td>\n",
              "        </tr>\n",
              "        <tr>\n",
              "            <td>7   </td> <td>John S. Watson    </td> <td>Chevron (San Ramon)           </td> <td>$22.04   </td> <td>-15%              </td> <td>$4.31   </td> <td>$14.68    </td> <td>$3.05    </td> <td>183                                            </td>\n",
              "        </tr>\n",
              "        <tr>\n",
              "            <td>8   </td> <td>Jeffrey Weiner    </td> <td>LinkedIn (Mountain View)      </td> <td>$19.86   </td> <td>27%               </td> <td>$2.47   </td> <td>$17.26    </td> <td>$0.13    </td> <td>182                                            </td>\n",
              "        </tr>\n",
              "        <tr>\n",
              "            <td>9   </td> <td>John T. Chambers**</td> <td>Cisco Systems (San Jose)      </td> <td>$19.62   </td> <td>19%               </td> <td>$5.10   </td> <td>$14.51    </td> <td>$0.01    </td> <td>170                                            </td>\n",
              "        </tr>\n",
              "        <tr>\n",
              "            <td>10  </td> <td>John G. Stumpf    </td> <td>Wells Fargo  (San Francisco)  </td> <td>$19.32   </td> <td>-10%              </td> <td>$6.80   </td> <td>$12.50    </td> <td>$0.02    </td> <td>256                                            </td>\n",
              "        </tr>\n",
              "    </tbody>\n",
              "</table>\n",
              "<p>... (92 rows omitted)</p>"
            ],
            "text/plain": [
              "Rank | Name               | Company (Headquarters)         | Total Pay | % Change           | Cash Pay | Equity Pay | Other Pay | Ratio of CEO pay to average industry worker pay\n",
              "1    | Mark V. Hurd*      | Oracle (Redwood City)          | $53.25    | (No previous year) | $0.95    | $52.27     | $0.02     | 362\n",
              "2    | Safra A. Catz*     | Oracle (Redwood City)          | $53.24    | (No previous year) | $0.95    | $52.27     | $0.02     | 362\n",
              "3    | Robert A. Iger     | Walt Disney (Burbank)          | $44.91    | -3%                | $24.89   | $17.28     | $2.74     | 477\n",
              "4    | Marissa A. Mayer   | Yahoo! (Sunnyvale)             | $35.98    | -15%               | $1.00    | $34.43     | $0.55     | 342\n",
              "5    | Marc Benioff       | salesforce.com (San Francisco) | $33.36    | -16%               | $4.65    | $27.26     | $1.45     | 338\n",
              "6    | John H. Hammergren | McKesson (San Francisco)       | $24.84    | -4%                | $12.10   | $12.37     | $0.37     | 222\n",
              "7    | John S. Watson     | Chevron (San Ramon)            | $22.04    | -15%               | $4.31    | $14.68     | $3.05     | 183\n",
              "8    | Jeffrey Weiner     | LinkedIn (Mountain View)       | $19.86    | 27%                | $2.47    | $17.26     | $0.13     | 182\n",
              "9    | John T. Chambers** | Cisco Systems (San Jose)       | $19.62    | 19%                | $5.10    | $14.51     | $0.01     | 170\n",
              "10   | John G. Stumpf     | Wells Fargo  (San Francisco)   | $19.32    | -10%               | $6.80    | $12.50     | $0.02     | 256\n",
              "... (92 rows omitted)"
            ]
          },
          "execution_count": 41,
          "metadata": {},
          "output_type": "execute_result"
        }
      ],
      "source": [
        "raw_compensation = Table.read_table('raw_compensation.csv')\n",
        "raw_compensation"
      ]
    },
    {
      "cell_type": "markdown",
      "metadata": {
        "id": "0YYB2TDxLyKs"
      },
      "source": [
        "Computing the average of the CEOs' pay might seem like a simple task, but there are some issues with this data that make that task a bit challenging. View the error produced from the following code:"
      ]
    },
    {
      "cell_type": "markdown",
      "metadata": {
        "id": "w8rvAaQ7LyKt"
      },
      "source": [
        "<img src=\"./totalpay_error.png\" alt=\"The UFuncTypeError the occurs from running np.average(raw_compensation.column('Total Pay'))\">"
      ]
    },
    {
      "cell_type": "markdown",
      "metadata": {
        "id": "gEvWrLQtLyKt"
      },
      "source": [
        "Let's examine why this error occurred by looking at the values in the `\"Total Pay\"` column. The first value in the `\"Total Pay\"` column is Mark Hurd's pay in 2015, in *millions* of dollars. Look at that value by running the following code cell:"
      ]
    },
    {
      "cell_type": "code",
      "execution_count": null,
      "metadata": {
        "id": "ZEIG-rf0LyKt",
        "outputId": "e874f94e-380d-4fc1-dfaf-beb90d1bc2cf"
      },
      "outputs": [
        {
          "data": {
            "text/plain": [
              "'$53.25 '"
            ]
          },
          "execution_count": 42,
          "metadata": {},
          "output_type": "execute_result"
        }
      ],
      "source": [
        "mark_hurd_pay_string = raw_compensation.column(\"Total Pay\").item(0)\n",
        "mark_hurd_pay_string"
      ]
    },
    {
      "cell_type": "markdown",
      "metadata": {
        "id": "fphtXilJLyKu"
      },
      "source": [
        "You should see quotation marks! Run the following code cell to check the datatype of the information in the `\"Total Pay\"` column."
      ]
    },
    {
      "cell_type": "code",
      "execution_count": null,
      "metadata": {
        "id": "vlGR72pvLyKu",
        "outputId": "5d256cf0-f7b9-41dc-ac34-bc5e49f8af7c"
      },
      "outputs": [
        {
          "data": {
            "text/plain": [
              "str"
            ]
          },
          "execution_count": 43,
          "metadata": {},
          "output_type": "execute_result"
        }
      ],
      "source": [
        "type(mark_hurd_pay_string)"
      ]
    },
    {
      "cell_type": "markdown",
      "metadata": {
        "id": "jaZhEZAlLyKu"
      },
      "source": [
        "The data is actually stored in the table as a string. It doesn't make sense to take the average of string values, so we need to convert them to numbers if we want to do this. Also, let's make sure the value is in dollars, not millions of dollars. How can you do all of that that? Here is a guide:\n",
        "\n",
        "- The string method `strip` will be useful for removing the dollar sign; it removes a specified character from the start or end of a string.  For example, the value of `\"100%\".strip(\"%\")` is the string `\"100\"`.  \n",
        "- You'll also need the function `float`, which converts a string that looks like a number to an actual number.  \n",
        "- Multiplying the result by `10**6` will convert millions of dollars to dollars.\n",
        "\n",
        "Run the following cell to put those steps in one command:"
      ]
    },
    {
      "cell_type": "code",
      "execution_count": null,
      "metadata": {
        "id": "UOGOWr0BLyKu",
        "outputId": "159393d5-c86d-4afe-ef7c-bea1fa3254d6"
      },
      "outputs": [
        {
          "data": {
            "text/plain": [
              "53250000.0"
            ]
          },
          "execution_count": 44,
          "metadata": {},
          "output_type": "execute_result"
        }
      ],
      "source": [
        "mark_hurd_pay = 10**6 * float(mark_hurd_pay_string.strip(\"$\")) # SOLUTION\n",
        "mark_hurd_pay"
      ]
    },
    {
      "cell_type": "markdown",
      "metadata": {
        "id": "E0CWaHXeLyKv"
      },
      "source": [
        "To compute the average pay, we need to do this for every CEO.  But that looks like it would involve copying this code 102 times.\n",
        "\n",
        "This is where functions come in.  First, we'll define a new function, giving a name to the expression that converts \"total pay\" strings to numeric values.  Later in this lab, we'll see the payoff: we can call that function on every pay string in the dataset at once."
      ]
    },
    {
      "cell_type": "markdown",
      "metadata": {
        "id": "VOuhDDaeLyKv"
      },
      "source": [
        "---"
      ]
    },
    {
      "cell_type": "markdown",
      "metadata": {
        "id": "tXYeF7zyLyKv"
      },
      "source": [
        "### Task 05 📍"
      ]
    },
    {
      "cell_type": "markdown",
      "metadata": {
        "deletable": false,
        "editable": false,
        "id": "nZLwM3BKLyKv"
      },
      "source": [
        "Complete the following function that should take in a `pay_string` value that is a `str` and expressed in millions of dollars and return the converted pay string value in dollars as a `float`. Use the expression above (`10**6 * float(mark_hurd_pay_string.strip(\"$\"))`) that we used to convert `mark_hurd_pay` in the body of the function template we've provided, but make sure you replace the specific `mark_hurd_pay_string` with the generic `pay_string` name specified in the first line in the `def` statement.\n",
        "\n",
        "*Hint*: When dealing with functions, you should generally not be referencing any variable outside of the function. Usually, you want to be working with the arguments that are passed into it, such as `pay_string` for this function. If you're using `mark_hurd_pay_string` within your function, you're referencing an outside variable!\n"
      ]
    },
    {
      "cell_type": "code",
      "execution_count": null,
      "metadata": {
        "tags": [],
        "id": "EUw4fWTuLyKw"
      },
      "outputs": [],
      "source": [
        "def convert_pay_string_to_number(pay_string):\n",
        "\n",
        "\n",
        "    \"\"\"\n",
        "    Converts a pay string like '$100' (in millions) to a number of\n",
        "    dollars.\n",
        "\n",
        "    >>> convert_pay_string_to_number(\"$100 \")\n",
        "    100000000.0\n",
        "    \"\"\"\n",
        "    convert_pay_string=(10**6 * float(pay_string.strip(\"$\")))\n",
        "    return convert_pay_string\n"
      ]
    },
    {
      "cell_type": "code",
      "execution_count": null,
      "metadata": {
        "deletable": false,
        "editable": false,
        "id": "X5q_7JdQLyKw",
        "outputId": "7d19c23a-e687-432c-adc5-0a308c5a2f25"
      },
      "outputs": [
        {
          "data": {
            "text/html": [
              "<p><strong><pre style='display: inline;'>task_05</pre></strong> passed! 🚀</p><p><strong><pre style='display: inline;'>task_05 - 1</pre> message:</strong> ✅ It looks like your function convert_pay_string_to_number is working with the input '$100 '.</p><p><strong><pre style='display: inline;'>task_05 - 2</pre> message:</strong> ✅ It looks like your function convert_pay_string_to_number is working with the input '$23 '.</p>"
            ],
            "text/plain": [
              "task_05 results: All test cases passed!\n",
              "task_05 - 1 message: ✅ It looks like your function convert_pay_string_to_number is working with the input '$100 '.\n",
              "task_05 - 2 message: ✅ It looks like your function convert_pay_string_to_number is working with the input '$23 '."
            ]
          },
          "execution_count": 46,
          "metadata": {},
          "output_type": "execute_result"
        }
      ],
      "source": [
        "grader.check(\"task_05\")"
      ]
    },
    {
      "cell_type": "markdown",
      "metadata": {
        "id": "FhSeGgh_LyKw"
      },
      "source": [
        "Running that cell doesn't convert any particular pay string. Instead, it creates a function called `convert_pay_string_to_number` that can convert *any* string with the right format to a number representing millions of dollars.\n",
        "\n",
        "We can call our function just like we call the built-in functions we've seen. It takes one argument -- a string -- and it returns a float."
      ]
    },
    {
      "cell_type": "code",
      "execution_count": null,
      "metadata": {
        "id": "AJzUUIaJLyKx",
        "outputId": "6fff1dde-b33d-42fc-93d1-e92f39b78d2f"
      },
      "outputs": [
        {
          "data": {
            "text/plain": [
              "42000000.0"
            ]
          },
          "execution_count": 47,
          "metadata": {},
          "output_type": "execute_result"
        }
      ],
      "source": [
        "convert_pay_string_to_number('$42')"
      ]
    },
    {
      "cell_type": "code",
      "execution_count": null,
      "metadata": {
        "id": "cY2QXRY5LyKx",
        "outputId": "100d7919-3e68-413c-8911-0595b19a3560"
      },
      "outputs": [
        {
          "data": {
            "text/plain": [
              "53250000.0"
            ]
          },
          "execution_count": 48,
          "metadata": {},
          "output_type": "execute_result"
        }
      ],
      "source": [
        "convert_pay_string_to_number(mark_hurd_pay_string)"
      ]
    },
    {
      "cell_type": "markdown",
      "metadata": {
        "id": "gOqHAAVKLyKx"
      },
      "source": [
        "We can also compute Safra Catz's pay in the same way. Run the following cell to see the results."
      ]
    },
    {
      "cell_type": "code",
      "execution_count": null,
      "metadata": {
        "id": "Mp7tnWJXLyKx",
        "outputId": "619d96bc-5caa-4a1c-b773-9d7db9884d0c"
      },
      "outputs": [
        {
          "data": {
            "text/plain": [
              "53240000.0"
            ]
          },
          "execution_count": 49,
          "metadata": {},
          "output_type": "execute_result"
        }
      ],
      "source": [
        "convert_pay_string_to_number(raw_compensation.where(\"Name\", are.containing(\"Safra\")).column(\"Total Pay\").item(0))"
      ]
    },
    {
      "cell_type": "markdown",
      "metadata": {
        "id": "qrydMrZ3LyKy"
      },
      "source": [
        "So, what have we gained by defining the `convert_pay_string_to_number` function?\n",
        "Well, without it, we'd have to copy the code `10**6 * float(some_pay_string.strip(\"$\"))` each time we wanted to convert a pay string.  Now we just call a function whose name says exactly what it's doing."
      ]
    },
    {
      "cell_type": "markdown",
      "metadata": {
        "id": "zyOs7q7gLyKy"
      },
      "source": [
        "---"
      ]
    },
    {
      "cell_type": "markdown",
      "metadata": {
        "id": "AQnAu24bLyKy"
      },
      "source": [
        "## `apply`ing functions"
      ]
    },
    {
      "cell_type": "markdown",
      "metadata": {
        "id": "GIdnboAJLyKy"
      },
      "source": [
        "The `apply` is used to call a function many times; once on each element in a column of a table. It produces an array of the function's outputs. Below we use `apply` to convert every CEO's pay (as a string) to a number (dollars), using the function `convert_pay_string_to_number` defined above."
      ]
    },
    {
      "cell_type": "code",
      "execution_count": null,
      "metadata": {
        "id": "lvoRGXQELyKz",
        "outputId": "045e5b11-95c6-4554-dc54-43c9dd709cde"
      },
      "outputs": [
        {
          "data": {
            "text/plain": [
              "array([  5.32500000e+07,   5.32400000e+07,   4.49100000e+07,\n",
              "         3.59800000e+07,   3.33600000e+07,   2.48400000e+07,\n",
              "         2.20400000e+07,   1.98600000e+07,   1.96200000e+07,\n",
              "         1.93200000e+07,   1.87600000e+07,   1.86100000e+07,\n",
              "         1.83600000e+07,   1.80900000e+07,   1.71000000e+07,\n",
              "         1.66300000e+07,   1.63300000e+07,   1.61400000e+07,\n",
              "         1.61000000e+07,   1.60200000e+07,   1.51000000e+07,\n",
              "         1.49800000e+07,   1.46300000e+07,   1.45100000e+07,\n",
              "         1.44400000e+07,   1.43600000e+07,   1.43100000e+07,\n",
              "         1.40900000e+07,   1.40000000e+07,   1.36700000e+07,\n",
              "         1.23400000e+07,   1.22000000e+07,   1.21800000e+07,\n",
              "         1.21300000e+07,   1.20500000e+07,   1.18400000e+07,\n",
              "         1.17100000e+07,   1.16300000e+07,   1.11600000e+07,\n",
              "         1.11100000e+07,   1.11100000e+07,   1.07300000e+07,\n",
              "         1.05000000e+07,   1.04300000e+07,   1.03700000e+07,\n",
              "         1.02800000e+07,   1.02700000e+07,   1.01800000e+07,\n",
              "         1.01600000e+07,   9.97000000e+06,   9.96000000e+06,\n",
              "         9.86000000e+06,   9.74000000e+06,   9.42000000e+06,\n",
              "         9.39000000e+06,   9.22000000e+06,   9.06000000e+06,\n",
              "         9.03000000e+06,   8.86000000e+06,   8.76000000e+06,\n",
              "         8.57000000e+06,   8.38000000e+06,   8.36000000e+06,\n",
              "         8.35000000e+06,   8.23000000e+06,   7.86000000e+06,\n",
              "         7.70000000e+06,   7.58000000e+06,   7.51000000e+06,\n",
              "         7.23000000e+06,   7.21000000e+06,   7.12000000e+06,\n",
              "         6.88000000e+06,   6.77000000e+06,   6.64000000e+06,\n",
              "         6.56000000e+06,   6.14000000e+06,   5.92000000e+06,\n",
              "         5.90000000e+06,   5.89000000e+06,   5.73000000e+06,\n",
              "         5.42000000e+06,   5.04000000e+06,   4.92000000e+06,\n",
              "         4.92000000e+06,   4.47000000e+06,   4.25000000e+06,\n",
              "         4.08000000e+06,   3.93000000e+06,   3.72000000e+06,\n",
              "         2.88000000e+06,   2.83000000e+06,   2.82000000e+06,\n",
              "         2.45000000e+06,   1.79000000e+06,   1.68000000e+06,\n",
              "         1.53000000e+06,   9.40000000e+05,   8.10000000e+05,\n",
              "         7.00000000e+04,   4.00000000e+04,   0.00000000e+00])"
            ]
          },
          "execution_count": 50,
          "metadata": {},
          "output_type": "execute_result"
        }
      ],
      "source": [
        "raw_compensation.apply(convert_pay_string_to_number, \"Total Pay\")"
      ]
    },
    {
      "cell_type": "markdown",
      "metadata": {
        "id": "xRj6zNqlLyKz"
      },
      "source": [
        "Here's an illustration of what that did:\n",
        "\n",
        "<img src=\"./apply.png\" width=80% alt=\"The transformation done to the strings to convert them to float values using the apply table method.\"/>"
      ]
    },
    {
      "cell_type": "markdown",
      "metadata": {
        "id": "GgCm6ZN9LyKz"
      },
      "source": [
        "#### Caution Using `apply`"
      ]
    },
    {
      "cell_type": "markdown",
      "metadata": {
        "id": "ErvuJPU8LyK0"
      },
      "source": [
        "Notice that we passed the **name** of the function `convert_pay_string_to_number` as an argument to the `apply` table method. Giving `apply` the name of the function and the column(s) of the table that contain the relevant data to apply the function to is all that is needed. We didn't call the function using parentheses. For example, if you incorrectly typed `raw_compensation.apply(convert_pay_string_to_number(), \"Total Pay\")` or `raw_compensation.apply(convert_pay_string_to_number(\"Total Pay\"))`, then you'll get the following `SyntaxError` message:\n",
        "\n",
        "<img src=\"./apply_errors.png\" width=60% alt=\"SyntaxError message that occurs when providing a function call as an argument for the apply table method.\">"
      ]
    },
    {
      "cell_type": "markdown",
      "metadata": {
        "id": "a-pCP4fgLyK0"
      },
      "source": [
        "---"
      ]
    },
    {
      "cell_type": "markdown",
      "metadata": {
        "id": "wL6AiVCZLyK0"
      },
      "source": [
        "### `compensation` Table"
      ]
    },
    {
      "cell_type": "markdown",
      "metadata": {
        "id": "uN56bCRzLyK0"
      },
      "source": [
        "### Task 06 📍"
      ]
    },
    {
      "cell_type": "markdown",
      "metadata": {
        "deletable": false,
        "editable": false,
        "id": "NKdAEHujLyK0"
      },
      "source": [
        "Using `apply`, make a table that's a copy of `raw_compensation` with one additional column called `Total Pay ($)`.  That column should contain the result of applying `convert_pay_string_to_number` to the `Total Pay` column (as we did above).  Call the new table `compensation`.\n"
      ]
    },
    {
      "cell_type": "code",
      "execution_count": null,
      "metadata": {
        "tags": [],
        "id": "RjG1bQ_hLyK1",
        "outputId": "5cc62978-02e7-48f1-f2ab-55b6cb559e7b"
      },
      "outputs": [
        {
          "data": {
            "text/html": [
              "<table border=\"1\" class=\"dataframe\">\n",
              "    <thead>\n",
              "        <tr>\n",
              "            <th>Rank</th> <th>Name</th> <th>Company (Headquarters)</th> <th>Total Pay</th> <th>% Change</th> <th>Cash Pay</th> <th>Equity Pay</th> <th>Other Pay</th> <th>Ratio of CEO pay to average industry worker pay</th> <th>Total Pay ($)</th>\n",
              "        </tr>\n",
              "    </thead>\n",
              "    <tbody>\n",
              "        <tr>\n",
              "            <td>1   </td> <td>Mark V. Hurd*     </td> <td>Oracle (Redwood City)         </td> <td>$53.25   </td> <td>(No previous year)</td> <td>$0.95   </td> <td>$52.27    </td> <td>$0.02    </td> <td>362                                            </td> <td>5.325e+07    </td>\n",
              "        </tr>\n",
              "        <tr>\n",
              "            <td>2   </td> <td>Safra A. Catz*    </td> <td>Oracle (Redwood City)         </td> <td>$53.24   </td> <td>(No previous year)</td> <td>$0.95   </td> <td>$52.27    </td> <td>$0.02    </td> <td>362                                            </td> <td>5.324e+07    </td>\n",
              "        </tr>\n",
              "        <tr>\n",
              "            <td>3   </td> <td>Robert A. Iger    </td> <td>Walt Disney (Burbank)         </td> <td>$44.91   </td> <td>-3%               </td> <td>$24.89  </td> <td>$17.28    </td> <td>$2.74    </td> <td>477                                            </td> <td>4.491e+07    </td>\n",
              "        </tr>\n",
              "        <tr>\n",
              "            <td>4   </td> <td>Marissa A. Mayer  </td> <td>Yahoo! (Sunnyvale)            </td> <td>$35.98   </td> <td>-15%              </td> <td>$1.00   </td> <td>$34.43    </td> <td>$0.55    </td> <td>342                                            </td> <td>3.598e+07    </td>\n",
              "        </tr>\n",
              "        <tr>\n",
              "            <td>5   </td> <td>Marc Benioff      </td> <td>salesforce.com (San Francisco)</td> <td>$33.36   </td> <td>-16%              </td> <td>$4.65   </td> <td>$27.26    </td> <td>$1.45    </td> <td>338                                            </td> <td>3.336e+07    </td>\n",
              "        </tr>\n",
              "        <tr>\n",
              "            <td>6   </td> <td>John H. Hammergren</td> <td>McKesson (San Francisco)      </td> <td>$24.84   </td> <td>-4%               </td> <td>$12.10  </td> <td>$12.37    </td> <td>$0.37    </td> <td>222                                            </td> <td>2.484e+07    </td>\n",
              "        </tr>\n",
              "        <tr>\n",
              "            <td>7   </td> <td>John S. Watson    </td> <td>Chevron (San Ramon)           </td> <td>$22.04   </td> <td>-15%              </td> <td>$4.31   </td> <td>$14.68    </td> <td>$3.05    </td> <td>183                                            </td> <td>2.204e+07    </td>\n",
              "        </tr>\n",
              "        <tr>\n",
              "            <td>8   </td> <td>Jeffrey Weiner    </td> <td>LinkedIn (Mountain View)      </td> <td>$19.86   </td> <td>27%               </td> <td>$2.47   </td> <td>$17.26    </td> <td>$0.13    </td> <td>182                                            </td> <td>1.986e+07    </td>\n",
              "        </tr>\n",
              "        <tr>\n",
              "            <td>9   </td> <td>John T. Chambers**</td> <td>Cisco Systems (San Jose)      </td> <td>$19.62   </td> <td>19%               </td> <td>$5.10   </td> <td>$14.51    </td> <td>$0.01    </td> <td>170                                            </td> <td>1.962e+07    </td>\n",
              "        </tr>\n",
              "        <tr>\n",
              "            <td>10  </td> <td>John G. Stumpf    </td> <td>Wells Fargo  (San Francisco)  </td> <td>$19.32   </td> <td>-10%              </td> <td>$6.80   </td> <td>$12.50    </td> <td>$0.02    </td> <td>256                                            </td> <td>1.932e+07    </td>\n",
              "        </tr>\n",
              "    </tbody>\n",
              "</table>\n",
              "<p>... (92 rows omitted)</p>"
            ],
            "text/plain": [
              "Rank | Name               | Company (Headquarters)         | Total Pay | % Change           | Cash Pay | Equity Pay | Other Pay | Ratio of CEO pay to average industry worker pay | Total Pay ($)\n",
              "1    | Mark V. Hurd*      | Oracle (Redwood City)          | $53.25    | (No previous year) | $0.95    | $52.27     | $0.02     | 362                                             | 5.325e+07\n",
              "2    | Safra A. Catz*     | Oracle (Redwood City)          | $53.24    | (No previous year) | $0.95    | $52.27     | $0.02     | 362                                             | 5.324e+07\n",
              "3    | Robert A. Iger     | Walt Disney (Burbank)          | $44.91    | -3%                | $24.89   | $17.28     | $2.74     | 477                                             | 4.491e+07\n",
              "4    | Marissa A. Mayer   | Yahoo! (Sunnyvale)             | $35.98    | -15%               | $1.00    | $34.43     | $0.55     | 342                                             | 3.598e+07\n",
              "5    | Marc Benioff       | salesforce.com (San Francisco) | $33.36    | -16%               | $4.65    | $27.26     | $1.45     | 338                                             | 3.336e+07\n",
              "6    | John H. Hammergren | McKesson (San Francisco)       | $24.84    | -4%                | $12.10   | $12.37     | $0.37     | 222                                             | 2.484e+07\n",
              "7    | John S. Watson     | Chevron (San Ramon)            | $22.04    | -15%               | $4.31    | $14.68     | $3.05     | 183                                             | 2.204e+07\n",
              "8    | Jeffrey Weiner     | LinkedIn (Mountain View)       | $19.86    | 27%                | $2.47    | $17.26     | $0.13     | 182                                             | 1.986e+07\n",
              "9    | John T. Chambers** | Cisco Systems (San Jose)       | $19.62    | 19%                | $5.10    | $14.51     | $0.01     | 170                                             | 1.962e+07\n",
              "10   | John G. Stumpf     | Wells Fargo  (San Francisco)   | $19.32    | -10%               | $6.80    | $12.50     | $0.02     | 256                                             | 1.932e+07\n",
              "... (92 rows omitted)"
            ]
          },
          "execution_count": 51,
          "metadata": {},
          "output_type": "execute_result"
        }
      ],
      "source": [
        "new_column=raw_compensation.apply(convert_pay_string_to_number, \"Total Pay\")\n",
        "compensation = raw_compensation.with_column('Total Pay ($)',new_column)\n",
        "    #\"Total Pay ($)\",\n",
        "    #...\n",
        "\n",
        "compensation"
      ]
    },
    {
      "cell_type": "code",
      "execution_count": null,
      "metadata": {
        "deletable": false,
        "editable": false,
        "id": "9cmxWjdnLyK1",
        "outputId": "0396c190-ef7e-4235-b6c4-0125bf737454"
      },
      "outputs": [
        {
          "data": {
            "text/html": [
              "<p><strong><pre style='display: inline;'>task_06</pre></strong> passed! 🌟</p><p><strong><pre style='display: inline;'>task_06 - 1</pre> message:</strong> ✅ It looks like you created a column labeled Total Pay ($)</p><p><strong><pre style='display: inline;'>task_06 - 2</pre> message:</strong> ✅ We checked a value in the table and it looks correct!</p>"
            ],
            "text/plain": [
              "task_06 results: All test cases passed!\n",
              "task_06 - 1 message: ✅ It looks like you created a column labeled Total Pay ($)\n",
              "task_06 - 2 message: ✅ We checked a value in the table and it looks correct!"
            ]
          },
          "execution_count": 52,
          "metadata": {},
          "output_type": "execute_result"
        }
      ],
      "source": [
        "grader.check(\"task_06\")"
      ]
    },
    {
      "cell_type": "markdown",
      "metadata": {
        "id": "egmVdSqGLyK1"
      },
      "source": [
        "Now that we have all the pays expressed as numbers, we can finally calculate the average CEO pay from earlier."
      ]
    },
    {
      "cell_type": "markdown",
      "metadata": {
        "id": "8PzaQPioLyK2"
      },
      "source": [
        "---"
      ]
    },
    {
      "cell_type": "markdown",
      "metadata": {
        "id": "brExAu-cLyK2"
      },
      "source": [
        "### Task 07 📍"
      ]
    },
    {
      "cell_type": "markdown",
      "metadata": {
        "deletable": false,
        "editable": false,
        "id": "rlzNtdy4LyK2"
      },
      "source": [
        "Compute the average total pay of the CEOs in the dataset."
      ]
    },
    {
      "cell_type": "code",
      "execution_count": null,
      "metadata": {
        "tags": [],
        "id": "EZACLqDALyK2",
        "outputId": "8c867414-f23e-45fe-d6d5-217f0138074f"
      },
      "outputs": [
        {
          "data": {
            "text/plain": [
              "11445294.117647059"
            ]
          },
          "execution_count": 53,
          "metadata": {},
          "output_type": "execute_result"
        }
      ],
      "source": [
        "average_total_pay =np.average( compensation.column('Total Pay ($)'))\n",
        "average_total_pay"
      ]
    },
    {
      "cell_type": "code",
      "execution_count": null,
      "metadata": {
        "deletable": false,
        "editable": false,
        "id": "WLc8ss5xLyK3",
        "outputId": "9b6d9bbb-6629-4f3c-957c-975ad93a481f"
      },
      "outputs": [
        {
          "data": {
            "text/html": [
              "<p><strong><pre style='display: inline;'>task_07</pre></strong> passed! 🚀</p><p><strong><pre style='display: inline;'>task_07 - 1</pre> message:</strong> ✅ Great work!</p>"
            ],
            "text/plain": [
              "task_07 results: All test cases passed!\n",
              "task_07 - 1 message: ✅ Great work!"
            ]
          },
          "execution_count": 54,
          "metadata": {},
          "output_type": "execute_result"
        }
      ],
      "source": [
        "grader.check(\"task_07\")"
      ]
    },
    {
      "cell_type": "markdown",
      "metadata": {
        "id": "n6xDYzZALyK3"
      },
      "source": [
        "---"
      ]
    },
    {
      "cell_type": "markdown",
      "metadata": {
        "for_assignment_type": "solution",
        "id": "ECd5WWFqLyK3"
      },
      "source": [
        "### Why is `apply` useful?"
      ]
    },
    {
      "cell_type": "markdown",
      "metadata": {
        "id": "TK3iYfAPLyK3"
      },
      "source": [
        "For operations like arithmetic, or the functions in the NumPy library, you don't need to use `apply`, because they automatically work on each element of an array.  But there are many things that don't.  The string manipulation we did in today's lab is one example.  Since you can write any code you want in a function, `apply` gives you total control over how you operate on data."
      ]
    },
    {
      "cell_type": "markdown",
      "metadata": {
        "id": "BUS7lXJsLyK4"
      },
      "source": [
        "---"
      ]
    },
    {
      "cell_type": "markdown",
      "metadata": {
        "id": "Gd-FRhf_LyK4"
      },
      "source": [
        "## Visualizations and Attributes"
      ]
    },
    {
      "cell_type": "markdown",
      "metadata": {
        "id": "G-L4kgKbLyK4"
      },
      "source": [
        "Visualizing data is an essential step in gaining insights from the vast and complex datasets that permeate our modern world. There exists a myriad of techniques and tools to transform raw data into comprehensible, meaningful representations. Among these techniques, a set of standard visualizations has emerged as go-to options, each with its unique strengths and applications. The choice of which standard visualization to employ hinges on various factors, a key factor among them being the attribute type of the data under investigation. It's important to note that this attribute type may not always align with the data type in which information is stored, making the selection of an appropriate visualization an artful and pivotal decision in the data analysis process."
      ]
    },
    {
      "cell_type": "markdown",
      "metadata": {
        "id": "MMEO0JfFLyK4"
      },
      "source": [
        "To streamline our understanding of attribute types for data visualization, we can simplify them into two broad categories: **numerical** and **categorical**.\n",
        "* Numerical attributes encompass data that consists of continuous or discrete numeric values. These attributes are typically quantitative and can be operated on mathematically. Examples of numerical attributes include variables like age, temperature, or income.\n",
        "* Categorical attributes deal with data that fall into distinct categories or labels. They represent qualitative information where mathematical operations typically do not have clear meanings. Examples of categorical attributes include gender (male, female, nonbinary), color (red, blue, green), or product categories (electronics, clothing, food).\n",
        "\n",
        "By classifying attributes into these two fundamental types, we can better tailor our choice of visualization methods to the nature of the data, allowing us to extract more valuable insights from it."
      ]
    },
    {
      "cell_type": "markdown",
      "metadata": {
        "id": "E2E9k8pDLyK5"
      },
      "source": [
        "---"
      ]
    },
    {
      "cell_type": "markdown",
      "metadata": {
        "id": "RonEj4BdLyK5"
      },
      "source": [
        "### Numbers for Categories"
      ]
    },
    {
      "cell_type": "markdown",
      "metadata": {
        "id": "wP1F2Xl1LyK5"
      },
      "source": [
        "Just because an attribute has values that are numbers, does not mean you should treat the attribute as numerical. Postal codes are numbers. However, the attribute type for postal codes is categorical rather than numerical. Postal codes represent specific geographical regions and are not meant for mathematical operations like addition or subtraction. For example, `90210` (Beverly Hills) and `10001` (Manhattan) are categorical values representing different locations. Choosing an appropriate visualization method for postal codes would involve treating them categorically, not numerically, despite their data type."
      ]
    },
    {
      "cell_type": "markdown",
      "metadata": {
        "id": "bBQW2g_PLyK5"
      },
      "source": [
        "---"
      ]
    },
    {
      "cell_type": "markdown",
      "metadata": {
        "tags": [],
        "id": "f-SGMLKDLyK6"
      },
      "source": [
        "### Task 08 📍"
      ]
    },
    {
      "cell_type": "markdown",
      "metadata": {
        "deletable": false,
        "editable": false,
        "id": "KnI5GUTRLyK6"
      },
      "source": [
        "Which of the following attributes are categorical in nature? Assign `categorical_attributes` to an array with the numbers for the variables that represent categorical attributes.\n",
        "\n",
        "1. Height in centimeters\n",
        "2. Eye color (e.g., blue, brown, green)\n",
        "3. Temperature in degrees Celsius\n",
        "4. Years of education completed\n",
        "5. Vehicle make and model (e.g., Toyota Camry)\n",
        "6. Employee identification number\n",
        "7. Blood type (e.g., A, B, AB, O)\n",
        "8. Stock prices\n",
        "9. Time of day (e.g., morning, afternoon, evening)\n",
        "10. Mobile phone number"
      ]
    },
    {
      "cell_type": "code",
      "execution_count": null,
      "metadata": {
        "tags": [],
        "id": "xdyAeYAULyK6",
        "outputId": "7ffda2b1-b1bf-4588-9c93-b282c87a8622"
      },
      "outputs": [
        {
          "data": {
            "text/plain": [
              "array([ 2,  5,  6,  7,  9, 10])"
            ]
          },
          "execution_count": 57,
          "metadata": {},
          "output_type": "execute_result"
        }
      ],
      "source": [
        "categorical_attributes =make_array(2,5,6,7,9,10)\n",
        "categorical_attributes"
      ]
    },
    {
      "cell_type": "code",
      "execution_count": null,
      "metadata": {
        "deletable": false,
        "editable": false,
        "id": "8016rVEyLyK7",
        "outputId": "2dbf0277-1930-4030-ddde-e39a4c9e0832"
      },
      "outputs": [
        {
          "data": {
            "text/html": [
              "<p><strong><pre style='display: inline;'>task_08</pre></strong> passed! 🌈</p><p><strong><pre style='display: inline;'>task_08 - 1</pre> message:</strong> ✅ categorical_attributes is an array.</p><p><strong><pre style='display: inline;'>task_08 - 2</pre> message:</strong> ✅ categorical_attributes contains numbers 1 - 10.</p><p><strong><pre style='display: inline;'>task_08 - 3</pre> message:</strong> ✅ Great work on identifying all of the categorical attributes!</p>"
            ],
            "text/plain": [
              "task_08 results: All test cases passed!\n",
              "task_08 - 1 message: ✅ categorical_attributes is an array.\n",
              "task_08 - 2 message: ✅ categorical_attributes contains numbers 1 - 10.\n",
              "task_08 - 3 message: ✅ Great work on identifying all of the categorical attributes!"
            ]
          },
          "execution_count": 58,
          "metadata": {},
          "output_type": "execute_result"
        }
      ],
      "source": [
        "grader.check(\"task_08\")"
      ]
    },
    {
      "cell_type": "markdown",
      "metadata": {
        "id": "NAmg_KlRLyK7"
      },
      "source": [
        "---"
      ]
    },
    {
      "cell_type": "markdown",
      "metadata": {
        "id": "HsXB_l8JLyK7"
      },
      "source": [
        "## Bar Charts"
      ]
    },
    {
      "cell_type": "markdown",
      "metadata": {
        "id": "PfF1AIIzLyK7"
      },
      "source": [
        "When it comes to visualizing categorical data, one of the most effective tools is a bar chart. Bar charts display frequencies or proportions of each of the categories using bars of different lengths (or heights).\n",
        "\n",
        "In Python, you can create bar charts easily using libraries like `matplotlib` or `datascience`. Specifically, the `datascience` library provides the `bar` and `barh` table methods, which simplify the process of generating bar charts. The `bar` method is used for vertical bar charts, while the `barh` method is employed for horizontal bar charts."
      ]
    },
    {
      "cell_type": "markdown",
      "metadata": {
        "id": "OawJKyU4LyK7"
      },
      "source": [
        "Run the following code cell to create the table `car_inventory`."
      ]
    },
    {
      "cell_type": "code",
      "execution_count": null,
      "metadata": {
        "id": "eCy0kaPVLyK8",
        "outputId": "bd37aa3b-9dba-4b90-b610-5dd22b4637f5"
      },
      "outputs": [
        {
          "data": {
            "text/html": [
              "<table border=\"1\" class=\"dataframe\">\n",
              "    <thead>\n",
              "        <tr>\n",
              "            <th>Car Type</th> <th>Count</th>\n",
              "        </tr>\n",
              "    </thead>\n",
              "    <tbody>\n",
              "        <tr>\n",
              "            <td>Sedan    </td> <td>25   </td>\n",
              "        </tr>\n",
              "        <tr>\n",
              "            <td>SUV      </td> <td>15   </td>\n",
              "        </tr>\n",
              "        <tr>\n",
              "            <td>Truck    </td> <td>12   </td>\n",
              "        </tr>\n",
              "        <tr>\n",
              "            <td>Hatchback</td> <td>8    </td>\n",
              "        </tr>\n",
              "    </tbody>\n",
              "</table>"
            ],
            "text/plain": [
              "Car Type  | Count\n",
              "Sedan     | 25\n",
              "SUV       | 15\n",
              "Truck     | 12\n",
              "Hatchback | 8"
            ]
          },
          "execution_count": 59,
          "metadata": {},
          "output_type": "execute_result"
        }
      ],
      "source": [
        "car_inventory = Table().with_columns(\n",
        "    'Car Type', ['Sedan', 'SUV', 'Truck', 'Hatchback'],\n",
        "    'Count', [25, 15, 12, 8]\n",
        ")\n",
        "car_inventory"
      ]
    },
    {
      "cell_type": "markdown",
      "metadata": {
        "id": "Toir6JWzLyK8"
      },
      "source": [
        "Using the `barh` table method, you can create a horizontal bar chart to visualize the distribution of car types in `car_inventory`.\n",
        "\n",
        "Run the following code cell to generate the bar chart."
      ]
    },
    {
      "cell_type": "code",
      "execution_count": null,
      "metadata": {
        "id": "WSSHG594LyK8",
        "outputId": "10823a3d-85d2-435a-b00e-2b8f9a32fa69"
      },
      "outputs": [
        {
          "data": {
            "image/png": "[encoded data removed]",
            "text/plain": [
              "<Figure size 600x400 with 1 Axes>"
            ]
          },
          "metadata": {},
          "output_type": "display_data"
        }
      ],
      "source": [
        "car_inventory.barh('Car Type', 'Count')\n",
        "\n",
        "# Optional Customization\n",
        "plt.title('Distribution of Car Types')\n",
        "plt.show()"
      ]
    },
    {
      "cell_type": "markdown",
      "metadata": {
        "id": "t5lwY7mqLyK9"
      },
      "source": [
        "This visualization tool is invaluable for allowing us to quickly see the distribution and comparison of the various categories in a categorical dataset."
      ]
    },
    {
      "cell_type": "markdown",
      "metadata": {
        "id": "bx8QebtRLyK9"
      },
      "source": [
        "The `barh` method takes a few arguments, but the first two are the most important.\n",
        "\n",
        "* The first argument, `column_for_categories`, specifies the column in the table to be used for the categorical values in the bar chart. In the example above, `column_for_categories='Car Type'`.\n",
        "\n",
        "* The second argument, `select`, specifies which column in the table will be used to determine the length of the bars. If you don't specify this argument, it will use all the columns it can to create multiple bar charts. In the example above, `select='Count'`.\n",
        "\n",
        "There are other arguments that you can experiment with, but you will typically just need to work with these two."
      ]
    },
    {
      "cell_type": "markdown",
      "metadata": {
        "id": "Wdu20ZVlLyK9"
      },
      "source": [
        "### Using `group`"
      ]
    },
    {
      "cell_type": "markdown",
      "metadata": {
        "id": "XBwHbbrZLyK-"
      },
      "source": [
        "It is common for data to be stored in a way such that each line of the data represents one observation, so as an analyst, you usually need to create a table like `car_inventory` that has summary information. One tool to help with this creation is the `group` table method.\n",
        "\n",
        "`tbl.group(col_name)` creates a new table from `tbl`, where each row corresponds to a unique value from the specified column. By default, the `group` function also adds a column to the new table that shows the count of occurrences for each unique value in `tbl`.\n",
        "\n",
        "For example, the following table `customers` shows purchases for various customers where each line shows a single transaction."
      ]
    },
    {
      "cell_type": "code",
      "execution_count": null,
      "metadata": {
        "id": "g1pZfcclLyK-",
        "outputId": "cf3ba068-bdec-4751-87d5-6c917f858467"
      },
      "outputs": [
        {
          "data": {
            "text/html": [
              "<table border=\"1\" class=\"dataframe\">\n",
              "    <thead>\n",
              "        <tr>\n",
              "            <th>Customer ID</th> <th>Purchase</th> <th>Amount ($)</th>\n",
              "        </tr>\n",
              "    </thead>\n",
              "    <tbody>\n",
              "        <tr>\n",
              "            <td>101        </td> <td>Laptop    </td> <td>1200      </td>\n",
              "        </tr>\n",
              "        <tr>\n",
              "            <td>102        </td> <td>Phone     </td> <td>800       </td>\n",
              "        </tr>\n",
              "        <tr>\n",
              "            <td>101        </td> <td>Tablet    </td> <td>400       </td>\n",
              "        </tr>\n",
              "        <tr>\n",
              "            <td>104        </td> <td>Laptop    </td> <td>1300      </td>\n",
              "        </tr>\n",
              "        <tr>\n",
              "            <td>105        </td> <td>Phone     </td> <td>850       </td>\n",
              "        </tr>\n",
              "        <tr>\n",
              "            <td>106        </td> <td>Tablet    </td> <td>420       </td>\n",
              "        </tr>\n",
              "        <tr>\n",
              "            <td>107        </td> <td>Headphones</td> <td>150       </td>\n",
              "        </tr>\n",
              "        <tr>\n",
              "            <td>108        </td> <td>Laptop    </td> <td>1100      </td>\n",
              "        </tr>\n",
              "        <tr>\n",
              "            <td>109        </td> <td>Phone     </td> <td>900       </td>\n",
              "        </tr>\n",
              "        <tr>\n",
              "            <td>110        </td> <td>Headphones</td> <td>200       </td>\n",
              "        </tr>\n",
              "    </tbody>\n",
              "</table>\n",
              "<p>... (5 rows omitted)</p>"
            ],
            "text/plain": [
              "Customer ID | Purchase   | Amount ($)\n",
              "101         | Laptop     | 1200\n",
              "102         | Phone      | 800\n",
              "101         | Tablet     | 400\n",
              "104         | Laptop     | 1300\n",
              "105         | Phone      | 850\n",
              "106         | Tablet     | 420\n",
              "107         | Headphones | 150\n",
              "108         | Laptop     | 1100\n",
              "109         | Phone      | 900\n",
              "110         | Headphones | 200\n",
              "... (5 rows omitted)"
            ]
          },
          "execution_count": 63,
          "metadata": {},
          "output_type": "execute_result"
        }
      ],
      "source": [
        "customers = Table().with_columns(\n",
        "    'Customer ID', [101, 102, 101, 104, 105, 106, 107,\n",
        "                    108, 109, 110, 101, 105, 109, 106, 102],\n",
        "    'Purchase', ['Laptop', 'Phone', 'Tablet', 'Laptop',\n",
        "                 'Phone', 'Tablet', 'Headphones', 'Laptop',\n",
        "                 'Phone', 'Headphones', 'Phone', 'Laptop',\n",
        "                 'Tablet', 'Laptop', 'Headphones'],\n",
        "    'Amount ($)', [1200, 800, 400, 1300, 850, 420, 150,\n",
        "                   1100, 900, 200, 700, 1250, 450, 1150, 180]\n",
        ")\n",
        "customers"
      ]
    },
    {
      "cell_type": "markdown",
      "metadata": {
        "id": "NCsxqiQ7LyK-"
      },
      "source": [
        "Customer 101 has made three purchases. Using `group` and `sort`, it becomes easier to see this. Run the following cell to see the grouped table."
      ]
    },
    {
      "cell_type": "code",
      "execution_count": null,
      "metadata": {
        "id": "GlqnKdAkLyK-",
        "outputId": "d0d3a5ce-a30f-4505-97b7-10d0bf96c247"
      },
      "outputs": [
        {
          "data": {
            "text/html": [
              "<table border=\"1\" class=\"dataframe\">\n",
              "    <thead>\n",
              "        <tr>\n",
              "            <th>Customer ID</th> <th>count</th>\n",
              "        </tr>\n",
              "    </thead>\n",
              "    <tbody>\n",
              "        <tr>\n",
              "            <td>101        </td> <td>3    </td>\n",
              "        </tr>\n",
              "        <tr>\n",
              "            <td>102        </td> <td>2    </td>\n",
              "        </tr>\n",
              "        <tr>\n",
              "            <td>105        </td> <td>2    </td>\n",
              "        </tr>\n",
              "        <tr>\n",
              "            <td>106        </td> <td>2    </td>\n",
              "        </tr>\n",
              "        <tr>\n",
              "            <td>109        </td> <td>2    </td>\n",
              "        </tr>\n",
              "        <tr>\n",
              "            <td>104        </td> <td>1    </td>\n",
              "        </tr>\n",
              "        <tr>\n",
              "            <td>107        </td> <td>1    </td>\n",
              "        </tr>\n",
              "        <tr>\n",
              "            <td>108        </td> <td>1    </td>\n",
              "        </tr>\n",
              "        <tr>\n",
              "            <td>110        </td> <td>1    </td>\n",
              "        </tr>\n",
              "    </tbody>\n",
              "</table>"
            ],
            "text/plain": [
              "Customer ID | count\n",
              "101         | 3\n",
              "102         | 2\n",
              "105         | 2\n",
              "106         | 2\n",
              "109         | 2\n",
              "104         | 1\n",
              "107         | 1\n",
              "108         | 1\n",
              "110         | 1"
            ]
          },
          "execution_count": 64,
          "metadata": {},
          "output_type": "execute_result"
        }
      ],
      "source": [
        "customers_by_ID = customers.group('Customer ID').sort('count', True)\n",
        "customers_by_ID"
      ]
    },
    {
      "cell_type": "markdown",
      "metadata": {
        "id": "xjgCuAddLyK_"
      },
      "source": [
        "With the data organized in this way, you can visualize the customer purchase counts. Run the following code cell to see the results."
      ]
    },
    {
      "cell_type": "code",
      "execution_count": null,
      "metadata": {
        "id": "q1BBgzpcLyK_",
        "outputId": "b4839284-03ae-4bd1-887c-4ccaa7ec6c9f"
      },
      "outputs": [
        {
          "data": {
            "image/png": "[encoded data removed]",
            "text/plain": [
              "<Figure size 600x450 with 1 Axes>"
            ]
          },
          "metadata": {},
          "output_type": "display_data"
        }
      ],
      "source": [
        "customers_by_ID.barh('Customer ID')\n",
        "\n",
        "plt.title('Customer Purchase Counts')\n",
        "plt.show()"
      ]
    },
    {
      "cell_type": "markdown",
      "metadata": {
        "id": "4BlNJZwWLyK_"
      },
      "source": [
        "---"
      ]
    },
    {
      "cell_type": "markdown",
      "metadata": {
        "id": "YxrVGqXJLyK_"
      },
      "source": [
        "---"
      ]
    },
    {
      "cell_type": "markdown",
      "metadata": {
        "id": "F2qvNrZWLyLA"
      },
      "source": [
        "### `movies_by_year` Table"
      ]
    },
    {
      "cell_type": "markdown",
      "metadata": {
        "id": "R0nPXJ1GLyLA"
      },
      "source": [
        "The `top_movies_1995_2022.csv` dataset has information about movie sales in recent years. Run the following cell to load that data as the Table `movies_by_year`."
      ]
    },
    {
      "cell_type": "code",
      "execution_count": null,
      "metadata": {
        "id": "WXEiM_y8LyLA",
        "outputId": "84a488aa-0bb2-4d70-c04b-92f2f0be9838"
      },
      "outputs": [
        {
          "data": {
            "text/html": [
              "<table border=\"1\" class=\"dataframe\">\n",
              "    <thead>\n",
              "        <tr>\n",
              "            <th>Year</th> <th>Movie</th> <th>MPAA\n",
              "Rating</th> <th>Distributor</th> <th>Total Gross</th> <th>Total Gross (Adjusted)</th> <th>Tickets Sold</th>\n",
              "        </tr>\n",
              "    </thead>\n",
              "    <tbody>\n",
              "        <tr>\n",
              "            <td>1995</td> <td>Batman Forever                       </td> <td>PG-13      </td> <td>Warner Bros.      </td> <td>18403111200</td> <td>38794603800           </td> <td>4230600200  </td>\n",
              "        </tr>\n",
              "        <tr>\n",
              "            <td>1996</td> <td>Independence Day                     </td> <td>PG-13      </td> <td>20th Century Fox  </td> <td>30616925500</td> <td>63519729900           </td> <td>6926906200  </td>\n",
              "        </tr>\n",
              "        <tr>\n",
              "            <td>1997</td> <td>Men in Black                         </td> <td>PG-13      </td> <td>Sony Pictures     </td> <td>25065005200</td> <td>50075402100           </td> <td>5460785400  </td>\n",
              "        </tr>\n",
              "        <tr>\n",
              "            <td>1998</td> <td>Titanic                              </td> <td>PG-13      </td> <td>Paramount Pictures</td> <td>44331908100</td> <td>86678805100           </td> <td>9452432400  </td>\n",
              "        </tr>\n",
              "        <tr>\n",
              "            <td>1999</td> <td>Star Wars Ep. I: The Phantom Menace  </td> <td>PG         </td> <td>20th Century Fox  </td> <td>43044335000</td> <td>77700107800           </td> <td>8473294200  </td>\n",
              "        </tr>\n",
              "        <tr>\n",
              "            <td>2000</td> <td>How the Grinch Stole Christmas       </td> <td>PG         </td> <td>Universal         </td> <td>25336745500</td> <td>43105371300           </td> <td>4700694800  </td>\n",
              "        </tr>\n",
              "        <tr>\n",
              "            <td>2001</td> <td>Harry Potter and the Sorcerer’s Stone</td> <td>PG         </td> <td>Warner Bros.      </td> <td>30040443400</td> <td>48669764000           </td> <td>5307498800  </td>\n",
              "        </tr>\n",
              "        <tr>\n",
              "            <td>2002</td> <td>Spider-Man                           </td> <td>PG-13      </td> <td>Sony Pictures     </td> <td>40370637500</td> <td>63717512100           </td> <td>6948474600  </td>\n",
              "        </tr>\n",
              "        <tr>\n",
              "            <td>2003</td> <td>Finding Nemo                         </td> <td>G          </td> <td>Walt Disney       </td> <td>33971436700</td> <td>51661372000           </td> <td>5633737400  </td>\n",
              "        </tr>\n",
              "        <tr>\n",
              "            <td>2004</td> <td>Shrek 2                              </td> <td>PG         </td> <td>Dreamworks SKG    </td> <td>44122624700</td> <td>65153698200           </td> <td>7105092500  </td>\n",
              "        </tr>\n",
              "    </tbody>\n",
              "</table>\n",
              "<p>... (18 rows omitted)</p>"
            ],
            "text/plain": [
              "Year | Movie                                 | MPAA\n",
              "Rating | Distributor        | Total Gross | Total Gross (Adjusted) | Tickets Sold\n",
              "1995 | Batman Forever                        | PG-13       | Warner Bros.       | 18403111200 | 38794603800            | 4230600200\n",
              "1996 | Independence Day                      | PG-13       | 20th Century Fox   | 30616925500 | 63519729900            | 6926906200\n",
              "1997 | Men in Black                          | PG-13       | Sony Pictures      | 25065005200 | 50075402100            | 5460785400\n",
              "1998 | Titanic                               | PG-13       | Paramount Pictures | 44331908100 | 86678805100            | 9452432400\n",
              "1999 | Star Wars Ep. I: The Phantom Menace   | PG          | 20th Century Fox   | 43044335000 | 77700107800            | 8473294200\n",
              "2000 | How the Grinch Stole Christmas        | PG          | Universal          | 25336745500 | 43105371300            | 4700694800\n",
              "2001 | Harry Potter and the Sorcerer’s Stone | PG          | Warner Bros.       | 30040443400 | 48669764000            | 5307498800\n",
              "2002 | Spider-Man                            | PG-13       | Sony Pictures      | 40370637500 | 63717512100            | 6948474600\n",
              "2003 | Finding Nemo                          | G           | Walt Disney        | 33971436700 | 51661372000            | 5633737400\n",
              "2004 | Shrek 2                               | PG          | Dreamworks SKG     | 44122624700 | 65153698200            | 7105092500\n",
              "... (18 rows omitted)"
            ]
          },
          "execution_count": 66,
          "metadata": {},
          "output_type": "execute_result"
        }
      ],
      "source": [
        "movies_by_year = Table.read_table(\"top_movies_1995_2022.csv\")\n",
        "movies_by_year"
      ]
    },
    {
      "cell_type": "markdown",
      "metadata": {
        "id": "VvQv0vbkLyLB"
      },
      "source": [
        "---"
      ]
    },
    {
      "cell_type": "markdown",
      "metadata": {
        "tags": [],
        "id": "TFVyhOGhLyLB"
      },
      "source": [
        "### Task 09 📍🔎"
      ]
    },
    {
      "cell_type": "markdown",
      "metadata": {
        "deletable": false,
        "editable": false,
        "id": "UzckNrpDLyLB"
      },
      "source": [
        "<!-- BEGIN QUESTION -->\n",
        "\n",
        "Using the [`movies_by_year` table](#movies_by_year-Table), create a bar chart showing the distribution of the movie distributors where the length of the bar reflects the number of movies in the table for the given distributor. Your bars should be sorted such that the longest bar is at the top of the graphic.\n",
        "\n",
        "_Make sure to check your visualization with a classmate, a tutor, or the instructor before moving on since there is no auto-grader for this lab task._"
      ]
    },
    {
      "cell_type": "code",
      "execution_count": null,
      "metadata": {
        "tags": [],
        "id": "gNZb0e7RLyLB",
        "outputId": "5e569582-f29d-446d-c061-fbcec322d87f"
      },
      "outputs": [
        {
          "data": {
            "image/png": "[encoded data removed]",
            "text/plain": [
              "<Figure size 600x400 with 1 Axes>"
            ]
          },
          "metadata": {},
          "output_type": "display_data"
        }
      ],
      "source": [
        "# Generate your chart in this cell\n",
        "movies_by_distributor = movies_by_year.group('Distributor').sort('count', True)\n",
        "movies_by_distributor=movies_by_distributor.barh('Distributor','count')\n",
        "\n",
        "plt.title('Movie Distributor Counts')\n",
        "plt.show()"
      ]
    },
    {
      "cell_type": "markdown",
      "metadata": {
        "deletable": false,
        "editable": false,
        "id": "z1VbFUxZLyLC"
      },
      "source": [
        "<!-- END QUESTION -->\n",
        "\n",
        "---"
      ]
    },
    {
      "cell_type": "markdown",
      "metadata": {
        "id": "j5GA0HY6LyLC"
      },
      "source": [
        "## Histograms"
      ]
    },
    {
      "cell_type": "markdown",
      "metadata": {
        "id": "Lx3QKC5DLyLC"
      },
      "source": [
        "When it comes to visualizing numerical data, one of the default and fundamental techniques is to use a histogram. Histograms provide a graphical representation of the distribution of numerical values within a dataset, allowing you to observe patterns, central tendencies, and variations.\n",
        "\n",
        "In the `datascience` library, you can create histograms conveniently using the `hist` table method.\n",
        "\n",
        "When working with histograms, it's essential to consider the choice of bin sizes or intervals, as this can impact the interpretation of the data.\n",
        "\n",
        "The `hist` method defaults to displaying data density on the vertical axis rather than raw counts. This means that the height of each bar in the histogram represents the density of data within that bin, and the area of the bar, not the count, reflects the amount of data. This distinction is crucial for accurately understanding the distribution of numerical data and is a core concept in data visualization and analysis."
      ]
    },
    {
      "cell_type": "markdown",
      "metadata": {
        "id": "B-2ZFKmhLyLC"
      },
      "source": [
        "Run the following code cell to create a table called `ages` which contains the ages of a group of people."
      ]
    },
    {
      "cell_type": "code",
      "execution_count": null,
      "metadata": {
        "id": "29FMiqYZLyLC",
        "outputId": "fd2934c4-374b-40de-f649-a44dd5b45324"
      },
      "outputs": [
        {
          "data": {
            "text/html": [
              "<table border=\"1\" class=\"dataframe\">\n",
              "    <thead>\n",
              "        <tr>\n",
              "            <th>Age</th>\n",
              "        </tr>\n",
              "    </thead>\n",
              "    <tbody>\n",
              "        <tr>\n",
              "            <td>12  </td>\n",
              "        </tr>\n",
              "        <tr>\n",
              "            <td>15  </td>\n",
              "        </tr>\n",
              "        <tr>\n",
              "            <td>18  </td>\n",
              "        </tr>\n",
              "        <tr>\n",
              "            <td>20  </td>\n",
              "        </tr>\n",
              "        <tr>\n",
              "            <td>22  </td>\n",
              "        </tr>\n",
              "        <tr>\n",
              "            <td>25  </td>\n",
              "        </tr>\n",
              "        <tr>\n",
              "            <td>26  </td>\n",
              "        </tr>\n",
              "        <tr>\n",
              "            <td>28  </td>\n",
              "        </tr>\n",
              "        <tr>\n",
              "            <td>30  </td>\n",
              "        </tr>\n",
              "        <tr>\n",
              "            <td>32  </td>\n",
              "        </tr>\n",
              "    </tbody>\n",
              "</table>\n",
              "<p>... (7 rows omitted)</p>"
            ],
            "text/plain": [
              "Age\n",
              "12\n",
              "15\n",
              "18\n",
              "20\n",
              "22\n",
              "25\n",
              "26\n",
              "28\n",
              "30\n",
              "32\n",
              "... (7 rows omitted)"
            ]
          },
          "execution_count": 69,
          "metadata": {},
          "output_type": "execute_result"
        }
      ],
      "source": [
        "ages = Table().with_column(\n",
        "    'Age', [12, 15, 18, 20, 22, 25, 26, 28, 30, 32, 35, 36, 38, 40, 45, 50, 55]\n",
        ")\n",
        "ages"
      ]
    },
    {
      "cell_type": "markdown",
      "metadata": {
        "id": "_OmDRKS1LyLE"
      },
      "source": [
        "To visualize this distribution, you can use the code `ages.hist('Age')`. The method hist has several arguments. The first argument `columns` identifies the column(s) that contain the numerical data for the histogram. Run the cell code below."
      ]
    },
    {
      "cell_type": "code",
      "execution_count": null,
      "metadata": {
        "id": "ead_GE6OLyLE",
        "outputId": "baf33771-5cc7-4184-cc39-b28efa153bed"
      },
      "outputs": [
        {
          "data": {
            "image/png": "[encoded data removed]",
            "text/plain": [
              "<Figure size 600x400 with 1 Axes>"
            ]
          },
          "metadata": {},
          "output_type": "display_data"
        }
      ],
      "source": [
        "ages.hist('Age')\n",
        "\n",
        "# Optional Customization\n",
        "plt.title('Distribution of Ages')\n",
        "plt.show()"
      ]
    },
    {
      "cell_type": "markdown",
      "metadata": {
        "id": "qRc42-0SLyLE"
      },
      "source": [
        "The `hist` table method offers two other arguments that are worth mentioning for this class: `bins` and `unit`. These arguments play a pivotal role in customizing the appearance and interpretation of the histogram.\n",
        "\n",
        "* The `bins` argument allows you to specify the number of bins or intervals into which the data range will be divided. A well-chosen number of bins can significantly affect the visual representation of the data, influencing the granularity of the histogram. By default, there is an algorithm that attempts to generate \"good\" bins, but you might need to specifically define the bins with an array or the number of bins with an integer to get the histogram to look good for your situation.\n",
        "* The `unit` argument provides a way to provide labels to the horizontal and vertical axes as a reminder of what the units of the data are."
      ]
    },
    {
      "cell_type": "markdown",
      "metadata": {
        "id": "ZietZtEsLyMi"
      },
      "source": [
        "The ages are most likely measured in years and it might make sense to bin these ages by creating bins that are 10 years wide. You can achieve this with the parameters `unit=\"Years\"` and `bins=np.arange(10, 61, 10)`.\n",
        "\n",
        "Run the following code cell to see the results."
      ]
    },
    {
      "cell_type": "code",
      "execution_count": null,
      "metadata": {
        "id": "w8SNkcd3LyMo",
        "outputId": "da822a34-7574-459e-f889-2a08d19e5436"
      },
      "outputs": [
        {
          "data": {
            "image/png": "[encoded data removed]",
            "text/plain": [
              "<Figure size 600x400 with 1 Axes>"
            ]
          },
          "metadata": {},
          "output_type": "display_data"
        }
      ],
      "source": [
        "ages.hist('Age', unit=\"Years\", bins=np.arange(10, 61, 10))\n",
        "\n",
        "# Optional Customization\n",
        "plt.title('Distribution of Ages')\n",
        "plt.show()"
      ]
    },
    {
      "cell_type": "markdown",
      "metadata": {
        "id": "52LLWHftLyMq"
      },
      "source": [
        "Notice how the shape of the histogram changes! The same numerical data can look very different in a histogram depending on how it is binned. This can be used as a tool for analysis and inquiry, but it can also be used as a tool to misguide."
      ]
    },
    {
      "cell_type": "markdown",
      "metadata": {
        "id": "NtFWbFSCLyMr"
      },
      "source": [
        "---"
      ]
    },
    {
      "cell_type": "markdown",
      "metadata": {
        "tags": [],
        "id": "vLXb3zaiLyMs"
      },
      "source": [
        "### Task 10 📍🔎"
      ]
    },
    {
      "cell_type": "markdown",
      "metadata": {
        "deletable": false,
        "editable": false,
        "id": "4iMS5IudLyMs"
      },
      "source": [
        "<!-- BEGIN QUESTION -->\n",
        "\n",
        "Use the `hist` method with the [`compensation` table](#compensation-Table) to show the distribution of CEO total pay amounts. The default settings for `hist` make a reasonable graphic, but you can try adjusting the `bins` parameter to see what happens.\n",
        "\n",
        "_Make sure to check your visualization with a classmate, a tutor, or the instructor before moving on since there is no auto-grader for this lab task._"
      ]
    },
    {
      "cell_type": "code",
      "execution_count": null,
      "metadata": {
        "id": "qxbpEbwOLyMw",
        "outputId": "95513d07-ec6d-4f8c-90e7-67ffc62cf0b1"
      },
      "outputs": [
        {
          "data": {
            "text/html": [
              "<table border=\"1\" class=\"dataframe\">\n",
              "    <thead>\n",
              "        <tr>\n",
              "            <th>Rank</th> <th>Name</th> <th>Company (Headquarters)</th> <th>Total Pay</th> <th>% Change</th> <th>Cash Pay</th> <th>Equity Pay</th> <th>Other Pay</th> <th>Ratio of CEO pay to average industry worker pay</th> <th>Total Pay ($)</th>\n",
              "        </tr>\n",
              "    </thead>\n",
              "    <tbody>\n",
              "        <tr>\n",
              "            <td>1   </td> <td>Mark V. Hurd*     </td> <td>Oracle (Redwood City)         </td> <td>$53.25   </td> <td>(No previous year)</td> <td>$0.95   </td> <td>$52.27    </td> <td>$0.02    </td> <td>362                                            </td> <td>5.325e+07    </td>\n",
              "        </tr>\n",
              "        <tr>\n",
              "            <td>2   </td> <td>Safra A. Catz*    </td> <td>Oracle (Redwood City)         </td> <td>$53.24   </td> <td>(No previous year)</td> <td>$0.95   </td> <td>$52.27    </td> <td>$0.02    </td> <td>362                                            </td> <td>5.324e+07    </td>\n",
              "        </tr>\n",
              "        <tr>\n",
              "            <td>3   </td> <td>Robert A. Iger    </td> <td>Walt Disney (Burbank)         </td> <td>$44.91   </td> <td>-3%               </td> <td>$24.89  </td> <td>$17.28    </td> <td>$2.74    </td> <td>477                                            </td> <td>4.491e+07    </td>\n",
              "        </tr>\n",
              "        <tr>\n",
              "            <td>4   </td> <td>Marissa A. Mayer  </td> <td>Yahoo! (Sunnyvale)            </td> <td>$35.98   </td> <td>-15%              </td> <td>$1.00   </td> <td>$34.43    </td> <td>$0.55    </td> <td>342                                            </td> <td>3.598e+07    </td>\n",
              "        </tr>\n",
              "        <tr>\n",
              "            <td>5   </td> <td>Marc Benioff      </td> <td>salesforce.com (San Francisco)</td> <td>$33.36   </td> <td>-16%              </td> <td>$4.65   </td> <td>$27.26    </td> <td>$1.45    </td> <td>338                                            </td> <td>3.336e+07    </td>\n",
              "        </tr>\n",
              "        <tr>\n",
              "            <td>6   </td> <td>John H. Hammergren</td> <td>McKesson (San Francisco)      </td> <td>$24.84   </td> <td>-4%               </td> <td>$12.10  </td> <td>$12.37    </td> <td>$0.37    </td> <td>222                                            </td> <td>2.484e+07    </td>\n",
              "        </tr>\n",
              "        <tr>\n",
              "            <td>7   </td> <td>John S. Watson    </td> <td>Chevron (San Ramon)           </td> <td>$22.04   </td> <td>-15%              </td> <td>$4.31   </td> <td>$14.68    </td> <td>$3.05    </td> <td>183                                            </td> <td>2.204e+07    </td>\n",
              "        </tr>\n",
              "        <tr>\n",
              "            <td>8   </td> <td>Jeffrey Weiner    </td> <td>LinkedIn (Mountain View)      </td> <td>$19.86   </td> <td>27%               </td> <td>$2.47   </td> <td>$17.26    </td> <td>$0.13    </td> <td>182                                            </td> <td>1.986e+07    </td>\n",
              "        </tr>\n",
              "        <tr>\n",
              "            <td>9   </td> <td>John T. Chambers**</td> <td>Cisco Systems (San Jose)      </td> <td>$19.62   </td> <td>19%               </td> <td>$5.10   </td> <td>$14.51    </td> <td>$0.01    </td> <td>170                                            </td> <td>1.962e+07    </td>\n",
              "        </tr>\n",
              "        <tr>\n",
              "            <td>10  </td> <td>John G. Stumpf    </td> <td>Wells Fargo  (San Francisco)  </td> <td>$19.32   </td> <td>-10%              </td> <td>$6.80   </td> <td>$12.50    </td> <td>$0.02    </td> <td>256                                            </td> <td>1.932e+07    </td>\n",
              "        </tr>\n",
              "    </tbody>\n",
              "</table>\n",
              "<p>... (92 rows omitted)</p>"
            ],
            "text/plain": [
              "Rank | Name               | Company (Headquarters)         | Total Pay | % Change           | Cash Pay | Equity Pay | Other Pay | Ratio of CEO pay to average industry worker pay | Total Pay ($)\n",
              "1    | Mark V. Hurd*      | Oracle (Redwood City)          | $53.25    | (No previous year) | $0.95    | $52.27     | $0.02     | 362                                             | 5.325e+07\n",
              "2    | Safra A. Catz*     | Oracle (Redwood City)          | $53.24    | (No previous year) | $0.95    | $52.27     | $0.02     | 362                                             | 5.324e+07\n",
              "3    | Robert A. Iger     | Walt Disney (Burbank)          | $44.91    | -3%                | $24.89   | $17.28     | $2.74     | 477                                             | 4.491e+07\n",
              "4    | Marissa A. Mayer   | Yahoo! (Sunnyvale)             | $35.98    | -15%               | $1.00    | $34.43     | $0.55     | 342                                             | 3.598e+07\n",
              "5    | Marc Benioff       | salesforce.com (San Francisco) | $33.36    | -16%               | $4.65    | $27.26     | $1.45     | 338                                             | 3.336e+07\n",
              "6    | John H. Hammergren | McKesson (San Francisco)       | $24.84    | -4%                | $12.10   | $12.37     | $0.37     | 222                                             | 2.484e+07\n",
              "7    | John S. Watson     | Chevron (San Ramon)            | $22.04    | -15%               | $4.31    | $14.68     | $3.05     | 183                                             | 2.204e+07\n",
              "8    | Jeffrey Weiner     | LinkedIn (Mountain View)       | $19.86    | 27%                | $2.47    | $17.26     | $0.13     | 182                                             | 1.986e+07\n",
              "9    | John T. Chambers** | Cisco Systems (San Jose)       | $19.62    | 19%                | $5.10    | $14.51     | $0.01     | 170                                             | 1.962e+07\n",
              "10   | John G. Stumpf     | Wells Fargo  (San Francisco)   | $19.32    | -10%               | $6.80    | $12.50     | $0.02     | 256                                             | 1.932e+07\n",
              "... (92 rows omitted)"
            ]
          },
          "execution_count": 72,
          "metadata": {},
          "output_type": "execute_result"
        }
      ],
      "source": [
        "compensation"
      ]
    },
    {
      "cell_type": "code",
      "execution_count": null,
      "metadata": {
        "tags": [],
        "id": "sH2R_P-7LyM5",
        "outputId": "48822c8b-e20b-4a9a-852f-214e9855e995"
      },
      "outputs": [
        {
          "data": {
            "image/png": "[encoded data removed]",
            "text/plain": [
              "<Figure size 600x400 with 1 Axes>"
            ]
          },
          "metadata": {},
          "output_type": "display_data"
        }
      ],
      "source": [
        "# Generate your chart in this cell\n",
        "compensation.hist('Total Pay ($)')\n",
        "\n",
        "\n",
        "plt.title('Distribution of Compensations')\n",
        "plt.show()"
      ]
    },
    {
      "cell_type": "markdown",
      "metadata": {
        "deletable": false,
        "editable": false,
        "id": "1KZwX8vlLyNF"
      },
      "source": [
        "<!-- END QUESTION -->\n",
        "\n",
        "---"
      ]
    },
    {
      "cell_type": "markdown",
      "metadata": {
        "id": "M4BRDbW6LyNH"
      },
      "source": [
        "## Line Plots and Scatter Plots"
      ]
    },
    {
      "cell_type": "markdown",
      "metadata": {
        "id": "_q08iP2KLyNI"
      },
      "source": [
        "When it comes to visualizing numerical relationships in data, scatter plots and line plots are two fundamental tools that provide valuable insights.\n",
        "\n",
        "In the `datascience` library, the `scatter` method is used to create scatter plots, while the `plot` method is employed to generate line plots.\n",
        "\n",
        "These visualization techniques share a conceptual similarity: both display data points on a two-dimensional plane, typically with one numerical variable on the x-axis and another on the y-axis. However, the key distinction lies in the purpose and interpretation.\n",
        "\n",
        "* Scatter plots are versatile and are primarily used to showcase the association and general pattern between two numerical variables. They are excellent for revealing relationships, correlations, and outliers in the data.\n",
        "* Line plots are best suited when the horizontal axis represents sequential data, such as time or distance. These plots connect the data points with lines, making them ideal for visualizing trends and showing how a numerical variable changes over a continuous range, as in the case of tracking revenue over time.\n",
        "\n",
        "In essence, scatter plots excel at depicting associations, while line plots are tailor-made for illustrating trends and sequential relationships in numerical data."
      ]
    },
    {
      "cell_type": "markdown",
      "metadata": {
        "id": "kg1TuYqvLyNI"
      },
      "source": [
        "For example, run the following code cell to generate a table called `company_data` showing revenue and profit data for the last ten years for some **fake** company."
      ]
    },
    {
      "cell_type": "code",
      "execution_count": null,
      "metadata": {
        "id": "VP46PXn1LyNI",
        "outputId": "f19379c4-9ff7-4dfc-a1b2-d5aabfb5e9bd"
      },
      "outputs": [
        {
          "data": {
            "text/html": [
              "<table border=\"1\" class=\"dataframe\">\n",
              "    <thead>\n",
              "        <tr>\n",
              "            <th>Year</th> <th>Revenue</th> <th>Profit</th>\n",
              "        </tr>\n",
              "    </thead>\n",
              "    <tbody>\n",
              "        <tr>\n",
              "            <td>2014</td> <td>35000  </td> <td>2860.51</td>\n",
              "        </tr>\n",
              "        <tr>\n",
              "            <td>2015</td> <td>37500  </td> <td>2944.34</td>\n",
              "        </tr>\n",
              "        <tr>\n",
              "            <td>2016</td> <td>32500  </td> <td>2747.53</td>\n",
              "        </tr>\n",
              "        <tr>\n",
              "            <td>2017</td> <td>32500  </td> <td>2505.47</td>\n",
              "        </tr>\n",
              "        <tr>\n",
              "            <td>2018</td> <td>60000  </td> <td>4805.49</td>\n",
              "        </tr>\n",
              "        <tr>\n",
              "            <td>2019</td> <td>45000  </td> <td>3583.15</td>\n",
              "        </tr>\n",
              "        <tr>\n",
              "            <td>2020</td> <td>17500  </td> <td>1453.65</td>\n",
              "        </tr>\n",
              "        <tr>\n",
              "            <td>2021</td> <td>32500  </td> <td>2695.51</td>\n",
              "        </tr>\n",
              "        <tr>\n",
              "            <td>2022</td> <td>22500  </td> <td>1806.97</td>\n",
              "        </tr>\n",
              "        <tr>\n",
              "            <td>2023</td> <td>35000  </td> <td>2826.47</td>\n",
              "        </tr>\n",
              "    </tbody>\n",
              "</table>"
            ],
            "text/plain": [
              "Year | Revenue | Profit\n",
              "2014 | 35000   | 2860.51\n",
              "2015 | 37500   | 2944.34\n",
              "2016 | 32500   | 2747.53\n",
              "2017 | 32500   | 2505.47\n",
              "2018 | 60000   | 4805.49\n",
              "2019 | 45000   | 3583.15\n",
              "2020 | 17500   | 1453.65\n",
              "2021 | 32500   | 2695.51\n",
              "2022 | 22500   | 1806.97\n",
              "2023 | 35000   | 2826.47"
            ]
          },
          "execution_count": 79,
          "metadata": {},
          "output_type": "execute_result"
        }
      ],
      "source": [
        "# Generate random data\n",
        "np.random.seed(0)\n",
        "years = np.arange(2014, 2024)\n",
        "revenue = np.random.poisson(14, 10) * 2_500\n",
        "profit = revenue * np.random.normal(0.08, 0.002, 10)\n",
        "\n",
        "company_data = Table().with_columns('Year', years, 'Revenue', revenue, 'Profit', profit)\n",
        "company_data"
      ]
    },
    {
      "cell_type": "markdown",
      "metadata": {
        "id": "LNKqxao0LyNJ"
      },
      "source": [
        "A line plot would be a standard choice to visualize the trend of profit over time. This can be done with the command `company_data.plot('Year', 'Profit')`.\n",
        "\n",
        "Run the following code cell to see the results."
      ]
    },
    {
      "cell_type": "code",
      "execution_count": null,
      "metadata": {
        "id": "sWHuh52hLyNJ",
        "outputId": "7fcbe7e5-7ed7-4e97-ac96-d8519645e07a"
      },
      "outputs": [
        {
          "data": {
            "image/png": "[encoded data removed]",
            "text/plain": [
              "<Figure size 600x600 with 1 Axes>"
            ]
          },
          "metadata": {},
          "output_type": "display_data"
        }
      ],
      "source": [
        "company_data.plot('Year', 'Profit')\n",
        "\n",
        "# Optional Customization\n",
        "plt.title('Profits Over Time')\n",
        "plt.show()"
      ]
    },
    {
      "cell_type": "markdown",
      "metadata": {
        "id": "SNqFAQq_LyN2"
      },
      "source": [
        "The trend of this line shows that there was something very significant that happened around 2018 to make the company very profitable. After a short period of time of high profits, there was a steep decline in profit levels that were lower than in years previous to 2018. For the last few years, the company's profits seem to lack stability. This is likely due to economic instability surrounding the pandemic, but all this profit data was made up and so is money. 🤓"
      ]
    },
    {
      "cell_type": "markdown",
      "metadata": {
        "id": "i4KakrezLyN3"
      },
      "source": [
        "It might be nice to compare the trends of two numerical distributions over the same horizontal axis. This would be a great time to try an overlaid line plot. For example, you could plot the lines for both profit and revenue over time.\n",
        "\n",
        "The `plot` method can handle this by making sure the table only contains the variables you are interested in `'Year'`, `'Profit'`, and `'Revenue'` and just specifying the horizontal axis in the `plot` method. For example, just use `company_data.plot('Year')`.\n",
        "\n",
        "Run the following cell to see that a line is created for every numerical column in the table other than `'Year'`."
      ]
    },
    {
      "cell_type": "code",
      "execution_count": null,
      "metadata": {
        "id": "F5kXwQilLyN3",
        "outputId": "5c39974e-43cb-4f19-e8a3-4df4908acbc5"
      },
      "outputs": [
        {
          "data": {
            "image/png": "[encoded data removed]",
            "text/plain": [
              "<Figure size 600x600 with 1 Axes>"
            ]
          },
          "metadata": {},
          "output_type": "display_data"
        }
      ],
      "source": [
        "company_data.plot('Year')\n",
        "\n",
        "# Optional Customization\n",
        "plt.title('Revenue and Profits Over Time')\n",
        "plt.show()"
      ]
    },
    {
      "cell_type": "markdown",
      "metadata": {
        "id": "P2OiGLuHLyN3"
      },
      "source": [
        "Revenue looks much less stable on this graph because of the scale of the values. Profits were hovering around 8% of revenue, so putting both lines on the y-axis doesn't offer a fair comparison."
      ]
    },
    {
      "cell_type": "markdown",
      "metadata": {
        "id": "iDQmnjsLLyN4"
      },
      "source": [
        "How do you better see the relationship between revenue and profit? Since the data are not sequential and you are just looking to visualize the association, use a scatter plot. The `scatter` method would help out with this. Since profit follows from revenue, it is standard practice to have the horizontal axis reflect revenue values. Use the command `company_data.scatter('Revenue', 'Profit')` to make this happen.\n",
        "\n",
        "Run the following cell to see the results."
      ]
    },
    {
      "cell_type": "code",
      "execution_count": null,
      "metadata": {
        "id": "_ubyWkoWLyN4",
        "outputId": "189d3ee5-caed-478e-ed73-d07730926313"
      },
      "outputs": [
        {
          "data": {
            "image/png": "[encoded data removed]",
            "text/plain": [
              "<Figure size 500x500 with 1 Axes>"
            ]
          },
          "metadata": {},
          "output_type": "display_data"
        }
      ],
      "source": [
        "company_data.scatter('Revenue', 'Profit')\n",
        "\n",
        "# Optional Customization\n",
        "plt.title('Revenue vs. Profit')\n",
        "plt.show()"
      ]
    },
    {
      "cell_type": "markdown",
      "metadata": {
        "id": "pjix1yf7LyN4"
      },
      "source": [
        "This shows a pretty strong (linear) positive relationship between revenue and profit. Dividing the profit values by the revenue shows a pretty stable profit margin of roughly 8%."
      ]
    },
    {
      "cell_type": "code",
      "execution_count": null,
      "metadata": {
        "id": "ffs6eKLVLyN4",
        "outputId": "5a21fdbb-0cfc-46f1-8597-82f421830754"
      },
      "outputs": [
        {
          "name": "stdout",
          "output_type": "stream",
          "text": [
            "The profit margins (profile/revenue) are:\n",
            "\n"
          ]
        },
        {
          "data": {
            "text/plain": [
              "array([ 0.08172887,  0.07851567,  0.08453951,  0.07709127,  0.08009152,\n",
              "        0.07962563,  0.08306556,  0.08293872,  0.08030989,  0.08075633])"
            ]
          },
          "metadata": {},
          "output_type": "display_data"
        },
        {
          "name": "stdout",
          "output_type": "stream",
          "text": [
            "\n",
            "The average profit margin over this period is 8.09%\n"
          ]
        }
      ],
      "source": [
        "profit_margins = company_data.column('Profit') / company_data.column('Revenue')\n",
        "print('The profit margins (profile/revenue) are:\\n')\n",
        "display(profit_margins)\n",
        "average_profit_margin = \"{:.2%}\".format(np.average(profit_margins))\n",
        "print(f'\\nThe average profit margin over this period is {average_profit_margin}')"
      ]
    },
    {
      "cell_type": "markdown",
      "metadata": {
        "id": "4-WR8ggxLyN5"
      },
      "source": [
        "---"
      ]
    },
    {
      "cell_type": "markdown",
      "metadata": {
        "tags": [],
        "id": "GnBeiW0YLyN6"
      },
      "source": [
        "### Task 11 📍🔎"
      ]
    },
    {
      "cell_type": "markdown",
      "metadata": {
        "deletable": false,
        "editable": false,
        "id": "YaQvGl7OLyN6"
      },
      "source": [
        "<!-- BEGIN QUESTION -->\n",
        "\n",
        "For this task, return to the [`movies_by_year` Table](#movies_by_year-Table) and create a line plot using the `plot` table method to visualize the trend of the number of tickets sold over time. What do you notice about the line graph in terms of trends in the number of tickets sold over time?\n",
        "\n",
        "_Make sure to check your visualization with a classmate, a tutor, or the instructor before moving on since there is no auto-grader for this lab task._"
      ]
    },
    {
      "cell_type": "markdown",
      "metadata": {
        "id": "gZedv868LyN6"
      },
      "source": [
        "_Type your answer here, replacing this text._"
      ]
    },
    {
      "cell_type": "code",
      "execution_count": null,
      "metadata": {
        "id": "-ctF1zK2LyN6",
        "outputId": "de305efa-37a0-40ed-a485-bc39c36535d4"
      },
      "outputs": [
        {
          "data": {
            "text/html": [
              "<table border=\"1\" class=\"dataframe\">\n",
              "    <thead>\n",
              "        <tr>\n",
              "            <th>Year</th> <th>Movie</th> <th>MPAA\n",
              "Rating</th> <th>Distributor</th> <th>Total Gross</th> <th>Total Gross (Adjusted)</th> <th>Tickets Sold</th>\n",
              "        </tr>\n",
              "    </thead>\n",
              "    <tbody>\n",
              "        <tr>\n",
              "            <td>1995</td> <td>Batman Forever                       </td> <td>PG-13      </td> <td>Warner Bros.      </td> <td>18403111200</td> <td>38794603800           </td> <td>4230600200  </td>\n",
              "        </tr>\n",
              "        <tr>\n",
              "            <td>1996</td> <td>Independence Day                     </td> <td>PG-13      </td> <td>20th Century Fox  </td> <td>30616925500</td> <td>63519729900           </td> <td>6926906200  </td>\n",
              "        </tr>\n",
              "        <tr>\n",
              "            <td>1997</td> <td>Men in Black                         </td> <td>PG-13      </td> <td>Sony Pictures     </td> <td>25065005200</td> <td>50075402100           </td> <td>5460785400  </td>\n",
              "        </tr>\n",
              "        <tr>\n",
              "            <td>1998</td> <td>Titanic                              </td> <td>PG-13      </td> <td>Paramount Pictures</td> <td>44331908100</td> <td>86678805100           </td> <td>9452432400  </td>\n",
              "        </tr>\n",
              "        <tr>\n",
              "            <td>1999</td> <td>Star Wars Ep. I: The Phantom Menace  </td> <td>PG         </td> <td>20th Century Fox  </td> <td>43044335000</td> <td>77700107800           </td> <td>8473294200  </td>\n",
              "        </tr>\n",
              "        <tr>\n",
              "            <td>2000</td> <td>How the Grinch Stole Christmas       </td> <td>PG         </td> <td>Universal         </td> <td>25336745500</td> <td>43105371300           </td> <td>4700694800  </td>\n",
              "        </tr>\n",
              "        <tr>\n",
              "            <td>2001</td> <td>Harry Potter and the Sorcerer’s Stone</td> <td>PG         </td> <td>Warner Bros.      </td> <td>30040443400</td> <td>48669764000           </td> <td>5307498800  </td>\n",
              "        </tr>\n",
              "        <tr>\n",
              "            <td>2002</td> <td>Spider-Man                           </td> <td>PG-13      </td> <td>Sony Pictures     </td> <td>40370637500</td> <td>63717512100           </td> <td>6948474600  </td>\n",
              "        </tr>\n",
              "        <tr>\n",
              "            <td>2003</td> <td>Finding Nemo                         </td> <td>G          </td> <td>Walt Disney       </td> <td>33971436700</td> <td>51661372000           </td> <td>5633737400  </td>\n",
              "        </tr>\n",
              "        <tr>\n",
              "            <td>2004</td> <td>Shrek 2                              </td> <td>PG         </td> <td>Dreamworks SKG    </td> <td>44122624700</td> <td>65153698200           </td> <td>7105092500  </td>\n",
              "        </tr>\n",
              "    </tbody>\n",
              "</table>\n",
              "<p>... (18 rows omitted)</p>"
            ],
            "text/plain": [
              "Year | Movie                                 | MPAA\n",
              "Rating | Distributor        | Total Gross | Total Gross (Adjusted) | Tickets Sold\n",
              "1995 | Batman Forever                        | PG-13       | Warner Bros.       | 18403111200 | 38794603800            | 4230600200\n",
              "1996 | Independence Day                      | PG-13       | 20th Century Fox   | 30616925500 | 63519729900            | 6926906200\n",
              "1997 | Men in Black                          | PG-13       | Sony Pictures      | 25065005200 | 50075402100            | 5460785400\n",
              "1998 | Titanic                               | PG-13       | Paramount Pictures | 44331908100 | 86678805100            | 9452432400\n",
              "1999 | Star Wars Ep. I: The Phantom Menace   | PG          | 20th Century Fox   | 43044335000 | 77700107800            | 8473294200\n",
              "2000 | How the Grinch Stole Christmas        | PG          | Universal          | 25336745500 | 43105371300            | 4700694800\n",
              "2001 | Harry Potter and the Sorcerer’s Stone | PG          | Warner Bros.       | 30040443400 | 48669764000            | 5307498800\n",
              "2002 | Spider-Man                            | PG-13       | Sony Pictures      | 40370637500 | 63717512100            | 6948474600\n",
              "2003 | Finding Nemo                          | G           | Walt Disney        | 33971436700 | 51661372000            | 5633737400\n",
              "2004 | Shrek 2                               | PG          | Dreamworks SKG     | 44122624700 | 65153698200            | 7105092500\n",
              "... (18 rows omitted)"
            ]
          },
          "execution_count": 84,
          "metadata": {},
          "output_type": "execute_result"
        }
      ],
      "source": [
        "movies_by_year"
      ]
    },
    {
      "cell_type": "code",
      "execution_count": null,
      "metadata": {
        "tags": [],
        "id": "PbVx1smMLyN7",
        "outputId": "838c3bcf-d370-4fa0-a009-d6f39936f74b"
      },
      "outputs": [
        {
          "data": {
            "image/png": "[encoded data removed]",
            "text/plain": [
              "<Figure size 600x600 with 1 Axes>"
            ]
          },
          "metadata": {},
          "output_type": "display_data"
        }
      ],
      "source": [
        "# Generate your chart in this cell\n",
        "movies_by_year.plot('Year','Tickets Sold')\n",
        "\n",
        "# Customization\n",
        "plt.title('Tickets Sold Over Time')\n",
        "plt.show()"
      ]
    },
    {
      "cell_type": "markdown",
      "metadata": {
        "deletable": false,
        "editable": false,
        "id": "T9kgwQiHLyN7"
      },
      "source": [
        "<!-- END QUESTION -->\n",
        "\n",
        "---"
      ]
    },
    {
      "cell_type": "markdown",
      "metadata": {
        "tags": [],
        "id": "qG-PzI6eLyN7"
      },
      "source": [
        "### Task 12 📍🔎"
      ]
    },
    {
      "cell_type": "markdown",
      "metadata": {
        "deletable": false,
        "editable": false,
        "id": "-g_TfXHZLyN7"
      },
      "source": [
        "<!-- BEGIN QUESTION -->\n",
        "\n",
        "For this task return to the [`compensation` table](#compensation-Table). We start you off by relabeling a column and saving the updated table as `compensation_for_graph`. Using `compensation_for_graph`, create a scatterplot showing the relationship between the total pay for a CEO and the ratio of the CEO's pay to the average industry worker's pay. What do you notice?\n",
        "\n",
        "_Make sure to check your response with a classmate, a tutor, or the instructor before moving on since there is no auto-grader for this lab task._"
      ]
    },
    {
      "cell_type": "markdown",
      "metadata": {
        "id": "btn4FMi4LyN8"
      },
      "source": [
        "_Type your answer here, replacing this text._"
      ]
    },
    {
      "cell_type": "code",
      "execution_count": null,
      "metadata": {
        "id": "BVPD7JR-LyN8",
        "outputId": "5c1e4230-4eb3-48a3-c5ab-3214c63c9279"
      },
      "outputs": [
        {
          "data": {
            "text/html": [
              "<table border=\"1\" class=\"dataframe\">\n",
              "    <thead>\n",
              "        <tr>\n",
              "            <th>Rank</th> <th>Name</th> <th>Company (Headquarters)</th> <th>Total Pay</th> <th>% Change</th> <th>Cash Pay</th> <th>Equity Pay</th> <th>Other Pay</th> <th>Ratio of CEO pay to average industry worker pay</th> <th>Total Pay ($)</th>\n",
              "        </tr>\n",
              "    </thead>\n",
              "    <tbody>\n",
              "        <tr>\n",
              "            <td>1   </td> <td>Mark V. Hurd*     </td> <td>Oracle (Redwood City)         </td> <td>$53.25   </td> <td>(No previous year)</td> <td>$0.95   </td> <td>$52.27    </td> <td>$0.02    </td> <td>362                                            </td> <td>5.325e+07    </td>\n",
              "        </tr>\n",
              "        <tr>\n",
              "            <td>2   </td> <td>Safra A. Catz*    </td> <td>Oracle (Redwood City)         </td> <td>$53.24   </td> <td>(No previous year)</td> <td>$0.95   </td> <td>$52.27    </td> <td>$0.02    </td> <td>362                                            </td> <td>5.324e+07    </td>\n",
              "        </tr>\n",
              "        <tr>\n",
              "            <td>3   </td> <td>Robert A. Iger    </td> <td>Walt Disney (Burbank)         </td> <td>$44.91   </td> <td>-3%               </td> <td>$24.89  </td> <td>$17.28    </td> <td>$2.74    </td> <td>477                                            </td> <td>4.491e+07    </td>\n",
              "        </tr>\n",
              "        <tr>\n",
              "            <td>4   </td> <td>Marissa A. Mayer  </td> <td>Yahoo! (Sunnyvale)            </td> <td>$35.98   </td> <td>-15%              </td> <td>$1.00   </td> <td>$34.43    </td> <td>$0.55    </td> <td>342                                            </td> <td>3.598e+07    </td>\n",
              "        </tr>\n",
              "        <tr>\n",
              "            <td>5   </td> <td>Marc Benioff      </td> <td>salesforce.com (San Francisco)</td> <td>$33.36   </td> <td>-16%              </td> <td>$4.65   </td> <td>$27.26    </td> <td>$1.45    </td> <td>338                                            </td> <td>3.336e+07    </td>\n",
              "        </tr>\n",
              "        <tr>\n",
              "            <td>6   </td> <td>John H. Hammergren</td> <td>McKesson (San Francisco)      </td> <td>$24.84   </td> <td>-4%               </td> <td>$12.10  </td> <td>$12.37    </td> <td>$0.37    </td> <td>222                                            </td> <td>2.484e+07    </td>\n",
              "        </tr>\n",
              "        <tr>\n",
              "            <td>7   </td> <td>John S. Watson    </td> <td>Chevron (San Ramon)           </td> <td>$22.04   </td> <td>-15%              </td> <td>$4.31   </td> <td>$14.68    </td> <td>$3.05    </td> <td>183                                            </td> <td>2.204e+07    </td>\n",
              "        </tr>\n",
              "        <tr>\n",
              "            <td>8   </td> <td>Jeffrey Weiner    </td> <td>LinkedIn (Mountain View)      </td> <td>$19.86   </td> <td>27%               </td> <td>$2.47   </td> <td>$17.26    </td> <td>$0.13    </td> <td>182                                            </td> <td>1.986e+07    </td>\n",
              "        </tr>\n",
              "        <tr>\n",
              "            <td>9   </td> <td>John T. Chambers**</td> <td>Cisco Systems (San Jose)      </td> <td>$19.62   </td> <td>19%               </td> <td>$5.10   </td> <td>$14.51    </td> <td>$0.01    </td> <td>170                                            </td> <td>1.962e+07    </td>\n",
              "        </tr>\n",
              "        <tr>\n",
              "            <td>10  </td> <td>John G. Stumpf    </td> <td>Wells Fargo  (San Francisco)  </td> <td>$19.32   </td> <td>-10%              </td> <td>$6.80   </td> <td>$12.50    </td> <td>$0.02    </td> <td>256                                            </td> <td>1.932e+07    </td>\n",
              "        </tr>\n",
              "    </tbody>\n",
              "</table>\n",
              "<p>... (92 rows omitted)</p>"
            ],
            "text/plain": [
              "Rank | Name               | Company (Headquarters)         | Total Pay | % Change           | Cash Pay | Equity Pay | Other Pay | Ratio of CEO pay to average industry worker pay | Total Pay ($)\n",
              "1    | Mark V. Hurd*      | Oracle (Redwood City)          | $53.25    | (No previous year) | $0.95    | $52.27     | $0.02     | 362                                             | 5.325e+07\n",
              "2    | Safra A. Catz*     | Oracle (Redwood City)          | $53.24    | (No previous year) | $0.95    | $52.27     | $0.02     | 362                                             | 5.324e+07\n",
              "3    | Robert A. Iger     | Walt Disney (Burbank)          | $44.91    | -3%                | $24.89   | $17.28     | $2.74     | 477                                             | 4.491e+07\n",
              "4    | Marissa A. Mayer   | Yahoo! (Sunnyvale)             | $35.98    | -15%               | $1.00    | $34.43     | $0.55     | 342                                             | 3.598e+07\n",
              "5    | Marc Benioff       | salesforce.com (San Francisco) | $33.36    | -16%               | $4.65    | $27.26     | $1.45     | 338                                             | 3.336e+07\n",
              "6    | John H. Hammergren | McKesson (San Francisco)       | $24.84    | -4%                | $12.10   | $12.37     | $0.37     | 222                                             | 2.484e+07\n",
              "7    | John S. Watson     | Chevron (San Ramon)            | $22.04    | -15%               | $4.31    | $14.68     | $3.05     | 183                                             | 2.204e+07\n",
              "8    | Jeffrey Weiner     | LinkedIn (Mountain View)       | $19.86    | 27%                | $2.47    | $17.26     | $0.13     | 182                                             | 1.986e+07\n",
              "9    | John T. Chambers** | Cisco Systems (San Jose)       | $19.62    | 19%                | $5.10    | $14.51     | $0.01     | 170                                             | 1.962e+07\n",
              "10   | John G. Stumpf     | Wells Fargo  (San Francisco)   | $19.32    | -10%               | $6.80    | $12.50     | $0.02     | 256                                             | 1.932e+07\n",
              "... (92 rows omitted)"
            ]
          },
          "execution_count": 87,
          "metadata": {},
          "output_type": "execute_result"
        }
      ],
      "source": [
        "compensation"
      ]
    },
    {
      "cell_type": "code",
      "execution_count": null,
      "metadata": {
        "tags": [],
        "id": "8f8A6kfwLyN8",
        "outputId": "eea6bba3-fa4c-4b31-e089-12e114d4919a"
      },
      "outputs": [
        {
          "data": {
            "image/png": "[encoded data removed]",
            "text/plain": [
              "<Figure size 500x500 with 1 Axes>"
            ]
          },
          "metadata": {},
          "output_type": "display_data"
        }
      ],
      "source": [
        "# Generate your chart in this cell\n",
        "# We've shortened the name of the Ratio column label.\n",
        "compensation_for_graph = compensation.relabeled('Ratio of CEO pay to average industry worker pay', 'Ratio')\n",
        "compensation_for_graph.scatter('Total Pay ($)','Ratio')\n",
        "\n",
        "# Customization\n",
        "plt.title('Total Pay vs. Ratio')\n",
        "plt.show()"
      ]
    },
    {
      "cell_type": "markdown",
      "metadata": {
        "deletable": false,
        "editable": false,
        "id": "NuLohCysLyN9"
      },
      "source": [
        "<!-- END QUESTION -->\n",
        "\n",
        "Great work! You now have some practice with the basics of data visualization."
      ]
    },
    {
      "cell_type": "markdown",
      "metadata": {
        "id": "0id73s_FLyN9"
      },
      "source": [
        "---"
      ]
    },
    {
      "cell_type": "markdown",
      "metadata": {
        "id": "pW3XI5JnLyN9"
      },
      "source": [
        "## Submit Your Assignment to Canvas"
      ]
    },
    {
      "cell_type": "markdown",
      "metadata": {
        "jp-MarkdownHeadingCollapsed": true,
        "id": "lgkUEwuILyN-"
      },
      "source": [
        "Follow these steps to submit your lab assignment:\n",
        "\n",
        "1. **Check the Assignment Completion Requirements:** This assignment is scored as Complete or Incomplete. Make sure to check with your instructor about their requirements for a Complete score.\n",
        "2. **Run the Auto-Grader:** Ensure you have executed the code cell containing the command `grader.check_all()` to run all tests for auto-graded tasks marked with 📍. This command will execute all auto-grader tests sequentially.\n",
        "3. **Complete Manually Graded Tasks:** Verify that you have responded to all the manually graded tasks marked with 📍🔎.\n",
        "4. **Save Your Work:** In the notebook's Toolbar, go to `File -> Save Notebook` to save your work and create a checkpoint.\n",
        "5. **Download the Notebook:** In the notebook's Toolbar, go to `File -> Download HTML` to download the HTML version (`.html`) of this notebook.\n",
        "6. **Upload to Canvas:** On the Canvas Assignment page, click \"Start Assignment\" or \"New Attempt\" to upload the downloaded `.html` file."
      ]
    },
    {
      "cell_type": "markdown",
      "metadata": {
        "id": "r5R_lnz2LyN-"
      },
      "source": [
        "---"
      ]
    },
    {
      "cell_type": "markdown",
      "metadata": {
        "editable": true,
        "tags": [],
        "id": "CPipgNo-LyN-"
      },
      "source": [
        "## Attribution"
      ]
    },
    {
      "cell_type": "markdown",
      "metadata": {
        "id": "sPbd5LuiLyN-"
      },
      "source": [
        "This content is licensed under the <a href=\"https://creativecommons.org/licenses/by-nc-sa/4.0/\">Creative Commons Attribution-NonCommercial-ShareAlike 4.0 International License (CC BY-NC-SA 4.0)</a> and derived from the <a href=\"https://www.data8.org/\">Data 8: The Foundations of Data Science</a> offered by the University of California, Berkeley.\n",
        "\n",
        "<img src=\"./by-nc-sa.png\" width=100px>"
      ]
    },
    {
      "cell_type": "markdown",
      "metadata": {
        "deletable": false,
        "editable": false,
        "id": "hn_SnJBFLyN_"
      },
      "source": [
        "---\n",
        "\n",
        "To double-check your work, the cell below will rerun all of the autograder tests."
      ]
    },
    {
      "cell_type": "code",
      "execution_count": null,
      "metadata": {
        "deletable": false,
        "editable": false,
        "id": "UDE1XqAnLyN_",
        "outputId": "aa078035-9dd7-40dc-d963-20a8c5e43012"
      },
      "outputs": [
        {
          "data": {
            "text/plain": [
              "task_01 results: All test cases passed!\n",
              "task_01 - 1 message: ✅ It seems like your function is working!\n",
              "\n",
              "task_02 results: All test cases passed!\n",
              "task_02 - 1 message: ✅ Great work calling the function on the value named a_proportion.\n",
              "\n",
              "task_03 results: All test cases passed!\n",
              "task_03 - 1 message: ✅ It looks like disemvowel is working correctly.\n",
              "\n",
              "task_04 results: All test cases passed!\n",
              "task_04 - 1 message: ✅ It seems like your function num_nonvowels is working correctly!\n",
              "\n",
              "task_05 results: All test cases passed!\n",
              "task_05 - 1 message: ✅ It looks like your function convert_pay_string_to_number is working with the input '$100 '.\n",
              "task_05 - 2 message: ✅ It looks like your function convert_pay_string_to_number is working with the input '$23 '.\n",
              "\n",
              "task_06 results: All test cases passed!\n",
              "task_06 - 1 message: ✅ It looks like you created a column labeled Total Pay ($)\n",
              "task_06 - 2 message: ✅ We checked a value in the table and it looks correct!\n",
              "\n",
              "task_07 results: All test cases passed!\n",
              "task_07 - 1 message: ✅ Great work!\n",
              "\n",
              "task_08 results: All test cases passed!\n",
              "task_08 - 1 message: ✅ categorical_attributes is an array.\n",
              "task_08 - 2 message: ✅ categorical_attributes contains numbers 1 - 10.\n",
              "task_08 - 3 message: ✅ Great work on identifying all of the categorical attributes!"
            ]
          },
          "execution_count": 90,
          "metadata": {},
          "output_type": "execute_result"
        }
      ],
      "source": [
        "grader.check_all()"
      ]
    }
  ],
  "metadata": {
    "hide_input": false,
    "kernelspec": {
      "display_name": "Python 3 (ipykernel)",
      "language": "python",
      "name": "python3"
    },
    "language_info": {
      "codemirror_mode": {
        "name": "ipython",
        "version": 3
      },
      "file_extension": ".py",
      "mimetype": "text/x-python",
      "name": "python",
      "nbconvert_exporter": "python",
      "pygments_lexer": "ipython3",
      "version": "3.11.9"
    },
    "otter": {
      "OK_FORMAT": true,
      "assignment_name": "lab04_sp25",
      "tests": {
        "task_01": {
          "name": "task_01",
          "points": null,
          "suites": [
            {
              "cases": [
                {
                  "code": ">>> to_percentage(0.25) == 25.0\nTrue",
                  "failure_message": "❌ Make sure you are mulitplying the input proportion 100.",
                  "hidden": false,
                  "locked": false,
                  "points": 1,
                  "success_message": "✅ It seems like your function is working!"
                }
              ],
              "scored": true,
              "setup": "",
              "teardown": "",
              "type": "doctest"
            }
          ]
        },
        "task_02": {
          "name": "task_02",
          "points": null,
          "suites": [
            {
              "cases": [
                {
                  "code": ">>> a_percentage == 70.71067811865476\nTrue",
                  "failure_message": "❌ It doesn't seem like you are calling the function to_percentage on a_proportion.",
                  "hidden": false,
                  "locked": false,
                  "points": 1,
                  "success_message": "✅ Great work calling the function on the value named a_proportion."
                }
              ],
              "scored": true,
              "setup": "",
              "teardown": "",
              "type": "doctest"
            }
          ]
        },
        "task_03": {
          "name": "task_03",
          "points": null,
          "suites": [
            {
              "cases": [
                {
                  "code": ">>> disemvowel('Datascience rules!') == 'Dtscnc rls!'\nTrue",
                  "failure_message": "❌ It doesn't seem like disemvowel is wokring correctly. a_string.replace('t', '') will remove any t's in the string named a_string.",
                  "hidden": false,
                  "locked": false,
                  "points": 1,
                  "success_message": "✅ It looks like disemvowel is working correctly."
                }
              ],
              "scored": true,
              "setup": "",
              "teardown": "",
              "type": "doctest"
            }
          ]
        },
        "task_04": {
          "name": "task_04",
          "points": null,
          "suites": [
            {
              "cases": [
                {
                  "code": ">>> num_nonvowels('datascience') == 6\nTrue",
                  "failure_message": "❌ It doesn't seem like your function num_nonvowels is working correctly. Try using len on the output of disemvowel.",
                  "hidden": false,
                  "locked": false,
                  "points": 1,
                  "success_message": "✅ It seems like your function num_nonvowels is working correctly!"
                }
              ],
              "scored": true,
              "setup": "",
              "teardown": "",
              "type": "doctest"
            }
          ]
        },
        "task_05": {
          "name": "task_05",
          "points": null,
          "suites": [
            {
              "cases": [
                {
                  "code": ">>> convert_pay_string_to_number('$100 ') == 100000000.0\nTrue",
                  "failure_message": "❌ convert_pay_string_to_number is not working for our example. Try to redo the strips from a previous task, but use the name pay_string for the string.",
                  "hidden": false,
                  "locked": false,
                  "points": 1,
                  "success_message": "✅ It looks like your function convert_pay_string_to_number is working with the input '$100 '."
                },
                {
                  "code": ">>> convert_pay_string_to_number('$23 ') == 23000000.0\nTrue",
                  "failure_message": "❌ convert_pay_string_to_number is not working for our example.",
                  "hidden": false,
                  "locked": false,
                  "points": 1,
                  "success_message": "✅ It looks like your function convert_pay_string_to_number is working with the input '$23 '."
                }
              ],
              "scored": true,
              "setup": "",
              "teardown": "",
              "type": "doctest"
            }
          ]
        },
        "task_06": {
          "name": "task_06",
          "points": null,
          "suites": [
            {
              "cases": [
                {
                  "code": ">>> 'Total Pay ($)' in compensation.labels\nTrue",
                  "failure_message": "❌ You either didn't add the 'Total Pay ($)' column, or you mislabeled it",
                  "hidden": false,
                  "locked": false,
                  "points": 1,
                  "success_message": "✅ It looks like you created a column labeled Total Pay ($)"
                },
                {
                  "code": ">>> t = compensation.sort('Total Pay ($)', descending=True)\n>>> t.column('Total Pay ($)').item(0) == 53250000.0\nTrue",
                  "failure_message": "❌ You have the correct column in your table, but the values may be wrong. Try using the apply method with convert_pay_string_to_number function. You'll need to add that information to the table using with_column.",
                  "hidden": false,
                  "locked": false,
                  "points": 1,
                  "success_message": "✅ We checked a value in the table and it looks correct!"
                }
              ],
              "scored": true,
              "setup": "",
              "teardown": "",
              "type": "doctest"
            }
          ]
        },
        "task_07": {
          "name": "task_07",
          "points": null,
          "suites": [
            {
              "cases": [
                {
                  "code": ">>> import math\n>>> math.isclose(average_total_pay, 11445294.11764706, rel_tol=0.1)\nTrue",
                  "failure_message": "❌ It doesn't seem like you have the correct value. Try using np.mean or np.average.",
                  "hidden": false,
                  "locked": false,
                  "points": 1,
                  "success_message": "✅ Great work!"
                }
              ],
              "scored": true,
              "setup": "",
              "teardown": "",
              "type": "doctest"
            }
          ]
        },
        "task_08": {
          "name": "task_08",
          "points": null,
          "suites": [
            {
              "cases": [
                {
                  "code": ">>> isinstance(categorical_attributes, np.ndarray)\nTrue",
                  "failure_message": "❌ categorical_attributes should be an array. Try using make_array to make an array with your choice of numbers 1 - 10.",
                  "hidden": false,
                  "locked": false,
                  "points": 1,
                  "success_message": "✅ categorical_attributes is an array."
                },
                {
                  "code": ">>> set(categorical_attributes).issubset(set(np.arange(1, 11)))\nTrue",
                  "failure_message": "❌ categorical_attributes should contain numbers 1 - 10 to reflect the 10 possible attributes.",
                  "hidden": false,
                  "locked": false,
                  "points": 1,
                  "success_message": "✅ categorical_attributes contains numbers 1 - 10."
                },
                {
                  "code": ">>> set(categorical_attributes) == {2, 5, 6, 7, 9, 10}\nTrue",
                  "failure_message": "❌ It seems like some of your choices are incorrect and are more likely to be considered as numerical attributes.",
                  "hidden": false,
                  "locked": false,
                  "points": 1,
                  "success_message": "✅ Great work on identifying all of the categorical attributes!"
                }
              ],
              "scored": true,
              "setup": "",
              "teardown": "",
              "type": "doctest"
            }
          ]
        }
      }
    },
    "toc-autonumbering": false,
    "toc-showmarkdowntxt": false,
    "colab": {
      "provenance": [],
      "include_colab_link": true
    }
  },
  "nbformat": 4,
  "nbformat_minor": 0
}