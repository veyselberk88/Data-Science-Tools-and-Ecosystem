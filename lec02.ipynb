{
  "cells": [
    {
      "cell_type": "markdown",
      "metadata": {
        "id": "view-in-github",
        "colab_type": "text"
      },
      "source": [
        "<a href=\"https://colab.research.google.com/github/veyselberk88/Data-Science-Tools-and-Ecosystem/blob/main/lec02.ipynb\" target=\"_parent\"><img src=\"https://colab.research.google.com/assets/colab-badge.svg\" alt=\"Open In Colab\"/></a>"
      ]
    },
    {
      "cell_type": "markdown",
      "id": "00f69009-1e64-4294-b060-b87012b79bb2",
      "metadata": {
        "id": "00f69009-1e64-4294-b060-b87012b79bb2"
      },
      "source": [
        "<img src=\"./ccsf.png\" alt=\"CCSF Logo\" width=200px style=\"margin:0px -5px\">"
      ]
    },
    {
      "cell_type": "markdown",
      "id": "675a0324-65cc-4c4a-8a9a-c74e5972a3d4",
      "metadata": {
        "editable": true,
        "tags": [],
        "id": "675a0324-65cc-4c4a-8a9a-c74e5972a3d4"
      },
      "source": [
        "# Lecture 02: Cause and Effect"
      ]
    },
    {
      "cell_type": "markdown",
      "id": "a9f974ad-7477-48c8-9685-15b7a8997c5d",
      "metadata": {
        "editable": true,
        "tags": [],
        "id": "a9f974ad-7477-48c8-9685-15b7a8997c5d"
      },
      "source": [
        "Associated Textbook Sections: [2.0, 2.1, 2.2, 2.3. 2.4, 2.5](https://ccsf-math-108.github.io/textbook/chapters/02/causality-and-experiments.html)"
      ]
    },
    {
      "cell_type": "markdown",
      "id": "b390d7f9-60ff-4cd0-ac1e-89fa4f25aef9",
      "metadata": {
        "editable": true,
        "tags": [],
        "id": "b390d7f9-60ff-4cd0-ac1e-89fa4f25aef9"
      },
      "source": [
        "---"
      ]
    },
    {
      "cell_type": "markdown",
      "id": "c3a8f6fe-af4e-4a81-9065-038711dade94",
      "metadata": {
        "editable": true,
        "tags": [],
        "id": "c3a8f6fe-af4e-4a81-9065-038711dade94"
      },
      "source": [
        "## Overview"
      ]
    },
    {
      "cell_type": "markdown",
      "id": "d8b5b42a-24e2-4a3d-aeb5-e6d3c5def2e5",
      "metadata": {
        "editable": true,
        "tags": [],
        "id": "d8b5b42a-24e2-4a3d-aeb5-e6d3c5def2e5"
      },
      "source": [
        "* [Associations](#Associations)\n",
        "* [Beauty Sleep](#Beauty-Sleep)\n",
        "* [Cholera in London](#Cholera-in-London)\n",
        "* [Forming an Argument](#Forming-an-Argument)\n",
        "* [Confounding Variables](#Confounding-Variables)\n",
        "* [Randomized Controlled Experiments](#Randomized-Controlled-Experiments)"
      ]
    },
    {
      "cell_type": "markdown",
      "id": "c5c79ea2-d704-4eb1-9839-8ebbf5a33cf7",
      "metadata": {
        "editable": true,
        "tags": [],
        "id": "c5c79ea2-d704-4eb1-9839-8ebbf5a33cf7"
      },
      "source": [
        "---"
      ]
    },
    {
      "cell_type": "markdown",
      "id": "b230a3ee-ae07-41bf-a4fb-df86bb1990f6",
      "metadata": {
        "editable": true,
        "tags": [],
        "id": "b230a3ee-ae07-41bf-a4fb-df86bb1990f6"
      },
      "source": [
        "## Associations"
      ]
    },
    {
      "cell_type": "markdown",
      "id": "378384bf-4d1e-4a88-b99b-72954a4e3f2e",
      "metadata": {
        "editable": true,
        "tags": [],
        "id": "378384bf-4d1e-4a88-b99b-72954a4e3f2e"
      },
      "source": [
        "---"
      ]
    },
    {
      "cell_type": "markdown",
      "id": "f08b875c-0d4a-42e9-94cd-95e5ebb31b2b",
      "metadata": {
        "editable": true,
        "tags": [],
        "id": "f08b875c-0d4a-42e9-94cd-95e5ebb31b2b"
      },
      "source": [
        "### Headline"
      ]
    },
    {
      "cell_type": "markdown",
      "id": "cba01e2b-6407-4e09-b885-ae7815eec248",
      "metadata": {
        "editable": true,
        "tags": [],
        "id": "cba01e2b-6407-4e09-b885-ae7815eec248"
      },
      "source": [
        "📢 \"Regularly Eating Chocolate Is Linked to 8 Percent Lower Heart Attack Risk\" - [everydayhealth.com](https://www.everydayhealth.com/diet-nutrition/eating-chocolate-regularly-linked-to-lower-heart-attack-risk)"
      ]
    },
    {
      "cell_type": "markdown",
      "id": "2177a0e6-07b8-40dd-932c-61879be132d2",
      "metadata": {
        "editable": true,
        "tags": [],
        "id": "2177a0e6-07b8-40dd-932c-61879be132d2"
      },
      "source": [
        "<a href=\"https://www.everydayhealth.com/diet-nutrition/eating-chocolate-regularly-linked-to-lower-heart-attack-risk\" title=\"Everyday Health chocolate article\"><img src=\"./chocolate.jpeg\" alt=\"Two heart symbols overlapped\" width = 40%></a>"
      ]
    },
    {
      "cell_type": "markdown",
      "id": "37443164-7b88-407f-9a0b-1e1b4dbc34c6",
      "metadata": {
        "editable": true,
        "tags": [],
        "id": "37443164-7b88-407f-9a0b-1e1b4dbc34c6"
      },
      "source": [
        "---"
      ]
    },
    {
      "cell_type": "markdown",
      "id": "83bc027e-d2e3-41a1-889a-7846522da739",
      "metadata": {
        "editable": true,
        "tags": [],
        "id": "83bc027e-d2e3-41a1-889a-7846522da739"
      },
      "source": [
        "### A Headline Source"
      ]
    },
    {
      "cell_type": "markdown",
      "id": "2ea49b87-8f16-4e5d-b844-347888d7052f",
      "metadata": {
        "editable": true,
        "tags": [],
        "id": "2ea49b87-8f16-4e5d-b844-347888d7052f"
      },
      "source": [
        "* Headlines are created to capture our attention.\n",
        "* Sometimes headlines are created from actual studies, and sometimes they are not.\n",
        "* This headline has a [study from the European Journal of Preventive Cardiology](https://heart.bmj.com/content/101/16/1279) as the source."
      ]
    },
    {
      "cell_type": "markdown",
      "id": "3ee7491b-a0d4-4899-a1c4-17eaeade3fa9",
      "metadata": {
        "editable": true,
        "tags": [],
        "id": "3ee7491b-a0d4-4899-a1c4-17eaeade3fa9"
      },
      "source": [
        "---"
      ]
    },
    {
      "cell_type": "markdown",
      "id": "f1a05d2a-ed55-443b-b4c4-40c46a11d984",
      "metadata": {
        "editable": true,
        "tags": [],
        "id": "f1a05d2a-ed55-443b-b4c4-40c46a11d984"
      },
      "source": [
        "### Study Observations\n"
      ]
    },
    {
      "cell_type": "markdown",
      "id": "dea11b96-cb77-43c9-af4c-70f8a865b944",
      "metadata": {
        "editable": true,
        "tags": [],
        "id": "dea11b96-cb77-43c9-af4c-70f8a865b944"
      },
      "source": [
        "* Meta-Study: Combines the results from several studies\n",
        "* Individuals: Study subjects, participants, units, etc.\n",
        "    * 336,289 US, Swedish, and Australian adults from several studies\n",
        "* Treatment: A specific intervention or condition that is applied to individuals\n",
        "    * Chocolate consumption\n",
        "* Outcome: A variable or event that researchers measure or observe to assess the effects of the treatment(s)\n",
        "    * Coronary heart disease risk"
      ]
    },
    {
      "cell_type": "markdown",
      "id": "16e02de6-72c1-430c-ba2a-757d613fc0a0",
      "metadata": {
        "tags": [],
        "id": "16e02de6-72c1-430c-ba2a-757d613fc0a0"
      },
      "source": [
        "---"
      ]
    },
    {
      "cell_type": "markdown",
      "id": "55b6201a-b1d0-4a42-a857-8090cc3b59c6",
      "metadata": {
        "editable": true,
        "tags": [],
        "id": "55b6201a-b1d0-4a42-a857-8090cc3b59c6"
      },
      "source": [
        "### An Initial Question"
      ]
    },
    {
      "cell_type": "markdown",
      "id": "b43ec28d-ffcc-440e-a8f7-906d0ec5d923",
      "metadata": {
        "editable": true,
        "tags": [],
        "id": "b43ec28d-ffcc-440e-a8f7-906d0ec5d923"
      },
      "source": [
        "Is there an association between chocolate consumption and heart disease risk?"
      ]
    },
    {
      "cell_type": "markdown",
      "id": "2cf00ae0-cd9a-40bd-a160-2d2c3ea6763f",
      "metadata": {
        "editable": true,
        "tags": [],
        "id": "2cf00ae0-cd9a-40bd-a160-2d2c3ea6763f"
      },
      "source": [
        "Yes, the reviewed article in the European Journal of Preventive Cardiology concludes that those consumed chocolate more than 1 time per week or more than 3.5 times per month were associated with fewer cases of heart disease compared with those that didn't.\n"
      ]
    },
    {
      "cell_type": "markdown",
      "id": "eb014348-a1aa-4e05-a977-195cba99443c",
      "metadata": {
        "tags": [],
        "id": "eb014348-a1aa-4e05-a977-195cba99443c"
      },
      "source": [
        "---"
      ]
    },
    {
      "cell_type": "markdown",
      "id": "6f196d9e-4d2f-4043-b631-9ac0d97653de",
      "metadata": {
        "editable": true,
        "tags": [],
        "id": "6f196d9e-4d2f-4043-b631-9ac0d97653de"
      },
      "source": [
        "### A Follow Up Question"
      ]
    },
    {
      "cell_type": "markdown",
      "id": "1ab88000-dbf6-4a89-b5ac-3dca325b4605",
      "metadata": {
        "editable": true,
        "tags": [],
        "id": "1ab88000-dbf6-4a89-b5ac-3dca325b4605"
      },
      "source": [
        "Does chocolate consumption *lead to* a reduction in heart disease?"
      ]
    },
    {
      "cell_type": "markdown",
      "id": "b2ca95b4-2176-4d0a-98fe-35fa8cf525e9",
      "metadata": {
        "editable": true,
        "tags": [],
        "id": "b2ca95b4-2176-4d0a-98fe-35fa8cf525e9"
      },
      "source": [
        "This question is often harder to answer and refers to the concept of *causality*."
      ]
    },
    {
      "cell_type": "markdown",
      "id": "f274256f-9504-4c87-b9f5-9ce399357861",
      "metadata": {
        "editable": true,
        "tags": [],
        "id": "f274256f-9504-4c87-b9f5-9ce399357861"
      },
      "source": [
        "No, there are several factors that could explain why fewer people that consumed chocolate regularly developed heart disease. For example, better health care access could explain financial freedom to consume more foods like chocolate and explain less cases of heart disease.\n",
        "\n",
        "> “Dr. Alice Lichtenstein, an American Heart Association volunteer and professor of nutrition science and policy at Tufts University, was more skeptical of the findings.”"
      ]
    },
    {
      "cell_type": "markdown",
      "id": "bea1cc09-19dd-4383-9ad4-582cfed81c5a",
      "metadata": {
        "tags": [],
        "id": "bea1cc09-19dd-4383-9ad4-582cfed81c5a"
      },
      "source": [
        "---"
      ]
    },
    {
      "cell_type": "markdown",
      "id": "be80cdef-f5cf-492b-859b-62931b4a4b3a",
      "metadata": {
        "editable": true,
        "tags": [],
        "id": "be80cdef-f5cf-492b-859b-62931b4a4b3a"
      },
      "source": [
        "### Association and Causality"
      ]
    },
    {
      "cell_type": "markdown",
      "id": "8ee92b21-7cb5-4695-a07e-831603c9ffef",
      "metadata": {
        "editable": true,
        "tags": [],
        "id": "8ee92b21-7cb5-4695-a07e-831603c9ffef"
      },
      "source": [
        "Does the treatment affect the outcome?\n",
        "* Association: Any relationship between treatment and outcome\n",
        "* Causality: Treatment caused the outcome"
      ]
    },
    {
      "cell_type": "markdown",
      "id": "976f4a73-ff01-46e2-8bad-e0e661e8d798",
      "metadata": {
        "tags": [],
        "id": "976f4a73-ff01-46e2-8bad-e0e661e8d798"
      },
      "source": [
        "---"
      ]
    },
    {
      "cell_type": "markdown",
      "id": "839bbbac-4589-4f47-b0ef-d969f01de957",
      "metadata": {
        "editable": true,
        "tags": [],
        "id": "839bbbac-4589-4f47-b0ef-d969f01de957"
      },
      "source": [
        "### Two Study Designs"
      ]
    },
    {
      "cell_type": "markdown",
      "id": "97fc9eb3-4cb1-4d96-aff6-1bd6e51ad6f1",
      "metadata": {
        "editable": true,
        "tags": [],
        "id": "97fc9eb3-4cb1-4d96-aff6-1bd6e51ad6f1"
      },
      "source": [
        "At a basic level, we will consider two types of study designs for collecting and analyzing data:\n",
        "\n",
        "* Observational Studies: Observing outcomes without intervening or manipulating variables.\n",
        "* Experiments: Manipulating variables to observe the effect on outcomes.\n",
        "\n",
        "There are several sub-categories of observational studies and experiments that you will encounter in this class."
      ]
    },
    {
      "cell_type": "markdown",
      "id": "f9618871-e070-4680-8d60-3fe4a7da1c05",
      "metadata": {
        "editable": true,
        "tags": [],
        "id": "f9618871-e070-4680-8d60-3fe4a7da1c05"
      },
      "source": [
        "**At a high-level, the chocolate study is an observational study and we can only conclude with associations.**"
      ]
    },
    {
      "cell_type": "markdown",
      "id": "bdd1b9f8-847d-461d-b3cd-848b31ea5f94",
      "metadata": {
        "tags": [],
        "id": "bdd1b9f8-847d-461d-b3cd-848b31ea5f94"
      },
      "source": [
        "---"
      ]
    },
    {
      "cell_type": "markdown",
      "id": "36285d20-e0f9-4e1b-9de0-5b73f22b93a7",
      "metadata": {
        "editable": true,
        "tags": [],
        "id": "36285d20-e0f9-4e1b-9de0-5b73f22b93a7"
      },
      "source": [
        "## Beauty Sleep\n",
        "\n"
      ]
    },
    {
      "cell_type": "markdown",
      "id": "423a62d9-b65a-472a-8495-f0ece9acdea7",
      "metadata": {
        "tags": [],
        "id": "423a62d9-b65a-472a-8495-f0ece9acdea7"
      },
      "source": [
        "---"
      ]
    },
    {
      "cell_type": "markdown",
      "id": "74fd9202-b357-4e3d-91c2-d4107819e7ea",
      "metadata": {
        "id": "74fd9202-b357-4e3d-91c2-d4107819e7ea"
      },
      "source": [
        "### An Experimental Study"
      ]
    },
    {
      "cell_type": "markdown",
      "id": "ce50fe70-e6f9-4d22-874b-00b16b85bbec",
      "metadata": {
        "id": "ce50fe70-e6f9-4d22-874b-00b16b85bbec"
      },
      "source": [
        "<a href=\"https://www.bmj.com/content/bmj/341/bmj.c6614/F2.large.jpg\" alt=\"A comparison of the same person who participated in the study\"><img src=\"./sleep_study.jpg\" width = 40%></a>\n",
        "\n",
        "* Question: Are sleep-deprived people perceived as less healthy, less attractive and more tired than those who get a normal night's sleep?\n",
        "* Background:\n",
        "    * Sleep laboratory in Stockholm, Sweden\n",
        "    * 23 healthy, sleep-deprived adults (age 18-31) who were photographed twice\n",
        "        * After 8 hours of sleep\n",
        "        * After 31 hours of wakefulness after a night of reduced sleep\n",
        "    * 65 untrained observers (age 18-61) who rated the photographs\n",
        "        * Photographs were presented in a randomized order\n",
        "* Publication: [https://www.bmj.com/content/341/bmj.c6614](https://www.bmj.com/content/341/bmj.c6614)\n"
      ]
    },
    {
      "cell_type": "markdown",
      "id": "f5881af8-2b23-424e-b186-594d8b6ca110",
      "metadata": {
        "id": "f5881af8-2b23-424e-b186-594d8b6ca110"
      },
      "source": [
        "---"
      ]
    },
    {
      "cell_type": "markdown",
      "id": "1ab99f7f-849f-449b-af21-27ac44b58f01",
      "metadata": {
        "editable": true,
        "tags": [],
        "id": "1ab99f7f-849f-449b-af21-27ac44b58f01"
      },
      "source": [
        "### Comparison"
      ]
    },
    {
      "cell_type": "markdown",
      "id": "93712dee-66a2-4d1b-b622-9a20767c3bf1",
      "metadata": {
        "editable": true,
        "tags": [],
        "id": "93712dee-66a2-4d1b-b622-9a20767c3bf1"
      },
      "source": [
        "* Treatment group:\n",
        "    * Receives the experimental treatment or intervention being tested.\n",
        "    * The goal is to assess the impact or effectiveness of the treatment.\n",
        "* Control Group:\n",
        "    * This group does not receive the experimental treatment.\n",
        "    * It serves as a baseline or reference group to which the treatment group is compared.\n",
        "    * Utilizes no treatment, placebo treatments, treatments with well-understood outcomes, etc."
      ]
    },
    {
      "cell_type": "markdown",
      "id": "09ed8757-425f-479b-9f83-13c9b0f8c97b",
      "metadata": {
        "tags": [],
        "id": "09ed8757-425f-479b-9f83-13c9b0f8c97b"
      },
      "source": [
        "---"
      ]
    },
    {
      "cell_type": "markdown",
      "id": "956836f6-cb0a-4044-9454-ab747bc7ad89",
      "metadata": {
        "id": "956836f6-cb0a-4044-9454-ab747bc7ad89"
      },
      "source": [
        "### Results"
      ]
    },
    {
      "cell_type": "markdown",
      "id": "ff45ec08-f88c-4318-a51e-79c3b19239f8",
      "metadata": {
        "id": "ff45ec08-f88c-4318-a51e-79c3b19239f8"
      },
      "source": [
        "* Outcome: Difference in perceived health, attractiveness, and tiredness between sleep-deprived (treatment) and well-rested (control) participants\n",
        "* Results: Sleep-deprived people were rated as less healthy, more tired, and less attractive"
      ]
    },
    {
      "cell_type": "markdown",
      "id": "07d8dc03-252f-48a5-9feb-e2282cd83187",
      "metadata": {
        "id": "07d8dc03-252f-48a5-9feb-e2282cd83187"
      },
      "source": [
        "### Causation?"
      ]
    },
    {
      "cell_type": "markdown",
      "id": "c4cacbf4-2ee1-405e-868b-255360133b9b",
      "metadata": {
        "id": "c4cacbf4-2ee1-405e-868b-255360133b9b"
      },
      "source": [
        "* Can we say that sleeping more causes you to be perceived as more healthy, more attractive, and less tired?\n",
        "* No. Something is missing in this study design."
      ]
    },
    {
      "cell_type": "markdown",
      "id": "179adade-5341-4360-8f27-ebb375488d96",
      "metadata": {
        "tags": [],
        "id": "179adade-5341-4360-8f27-ebb375488d96"
      },
      "source": [
        "---"
      ]
    },
    {
      "cell_type": "markdown",
      "id": "2d851658-f43a-41c8-bd16-0a1bbba56e42",
      "metadata": {
        "editable": true,
        "tags": [],
        "id": "2d851658-f43a-41c8-bd16-0a1bbba56e42"
      },
      "source": [
        "## Cholera in London\n",
        "\n"
      ]
    },
    {
      "cell_type": "markdown",
      "id": "83279c80-0c93-4fcf-906a-1d0e65ee1b86",
      "metadata": {
        "tags": [],
        "id": "83279c80-0c93-4fcf-906a-1d0e65ee1b86"
      },
      "source": [
        "---"
      ]
    },
    {
      "cell_type": "markdown",
      "id": "c6d0a935-ecdf-4e27-b2cc-acf3b1c844d3",
      "metadata": {
        "editable": true,
        "tags": [],
        "id": "c6d0a935-ecdf-4e27-b2cc-acf3b1c844d3"
      },
      "source": [
        "### London, Early 1850’s"
      ]
    },
    {
      "cell_type": "markdown",
      "id": "69cf094c-456a-4b44-9f9d-96211ddb7aea",
      "metadata": {
        "editable": true,
        "tags": [],
        "id": "69cf094c-456a-4b44-9f9d-96211ddb7aea"
      },
      "source": [
        "<a href=\"https://en.wikipedia.org/wiki/1854_Broad_Street_cholera_outbreak\" title=\"Wikipedia - 1954 Broad Street Cholera Outbreak\"><img src=\"./punch_a_court_for_king_cholera.png\" alt=\"A street scene drawing of London in 1954\" width = 40%></a>"
      ]
    },
    {
      "cell_type": "markdown",
      "id": "cd236df4-5766-483d-aa1b-48a26efc3e49",
      "metadata": {
        "editable": true,
        "tags": [],
        "id": "cd236df4-5766-483d-aa1b-48a26efc3e49"
      },
      "source": [
        "* Many people were dying from a violent, rapid loss of fluids\n",
        "* At this time, experts believed bad smell (miasma) was the main source of disease\n",
        "    * Florence Nightingale\n",
        "    * Origins of phrases like: \"fly to clene air\", \"a pocket full o'posies\", etc."
      ]
    },
    {
      "cell_type": "markdown",
      "id": "4efb704e-0968-4533-81be-0692ce37d611",
      "metadata": {
        "tags": [],
        "id": "4efb704e-0968-4533-81be-0692ce37d611"
      },
      "source": [
        "---"
      ]
    },
    {
      "cell_type": "markdown",
      "id": "4ab7b3b8-7b6e-48ed-8cfd-3209ba0582ac",
      "metadata": {
        "editable": true,
        "tags": [],
        "id": "4ab7b3b8-7b6e-48ed-8cfd-3209ba0582ac"
      },
      "source": [
        "### John Snow"
      ]
    },
    {
      "cell_type": "markdown",
      "id": "8ee8be32-e184-4987-87fe-5d7deedb7f35",
      "metadata": {
        "editable": true,
        "tags": [],
        "id": "8ee8be32-e184-4987-87fe-5d7deedb7f35"
      },
      "source": [
        "<a href=\"https://en.wikipedia.org/wiki/John_Snow\" title=\"John Snow\"><img src=\"./john_snow.jpeg\" alt=\"John Snow\" width = 15%></a>"
      ]
    },
    {
      "cell_type": "markdown",
      "id": "0b5fcabb-4dd4-4253-afc4-e65e254c2df2",
      "metadata": {
        "id": "0b5fcabb-4dd4-4253-afc4-e65e254c2df2"
      },
      "source": [
        "* An English physician\n",
        "* Against miasma theory\n",
        "* Collected data on where people were dying in London\n",
        "* Believed water to be the source of the disease, not smell."
      ]
    },
    {
      "cell_type": "markdown",
      "id": "4a7c1789-9f0c-493c-9578-77f32009a45c",
      "metadata": {
        "tags": [],
        "id": "4a7c1789-9f0c-493c-9578-77f32009a45c"
      },
      "source": [
        "---"
      ]
    },
    {
      "cell_type": "markdown",
      "id": "e2cbf498-46aa-422b-b704-a0ad2fae24ff",
      "metadata": {
        "editable": true,
        "tags": [],
        "id": "e2cbf498-46aa-422b-b704-a0ad2fae24ff"
      },
      "source": [
        "### Cholera Map"
      ]
    },
    {
      "cell_type": "markdown",
      "id": "804630f7-6f16-4032-9f62-e0efed6e921e",
      "metadata": {
        "editable": true,
        "tags": [],
        "id": "804630f7-6f16-4032-9f62-e0efed6e921e"
      },
      "source": [
        "<a href=\"https://www.nationalgeographic.org/activity/mapping-london-epidemic\" title=\"National Geographic - Mapping A London Epidemic\"><img src=\"./cholera_map.jpeg\" alt=\"John Snow's map showing a neighborhood's streets and buildings with tallies of deaths on the buildings.\" width = 40%></a>"
      ]
    },
    {
      "cell_type": "markdown",
      "id": "e6eafd24-862c-468e-a4cd-d644936f9961",
      "metadata": {
        "editable": true,
        "tags": [],
        "id": "e6eafd24-862c-468e-a4cd-d644936f9961"
      },
      "source": [
        "According to the National Geographic Society,\n",
        "\n",
        "> \"This map of London was created by John Snow in 1854. London was experiencing a deadly cholera epidemic, when Snow tracked the cases on this map. The cholera cases are highlighted in black. Using this map, Snow and other scientists were able to trace the cholera outbreak to a single infected water pump.\""
      ]
    },
    {
      "cell_type": "markdown",
      "id": "29efe019-a6cc-4144-ad44-b4c83b719b6f",
      "metadata": {
        "tags": [],
        "id": "29efe019-a6cc-4144-ad44-b4c83b719b6f"
      },
      "source": [
        "---"
      ]
    },
    {
      "cell_type": "markdown",
      "id": "8af1c537-2038-4418-888a-0def03ec379f",
      "metadata": {
        "editable": true,
        "tags": [],
        "id": "8af1c537-2038-4418-888a-0def03ec379f"
      },
      "source": [
        "### London Water Supply Service Regions"
      ]
    },
    {
      "cell_type": "markdown",
      "id": "206b0483-8e38-4df7-b829-bc142f9db096",
      "metadata": {
        "editable": true,
        "tags": [],
        "id": "206b0483-8e38-4df7-b829-bc142f9db096"
      },
      "source": [
        "<a href = \"https://sciencephotogallery.com/featured/john-snows-map-of-the-water-supply-in-london-wellcome-imagesscience-photo-library.html\" title=\"John Snow's Map Of The Water Supply In London\"><img src=\"./johnsnow_water_companies.jpeg\" alt=\"John Snow's Map Of The Water Supply In London\" width = 35%></a>"
      ]
    },
    {
      "cell_type": "markdown",
      "id": "7e53784f-d30a-4f59-87f5-125a089671f9",
      "metadata": {
        "editable": true,
        "tags": [],
        "id": "7e53784f-d30a-4f59-87f5-125a089671f9"
      },
      "source": [
        "In the image:\n",
        "* Blue area - Southwark and Vauxhall (S&V) Company (sourced after passing through London)\n",
        "* Red area - Lambeth Company (sourced before entering London)\n",
        "* Purple area - Both Companies are intermingled"
      ]
    },
    {
      "cell_type": "markdown",
      "id": "c4c95c24-ebc6-4259-8c51-53be2db398c8",
      "metadata": {
        "tags": [],
        "id": "c4c95c24-ebc6-4259-8c51-53be2db398c8"
      },
      "source": [
        "---"
      ]
    },
    {
      "cell_type": "markdown",
      "id": "0f9dd38e-5eb2-4abb-bd91-5b1d9d1d0358",
      "metadata": {
        "editable": true,
        "tags": [],
        "id": "0f9dd38e-5eb2-4abb-bd91-5b1d9d1d0358"
      },
      "source": [
        "## Forming an Argument"
      ]
    },
    {
      "cell_type": "markdown",
      "id": "8266436f-ccfd-4a4b-b2e5-c08f21f1c43a",
      "metadata": {
        "tags": [],
        "id": "8266436f-ccfd-4a4b-b2e5-c08f21f1c43a"
      },
      "source": [
        "---"
      ]
    },
    {
      "cell_type": "markdown",
      "id": "60ebc1f5-fd12-4a45-b235-e65764872f44",
      "metadata": {
        "editable": true,
        "tags": [],
        "id": "60ebc1f5-fd12-4a45-b235-e65764872f44"
      },
      "source": [
        "### John Snow's Data"
      ]
    },
    {
      "cell_type": "code",
      "execution_count": null,
      "id": "1b150ad6-e562-4df8-99ec-fe83424ea7d4",
      "metadata": {
        "editable": true,
        "tags": [],
        "id": "1b150ad6-e562-4df8-99ec-fe83424ea7d4"
      },
      "outputs": [],
      "source": [
        "from datascience import *\n",
        "import numpy as np"
      ]
    },
    {
      "cell_type": "code",
      "execution_count": null,
      "id": "3b3486dc-7996-4f12-b6fa-12d4c44e4012",
      "metadata": {
        "editable": true,
        "tags": [],
        "id": "3b3486dc-7996-4f12-b6fa-12d4c44e4012",
        "outputId": "b41f02a0-fa72-4004-9d69-903b32ea9834"
      },
      "outputs": [
        {
          "data": {
            "text/html": [
              "<table border=\"1\" class=\"dataframe\">\n",
              "    <thead>\n",
              "        <tr>\n",
              "            <th>Supply Area</th> <th>Number of Houses</th> <th>Cholera Deaths</th>\n",
              "        </tr>\n",
              "    </thead>\n",
              "    <tbody>\n",
              "        <tr>\n",
              "            <td>S&V           </td> <td>40046           </td> <td>1263          </td>\n",
              "        </tr>\n",
              "        <tr>\n",
              "            <td>Lambeth       </td> <td>26107           </td> <td>98            </td>\n",
              "        </tr>\n",
              "        <tr>\n",
              "            <td>Rest of London</td> <td>256423          </td> <td>1422          </td>\n",
              "        </tr>\n",
              "    </tbody>\n",
              "</table>"
            ],
            "text/plain": [
              "Supply Area    | Number of Houses | Cholera Deaths\n",
              "S&V            | 40046            | 1263\n",
              "Lambeth        | 26107            | 98\n",
              "Rest of London | 256423           | 1422"
            ]
          },
          "execution_count": 2,
          "metadata": {},
          "output_type": "execute_result"
        }
      ],
      "source": [
        "snows_table = Table(['Supply Area', 'Number of Houses', 'Cholera Deaths']).with_rows([\n",
        "    ['S&V', 40046, 1263],\n",
        "    ['Lambeth', 26107, 98],\n",
        "    ['Rest of London', 256423, 1422]\n",
        "])\n",
        "snows_table"
      ]
    },
    {
      "cell_type": "markdown",
      "id": "be44b0e3-e152-4e7a-aac6-f5bedb3ee80a",
      "metadata": {
        "editable": true,
        "tags": [],
        "id": "be44b0e3-e152-4e7a-aac6-f5bedb3ee80a"
      },
      "source": [
        "---"
      ]
    },
    {
      "cell_type": "markdown",
      "id": "4da2c5be-1008-4af0-a80a-07bed3fac0cd",
      "metadata": {
        "editable": true,
        "tags": [],
        "id": "4da2c5be-1008-4af0-a80a-07bed3fac0cd"
      },
      "source": [
        "### Relative Frequency"
      ]
    },
    {
      "cell_type": "markdown",
      "id": "637977ab-edc8-4df3-b9b7-3415e325ab1d",
      "metadata": {
        "editable": true,
        "tags": [],
        "id": "637977ab-edc8-4df3-b9b7-3415e325ab1d"
      },
      "source": [
        "* Comparing counts (frequencies) from groups of different sizes can be misleading\n",
        "* Relative frequencies are expressed as the counts of each group divided by the total number of values within each group"
      ]
    },
    {
      "cell_type": "markdown",
      "id": "43a30c7c-24fd-414a-9a6a-9abc3213ac17",
      "metadata": {
        "id": "43a30c7c-24fd-414a-9a6a-9abc3213ac17"
      },
      "source": [
        "---"
      ]
    },
    {
      "cell_type": "markdown",
      "id": "d37e4fca-a19d-4924-a848-3363ae94c7ce",
      "metadata": {
        "id": "d37e4fca-a19d-4924-a848-3363ae94c7ce"
      },
      "source": [
        "### Demo: Calculating Relative Frequency"
      ]
    },
    {
      "cell_type": "markdown",
      "id": "b74345f4-071a-4547-9f26-a12f25a30bbd",
      "metadata": {
        "id": "b74345f4-071a-4547-9f26-a12f25a30bbd"
      },
      "source": [
        "To compare the deaths totals in various supply areas, calculate the relative frequency of deaths per household (`Deaths per House`)."
      ]
    },
    {
      "cell_type": "code",
      "execution_count": null,
      "id": "388d572a-0d8d-49a4-8914-08ab80d9d3c5",
      "metadata": {
        "editable": true,
        "tags": [],
        "id": "388d572a-0d8d-49a4-8914-08ab80d9d3c5",
        "outputId": "55502082-264a-45af-a137-bc1473eae1b5"
      },
      "outputs": [
        {
          "data": {
            "text/html": [
              "<table border=\"1\" class=\"dataframe\">\n",
              "    <thead>\n",
              "        <tr>\n",
              "            <th>Supply Area</th> <th>Number of Houses</th> <th>Cholera Deaths</th> <th>Deaths per House</th>\n",
              "        </tr>\n",
              "    </thead>\n",
              "    <tbody>\n",
              "        <tr>\n",
              "            <td>S&V           </td> <td>40046           </td> <td>1263          </td> <td>0.0315387       </td>\n",
              "        </tr>\n",
              "        <tr>\n",
              "            <td>Lambeth       </td> <td>26107           </td> <td>98            </td> <td>0.00375378      </td>\n",
              "        </tr>\n",
              "        <tr>\n",
              "            <td>Rest of London</td> <td>256423          </td> <td>1422          </td> <td>0.00554552      </td>\n",
              "        </tr>\n",
              "    </tbody>\n",
              "</table>"
            ],
            "text/plain": [
              "Supply Area    | Number of Houses | Cholera Deaths | Deaths per House\n",
              "S&V            | 40046            | 1263           | 0.0315387\n",
              "Lambeth        | 26107            | 98             | 0.00375378\n",
              "Rest of London | 256423           | 1422           | 0.00554552"
            ]
          },
          "execution_count": 5,
          "metadata": {},
          "output_type": "execute_result"
        }
      ],
      "source": [
        "number_of_deaths = snows_table.column('Cholera Deaths')\n",
        "number_of_houses = snows_table.column('Number of Houses')\n",
        "death_per_house = number_of_deaths/number_of_houses #...\n",
        "snows_table.with_column('Deaths per House',  death_per_house)"
      ]
    },
    {
      "cell_type": "markdown",
      "id": "efdf358a-c4de-44a2-ab9e-4a775f8e78ac",
      "metadata": {
        "editable": true,
        "tags": [],
        "id": "efdf358a-c4de-44a2-ab9e-4a775f8e78ac"
      },
      "source": [
        "---"
      ]
    },
    {
      "cell_type": "markdown",
      "id": "493cc85f-5dbc-4fae-bd0b-af48465f81ff",
      "metadata": {
        "id": "493cc85f-5dbc-4fae-bd0b-af48465f81ff"
      },
      "source": [
        "### Scale for Readability"
      ]
    },
    {
      "cell_type": "markdown",
      "id": "8efe2846-477c-4869-800f-5c353385b70c",
      "metadata": {
        "editable": true,
        "tags": [],
        "id": "8efe2846-477c-4869-800f-5c353385b70c"
      },
      "source": [
        "* It is easy to get lost in comparing fractional values like 0.0315387 and 0.00375378.\n",
        "* Scaling rates by multiplying the values by some scale factor is a common presentation technique.\n",
        "* The clarity may come with exaggerated interpretations!"
      ]
    },
    {
      "cell_type": "markdown",
      "id": "da44afea-eb9f-4c7e-a21e-7a83863409e9",
      "metadata": {
        "editable": true,
        "tags": [],
        "id": "da44afea-eb9f-4c7e-a21e-7a83863409e9"
      },
      "source": [
        "<a title=\"CDC - Rates of COVID-19-Associated Hospitalization (Updated Jan 24, 2024)\" href=\"https://gis.cdc.gov/grasp/covidnet/covid19_3.html\"><img src=\"./CDC-COVID-hospitalization-rates.png\" alt=\"A chart showing\" width = 50%></a>"
      ]
    },
    {
      "cell_type": "markdown",
      "id": "0422528b-404f-423c-a632-585c1532f937",
      "metadata": {
        "id": "0422528b-404f-423c-a632-585c1532f937"
      },
      "source": [
        "---"
      ]
    },
    {
      "cell_type": "markdown",
      "id": "3167ede6-0434-4056-ae44-0a3fdca1976b",
      "metadata": {
        "id": "3167ede6-0434-4056-ae44-0a3fdca1976b"
      },
      "source": [
        "### Demo: Adjusting Snow's Table"
      ]
    },
    {
      "cell_type": "markdown",
      "id": "9196d69b-37ac-49f9-99ac-6cbc180b1662",
      "metadata": {
        "deletable": false,
        "editable": false,
        "tags": [],
        "id": "9196d69b-37ac-49f9-99ac-6cbc180b1662"
      },
      "source": [
        "Scale and round the relative frequencies to show whole numbers."
      ]
    },
    {
      "cell_type": "code",
      "execution_count": null,
      "id": "02753076-c09b-4961-932c-ca1c7210e918",
      "metadata": {
        "editable": true,
        "tags": [],
        "id": "02753076-c09b-4961-932c-ca1c7210e918",
        "outputId": "fddc7564-f4bf-414e-e4db-e24bcc641ce7"
      },
      "outputs": [
        {
          "data": {
            "text/html": [
              "<table border=\"1\" class=\"dataframe\">\n",
              "    <thead>\n",
              "        <tr>\n",
              "            <th>Supply Area</th> <th>Number of Houses</th> <th>Cholera Deaths</th> <th>Deaths per 10,000 Houses</th>\n",
              "        </tr>\n",
              "    </thead>\n",
              "    <tbody>\n",
              "        <tr>\n",
              "            <td>S&V           </td> <td>40046           </td> <td>1263          </td> <td>315                     </td>\n",
              "        </tr>\n",
              "        <tr>\n",
              "            <td>Lambeth       </td> <td>26107           </td> <td>98            </td> <td>38                      </td>\n",
              "        </tr>\n",
              "        <tr>\n",
              "            <td>Rest of London</td> <td>256423          </td> <td>1422          </td> <td>55                      </td>\n",
              "        </tr>\n",
              "    </tbody>\n",
              "</table>"
            ],
            "text/plain": [
              "Supply Area    | Number of Houses | Cholera Deaths | Deaths per 10,000 Houses\n",
              "S&V            | 40046            | 1263           | 315\n",
              "Lambeth        | 26107            | 98             | 38\n",
              "Rest of London | 256423           | 1422           | 55"
            ]
          },
          "execution_count": 7,
          "metadata": {},
          "output_type": "execute_result"
        }
      ],
      "source": [
        "scale_factor = 10000 #...\n",
        "deaths_per_10000_houses = death_per_house * scale_factor\n",
        "snows_table.with_column('Deaths per 10,000 Houses',\n",
        "                        np.round(deaths_per_10000_houses))"
      ]
    },
    {
      "cell_type": "markdown",
      "id": "e8372b31-2524-4cc8-9303-47b50963bbba",
      "metadata": {
        "tags": [],
        "id": "e8372b31-2524-4cc8-9303-47b50963bbba"
      },
      "source": [
        "---"
      ]
    },
    {
      "cell_type": "markdown",
      "id": "d17d492c-d2dc-40b7-9ce3-8bef333ecd07",
      "metadata": {
        "editable": true,
        "tags": [],
        "id": "d17d492c-d2dc-40b7-9ce3-8bef333ecd07"
      },
      "source": [
        "## Confounding Variables"
      ]
    },
    {
      "cell_type": "markdown",
      "id": "5469654d-dd2d-4bda-ba5e-7dd211dad8bd",
      "metadata": {
        "tags": [],
        "id": "5469654d-dd2d-4bda-ba5e-7dd211dad8bd"
      },
      "source": [
        "---"
      ]
    },
    {
      "cell_type": "markdown",
      "id": "8a537571-5554-45f1-b11f-90db1d002d6e",
      "metadata": {
        "editable": true,
        "tags": [],
        "id": "8a537571-5554-45f1-b11f-90db1d002d6e"
      },
      "source": [
        "### Confounding Factors Weaken a Causal Argument"
      ]
    },
    {
      "cell_type": "markdown",
      "id": "fc6bba36-fb93-4519-bf1c-eb38e165db59",
      "metadata": {
        "editable": true,
        "tags": [],
        "id": "fc6bba36-fb93-4519-bf1c-eb38e165db59"
      },
      "source": [
        "<img src=\"./cheese_sheets_association.svg\" width = 70%>"
      ]
    },
    {
      "cell_type": "markdown",
      "id": "ab420069-2e0d-4790-8695-d5757c77fc5a",
      "metadata": {
        "editable": true,
        "tags": [],
        "id": "ab420069-2e0d-4790-8695-d5757c77fc5a"
      },
      "source": [
        "* If the treatment and control groups have systematic differences other than the treatment, then it might be difficult to identify causality.\n",
        "* Such differences are often present in observational studies.\n",
        "* When they lead researchers astray, they are called confounding factors."
      ]
    },
    {
      "cell_type": "markdown",
      "id": "0677b8cc-0389-4f7c-b327-d9d929b6ed2d",
      "metadata": {
        "tags": [],
        "id": "0677b8cc-0389-4f7c-b327-d9d929b6ed2d"
      },
      "source": [
        "---"
      ]
    },
    {
      "cell_type": "markdown",
      "id": "64796bb1-6683-4f40-927f-66c04c4a86f2",
      "metadata": {
        "editable": true,
        "tags": [],
        "id": "64796bb1-6683-4f40-927f-66c04c4a86f2"
      },
      "source": [
        "### Attempting to Establish Causation"
      ]
    },
    {
      "cell_type": "markdown",
      "id": "091d9432-7777-4545-8dc3-b8f74268fe6d",
      "metadata": {
        "editable": true,
        "tags": [],
        "id": "091d9432-7777-4545-8dc3-b8f74268fe6d"
      },
      "source": [
        "* Snow's data suggests they were more likely to die if they drank water sourced from S&V.\n",
        "    * Skeptics might criticize things like age, socioeconomic status, etc.\n",
        "* The individuals in the (purple) region were similar in most demographics aside from their water source.\n",
        "* There was a somewhat haphazard way that people were assigned to the two treatments (water supplies).\n",
        "* He felt this \"natural experiment\" (an observational study) ruled out enough of the confounding factors and broke off the water pump handle at Broad Street (S&V-sourced)."
      ]
    },
    {
      "cell_type": "markdown",
      "id": "f0475fec-7c67-467f-9c86-c26aebf39f6f",
      "metadata": {
        "tags": [],
        "id": "f0475fec-7c67-467f-9c86-c26aebf39f6f"
      },
      "source": [
        "---"
      ]
    },
    {
      "cell_type": "markdown",
      "id": "60919082-a8eb-4f59-bc71-467c719bc634",
      "metadata": {
        "editable": true,
        "tags": [],
        "id": "60919082-a8eb-4f59-bc71-467c719bc634"
      },
      "source": [
        "## Randomized Controlled Experiments"
      ]
    },
    {
      "cell_type": "markdown",
      "id": "3decc6df-efc3-4c3a-bd4a-e473dd6b1dd7",
      "metadata": {
        "tags": [],
        "id": "3decc6df-efc3-4c3a-bd4a-e473dd6b1dd7"
      },
      "source": [
        "---"
      ]
    },
    {
      "cell_type": "markdown",
      "id": "71b91f14-24f4-4caa-9650-2ff48bf0171f",
      "metadata": {
        "editable": true,
        "tags": [],
        "id": "71b91f14-24f4-4caa-9650-2ff48bf0171f"
      },
      "source": [
        "### Randomized Controlled Experiment"
      ]
    },
    {
      "cell_type": "markdown",
      "id": "053ee42e-250a-42a4-8033-0dd769122703",
      "metadata": {
        "editable": true,
        "tags": [],
        "id": "053ee42e-250a-42a4-8033-0dd769122703"
      },
      "source": [
        "Randomized controlled experiments are typically the standard study design for establishing causation.\n",
        "\n",
        "* Randomization: Randomly assigning individuals to a specific treatment\n",
        "    * You can (mathematically) account for variability in the assignment.\n",
        "    * Regardless of what the dictionary says, in probability theory\n",
        "        * Random ≠ Haphazard\n",
        "        * Random refers to the concept of unpredictability\n",
        "* Controlled: At least one treatment is a control.\n",
        "\n",
        "If you assign individuals to treatment and control at random, then the two groups are likely to be similar apart from the treatment."
      ]
    },
    {
      "cell_type": "markdown",
      "id": "ab56fd42-a20e-4200-970a-25eba1de73f9",
      "metadata": {
        "tags": [],
        "id": "ab56fd42-a20e-4200-970a-25eba1de73f9"
      },
      "source": [
        "---"
      ]
    },
    {
      "cell_type": "markdown",
      "id": "4131cc8d-2838-49e9-b858-62978df1ea25",
      "metadata": {
        "editable": true,
        "tags": [],
        "id": "4131cc8d-2838-49e9-b858-62978df1ea25"
      },
      "source": [
        "### A Randomized Controlled Experiment"
      ]
    },
    {
      "cell_type": "markdown",
      "id": "d43b6756-7e77-487b-a4d8-dff63cfd8a6b",
      "metadata": {
        "editable": true,
        "tags": [],
        "id": "d43b6756-7e77-487b-a4d8-dff63cfd8a6b"
      },
      "source": [
        "[An experimental study on the effect of an experimental drug on treating Leukemia](https://ashpublications.org/blood/article/130/Supplement%201/2647/80090/Multivariate-Efficacy-Analysis-of-a-Randomized):\n",
        "* An example of a modern randomized controlled experiment\n",
        "* Treatment: 1 to 2 cycles of induction therapy with CPX-351 - an experimental drug\n",
        "* Control: Conventional 7+3 - a standard of care chemotherapy\n",
        "* Randomization: After patients were divided into smaller groups based on their ages, they were randomly assigned to the treatment or control."
      ]
    },
    {
      "cell_type": "markdown",
      "id": "224301ac-7fd9-48a9-911f-cac0d50ea9da",
      "metadata": {
        "editable": true,
        "tags": [],
        "id": "224301ac-7fd9-48a9-911f-cac0d50ea9da"
      },
      "source": [
        "---"
      ]
    },
    {
      "cell_type": "markdown",
      "id": "9b7f8a06-a010-4b29-9e5b-32e23254315d",
      "metadata": {
        "editable": true,
        "tags": [],
        "id": "9b7f8a06-a010-4b29-9e5b-32e23254315d"
      },
      "source": [
        "### Ethical Concerns"
      ]
    },
    {
      "cell_type": "markdown",
      "id": "0da262af-c980-4bcc-8847-5d70b57673ba",
      "metadata": {
        "editable": true,
        "tags": [],
        "id": "0da262af-c980-4bcc-8847-5d70b57673ba"
      },
      "source": [
        "Sometimes randomized controlled experiments are considered unethical\n",
        "*  Assigning a patient something other than a known effective treatment.\n",
        "*  The participants might be from populations that are not able to fully consent to treatment.\n",
        "*  The treatments might be risky. (Correct dosages might not be fully understood.)\n",
        "*  etc."
      ]
    },
    {
      "cell_type": "markdown",
      "id": "ee92f649-162a-4220-92a2-e7305b089ad3",
      "metadata": {
        "id": "ee92f649-162a-4220-92a2-e7305b089ad3"
      },
      "source": [
        "Identifying and responding to ethical concerns is and should be a common part of a researchers work."
      ]
    },
    {
      "cell_type": "markdown",
      "id": "ca0136eb-4f09-42dc-8ef2-0fe92e6778e6",
      "metadata": {
        "tags": [],
        "id": "ca0136eb-4f09-42dc-8ef2-0fe92e6778e6"
      },
      "source": [
        "---"
      ]
    },
    {
      "cell_type": "markdown",
      "id": "c7cf2308-e16a-4b59-b577-7b8573b7ec74",
      "metadata": {
        "editable": true,
        "tags": [],
        "id": "c7cf2308-e16a-4b59-b577-7b8573b7ec74"
      },
      "source": [
        "### Reflecting on John Snow's Natural Experiment"
      ]
    },
    {
      "cell_type": "markdown",
      "id": "bf437705-da99-4854-930e-e904dd58e6ff",
      "metadata": {
        "editable": true,
        "tags": [],
        "id": "bf437705-da99-4854-930e-e904dd58e6ff"
      },
      "source": [
        "John Snow's story has some issues:\n",
        " * Falsely relies on the idea that water was distributed randomly to a certain area of London\n",
        " * The area studied was very dense, so it is not possible to rule out all systemic factors\n",
        " * Removing the pump handle prematurely should raise ethical concerns\n",
        " * Ultimately, the way our body responds to the cholera bacteria, not the pump"
      ]
    },
    {
      "cell_type": "markdown",
      "id": "84005d04-706d-4012-96d4-7b188b6f5a30",
      "metadata": {
        "tags": [],
        "id": "84005d04-706d-4012-96d4-7b188b6f5a30"
      },
      "source": [
        "---"
      ]
    },
    {
      "cell_type": "markdown",
      "id": "2bf3609d-1677-4350-9ad7-a07d0f06335d",
      "metadata": {
        "editable": true,
        "tags": [],
        "id": "2bf3609d-1677-4350-9ad7-a07d0f06335d"
      },
      "source": [
        "## Attribution"
      ]
    },
    {
      "cell_type": "markdown",
      "id": "3d0d49cb-6a56-4cc2-859c-b455dffbb9ec",
      "metadata": {
        "id": "3d0d49cb-6a56-4cc2-859c-b455dffbb9ec"
      },
      "source": [
        "This content is licensed under the <a href=\"https://creativecommons.org/licenses/by-nc-sa/4.0/\">Creative Commons Attribution-NonCommercial-ShareAlike 4.0 International License (CC BY-NC-SA 4.0)</a> and derived from the <a href=\"https://www.data8.org/\">Data 8: The Foundations of Data Science</a> offered by the University of California, Berkeley.\n",
        "\n",
        "<img src=\"./by-nc-sa.png\" width=100px>"
      ]
    }
  ],
  "metadata": {
    "kernelspec": {
      "display_name": "Python 3 (ipykernel)",
      "language": "python",
      "name": "python3"
    },
    "language_info": {
      "codemirror_mode": {
        "name": "ipython",
        "version": 3
      },
      "file_extension": ".py",
      "mimetype": "text/x-python",
      "name": "python",
      "nbconvert_exporter": "python",
      "pygments_lexer": "ipython3",
      "version": "3.11.9"
    },
    "otter": {
      "OK_FORMAT": true,
      "tests": {}
    },
    "colab": {
      "provenance": [],
      "include_colab_link": true
    }
  },
  "nbformat": 4,
  "nbformat_minor": 5
}